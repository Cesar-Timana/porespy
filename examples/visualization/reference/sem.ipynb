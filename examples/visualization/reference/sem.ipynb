{
 "cells": [
  {
   "cell_type": "markdown",
   "id": "e0525066",
   "metadata": {},
   "source": [
    "# `sem`\n",
    "Visualize a 3D image in 2D by simulating an SEM image with infinite depth-of-field and brightness inversely corresponding to distance from top surface"
   ]
  },
  {
   "cell_type": "code",
   "execution_count": 1,
   "id": "0e62c5ae",
   "metadata": {
    "execution": {
     "iopub.execute_input": "2022-08-12T22:16:45.672359Z",
     "iopub.status.busy": "2022-08-12T22:16:45.669605Z",
     "iopub.status.idle": "2022-08-12T22:16:48.225694Z",
     "shell.execute_reply": "2022-08-12T22:16:48.224609Z"
    }
   },
   "outputs": [],
   "source": [
    "import porespy as ps\n",
    "import matplotlib.pyplot as plt\n",
    "ps.visualization.set_mpl_style()"
   ]
  },
  {
   "cell_type": "markdown",
   "id": "47a01900",
   "metadata": {},
   "source": [
    "Create a test image of fibers since the orientation is useful for visualization:"
   ]
  },
  {
   "cell_type": "code",
   "execution_count": 2,
   "id": "d858218f",
   "metadata": {
    "execution": {
     "iopub.execute_input": "2022-08-12T22:16:48.232613Z",
     "iopub.status.busy": "2022-08-12T22:16:48.230942Z",
     "iopub.status.idle": "2022-08-12T22:16:51.334350Z",
     "shell.execute_reply": "2022-08-12T22:16:51.333314Z"
    }
   },
   "outputs": [
    {
     "data": {
      "application/vnd.jupyter.widget-view+json": {
       "model_id": "c2d609daa6684d6589465bf815a5e9a4",
       "version_major": 2,
       "version_minor": 0
      },
      "text/plain": [
       "  0%|          | 0/3 [00:00<?, ?it/s]"
      ]
     },
     "metadata": {},
     "output_type": "display_data"
    },
    {
     "data": {
      "image/svg+xml": [
       "<?xml version=\"1.0\" encoding=\"utf-8\" standalone=\"no\"?>\n",
       "<!DOCTYPE svg PUBLIC \"-//W3C//DTD SVG 1.1//EN\"\n",
       "  \"http://www.w3.org/Graphics/SVG/1.1/DTD/svg11.dtd\">\n",
       "<svg xmlns:xlink=\"http://www.w3.org/1999/xlink\" width=\"856.8pt\" height=\"288pt\" viewBox=\"0 0 856.8 288\" xmlns=\"http://www.w3.org/2000/svg\" version=\"1.1\">\n",
       " <metadata>\n",
       "  <rdf:RDF xmlns:dc=\"http://purl.org/dc/elements/1.1/\" xmlns:cc=\"http://creativecommons.org/ns#\" xmlns:rdf=\"http://www.w3.org/1999/02/22-rdf-syntax-ns#\">\n",
       "   <cc:Work>\n",
       "    <dc:type rdf:resource=\"http://purl.org/dc/dcmitype/StillImage\"/>\n",
       "    <dc:date>2022-08-12T22:16:51.284699</dc:date>\n",
       "    <dc:format>image/svg+xml</dc:format>\n",
       "    <dc:creator>\n",
       "     <cc:Agent>\n",
       "      <dc:title>Matplotlib v3.5.3, https://matplotlib.org/</dc:title>\n",
       "     </cc:Agent>\n",
       "    </dc:creator>\n",
       "   </cc:Work>\n",
       "  </rdf:RDF>\n",
       " </metadata>\n",
       " <defs>\n",
       "  <style type=\"text/css\">*{stroke-linejoin: round; stroke-linecap: butt}</style>\n",
       " </defs>\n",
       " <g id=\"figure_1\">\n",
       "  <g id=\"patch_1\">\n",
       "   <path d=\"M 0 288 \n",
       "L 856.8 288 \n",
       "L 856.8 0 \n",
       "L 0 0 \n",
       "L 0 288 \n",
       "z\n",
       "\" style=\"fill: none\"/>\n",
       "  </g>\n",
       "  <g id=\"axes_1\">\n",
       "   <g clip-path=\"url(#p707481c55b)\">\n",
       "    <image xlink:href=\"data:image/png;base64,\n",
       "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\" id=\"imagec9258db25f\" transform=\"matrix(1.37 0 0 1.37 7.2 6.8)\" style=\"image-rendering:crisp-edges;image-rendering:pixelated\" width=\"200\" height=\"200\"/>\n",
       "   </g>\n",
       "  </g>\n",
       "  <g id=\"axes_2\">\n",
       "   <g clip-path=\"url(#p42fef9373a)\">\n",
       "    <image xlink:href=\"data:image/png;base64,\n",
       "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\" id=\"imagef70f8b551c\" transform=\"matrix(1.37 0 0 1.37 291.6 6.8)\" style=\"image-rendering:crisp-edges;image-rendering:pixelated\" width=\"200\" height=\"200\"/>\n",
       "   </g>\n",
       "  </g>\n",
       "  <g id=\"axes_3\">\n",
       "   <g clip-path=\"url(#pc60852c495)\">\n",
       "    <image xlink:href=\"data:image/png;base64,\n",
       "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\" id=\"image93d6fc7006\" transform=\"matrix(1.37 0 0 1.37 576 6.8)\" style=\"image-rendering:crisp-edges;image-rendering:pixelated\" width=\"200\" height=\"200\"/>\n",
       "   </g>\n",
       "  </g>\n",
       " </g>\n",
       " <defs>\n",
       "  <clipPath id=\"p707481c55b\">\n",
       "   <rect x=\"7.2\" y=\"7.2\" width=\"273.6\" height=\"273.6\"/>\n",
       "  </clipPath>\n",
       "  <clipPath id=\"p42fef9373a\">\n",
       "   <rect x=\"291.6\" y=\"7.2\" width=\"273.6\" height=\"273.6\"/>\n",
       "  </clipPath>\n",
       "  <clipPath id=\"pc60852c495\">\n",
       "   <rect x=\"576\" y=\"7.2\" width=\"273.6\" height=\"273.6\"/>\n",
       "  </clipPath>\n",
       " </defs>\n",
       "</svg>\n"
      ],
      "text/plain": [
       "<Figure size 864x576 with 3 Axes>"
      ]
     },
     "metadata": {
      "needs_background": "light"
     },
     "output_type": "display_data"
    }
   ],
   "source": [
    "im = ps.generators.cylinders(shape=[200, 200, 200], r=6, porosity=0.7)\n",
    "fig, ax = plt.subplots(1, 3, figsize=[12, 8])\n",
    "ax[0].imshow(im[50, :, :])\n",
    "ax[0].axis(False)\n",
    "ax[1].imshow(im[:, 50, :])\n",
    "ax[1].axis(False)\n",
    "ax[2].imshow(im[:, :, 50])\n",
    "ax[2].axis(False);"
   ]
  },
  {
   "cell_type": "markdown",
   "id": "a07019b9",
   "metadata": {},
   "source": [
    "## `axis`\n",
    "By default the image will be viewed along the x-axis, but this can be specified:"
   ]
  },
  {
   "cell_type": "code",
   "execution_count": 3,
   "id": "b476554f",
   "metadata": {
    "execution": {
     "iopub.execute_input": "2022-08-12T22:16:51.338212Z",
     "iopub.status.busy": "2022-08-12T22:16:51.337841Z",
     "iopub.status.idle": "2022-08-12T22:16:51.835449Z",
     "shell.execute_reply": "2022-08-12T22:16:51.834611Z"
    }
   },
   "outputs": [
    {
     "data": {
      "image/svg+xml": [
       "<?xml version=\"1.0\" encoding=\"utf-8\" standalone=\"no\"?>\n",
       "<!DOCTYPE svg PUBLIC \"-//W3C//DTD SVG 1.1//EN\"\n",
       "  \"http://www.w3.org/Graphics/SVG/1.1/DTD/svg11.dtd\">\n",
       "<svg xmlns:xlink=\"http://www.w3.org/1999/xlink\" width=\"856.8pt\" height=\"288pt\" viewBox=\"0 0 856.8 288\" xmlns=\"http://www.w3.org/2000/svg\" version=\"1.1\">\n",
       " <metadata>\n",
       "  <rdf:RDF xmlns:dc=\"http://purl.org/dc/elements/1.1/\" xmlns:cc=\"http://creativecommons.org/ns#\" xmlns:rdf=\"http://www.w3.org/1999/02/22-rdf-syntax-ns#\">\n",
       "   <cc:Work>\n",
       "    <dc:type rdf:resource=\"http://purl.org/dc/dcmitype/StillImage\"/>\n",
       "    <dc:date>2022-08-12T22:16:51.726824</dc:date>\n",
       "    <dc:format>image/svg+xml</dc:format>\n",
       "    <dc:creator>\n",
       "     <cc:Agent>\n",
       "      <dc:title>Matplotlib v3.5.3, https://matplotlib.org/</dc:title>\n",
       "     </cc:Agent>\n",
       "    </dc:creator>\n",
       "   </cc:Work>\n",
       "  </rdf:RDF>\n",
       " </metadata>\n",
       " <defs>\n",
       "  <style type=\"text/css\">*{stroke-linejoin: round; stroke-linecap: butt}</style>\n",
       " </defs>\n",
       " <g id=\"figure_1\">\n",
       "  <g id=\"patch_1\">\n",
       "   <path d=\"M 0 288 \n",
       "L 856.8 288 \n",
       "L 856.8 0 \n",
       "L 0 0 \n",
       "L 0 288 \n",
       "z\n",
       "\" style=\"fill: none\"/>\n",
       "  </g>\n",
       "  <g id=\"axes_1\">\n",
       "   <g clip-path=\"url(#pfbaf3f1643)\">\n",
       "    <image xlink:href=\"data:image/png;base64,\n",
       "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\" id=\"image04fdb9442b\" transform=\"matrix(1.37 0 0 1.37 7.2 6.8)\" style=\"image-rendering:crisp-edges;image-rendering:pixelated\" width=\"200\" height=\"200\"/>\n",
       "   </g>\n",
       "  </g>\n",
       "  <g id=\"axes_2\">\n",
       "   <g clip-path=\"url(#p4d56e0dd6e)\">\n",
       "    <image xlink:href=\"data:image/png;base64,\n",
       "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\" id=\"imagee385a5e27b\" transform=\"matrix(1.37 0 0 1.37 291.6 6.8)\" style=\"image-rendering:crisp-edges;image-rendering:pixelated\" width=\"200\" height=\"200\"/>\n",
       "   </g>\n",
       "  </g>\n",
       "  <g id=\"axes_3\">\n",
       "   <g clip-path=\"url(#p9dc9586480)\">\n",
       "    <image xlink:href=\"data:image/png;base64,\n",
       "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\" id=\"imagea608d5eaf6\" transform=\"matrix(1.37 0 0 1.37 576 6.8)\" style=\"image-rendering:crisp-edges;image-rendering:pixelated\" width=\"200\" height=\"200\"/>\n",
       "   </g>\n",
       "  </g>\n",
       " </g>\n",
       " <defs>\n",
       "  <clipPath id=\"pfbaf3f1643\">\n",
       "   <rect x=\"7.2\" y=\"7.2\" width=\"273.6\" height=\"273.6\"/>\n",
       "  </clipPath>\n",
       "  <clipPath id=\"p4d56e0dd6e\">\n",
       "   <rect x=\"291.6\" y=\"7.2\" width=\"273.6\" height=\"273.6\"/>\n",
       "  </clipPath>\n",
       "  <clipPath id=\"p9dc9586480\">\n",
       "   <rect x=\"576\" y=\"7.2\" width=\"273.6\" height=\"273.6\"/>\n",
       "  </clipPath>\n",
       " </defs>\n",
       "</svg>\n"
      ],
      "text/plain": [
       "<Figure size 864x576 with 3 Axes>"
      ]
     },
     "metadata": {
      "needs_background": "light"
     },
     "output_type": "display_data"
    }
   ],
   "source": [
    "fig, ax = plt.subplots(1, 3, figsize=[12, 8])\n",
    "\n",
    "im1 = ps.visualization.sem(im)\n",
    "ax[0].imshow(im1, cmap=plt.cm.hot_r)\n",
    "ax[0].axis(False)\n",
    "\n",
    "im2 = ps.visualization.sem(im, axis=1)\n",
    "ax[1].imshow(im2, cmap=plt.cm.bone)\n",
    "ax[1].axis(False)\n",
    "\n",
    "im2 = ps.visualization.sem(im, axis=2)\n",
    "ax[2].imshow(im2, cmap=plt.cm.twilight)\n",
    "ax[2].axis(False);"
   ]
  }
 ],
 "metadata": {
  "kernelspec": {
   "display_name": "Python 3 (ipykernel)",
   "language": "python",
   "name": "python3"
  },
  "language_info": {
   "codemirror_mode": {
    "name": "ipython",
    "version": 3
   },
   "file_extension": ".py",
   "mimetype": "text/x-python",
   "name": "python",
   "nbconvert_exporter": "python",
   "pygments_lexer": "ipython3",
   "version": "3.8.13"
  },
  "widgets": {
   "application/vnd.jupyter.widget-state+json": {
    "state": {
     "00c5a0a2d9e7465d8df93b2ea389caec": {
      "model_module": "@jupyter-widgets/base",
      "model_module_version": "1.2.0",
      "model_name": "LayoutModel",
      "state": {
       "_model_module": "@jupyter-widgets/base",
       "_model_module_version": "1.2.0",
       "_model_name": "LayoutModel",
       "_view_count": null,
       "_view_module": "@jupyter-widgets/base",
       "_view_module_version": "1.2.0",
       "_view_name": "LayoutView",
       "align_content": null,
       "align_items": null,
       "align_self": null,
       "border": null,
       "bottom": null,
       "display": null,
       "flex": null,
       "flex_flow": null,
       "grid_area": null,
       "grid_auto_columns": null,
       "grid_auto_flow": null,
       "grid_auto_rows": null,
       "grid_column": null,
       "grid_gap": null,
       "grid_row": null,
       "grid_template_areas": null,
       "grid_template_columns": null,
       "grid_template_rows": null,
       "height": null,
       "justify_content": null,
       "justify_items": null,
       "left": null,
       "margin": null,
       "max_height": null,
       "max_width": null,
       "min_height": null,
       "min_width": null,
       "object_fit": null,
       "object_position": null,
       "order": null,
       "overflow": null,
       "overflow_x": null,
       "overflow_y": null,
       "padding": null,
       "right": null,
       "top": null,
       "visibility": null,
       "width": null
      }
     },
     "066a8604144a4ca38462a597a86eacad": {
      "model_module": "@jupyter-widgets/controls",
      "model_module_version": "1.5.0",
      "model_name": "DescriptionStyleModel",
      "state": {
       "_model_module": "@jupyter-widgets/controls",
       "_model_module_version": "1.5.0",
       "_model_name": "DescriptionStyleModel",
       "_view_count": null,
       "_view_module": "@jupyter-widgets/base",
       "_view_module_version": "1.2.0",
       "_view_name": "StyleView",
       "description_width": ""
      }
     },
     "08abbd557b4d46af906bf8543ba0e44f": {
      "model_module": "@jupyter-widgets/controls",
      "model_module_version": "1.5.0",
      "model_name": "HTMLModel",
      "state": {
       "_dom_classes": [],
       "_model_module": "@jupyter-widgets/controls",
       "_model_module_version": "1.5.0",
       "_model_name": "HTMLModel",
       "_view_count": null,
       "_view_module": "@jupyter-widgets/controls",
       "_view_module_version": "1.5.0",
       "_view_name": "HTMLView",
       "description": "",
       "description_tooltip": null,
       "layout": "IPY_MODEL_8c468a8bbb4245318de40410ad89b53b",
       "placeholder": "​",
       "style": "IPY_MODEL_2c1771b75cbc4bff997e6de8b921cc3c",
       "value": "100%"
      }
     },
     "2c1771b75cbc4bff997e6de8b921cc3c": {
      "model_module": "@jupyter-widgets/controls",
      "model_module_version": "1.5.0",
      "model_name": "DescriptionStyleModel",
      "state": {
       "_model_module": "@jupyter-widgets/controls",
       "_model_module_version": "1.5.0",
       "_model_name": "DescriptionStyleModel",
       "_view_count": null,
       "_view_module": "@jupyter-widgets/base",
       "_view_module_version": "1.2.0",
       "_view_name": "StyleView",
       "description_width": ""
      }
     },
     "8c468a8bbb4245318de40410ad89b53b": {
      "model_module": "@jupyter-widgets/base",
      "model_module_version": "1.2.0",
      "model_name": "LayoutModel",
      "state": {
       "_model_module": "@jupyter-widgets/base",
       "_model_module_version": "1.2.0",
       "_model_name": "LayoutModel",
       "_view_count": null,
       "_view_module": "@jupyter-widgets/base",
       "_view_module_version": "1.2.0",
       "_view_name": "LayoutView",
       "align_content": null,
       "align_items": null,
       "align_self": null,
       "border": null,
       "bottom": null,
       "display": null,
       "flex": null,
       "flex_flow": null,
       "grid_area": null,
       "grid_auto_columns": null,
       "grid_auto_flow": null,
       "grid_auto_rows": null,
       "grid_column": null,
       "grid_gap": null,
       "grid_row": null,
       "grid_template_areas": null,
       "grid_template_columns": null,
       "grid_template_rows": null,
       "height": null,
       "justify_content": null,
       "justify_items": null,
       "left": null,
       "margin": null,
       "max_height": null,
       "max_width": null,
       "min_height": null,
       "min_width": null,
       "object_fit": null,
       "object_position": null,
       "order": null,
       "overflow": null,
       "overflow_x": null,
       "overflow_y": null,
       "padding": null,
       "right": null,
       "top": null,
       "visibility": null,
       "width": null
      }
     },
     "a0f1f2bfa05449dda37b2ef5f06894f0": {
      "model_module": "@jupyter-widgets/controls",
      "model_module_version": "1.5.0",
      "model_name": "ProgressStyleModel",
      "state": {
       "_model_module": "@jupyter-widgets/controls",
       "_model_module_version": "1.5.0",
       "_model_name": "ProgressStyleModel",
       "_view_count": null,
       "_view_module": "@jupyter-widgets/base",
       "_view_module_version": "1.2.0",
       "_view_name": "StyleView",
       "bar_color": null,
       "description_width": ""
      }
     },
     "c2d609daa6684d6589465bf815a5e9a4": {
      "model_module": "@jupyter-widgets/controls",
      "model_module_version": "1.5.0",
      "model_name": "HBoxModel",
      "state": {
       "_dom_classes": [],
       "_model_module": "@jupyter-widgets/controls",
       "_model_module_version": "1.5.0",
       "_model_name": "HBoxModel",
       "_view_count": null,
       "_view_module": "@jupyter-widgets/controls",
       "_view_module_version": "1.5.0",
       "_view_name": "HBoxView",
       "box_style": "",
       "children": [
        "IPY_MODEL_08abbd557b4d46af906bf8543ba0e44f",
        "IPY_MODEL_ef54ccb31d8a4552a93b21e91dd11c8d",
        "IPY_MODEL_d3a7313ef53145f3b4d8a7e82d8a2681"
       ],
       "layout": "IPY_MODEL_f409ca9959e448a3aa78212679325176"
      }
     },
     "c87dac582d1f47008fa1a8c7bc3b3a7a": {
      "model_module": "@jupyter-widgets/base",
      "model_module_version": "1.2.0",
      "model_name": "LayoutModel",
      "state": {
       "_model_module": "@jupyter-widgets/base",
       "_model_module_version": "1.2.0",
       "_model_name": "LayoutModel",
       "_view_count": null,
       "_view_module": "@jupyter-widgets/base",
       "_view_module_version": "1.2.0",
       "_view_name": "LayoutView",
       "align_content": null,
       "align_items": null,
       "align_self": null,
       "border": null,
       "bottom": null,
       "display": null,
       "flex": null,
       "flex_flow": null,
       "grid_area": null,
       "grid_auto_columns": null,
       "grid_auto_flow": null,
       "grid_auto_rows": null,
       "grid_column": null,
       "grid_gap": null,
       "grid_row": null,
       "grid_template_areas": null,
       "grid_template_columns": null,
       "grid_template_rows": null,
       "height": null,
       "justify_content": null,
       "justify_items": null,
       "left": null,
       "margin": null,
       "max_height": null,
       "max_width": null,
       "min_height": null,
       "min_width": null,
       "object_fit": null,
       "object_position": null,
       "order": null,
       "overflow": null,
       "overflow_x": null,
       "overflow_y": null,
       "padding": null,
       "right": null,
       "top": null,
       "visibility": null,
       "width": null
      }
     },
     "d3a7313ef53145f3b4d8a7e82d8a2681": {
      "model_module": "@jupyter-widgets/controls",
      "model_module_version": "1.5.0",
      "model_name": "HTMLModel",
      "state": {
       "_dom_classes": [],
       "_model_module": "@jupyter-widgets/controls",
       "_model_module_version": "1.5.0",
       "_model_name": "HTMLModel",
       "_view_count": null,
       "_view_module": "@jupyter-widgets/controls",
       "_view_module_version": "1.5.0",
       "_view_name": "HTMLView",
       "description": "",
       "description_tooltip": null,
       "layout": "IPY_MODEL_00c5a0a2d9e7465d8df93b2ea389caec",
       "placeholder": "​",
       "style": "IPY_MODEL_066a8604144a4ca38462a597a86eacad",
       "value": " 3/3 [00:02&lt;00:00,  1.10it/s]"
      }
     },
     "ef54ccb31d8a4552a93b21e91dd11c8d": {
      "model_module": "@jupyter-widgets/controls",
      "model_module_version": "1.5.0",
      "model_name": "FloatProgressModel",
      "state": {
       "_dom_classes": [],
       "_model_module": "@jupyter-widgets/controls",
       "_model_module_version": "1.5.0",
       "_model_name": "FloatProgressModel",
       "_view_count": null,
       "_view_module": "@jupyter-widgets/controls",
       "_view_module_version": "1.5.0",
       "_view_name": "ProgressView",
       "bar_style": "",
       "description": "",
       "description_tooltip": null,
       "layout": "IPY_MODEL_c87dac582d1f47008fa1a8c7bc3b3a7a",
       "max": 3.0,
       "min": 0.0,
       "orientation": "horizontal",
       "style": "IPY_MODEL_a0f1f2bfa05449dda37b2ef5f06894f0",
       "value": 3.0
      }
     },
     "f409ca9959e448a3aa78212679325176": {
      "model_module": "@jupyter-widgets/base",
      "model_module_version": "1.2.0",
      "model_name": "LayoutModel",
      "state": {
       "_model_module": "@jupyter-widgets/base",
       "_model_module_version": "1.2.0",
       "_model_name": "LayoutModel",
       "_view_count": null,
       "_view_module": "@jupyter-widgets/base",
       "_view_module_version": "1.2.0",
       "_view_name": "LayoutView",
       "align_content": null,
       "align_items": null,
       "align_self": null,
       "border": null,
       "bottom": null,
       "display": null,
       "flex": null,
       "flex_flow": null,
       "grid_area": null,
       "grid_auto_columns": null,
       "grid_auto_flow": null,
       "grid_auto_rows": null,
       "grid_column": null,
       "grid_gap": null,
       "grid_row": null,
       "grid_template_areas": null,
       "grid_template_columns": null,
       "grid_template_rows": null,
       "height": null,
       "justify_content": null,
       "justify_items": null,
       "left": null,
       "margin": null,
       "max_height": null,
       "max_width": null,
       "min_height": null,
       "min_width": null,
       "object_fit": null,
       "object_position": null,
       "order": null,
       "overflow": null,
       "overflow_x": null,
       "overflow_y": null,
       "padding": null,
       "right": null,
       "top": null,
       "visibility": null,
       "width": null
      }
     }
    },
    "version_major": 2,
    "version_minor": 0
   }
  }
 },
 "nbformat": 4,
 "nbformat_minor": 5
}

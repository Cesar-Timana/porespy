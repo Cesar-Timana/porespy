{
 "cells": [
  {
   "cell_type": "markdown",
   "id": "e0525066",
   "metadata": {},
   "source": [
    "# `sem`\n",
    "Visualize a 3D image in 2D by simulating an SEM image with infinite depth-of-field and brightness inversely corresponding to distance from top surface"
   ]
  },
  {
   "cell_type": "code",
   "execution_count": 1,
   "id": "0e62c5ae",
   "metadata": {
    "execution": {
     "iopub.execute_input": "2022-08-12T21:34:11.915150Z",
     "iopub.status.busy": "2022-08-12T21:34:11.914105Z",
     "iopub.status.idle": "2022-08-12T21:34:13.821302Z",
     "shell.execute_reply": "2022-08-12T21:34:13.820659Z"
    }
   },
   "outputs": [],
   "source": [
    "import porespy as ps\n",
    "import matplotlib.pyplot as plt\n",
    "ps.visualization.set_mpl_style()"
   ]
  },
  {
   "cell_type": "markdown",
   "id": "47a01900",
   "metadata": {},
   "source": [
    "Create a test image of fibers since the orientation is useful for visualization:"
   ]
  },
  {
   "cell_type": "code",
   "execution_count": 2,
   "id": "d858218f",
   "metadata": {
    "execution": {
     "iopub.execute_input": "2022-08-12T21:34:13.828045Z",
     "iopub.status.busy": "2022-08-12T21:34:13.827411Z",
     "iopub.status.idle": "2022-08-12T21:34:16.407803Z",
     "shell.execute_reply": "2022-08-12T21:34:16.407141Z"
    }
   },
   "outputs": [
    {
     "data": {
      "application/vnd.jupyter.widget-view+json": {
       "model_id": "9b15352a879441daa6a69adef0aca422",
       "version_major": 2,
       "version_minor": 0
      },
      "text/plain": [
       "  0%|          | 0/3 [00:00<?, ?it/s]"
      ]
     },
     "metadata": {},
     "output_type": "display_data"
    },
    {
     "data": {
      "image/svg+xml": [
       "<?xml version=\"1.0\" encoding=\"utf-8\" standalone=\"no\"?>\n",
       "<!DOCTYPE svg PUBLIC \"-//W3C//DTD SVG 1.1//EN\"\n",
       "  \"http://www.w3.org/Graphics/SVG/1.1/DTD/svg11.dtd\">\n",
       "<svg xmlns:xlink=\"http://www.w3.org/1999/xlink\" width=\"856.8pt\" height=\"288pt\" viewBox=\"0 0 856.8 288\" xmlns=\"http://www.w3.org/2000/svg\" version=\"1.1\">\n",
       " <metadata>\n",
       "  <rdf:RDF xmlns:dc=\"http://purl.org/dc/elements/1.1/\" xmlns:cc=\"http://creativecommons.org/ns#\" xmlns:rdf=\"http://www.w3.org/1999/02/22-rdf-syntax-ns#\">\n",
       "   <cc:Work>\n",
       "    <dc:type rdf:resource=\"http://purl.org/dc/dcmitype/StillImage\"/>\n",
       "    <dc:date>2022-08-12T21:34:16.369653</dc:date>\n",
       "    <dc:format>image/svg+xml</dc:format>\n",
       "    <dc:creator>\n",
       "     <cc:Agent>\n",
       "      <dc:title>Matplotlib v3.5.3, https://matplotlib.org/</dc:title>\n",
       "     </cc:Agent>\n",
       "    </dc:creator>\n",
       "   </cc:Work>\n",
       "  </rdf:RDF>\n",
       " </metadata>\n",
       " <defs>\n",
       "  <style type=\"text/css\">*{stroke-linejoin: round; stroke-linecap: butt}</style>\n",
       " </defs>\n",
       " <g id=\"figure_1\">\n",
       "  <g id=\"patch_1\">\n",
       "   <path d=\"M 0 288 \n",
       "L 856.8 288 \n",
       "L 856.8 0 \n",
       "L 0 0 \n",
       "L 0 288 \n",
       "z\n",
       "\" style=\"fill: none\"/>\n",
       "  </g>\n",
       "  <g id=\"axes_1\">\n",
       "   <g clip-path=\"url(#p5added6653)\">\n",
       "    <image xlink:href=\"data:image/png;base64,\n",
       "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\" id=\"imagea361cf0109\" transform=\"matrix(1.37 0 0 1.37 7.2 6.8)\" style=\"image-rendering:crisp-edges;image-rendering:pixelated\" width=\"200\" height=\"200\"/>\n",
       "   </g>\n",
       "  </g>\n",
       "  <g id=\"axes_2\">\n",
       "   <g clip-path=\"url(#pf91c363699)\">\n",
       "    <image xlink:href=\"data:image/png;base64,\n",
       "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\" id=\"image1a0158e6a1\" transform=\"matrix(1.37 0 0 1.37 291.6 6.8)\" style=\"image-rendering:crisp-edges;image-rendering:pixelated\" width=\"200\" height=\"200\"/>\n",
       "   </g>\n",
       "  </g>\n",
       "  <g id=\"axes_3\">\n",
       "   <g clip-path=\"url(#p222c1a38f7)\">\n",
       "    <image xlink:href=\"data:image/png;base64,\n",
       "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\" id=\"imageb800024011\" transform=\"matrix(1.37 0 0 1.37 576 6.8)\" style=\"image-rendering:crisp-edges;image-rendering:pixelated\" width=\"200\" height=\"200\"/>\n",
       "   </g>\n",
       "  </g>\n",
       " </g>\n",
       " <defs>\n",
       "  <clipPath id=\"p5added6653\">\n",
       "   <rect x=\"7.2\" y=\"7.2\" width=\"273.6\" height=\"273.6\"/>\n",
       "  </clipPath>\n",
       "  <clipPath id=\"pf91c363699\">\n",
       "   <rect x=\"291.6\" y=\"7.2\" width=\"273.6\" height=\"273.6\"/>\n",
       "  </clipPath>\n",
       "  <clipPath id=\"p222c1a38f7\">\n",
       "   <rect x=\"576\" y=\"7.2\" width=\"273.6\" height=\"273.6\"/>\n",
       "  </clipPath>\n",
       " </defs>\n",
       "</svg>\n"
      ],
      "text/plain": [
       "<Figure size 864x576 with 3 Axes>"
      ]
     },
     "metadata": {
      "needs_background": "light"
     },
     "output_type": "display_data"
    }
   ],
   "source": [
    "im = ps.generators.cylinders(shape=[200, 200, 200], r=6, porosity=0.7)\n",
    "fig, ax = plt.subplots(1, 3, figsize=[12, 8])\n",
    "ax[0].imshow(im[50, :, :])\n",
    "ax[0].axis(False)\n",
    "ax[1].imshow(im[:, 50, :])\n",
    "ax[1].axis(False)\n",
    "ax[2].imshow(im[:, :, 50])\n",
    "ax[2].axis(False);"
   ]
  },
  {
   "cell_type": "markdown",
   "id": "a07019b9",
   "metadata": {},
   "source": [
    "## `axis`\n",
    "By default the image will be viewed along the x-axis, but this can be specified:"
   ]
  },
  {
   "cell_type": "code",
   "execution_count": 3,
   "id": "b476554f",
   "metadata": {
    "execution": {
     "iopub.execute_input": "2022-08-12T21:34:16.411743Z",
     "iopub.status.busy": "2022-08-12T21:34:16.411134Z",
     "iopub.status.idle": "2022-08-12T21:34:16.846579Z",
     "shell.execute_reply": "2022-08-12T21:34:16.845996Z"
    }
   },
   "outputs": [
    {
     "data": {
      "image/svg+xml": [
       "<?xml version=\"1.0\" encoding=\"utf-8\" standalone=\"no\"?>\n",
       "<!DOCTYPE svg PUBLIC \"-//W3C//DTD SVG 1.1//EN\"\n",
       "  \"http://www.w3.org/Graphics/SVG/1.1/DTD/svg11.dtd\">\n",
       "<svg xmlns:xlink=\"http://www.w3.org/1999/xlink\" width=\"856.8pt\" height=\"288pt\" viewBox=\"0 0 856.8 288\" xmlns=\"http://www.w3.org/2000/svg\" version=\"1.1\">\n",
       " <metadata>\n",
       "  <rdf:RDF xmlns:dc=\"http://purl.org/dc/elements/1.1/\" xmlns:cc=\"http://creativecommons.org/ns#\" xmlns:rdf=\"http://www.w3.org/1999/02/22-rdf-syntax-ns#\">\n",
       "   <cc:Work>\n",
       "    <dc:type rdf:resource=\"http://purl.org/dc/dcmitype/StillImage\"/>\n",
       "    <dc:date>2022-08-12T21:34:16.790765</dc:date>\n",
       "    <dc:format>image/svg+xml</dc:format>\n",
       "    <dc:creator>\n",
       "     <cc:Agent>\n",
       "      <dc:title>Matplotlib v3.5.3, https://matplotlib.org/</dc:title>\n",
       "     </cc:Agent>\n",
       "    </dc:creator>\n",
       "   </cc:Work>\n",
       "  </rdf:RDF>\n",
       " </metadata>\n",
       " <defs>\n",
       "  <style type=\"text/css\">*{stroke-linejoin: round; stroke-linecap: butt}</style>\n",
       " </defs>\n",
       " <g id=\"figure_1\">\n",
       "  <g id=\"patch_1\">\n",
       "   <path d=\"M 0 288 \n",
       "L 856.8 288 \n",
       "L 856.8 0 \n",
       "L 0 0 \n",
       "L 0 288 \n",
       "z\n",
       "\" style=\"fill: none\"/>\n",
       "  </g>\n",
       "  <g id=\"axes_1\">\n",
       "   <g clip-path=\"url(#pc5347324d4)\">\n",
       "    <image xlink:href=\"data:image/png;base64,\n",
       "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\" id=\"image88e6d3949a\" transform=\"matrix(1.37 0 0 1.37 7.2 6.8)\" style=\"image-rendering:crisp-edges;image-rendering:pixelated\" width=\"200\" height=\"200\"/>\n",
       "   </g>\n",
       "  </g>\n",
       "  <g id=\"axes_2\">\n",
       "   <g clip-path=\"url(#pa1acdba3a3)\">\n",
       "    <image xlink:href=\"data:image/png;base64,\n",
       "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\" id=\"image01230fac58\" transform=\"matrix(1.37 0 0 1.37 291.6 6.8)\" style=\"image-rendering:crisp-edges;image-rendering:pixelated\" width=\"200\" height=\"200\"/>\n",
       "   </g>\n",
       "  </g>\n",
       "  <g id=\"axes_3\">\n",
       "   <g clip-path=\"url(#p8da1515f8e)\">\n",
       "    <image xlink:href=\"data:image/png;base64,\n",
       "iVBORw0KGgoAAAANSUhEUgAAAMgAAADICAYAAACtWK6eAABJeklEQVR4nO2deZgcVdX/v7equqcnM5lMVhKyThJCQiABDAKKbKJhl0VQ35foz7CoKLsoiyiyGRQ0AuLy+qKAK74EZDUxSkBWRSCBkLCEkEBIMtlnycx0973390fVrbpVXcu91dUzA+b7PP1k0l1bd9enzzn3nnMu+csXT+MIEaMcrMzx6JKi+9yJx9aDmAQDp44GsSwQ0wzbFQDAKQUvl3HzDS+Dco7NtMv3+m+euRuAAYBEHgPgABg45+jcsDxwfSUAQGHIOJhWASAGAIAYlddEjBwIIc75Kl6NOb+6aLENIIZ7fkLCzhUuzhk4oyjt3ArDzNlPhrwPJTEKRkvY/tIigJbx7W89410jOBhn9r/goOAog4HwBvzynnMAw/LOH3roEsDKYLQEVuyOPD8vl8BZGZd8+Ulc+TkLhmmAmATEjP5MOGXglGPSudeCEBPq3wvHpn//X+wWxLIUjwXwchmclnDTd20s1L/FPpF9U9s3t1+GmVOCI/7Y2cDhnDwVHLIMM2eDkRYOTZkgsGCAk06l7e3rsyGKBMkwQawciGHhptsOUoJDSB+OeBHL0oJD1gXnrAfQ7wGJVn7QKHU4OAXntjWylSEY4oiGCUIMbTiE9QBn1YPhWA/OaOKmhvQZGGk+jxjvQUjn5pz4pWsygyMtGMJ6gFKQfA4XnLMeWkfhNNQb0xYFB+cchDAku1mV0oID9k1oGHnt86iLp7IanDPvb1au7hIkKLjjfiZJBoPREgzYPyFxbpZh5iC+NZjUdXUDG4FYADTeUpiXkCz5R08PyIojlf0Xaw5sAqdUz4KwFIDMPWYQytzbj8L5myf/ykXJMLwPIgkOwyzAMOtRSzg4KyZvJu/BmWs5OKPgtAiWFhBGXcvBaAms1I32lU9pHWLPumaApvg+FKzIoIP2T9ym5ayrkeaHEoD9Q1uFK8XLZR8c+SG7Iz9yAurHTcOAlr31AHl4cY+2FTFMAgb/Pgwcn/7oHK3jCOUHjQIxLJ/PH37eWoMB6MIRBAOcpYPDgUIGgzMaC4ccoMsyQGARgp+d8ydfEB4npVjEUdKN23LW1SldKw7OKbYse1BzP2fvABi5QcORGzISRr7gvj8Yln4MomtFiEnw1eOGAIA7esLAsdfBF2uet1ThWoWp18DgZW04APjAoOVuPTiC1kICo235Em3LAQAT65pgEWK7W1laESlYbzpgv9BN+hIOWblBwyvBcODXc7HA8eDiiOG9GBkm8f1yBS2KipJGrHoHDED4vYQQgJj2I27rEHdKC4wYa7Hj5b+lBgOw4SgYhhuL3PHle3vNivQFHHFWIwiGkLYFkeMJFdlDfATfOmF3MGfcXdd6AEiEo3fAEO/dgBh+dkEJ2yPEauiCEWYtdry4EG3Ln6j6HVlSYGwZzt81siKyqoEDYNpwBMEAQqwGwgcnlAFh4Chzrg2IeyKToAyGCU1Hp9vfqgPgh6O33ClEWjwH2AAkqa1GjLUotrei1LkF5Z1bUWiZrnz1V1+1f2j8IbtWLhyonRUZuP9MAACxwue1VMU17j8BBqcl96FiNWSFRlBiFp2zyouhKSyI0LiGjwMAel5bhbo9J2kdB8QEMexf5N6zGCqyB0cJIeBwIJHmNjgrq4EB+G5IG6ySO/wrvkAGexRvwKR93Zu4Z92bkYeOCpKtuJuUUiDhhq+QaQIxQNkjTQYm/L9vI92IlbprJayFO9ztWMX88LE2GECs1ZAVa0FEQC5bj52aIy4N44e7f5915Ov2hStMZHnyZtN7z2JQyOPryfK7XMTIgRhmvNWIsRa0pwOs1OWbGyFmDkQEjuIXz7Bg5OpRP2Ef1I+bhrrRk6XtTcD0pwOJ2C/KeghlakUkN2vC//t2TeOOoMUApeDFHuSHj0V+5ARlqyErdgxu0VP+L5dyDu2BLynFwDCJ94FbuuFPrdMvpCFbIlJGBCSq1+pZExg55AqDwDlDuafd20TBWsSJRASQwrLUT9jHvbG7174WeoxY6yGUsRUZsvcxNYcDgAcGLWPrU8sx6tTjta2GrMRvPq31IKbpJjSKQJ2YxLUiPcvfkNI/ktyZ2rtTviFbZxLT83d1rYkXlxAjB6tuoJa1UJWwKlGWZUDL3ii0THfjDwqeaD2EsrQig6ceVTM4KuKMYg+2PrUMdSNbMOr0T6WyGrKUpx91Y48oGU5MYvvoFHZOQl8pYqLPF3BzJ6h0EywUJCBxwDJyyA0YAs4Zeto2gNMSWKnLOZXmr3SEwiyLsCo//tOF7o3+szP/oJ57lZEVqSaNJAqOsDiD0zK2PfsqRp50XFVWA/AsfHwMIlmPImOueyVS2bnGkKBsRRgtgbEyXtnRoXXR2YmD0S7liT7OuWTtqrMmdU0jUe5u8yyJ8JczVJxVOfeuL+LLvz4D5/zvZ2KPUWY8k9n1wVOOQDVpJBXPRcQZwmqMPPXEqq2G+15ZWe0nscJ6UJ2bpFLCzfrNiZdXdRx9eWCkSy5M63L5A/jGUdNtCyJqKyRQsoQlyQU7647/xtz/OT3+IFXMiwyeckRmrlUUGFueWOoDI2leI07iuwAr299NsTvexSpzjh7GUGT+G+KWm17HBVeoj8UHZZgE1s5nkTfsm6c3YgxGu1Olo1ccKZXLBQQD+EHjPwzOGdrWPu9myMpbCvWGC3bWr7/gwnrH2fegzOx0oI/saWL5/AWYfslpqTJ907pWMhxRrtTGxctg5g2MPv2Eqt0pwG81mAPgom/clwxIEI5qJM+J3PiPn6O3wAA0ipgSUkfAqTvfUc0oF4cJQkw0jZuFf192GQBgj3M/HQlLVqDIxwobBZNhWTHfqdRLG4to//h5cESB8atvPw8A+PIvTgNMsyqLAfjBAABW7Mbiy+6zj2cA5O0Vq7hzJeCcYcWN33InCf/0WFckIBdcMV257Lbjjffc56acPw+1BwOQrYaWVADhzD4uMaVfSV3L5KShcA7OSi4kQgKWsC8/S1iEZNcu+Gv6xu3/57uepBtRuClN4w6ETukswLB56QOhQ7YCDMCGo1ZWQ8AhRNasfIsDnn/NWQnLr78StMTw+yU7Iw+eBpDegSOF1ZAVB4gDB2cUV57+F9zwf8dJ9e5ANZCIYyeBAvQeLL7AXAxDqwICoGnMh6ADCOcUm1+4zz0/L/ZUgFFrqxEUWbPybSfy9P+iPTrnm3jinejMXR1Adj/mfPR7MABl68FpCRfN/hUAYP7ic0CMnHPeNKBIkACh1kSot2EJtSoh5w0ToyU0jdkPam6WDcemf91j/7ePrYYsKQYRYZh3g5XB9GfOJY36xLl4P4DhukyKumj2r9wUkvOPvB23/P1cEGI4cUX1cyYfmjcvFJI3bve6d/RGvBI5a68w0maYOWdAI2lLCQ4HjMd/+BLe2m5/vrW0Gou+4cUaUQoE6QYIYV7SXUqNPPJL6A0waKmzqk4ick148saee8VYGYx7N8nXjvgxAOC2xy4AXGtSXZrKrBu/H+pyCXWvXu7mWtWNnuyDpbdGwZLUvu4lDBy9rzPUC/jvCcdicopNz/4enJbx3G0vAgDyFsHEZguf/P7JNbMaD198nwvGaffeHNkWSnKx3MO5btalh58XaUHCXKz3GxgiaVJ0JFGKP2gJ5x11e+Rmtz12QZUBvJrLNfaYaRXJiAKUvohXosRoyYEkeAPa99mWZQ/iuRsfc5+lDDj0ulNqYjUGjp0V0x8NCLt3I4d5CTGU3aveAQPIHA7O7Im0JDgkdW54FTfccRCumPts6OtBa1JLlysoOe09aFW8I9dmyDgOlPZ3ng9vNsdoRTHVodedUpXVaBg5PQECQOdeDbEggGxFLj/8gtAdhQXpnTgDEMOAjKadBfdbDU6LKPd0IN84XA0Qx4J0rF/uzrJGQfLR5vXIWcCn/zQvuwA+MMoVZkEqL5kCtIxCy/Q+GzIGvGHfCkicLoys2I3coOHKViNrCOIU+23F3Yi7H3M+Rn3iq5ldiKqysBoCjlx9s+IBvPgDgD3UmS/ghjsOCt1c+LYLPnMZOCvBa1wHVJvL9aF58zT2t7Vz5QtYMf/3FektvZHiAkh5Wrl6WA2DYdUP9KwEostfG0ZOR+OovdE4aobvYcc0YnQs6pHRewm3IICwIpcdeq7v2d6ZAQ+T06dXIy08ymoI5QYM0Y4/uras9gd9IZbk8GHrYRj+kpcTfz8vszkTzkpoffxOZQvCKcW7i14Ho3CbN8YNGffaRCQQEZ8E1Rf3m3PmJECEm9V3YAipAxIEQ5S+lrp2+Gradd2rna2vu08FIZl/1h/d1/Yakq8ABPAgAbJzuTY984eES7cheefRFe5z4z61L4hpuUmF+eFja+qCDRg+pV9DEKdEQLJsJhwtcQlqnd7jujJWuFMOGAAquqFUAwhQCcltZ9sTXVMG50IBARxIMh7lioMkCMi4T+0LkncaYAiL4dStW03DUo+CvZ8hiFMMIEBvBt+qM65RViTMnepp2wBiWLY/HIAjV9+sNoIlxR9dm1dVvByE5Gfn/AkTm61IQJqaOKwccMhtN2bqckVBIgAh+TrXagTBCFMULMkB8vsPgjjFANJ7M+CGmUc1gIRZje5t78DI1YfCAaSPP8IUhGTRN+6LBGTwYA5i2N7NwT++sVdcLtmdUoFj6IwTPpDWII1CAOk9MNwz+ha4UXCzHEDCrMbm5xagccoBLhz28SsBqNa9CioIyeLL7qsARFgP04RbenzgD2vncsWBsQsCNUmA9D4Y7kUQw5kwUgckzGpsfvoewLQwcNpHIl0rQMO9ApQBAcJTGpZc4SXCydbDMP3v88AfZjfKJa5587/vw/ADTv+PcomyFlmzck023RgiFQ+G+7cGIIwWfVbjuqOvBAB86cq9MXDvQ2JdKyCFe8UoOjeuVJrRDUuKW3LFfaHWIygBCZDW5YrTLhDSKKtPP0R2/XcYHNWWvsoTfvOO+RYsYrfwl+GIkxIc/hMCUM9i9XUJzxdw+A0nqyylgecurnZisfYTZ/1TPPDITjXquePPmZJVbU04ABcMwN8ETQZDb73CeHVueNX+w7DAaEnJkhhmzgbKgWTmpadg+fwFkdYDAA6aH51V6umDfrPHKerm9xZ6bRw1M9MzZuxicRR3bgrtxJ4Eho6LNe/I8yte+dpvz0l0rYB0w7ud61/xntdMoAsG7ytuvU8BhF0QhMsGYeem8HiwYcRemV9NRoDYYBiG5a7+BKjDYW+rF6TfeNTF7rMyHPJ5w5RmeNe1IEIKkPRmQt37T+khiFMtAKnSxbLBAOyOGMTMA9ADI5UCN7aOa6Ubf7SvWwogAAMrA4a1C4JYJUPQuWG5L66rdZZxGqUEJABGYM3AmoHhdnr3Atev/fac2CHdqkUpBk06ZJdLFKnkuCBRYsRPeqoWtStppAmIXT/MmdO3NCOrwTlLdYsFXaskJaW3+yAgJgiA5smHyVukuMoPgtSsQRq5RV2sDNbd4daE1LJ8WEeagBAQYoGYFvID6t1nGe2quk6DG/rrpuu4VpxRGLkBu1yiSCVD0L7uJQDpyl+VZJpgxW4wdLv1IbXuOBmmtne9bio1nSjkrCf6tcBMuGHVaQXqHetfiRy1qmvafZdLFKl4l+jtX18DXmYYcsRRXoUfkLo23O2SrthsjhW7nb/takPOyspZxtUE6Z2t3kCMXLvSCzPplbIbSHsz4W/94kYAwJTzb4DySJbbI3eXNaiU7lfqzwxuW/1ctt1EFPYPLcuVSnIfu/5J5C3g8BvjC710IZHBCFOfABItCjVAZO2CoFK6LYe8feRcro71yzPpJmJfinrL0jArcvGX/w/HjxqGvAUYBsdHLj+iwrKI4ydNFiZBIaufAbJLfiXHBXKj56H7Hp95ZrBKkqbvCCEJm2K9jmqsyEXn/AGNRh6H79bkg8TI18MoNNSs3dEuQPqF4uMC3VWWhh/82UyLsXQzmQE7SXPrY4sBAEOOmq3d+DpoRVixG989/1FYhOAjIxpdSD565SdArBxgOPFSoDMKUF2tfV+uf/YfJs2JM+cmKXduqzxSBBhCm575A4Yf/Flk1eWxYbepsSn/YVZDwCGuT2v5BCd/DUWAieZ+loXP7dcISoGHX+nCh4bXI28RcFYGQc69DgMAE4v+ZDBkvMuCZKps5guiIIkCg1Ma2t1k+MGfranLFWc1gkplRYSrJVmRN+96EoxyUAps2EiQt4BDrjwcRr7esyJBxVgVIB6WXYCkUrxL1P7O85UvVZnkWNqxqQKM9qWvo3Ha+MT2P7VwuRKtRkBDjjhKORYBAq5WqdsN1lfduUSspO2CsnULwceuOsrvakVJ0wXb5WIpKQiEDcIbt16JYZ84Akau4Ja2Rn45Tv5W2nT53KDhKG56B5yW8fIdL2LChxpg5NVSa1qf/C1GHPLfmbtcHeuWghW7sXnhQmeB1ujjbVm8CENnH6O0lJtPpglQ014Muez19bJFYJjA8BG80tWKOj6lYNRejjs4GWkAqB/a4kubMrIuMPlgKlh8ZIIQC6zIsPmvj4GVut3FLmOLqsTikGKxyATJk3RGvoD8yAmoG9niwkHCukKEqDB6MjrWLc28y2Pj6Jn40pyfqR9CWhA07aq5Ez57CAwTgQfBG3csASt2wTUvSe/GzGHg6JloGLU3GkdNR+Oo6RgwYoo78SyK+na5WDVS29rwvr2uNFyuMF9/2z/+DgCoH797pItVN7IltN/tgBFTMq9/X/0/18ZaEE4ZOOUYNnt2umHf7k7XzVr9myWB7bx/p5wV7WoNHLe/zzoIhaZJOdneuwDpZfnAqTIu2f7UYyiMHRUKSN3IltjZcAEJkEHLIdgB/Nt3XB+5tQDkvVc6MeMbp6Ub9nViEVbsxtt/eDJkW2DSF7yAfVDLgWpAxJQ+7IpBellN48IbXnesX5q4bzAuaf7oEeheu9K3TZTVCGpn6+s2JBmujDVh7pWxkADAL1/aglvSrprr/D5E9fSaNe/aqoEIapcF6ecKAydoSbrXvWmvNJVgNaJUC5crCIqwINf8Zi0YOG773VeqsiJv3bUY+1+fPRBB9SEgUaf9T82t0lfbu8+7N061KzLV0uUScDDKcN3v3wUA3HL32dqxSMPIvWoORFA1BiR54uzFK78OwwTqGi0Qk2Dq1+dBpyZklyql4q7JEuP/9UNbMl///e07rncBoUWK6+9Z52wVb0WCw62+660hEEFlEIMkQ7D+Lz/BP3/1lu+VUWNkN5SAUY7xn5+jcU6R8r4rjAoqKps1CE5wYkz0Hq4f2oJ0y8cBwTmTljOvAucMb/3sGhcOeyviS0GJAiJuhKk3pGFBkjbzlibYuORX3l7OWulP/+9bFb1qR42xx7GJAUy9cC6MXD0GDJsENQtiQ9LZ+hpem/8LMMrBmT2S8Zd9zsW3/nsUzHyT2lv7D1dY+nf90JbMXa7/d8hZ7qu/evynve4upVHg5zepxiDuA/KWkB5x2BfsFZDkvRkg0ukEKOttdxRH/XiuVm2574rdijUCBg7TAI5++XaAXO+VAge7oOyyOj7FFRlx1pPZKNevn/xlxVb9CoiQdWcsPxThCXVeexs1hZlFKk3aBkGRwbDdJvXa9HfuultKPxDb89j2PpxLhTzOqMuWlx7C8A+dlni+/zQRoy7iFdXQ1e9yVdyE/QgIUQYuy+pYv0zpQPaviLoVCWp7F0dTHXEXuARsUI6+da6/bQ+ngMYvPJFaeRqm7WLtd+21yvu7x7EsbF56X+hrw2aerH28D76ifrzCwPEgCbs3ek0JQIj+CO1rX3BrUZTuRM6ZsxSbusLcrLYe+8MToBz7k0rXqqd9IwqDRmudK1dvotRlv3nDhNvZMVHB1WsjFAUOL5d3WZ0KRYFjAuCuy+Xlg9VQGkAEJZIYlQDZ2fq6ncGpZEVsEWKgMG4qulZX1j8IULJqNh1sCJ22e7uORG1G6z9/56afv73gJTcv6OAf/1j7mB982YmeACB77D6XtxopArFj1dPJafGOlH0ZdSviuVlNLQeGAgIAc359ZiYdEYWLJVsRXW1b8TflbYNFS7zYA17sAevp8SWSPnPBBW69AmfAbnvUwcgbmHL+jamu8YOsqEGTRHAUgfjnpVe5caqbq4WEtHjYVkQZkJ2tr6Nh5HTVzQHYVqS+ZTp2vuEff5/z6zNTj1pFSViRfa66Rm0HRffK3Tymmg+Izg9yNsXl967DvNPH4PVbvgnDNDDkyMN8dSTNLR9Tu+7/IEWC4/RbiwLixauuAi0B7ds58nXiI7bvj1V3LvElNCapwleKrVVwawmSXBLDrRsw8gUMmLo/PveTU9xXs1zHwy7UsR+jZs9Ujz+EEtwrXi7bD1qy4aDUthpODTgxTTebdvzRE939ZOvx8+Wt9rEoh2EaMPImdjz7tK+OpG3ts2h793m0vfs8OtYv9T12yS9i1IEYdTDMet/DzDXihSs9OMol4NCf3oq/DDgDpSIHoxyMAm/csQS8bAfhSXUpPkR9SXDOc4ZvCFY/WG8cPRMd65YCZg6f+8kpsBoGZ9pseo+vXYPWp3/nLXGsGX9EuVdJjRHCFGZFpBohWPWWr9DJyBWUkgujIMl6sZgPgg74QTD247j2+x/Gt75WBAB8sngPTBPKFYjuNxqsMRa/wzIoaYN18eVbDYMzd61ATJB8nfNn9cdNBYZpgsM24uOPnojVD6/yWQ8Gjh+cMd6FY/DHjqw6uRDwesjKNdWF5jG7MghCdN1thzh/HeJ7fuuKv8S6WlZYtdrON5ZiwB4z7S/R2VCAkiZYbxw1HR3rl2e8RJq3FII47pB9ZqvtGhJ/RMYYxZ7EpgiuTAtGHdBy3CS8+cAq13p874yJPjiqbespuwUNI6ZUpGyENhMn5q4MghANmXZ06PPb31wCALBcMBz/WgTU4t8gKB3rl2Pg6H21LoIQA4aZq+k6HsSyUscfPjgcMNb++SUAwJhPTgGBPf0VBwkxzYqA/X+Wb8L1Z7TAyJv+ZtBVWA3lpL6kDILg9e+Cx6fmyYcDAKz2F58ETCPyyw8FJcXMuo5rpZtuIm5I3fhj68sL7fNJQ7bvPPiSm/QI2PAoWQ/4Xa3JJ07CtXs3YNjs2VV1Sa8GCB1FwfOfDo7FKVX6hexc+QJAGRqmz0oVrBcGj0VP2waldTx0003SKuhOrXtkqS/pkZaA1Q+vwsRP7an0GckiluU1KACUwOgvNRCyQsHhNCZH64Mli1Om/KUDQMey5wAAgyYerB2sq7pWXVvXOGnv6ho87eNqG8rxhwPG+oViHUL3asXGAIjPikR1MXT3NE3UjZ6s5E711xqICoVMyHHa5f3fmX9Yc+f3AQATz76uVy+vlrLefXIDxh05NnFD2X146tsLcMzdB2oH60nijNrzDSxF6kGK+OO9R/4d+pJIerQnHznW/f0tjD5yIow6AGa8ZYurC+8td6lqKc5QCyCCeut/vuUcxq4k7Nhgw7TvtfOzv9Yay2JUP2msfgDw6Jxv4tjf/lBrv3zjcBQ7NoW+5htRUmiqFpRu/PHytd+OfV2GhIHjvSVvYfRR0QF7WDeRsBEm4P0LxBcP+woA4NtnjEvspBiml666EAAw4+rvBYqx+vj9x8gCHLcB6j62lbMhUQ/WbSWtY8hpCazUFbtNmJTdK00FXa6ogF1Yjb5oKqCtkKKgKCA6N7wKVuzGRXPsQidTo0+A3KghqGVXX25D4rYcEtcUvD/6vi+BNe2rxwKA27Wu+N7axJ1ajhyF1X9fn2pOJMyKVOVaATCsutBilwpJ8YdtHaRjmATE8L4QzuzUBPs125ps+MdqjDpiD/fHZPjBp7/vgAj7nAQQoiYdgK//1o/uPguXfP6OlKev9FDGnv5xbH/9ccAw0Tz5kJj69zjvpnfgscRdQiyAIIf87uMSISGmAdMEnvzaN/Gx2/XcrODNU61r5VyQ/XFpprcLSMyck/pheR86KwOmQUBL9rYzr76m340whUrRXZJhCFOwSd3Nd81NBUnX1iLGnv5xtx1o8Bxtq59DU8uB0G+s7a+EBcT0QLajn5YIIN3LytdHQiIH6iKAraba0FvIM51rJc+m69TfPH/ZVTBzgJUnMHOGC4ZcVzL16995344w+f4vFQXpzuBXQPLbswFKsXnhwsh9Bh10oA+GIYHj+eS4q21rn0fTuFkZdXmkbsuhjnVL3ayDtNnSlvuhUdNuDc+osxyzwmWZJNWciOxmpYdDU5J71dPFUQeCfH0KIN4nAXXnhle9lBRK7cxhwJvsVVyKwQcJAJg5DJs9G1sWL6qAIbhfhWLi27a1dl5Z07hZKayJe1bI9e8Dx+wHzhna1j6P7av/4d/UyXoQM+ZRIi8vvtf+7U3w/0UqipgwZMUS3n1yA8YfPRGjZn8ZXrOxuDfjtQbq3vGeG3eEuVZeowjFZaFZOf7mFYDQEh7+/Ldw3F3X9X8gNAPqMAUhKa5/G4VxU92uhoD6rH6w5WnsGugac2tBCWuS5cpYbauf828R5s47K1lteHCJ+xRZ/tgDPHIH387RADWOnin1dk16I8w1gd3b3om0Hg27TXUsmSIgST6WA0hQ/RmIpIBatORMUhCSS8/8HW6+a24mkACoCoY4NY2blenKWNvflDrCOzC0PvK481/v/mFlDs44frxoiwdI4qliADLMXOAXP/6ihRXp3Liy8lXJ7DeO2htZA/J+AkLA0L39XWkX+3tgkmuqtcZI1pCkHVhRlIAEQPXWxLkHXrvpKgTn/wQUv/1bJwxCYDnnUgYkTkauHvVDxiu6WfZFxy1oKT70pjH7IRNA5BvxfQaEf/cAHJQmL/0mSbjJ8k1tmLn3ByQZu1zLr78SnHG8/AJDmQFFyvFmRzfyTl8q0zmPrs2qkMjQVZqHCGjAiCnVnl5NxPQevSlOfQ/Omf/hzP90bVmNri2r0b1tbSgcotxXlEOzUhe2LHxUfek3R/I64vLSZvZKslLZg4J8y8NlWQAnRKn7aFv9HHa89Qw4K1WxfJxdBk4IATFymH7l9aFwmITAdCyIRUj1FkSksRPDRN3A3bSD9TA3C7C/qMwsSG9JYw5COfVfshri13rzI4+43VwGH3ao2iKijpJc5T6xJLRyMCIqiG6ecljmLtflh1/gwgHAda+AKl0sucaDGPYseZpgPbhAvUjqM3P16LeAaIwwta9bCiNXH7vccPgp/C7VhnsfgJE3YJgGBh/6Ed8Qq7AO7t8x6nNIAkDEjShtWvhExUtTLromc5frO0de5FoOWakBIREVgnVNu2sH66zcEzrkaph59BtANEaY1tz5fbAiRceGLkyYe2omcLDuTrX5BlOtIVoiJIAWKJGQqFiHGBiE5JQVEWBP++Z1mY5y3XDUJRVbpAZEdq1kqbtZ9gWKiwMqh1zVhnmBmkCiOiHX+rp3U1CKrY8tzh4OZzhVZ76hWkjcY1QDCY1oq6MJhL1L5TDsqBM+gqH7Hp+5yyWD4k0URijsgwm6VrLSuFnuzVixTIHKRCGQCSAa8UNFo4sawuH7Bdacb+hrSAB7AIB2tcfCIBRmJdz/O1DctLDV9/wtd5+NppYDM3e5BCTk5UV/jL+rpLQTw8zFwiGkHazHSGs2XQeQlEl94b+IIZN10uhOajgyUF9A4jumM6G44f6HK7ZRsRI/XrQFpZB4DwA+1jwUJ887AlbTMBhmLjBhDWThcpGlD93pu0rR9l2MjMgfiFloUupMksqKRCgTQDQC6qQs1zCF3WD9AY7gtcQpKW7IYtZ9w/0PK1mJze9S/PbV7ejgRRggMEHsJdskfax5KPImwbHfPQS5QcPd62scNT1TlysSEFb0f0mFERMj444waQfrEaoKEAcM1RqILJVqGBcItUZZTMQpj2yFxQ3OD2YWkKy750HvNQeIzm3M16p1/rLNAAALFBYMt1BLhuSIIcNgEHsRptnXHu5aEReSjFyuyLRdYlhuAZMMh4pEZxKtNPgajUK5DRpqCENQqeEAfC6t+1TCcVQAUulkzmjJzfZlpW60PuxvyzrypONcSFQygX3HdVLmR59+Atb+5s/o3Ob9aMmWhFKAwAAHQxkmAApIkAC29RBwGAbsvmbSgqBi2mDAiClItxiplz5fsYdNoWmPsTvS6Yjo1nikmFnPVFJ6e9fmVf0WDgC+me2wBwwr9pG4v6LcbU0TRq6AEcf5S5k33P9w9bPu+QLGnfGpim0oBcol4G/lE2DxPIhza5ZhgoGDgoOBu66VvCDs4mufRLlzm28yFbBBEbPvXtN1vRn4RKQKIyZqd0Tk1Jn8U+4GX0P1Iqhp4FBRVgCpngtAzSGZdt7Jzv6ea/W3nuMAyjB54qd9kDCpetCSyqLl5fxcKxKQgMS7F+0jqioWkDSulajx6FjxjIYVMfyLhMo5TFWqP1uOrFQtQJHHyxdgFBow8qTjnGvn4JRj/b0PZQoJYN/bnFL7UaZoNIa7kAgrcljzMJ9rJWvxtU+CdrVXWBHAhqRz48pUuVyxpYNpXCvAuwlaH78Tux1xVtQuEQfy1230fV+LZPUlHCpKDNDj9gUAM4fdTz81Yuey7xi6ZbzTLzwFS3+wAIt3Hg1e9v8g1pPB6OLbUCZFHNU8rMK1CoozfywS1M7W1924BFCrWIx8Jd88KpVrxUpd6FjxjPyktpslLFHH+vB0+EqJ2nQinTN59Sg3O7aKG7e/w6GiTKyPhjUJWpKZl52Gb1wzIHTbOtIEi+cjXStZvFyOtCJCui5X6KnyTSOqcq18r+m6WcReBCeqhFRLMef2Das6H6YOKMTMKX0+7spU71NpuW+OtCFx3Llv3jDQe53kYBJ7kPcTgxsjXStZi6990rMiMdJxuUJdrGpdK1lp3CxCDLBiN4x8QbvTu6yw+CM0TQTeL4WKq1DVMK6kmtRR9LKqeQ9uPYr4f76Ay29ymojgePs1J43n4YvDl+IOSlgRd7g65hpVXK4KQNIskRbqWvk30G4NJN5klp3e49KyfaDEjPOnreMIvZ6EY3wQAFKRHJdUvAYAZg4n3Pa50H0FQI9+/T4wBiz67pM4+vqjYmMRWQKSqJZDvpn04BJpKtZDuFbtr0Qno4047Aup6kTaVj8HI19A07gDoDybzsq++Q8g2mpEKSrdO028EZa8B0AtLT2h/dJ/AkDVNBNxpVD1yGgpNE3F9w1k6VrJan38Tux2+Be1+/i6PbvSyO2eqF/x5lqTKhIOhcLcCPGr9969D4QeY+RJx/lW9Yq8zoTXPwgAVTMCZ2+g1s421zAUxY5Ndh6hY00AyYLI1kPFtRLWg5W60P7Kk5FNr3PDR4NYObdUUteKdKxfrld661gQdwRMc6wegBt8VgtHUFFp8mGZrnFyAdplgRIVbFAhy06+DXyOgXvfAvRXn5Vdq7aXlrjP50eOi+y017b6OQyadEjF83ESaxtWK+UyUNNeKg6ozq2KUoU1AQAzh5GnnqgMipioAyqzYYcetAdgWiiIBXwSjhU7//EBgUcXCiPwo2KliTvcv2kJhYl7JV6UfWVmqmA9jTijXuAXprBhQAeOWoARlA4oKjUTQVB6NkRnD3BKlQD6oLlvFWDEQCHLSrM0s3Ctim2t0TCE7Zeij692ayBiArwHgDM6AvsGdINjVFoUI1+ouvovzQ2TBMr6ex+KrJlIs/CRUPfalehYscbtjCIkd0j5IMQ/cdYiDgpZhs6QruxalTu32Sc2zcpHhNrWPq89s5606I60JcRkY8X8hzNjC3j1LrzYjR1P/yMTONJMNPouLzDpJibORp16PFiZgxYZSl0UpS4KWmJVweF/D/7jbHv8ifhaclnOBGvUQ85SCHvUSmahCdaAwcgPHAEzV3Cz08XDMCxlOICABYlTxahVyn6saRbdqUbB3B8UgW1P252+Bx/+iWzqxqE30Rh3rb5j5AsYO+dkgFK8fef92seLE6MMhmmAU+63JMybP1C1jHKxFQBtC1SttdGNK3REVj6zhCvXeDg3RLm7LfUJAWDQhIO1qw11Kgs71r9SeaRAZVu1MYfcqwoIGVnSrLyLu173/wmgjDxiKmBascvocUoBWsb2F1a5PbbiXC3V9yBbntdu9wYRRJ3H5q32OT75/ZOr+pzE55JrGFozKGSR1577R6K9lod0q4FDvJmBY/bTbg1ULSCA3x3KEg5ZPlCqhMS9ZqAClLfuuL9isFAHkDUPrUDz2DoQk2QPSakbK37yiFvnsW0bQdkxGcz5lzLgmJtO1i7jTRtsp1Wig++LO6qFw/Gx+6ra0J3fqBEcALD+3oew/p4/e/USNYpPJp59KiZ84aRUxwRsL0qOQULjEc3ev/aB7UIrsfal8Losw0s2NAzANIBF37hPqa4kLq4QMUXWcDBWBmPleECyWD/Q9wU7/+/rakMdOMIaR8twiCIi8WDOY909D3qLzNQQlAlfOAkJWf2Rat9YBCsyiJVoq4UkWI249/nHoq3Nb5kEKEOaOYYN4Vj6gwWhkGQdbKtIQMFY2Y7FGI13sapxrZJ8zAEjpmjNrDsHQzUullA1I1Ub7n1AqXXNjKvnAwCeu/h87HludX53mMK6GHavXansYrGeHry35C1s38QxZq+6yHgECAz/agbtrNSNl+c/ErmtGKSccckpqBs6vlfiCt+1yqko0i8NoyXwOEBk16rUuSX5TPIIhqL/rbPojq3qAUnrUq2/58/e1YRM1gkgZD138fnwXGWCiXNP6pVAPmmiELQMTinWLX4d2zfZ72XsPoXIeAQABh9xhDusnwaSV24Jh+SAGy7qdSgACYwQKKhkDELPruRaRTUXA9S/eI2ZdR1XrGG3qaHLKqSFY93v7/e9LqC4fuF6/PGZP1bs/9zF58NeXtoGA7C/czECNeELJ/mGQtMODUdNNNaNnhwJirxSMQDkcuI9e8O9FUO/gPbwrzu8bpowYLtbK35iQ7L/tX0MBeCCEQaFrMgr8blWMR26fb8qmr+IaWbWlUTMii+xGjgEEI88UUQ3Y9hc6sEWFt79MGg17H/924SCotFrKqg0oAD2CJNwcVpX9WDEpDogj9D5kW2PP2G7WrBdLS1I7P9UgtFHUNh/2mCU2jciLh2+4qqCs+XiYJVnlrrtAanchZ2tr6Nht6laafDx8tZN9z1bxUiVYRI8vLgHDBzdjKGdlmARgsFGwQdJlNWIkwyKO9PvvJYpKCNbQiFh3gpuAIAtb/dg6AQPkqDSQFLXPKbqdA9dJUHRteE1O9B3BjriRFYvXxkbpIMz7Fj1NHi5hJ0rX4GRz6Fh+qxMxvrlIhW1WARQ7fQu4pC0cLQ++JA7MnX/IztR5hzt5TLKYKCco8w5NrJOtAw5Eafu+c9Eq5Ek15rUOJDv2bDajUNWLQiv+x82KSEeSZgjyQ3crd8F2y9c9SMAwJ5nH2FXzDpZ50a+4N7HoRWkb7/6ejQgKecrVFp9yl/ewLGzNIJ19UC9Gjjs521AaJHhT4t2ostxNQUkn/twIwzTdlPSgmGfV/zLMfnsbEe8ogL57rUrIwEZOsEb1QKgBEmcpQD6Jth2B5ec7IllNy/AtLM+BiNf8AARViQSkBWromfSUzZu0wXL32g4KQlbDZDO1teSrzPgOrrDucVutD7yqG9+Y/0bRZ87UmggVVsNGQwAoCWgXLT/nn7hKb0CyvL5C0K3j4OkYdpEGPk6DJx6SL8PtoMpRkt/sAB7f+0T/uXrYqxIPCBplQYs5dQTIAtAwkbngh+mDAktMmx5x369rp5oxRphkuHgzP6/gEOWD5Qapq4EQTFMgsFj8xXzIw3TJmLQjI/3u2A7ahRKbGP/YX+v5c5tfjcrxorUBpCUyhIQRovRW8S4gMEPc+ODj7iQtG0sVe1SxVmNOE2/8JSqBkQqr6OymYQMiWESGCbcfK2xc77c74LtUucW5c8g+L3SrnYlK9KvAAFUIVGrTY/cIkVsJaB68aqrMoEjzmpEKWu3y76WykB++fwFMEyCfa++sN8F2wu/NB+H36Cf5CiOYf9RCYlsReRjfnABiVtvJIULWA1US6/+NgB9qxGlWsYn/XEEauGX5lfskxUkrNTtWRF52Nc5br8DBFCBpA+Whe5lqJ69+FuJ22YFSi0LjuIUNwK17dkHwCnFv+5aE7m/Cwmg9d6jIAlLpdkFSC3VS1ABHlidzupKSTdKn0MBVIxAdW14Dd1vvwZOKZ66Y41zHfamUV3dD7/h5FSDGEHX0v85eO89fB6kFukfGqoOEKBfQaKrXhpaBzyoaNlZh72Pgu2e7e/aTziJjbef+wBaBubcuhH72ux/40DRdbl8AxXSe/dZkLCZdPVGCcEdswMrHpIPMCBplbG1EvDEDXbESSkHSt4+kP17+7l2zY0OKNXEJVHbkpcX38vFi/VDWwBiKLf/qThYGrAioPrAuFn9WTFQCXhEXp6KdKGo2D8EkjLnoJxj6qC6UFAAPyxpIYmSJR9AdbmyoP82cPRMZ3JA/wJCb3NiBpY92KWaKMbiu9+Lc3/EQRIXbPdsWaNc1x7M/hVwlDnHwk2bwcBxzPDhFWuEiCsToDBaqjpDWogsf+wB5Z/ZsMml7U89hvyIISBWciUbL5dRbN0KABj7uUtCrZVIO7H/TutmRcyF9HFs9b6TtFIXD0y8xgXbHW89b2cqUAqreXhVzR9+9OX7UWQMreWdAOCudtsDipOGj4Rh2M0fKgq5ImIKXSkDEjahtO0ffwcA1I0cqgwIL5ZQ2t5e8frY/7oUxDAzBSQ4m56lC/gfIwcSVupScqHEvVHc+p59kxd7kB8xRguSoKt12Zm/B3VWumWO6/eju8+qGRSyEoctwqzG1scWpz9jSJ0BgAo4AFTtZr1201UAgCkXfTtbFzBxpw8eVG4jA/H/QA6U25wPAMwc8kN2R3HTOyCmia5Vr6J+0l7KdSTBasR5//s5XHbm7/H9u77YK1DIigUkzGpsf+oxrF/qTwxrGTM88URx1qX50KMULjW9Xv/RNaHPM8rt1p4lhglzT/Xl4ogBi11QOWI0NjGwolgrX0B+5ASAUnS88ga63/UXWyXJB4nZgJv+8BXpxdpCIcRoKRyQMKvR/uIz4GUKYtlvLmGdRGU1H3qUHeRHqBorMvXS67HyB1eGvibg4MzxMKUluxgtKQ1YyOnxy25egI/++LrehQqoLVhSDFJsb1Xaxb2xJWsydPYxAKXYsniR3fwBiF07UD6W95/egSJ4fh8gUanQrNQNIlyjMjD6gMFY8/Q2dz8u0RJnKYJqPvQoez2OtPMuSVK4eUR+1Nt33u+VvuqMfjg9f2dccgqeuiA5PUQWZ8Aht6aHCqihtZKHgDUnIaNKfwUoQomfcR9AUXEJ4o+gO8WK3ZFdvollglKgVAJ27IDdR1JTAg7DzIXGH9UpsG66ot6+836lTn9Ccg6UgERHH553EUpd20F72lHu2m4/etrdByt1RT644+5wzrQf4DTx4W5PS276iq6imt3BNKOb0UnLSov9awGH2wgw4Tu2wtypKMlWpKPDe77r3S0YMHGk8sXJcNQPbUncvjfnRNbf+xBGnXq8b7IpTr6xe0XrWdELKkUOlBjCVp1AZ6wM0yooWys3t8tZr74WzSS8DXovpvD+U3bPHWfJrKA7paoZxwzGske3Ya+PNcDIq//yD5i6v683bnr3Su7ulI3sbpMcG+5/GCNPPVHLVxb4zrjkFCy7ubKMNa5BWm/lQNFip/OnbX12vLgQq/+8wr+P1JGdMWDWFadk0sNL3ifob/Q6FPDu9ySX2ip3tae6QGKZmHHMYOXtCy3TKyq2iIZ7VWsrIkYwu3aU0TAkVxG068YjS3+wAB+e1/sN0pLmKtqWLwHgjxu9bbjbkV10YX/+Bhv2WoBSKyVBcdGcX7oTjrfdfU4sJOTFP/+Sx12wPVJDsXPFUvc5Thl4mYIz77cgN2RQ5GRhoWV65OKY9UNblOOPyonD5MnCFTd+M+Q9eSNYonBJLmZqHGbBzBsYedJxWnk9jJZ6bd0K33kVoZAlWv8IC+K+f8l6hMkFJcOqxiyUBMU3Pv8rAKiYcKTguOXusyO/56q+LRJMigmRgCMIBgAUmseonYjTmgxniptCLoHt7uTo6SphxKQ6bHzwEex2wrGJ8Uif11aEQLFj2d+0RhQBD45SzAJiz9+wAPUDpGItIJOcpzRShUKWKX5UhWvPGS6a80v86O6zQi1Jqm9OBOu8HB+zxMHhu0gVKffxVZeIOWgJ6Gzj7k1hD/TY8Gx88BHsdtIJFfFIn0Mh3gA8KK4+8XsAgIu+uz9gqp9fdq2KPclfS0Ulo1NP4WtHWyOlgSJMQVB8kMBzIWvzLUIBDoSnl0SpFn18w+CQXzNFLygpHuntFY6AZBfqmUt/BMaAIycW8Pe3okchk0Sp81YBUPitSIVrBfTt6JP8mpSzpSsZlEs+fwduvmuuL9ZS/kYLk6age5XaeLgKHP1BUXAAwOY1JYyYmAeA2HUr+gqKf11ht9LkzLuRDQOYvWd8r9mK80jW469tn8DBxl/d4/UlFPa1+acgIhXI2UojAcoln7/DPqUToyh/uyRwI0S5Wapw6MQfIt2BEEPbzQqmm8gBendnOBwA+uUIlIBClnCHqrWtYlDr0Ov6FgpZFcPCIaCEJTZeeubvPMugqaDrlfgtizF+YgF14ye6ef7F9e/5thswdf/QYdxI6c5/ODO72m5WxPZha433BRRAfLAdBkWY0k4nUWrP3cA0MasfQBGmJFCCkPzgf/8Ll575OwCoGhStb5xYzuZmDvkxY+1u4e++i4GzDokcxo08lmZ6yTu/vxkAMH7OFTatyVcLhCyFILSj1X6+z6EAKoLtf172o5qlpwkVRk8GTBP7Xr6v92QvxhSZTDRKn2EYJJfM/Y37y5EWFAuMKs0WA46bJd8vZs6Fo9bxxvY3dwAAxnGm/Vb3/Pq1bm0IAEw+77x+A4X9pw3GU5f8yC0nFVejC0rcyG7dyJZ+E2hnOiPvfK5BSG6+4wwbEiA1KNp3ghuLWIDVNCwVHGniD6FlV1+OmdfcJMUhyW9YVBJOOOer/W4E6g9nzEfehNOQgGDQQH9cpANKGBz9CQr5+ZqkrrByRV17CQwGiJeRrAmK1TzlMABeclr72hfUdkwJB6elVPFH4CCKbpYjYmLSVy/x/t/XTZfbN4IVu/Gn8xYgH1h7Y0e7/f+0oBgmQWHc1H4JBSjFilvvQ6nI3bgnK1BEDYoLCeyfz1vu+DwumvtXlLA+FShu4zi5zUsQEpFuwsvOGtaNzenhgLMEtEr84ViQZVdf7nt6xtXfg2HmkWxBvPY/nJVQ7rFr4ftiBMpXmgpAFFo9fPF9vnY2QQlQXNfL+ciCoLg3XD+EQtSnr/7T8+7k7C3/bsU1p4/Dbicc2yvLO8ydcztMENTBhAHigmEkgGK5DRLEM2YOA8ftj/a1L8AoNNr1Ghl8uAIOlfT2JC27+nLse+3NWvsQYtQWDMU1K3TT4+MsysxL+y8UpR2bKvbxPFoCAwSccrQ+8igM08Cw2bNruk7jHb87D6AUX5rzMxggYM41JFkUf29ep7hAFMp0Oy0hg3MgaSTqFwqDx6mNYEnxx8vX+Cv1GAX2v+FmqFkQQLYirBS+Oq2O4kagVNeskMt1F33jvthtqZNdW2bAp+bXrsVNktJAAcCdGmDFHqz588tgFCgVOX760iZ859Qx7iI9w2bPrunyDgDAit34ypyfu6+bDihRFiU4++dV4BDDBSPLkSnt6sFA/MEoMO3SC9Kdu4qx08T+slvWpC7X/eT3T8YL8xZg89Zw2GvZ9ylJie7TpncA01S6R+TkSfHnd+99F985dQyQBzYvXAhiEgw96pM1q0Ex8gX89HfnApTiK3N+DgrupL6HW5Tw7u7i15uWUBQLIWYgTksoDB6bKv7Y8+ILfCNQ+cYRULcggLAitKfS7YlSEhTv3P0z3/Yjjj1GOz3e/sO2JDIkn/x+/4VC1IgAwIyzD1ACRFiRNQtEHALc8k+vEcTVp4+tWFnXBSUjixIVnwiLwsCRg+GzKJGAAMgcknzDULtISsO9Ku3cGjpfkR8wFGkASXKzkqB4+xc/ATGJ+whKhkTZ1QJcSPorFC/MWxBaI1INIMLNAuBztQD4PtveAuVLc34G5liUBc/8yb6OyPVBagBJvnG4XvxBS3aZaMh8hVUYBLV5EH8cAu6VngolQfHT037oPjf7yDzMvBEJCACMOOH4irSbOIl4xFU/gUKUDguvQ+RryaDsM3c/ENNKhCQMEEY5bvu3F7fEQQIEQKnhiFfz5CPcbaKjbyceIcSwU0sahlYNiW78QcvOyj+ZjD7ZaSccJoxcvb+VZggUW5+4133uM+eNTzw6pxScMnSt365drivG7eX/10qqUMiKSohkzH7fRKP2BPCPZrnHAsdV967FtaeOA/KAYRrglPsg2bJ4EQAblFqOeG1/8zEXkuQVpjK0JHVNI7XijzhXyKxrkkpw9dwscIpS946KEaitT8WPJsXKaX3EiiV0rd+uHY/UUmmgiFPQoux9ZrKbJVsQ+9x+N4s5NeIUHDecOr5i+emgsna77Guq7CSajH5GliTfMFRtw5D0kqjttGbTAchWBFIrzW3PPgBAr+ldxeWIM+RzqB/VjNZHHvVB0tslqUlQ9GxY7dal66qaFPuxx++Ddx562f2/acKFg4Fj2uQzcfcrBj4/869gYHbIHAKJbE1qMSMvrImlVO8dAklP2wblExMzV316SUC02OnEIelk1Tdjw6JfpN4/KGKa4JSiYfoswDQxqA8shgoUWSpds3zR4d19Bl/ddwRufWmjz9bL7lXQ1ZKVNShBt8tyrkAbkrqmke5EYuiJcvW+YVnd+CPt0l+qqmZOJKgBe8zst6NPKlAEhv5rImLmIjuZCSsybfKZ7nN3rzwGc6Y+GhmPBLVl8SIMPuxQwFlmodpmEmIfw12nTqVFn7tuhwFi5lBoHgPa3YZS5xbs+PdfYeTqYdY1IjdgMMxcwRltMH2jUH0vpyVplfXtA/aYiQFT90fj9ANh5AveyEpvt81kZfchWsa+9L3foXv1cnSve1PpeKIWnTPtNrxVSdwahkkQFggvmnUuWJGBKba23fb4E/aSzqJlrvy5yD8kGrI4LQFibkLDkth/G+7C8wM+NtnbJjAsq5yqohp/IDA0m1IjP3mOlpvVny3FilvvC62SVFGwzY9uLQqnZRA4vS5TfgYX7jsSCzv8z1FqQzL7xZ/GxiOytj3uLbPgG51COrfLcl0ZTUiIc+Z8w9DIuQpv+2zij6j5irRScbP6OxRBid5WOtq6w77phgxKl2KfZqg3qKjxEUrV4xGhrX9/HEOOPKxywR4x3+Fsp/LdWYDk7+tAArjxiJlviI0Zqok/4ibx0ssbzQqzIn0Jhe8qxaiKNOwYBgVgT7oJN+mdDQR7pThfWlBe/8MyTP38ASnOGDInYhqAZYIYBjizz/nofufimBdvV45HiEmiIQG0QHHfMmdlu6W+akwSiEei3Kg0mcCMld2HNO0KRkugpW60r34enWuXJh/IvoL4V4kBq3lIn8YUcVKZkZddK0oBpulpHfalib7/b95GsHEzQclpQZp1jDL2+H1Cn5/d+LD3H2ehJnE+3XhEQCJiklApLHPh+02ogCT5Kux/4iBRd2S9+CMGip3vvqJ2vER5wXph9B59G2grXa6d+TvtvJNDXxau1ap1QFmTELcZh6QyAzZsIVjXmj0oUfNN8tOFQ73lNDjz4hFOORhlbufL+PM4kIh0+7DPOiGQr7h7OSu7C7OkGdmq6J+VIr1dQLH91cfQ/uZz9rLCrOw+3E25XTGI0DEQdTWOntl3o09Idhfl2eIgJLJr9fxbDFt6KIqK4RkxTcD0NxwXdSeysgKFmDlnxt1/j8ijWbPrH8ShpfvBihw7t/jddhGPCKlAYr8pBdc8AhSLsXJlUM0ZXM8zxRyJfYh0o0z/vPQq3/8nfXZWZQQnLjfVbHqlCDFq5jolBdraC/VIkCyf76WIUApYBkGZAZ3BO1z1WhN227CFYHAjR11d+KhXFjJNIJcDPrLkNlAK/OuY8zBgqOXGI4tmnYtPPp9hPBJUID6xANvnlyFJO7IVhERZEcO7jHKsvOtfrokVOT9CW15+BMNmnqh3Lp+8YH3AiCnYmXKpsaCSoNj44CPglOPtpT046JrT9Bbqkcp1DZPA7iFsP7XvBIKX3rb/5pRKQ6/qt3ASW9s6CHbLcQSNVLVDvXKwbpq2ZTAM4KBFt4JSoKuLwDA4TANYBWDS/nUuJEnShgRwvzd7wjHkF0w7aLevxP7HcbeyGt6l1P51e+H2f+F7V7SDF7vtaytnN9te7cx60uTdhvvvQ+uDD6H1kUfdfcZOy1UsapkkOWifdt7JMJxfT9MErJwNCQDtz0a4Virhi3Cv5PT3sAV50ooY9vsRzSpyOaBRslymCby9tCddPCIF7Uqfd1wqedWQaMYfsnsVXO2oXAL+2rovAOB7V+3Exr88j9aFzyodN17pZ9bTQOE7s0nw7HcXaC0c6u3suVphkCy87S3t9wPYAT7jcB9hChtIeuXOZanOFybTtCEJA8XKea+liUd0IUn82awGkiwkRmeefcd7I9/52Z4YO+dkjD3jtMzOA9jtiJKUBMV799yLjfc/GAkFAF9F4thpObtar4rVdcMgGT9Kb+CizIAi5SgzGxLxCINlW0f1a0OGDfXKwbpQFCimCax5ucc39JsEiYhVEod/JSlFuFXNticePD695J9vUZQ5x4W//Ezs5F0WinKzkmKKcuc216UZesSH3dqH7f9KHpI2TALTBJbdvAAzLjmlqqBdpJukydpnHNjWw8CcEcGBlgmDAPIIoWVkt2iqbmlBWIq9YdiQjN9HLx7hlNsxyVFHJsZ/yndY2tl2ZUnxh3CvZlxyCmb0yox2ZbCeBAXtanefq+hZDABmDs0HzYwEhQR+JU0TWHHrfZh24adTB+32cyQVJGXG3VEwwB4Ji4MlaqGdJMVl9cqSllL37x8Cyruv9mDsPgXlfK3GaeMB07KHfxMqP5UAEaNc2pBoACTij2nn1aKbhxhfUdiSGBgwYgo61nkz9WFQVOwn/+oHGnwP/uisWKsydGwO299zbvSU5boG4FoRAYmO2kv29rKVELC0S2vACFgo0wNDVfJoFo15D8SAb/GgpHythinjKuZ8yu1bYQ0cEjuyFQlIMFs2EpKMNO3CT/dx7pNnRQgx0Th6JtpWPxcLRZTkBt8+SValuP49Z6LO/gybZ9ibdK58AQ1T90/dY0uGpFoJWOShXwHLjlZg39F+QrLI6tWRbE02vtGD3fao882PCEshQyFPUhIzB1a0y7qjIPF9hUnZsr70YWIAhmMq07paUvwhd6oA1KHwr59e7U0hrSdi5NDUciC2vbo49dHirIq8GFF5+1bffjvfWIoBe8xUhiQqHslKYVZlyjATlHKfm5VFVq+sKDcrKAHKxjd6sOdn9oqFIszs8XLJscIFNE8+DPJ9ZKl0DHTX6AMAwwRjZZiGBa3Z9jhxlpiQF72vzmy6ytJtIgLItuowzqpYQ4fbLlyH19Sua/Vy1LdMrypo7167MrPrnzjEcCbqxM1T6f68cucyu09WlVJ1s4SmnKYPRVBDps1G2A+sFQWFLPH/uqHjYeYKgGGClrttPDII2ru2rE7tRnVuXInGUXun2jdanrslp8xk0aM4zqpYQwquVaEdbTYkk2dUFbRXIw8KQAARPGw1vyHBBg5hirIi1UJBzByIZRfzDd3neER5H9Ybt9wEABh18ieA4KpLAXW1von6EZNtSIBMIekd6X+bvhlp6fPPFJYQq2IOMqV1mdMF7YVxU5XLboEgEEAYFFFAUKrPZNxQr2xFyiUOYmRjKWQNm3kSktxy7W+5a8NrqB+5p+typYZEmnCsH9qCri3ZdtzISuWtrTAbmyITJmttVUo7NiE3aHjqoL0werJS44Y9R3gjfVlaiTCpDvUCQMunpmUKBQCM+PDnFM+eAhAA6Fz7Epbf/hg+PO8imLlCOkgCte1moSl0PY0oVVdRmHh0t8EcAF9sUAFLL1gVXUiC8UjdyJZESFSsRG9o7DGVQADVQyGkAweQAhAjV4BRaMB+V/4XSu0bgYG7hUOiokBtexGIhSRq8q43JWDpbatS7twGC4P1g3ZA6Yaa8V+T8PIfVqW9XACiXkN/qDcMiorRsCpjKl0whNS/SdOE5fRDBeB+SaXOLUDDUDcuSSO5IV3JMMOXLAMqZrSbxs3KdKTJk9SBMUJ9YVXKndtgmcP0gnbY8UiSFQmrKkwj3aHecZ/a17uGjKyErLRgCMXfXaZpl6ImlKPS7jbQUnc62xxIkc/VN8PMFWAWmiITAhtHz8Sg8R8GMXIagwLpPqTdjpybuA3taAPdsc2Xhu8+AlWQ1YgYlnZ6PACfq1VxTKmqMJfB3J5uVi8xLffhZiT2EzgAwGJlDsMi4OUSzPpC6jQP2t0GotqcOqhAsZWZb7CfbxiKnu3vApSia/Vy7HbkXN/x7ebVQJrRKeVL04C+N6yKmNmvRTxiOYcppQjvRMWftmqQr5IFGELuWzLrB/ZtN4+AJTHzDTBzBdQ1j/HgcCwGIUTq7C5/K6r5RwxeXkCUvDqROCvisxbSo7x9K8pbNtXEqtCudl96fJKC6fFhlgTwUuVVLImoRxePYBGVkvo5HABgccYx+vQTq27Vn8XqtVGWRMCRjcXQr9cmxIis0EuqpCtt2QRQBk4p8qN2z8yq0K52iB60WU4iyi8FLYlc8Bl827rJi8TMuSsfZyJKMeLgM5AlHID4iqR3ltpSZBUsB4Z/gaCbU/157G4okHK4oiTNqEeB4Nz8T//mPfFfMAYUKTBxDHdT2YeMzYO8tRnEJBh80D7ZjIBVMYkY/rqXBWyaQLGn8nTu3wxgjOCl1iIsQmARUpG8WHNJF8RpGVnDAXBYjHKl5mRJUi6v1WxtCsN03aqsYg3OSra7pqEnfrkGSfU48nLNazqLmGTk7Co4t0bD/gLllPfmA/ZObVV04xEV2VnAdlOGMCvBGMEf32kN2xX70OEwUeOs3gooxN/Z1cQ7RwRnRVgZtLhNce6+TUlZ/+hPsfuxX3VS21USGPUUVsvdtrGM5t29m4UEYKkABVCyKrWAxD22A8S/mj6F15f/HIZYKjlm+8yzegM3fgUUtIwLrvg3AOCPz56VwQltMIT+P76qkmP2H3BFAAAAAElFTkSuQmCC\" id=\"imagecc5d0c95eb\" transform=\"matrix(1.37 0 0 1.37 576 6.8)\" style=\"image-rendering:crisp-edges;image-rendering:pixelated\" width=\"200\" height=\"200\"/>\n",
       "   </g>\n",
       "  </g>\n",
       " </g>\n",
       " <defs>\n",
       "  <clipPath id=\"pc5347324d4\">\n",
       "   <rect x=\"7.2\" y=\"7.2\" width=\"273.6\" height=\"273.6\"/>\n",
       "  </clipPath>\n",
       "  <clipPath id=\"pa1acdba3a3\">\n",
       "   <rect x=\"291.6\" y=\"7.2\" width=\"273.6\" height=\"273.6\"/>\n",
       "  </clipPath>\n",
       "  <clipPath id=\"p8da1515f8e\">\n",
       "   <rect x=\"576\" y=\"7.2\" width=\"273.6\" height=\"273.6\"/>\n",
       "  </clipPath>\n",
       " </defs>\n",
       "</svg>\n"
      ],
      "text/plain": [
       "<Figure size 864x576 with 3 Axes>"
      ]
     },
     "metadata": {
      "needs_background": "light"
     },
     "output_type": "display_data"
    }
   ],
   "source": [
    "fig, ax = plt.subplots(1, 3, figsize=[12, 8])\n",
    "\n",
    "im1 = ps.visualization.sem(im)\n",
    "ax[0].imshow(im1, cmap=plt.cm.hot_r)\n",
    "ax[0].axis(False)\n",
    "\n",
    "im2 = ps.visualization.sem(im, axis=1)\n",
    "ax[1].imshow(im2, cmap=plt.cm.bone)\n",
    "ax[1].axis(False)\n",
    "\n",
    "im2 = ps.visualization.sem(im, axis=2)\n",
    "ax[2].imshow(im2, cmap=plt.cm.twilight)\n",
    "ax[2].axis(False);"
   ]
  }
 ],
 "metadata": {
  "kernelspec": {
   "display_name": "Python 3 (ipykernel)",
   "language": "python",
   "name": "python3"
  },
  "language_info": {
   "codemirror_mode": {
    "name": "ipython",
    "version": 3
   },
   "file_extension": ".py",
   "mimetype": "text/x-python",
   "name": "python",
   "nbconvert_exporter": "python",
   "pygments_lexer": "ipython3",
   "version": "3.8.13"
  },
  "widgets": {
   "application/vnd.jupyter.widget-state+json": {
    "state": {
     "0a8f60ef48f44e7f818d4bdc45b977ce": {
      "model_module": "@jupyter-widgets/base",
      "model_module_version": "1.2.0",
      "model_name": "LayoutModel",
      "state": {
       "_model_module": "@jupyter-widgets/base",
       "_model_module_version": "1.2.0",
       "_model_name": "LayoutModel",
       "_view_count": null,
       "_view_module": "@jupyter-widgets/base",
       "_view_module_version": "1.2.0",
       "_view_name": "LayoutView",
       "align_content": null,
       "align_items": null,
       "align_self": null,
       "border": null,
       "bottom": null,
       "display": null,
       "flex": null,
       "flex_flow": null,
       "grid_area": null,
       "grid_auto_columns": null,
       "grid_auto_flow": null,
       "grid_auto_rows": null,
       "grid_column": null,
       "grid_gap": null,
       "grid_row": null,
       "grid_template_areas": null,
       "grid_template_columns": null,
       "grid_template_rows": null,
       "height": null,
       "justify_content": null,
       "justify_items": null,
       "left": null,
       "margin": null,
       "max_height": null,
       "max_width": null,
       "min_height": null,
       "min_width": null,
       "object_fit": null,
       "object_position": null,
       "order": null,
       "overflow": null,
       "overflow_x": null,
       "overflow_y": null,
       "padding": null,
       "right": null,
       "top": null,
       "visibility": null,
       "width": null
      }
     },
     "271063ca4a55412fa8871fc51300b3ba": {
      "model_module": "@jupyter-widgets/controls",
      "model_module_version": "1.5.0",
      "model_name": "FloatProgressModel",
      "state": {
       "_dom_classes": [],
       "_model_module": "@jupyter-widgets/controls",
       "_model_module_version": "1.5.0",
       "_model_name": "FloatProgressModel",
       "_view_count": null,
       "_view_module": "@jupyter-widgets/controls",
       "_view_module_version": "1.5.0",
       "_view_name": "ProgressView",
       "bar_style": "",
       "description": "",
       "description_tooltip": null,
       "layout": "IPY_MODEL_0a8f60ef48f44e7f818d4bdc45b977ce",
       "max": 3.0,
       "min": 0.0,
       "orientation": "horizontal",
       "style": "IPY_MODEL_7625a848b0db4c02aa17936cc8a3cb8d",
       "value": 3.0
      }
     },
     "2878f18bc33449ffb8aaff0be45d9526": {
      "model_module": "@jupyter-widgets/controls",
      "model_module_version": "1.5.0",
      "model_name": "HTMLModel",
      "state": {
       "_dom_classes": [],
       "_model_module": "@jupyter-widgets/controls",
       "_model_module_version": "1.5.0",
       "_model_name": "HTMLModel",
       "_view_count": null,
       "_view_module": "@jupyter-widgets/controls",
       "_view_module_version": "1.5.0",
       "_view_name": "HTMLView",
       "description": "",
       "description_tooltip": null,
       "layout": "IPY_MODEL_5e14d32314994889aae54ec82889a216",
       "placeholder": "​",
       "style": "IPY_MODEL_485c5aac1b5a4ab09f516db6145addb9",
       "value": " 3/3 [00:02&lt;00:00,  1.26it/s]"
      }
     },
     "485c5aac1b5a4ab09f516db6145addb9": {
      "model_module": "@jupyter-widgets/controls",
      "model_module_version": "1.5.0",
      "model_name": "DescriptionStyleModel",
      "state": {
       "_model_module": "@jupyter-widgets/controls",
       "_model_module_version": "1.5.0",
       "_model_name": "DescriptionStyleModel",
       "_view_count": null,
       "_view_module": "@jupyter-widgets/base",
       "_view_module_version": "1.2.0",
       "_view_name": "StyleView",
       "description_width": ""
      }
     },
     "57ca9c4562574aeb9086042f436fa2f6": {
      "model_module": "@jupyter-widgets/controls",
      "model_module_version": "1.5.0",
      "model_name": "HTMLModel",
      "state": {
       "_dom_classes": [],
       "_model_module": "@jupyter-widgets/controls",
       "_model_module_version": "1.5.0",
       "_model_name": "HTMLModel",
       "_view_count": null,
       "_view_module": "@jupyter-widgets/controls",
       "_view_module_version": "1.5.0",
       "_view_name": "HTMLView",
       "description": "",
       "description_tooltip": null,
       "layout": "IPY_MODEL_822a58dc046849ac8b98fc5449207293",
       "placeholder": "​",
       "style": "IPY_MODEL_a7671cb5fa3a49f2a3a5714fd93cffde",
       "value": "100%"
      }
     },
     "5e14d32314994889aae54ec82889a216": {
      "model_module": "@jupyter-widgets/base",
      "model_module_version": "1.2.0",
      "model_name": "LayoutModel",
      "state": {
       "_model_module": "@jupyter-widgets/base",
       "_model_module_version": "1.2.0",
       "_model_name": "LayoutModel",
       "_view_count": null,
       "_view_module": "@jupyter-widgets/base",
       "_view_module_version": "1.2.0",
       "_view_name": "LayoutView",
       "align_content": null,
       "align_items": null,
       "align_self": null,
       "border": null,
       "bottom": null,
       "display": null,
       "flex": null,
       "flex_flow": null,
       "grid_area": null,
       "grid_auto_columns": null,
       "grid_auto_flow": null,
       "grid_auto_rows": null,
       "grid_column": null,
       "grid_gap": null,
       "grid_row": null,
       "grid_template_areas": null,
       "grid_template_columns": null,
       "grid_template_rows": null,
       "height": null,
       "justify_content": null,
       "justify_items": null,
       "left": null,
       "margin": null,
       "max_height": null,
       "max_width": null,
       "min_height": null,
       "min_width": null,
       "object_fit": null,
       "object_position": null,
       "order": null,
       "overflow": null,
       "overflow_x": null,
       "overflow_y": null,
       "padding": null,
       "right": null,
       "top": null,
       "visibility": null,
       "width": null
      }
     },
     "7625a848b0db4c02aa17936cc8a3cb8d": {
      "model_module": "@jupyter-widgets/controls",
      "model_module_version": "1.5.0",
      "model_name": "ProgressStyleModel",
      "state": {
       "_model_module": "@jupyter-widgets/controls",
       "_model_module_version": "1.5.0",
       "_model_name": "ProgressStyleModel",
       "_view_count": null,
       "_view_module": "@jupyter-widgets/base",
       "_view_module_version": "1.2.0",
       "_view_name": "StyleView",
       "bar_color": null,
       "description_width": ""
      }
     },
     "822a58dc046849ac8b98fc5449207293": {
      "model_module": "@jupyter-widgets/base",
      "model_module_version": "1.2.0",
      "model_name": "LayoutModel",
      "state": {
       "_model_module": "@jupyter-widgets/base",
       "_model_module_version": "1.2.0",
       "_model_name": "LayoutModel",
       "_view_count": null,
       "_view_module": "@jupyter-widgets/base",
       "_view_module_version": "1.2.0",
       "_view_name": "LayoutView",
       "align_content": null,
       "align_items": null,
       "align_self": null,
       "border": null,
       "bottom": null,
       "display": null,
       "flex": null,
       "flex_flow": null,
       "grid_area": null,
       "grid_auto_columns": null,
       "grid_auto_flow": null,
       "grid_auto_rows": null,
       "grid_column": null,
       "grid_gap": null,
       "grid_row": null,
       "grid_template_areas": null,
       "grid_template_columns": null,
       "grid_template_rows": null,
       "height": null,
       "justify_content": null,
       "justify_items": null,
       "left": null,
       "margin": null,
       "max_height": null,
       "max_width": null,
       "min_height": null,
       "min_width": null,
       "object_fit": null,
       "object_position": null,
       "order": null,
       "overflow": null,
       "overflow_x": null,
       "overflow_y": null,
       "padding": null,
       "right": null,
       "top": null,
       "visibility": null,
       "width": null
      }
     },
     "9b15352a879441daa6a69adef0aca422": {
      "model_module": "@jupyter-widgets/controls",
      "model_module_version": "1.5.0",
      "model_name": "HBoxModel",
      "state": {
       "_dom_classes": [],
       "_model_module": "@jupyter-widgets/controls",
       "_model_module_version": "1.5.0",
       "_model_name": "HBoxModel",
       "_view_count": null,
       "_view_module": "@jupyter-widgets/controls",
       "_view_module_version": "1.5.0",
       "_view_name": "HBoxView",
       "box_style": "",
       "children": [
        "IPY_MODEL_57ca9c4562574aeb9086042f436fa2f6",
        "IPY_MODEL_271063ca4a55412fa8871fc51300b3ba",
        "IPY_MODEL_2878f18bc33449ffb8aaff0be45d9526"
       ],
       "layout": "IPY_MODEL_9b6c2141d2324153a229a90d0a7dddfa"
      }
     },
     "9b6c2141d2324153a229a90d0a7dddfa": {
      "model_module": "@jupyter-widgets/base",
      "model_module_version": "1.2.0",
      "model_name": "LayoutModel",
      "state": {
       "_model_module": "@jupyter-widgets/base",
       "_model_module_version": "1.2.0",
       "_model_name": "LayoutModel",
       "_view_count": null,
       "_view_module": "@jupyter-widgets/base",
       "_view_module_version": "1.2.0",
       "_view_name": "LayoutView",
       "align_content": null,
       "align_items": null,
       "align_self": null,
       "border": null,
       "bottom": null,
       "display": null,
       "flex": null,
       "flex_flow": null,
       "grid_area": null,
       "grid_auto_columns": null,
       "grid_auto_flow": null,
       "grid_auto_rows": null,
       "grid_column": null,
       "grid_gap": null,
       "grid_row": null,
       "grid_template_areas": null,
       "grid_template_columns": null,
       "grid_template_rows": null,
       "height": null,
       "justify_content": null,
       "justify_items": null,
       "left": null,
       "margin": null,
       "max_height": null,
       "max_width": null,
       "min_height": null,
       "min_width": null,
       "object_fit": null,
       "object_position": null,
       "order": null,
       "overflow": null,
       "overflow_x": null,
       "overflow_y": null,
       "padding": null,
       "right": null,
       "top": null,
       "visibility": null,
       "width": null
      }
     },
     "a7671cb5fa3a49f2a3a5714fd93cffde": {
      "model_module": "@jupyter-widgets/controls",
      "model_module_version": "1.5.0",
      "model_name": "DescriptionStyleModel",
      "state": {
       "_model_module": "@jupyter-widgets/controls",
       "_model_module_version": "1.5.0",
       "_model_name": "DescriptionStyleModel",
       "_view_count": null,
       "_view_module": "@jupyter-widgets/base",
       "_view_module_version": "1.2.0",
       "_view_name": "StyleView",
       "description_width": ""
      }
     }
    },
    "version_major": 2,
    "version_minor": 0
   }
  }
 },
 "nbformat": 4,
 "nbformat_minor": 5
}

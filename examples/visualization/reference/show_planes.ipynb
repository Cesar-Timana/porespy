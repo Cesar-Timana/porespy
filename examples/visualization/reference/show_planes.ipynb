{
 "cells": [
  {
   "cell_type": "markdown",
   "id": "4a972029",
   "metadata": {},
   "source": [
    "#  `show_planes` "
   ]
  },
  {
   "cell_type": "markdown",
   "id": "103a1704",
   "metadata": {},
   "source": [
    "Create a quick montage showing a 3D image in all three directions."
   ]
  },
  {
   "cell_type": "code",
   "execution_count": 1,
   "id": "dcf63949",
   "metadata": {
    "execution": {
     "iopub.execute_input": "2022-08-23T00:38:52.100203Z",
     "iopub.status.busy": "2022-08-23T00:38:52.099756Z",
     "iopub.status.idle": "2022-08-23T00:38:54.026250Z",
     "shell.execute_reply": "2022-08-23T00:38:54.025608Z"
    }
   },
   "outputs": [
    {
     "data": {
      "text/plain": [
       "<Signature (im, spacing=10)>"
      ]
     },
     "execution_count": 1,
     "metadata": {},
     "output_type": "execute_result"
    }
   ],
   "source": [
    "import matplotlib.pyplot as plt\n",
    "import numpy as np\n",
    "import porespy as ps\n",
    "import inspect\n",
    "ps.visualization.set_mpl_style()\n",
    "inspect.signature(ps.visualization.show_planes)"
   ]
  },
  {
   "cell_type": "markdown",
   "id": "c1d0fe72",
   "metadata": {},
   "source": [
    "## `im`\n",
    "The input image is 3D array to be veiwed in three directions. Note that the method does not work for 2D arrays as input.\n",
    "Note that the upper left image shows the xy plane at z=(image length in z dir/2). The lower left image shows the xz plane at y=(image length in y dir/2). The upper right image shows the yz plane at x=(image length in x dir/2)."
   ]
  },
  {
   "cell_type": "code",
   "execution_count": 2,
   "id": "7d20e730",
   "metadata": {
    "execution": {
     "iopub.execute_input": "2022-08-23T00:38:54.031429Z",
     "iopub.status.busy": "2022-08-23T00:38:54.029952Z",
     "iopub.status.idle": "2022-08-23T00:38:54.115468Z",
     "shell.execute_reply": "2022-08-23T00:38:54.114897Z"
    }
   },
   "outputs": [
    {
     "data": {
      "image/svg+xml": [
       "<?xml version=\"1.0\" encoding=\"utf-8\" standalone=\"no\"?>\n",
       "<!DOCTYPE svg PUBLIC \"-//W3C//DTD SVG 1.1//EN\"\n",
       "  \"http://www.w3.org/Graphics/SVG/1.1/DTD/svg11.dtd\">\n",
       "<svg xmlns:xlink=\"http://www.w3.org/1999/xlink\" width=\"564.48pt\" height=\"564.48pt\" viewBox=\"0 0 564.48 564.48\" xmlns=\"http://www.w3.org/2000/svg\" version=\"1.1\">\n",
       " <metadata>\n",
       "  <rdf:RDF xmlns:dc=\"http://purl.org/dc/elements/1.1/\" xmlns:cc=\"http://creativecommons.org/ns#\" xmlns:rdf=\"http://www.w3.org/1999/02/22-rdf-syntax-ns#\">\n",
       "   <cc:Work>\n",
       "    <dc:type rdf:resource=\"http://purl.org/dc/dcmitype/StillImage\"/>\n",
       "    <dc:date>2022-08-23T00:38:54.104359</dc:date>\n",
       "    <dc:format>image/svg+xml</dc:format>\n",
       "    <dc:creator>\n",
       "     <cc:Agent>\n",
       "      <dc:title>Matplotlib v3.5.3, https://matplotlib.org/</dc:title>\n",
       "     </cc:Agent>\n",
       "    </dc:creator>\n",
       "   </cc:Work>\n",
       "  </rdf:RDF>\n",
       " </metadata>\n",
       " <defs>\n",
       "  <style type=\"text/css\">*{stroke-linejoin: round; stroke-linecap: butt}</style>\n",
       " </defs>\n",
       " <g id=\"figure_1\">\n",
       "  <g id=\"patch_1\">\n",
       "   <path d=\"M 0 564.48 \n",
       "L 564.48 564.48 \n",
       "L 564.48 0 \n",
       "L 0 0 \n",
       "z\n",
       "\" style=\"fill: #ffffff\"/>\n",
       "  </g>\n",
       "  <g id=\"axes_1\">\n",
       "   <g clip-path=\"url(#p0cac2c8a64)\">\n",
       "    <image xlink:href=\"data:image/png;base64,\n",
       "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\" id=\"imagea7cada5572\" transform=\"matrix(5.009091 0 0 5.009091 7.2 6.28)\" style=\"image-rendering:crisp-edges;image-rendering:pixelated\" width=\"110\" height=\"110\"/>\n",
       "   </g>\n",
       "  </g>\n",
       " </g>\n",
       " <defs>\n",
       "  <clipPath id=\"p0cac2c8a64\">\n",
       "   <rect x=\"7.2\" y=\"7.2\" width=\"550.08\" height=\"550.08\"/>\n",
       "  </clipPath>\n",
       " </defs>\n",
       "</svg>\n"
      ],
      "text/plain": [
       "<Figure size 800x800 with 1 Axes>"
      ]
     },
     "metadata": {},
     "output_type": "display_data"
    }
   ],
   "source": [
    "im = ps.generators.blobs(shape=[40, 40, 40])\n",
    "planes = ps.visualization.show_planes(im)\n",
    "fig, ax = plt.subplots(1, 1, figsize=[8, 8])\n",
    "ax.imshow(planes)\n",
    "ax.axis(False);"
   ]
  },
  {
   "cell_type": "markdown",
   "id": "3339e6b5",
   "metadata": {},
   "source": [
    "## `spacing`"
   ]
  },
  {
   "cell_type": "markdown",
   "id": "7fdafe1f",
   "metadata": {},
   "source": [
    "This parameter defines the amount of space to put between each plane. The default spacing is 10."
   ]
  },
  {
   "cell_type": "code",
   "execution_count": 3,
   "id": "c9d58846",
   "metadata": {
    "execution": {
     "iopub.execute_input": "2022-08-23T00:38:54.119974Z",
     "iopub.status.busy": "2022-08-23T00:38:54.118871Z",
     "iopub.status.idle": "2022-08-23T00:38:54.215015Z",
     "shell.execute_reply": "2022-08-23T00:38:54.214488Z"
    }
   },
   "outputs": [
    {
     "data": {
      "image/svg+xml": [
       "<?xml version=\"1.0\" encoding=\"utf-8\" standalone=\"no\"?>\n",
       "<!DOCTYPE svg PUBLIC \"-//W3C//DTD SVG 1.1//EN\"\n",
       "  \"http://www.w3.org/Graphics/SVG/1.1/DTD/svg11.dtd\">\n",
       "<svg xmlns:xlink=\"http://www.w3.org/1999/xlink\" width=\"564.48pt\" height=\"564.48pt\" viewBox=\"0 0 564.48 564.48\" xmlns=\"http://www.w3.org/2000/svg\" version=\"1.1\">\n",
       " <metadata>\n",
       "  <rdf:RDF xmlns:dc=\"http://purl.org/dc/elements/1.1/\" xmlns:cc=\"http://creativecommons.org/ns#\" xmlns:rdf=\"http://www.w3.org/1999/02/22-rdf-syntax-ns#\">\n",
       "   <cc:Work>\n",
       "    <dc:type rdf:resource=\"http://purl.org/dc/dcmitype/StillImage\"/>\n",
       "    <dc:date>2022-08-23T00:38:54.202883</dc:date>\n",
       "    <dc:format>image/svg+xml</dc:format>\n",
       "    <dc:creator>\n",
       "     <cc:Agent>\n",
       "      <dc:title>Matplotlib v3.5.3, https://matplotlib.org/</dc:title>\n",
       "     </cc:Agent>\n",
       "    </dc:creator>\n",
       "   </cc:Work>\n",
       "  </rdf:RDF>\n",
       " </metadata>\n",
       " <defs>\n",
       "  <style type=\"text/css\">*{stroke-linejoin: round; stroke-linecap: butt}</style>\n",
       " </defs>\n",
       " <g id=\"figure_1\">\n",
       "  <g id=\"patch_1\">\n",
       "   <path d=\"M 0 564.48 \n",
       "L 564.48 564.48 \n",
       "L 564.48 0 \n",
       "L 0 0 \n",
       "z\n",
       "\" style=\"fill: #ffffff\"/>\n",
       "  </g>\n",
       "  <g id=\"axes_1\">\n",
       "   <g clip-path=\"url(#p6febda5116)\">\n",
       "    <image xlink:href=\"data:image/png;base64,\n",
       "iVBORw0KGgoAAAANSUhEUgAAAFYAAABWCAYAAABVVmH3AAAFnUlEQVR4nO1c7XFjIQzEGVeRKlLEzbiBazZdpIq0cffr3WBZWu0KiI3P+8t+CNATQl9gn36dfv9pL0zH270ZeFac+y+f31+Q+PL+cfW9p7dtPY3Xls2Vze2NhWhYeu+dove04/TverZEDEMsEL3HdBWsQDN6VbFQ+zkm4+FpsreyHr26C1Tt9JCNYZ9X5qJs7OX9Q95miKFMk+18M7Sa4YN9z8/vr5QnV2OZlfQG9p5d3j8gbUUbIk0e0WIEdmFdG3svIDOB+lTMREXzq76nHG4dzDMvoWjS0e/YbtGLzTIPdpx+zn6hFHPY2mAcG23ziJYFo8VM+JU9QzSVhZOign7VFO1BwmDDGuXlbB9mx7AOsmK/ocZWV1BhgrWpzDM0PpMM2DCwf8ZEAn27q7Ezwxs2Lq2OjRbGi0cVD3/06fuhuLvH9KgAbeOICbslmZevhlbeXIzpUc3JjWCVVWUmno3ZTrBKl/Hh2lg1tEAYEYTaT7GBrd2m1kqkYXeWbb/R2H5rVLX36Ot9XhGeRXx681q7zNQFKjJwNTZiMlvRlbYxmnPFuP34ivPt2+lwCw2OmPHgeVZvqzG8qYE/qxw2CsgyTfv8HDUcz7ISIGLSetvVDs6ahCgyqRSTVFAp7ehEPxUxsHNXtD3LzCzeUCOTebGedFaV37Yz40b+QeXJK8pEY1xpLGPXRhjMKlYqRnfC7AyzH0+ubkXx3MzYdwYYfir8stlZmNKOxK8zHEK1mK2ERKj/SLLRWmun48KGR5itzozkwb50NW6MgBZCDQuzfjCOVbYQu5XUTMciEuaIvVbjXxWhja1kXwjVuivqqyiBdZyKw2X56QETBG8SZAIi+4TqpisqaZWK/zEuk1QwPJyUS3GsR2Q1b7S2gEwE4kmhVfjpIYVbaOtZxhmtYmltv9EU2ROykqoz8fjN3S21XIeYYhZhRbp8bGlbAs3mRPY0MoOR2bnRWPvSbLVqxBmsBPMObFrM0rYG6rFqGW8U/eKsTlVV01MZiz5MRLHoTGTzsLY7g1fWVIF4SQU7S4hqxjRTq9jxPRvK0lksP0xcDUWonv9oTTdDUawLq1uVLZ/Z45lpJ+OIstiXdcZsEch7diXY0XTVhjj9pB5zCFHlHmVASsWruivZOeSUlpmEgRf/RakjSxvFraO8WkSa3D+nbxtGbSuEeyCze6MmJhs32+4I8MxLRba92Lzf0rKZ2qoFYGn6z1IR5gUer18mLkL4AzrmKMMWKCJapVwYZUO7xNUH3GucM7GbQGbhSrBIW2Zo0E9Xtu6JG+eFaqtMyKEcwzA5d0+7E6SbMEy6qApgN4GxkJxXhsrpw6zxHg1Dtw2ZgoYdw9P6St310THlilFmAtjTWJRh7SboMNxS7gZYOjueV0hRC9+7Yai6pbSPavRuuEtK+4yCtHCPv9UXR+W9/0GIHmBKyzqdavvoKekjA5qCkfpqj34XjF4P2gWlHykrWx6FUM+oqQfczGuGlmZ9sntSx/ddhZ9GBUqRRMmgssXb3VTAewVM3FrNkEYX7NEh2dgZ9wUQ3TNlY1KC4F2iUEKmSoy8K/4Jlt1y1ZrtzKuVO+DqBEHZiuxpAotnE6wcbrFQtzw6EtoRV6ZAxa4v/RO4OaW1Doa5EzCSpqILZt7txV1ARwWeR0ffGWfItu8YScC7W6wnZy+09e3oRh+aaxdM/8fj1jQBRReMd0daNkTfs7uzXh871m6ayCK9H8vEs9V8vu+Dijg7Cl8Ot0YEWBXQjmaCKsLYbV2pk1YytB019cCVKegdCVO9QtuUTYkj7CzU1oI/jURgnVIGa1/R3DsKGZoC9Zb3iAB2tKMIdOa1UmueTaitiSntDBoGO259CzmlZbz76DV6LxHZTdjS30Oh5zOwazLgATqvzFurGs3M9Sx4/TJxEV6/TFyEv6ZF8LDhH8hdAAAAAElFTkSuQmCC\" id=\"imagec5998605f1\" transform=\"matrix(6.406977 0 0 6.406977 7.2 6.28)\" style=\"image-rendering:crisp-edges;image-rendering:pixelated\" width=\"86\" height=\"86\"/>\n",
       "   </g>\n",
       "  </g>\n",
       " </g>\n",
       " <defs>\n",
       "  <clipPath id=\"p6febda5116\">\n",
       "   <rect x=\"7.2\" y=\"7.2\" width=\"550.08\" height=\"550.08\"/>\n",
       "  </clipPath>\n",
       " </defs>\n",
       "</svg>\n"
      ],
      "text/plain": [
       "<Figure size 800x800 with 1 Axes>"
      ]
     },
     "metadata": {},
     "output_type": "display_data"
    }
   ],
   "source": [
    "planes = ps.visualization.show_planes(im, spacing = 2)\n",
    "fig, ax = plt.subplots(1, 1, figsize=[8, 8])\n",
    "ax.imshow(planes)\n",
    "ax.axis(False);"
   ]
  }
 ],
 "metadata": {
  "kernelspec": {
   "display_name": "Python 3 (ipykernel)",
   "language": "python",
   "name": "python3"
  },
  "language_info": {
   "codemirror_mode": {
    "name": "ipython",
    "version": 3
   },
   "file_extension": ".py",
   "mimetype": "text/x-python",
   "name": "python",
   "nbconvert_exporter": "python",
   "pygments_lexer": "ipython3",
   "version": "3.8.13"
  }
 },
 "nbformat": 4,
 "nbformat_minor": 5
}

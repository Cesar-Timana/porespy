{
 "cells": [
  {
   "cell_type": "markdown",
   "id": "4a972029",
   "metadata": {},
   "source": [
    "#  `show_planes` "
   ]
  },
  {
   "cell_type": "markdown",
   "id": "103a1704",
   "metadata": {},
   "source": [
    "Create a quick montage showing a 3D image in all three directions."
   ]
  },
  {
   "cell_type": "code",
   "execution_count": 1,
   "id": "dcf63949",
   "metadata": {
    "execution": {
     "iopub.execute_input": "2022-08-23T01:44:27.181235Z",
     "iopub.status.busy": "2022-08-23T01:44:27.180983Z",
     "iopub.status.idle": "2022-08-23T01:44:28.976632Z",
     "shell.execute_reply": "2022-08-23T01:44:28.975809Z"
    }
   },
   "outputs": [
    {
     "data": {
      "text/plain": [
       "<Signature (im, spacing=10)>"
      ]
     },
     "execution_count": 1,
     "metadata": {},
     "output_type": "execute_result"
    }
   ],
   "source": [
    "import matplotlib.pyplot as plt\n",
    "import numpy as np\n",
    "import porespy as ps\n",
    "import inspect\n",
    "ps.visualization.set_mpl_style()\n",
    "inspect.signature(ps.visualization.show_planes)"
   ]
  },
  {
   "cell_type": "markdown",
   "id": "c1d0fe72",
   "metadata": {},
   "source": [
    "## `im`\n",
    "The input image is 3D array to be veiwed in three directions. Note that the method does not work for 2D arrays as input.\n",
    "Note that the upper left image shows the xy plane at z=(image length in z dir/2). The lower left image shows the xz plane at y=(image length in y dir/2). The upper right image shows the yz plane at x=(image length in x dir/2)."
   ]
  },
  {
   "cell_type": "code",
   "execution_count": 2,
   "id": "7d20e730",
   "metadata": {
    "execution": {
     "iopub.execute_input": "2022-08-23T01:44:28.981096Z",
     "iopub.status.busy": "2022-08-23T01:44:28.980310Z",
     "iopub.status.idle": "2022-08-23T01:44:29.101964Z",
     "shell.execute_reply": "2022-08-23T01:44:29.101410Z"
    }
   },
   "outputs": [
    {
     "data": {
      "image/svg+xml": [
       "<?xml version=\"1.0\" encoding=\"utf-8\" standalone=\"no\"?>\n",
       "<!DOCTYPE svg PUBLIC \"-//W3C//DTD SVG 1.1//EN\"\n",
       "  \"http://www.w3.org/Graphics/SVG/1.1/DTD/svg11.dtd\">\n",
       "<svg xmlns:xlink=\"http://www.w3.org/1999/xlink\" width=\"564.48pt\" height=\"564.48pt\" viewBox=\"0 0 564.48 564.48\" xmlns=\"http://www.w3.org/2000/svg\" version=\"1.1\">\n",
       " <metadata>\n",
       "  <rdf:RDF xmlns:dc=\"http://purl.org/dc/elements/1.1/\" xmlns:cc=\"http://creativecommons.org/ns#\" xmlns:rdf=\"http://www.w3.org/1999/02/22-rdf-syntax-ns#\">\n",
       "   <cc:Work>\n",
       "    <dc:type rdf:resource=\"http://purl.org/dc/dcmitype/StillImage\"/>\n",
       "    <dc:date>2022-08-23T01:44:29.082887</dc:date>\n",
       "    <dc:format>image/svg+xml</dc:format>\n",
       "    <dc:creator>\n",
       "     <cc:Agent>\n",
       "      <dc:title>Matplotlib v3.5.3, https://matplotlib.org/</dc:title>\n",
       "     </cc:Agent>\n",
       "    </dc:creator>\n",
       "   </cc:Work>\n",
       "  </rdf:RDF>\n",
       " </metadata>\n",
       " <defs>\n",
       "  <style type=\"text/css\">*{stroke-linejoin: round; stroke-linecap: butt}</style>\n",
       " </defs>\n",
       " <g id=\"figure_1\">\n",
       "  <g id=\"patch_1\">\n",
       "   <path d=\"M 0 564.48 \n",
       "L 564.48 564.48 \n",
       "L 564.48 0 \n",
       "L 0 0 \n",
       "z\n",
       "\" style=\"fill: #ffffff\"/>\n",
       "  </g>\n",
       "  <g id=\"axes_1\">\n",
       "   <g clip-path=\"url(#p35b4c31ad0)\">\n",
       "    <image xlink:href=\"data:image/png;base64,\n",
       "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\" id=\"imageeb7eb1647b\" transform=\"matrix(5.009091 0 0 5.009091 7.2 6.28)\" style=\"image-rendering:crisp-edges;image-rendering:pixelated\" width=\"110\" height=\"110\"/>\n",
       "   </g>\n",
       "  </g>\n",
       " </g>\n",
       " <defs>\n",
       "  <clipPath id=\"p35b4c31ad0\">\n",
       "   <rect x=\"7.2\" y=\"7.2\" width=\"550.08\" height=\"550.08\"/>\n",
       "  </clipPath>\n",
       " </defs>\n",
       "</svg>\n"
      ],
      "text/plain": [
       "<Figure size 800x800 with 1 Axes>"
      ]
     },
     "metadata": {},
     "output_type": "display_data"
    }
   ],
   "source": [
    "im = ps.generators.blobs(shape=[40, 40, 40])\n",
    "planes = ps.visualization.show_planes(im)\n",
    "fig, ax = plt.subplots(1, 1, figsize=[8, 8])\n",
    "ax.imshow(planes)\n",
    "ax.axis(False);"
   ]
  },
  {
   "cell_type": "markdown",
   "id": "3339e6b5",
   "metadata": {},
   "source": [
    "## `spacing`"
   ]
  },
  {
   "cell_type": "markdown",
   "id": "7fdafe1f",
   "metadata": {},
   "source": [
    "This parameter defines the amount of space to put between each plane. The default spacing is 10."
   ]
  },
  {
   "cell_type": "code",
   "execution_count": 3,
   "id": "c9d58846",
   "metadata": {
    "execution": {
     "iopub.execute_input": "2022-08-23T01:44:29.105280Z",
     "iopub.status.busy": "2022-08-23T01:44:29.104927Z",
     "iopub.status.idle": "2022-08-23T01:44:29.209354Z",
     "shell.execute_reply": "2022-08-23T01:44:29.208763Z"
    }
   },
   "outputs": [
    {
     "data": {
      "image/svg+xml": [
       "<?xml version=\"1.0\" encoding=\"utf-8\" standalone=\"no\"?>\n",
       "<!DOCTYPE svg PUBLIC \"-//W3C//DTD SVG 1.1//EN\"\n",
       "  \"http://www.w3.org/Graphics/SVG/1.1/DTD/svg11.dtd\">\n",
       "<svg xmlns:xlink=\"http://www.w3.org/1999/xlink\" width=\"564.48pt\" height=\"564.48pt\" viewBox=\"0 0 564.48 564.48\" xmlns=\"http://www.w3.org/2000/svg\" version=\"1.1\">\n",
       " <metadata>\n",
       "  <rdf:RDF xmlns:dc=\"http://purl.org/dc/elements/1.1/\" xmlns:cc=\"http://creativecommons.org/ns#\" xmlns:rdf=\"http://www.w3.org/1999/02/22-rdf-syntax-ns#\">\n",
       "   <cc:Work>\n",
       "    <dc:type rdf:resource=\"http://purl.org/dc/dcmitype/StillImage\"/>\n",
       "    <dc:date>2022-08-23T01:44:29.198377</dc:date>\n",
       "    <dc:format>image/svg+xml</dc:format>\n",
       "    <dc:creator>\n",
       "     <cc:Agent>\n",
       "      <dc:title>Matplotlib v3.5.3, https://matplotlib.org/</dc:title>\n",
       "     </cc:Agent>\n",
       "    </dc:creator>\n",
       "   </cc:Work>\n",
       "  </rdf:RDF>\n",
       " </metadata>\n",
       " <defs>\n",
       "  <style type=\"text/css\">*{stroke-linejoin: round; stroke-linecap: butt}</style>\n",
       " </defs>\n",
       " <g id=\"figure_1\">\n",
       "  <g id=\"patch_1\">\n",
       "   <path d=\"M 0 564.48 \n",
       "L 564.48 564.48 \n",
       "L 564.48 0 \n",
       "L 0 0 \n",
       "z\n",
       "\" style=\"fill: #ffffff\"/>\n",
       "  </g>\n",
       "  <g id=\"axes_1\">\n",
       "   <g clip-path=\"url(#p4169e90170)\">\n",
       "    <image xlink:href=\"data:image/png;base64,\n",
       "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\" id=\"image45a9068a83\" transform=\"matrix(6.406977 0 0 6.406977 7.2 6.28)\" style=\"image-rendering:crisp-edges;image-rendering:pixelated\" width=\"86\" height=\"86\"/>\n",
       "   </g>\n",
       "  </g>\n",
       " </g>\n",
       " <defs>\n",
       "  <clipPath id=\"p4169e90170\">\n",
       "   <rect x=\"7.2\" y=\"7.2\" width=\"550.08\" height=\"550.08\"/>\n",
       "  </clipPath>\n",
       " </defs>\n",
       "</svg>\n"
      ],
      "text/plain": [
       "<Figure size 800x800 with 1 Axes>"
      ]
     },
     "metadata": {},
     "output_type": "display_data"
    }
   ],
   "source": [
    "planes = ps.visualization.show_planes(im, spacing = 2)\n",
    "fig, ax = plt.subplots(1, 1, figsize=[8, 8])\n",
    "ax.imshow(planes)\n",
    "ax.axis(False);"
   ]
  }
 ],
 "metadata": {
  "kernelspec": {
   "display_name": "Python 3 (ipykernel)",
   "language": "python",
   "name": "python3"
  },
  "language_info": {
   "codemirror_mode": {
    "name": "ipython",
    "version": 3
   },
   "file_extension": ".py",
   "mimetype": "text/x-python",
   "name": "python",
   "nbconvert_exporter": "python",
   "pygments_lexer": "ipython3",
   "version": "3.8.13"
  }
 },
 "nbformat": 4,
 "nbformat_minor": 5
}

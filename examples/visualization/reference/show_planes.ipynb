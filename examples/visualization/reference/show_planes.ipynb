{
 "cells": [
  {
   "cell_type": "markdown",
   "id": "4a972029",
   "metadata": {},
   "source": [
    "#  `show_planes` "
   ]
  },
  {
   "cell_type": "markdown",
   "id": "103a1704",
   "metadata": {},
   "source": [
    "Create a quick montage showing a 3D image in all three directions."
   ]
  },
  {
   "cell_type": "code",
   "execution_count": 1,
   "id": "dcf63949",
   "metadata": {
    "execution": {
     "iopub.execute_input": "2022-08-12T21:34:33.623690Z",
     "iopub.status.busy": "2022-08-12T21:34:33.623160Z",
     "iopub.status.idle": "2022-08-12T21:34:35.469834Z",
     "shell.execute_reply": "2022-08-12T21:34:35.469154Z"
    }
   },
   "outputs": [
    {
     "data": {
      "text/plain": [
       "<Signature (im, spacing=10)>"
      ]
     },
     "execution_count": 1,
     "metadata": {},
     "output_type": "execute_result"
    }
   ],
   "source": [
    "import matplotlib.pyplot as plt\n",
    "import numpy as np\n",
    "import porespy as ps\n",
    "import inspect\n",
    "ps.visualization.set_mpl_style()\n",
    "inspect.signature(ps.visualization.show_planes)"
   ]
  },
  {
   "cell_type": "markdown",
   "id": "c1d0fe72",
   "metadata": {},
   "source": [
    "## `im`\n",
    "The input image is 3D array to be veiwed in three directions. Note that the method does not work for 2D arrays as input.\n",
    "Note that the upper left image shows the xy plane at z=(image length in z dir/2). The lower left image shows the xz plane at y=(image length in y dir/2). The upper right image shows the yz plane at x=(image length in x dir/2)."
   ]
  },
  {
   "cell_type": "code",
   "execution_count": 2,
   "id": "7d20e730",
   "metadata": {
    "execution": {
     "iopub.execute_input": "2022-08-12T21:34:35.473794Z",
     "iopub.status.busy": "2022-08-12T21:34:35.472905Z",
     "iopub.status.idle": "2022-08-12T21:34:35.592619Z",
     "shell.execute_reply": "2022-08-12T21:34:35.591930Z"
    }
   },
   "outputs": [
    {
     "data": {
      "image/svg+xml": [
       "<?xml version=\"1.0\" encoding=\"utf-8\" standalone=\"no\"?>\n",
       "<!DOCTYPE svg PUBLIC \"-//W3C//DTD SVG 1.1//EN\"\n",
       "  \"http://www.w3.org/Graphics/SVG/1.1/DTD/svg11.dtd\">\n",
       "<svg xmlns:xlink=\"http://www.w3.org/1999/xlink\" width=\"568.8pt\" height=\"568.8pt\" viewBox=\"0 0 568.8 568.8\" xmlns=\"http://www.w3.org/2000/svg\" version=\"1.1\">\n",
       " <metadata>\n",
       "  <rdf:RDF xmlns:dc=\"http://purl.org/dc/elements/1.1/\" xmlns:cc=\"http://creativecommons.org/ns#\" xmlns:rdf=\"http://www.w3.org/1999/02/22-rdf-syntax-ns#\">\n",
       "   <cc:Work>\n",
       "    <dc:type rdf:resource=\"http://purl.org/dc/dcmitype/StillImage\"/>\n",
       "    <dc:date>2022-08-12T21:34:35.567352</dc:date>\n",
       "    <dc:format>image/svg+xml</dc:format>\n",
       "    <dc:creator>\n",
       "     <cc:Agent>\n",
       "      <dc:title>Matplotlib v3.5.3, https://matplotlib.org/</dc:title>\n",
       "     </cc:Agent>\n",
       "    </dc:creator>\n",
       "   </cc:Work>\n",
       "  </rdf:RDF>\n",
       " </metadata>\n",
       " <defs>\n",
       "  <style type=\"text/css\">*{stroke-linejoin: round; stroke-linecap: butt}</style>\n",
       " </defs>\n",
       " <g id=\"figure_1\">\n",
       "  <g id=\"patch_1\">\n",
       "   <path d=\"M 0 568.8 \n",
       "L 568.8 568.8 \n",
       "L 568.8 0 \n",
       "L 0 0 \n",
       "L 0 568.8 \n",
       "z\n",
       "\" style=\"fill: none\"/>\n",
       "  </g>\n",
       "  <g id=\"axes_1\">\n",
       "   <g clip-path=\"url(#p2d03076594)\">\n",
       "    <image xlink:href=\"data:image/png;base64,\n",
       "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\" id=\"image896023db40\" transform=\"matrix(5.045455 0 0 5.045455 7.2 6.6)\" style=\"image-rendering:crisp-edges;image-rendering:pixelated\" width=\"110\" height=\"110\"/>\n",
       "   </g>\n",
       "  </g>\n",
       " </g>\n",
       " <defs>\n",
       "  <clipPath id=\"p2d03076594\">\n",
       "   <rect x=\"7.2\" y=\"7.2\" width=\"554.4\" height=\"554.4\"/>\n",
       "  </clipPath>\n",
       " </defs>\n",
       "</svg>\n"
      ],
      "text/plain": [
       "<Figure size 576x576 with 1 Axes>"
      ]
     },
     "metadata": {
      "needs_background": "light"
     },
     "output_type": "display_data"
    }
   ],
   "source": [
    "im = ps.generators.blobs(shape=[40, 40, 40])\n",
    "planes = ps.visualization.show_planes(im)\n",
    "fig, ax = plt.subplots(1, 1, figsize=[8, 8])\n",
    "ax.imshow(planes)\n",
    "ax.axis(False);"
   ]
  },
  {
   "cell_type": "markdown",
   "id": "3339e6b5",
   "metadata": {},
   "source": [
    "## `spacing`"
   ]
  },
  {
   "cell_type": "markdown",
   "id": "7fdafe1f",
   "metadata": {},
   "source": [
    "This parameter defines the amount of space to put between each plane. The default spacing is 10."
   ]
  },
  {
   "cell_type": "code",
   "execution_count": 3,
   "id": "c9d58846",
   "metadata": {
    "execution": {
     "iopub.execute_input": "2022-08-12T21:34:35.596121Z",
     "iopub.status.busy": "2022-08-12T21:34:35.595544Z",
     "iopub.status.idle": "2022-08-12T21:34:35.719497Z",
     "shell.execute_reply": "2022-08-12T21:34:35.718882Z"
    }
   },
   "outputs": [
    {
     "data": {
      "image/svg+xml": [
       "<?xml version=\"1.0\" encoding=\"utf-8\" standalone=\"no\"?>\n",
       "<!DOCTYPE svg PUBLIC \"-//W3C//DTD SVG 1.1//EN\"\n",
       "  \"http://www.w3.org/Graphics/SVG/1.1/DTD/svg11.dtd\">\n",
       "<svg xmlns:xlink=\"http://www.w3.org/1999/xlink\" width=\"568.8pt\" height=\"568.8pt\" viewBox=\"0 0 568.8 568.8\" xmlns=\"http://www.w3.org/2000/svg\" version=\"1.1\">\n",
       " <metadata>\n",
       "  <rdf:RDF xmlns:dc=\"http://purl.org/dc/elements/1.1/\" xmlns:cc=\"http://creativecommons.org/ns#\" xmlns:rdf=\"http://www.w3.org/1999/02/22-rdf-syntax-ns#\">\n",
       "   <cc:Work>\n",
       "    <dc:type rdf:resource=\"http://purl.org/dc/dcmitype/StillImage\"/>\n",
       "    <dc:date>2022-08-12T21:34:35.703597</dc:date>\n",
       "    <dc:format>image/svg+xml</dc:format>\n",
       "    <dc:creator>\n",
       "     <cc:Agent>\n",
       "      <dc:title>Matplotlib v3.5.3, https://matplotlib.org/</dc:title>\n",
       "     </cc:Agent>\n",
       "    </dc:creator>\n",
       "   </cc:Work>\n",
       "  </rdf:RDF>\n",
       " </metadata>\n",
       " <defs>\n",
       "  <style type=\"text/css\">*{stroke-linejoin: round; stroke-linecap: butt}</style>\n",
       " </defs>\n",
       " <g id=\"figure_1\">\n",
       "  <g id=\"patch_1\">\n",
       "   <path d=\"M 0 568.8 \n",
       "L 568.8 568.8 \n",
       "L 568.8 0 \n",
       "L 0 0 \n",
       "L 0 568.8 \n",
       "z\n",
       "\" style=\"fill: none\"/>\n",
       "  </g>\n",
       "  <g id=\"axes_1\">\n",
       "   <g clip-path=\"url(#p6921b34c13)\">\n",
       "    <image xlink:href=\"data:image/png;base64,\n",
       "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\" id=\"imageaac66fcf5b\" transform=\"matrix(6.453488 0 0 6.453488 7.2 6.6)\" style=\"image-rendering:crisp-edges;image-rendering:pixelated\" width=\"86\" height=\"86\"/>\n",
       "   </g>\n",
       "  </g>\n",
       " </g>\n",
       " <defs>\n",
       "  <clipPath id=\"p6921b34c13\">\n",
       "   <rect x=\"7.2\" y=\"7.2\" width=\"554.4\" height=\"554.4\"/>\n",
       "  </clipPath>\n",
       " </defs>\n",
       "</svg>\n"
      ],
      "text/plain": [
       "<Figure size 576x576 with 1 Axes>"
      ]
     },
     "metadata": {
      "needs_background": "light"
     },
     "output_type": "display_data"
    }
   ],
   "source": [
    "planes = ps.visualization.show_planes(im, spacing = 2)\n",
    "fig, ax = plt.subplots(1, 1, figsize=[8, 8])\n",
    "ax.imshow(planes)\n",
    "ax.axis(False);"
   ]
  }
 ],
 "metadata": {
  "kernelspec": {
   "display_name": "Python 3 (ipykernel)",
   "language": "python",
   "name": "python3"
  },
  "language_info": {
   "codemirror_mode": {
    "name": "ipython",
    "version": 3
   },
   "file_extension": ".py",
   "mimetype": "text/x-python",
   "name": "python",
   "nbconvert_exporter": "python",
   "pygments_lexer": "ipython3",
   "version": "3.8.13"
  }
 },
 "nbformat": 4,
 "nbformat_minor": 5
}

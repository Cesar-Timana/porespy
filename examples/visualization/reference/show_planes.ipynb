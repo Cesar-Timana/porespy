{
 "cells": [
  {
   "cell_type": "markdown",
   "id": "4a972029",
   "metadata": {},
   "source": [
    "#  `show_planes` "
   ]
  },
  {
   "cell_type": "markdown",
   "id": "103a1704",
   "metadata": {},
   "source": [
    "Create a quick montage showing a 3D image in all three directions."
   ]
  },
  {
   "cell_type": "code",
   "execution_count": 1,
   "id": "dcf63949",
   "metadata": {
    "execution": {
     "iopub.execute_input": "2022-08-12T22:17:12.010923Z",
     "iopub.status.busy": "2022-08-12T22:17:12.010267Z",
     "iopub.status.idle": "2022-08-12T22:17:14.615740Z",
     "shell.execute_reply": "2022-08-12T22:17:14.614955Z"
    }
   },
   "outputs": [
    {
     "data": {
      "text/plain": [
       "<Signature (im, spacing=10)>"
      ]
     },
     "execution_count": 1,
     "metadata": {},
     "output_type": "execute_result"
    }
   ],
   "source": [
    "import matplotlib.pyplot as plt\n",
    "import numpy as np\n",
    "import porespy as ps\n",
    "import inspect\n",
    "ps.visualization.set_mpl_style()\n",
    "inspect.signature(ps.visualization.show_planes)"
   ]
  },
  {
   "cell_type": "markdown",
   "id": "c1d0fe72",
   "metadata": {},
   "source": [
    "## `im`\n",
    "The input image is 3D array to be veiwed in three directions. Note that the method does not work for 2D arrays as input.\n",
    "Note that the upper left image shows the xy plane at z=(image length in z dir/2). The lower left image shows the xz plane at y=(image length in y dir/2). The upper right image shows the yz plane at x=(image length in x dir/2)."
   ]
  },
  {
   "cell_type": "code",
   "execution_count": 2,
   "id": "7d20e730",
   "metadata": {
    "execution": {
     "iopub.execute_input": "2022-08-12T22:17:14.622143Z",
     "iopub.status.busy": "2022-08-12T22:17:14.620317Z",
     "iopub.status.idle": "2022-08-12T22:17:14.783878Z",
     "shell.execute_reply": "2022-08-12T22:17:14.783090Z"
    }
   },
   "outputs": [
    {
     "data": {
      "image/svg+xml": [
       "<?xml version=\"1.0\" encoding=\"utf-8\" standalone=\"no\"?>\n",
       "<!DOCTYPE svg PUBLIC \"-//W3C//DTD SVG 1.1//EN\"\n",
       "  \"http://www.w3.org/Graphics/SVG/1.1/DTD/svg11.dtd\">\n",
       "<svg xmlns:xlink=\"http://www.w3.org/1999/xlink\" width=\"568.8pt\" height=\"568.8pt\" viewBox=\"0 0 568.8 568.8\" xmlns=\"http://www.w3.org/2000/svg\" version=\"1.1\">\n",
       " <metadata>\n",
       "  <rdf:RDF xmlns:dc=\"http://purl.org/dc/elements/1.1/\" xmlns:cc=\"http://creativecommons.org/ns#\" xmlns:rdf=\"http://www.w3.org/1999/02/22-rdf-syntax-ns#\">\n",
       "   <cc:Work>\n",
       "    <dc:type rdf:resource=\"http://purl.org/dc/dcmitype/StillImage\"/>\n",
       "    <dc:date>2022-08-12T22:17:14.745719</dc:date>\n",
       "    <dc:format>image/svg+xml</dc:format>\n",
       "    <dc:creator>\n",
       "     <cc:Agent>\n",
       "      <dc:title>Matplotlib v3.5.3, https://matplotlib.org/</dc:title>\n",
       "     </cc:Agent>\n",
       "    </dc:creator>\n",
       "   </cc:Work>\n",
       "  </rdf:RDF>\n",
       " </metadata>\n",
       " <defs>\n",
       "  <style type=\"text/css\">*{stroke-linejoin: round; stroke-linecap: butt}</style>\n",
       " </defs>\n",
       " <g id=\"figure_1\">\n",
       "  <g id=\"patch_1\">\n",
       "   <path d=\"M 0 568.8 \n",
       "L 568.8 568.8 \n",
       "L 568.8 0 \n",
       "L 0 0 \n",
       "L 0 568.8 \n",
       "z\n",
       "\" style=\"fill: none\"/>\n",
       "  </g>\n",
       "  <g id=\"axes_1\">\n",
       "   <g clip-path=\"url(#p3d7cf5ae7a)\">\n",
       "    <image xlink:href=\"data:image/png;base64,\n",
       "iVBORw0KGgoAAAANSUhEUgAAAG4AAABuCAYAAADGWyb7AAAGZklEQVR4nO1d240cOQycPTgKR+EgDnACl6yzcBROw/fVRoMnklVFqm81UgELGP2Q1FN6kEVK/vj745/fr4Pl8Nf/3YADDYe4RXGIWxSHuEVxiFsUh7hFcYhbFIe4RXGIWxRfmId//Pr559/fv377z/XRNXvd3rs/Myrnet4r26vDA9vWrJzoHa/d0beg9cMjLiMtesbi+9dv4f0RMcz7DLK6MmTtQL5FATXiRhVlBGVlWbK9D7W9Fyk/axdCmjcLMPXbemyZ0Xd7oNa4rl6elZtNix11RR3EPh9NhUhdbNsQfCjRgVHvR+9787zSKaLRgL47QqWD3tvk1dExAGTjJHvGMyC8D1LJm4FKh7BlWEQjnqmvbJx48KaYiPwfv35SUyOzVnXDa+v13dGM09FeeMRlCyjSS2f8wMrC/hQQN2j0HIIWBzxbL1jznSGCJS3r8SPDaPQO8k32vYplalEmzjN1GbBTaqWuqA138zxajz8D4KkS/YCqb3XVpagnT4IxYO5t7zLA4BHnVcg0ZEQGYl1FlmoXrrYg0xtSzmxQ7kBEXmVEIn5fFxTNU9E1r2/K2q+6HrTkFSGyorwfhB1NM3sz6uYg99lRyxJYMk7u00K3ejHCTAe9u2x0TXtMZGYqRRvlOdKogK2OQkXZR0M4syFplRbRByojsmIcdIEVkJl1ml3nR4CJyypHer1CHmtud6HyPYjQjJQToc04YSxLS8qIpA6LDWnDHYrpb9/zAsvXc2rE26KNuJlWoRdNUIEEaz3rsCpEdKkxZeLYteBq+BPR6xEQv8ob+cgofUomo42TkeHAqt5da5JixGTTW1YWamh4z3QFcFsdcBSfJWB6IfphIyOJ7SzIc2iZ09yBC1WSMuuSdTdURcNClehUZcVCGnH2x4rmdU/pv4A48VWFxgPTw5nQU6ZtdvipNHFRY1VnGyUPfT4rq4qumGMFtFaJyFBKVJqptxp2GV3LRs8o5BPVMduybFnjLqDWGbtuRO91O82jMpmOxa73qkMuZXkp7yDrlNJTO3p3FuC9r+XXX/T+E6DzKplFenTvKkNxVDsiAiMwSsqoLR3tYX+P6coJ+x4aVegiEVFSvLZFUEbhp3LAuySgGe6A2gYPT7ZNJo7pdcgHqR/dub551qoqYc1Ey26d0YLNlBnJSZ4ENQPIetY9qtTfjkrPs5ahrRS1FtFpz5adkTwbqLvCrJsqZMlL0fk6FYfKmoeICLaeqA322hMdSSKuq2GzHfbqO0rHU0QEBZQDns3H1UaNptOVUOkULFryKhn1QlHj7+sbKwCoqJj+TPyNef6OR885YdwDBBW5y3t3dN0zwqJO5JVty1Xb3yoyHzyHc7LQojjELYpD3KI4xC2KQ9yiOMQtikPcojjELYpD3KKgzzkZhT2sdOOFRpT0NDV97d1RzjlB0tDZspgY2K5EtmV5MXkYUdqbmgW9G4HSATWI8o2UUyljd7Sk5yl7BuyaiMa/nkoN+OwoneXFZighGcNZ3Vm6+C6Qc068DRhshlM0Wp/K31gRU7O8InRMd+q2rnfAIw747A0TO0IijrEKszwTJrGmas2+E6YeUDNjH9mufptFadPHyBhh151o2kSlsh1JlNc4ZJ+AqoIw9e2KNq1SWWs865QhaVdC6RGn5vF7O3aOwaGh7biMyn5u9N4oLV2p+x3QeiRUtrsTMTaUqW9H/VL6DyNGBHUqIWx7dkSbcoJskeqa2nYn7fUSiYtU/ixCrWyTslu5dpsWR5h6XEYWeEXSHpDRuyOR9CnokdKB/JjV7cMediOvdOwhYraP7tn1cGezXkVpqrR6pTfSUHKQ7bkd2WTvgPIBNaOTCdAtumzd3VuRVwadc5JtpI/eza4x2J08ygFHZKrICvQ2ryMjUZHI3hnUVMmm3ymOOBsZ2JG010uMDlhlHz3zwzt2wt5jydjRWJFF5pl+FjMSd1VTHttmNYvo3Qi7IJ3JHKkfUYjH88U8PfM45j7KEXAvBsdslYru76pFZpg6VTI5k3fYkeY5+TuPRFo5iZzvTLvMrE9EgN6ZrDtKIy7TDa25r/zoma+2K5Et8bhZ4rI1dKoO+zuhPXVBTfZRntmVtNdLcAc8eIqIvbbr1NaN1q3E6LNZmgIqfe28f+CcELsozslCi+IQtygOcYviELcoDnGL4hC3KA5xi+IQtygOcYviXxKcYPD3q2VAAAAAAElFTkSuQmCC\" id=\"image53556d3696\" transform=\"matrix(5.045455 0 0 5.045455 7.2 6.6)\" style=\"image-rendering:crisp-edges;image-rendering:pixelated\" width=\"110\" height=\"110\"/>\n",
       "   </g>\n",
       "  </g>\n",
       " </g>\n",
       " <defs>\n",
       "  <clipPath id=\"p3d7cf5ae7a\">\n",
       "   <rect x=\"7.2\" y=\"7.2\" width=\"554.4\" height=\"554.4\"/>\n",
       "  </clipPath>\n",
       " </defs>\n",
       "</svg>\n"
      ],
      "text/plain": [
       "<Figure size 576x576 with 1 Axes>"
      ]
     },
     "metadata": {
      "needs_background": "light"
     },
     "output_type": "display_data"
    }
   ],
   "source": [
    "im = ps.generators.blobs(shape=[40, 40, 40])\n",
    "planes = ps.visualization.show_planes(im)\n",
    "fig, ax = plt.subplots(1, 1, figsize=[8, 8])\n",
    "ax.imshow(planes)\n",
    "ax.axis(False);"
   ]
  },
  {
   "cell_type": "markdown",
   "id": "3339e6b5",
   "metadata": {},
   "source": [
    "## `spacing`"
   ]
  },
  {
   "cell_type": "markdown",
   "id": "7fdafe1f",
   "metadata": {},
   "source": [
    "This parameter defines the amount of space to put between each plane. The default spacing is 10."
   ]
  },
  {
   "cell_type": "code",
   "execution_count": 3,
   "id": "c9d58846",
   "metadata": {
    "execution": {
     "iopub.execute_input": "2022-08-12T22:17:14.787862Z",
     "iopub.status.busy": "2022-08-12T22:17:14.787410Z",
     "iopub.status.idle": "2022-08-12T22:17:14.878156Z",
     "shell.execute_reply": "2022-08-12T22:17:14.877381Z"
    }
   },
   "outputs": [
    {
     "data": {
      "image/svg+xml": [
       "<?xml version=\"1.0\" encoding=\"utf-8\" standalone=\"no\"?>\n",
       "<!DOCTYPE svg PUBLIC \"-//W3C//DTD SVG 1.1//EN\"\n",
       "  \"http://www.w3.org/Graphics/SVG/1.1/DTD/svg11.dtd\">\n",
       "<svg xmlns:xlink=\"http://www.w3.org/1999/xlink\" width=\"568.8pt\" height=\"568.8pt\" viewBox=\"0 0 568.8 568.8\" xmlns=\"http://www.w3.org/2000/svg\" version=\"1.1\">\n",
       " <metadata>\n",
       "  <rdf:RDF xmlns:dc=\"http://purl.org/dc/elements/1.1/\" xmlns:cc=\"http://creativecommons.org/ns#\" xmlns:rdf=\"http://www.w3.org/1999/02/22-rdf-syntax-ns#\">\n",
       "   <cc:Work>\n",
       "    <dc:type rdf:resource=\"http://purl.org/dc/dcmitype/StillImage\"/>\n",
       "    <dc:date>2022-08-12T22:17:14.869205</dc:date>\n",
       "    <dc:format>image/svg+xml</dc:format>\n",
       "    <dc:creator>\n",
       "     <cc:Agent>\n",
       "      <dc:title>Matplotlib v3.5.3, https://matplotlib.org/</dc:title>\n",
       "     </cc:Agent>\n",
       "    </dc:creator>\n",
       "   </cc:Work>\n",
       "  </rdf:RDF>\n",
       " </metadata>\n",
       " <defs>\n",
       "  <style type=\"text/css\">*{stroke-linejoin: round; stroke-linecap: butt}</style>\n",
       " </defs>\n",
       " <g id=\"figure_1\">\n",
       "  <g id=\"patch_1\">\n",
       "   <path d=\"M 0 568.8 \n",
       "L 568.8 568.8 \n",
       "L 568.8 0 \n",
       "L 0 0 \n",
       "L 0 568.8 \n",
       "z\n",
       "\" style=\"fill: none\"/>\n",
       "  </g>\n",
       "  <g id=\"axes_1\">\n",
       "   <g clip-path=\"url(#pc9f8c82407)\">\n",
       "    <image xlink:href=\"data:image/png;base64,\n",
       "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\" id=\"imaged1c823703d\" transform=\"matrix(6.453488 0 0 6.453488 7.2 6.6)\" style=\"image-rendering:crisp-edges;image-rendering:pixelated\" width=\"86\" height=\"86\"/>\n",
       "   </g>\n",
       "  </g>\n",
       " </g>\n",
       " <defs>\n",
       "  <clipPath id=\"pc9f8c82407\">\n",
       "   <rect x=\"7.2\" y=\"7.2\" width=\"554.4\" height=\"554.4\"/>\n",
       "  </clipPath>\n",
       " </defs>\n",
       "</svg>\n"
      ],
      "text/plain": [
       "<Figure size 576x576 with 1 Axes>"
      ]
     },
     "metadata": {
      "needs_background": "light"
     },
     "output_type": "display_data"
    }
   ],
   "source": [
    "planes = ps.visualization.show_planes(im, spacing = 2)\n",
    "fig, ax = plt.subplots(1, 1, figsize=[8, 8])\n",
    "ax.imshow(planes)\n",
    "ax.axis(False);"
   ]
  }
 ],
 "metadata": {
  "kernelspec": {
   "display_name": "Python 3 (ipykernel)",
   "language": "python",
   "name": "python3"
  },
  "language_info": {
   "codemirror_mode": {
    "name": "ipython",
    "version": 3
   },
   "file_extension": ".py",
   "mimetype": "text/x-python",
   "name": "python",
   "nbconvert_exporter": "python",
   "pygments_lexer": "ipython3",
   "version": "3.8.13"
  }
 },
 "nbformat": 4,
 "nbformat_minor": 5
}

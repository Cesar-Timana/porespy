{
 "cells": [
  {
   "cell_type": "markdown",
   "id": "4a972029",
   "metadata": {},
   "source": [
    "#  `show_planes` "
   ]
  },
  {
   "cell_type": "markdown",
   "id": "103a1704",
   "metadata": {},
   "source": [
    "Create a quick montage showing a 3D image in all three directions."
   ]
  },
  {
   "cell_type": "code",
   "execution_count": 1,
   "id": "dcf63949",
   "metadata": {
    "execution": {
     "iopub.execute_input": "2022-08-23T01:13:31.980878Z",
     "iopub.status.busy": "2022-08-23T01:13:31.980628Z",
     "iopub.status.idle": "2022-08-23T01:13:33.851264Z",
     "shell.execute_reply": "2022-08-23T01:13:33.847103Z"
    }
   },
   "outputs": [
    {
     "data": {
      "text/plain": [
       "<Signature (im, spacing=10)>"
      ]
     },
     "execution_count": 1,
     "metadata": {},
     "output_type": "execute_result"
    }
   ],
   "source": [
    "import matplotlib.pyplot as plt\n",
    "import numpy as np\n",
    "import porespy as ps\n",
    "import inspect\n",
    "ps.visualization.set_mpl_style()\n",
    "inspect.signature(ps.visualization.show_planes)"
   ]
  },
  {
   "cell_type": "markdown",
   "id": "c1d0fe72",
   "metadata": {},
   "source": [
    "## `im`\n",
    "The input image is 3D array to be veiwed in three directions. Note that the method does not work for 2D arrays as input.\n",
    "Note that the upper left image shows the xy plane at z=(image length in z dir/2). The lower left image shows the xz plane at y=(image length in y dir/2). The upper right image shows the yz plane at x=(image length in x dir/2)."
   ]
  },
  {
   "cell_type": "code",
   "execution_count": 2,
   "id": "7d20e730",
   "metadata": {
    "execution": {
     "iopub.execute_input": "2022-08-23T01:13:33.856716Z",
     "iopub.status.busy": "2022-08-23T01:13:33.855220Z",
     "iopub.status.idle": "2022-08-23T01:13:33.977239Z",
     "shell.execute_reply": "2022-08-23T01:13:33.976619Z"
    }
   },
   "outputs": [
    {
     "data": {
      "image/svg+xml": [
       "<?xml version=\"1.0\" encoding=\"utf-8\" standalone=\"no\"?>\n",
       "<!DOCTYPE svg PUBLIC \"-//W3C//DTD SVG 1.1//EN\"\n",
       "  \"http://www.w3.org/Graphics/SVG/1.1/DTD/svg11.dtd\">\n",
       "<svg xmlns:xlink=\"http://www.w3.org/1999/xlink\" width=\"564.48pt\" height=\"564.48pt\" viewBox=\"0 0 564.48 564.48\" xmlns=\"http://www.w3.org/2000/svg\" version=\"1.1\">\n",
       " <metadata>\n",
       "  <rdf:RDF xmlns:dc=\"http://purl.org/dc/elements/1.1/\" xmlns:cc=\"http://creativecommons.org/ns#\" xmlns:rdf=\"http://www.w3.org/1999/02/22-rdf-syntax-ns#\">\n",
       "   <cc:Work>\n",
       "    <dc:type rdf:resource=\"http://purl.org/dc/dcmitype/StillImage\"/>\n",
       "    <dc:date>2022-08-23T01:13:33.958179</dc:date>\n",
       "    <dc:format>image/svg+xml</dc:format>\n",
       "    <dc:creator>\n",
       "     <cc:Agent>\n",
       "      <dc:title>Matplotlib v3.5.3, https://matplotlib.org/</dc:title>\n",
       "     </cc:Agent>\n",
       "    </dc:creator>\n",
       "   </cc:Work>\n",
       "  </rdf:RDF>\n",
       " </metadata>\n",
       " <defs>\n",
       "  <style type=\"text/css\">*{stroke-linejoin: round; stroke-linecap: butt}</style>\n",
       " </defs>\n",
       " <g id=\"figure_1\">\n",
       "  <g id=\"patch_1\">\n",
       "   <path d=\"M 0 564.48 \n",
       "L 564.48 564.48 \n",
       "L 564.48 0 \n",
       "L 0 0 \n",
       "z\n",
       "\" style=\"fill: #ffffff\"/>\n",
       "  </g>\n",
       "  <g id=\"axes_1\">\n",
       "   <g clip-path=\"url(#p924cda6d14)\">\n",
       "    <image xlink:href=\"data:image/png;base64,\n",
       "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\" id=\"image373fd7c064\" transform=\"matrix(5.009091 0 0 5.009091 7.2 6.28)\" style=\"image-rendering:crisp-edges;image-rendering:pixelated\" width=\"110\" height=\"110\"/>\n",
       "   </g>\n",
       "  </g>\n",
       " </g>\n",
       " <defs>\n",
       "  <clipPath id=\"p924cda6d14\">\n",
       "   <rect x=\"7.2\" y=\"7.2\" width=\"550.08\" height=\"550.08\"/>\n",
       "  </clipPath>\n",
       " </defs>\n",
       "</svg>\n"
      ],
      "text/plain": [
       "<Figure size 800x800 with 1 Axes>"
      ]
     },
     "metadata": {},
     "output_type": "display_data"
    }
   ],
   "source": [
    "im = ps.generators.blobs(shape=[40, 40, 40])\n",
    "planes = ps.visualization.show_planes(im)\n",
    "fig, ax = plt.subplots(1, 1, figsize=[8, 8])\n",
    "ax.imshow(planes)\n",
    "ax.axis(False);"
   ]
  },
  {
   "cell_type": "markdown",
   "id": "3339e6b5",
   "metadata": {},
   "source": [
    "## `spacing`"
   ]
  },
  {
   "cell_type": "markdown",
   "id": "7fdafe1f",
   "metadata": {},
   "source": [
    "This parameter defines the amount of space to put between each plane. The default spacing is 10."
   ]
  },
  {
   "cell_type": "code",
   "execution_count": 3,
   "id": "c9d58846",
   "metadata": {
    "execution": {
     "iopub.execute_input": "2022-08-23T01:13:33.980580Z",
     "iopub.status.busy": "2022-08-23T01:13:33.980231Z",
     "iopub.status.idle": "2022-08-23T01:13:34.089352Z",
     "shell.execute_reply": "2022-08-23T01:13:34.088735Z"
    }
   },
   "outputs": [
    {
     "data": {
      "image/svg+xml": [
       "<?xml version=\"1.0\" encoding=\"utf-8\" standalone=\"no\"?>\n",
       "<!DOCTYPE svg PUBLIC \"-//W3C//DTD SVG 1.1//EN\"\n",
       "  \"http://www.w3.org/Graphics/SVG/1.1/DTD/svg11.dtd\">\n",
       "<svg xmlns:xlink=\"http://www.w3.org/1999/xlink\" width=\"564.48pt\" height=\"564.48pt\" viewBox=\"0 0 564.48 564.48\" xmlns=\"http://www.w3.org/2000/svg\" version=\"1.1\">\n",
       " <metadata>\n",
       "  <rdf:RDF xmlns:dc=\"http://purl.org/dc/elements/1.1/\" xmlns:cc=\"http://creativecommons.org/ns#\" xmlns:rdf=\"http://www.w3.org/1999/02/22-rdf-syntax-ns#\">\n",
       "   <cc:Work>\n",
       "    <dc:type rdf:resource=\"http://purl.org/dc/dcmitype/StillImage\"/>\n",
       "    <dc:date>2022-08-23T01:13:34.076131</dc:date>\n",
       "    <dc:format>image/svg+xml</dc:format>\n",
       "    <dc:creator>\n",
       "     <cc:Agent>\n",
       "      <dc:title>Matplotlib v3.5.3, https://matplotlib.org/</dc:title>\n",
       "     </cc:Agent>\n",
       "    </dc:creator>\n",
       "   </cc:Work>\n",
       "  </rdf:RDF>\n",
       " </metadata>\n",
       " <defs>\n",
       "  <style type=\"text/css\">*{stroke-linejoin: round; stroke-linecap: butt}</style>\n",
       " </defs>\n",
       " <g id=\"figure_1\">\n",
       "  <g id=\"patch_1\">\n",
       "   <path d=\"M 0 564.48 \n",
       "L 564.48 564.48 \n",
       "L 564.48 0 \n",
       "L 0 0 \n",
       "z\n",
       "\" style=\"fill: #ffffff\"/>\n",
       "  </g>\n",
       "  <g id=\"axes_1\">\n",
       "   <g clip-path=\"url(#p62996b093a)\">\n",
       "    <image xlink:href=\"data:image/png;base64,\n",
       "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\" id=\"imageeed61591c6\" transform=\"matrix(6.406977 0 0 6.406977 7.2 6.28)\" style=\"image-rendering:crisp-edges;image-rendering:pixelated\" width=\"86\" height=\"86\"/>\n",
       "   </g>\n",
       "  </g>\n",
       " </g>\n",
       " <defs>\n",
       "  <clipPath id=\"p62996b093a\">\n",
       "   <rect x=\"7.2\" y=\"7.2\" width=\"550.08\" height=\"550.08\"/>\n",
       "  </clipPath>\n",
       " </defs>\n",
       "</svg>\n"
      ],
      "text/plain": [
       "<Figure size 800x800 with 1 Axes>"
      ]
     },
     "metadata": {},
     "output_type": "display_data"
    }
   ],
   "source": [
    "planes = ps.visualization.show_planes(im, spacing = 2)\n",
    "fig, ax = plt.subplots(1, 1, figsize=[8, 8])\n",
    "ax.imshow(planes)\n",
    "ax.axis(False);"
   ]
  }
 ],
 "metadata": {
  "kernelspec": {
   "display_name": "Python 3 (ipykernel)",
   "language": "python",
   "name": "python3"
  },
  "language_info": {
   "codemirror_mode": {
    "name": "ipython",
    "version": 3
   },
   "file_extension": ".py",
   "mimetype": "text/x-python",
   "name": "python",
   "nbconvert_exporter": "python",
   "pygments_lexer": "ipython3",
   "version": "3.8.13"
  }
 },
 "nbformat": 4,
 "nbformat_minor": 5
}

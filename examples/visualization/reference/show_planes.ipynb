{
 "cells": [
  {
   "cell_type": "markdown",
   "id": "4a972029",
   "metadata": {},
   "source": [
    "#  `show_planes` "
   ]
  },
  {
   "cell_type": "markdown",
   "id": "103a1704",
   "metadata": {},
   "source": [
    "Create a quick montage showing a 3D image in all three directions."
   ]
  },
  {
   "cell_type": "code",
   "execution_count": 1,
   "id": "dcf63949",
   "metadata": {
    "execution": {
     "iopub.execute_input": "2022-09-09T11:03:22.627610Z",
     "iopub.status.busy": "2022-09-09T11:03:22.627169Z",
     "iopub.status.idle": "2022-09-09T11:03:24.417824Z",
     "shell.execute_reply": "2022-09-09T11:03:24.417190Z"
    }
   },
   "outputs": [
    {
     "data": {
      "text/plain": [
       "<Signature (im, spacing=10)>"
      ]
     },
     "execution_count": 1,
     "metadata": {},
     "output_type": "execute_result"
    }
   ],
   "source": [
    "import matplotlib.pyplot as plt\n",
    "import numpy as np\n",
    "import porespy as ps\n",
    "import inspect\n",
    "ps.visualization.set_mpl_style()\n",
    "inspect.signature(ps.visualization.show_planes)"
   ]
  },
  {
   "cell_type": "markdown",
   "id": "c1d0fe72",
   "metadata": {},
   "source": [
    "## `im`\n",
    "The input image is 3D array to be veiwed in three directions. Note that the method does not work for 2D arrays as input.\n",
    "Note that the upper left image shows the xy plane at z=(image length in z dir/2). The lower left image shows the xz plane at y=(image length in y dir/2). The upper right image shows the yz plane at x=(image length in x dir/2)."
   ]
  },
  {
   "cell_type": "code",
   "execution_count": 2,
   "id": "7d20e730",
   "metadata": {
    "execution": {
     "iopub.execute_input": "2022-09-09T11:03:24.422602Z",
     "iopub.status.busy": "2022-09-09T11:03:24.421534Z",
     "iopub.status.idle": "2022-09-09T11:03:24.595488Z",
     "shell.execute_reply": "2022-09-09T11:03:24.594967Z"
    }
   },
   "outputs": [
    {
     "data": {
      "image/svg+xml": [
       "<?xml version=\"1.0\" encoding=\"utf-8\" standalone=\"no\"?>\n",
       "<!DOCTYPE svg PUBLIC \"-//W3C//DTD SVG 1.1//EN\"\n",
       "  \"http://www.w3.org/Graphics/SVG/1.1/DTD/svg11.dtd\">\n",
       "<svg xmlns:xlink=\"http://www.w3.org/1999/xlink\" width=\"564.48pt\" height=\"564.48pt\" viewBox=\"0 0 564.48 564.48\" xmlns=\"http://www.w3.org/2000/svg\" version=\"1.1\">\n",
       " <metadata>\n",
       "  <rdf:RDF xmlns:dc=\"http://purl.org/dc/elements/1.1/\" xmlns:cc=\"http://creativecommons.org/ns#\" xmlns:rdf=\"http://www.w3.org/1999/02/22-rdf-syntax-ns#\">\n",
       "   <cc:Work>\n",
       "    <dc:type rdf:resource=\"http://purl.org/dc/dcmitype/StillImage\"/>\n",
       "    <dc:date>2022-09-09T11:03:24.584953</dc:date>\n",
       "    <dc:format>image/svg+xml</dc:format>\n",
       "    <dc:creator>\n",
       "     <cc:Agent>\n",
       "      <dc:title>Matplotlib v3.5.3, https://matplotlib.org/</dc:title>\n",
       "     </cc:Agent>\n",
       "    </dc:creator>\n",
       "   </cc:Work>\n",
       "  </rdf:RDF>\n",
       " </metadata>\n",
       " <defs>\n",
       "  <style type=\"text/css\">*{stroke-linejoin: round; stroke-linecap: butt}</style>\n",
       " </defs>\n",
       " <g id=\"figure_1\">\n",
       "  <g id=\"patch_1\">\n",
       "   <path d=\"M 0 564.48 \n",
       "L 564.48 564.48 \n",
       "L 564.48 0 \n",
       "L 0 0 \n",
       "z\n",
       "\" style=\"fill: #ffffff\"/>\n",
       "  </g>\n",
       "  <g id=\"axes_1\">\n",
       "   <g clip-path=\"url(#p3905849e43)\">\n",
       "    <image xlink:href=\"data:image/png;base64,\n",
       "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\" id=\"image80c2046cdc\" transform=\"matrix(5.009091 0 0 5.009091 7.2 6.28)\" style=\"image-rendering:crisp-edges;image-rendering:pixelated\" width=\"110\" height=\"110\"/>\n",
       "   </g>\n",
       "  </g>\n",
       " </g>\n",
       " <defs>\n",
       "  <clipPath id=\"p3905849e43\">\n",
       "   <rect x=\"7.2\" y=\"7.2\" width=\"550.08\" height=\"550.08\"/>\n",
       "  </clipPath>\n",
       " </defs>\n",
       "</svg>\n"
      ],
      "text/plain": [
       "<Figure size 800x800 with 1 Axes>"
      ]
     },
     "metadata": {},
     "output_type": "display_data"
    }
   ],
   "source": [
    "im = ps.generators.blobs(shape=[40, 40, 40])\n",
    "planes = ps.visualization.show_planes(im)\n",
    "fig, ax = plt.subplots(1, 1, figsize=[8, 8])\n",
    "ax.imshow(planes)\n",
    "ax.axis(False);"
   ]
  },
  {
   "cell_type": "markdown",
   "id": "3339e6b5",
   "metadata": {},
   "source": [
    "## `spacing`"
   ]
  },
  {
   "cell_type": "markdown",
   "id": "7fdafe1f",
   "metadata": {},
   "source": [
    "This parameter defines the amount of space to put between each plane. The default spacing is 10."
   ]
  },
  {
   "cell_type": "code",
   "execution_count": 3,
   "id": "c9d58846",
   "metadata": {
    "execution": {
     "iopub.execute_input": "2022-09-09T11:03:24.600443Z",
     "iopub.status.busy": "2022-09-09T11:03:24.599363Z",
     "iopub.status.idle": "2022-09-09T11:03:24.666124Z",
     "shell.execute_reply": "2022-09-09T11:03:24.665613Z"
    }
   },
   "outputs": [
    {
     "data": {
      "image/svg+xml": [
       "<?xml version=\"1.0\" encoding=\"utf-8\" standalone=\"no\"?>\n",
       "<!DOCTYPE svg PUBLIC \"-//W3C//DTD SVG 1.1//EN\"\n",
       "  \"http://www.w3.org/Graphics/SVG/1.1/DTD/svg11.dtd\">\n",
       "<svg xmlns:xlink=\"http://www.w3.org/1999/xlink\" width=\"564.48pt\" height=\"564.48pt\" viewBox=\"0 0 564.48 564.48\" xmlns=\"http://www.w3.org/2000/svg\" version=\"1.1\">\n",
       " <metadata>\n",
       "  <rdf:RDF xmlns:dc=\"http://purl.org/dc/elements/1.1/\" xmlns:cc=\"http://creativecommons.org/ns#\" xmlns:rdf=\"http://www.w3.org/1999/02/22-rdf-syntax-ns#\">\n",
       "   <cc:Work>\n",
       "    <dc:type rdf:resource=\"http://purl.org/dc/dcmitype/StillImage\"/>\n",
       "    <dc:date>2022-09-09T11:03:24.648278</dc:date>\n",
       "    <dc:format>image/svg+xml</dc:format>\n",
       "    <dc:creator>\n",
       "     <cc:Agent>\n",
       "      <dc:title>Matplotlib v3.5.3, https://matplotlib.org/</dc:title>\n",
       "     </cc:Agent>\n",
       "    </dc:creator>\n",
       "   </cc:Work>\n",
       "  </rdf:RDF>\n",
       " </metadata>\n",
       " <defs>\n",
       "  <style type=\"text/css\">*{stroke-linejoin: round; stroke-linecap: butt}</style>\n",
       " </defs>\n",
       " <g id=\"figure_1\">\n",
       "  <g id=\"patch_1\">\n",
       "   <path d=\"M 0 564.48 \n",
       "L 564.48 564.48 \n",
       "L 564.48 0 \n",
       "L 0 0 \n",
       "z\n",
       "\" style=\"fill: #ffffff\"/>\n",
       "  </g>\n",
       "  <g id=\"axes_1\">\n",
       "   <g clip-path=\"url(#p35126bd678)\">\n",
       "    <image xlink:href=\"data:image/png;base64,\n",
       "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\" id=\"image39df261c35\" transform=\"matrix(6.406977 0 0 6.406977 7.2 6.28)\" style=\"image-rendering:crisp-edges;image-rendering:pixelated\" width=\"86\" height=\"86\"/>\n",
       "   </g>\n",
       "  </g>\n",
       " </g>\n",
       " <defs>\n",
       "  <clipPath id=\"p35126bd678\">\n",
       "   <rect x=\"7.2\" y=\"7.2\" width=\"550.08\" height=\"550.08\"/>\n",
       "  </clipPath>\n",
       " </defs>\n",
       "</svg>\n"
      ],
      "text/plain": [
       "<Figure size 800x800 with 1 Axes>"
      ]
     },
     "metadata": {},
     "output_type": "display_data"
    }
   ],
   "source": [
    "planes = ps.visualization.show_planes(im, spacing = 2)\n",
    "fig, ax = plt.subplots(1, 1, figsize=[8, 8])\n",
    "ax.imshow(planes)\n",
    "ax.axis(False);"
   ]
  }
 ],
 "metadata": {
  "kernelspec": {
   "display_name": "Python 3 (ipykernel)",
   "language": "python",
   "name": "python3"
  },
  "language_info": {
   "codemirror_mode": {
    "name": "ipython",
    "version": 3
   },
   "file_extension": ".py",
   "mimetype": "text/x-python",
   "name": "python",
   "nbconvert_exporter": "python",
   "pygments_lexer": "ipython3",
   "version": "3.8.13"
  }
 },
 "nbformat": 4,
 "nbformat_minor": 5
}

{
 "cells": [
  {
   "cell_type": "markdown",
   "id": "4a972029",
   "metadata": {},
   "source": [
    "#  `show_planes` "
   ]
  },
  {
   "cell_type": "markdown",
   "id": "103a1704",
   "metadata": {},
   "source": [
    "Create a quick montage showing a 3D image in all three directions."
   ]
  },
  {
   "cell_type": "code",
   "execution_count": 1,
   "id": "dcf63949",
   "metadata": {
    "execution": {
     "iopub.execute_input": "2022-08-23T00:47:09.026437Z",
     "iopub.status.busy": "2022-08-23T00:47:09.026183Z",
     "iopub.status.idle": "2022-08-23T00:47:10.889984Z",
     "shell.execute_reply": "2022-08-23T00:47:10.889353Z"
    }
   },
   "outputs": [
    {
     "data": {
      "text/plain": [
       "<Signature (im, spacing=10)>"
      ]
     },
     "execution_count": 1,
     "metadata": {},
     "output_type": "execute_result"
    }
   ],
   "source": [
    "import matplotlib.pyplot as plt\n",
    "import numpy as np\n",
    "import porespy as ps\n",
    "import inspect\n",
    "ps.visualization.set_mpl_style()\n",
    "inspect.signature(ps.visualization.show_planes)"
   ]
  },
  {
   "cell_type": "markdown",
   "id": "c1d0fe72",
   "metadata": {},
   "source": [
    "## `im`\n",
    "The input image is 3D array to be veiwed in three directions. Note that the method does not work for 2D arrays as input.\n",
    "Note that the upper left image shows the xy plane at z=(image length in z dir/2). The lower left image shows the xz plane at y=(image length in y dir/2). The upper right image shows the yz plane at x=(image length in x dir/2)."
   ]
  },
  {
   "cell_type": "code",
   "execution_count": 2,
   "id": "7d20e730",
   "metadata": {
    "execution": {
     "iopub.execute_input": "2022-08-23T00:47:10.895037Z",
     "iopub.status.busy": "2022-08-23T00:47:10.893467Z",
     "iopub.status.idle": "2022-08-23T00:47:11.009879Z",
     "shell.execute_reply": "2022-08-23T00:47:11.009333Z"
    }
   },
   "outputs": [
    {
     "data": {
      "image/svg+xml": [
       "<?xml version=\"1.0\" encoding=\"utf-8\" standalone=\"no\"?>\n",
       "<!DOCTYPE svg PUBLIC \"-//W3C//DTD SVG 1.1//EN\"\n",
       "  \"http://www.w3.org/Graphics/SVG/1.1/DTD/svg11.dtd\">\n",
       "<svg xmlns:xlink=\"http://www.w3.org/1999/xlink\" width=\"564.48pt\" height=\"564.48pt\" viewBox=\"0 0 564.48 564.48\" xmlns=\"http://www.w3.org/2000/svg\" version=\"1.1\">\n",
       " <metadata>\n",
       "  <rdf:RDF xmlns:dc=\"http://purl.org/dc/elements/1.1/\" xmlns:cc=\"http://creativecommons.org/ns#\" xmlns:rdf=\"http://www.w3.org/1999/02/22-rdf-syntax-ns#\">\n",
       "   <cc:Work>\n",
       "    <dc:type rdf:resource=\"http://purl.org/dc/dcmitype/StillImage\"/>\n",
       "    <dc:date>2022-08-23T00:47:10.990660</dc:date>\n",
       "    <dc:format>image/svg+xml</dc:format>\n",
       "    <dc:creator>\n",
       "     <cc:Agent>\n",
       "      <dc:title>Matplotlib v3.5.3, https://matplotlib.org/</dc:title>\n",
       "     </cc:Agent>\n",
       "    </dc:creator>\n",
       "   </cc:Work>\n",
       "  </rdf:RDF>\n",
       " </metadata>\n",
       " <defs>\n",
       "  <style type=\"text/css\">*{stroke-linejoin: round; stroke-linecap: butt}</style>\n",
       " </defs>\n",
       " <g id=\"figure_1\">\n",
       "  <g id=\"patch_1\">\n",
       "   <path d=\"M 0 564.48 \n",
       "L 564.48 564.48 \n",
       "L 564.48 0 \n",
       "L 0 0 \n",
       "z\n",
       "\" style=\"fill: #ffffff\"/>\n",
       "  </g>\n",
       "  <g id=\"axes_1\">\n",
       "   <g clip-path=\"url(#pedbf23cca1)\">\n",
       "    <image xlink:href=\"data:image/png;base64,\n",
       "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\" id=\"image80f68b8e7b\" transform=\"matrix(5.009091 0 0 5.009091 7.2 6.28)\" style=\"image-rendering:crisp-edges;image-rendering:pixelated\" width=\"110\" height=\"110\"/>\n",
       "   </g>\n",
       "  </g>\n",
       " </g>\n",
       " <defs>\n",
       "  <clipPath id=\"pedbf23cca1\">\n",
       "   <rect x=\"7.2\" y=\"7.2\" width=\"550.08\" height=\"550.08\"/>\n",
       "  </clipPath>\n",
       " </defs>\n",
       "</svg>\n"
      ],
      "text/plain": [
       "<Figure size 800x800 with 1 Axes>"
      ]
     },
     "metadata": {},
     "output_type": "display_data"
    }
   ],
   "source": [
    "im = ps.generators.blobs(shape=[40, 40, 40])\n",
    "planes = ps.visualization.show_planes(im)\n",
    "fig, ax = plt.subplots(1, 1, figsize=[8, 8])\n",
    "ax.imshow(planes)\n",
    "ax.axis(False);"
   ]
  },
  {
   "cell_type": "markdown",
   "id": "3339e6b5",
   "metadata": {},
   "source": [
    "## `spacing`"
   ]
  },
  {
   "cell_type": "markdown",
   "id": "7fdafe1f",
   "metadata": {},
   "source": [
    "This parameter defines the amount of space to put between each plane. The default spacing is 10."
   ]
  },
  {
   "cell_type": "code",
   "execution_count": 3,
   "id": "c9d58846",
   "metadata": {
    "execution": {
     "iopub.execute_input": "2022-08-23T00:47:11.014139Z",
     "iopub.status.busy": "2022-08-23T00:47:11.013068Z",
     "iopub.status.idle": "2022-08-23T00:47:11.129740Z",
     "shell.execute_reply": "2022-08-23T00:47:11.129191Z"
    }
   },
   "outputs": [
    {
     "data": {
      "image/svg+xml": [
       "<?xml version=\"1.0\" encoding=\"utf-8\" standalone=\"no\"?>\n",
       "<!DOCTYPE svg PUBLIC \"-//W3C//DTD SVG 1.1//EN\"\n",
       "  \"http://www.w3.org/Graphics/SVG/1.1/DTD/svg11.dtd\">\n",
       "<svg xmlns:xlink=\"http://www.w3.org/1999/xlink\" width=\"564.48pt\" height=\"564.48pt\" viewBox=\"0 0 564.48 564.48\" xmlns=\"http://www.w3.org/2000/svg\" version=\"1.1\">\n",
       " <metadata>\n",
       "  <rdf:RDF xmlns:dc=\"http://purl.org/dc/elements/1.1/\" xmlns:cc=\"http://creativecommons.org/ns#\" xmlns:rdf=\"http://www.w3.org/1999/02/22-rdf-syntax-ns#\">\n",
       "   <cc:Work>\n",
       "    <dc:type rdf:resource=\"http://purl.org/dc/dcmitype/StillImage\"/>\n",
       "    <dc:date>2022-08-23T00:47:11.120912</dc:date>\n",
       "    <dc:format>image/svg+xml</dc:format>\n",
       "    <dc:creator>\n",
       "     <cc:Agent>\n",
       "      <dc:title>Matplotlib v3.5.3, https://matplotlib.org/</dc:title>\n",
       "     </cc:Agent>\n",
       "    </dc:creator>\n",
       "   </cc:Work>\n",
       "  </rdf:RDF>\n",
       " </metadata>\n",
       " <defs>\n",
       "  <style type=\"text/css\">*{stroke-linejoin: round; stroke-linecap: butt}</style>\n",
       " </defs>\n",
       " <g id=\"figure_1\">\n",
       "  <g id=\"patch_1\">\n",
       "   <path d=\"M 0 564.48 \n",
       "L 564.48 564.48 \n",
       "L 564.48 0 \n",
       "L 0 0 \n",
       "z\n",
       "\" style=\"fill: #ffffff\"/>\n",
       "  </g>\n",
       "  <g id=\"axes_1\">\n",
       "   <g clip-path=\"url(#p00be2ad83f)\">\n",
       "    <image xlink:href=\"data:image/png;base64,\n",
       "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\" id=\"imageed1edd16c5\" transform=\"matrix(6.406977 0 0 6.406977 7.2 6.28)\" style=\"image-rendering:crisp-edges;image-rendering:pixelated\" width=\"86\" height=\"86\"/>\n",
       "   </g>\n",
       "  </g>\n",
       " </g>\n",
       " <defs>\n",
       "  <clipPath id=\"p00be2ad83f\">\n",
       "   <rect x=\"7.2\" y=\"7.2\" width=\"550.08\" height=\"550.08\"/>\n",
       "  </clipPath>\n",
       " </defs>\n",
       "</svg>\n"
      ],
      "text/plain": [
       "<Figure size 800x800 with 1 Axes>"
      ]
     },
     "metadata": {},
     "output_type": "display_data"
    }
   ],
   "source": [
    "planes = ps.visualization.show_planes(im, spacing = 2)\n",
    "fig, ax = plt.subplots(1, 1, figsize=[8, 8])\n",
    "ax.imshow(planes)\n",
    "ax.axis(False);"
   ]
  }
 ],
 "metadata": {
  "kernelspec": {
   "display_name": "Python 3 (ipykernel)",
   "language": "python",
   "name": "python3"
  },
  "language_info": {
   "codemirror_mode": {
    "name": "ipython",
    "version": 3
   },
   "file_extension": ".py",
   "mimetype": "text/x-python",
   "name": "python",
   "nbconvert_exporter": "python",
   "pygments_lexer": "ipython3",
   "version": "3.8.13"
  }
 },
 "nbformat": 4,
 "nbformat_minor": 5
}

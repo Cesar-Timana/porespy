{
 "cells": [
  {
   "cell_type": "markdown",
   "id": "4a972029",
   "metadata": {},
   "source": [
    "#  `show_planes` "
   ]
  },
  {
   "cell_type": "markdown",
   "id": "103a1704",
   "metadata": {},
   "source": [
    "Create a quick montage showing a 3D image in all three directions."
   ]
  },
  {
   "cell_type": "code",
   "execution_count": 1,
   "id": "dcf63949",
   "metadata": {
    "execution": {
     "iopub.execute_input": "2022-08-12T21:51:07.243367Z",
     "iopub.status.busy": "2022-08-12T21:51:07.242733Z",
     "iopub.status.idle": "2022-08-12T21:51:09.348497Z",
     "shell.execute_reply": "2022-08-12T21:51:09.347712Z"
    }
   },
   "outputs": [
    {
     "data": {
      "text/plain": [
       "<Signature (im, spacing=10)>"
      ]
     },
     "execution_count": 1,
     "metadata": {},
     "output_type": "execute_result"
    }
   ],
   "source": [
    "import matplotlib.pyplot as plt\n",
    "import numpy as np\n",
    "import porespy as ps\n",
    "import inspect\n",
    "ps.visualization.set_mpl_style()\n",
    "inspect.signature(ps.visualization.show_planes)"
   ]
  },
  {
   "cell_type": "markdown",
   "id": "c1d0fe72",
   "metadata": {},
   "source": [
    "## `im`\n",
    "The input image is 3D array to be veiwed in three directions. Note that the method does not work for 2D arrays as input.\n",
    "Note that the upper left image shows the xy plane at z=(image length in z dir/2). The lower left image shows the xz plane at y=(image length in y dir/2). The upper right image shows the yz plane at x=(image length in x dir/2)."
   ]
  },
  {
   "cell_type": "code",
   "execution_count": 2,
   "id": "7d20e730",
   "metadata": {
    "execution": {
     "iopub.execute_input": "2022-08-12T21:51:09.354052Z",
     "iopub.status.busy": "2022-08-12T21:51:09.352547Z",
     "iopub.status.idle": "2022-08-12T21:51:09.475984Z",
     "shell.execute_reply": "2022-08-12T21:51:09.475428Z"
    }
   },
   "outputs": [
    {
     "data": {
      "image/svg+xml": [
       "<?xml version=\"1.0\" encoding=\"utf-8\" standalone=\"no\"?>\n",
       "<!DOCTYPE svg PUBLIC \"-//W3C//DTD SVG 1.1//EN\"\n",
       "  \"http://www.w3.org/Graphics/SVG/1.1/DTD/svg11.dtd\">\n",
       "<svg xmlns:xlink=\"http://www.w3.org/1999/xlink\" width=\"568.8pt\" height=\"568.8pt\" viewBox=\"0 0 568.8 568.8\" xmlns=\"http://www.w3.org/2000/svg\" version=\"1.1\">\n",
       " <metadata>\n",
       "  <rdf:RDF xmlns:dc=\"http://purl.org/dc/elements/1.1/\" xmlns:cc=\"http://creativecommons.org/ns#\" xmlns:rdf=\"http://www.w3.org/1999/02/22-rdf-syntax-ns#\">\n",
       "   <cc:Work>\n",
       "    <dc:type rdf:resource=\"http://purl.org/dc/dcmitype/StillImage\"/>\n",
       "    <dc:date>2022-08-12T21:51:09.454733</dc:date>\n",
       "    <dc:format>image/svg+xml</dc:format>\n",
       "    <dc:creator>\n",
       "     <cc:Agent>\n",
       "      <dc:title>Matplotlib v3.5.3, https://matplotlib.org/</dc:title>\n",
       "     </cc:Agent>\n",
       "    </dc:creator>\n",
       "   </cc:Work>\n",
       "  </rdf:RDF>\n",
       " </metadata>\n",
       " <defs>\n",
       "  <style type=\"text/css\">*{stroke-linejoin: round; stroke-linecap: butt}</style>\n",
       " </defs>\n",
       " <g id=\"figure_1\">\n",
       "  <g id=\"patch_1\">\n",
       "   <path d=\"M 0 568.8 \n",
       "L 568.8 568.8 \n",
       "L 568.8 0 \n",
       "L 0 0 \n",
       "L 0 568.8 \n",
       "z\n",
       "\" style=\"fill: none\"/>\n",
       "  </g>\n",
       "  <g id=\"axes_1\">\n",
       "   <g clip-path=\"url(#p7c7ab6733d)\">\n",
       "    <image xlink:href=\"data:image/png;base64,\n",
       "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\" id=\"imagee4a4a9c114\" transform=\"matrix(5.045455 0 0 5.045455 7.2 6.6)\" style=\"image-rendering:crisp-edges;image-rendering:pixelated\" width=\"110\" height=\"110\"/>\n",
       "   </g>\n",
       "  </g>\n",
       " </g>\n",
       " <defs>\n",
       "  <clipPath id=\"p7c7ab6733d\">\n",
       "   <rect x=\"7.2\" y=\"7.2\" width=\"554.4\" height=\"554.4\"/>\n",
       "  </clipPath>\n",
       " </defs>\n",
       "</svg>\n"
      ],
      "text/plain": [
       "<Figure size 576x576 with 1 Axes>"
      ]
     },
     "metadata": {
      "needs_background": "light"
     },
     "output_type": "display_data"
    }
   ],
   "source": [
    "im = ps.generators.blobs(shape=[40, 40, 40])\n",
    "planes = ps.visualization.show_planes(im)\n",
    "fig, ax = plt.subplots(1, 1, figsize=[8, 8])\n",
    "ax.imshow(planes)\n",
    "ax.axis(False);"
   ]
  },
  {
   "cell_type": "markdown",
   "id": "3339e6b5",
   "metadata": {},
   "source": [
    "## `spacing`"
   ]
  },
  {
   "cell_type": "markdown",
   "id": "7fdafe1f",
   "metadata": {},
   "source": [
    "This parameter defines the amount of space to put between each plane. The default spacing is 10."
   ]
  },
  {
   "cell_type": "code",
   "execution_count": 3,
   "id": "c9d58846",
   "metadata": {
    "execution": {
     "iopub.execute_input": "2022-08-12T21:51:09.479500Z",
     "iopub.status.busy": "2022-08-12T21:51:09.479103Z",
     "iopub.status.idle": "2022-08-12T21:51:09.587037Z",
     "shell.execute_reply": "2022-08-12T21:51:09.586362Z"
    }
   },
   "outputs": [
    {
     "data": {
      "image/svg+xml": [
       "<?xml version=\"1.0\" encoding=\"utf-8\" standalone=\"no\"?>\n",
       "<!DOCTYPE svg PUBLIC \"-//W3C//DTD SVG 1.1//EN\"\n",
       "  \"http://www.w3.org/Graphics/SVG/1.1/DTD/svg11.dtd\">\n",
       "<svg xmlns:xlink=\"http://www.w3.org/1999/xlink\" width=\"568.8pt\" height=\"568.8pt\" viewBox=\"0 0 568.8 568.8\" xmlns=\"http://www.w3.org/2000/svg\" version=\"1.1\">\n",
       " <metadata>\n",
       "  <rdf:RDF xmlns:dc=\"http://purl.org/dc/elements/1.1/\" xmlns:cc=\"http://creativecommons.org/ns#\" xmlns:rdf=\"http://www.w3.org/1999/02/22-rdf-syntax-ns#\">\n",
       "   <cc:Work>\n",
       "    <dc:type rdf:resource=\"http://purl.org/dc/dcmitype/StillImage\"/>\n",
       "    <dc:date>2022-08-12T21:51:09.579486</dc:date>\n",
       "    <dc:format>image/svg+xml</dc:format>\n",
       "    <dc:creator>\n",
       "     <cc:Agent>\n",
       "      <dc:title>Matplotlib v3.5.3, https://matplotlib.org/</dc:title>\n",
       "     </cc:Agent>\n",
       "    </dc:creator>\n",
       "   </cc:Work>\n",
       "  </rdf:RDF>\n",
       " </metadata>\n",
       " <defs>\n",
       "  <style type=\"text/css\">*{stroke-linejoin: round; stroke-linecap: butt}</style>\n",
       " </defs>\n",
       " <g id=\"figure_1\">\n",
       "  <g id=\"patch_1\">\n",
       "   <path d=\"M 0 568.8 \n",
       "L 568.8 568.8 \n",
       "L 568.8 0 \n",
       "L 0 0 \n",
       "L 0 568.8 \n",
       "z\n",
       "\" style=\"fill: none\"/>\n",
       "  </g>\n",
       "  <g id=\"axes_1\">\n",
       "   <g clip-path=\"url(#pf8fd68294b)\">\n",
       "    <image xlink:href=\"data:image/png;base64,\n",
       "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\" id=\"image5ca49124a7\" transform=\"matrix(6.453488 0 0 6.453488 7.2 6.6)\" style=\"image-rendering:crisp-edges;image-rendering:pixelated\" width=\"86\" height=\"86\"/>\n",
       "   </g>\n",
       "  </g>\n",
       " </g>\n",
       " <defs>\n",
       "  <clipPath id=\"pf8fd68294b\">\n",
       "   <rect x=\"7.2\" y=\"7.2\" width=\"554.4\" height=\"554.4\"/>\n",
       "  </clipPath>\n",
       " </defs>\n",
       "</svg>\n"
      ],
      "text/plain": [
       "<Figure size 576x576 with 1 Axes>"
      ]
     },
     "metadata": {
      "needs_background": "light"
     },
     "output_type": "display_data"
    }
   ],
   "source": [
    "planes = ps.visualization.show_planes(im, spacing = 2)\n",
    "fig, ax = plt.subplots(1, 1, figsize=[8, 8])\n",
    "ax.imshow(planes)\n",
    "ax.axis(False);"
   ]
  }
 ],
 "metadata": {
  "kernelspec": {
   "display_name": "Python 3 (ipykernel)",
   "language": "python",
   "name": "python3"
  },
  "language_info": {
   "codemirror_mode": {
    "name": "ipython",
    "version": 3
   },
   "file_extension": ".py",
   "mimetype": "text/x-python",
   "name": "python",
   "nbconvert_exporter": "python",
   "pygments_lexer": "ipython3",
   "version": "3.8.13"
  }
 },
 "nbformat": 4,
 "nbformat_minor": 5
}

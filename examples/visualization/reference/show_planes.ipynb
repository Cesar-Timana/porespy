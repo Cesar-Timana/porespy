{
 "cells": [
  {
   "cell_type": "markdown",
   "id": "4a972029",
   "metadata": {},
   "source": [
    "#  `show_planes` "
   ]
  },
  {
   "cell_type": "markdown",
   "id": "103a1704",
   "metadata": {},
   "source": [
    "Create a quick montage showing a 3D image in all three directions."
   ]
  },
  {
   "cell_type": "code",
   "execution_count": 1,
   "id": "dcf63949",
   "metadata": {
    "execution": {
     "iopub.execute_input": "2022-08-22T18:52:17.791559Z",
     "iopub.status.busy": "2022-08-22T18:52:17.790461Z",
     "iopub.status.idle": "2022-08-22T18:52:19.948771Z",
     "shell.execute_reply": "2022-08-22T18:52:19.948146Z"
    }
   },
   "outputs": [
    {
     "data": {
      "text/plain": [
       "<Signature (im, spacing=10)>"
      ]
     },
     "execution_count": 1,
     "metadata": {},
     "output_type": "execute_result"
    }
   ],
   "source": [
    "import matplotlib.pyplot as plt\n",
    "import numpy as np\n",
    "import porespy as ps\n",
    "import inspect\n",
    "ps.visualization.set_mpl_style()\n",
    "inspect.signature(ps.visualization.show_planes)"
   ]
  },
  {
   "cell_type": "markdown",
   "id": "c1d0fe72",
   "metadata": {},
   "source": [
    "## `im`\n",
    "The input image is 3D array to be veiwed in three directions. Note that the method does not work for 2D arrays as input.\n",
    "Note that the upper left image shows the xy plane at z=(image length in z dir/2). The lower left image shows the xz plane at y=(image length in y dir/2). The upper right image shows the yz plane at x=(image length in x dir/2)."
   ]
  },
  {
   "cell_type": "code",
   "execution_count": 2,
   "id": "7d20e730",
   "metadata": {
    "execution": {
     "iopub.execute_input": "2022-08-22T18:52:19.953786Z",
     "iopub.status.busy": "2022-08-22T18:52:19.952277Z",
     "iopub.status.idle": "2022-08-22T18:52:20.063009Z",
     "shell.execute_reply": "2022-08-22T18:52:20.062439Z"
    }
   },
   "outputs": [
    {
     "data": {
      "image/svg+xml": [
       "<?xml version=\"1.0\" encoding=\"utf-8\" standalone=\"no\"?>\n",
       "<!DOCTYPE svg PUBLIC \"-//W3C//DTD SVG 1.1//EN\"\n",
       "  \"http://www.w3.org/Graphics/SVG/1.1/DTD/svg11.dtd\">\n",
       "<svg xmlns:xlink=\"http://www.w3.org/1999/xlink\" width=\"564.48pt\" height=\"564.48pt\" viewBox=\"0 0 564.48 564.48\" xmlns=\"http://www.w3.org/2000/svg\" version=\"1.1\">\n",
       " <metadata>\n",
       "  <rdf:RDF xmlns:dc=\"http://purl.org/dc/elements/1.1/\" xmlns:cc=\"http://creativecommons.org/ns#\" xmlns:rdf=\"http://www.w3.org/1999/02/22-rdf-syntax-ns#\">\n",
       "   <cc:Work>\n",
       "    <dc:type rdf:resource=\"http://purl.org/dc/dcmitype/StillImage\"/>\n",
       "    <dc:date>2022-08-22T18:52:20.042696</dc:date>\n",
       "    <dc:format>image/svg+xml</dc:format>\n",
       "    <dc:creator>\n",
       "     <cc:Agent>\n",
       "      <dc:title>Matplotlib v3.5.3, https://matplotlib.org/</dc:title>\n",
       "     </cc:Agent>\n",
       "    </dc:creator>\n",
       "   </cc:Work>\n",
       "  </rdf:RDF>\n",
       " </metadata>\n",
       " <defs>\n",
       "  <style type=\"text/css\">*{stroke-linejoin: round; stroke-linecap: butt}</style>\n",
       " </defs>\n",
       " <g id=\"figure_1\">\n",
       "  <g id=\"patch_1\">\n",
       "   <path d=\"M 0 564.48 \n",
       "L 564.48 564.48 \n",
       "L 564.48 0 \n",
       "L 0 0 \n",
       "z\n",
       "\" style=\"fill: #ffffff\"/>\n",
       "  </g>\n",
       "  <g id=\"axes_1\">\n",
       "   <g clip-path=\"url(#pa5317c1449)\">\n",
       "    <image xlink:href=\"data:image/png;base64,\n",
       "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\" id=\"image5397c3a77d\" transform=\"matrix(5.009091 0 0 5.009091 7.2 6.28)\" style=\"image-rendering:crisp-edges;image-rendering:pixelated\" width=\"110\" height=\"110\"/>\n",
       "   </g>\n",
       "  </g>\n",
       " </g>\n",
       " <defs>\n",
       "  <clipPath id=\"pa5317c1449\">\n",
       "   <rect x=\"7.2\" y=\"7.2\" width=\"550.08\" height=\"550.08\"/>\n",
       "  </clipPath>\n",
       " </defs>\n",
       "</svg>\n"
      ],
      "text/plain": [
       "<Figure size 800x800 with 1 Axes>"
      ]
     },
     "metadata": {},
     "output_type": "display_data"
    }
   ],
   "source": [
    "im = ps.generators.blobs(shape=[40, 40, 40])\n",
    "planes = ps.visualization.show_planes(im)\n",
    "fig, ax = plt.subplots(1, 1, figsize=[8, 8])\n",
    "ax.imshow(planes)\n",
    "ax.axis(False);"
   ]
  },
  {
   "cell_type": "markdown",
   "id": "3339e6b5",
   "metadata": {},
   "source": [
    "## `spacing`"
   ]
  },
  {
   "cell_type": "markdown",
   "id": "7fdafe1f",
   "metadata": {},
   "source": [
    "This parameter defines the amount of space to put between each plane. The default spacing is 10."
   ]
  },
  {
   "cell_type": "code",
   "execution_count": 3,
   "id": "c9d58846",
   "metadata": {
    "execution": {
     "iopub.execute_input": "2022-08-22T18:52:20.068528Z",
     "iopub.status.busy": "2022-08-22T18:52:20.067453Z",
     "iopub.status.idle": "2022-08-22T18:52:20.144223Z",
     "shell.execute_reply": "2022-08-22T18:52:20.143593Z"
    }
   },
   "outputs": [
    {
     "data": {
      "image/svg+xml": [
       "<?xml version=\"1.0\" encoding=\"utf-8\" standalone=\"no\"?>\n",
       "<!DOCTYPE svg PUBLIC \"-//W3C//DTD SVG 1.1//EN\"\n",
       "  \"http://www.w3.org/Graphics/SVG/1.1/DTD/svg11.dtd\">\n",
       "<svg xmlns:xlink=\"http://www.w3.org/1999/xlink\" width=\"564.48pt\" height=\"564.48pt\" viewBox=\"0 0 564.48 564.48\" xmlns=\"http://www.w3.org/2000/svg\" version=\"1.1\">\n",
       " <metadata>\n",
       "  <rdf:RDF xmlns:dc=\"http://purl.org/dc/elements/1.1/\" xmlns:cc=\"http://creativecommons.org/ns#\" xmlns:rdf=\"http://www.w3.org/1999/02/22-rdf-syntax-ns#\">\n",
       "   <cc:Work>\n",
       "    <dc:type rdf:resource=\"http://purl.org/dc/dcmitype/StillImage\"/>\n",
       "    <dc:date>2022-08-22T18:52:20.130911</dc:date>\n",
       "    <dc:format>image/svg+xml</dc:format>\n",
       "    <dc:creator>\n",
       "     <cc:Agent>\n",
       "      <dc:title>Matplotlib v3.5.3, https://matplotlib.org/</dc:title>\n",
       "     </cc:Agent>\n",
       "    </dc:creator>\n",
       "   </cc:Work>\n",
       "  </rdf:RDF>\n",
       " </metadata>\n",
       " <defs>\n",
       "  <style type=\"text/css\">*{stroke-linejoin: round; stroke-linecap: butt}</style>\n",
       " </defs>\n",
       " <g id=\"figure_1\">\n",
       "  <g id=\"patch_1\">\n",
       "   <path d=\"M 0 564.48 \n",
       "L 564.48 564.48 \n",
       "L 564.48 0 \n",
       "L 0 0 \n",
       "z\n",
       "\" style=\"fill: #ffffff\"/>\n",
       "  </g>\n",
       "  <g id=\"axes_1\">\n",
       "   <g clip-path=\"url(#p1d60b16044)\">\n",
       "    <image xlink:href=\"data:image/png;base64,\n",
       "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\" id=\"image54b3326d16\" transform=\"matrix(6.406977 0 0 6.406977 7.2 6.28)\" style=\"image-rendering:crisp-edges;image-rendering:pixelated\" width=\"86\" height=\"86\"/>\n",
       "   </g>\n",
       "  </g>\n",
       " </g>\n",
       " <defs>\n",
       "  <clipPath id=\"p1d60b16044\">\n",
       "   <rect x=\"7.2\" y=\"7.2\" width=\"550.08\" height=\"550.08\"/>\n",
       "  </clipPath>\n",
       " </defs>\n",
       "</svg>\n"
      ],
      "text/plain": [
       "<Figure size 800x800 with 1 Axes>"
      ]
     },
     "metadata": {},
     "output_type": "display_data"
    }
   ],
   "source": [
    "planes = ps.visualization.show_planes(im, spacing = 2)\n",
    "fig, ax = plt.subplots(1, 1, figsize=[8, 8])\n",
    "ax.imshow(planes)\n",
    "ax.axis(False);"
   ]
  }
 ],
 "metadata": {
  "kernelspec": {
   "display_name": "Python 3 (ipykernel)",
   "language": "python",
   "name": "python3"
  },
  "language_info": {
   "codemirror_mode": {
    "name": "ipython",
    "version": 3
   },
   "file_extension": ".py",
   "mimetype": "text/x-python",
   "name": "python",
   "nbconvert_exporter": "python",
   "pygments_lexer": "ipython3",
   "version": "3.8.13"
  }
 },
 "nbformat": 4,
 "nbformat_minor": 5
}

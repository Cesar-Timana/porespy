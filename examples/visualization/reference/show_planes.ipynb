{
 "cells": [
  {
   "cell_type": "markdown",
   "id": "4a972029",
   "metadata": {},
   "source": [
    "#  `show_planes` "
   ]
  },
  {
   "cell_type": "markdown",
   "id": "103a1704",
   "metadata": {},
   "source": [
    "Create a quick montage showing a 3D image in all three directions."
   ]
  },
  {
   "cell_type": "code",
   "execution_count": 1,
   "id": "dcf63949",
   "metadata": {
    "execution": {
     "iopub.execute_input": "2022-09-08T00:01:05.158669Z",
     "iopub.status.busy": "2022-09-08T00:01:05.157976Z",
     "iopub.status.idle": "2022-09-08T00:01:06.882953Z",
     "shell.execute_reply": "2022-09-08T00:01:06.882332Z"
    }
   },
   "outputs": [
    {
     "data": {
      "text/plain": [
       "<Signature (im, spacing=10)>"
      ]
     },
     "execution_count": 1,
     "metadata": {},
     "output_type": "execute_result"
    }
   ],
   "source": [
    "import matplotlib.pyplot as plt\n",
    "import numpy as np\n",
    "import porespy as ps\n",
    "import inspect\n",
    "ps.visualization.set_mpl_style()\n",
    "inspect.signature(ps.visualization.show_planes)"
   ]
  },
  {
   "cell_type": "markdown",
   "id": "c1d0fe72",
   "metadata": {},
   "source": [
    "## `im`\n",
    "The input image is 3D array to be veiwed in three directions. Note that the method does not work for 2D arrays as input.\n",
    "Note that the upper left image shows the xy plane at z=(image length in z dir/2). The lower left image shows the xz plane at y=(image length in y dir/2). The upper right image shows the yz plane at x=(image length in x dir/2)."
   ]
  },
  {
   "cell_type": "code",
   "execution_count": 2,
   "id": "7d20e730",
   "metadata": {
    "execution": {
     "iopub.execute_input": "2022-09-08T00:01:06.887776Z",
     "iopub.status.busy": "2022-09-08T00:01:06.886710Z",
     "iopub.status.idle": "2022-09-08T00:01:07.031530Z",
     "shell.execute_reply": "2022-09-08T00:01:07.031025Z"
    }
   },
   "outputs": [
    {
     "data": {
      "image/svg+xml": [
       "<?xml version=\"1.0\" encoding=\"utf-8\" standalone=\"no\"?>\n",
       "<!DOCTYPE svg PUBLIC \"-//W3C//DTD SVG 1.1//EN\"\n",
       "  \"http://www.w3.org/Graphics/SVG/1.1/DTD/svg11.dtd\">\n",
       "<svg xmlns:xlink=\"http://www.w3.org/1999/xlink\" width=\"564.48pt\" height=\"564.48pt\" viewBox=\"0 0 564.48 564.48\" xmlns=\"http://www.w3.org/2000/svg\" version=\"1.1\">\n",
       " <metadata>\n",
       "  <rdf:RDF xmlns:dc=\"http://purl.org/dc/elements/1.1/\" xmlns:cc=\"http://creativecommons.org/ns#\" xmlns:rdf=\"http://www.w3.org/1999/02/22-rdf-syntax-ns#\">\n",
       "   <cc:Work>\n",
       "    <dc:type rdf:resource=\"http://purl.org/dc/dcmitype/StillImage\"/>\n",
       "    <dc:date>2022-09-08T00:01:07.021243</dc:date>\n",
       "    <dc:format>image/svg+xml</dc:format>\n",
       "    <dc:creator>\n",
       "     <cc:Agent>\n",
       "      <dc:title>Matplotlib v3.5.3, https://matplotlib.org/</dc:title>\n",
       "     </cc:Agent>\n",
       "    </dc:creator>\n",
       "   </cc:Work>\n",
       "  </rdf:RDF>\n",
       " </metadata>\n",
       " <defs>\n",
       "  <style type=\"text/css\">*{stroke-linejoin: round; stroke-linecap: butt}</style>\n",
       " </defs>\n",
       " <g id=\"figure_1\">\n",
       "  <g id=\"patch_1\">\n",
       "   <path d=\"M 0 564.48 \n",
       "L 564.48 564.48 \n",
       "L 564.48 0 \n",
       "L 0 0 \n",
       "z\n",
       "\" style=\"fill: #ffffff\"/>\n",
       "  </g>\n",
       "  <g id=\"axes_1\">\n",
       "   <g clip-path=\"url(#pb8e6926acb)\">\n",
       "    <image xlink:href=\"data:image/png;base64,\n",
       "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\" id=\"image77e1156dd6\" transform=\"matrix(5.009091 0 0 5.009091 7.2 6.28)\" style=\"image-rendering:crisp-edges;image-rendering:pixelated\" width=\"110\" height=\"110\"/>\n",
       "   </g>\n",
       "  </g>\n",
       " </g>\n",
       " <defs>\n",
       "  <clipPath id=\"pb8e6926acb\">\n",
       "   <rect x=\"7.2\" y=\"7.2\" width=\"550.08\" height=\"550.08\"/>\n",
       "  </clipPath>\n",
       " </defs>\n",
       "</svg>\n"
      ],
      "text/plain": [
       "<Figure size 800x800 with 1 Axes>"
      ]
     },
     "metadata": {},
     "output_type": "display_data"
    }
   ],
   "source": [
    "im = ps.generators.blobs(shape=[40, 40, 40])\n",
    "planes = ps.visualization.show_planes(im)\n",
    "fig, ax = plt.subplots(1, 1, figsize=[8, 8])\n",
    "ax.imshow(planes)\n",
    "ax.axis(False);"
   ]
  },
  {
   "cell_type": "markdown",
   "id": "3339e6b5",
   "metadata": {},
   "source": [
    "## `spacing`"
   ]
  },
  {
   "cell_type": "markdown",
   "id": "7fdafe1f",
   "metadata": {},
   "source": [
    "This parameter defines the amount of space to put between each plane. The default spacing is 10."
   ]
  },
  {
   "cell_type": "code",
   "execution_count": 3,
   "id": "c9d58846",
   "metadata": {
    "execution": {
     "iopub.execute_input": "2022-09-08T00:01:07.036452Z",
     "iopub.status.busy": "2022-09-08T00:01:07.035381Z",
     "iopub.status.idle": "2022-09-08T00:01:07.090913Z",
     "shell.execute_reply": "2022-09-08T00:01:07.090407Z"
    }
   },
   "outputs": [
    {
     "data": {
      "image/svg+xml": [
       "<?xml version=\"1.0\" encoding=\"utf-8\" standalone=\"no\"?>\n",
       "<!DOCTYPE svg PUBLIC \"-//W3C//DTD SVG 1.1//EN\"\n",
       "  \"http://www.w3.org/Graphics/SVG/1.1/DTD/svg11.dtd\">\n",
       "<svg xmlns:xlink=\"http://www.w3.org/1999/xlink\" width=\"564.48pt\" height=\"564.48pt\" viewBox=\"0 0 564.48 564.48\" xmlns=\"http://www.w3.org/2000/svg\" version=\"1.1\">\n",
       " <metadata>\n",
       "  <rdf:RDF xmlns:dc=\"http://purl.org/dc/elements/1.1/\" xmlns:cc=\"http://creativecommons.org/ns#\" xmlns:rdf=\"http://www.w3.org/1999/02/22-rdf-syntax-ns#\">\n",
       "   <cc:Work>\n",
       "    <dc:type rdf:resource=\"http://purl.org/dc/dcmitype/StillImage\"/>\n",
       "    <dc:date>2022-09-08T00:01:07.084021</dc:date>\n",
       "    <dc:format>image/svg+xml</dc:format>\n",
       "    <dc:creator>\n",
       "     <cc:Agent>\n",
       "      <dc:title>Matplotlib v3.5.3, https://matplotlib.org/</dc:title>\n",
       "     </cc:Agent>\n",
       "    </dc:creator>\n",
       "   </cc:Work>\n",
       "  </rdf:RDF>\n",
       " </metadata>\n",
       " <defs>\n",
       "  <style type=\"text/css\">*{stroke-linejoin: round; stroke-linecap: butt}</style>\n",
       " </defs>\n",
       " <g id=\"figure_1\">\n",
       "  <g id=\"patch_1\">\n",
       "   <path d=\"M 0 564.48 \n",
       "L 564.48 564.48 \n",
       "L 564.48 0 \n",
       "L 0 0 \n",
       "z\n",
       "\" style=\"fill: #ffffff\"/>\n",
       "  </g>\n",
       "  <g id=\"axes_1\">\n",
       "   <g clip-path=\"url(#pbdd8f9b68b)\">\n",
       "    <image xlink:href=\"data:image/png;base64,\n",
       "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\" id=\"imagefccb1b68b8\" transform=\"matrix(6.406977 0 0 6.406977 7.2 6.28)\" style=\"image-rendering:crisp-edges;image-rendering:pixelated\" width=\"86\" height=\"86\"/>\n",
       "   </g>\n",
       "  </g>\n",
       " </g>\n",
       " <defs>\n",
       "  <clipPath id=\"pbdd8f9b68b\">\n",
       "   <rect x=\"7.2\" y=\"7.2\" width=\"550.08\" height=\"550.08\"/>\n",
       "  </clipPath>\n",
       " </defs>\n",
       "</svg>\n"
      ],
      "text/plain": [
       "<Figure size 800x800 with 1 Axes>"
      ]
     },
     "metadata": {},
     "output_type": "display_data"
    }
   ],
   "source": [
    "planes = ps.visualization.show_planes(im, spacing = 2)\n",
    "fig, ax = plt.subplots(1, 1, figsize=[8, 8])\n",
    "ax.imshow(planes)\n",
    "ax.axis(False);"
   ]
  }
 ],
 "metadata": {
  "kernelspec": {
   "display_name": "Python 3 (ipykernel)",
   "language": "python",
   "name": "python3"
  },
  "language_info": {
   "codemirror_mode": {
    "name": "ipython",
    "version": 3
   },
   "file_extension": ".py",
   "mimetype": "text/x-python",
   "name": "python",
   "nbconvert_exporter": "python",
   "pygments_lexer": "ipython3",
   "version": "3.8.13"
  }
 },
 "nbformat": 4,
 "nbformat_minor": 5
}

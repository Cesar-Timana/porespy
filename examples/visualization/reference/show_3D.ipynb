{
 "cells": [
  {
   "cell_type": "markdown",
   "id": "608d0001",
   "metadata": {},
   "source": [
    "#  `show_3D` "
   ]
  },
  {
   "cell_type": "markdown",
   "id": "92fad141",
   "metadata": {},
   "source": [
    "Rotates a 3D image and creates an angled view for a rough 2D visualization. This method uses `scipy.ndimage.rotate` function to view the 3D image from an angle, then projects the result in 2D. This method is useful for a quick visualization of small prototype images. Because it rotates the image it can be slow for large images."
   ]
  },
  {
   "cell_type": "code",
   "execution_count": 1,
   "id": "e3d2c7ef",
   "metadata": {
    "execution": {
     "iopub.execute_input": "2022-08-23T00:47:00.406982Z",
     "iopub.status.busy": "2022-08-23T00:47:00.406400Z",
     "iopub.status.idle": "2022-08-23T00:47:02.294884Z",
     "shell.execute_reply": "2022-08-23T00:47:02.294201Z"
    }
   },
   "outputs": [
    {
     "data": {
      "text/plain": [
       "<Signature (im)>"
      ]
     },
     "execution_count": 1,
     "metadata": {},
     "output_type": "execute_result"
    }
   ],
   "source": [
    "import matplotlib.pyplot as plt\n",
    "import numpy as np\n",
    "import porespy as ps\n",
    "import inspect\n",
    "ps.visualization.set_mpl_style()\n",
    "inspect.signature(ps.visualization.show_3D)"
   ]
  },
  {
   "cell_type": "markdown",
   "id": "54261dfb",
   "metadata": {},
   "source": [
    "## `im`\n",
    "The input image is 3D array to be veiwed in 3D. Note that the method does not work for 2D arrays as input."
   ]
  },
  {
   "cell_type": "code",
   "execution_count": 2,
   "id": "3489b58f",
   "metadata": {
    "execution": {
     "iopub.execute_input": "2022-08-23T00:47:02.299250Z",
     "iopub.status.busy": "2022-08-23T00:47:02.298367Z",
     "iopub.status.idle": "2022-08-23T00:47:02.393280Z",
     "shell.execute_reply": "2022-08-23T00:47:02.392765Z"
    }
   },
   "outputs": [
    {
     "data": {
      "image/svg+xml": [
       "<?xml version=\"1.0\" encoding=\"utf-8\" standalone=\"no\"?>\n",
       "<!DOCTYPE svg PUBLIC \"-//W3C//DTD SVG 1.1//EN\"\n",
       "  \"http://www.w3.org/Graphics/SVG/1.1/DTD/svg11.dtd\">\n",
       "<svg xmlns:xlink=\"http://www.w3.org/1999/xlink\" width=\"432pt\" height=\"348.48pt\" viewBox=\"0 0 432 348.48\" xmlns=\"http://www.w3.org/2000/svg\" version=\"1.1\">\n",
       " <metadata>\n",
       "  <rdf:RDF xmlns:dc=\"http://purl.org/dc/elements/1.1/\" xmlns:cc=\"http://creativecommons.org/ns#\" xmlns:rdf=\"http://www.w3.org/1999/02/22-rdf-syntax-ns#\">\n",
       "   <cc:Work>\n",
       "    <dc:type rdf:resource=\"http://purl.org/dc/dcmitype/StillImage\"/>\n",
       "    <dc:date>2022-08-23T00:47:02.382406</dc:date>\n",
       "    <dc:format>image/svg+xml</dc:format>\n",
       "    <dc:creator>\n",
       "     <cc:Agent>\n",
       "      <dc:title>Matplotlib v3.5.3, https://matplotlib.org/</dc:title>\n",
       "     </cc:Agent>\n",
       "    </dc:creator>\n",
       "   </cc:Work>\n",
       "  </rdf:RDF>\n",
       " </metadata>\n",
       " <defs>\n",
       "  <style type=\"text/css\">*{stroke-linejoin: round; stroke-linecap: butt}</style>\n",
       " </defs>\n",
       " <g id=\"figure_1\">\n",
       "  <g id=\"patch_1\">\n",
       "   <path d=\"M 0 348.48 \n",
       "L 432 348.48 \n",
       "L 432 0 \n",
       "L 0 0 \n",
       "z\n",
       "\" style=\"fill: #ffffff\"/>\n",
       "  </g>\n",
       "  <g id=\"axes_1\">\n",
       "   <g clip-path=\"url(#pd4ae1c8aa9)\">\n",
       "    <image xlink:href=\"data:image/png;base64,\n",
       "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\" id=\"image7ec9a9520a\" transform=\"matrix(6.430769 0 0 6.442308 7.2 6.28)\" style=\"image-rendering:crisp-edges;image-rendering:pixelated\" width=\"65\" height=\"52\"/>\n",
       "   </g>\n",
       "  </g>\n",
       " </g>\n",
       " <defs>\n",
       "  <clipPath id=\"pd4ae1c8aa9\">\n",
       "   <rect x=\"7.2\" y=\"7.2\" width=\"417.6\" height=\"334.08\"/>\n",
       "  </clipPath>\n",
       " </defs>\n",
       "</svg>\n"
      ],
      "text/plain": [
       "<Figure size 1200x500 with 1 Axes>"
      ]
     },
     "metadata": {},
     "output_type": "display_data"
    }
   ],
   "source": [
    "im = ps.generators.blobs(shape=[40, 40, 40])\n",
    "im_viz = ps.visualization.show_3D(im)\n",
    "fig, ax = plt.subplots(1, 1, figsize=[12, 5])\n",
    "ax.imshow(im_viz)\n",
    "ax.axis(False);"
   ]
  }
 ],
 "metadata": {
  "kernelspec": {
   "display_name": "Python 3 (ipykernel)",
   "language": "python",
   "name": "python3"
  },
  "language_info": {
   "codemirror_mode": {
    "name": "ipython",
    "version": 3
   },
   "file_extension": ".py",
   "mimetype": "text/x-python",
   "name": "python",
   "nbconvert_exporter": "python",
   "pygments_lexer": "ipython3",
   "version": "3.8.13"
  }
 },
 "nbformat": 4,
 "nbformat_minor": 5
}

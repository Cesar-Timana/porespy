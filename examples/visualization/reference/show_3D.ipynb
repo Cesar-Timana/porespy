{
 "cells": [
  {
   "cell_type": "markdown",
   "id": "608d0001",
   "metadata": {},
   "source": [
    "#  `show_3D` "
   ]
  },
  {
   "cell_type": "markdown",
   "id": "92fad141",
   "metadata": {},
   "source": [
    "Rotates a 3D image and creates an angled view for a rough 2D visualization. This method uses `scipy.ndimage.rotate` function to view the 3D image from an angle, then projects the result in 2D. This method is useful for a quick visualization of small prototype images. Because it rotates the image it can be slow for large images."
   ]
  },
  {
   "cell_type": "code",
   "execution_count": 1,
   "id": "e3d2c7ef",
   "metadata": {
    "execution": {
     "iopub.execute_input": "2022-08-23T01:13:23.009135Z",
     "iopub.status.busy": "2022-08-23T01:13:23.008875Z",
     "iopub.status.idle": "2022-08-23T01:13:24.882673Z",
     "shell.execute_reply": "2022-08-23T01:13:24.882016Z"
    }
   },
   "outputs": [
    {
     "data": {
      "text/plain": [
       "<Signature (im)>"
      ]
     },
     "execution_count": 1,
     "metadata": {},
     "output_type": "execute_result"
    }
   ],
   "source": [
    "import matplotlib.pyplot as plt\n",
    "import numpy as np\n",
    "import porespy as ps\n",
    "import inspect\n",
    "ps.visualization.set_mpl_style()\n",
    "inspect.signature(ps.visualization.show_3D)"
   ]
  },
  {
   "cell_type": "markdown",
   "id": "54261dfb",
   "metadata": {},
   "source": [
    "## `im`\n",
    "The input image is 3D array to be veiwed in 3D. Note that the method does not work for 2D arrays as input."
   ]
  },
  {
   "cell_type": "code",
   "execution_count": 2,
   "id": "3489b58f",
   "metadata": {
    "execution": {
     "iopub.execute_input": "2022-08-23T01:13:24.888038Z",
     "iopub.status.busy": "2022-08-23T01:13:24.886486Z",
     "iopub.status.idle": "2022-08-23T01:13:25.004955Z",
     "shell.execute_reply": "2022-08-23T01:13:25.004422Z"
    }
   },
   "outputs": [
    {
     "data": {
      "image/svg+xml": [
       "<?xml version=\"1.0\" encoding=\"utf-8\" standalone=\"no\"?>\n",
       "<!DOCTYPE svg PUBLIC \"-//W3C//DTD SVG 1.1//EN\"\n",
       "  \"http://www.w3.org/Graphics/SVG/1.1/DTD/svg11.dtd\">\n",
       "<svg xmlns:xlink=\"http://www.w3.org/1999/xlink\" width=\"432pt\" height=\"348.48pt\" viewBox=\"0 0 432 348.48\" xmlns=\"http://www.w3.org/2000/svg\" version=\"1.1\">\n",
       " <metadata>\n",
       "  <rdf:RDF xmlns:dc=\"http://purl.org/dc/elements/1.1/\" xmlns:cc=\"http://creativecommons.org/ns#\" xmlns:rdf=\"http://www.w3.org/1999/02/22-rdf-syntax-ns#\">\n",
       "   <cc:Work>\n",
       "    <dc:type rdf:resource=\"http://purl.org/dc/dcmitype/StillImage\"/>\n",
       "    <dc:date>2022-08-23T01:13:24.985328</dc:date>\n",
       "    <dc:format>image/svg+xml</dc:format>\n",
       "    <dc:creator>\n",
       "     <cc:Agent>\n",
       "      <dc:title>Matplotlib v3.5.3, https://matplotlib.org/</dc:title>\n",
       "     </cc:Agent>\n",
       "    </dc:creator>\n",
       "   </cc:Work>\n",
       "  </rdf:RDF>\n",
       " </metadata>\n",
       " <defs>\n",
       "  <style type=\"text/css\">*{stroke-linejoin: round; stroke-linecap: butt}</style>\n",
       " </defs>\n",
       " <g id=\"figure_1\">\n",
       "  <g id=\"patch_1\">\n",
       "   <path d=\"M 0 348.48 \n",
       "L 432 348.48 \n",
       "L 432 0 \n",
       "L 0 0 \n",
       "z\n",
       "\" style=\"fill: #ffffff\"/>\n",
       "  </g>\n",
       "  <g id=\"axes_1\">\n",
       "   <g clip-path=\"url(#p12ed9e9ca5)\">\n",
       "    <image xlink:href=\"data:image/png;base64,\n",
       "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\" id=\"image5e93cfd5bf\" transform=\"matrix(6.430769 0 0 6.442308 7.2 6.28)\" style=\"image-rendering:crisp-edges;image-rendering:pixelated\" width=\"65\" height=\"52\"/>\n",
       "   </g>\n",
       "  </g>\n",
       " </g>\n",
       " <defs>\n",
       "  <clipPath id=\"p12ed9e9ca5\">\n",
       "   <rect x=\"7.2\" y=\"7.2\" width=\"417.6\" height=\"334.08\"/>\n",
       "  </clipPath>\n",
       " </defs>\n",
       "</svg>\n"
      ],
      "text/plain": [
       "<Figure size 1200x500 with 1 Axes>"
      ]
     },
     "metadata": {},
     "output_type": "display_data"
    }
   ],
   "source": [
    "im = ps.generators.blobs(shape=[40, 40, 40])\n",
    "im_viz = ps.visualization.show_3D(im)\n",
    "fig, ax = plt.subplots(1, 1, figsize=[12, 5])\n",
    "ax.imshow(im_viz)\n",
    "ax.axis(False);"
   ]
  }
 ],
 "metadata": {
  "kernelspec": {
   "display_name": "Python 3 (ipykernel)",
   "language": "python",
   "name": "python3"
  },
  "language_info": {
   "codemirror_mode": {
    "name": "ipython",
    "version": 3
   },
   "file_extension": ".py",
   "mimetype": "text/x-python",
   "name": "python",
   "nbconvert_exporter": "python",
   "pygments_lexer": "ipython3",
   "version": "3.8.13"
  }
 },
 "nbformat": 4,
 "nbformat_minor": 5
}

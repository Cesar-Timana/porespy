{
 "cells": [
  {
   "cell_type": "markdown",
   "id": "608d0001",
   "metadata": {},
   "source": [
    "#  `show_3D` "
   ]
  },
  {
   "cell_type": "markdown",
   "id": "92fad141",
   "metadata": {},
   "source": [
    "Rotates a 3D image and creates an angled view for a rough 2D visualization. This method uses `scipy.ndimage.rotate` function to view the 3D image from an angle, then projects the result in 2D. This method is useful for a quick visualization of small prototype images. Because it rotates the image it can be slow for large images."
   ]
  },
  {
   "cell_type": "code",
   "execution_count": 1,
   "id": "e3d2c7ef",
   "metadata": {
    "execution": {
     "iopub.execute_input": "2022-08-23T01:44:18.495170Z",
     "iopub.status.busy": "2022-08-23T01:44:18.494907Z",
     "iopub.status.idle": "2022-08-23T01:44:20.355530Z",
     "shell.execute_reply": "2022-08-23T01:44:20.354665Z"
    }
   },
   "outputs": [
    {
     "data": {
      "text/plain": [
       "<Signature (im)>"
      ]
     },
     "execution_count": 1,
     "metadata": {},
     "output_type": "execute_result"
    }
   ],
   "source": [
    "import matplotlib.pyplot as plt\n",
    "import numpy as np\n",
    "import porespy as ps\n",
    "import inspect\n",
    "ps.visualization.set_mpl_style()\n",
    "inspect.signature(ps.visualization.show_3D)"
   ]
  },
  {
   "cell_type": "markdown",
   "id": "54261dfb",
   "metadata": {},
   "source": [
    "## `im`\n",
    "The input image is 3D array to be veiwed in 3D. Note that the method does not work for 2D arrays as input."
   ]
  },
  {
   "cell_type": "code",
   "execution_count": 2,
   "id": "3489b58f",
   "metadata": {
    "execution": {
     "iopub.execute_input": "2022-08-23T01:44:20.359870Z",
     "iopub.status.busy": "2022-08-23T01:44:20.359000Z",
     "iopub.status.idle": "2022-08-23T01:44:20.471704Z",
     "shell.execute_reply": "2022-08-23T01:44:20.471076Z"
    }
   },
   "outputs": [
    {
     "data": {
      "image/svg+xml": [
       "<?xml version=\"1.0\" encoding=\"utf-8\" standalone=\"no\"?>\n",
       "<!DOCTYPE svg PUBLIC \"-//W3C//DTD SVG 1.1//EN\"\n",
       "  \"http://www.w3.org/Graphics/SVG/1.1/DTD/svg11.dtd\">\n",
       "<svg xmlns:xlink=\"http://www.w3.org/1999/xlink\" width=\"432pt\" height=\"348.48pt\" viewBox=\"0 0 432 348.48\" xmlns=\"http://www.w3.org/2000/svg\" version=\"1.1\">\n",
       " <metadata>\n",
       "  <rdf:RDF xmlns:dc=\"http://purl.org/dc/elements/1.1/\" xmlns:cc=\"http://creativecommons.org/ns#\" xmlns:rdf=\"http://www.w3.org/1999/02/22-rdf-syntax-ns#\">\n",
       "   <cc:Work>\n",
       "    <dc:type rdf:resource=\"http://purl.org/dc/dcmitype/StillImage\"/>\n",
       "    <dc:date>2022-08-23T01:44:20.456650</dc:date>\n",
       "    <dc:format>image/svg+xml</dc:format>\n",
       "    <dc:creator>\n",
       "     <cc:Agent>\n",
       "      <dc:title>Matplotlib v3.5.3, https://matplotlib.org/</dc:title>\n",
       "     </cc:Agent>\n",
       "    </dc:creator>\n",
       "   </cc:Work>\n",
       "  </rdf:RDF>\n",
       " </metadata>\n",
       " <defs>\n",
       "  <style type=\"text/css\">*{stroke-linejoin: round; stroke-linecap: butt}</style>\n",
       " </defs>\n",
       " <g id=\"figure_1\">\n",
       "  <g id=\"patch_1\">\n",
       "   <path d=\"M 0 348.48 \n",
       "L 432 348.48 \n",
       "L 432 0 \n",
       "L 0 0 \n",
       "z\n",
       "\" style=\"fill: #ffffff\"/>\n",
       "  </g>\n",
       "  <g id=\"axes_1\">\n",
       "   <g clip-path=\"url(#p5b090e83e2)\">\n",
       "    <image xlink:href=\"data:image/png;base64,\n",
       "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\" id=\"image07eb44d532\" transform=\"matrix(6.430769 0 0 6.442308 7.2 6.28)\" style=\"image-rendering:crisp-edges;image-rendering:pixelated\" width=\"65\" height=\"52\"/>\n",
       "   </g>\n",
       "  </g>\n",
       " </g>\n",
       " <defs>\n",
       "  <clipPath id=\"p5b090e83e2\">\n",
       "   <rect x=\"7.2\" y=\"7.2\" width=\"417.6\" height=\"334.08\"/>\n",
       "  </clipPath>\n",
       " </defs>\n",
       "</svg>\n"
      ],
      "text/plain": [
       "<Figure size 1200x500 with 1 Axes>"
      ]
     },
     "metadata": {},
     "output_type": "display_data"
    }
   ],
   "source": [
    "im = ps.generators.blobs(shape=[40, 40, 40])\n",
    "im_viz = ps.visualization.show_3D(im)\n",
    "fig, ax = plt.subplots(1, 1, figsize=[12, 5])\n",
    "ax.imshow(im_viz)\n",
    "ax.axis(False);"
   ]
  }
 ],
 "metadata": {
  "kernelspec": {
   "display_name": "Python 3 (ipykernel)",
   "language": "python",
   "name": "python3"
  },
  "language_info": {
   "codemirror_mode": {
    "name": "ipython",
    "version": 3
   },
   "file_extension": ".py",
   "mimetype": "text/x-python",
   "name": "python",
   "nbconvert_exporter": "python",
   "pygments_lexer": "ipython3",
   "version": "3.8.13"
  }
 },
 "nbformat": 4,
 "nbformat_minor": 5
}

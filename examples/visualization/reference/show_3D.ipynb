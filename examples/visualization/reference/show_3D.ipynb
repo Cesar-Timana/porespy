{
 "cells": [
  {
   "cell_type": "markdown",
   "id": "608d0001",
   "metadata": {},
   "source": [
    "#  `show_3D` "
   ]
  },
  {
   "cell_type": "markdown",
   "id": "92fad141",
   "metadata": {},
   "source": [
    "Rotates a 3D image and creates an angled view for a rough 2D visualization. This method uses `scipy.ndimage.rotate` function to view the 3D image from an angle, then projects the result in 2D. This method is useful for a quick visualization of small prototype images. Because it rotates the image it can be slow for large images."
   ]
  },
  {
   "cell_type": "code",
   "execution_count": 1,
   "id": "e3d2c7ef",
   "metadata": {
    "execution": {
     "iopub.execute_input": "2022-08-12T21:34:24.259328Z",
     "iopub.status.busy": "2022-08-12T21:34:24.258773Z",
     "iopub.status.idle": "2022-08-12T21:34:26.179676Z",
     "shell.execute_reply": "2022-08-12T21:34:26.178830Z"
    }
   },
   "outputs": [
    {
     "data": {
      "text/plain": [
       "<Signature (im)>"
      ]
     },
     "execution_count": 1,
     "metadata": {},
     "output_type": "execute_result"
    }
   ],
   "source": [
    "import matplotlib.pyplot as plt\n",
    "import numpy as np\n",
    "import porespy as ps\n",
    "import inspect\n",
    "ps.visualization.set_mpl_style()\n",
    "inspect.signature(ps.visualization.show_3D)"
   ]
  },
  {
   "cell_type": "markdown",
   "id": "54261dfb",
   "metadata": {},
   "source": [
    "## `im`\n",
    "The input image is 3D array to be veiwed in 3D. Note that the method does not work for 2D arrays as input."
   ]
  },
  {
   "cell_type": "code",
   "execution_count": 2,
   "id": "3489b58f",
   "metadata": {
    "execution": {
     "iopub.execute_input": "2022-08-12T21:34:26.183908Z",
     "iopub.status.busy": "2022-08-12T21:34:26.183199Z",
     "iopub.status.idle": "2022-08-12T21:34:26.304302Z",
     "shell.execute_reply": "2022-08-12T21:34:26.303611Z"
    }
   },
   "outputs": [
    {
     "data": {
      "image/svg+xml": [
       "<?xml version=\"1.0\" encoding=\"utf-8\" standalone=\"no\"?>\n",
       "<!DOCTYPE svg PUBLIC \"-//W3C//DTD SVG 1.1//EN\"\n",
       "  \"http://www.w3.org/Graphics/SVG/1.1/DTD/svg11.dtd\">\n",
       "<svg xmlns:xlink=\"http://www.w3.org/1999/xlink\" width=\"437.4pt\" height=\"352.8pt\" viewBox=\"0 0 437.4 352.8\" xmlns=\"http://www.w3.org/2000/svg\" version=\"1.1\">\n",
       " <metadata>\n",
       "  <rdf:RDF xmlns:dc=\"http://purl.org/dc/elements/1.1/\" xmlns:cc=\"http://creativecommons.org/ns#\" xmlns:rdf=\"http://www.w3.org/1999/02/22-rdf-syntax-ns#\">\n",
       "   <cc:Work>\n",
       "    <dc:type rdf:resource=\"http://purl.org/dc/dcmitype/StillImage\"/>\n",
       "    <dc:date>2022-08-12T21:34:26.283101</dc:date>\n",
       "    <dc:format>image/svg+xml</dc:format>\n",
       "    <dc:creator>\n",
       "     <cc:Agent>\n",
       "      <dc:title>Matplotlib v3.5.3, https://matplotlib.org/</dc:title>\n",
       "     </cc:Agent>\n",
       "    </dc:creator>\n",
       "   </cc:Work>\n",
       "  </rdf:RDF>\n",
       " </metadata>\n",
       " <defs>\n",
       "  <style type=\"text/css\">*{stroke-linejoin: round; stroke-linecap: butt}</style>\n",
       " </defs>\n",
       " <g id=\"figure_1\">\n",
       "  <g id=\"patch_1\">\n",
       "   <path d=\"M 0 352.8 \n",
       "L 437.4 352.8 \n",
       "L 437.4 0 \n",
       "L 0 0 \n",
       "L 0 352.8 \n",
       "z\n",
       "\" style=\"fill: none\"/>\n",
       "  </g>\n",
       "  <g id=\"axes_1\">\n",
       "   <g clip-path=\"url(#p3d46f9d149)\">\n",
       "    <image xlink:href=\"data:image/png;base64,\n",
       "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\" id=\"image8e5366b57e\" transform=\"matrix(6.523077 0 0 6.519231 7.2 6.6)\" style=\"image-rendering:crisp-edges;image-rendering:pixelated\" width=\"65\" height=\"52\"/>\n",
       "   </g>\n",
       "  </g>\n",
       " </g>\n",
       " <defs>\n",
       "  <clipPath id=\"p3d46f9d149\">\n",
       "   <rect x=\"7.2\" y=\"7.2\" width=\"423\" height=\"338.4\"/>\n",
       "  </clipPath>\n",
       " </defs>\n",
       "</svg>\n"
      ],
      "text/plain": [
       "<Figure size 864x360 with 1 Axes>"
      ]
     },
     "metadata": {
      "needs_background": "light"
     },
     "output_type": "display_data"
    }
   ],
   "source": [
    "im = ps.generators.blobs(shape=[40, 40, 40])\n",
    "im_viz = ps.visualization.show_3D(im)\n",
    "fig, ax = plt.subplots(1, 1, figsize=[12, 5])\n",
    "ax.imshow(im_viz)\n",
    "ax.axis(False);"
   ]
  }
 ],
 "metadata": {
  "kernelspec": {
   "display_name": "Python 3 (ipykernel)",
   "language": "python",
   "name": "python3"
  },
  "language_info": {
   "codemirror_mode": {
    "name": "ipython",
    "version": 3
   },
   "file_extension": ".py",
   "mimetype": "text/x-python",
   "name": "python",
   "nbconvert_exporter": "python",
   "pygments_lexer": "ipython3",
   "version": "3.8.13"
  }
 },
 "nbformat": 4,
 "nbformat_minor": 5
}

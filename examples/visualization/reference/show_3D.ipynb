{
 "cells": [
  {
   "cell_type": "markdown",
   "id": "608d0001",
   "metadata": {},
   "source": [
    "#  `show_3D` "
   ]
  },
  {
   "cell_type": "markdown",
   "id": "92fad141",
   "metadata": {},
   "source": [
    "Rotates a 3D image and creates an angled view for a rough 2D visualization. This method uses `scipy.ndimage.rotate` function to view the 3D image from an angle, then projects the result in 2D. This method is useful for a quick visualization of small prototype images. Because it rotates the image it can be slow for large images."
   ]
  },
  {
   "cell_type": "code",
   "execution_count": 1,
   "id": "e3d2c7ef",
   "metadata": {
    "execution": {
     "iopub.execute_input": "2022-08-12T22:17:00.437016Z",
     "iopub.status.busy": "2022-08-12T22:17:00.436341Z",
     "iopub.status.idle": "2022-08-12T22:17:02.867303Z",
     "shell.execute_reply": "2022-08-12T22:17:02.866521Z"
    }
   },
   "outputs": [
    {
     "data": {
      "text/plain": [
       "<Signature (im)>"
      ]
     },
     "execution_count": 1,
     "metadata": {},
     "output_type": "execute_result"
    }
   ],
   "source": [
    "import matplotlib.pyplot as plt\n",
    "import numpy as np\n",
    "import porespy as ps\n",
    "import inspect\n",
    "ps.visualization.set_mpl_style()\n",
    "inspect.signature(ps.visualization.show_3D)"
   ]
  },
  {
   "cell_type": "markdown",
   "id": "54261dfb",
   "metadata": {},
   "source": [
    "## `im`\n",
    "The input image is 3D array to be veiwed in 3D. Note that the method does not work for 2D arrays as input."
   ]
  },
  {
   "cell_type": "code",
   "execution_count": 2,
   "id": "3489b58f",
   "metadata": {
    "execution": {
     "iopub.execute_input": "2022-08-12T22:17:02.873475Z",
     "iopub.status.busy": "2022-08-12T22:17:02.871696Z",
     "iopub.status.idle": "2022-08-12T22:17:03.018579Z",
     "shell.execute_reply": "2022-08-12T22:17:03.017924Z"
    }
   },
   "outputs": [
    {
     "data": {
      "image/svg+xml": [
       "<?xml version=\"1.0\" encoding=\"utf-8\" standalone=\"no\"?>\n",
       "<!DOCTYPE svg PUBLIC \"-//W3C//DTD SVG 1.1//EN\"\n",
       "  \"http://www.w3.org/Graphics/SVG/1.1/DTD/svg11.dtd\">\n",
       "<svg xmlns:xlink=\"http://www.w3.org/1999/xlink\" width=\"437.4pt\" height=\"352.8pt\" viewBox=\"0 0 437.4 352.8\" xmlns=\"http://www.w3.org/2000/svg\" version=\"1.1\">\n",
       " <metadata>\n",
       "  <rdf:RDF xmlns:dc=\"http://purl.org/dc/elements/1.1/\" xmlns:cc=\"http://creativecommons.org/ns#\" xmlns:rdf=\"http://www.w3.org/1999/02/22-rdf-syntax-ns#\">\n",
       "   <cc:Work>\n",
       "    <dc:type rdf:resource=\"http://purl.org/dc/dcmitype/StillImage\"/>\n",
       "    <dc:date>2022-08-12T22:17:03.005301</dc:date>\n",
       "    <dc:format>image/svg+xml</dc:format>\n",
       "    <dc:creator>\n",
       "     <cc:Agent>\n",
       "      <dc:title>Matplotlib v3.5.3, https://matplotlib.org/</dc:title>\n",
       "     </cc:Agent>\n",
       "    </dc:creator>\n",
       "   </cc:Work>\n",
       "  </rdf:RDF>\n",
       " </metadata>\n",
       " <defs>\n",
       "  <style type=\"text/css\">*{stroke-linejoin: round; stroke-linecap: butt}</style>\n",
       " </defs>\n",
       " <g id=\"figure_1\">\n",
       "  <g id=\"patch_1\">\n",
       "   <path d=\"M 0 352.8 \n",
       "L 437.4 352.8 \n",
       "L 437.4 0 \n",
       "L 0 0 \n",
       "L 0 352.8 \n",
       "z\n",
       "\" style=\"fill: none\"/>\n",
       "  </g>\n",
       "  <g id=\"axes_1\">\n",
       "   <g clip-path=\"url(#p63645df649)\">\n",
       "    <image xlink:href=\"data:image/png;base64,\n",
       "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\" id=\"imagec257a74338\" transform=\"matrix(6.523077 0 0 6.519231 7.2 6.6)\" style=\"image-rendering:crisp-edges;image-rendering:pixelated\" width=\"65\" height=\"52\"/>\n",
       "   </g>\n",
       "  </g>\n",
       " </g>\n",
       " <defs>\n",
       "  <clipPath id=\"p63645df649\">\n",
       "   <rect x=\"7.2\" y=\"7.2\" width=\"423\" height=\"338.4\"/>\n",
       "  </clipPath>\n",
       " </defs>\n",
       "</svg>\n"
      ],
      "text/plain": [
       "<Figure size 864x360 with 1 Axes>"
      ]
     },
     "metadata": {
      "needs_background": "light"
     },
     "output_type": "display_data"
    }
   ],
   "source": [
    "im = ps.generators.blobs(shape=[40, 40, 40])\n",
    "im_viz = ps.visualization.show_3D(im)\n",
    "fig, ax = plt.subplots(1, 1, figsize=[12, 5])\n",
    "ax.imshow(im_viz)\n",
    "ax.axis(False);"
   ]
  }
 ],
 "metadata": {
  "kernelspec": {
   "display_name": "Python 3 (ipykernel)",
   "language": "python",
   "name": "python3"
  },
  "language_info": {
   "codemirror_mode": {
    "name": "ipython",
    "version": 3
   },
   "file_extension": ".py",
   "mimetype": "text/x-python",
   "name": "python",
   "nbconvert_exporter": "python",
   "pygments_lexer": "ipython3",
   "version": "3.8.13"
  }
 },
 "nbformat": 4,
 "nbformat_minor": 5
}

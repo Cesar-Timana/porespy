{
 "cells": [
  {
   "cell_type": "markdown",
   "metadata": {},
   "source": [
    "# `prune_branches`\n",
    "Removes dangling branches from a skeleton."
   ]
  },
  {
   "cell_type": "code",
   "execution_count": 1,
   "metadata": {
    "execution": {
     "iopub.execute_input": "2022-09-09T10:59:27.465480Z",
     "iopub.status.busy": "2022-09-09T10:59:27.465038Z",
     "iopub.status.idle": "2022-09-09T10:59:29.244374Z",
     "shell.execute_reply": "2022-09-09T10:59:29.243733Z"
    }
   },
   "outputs": [],
   "source": [
    "import numpy as np\n",
    "import porespy as ps\n",
    "import scipy.ndimage as spim\n",
    "import matplotlib.pyplot as plt\n",
    "from skimage.morphology import skeletonize_3d\n",
    "ps.visualization.set_mpl_style()"
   ]
  },
  {
   "cell_type": "markdown",
   "metadata": {},
   "source": [
    "## `im`\n",
    "The function requires a skeleton such as that produced by ``skimage.mophology.skeletonize_3d``:"
   ]
  },
  {
   "cell_type": "code",
   "execution_count": 2,
   "metadata": {
    "execution": {
     "iopub.execute_input": "2022-09-09T10:59:29.250477Z",
     "iopub.status.busy": "2022-09-09T10:59:29.248729Z",
     "iopub.status.idle": "2022-09-09T10:59:29.415028Z",
     "shell.execute_reply": "2022-09-09T10:59:29.414437Z"
    }
   },
   "outputs": [
    {
     "data": {
      "image/svg+xml": [
       "<?xml version=\"1.0\" encoding=\"utf-8\" standalone=\"no\"?>\n",
       "<!DOCTYPE svg PUBLIC \"-//W3C//DTD SVG 1.1//EN\"\n",
       "  \"http://www.w3.org/Graphics/SVG/1.1/DTD/svg11.dtd\">\n",
       "<svg xmlns:xlink=\"http://www.w3.org/1999/xlink\" width=\"842.76pt\" height=\"420.48pt\" viewBox=\"0 0 842.76 420.48\" xmlns=\"http://www.w3.org/2000/svg\" version=\"1.1\">\n",
       " <metadata>\n",
       "  <rdf:RDF xmlns:dc=\"http://purl.org/dc/elements/1.1/\" xmlns:cc=\"http://creativecommons.org/ns#\" xmlns:rdf=\"http://www.w3.org/1999/02/22-rdf-syntax-ns#\">\n",
       "   <cc:Work>\n",
       "    <dc:type rdf:resource=\"http://purl.org/dc/dcmitype/StillImage\"/>\n",
       "    <dc:date>2022-09-09T10:59:29.393160</dc:date>\n",
       "    <dc:format>image/svg+xml</dc:format>\n",
       "    <dc:creator>\n",
       "     <cc:Agent>\n",
       "      <dc:title>Matplotlib v3.5.3, https://matplotlib.org/</dc:title>\n",
       "     </cc:Agent>\n",
       "    </dc:creator>\n",
       "   </cc:Work>\n",
       "  </rdf:RDF>\n",
       " </metadata>\n",
       " <defs>\n",
       "  <style type=\"text/css\">*{stroke-linejoin: round; stroke-linecap: butt}</style>\n",
       " </defs>\n",
       " <g id=\"figure_1\">\n",
       "  <g id=\"patch_1\">\n",
       "   <path d=\"M 0 420.48 \n",
       "L 842.76 420.48 \n",
       "L 842.76 0 \n",
       "L 0 0 \n",
       "z\n",
       "\" style=\"fill: #ffffff\"/>\n",
       "  </g>\n",
       "  <g id=\"axes_1\">\n",
       "   <g clip-path=\"url(#p0d18532303)\">\n",
       "    <image xlink:href=\"data:image/png;base64,\n",
       "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\" id=\"image49045d2554\" transform=\"matrix(1.628 0 0 -1.628 7.2 413.28)\" style=\"image-rendering:crisp-edges;image-rendering:pixelated\" width=\"250\" height=\"250\"/>\n",
       "   </g>\n",
       "  </g>\n",
       "  <g id=\"axes_2\">\n",
       "   <g clip-path=\"url(#p3f04f77660)\">\n",
       "    <image xlink:href=\"data:image/png;base64,\n",
       "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\" id=\"image7299a7e059\" transform=\"matrix(1.628 0 0 -1.628 429.48 413.28)\" style=\"image-rendering:crisp-edges;image-rendering:pixelated\" width=\"250\" height=\"250\"/>\n",
       "   </g>\n",
       "  </g>\n",
       " </g>\n",
       " <defs>\n",
       "  <clipPath id=\"p0d18532303\">\n",
       "   <rect x=\"7.2\" y=\"7.2\" width=\"406.08\" height=\"406.08\"/>\n",
       "  </clipPath>\n",
       "  <clipPath id=\"p3f04f77660\">\n",
       "   <rect x=\"429.48\" y=\"7.2\" width=\"406.08\" height=\"406.08\"/>\n",
       "  </clipPath>\n",
       " </defs>\n",
       "</svg>\n"
      ],
      "text/plain": [
       "<Figure size 1200x600 with 2 Axes>"
      ]
     },
     "metadata": {},
     "output_type": "display_data"
    }
   ],
   "source": [
    "im = ps.generators.blobs(shape=[250, 250], blobiness=1, porosity=0.6)\n",
    "sk = skeletonize_3d(im)\n",
    "sk1 = ps.filters.prune_branches(sk)\n",
    "\n",
    "fig, ax = plt.subplots(1, 2, figsize=[12, 6])\n",
    "ax[0].imshow(sk/im, interpolation='none', origin='lower')\n",
    "ax[0].axis(False)\n",
    "ax[1].imshow(sk1/im, interpolation='none', origin='lower')\n",
    "ax[1].axis(False);"
   ]
  },
  {
   "cell_type": "markdown",
   "metadata": {},
   "source": [
    "## `iterations`\n",
    "How many times to repeat the process.  This is equivalen to just calling the function multiple times with the returned image, but is more convenient."
   ]
  },
  {
   "cell_type": "code",
   "execution_count": 3,
   "metadata": {
    "execution": {
     "iopub.execute_input": "2022-09-09T10:59:29.418450Z",
     "iopub.status.busy": "2022-09-09T10:59:29.418224Z",
     "iopub.status.idle": "2022-09-09T10:59:29.649009Z",
     "shell.execute_reply": "2022-09-09T10:59:29.648495Z"
    }
   },
   "outputs": [
    {
     "data": {
      "image/svg+xml": [
       "<?xml version=\"1.0\" encoding=\"utf-8\" standalone=\"no\"?>\n",
       "<!DOCTYPE svg PUBLIC \"-//W3C//DTD SVG 1.1//EN\"\n",
       "  \"http://www.w3.org/Graphics/SVG/1.1/DTD/svg11.dtd\">\n",
       "<svg xmlns:xlink=\"http://www.w3.org/1999/xlink\" width=\"1054.08pt\" height=\"348.48pt\" viewBox=\"0 0 1054.08 348.48\" xmlns=\"http://www.w3.org/2000/svg\" version=\"1.1\">\n",
       " <metadata>\n",
       "  <rdf:RDF xmlns:dc=\"http://purl.org/dc/elements/1.1/\" xmlns:cc=\"http://creativecommons.org/ns#\" xmlns:rdf=\"http://www.w3.org/1999/02/22-rdf-syntax-ns#\">\n",
       "   <cc:Work>\n",
       "    <dc:type rdf:resource=\"http://purl.org/dc/dcmitype/StillImage\"/>\n",
       "    <dc:date>2022-09-09T10:59:29.604315</dc:date>\n",
       "    <dc:format>image/svg+xml</dc:format>\n",
       "    <dc:creator>\n",
       "     <cc:Agent>\n",
       "      <dc:title>Matplotlib v3.5.3, https://matplotlib.org/</dc:title>\n",
       "     </cc:Agent>\n",
       "    </dc:creator>\n",
       "   </cc:Work>\n",
       "  </rdf:RDF>\n",
       " </metadata>\n",
       " <defs>\n",
       "  <style type=\"text/css\">*{stroke-linejoin: round; stroke-linecap: butt}</style>\n",
       " </defs>\n",
       " <g id=\"figure_1\">\n",
       "  <g id=\"patch_1\">\n",
       "   <path d=\"M 0 348.48 \n",
       "L 1054.08 348.48 \n",
       "L 1054.08 0 \n",
       "L 0 0 \n",
       "z\n",
       "\" style=\"fill: #ffffff\"/>\n",
       "  </g>\n",
       "  <g id=\"axes_1\">\n",
       "   <g clip-path=\"url(#p4840c255db)\">\n",
       "    <image xlink:href=\"data:image/png;base64,\n",
       "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\" id=\"image3777ce9738\" transform=\"matrix(1.34 0 0 -1.34 7.2 341.28)\" style=\"image-rendering:crisp-edges;image-rendering:pixelated\" width=\"250\" height=\"250\"/>\n",
       "   </g>\n",
       "  </g>\n",
       "  <g id=\"axes_2\">\n",
       "   <g clip-path=\"url(#p8a42e1f109)\">\n",
       "    <image xlink:href=\"data:image/png;base64,\n",
       "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\" id=\"image5a7fa615e9\" transform=\"matrix(1.34 0 0 -1.34 360 341.28)\" style=\"image-rendering:crisp-edges;image-rendering:pixelated\" width=\"250\" height=\"250\"/>\n",
       "   </g>\n",
       "  </g>\n",
       "  <g id=\"axes_3\">\n",
       "   <g clip-path=\"url(#pfe8744fdbd)\">\n",
       "    <image xlink:href=\"data:image/png;base64,\n",
       "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\" id=\"image4f34adbd53\" transform=\"matrix(1.34 0 0 -1.34 712.8 341.28)\" style=\"image-rendering:crisp-edges;image-rendering:pixelated\" width=\"250\" height=\"250\"/>\n",
       "   </g>\n",
       "  </g>\n",
       " </g>\n",
       " <defs>\n",
       "  <clipPath id=\"p4840c255db\">\n",
       "   <rect x=\"7.2\" y=\"7.2\" width=\"334.08\" height=\"334.08\"/>\n",
       "  </clipPath>\n",
       "  <clipPath id=\"p8a42e1f109\">\n",
       "   <rect x=\"360\" y=\"7.2\" width=\"334.08\" height=\"334.08\"/>\n",
       "  </clipPath>\n",
       "  <clipPath id=\"pfe8744fdbd\">\n",
       "   <rect x=\"712.8\" y=\"7.2\" width=\"334.08\" height=\"334.08\"/>\n",
       "  </clipPath>\n",
       " </defs>\n",
       "</svg>\n"
      ],
      "text/plain": [
       "<Figure size 1500x500 with 3 Axes>"
      ]
     },
     "metadata": {},
     "output_type": "display_data"
    }
   ],
   "source": [
    "sk1 = ps.filters.prune_branches(sk, iterations=1)\n",
    "sk2 = ps.filters.prune_branches(sk, iterations=2)\n",
    "sk3 = ps.filters.prune_branches(sk, iterations=3)\n",
    "\n",
    "fig, ax = plt.subplots(1, 3, figsize=[15, 5])\n",
    "ax[0].imshow(sk1/im, interpolation='none', origin='lower')\n",
    "ax[0].axis(False)\n",
    "ax[1].imshow(sk2/im, interpolation='none', origin='lower')\n",
    "ax[1].axis(False)\n",
    "ax[2].imshow(sk3/im, interpolation='none', origin='lower')\n",
    "ax[2].axis(False);"
   ]
  }
 ],
 "metadata": {
  "kernelspec": {
   "display_name": "Python 3 (ipykernel)",
   "language": "python",
   "name": "python3"
  },
  "language_info": {
   "codemirror_mode": {
    "name": "ipython",
    "version": 3
   },
   "file_extension": ".py",
   "mimetype": "text/x-python",
   "name": "python",
   "nbconvert_exporter": "python",
   "pygments_lexer": "ipython3",
   "version": "3.8.13"
  }
 },
 "nbformat": 4,
 "nbformat_minor": 4
}

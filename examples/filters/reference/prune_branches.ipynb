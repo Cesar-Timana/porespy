{
 "cells": [
  {
   "cell_type": "markdown",
   "metadata": {},
   "source": [
    "# `prune_branches`\n",
    "Removes dangling branches from a skeleton."
   ]
  },
  {
   "cell_type": "code",
   "execution_count": 1,
   "metadata": {
    "execution": {
     "iopub.execute_input": "2022-08-12T22:12:22.969370Z",
     "iopub.status.busy": "2022-08-12T22:12:22.968798Z",
     "iopub.status.idle": "2022-08-12T22:12:25.249246Z",
     "shell.execute_reply": "2022-08-12T22:12:25.248465Z"
    }
   },
   "outputs": [],
   "source": [
    "import numpy as np\n",
    "import porespy as ps\n",
    "import scipy.ndimage as spim\n",
    "import matplotlib.pyplot as plt\n",
    "from skimage.morphology import skeletonize_3d\n",
    "ps.visualization.set_mpl_style()"
   ]
  },
  {
   "cell_type": "markdown",
   "metadata": {},
   "source": [
    "## `im`\n",
    "The function requires a skeleton such as that produced by ``skimage.mophology.skeletonize_3d``:"
   ]
  },
  {
   "cell_type": "code",
   "execution_count": 2,
   "metadata": {
    "execution": {
     "iopub.execute_input": "2022-08-12T22:12:25.255437Z",
     "iopub.status.busy": "2022-08-12T22:12:25.253915Z",
     "iopub.status.idle": "2022-08-12T22:12:25.462234Z",
     "shell.execute_reply": "2022-08-12T22:12:25.461596Z"
    }
   },
   "outputs": [
    {
     "data": {
      "image/svg+xml": [
       "<?xml version=\"1.0\" encoding=\"utf-8\" standalone=\"no\"?>\n",
       "<!DOCTYPE svg PUBLIC \"-//W3C//DTD SVG 1.1//EN\"\n",
       "  \"http://www.w3.org/Graphics/SVG/1.1/DTD/svg11.dtd\">\n",
       "<svg xmlns:xlink=\"http://www.w3.org/1999/xlink\" width=\"848.7pt\" height=\"424.8pt\" viewBox=\"0 0 848.7 424.8\" xmlns=\"http://www.w3.org/2000/svg\" version=\"1.1\">\n",
       " <metadata>\n",
       "  <rdf:RDF xmlns:dc=\"http://purl.org/dc/elements/1.1/\" xmlns:cc=\"http://creativecommons.org/ns#\" xmlns:rdf=\"http://www.w3.org/1999/02/22-rdf-syntax-ns#\">\n",
       "   <cc:Work>\n",
       "    <dc:type rdf:resource=\"http://purl.org/dc/dcmitype/StillImage\"/>\n",
       "    <dc:date>2022-08-12T22:12:25.434572</dc:date>\n",
       "    <dc:format>image/svg+xml</dc:format>\n",
       "    <dc:creator>\n",
       "     <cc:Agent>\n",
       "      <dc:title>Matplotlib v3.5.3, https://matplotlib.org/</dc:title>\n",
       "     </cc:Agent>\n",
       "    </dc:creator>\n",
       "   </cc:Work>\n",
       "  </rdf:RDF>\n",
       " </metadata>\n",
       " <defs>\n",
       "  <style type=\"text/css\">*{stroke-linejoin: round; stroke-linecap: butt}</style>\n",
       " </defs>\n",
       " <g id=\"figure_1\">\n",
       "  <g id=\"patch_1\">\n",
       "   <path d=\"M 0 424.8 \n",
       "L 848.7 424.8 \n",
       "L 848.7 0 \n",
       "L 0 0 \n",
       "L 0 424.8 \n",
       "z\n",
       "\" style=\"fill: none\"/>\n",
       "  </g>\n",
       "  <g id=\"axes_1\">\n",
       "   <g clip-path=\"url(#pf0a61bfcd3)\">\n",
       "    <image xlink:href=\"data:image/png;base64,\n",
       "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\" id=\"imagedcc305d6c0\" transform=\"matrix(1.644 0 0 -1.644 7.2 417.6)\" style=\"image-rendering:crisp-edges;image-rendering:pixelated\" width=\"250\" height=\"250\"/>\n",
       "   </g>\n",
       "  </g>\n",
       "  <g id=\"axes_2\">\n",
       "   <g clip-path=\"url(#p2445ae6474)\">\n",
       "    <image xlink:href=\"data:image/png;base64,\n",
       "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\" id=\"imagedfce9f5c96\" transform=\"matrix(1.644 0 0 -1.644 431.1 417.6)\" style=\"image-rendering:crisp-edges;image-rendering:pixelated\" width=\"250\" height=\"250\"/>\n",
       "   </g>\n",
       "  </g>\n",
       " </g>\n",
       " <defs>\n",
       "  <clipPath id=\"pf0a61bfcd3\">\n",
       "   <rect x=\"7.2\" y=\"7.2\" width=\"410.4\" height=\"410.4\"/>\n",
       "  </clipPath>\n",
       "  <clipPath id=\"p2445ae6474\">\n",
       "   <rect x=\"431.1\" y=\"7.2\" width=\"410.4\" height=\"410.4\"/>\n",
       "  </clipPath>\n",
       " </defs>\n",
       "</svg>\n"
      ],
      "text/plain": [
       "<Figure size 864x432 with 2 Axes>"
      ]
     },
     "metadata": {
      "needs_background": "light"
     },
     "output_type": "display_data"
    }
   ],
   "source": [
    "im = ps.generators.blobs(shape=[250, 250], blobiness=1, porosity=0.6)\n",
    "sk = skeletonize_3d(im)\n",
    "sk1 = ps.filters.prune_branches(sk)\n",
    "\n",
    "fig, ax = plt.subplots(1, 2, figsize=[12, 6])\n",
    "ax[0].imshow(sk/im, interpolation='none', origin='lower')\n",
    "ax[0].axis(False)\n",
    "ax[1].imshow(sk1/im, interpolation='none', origin='lower')\n",
    "ax[1].axis(False);"
   ]
  },
  {
   "cell_type": "markdown",
   "metadata": {},
   "source": [
    "## `iterations`\n",
    "How many times to repeat the process.  This is equivalen to just calling the function multiple times with the returned image, but is more convenient."
   ]
  },
  {
   "cell_type": "code",
   "execution_count": 3,
   "metadata": {
    "execution": {
     "iopub.execute_input": "2022-08-12T22:12:25.467506Z",
     "iopub.status.busy": "2022-08-12T22:12:25.466252Z",
     "iopub.status.idle": "2022-08-12T22:12:25.746847Z",
     "shell.execute_reply": "2022-08-12T22:12:25.746240Z"
    }
   },
   "outputs": [
    {
     "data": {
      "image/svg+xml": [
       "<?xml version=\"1.0\" encoding=\"utf-8\" standalone=\"no\"?>\n",
       "<!DOCTYPE svg PUBLIC \"-//W3C//DTD SVG 1.1//EN\"\n",
       "  \"http://www.w3.org/Graphics/SVG/1.1/DTD/svg11.dtd\">\n",
       "<svg xmlns:xlink=\"http://www.w3.org/1999/xlink\" width=\"1060.8pt\" height=\"352.8pt\" viewBox=\"0 0 1060.8 352.8\" xmlns=\"http://www.w3.org/2000/svg\" version=\"1.1\">\n",
       " <metadata>\n",
       "  <rdf:RDF xmlns:dc=\"http://purl.org/dc/elements/1.1/\" xmlns:cc=\"http://creativecommons.org/ns#\" xmlns:rdf=\"http://www.w3.org/1999/02/22-rdf-syntax-ns#\">\n",
       "   <cc:Work>\n",
       "    <dc:type rdf:resource=\"http://purl.org/dc/dcmitype/StillImage\"/>\n",
       "    <dc:date>2022-08-12T22:12:25.712500</dc:date>\n",
       "    <dc:format>image/svg+xml</dc:format>\n",
       "    <dc:creator>\n",
       "     <cc:Agent>\n",
       "      <dc:title>Matplotlib v3.5.3, https://matplotlib.org/</dc:title>\n",
       "     </cc:Agent>\n",
       "    </dc:creator>\n",
       "   </cc:Work>\n",
       "  </rdf:RDF>\n",
       " </metadata>\n",
       " <defs>\n",
       "  <style type=\"text/css\">*{stroke-linejoin: round; stroke-linecap: butt}</style>\n",
       " </defs>\n",
       " <g id=\"figure_1\">\n",
       "  <g id=\"patch_1\">\n",
       "   <path d=\"M 0 352.8 \n",
       "L 1060.8 352.8 \n",
       "L 1060.8 0 \n",
       "L 0 0 \n",
       "L 0 352.8 \n",
       "z\n",
       "\" style=\"fill: none\"/>\n",
       "  </g>\n",
       "  <g id=\"axes_1\">\n",
       "   <g clip-path=\"url(#p61fd5eeeac)\">\n",
       "    <image xlink:href=\"data:image/png;base64,\n",
       "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\" id=\"imagec43bfdf2a3\" transform=\"matrix(1.356 0 0 -1.356 7.2 345.6)\" style=\"image-rendering:crisp-edges;image-rendering:pixelated\" width=\"250\" height=\"250\"/>\n",
       "   </g>\n",
       "  </g>\n",
       "  <g id=\"axes_2\">\n",
       "   <g clip-path=\"url(#p1a3c9ed329)\">\n",
       "    <image xlink:href=\"data:image/png;base64,\n",
       "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\" id=\"image5620235fb3\" transform=\"matrix(1.356 0 0 -1.356 361.2 345.6)\" style=\"image-rendering:crisp-edges;image-rendering:pixelated\" width=\"250\" height=\"250\"/>\n",
       "   </g>\n",
       "  </g>\n",
       "  <g id=\"axes_3\">\n",
       "   <g clip-path=\"url(#p9ee71efb01)\">\n",
       "    <image xlink:href=\"data:image/png;base64,\n",
       "iVBORw0KGgoAAAANSUhEUgAAAPoAAAD6CAYAAACI7Fo9AAAXDElEQVR4nO2d620mtw6G5YWr2Cq2iAW2gS0zDQRIEakibTg/TsZnrE+aoXh9qeEDBEgce0ai+IoaXai3BsDPt98fnu/76+OPt9X393+zgkb9JO9HxbvdV9G0ObWu0nfO3vNN8tAdQHe2otDgPboAEUJbfae0l/3r4483ST13jOaFL4+P6OiUyPcguh3DhP7z7fdHhmGzVgNxnhPtHMU+hAzdMwi8NX2hHc+7q38J3AbOJKwnlu3uGtGzRPHWbI0+e/ZfH3+8lcj1mdn1ztbavhrZtm4RPYvAvShB+6CxXKXZVtKJWS4uET2byEuE9nj4hFY7ao9EI/zL/IUlcntmNqbUZaV9IjaQcKGWlVMOzQ5E+5n9cw9MnTqbyFvLJ/QIG1vt3tJEu5PjviOCUb1qHf0EasOhIRnKoohcg0yTy2ZCz2KAzETb+HB0ajmiy3tGsyxI9Wpt3NGZzLqjVZxCRXMZmdrcoqzHM1H9SFXomRo7mt5WqA5SrIEi+H4ZT332MCueDSOZJb97xtPx3gQjKYsn4oiuZTiOUSLfbYH25owiFpTo3powonOFhrYeixDNzyBFpUx4LKlJiRK96/Ia6l7u6MbvuSoPWlmLNaKW5NyEjihwb1YaeOQQJfI52fzLuy3Z3+hRWye5ZaA8C9FZNOr45z9/t9Za+/X9h/RRkCC2Gxqmp9eyNQCq2Ln0Aj/++8yu4p8RdXosGvXJOM/th1bPtqiDt3P9+c/fJBHPfm/UKVgh6Wy4bYUgds+gki56rTYQd9iq3QhejsWpb3Skp3ZKPRkO11xRQp/AEfl52BoldmuHOguVIxiu0DTZuX1GeH8iphG6ROTnn7W2JobIqEEdPktFiiB0Tjmyjrpa8xc6eTIucpePhshbG09K3TmWpN4cx5FG56dg4YfU5J1a7/FkKvRZZdFnpilR4fz/qVF+td5ecwmFPpYz897aOerx3v8ADety9VH+SmgUsXOjeAkci+zLcH3Z3zmVQY3qEsFQBT8bymd2imKMttgfke6Zw4qRtaLiquALHVBHNVpijz44JdoCixjVtZAsy1kysjlKp+M5yvH0v0yXZM7KCRvRPWY+Ke/49f2Hqdipz75ylvP/Q1oTzv6dm4k7O8MKfQWuWHb8zvYW186jujNcu1rbh1om0TFVK4eKEtzsvPwR1aNYdRbPIa3He2aM/OScmXaHG1ZmrNYNLq87wvqll9ipIxHEkQbVnpTf0/o0utr7IX74f0j9SAq38xILfef82D3Rkb34SlQyzajdoZI6qHyjS2ZApQ3gPStuPTk3Y8XG6B3mDlxtl0XKiXiURW0yznqLKBIaYuf8fWabaYPyvWxZDs32Vv1GpxQsKjmeNjsN43epy07Zc7XLqj4ZdzUhksnQFLgCQduEc5RnpS6RbUndU4AGVQMW9xWY3b3mdeTPgpUyR32za3Eu+2pdNHanWZxBv1rz9t7ROVsC9Hr/wa3QuccnPSqDIDBONIwu8xXaYs/Y0WsRXfdz21wKvU/F1IPssD0WPXkfDTl/hwhH7Jz3WNoBKaojMBV63wjUTKHIDkyB6rTSI7EIYr8qA8oe/zOcHYJRUTU6mvcMhU5tBE6a4Gjn1gBBpB5Yid3TfjOxW0Z1JJEf9VSfjLtrQK1G5q5DS78nNc+9Z+gwZvMP3Gyz3L/NApLID36+/f54Ebq180U7OLcnt3DSSFusvFfrgoeIixqu0I7qiCI/MFleu/s2QhT7VXkty+ppC80Ms5misse3OrLIW2vtiwEkDjfrGaUCmkUODUejrPVHiJDKqu0yifOMRtSdtbHls5EQRXSpkfpotvItqCHAuwbyHHVIvnmPv99F2GfQhZhB5K2dhK6R0ojD2UGRHDPLRNlBRHm5ux93WcPOIvLWFiK6VeMgCgqxTCiM/ABZuLtlQeJye6hlll5JA0RBIZYJBWRBj7A6QJJN5K1dRHTrRpUKymK2euV5yGmXLcgk8p3bgctQ6Ogit4BSpju7RG25tLZnidzv+Va4p3vOKPLVhIBZnWFEFpHvZHMLXLPA7i5yyd9wsT4BZvJgZaQif0InYSp0dAOWSOZkL/8qnplfIoDL676CJNeZR071rGLJWm4pV22dWeStTYSuUSlkw6xGcqnYMy1PPlXkB+e8bha3vUQxnYzzytUuvSBwdZmNKw7pSSf0nOxPF3jPDuI+8zlDPBOAVq720fM11qJXc7ZJI6CXILz24e8g8N1EaYHqBQ6cv5E4GidnG+LM/wiPZbodRF7Q+PxGn0XFq2+UyG8YrmCllxV41tVKiJbzBhHc1eXPf/7+/OepkCM60uGA6O2zmbOIZi03l76dNZNvWCOdvzrjsjNOc7icZeithcYQ/mniPhj5ykz0M6J8TVPkrQVsgZWgKfLodFbWZBV379SUeoyEQGlbSttHJ/PQGkm/RAvtoU1k1lfqc1vj1TVyBv7KHhlFTnVoarILa39pDX/of+ZLRL/6npnhlU/NMjmj9Ts8ySby1YjlmZJ7RHRWHy6XQ3fO0Gblb5FAHcrvvEacvW6oPjNiOWdcz1XyRgkRQ6TVhss8+x6Nlci9hZdF7GaTcaNPgJURQpThUJNV7gLqveqt8cuWQey3QteY5h+lc+6NgiQulO/2iN2GlliLXDpByc1q2xq+2Kd73TkXMqzQ71FHNZBGiikOklllBKF7R25teyBeBS3hvTW6yI//p9GIWj2gdYdEKadmFM0yQYVUTiRxoQYvVuIJlL3Sdx2SZxk19v1r3c1ufTPJE0SucQsREi/f6BkSIa6WsTWZ83Nm4/v3U34XGcRyRn1W3YEm8tY6oXMTIWY40aUheA6IAlkl6nTiHYiCQuVd8zs5g1Nzy4oyq+pdBq82Xd1Tbn3kNIMvr/AZ0TWGONbRXXMYxlk2jBa790WY2m15Jc5Vm0Z3uNlQ3zCT8QID7SOB2kTM4krsgLIt2iPnYRZMdsZZiN1rUuWu7N5RffVd0feJI3zeFK+kzutuBcLSYWu5RH6kasou8h2jeWuniK69dVIzqkcI76r83KhuOYEU1Tkhbg45WPXpXUXeWmvvZ6dF3ieNBlXs0lN4nmvF3FTbO7CzyFtLlkoqE16RLjKSZxD5IeArO2UV+cpS8YvQK6rTmUV1r9x2WUUeIbqsYp5xtiFl1WgY0UvsdHohZol0XCT1sz4q+hTuzniMfv6ttfGlBnXnNJ3Dfp4ij+iIrUXe/34Fm1e4NrlcXnuSWCXsHsVb8xV5/7cl+P8hsQPpSibuw59Af/8bZwltZ2fWqtcu9uG2tbT+w7zu0okfrXPV3Pdrwc3yIq2XRZtQ4V6GMCIi8w4q3IsotGz4Mhk3m+WlTtBlbYgeSSon6hr7LlFqhOUFka3t42dnrGz28+33x3DWfZYO5yqhwo6Gn0G97sc6r5vH6ggnmnt0YJkOTyGMRt9nPeTdclEWI3PwzDcnBWkp1LscmcTuxcwen5NxO08IraB9pxd3gm4FzTxu3ImiKN8pn/0/Vz7wsrzWN5qHoyJgmfTQYp/CCItEEVedGkpwQChDNHdtT9rrbjEEjVx7jhjujWw4GnZrbVSydP4SFg5Uf1nKUKopTu+z1hri1qg/9xmeG1Zml3pwnuUJ6vc6wjLj0um16JxpXJAcgGND6aeTVpRHFnlre07OadVn+Ziqhtg9OwvtK6Tu0Lo5ZnSOXWo3ygz9bkLJinY7sM6jS8TuuS7r7bTUq6woE5wjG2l0stzlOPRofrBDVLcoPzvxBHcImi2SU1kVAtcOWmJv7dmbnhCxtL8oOeRTlt4oy0yU56BFxbNj3U28ZuoEkO0chTiV1EruNK+DEQiGnaFxXkBzUhTZVk/Cuh2mEX3lxXeRPeNM/UFE2dEiUiHnSk8ene1Q6JwXz8QelbBAA2rZLRrqru5P+Wzaid5PPK+g/jJ0l750p/xpq2W/sl10h6UF0gGarER9Kr1rv3h2xHWVnRzKaltq1g1MhT8med2jh5XStVQr8VhExN3OIVxx16Y7rKFbAXmBw07R3JpDlNIbYfrnzYgYvlPFWyKfAyn0SFASRVCctk9Mef75GWp90CJ5CXeNK78qoSflLmdd/7sztOZUtCmR06COrsyEXhNFc6TDX06WG61nFRis+g9kRI9axkFx+qtohlJGS54WzT18XbTXveCT1ZlrolQXL3vCCj2rEKQ8PZq39ozOxDvfHqzQn8BKZ/YUkR/sKvaohJqmQpdunOFGdc7fjdajvUEfxUTkbfd8nyXRGXNddhJpRCPLFEh9+dCWmyyjOfr9dwfoneAMlM7KZdZdMyuKNqNynQ/l9D9DRStX3erzvTi/P4Poo+3V4/aNHj0sHnHX+fz6/uPzn6iySy9r1HA4NKdFK08PYvm+Hd8OHt8QSGJHvFqJA6XNJO2K6LStVblWmRbKcngU/Q0ccYkCB61cdQerF3KgOu0ZpGE8sr2mQ3fLCH8eDntHSYlYPaO6hwiv6oPstMU6t5Nxlmd8R5Ne559LGTkx+qRaa3Yip7ZliXw/IPa6r5y2kjwXHe9PmqdtwrEGOdUWSejemTue6HwRohste6I66gik73NvVtOTQUT0J7MaxTUuStxBIDvUgcMok2xr935RQl9E85w92tA5UzR/ItTc8KN2JAt9l0iAgudlk6PnZG7LzGX3YGSfOr0WAFokL/CRdm6uQ/cjIvWFpkaqlcqOnokQCUrkRQQh3+iSdeD+ZytLGtFDViSRR9uioKPRTumH7qudhvWOshlSkVvuUozYw++Za6CoWXcXkCJ5NLM72WvG35b0ER0dZJH34oqMlp43iz4RstA1GmGnhqQMebVE7hntLNuI8uxD8KPf3cl/qGjVuYbuAmZiz3Z5RV9elD3bTxS2FerLWhR2zz2mLXJre/18+/0xK7PWu58iWs220rTZ7dD9KQ2kCWo2mitmZa72j0Hb7lOhW06OlPNgUmKPx0p3Q6F7NOzuzqMZ1RFshVCGXbmagNTiReieDVrOQ8fSVufvyqsOqja56OEh7jNfhB7RIDt3LNrf6l7lzzjHgMJdG0XtF4BYXlvNllHYM1siRFl6QwZxBAO1M652R91jZZ8V8a6UodoTgy9CR+mpdxJ85mFw5rIXX4GK6D27iF2bbFG9iAda6K2VQ0UjmYXP3HbR1xxr8yJ0xMpldpjWcg2Bpdc8ZacXOKIeOMBHdC2iHTKT2FcZzalE25vDLqIeMRT6zhWOJKvYqeX23gRyRmpX66uno5muo1dOMRsyHGFFafuMnSIqEBtmPEBx3tbwxY5gJ0/73EVsBHtIufxGRxmyoJRDE8kwPsIeXp8dx1XaqJ1gVm4n46JFpvn+6Lr0IH6zI6TDRhL5DtG8NfChu4Uwz8/M2IiWndWdPaw+Obyvi6aS0T9mQF6bfLzT+x3oDRspcgtQBD46qIPuC6tAbo6IHmJ7NzI1SqIIXRrVUQT+JKCH7qtoXQgwuyNuV1bryR3Cl8DjWBaDtfNzBDork0YERMkaixLNz9yVu59oLIHz0Ag86SO6R8eDENmtEj5I6jaK7Gdxl7Bl9O0tEXx6oV+hJQ4UsSPSLxGWuOXc+SzHH5cPtURPlJ3xFB9SvZE4r32XyOVY+dljTq9pMGuE42ijx40qls9fpXaw6bLiP6u+tvXQ3QLKsOr4dwthoiRnLJHrYt2mFdENsWo8tMhe8PHKZLMc0ZGc7G5SAiHyWU3kRUZ2y2hOqROSD0rwbL/0EX3WIyKIvFiD2mY7tK3WahD1d7f5Rt+h8VfRiOoIS4ecOiCUm0uEry5F9KyG3ZnsbaKxVTkTUWUmC93DoTI2XMHHe/gaTWRZb4fu2SPGChYTexnst+sxZCSs6kttu6HQMzgnB0m9Vi+CpL7raevRVslEkH0WoVN7RzEQ4ums2bNmZUWxJSqWbYwudksodd9m1n2G1Rq29jO5aInHUiheEQ1R7J51b23um+nX0Z8MwpAQDSSbRJRltq9k64iO1rtrgeTMiCBE9ug26t9fET0Z0Q7EIVp0nqDewrqt0HdzLo4DRd2DNmL35TtUgR9sPXRHx3Jp7SwsStJMj+VAlCO2mmSpD4zQd3SCK1YEo3lneb8fACXiZyGrj8IIXZNy3nuibJS1Q89Y5jNQ3+hPEahlNOf+DYVMu/i0fAn925sKK6LXsI+Pl1iunHPXdtOs1w7iPrMk9Fme6db0jJx1aJeJzB11xjIjQBY6NSmiRkPsKvZMQ18rNG/isWJH31P/Rt/RSBpwRG5ty5Xna3RSGfYB7Oq/sLPuO0X17JFcWn7N5cGCh8msu5ZAuQ2O1EFIN5jolsYfpLZA5Ri5nP/RfjbU8pom5WA0rM+IWz3bgojyzkQtEfyow4AXuqR3Q3C0/hLCp4Bge3Qovr0S5a9+j/yNnvWbGWEpaXS98M5k9BNvOP4o8WH4iK5FtPNxI3u27/RoOxdj4PO6azpOtBM+dRhffCVCR8sRPVuE6ckodmuba+ad03hOoQ9r6O4ldstc2BbPpbJjZI+2qZTs5b+D/Y1uKXaPE0PRDbsq9uwjqRWi22ZHRJNx2qeFvI8ERjvUjpE9I9F+4IF41n0m9jvRnoX9BEPPWBF7RfW874nGfK87uiERUgOvrLMj7mdAKw+VrOXmoLKOHi0UKQgNjjqMj9zog7Y912o/ugeP2TCzE15OhrCbz+pSxtW/GdmcK/yIwFJC/49sUd06qiCI/CC6bah2XmkT77mpEvqJaIfikHEYyUFLGB5tvBrdPcpUQu+IXgWQ7InXEjxSNO+Jurhw9W9W28La79RmnDNGwzuktultsvI8LbFR2uVcLu57vduf0zaSMnq+z2KElkLoV2v1Vu+kvH/EqrBmRERVhFTUK3hOgHl3LNx3zlBbR7dY372rqNeaMmWtfaUcCGv3PRSRj+qoca6a24aIdkRF1VBRueKiI7vVEM0rwvbviUjmaDmszuqXkBG9tdcL/Lh/z/m7HecIZhNzmuKXilwLqe/MiPQLJL802QJLuaZ39vuSd0bME0igDD1Hou7FzxU+8uz6CjM7WnQaWT8VzPe6exrGSuxWcwVc2/TiPIS/IlpUkSNFwZ3Ybh1du2Ox2BW18lwKv77/+BzmU9bgUUV+EP3Nj4C2H8Pe1CJhZRui9Bmjv7tzMqtRziHeqwivLXKrukgie4n8lbTfHFmITDfdi5oq8hWhoOSzs5rMm71nBYQrqbYbuqMRuRf9PGuPPlyfgXYqDLEjobDl0H0XNDao7HB5BGUYjzxcp36GWAaEiuigzByDc/hhVeSIn3O7n9KzrlsJPSnIEcySncVuSQkdEAQRl6D88LB1CT0xCB3CE8lo960n42YNUtFKD+9toRlFhlDmLYW+OkOLJHwEp0AFyTbUDg6lzNsJnWNYy6ikdYbbm+zn6z24qjeKwA+2Ejqaca+WyI5/99rRtQJSWQ4Qy9Taq9hRy7lVT4x00D86GQYX77xqFFDFo0XNui+A5AxIZVkBsdyIZdKm0j0nxNMxNRN7IuZMf4LIvTD7Rs86CfU0UMWEWi4rrCc01YV+1UCRRzY9yBbNUcWEWq7MqA7dqQ0Uke6JgqRc5Zw6PNmOlnUP+0Z/coNKQR4RVWeJiZrQERopKqoj1D0z1veOZcLKDtvNumucW0Z2OuRovkoJfIyFTbYT+oGX2DM7asQGl0Pcme3mgbaNQi9Z9IpOVru9IpzV6iIJ7WcW+kja/hFCb01f7NFXF1lQgs8H1R+2OtRiRX8IZVdBIB6wQQPtAMvogNSIx0T01jAaRoMMnzw7kuVI6ohvNTmSD8+TcTvN8kvIbocvs+4l+KJ4hXLJpldZuGy7vDYiQ4NQybavfnfQbTQUekX1HFQ72RN1Q64204heTpSDaic7kIW7yqOG7kVhDWrnUEIvigdQQt+AGr4Xd/wLHhSbLkJ8428AAAAASUVORK5CYII=\" id=\"image5eac5888a9\" transform=\"matrix(1.356 0 0 -1.356 715.2 345.6)\" style=\"image-rendering:crisp-edges;image-rendering:pixelated\" width=\"250\" height=\"250\"/>\n",
       "   </g>\n",
       "  </g>\n",
       " </g>\n",
       " <defs>\n",
       "  <clipPath id=\"p61fd5eeeac\">\n",
       "   <rect x=\"7.2\" y=\"7.2\" width=\"338.4\" height=\"338.4\"/>\n",
       "  </clipPath>\n",
       "  <clipPath id=\"p1a3c9ed329\">\n",
       "   <rect x=\"361.2\" y=\"7.2\" width=\"338.4\" height=\"338.4\"/>\n",
       "  </clipPath>\n",
       "  <clipPath id=\"p9ee71efb01\">\n",
       "   <rect x=\"715.2\" y=\"7.2\" width=\"338.4\" height=\"338.4\"/>\n",
       "  </clipPath>\n",
       " </defs>\n",
       "</svg>\n"
      ],
      "text/plain": [
       "<Figure size 1080x360 with 3 Axes>"
      ]
     },
     "metadata": {
      "needs_background": "light"
     },
     "output_type": "display_data"
    }
   ],
   "source": [
    "sk1 = ps.filters.prune_branches(sk, iterations=1)\n",
    "sk2 = ps.filters.prune_branches(sk, iterations=2)\n",
    "sk3 = ps.filters.prune_branches(sk, iterations=3)\n",
    "\n",
    "fig, ax = plt.subplots(1, 3, figsize=[15, 5])\n",
    "ax[0].imshow(sk1/im, interpolation='none', origin='lower')\n",
    "ax[0].axis(False)\n",
    "ax[1].imshow(sk2/im, interpolation='none', origin='lower')\n",
    "ax[1].axis(False)\n",
    "ax[2].imshow(sk3/im, interpolation='none', origin='lower')\n",
    "ax[2].axis(False);"
   ]
  }
 ],
 "metadata": {
  "kernelspec": {
   "display_name": "Python 3 (ipykernel)",
   "language": "python",
   "name": "python3"
  },
  "language_info": {
   "codemirror_mode": {
    "name": "ipython",
    "version": 3
   },
   "file_extension": ".py",
   "mimetype": "text/x-python",
   "name": "python",
   "nbconvert_exporter": "python",
   "pygments_lexer": "ipython3",
   "version": "3.8.13"
  }
 },
 "nbformat": 4,
 "nbformat_minor": 4
}

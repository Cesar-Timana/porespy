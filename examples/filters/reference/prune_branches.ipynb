{
 "cells": [
  {
   "cell_type": "markdown",
   "metadata": {},
   "source": [
    "# `prune_branches`\n",
    "Removes dangling branches from a skeleton."
   ]
  },
  {
   "cell_type": "code",
   "execution_count": 1,
   "metadata": {
    "execution": {
     "iopub.execute_input": "2022-08-12T21:30:37.761182Z",
     "iopub.status.busy": "2022-08-12T21:30:37.758008Z",
     "iopub.status.idle": "2022-08-12T21:30:39.669241Z",
     "shell.execute_reply": "2022-08-12T21:30:39.668582Z"
    }
   },
   "outputs": [],
   "source": [
    "import numpy as np\n",
    "import porespy as ps\n",
    "import scipy.ndimage as spim\n",
    "import matplotlib.pyplot as plt\n",
    "from skimage.morphology import skeletonize_3d\n",
    "ps.visualization.set_mpl_style()"
   ]
  },
  {
   "cell_type": "markdown",
   "metadata": {},
   "source": [
    "## `im`\n",
    "The function requires a skeleton such as that produced by ``skimage.mophology.skeletonize_3d``:"
   ]
  },
  {
   "cell_type": "code",
   "execution_count": 2,
   "metadata": {
    "execution": {
     "iopub.execute_input": "2022-08-12T21:30:39.673154Z",
     "iopub.status.busy": "2022-08-12T21:30:39.672497Z",
     "iopub.status.idle": "2022-08-12T21:30:39.897109Z",
     "shell.execute_reply": "2022-08-12T21:30:39.896361Z"
    }
   },
   "outputs": [
    {
     "data": {
      "image/svg+xml": [
       "<?xml version=\"1.0\" encoding=\"utf-8\" standalone=\"no\"?>\n",
       "<!DOCTYPE svg PUBLIC \"-//W3C//DTD SVG 1.1//EN\"\n",
       "  \"http://www.w3.org/Graphics/SVG/1.1/DTD/svg11.dtd\">\n",
       "<svg xmlns:xlink=\"http://www.w3.org/1999/xlink\" width=\"848.7pt\" height=\"424.8pt\" viewBox=\"0 0 848.7 424.8\" xmlns=\"http://www.w3.org/2000/svg\" version=\"1.1\">\n",
       " <metadata>\n",
       "  <rdf:RDF xmlns:dc=\"http://purl.org/dc/elements/1.1/\" xmlns:cc=\"http://creativecommons.org/ns#\" xmlns:rdf=\"http://www.w3.org/1999/02/22-rdf-syntax-ns#\">\n",
       "   <cc:Work>\n",
       "    <dc:type rdf:resource=\"http://purl.org/dc/dcmitype/StillImage\"/>\n",
       "    <dc:date>2022-08-12T21:30:39.856374</dc:date>\n",
       "    <dc:format>image/svg+xml</dc:format>\n",
       "    <dc:creator>\n",
       "     <cc:Agent>\n",
       "      <dc:title>Matplotlib v3.5.3, https://matplotlib.org/</dc:title>\n",
       "     </cc:Agent>\n",
       "    </dc:creator>\n",
       "   </cc:Work>\n",
       "  </rdf:RDF>\n",
       " </metadata>\n",
       " <defs>\n",
       "  <style type=\"text/css\">*{stroke-linejoin: round; stroke-linecap: butt}</style>\n",
       " </defs>\n",
       " <g id=\"figure_1\">\n",
       "  <g id=\"patch_1\">\n",
       "   <path d=\"M 0 424.8 \n",
       "L 848.7 424.8 \n",
       "L 848.7 0 \n",
       "L 0 0 \n",
       "L 0 424.8 \n",
       "z\n",
       "\" style=\"fill: none\"/>\n",
       "  </g>\n",
       "  <g id=\"axes_1\">\n",
       "   <g clip-path=\"url(#pd8fddc5b5e)\">\n",
       "    <image xlink:href=\"data:image/png;base64,\n",
       "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\" id=\"image5dbd3190fb\" transform=\"matrix(1.644 0 0 -1.644 7.2 417.6)\" style=\"image-rendering:crisp-edges;image-rendering:pixelated\" width=\"250\" height=\"250\"/>\n",
       "   </g>\n",
       "  </g>\n",
       "  <g id=\"axes_2\">\n",
       "   <g clip-path=\"url(#p1e54e6b649)\">\n",
       "    <image xlink:href=\"data:image/png;base64,\n",
       "iVBORw0KGgoAAAANSUhEUgAAAPoAAAD6CAYAAACI7Fo9AAAVy0lEQVR4nO2d240duQ5F1QNH4e8bwATRgBPoMJ3AAA5iopg0+n40ZKurVSVS4mNT4gIMzNjn1FFJ3KIeFPXy+vL2Xhj8ev/5wvl8D+5vJp/htoFVfUvYRg/t8muV25JRHf1lVZBkb3YQy86k0JNlUuT4pNADgjT1SZH7Q7GHlxmjWW1ca0P9579/yZ/98f1vtXJIw2kHjTq3EHn09QVtqPXzTbsg3vzz378s8XI/78nry9u7l4HuJPKIcOtma6HPiPbH979Did2DHUXu2WlSWamTqTn6yg9aNeCKWKvYI5Beb39eX97eV9t5ejEO2cBGIv/1/vOl/rn7TIq9j7bXkzDqld/2+N07JOtiu1V3yWF3iv0zFiLXfD61DAjlkGZpjo42r9GYW0eas2u2xwkib+mVx9LWpetj2aOjNBBHjLXM1LJH8+zX91ptI6TO3JNatxG9/tQ+eg/PPV0rj9v7HakOQKP8tU3QhR5NNFc06ke6TsS219CG8VpUsVeBSwlUo7OSMJYT2nQVadvX6PhcFuMiGk8VYhWj1lpA/YNAxHbyAn1UIip0zstGMiKrqUHtSFrRexGpfZIxrttro71sBLxW3FEEn9BB9uriQvc4JFOK3KLY9Zne22qt4K2w7nw94/UjOBsJYGLdf73/nNoBaMUoJUzphTYJLPbz0Q1es3xSOxSoi9IwQpfg6vlmPSGSwCW560wRDLMnNI9ySQkeDbF99IrlWfWRh9P2gB5D+9nfRBBzNGa1gZivAS7WXdIgd/XMiQ2ztogYoAQndCoIC2XJ/niJXRpIoUcYZnpuu+V2my2zK/NIYhcVegSB7kDur/swK3YEwYdcdUcYts9udz0ZC9UgZrb/ULd9ojG7Ku9d/2JCj2xEvbKj7UZUNOIGEj4zcR+eYoecoz8hadxPcy+JiCnpyKvru3Pn6whDyJ2ING+HFLrFXVvURpoVqXTPfdfBpdgTCnBC1zTEWe/K+Y7GCu1oFJNij4VH/YsJXSJGePSMlWG7xDB85ftPrIi8kttuyROiq+7cxYYdMpeuoNmxUX4buW6iMHsYyxrx7bXRoYTZSpHeypqB0qhPApKM4+/B3fJLsZ+D6j66VE+HIHIOq+8tcctMij1pgVuMu8I1estEAtLz4hrttjpcz8W52Bxxeq0yY/QenkkqHPWafFKqXFRS7LZY1zdkCGwEgbe0kWpP/37lmiRDmhzGx0OrA4ATejSRt3AETX1Pi/Dc67OR6nRnLL06zNYA96BG1MU26ntS3o9zCCaz0uiBoqEnIIQe2Yv3WN0f14hF8Aw22h0EDY1wF/puIq/MRrtpHpTQCMCJ0h5aeOuHituqe5RV9Vm0Y+pnvqcRJhv1dtHTMF+Mm82ZHknkFcvwSIRQTO9UzdZ41zcHU6FnooR7dhPG7qKPJPJSmHP0WaGu3nwS3VCuddyrR6l3pLQnSocbsV2jCbzC9ujWN59ENIYro2G15DsiDOGp1HKit3GU+nyCJXQEL5CsY3GPGweEIJ0dxPwEXGRci3fjRyWSV694ePdodbQC7KGWRBfUjDRW4jtJ5KUAC/0kb36a0Y3I+pAHVujJPFShoHr1UlLs0kDP0XeBYrReC1JoC3MtUVblUWnrDVLoOzUsxzOtGvasF0QWeykYq/KR6NUVpNBPhxpVdtLwdmfvvhpQ1nJXPyl0RSSEaCnm63wd0cNLCB6xg9QUeSmAQt+xx0bnbtj+tFDn3QnkcP4zo7qAE/ouIHqNHk9z8ycxc/PjabDzcF4aUaG3FT5j6Nlgtqzmj5d+5iyRBW9VX2oenSP6iA20AsIqt9bve76bluAlF8u8MBm6nyZkCtdgFSsjsjDa9t3QBM89ll3KfTrvSMLPObojraFoC8NaeFdxeAp+ht6o5Pr/Hh31LEtz6ivpuf+wcplkRcJ4UIado1Bb7/K1zEw9ZupZcopDXnWPeLRxR65efsUQvNcBrnBX8a3LvtIpeo9gRtuNy9f7tqRH/4xEx8kRa+Q5ZA/L95HuFEcjM+vU2yl0AySuUaYQXdgjNLy+hQe2HK3caVA0jtpC6FGzi0ovDCUf3Hl99M5Rs017ungUCtc4NYVnlVxRmxnBp9DpoCw+UtBq154eQiSeGIkj0iLir/efL5yOKUXOQ/KO+aj09PAo9N09pSeIdVs7ofaPd5l2RjPDz1UP8B49moA5IAnprixIZUx4tNoRE7qGQXBFvnOnoAXFc+8k9tNGLFUTGQJ7MBxD9wqoksyw03uWd6CYxSGg15e396FH9+r1Zis/vToNy2udZ6GMNChlGn3uBM+eHv2Guw5D0ijQPCT3+5rl54426n9HjbPQhlQRHufJV41IO6eYxDtr3nzqaeSebbeC52hQe/hOWow7adhDbezXl7f3FcPQMCqURaaVMniW3bveNFladUeumBkhIX9nBGJbIJbpVMhCb3tpBK8hjZV3zsVCbLzsWvt6LLZHRxH4P//9O6wY6lVIUvnXn54j9Ts9UNqkB3LZTiL0qvtK3jUt0aXHjo/33roG36xWmLlQK3uUd223Bkts2E3spKF7lBeuJ5cow/okGWHt4DTn6eQ5eqTgjqvgo4p+hyOq0c8r7LLGAH96bYUqeO0VzWRvdhA7vNBnY7Kv30uxf6XuBKB5UUSii50l9AgG0TZIiv0rd+LWEPxuB5Ms4ke01pjgPXopsr1pFLFrzM8t4wp2RlPwtd2l15jYQo9kBHdljSJ2KlQBSz9T8/sR0LjMse3cJdeYpjw6ciNS5527if2OFQ+929BbAynvPhrBrdrrUlCA5QLFtZxSQ1vKczw6hNWjqZJi47Sz1R1+aFdxW+Xtn7X75egf60sbKpJz2LtnRcoRro2E+CR+h/MbEcQ+e6Ej9zvLse5al89b0ubtinQVriWjS/y0HcbsceDIdnnHTJ45sUMtWpVqNd+zSNKX/MFKgJZit4yP59rrN8l5nWSlUhfTtIfvyQcS7Tr7jJMW9zhwNPBp1V1iBVHqbDflc6esnHsjkVByxyH0KhLOhaoBqICZma2gFLsuVIFq3fRi6Tii/M4VigZUhD4TnLFSSatiz2F7H65Ir59PL27HSANfFuOkeiXKfF2yB8zFNDlWBBo9731knjTgNnTXaMQZz56dw2d29cKndBp3Gvjt0S0rQvO3qJ5dMxjmKpYoRoYk8ih1FgVSzriI9Hq1trezEHjv73etb0k0E3cidWaWhM4Ce8ediLWG6TP3hKEJ/hQBRA/smkVtjo5oON4il/ieBkhlsQBdlBq4LMbtYliSN5N6gVAGDyQTbHglTuUEIqkInXpntcZvWyFV/uj14M1qsFSbvwDlHr0RM/EKW87RtZEWp9dlAbt0MpJrL7sO612FHvE2jB3Egf4OFLu47p6ckjtgtu3IQ3fqEGk1bPJULOphl8MlbQLFSt7S8wzZo2uGmEbx7NFEEq28FCi51ernrn+3KxTtwMzR0cVu5XGtcq5FhONoepdv9v4tGtc4AKq9iAv95OgjBHat+5XR5PV70efzM87gd4YZBG+KVJYWS/GsePUUOY3e8L79+x357dGRhs6ogrdipi1S5HzuPP3dv0dGZY4uNXy3PM8+WwbN3z21o6tYHyHebYjfwjpOya34CHm1R3h7Sso7eZdRmteXt3ekPAEaZdF6v7vnqp5Ht875Lj3kRxDQ0zt5l0/jtpSeyFfeU8IWdshexBoerrysh1FGuW4qEjN1yrnlpdqYdP1LCB49vfjTM8320T1udMmED3Ks1N/1u3frD1oir7/ZKwsHZM8+Kpf5MVUvwXHCP9Ob/0HjvnTtu/SeWG1bifTi0u9KeZ7LeXRP7zo6x5si/4NVO7WGGiHmH+kuAWqnARMC60GK2h/PofDKFubsMN5rnu8m9EihsqducXmXAR2u2D0X81hDd6QhixVUg09h8EFY2LKas3uv2B89dJcm0ijFGwSRS9F69jvRc7z/qOOYqTdXoacwzmQnkVcoQr52BHcdg0bdpEcPDGK03IgdRV4K/b2u5+St6oItdOSggVOIuh6wq93MvpdlXbjfj45utOge8gpqfabIfXEXegSQIuqshCz5LshiQO0YpWELHbnRNEHw7BGNkmsvkW71jaQFttA19tKjGPCT2BE6ggrKMV1kIZwk8lJy6M6mZ/w7Ddl3R+KQTjSRl8I8j96i8bJIXhENzxxyHjaCeB69lJgiL2XSo2u9bHqtPt71Er0DPl3kpQAuxnkbdbIPkmfpI4u8lJyjJ0Sie/UVoou8FGZknNULZwz8H3KEM4dUjrhSYqV7vtNNxroDgybySLnmZ8sa9XLGkWNMoSdJiem9S6FPqchCt5yn5LAdz5uXglkmCSLOwbkagfPop4t8VzF5EGmqQWVWH3BCPxV0g5wpH8KR5l3EvuoASUKPknM7GlEMMEo574godmktwHj0U0QezeCilfcOZLFb2D5EwMwJIte48WT0ewjPQKJnZ9555a1s39Wjz962Kfk8CyIKJmKZKXA8u/TtvL1nW+EidO5LzuRWRxW9JbMRhruKvNKKvbdgeK2zHa7jNhO6lrhH3/cW/O6iGYGw8t6j59lHtoI8zx+hPkfnzkOk57LWc2M0Tn73ER5OwMvxqArd2ot7PRsdzrufVE/Xd935jj0Voc+sJloYWHTvvpKrz/O9Ee/su6uP6DZyB8T2mjWWDSnpAVYFE8mAvUd3Grs7nqMBcaFHWeWN2nOfJHYNuNOYXepLXOjcivGuSIvfl+7JJcRuXe8zZfa2jYrEHXfec3uVoTtKA1GJKHYJIrSTZKe08pxeOZBu8BmhNkdfnQdZY+HlkObrlZ7xIhjmldX20Wrbp/pCqktSAIBEwEP7wkgC7xHpQgaJzCh376vRTlLBM9zYDMkyoYiXg9mqe+2R0UVuhVRv/+P732oLdEge6UraEY8jt9dGRNx+09yrlhS8ZDmlpofcMkXsZFLoN1iLXcq7z4jIelHJWuwJUeiIkU074il2Kin2mJCEXhcrUuz6SIpdcygv8RztcmoSrXMZCr1dkWwbJmLjcPFqTJRFuickxY7gRBDKoMnjefTetkP7/72K8U4iGa2nvUMzu4kUkuezW6FJ2lDkM+SS3AqdsrfY+/e7XtH68oddGhfdUKXFXopPHjfE5BiSdIW+8tJ337O+8gZdIBx2yl1GATUrTVReX97ezbbX2rnY6lyIm9xvF2bex2LuqRFYwym3VzsjO5JrgNoXj67dk3oOz3YAeWoiXbb07Hzu6t4tYMbqXPVuXr0i9V5a04H2j/TzNYi+6j4KL3eNjMskCmtEEZGn4LVtBMEGKWXIENjgSAjIyliRO6aIUwTOITFWXnfL44zJnmjshsxeVFFZFbnHHQLcOiR79KeXQB+aIXsSCSJ59VLs2sMq10L7exZHsWeeLzp0301Qkd7ndLG3AqOKTXO4jpZ/4Zg5erRkfpJwFj1RDHMWavkt5+QIoicLfYftLOoUA/kdLNh9cc5z4c1L9CyP7t0rSXEn+Ej7vj2eyn5CFpVoWOppauj+VMBIBhIxsGMFRLFb1zviNppFPS/N0a/DkJkCR49IisZpOQVaEEVe4WhnpnMUW4yL5MlPpx4wipDhRcoRIIt8Bq7Yvwg9oofNTmaekeAR94STDzhi70bGPYl9p15xR2Yjz3Y+VUh9p55w0DsianuzjUKrA5C+DeZ0Vgz02hZa9cop46x9rIi8EmFRclRGVqx7KeMMMk+fSexYORu+yzlwCZHXf0f37CNUXoBrJJJGlV6dDvVOMo06nbE7qp1w05ZR30/zokaJ5zyVj+3RKeziEXbH6zTi7PMpdqVpdxqeXbITfSofe3uNGmAScfU++aC2b21DSeNefdaTXVk4F6ngKusgLZJHf7r/uZT7xkvPHpuP9v3fp2AohKnR1a6sMwyXQl8DQaivUgZCl7weKMUek2v7zSZ5kB7yal34wAVFyCO6QtdK3Zti3wOud0dY8L0jilBX+SR0zZe+E3t2APjctV0r4IjBJifxzbJHS88el1Hbpaj9gUr3HOGGz+QPWad74JJKqj1EkYEycUDZMs1RIZ/lgJnV4IcTeaoz9A7Le/qVIu8jHusuiZTRoIujQukUr5+J8m4ROaluw2eBjdJYsyMf7zx9vd/2Go2lN++z/ZVMu4v8+gykle2Tp15IUG0itNBPBEnwKfY4uAt91liieHMtThN7Dtu/wrEBd6HvjqYgUY6Taos9Rb5OCj3pwu1Eog3jdxgRLieHTOKwemXw3TNnvie1XXrtMNKb30M9LptCTz4hlRiCk/Kp9wxNdvDmV9p36rVhCl0RlAUzClJlrSKnDOM9PPWOIr/Se8dloXtlyNQYsp6IZNu1njyH21iEXoyTMtJInrdlNe+YpBePsDJ+smMQe3HJCwO4zDagZly5ZuehneyfQwSBl3K2yEvZZI4+M4yPuL8tYaySXryUHKJHAWJbRtorrFyvgySmFqRyRfHildO9eSnCHh3l6hq0014InCry5IPQi3FozF4zpE2KPHG/JbMUPAOyzlvOfX/r9YjI8/Ectn/wjWMElEpDHbpqYhlNdvd7WveooXXCyRysoTvSWWgUpOpj9VBIbZu2PNlWWQeVqcW4rLwPUOsh5+TJlVyM6zCTxHE3EEXe3uTLmXvv3lYUtgiYsUbLcLxTKUugtY7Tey5nOxfpNlgPIPa90Yx7JeBGAu/6mP19rd2A0XNX2uQU4UMIvRR/4y5F16C4RLskQeNwjcdtrbsKP4fuBbNxIw3jV+tP4vsaJxkR7WKWo4Vu1ZDX3+EmXbQUe5TOxYKdch7ACN3aqDUbcPRslDMBV1LkX9ESOyfoSYIjt9dmK5QiYOqzqZ9Dz666i8d7QrpTvnueZkAalNDRjbrHzL4uF4t6iezNLUZHltmMNAQPM3S3wnvh6PoshCF8ZJFbsjqM57a15N7/XxYeiUNEr26BVr2kyHms3Iq78purDuHT0D3Fbov3bSg7iNwrA7Hm55+eM/usL0N36s0P2iDuIyOEUUqKHaluEzozR8thIsHukE56gJIxFqFuJfDs9LzrMFJ+hsdVd++hPIJHzzP4yR0j20CyG6jttcr1QgBJsXMqP0ojeuHtCFDoCR7NPswODXDmld6X7Emn11p5PjLeQt+lHi0w20f3HoK33O2HpuHQ8RZ5wiOzdAhwWrYTFJHvUJczzDgpyDl6kiR97jrZUedLEvqpPSeVk+oHxZufyErds/K6J/fsdHY5wYNiW09nJ3LoniQHcNzpNU3SqydXJHZ3RE6vrT4gSZI+Twtn0glKSnnuQCDOQ+8GUjZZDZBGLah1uRpIJR2IlUP3DWmNREMIOUXRQTOpRQ7dFRhVumViSq2kIqieFAHrTpDSFil0JzSM4emZWmJPwftCrf8U+kFoeZr2ymZr4aNNISzLw6nrFLojaEYqRXp6PFLoSqAaOqrHSXRJoTuzq1evnCR25E40hZ4kB/B/kBF2YIoUTRkAAAAASUVORK5CYII=\" id=\"image7ff4a581ca\" transform=\"matrix(1.644 0 0 -1.644 431.1 417.6)\" style=\"image-rendering:crisp-edges;image-rendering:pixelated\" width=\"250\" height=\"250\"/>\n",
       "   </g>\n",
       "  </g>\n",
       " </g>\n",
       " <defs>\n",
       "  <clipPath id=\"pd8fddc5b5e\">\n",
       "   <rect x=\"7.2\" y=\"7.2\" width=\"410.4\" height=\"410.4\"/>\n",
       "  </clipPath>\n",
       "  <clipPath id=\"p1e54e6b649\">\n",
       "   <rect x=\"431.1\" y=\"7.2\" width=\"410.4\" height=\"410.4\"/>\n",
       "  </clipPath>\n",
       " </defs>\n",
       "</svg>\n"
      ],
      "text/plain": [
       "<Figure size 864x432 with 2 Axes>"
      ]
     },
     "metadata": {
      "needs_background": "light"
     },
     "output_type": "display_data"
    }
   ],
   "source": [
    "im = ps.generators.blobs(shape=[250, 250], blobiness=1, porosity=0.6)\n",
    "sk = skeletonize_3d(im)\n",
    "sk1 = ps.filters.prune_branches(sk)\n",
    "\n",
    "fig, ax = plt.subplots(1, 2, figsize=[12, 6])\n",
    "ax[0].imshow(sk/im, interpolation='none', origin='lower')\n",
    "ax[0].axis(False)\n",
    "ax[1].imshow(sk1/im, interpolation='none', origin='lower')\n",
    "ax[1].axis(False);"
   ]
  },
  {
   "cell_type": "markdown",
   "metadata": {},
   "source": [
    "## `iterations`\n",
    "How many times to repeat the process.  This is equivalen to just calling the function multiple times with the returned image, but is more convenient."
   ]
  },
  {
   "cell_type": "code",
   "execution_count": 3,
   "metadata": {
    "execution": {
     "iopub.execute_input": "2022-08-12T21:30:39.900648Z",
     "iopub.status.busy": "2022-08-12T21:30:39.900187Z",
     "iopub.status.idle": "2022-08-12T21:30:40.116504Z",
     "shell.execute_reply": "2022-08-12T21:30:40.115853Z"
    }
   },
   "outputs": [
    {
     "data": {
      "image/svg+xml": [
       "<?xml version=\"1.0\" encoding=\"utf-8\" standalone=\"no\"?>\n",
       "<!DOCTYPE svg PUBLIC \"-//W3C//DTD SVG 1.1//EN\"\n",
       "  \"http://www.w3.org/Graphics/SVG/1.1/DTD/svg11.dtd\">\n",
       "<svg xmlns:xlink=\"http://www.w3.org/1999/xlink\" width=\"1060.8pt\" height=\"352.8pt\" viewBox=\"0 0 1060.8 352.8\" xmlns=\"http://www.w3.org/2000/svg\" version=\"1.1\">\n",
       " <metadata>\n",
       "  <rdf:RDF xmlns:dc=\"http://purl.org/dc/elements/1.1/\" xmlns:cc=\"http://creativecommons.org/ns#\" xmlns:rdf=\"http://www.w3.org/1999/02/22-rdf-syntax-ns#\">\n",
       "   <cc:Work>\n",
       "    <dc:type rdf:resource=\"http://purl.org/dc/dcmitype/StillImage\"/>\n",
       "    <dc:date>2022-08-12T21:30:40.075304</dc:date>\n",
       "    <dc:format>image/svg+xml</dc:format>\n",
       "    <dc:creator>\n",
       "     <cc:Agent>\n",
       "      <dc:title>Matplotlib v3.5.3, https://matplotlib.org/</dc:title>\n",
       "     </cc:Agent>\n",
       "    </dc:creator>\n",
       "   </cc:Work>\n",
       "  </rdf:RDF>\n",
       " </metadata>\n",
       " <defs>\n",
       "  <style type=\"text/css\">*{stroke-linejoin: round; stroke-linecap: butt}</style>\n",
       " </defs>\n",
       " <g id=\"figure_1\">\n",
       "  <g id=\"patch_1\">\n",
       "   <path d=\"M 0 352.8 \n",
       "L 1060.8 352.8 \n",
       "L 1060.8 0 \n",
       "L 0 0 \n",
       "L 0 352.8 \n",
       "z\n",
       "\" style=\"fill: none\"/>\n",
       "  </g>\n",
       "  <g id=\"axes_1\">\n",
       "   <g clip-path=\"url(#p57823ead1c)\">\n",
       "    <image xlink:href=\"data:image/png;base64,\n",
       "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\" id=\"image34a95c6655\" transform=\"matrix(1.356 0 0 -1.356 7.2 345.6)\" style=\"image-rendering:crisp-edges;image-rendering:pixelated\" width=\"250\" height=\"250\"/>\n",
       "   </g>\n",
       "  </g>\n",
       "  <g id=\"axes_2\">\n",
       "   <g clip-path=\"url(#pf1f8a4a2b6)\">\n",
       "    <image xlink:href=\"data:image/png;base64,\n",
       "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\" id=\"imagefb2762ac66\" transform=\"matrix(1.356 0 0 -1.356 361.2 345.6)\" style=\"image-rendering:crisp-edges;image-rendering:pixelated\" width=\"250\" height=\"250\"/>\n",
       "   </g>\n",
       "  </g>\n",
       "  <g id=\"axes_3\">\n",
       "   <g clip-path=\"url(#pcd71e88d75)\">\n",
       "    <image xlink:href=\"data:image/png;base64,\n",
       "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\" id=\"image970bfd717d\" transform=\"matrix(1.356 0 0 -1.356 715.2 345.6)\" style=\"image-rendering:crisp-edges;image-rendering:pixelated\" width=\"250\" height=\"250\"/>\n",
       "   </g>\n",
       "  </g>\n",
       " </g>\n",
       " <defs>\n",
       "  <clipPath id=\"p57823ead1c\">\n",
       "   <rect x=\"7.2\" y=\"7.2\" width=\"338.4\" height=\"338.4\"/>\n",
       "  </clipPath>\n",
       "  <clipPath id=\"pf1f8a4a2b6\">\n",
       "   <rect x=\"361.2\" y=\"7.2\" width=\"338.4\" height=\"338.4\"/>\n",
       "  </clipPath>\n",
       "  <clipPath id=\"pcd71e88d75\">\n",
       "   <rect x=\"715.2\" y=\"7.2\" width=\"338.4\" height=\"338.4\"/>\n",
       "  </clipPath>\n",
       " </defs>\n",
       "</svg>\n"
      ],
      "text/plain": [
       "<Figure size 1080x360 with 3 Axes>"
      ]
     },
     "metadata": {
      "needs_background": "light"
     },
     "output_type": "display_data"
    }
   ],
   "source": [
    "sk1 = ps.filters.prune_branches(sk, iterations=1)\n",
    "sk2 = ps.filters.prune_branches(sk, iterations=2)\n",
    "sk3 = ps.filters.prune_branches(sk, iterations=3)\n",
    "\n",
    "fig, ax = plt.subplots(1, 3, figsize=[15, 5])\n",
    "ax[0].imshow(sk1/im, interpolation='none', origin='lower')\n",
    "ax[0].axis(False)\n",
    "ax[1].imshow(sk2/im, interpolation='none', origin='lower')\n",
    "ax[1].axis(False)\n",
    "ax[2].imshow(sk3/im, interpolation='none', origin='lower')\n",
    "ax[2].axis(False);"
   ]
  }
 ],
 "metadata": {
  "kernelspec": {
   "display_name": "Python 3 (ipykernel)",
   "language": "python",
   "name": "python3"
  },
  "language_info": {
   "codemirror_mode": {
    "name": "ipython",
    "version": 3
   },
   "file_extension": ".py",
   "mimetype": "text/x-python",
   "name": "python",
   "nbconvert_exporter": "python",
   "pygments_lexer": "ipython3",
   "version": "3.8.13"
  }
 },
 "nbformat": 4,
 "nbformat_minor": 4
}

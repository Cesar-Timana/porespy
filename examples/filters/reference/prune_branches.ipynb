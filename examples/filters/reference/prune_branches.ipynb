{
 "cells": [
  {
   "cell_type": "markdown",
   "metadata": {},
   "source": [
    "# `prune_branches`\n",
    "Removes dangling branches from a skeleton."
   ]
  },
  {
   "cell_type": "code",
   "execution_count": 1,
   "metadata": {
    "execution": {
     "iopub.execute_input": "2022-08-12T21:47:09.253195Z",
     "iopub.status.busy": "2022-08-12T21:47:09.252724Z",
     "iopub.status.idle": "2022-08-12T21:47:11.250951Z",
     "shell.execute_reply": "2022-08-12T21:47:11.250269Z"
    }
   },
   "outputs": [],
   "source": [
    "import numpy as np\n",
    "import porespy as ps\n",
    "import scipy.ndimage as spim\n",
    "import matplotlib.pyplot as plt\n",
    "from skimage.morphology import skeletonize_3d\n",
    "ps.visualization.set_mpl_style()"
   ]
  },
  {
   "cell_type": "markdown",
   "metadata": {},
   "source": [
    "## `im`\n",
    "The function requires a skeleton such as that produced by ``skimage.mophology.skeletonize_3d``:"
   ]
  },
  {
   "cell_type": "code",
   "execution_count": 2,
   "metadata": {
    "execution": {
     "iopub.execute_input": "2022-08-12T21:47:11.256321Z",
     "iopub.status.busy": "2022-08-12T21:47:11.255038Z",
     "iopub.status.idle": "2022-08-12T21:47:11.439047Z",
     "shell.execute_reply": "2022-08-12T21:47:11.438497Z"
    }
   },
   "outputs": [
    {
     "data": {
      "image/svg+xml": [
       "<?xml version=\"1.0\" encoding=\"utf-8\" standalone=\"no\"?>\n",
       "<!DOCTYPE svg PUBLIC \"-//W3C//DTD SVG 1.1//EN\"\n",
       "  \"http://www.w3.org/Graphics/SVG/1.1/DTD/svg11.dtd\">\n",
       "<svg xmlns:xlink=\"http://www.w3.org/1999/xlink\" width=\"848.7pt\" height=\"424.8pt\" viewBox=\"0 0 848.7 424.8\" xmlns=\"http://www.w3.org/2000/svg\" version=\"1.1\">\n",
       " <metadata>\n",
       "  <rdf:RDF xmlns:dc=\"http://purl.org/dc/elements/1.1/\" xmlns:cc=\"http://creativecommons.org/ns#\" xmlns:rdf=\"http://www.w3.org/1999/02/22-rdf-syntax-ns#\">\n",
       "   <cc:Work>\n",
       "    <dc:type rdf:resource=\"http://purl.org/dc/dcmitype/StillImage\"/>\n",
       "    <dc:date>2022-08-12T21:47:11.409729</dc:date>\n",
       "    <dc:format>image/svg+xml</dc:format>\n",
       "    <dc:creator>\n",
       "     <cc:Agent>\n",
       "      <dc:title>Matplotlib v3.5.3, https://matplotlib.org/</dc:title>\n",
       "     </cc:Agent>\n",
       "    </dc:creator>\n",
       "   </cc:Work>\n",
       "  </rdf:RDF>\n",
       " </metadata>\n",
       " <defs>\n",
       "  <style type=\"text/css\">*{stroke-linejoin: round; stroke-linecap: butt}</style>\n",
       " </defs>\n",
       " <g id=\"figure_1\">\n",
       "  <g id=\"patch_1\">\n",
       "   <path d=\"M 0 424.8 \n",
       "L 848.7 424.8 \n",
       "L 848.7 0 \n",
       "L 0 0 \n",
       "L 0 424.8 \n",
       "z\n",
       "\" style=\"fill: none\"/>\n",
       "  </g>\n",
       "  <g id=\"axes_1\">\n",
       "   <g clip-path=\"url(#ped384a02ba)\">\n",
       "    <image xlink:href=\"data:image/png;base64,\n",
       "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\" id=\"image8c4ee5c93d\" transform=\"matrix(1.644 0 0 -1.644 7.2 417.6)\" style=\"image-rendering:crisp-edges;image-rendering:pixelated\" width=\"250\" height=\"250\"/>\n",
       "   </g>\n",
       "  </g>\n",
       "  <g id=\"axes_2\">\n",
       "   <g clip-path=\"url(#p59c42cb710)\">\n",
       "    <image xlink:href=\"data:image/png;base64,\n",
       "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\" id=\"image21066bcc4a\" transform=\"matrix(1.644 0 0 -1.644 431.1 417.6)\" style=\"image-rendering:crisp-edges;image-rendering:pixelated\" width=\"250\" height=\"250\"/>\n",
       "   </g>\n",
       "  </g>\n",
       " </g>\n",
       " <defs>\n",
       "  <clipPath id=\"ped384a02ba\">\n",
       "   <rect x=\"7.2\" y=\"7.2\" width=\"410.4\" height=\"410.4\"/>\n",
       "  </clipPath>\n",
       "  <clipPath id=\"p59c42cb710\">\n",
       "   <rect x=\"431.1\" y=\"7.2\" width=\"410.4\" height=\"410.4\"/>\n",
       "  </clipPath>\n",
       " </defs>\n",
       "</svg>\n"
      ],
      "text/plain": [
       "<Figure size 864x432 with 2 Axes>"
      ]
     },
     "metadata": {
      "needs_background": "light"
     },
     "output_type": "display_data"
    }
   ],
   "source": [
    "im = ps.generators.blobs(shape=[250, 250], blobiness=1, porosity=0.6)\n",
    "sk = skeletonize_3d(im)\n",
    "sk1 = ps.filters.prune_branches(sk)\n",
    "\n",
    "fig, ax = plt.subplots(1, 2, figsize=[12, 6])\n",
    "ax[0].imshow(sk/im, interpolation='none', origin='lower')\n",
    "ax[0].axis(False)\n",
    "ax[1].imshow(sk1/im, interpolation='none', origin='lower')\n",
    "ax[1].axis(False);"
   ]
  },
  {
   "cell_type": "markdown",
   "metadata": {},
   "source": [
    "## `iterations`\n",
    "How many times to repeat the process.  This is equivalen to just calling the function multiple times with the returned image, but is more convenient."
   ]
  },
  {
   "cell_type": "code",
   "execution_count": 3,
   "metadata": {
    "execution": {
     "iopub.execute_input": "2022-08-12T21:47:11.443544Z",
     "iopub.status.busy": "2022-08-12T21:47:11.442505Z",
     "iopub.status.idle": "2022-08-12T21:47:11.680763Z",
     "shell.execute_reply": "2022-08-12T21:47:11.680061Z"
    }
   },
   "outputs": [
    {
     "data": {
      "image/svg+xml": [
       "<?xml version=\"1.0\" encoding=\"utf-8\" standalone=\"no\"?>\n",
       "<!DOCTYPE svg PUBLIC \"-//W3C//DTD SVG 1.1//EN\"\n",
       "  \"http://www.w3.org/Graphics/SVG/1.1/DTD/svg11.dtd\">\n",
       "<svg xmlns:xlink=\"http://www.w3.org/1999/xlink\" width=\"1060.8pt\" height=\"352.8pt\" viewBox=\"0 0 1060.8 352.8\" xmlns=\"http://www.w3.org/2000/svg\" version=\"1.1\">\n",
       " <metadata>\n",
       "  <rdf:RDF xmlns:dc=\"http://purl.org/dc/elements/1.1/\" xmlns:cc=\"http://creativecommons.org/ns#\" xmlns:rdf=\"http://www.w3.org/1999/02/22-rdf-syntax-ns#\">\n",
       "   <cc:Work>\n",
       "    <dc:type rdf:resource=\"http://purl.org/dc/dcmitype/StillImage\"/>\n",
       "    <dc:date>2022-08-12T21:47:11.636204</dc:date>\n",
       "    <dc:format>image/svg+xml</dc:format>\n",
       "    <dc:creator>\n",
       "     <cc:Agent>\n",
       "      <dc:title>Matplotlib v3.5.3, https://matplotlib.org/</dc:title>\n",
       "     </cc:Agent>\n",
       "    </dc:creator>\n",
       "   </cc:Work>\n",
       "  </rdf:RDF>\n",
       " </metadata>\n",
       " <defs>\n",
       "  <style type=\"text/css\">*{stroke-linejoin: round; stroke-linecap: butt}</style>\n",
       " </defs>\n",
       " <g id=\"figure_1\">\n",
       "  <g id=\"patch_1\">\n",
       "   <path d=\"M 0 352.8 \n",
       "L 1060.8 352.8 \n",
       "L 1060.8 0 \n",
       "L 0 0 \n",
       "L 0 352.8 \n",
       "z\n",
       "\" style=\"fill: none\"/>\n",
       "  </g>\n",
       "  <g id=\"axes_1\">\n",
       "   <g clip-path=\"url(#p12442962f3)\">\n",
       "    <image xlink:href=\"data:image/png;base64,\n",
       "iVBORw0KGgoAAAANSUhEUgAAAPoAAAD6CAYAAACI7Fo9AAAWB0lEQVR4nO2d3bEWOQ6GfViSWK4nAIKgigQIkwSmiiAIYK9nopg6e8E0+DR2W5b188rWUzVVLMvXbct6Lf+1/FL+5dPLl9fC4Nvr1xfO76RAKDe3DChot6GEfbz9rEWkdn9XSqwCJ0kyzzvvAqyA0EEhlCFJRryL6qhRy53wyPZeI1xE//Ty5XW10aXme7s4n3Y9EOfXq0Rr+/feBaCCZFikspzEZfcdOw5tQghdUlhUJ0kx41K3TYqexkspa06taWgNsVHKe6LILQRjYddd6iHNT6NwCq9lVC1DpsjbWEVFa9tq1Cuqf/xcjEMYAkkstCW4WPuYtD9F9s03q+4zDSF9siyyERNsJPwrun82xTqqlITIUYdx0RuUg0ektXzfndn6epdXguaqe20IiS2NKIaKUs5kjRmfRvGJGf21ygz/MYMUGdH7eKzPoNm5Fdw8kW4TtX10BGMlCRUUf9XqdFWOwKIYjQPC7sMJpJ1/R9Mm4c66W/Dt9esLkiP++dd37yKogGRjb7RtEeIIrBcI87Y///pePn/46PFqEy4bRx4FItGzYwqdyLfXry/Wzri7yGtOFvw9mmvYQHzovnNDWQ41LUWO1GbXtOmUYb1VPXOOPolFw5wUyZ84RewWpNDB8BI5UlSv2Tm6W9Yrhc5Aq4G8Izmq2EvBjO4ruyHW9Umhg+At8osUO53PHz6yxO5RjxQ6ACgiv0AWe8LjCKFr9KBSz0QT+QWq2FfsXq/oe839vUYlRwg94bGL2J9EvfNiX43ogRlUx0jOg9MZ7Jz2evuIrmncEyIBauetEaF3bs88AruIx9HY5Adaay87tud7qbRRiMax6qEj2yj5HQ2xe48WhhG9V2GEL7uiMeNAPcdIW9uwW2RnD93RjeDdg/YYOdCo3JyvvCI47WoHiM6nly+vnjnqtlyMi+oMM1DqWC9ModpkNhWzZYeFajMOWwodGel75J5Wnyl/50Xm8rdlO6EjOXMN1bG5V2PV9Ua1wcUuAp891Tiqt6ZdthI6ooNbRi7KHjLnIMlaqX4hZQsre2q8p/dM7TrlProSKw1HXbjRRqoMu0TwGtRvFHpsE9ERhDHLk7PsIo6o9Yha7h7bCH1HPJ0t4v16EngtEma658SUU4frFuXVOCNBZYuIjjhsp5SJkqEEaSFvRzgRnDM/n72SPMzdawnmibS6PFrCRqtzD8tOdOV3EuUUE3qrMgjDIW9GYr+iuuYKbhThWYEu8NZzVsssMnSfOZ11IiM7cJMMUkiRvyWayKVYFjplgQGt0h6kDWThCFZC5JTRF2Jbmy3GISdotKJXXs2hu7WNcgSBiemqezRhIpA262P91VvUaF7KotA5lZIayqMadMTsNov1O6NB2R7LUYbjPvrOzjfi5LprcQn+LmopkUc7235nSeirRsxsnX2k62j1KStC2/REfzLuB2ZmDwUgOJI2maIaC+9oLtFhwRyBTQfch2xLPGCEXgr90P/u7DDkPKWtogAl9FL6q/I7Oc4OQqawQ5tJp4vyYlnoWhXzvvXSG1SHmSVy23nPzSWBi+i7g5raWJOIYkcRuZQPuK+6I4KSs60UrLKcwqrIvdus9e6M6BX13ivSPixKOVaI0lmhRHIOT9PcFPq/WKTh3UGwXCLUHU3kM2dLRh2piNAtGlEzwkY4K41Qhp1BEzkV6kgJfo6udXaZUw7v4SdCGXbjSviBJnKKn8/4ArTQT4liFumkkrdEFngp82sesHN0RJFrlkkznVTylqtTRRL5zNSUM6oTE/opi1beYke2TRSQOlWr3R24oXs6cmKB5nSJEnGt/Vx06L5a+Cgi947qiQwatkYUeSkKc3Ruds4oIr+QuMc88UdK7NS29fJzlcW4U85zc8ueYsdiVewR2lNtjv509U9kcd+56jLb2Cu3b+R+OgazbeDp9yaLcTsJu4ek+HJfHZ9oHS3cqntkuNE9iUPUtoU9MHMCK05zwijJEso8HUHk3DK8H/0wHWqenEMnaAyH7pJ3NCdx6bU/tUNDvCt+BoSOe6UM5KE7QkUjQXHqCAeMRmccdrosAfmw0qr+cjEOFO+V95VriXtOaRHVnwTh3Rlx6y8RZKcW4zKq2+IVYTRHGppXQUncC4AW1SXs9enly2tGdEUkFuVGkV164U8q6j2Vq/57r/v70JES+PXnFHoALIbxXsNajuhXREAZPmt/2TZ6v7TISyll+oHe85wnEHcIJOeMT1lREPfkkaMtpc53sWuOnKRttSz01kO8oBoHIVr14JStJ/iZ6Oi9MIaAt9g12ULoHGN7lFm7I2otGiGdj48iilKe2+BpGI9aRxGhtx6kiZQx0csssTD1z99/DOefFqAKgMq9LWbn7N71FxN674EUPI1gIXbr+XLrfb3nWGU/9XZ0KWo7chbovOwgLvSIaIrdcqtrZQ1AU/C7iPwiothT6P8SbaX5KZHH7O9rpLeRtFePEUQTQewp9AppsUeIZK06S4rdakTjLZwIc/a6zEd/jy5p/AgiL6VdzuuAyOrRT8lFU4n78DQ/uEE7KjsiT8YJEEXkT6AkSOQmFh0dljox+099VuJ4oa8cHDnJaXqg2IDahqclBbnqerzQS+EdnY3qLFLDWI36W51zkIjuM3N0BF9JoVdQBI/QaJ7sVH+u4CNm6E2hN9jJmWtWIqa2TTyPVc8IPsJqe4ujV92TpGa0Qh9V5KUcvo9+Epwvte5YHAZCoq7vP3//8RppTn4nh+5F5qhpsh+XX/z51/fyn//+7+XTy8ewazfQhdMm2gc5XKj1pAxNtY+4onHZJGK71xw7R1+54BDdOWskRT7zPArodoy4ut7jSKFLOBi6k5aiV0aJzg7dfrXIo0fzUpTm6K1G3MFYdzRPWa3a0Opyh0hXB1PZKZJf/Hb8UzNpAoLYNRxtJvGD1vtW3y3h3MiXJ1Bp2QHBb1fpnvPWih67Z5exRLKD2TGKzdKzwQ5C7w7dqcOyKOKJUs4ZdqyTF7t3dI9z9NHRwAiOFqGMiS9IItda3yItxrWi+8r2lMZNFEkyi1WiTCqjb+lL4YuevOqOICyEMiSxqZNroAi8lLnv6UuZF3yII7Ap8GQVtOhdw/Hv2SivJnSJG0BT4MmI3m01979HFLgUlPwJokK/D4u4Yk+BJxR6/oW0uDZC29fFc8a1jFv3rC3Dp6ATLk9ijiJyS5aFPpr7XH+PPEe6E6msp5Ftw4Mt9FmD3wU/81sLWuVKp8Ih22INltBX5kD177REz8lP3nr/aYJHnduilisS00KXNPpd9CvP1Rwp1ILfyeGeRjESSNhqN5t7MXV5gVRyPIkL/7y2T6I7nuXUafVdCLbeJfstWejSCetXxO7tAN7vnwVhXWRm+oM0VTpK6FppbjliRxEZSjmeQBLMxVOZ0Mpr8XmqldDFT8ZJGKd12AbNCUYHgjxBs1VNa4ETuby7AHvWvRYSqqDQyhZJMOgLnDskm6iBTg6JJqQWCPdkX3ebf/7wEdpWLRDsdwLQQo+Cp7NGFTgyVtHc8gg47NBdEovkjU/rCprsIHCkkduOIi9lU6FTGuvb69epMwQUrNcVcsgbD68PubYT+kyPrC12bZAi4SqWdbl8hJuthQrS15lbCX23lVIKKfYxPb/Q8Bckcde4LcZJG+REkV/stHItWZdvr19fLP0CVeTfXr++wK+67+TEmmjayVowEnWxFjiyyEvZbOh+OhpD31owGmsaPVbqIp1O3PrKLQ1CCH2neag2krZqObil2DmsirxVN+T6UoEfuifzaA99rYbFOW2TgyR0BIOPyrBDryvJSptFXdjUiOa7QI7oCGIfsXNDcdBeoFN5cCLKpYmpobu32KXfr9ExoK0lzNosqoAzmvf59PLldXqOLiU2bsMgD+HRRH6h1UFH7RROhLUY5y32ER5iRxX5DJz2QBA7QhnQYW+vSW3jcLZrJN4t2RlEELnmFiX6ltuIyGW/0+v0lrbXWpGdYzTOyauVIfxpIr/Y6fRc8paR/ZcPzGgd0KCIcfRu6q2tXCKJfISUnWaeM2rjnezrjcjJuLvgJD7/o4p+tqORiubphOvcPxfdAY/jsqb3o7cEd68gV/grc8ATttASfygnCT07NNEjsJR5M/dLnydDeu/v70DUqIqwLkAtg0ZZqc9kR/T7Cy5Hoebp5gzvnyK7Zfomz2g+steKYLXXNHZk1l5eOxSsiN77qun6+ysr6ZWG+InZCH+yI1Jz4a2sgFs7YdSRRClrU1FrP1b9em1W8BLvyyH8L6KIvYXlyIkTlSWEuvqMmd+LC7318lrwT1AdjDJfp3QuVOrneQ7bLQWIIPYRHqM76Xda1UElovcKbyn2mdFEj/sNKDustM+MeiKIXQrqtMjr3auoDd0txE6BOpqoQb7iyHqKoyl2tI7EM9nG7HRgtjysFUCJ00+UYfDKPeu9d1JAE3cLzaupV943w1PbjcpndW+5x/Rg5NOcMqkLvRS+s606885I2MZb7CtHYE/YfWnZh1vvaaFzXmTRc6fY22icJ5cSGbdsJ4hcGpPkkBYNk43fZmQXzpakdcrnZB2zLLDcxbk8TIOJhNizvezIdM8JO3Ja3FCSUV0GU6FnD+5z/JHyvhVBrYg9fcKGKaFrNcoJvfZd4NaCtxA7V/BSuzhJn3erH0GggViP0UGMqEkZW6yIfWYdJ8U+x5uIvsvq+OgdiJ0bgl1KkRldrQ7lZ7ZUU/A0fhu6Izm/Bvf6WRxt1Pi3mniLvRTZ3HNJkNtUOaCIZhbtxASWiQ9WE1nUZaUkAr1+w33fDBrHVHvvkXhWU+heWTB2QytHnoUz51XVfSja4HQ8vedK5F48fh8dtUPTFDP12QhD+BrrLx8lnl/nSbz/9un/ozxzphxkoXsOhVHFqE0vZZdHWRIZP1xJkNp7FuXfHh/RtZASpLew0aK61/uQgw2lbCSheztbKdiGjshMm3odaGq1+QmHqziMovtvi3GeH9yPkE5HnJ0HHevFOaS2QSrLiJ5G3keqRBQ0O8mouddnyp0+uUYrWIebo5/kBL3hmNeJsNVh88y2lGY5Zojsb/XCn7nQRzetRMcq+wr13zzBKauW2PM461ukU5bDnIzLwxm/mN1TtR7Kr87XU9DP3G17FzvH7jBCp4I8P10tG1cAEcWevKUW892m9//NEX44oaPiJfL699zPXbnv3l3sViOPWRv2hP/0jFCLccjRfIXIQ9ld1la8kOgoKZeUhBI6KigdUOQOY4ZdRhHS9XgSO4TQpW5tiQiCOFdtm1F9HuvOylToVjnFEnt2E7tmB+wxIoGI6Cdjfc2RZjksxE4VCcJIqYWEyDlp0MyEjmr45BdRxK6Nlq9Kibz15xEmQs+833FAFrvFkDeKyGdRF/oJkdzjKKomyGKPiLfIS1EW+gki3xUUsddnvmefx0n7NFs+T2bK200OaVkIL5CSYEqVRXJ0cD1rpVy903NUwbaOg2oM4bWH7KtlXj3m3HQu6+OcnhfeSzYw2hBcklU7SXyYcX8e9RmjdtEQeetYqsUaQ+8d4mfdUSIkFaSojoyEnbROgaF9RdcTm+e3AaI3tax8HCH9zBl2jsSScK+x0nJuyhnvUto+pBXFR3X1WqT8GdGRnd3iM8yViIVsuxOgRHftgDHTmXlEdohTWVQsBCVxK8YJzLS1pVM/fdet+T7OuzTsoj5HtxhiW0V2zecnujxlZnn6t7Osrg9cv7XqBEOmTk4x+kNtb+RPSlsdAaWs0nWSet7TczLDTHIsLVF4dEwSOwijcocUetTc5ok9LT95Go2MhtOaOwjX8+9/N4JSJhih1w2S+9oy1HY8qWMc1XW0w/J0mk872vfWGFY7Htc5OvfE0klOy0XjxOPTs3tYDoUl7iKvqcvuvdawetLOZXsthfqDJ3tpHFzyEHopOiKx+h5DYnVdEu72odnQPcX9A6pIuMPuXac9nv6DIvIL9wsc7nOfFPdbVi5ouP78ZNPR8yMuYkYrrzbcTkc8omfDtJGKtBEjNudgCIIfec/LJcnkkAZEFKcnCCLfDZjttV1Jkf9g9+ubWqxMs6TJiK5Iinweq2g+apvVTomyl89+OIMUenl7YfzJc2kqObR+hmofSzseL3QNQe4sck1QovkKs3WwqrP5HD3CoZqI21DWRE3BNXsibgauz1jY0kTonEpYHH+N6KhIRBM7UiS3RlXo2sNiTeNyo3okx5cgitgjlFGa2n/V5uhWGWdObEA0uEkj72i1pfZHOGjRvNUeWyzGpeAxQHP4UuLkMdR+jorQvUQn/d7sPOyRtLn2V3ZoHdtTebaI6Chkx4Dn/Fqg1XNUnu2EnlE9Ph42l7ziCZHthF5Kin0HVm2u1WaIIqeUSVzoKKJIsf8OopNGQns7l/M7apm2jOgUJA/xcJ93Gtr3m6/gdSeaFTCfqc4YmTqX0jjK2jqwE0HkGc3HPH1Ki2i/mTK5C52TfG/mN3exe27feGHppAg2QSjDDBoZlO+ICt0qO+hssvtoDS8JYiRCxjpBhoXISwGI6Cu0kt2flMFkhLXIT+5QreC26TaLcZ8/fPzZG1//JXZoiHzls0/psiDkLVipV+iI3mL2SptdQRyyR88ZdwnT2rYS79tO6DWRhvaSIthhyL5aB8rvV/Psa9tZ8vliQ3f0+Vk9tEcDsUxRmfmScfXz2kiJLEJHdE46XZS0w61phUS5UKO59lnyezms0oGtvKeVtEPrfjw3oa84NcUYT5lPvMWO0NHshPdoUqpT0UzeES6iS/V41hfeWywMokbzGWbrMDqWzLGJZSCwyoEYSuicVLorF95Lzp0pTuM90ogGpaMZLZx5jwakGNVDROgWxtKKVrW47ivzKbhnpBNDal4P3YrunCAQlVARXYsdGhVx37wGwca7RG8O25yMW8HbASPjkRzRSrCo27F3KPZIoSfLnPZ1XERS6BuAMGynlCFKhJwFwf4jloWePWxyof0RSvoan4zoiSgj0XKjeop8jTCr7nnDaRwkt912E7jWkdcRbhGd07Nz9k6nXpCI8eTA97ZvtVOka7ZGp/Pq/2Z+K0mYiH5BiexWxmuVw8M5UUc7T8kz7/vqiKKe2XZdKb9F+y0L3ePaXG+neGqUSJlhrejZBOEQzSm4Lsbtut1Syh4fmEhzff9dfweO6gPWHZB2++Wq+yQzAk6xP4Mqdq9Rhmb7hZuj78zJw1iNYTy380A4jy+dCsvkW9gnEJx7Jp+cRPaTXhmi5ozj0rKLhB3Q8wNacvmCe0T3XpCp3+1VDoTOzhKNz0NPzvjb4t7Ziwl9ZfX9PkezaKhWr+/R6aTIf4eS/af1m6SPe0S/6OVjt3jf/e+fnExyz/MkkXOCQM8PTrGZJKJCl9pT925Ii8ieIn/mFNtYIb69FmUhaMTTls9qZ6YpcjT7R9vy2xWVfXQ0Z+Oisb97UiRPcFA7MLOb2O+Cp0aq+t+dJvKM5jjALMYhc7+P/f4hBuXjFguRW91MQnlfihwLU8fYhXt0bwmY8m+k0RZ6ry1n0ignNqjto59E68KH0b/ZkV8jnF9bjilyTP4P3TtmKxUBndAAAAAASUVORK5CYII=\" id=\"image4d7667b4ee\" transform=\"matrix(1.356 0 0 -1.356 7.2 345.6)\" style=\"image-rendering:crisp-edges;image-rendering:pixelated\" width=\"250\" height=\"250\"/>\n",
       "   </g>\n",
       "  </g>\n",
       "  <g id=\"axes_2\">\n",
       "   <g clip-path=\"url(#p3ede7cdb3d)\">\n",
       "    <image xlink:href=\"data:image/png;base64,\n",
       "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\" id=\"imagedae9328456\" transform=\"matrix(1.356 0 0 -1.356 361.2 345.6)\" style=\"image-rendering:crisp-edges;image-rendering:pixelated\" width=\"250\" height=\"250\"/>\n",
       "   </g>\n",
       "  </g>\n",
       "  <g id=\"axes_3\">\n",
       "   <g clip-path=\"url(#pec89602681)\">\n",
       "    <image xlink:href=\"data:image/png;base64,\n",
       "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\" id=\"image465c18a98f\" transform=\"matrix(1.356 0 0 -1.356 715.2 345.6)\" style=\"image-rendering:crisp-edges;image-rendering:pixelated\" width=\"250\" height=\"250\"/>\n",
       "   </g>\n",
       "  </g>\n",
       " </g>\n",
       " <defs>\n",
       "  <clipPath id=\"p12442962f3\">\n",
       "   <rect x=\"7.2\" y=\"7.2\" width=\"338.4\" height=\"338.4\"/>\n",
       "  </clipPath>\n",
       "  <clipPath id=\"p3ede7cdb3d\">\n",
       "   <rect x=\"361.2\" y=\"7.2\" width=\"338.4\" height=\"338.4\"/>\n",
       "  </clipPath>\n",
       "  <clipPath id=\"pec89602681\">\n",
       "   <rect x=\"715.2\" y=\"7.2\" width=\"338.4\" height=\"338.4\"/>\n",
       "  </clipPath>\n",
       " </defs>\n",
       "</svg>\n"
      ],
      "text/plain": [
       "<Figure size 1080x360 with 3 Axes>"
      ]
     },
     "metadata": {
      "needs_background": "light"
     },
     "output_type": "display_data"
    }
   ],
   "source": [
    "sk1 = ps.filters.prune_branches(sk, iterations=1)\n",
    "sk2 = ps.filters.prune_branches(sk, iterations=2)\n",
    "sk3 = ps.filters.prune_branches(sk, iterations=3)\n",
    "\n",
    "fig, ax = plt.subplots(1, 3, figsize=[15, 5])\n",
    "ax[0].imshow(sk1/im, interpolation='none', origin='lower')\n",
    "ax[0].axis(False)\n",
    "ax[1].imshow(sk2/im, interpolation='none', origin='lower')\n",
    "ax[1].axis(False)\n",
    "ax[2].imshow(sk3/im, interpolation='none', origin='lower')\n",
    "ax[2].axis(False);"
   ]
  }
 ],
 "metadata": {
  "kernelspec": {
   "display_name": "Python 3 (ipykernel)",
   "language": "python",
   "name": "python3"
  },
  "language_info": {
   "codemirror_mode": {
    "name": "ipython",
    "version": 3
   },
   "file_extension": ".py",
   "mimetype": "text/x-python",
   "name": "python",
   "nbconvert_exporter": "python",
   "pygments_lexer": "ipython3",
   "version": "3.8.13"
  }
 },
 "nbformat": 4,
 "nbformat_minor": 4
}

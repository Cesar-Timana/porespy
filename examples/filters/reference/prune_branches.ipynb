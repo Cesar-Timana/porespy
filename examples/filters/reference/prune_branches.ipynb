{
 "cells": [
  {
   "cell_type": "markdown",
   "metadata": {},
   "source": [
    "# `prune_branches`\n",
    "Removes dangling branches from a skeleton."
   ]
  },
  {
   "cell_type": "code",
   "execution_count": 1,
   "metadata": {
    "execution": {
     "iopub.execute_input": "2022-08-23T01:40:25.630823Z",
     "iopub.status.busy": "2022-08-23T01:40:25.630577Z",
     "iopub.status.idle": "2022-08-23T01:40:27.510545Z",
     "shell.execute_reply": "2022-08-23T01:40:27.509920Z"
    }
   },
   "outputs": [],
   "source": [
    "import numpy as np\n",
    "import porespy as ps\n",
    "import scipy.ndimage as spim\n",
    "import matplotlib.pyplot as plt\n",
    "from skimage.morphology import skeletonize_3d\n",
    "ps.visualization.set_mpl_style()"
   ]
  },
  {
   "cell_type": "markdown",
   "metadata": {},
   "source": [
    "## `im`\n",
    "The function requires a skeleton such as that produced by ``skimage.mophology.skeletonize_3d``:"
   ]
  },
  {
   "cell_type": "code",
   "execution_count": 2,
   "metadata": {
    "execution": {
     "iopub.execute_input": "2022-08-23T01:40:27.515496Z",
     "iopub.status.busy": "2022-08-23T01:40:27.514102Z",
     "iopub.status.idle": "2022-08-23T01:40:27.749656Z",
     "shell.execute_reply": "2022-08-23T01:40:27.749008Z"
    }
   },
   "outputs": [
    {
     "data": {
      "image/svg+xml": [
       "<?xml version=\"1.0\" encoding=\"utf-8\" standalone=\"no\"?>\n",
       "<!DOCTYPE svg PUBLIC \"-//W3C//DTD SVG 1.1//EN\"\n",
       "  \"http://www.w3.org/Graphics/SVG/1.1/DTD/svg11.dtd\">\n",
       "<svg xmlns:xlink=\"http://www.w3.org/1999/xlink\" width=\"842.76pt\" height=\"420.48pt\" viewBox=\"0 0 842.76 420.48\" xmlns=\"http://www.w3.org/2000/svg\" version=\"1.1\">\n",
       " <metadata>\n",
       "  <rdf:RDF xmlns:dc=\"http://purl.org/dc/elements/1.1/\" xmlns:cc=\"http://creativecommons.org/ns#\" xmlns:rdf=\"http://www.w3.org/1999/02/22-rdf-syntax-ns#\">\n",
       "   <cc:Work>\n",
       "    <dc:type rdf:resource=\"http://purl.org/dc/dcmitype/StillImage\"/>\n",
       "    <dc:date>2022-08-23T01:40:27.714591</dc:date>\n",
       "    <dc:format>image/svg+xml</dc:format>\n",
       "    <dc:creator>\n",
       "     <cc:Agent>\n",
       "      <dc:title>Matplotlib v3.5.3, https://matplotlib.org/</dc:title>\n",
       "     </cc:Agent>\n",
       "    </dc:creator>\n",
       "   </cc:Work>\n",
       "  </rdf:RDF>\n",
       " </metadata>\n",
       " <defs>\n",
       "  <style type=\"text/css\">*{stroke-linejoin: round; stroke-linecap: butt}</style>\n",
       " </defs>\n",
       " <g id=\"figure_1\">\n",
       "  <g id=\"patch_1\">\n",
       "   <path d=\"M 0 420.48 \n",
       "L 842.76 420.48 \n",
       "L 842.76 0 \n",
       "L 0 0 \n",
       "z\n",
       "\" style=\"fill: #ffffff\"/>\n",
       "  </g>\n",
       "  <g id=\"axes_1\">\n",
       "   <g clip-path=\"url(#p379ae490d0)\">\n",
       "    <image xlink:href=\"data:image/png;base64,\n",
       "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\" id=\"image6df6b921f0\" transform=\"matrix(1.628 0 0 -1.628 7.2 413.28)\" style=\"image-rendering:crisp-edges;image-rendering:pixelated\" width=\"250\" height=\"250\"/>\n",
       "   </g>\n",
       "  </g>\n",
       "  <g id=\"axes_2\">\n",
       "   <g clip-path=\"url(#pb4bdafc59d)\">\n",
       "    <image xlink:href=\"data:image/png;base64,\n",
       "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\" id=\"imagef4aa769575\" transform=\"matrix(1.628 0 0 -1.628 429.48 413.28)\" style=\"image-rendering:crisp-edges;image-rendering:pixelated\" width=\"250\" height=\"250\"/>\n",
       "   </g>\n",
       "  </g>\n",
       " </g>\n",
       " <defs>\n",
       "  <clipPath id=\"p379ae490d0\">\n",
       "   <rect x=\"7.2\" y=\"7.2\" width=\"406.08\" height=\"406.08\"/>\n",
       "  </clipPath>\n",
       "  <clipPath id=\"pb4bdafc59d\">\n",
       "   <rect x=\"429.48\" y=\"7.2\" width=\"406.08\" height=\"406.08\"/>\n",
       "  </clipPath>\n",
       " </defs>\n",
       "</svg>\n"
      ],
      "text/plain": [
       "<Figure size 1200x600 with 2 Axes>"
      ]
     },
     "metadata": {},
     "output_type": "display_data"
    }
   ],
   "source": [
    "im = ps.generators.blobs(shape=[250, 250], blobiness=1, porosity=0.6)\n",
    "sk = skeletonize_3d(im)\n",
    "sk1 = ps.filters.prune_branches(sk)\n",
    "\n",
    "fig, ax = plt.subplots(1, 2, figsize=[12, 6])\n",
    "ax[0].imshow(sk/im, interpolation='none', origin='lower')\n",
    "ax[0].axis(False)\n",
    "ax[1].imshow(sk1/im, interpolation='none', origin='lower')\n",
    "ax[1].axis(False);"
   ]
  },
  {
   "cell_type": "markdown",
   "metadata": {},
   "source": [
    "## `iterations`\n",
    "How many times to repeat the process.  This is equivalen to just calling the function multiple times with the returned image, but is more convenient."
   ]
  },
  {
   "cell_type": "code",
   "execution_count": 3,
   "metadata": {
    "execution": {
     "iopub.execute_input": "2022-08-23T01:40:27.752992Z",
     "iopub.status.busy": "2022-08-23T01:40:27.752610Z",
     "iopub.status.idle": "2022-08-23T01:40:27.952512Z",
     "shell.execute_reply": "2022-08-23T01:40:27.951923Z"
    }
   },
   "outputs": [
    {
     "data": {
      "image/svg+xml": [
       "<?xml version=\"1.0\" encoding=\"utf-8\" standalone=\"no\"?>\n",
       "<!DOCTYPE svg PUBLIC \"-//W3C//DTD SVG 1.1//EN\"\n",
       "  \"http://www.w3.org/Graphics/SVG/1.1/DTD/svg11.dtd\">\n",
       "<svg xmlns:xlink=\"http://www.w3.org/1999/xlink\" width=\"1054.08pt\" height=\"348.48pt\" viewBox=\"0 0 1054.08 348.48\" xmlns=\"http://www.w3.org/2000/svg\" version=\"1.1\">\n",
       " <metadata>\n",
       "  <rdf:RDF xmlns:dc=\"http://purl.org/dc/elements/1.1/\" xmlns:cc=\"http://creativecommons.org/ns#\" xmlns:rdf=\"http://www.w3.org/1999/02/22-rdf-syntax-ns#\">\n",
       "   <cc:Work>\n",
       "    <dc:type rdf:resource=\"http://purl.org/dc/dcmitype/StillImage\"/>\n",
       "    <dc:date>2022-08-23T01:40:27.926883</dc:date>\n",
       "    <dc:format>image/svg+xml</dc:format>\n",
       "    <dc:creator>\n",
       "     <cc:Agent>\n",
       "      <dc:title>Matplotlib v3.5.3, https://matplotlib.org/</dc:title>\n",
       "     </cc:Agent>\n",
       "    </dc:creator>\n",
       "   </cc:Work>\n",
       "  </rdf:RDF>\n",
       " </metadata>\n",
       " <defs>\n",
       "  <style type=\"text/css\">*{stroke-linejoin: round; stroke-linecap: butt}</style>\n",
       " </defs>\n",
       " <g id=\"figure_1\">\n",
       "  <g id=\"patch_1\">\n",
       "   <path d=\"M 0 348.48 \n",
       "L 1054.08 348.48 \n",
       "L 1054.08 0 \n",
       "L 0 0 \n",
       "z\n",
       "\" style=\"fill: #ffffff\"/>\n",
       "  </g>\n",
       "  <g id=\"axes_1\">\n",
       "   <g clip-path=\"url(#p8ae31742c0)\">\n",
       "    <image xlink:href=\"data:image/png;base64,\n",
       "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\" id=\"imageff8e162a97\" transform=\"matrix(1.34 0 0 -1.34 7.2 341.28)\" style=\"image-rendering:crisp-edges;image-rendering:pixelated\" width=\"250\" height=\"250\"/>\n",
       "   </g>\n",
       "  </g>\n",
       "  <g id=\"axes_2\">\n",
       "   <g clip-path=\"url(#p2ed89b1898)\">\n",
       "    <image xlink:href=\"data:image/png;base64,\n",
       "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\" id=\"image09d0b4c23f\" transform=\"matrix(1.34 0 0 -1.34 360 341.28)\" style=\"image-rendering:crisp-edges;image-rendering:pixelated\" width=\"250\" height=\"250\"/>\n",
       "   </g>\n",
       "  </g>\n",
       "  <g id=\"axes_3\">\n",
       "   <g clip-path=\"url(#p9f41c46740)\">\n",
       "    <image xlink:href=\"data:image/png;base64,\n",
       "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\" id=\"image2a1f08e672\" transform=\"matrix(1.34 0 0 -1.34 712.8 341.28)\" style=\"image-rendering:crisp-edges;image-rendering:pixelated\" width=\"250\" height=\"250\"/>\n",
       "   </g>\n",
       "  </g>\n",
       " </g>\n",
       " <defs>\n",
       "  <clipPath id=\"p8ae31742c0\">\n",
       "   <rect x=\"7.2\" y=\"7.2\" width=\"334.08\" height=\"334.08\"/>\n",
       "  </clipPath>\n",
       "  <clipPath id=\"p2ed89b1898\">\n",
       "   <rect x=\"360\" y=\"7.2\" width=\"334.08\" height=\"334.08\"/>\n",
       "  </clipPath>\n",
       "  <clipPath id=\"p9f41c46740\">\n",
       "   <rect x=\"712.8\" y=\"7.2\" width=\"334.08\" height=\"334.08\"/>\n",
       "  </clipPath>\n",
       " </defs>\n",
       "</svg>\n"
      ],
      "text/plain": [
       "<Figure size 1500x500 with 3 Axes>"
      ]
     },
     "metadata": {},
     "output_type": "display_data"
    }
   ],
   "source": [
    "sk1 = ps.filters.prune_branches(sk, iterations=1)\n",
    "sk2 = ps.filters.prune_branches(sk, iterations=2)\n",
    "sk3 = ps.filters.prune_branches(sk, iterations=3)\n",
    "\n",
    "fig, ax = plt.subplots(1, 3, figsize=[15, 5])\n",
    "ax[0].imshow(sk1/im, interpolation='none', origin='lower')\n",
    "ax[0].axis(False)\n",
    "ax[1].imshow(sk2/im, interpolation='none', origin='lower')\n",
    "ax[1].axis(False)\n",
    "ax[2].imshow(sk3/im, interpolation='none', origin='lower')\n",
    "ax[2].axis(False);"
   ]
  }
 ],
 "metadata": {
  "kernelspec": {
   "display_name": "Python 3 (ipykernel)",
   "language": "python",
   "name": "python3"
  },
  "language_info": {
   "codemirror_mode": {
    "name": "ipython",
    "version": 3
   },
   "file_extension": ".py",
   "mimetype": "text/x-python",
   "name": "python",
   "nbconvert_exporter": "python",
   "pygments_lexer": "ipython3",
   "version": "3.8.13"
  }
 },
 "nbformat": 4,
 "nbformat_minor": 4
}

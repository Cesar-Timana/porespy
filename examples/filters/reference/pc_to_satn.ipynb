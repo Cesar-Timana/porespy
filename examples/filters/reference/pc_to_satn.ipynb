{
 "cells": [
  {
   "cell_type": "markdown",
   "id": "d279476c",
   "metadata": {},
   "source": [
    "# `pc_to_satn`\n",
    "Convert a capillary pressure map to saturation map."
   ]
  },
  {
   "cell_type": "code",
   "execution_count": 1,
   "id": "df328066",
   "metadata": {
    "execution": {
     "iopub.execute_input": "2022-08-23T00:34:31.250061Z",
     "iopub.status.busy": "2022-08-23T00:34:31.249807Z",
     "iopub.status.idle": "2022-08-23T00:34:33.129326Z",
     "shell.execute_reply": "2022-08-23T00:34:33.128587Z"
    }
   },
   "outputs": [],
   "source": [
    "import matplotlib.pyplot as plt\n",
    "import numpy as np\n",
    "import porespy as ps\n",
    "ps.visualization.set_mpl_style()"
   ]
  },
  {
   "cell_type": "markdown",
   "id": "9640b91d",
   "metadata": {},
   "source": [
    "The arguments and their defaults are:"
   ]
  },
  {
   "cell_type": "code",
   "execution_count": 2,
   "id": "da504252",
   "metadata": {
    "execution": {
     "iopub.execute_input": "2022-08-23T00:34:33.134474Z",
     "iopub.status.busy": "2022-08-23T00:34:33.132969Z",
     "iopub.status.idle": "2022-08-23T00:34:33.141292Z",
     "shell.execute_reply": "2022-08-23T00:34:33.140809Z"
    }
   },
   "outputs": [
    {
     "data": {
      "text/plain": [
       "<Signature (pc, im)>"
      ]
     },
     "execution_count": 2,
     "metadata": {},
     "output_type": "execute_result"
    }
   ],
   "source": [
    "import inspect\n",
    "inspect.signature(ps.filters.pc_to_satn)"
   ]
  },
  {
   "cell_type": "markdown",
   "id": "a49558cb",
   "metadata": {},
   "source": [
    "The capillary pressure map, such as that computed by ``ps.simulations.drainage``"
   ]
  },
  {
   "cell_type": "code",
   "execution_count": 3,
   "id": "567910b4",
   "metadata": {
    "execution": {
     "iopub.execute_input": "2022-08-23T00:34:33.145432Z",
     "iopub.status.busy": "2022-08-23T00:34:33.144415Z",
     "iopub.status.idle": "2022-08-23T00:34:34.220085Z",
     "shell.execute_reply": "2022-08-23T00:34:34.219392Z"
    }
   },
   "outputs": [
    {
     "data": {
      "application/json": {
       "ascii": false,
       "bar_format": null,
       "colour": null,
       "elapsed": 0.024259090423583984,
       "initial": 0,
       "n": 0,
       "ncols": null,
       "nrows": null,
       "postfix": null,
       "prefix": "",
       "rate": null,
       "total": 25,
       "unit": "it",
       "unit_divisor": 1000,
       "unit_scale": false
      },
      "application/vnd.jupyter.widget-view+json": {
       "model_id": "2557d927b077433b8cbe27ba5a9c8040",
       "version_major": 2,
       "version_minor": 0
      },
      "text/plain": [
       "  0%|          | 0/25 [00:00<?, ?it/s]"
      ]
     },
     "metadata": {},
     "output_type": "display_data"
    },
    {
     "data": {
      "application/json": {
       "ascii": false,
       "bar_format": null,
       "colour": null,
       "elapsed": 0.016144752502441406,
       "initial": 0,
       "n": 0,
       "ncols": null,
       "nrows": null,
       "postfix": null,
       "prefix": "",
       "rate": null,
       "total": 13,
       "unit": "it",
       "unit_divisor": 1000,
       "unit_scale": false
      },
      "application/vnd.jupyter.widget-view+json": {
       "model_id": "2c23630d9c8141edba1ffd80f53d0214",
       "version_major": 2,
       "version_minor": 0
      },
      "text/plain": [
       "  0%|          | 0/13 [00:00<?, ?it/s]"
      ]
     },
     "metadata": {},
     "output_type": "display_data"
    }
   ],
   "source": [
    "im = ps.generators.blobs(shape=[200, 200], porosity=0.6)\n",
    "drn = ps.simulations.drainage(im=im, voxel_size=1, g=0)"
   ]
  },
  {
   "cell_type": "markdown",
   "id": "639b2f06",
   "metadata": {},
   "source": [
    "## `pc` and `im`"
   ]
  },
  {
   "cell_type": "code",
   "execution_count": 4,
   "id": "45c9fb8b",
   "metadata": {
    "execution": {
     "iopub.execute_input": "2022-08-23T00:34:34.223108Z",
     "iopub.status.busy": "2022-08-23T00:34:34.222881Z",
     "iopub.status.idle": "2022-08-23T00:34:34.351898Z",
     "shell.execute_reply": "2022-08-23T00:34:34.351305Z"
    }
   },
   "outputs": [
    {
     "data": {
      "image/svg+xml": [
       "<?xml version=\"1.0\" encoding=\"utf-8\" standalone=\"no\"?>\n",
       "<!DOCTYPE svg PUBLIC \"-//W3C//DTD SVG 1.1//EN\"\n",
       "  \"http://www.w3.org/Graphics/SVG/1.1/DTD/svg11.dtd\">\n",
       "<svg xmlns:xlink=\"http://www.w3.org/1999/xlink\" width=\"842.76pt\" height=\"420.48pt\" viewBox=\"0 0 842.76 420.48\" xmlns=\"http://www.w3.org/2000/svg\" version=\"1.1\">\n",
       " <metadata>\n",
       "  <rdf:RDF xmlns:dc=\"http://purl.org/dc/elements/1.1/\" xmlns:cc=\"http://creativecommons.org/ns#\" xmlns:rdf=\"http://www.w3.org/1999/02/22-rdf-syntax-ns#\">\n",
       "   <cc:Work>\n",
       "    <dc:type rdf:resource=\"http://purl.org/dc/dcmitype/StillImage\"/>\n",
       "    <dc:date>2022-08-23T00:34:34.332708</dc:date>\n",
       "    <dc:format>image/svg+xml</dc:format>\n",
       "    <dc:creator>\n",
       "     <cc:Agent>\n",
       "      <dc:title>Matplotlib v3.5.3, https://matplotlib.org/</dc:title>\n",
       "     </cc:Agent>\n",
       "    </dc:creator>\n",
       "   </cc:Work>\n",
       "  </rdf:RDF>\n",
       " </metadata>\n",
       " <defs>\n",
       "  <style type=\"text/css\">*{stroke-linejoin: round; stroke-linecap: butt}</style>\n",
       " </defs>\n",
       " <g id=\"figure_1\">\n",
       "  <g id=\"patch_1\">\n",
       "   <path d=\"M 0 420.48 \n",
       "L 842.76 420.48 \n",
       "L 842.76 0 \n",
       "L 0 0 \n",
       "z\n",
       "\" style=\"fill: #ffffff\"/>\n",
       "  </g>\n",
       "  <g id=\"axes_1\">\n",
       "   <g clip-path=\"url(#p7727ff4af3)\">\n",
       "    <image xlink:href=\"data:image/png;base64,\n",
       "iVBORw0KGgoAAAANSUhEUgAAAMgAAADICAYAAACtWK6eAAASEUlEQVR4nO2dP2gfRxbH30qydYlt/SQXvugc4kMoKWIIpyKuXBhzyHHA3RUBQzoX10bBPhCoEAhOxnIbDncHgRTuXOQsglDh4sgRVCUcxIg7SGJjDseK5QjLsuYKZZT9rWZ35/+8N/s+8ANb+ml3dvZ9573596b4Y/EnAR3gC3G7SF0GFy4cv2L9nsSpcbj/QQ/Wr8301cHE4pJ4c/Hfxte7+/gW6bo0YSB1AZh2XMTBuMEC6QhV71H3M6afzghkemqus63w8to8C8GSzggEAOD8uQVyInENr7rUXwhBJwQyODaWughWsDjSM5S6AKGpimNicUmkjL3rQj0ZBnGHHBfZCwQAoBgdAV9W9/LBpAAAGBy/bySy9yZm9oqw8az29+LJT67FM4LF2E62ApGeoxgdgd3eES/XPD1zU7xzY+/fE4tC2xPti6MBFgdOshSIShw7vWGna565fEPAw939/x95CLCu8XcpxSFFUO2LsDj08SKQ8ix1ipn5A7Pkj9UjVpsnh63H/g//tNv+pQo64ogBC8KewsWg65ZvxBJJzOUjKsFtHzsE9+5cVZbBRByxwytXujQ6Zj3M22ScMQw3tjiGNp5D9fPqd5vK72PxHIw7xiEW9UV/NgxtPK/93fTUnBioGZli6DNgYvBdFEfbEhUWR94MAfxq+CpjsF3H84W47dS/SY3O2i0WR/70hVhUFrWF9GS6ixp9iqMYHSHXUe8KWc6D2JJyxW/OIplYXOqrV0rL7Fkgv4BhOXxOIumbe6nsWvzdpeuibnhc4jPcdyHoDS8cvyJe/vij9+v6DrFsxOG7//GP9SUys93i1LjSWE3K3DSXonOdWHMxwW8SoqOek0CqwiiDVSTi1Pj+0h05BF7894HxdWIsgXEVUvAQy/do1uDYGMBjX1ezZ7d3xFkkTeKggIs4AOI0AHXr0XSJsmHKV4s/ODaGapmDyyrhrosjNheOXxE2KxyiddJ9eJIQ4rAJr6rxNy8toYF48hO8NzEjTBqnqFtubT3J4NiY137Hmcs3xPlzC8LXyJWpN6DuPVy3DqREikT3+9H3pH8hbhcme8RDhFVHv3/euL6qibqhRl2j97V5KxUv3vl96iJ4QVckSZI23H18qxgcGwOdTzE64v3+tuJoo00ku70j2mP5GEew7j6+VayszhYrq7OkPaCkOoGpIllWEx2v4HO7bCy23zgOu70jyg/l0KT6vqgsS3IladofcWocitGR2g9Gcej0W3Z6w8oP1Za3rjHrgkiSCmR5bb6oEwFGcUjqRDI9NXdgYxVDGxRrsTCLoQ7dEbChjeekQ6uc0Vk0iUIguTO08TzLcATjQEIbpoM+nUg9yrhBUQgqyuLQHZZPLpC2lpXDExxURUJNNDbiAEASYu30hpUdWhtxYNjX4UqKNKQ6YBaFaqStbAvyH6ahLgqBrKzOFi5HE+QgCsaekMPQyUMsyfaxQ8qft80dUBEHlXJSI/TqbisP0pbC3wa5BdMke3qORjc9NSfqMsAz/cTY+mDsQZqM0ofBDo7fL7oqDgYfRgLRMUo2XHu6XHem3iDEIlYVaPogJuRoSNVnimUAWDAdIYs1ykdOIJTF0bSGq/x/ufSmayLBCIph3i6hK3CZFCKnXFkUYYEgZn8RZ2kxZ9tIIebJPN9cOH5FhB7JMrq4TusXclEe5fDKBz7qNkcBhRSJdh+k68aZmhxXA/sipOjJddIZNzDlFfPJheNXxPTUnLdMNRKtytK9aS7hVfU5UntP3/WaY5glEafGD/zMpf5aPUhq44jJ8tp8oarMnMKbnMUBoM6ZPD01J85cvmH13LWjWF0Shg7La/MFhTopp7KpbinNXRySgY1nB7Zxj35jN1Q+pFpmbpNsgHorq1P+FCLRrVd5Ei98tgEAe0byFtJ9JZQ4EGJ1MRMHdXHvi+MXZJjB4nCHxCgWptAmtphMn53F4RcSAsFGXWceCywOf6AXSGjv4WLomEXSReTiTlWeNdt3hV4g2GGR4CCEOAAUw7x1GUZiE6PfkYtxr6zOkhiCDoUUR4hzV5TzIKlEQu0lYyovlXka39x9fKsIeWbl0H8u/gYA6vOUhq50ii8Va5mX1+aLLh0HF2NdWdK1WCkNzTa8wjpRWKYrM+Yos5r4Amsr3ASVMue6YjcFWgLRbcV0DYiKoZWhVmYWiR+8e5A2Q6JmaADpypzLKBtleB6EIUuMvlaQpA3TU3NC1fqdnrkpYOVJiFsGg6LHY/Rpe7/BPEj1xjLnLiWoi6ML/RAXL6LzfoOm/ZlYXBI658Ax9NAVH9YhZ93GT9uDuHYYZUJqLCdG5TiYEIO7j28VJp5Jft/070wwfVcm34+a9ufrpY+KzZPDaETCmIE1ZBvYeBZsimGo/Ae+hxVV4dWXn35sfI/YrTl7j4NgFUeZusGh8u9Nr9nnQULkFfIBzwekhYI4JLoJwnVRdtJ9iMS3UXd1tSpjjk87CTLMS6HFrytjOW0Og997hD4iwrtAQoqDgvAYNefPLfhPC9qwi9AXXudBqBgwlXKmxtV79AnC8wa8GOIA8CgQNjpG4ttTlIUqrx0rDvYSYuUkDp75t+fspeutYZRpn6HqxWLbGqnVvNyBjodNePXqd5ta39MVSawBgqY8Z84hVk7eA4AnCQHsDNP32YtNZXAd8t/pDcPK6qxWFn8+ozBj3ouUvNrUWMsiqf48dINrev3OCYSSx2tbOtGEzG5iekpurLCmOvpk8pw23sO2HkkJZP3aTDEZMAR6+WBSXHw/1NXjUU39oyuSYnQETHNM2YY6MRsqr5kVc4aS9zClLR9Wm0iK0RHjzIS5iwOgQwLRqajB8fvF9FS0IXYvmCSKaxo9ylEcPnAe5qWQSI3aS9HFVxZF09nolCN9ITdHqSA1DyIxMXhTcVARk88UoyZ5zygOg7uU2YtAsFaarbFjEUldOWLn3/UpjFS2Yntfkh4EoN2IXY3859ePGpWl/HG5b9v9Y64mCOUxbK/pWhabv/e6CSlFy6sqv89yNNVP231CdGQnFpfEW3/7weaytVQ76DFb+dDzH673DLJLD0uI4otqq22yoNG0ftvqzrdAtt84DgDpTzcO1djY3k8SfBvrk7dHrBI15ITv4yN89UGwiENS9/wpG/Hg8yCj3/CJqzondsXyun3h1DquAZaYZdFdxhNlotBlTVEOrKzOFufPLQiVSGLUS4iz+7rCEGcLiYNcXv3ywaSQWSZtkath22BhuDMA0LxhhPGLqzgA9t5X2+w3i6MdHcfQNw/CIqHDTm8YdntHlB8Whz/QjRpgxmW4NwTnzy0ceE+qnXJtdD3EbrJNr3lMXQqCnbpONkDa5yqL1lawTc/WJVTvMapA6gqBHR8GhP25WSRqos5eqsBuOAB+66Frz0ud5AKxIbaRsTc9CFbb8E3rC8JcEbEMjD2pmpD1Uq2PVHZIdrk7AG7xmjI9NSdUo1Jdo25OLtVcHWmBANDd5aZiaOO5cugWKyHOgNH5TkyhkBeIJBehdHUkCevW6GwEIpFCyUUw2PFhqJi3RmcnkCosFMaFVoFQHF1RwUIJh4uNuNpXaPvM3oNUoSASCmXsCloCycWL2MDGqkeuNqLtQXKqgK4Z/cTikpCfkPexsRHs76JzIZZE58VQSrHZdJ3JzzZAfrAbJDaMBJKTF8mdpkEJbCLBVp4yVgafKmF1zD0qmF5aqORqIRo8l3pzKU+o94U+xCpXWqwXikkcAHpD1DbD2L6fM0Vq0NB05nyQJmIuZ3e5V6g8uRw612PsQVKqnNIx0HVGh9EYfbxT6tnf6zDyINgKjxWdzPNcl/XE8Gq63l3bg/AL1QOjhwgNhiMSdnrDrd9pO6JCeU66DFuqGTFYEOaYnnzFddyMrJ+2ej09c1NsPtyFo6DeLuDyXtC/JCxbL9vIYRaZ8jPs9IZh+9ghAADYHtkLjFxPFXj5YFKgH+atgjGEwVimGGARB8Ce5zj89AUAADx7bcDLkRuD4/cLcgIBwGWQKZd6+4b6lgAZXm2d8PcIqAXSZEDYjCsn2oSCXUg+U8KSnihM3dF1FSlmIwPAX74YoPYgmGEPhpN7d656fS+oBaLTgrGhMiFBLRAdqIYBVMuNmRCNJXmBUITF4Z9QkQR6gTRt+qFoaBTL3GVIjGJhMyqddT8qsD1HLoTsh6L3INjY6Q3D5slhePfzv7CxIyD0IA0JD5KS6gvYE8bT0r8B/nXxr40viU9vogt7kBpMsog3eRMWRzg4N28imiq+zluoRHJ65iaHYcThEKuCS6v07ud/Ef/8w20AAHjz738GeOStWGShsl2hDhZICSqz8m3lxGCETbv2MJRPF1KFDYmpOOr6HTIEm1hcEq88KuC3X215ORTHVrypcpi14atcoRs1FgiErWTXTrqPsmE8pZfK0dokBJIis6JPbETiu1wYDdJnmXZ6w7CyOuv9XaIXiO/ka23XDknq1cmu9YYtVWmVECJBLZCQndGUHXJVubviyVT4tMH7H/R4R6GE2oiIJJU4V1ZnC9Ux0yFCk1wgLRAAuiJJBUYxYH6H1jPp5Sx1IVpE02Rfvu/PxAXrO/S21CSkWEKAtcVi3PDZ/wCw7KTHmAwyFRrVkS2mH2wDL0EFIjG9RypxuJaD8UMMm9QlSic95ERfyFCpem0WDE7QzaSHXGKAxXu4EGpWt0vovtfQjVb0/SA+04liFAfAXo5Y1XwDo4+OLaDcMOWjUMtr88XPrx+F6icneBehOxhyMyebKPzh7CC88ujXZ/x66aMsvEcZPiDTneW1+aK6M9PUVlxIuuV264SArRMi6gMz9Ph66aNC2orPow104D3pDNOAkUCevD3i5aanZ26KVx4VfSEWw2BEuw+yvDZfwJrbzfZHdr7a6vv5uttlUcP9EP9MLC4J30tK6lAKpO2Fnrl8Qxz93t8ozflzC4LnDZg65EnM1Z/FEMmQTevmUxwMU4dKGNXfhxYJ2U46pbCFwpA0JiYWl0SbOGJBViBMftgII7SQjCcKMS2hwLwTrQp31tVg8RR18JbbiLBI8AuiCodYTDRCiIM76RpQapUxhagxoSgOgEwEAkBLJAwdshEIAB2RnL10vVNehKr3AMigk14lRqed+pkXMcEgjmoZTP4+Kw8iCeVJ6tIa6aY8Kp+OS200hyJ18yomdW/kQbrawTShLBJVfW0fOxS3QAlJ2Qj4WqaSpQcB8O9FbK63sjpbbB87BOWPJPel/qHE4bPvoTNzX5Q7jPfuXK29eQzv4XtFL6YzMU7P3BRHHu7u///Za7+2TaodlaoDQEPvvHz5YFIAAAyO37e+T2ivoSMQmzLUXbeojqioRBIrtMpZIADup95unRDBRm9URuXaGfaNbnlsy6G6/oEQ6+yl60KK5vy5BRGz38F9nDTUGZSJoeUw6CBDrvKzKPsgh5++SGasdaJ8+WBSyBCA8YdOZzZWWZqINe8hkUI5MIp1+OmLmOWoRYpE5pe6+P7ez6enYP+FUZkYBHAPrwD8GYlvo8ciohCgnihsS74m+xghzzHMAeoGHNt7lEErEJPMhNjF4MN72EBdGBgYuHfnarE9ku10SHJSiCP2ltWQLXxK7wHwSyf9y08/Lu7duVo0zYN0GUp9nRDCoOaJfIqKXUdAYnsPaoZMgQMC4fxU/dh6DxZHHqDyICurs4UUaHnlayqoiIMJBxqBlD2XFEqq2J/Sab0AcbxH0z1C3j+1Z0QxzNsU1sXMWoJhvZUpMQ1I3kt2glMbbwzQeJAmYrToFMWRitjDyD5X55qS3IOYDAqEOi3Xx1J2X2Vh1MTM6F5GKZCV1dkC88raskG7ioU74nRIIZLkHsT16AMXsZiKg0WRntgiSS4Qn5iEYLriwC6K9WszRRc6y2ViiiTpFtsq2CYpMYmjabtt1wRSpk4ovuoElUBUpBINJnEAtO9H77JIQmIVYpkarYvYyn8bSywTi0sCHsW4kz+6GGrFoHYeZPOkeqmHjZH6MmwsXi02utlMUi8Nz5HGicLNk8N9HxdDZ5HEgUXizvq1mUJ+akOs/73Tf4556JxMjD9ChFtV4eUazlWfs9GDbJ0QsHVCdE4cmFphDHWvqg/ZwqYoT0xqBbJ+bab49sNP4NsPP4lZHsYTsYw3pkhSiJLEYsUqubp3qtgabTnWb7tG+fcxRdIqEJc8rQxTR13YpvvdWPwfduqj6GI+oNAAAAAASUVORK5CYII=\" id=\"image476a3e3e42\" transform=\"matrix(2.035 0 0 -2.035 7.2 413.28)\" style=\"image-rendering:crisp-edges;image-rendering:pixelated\" width=\"200\" height=\"200\"/>\n",
       "   </g>\n",
       "  </g>\n",
       "  <g id=\"axes_2\">\n",
       "   <g clip-path=\"url(#p9c3907c38c)\">\n",
       "    <image xlink:href=\"data:image/png;base64,\n",
       "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\" id=\"image9a8547c668\" transform=\"matrix(2.035 0 0 -2.035 429.48 413.28)\" style=\"image-rendering:crisp-edges;image-rendering:pixelated\" width=\"200\" height=\"200\"/>\n",
       "   </g>\n",
       "  </g>\n",
       " </g>\n",
       " <defs>\n",
       "  <clipPath id=\"p7727ff4af3\">\n",
       "   <rect x=\"7.2\" y=\"7.2\" width=\"406.08\" height=\"406.08\"/>\n",
       "  </clipPath>\n",
       "  <clipPath id=\"p9c3907c38c\">\n",
       "   <rect x=\"429.48\" y=\"7.2\" width=\"406.08\" height=\"406.08\"/>\n",
       "  </clipPath>\n",
       " </defs>\n",
       "</svg>\n"
      ],
      "text/plain": [
       "<Figure size 1200x600 with 2 Axes>"
      ]
     },
     "metadata": {},
     "output_type": "display_data"
    }
   ],
   "source": [
    "satn = ps.filters.pc_to_satn(pc=drn.im_pc, im=im)\n",
    "\n",
    "fig, ax = plt.subplots(1, 2, figsize=[12, 6])\n",
    "ax[0].imshow(drn.im_pc/im, interpolation='none', origin='lower')\n",
    "ax[0].axis(False)\n",
    "ax[1].imshow(satn/im, interpolation='none', origin='lower')\n",
    "ax[1].axis(False);"
   ]
  },
  {
   "cell_type": "markdown",
   "id": "d7be130c",
   "metadata": {},
   "source": [
    "The saturation image allows for easy determination of a desired fluid configuration:"
   ]
  },
  {
   "cell_type": "code",
   "execution_count": 5,
   "id": "70dced98",
   "metadata": {
    "execution": {
     "iopub.execute_input": "2022-08-23T00:34:34.355521Z",
     "iopub.status.busy": "2022-08-23T00:34:34.355177Z",
     "iopub.status.idle": "2022-08-23T00:34:34.547214Z",
     "shell.execute_reply": "2022-08-23T00:34:34.546568Z"
    }
   },
   "outputs": [
    {
     "data": {
      "image/svg+xml": [
       "<?xml version=\"1.0\" encoding=\"utf-8\" standalone=\"no\"?>\n",
       "<!DOCTYPE svg PUBLIC \"-//W3C//DTD SVG 1.1//EN\"\n",
       "  \"http://www.w3.org/Graphics/SVG/1.1/DTD/svg11.dtd\">\n",
       "<svg xmlns:xlink=\"http://www.w3.org/1999/xlink\" width=\"842.76pt\" height=\"420.48pt\" viewBox=\"0 0 842.76 420.48\" xmlns=\"http://www.w3.org/2000/svg\" version=\"1.1\">\n",
       " <metadata>\n",
       "  <rdf:RDF xmlns:dc=\"http://purl.org/dc/elements/1.1/\" xmlns:cc=\"http://creativecommons.org/ns#\" xmlns:rdf=\"http://www.w3.org/1999/02/22-rdf-syntax-ns#\">\n",
       "   <cc:Work>\n",
       "    <dc:type rdf:resource=\"http://purl.org/dc/dcmitype/StillImage\"/>\n",
       "    <dc:date>2022-08-23T00:34:34.518911</dc:date>\n",
       "    <dc:format>image/svg+xml</dc:format>\n",
       "    <dc:creator>\n",
       "     <cc:Agent>\n",
       "      <dc:title>Matplotlib v3.5.3, https://matplotlib.org/</dc:title>\n",
       "     </cc:Agent>\n",
       "    </dc:creator>\n",
       "   </cc:Work>\n",
       "  </rdf:RDF>\n",
       " </metadata>\n",
       " <defs>\n",
       "  <style type=\"text/css\">*{stroke-linejoin: round; stroke-linecap: butt}</style>\n",
       " </defs>\n",
       " <g id=\"figure_1\">\n",
       "  <g id=\"patch_1\">\n",
       "   <path d=\"M 0 420.48 \n",
       "L 842.76 420.48 \n",
       "L 842.76 0 \n",
       "L 0 0 \n",
       "z\n",
       "\" style=\"fill: #ffffff\"/>\n",
       "  </g>\n",
       "  <g id=\"axes_1\">\n",
       "   <g clip-path=\"url(#pb2276fa549)\">\n",
       "    <image xlink:href=\"data:image/png;base64,\n",
       "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\" id=\"imagecc8898485f\" transform=\"matrix(2.035 0 0 -2.035 7.2 413.28)\" style=\"image-rendering:crisp-edges;image-rendering:pixelated\" width=\"200\" height=\"200\"/>\n",
       "   </g>\n",
       "  </g>\n",
       "  <g id=\"axes_2\">\n",
       "   <g clip-path=\"url(#p43909fe105)\">\n",
       "    <image xlink:href=\"data:image/png;base64,\n",
       "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\" id=\"imagefc993709d1\" transform=\"matrix(2.035 0 0 -2.035 429.48 413.28)\" style=\"image-rendering:crisp-edges;image-rendering:pixelated\" width=\"200\" height=\"200\"/>\n",
       "   </g>\n",
       "  </g>\n",
       " </g>\n",
       " <defs>\n",
       "  <clipPath id=\"pb2276fa549\">\n",
       "   <rect x=\"7.2\" y=\"7.2\" width=\"406.08\" height=\"406.08\"/>\n",
       "  </clipPath>\n",
       "  <clipPath id=\"p43909fe105\">\n",
       "   <rect x=\"429.48\" y=\"7.2\" width=\"406.08\" height=\"406.08\"/>\n",
       "  </clipPath>\n",
       " </defs>\n",
       "</svg>\n"
      ],
      "text/plain": [
       "<Figure size 1200x600 with 2 Axes>"
      ]
     },
     "metadata": {},
     "output_type": "display_data"
    }
   ],
   "source": [
    "fig, ax = plt.subplots(1, 2, figsize=[12, 6])\n",
    "ax[0].imshow((satn < 0.3)*(satn > 0)/im, interpolation='none', origin='lower')\n",
    "ax[0].axis(False)\n",
    "ax[1].imshow((satn < 0.8)*(satn > 0)/im, interpolation='none', origin='lower')\n",
    "ax[1].axis(False);"
   ]
  }
 ],
 "metadata": {
  "kernelspec": {
   "display_name": "Python 3 (ipykernel)",
   "language": "python",
   "name": "python3"
  },
  "language_info": {
   "codemirror_mode": {
    "name": "ipython",
    "version": 3
   },
   "file_extension": ".py",
   "mimetype": "text/x-python",
   "name": "python",
   "nbconvert_exporter": "python",
   "pygments_lexer": "ipython3",
   "version": "3.8.13"
  },
  "widgets": {
   "application/vnd.jupyter.widget-state+json": {
    "state": {
     "0f8b1f748f9343a3b8e7bf73ced6c5df": {
      "model_module": "@jupyter-widgets/controls",
      "model_module_version": "2.0.0",
      "model_name": "HTMLModel",
      "state": {
       "_dom_classes": [],
       "_model_module": "@jupyter-widgets/controls",
       "_model_module_version": "2.0.0",
       "_model_name": "HTMLModel",
       "_view_count": null,
       "_view_module": "@jupyter-widgets/controls",
       "_view_module_version": "2.0.0",
       "_view_name": "HTMLView",
       "description": "",
       "description_allow_html": false,
       "layout": "IPY_MODEL_ae36e4d457244d65817a99066a35233d",
       "placeholder": "​",
       "style": "IPY_MODEL_3e057e381f1c49bcb4ba29ed224bc048",
       "tabbable": null,
       "tooltip": null,
       "value": "  0%"
      }
     },
     "2557d927b077433b8cbe27ba5a9c8040": {
      "model_module": "@jupyter-widgets/controls",
      "model_module_version": "2.0.0",
      "model_name": "HBoxModel",
      "state": {
       "_dom_classes": [],
       "_model_module": "@jupyter-widgets/controls",
       "_model_module_version": "2.0.0",
       "_model_name": "HBoxModel",
       "_view_count": null,
       "_view_module": "@jupyter-widgets/controls",
       "_view_module_version": "2.0.0",
       "_view_name": "HBoxView",
       "box_style": "",
       "children": [
        "IPY_MODEL_970fa37206714bbe9caa379f0bd0f7a8",
        "IPY_MODEL_d290a02d9a774081bace24d146005e46",
        "IPY_MODEL_fc54107896104aefa1cc4c51c9fc232e"
       ],
       "layout": "IPY_MODEL_aae7c776e35748a0879e9ef3baf5351f",
       "tabbable": null,
       "tooltip": null
      }
     },
     "2c23630d9c8141edba1ffd80f53d0214": {
      "model_module": "@jupyter-widgets/controls",
      "model_module_version": "2.0.0",
      "model_name": "HBoxModel",
      "state": {
       "_dom_classes": [],
       "_model_module": "@jupyter-widgets/controls",
       "_model_module_version": "2.0.0",
       "_model_name": "HBoxModel",
       "_view_count": null,
       "_view_module": "@jupyter-widgets/controls",
       "_view_module_version": "2.0.0",
       "_view_name": "HBoxView",
       "box_style": "",
       "children": [
        "IPY_MODEL_0f8b1f748f9343a3b8e7bf73ced6c5df",
        "IPY_MODEL_ebfba813133b4362aa93e86f8c3e8652",
        "IPY_MODEL_c701e687b03f41d38061f5c74a10b0f5"
       ],
       "layout": "IPY_MODEL_5e2a1799c34044599d7c32842c44bc2e",
       "tabbable": null,
       "tooltip": null
      }
     },
     "2eb7656351b349a99e6fec29eb456c64": {
      "model_module": "@jupyter-widgets/controls",
      "model_module_version": "2.0.0",
      "model_name": "HTMLStyleModel",
      "state": {
       "_model_module": "@jupyter-widgets/controls",
       "_model_module_version": "2.0.0",
       "_model_name": "HTMLStyleModel",
       "_view_count": null,
       "_view_module": "@jupyter-widgets/base",
       "_view_module_version": "2.0.0",
       "_view_name": "StyleView",
       "background": null,
       "description_width": "",
       "font_size": null,
       "text_color": null
      }
     },
     "32caa701d3cf4370b358832aae4af199": {
      "model_module": "@jupyter-widgets/base",
      "model_module_version": "2.0.0",
      "model_name": "LayoutModel",
      "state": {
       "_model_module": "@jupyter-widgets/base",
       "_model_module_version": "2.0.0",
       "_model_name": "LayoutModel",
       "_view_count": null,
       "_view_module": "@jupyter-widgets/base",
       "_view_module_version": "2.0.0",
       "_view_name": "LayoutView",
       "align_content": null,
       "align_items": null,
       "align_self": null,
       "border_bottom": null,
       "border_left": null,
       "border_right": null,
       "border_top": null,
       "bottom": null,
       "display": null,
       "flex": null,
       "flex_flow": null,
       "grid_area": null,
       "grid_auto_columns": null,
       "grid_auto_flow": null,
       "grid_auto_rows": null,
       "grid_column": null,
       "grid_gap": null,
       "grid_row": null,
       "grid_template_areas": null,
       "grid_template_columns": null,
       "grid_template_rows": null,
       "height": null,
       "justify_content": null,
       "justify_items": null,
       "left": null,
       "margin": null,
       "max_height": null,
       "max_width": null,
       "min_height": null,
       "min_width": null,
       "object_fit": null,
       "object_position": null,
       "order": null,
       "overflow": null,
       "padding": null,
       "right": null,
       "top": null,
       "visibility": null,
       "width": null
      }
     },
     "3cc037b147544bbaa94e63c985cafed9": {
      "model_module": "@jupyter-widgets/controls",
      "model_module_version": "2.0.0",
      "model_name": "ProgressStyleModel",
      "state": {
       "_model_module": "@jupyter-widgets/controls",
       "_model_module_version": "2.0.0",
       "_model_name": "ProgressStyleModel",
       "_view_count": null,
       "_view_module": "@jupyter-widgets/base",
       "_view_module_version": "2.0.0",
       "_view_name": "StyleView",
       "bar_color": null,
       "description_width": ""
      }
     },
     "3cc78f0b0ae24ec5b5770698fc6c289e": {
      "model_module": "@jupyter-widgets/base",
      "model_module_version": "2.0.0",
      "model_name": "LayoutModel",
      "state": {
       "_model_module": "@jupyter-widgets/base",
       "_model_module_version": "2.0.0",
       "_model_name": "LayoutModel",
       "_view_count": null,
       "_view_module": "@jupyter-widgets/base",
       "_view_module_version": "2.0.0",
       "_view_name": "LayoutView",
       "align_content": null,
       "align_items": null,
       "align_self": null,
       "border_bottom": null,
       "border_left": null,
       "border_right": null,
       "border_top": null,
       "bottom": null,
       "display": null,
       "flex": null,
       "flex_flow": null,
       "grid_area": null,
       "grid_auto_columns": null,
       "grid_auto_flow": null,
       "grid_auto_rows": null,
       "grid_column": null,
       "grid_gap": null,
       "grid_row": null,
       "grid_template_areas": null,
       "grid_template_columns": null,
       "grid_template_rows": null,
       "height": null,
       "justify_content": null,
       "justify_items": null,
       "left": null,
       "margin": null,
       "max_height": null,
       "max_width": null,
       "min_height": null,
       "min_width": null,
       "object_fit": null,
       "object_position": null,
       "order": null,
       "overflow": null,
       "padding": null,
       "right": null,
       "top": null,
       "visibility": null,
       "width": null
      }
     },
     "3e057e381f1c49bcb4ba29ed224bc048": {
      "model_module": "@jupyter-widgets/controls",
      "model_module_version": "2.0.0",
      "model_name": "HTMLStyleModel",
      "state": {
       "_model_module": "@jupyter-widgets/controls",
       "_model_module_version": "2.0.0",
       "_model_name": "HTMLStyleModel",
       "_view_count": null,
       "_view_module": "@jupyter-widgets/base",
       "_view_module_version": "2.0.0",
       "_view_name": "StyleView",
       "background": null,
       "description_width": "",
       "font_size": null,
       "text_color": null
      }
     },
     "5e2a1799c34044599d7c32842c44bc2e": {
      "model_module": "@jupyter-widgets/base",
      "model_module_version": "2.0.0",
      "model_name": "LayoutModel",
      "state": {
       "_model_module": "@jupyter-widgets/base",
       "_model_module_version": "2.0.0",
       "_model_name": "LayoutModel",
       "_view_count": null,
       "_view_module": "@jupyter-widgets/base",
       "_view_module_version": "2.0.0",
       "_view_name": "LayoutView",
       "align_content": null,
       "align_items": null,
       "align_self": null,
       "border_bottom": null,
       "border_left": null,
       "border_right": null,
       "border_top": null,
       "bottom": null,
       "display": null,
       "flex": null,
       "flex_flow": null,
       "grid_area": null,
       "grid_auto_columns": null,
       "grid_auto_flow": null,
       "grid_auto_rows": null,
       "grid_column": null,
       "grid_gap": null,
       "grid_row": null,
       "grid_template_areas": null,
       "grid_template_columns": null,
       "grid_template_rows": null,
       "height": null,
       "justify_content": null,
       "justify_items": null,
       "left": null,
       "margin": null,
       "max_height": null,
       "max_width": null,
       "min_height": null,
       "min_width": null,
       "object_fit": null,
       "object_position": null,
       "order": null,
       "overflow": null,
       "padding": null,
       "right": null,
       "top": null,
       "visibility": null,
       "width": null
      }
     },
     "69260c80fb2d40299c3a0fbb58012cff": {
      "model_module": "@jupyter-widgets/controls",
      "model_module_version": "2.0.0",
      "model_name": "ProgressStyleModel",
      "state": {
       "_model_module": "@jupyter-widgets/controls",
       "_model_module_version": "2.0.0",
       "_model_name": "ProgressStyleModel",
       "_view_count": null,
       "_view_module": "@jupyter-widgets/base",
       "_view_module_version": "2.0.0",
       "_view_name": "StyleView",
       "bar_color": null,
       "description_width": ""
      }
     },
     "82b0622de0424ed4906f61e4765bdfa0": {
      "model_module": "@jupyter-widgets/base",
      "model_module_version": "2.0.0",
      "model_name": "LayoutModel",
      "state": {
       "_model_module": "@jupyter-widgets/base",
       "_model_module_version": "2.0.0",
       "_model_name": "LayoutModel",
       "_view_count": null,
       "_view_module": "@jupyter-widgets/base",
       "_view_module_version": "2.0.0",
       "_view_name": "LayoutView",
       "align_content": null,
       "align_items": null,
       "align_self": null,
       "border_bottom": null,
       "border_left": null,
       "border_right": null,
       "border_top": null,
       "bottom": null,
       "display": null,
       "flex": null,
       "flex_flow": null,
       "grid_area": null,
       "grid_auto_columns": null,
       "grid_auto_flow": null,
       "grid_auto_rows": null,
       "grid_column": null,
       "grid_gap": null,
       "grid_row": null,
       "grid_template_areas": null,
       "grid_template_columns": null,
       "grid_template_rows": null,
       "height": null,
       "justify_content": null,
       "justify_items": null,
       "left": null,
       "margin": null,
       "max_height": null,
       "max_width": null,
       "min_height": null,
       "min_width": null,
       "object_fit": null,
       "object_position": null,
       "order": null,
       "overflow": null,
       "padding": null,
       "right": null,
       "top": null,
       "visibility": null,
       "width": null
      }
     },
     "970fa37206714bbe9caa379f0bd0f7a8": {
      "model_module": "@jupyter-widgets/controls",
      "model_module_version": "2.0.0",
      "model_name": "HTMLModel",
      "state": {
       "_dom_classes": [],
       "_model_module": "@jupyter-widgets/controls",
       "_model_module_version": "2.0.0",
       "_model_name": "HTMLModel",
       "_view_count": null,
       "_view_module": "@jupyter-widgets/controls",
       "_view_module_version": "2.0.0",
       "_view_name": "HTMLView",
       "description": "",
       "description_allow_html": false,
       "layout": "IPY_MODEL_3cc78f0b0ae24ec5b5770698fc6c289e",
       "placeholder": "​",
       "style": "IPY_MODEL_bfe21f1388a84051bf9e6c811edc51c1",
       "tabbable": null,
       "tooltip": null,
       "value": "  4%"
      }
     },
     "a405e84ae26e482cb0f9ec16339573ef": {
      "model_module": "@jupyter-widgets/base",
      "model_module_version": "2.0.0",
      "model_name": "LayoutModel",
      "state": {
       "_model_module": "@jupyter-widgets/base",
       "_model_module_version": "2.0.0",
       "_model_name": "LayoutModel",
       "_view_count": null,
       "_view_module": "@jupyter-widgets/base",
       "_view_module_version": "2.0.0",
       "_view_name": "LayoutView",
       "align_content": null,
       "align_items": null,
       "align_self": null,
       "border_bottom": null,
       "border_left": null,
       "border_right": null,
       "border_top": null,
       "bottom": null,
       "display": null,
       "flex": null,
       "flex_flow": null,
       "grid_area": null,
       "grid_auto_columns": null,
       "grid_auto_flow": null,
       "grid_auto_rows": null,
       "grid_column": null,
       "grid_gap": null,
       "grid_row": null,
       "grid_template_areas": null,
       "grid_template_columns": null,
       "grid_template_rows": null,
       "height": null,
       "justify_content": null,
       "justify_items": null,
       "left": null,
       "margin": null,
       "max_height": null,
       "max_width": null,
       "min_height": null,
       "min_width": null,
       "object_fit": null,
       "object_position": null,
       "order": null,
       "overflow": null,
       "padding": null,
       "right": null,
       "top": null,
       "visibility": null,
       "width": null
      }
     },
     "aae7c776e35748a0879e9ef3baf5351f": {
      "model_module": "@jupyter-widgets/base",
      "model_module_version": "2.0.0",
      "model_name": "LayoutModel",
      "state": {
       "_model_module": "@jupyter-widgets/base",
       "_model_module_version": "2.0.0",
       "_model_name": "LayoutModel",
       "_view_count": null,
       "_view_module": "@jupyter-widgets/base",
       "_view_module_version": "2.0.0",
       "_view_name": "LayoutView",
       "align_content": null,
       "align_items": null,
       "align_self": null,
       "border_bottom": null,
       "border_left": null,
       "border_right": null,
       "border_top": null,
       "bottom": null,
       "display": null,
       "flex": null,
       "flex_flow": null,
       "grid_area": null,
       "grid_auto_columns": null,
       "grid_auto_flow": null,
       "grid_auto_rows": null,
       "grid_column": null,
       "grid_gap": null,
       "grid_row": null,
       "grid_template_areas": null,
       "grid_template_columns": null,
       "grid_template_rows": null,
       "height": null,
       "justify_content": null,
       "justify_items": null,
       "left": null,
       "margin": null,
       "max_height": null,
       "max_width": null,
       "min_height": null,
       "min_width": null,
       "object_fit": null,
       "object_position": null,
       "order": null,
       "overflow": null,
       "padding": null,
       "right": null,
       "top": null,
       "visibility": null,
       "width": null
      }
     },
     "ae36e4d457244d65817a99066a35233d": {
      "model_module": "@jupyter-widgets/base",
      "model_module_version": "2.0.0",
      "model_name": "LayoutModel",
      "state": {
       "_model_module": "@jupyter-widgets/base",
       "_model_module_version": "2.0.0",
       "_model_name": "LayoutModel",
       "_view_count": null,
       "_view_module": "@jupyter-widgets/base",
       "_view_module_version": "2.0.0",
       "_view_name": "LayoutView",
       "align_content": null,
       "align_items": null,
       "align_self": null,
       "border_bottom": null,
       "border_left": null,
       "border_right": null,
       "border_top": null,
       "bottom": null,
       "display": null,
       "flex": null,
       "flex_flow": null,
       "grid_area": null,
       "grid_auto_columns": null,
       "grid_auto_flow": null,
       "grid_auto_rows": null,
       "grid_column": null,
       "grid_gap": null,
       "grid_row": null,
       "grid_template_areas": null,
       "grid_template_columns": null,
       "grid_template_rows": null,
       "height": null,
       "justify_content": null,
       "justify_items": null,
       "left": null,
       "margin": null,
       "max_height": null,
       "max_width": null,
       "min_height": null,
       "min_width": null,
       "object_fit": null,
       "object_position": null,
       "order": null,
       "overflow": null,
       "padding": null,
       "right": null,
       "top": null,
       "visibility": null,
       "width": null
      }
     },
     "b23d6c1a8df7425abf62bcfc776a77d9": {
      "model_module": "@jupyter-widgets/controls",
      "model_module_version": "2.0.0",
      "model_name": "HTMLStyleModel",
      "state": {
       "_model_module": "@jupyter-widgets/controls",
       "_model_module_version": "2.0.0",
       "_model_name": "HTMLStyleModel",
       "_view_count": null,
       "_view_module": "@jupyter-widgets/base",
       "_view_module_version": "2.0.0",
       "_view_name": "StyleView",
       "background": null,
       "description_width": "",
       "font_size": null,
       "text_color": null
      }
     },
     "bfe21f1388a84051bf9e6c811edc51c1": {
      "model_module": "@jupyter-widgets/controls",
      "model_module_version": "2.0.0",
      "model_name": "HTMLStyleModel",
      "state": {
       "_model_module": "@jupyter-widgets/controls",
       "_model_module_version": "2.0.0",
       "_model_name": "HTMLStyleModel",
       "_view_count": null,
       "_view_module": "@jupyter-widgets/base",
       "_view_module_version": "2.0.0",
       "_view_name": "StyleView",
       "background": null,
       "description_width": "",
       "font_size": null,
       "text_color": null
      }
     },
     "c701e687b03f41d38061f5c74a10b0f5": {
      "model_module": "@jupyter-widgets/controls",
      "model_module_version": "2.0.0",
      "model_name": "HTMLModel",
      "state": {
       "_dom_classes": [],
       "_model_module": "@jupyter-widgets/controls",
       "_model_module_version": "2.0.0",
       "_model_name": "HTMLModel",
       "_view_count": null,
       "_view_module": "@jupyter-widgets/controls",
       "_view_module_version": "2.0.0",
       "_view_name": "HTMLView",
       "description": "",
       "description_allow_html": false,
       "layout": "IPY_MODEL_82b0622de0424ed4906f61e4765bdfa0",
       "placeholder": "​",
       "style": "IPY_MODEL_2eb7656351b349a99e6fec29eb456c64",
       "tabbable": null,
       "tooltip": null,
       "value": " 0/13 [00:00&lt;?, ?it/s]"
      }
     },
     "d290a02d9a774081bace24d146005e46": {
      "model_module": "@jupyter-widgets/controls",
      "model_module_version": "2.0.0",
      "model_name": "FloatProgressModel",
      "state": {
       "_dom_classes": [],
       "_model_module": "@jupyter-widgets/controls",
       "_model_module_version": "2.0.0",
       "_model_name": "FloatProgressModel",
       "_view_count": null,
       "_view_module": "@jupyter-widgets/controls",
       "_view_module_version": "2.0.0",
       "_view_name": "ProgressView",
       "bar_style": "",
       "description": "",
       "description_allow_html": false,
       "layout": "IPY_MODEL_dbef8bd80a0c49c88e002f20cde9a734",
       "max": 25.0,
       "min": 0.0,
       "orientation": "horizontal",
       "style": "IPY_MODEL_3cc037b147544bbaa94e63c985cafed9",
       "tabbable": null,
       "tooltip": null,
       "value": 25.0
      }
     },
     "dbef8bd80a0c49c88e002f20cde9a734": {
      "model_module": "@jupyter-widgets/base",
      "model_module_version": "2.0.0",
      "model_name": "LayoutModel",
      "state": {
       "_model_module": "@jupyter-widgets/base",
       "_model_module_version": "2.0.0",
       "_model_name": "LayoutModel",
       "_view_count": null,
       "_view_module": "@jupyter-widgets/base",
       "_view_module_version": "2.0.0",
       "_view_name": "LayoutView",
       "align_content": null,
       "align_items": null,
       "align_self": null,
       "border_bottom": null,
       "border_left": null,
       "border_right": null,
       "border_top": null,
       "bottom": null,
       "display": null,
       "flex": null,
       "flex_flow": null,
       "grid_area": null,
       "grid_auto_columns": null,
       "grid_auto_flow": null,
       "grid_auto_rows": null,
       "grid_column": null,
       "grid_gap": null,
       "grid_row": null,
       "grid_template_areas": null,
       "grid_template_columns": null,
       "grid_template_rows": null,
       "height": null,
       "justify_content": null,
       "justify_items": null,
       "left": null,
       "margin": null,
       "max_height": null,
       "max_width": null,
       "min_height": null,
       "min_width": null,
       "object_fit": null,
       "object_position": null,
       "order": null,
       "overflow": null,
       "padding": null,
       "right": null,
       "top": null,
       "visibility": null,
       "width": null
      }
     },
     "ebfba813133b4362aa93e86f8c3e8652": {
      "model_module": "@jupyter-widgets/controls",
      "model_module_version": "2.0.0",
      "model_name": "FloatProgressModel",
      "state": {
       "_dom_classes": [],
       "_model_module": "@jupyter-widgets/controls",
       "_model_module_version": "2.0.0",
       "_model_name": "FloatProgressModel",
       "_view_count": null,
       "_view_module": "@jupyter-widgets/controls",
       "_view_module_version": "2.0.0",
       "_view_name": "ProgressView",
       "bar_style": "",
       "description": "",
       "description_allow_html": false,
       "layout": "IPY_MODEL_32caa701d3cf4370b358832aae4af199",
       "max": 13.0,
       "min": 0.0,
       "orientation": "horizontal",
       "style": "IPY_MODEL_69260c80fb2d40299c3a0fbb58012cff",
       "tabbable": null,
       "tooltip": null,
       "value": 13.0
      }
     },
     "fc54107896104aefa1cc4c51c9fc232e": {
      "model_module": "@jupyter-widgets/controls",
      "model_module_version": "2.0.0",
      "model_name": "HTMLModel",
      "state": {
       "_dom_classes": [],
       "_model_module": "@jupyter-widgets/controls",
       "_model_module_version": "2.0.0",
       "_model_name": "HTMLModel",
       "_view_count": null,
       "_view_module": "@jupyter-widgets/controls",
       "_view_module_version": "2.0.0",
       "_view_name": "HTMLView",
       "description": "",
       "description_allow_html": false,
       "layout": "IPY_MODEL_a405e84ae26e482cb0f9ec16339573ef",
       "placeholder": "​",
       "style": "IPY_MODEL_b23d6c1a8df7425abf62bcfc776a77d9",
       "tabbable": null,
       "tooltip": null,
       "value": " 1/25 [00:01&lt;00:24,  1.00s/it]"
      }
     }
    },
    "version_major": 2,
    "version_minor": 0
   }
  }
 },
 "nbformat": 4,
 "nbformat_minor": 5
}

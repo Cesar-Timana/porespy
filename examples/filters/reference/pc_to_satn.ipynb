{
 "cells": [
  {
   "cell_type": "markdown",
   "id": "d279476c",
   "metadata": {},
   "source": [
    "# `pc_to_satn`\n",
    "Convert a capillary pressure map to saturation map."
   ]
  },
  {
   "cell_type": "code",
   "execution_count": 1,
   "id": "df328066",
   "metadata": {
    "execution": {
     "iopub.execute_input": "2022-08-12T22:12:06.929059Z",
     "iopub.status.busy": "2022-08-12T22:12:06.928379Z",
     "iopub.status.idle": "2022-08-12T22:12:09.437409Z",
     "shell.execute_reply": "2022-08-12T22:12:09.436526Z"
    }
   },
   "outputs": [],
   "source": [
    "import matplotlib.pyplot as plt\n",
    "import numpy as np\n",
    "import porespy as ps\n",
    "ps.visualization.set_mpl_style()"
   ]
  },
  {
   "cell_type": "markdown",
   "id": "9640b91d",
   "metadata": {},
   "source": [
    "The arguments and their defaults are:"
   ]
  },
  {
   "cell_type": "code",
   "execution_count": 2,
   "id": "da504252",
   "metadata": {
    "execution": {
     "iopub.execute_input": "2022-08-12T22:12:09.444188Z",
     "iopub.status.busy": "2022-08-12T22:12:09.442420Z",
     "iopub.status.idle": "2022-08-12T22:12:09.452218Z",
     "shell.execute_reply": "2022-08-12T22:12:09.451522Z"
    }
   },
   "outputs": [
    {
     "data": {
      "text/plain": [
       "<Signature (pc, im)>"
      ]
     },
     "execution_count": 2,
     "metadata": {},
     "output_type": "execute_result"
    }
   ],
   "source": [
    "import inspect\n",
    "inspect.signature(ps.filters.pc_to_satn)"
   ]
  },
  {
   "cell_type": "markdown",
   "id": "a49558cb",
   "metadata": {},
   "source": [
    "The capillary pressure map, such as that computed by ``ps.simulations.drainage``"
   ]
  },
  {
   "cell_type": "code",
   "execution_count": 3,
   "id": "567910b4",
   "metadata": {
    "execution": {
     "iopub.execute_input": "2022-08-12T22:12:09.457498Z",
     "iopub.status.busy": "2022-08-12T22:12:09.455983Z",
     "iopub.status.idle": "2022-08-12T22:12:10.782212Z",
     "shell.execute_reply": "2022-08-12T22:12:10.781508Z"
    }
   },
   "outputs": [
    {
     "data": {
      "application/vnd.jupyter.widget-view+json": {
       "model_id": "5a3e12553e7e43c8a48a276462803057",
       "version_major": 2,
       "version_minor": 0
      },
      "text/plain": [
       "  0%|          | 0/25 [00:00<?, ?it/s]"
      ]
     },
     "metadata": {},
     "output_type": "display_data"
    },
    {
     "data": {
      "application/vnd.jupyter.widget-view+json": {
       "model_id": "5081d80999cb42648c4c197d59384219",
       "version_major": 2,
       "version_minor": 0
      },
      "text/plain": [
       "  0%|          | 0/12 [00:00<?, ?it/s]"
      ]
     },
     "metadata": {},
     "output_type": "display_data"
    }
   ],
   "source": [
    "im = ps.generators.blobs(shape=[200, 200], porosity=0.6)\n",
    "drn = ps.simulations.drainage(im=im, voxel_size=1, g=0)"
   ]
  },
  {
   "cell_type": "markdown",
   "id": "639b2f06",
   "metadata": {},
   "source": [
    "## `pc` and `im`"
   ]
  },
  {
   "cell_type": "code",
   "execution_count": 4,
   "id": "45c9fb8b",
   "metadata": {
    "execution": {
     "iopub.execute_input": "2022-08-12T22:12:10.786218Z",
     "iopub.status.busy": "2022-08-12T22:12:10.785454Z",
     "iopub.status.idle": "2022-08-12T22:12:10.968964Z",
     "shell.execute_reply": "2022-08-12T22:12:10.968028Z"
    }
   },
   "outputs": [
    {
     "data": {
      "image/svg+xml": [
       "<?xml version=\"1.0\" encoding=\"utf-8\" standalone=\"no\"?>\n",
       "<!DOCTYPE svg PUBLIC \"-//W3C//DTD SVG 1.1//EN\"\n",
       "  \"http://www.w3.org/Graphics/SVG/1.1/DTD/svg11.dtd\">\n",
       "<svg xmlns:xlink=\"http://www.w3.org/1999/xlink\" width=\"848.7pt\" height=\"424.8pt\" viewBox=\"0 0 848.7 424.8\" xmlns=\"http://www.w3.org/2000/svg\" version=\"1.1\">\n",
       " <metadata>\n",
       "  <rdf:RDF xmlns:dc=\"http://purl.org/dc/elements/1.1/\" xmlns:cc=\"http://creativecommons.org/ns#\" xmlns:rdf=\"http://www.w3.org/1999/02/22-rdf-syntax-ns#\">\n",
       "   <cc:Work>\n",
       "    <dc:type rdf:resource=\"http://purl.org/dc/dcmitype/StillImage\"/>\n",
       "    <dc:date>2022-08-12T22:12:10.931306</dc:date>\n",
       "    <dc:format>image/svg+xml</dc:format>\n",
       "    <dc:creator>\n",
       "     <cc:Agent>\n",
       "      <dc:title>Matplotlib v3.5.3, https://matplotlib.org/</dc:title>\n",
       "     </cc:Agent>\n",
       "    </dc:creator>\n",
       "   </cc:Work>\n",
       "  </rdf:RDF>\n",
       " </metadata>\n",
       " <defs>\n",
       "  <style type=\"text/css\">*{stroke-linejoin: round; stroke-linecap: butt}</style>\n",
       " </defs>\n",
       " <g id=\"figure_1\">\n",
       "  <g id=\"patch_1\">\n",
       "   <path d=\"M 0 424.8 \n",
       "L 848.7 424.8 \n",
       "L 848.7 0 \n",
       "L 0 0 \n",
       "L 0 424.8 \n",
       "z\n",
       "\" style=\"fill: none\"/>\n",
       "  </g>\n",
       "  <g id=\"axes_1\">\n",
       "   <g clip-path=\"url(#p96b385c16b)\">\n",
       "    <image xlink:href=\"data:image/png;base64,\n",
       "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\" id=\"imagee55874b4c5\" transform=\"matrix(2.055 0 0 -2.055 7.2 417.6)\" style=\"image-rendering:crisp-edges;image-rendering:pixelated\" width=\"200\" height=\"200\"/>\n",
       "   </g>\n",
       "  </g>\n",
       "  <g id=\"axes_2\">\n",
       "   <g clip-path=\"url(#p1f9f95ed17)\">\n",
       "    <image xlink:href=\"data:image/png;base64,\n",
       "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\" id=\"image09de4aaaaf\" transform=\"matrix(2.055 0 0 -2.055 431.1 417.6)\" style=\"image-rendering:crisp-edges;image-rendering:pixelated\" width=\"200\" height=\"200\"/>\n",
       "   </g>\n",
       "  </g>\n",
       " </g>\n",
       " <defs>\n",
       "  <clipPath id=\"p96b385c16b\">\n",
       "   <rect x=\"7.2\" y=\"7.2\" width=\"410.4\" height=\"410.4\"/>\n",
       "  </clipPath>\n",
       "  <clipPath id=\"p1f9f95ed17\">\n",
       "   <rect x=\"431.1\" y=\"7.2\" width=\"410.4\" height=\"410.4\"/>\n",
       "  </clipPath>\n",
       " </defs>\n",
       "</svg>\n"
      ],
      "text/plain": [
       "<Figure size 864x432 with 2 Axes>"
      ]
     },
     "metadata": {
      "needs_background": "light"
     },
     "output_type": "display_data"
    }
   ],
   "source": [
    "satn = ps.filters.pc_to_satn(pc=drn.im_pc, im=im)\n",
    "\n",
    "fig, ax = plt.subplots(1, 2, figsize=[12, 6])\n",
    "ax[0].imshow(drn.im_pc/im, interpolation='none', origin='lower')\n",
    "ax[0].axis(False)\n",
    "ax[1].imshow(satn/im, interpolation='none', origin='lower')\n",
    "ax[1].axis(False);"
   ]
  },
  {
   "cell_type": "markdown",
   "id": "d7be130c",
   "metadata": {},
   "source": [
    "The saturation image allows for easy determination of a desired fluid configuration:"
   ]
  },
  {
   "cell_type": "code",
   "execution_count": 5,
   "id": "70dced98",
   "metadata": {
    "execution": {
     "iopub.execute_input": "2022-08-12T22:12:10.972970Z",
     "iopub.status.busy": "2022-08-12T22:12:10.972540Z",
     "iopub.status.idle": "2022-08-12T22:12:11.165027Z",
     "shell.execute_reply": "2022-08-12T22:12:11.164231Z"
    }
   },
   "outputs": [
    {
     "data": {
      "image/svg+xml": [
       "<?xml version=\"1.0\" encoding=\"utf-8\" standalone=\"no\"?>\n",
       "<!DOCTYPE svg PUBLIC \"-//W3C//DTD SVG 1.1//EN\"\n",
       "  \"http://www.w3.org/Graphics/SVG/1.1/DTD/svg11.dtd\">\n",
       "<svg xmlns:xlink=\"http://www.w3.org/1999/xlink\" width=\"848.7pt\" height=\"424.8pt\" viewBox=\"0 0 848.7 424.8\" xmlns=\"http://www.w3.org/2000/svg\" version=\"1.1\">\n",
       " <metadata>\n",
       "  <rdf:RDF xmlns:dc=\"http://purl.org/dc/elements/1.1/\" xmlns:cc=\"http://creativecommons.org/ns#\" xmlns:rdf=\"http://www.w3.org/1999/02/22-rdf-syntax-ns#\">\n",
       "   <cc:Work>\n",
       "    <dc:type rdf:resource=\"http://purl.org/dc/dcmitype/StillImage\"/>\n",
       "    <dc:date>2022-08-12T22:12:11.142181</dc:date>\n",
       "    <dc:format>image/svg+xml</dc:format>\n",
       "    <dc:creator>\n",
       "     <cc:Agent>\n",
       "      <dc:title>Matplotlib v3.5.3, https://matplotlib.org/</dc:title>\n",
       "     </cc:Agent>\n",
       "    </dc:creator>\n",
       "   </cc:Work>\n",
       "  </rdf:RDF>\n",
       " </metadata>\n",
       " <defs>\n",
       "  <style type=\"text/css\">*{stroke-linejoin: round; stroke-linecap: butt}</style>\n",
       " </defs>\n",
       " <g id=\"figure_1\">\n",
       "  <g id=\"patch_1\">\n",
       "   <path d=\"M 0 424.8 \n",
       "L 848.7 424.8 \n",
       "L 848.7 0 \n",
       "L 0 0 \n",
       "L 0 424.8 \n",
       "z\n",
       "\" style=\"fill: none\"/>\n",
       "  </g>\n",
       "  <g id=\"axes_1\">\n",
       "   <g clip-path=\"url(#pe3438fac27)\">\n",
       "    <image xlink:href=\"data:image/png;base64,\n",
       "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\" id=\"image4cd250bc8d\" transform=\"matrix(2.055 0 0 -2.055 7.2 417.6)\" style=\"image-rendering:crisp-edges;image-rendering:pixelated\" width=\"200\" height=\"200\"/>\n",
       "   </g>\n",
       "  </g>\n",
       "  <g id=\"axes_2\">\n",
       "   <g clip-path=\"url(#pfdc1b1ddc8)\">\n",
       "    <image xlink:href=\"data:image/png;base64,\n",
       "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\" id=\"image7e83a7c51e\" transform=\"matrix(2.055 0 0 -2.055 431.1 417.6)\" style=\"image-rendering:crisp-edges;image-rendering:pixelated\" width=\"200\" height=\"200\"/>\n",
       "   </g>\n",
       "  </g>\n",
       " </g>\n",
       " <defs>\n",
       "  <clipPath id=\"pe3438fac27\">\n",
       "   <rect x=\"7.2\" y=\"7.2\" width=\"410.4\" height=\"410.4\"/>\n",
       "  </clipPath>\n",
       "  <clipPath id=\"pfdc1b1ddc8\">\n",
       "   <rect x=\"431.1\" y=\"7.2\" width=\"410.4\" height=\"410.4\"/>\n",
       "  </clipPath>\n",
       " </defs>\n",
       "</svg>\n"
      ],
      "text/plain": [
       "<Figure size 864x432 with 2 Axes>"
      ]
     },
     "metadata": {
      "needs_background": "light"
     },
     "output_type": "display_data"
    }
   ],
   "source": [
    "fig, ax = plt.subplots(1, 2, figsize=[12, 6])\n",
    "ax[0].imshow((satn < 0.3)*(satn > 0)/im, interpolation='none', origin='lower')\n",
    "ax[0].axis(False)\n",
    "ax[1].imshow((satn < 0.8)*(satn > 0)/im, interpolation='none', origin='lower')\n",
    "ax[1].axis(False);"
   ]
  }
 ],
 "metadata": {
  "kernelspec": {
   "display_name": "Python 3 (ipykernel)",
   "language": "python",
   "name": "python3"
  },
  "language_info": {
   "codemirror_mode": {
    "name": "ipython",
    "version": 3
   },
   "file_extension": ".py",
   "mimetype": "text/x-python",
   "name": "python",
   "nbconvert_exporter": "python",
   "pygments_lexer": "ipython3",
   "version": "3.8.13"
  },
  "widgets": {
   "application/vnd.jupyter.widget-state+json": {
    "state": {
     "09200480b22a41d98dbb9922d18595df": {
      "model_module": "@jupyter-widgets/controls",
      "model_module_version": "1.5.0",
      "model_name": "HTMLModel",
      "state": {
       "_dom_classes": [],
       "_model_module": "@jupyter-widgets/controls",
       "_model_module_version": "1.5.0",
       "_model_name": "HTMLModel",
       "_view_count": null,
       "_view_module": "@jupyter-widgets/controls",
       "_view_module_version": "1.5.0",
       "_view_name": "HTMLView",
       "description": "",
       "description_tooltip": null,
       "layout": "IPY_MODEL_3af8cdf27117470db902bc849aa9b626",
       "placeholder": "​",
       "style": "IPY_MODEL_f367ffd67ccf44168633b8b78619d1dd",
       "value": "  4%"
      }
     },
     "1ad7621d268b496a8e0a373c9bb8208a": {
      "model_module": "@jupyter-widgets/controls",
      "model_module_version": "1.5.0",
      "model_name": "ProgressStyleModel",
      "state": {
       "_model_module": "@jupyter-widgets/controls",
       "_model_module_version": "1.5.0",
       "_model_name": "ProgressStyleModel",
       "_view_count": null,
       "_view_module": "@jupyter-widgets/base",
       "_view_module_version": "1.2.0",
       "_view_name": "StyleView",
       "bar_color": null,
       "description_width": ""
      }
     },
     "31ca6307900e4127954e0ff97949f244": {
      "model_module": "@jupyter-widgets/base",
      "model_module_version": "1.2.0",
      "model_name": "LayoutModel",
      "state": {
       "_model_module": "@jupyter-widgets/base",
       "_model_module_version": "1.2.0",
       "_model_name": "LayoutModel",
       "_view_count": null,
       "_view_module": "@jupyter-widgets/base",
       "_view_module_version": "1.2.0",
       "_view_name": "LayoutView",
       "align_content": null,
       "align_items": null,
       "align_self": null,
       "border": null,
       "bottom": null,
       "display": null,
       "flex": null,
       "flex_flow": null,
       "grid_area": null,
       "grid_auto_columns": null,
       "grid_auto_flow": null,
       "grid_auto_rows": null,
       "grid_column": null,
       "grid_gap": null,
       "grid_row": null,
       "grid_template_areas": null,
       "grid_template_columns": null,
       "grid_template_rows": null,
       "height": null,
       "justify_content": null,
       "justify_items": null,
       "left": null,
       "margin": null,
       "max_height": null,
       "max_width": null,
       "min_height": null,
       "min_width": null,
       "object_fit": null,
       "object_position": null,
       "order": null,
       "overflow": null,
       "overflow_x": null,
       "overflow_y": null,
       "padding": null,
       "right": null,
       "top": null,
       "visibility": null,
       "width": null
      }
     },
     "3af8cdf27117470db902bc849aa9b626": {
      "model_module": "@jupyter-widgets/base",
      "model_module_version": "1.2.0",
      "model_name": "LayoutModel",
      "state": {
       "_model_module": "@jupyter-widgets/base",
       "_model_module_version": "1.2.0",
       "_model_name": "LayoutModel",
       "_view_count": null,
       "_view_module": "@jupyter-widgets/base",
       "_view_module_version": "1.2.0",
       "_view_name": "LayoutView",
       "align_content": null,
       "align_items": null,
       "align_self": null,
       "border": null,
       "bottom": null,
       "display": null,
       "flex": null,
       "flex_flow": null,
       "grid_area": null,
       "grid_auto_columns": null,
       "grid_auto_flow": null,
       "grid_auto_rows": null,
       "grid_column": null,
       "grid_gap": null,
       "grid_row": null,
       "grid_template_areas": null,
       "grid_template_columns": null,
       "grid_template_rows": null,
       "height": null,
       "justify_content": null,
       "justify_items": null,
       "left": null,
       "margin": null,
       "max_height": null,
       "max_width": null,
       "min_height": null,
       "min_width": null,
       "object_fit": null,
       "object_position": null,
       "order": null,
       "overflow": null,
       "overflow_x": null,
       "overflow_y": null,
       "padding": null,
       "right": null,
       "top": null,
       "visibility": null,
       "width": null
      }
     },
     "48d31a40328244b489c62469257a6fe2": {
      "model_module": "@jupyter-widgets/controls",
      "model_module_version": "1.5.0",
      "model_name": "HTMLModel",
      "state": {
       "_dom_classes": [],
       "_model_module": "@jupyter-widgets/controls",
       "_model_module_version": "1.5.0",
       "_model_name": "HTMLModel",
       "_view_count": null,
       "_view_module": "@jupyter-widgets/controls",
       "_view_module_version": "1.5.0",
       "_view_name": "HTMLView",
       "description": "",
       "description_tooltip": null,
       "layout": "IPY_MODEL_8aceaf2be4d9493788090ba7cc3c6e61",
       "placeholder": "​",
       "style": "IPY_MODEL_8b0feda072be4003aadbf7a7bfbf896d",
       "value": " 1/25 [00:01&lt;00:29,  1.24s/it]"
      }
     },
     "5081d80999cb42648c4c197d59384219": {
      "model_module": "@jupyter-widgets/controls",
      "model_module_version": "1.5.0",
      "model_name": "HBoxModel",
      "state": {
       "_dom_classes": [],
       "_model_module": "@jupyter-widgets/controls",
       "_model_module_version": "1.5.0",
       "_model_name": "HBoxModel",
       "_view_count": null,
       "_view_module": "@jupyter-widgets/controls",
       "_view_module_version": "1.5.0",
       "_view_name": "HBoxView",
       "box_style": "",
       "children": [
        "IPY_MODEL_72bdb9a962fd442d8fbe5ea6f0288c67",
        "IPY_MODEL_ae12f8fbda9444b08b76d8c55cc193fb",
        "IPY_MODEL_aed04afa5c3247a2aea086c8984f3939"
       ],
       "layout": "IPY_MODEL_31ca6307900e4127954e0ff97949f244"
      }
     },
     "5a3e12553e7e43c8a48a276462803057": {
      "model_module": "@jupyter-widgets/controls",
      "model_module_version": "1.5.0",
      "model_name": "HBoxModel",
      "state": {
       "_dom_classes": [],
       "_model_module": "@jupyter-widgets/controls",
       "_model_module_version": "1.5.0",
       "_model_name": "HBoxModel",
       "_view_count": null,
       "_view_module": "@jupyter-widgets/controls",
       "_view_module_version": "1.5.0",
       "_view_name": "HBoxView",
       "box_style": "",
       "children": [
        "IPY_MODEL_09200480b22a41d98dbb9922d18595df",
        "IPY_MODEL_eb21a68994134c49a577aef6d05203f3",
        "IPY_MODEL_48d31a40328244b489c62469257a6fe2"
       ],
       "layout": "IPY_MODEL_e07b2a9a48d7408db5e9c811554c6c7b"
      }
     },
     "5d005bf885fb4b2a9fa9ed61410c6d92": {
      "model_module": "@jupyter-widgets/base",
      "model_module_version": "1.2.0",
      "model_name": "LayoutModel",
      "state": {
       "_model_module": "@jupyter-widgets/base",
       "_model_module_version": "1.2.0",
       "_model_name": "LayoutModel",
       "_view_count": null,
       "_view_module": "@jupyter-widgets/base",
       "_view_module_version": "1.2.0",
       "_view_name": "LayoutView",
       "align_content": null,
       "align_items": null,
       "align_self": null,
       "border": null,
       "bottom": null,
       "display": null,
       "flex": null,
       "flex_flow": null,
       "grid_area": null,
       "grid_auto_columns": null,
       "grid_auto_flow": null,
       "grid_auto_rows": null,
       "grid_column": null,
       "grid_gap": null,
       "grid_row": null,
       "grid_template_areas": null,
       "grid_template_columns": null,
       "grid_template_rows": null,
       "height": null,
       "justify_content": null,
       "justify_items": null,
       "left": null,
       "margin": null,
       "max_height": null,
       "max_width": null,
       "min_height": null,
       "min_width": null,
       "object_fit": null,
       "object_position": null,
       "order": null,
       "overflow": null,
       "overflow_x": null,
       "overflow_y": null,
       "padding": null,
       "right": null,
       "top": null,
       "visibility": null,
       "width": null
      }
     },
     "6dc4c46fc0f146bf94bb7ba0094b99c3": {
      "model_module": "@jupyter-widgets/base",
      "model_module_version": "1.2.0",
      "model_name": "LayoutModel",
      "state": {
       "_model_module": "@jupyter-widgets/base",
       "_model_module_version": "1.2.0",
       "_model_name": "LayoutModel",
       "_view_count": null,
       "_view_module": "@jupyter-widgets/base",
       "_view_module_version": "1.2.0",
       "_view_name": "LayoutView",
       "align_content": null,
       "align_items": null,
       "align_self": null,
       "border": null,
       "bottom": null,
       "display": null,
       "flex": null,
       "flex_flow": null,
       "grid_area": null,
       "grid_auto_columns": null,
       "grid_auto_flow": null,
       "grid_auto_rows": null,
       "grid_column": null,
       "grid_gap": null,
       "grid_row": null,
       "grid_template_areas": null,
       "grid_template_columns": null,
       "grid_template_rows": null,
       "height": null,
       "justify_content": null,
       "justify_items": null,
       "left": null,
       "margin": null,
       "max_height": null,
       "max_width": null,
       "min_height": null,
       "min_width": null,
       "object_fit": null,
       "object_position": null,
       "order": null,
       "overflow": null,
       "overflow_x": null,
       "overflow_y": null,
       "padding": null,
       "right": null,
       "top": null,
       "visibility": null,
       "width": null
      }
     },
     "723dc29658a341598fa6723c7f5b85c1": {
      "model_module": "@jupyter-widgets/controls",
      "model_module_version": "1.5.0",
      "model_name": "DescriptionStyleModel",
      "state": {
       "_model_module": "@jupyter-widgets/controls",
       "_model_module_version": "1.5.0",
       "_model_name": "DescriptionStyleModel",
       "_view_count": null,
       "_view_module": "@jupyter-widgets/base",
       "_view_module_version": "1.2.0",
       "_view_name": "StyleView",
       "description_width": ""
      }
     },
     "72bdb9a962fd442d8fbe5ea6f0288c67": {
      "model_module": "@jupyter-widgets/controls",
      "model_module_version": "1.5.0",
      "model_name": "HTMLModel",
      "state": {
       "_dom_classes": [],
       "_model_module": "@jupyter-widgets/controls",
       "_model_module_version": "1.5.0",
       "_model_name": "HTMLModel",
       "_view_count": null,
       "_view_module": "@jupyter-widgets/controls",
       "_view_module_version": "1.5.0",
       "_view_name": "HTMLView",
       "description": "",
       "description_tooltip": null,
       "layout": "IPY_MODEL_6dc4c46fc0f146bf94bb7ba0094b99c3",
       "placeholder": "​",
       "style": "IPY_MODEL_c8a433f23fa54e0ca3f3d7eebd1e4696",
       "value": "  0%"
      }
     },
     "8aceaf2be4d9493788090ba7cc3c6e61": {
      "model_module": "@jupyter-widgets/base",
      "model_module_version": "1.2.0",
      "model_name": "LayoutModel",
      "state": {
       "_model_module": "@jupyter-widgets/base",
       "_model_module_version": "1.2.0",
       "_model_name": "LayoutModel",
       "_view_count": null,
       "_view_module": "@jupyter-widgets/base",
       "_view_module_version": "1.2.0",
       "_view_name": "LayoutView",
       "align_content": null,
       "align_items": null,
       "align_self": null,
       "border": null,
       "bottom": null,
       "display": null,
       "flex": null,
       "flex_flow": null,
       "grid_area": null,
       "grid_auto_columns": null,
       "grid_auto_flow": null,
       "grid_auto_rows": null,
       "grid_column": null,
       "grid_gap": null,
       "grid_row": null,
       "grid_template_areas": null,
       "grid_template_columns": null,
       "grid_template_rows": null,
       "height": null,
       "justify_content": null,
       "justify_items": null,
       "left": null,
       "margin": null,
       "max_height": null,
       "max_width": null,
       "min_height": null,
       "min_width": null,
       "object_fit": null,
       "object_position": null,
       "order": null,
       "overflow": null,
       "overflow_x": null,
       "overflow_y": null,
       "padding": null,
       "right": null,
       "top": null,
       "visibility": null,
       "width": null
      }
     },
     "8b0feda072be4003aadbf7a7bfbf896d": {
      "model_module": "@jupyter-widgets/controls",
      "model_module_version": "1.5.0",
      "model_name": "DescriptionStyleModel",
      "state": {
       "_model_module": "@jupyter-widgets/controls",
       "_model_module_version": "1.5.0",
       "_model_name": "DescriptionStyleModel",
       "_view_count": null,
       "_view_module": "@jupyter-widgets/base",
       "_view_module_version": "1.2.0",
       "_view_name": "StyleView",
       "description_width": ""
      }
     },
     "ae12f8fbda9444b08b76d8c55cc193fb": {
      "model_module": "@jupyter-widgets/controls",
      "model_module_version": "1.5.0",
      "model_name": "FloatProgressModel",
      "state": {
       "_dom_classes": [],
       "_model_module": "@jupyter-widgets/controls",
       "_model_module_version": "1.5.0",
       "_model_name": "FloatProgressModel",
       "_view_count": null,
       "_view_module": "@jupyter-widgets/controls",
       "_view_module_version": "1.5.0",
       "_view_name": "ProgressView",
       "bar_style": "",
       "description": "",
       "description_tooltip": null,
       "layout": "IPY_MODEL_e19074694fbf4f67ac6a6a3e70d117d8",
       "max": 12.0,
       "min": 0.0,
       "orientation": "horizontal",
       "style": "IPY_MODEL_ef9eefe2edf5490c8d4ce7ba0829bea5",
       "value": 12.0
      }
     },
     "aed04afa5c3247a2aea086c8984f3939": {
      "model_module": "@jupyter-widgets/controls",
      "model_module_version": "1.5.0",
      "model_name": "HTMLModel",
      "state": {
       "_dom_classes": [],
       "_model_module": "@jupyter-widgets/controls",
       "_model_module_version": "1.5.0",
       "_model_name": "HTMLModel",
       "_view_count": null,
       "_view_module": "@jupyter-widgets/controls",
       "_view_module_version": "1.5.0",
       "_view_name": "HTMLView",
       "description": "",
       "description_tooltip": null,
       "layout": "IPY_MODEL_5d005bf885fb4b2a9fa9ed61410c6d92",
       "placeholder": "​",
       "style": "IPY_MODEL_723dc29658a341598fa6723c7f5b85c1",
       "value": " 0/12 [00:00&lt;?, ?it/s]"
      }
     },
     "c8a433f23fa54e0ca3f3d7eebd1e4696": {
      "model_module": "@jupyter-widgets/controls",
      "model_module_version": "1.5.0",
      "model_name": "DescriptionStyleModel",
      "state": {
       "_model_module": "@jupyter-widgets/controls",
       "_model_module_version": "1.5.0",
       "_model_name": "DescriptionStyleModel",
       "_view_count": null,
       "_view_module": "@jupyter-widgets/base",
       "_view_module_version": "1.2.0",
       "_view_name": "StyleView",
       "description_width": ""
      }
     },
     "e07b2a9a48d7408db5e9c811554c6c7b": {
      "model_module": "@jupyter-widgets/base",
      "model_module_version": "1.2.0",
      "model_name": "LayoutModel",
      "state": {
       "_model_module": "@jupyter-widgets/base",
       "_model_module_version": "1.2.0",
       "_model_name": "LayoutModel",
       "_view_count": null,
       "_view_module": "@jupyter-widgets/base",
       "_view_module_version": "1.2.0",
       "_view_name": "LayoutView",
       "align_content": null,
       "align_items": null,
       "align_self": null,
       "border": null,
       "bottom": null,
       "display": null,
       "flex": null,
       "flex_flow": null,
       "grid_area": null,
       "grid_auto_columns": null,
       "grid_auto_flow": null,
       "grid_auto_rows": null,
       "grid_column": null,
       "grid_gap": null,
       "grid_row": null,
       "grid_template_areas": null,
       "grid_template_columns": null,
       "grid_template_rows": null,
       "height": null,
       "justify_content": null,
       "justify_items": null,
       "left": null,
       "margin": null,
       "max_height": null,
       "max_width": null,
       "min_height": null,
       "min_width": null,
       "object_fit": null,
       "object_position": null,
       "order": null,
       "overflow": null,
       "overflow_x": null,
       "overflow_y": null,
       "padding": null,
       "right": null,
       "top": null,
       "visibility": null,
       "width": null
      }
     },
     "e19074694fbf4f67ac6a6a3e70d117d8": {
      "model_module": "@jupyter-widgets/base",
      "model_module_version": "1.2.0",
      "model_name": "LayoutModel",
      "state": {
       "_model_module": "@jupyter-widgets/base",
       "_model_module_version": "1.2.0",
       "_model_name": "LayoutModel",
       "_view_count": null,
       "_view_module": "@jupyter-widgets/base",
       "_view_module_version": "1.2.0",
       "_view_name": "LayoutView",
       "align_content": null,
       "align_items": null,
       "align_self": null,
       "border": null,
       "bottom": null,
       "display": null,
       "flex": null,
       "flex_flow": null,
       "grid_area": null,
       "grid_auto_columns": null,
       "grid_auto_flow": null,
       "grid_auto_rows": null,
       "grid_column": null,
       "grid_gap": null,
       "grid_row": null,
       "grid_template_areas": null,
       "grid_template_columns": null,
       "grid_template_rows": null,
       "height": null,
       "justify_content": null,
       "justify_items": null,
       "left": null,
       "margin": null,
       "max_height": null,
       "max_width": null,
       "min_height": null,
       "min_width": null,
       "object_fit": null,
       "object_position": null,
       "order": null,
       "overflow": null,
       "overflow_x": null,
       "overflow_y": null,
       "padding": null,
       "right": null,
       "top": null,
       "visibility": null,
       "width": null
      }
     },
     "eb21a68994134c49a577aef6d05203f3": {
      "model_module": "@jupyter-widgets/controls",
      "model_module_version": "1.5.0",
      "model_name": "FloatProgressModel",
      "state": {
       "_dom_classes": [],
       "_model_module": "@jupyter-widgets/controls",
       "_model_module_version": "1.5.0",
       "_model_name": "FloatProgressModel",
       "_view_count": null,
       "_view_module": "@jupyter-widgets/controls",
       "_view_module_version": "1.5.0",
       "_view_name": "ProgressView",
       "bar_style": "",
       "description": "",
       "description_tooltip": null,
       "layout": "IPY_MODEL_f0b3db7d41434c0c97e628257f4a6957",
       "max": 25.0,
       "min": 0.0,
       "orientation": "horizontal",
       "style": "IPY_MODEL_1ad7621d268b496a8e0a373c9bb8208a",
       "value": 25.0
      }
     },
     "ef9eefe2edf5490c8d4ce7ba0829bea5": {
      "model_module": "@jupyter-widgets/controls",
      "model_module_version": "1.5.0",
      "model_name": "ProgressStyleModel",
      "state": {
       "_model_module": "@jupyter-widgets/controls",
       "_model_module_version": "1.5.0",
       "_model_name": "ProgressStyleModel",
       "_view_count": null,
       "_view_module": "@jupyter-widgets/base",
       "_view_module_version": "1.2.0",
       "_view_name": "StyleView",
       "bar_color": null,
       "description_width": ""
      }
     },
     "f0b3db7d41434c0c97e628257f4a6957": {
      "model_module": "@jupyter-widgets/base",
      "model_module_version": "1.2.0",
      "model_name": "LayoutModel",
      "state": {
       "_model_module": "@jupyter-widgets/base",
       "_model_module_version": "1.2.0",
       "_model_name": "LayoutModel",
       "_view_count": null,
       "_view_module": "@jupyter-widgets/base",
       "_view_module_version": "1.2.0",
       "_view_name": "LayoutView",
       "align_content": null,
       "align_items": null,
       "align_self": null,
       "border": null,
       "bottom": null,
       "display": null,
       "flex": null,
       "flex_flow": null,
       "grid_area": null,
       "grid_auto_columns": null,
       "grid_auto_flow": null,
       "grid_auto_rows": null,
       "grid_column": null,
       "grid_gap": null,
       "grid_row": null,
       "grid_template_areas": null,
       "grid_template_columns": null,
       "grid_template_rows": null,
       "height": null,
       "justify_content": null,
       "justify_items": null,
       "left": null,
       "margin": null,
       "max_height": null,
       "max_width": null,
       "min_height": null,
       "min_width": null,
       "object_fit": null,
       "object_position": null,
       "order": null,
       "overflow": null,
       "overflow_x": null,
       "overflow_y": null,
       "padding": null,
       "right": null,
       "top": null,
       "visibility": null,
       "width": null
      }
     },
     "f367ffd67ccf44168633b8b78619d1dd": {
      "model_module": "@jupyter-widgets/controls",
      "model_module_version": "1.5.0",
      "model_name": "DescriptionStyleModel",
      "state": {
       "_model_module": "@jupyter-widgets/controls",
       "_model_module_version": "1.5.0",
       "_model_name": "DescriptionStyleModel",
       "_view_count": null,
       "_view_module": "@jupyter-widgets/base",
       "_view_module_version": "1.2.0",
       "_view_name": "StyleView",
       "description_width": ""
      }
     }
    },
    "version_major": 2,
    "version_minor": 0
   }
  }
 },
 "nbformat": 4,
 "nbformat_minor": 5
}

{
 "cells": [
  {
   "cell_type": "markdown",
   "id": "d279476c",
   "metadata": {},
   "source": [
    "# `pc_to_satn`\n",
    "Convert a capillary pressure map to saturation map."
   ]
  },
  {
   "cell_type": "code",
   "execution_count": 1,
   "id": "df328066",
   "metadata": {
    "execution": {
     "iopub.execute_input": "2022-08-23T00:42:54.666214Z",
     "iopub.status.busy": "2022-08-23T00:42:54.665969Z",
     "iopub.status.idle": "2022-08-23T00:42:56.718102Z",
     "shell.execute_reply": "2022-08-23T00:42:56.717425Z"
    }
   },
   "outputs": [],
   "source": [
    "import matplotlib.pyplot as plt\n",
    "import numpy as np\n",
    "import porespy as ps\n",
    "ps.visualization.set_mpl_style()"
   ]
  },
  {
   "cell_type": "markdown",
   "id": "9640b91d",
   "metadata": {},
   "source": [
    "The arguments and their defaults are:"
   ]
  },
  {
   "cell_type": "code",
   "execution_count": 2,
   "id": "da504252",
   "metadata": {
    "execution": {
     "iopub.execute_input": "2022-08-23T00:42:56.723544Z",
     "iopub.status.busy": "2022-08-23T00:42:56.722068Z",
     "iopub.status.idle": "2022-08-23T00:42:56.730351Z",
     "shell.execute_reply": "2022-08-23T00:42:56.729886Z"
    }
   },
   "outputs": [
    {
     "data": {
      "text/plain": [
       "<Signature (pc, im)>"
      ]
     },
     "execution_count": 2,
     "metadata": {},
     "output_type": "execute_result"
    }
   ],
   "source": [
    "import inspect\n",
    "inspect.signature(ps.filters.pc_to_satn)"
   ]
  },
  {
   "cell_type": "markdown",
   "id": "a49558cb",
   "metadata": {},
   "source": [
    "The capillary pressure map, such as that computed by ``ps.simulations.drainage``"
   ]
  },
  {
   "cell_type": "code",
   "execution_count": 3,
   "id": "567910b4",
   "metadata": {
    "execution": {
     "iopub.execute_input": "2022-08-23T00:42:56.734433Z",
     "iopub.status.busy": "2022-08-23T00:42:56.733428Z",
     "iopub.status.idle": "2022-08-23T00:42:57.803065Z",
     "shell.execute_reply": "2022-08-23T00:42:57.802559Z"
    }
   },
   "outputs": [
    {
     "data": {
      "application/json": {
       "ascii": false,
       "bar_format": null,
       "colour": null,
       "elapsed": 0.024327754974365234,
       "initial": 0,
       "n": 0,
       "ncols": null,
       "nrows": null,
       "postfix": null,
       "prefix": "",
       "rate": null,
       "total": 25,
       "unit": "it",
       "unit_divisor": 1000,
       "unit_scale": false
      },
      "application/vnd.jupyter.widget-view+json": {
       "model_id": "795553f5e6874e218dede63f0f5d6f8a",
       "version_major": 2,
       "version_minor": 0
      },
      "text/plain": [
       "  0%|          | 0/25 [00:00<?, ?it/s]"
      ]
     },
     "metadata": {},
     "output_type": "display_data"
    },
    {
     "data": {
      "application/json": {
       "ascii": false,
       "bar_format": null,
       "colour": null,
       "elapsed": 0.023785114288330078,
       "initial": 0,
       "n": 0,
       "ncols": null,
       "nrows": null,
       "postfix": null,
       "prefix": "",
       "rate": null,
       "total": 12,
       "unit": "it",
       "unit_divisor": 1000,
       "unit_scale": false
      },
      "application/vnd.jupyter.widget-view+json": {
       "model_id": "cca1e8dbc7704ce382659dd1af88722a",
       "version_major": 2,
       "version_minor": 0
      },
      "text/plain": [
       "  0%|          | 0/12 [00:00<?, ?it/s]"
      ]
     },
     "metadata": {},
     "output_type": "display_data"
    }
   ],
   "source": [
    "im = ps.generators.blobs(shape=[200, 200], porosity=0.6)\n",
    "drn = ps.simulations.drainage(im=im, voxel_size=1, g=0)"
   ]
  },
  {
   "cell_type": "markdown",
   "id": "639b2f06",
   "metadata": {},
   "source": [
    "## `pc` and `im`"
   ]
  },
  {
   "cell_type": "code",
   "execution_count": 4,
   "id": "45c9fb8b",
   "metadata": {
    "execution": {
     "iopub.execute_input": "2022-08-23T00:42:57.807311Z",
     "iopub.status.busy": "2022-08-23T00:42:57.806265Z",
     "iopub.status.idle": "2022-08-23T00:42:57.986482Z",
     "shell.execute_reply": "2022-08-23T00:42:57.985874Z"
    }
   },
   "outputs": [
    {
     "data": {
      "image/svg+xml": [
       "<?xml version=\"1.0\" encoding=\"utf-8\" standalone=\"no\"?>\n",
       "<!DOCTYPE svg PUBLIC \"-//W3C//DTD SVG 1.1//EN\"\n",
       "  \"http://www.w3.org/Graphics/SVG/1.1/DTD/svg11.dtd\">\n",
       "<svg xmlns:xlink=\"http://www.w3.org/1999/xlink\" width=\"842.76pt\" height=\"420.48pt\" viewBox=\"0 0 842.76 420.48\" xmlns=\"http://www.w3.org/2000/svg\" version=\"1.1\">\n",
       " <metadata>\n",
       "  <rdf:RDF xmlns:dc=\"http://purl.org/dc/elements/1.1/\" xmlns:cc=\"http://creativecommons.org/ns#\" xmlns:rdf=\"http://www.w3.org/1999/02/22-rdf-syntax-ns#\">\n",
       "   <cc:Work>\n",
       "    <dc:type rdf:resource=\"http://purl.org/dc/dcmitype/StillImage\"/>\n",
       "    <dc:date>2022-08-23T00:42:57.966667</dc:date>\n",
       "    <dc:format>image/svg+xml</dc:format>\n",
       "    <dc:creator>\n",
       "     <cc:Agent>\n",
       "      <dc:title>Matplotlib v3.5.3, https://matplotlib.org/</dc:title>\n",
       "     </cc:Agent>\n",
       "    </dc:creator>\n",
       "   </cc:Work>\n",
       "  </rdf:RDF>\n",
       " </metadata>\n",
       " <defs>\n",
       "  <style type=\"text/css\">*{stroke-linejoin: round; stroke-linecap: butt}</style>\n",
       " </defs>\n",
       " <g id=\"figure_1\">\n",
       "  <g id=\"patch_1\">\n",
       "   <path d=\"M 0 420.48 \n",
       "L 842.76 420.48 \n",
       "L 842.76 0 \n",
       "L 0 0 \n",
       "z\n",
       "\" style=\"fill: #ffffff\"/>\n",
       "  </g>\n",
       "  <g id=\"axes_1\">\n",
       "   <g clip-path=\"url(#p9c4bf30115)\">\n",
       "    <image xlink:href=\"data:image/png;base64,\n",
       "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\" id=\"image5f016dd96f\" transform=\"matrix(2.035 0 0 -2.035 7.2 413.28)\" style=\"image-rendering:crisp-edges;image-rendering:pixelated\" width=\"200\" height=\"200\"/>\n",
       "   </g>\n",
       "  </g>\n",
       "  <g id=\"axes_2\">\n",
       "   <g clip-path=\"url(#p598c2217a6)\">\n",
       "    <image xlink:href=\"data:image/png;base64,\n",
       "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\" id=\"imagecfbf6eef95\" transform=\"matrix(2.035 0 0 -2.035 429.48 413.28)\" style=\"image-rendering:crisp-edges;image-rendering:pixelated\" width=\"200\" height=\"200\"/>\n",
       "   </g>\n",
       "  </g>\n",
       " </g>\n",
       " <defs>\n",
       "  <clipPath id=\"p9c4bf30115\">\n",
       "   <rect x=\"7.2\" y=\"7.2\" width=\"406.08\" height=\"406.08\"/>\n",
       "  </clipPath>\n",
       "  <clipPath id=\"p598c2217a6\">\n",
       "   <rect x=\"429.48\" y=\"7.2\" width=\"406.08\" height=\"406.08\"/>\n",
       "  </clipPath>\n",
       " </defs>\n",
       "</svg>\n"
      ],
      "text/plain": [
       "<Figure size 1200x600 with 2 Axes>"
      ]
     },
     "metadata": {},
     "output_type": "display_data"
    }
   ],
   "source": [
    "satn = ps.filters.pc_to_satn(pc=drn.im_pc, im=im)\n",
    "\n",
    "fig, ax = plt.subplots(1, 2, figsize=[12, 6])\n",
    "ax[0].imshow(drn.im_pc/im, interpolation='none', origin='lower')\n",
    "ax[0].axis(False)\n",
    "ax[1].imshow(satn/im, interpolation='none', origin='lower')\n",
    "ax[1].axis(False);"
   ]
  },
  {
   "cell_type": "markdown",
   "id": "d7be130c",
   "metadata": {},
   "source": [
    "The saturation image allows for easy determination of a desired fluid configuration:"
   ]
  },
  {
   "cell_type": "code",
   "execution_count": 5,
   "id": "70dced98",
   "metadata": {
    "execution": {
     "iopub.execute_input": "2022-08-23T00:42:57.990127Z",
     "iopub.status.busy": "2022-08-23T00:42:57.989898Z",
     "iopub.status.idle": "2022-08-23T00:42:58.092122Z",
     "shell.execute_reply": "2022-08-23T00:42:58.091509Z"
    }
   },
   "outputs": [
    {
     "data": {
      "image/svg+xml": [
       "<?xml version=\"1.0\" encoding=\"utf-8\" standalone=\"no\"?>\n",
       "<!DOCTYPE svg PUBLIC \"-//W3C//DTD SVG 1.1//EN\"\n",
       "  \"http://www.w3.org/Graphics/SVG/1.1/DTD/svg11.dtd\">\n",
       "<svg xmlns:xlink=\"http://www.w3.org/1999/xlink\" width=\"842.76pt\" height=\"420.48pt\" viewBox=\"0 0 842.76 420.48\" xmlns=\"http://www.w3.org/2000/svg\" version=\"1.1\">\n",
       " <metadata>\n",
       "  <rdf:RDF xmlns:dc=\"http://purl.org/dc/elements/1.1/\" xmlns:cc=\"http://creativecommons.org/ns#\" xmlns:rdf=\"http://www.w3.org/1999/02/22-rdf-syntax-ns#\">\n",
       "   <cc:Work>\n",
       "    <dc:type rdf:resource=\"http://purl.org/dc/dcmitype/StillImage\"/>\n",
       "    <dc:date>2022-08-23T00:42:58.075624</dc:date>\n",
       "    <dc:format>image/svg+xml</dc:format>\n",
       "    <dc:creator>\n",
       "     <cc:Agent>\n",
       "      <dc:title>Matplotlib v3.5.3, https://matplotlib.org/</dc:title>\n",
       "     </cc:Agent>\n",
       "    </dc:creator>\n",
       "   </cc:Work>\n",
       "  </rdf:RDF>\n",
       " </metadata>\n",
       " <defs>\n",
       "  <style type=\"text/css\">*{stroke-linejoin: round; stroke-linecap: butt}</style>\n",
       " </defs>\n",
       " <g id=\"figure_1\">\n",
       "  <g id=\"patch_1\">\n",
       "   <path d=\"M 0 420.48 \n",
       "L 842.76 420.48 \n",
       "L 842.76 0 \n",
       "L 0 0 \n",
       "z\n",
       "\" style=\"fill: #ffffff\"/>\n",
       "  </g>\n",
       "  <g id=\"axes_1\">\n",
       "   <g clip-path=\"url(#p178f245f96)\">\n",
       "    <image xlink:href=\"data:image/png;base64,\n",
       "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\" id=\"image403d888052\" transform=\"matrix(2.035 0 0 -2.035 7.2 413.28)\" style=\"image-rendering:crisp-edges;image-rendering:pixelated\" width=\"200\" height=\"200\"/>\n",
       "   </g>\n",
       "  </g>\n",
       "  <g id=\"axes_2\">\n",
       "   <g clip-path=\"url(#p69c1e7a815)\">\n",
       "    <image xlink:href=\"data:image/png;base64,\n",
       "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\" id=\"imaged1cb6e173b\" transform=\"matrix(2.035 0 0 -2.035 429.48 413.28)\" style=\"image-rendering:crisp-edges;image-rendering:pixelated\" width=\"200\" height=\"200\"/>\n",
       "   </g>\n",
       "  </g>\n",
       " </g>\n",
       " <defs>\n",
       "  <clipPath id=\"p178f245f96\">\n",
       "   <rect x=\"7.2\" y=\"7.2\" width=\"406.08\" height=\"406.08\"/>\n",
       "  </clipPath>\n",
       "  <clipPath id=\"p69c1e7a815\">\n",
       "   <rect x=\"429.48\" y=\"7.2\" width=\"406.08\" height=\"406.08\"/>\n",
       "  </clipPath>\n",
       " </defs>\n",
       "</svg>\n"
      ],
      "text/plain": [
       "<Figure size 1200x600 with 2 Axes>"
      ]
     },
     "metadata": {},
     "output_type": "display_data"
    }
   ],
   "source": [
    "fig, ax = plt.subplots(1, 2, figsize=[12, 6])\n",
    "ax[0].imshow((satn < 0.3)*(satn > 0)/im, interpolation='none', origin='lower')\n",
    "ax[0].axis(False)\n",
    "ax[1].imshow((satn < 0.8)*(satn > 0)/im, interpolation='none', origin='lower')\n",
    "ax[1].axis(False);"
   ]
  }
 ],
 "metadata": {
  "kernelspec": {
   "display_name": "Python 3 (ipykernel)",
   "language": "python",
   "name": "python3"
  },
  "language_info": {
   "codemirror_mode": {
    "name": "ipython",
    "version": 3
   },
   "file_extension": ".py",
   "mimetype": "text/x-python",
   "name": "python",
   "nbconvert_exporter": "python",
   "pygments_lexer": "ipython3",
   "version": "3.8.13"
  },
  "widgets": {
   "application/vnd.jupyter.widget-state+json": {
    "state": {
     "14011b70b82f4a679ca9bc86f5dbaca7": {
      "model_module": "@jupyter-widgets/controls",
      "model_module_version": "2.0.0",
      "model_name": "HTMLModel",
      "state": {
       "_dom_classes": [],
       "_model_module": "@jupyter-widgets/controls",
       "_model_module_version": "2.0.0",
       "_model_name": "HTMLModel",
       "_view_count": null,
       "_view_module": "@jupyter-widgets/controls",
       "_view_module_version": "2.0.0",
       "_view_name": "HTMLView",
       "description": "",
       "description_allow_html": false,
       "layout": "IPY_MODEL_6a94e29191b24e48be3186eb171c7f93",
       "placeholder": "​",
       "style": "IPY_MODEL_1f0a88d740844fb19302918747c01566",
       "tabbable": null,
       "tooltip": null,
       "value": "  4%"
      }
     },
     "1f0a88d740844fb19302918747c01566": {
      "model_module": "@jupyter-widgets/controls",
      "model_module_version": "2.0.0",
      "model_name": "HTMLStyleModel",
      "state": {
       "_model_module": "@jupyter-widgets/controls",
       "_model_module_version": "2.0.0",
       "_model_name": "HTMLStyleModel",
       "_view_count": null,
       "_view_module": "@jupyter-widgets/base",
       "_view_module_version": "2.0.0",
       "_view_name": "StyleView",
       "background": null,
       "description_width": "",
       "font_size": null,
       "text_color": null
      }
     },
     "22400712af124617a71d9da37bca3ce7": {
      "model_module": "@jupyter-widgets/controls",
      "model_module_version": "2.0.0",
      "model_name": "HTMLStyleModel",
      "state": {
       "_model_module": "@jupyter-widgets/controls",
       "_model_module_version": "2.0.0",
       "_model_name": "HTMLStyleModel",
       "_view_count": null,
       "_view_module": "@jupyter-widgets/base",
       "_view_module_version": "2.0.0",
       "_view_name": "StyleView",
       "background": null,
       "description_width": "",
       "font_size": null,
       "text_color": null
      }
     },
     "27b08ff26b354e32b75d460a540b0d7e": {
      "model_module": "@jupyter-widgets/controls",
      "model_module_version": "2.0.0",
      "model_name": "HTMLStyleModel",
      "state": {
       "_model_module": "@jupyter-widgets/controls",
       "_model_module_version": "2.0.0",
       "_model_name": "HTMLStyleModel",
       "_view_count": null,
       "_view_module": "@jupyter-widgets/base",
       "_view_module_version": "2.0.0",
       "_view_name": "StyleView",
       "background": null,
       "description_width": "",
       "font_size": null,
       "text_color": null
      }
     },
     "27c71ec006cb4305b83e8fdc70ecee79": {
      "model_module": "@jupyter-widgets/controls",
      "model_module_version": "2.0.0",
      "model_name": "HTMLModel",
      "state": {
       "_dom_classes": [],
       "_model_module": "@jupyter-widgets/controls",
       "_model_module_version": "2.0.0",
       "_model_name": "HTMLModel",
       "_view_count": null,
       "_view_module": "@jupyter-widgets/controls",
       "_view_module_version": "2.0.0",
       "_view_name": "HTMLView",
       "description": "",
       "description_allow_html": false,
       "layout": "IPY_MODEL_f9796fe8b13340ff9c971e39b946101b",
       "placeholder": "​",
       "style": "IPY_MODEL_22400712af124617a71d9da37bca3ce7",
       "tabbable": null,
       "tooltip": null,
       "value": "  0%"
      }
     },
     "3dcec032e2fb43fc9623a4cf58491443": {
      "model_module": "@jupyter-widgets/controls",
      "model_module_version": "2.0.0",
      "model_name": "HTMLModel",
      "state": {
       "_dom_classes": [],
       "_model_module": "@jupyter-widgets/controls",
       "_model_module_version": "2.0.0",
       "_model_name": "HTMLModel",
       "_view_count": null,
       "_view_module": "@jupyter-widgets/controls",
       "_view_module_version": "2.0.0",
       "_view_name": "HTMLView",
       "description": "",
       "description_allow_html": false,
       "layout": "IPY_MODEL_6c10358c1fc24d7fb03d7e0c01e185d8",
       "placeholder": "​",
       "style": "IPY_MODEL_e4b6afdedb9146fe9c1f56ea1383f0b5",
       "tabbable": null,
       "tooltip": null,
       "value": " 1/25 [00:00&lt;00:23,  1.01it/s]"
      }
     },
     "44609217ecb44782b2369dc65775ab90": {
      "model_module": "@jupyter-widgets/base",
      "model_module_version": "2.0.0",
      "model_name": "LayoutModel",
      "state": {
       "_model_module": "@jupyter-widgets/base",
       "_model_module_version": "2.0.0",
       "_model_name": "LayoutModel",
       "_view_count": null,
       "_view_module": "@jupyter-widgets/base",
       "_view_module_version": "2.0.0",
       "_view_name": "LayoutView",
       "align_content": null,
       "align_items": null,
       "align_self": null,
       "border_bottom": null,
       "border_left": null,
       "border_right": null,
       "border_top": null,
       "bottom": null,
       "display": null,
       "flex": null,
       "flex_flow": null,
       "grid_area": null,
       "grid_auto_columns": null,
       "grid_auto_flow": null,
       "grid_auto_rows": null,
       "grid_column": null,
       "grid_gap": null,
       "grid_row": null,
       "grid_template_areas": null,
       "grid_template_columns": null,
       "grid_template_rows": null,
       "height": null,
       "justify_content": null,
       "justify_items": null,
       "left": null,
       "margin": null,
       "max_height": null,
       "max_width": null,
       "min_height": null,
       "min_width": null,
       "object_fit": null,
       "object_position": null,
       "order": null,
       "overflow": null,
       "padding": null,
       "right": null,
       "top": null,
       "visibility": null,
       "width": null
      }
     },
     "4fc1419bbef3477d9db3dcd053284892": {
      "model_module": "@jupyter-widgets/controls",
      "model_module_version": "2.0.0",
      "model_name": "ProgressStyleModel",
      "state": {
       "_model_module": "@jupyter-widgets/controls",
       "_model_module_version": "2.0.0",
       "_model_name": "ProgressStyleModel",
       "_view_count": null,
       "_view_module": "@jupyter-widgets/base",
       "_view_module_version": "2.0.0",
       "_view_name": "StyleView",
       "bar_color": null,
       "description_width": ""
      }
     },
     "5c91e7d995f44393addc7c49e364938c": {
      "model_module": "@jupyter-widgets/base",
      "model_module_version": "2.0.0",
      "model_name": "LayoutModel",
      "state": {
       "_model_module": "@jupyter-widgets/base",
       "_model_module_version": "2.0.0",
       "_model_name": "LayoutModel",
       "_view_count": null,
       "_view_module": "@jupyter-widgets/base",
       "_view_module_version": "2.0.0",
       "_view_name": "LayoutView",
       "align_content": null,
       "align_items": null,
       "align_self": null,
       "border_bottom": null,
       "border_left": null,
       "border_right": null,
       "border_top": null,
       "bottom": null,
       "display": null,
       "flex": null,
       "flex_flow": null,
       "grid_area": null,
       "grid_auto_columns": null,
       "grid_auto_flow": null,
       "grid_auto_rows": null,
       "grid_column": null,
       "grid_gap": null,
       "grid_row": null,
       "grid_template_areas": null,
       "grid_template_columns": null,
       "grid_template_rows": null,
       "height": null,
       "justify_content": null,
       "justify_items": null,
       "left": null,
       "margin": null,
       "max_height": null,
       "max_width": null,
       "min_height": null,
       "min_width": null,
       "object_fit": null,
       "object_position": null,
       "order": null,
       "overflow": null,
       "padding": null,
       "right": null,
       "top": null,
       "visibility": null,
       "width": null
      }
     },
     "6a94e29191b24e48be3186eb171c7f93": {
      "model_module": "@jupyter-widgets/base",
      "model_module_version": "2.0.0",
      "model_name": "LayoutModel",
      "state": {
       "_model_module": "@jupyter-widgets/base",
       "_model_module_version": "2.0.0",
       "_model_name": "LayoutModel",
       "_view_count": null,
       "_view_module": "@jupyter-widgets/base",
       "_view_module_version": "2.0.0",
       "_view_name": "LayoutView",
       "align_content": null,
       "align_items": null,
       "align_self": null,
       "border_bottom": null,
       "border_left": null,
       "border_right": null,
       "border_top": null,
       "bottom": null,
       "display": null,
       "flex": null,
       "flex_flow": null,
       "grid_area": null,
       "grid_auto_columns": null,
       "grid_auto_flow": null,
       "grid_auto_rows": null,
       "grid_column": null,
       "grid_gap": null,
       "grid_row": null,
       "grid_template_areas": null,
       "grid_template_columns": null,
       "grid_template_rows": null,
       "height": null,
       "justify_content": null,
       "justify_items": null,
       "left": null,
       "margin": null,
       "max_height": null,
       "max_width": null,
       "min_height": null,
       "min_width": null,
       "object_fit": null,
       "object_position": null,
       "order": null,
       "overflow": null,
       "padding": null,
       "right": null,
       "top": null,
       "visibility": null,
       "width": null
      }
     },
     "6b039fd392b1416fb8fe89b32e93d32f": {
      "model_module": "@jupyter-widgets/base",
      "model_module_version": "2.0.0",
      "model_name": "LayoutModel",
      "state": {
       "_model_module": "@jupyter-widgets/base",
       "_model_module_version": "2.0.0",
       "_model_name": "LayoutModel",
       "_view_count": null,
       "_view_module": "@jupyter-widgets/base",
       "_view_module_version": "2.0.0",
       "_view_name": "LayoutView",
       "align_content": null,
       "align_items": null,
       "align_self": null,
       "border_bottom": null,
       "border_left": null,
       "border_right": null,
       "border_top": null,
       "bottom": null,
       "display": null,
       "flex": null,
       "flex_flow": null,
       "grid_area": null,
       "grid_auto_columns": null,
       "grid_auto_flow": null,
       "grid_auto_rows": null,
       "grid_column": null,
       "grid_gap": null,
       "grid_row": null,
       "grid_template_areas": null,
       "grid_template_columns": null,
       "grid_template_rows": null,
       "height": null,
       "justify_content": null,
       "justify_items": null,
       "left": null,
       "margin": null,
       "max_height": null,
       "max_width": null,
       "min_height": null,
       "min_width": null,
       "object_fit": null,
       "object_position": null,
       "order": null,
       "overflow": null,
       "padding": null,
       "right": null,
       "top": null,
       "visibility": null,
       "width": null
      }
     },
     "6c10358c1fc24d7fb03d7e0c01e185d8": {
      "model_module": "@jupyter-widgets/base",
      "model_module_version": "2.0.0",
      "model_name": "LayoutModel",
      "state": {
       "_model_module": "@jupyter-widgets/base",
       "_model_module_version": "2.0.0",
       "_model_name": "LayoutModel",
       "_view_count": null,
       "_view_module": "@jupyter-widgets/base",
       "_view_module_version": "2.0.0",
       "_view_name": "LayoutView",
       "align_content": null,
       "align_items": null,
       "align_self": null,
       "border_bottom": null,
       "border_left": null,
       "border_right": null,
       "border_top": null,
       "bottom": null,
       "display": null,
       "flex": null,
       "flex_flow": null,
       "grid_area": null,
       "grid_auto_columns": null,
       "grid_auto_flow": null,
       "grid_auto_rows": null,
       "grid_column": null,
       "grid_gap": null,
       "grid_row": null,
       "grid_template_areas": null,
       "grid_template_columns": null,
       "grid_template_rows": null,
       "height": null,
       "justify_content": null,
       "justify_items": null,
       "left": null,
       "margin": null,
       "max_height": null,
       "max_width": null,
       "min_height": null,
       "min_width": null,
       "object_fit": null,
       "object_position": null,
       "order": null,
       "overflow": null,
       "padding": null,
       "right": null,
       "top": null,
       "visibility": null,
       "width": null
      }
     },
     "7227af74437f44119dcd45ff7633cb32": {
      "model_module": "@jupyter-widgets/base",
      "model_module_version": "2.0.0",
      "model_name": "LayoutModel",
      "state": {
       "_model_module": "@jupyter-widgets/base",
       "_model_module_version": "2.0.0",
       "_model_name": "LayoutModel",
       "_view_count": null,
       "_view_module": "@jupyter-widgets/base",
       "_view_module_version": "2.0.0",
       "_view_name": "LayoutView",
       "align_content": null,
       "align_items": null,
       "align_self": null,
       "border_bottom": null,
       "border_left": null,
       "border_right": null,
       "border_top": null,
       "bottom": null,
       "display": null,
       "flex": null,
       "flex_flow": null,
       "grid_area": null,
       "grid_auto_columns": null,
       "grid_auto_flow": null,
       "grid_auto_rows": null,
       "grid_column": null,
       "grid_gap": null,
       "grid_row": null,
       "grid_template_areas": null,
       "grid_template_columns": null,
       "grid_template_rows": null,
       "height": null,
       "justify_content": null,
       "justify_items": null,
       "left": null,
       "margin": null,
       "max_height": null,
       "max_width": null,
       "min_height": null,
       "min_width": null,
       "object_fit": null,
       "object_position": null,
       "order": null,
       "overflow": null,
       "padding": null,
       "right": null,
       "top": null,
       "visibility": null,
       "width": null
      }
     },
     "795553f5e6874e218dede63f0f5d6f8a": {
      "model_module": "@jupyter-widgets/controls",
      "model_module_version": "2.0.0",
      "model_name": "HBoxModel",
      "state": {
       "_dom_classes": [],
       "_model_module": "@jupyter-widgets/controls",
       "_model_module_version": "2.0.0",
       "_model_name": "HBoxModel",
       "_view_count": null,
       "_view_module": "@jupyter-widgets/controls",
       "_view_module_version": "2.0.0",
       "_view_name": "HBoxView",
       "box_style": "",
       "children": [
        "IPY_MODEL_14011b70b82f4a679ca9bc86f5dbaca7",
        "IPY_MODEL_e41b27fafb60471ba8ca55210b52d393",
        "IPY_MODEL_3dcec032e2fb43fc9623a4cf58491443"
       ],
       "layout": "IPY_MODEL_d463175c92834e919ae7954d3338d2ed",
       "tabbable": null,
       "tooltip": null
      }
     },
     "8c9d7082e97b40a5b7d16e43151f4e36": {
      "model_module": "@jupyter-widgets/controls",
      "model_module_version": "2.0.0",
      "model_name": "ProgressStyleModel",
      "state": {
       "_model_module": "@jupyter-widgets/controls",
       "_model_module_version": "2.0.0",
       "_model_name": "ProgressStyleModel",
       "_view_count": null,
       "_view_module": "@jupyter-widgets/base",
       "_view_module_version": "2.0.0",
       "_view_name": "StyleView",
       "bar_color": null,
       "description_width": ""
      }
     },
     "a6b09dc4ad8241008a6232604d2c75ff": {
      "model_module": "@jupyter-widgets/controls",
      "model_module_version": "2.0.0",
      "model_name": "FloatProgressModel",
      "state": {
       "_dom_classes": [],
       "_model_module": "@jupyter-widgets/controls",
       "_model_module_version": "2.0.0",
       "_model_name": "FloatProgressModel",
       "_view_count": null,
       "_view_module": "@jupyter-widgets/controls",
       "_view_module_version": "2.0.0",
       "_view_name": "ProgressView",
       "bar_style": "",
       "description": "",
       "description_allow_html": false,
       "layout": "IPY_MODEL_7227af74437f44119dcd45ff7633cb32",
       "max": 12.0,
       "min": 0.0,
       "orientation": "horizontal",
       "style": "IPY_MODEL_8c9d7082e97b40a5b7d16e43151f4e36",
       "tabbable": null,
       "tooltip": null,
       "value": 12.0
      }
     },
     "cca1e8dbc7704ce382659dd1af88722a": {
      "model_module": "@jupyter-widgets/controls",
      "model_module_version": "2.0.0",
      "model_name": "HBoxModel",
      "state": {
       "_dom_classes": [],
       "_model_module": "@jupyter-widgets/controls",
       "_model_module_version": "2.0.0",
       "_model_name": "HBoxModel",
       "_view_count": null,
       "_view_module": "@jupyter-widgets/controls",
       "_view_module_version": "2.0.0",
       "_view_name": "HBoxView",
       "box_style": "",
       "children": [
        "IPY_MODEL_27c71ec006cb4305b83e8fdc70ecee79",
        "IPY_MODEL_a6b09dc4ad8241008a6232604d2c75ff",
        "IPY_MODEL_f81119db60454815a56e73e619813d6e"
       ],
       "layout": "IPY_MODEL_6b039fd392b1416fb8fe89b32e93d32f",
       "tabbable": null,
       "tooltip": null
      }
     },
     "d463175c92834e919ae7954d3338d2ed": {
      "model_module": "@jupyter-widgets/base",
      "model_module_version": "2.0.0",
      "model_name": "LayoutModel",
      "state": {
       "_model_module": "@jupyter-widgets/base",
       "_model_module_version": "2.0.0",
       "_model_name": "LayoutModel",
       "_view_count": null,
       "_view_module": "@jupyter-widgets/base",
       "_view_module_version": "2.0.0",
       "_view_name": "LayoutView",
       "align_content": null,
       "align_items": null,
       "align_self": null,
       "border_bottom": null,
       "border_left": null,
       "border_right": null,
       "border_top": null,
       "bottom": null,
       "display": null,
       "flex": null,
       "flex_flow": null,
       "grid_area": null,
       "grid_auto_columns": null,
       "grid_auto_flow": null,
       "grid_auto_rows": null,
       "grid_column": null,
       "grid_gap": null,
       "grid_row": null,
       "grid_template_areas": null,
       "grid_template_columns": null,
       "grid_template_rows": null,
       "height": null,
       "justify_content": null,
       "justify_items": null,
       "left": null,
       "margin": null,
       "max_height": null,
       "max_width": null,
       "min_height": null,
       "min_width": null,
       "object_fit": null,
       "object_position": null,
       "order": null,
       "overflow": null,
       "padding": null,
       "right": null,
       "top": null,
       "visibility": null,
       "width": null
      }
     },
     "e41b27fafb60471ba8ca55210b52d393": {
      "model_module": "@jupyter-widgets/controls",
      "model_module_version": "2.0.0",
      "model_name": "FloatProgressModel",
      "state": {
       "_dom_classes": [],
       "_model_module": "@jupyter-widgets/controls",
       "_model_module_version": "2.0.0",
       "_model_name": "FloatProgressModel",
       "_view_count": null,
       "_view_module": "@jupyter-widgets/controls",
       "_view_module_version": "2.0.0",
       "_view_name": "ProgressView",
       "bar_style": "",
       "description": "",
       "description_allow_html": false,
       "layout": "IPY_MODEL_44609217ecb44782b2369dc65775ab90",
       "max": 25.0,
       "min": 0.0,
       "orientation": "horizontal",
       "style": "IPY_MODEL_4fc1419bbef3477d9db3dcd053284892",
       "tabbable": null,
       "tooltip": null,
       "value": 25.0
      }
     },
     "e4b6afdedb9146fe9c1f56ea1383f0b5": {
      "model_module": "@jupyter-widgets/controls",
      "model_module_version": "2.0.0",
      "model_name": "HTMLStyleModel",
      "state": {
       "_model_module": "@jupyter-widgets/controls",
       "_model_module_version": "2.0.0",
       "_model_name": "HTMLStyleModel",
       "_view_count": null,
       "_view_module": "@jupyter-widgets/base",
       "_view_module_version": "2.0.0",
       "_view_name": "StyleView",
       "background": null,
       "description_width": "",
       "font_size": null,
       "text_color": null
      }
     },
     "f81119db60454815a56e73e619813d6e": {
      "model_module": "@jupyter-widgets/controls",
      "model_module_version": "2.0.0",
      "model_name": "HTMLModel",
      "state": {
       "_dom_classes": [],
       "_model_module": "@jupyter-widgets/controls",
       "_model_module_version": "2.0.0",
       "_model_name": "HTMLModel",
       "_view_count": null,
       "_view_module": "@jupyter-widgets/controls",
       "_view_module_version": "2.0.0",
       "_view_name": "HTMLView",
       "description": "",
       "description_allow_html": false,
       "layout": "IPY_MODEL_5c91e7d995f44393addc7c49e364938c",
       "placeholder": "​",
       "style": "IPY_MODEL_27b08ff26b354e32b75d460a540b0d7e",
       "tabbable": null,
       "tooltip": null,
       "value": " 0/12 [00:00&lt;?, ?it/s]"
      }
     },
     "f9796fe8b13340ff9c971e39b946101b": {
      "model_module": "@jupyter-widgets/base",
      "model_module_version": "2.0.0",
      "model_name": "LayoutModel",
      "state": {
       "_model_module": "@jupyter-widgets/base",
       "_model_module_version": "2.0.0",
       "_model_name": "LayoutModel",
       "_view_count": null,
       "_view_module": "@jupyter-widgets/base",
       "_view_module_version": "2.0.0",
       "_view_name": "LayoutView",
       "align_content": null,
       "align_items": null,
       "align_self": null,
       "border_bottom": null,
       "border_left": null,
       "border_right": null,
       "border_top": null,
       "bottom": null,
       "display": null,
       "flex": null,
       "flex_flow": null,
       "grid_area": null,
       "grid_auto_columns": null,
       "grid_auto_flow": null,
       "grid_auto_rows": null,
       "grid_column": null,
       "grid_gap": null,
       "grid_row": null,
       "grid_template_areas": null,
       "grid_template_columns": null,
       "grid_template_rows": null,
       "height": null,
       "justify_content": null,
       "justify_items": null,
       "left": null,
       "margin": null,
       "max_height": null,
       "max_width": null,
       "min_height": null,
       "min_width": null,
       "object_fit": null,
       "object_position": null,
       "order": null,
       "overflow": null,
       "padding": null,
       "right": null,
       "top": null,
       "visibility": null,
       "width": null
      }
     }
    },
    "version_major": 2,
    "version_minor": 0
   }
  }
 },
 "nbformat": 4,
 "nbformat_minor": 5
}

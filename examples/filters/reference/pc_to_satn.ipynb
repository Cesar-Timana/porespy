{
 "cells": [
  {
   "cell_type": "markdown",
   "id": "d279476c",
   "metadata": {},
   "source": [
    "# `pc_to_satn`\n",
    "Convert a capillary pressure map to saturation map."
   ]
  },
  {
   "cell_type": "code",
   "execution_count": 1,
   "id": "df328066",
   "metadata": {
    "execution": {
     "iopub.execute_input": "2022-08-23T01:40:13.543616Z",
     "iopub.status.busy": "2022-08-23T01:40:13.543360Z",
     "iopub.status.idle": "2022-08-23T01:40:15.375685Z",
     "shell.execute_reply": "2022-08-23T01:40:15.375010Z"
    }
   },
   "outputs": [],
   "source": [
    "import matplotlib.pyplot as plt\n",
    "import numpy as np\n",
    "import porespy as ps\n",
    "ps.visualization.set_mpl_style()"
   ]
  },
  {
   "cell_type": "markdown",
   "id": "9640b91d",
   "metadata": {},
   "source": [
    "The arguments and their defaults are:"
   ]
  },
  {
   "cell_type": "code",
   "execution_count": 2,
   "id": "da504252",
   "metadata": {
    "execution": {
     "iopub.execute_input": "2022-08-23T01:40:15.381121Z",
     "iopub.status.busy": "2022-08-23T01:40:15.379675Z",
     "iopub.status.idle": "2022-08-23T01:40:15.387870Z",
     "shell.execute_reply": "2022-08-23T01:40:15.387401Z"
    }
   },
   "outputs": [
    {
     "data": {
      "text/plain": [
       "<Signature (pc, im)>"
      ]
     },
     "execution_count": 2,
     "metadata": {},
     "output_type": "execute_result"
    }
   ],
   "source": [
    "import inspect\n",
    "inspect.signature(ps.filters.pc_to_satn)"
   ]
  },
  {
   "cell_type": "markdown",
   "id": "a49558cb",
   "metadata": {},
   "source": [
    "The capillary pressure map, such as that computed by ``ps.simulations.drainage``"
   ]
  },
  {
   "cell_type": "code",
   "execution_count": 3,
   "id": "567910b4",
   "metadata": {
    "execution": {
     "iopub.execute_input": "2022-08-23T01:40:15.391923Z",
     "iopub.status.busy": "2022-08-23T01:40:15.390913Z",
     "iopub.status.idle": "2022-08-23T01:40:16.433815Z",
     "shell.execute_reply": "2022-08-23T01:40:16.433302Z"
    }
   },
   "outputs": [
    {
     "data": {
      "application/json": {
       "ascii": false,
       "bar_format": null,
       "colour": null,
       "elapsed": 0.023975133895874023,
       "initial": 0,
       "n": 0,
       "ncols": null,
       "nrows": null,
       "postfix": null,
       "prefix": "",
       "rate": null,
       "total": 25,
       "unit": "it",
       "unit_divisor": 1000,
       "unit_scale": false
      },
      "application/vnd.jupyter.widget-view+json": {
       "model_id": "829d137676de4c6cb73f3dea0b44daf5",
       "version_major": 2,
       "version_minor": 0
      },
      "text/plain": [
       "  0%|          | 0/25 [00:00<?, ?it/s]"
      ]
     },
     "metadata": {},
     "output_type": "display_data"
    },
    {
     "data": {
      "application/json": {
       "ascii": false,
       "bar_format": null,
       "colour": null,
       "elapsed": 0.023592710494995117,
       "initial": 0,
       "n": 0,
       "ncols": null,
       "nrows": null,
       "postfix": null,
       "prefix": "",
       "rate": null,
       "total": 11,
       "unit": "it",
       "unit_divisor": 1000,
       "unit_scale": false
      },
      "application/vnd.jupyter.widget-view+json": {
       "model_id": "0f8ce7bcf259496387b32322fe5d8ef2",
       "version_major": 2,
       "version_minor": 0
      },
      "text/plain": [
       "  0%|          | 0/11 [00:00<?, ?it/s]"
      ]
     },
     "metadata": {},
     "output_type": "display_data"
    }
   ],
   "source": [
    "im = ps.generators.blobs(shape=[200, 200], porosity=0.6)\n",
    "drn = ps.simulations.drainage(im=im, voxel_size=1, g=0)"
   ]
  },
  {
   "cell_type": "markdown",
   "id": "639b2f06",
   "metadata": {},
   "source": [
    "## `pc` and `im`"
   ]
  },
  {
   "cell_type": "code",
   "execution_count": 4,
   "id": "45c9fb8b",
   "metadata": {
    "execution": {
     "iopub.execute_input": "2022-08-23T01:40:16.438053Z",
     "iopub.status.busy": "2022-08-23T01:40:16.436985Z",
     "iopub.status.idle": "2022-08-23T01:40:16.607308Z",
     "shell.execute_reply": "2022-08-23T01:40:16.606784Z"
    }
   },
   "outputs": [
    {
     "data": {
      "image/svg+xml": [
       "<?xml version=\"1.0\" encoding=\"utf-8\" standalone=\"no\"?>\n",
       "<!DOCTYPE svg PUBLIC \"-//W3C//DTD SVG 1.1//EN\"\n",
       "  \"http://www.w3.org/Graphics/SVG/1.1/DTD/svg11.dtd\">\n",
       "<svg xmlns:xlink=\"http://www.w3.org/1999/xlink\" width=\"842.76pt\" height=\"420.48pt\" viewBox=\"0 0 842.76 420.48\" xmlns=\"http://www.w3.org/2000/svg\" version=\"1.1\">\n",
       " <metadata>\n",
       "  <rdf:RDF xmlns:dc=\"http://purl.org/dc/elements/1.1/\" xmlns:cc=\"http://creativecommons.org/ns#\" xmlns:rdf=\"http://www.w3.org/1999/02/22-rdf-syntax-ns#\">\n",
       "   <cc:Work>\n",
       "    <dc:type rdf:resource=\"http://purl.org/dc/dcmitype/StillImage\"/>\n",
       "    <dc:date>2022-08-23T01:40:16.579466</dc:date>\n",
       "    <dc:format>image/svg+xml</dc:format>\n",
       "    <dc:creator>\n",
       "     <cc:Agent>\n",
       "      <dc:title>Matplotlib v3.5.3, https://matplotlib.org/</dc:title>\n",
       "     </cc:Agent>\n",
       "    </dc:creator>\n",
       "   </cc:Work>\n",
       "  </rdf:RDF>\n",
       " </metadata>\n",
       " <defs>\n",
       "  <style type=\"text/css\">*{stroke-linejoin: round; stroke-linecap: butt}</style>\n",
       " </defs>\n",
       " <g id=\"figure_1\">\n",
       "  <g id=\"patch_1\">\n",
       "   <path d=\"M 0 420.48 \n",
       "L 842.76 420.48 \n",
       "L 842.76 0 \n",
       "L 0 0 \n",
       "z\n",
       "\" style=\"fill: #ffffff\"/>\n",
       "  </g>\n",
       "  <g id=\"axes_1\">\n",
       "   <g clip-path=\"url(#p3b61402207)\">\n",
       "    <image xlink:href=\"data:image/png;base64,\n",
       "iVBORw0KGgoAAAANSUhEUgAAAMgAAADICAYAAACtWK6eAAAES0lEQVR4nO3dsWocRxgH8Fn5jAqB7izShHQiL5BGtTEhcpMunWq9QCRwYUhhcGGQniC1Oj9AEoxxrSaQLhALUqWzIxMVAlmbQrn4dNrb213t7c6cfj9QI5/s1e38/c03O7uXPd7cy8OU/O8P09+6lY/v37f698Xi3oMHtX/m53c/Zgs4FGrafHF4bdyfPNkrPC8r3RwOpElAoISAcOfNml6FEMKg6JvZaL31PoSr9zW86/soCOEqFB//+jK/9/kfpT1hJxWkSTMbu2X8ne6aeeEIIYTCF4xXttqsIsu2klU3INloPVwO18Kf347C78++t5KViEonantj98ZScBPLEpI64chG6yGEEC6Ha+FiuBr++WL12p8fH+0LS8RqnZw2gpJ6SMbhKLue8c1XP9x4n4rCMUlQ4tTopNQNyvRg+jr7rpWK1LVX+cva79fmi8P8/lkWhm8vK71eUOLSqEkfTxuavrbJQOvTq/xl1vSYT57sZXV6jq2dgyT/81hWjQdqlUZ+HI6fTg4L/52YK0nbIW4y8FWT/jU6AY839/I6K1zZaL0wJDEFpIuqJiTpKbxQOE/d5d+i129v7OYxNOyxT/fGoRKUfjQKSBPbG7t5TDtZYw/GtMnqIyzdqf1Gt3VNZKzrKtJ3MNpuwoVlsTqrIF3oe/D3YWvnIBeSxam1zNt29QihvT1NqYTDYE5LFNvdbxuSVMJBeqIISAjNQ5LirlpVJB2VT9QiplezVGncq+yJSkEbTbvALc7g0cPn107Q6zdPe3+zU6wKTR0f7We2l8TrxhRrOjAhfNpWwmKoAPHKigIxaXB6HlZOz6K9BTf1KdYkW1HiU9qkD07PuzqORpYpHCEY7DGKZhWLK3VCIlCLl2xAlq16TDo+2s/mDX7h6EblgNS5SWrRljkck2aFQDi6k9xerLsSjjFh6FdpQC6Gq2Fweh4uh2th5fSs1wfK3bVgEIe5FaQoJCG0/wT4IkJB3ypNsS6G/z2uZrhaeqX9tttRBILY1OpB5m1DKRrgVUIjGMRq4U36ePAXPUztl1+fCQZR62wVaxyGKk/UhlhUvg7S1i5f4SAlyV5Jhy4ICJTopAeZ/ETRso+7gth0UkHun2X/f01//C7ErHJA5t1YNcvWzkE+fHsZxl+f/SYfpEMPAiUEBErUCkjdaZandZC62hWkaS8CKWo0xRIS7orGPci8kJhesQxu1aTPColwsCxufSX90cPnednnf0PKLPNCiV4CYrsJqVBBoMRg+kYoS7jwyY0K8vrN06zO3YMadJbZ3CBM9wtl93NUXd71tEBS0fpAnRcS4QAAAAAAAAAAAAAAAAAAAAAAAAAAAAAAAAAAAAAAAAAAAAAAAAAAAAAAAAAAAAAAAAAAAAAAAAAAAAAAAAAAAAAAAAAAAAAAAAAAAAAAAAAAAAAAAAAAAAAAAAAAAAAAAAAAAAAAAAAAAAAAAAAAAABI279CP2kDYwaHfQAAAABJRU5ErkJggg==\" id=\"image5e0939b352\" transform=\"matrix(2.035 0 0 -2.035 7.2 413.28)\" style=\"image-rendering:crisp-edges;image-rendering:pixelated\" width=\"200\" height=\"200\"/>\n",
       "   </g>\n",
       "  </g>\n",
       "  <g id=\"axes_2\">\n",
       "   <g clip-path=\"url(#p0f10642f45)\">\n",
       "    <image xlink:href=\"data:image/png;base64,\n",
       "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\" id=\"image478c451ede\" transform=\"matrix(2.035 0 0 -2.035 429.48 413.28)\" style=\"image-rendering:crisp-edges;image-rendering:pixelated\" width=\"200\" height=\"200\"/>\n",
       "   </g>\n",
       "  </g>\n",
       " </g>\n",
       " <defs>\n",
       "  <clipPath id=\"p3b61402207\">\n",
       "   <rect x=\"7.2\" y=\"7.2\" width=\"406.08\" height=\"406.08\"/>\n",
       "  </clipPath>\n",
       "  <clipPath id=\"p0f10642f45\">\n",
       "   <rect x=\"429.48\" y=\"7.2\" width=\"406.08\" height=\"406.08\"/>\n",
       "  </clipPath>\n",
       " </defs>\n",
       "</svg>\n"
      ],
      "text/plain": [
       "<Figure size 1200x600 with 2 Axes>"
      ]
     },
     "metadata": {},
     "output_type": "display_data"
    }
   ],
   "source": [
    "satn = ps.filters.pc_to_satn(pc=drn.im_pc, im=im)\n",
    "\n",
    "fig, ax = plt.subplots(1, 2, figsize=[12, 6])\n",
    "ax[0].imshow(drn.im_pc/im, interpolation='none', origin='lower')\n",
    "ax[0].axis(False)\n",
    "ax[1].imshow(satn/im, interpolation='none', origin='lower')\n",
    "ax[1].axis(False);"
   ]
  },
  {
   "cell_type": "markdown",
   "id": "d7be130c",
   "metadata": {},
   "source": [
    "The saturation image allows for easy determination of a desired fluid configuration:"
   ]
  },
  {
   "cell_type": "code",
   "execution_count": 5,
   "id": "70dced98",
   "metadata": {
    "execution": {
     "iopub.execute_input": "2022-08-23T01:40:16.612512Z",
     "iopub.status.busy": "2022-08-23T01:40:16.610996Z",
     "iopub.status.idle": "2022-08-23T01:40:16.729805Z",
     "shell.execute_reply": "2022-08-23T01:40:16.729260Z"
    }
   },
   "outputs": [
    {
     "data": {
      "image/svg+xml": [
       "<?xml version=\"1.0\" encoding=\"utf-8\" standalone=\"no\"?>\n",
       "<!DOCTYPE svg PUBLIC \"-//W3C//DTD SVG 1.1//EN\"\n",
       "  \"http://www.w3.org/Graphics/SVG/1.1/DTD/svg11.dtd\">\n",
       "<svg xmlns:xlink=\"http://www.w3.org/1999/xlink\" width=\"842.76pt\" height=\"420.48pt\" viewBox=\"0 0 842.76 420.48\" xmlns=\"http://www.w3.org/2000/svg\" version=\"1.1\">\n",
       " <metadata>\n",
       "  <rdf:RDF xmlns:dc=\"http://purl.org/dc/elements/1.1/\" xmlns:cc=\"http://creativecommons.org/ns#\" xmlns:rdf=\"http://www.w3.org/1999/02/22-rdf-syntax-ns#\">\n",
       "   <cc:Work>\n",
       "    <dc:type rdf:resource=\"http://purl.org/dc/dcmitype/StillImage\"/>\n",
       "    <dc:date>2022-08-23T01:40:16.710530</dc:date>\n",
       "    <dc:format>image/svg+xml</dc:format>\n",
       "    <dc:creator>\n",
       "     <cc:Agent>\n",
       "      <dc:title>Matplotlib v3.5.3, https://matplotlib.org/</dc:title>\n",
       "     </cc:Agent>\n",
       "    </dc:creator>\n",
       "   </cc:Work>\n",
       "  </rdf:RDF>\n",
       " </metadata>\n",
       " <defs>\n",
       "  <style type=\"text/css\">*{stroke-linejoin: round; stroke-linecap: butt}</style>\n",
       " </defs>\n",
       " <g id=\"figure_1\">\n",
       "  <g id=\"patch_1\">\n",
       "   <path d=\"M 0 420.48 \n",
       "L 842.76 420.48 \n",
       "L 842.76 0 \n",
       "L 0 0 \n",
       "z\n",
       "\" style=\"fill: #ffffff\"/>\n",
       "  </g>\n",
       "  <g id=\"axes_1\">\n",
       "   <g clip-path=\"url(#pbdf85f3dc5)\">\n",
       "    <image xlink:href=\"data:image/png;base64,\n",
       "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\" id=\"image457680a6bb\" transform=\"matrix(2.035 0 0 -2.035 7.2 413.28)\" style=\"image-rendering:crisp-edges;image-rendering:pixelated\" width=\"200\" height=\"200\"/>\n",
       "   </g>\n",
       "  </g>\n",
       "  <g id=\"axes_2\">\n",
       "   <g clip-path=\"url(#p0e337c8c2b)\">\n",
       "    <image xlink:href=\"data:image/png;base64,\n",
       "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\" id=\"imagef3547cd7cd\" transform=\"matrix(2.035 0 0 -2.035 429.48 413.28)\" style=\"image-rendering:crisp-edges;image-rendering:pixelated\" width=\"200\" height=\"200\"/>\n",
       "   </g>\n",
       "  </g>\n",
       " </g>\n",
       " <defs>\n",
       "  <clipPath id=\"pbdf85f3dc5\">\n",
       "   <rect x=\"7.2\" y=\"7.2\" width=\"406.08\" height=\"406.08\"/>\n",
       "  </clipPath>\n",
       "  <clipPath id=\"p0e337c8c2b\">\n",
       "   <rect x=\"429.48\" y=\"7.2\" width=\"406.08\" height=\"406.08\"/>\n",
       "  </clipPath>\n",
       " </defs>\n",
       "</svg>\n"
      ],
      "text/plain": [
       "<Figure size 1200x600 with 2 Axes>"
      ]
     },
     "metadata": {},
     "output_type": "display_data"
    }
   ],
   "source": [
    "fig, ax = plt.subplots(1, 2, figsize=[12, 6])\n",
    "ax[0].imshow((satn < 0.3)*(satn > 0)/im, interpolation='none', origin='lower')\n",
    "ax[0].axis(False)\n",
    "ax[1].imshow((satn < 0.8)*(satn > 0)/im, interpolation='none', origin='lower')\n",
    "ax[1].axis(False);"
   ]
  }
 ],
 "metadata": {
  "kernelspec": {
   "display_name": "Python 3 (ipykernel)",
   "language": "python",
   "name": "python3"
  },
  "language_info": {
   "codemirror_mode": {
    "name": "ipython",
    "version": 3
   },
   "file_extension": ".py",
   "mimetype": "text/x-python",
   "name": "python",
   "nbconvert_exporter": "python",
   "pygments_lexer": "ipython3",
   "version": "3.8.13"
  },
  "widgets": {
   "application/vnd.jupyter.widget-state+json": {
    "state": {
     "06214b99a8794df29edec3f0c0dfba00": {
      "model_module": "@jupyter-widgets/base",
      "model_module_version": "2.0.0",
      "model_name": "LayoutModel",
      "state": {
       "_model_module": "@jupyter-widgets/base",
       "_model_module_version": "2.0.0",
       "_model_name": "LayoutModel",
       "_view_count": null,
       "_view_module": "@jupyter-widgets/base",
       "_view_module_version": "2.0.0",
       "_view_name": "LayoutView",
       "align_content": null,
       "align_items": null,
       "align_self": null,
       "border_bottom": null,
       "border_left": null,
       "border_right": null,
       "border_top": null,
       "bottom": null,
       "display": null,
       "flex": null,
       "flex_flow": null,
       "grid_area": null,
       "grid_auto_columns": null,
       "grid_auto_flow": null,
       "grid_auto_rows": null,
       "grid_column": null,
       "grid_gap": null,
       "grid_row": null,
       "grid_template_areas": null,
       "grid_template_columns": null,
       "grid_template_rows": null,
       "height": null,
       "justify_content": null,
       "justify_items": null,
       "left": null,
       "margin": null,
       "max_height": null,
       "max_width": null,
       "min_height": null,
       "min_width": null,
       "object_fit": null,
       "object_position": null,
       "order": null,
       "overflow": null,
       "padding": null,
       "right": null,
       "top": null,
       "visibility": null,
       "width": null
      }
     },
     "0f8ce7bcf259496387b32322fe5d8ef2": {
      "model_module": "@jupyter-widgets/controls",
      "model_module_version": "2.0.0",
      "model_name": "HBoxModel",
      "state": {
       "_dom_classes": [],
       "_model_module": "@jupyter-widgets/controls",
       "_model_module_version": "2.0.0",
       "_model_name": "HBoxModel",
       "_view_count": null,
       "_view_module": "@jupyter-widgets/controls",
       "_view_module_version": "2.0.0",
       "_view_name": "HBoxView",
       "box_style": "",
       "children": [
        "IPY_MODEL_ffea9250dad94a60865e84d7f330e6e7",
        "IPY_MODEL_4a5e44b86985466dbcc23db907a97964",
        "IPY_MODEL_ae9a1ecc71744cc9a6b3b08b0c4337e9"
       ],
       "layout": "IPY_MODEL_c395c89968fc4950a25f1db76319738d",
       "tabbable": null,
       "tooltip": null
      }
     },
     "0fb85f7aac714051b5975221ccbb128a": {
      "model_module": "@jupyter-widgets/base",
      "model_module_version": "2.0.0",
      "model_name": "LayoutModel",
      "state": {
       "_model_module": "@jupyter-widgets/base",
       "_model_module_version": "2.0.0",
       "_model_name": "LayoutModel",
       "_view_count": null,
       "_view_module": "@jupyter-widgets/base",
       "_view_module_version": "2.0.0",
       "_view_name": "LayoutView",
       "align_content": null,
       "align_items": null,
       "align_self": null,
       "border_bottom": null,
       "border_left": null,
       "border_right": null,
       "border_top": null,
       "bottom": null,
       "display": null,
       "flex": null,
       "flex_flow": null,
       "grid_area": null,
       "grid_auto_columns": null,
       "grid_auto_flow": null,
       "grid_auto_rows": null,
       "grid_column": null,
       "grid_gap": null,
       "grid_row": null,
       "grid_template_areas": null,
       "grid_template_columns": null,
       "grid_template_rows": null,
       "height": null,
       "justify_content": null,
       "justify_items": null,
       "left": null,
       "margin": null,
       "max_height": null,
       "max_width": null,
       "min_height": null,
       "min_width": null,
       "object_fit": null,
       "object_position": null,
       "order": null,
       "overflow": null,
       "padding": null,
       "right": null,
       "top": null,
       "visibility": null,
       "width": null
      }
     },
     "2c857a25fb5843cfa0d8b923b43da597": {
      "model_module": "@jupyter-widgets/base",
      "model_module_version": "2.0.0",
      "model_name": "LayoutModel",
      "state": {
       "_model_module": "@jupyter-widgets/base",
       "_model_module_version": "2.0.0",
       "_model_name": "LayoutModel",
       "_view_count": null,
       "_view_module": "@jupyter-widgets/base",
       "_view_module_version": "2.0.0",
       "_view_name": "LayoutView",
       "align_content": null,
       "align_items": null,
       "align_self": null,
       "border_bottom": null,
       "border_left": null,
       "border_right": null,
       "border_top": null,
       "bottom": null,
       "display": null,
       "flex": null,
       "flex_flow": null,
       "grid_area": null,
       "grid_auto_columns": null,
       "grid_auto_flow": null,
       "grid_auto_rows": null,
       "grid_column": null,
       "grid_gap": null,
       "grid_row": null,
       "grid_template_areas": null,
       "grid_template_columns": null,
       "grid_template_rows": null,
       "height": null,
       "justify_content": null,
       "justify_items": null,
       "left": null,
       "margin": null,
       "max_height": null,
       "max_width": null,
       "min_height": null,
       "min_width": null,
       "object_fit": null,
       "object_position": null,
       "order": null,
       "overflow": null,
       "padding": null,
       "right": null,
       "top": null,
       "visibility": null,
       "width": null
      }
     },
     "355b05416ee941ad98c3bc949f98f296": {
      "model_module": "@jupyter-widgets/controls",
      "model_module_version": "2.0.0",
      "model_name": "HTMLModel",
      "state": {
       "_dom_classes": [],
       "_model_module": "@jupyter-widgets/controls",
       "_model_module_version": "2.0.0",
       "_model_name": "HTMLModel",
       "_view_count": null,
       "_view_module": "@jupyter-widgets/controls",
       "_view_module_version": "2.0.0",
       "_view_name": "HTMLView",
       "description": "",
       "description_allow_html": false,
       "layout": "IPY_MODEL_06214b99a8794df29edec3f0c0dfba00",
       "placeholder": "​",
       "style": "IPY_MODEL_97b0cb06bec147f6a1159637f10e8e41",
       "tabbable": null,
       "tooltip": null,
       "value": "  4%"
      }
     },
     "39467c705e0b417bbfd2ca1093ee49c6": {
      "model_module": "@jupyter-widgets/controls",
      "model_module_version": "2.0.0",
      "model_name": "HTMLStyleModel",
      "state": {
       "_model_module": "@jupyter-widgets/controls",
       "_model_module_version": "2.0.0",
       "_model_name": "HTMLStyleModel",
       "_view_count": null,
       "_view_module": "@jupyter-widgets/base",
       "_view_module_version": "2.0.0",
       "_view_name": "StyleView",
       "background": null,
       "description_width": "",
       "font_size": null,
       "text_color": null
      }
     },
     "430bcd10b92c422fbd16cc04ac02d7ec": {
      "model_module": "@jupyter-widgets/base",
      "model_module_version": "2.0.0",
      "model_name": "LayoutModel",
      "state": {
       "_model_module": "@jupyter-widgets/base",
       "_model_module_version": "2.0.0",
       "_model_name": "LayoutModel",
       "_view_count": null,
       "_view_module": "@jupyter-widgets/base",
       "_view_module_version": "2.0.0",
       "_view_name": "LayoutView",
       "align_content": null,
       "align_items": null,
       "align_self": null,
       "border_bottom": null,
       "border_left": null,
       "border_right": null,
       "border_top": null,
       "bottom": null,
       "display": null,
       "flex": null,
       "flex_flow": null,
       "grid_area": null,
       "grid_auto_columns": null,
       "grid_auto_flow": null,
       "grid_auto_rows": null,
       "grid_column": null,
       "grid_gap": null,
       "grid_row": null,
       "grid_template_areas": null,
       "grid_template_columns": null,
       "grid_template_rows": null,
       "height": null,
       "justify_content": null,
       "justify_items": null,
       "left": null,
       "margin": null,
       "max_height": null,
       "max_width": null,
       "min_height": null,
       "min_width": null,
       "object_fit": null,
       "object_position": null,
       "order": null,
       "overflow": null,
       "padding": null,
       "right": null,
       "top": null,
       "visibility": null,
       "width": null
      }
     },
     "4a5e44b86985466dbcc23db907a97964": {
      "model_module": "@jupyter-widgets/controls",
      "model_module_version": "2.0.0",
      "model_name": "FloatProgressModel",
      "state": {
       "_dom_classes": [],
       "_model_module": "@jupyter-widgets/controls",
       "_model_module_version": "2.0.0",
       "_model_name": "FloatProgressModel",
       "_view_count": null,
       "_view_module": "@jupyter-widgets/controls",
       "_view_module_version": "2.0.0",
       "_view_name": "ProgressView",
       "bar_style": "",
       "description": "",
       "description_allow_html": false,
       "layout": "IPY_MODEL_cde7101af1e544e599bbf60b1f514f4a",
       "max": 11.0,
       "min": 0.0,
       "orientation": "horizontal",
       "style": "IPY_MODEL_b3d4c709ca574a3e858494530b89135a",
       "tabbable": null,
       "tooltip": null,
       "value": 11.0
      }
     },
     "59b59e415236413e997d59641b4e110e": {
      "model_module": "@jupyter-widgets/controls",
      "model_module_version": "2.0.0",
      "model_name": "HTMLStyleModel",
      "state": {
       "_model_module": "@jupyter-widgets/controls",
       "_model_module_version": "2.0.0",
       "_model_name": "HTMLStyleModel",
       "_view_count": null,
       "_view_module": "@jupyter-widgets/base",
       "_view_module_version": "2.0.0",
       "_view_name": "StyleView",
       "background": null,
       "description_width": "",
       "font_size": null,
       "text_color": null
      }
     },
     "80a2cf2e94514949837630215d8eda2d": {
      "model_module": "@jupyter-widgets/controls",
      "model_module_version": "2.0.0",
      "model_name": "ProgressStyleModel",
      "state": {
       "_model_module": "@jupyter-widgets/controls",
       "_model_module_version": "2.0.0",
       "_model_name": "ProgressStyleModel",
       "_view_count": null,
       "_view_module": "@jupyter-widgets/base",
       "_view_module_version": "2.0.0",
       "_view_name": "StyleView",
       "bar_color": null,
       "description_width": ""
      }
     },
     "8282b7e5b3cd4a09a2a37db1437ced60": {
      "model_module": "@jupyter-widgets/controls",
      "model_module_version": "2.0.0",
      "model_name": "HTMLModel",
      "state": {
       "_dom_classes": [],
       "_model_module": "@jupyter-widgets/controls",
       "_model_module_version": "2.0.0",
       "_model_name": "HTMLModel",
       "_view_count": null,
       "_view_module": "@jupyter-widgets/controls",
       "_view_module_version": "2.0.0",
       "_view_name": "HTMLView",
       "description": "",
       "description_allow_html": false,
       "layout": "IPY_MODEL_2c857a25fb5843cfa0d8b923b43da597",
       "placeholder": "​",
       "style": "IPY_MODEL_59b59e415236413e997d59641b4e110e",
       "tabbable": null,
       "tooltip": null,
       "value": " 1/25 [00:00&lt;00:23,  1.03it/s]"
      }
     },
     "829d137676de4c6cb73f3dea0b44daf5": {
      "model_module": "@jupyter-widgets/controls",
      "model_module_version": "2.0.0",
      "model_name": "HBoxModel",
      "state": {
       "_dom_classes": [],
       "_model_module": "@jupyter-widgets/controls",
       "_model_module_version": "2.0.0",
       "_model_name": "HBoxModel",
       "_view_count": null,
       "_view_module": "@jupyter-widgets/controls",
       "_view_module_version": "2.0.0",
       "_view_name": "HBoxView",
       "box_style": "",
       "children": [
        "IPY_MODEL_355b05416ee941ad98c3bc949f98f296",
        "IPY_MODEL_89ce38e080ae43aeb9822e2647e9b714",
        "IPY_MODEL_8282b7e5b3cd4a09a2a37db1437ced60"
       ],
       "layout": "IPY_MODEL_b2ef1da50d754e9f96571e72537d3d75",
       "tabbable": null,
       "tooltip": null
      }
     },
     "89ce38e080ae43aeb9822e2647e9b714": {
      "model_module": "@jupyter-widgets/controls",
      "model_module_version": "2.0.0",
      "model_name": "FloatProgressModel",
      "state": {
       "_dom_classes": [],
       "_model_module": "@jupyter-widgets/controls",
       "_model_module_version": "2.0.0",
       "_model_name": "FloatProgressModel",
       "_view_count": null,
       "_view_module": "@jupyter-widgets/controls",
       "_view_module_version": "2.0.0",
       "_view_name": "ProgressView",
       "bar_style": "",
       "description": "",
       "description_allow_html": false,
       "layout": "IPY_MODEL_430bcd10b92c422fbd16cc04ac02d7ec",
       "max": 25.0,
       "min": 0.0,
       "orientation": "horizontal",
       "style": "IPY_MODEL_80a2cf2e94514949837630215d8eda2d",
       "tabbable": null,
       "tooltip": null,
       "value": 25.0
      }
     },
     "97b0cb06bec147f6a1159637f10e8e41": {
      "model_module": "@jupyter-widgets/controls",
      "model_module_version": "2.0.0",
      "model_name": "HTMLStyleModel",
      "state": {
       "_model_module": "@jupyter-widgets/controls",
       "_model_module_version": "2.0.0",
       "_model_name": "HTMLStyleModel",
       "_view_count": null,
       "_view_module": "@jupyter-widgets/base",
       "_view_module_version": "2.0.0",
       "_view_name": "StyleView",
       "background": null,
       "description_width": "",
       "font_size": null,
       "text_color": null
      }
     },
     "9f48d923b7b04358814f8b51ccbafab0": {
      "model_module": "@jupyter-widgets/controls",
      "model_module_version": "2.0.0",
      "model_name": "HTMLStyleModel",
      "state": {
       "_model_module": "@jupyter-widgets/controls",
       "_model_module_version": "2.0.0",
       "_model_name": "HTMLStyleModel",
       "_view_count": null,
       "_view_module": "@jupyter-widgets/base",
       "_view_module_version": "2.0.0",
       "_view_name": "StyleView",
       "background": null,
       "description_width": "",
       "font_size": null,
       "text_color": null
      }
     },
     "ae9a1ecc71744cc9a6b3b08b0c4337e9": {
      "model_module": "@jupyter-widgets/controls",
      "model_module_version": "2.0.0",
      "model_name": "HTMLModel",
      "state": {
       "_dom_classes": [],
       "_model_module": "@jupyter-widgets/controls",
       "_model_module_version": "2.0.0",
       "_model_name": "HTMLModel",
       "_view_count": null,
       "_view_module": "@jupyter-widgets/controls",
       "_view_module_version": "2.0.0",
       "_view_name": "HTMLView",
       "description": "",
       "description_allow_html": false,
       "layout": "IPY_MODEL_fac7a80a493147b2a9f295c7df12687c",
       "placeholder": "​",
       "style": "IPY_MODEL_39467c705e0b417bbfd2ca1093ee49c6",
       "tabbable": null,
       "tooltip": null,
       "value": " 0/11 [00:00&lt;?, ?it/s]"
      }
     },
     "b2ef1da50d754e9f96571e72537d3d75": {
      "model_module": "@jupyter-widgets/base",
      "model_module_version": "2.0.0",
      "model_name": "LayoutModel",
      "state": {
       "_model_module": "@jupyter-widgets/base",
       "_model_module_version": "2.0.0",
       "_model_name": "LayoutModel",
       "_view_count": null,
       "_view_module": "@jupyter-widgets/base",
       "_view_module_version": "2.0.0",
       "_view_name": "LayoutView",
       "align_content": null,
       "align_items": null,
       "align_self": null,
       "border_bottom": null,
       "border_left": null,
       "border_right": null,
       "border_top": null,
       "bottom": null,
       "display": null,
       "flex": null,
       "flex_flow": null,
       "grid_area": null,
       "grid_auto_columns": null,
       "grid_auto_flow": null,
       "grid_auto_rows": null,
       "grid_column": null,
       "grid_gap": null,
       "grid_row": null,
       "grid_template_areas": null,
       "grid_template_columns": null,
       "grid_template_rows": null,
       "height": null,
       "justify_content": null,
       "justify_items": null,
       "left": null,
       "margin": null,
       "max_height": null,
       "max_width": null,
       "min_height": null,
       "min_width": null,
       "object_fit": null,
       "object_position": null,
       "order": null,
       "overflow": null,
       "padding": null,
       "right": null,
       "top": null,
       "visibility": null,
       "width": null
      }
     },
     "b3d4c709ca574a3e858494530b89135a": {
      "model_module": "@jupyter-widgets/controls",
      "model_module_version": "2.0.0",
      "model_name": "ProgressStyleModel",
      "state": {
       "_model_module": "@jupyter-widgets/controls",
       "_model_module_version": "2.0.0",
       "_model_name": "ProgressStyleModel",
       "_view_count": null,
       "_view_module": "@jupyter-widgets/base",
       "_view_module_version": "2.0.0",
       "_view_name": "StyleView",
       "bar_color": null,
       "description_width": ""
      }
     },
     "c395c89968fc4950a25f1db76319738d": {
      "model_module": "@jupyter-widgets/base",
      "model_module_version": "2.0.0",
      "model_name": "LayoutModel",
      "state": {
       "_model_module": "@jupyter-widgets/base",
       "_model_module_version": "2.0.0",
       "_model_name": "LayoutModel",
       "_view_count": null,
       "_view_module": "@jupyter-widgets/base",
       "_view_module_version": "2.0.0",
       "_view_name": "LayoutView",
       "align_content": null,
       "align_items": null,
       "align_self": null,
       "border_bottom": null,
       "border_left": null,
       "border_right": null,
       "border_top": null,
       "bottom": null,
       "display": null,
       "flex": null,
       "flex_flow": null,
       "grid_area": null,
       "grid_auto_columns": null,
       "grid_auto_flow": null,
       "grid_auto_rows": null,
       "grid_column": null,
       "grid_gap": null,
       "grid_row": null,
       "grid_template_areas": null,
       "grid_template_columns": null,
       "grid_template_rows": null,
       "height": null,
       "justify_content": null,
       "justify_items": null,
       "left": null,
       "margin": null,
       "max_height": null,
       "max_width": null,
       "min_height": null,
       "min_width": null,
       "object_fit": null,
       "object_position": null,
       "order": null,
       "overflow": null,
       "padding": null,
       "right": null,
       "top": null,
       "visibility": null,
       "width": null
      }
     },
     "cde7101af1e544e599bbf60b1f514f4a": {
      "model_module": "@jupyter-widgets/base",
      "model_module_version": "2.0.0",
      "model_name": "LayoutModel",
      "state": {
       "_model_module": "@jupyter-widgets/base",
       "_model_module_version": "2.0.0",
       "_model_name": "LayoutModel",
       "_view_count": null,
       "_view_module": "@jupyter-widgets/base",
       "_view_module_version": "2.0.0",
       "_view_name": "LayoutView",
       "align_content": null,
       "align_items": null,
       "align_self": null,
       "border_bottom": null,
       "border_left": null,
       "border_right": null,
       "border_top": null,
       "bottom": null,
       "display": null,
       "flex": null,
       "flex_flow": null,
       "grid_area": null,
       "grid_auto_columns": null,
       "grid_auto_flow": null,
       "grid_auto_rows": null,
       "grid_column": null,
       "grid_gap": null,
       "grid_row": null,
       "grid_template_areas": null,
       "grid_template_columns": null,
       "grid_template_rows": null,
       "height": null,
       "justify_content": null,
       "justify_items": null,
       "left": null,
       "margin": null,
       "max_height": null,
       "max_width": null,
       "min_height": null,
       "min_width": null,
       "object_fit": null,
       "object_position": null,
       "order": null,
       "overflow": null,
       "padding": null,
       "right": null,
       "top": null,
       "visibility": null,
       "width": null
      }
     },
     "fac7a80a493147b2a9f295c7df12687c": {
      "model_module": "@jupyter-widgets/base",
      "model_module_version": "2.0.0",
      "model_name": "LayoutModel",
      "state": {
       "_model_module": "@jupyter-widgets/base",
       "_model_module_version": "2.0.0",
       "_model_name": "LayoutModel",
       "_view_count": null,
       "_view_module": "@jupyter-widgets/base",
       "_view_module_version": "2.0.0",
       "_view_name": "LayoutView",
       "align_content": null,
       "align_items": null,
       "align_self": null,
       "border_bottom": null,
       "border_left": null,
       "border_right": null,
       "border_top": null,
       "bottom": null,
       "display": null,
       "flex": null,
       "flex_flow": null,
       "grid_area": null,
       "grid_auto_columns": null,
       "grid_auto_flow": null,
       "grid_auto_rows": null,
       "grid_column": null,
       "grid_gap": null,
       "grid_row": null,
       "grid_template_areas": null,
       "grid_template_columns": null,
       "grid_template_rows": null,
       "height": null,
       "justify_content": null,
       "justify_items": null,
       "left": null,
       "margin": null,
       "max_height": null,
       "max_width": null,
       "min_height": null,
       "min_width": null,
       "object_fit": null,
       "object_position": null,
       "order": null,
       "overflow": null,
       "padding": null,
       "right": null,
       "top": null,
       "visibility": null,
       "width": null
      }
     },
     "ffea9250dad94a60865e84d7f330e6e7": {
      "model_module": "@jupyter-widgets/controls",
      "model_module_version": "2.0.0",
      "model_name": "HTMLModel",
      "state": {
       "_dom_classes": [],
       "_model_module": "@jupyter-widgets/controls",
       "_model_module_version": "2.0.0",
       "_model_name": "HTMLModel",
       "_view_count": null,
       "_view_module": "@jupyter-widgets/controls",
       "_view_module_version": "2.0.0",
       "_view_name": "HTMLView",
       "description": "",
       "description_allow_html": false,
       "layout": "IPY_MODEL_0fb85f7aac714051b5975221ccbb128a",
       "placeholder": "​",
       "style": "IPY_MODEL_9f48d923b7b04358814f8b51ccbafab0",
       "tabbable": null,
       "tooltip": null,
       "value": "  0%"
      }
     }
    },
    "version_major": 2,
    "version_minor": 0
   }
  }
 },
 "nbformat": 4,
 "nbformat_minor": 5
}

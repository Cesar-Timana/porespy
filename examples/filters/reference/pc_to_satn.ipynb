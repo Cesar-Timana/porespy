{
 "cells": [
  {
   "cell_type": "markdown",
   "id": "d279476c",
   "metadata": {},
   "source": [
    "# `pc_to_satn`\n",
    "Convert a capillary pressure map to saturation map."
   ]
  },
  {
   "cell_type": "code",
   "execution_count": 1,
   "id": "df328066",
   "metadata": {
    "execution": {
     "iopub.execute_input": "2022-08-22T18:47:40.783949Z",
     "iopub.status.busy": "2022-08-22T18:47:40.783396Z",
     "iopub.status.idle": "2022-08-22T18:47:42.762821Z",
     "shell.execute_reply": "2022-08-22T18:47:42.762053Z"
    }
   },
   "outputs": [],
   "source": [
    "import matplotlib.pyplot as plt\n",
    "import numpy as np\n",
    "import porespy as ps\n",
    "ps.visualization.set_mpl_style()"
   ]
  },
  {
   "cell_type": "markdown",
   "id": "9640b91d",
   "metadata": {},
   "source": [
    "The arguments and their defaults are:"
   ]
  },
  {
   "cell_type": "code",
   "execution_count": 2,
   "id": "da504252",
   "metadata": {
    "execution": {
     "iopub.execute_input": "2022-08-22T18:47:42.767039Z",
     "iopub.status.busy": "2022-08-22T18:47:42.766406Z",
     "iopub.status.idle": "2022-08-22T18:47:42.775758Z",
     "shell.execute_reply": "2022-08-22T18:47:42.775168Z"
    }
   },
   "outputs": [
    {
     "data": {
      "text/plain": [
       "<Signature (pc, im)>"
      ]
     },
     "execution_count": 2,
     "metadata": {},
     "output_type": "execute_result"
    }
   ],
   "source": [
    "import inspect\n",
    "inspect.signature(ps.filters.pc_to_satn)"
   ]
  },
  {
   "cell_type": "markdown",
   "id": "a49558cb",
   "metadata": {},
   "source": [
    "The capillary pressure map, such as that computed by ``ps.simulations.drainage``"
   ]
  },
  {
   "cell_type": "code",
   "execution_count": 3,
   "id": "567910b4",
   "metadata": {
    "execution": {
     "iopub.execute_input": "2022-08-22T18:47:42.779841Z",
     "iopub.status.busy": "2022-08-22T18:47:42.778633Z",
     "iopub.status.idle": "2022-08-22T18:47:43.889234Z",
     "shell.execute_reply": "2022-08-22T18:47:43.888540Z"
    }
   },
   "outputs": [
    {
     "data": {
      "application/json": {
       "ascii": false,
       "bar_format": null,
       "colour": null,
       "elapsed": 0.02357959747314453,
       "initial": 0,
       "n": 0,
       "ncols": null,
       "nrows": null,
       "postfix": null,
       "prefix": "",
       "rate": null,
       "total": 25,
       "unit": "it",
       "unit_divisor": 1000,
       "unit_scale": false
      },
      "application/vnd.jupyter.widget-view+json": {
       "model_id": "2c8b300d524048b5aac05886c4f69347",
       "version_major": 2,
       "version_minor": 0
      },
      "text/plain": [
       "  0%|          | 0/25 [00:00<?, ?it/s]"
      ]
     },
     "metadata": {},
     "output_type": "display_data"
    },
    {
     "data": {
      "application/json": {
       "ascii": false,
       "bar_format": null,
       "colour": null,
       "elapsed": 0.014141082763671875,
       "initial": 0,
       "n": 0,
       "ncols": null,
       "nrows": null,
       "postfix": null,
       "prefix": "",
       "rate": null,
       "total": 14,
       "unit": "it",
       "unit_divisor": 1000,
       "unit_scale": false
      },
      "application/vnd.jupyter.widget-view+json": {
       "model_id": "5fe0480aa9404f09bf56ff2399b0f45f",
       "version_major": 2,
       "version_minor": 0
      },
      "text/plain": [
       "  0%|          | 0/14 [00:00<?, ?it/s]"
      ]
     },
     "metadata": {},
     "output_type": "display_data"
    }
   ],
   "source": [
    "im = ps.generators.blobs(shape=[200, 200], porosity=0.6)\n",
    "drn = ps.simulations.drainage(im=im, voxel_size=1, g=0)"
   ]
  },
  {
   "cell_type": "markdown",
   "id": "639b2f06",
   "metadata": {},
   "source": [
    "## `pc` and `im`"
   ]
  },
  {
   "cell_type": "code",
   "execution_count": 4,
   "id": "45c9fb8b",
   "metadata": {
    "execution": {
     "iopub.execute_input": "2022-08-22T18:47:43.892612Z",
     "iopub.status.busy": "2022-08-22T18:47:43.892366Z",
     "iopub.status.idle": "2022-08-22T18:47:44.087056Z",
     "shell.execute_reply": "2022-08-22T18:47:44.086406Z"
    }
   },
   "outputs": [
    {
     "data": {
      "image/svg+xml": [
       "<?xml version=\"1.0\" encoding=\"utf-8\" standalone=\"no\"?>\n",
       "<!DOCTYPE svg PUBLIC \"-//W3C//DTD SVG 1.1//EN\"\n",
       "  \"http://www.w3.org/Graphics/SVG/1.1/DTD/svg11.dtd\">\n",
       "<svg xmlns:xlink=\"http://www.w3.org/1999/xlink\" width=\"842.76pt\" height=\"420.48pt\" viewBox=\"0 0 842.76 420.48\" xmlns=\"http://www.w3.org/2000/svg\" version=\"1.1\">\n",
       " <metadata>\n",
       "  <rdf:RDF xmlns:dc=\"http://purl.org/dc/elements/1.1/\" xmlns:cc=\"http://creativecommons.org/ns#\" xmlns:rdf=\"http://www.w3.org/1999/02/22-rdf-syntax-ns#\">\n",
       "   <cc:Work>\n",
       "    <dc:type rdf:resource=\"http://purl.org/dc/dcmitype/StillImage\"/>\n",
       "    <dc:date>2022-08-22T18:47:44.048787</dc:date>\n",
       "    <dc:format>image/svg+xml</dc:format>\n",
       "    <dc:creator>\n",
       "     <cc:Agent>\n",
       "      <dc:title>Matplotlib v3.5.3, https://matplotlib.org/</dc:title>\n",
       "     </cc:Agent>\n",
       "    </dc:creator>\n",
       "   </cc:Work>\n",
       "  </rdf:RDF>\n",
       " </metadata>\n",
       " <defs>\n",
       "  <style type=\"text/css\">*{stroke-linejoin: round; stroke-linecap: butt}</style>\n",
       " </defs>\n",
       " <g id=\"figure_1\">\n",
       "  <g id=\"patch_1\">\n",
       "   <path d=\"M 0 420.48 \n",
       "L 842.76 420.48 \n",
       "L 842.76 0 \n",
       "L 0 0 \n",
       "z\n",
       "\" style=\"fill: #ffffff\"/>\n",
       "  </g>\n",
       "  <g id=\"axes_1\">\n",
       "   <g clip-path=\"url(#p0dda9f3528)\">\n",
       "    <image xlink:href=\"data:image/png;base64,\n",
       "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\" id=\"imagebc409f8a97\" transform=\"matrix(2.035 0 0 -2.035 7.2 413.28)\" style=\"image-rendering:crisp-edges;image-rendering:pixelated\" width=\"200\" height=\"200\"/>\n",
       "   </g>\n",
       "  </g>\n",
       "  <g id=\"axes_2\">\n",
       "   <g clip-path=\"url(#pc83bb9c5e0)\">\n",
       "    <image xlink:href=\"data:image/png;base64,\n",
       "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\" id=\"image0bd2e3b1f9\" transform=\"matrix(2.035 0 0 -2.035 429.48 413.28)\" style=\"image-rendering:crisp-edges;image-rendering:pixelated\" width=\"200\" height=\"200\"/>\n",
       "   </g>\n",
       "  </g>\n",
       " </g>\n",
       " <defs>\n",
       "  <clipPath id=\"p0dda9f3528\">\n",
       "   <rect x=\"7.2\" y=\"7.2\" width=\"406.08\" height=\"406.08\"/>\n",
       "  </clipPath>\n",
       "  <clipPath id=\"pc83bb9c5e0\">\n",
       "   <rect x=\"429.48\" y=\"7.2\" width=\"406.08\" height=\"406.08\"/>\n",
       "  </clipPath>\n",
       " </defs>\n",
       "</svg>\n"
      ],
      "text/plain": [
       "<Figure size 1200x600 with 2 Axes>"
      ]
     },
     "metadata": {},
     "output_type": "display_data"
    }
   ],
   "source": [
    "satn = ps.filters.pc_to_satn(pc=drn.im_pc, im=im)\n",
    "\n",
    "fig, ax = plt.subplots(1, 2, figsize=[12, 6])\n",
    "ax[0].imshow(drn.im_pc/im, interpolation='none', origin='lower')\n",
    "ax[0].axis(False)\n",
    "ax[1].imshow(satn/im, interpolation='none', origin='lower')\n",
    "ax[1].axis(False);"
   ]
  },
  {
   "cell_type": "markdown",
   "id": "d7be130c",
   "metadata": {},
   "source": [
    "The saturation image allows for easy determination of a desired fluid configuration:"
   ]
  },
  {
   "cell_type": "code",
   "execution_count": 5,
   "id": "70dced98",
   "metadata": {
    "execution": {
     "iopub.execute_input": "2022-08-22T18:47:44.091016Z",
     "iopub.status.busy": "2022-08-22T18:47:44.090424Z",
     "iopub.status.idle": "2022-08-22T18:47:44.286706Z",
     "shell.execute_reply": "2022-08-22T18:47:44.285596Z"
    }
   },
   "outputs": [
    {
     "data": {
      "image/svg+xml": [
       "<?xml version=\"1.0\" encoding=\"utf-8\" standalone=\"no\"?>\n",
       "<!DOCTYPE svg PUBLIC \"-//W3C//DTD SVG 1.1//EN\"\n",
       "  \"http://www.w3.org/Graphics/SVG/1.1/DTD/svg11.dtd\">\n",
       "<svg xmlns:xlink=\"http://www.w3.org/1999/xlink\" width=\"842.76pt\" height=\"420.48pt\" viewBox=\"0 0 842.76 420.48\" xmlns=\"http://www.w3.org/2000/svg\" version=\"1.1\">\n",
       " <metadata>\n",
       "  <rdf:RDF xmlns:dc=\"http://purl.org/dc/elements/1.1/\" xmlns:cc=\"http://creativecommons.org/ns#\" xmlns:rdf=\"http://www.w3.org/1999/02/22-rdf-syntax-ns#\">\n",
       "   <cc:Work>\n",
       "    <dc:type rdf:resource=\"http://purl.org/dc/dcmitype/StillImage\"/>\n",
       "    <dc:date>2022-08-22T18:47:44.258356</dc:date>\n",
       "    <dc:format>image/svg+xml</dc:format>\n",
       "    <dc:creator>\n",
       "     <cc:Agent>\n",
       "      <dc:title>Matplotlib v3.5.3, https://matplotlib.org/</dc:title>\n",
       "     </cc:Agent>\n",
       "    </dc:creator>\n",
       "   </cc:Work>\n",
       "  </rdf:RDF>\n",
       " </metadata>\n",
       " <defs>\n",
       "  <style type=\"text/css\">*{stroke-linejoin: round; stroke-linecap: butt}</style>\n",
       " </defs>\n",
       " <g id=\"figure_1\">\n",
       "  <g id=\"patch_1\">\n",
       "   <path d=\"M 0 420.48 \n",
       "L 842.76 420.48 \n",
       "L 842.76 0 \n",
       "L 0 0 \n",
       "z\n",
       "\" style=\"fill: #ffffff\"/>\n",
       "  </g>\n",
       "  <g id=\"axes_1\">\n",
       "   <g clip-path=\"url(#pd0de98efec)\">\n",
       "    <image xlink:href=\"data:image/png;base64,\n",
       "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\" id=\"imagec0d3bfcc6a\" transform=\"matrix(2.035 0 0 -2.035 7.2 413.28)\" style=\"image-rendering:crisp-edges;image-rendering:pixelated\" width=\"200\" height=\"200\"/>\n",
       "   </g>\n",
       "  </g>\n",
       "  <g id=\"axes_2\">\n",
       "   <g clip-path=\"url(#p63975760cd)\">\n",
       "    <image xlink:href=\"data:image/png;base64,\n",
       "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\" id=\"imageb76cab6a9b\" transform=\"matrix(2.035 0 0 -2.035 429.48 413.28)\" style=\"image-rendering:crisp-edges;image-rendering:pixelated\" width=\"200\" height=\"200\"/>\n",
       "   </g>\n",
       "  </g>\n",
       " </g>\n",
       " <defs>\n",
       "  <clipPath id=\"pd0de98efec\">\n",
       "   <rect x=\"7.2\" y=\"7.2\" width=\"406.08\" height=\"406.08\"/>\n",
       "  </clipPath>\n",
       "  <clipPath id=\"p63975760cd\">\n",
       "   <rect x=\"429.48\" y=\"7.2\" width=\"406.08\" height=\"406.08\"/>\n",
       "  </clipPath>\n",
       " </defs>\n",
       "</svg>\n"
      ],
      "text/plain": [
       "<Figure size 1200x600 with 2 Axes>"
      ]
     },
     "metadata": {},
     "output_type": "display_data"
    }
   ],
   "source": [
    "fig, ax = plt.subplots(1, 2, figsize=[12, 6])\n",
    "ax[0].imshow((satn < 0.3)*(satn > 0)/im, interpolation='none', origin='lower')\n",
    "ax[0].axis(False)\n",
    "ax[1].imshow((satn < 0.8)*(satn > 0)/im, interpolation='none', origin='lower')\n",
    "ax[1].axis(False);"
   ]
  }
 ],
 "metadata": {
  "kernelspec": {
   "display_name": "Python 3 (ipykernel)",
   "language": "python",
   "name": "python3"
  },
  "language_info": {
   "codemirror_mode": {
    "name": "ipython",
    "version": 3
   },
   "file_extension": ".py",
   "mimetype": "text/x-python",
   "name": "python",
   "nbconvert_exporter": "python",
   "pygments_lexer": "ipython3",
   "version": "3.8.13"
  },
  "widgets": {
   "application/vnd.jupyter.widget-state+json": {
    "state": {
     "0e47709721bb4a8e9d1124b3c51cd039": {
      "model_module": "@jupyter-widgets/base",
      "model_module_version": "2.0.0",
      "model_name": "LayoutModel",
      "state": {
       "_model_module": "@jupyter-widgets/base",
       "_model_module_version": "2.0.0",
       "_model_name": "LayoutModel",
       "_view_count": null,
       "_view_module": "@jupyter-widgets/base",
       "_view_module_version": "2.0.0",
       "_view_name": "LayoutView",
       "align_content": null,
       "align_items": null,
       "align_self": null,
       "border_bottom": null,
       "border_left": null,
       "border_right": null,
       "border_top": null,
       "bottom": null,
       "display": null,
       "flex": null,
       "flex_flow": null,
       "grid_area": null,
       "grid_auto_columns": null,
       "grid_auto_flow": null,
       "grid_auto_rows": null,
       "grid_column": null,
       "grid_gap": null,
       "grid_row": null,
       "grid_template_areas": null,
       "grid_template_columns": null,
       "grid_template_rows": null,
       "height": null,
       "justify_content": null,
       "justify_items": null,
       "left": null,
       "margin": null,
       "max_height": null,
       "max_width": null,
       "min_height": null,
       "min_width": null,
       "object_fit": null,
       "object_position": null,
       "order": null,
       "overflow": null,
       "padding": null,
       "right": null,
       "top": null,
       "visibility": null,
       "width": null
      }
     },
     "13853a02857b409dbacc175358a35db8": {
      "model_module": "@jupyter-widgets/controls",
      "model_module_version": "2.0.0",
      "model_name": "HTMLStyleModel",
      "state": {
       "_model_module": "@jupyter-widgets/controls",
       "_model_module_version": "2.0.0",
       "_model_name": "HTMLStyleModel",
       "_view_count": null,
       "_view_module": "@jupyter-widgets/base",
       "_view_module_version": "2.0.0",
       "_view_name": "StyleView",
       "background": null,
       "description_width": "",
       "font_size": null,
       "text_color": null
      }
     },
     "1760c294beb846d2a253116e0085a620": {
      "model_module": "@jupyter-widgets/base",
      "model_module_version": "2.0.0",
      "model_name": "LayoutModel",
      "state": {
       "_model_module": "@jupyter-widgets/base",
       "_model_module_version": "2.0.0",
       "_model_name": "LayoutModel",
       "_view_count": null,
       "_view_module": "@jupyter-widgets/base",
       "_view_module_version": "2.0.0",
       "_view_name": "LayoutView",
       "align_content": null,
       "align_items": null,
       "align_self": null,
       "border_bottom": null,
       "border_left": null,
       "border_right": null,
       "border_top": null,
       "bottom": null,
       "display": null,
       "flex": null,
       "flex_flow": null,
       "grid_area": null,
       "grid_auto_columns": null,
       "grid_auto_flow": null,
       "grid_auto_rows": null,
       "grid_column": null,
       "grid_gap": null,
       "grid_row": null,
       "grid_template_areas": null,
       "grid_template_columns": null,
       "grid_template_rows": null,
       "height": null,
       "justify_content": null,
       "justify_items": null,
       "left": null,
       "margin": null,
       "max_height": null,
       "max_width": null,
       "min_height": null,
       "min_width": null,
       "object_fit": null,
       "object_position": null,
       "order": null,
       "overflow": null,
       "padding": null,
       "right": null,
       "top": null,
       "visibility": null,
       "width": null
      }
     },
     "2c8b300d524048b5aac05886c4f69347": {
      "model_module": "@jupyter-widgets/controls",
      "model_module_version": "2.0.0",
      "model_name": "HBoxModel",
      "state": {
       "_dom_classes": [],
       "_model_module": "@jupyter-widgets/controls",
       "_model_module_version": "2.0.0",
       "_model_name": "HBoxModel",
       "_view_count": null,
       "_view_module": "@jupyter-widgets/controls",
       "_view_module_version": "2.0.0",
       "_view_name": "HBoxView",
       "box_style": "",
       "children": [
        "IPY_MODEL_7c983312f3714a6fbde1c03defc1f63a",
        "IPY_MODEL_365e60afc81244a8895919d9d6020e2a",
        "IPY_MODEL_d60277de0d5e43c2923345672234eac1"
       ],
       "layout": "IPY_MODEL_e84cd3c4238341a2ab0b32f45979a7e0",
       "tabbable": null,
       "tooltip": null
      }
     },
     "3458fc83cd644125891e48d05e895738": {
      "model_module": "@jupyter-widgets/controls",
      "model_module_version": "2.0.0",
      "model_name": "FloatProgressModel",
      "state": {
       "_dom_classes": [],
       "_model_module": "@jupyter-widgets/controls",
       "_model_module_version": "2.0.0",
       "_model_name": "FloatProgressModel",
       "_view_count": null,
       "_view_module": "@jupyter-widgets/controls",
       "_view_module_version": "2.0.0",
       "_view_name": "ProgressView",
       "bar_style": "",
       "description": "",
       "description_allow_html": false,
       "layout": "IPY_MODEL_42db1df6d7bf42f59a276bc57d6bf74d",
       "max": 14.0,
       "min": 0.0,
       "orientation": "horizontal",
       "style": "IPY_MODEL_ae7fd523bca54a838adfa508d4e86b26",
       "tabbable": null,
       "tooltip": null,
       "value": 14.0
      }
     },
     "365e60afc81244a8895919d9d6020e2a": {
      "model_module": "@jupyter-widgets/controls",
      "model_module_version": "2.0.0",
      "model_name": "FloatProgressModel",
      "state": {
       "_dom_classes": [],
       "_model_module": "@jupyter-widgets/controls",
       "_model_module_version": "2.0.0",
       "_model_name": "FloatProgressModel",
       "_view_count": null,
       "_view_module": "@jupyter-widgets/controls",
       "_view_module_version": "2.0.0",
       "_view_name": "ProgressView",
       "bar_style": "",
       "description": "",
       "description_allow_html": false,
       "layout": "IPY_MODEL_0e47709721bb4a8e9d1124b3c51cd039",
       "max": 25.0,
       "min": 0.0,
       "orientation": "horizontal",
       "style": "IPY_MODEL_e628fa075e954180a06c7d5288968410",
       "tabbable": null,
       "tooltip": null,
       "value": 25.0
      }
     },
     "42db1df6d7bf42f59a276bc57d6bf74d": {
      "model_module": "@jupyter-widgets/base",
      "model_module_version": "2.0.0",
      "model_name": "LayoutModel",
      "state": {
       "_model_module": "@jupyter-widgets/base",
       "_model_module_version": "2.0.0",
       "_model_name": "LayoutModel",
       "_view_count": null,
       "_view_module": "@jupyter-widgets/base",
       "_view_module_version": "2.0.0",
       "_view_name": "LayoutView",
       "align_content": null,
       "align_items": null,
       "align_self": null,
       "border_bottom": null,
       "border_left": null,
       "border_right": null,
       "border_top": null,
       "bottom": null,
       "display": null,
       "flex": null,
       "flex_flow": null,
       "grid_area": null,
       "grid_auto_columns": null,
       "grid_auto_flow": null,
       "grid_auto_rows": null,
       "grid_column": null,
       "grid_gap": null,
       "grid_row": null,
       "grid_template_areas": null,
       "grid_template_columns": null,
       "grid_template_rows": null,
       "height": null,
       "justify_content": null,
       "justify_items": null,
       "left": null,
       "margin": null,
       "max_height": null,
       "max_width": null,
       "min_height": null,
       "min_width": null,
       "object_fit": null,
       "object_position": null,
       "order": null,
       "overflow": null,
       "padding": null,
       "right": null,
       "top": null,
       "visibility": null,
       "width": null
      }
     },
     "5fe0480aa9404f09bf56ff2399b0f45f": {
      "model_module": "@jupyter-widgets/controls",
      "model_module_version": "2.0.0",
      "model_name": "HBoxModel",
      "state": {
       "_dom_classes": [],
       "_model_module": "@jupyter-widgets/controls",
       "_model_module_version": "2.0.0",
       "_model_name": "HBoxModel",
       "_view_count": null,
       "_view_module": "@jupyter-widgets/controls",
       "_view_module_version": "2.0.0",
       "_view_name": "HBoxView",
       "box_style": "",
       "children": [
        "IPY_MODEL_ba08623b3574402983089c03b0025cb5",
        "IPY_MODEL_3458fc83cd644125891e48d05e895738",
        "IPY_MODEL_ac46a881afc2441c98ad2a8f5afc5754"
       ],
       "layout": "IPY_MODEL_dc45cdac62504045a766bae49bc5c3bb",
       "tabbable": null,
       "tooltip": null
      }
     },
     "7754cc482a324853927334905c71493f": {
      "model_module": "@jupyter-widgets/controls",
      "model_module_version": "2.0.0",
      "model_name": "HTMLStyleModel",
      "state": {
       "_model_module": "@jupyter-widgets/controls",
       "_model_module_version": "2.0.0",
       "_model_name": "HTMLStyleModel",
       "_view_count": null,
       "_view_module": "@jupyter-widgets/base",
       "_view_module_version": "2.0.0",
       "_view_name": "StyleView",
       "background": null,
       "description_width": "",
       "font_size": null,
       "text_color": null
      }
     },
     "7c983312f3714a6fbde1c03defc1f63a": {
      "model_module": "@jupyter-widgets/controls",
      "model_module_version": "2.0.0",
      "model_name": "HTMLModel",
      "state": {
       "_dom_classes": [],
       "_model_module": "@jupyter-widgets/controls",
       "_model_module_version": "2.0.0",
       "_model_name": "HTMLModel",
       "_view_count": null,
       "_view_module": "@jupyter-widgets/controls",
       "_view_module_version": "2.0.0",
       "_view_name": "HTMLView",
       "description": "",
       "description_allow_html": false,
       "layout": "IPY_MODEL_932611afbe1d4771bbd886c66d788a90",
       "placeholder": "​",
       "style": "IPY_MODEL_13853a02857b409dbacc175358a35db8",
       "tabbable": null,
       "tooltip": null,
       "value": "  4%"
      }
     },
     "8a48babe383b4d3691e46389020c1060": {
      "model_module": "@jupyter-widgets/controls",
      "model_module_version": "2.0.0",
      "model_name": "HTMLStyleModel",
      "state": {
       "_model_module": "@jupyter-widgets/controls",
       "_model_module_version": "2.0.0",
       "_model_name": "HTMLStyleModel",
       "_view_count": null,
       "_view_module": "@jupyter-widgets/base",
       "_view_module_version": "2.0.0",
       "_view_name": "StyleView",
       "background": null,
       "description_width": "",
       "font_size": null,
       "text_color": null
      }
     },
     "932611afbe1d4771bbd886c66d788a90": {
      "model_module": "@jupyter-widgets/base",
      "model_module_version": "2.0.0",
      "model_name": "LayoutModel",
      "state": {
       "_model_module": "@jupyter-widgets/base",
       "_model_module_version": "2.0.0",
       "_model_name": "LayoutModel",
       "_view_count": null,
       "_view_module": "@jupyter-widgets/base",
       "_view_module_version": "2.0.0",
       "_view_name": "LayoutView",
       "align_content": null,
       "align_items": null,
       "align_self": null,
       "border_bottom": null,
       "border_left": null,
       "border_right": null,
       "border_top": null,
       "bottom": null,
       "display": null,
       "flex": null,
       "flex_flow": null,
       "grid_area": null,
       "grid_auto_columns": null,
       "grid_auto_flow": null,
       "grid_auto_rows": null,
       "grid_column": null,
       "grid_gap": null,
       "grid_row": null,
       "grid_template_areas": null,
       "grid_template_columns": null,
       "grid_template_rows": null,
       "height": null,
       "justify_content": null,
       "justify_items": null,
       "left": null,
       "margin": null,
       "max_height": null,
       "max_width": null,
       "min_height": null,
       "min_width": null,
       "object_fit": null,
       "object_position": null,
       "order": null,
       "overflow": null,
       "padding": null,
       "right": null,
       "top": null,
       "visibility": null,
       "width": null
      }
     },
     "ac46a881afc2441c98ad2a8f5afc5754": {
      "model_module": "@jupyter-widgets/controls",
      "model_module_version": "2.0.0",
      "model_name": "HTMLModel",
      "state": {
       "_dom_classes": [],
       "_model_module": "@jupyter-widgets/controls",
       "_model_module_version": "2.0.0",
       "_model_name": "HTMLModel",
       "_view_count": null,
       "_view_module": "@jupyter-widgets/controls",
       "_view_module_version": "2.0.0",
       "_view_name": "HTMLView",
       "description": "",
       "description_allow_html": false,
       "layout": "IPY_MODEL_1760c294beb846d2a253116e0085a620",
       "placeholder": "​",
       "style": "IPY_MODEL_8a48babe383b4d3691e46389020c1060",
       "tabbable": null,
       "tooltip": null,
       "value": " 0/14 [00:00&lt;?, ?it/s]"
      }
     },
     "ae7fd523bca54a838adfa508d4e86b26": {
      "model_module": "@jupyter-widgets/controls",
      "model_module_version": "2.0.0",
      "model_name": "ProgressStyleModel",
      "state": {
       "_model_module": "@jupyter-widgets/controls",
       "_model_module_version": "2.0.0",
       "_model_name": "ProgressStyleModel",
       "_view_count": null,
       "_view_module": "@jupyter-widgets/base",
       "_view_module_version": "2.0.0",
       "_view_name": "StyleView",
       "bar_color": null,
       "description_width": ""
      }
     },
     "b6931b4a36254263b378405bb75b51b4": {
      "model_module": "@jupyter-widgets/controls",
      "model_module_version": "2.0.0",
      "model_name": "HTMLStyleModel",
      "state": {
       "_model_module": "@jupyter-widgets/controls",
       "_model_module_version": "2.0.0",
       "_model_name": "HTMLStyleModel",
       "_view_count": null,
       "_view_module": "@jupyter-widgets/base",
       "_view_module_version": "2.0.0",
       "_view_name": "StyleView",
       "background": null,
       "description_width": "",
       "font_size": null,
       "text_color": null
      }
     },
     "ba08623b3574402983089c03b0025cb5": {
      "model_module": "@jupyter-widgets/controls",
      "model_module_version": "2.0.0",
      "model_name": "HTMLModel",
      "state": {
       "_dom_classes": [],
       "_model_module": "@jupyter-widgets/controls",
       "_model_module_version": "2.0.0",
       "_model_name": "HTMLModel",
       "_view_count": null,
       "_view_module": "@jupyter-widgets/controls",
       "_view_module_version": "2.0.0",
       "_view_name": "HTMLView",
       "description": "",
       "description_allow_html": false,
       "layout": "IPY_MODEL_daa72632a0a14feea7d746251bb49e86",
       "placeholder": "​",
       "style": "IPY_MODEL_b6931b4a36254263b378405bb75b51b4",
       "tabbable": null,
       "tooltip": null,
       "value": "  0%"
      }
     },
     "d60277de0d5e43c2923345672234eac1": {
      "model_module": "@jupyter-widgets/controls",
      "model_module_version": "2.0.0",
      "model_name": "HTMLModel",
      "state": {
       "_dom_classes": [],
       "_model_module": "@jupyter-widgets/controls",
       "_model_module_version": "2.0.0",
       "_model_name": "HTMLModel",
       "_view_count": null,
       "_view_module": "@jupyter-widgets/controls",
       "_view_module_version": "2.0.0",
       "_view_name": "HTMLView",
       "description": "",
       "description_allow_html": false,
       "layout": "IPY_MODEL_d91253ca5c7547c1b22ab1fd5e12c221",
       "placeholder": "​",
       "style": "IPY_MODEL_7754cc482a324853927334905c71493f",
       "tabbable": null,
       "tooltip": null,
       "value": " 1/25 [00:01&lt;00:24,  1.02s/it]"
      }
     },
     "d91253ca5c7547c1b22ab1fd5e12c221": {
      "model_module": "@jupyter-widgets/base",
      "model_module_version": "2.0.0",
      "model_name": "LayoutModel",
      "state": {
       "_model_module": "@jupyter-widgets/base",
       "_model_module_version": "2.0.0",
       "_model_name": "LayoutModel",
       "_view_count": null,
       "_view_module": "@jupyter-widgets/base",
       "_view_module_version": "2.0.0",
       "_view_name": "LayoutView",
       "align_content": null,
       "align_items": null,
       "align_self": null,
       "border_bottom": null,
       "border_left": null,
       "border_right": null,
       "border_top": null,
       "bottom": null,
       "display": null,
       "flex": null,
       "flex_flow": null,
       "grid_area": null,
       "grid_auto_columns": null,
       "grid_auto_flow": null,
       "grid_auto_rows": null,
       "grid_column": null,
       "grid_gap": null,
       "grid_row": null,
       "grid_template_areas": null,
       "grid_template_columns": null,
       "grid_template_rows": null,
       "height": null,
       "justify_content": null,
       "justify_items": null,
       "left": null,
       "margin": null,
       "max_height": null,
       "max_width": null,
       "min_height": null,
       "min_width": null,
       "object_fit": null,
       "object_position": null,
       "order": null,
       "overflow": null,
       "padding": null,
       "right": null,
       "top": null,
       "visibility": null,
       "width": null
      }
     },
     "daa72632a0a14feea7d746251bb49e86": {
      "model_module": "@jupyter-widgets/base",
      "model_module_version": "2.0.0",
      "model_name": "LayoutModel",
      "state": {
       "_model_module": "@jupyter-widgets/base",
       "_model_module_version": "2.0.0",
       "_model_name": "LayoutModel",
       "_view_count": null,
       "_view_module": "@jupyter-widgets/base",
       "_view_module_version": "2.0.0",
       "_view_name": "LayoutView",
       "align_content": null,
       "align_items": null,
       "align_self": null,
       "border_bottom": null,
       "border_left": null,
       "border_right": null,
       "border_top": null,
       "bottom": null,
       "display": null,
       "flex": null,
       "flex_flow": null,
       "grid_area": null,
       "grid_auto_columns": null,
       "grid_auto_flow": null,
       "grid_auto_rows": null,
       "grid_column": null,
       "grid_gap": null,
       "grid_row": null,
       "grid_template_areas": null,
       "grid_template_columns": null,
       "grid_template_rows": null,
       "height": null,
       "justify_content": null,
       "justify_items": null,
       "left": null,
       "margin": null,
       "max_height": null,
       "max_width": null,
       "min_height": null,
       "min_width": null,
       "object_fit": null,
       "object_position": null,
       "order": null,
       "overflow": null,
       "padding": null,
       "right": null,
       "top": null,
       "visibility": null,
       "width": null
      }
     },
     "dc45cdac62504045a766bae49bc5c3bb": {
      "model_module": "@jupyter-widgets/base",
      "model_module_version": "2.0.0",
      "model_name": "LayoutModel",
      "state": {
       "_model_module": "@jupyter-widgets/base",
       "_model_module_version": "2.0.0",
       "_model_name": "LayoutModel",
       "_view_count": null,
       "_view_module": "@jupyter-widgets/base",
       "_view_module_version": "2.0.0",
       "_view_name": "LayoutView",
       "align_content": null,
       "align_items": null,
       "align_self": null,
       "border_bottom": null,
       "border_left": null,
       "border_right": null,
       "border_top": null,
       "bottom": null,
       "display": null,
       "flex": null,
       "flex_flow": null,
       "grid_area": null,
       "grid_auto_columns": null,
       "grid_auto_flow": null,
       "grid_auto_rows": null,
       "grid_column": null,
       "grid_gap": null,
       "grid_row": null,
       "grid_template_areas": null,
       "grid_template_columns": null,
       "grid_template_rows": null,
       "height": null,
       "justify_content": null,
       "justify_items": null,
       "left": null,
       "margin": null,
       "max_height": null,
       "max_width": null,
       "min_height": null,
       "min_width": null,
       "object_fit": null,
       "object_position": null,
       "order": null,
       "overflow": null,
       "padding": null,
       "right": null,
       "top": null,
       "visibility": null,
       "width": null
      }
     },
     "e628fa075e954180a06c7d5288968410": {
      "model_module": "@jupyter-widgets/controls",
      "model_module_version": "2.0.0",
      "model_name": "ProgressStyleModel",
      "state": {
       "_model_module": "@jupyter-widgets/controls",
       "_model_module_version": "2.0.0",
       "_model_name": "ProgressStyleModel",
       "_view_count": null,
       "_view_module": "@jupyter-widgets/base",
       "_view_module_version": "2.0.0",
       "_view_name": "StyleView",
       "bar_color": null,
       "description_width": ""
      }
     },
     "e84cd3c4238341a2ab0b32f45979a7e0": {
      "model_module": "@jupyter-widgets/base",
      "model_module_version": "2.0.0",
      "model_name": "LayoutModel",
      "state": {
       "_model_module": "@jupyter-widgets/base",
       "_model_module_version": "2.0.0",
       "_model_name": "LayoutModel",
       "_view_count": null,
       "_view_module": "@jupyter-widgets/base",
       "_view_module_version": "2.0.0",
       "_view_name": "LayoutView",
       "align_content": null,
       "align_items": null,
       "align_self": null,
       "border_bottom": null,
       "border_left": null,
       "border_right": null,
       "border_top": null,
       "bottom": null,
       "display": null,
       "flex": null,
       "flex_flow": null,
       "grid_area": null,
       "grid_auto_columns": null,
       "grid_auto_flow": null,
       "grid_auto_rows": null,
       "grid_column": null,
       "grid_gap": null,
       "grid_row": null,
       "grid_template_areas": null,
       "grid_template_columns": null,
       "grid_template_rows": null,
       "height": null,
       "justify_content": null,
       "justify_items": null,
       "left": null,
       "margin": null,
       "max_height": null,
       "max_width": null,
       "min_height": null,
       "min_width": null,
       "object_fit": null,
       "object_position": null,
       "order": null,
       "overflow": null,
       "padding": null,
       "right": null,
       "top": null,
       "visibility": null,
       "width": null
      }
     }
    },
    "version_major": 2,
    "version_minor": 0
   }
  }
 },
 "nbformat": 4,
 "nbformat_minor": 5
}

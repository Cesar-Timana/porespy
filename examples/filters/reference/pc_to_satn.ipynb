{
 "cells": [
  {
   "cell_type": "markdown",
   "id": "d279476c",
   "metadata": {},
   "source": [
    "# `pc_to_satn`\n",
    "Convert a capillary pressure map to saturation map."
   ]
  },
  {
   "cell_type": "code",
   "execution_count": 1,
   "id": "df328066",
   "metadata": {
    "execution": {
     "iopub.execute_input": "2022-08-12T21:46:56.130976Z",
     "iopub.status.busy": "2022-08-12T21:46:56.130687Z",
     "iopub.status.idle": "2022-08-12T21:46:58.092150Z",
     "shell.execute_reply": "2022-08-12T21:46:58.091416Z"
    }
   },
   "outputs": [],
   "source": [
    "import matplotlib.pyplot as plt\n",
    "import numpy as np\n",
    "import porespy as ps\n",
    "ps.visualization.set_mpl_style()"
   ]
  },
  {
   "cell_type": "markdown",
   "id": "9640b91d",
   "metadata": {},
   "source": [
    "The arguments and their defaults are:"
   ]
  },
  {
   "cell_type": "code",
   "execution_count": 2,
   "id": "da504252",
   "metadata": {
    "execution": {
     "iopub.execute_input": "2022-08-12T21:46:58.097954Z",
     "iopub.status.busy": "2022-08-12T21:46:58.096458Z",
     "iopub.status.idle": "2022-08-12T21:46:58.105141Z",
     "shell.execute_reply": "2022-08-12T21:46:58.104653Z"
    }
   },
   "outputs": [
    {
     "data": {
      "text/plain": [
       "<Signature (pc, im)>"
      ]
     },
     "execution_count": 2,
     "metadata": {},
     "output_type": "execute_result"
    }
   ],
   "source": [
    "import inspect\n",
    "inspect.signature(ps.filters.pc_to_satn)"
   ]
  },
  {
   "cell_type": "markdown",
   "id": "a49558cb",
   "metadata": {},
   "source": [
    "The capillary pressure map, such as that computed by ``ps.simulations.drainage``"
   ]
  },
  {
   "cell_type": "code",
   "execution_count": 3,
   "id": "567910b4",
   "metadata": {
    "execution": {
     "iopub.execute_input": "2022-08-12T21:46:58.109213Z",
     "iopub.status.busy": "2022-08-12T21:46:58.108190Z",
     "iopub.status.idle": "2022-08-12T21:46:59.192775Z",
     "shell.execute_reply": "2022-08-12T21:46:59.192204Z"
    }
   },
   "outputs": [
    {
     "data": {
      "application/vnd.jupyter.widget-view+json": {
       "model_id": "871ec2e5d1d7493e9e6a5e3e1a4d2056",
       "version_major": 2,
       "version_minor": 0
      },
      "text/plain": [
       "  0%|          | 0/25 [00:00<?, ?it/s]"
      ]
     },
     "metadata": {},
     "output_type": "display_data"
    },
    {
     "data": {
      "application/vnd.jupyter.widget-view+json": {
       "model_id": "c31ae249995a4101a42e350c7b398275",
       "version_major": 2,
       "version_minor": 0
      },
      "text/plain": [
       "  0%|          | 0/13 [00:00<?, ?it/s]"
      ]
     },
     "metadata": {},
     "output_type": "display_data"
    }
   ],
   "source": [
    "im = ps.generators.blobs(shape=[200, 200], porosity=0.6)\n",
    "drn = ps.simulations.drainage(im=im, voxel_size=1, g=0)"
   ]
  },
  {
   "cell_type": "markdown",
   "id": "639b2f06",
   "metadata": {},
   "source": [
    "## `pc` and `im`"
   ]
  },
  {
   "cell_type": "code",
   "execution_count": 4,
   "id": "45c9fb8b",
   "metadata": {
    "execution": {
     "iopub.execute_input": "2022-08-12T21:46:59.197346Z",
     "iopub.status.busy": "2022-08-12T21:46:59.196264Z",
     "iopub.status.idle": "2022-08-12T21:46:59.397023Z",
     "shell.execute_reply": "2022-08-12T21:46:59.396468Z"
    }
   },
   "outputs": [
    {
     "data": {
      "image/svg+xml": [
       "<?xml version=\"1.0\" encoding=\"utf-8\" standalone=\"no\"?>\n",
       "<!DOCTYPE svg PUBLIC \"-//W3C//DTD SVG 1.1//EN\"\n",
       "  \"http://www.w3.org/Graphics/SVG/1.1/DTD/svg11.dtd\">\n",
       "<svg xmlns:xlink=\"http://www.w3.org/1999/xlink\" width=\"848.7pt\" height=\"424.8pt\" viewBox=\"0 0 848.7 424.8\" xmlns=\"http://www.w3.org/2000/svg\" version=\"1.1\">\n",
       " <metadata>\n",
       "  <rdf:RDF xmlns:dc=\"http://purl.org/dc/elements/1.1/\" xmlns:cc=\"http://creativecommons.org/ns#\" xmlns:rdf=\"http://www.w3.org/1999/02/22-rdf-syntax-ns#\">\n",
       "   <cc:Work>\n",
       "    <dc:type rdf:resource=\"http://purl.org/dc/dcmitype/StillImage\"/>\n",
       "    <dc:date>2022-08-12T21:46:59.359728</dc:date>\n",
       "    <dc:format>image/svg+xml</dc:format>\n",
       "    <dc:creator>\n",
       "     <cc:Agent>\n",
       "      <dc:title>Matplotlib v3.5.3, https://matplotlib.org/</dc:title>\n",
       "     </cc:Agent>\n",
       "    </dc:creator>\n",
       "   </cc:Work>\n",
       "  </rdf:RDF>\n",
       " </metadata>\n",
       " <defs>\n",
       "  <style type=\"text/css\">*{stroke-linejoin: round; stroke-linecap: butt}</style>\n",
       " </defs>\n",
       " <g id=\"figure_1\">\n",
       "  <g id=\"patch_1\">\n",
       "   <path d=\"M 0 424.8 \n",
       "L 848.7 424.8 \n",
       "L 848.7 0 \n",
       "L 0 0 \n",
       "L 0 424.8 \n",
       "z\n",
       "\" style=\"fill: none\"/>\n",
       "  </g>\n",
       "  <g id=\"axes_1\">\n",
       "   <g clip-path=\"url(#paf5f2b9022)\">\n",
       "    <image xlink:href=\"data:image/png;base64,\n",
       "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\" id=\"imagef171c4c71b\" transform=\"matrix(2.055 0 0 -2.055 7.2 417.6)\" style=\"image-rendering:crisp-edges;image-rendering:pixelated\" width=\"200\" height=\"200\"/>\n",
       "   </g>\n",
       "  </g>\n",
       "  <g id=\"axes_2\">\n",
       "   <g clip-path=\"url(#p59ce7b862d)\">\n",
       "    <image xlink:href=\"data:image/png;base64,\n",
       "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\" id=\"imagea5eb6435c5\" transform=\"matrix(2.055 0 0 -2.055 431.1 417.6)\" style=\"image-rendering:crisp-edges;image-rendering:pixelated\" width=\"200\" height=\"200\"/>\n",
       "   </g>\n",
       "  </g>\n",
       " </g>\n",
       " <defs>\n",
       "  <clipPath id=\"paf5f2b9022\">\n",
       "   <rect x=\"7.2\" y=\"7.2\" width=\"410.4\" height=\"410.4\"/>\n",
       "  </clipPath>\n",
       "  <clipPath id=\"p59ce7b862d\">\n",
       "   <rect x=\"431.1\" y=\"7.2\" width=\"410.4\" height=\"410.4\"/>\n",
       "  </clipPath>\n",
       " </defs>\n",
       "</svg>\n"
      ],
      "text/plain": [
       "<Figure size 864x432 with 2 Axes>"
      ]
     },
     "metadata": {
      "needs_background": "light"
     },
     "output_type": "display_data"
    }
   ],
   "source": [
    "satn = ps.filters.pc_to_satn(pc=drn.im_pc, im=im)\n",
    "\n",
    "fig, ax = plt.subplots(1, 2, figsize=[12, 6])\n",
    "ax[0].imshow(drn.im_pc/im, interpolation='none', origin='lower')\n",
    "ax[0].axis(False)\n",
    "ax[1].imshow(satn/im, interpolation='none', origin='lower')\n",
    "ax[1].axis(False);"
   ]
  },
  {
   "cell_type": "markdown",
   "id": "d7be130c",
   "metadata": {},
   "source": [
    "The saturation image allows for easy determination of a desired fluid configuration:"
   ]
  },
  {
   "cell_type": "code",
   "execution_count": 5,
   "id": "70dced98",
   "metadata": {
    "execution": {
     "iopub.execute_input": "2022-08-12T21:46:59.402365Z",
     "iopub.status.busy": "2022-08-12T21:46:59.400862Z",
     "iopub.status.idle": "2022-08-12T21:46:59.516926Z",
     "shell.execute_reply": "2022-08-12T21:46:59.516359Z"
    }
   },
   "outputs": [
    {
     "data": {
      "image/svg+xml": [
       "<?xml version=\"1.0\" encoding=\"utf-8\" standalone=\"no\"?>\n",
       "<!DOCTYPE svg PUBLIC \"-//W3C//DTD SVG 1.1//EN\"\n",
       "  \"http://www.w3.org/Graphics/SVG/1.1/DTD/svg11.dtd\">\n",
       "<svg xmlns:xlink=\"http://www.w3.org/1999/xlink\" width=\"848.7pt\" height=\"424.8pt\" viewBox=\"0 0 848.7 424.8\" xmlns=\"http://www.w3.org/2000/svg\" version=\"1.1\">\n",
       " <metadata>\n",
       "  <rdf:RDF xmlns:dc=\"http://purl.org/dc/elements/1.1/\" xmlns:cc=\"http://creativecommons.org/ns#\" xmlns:rdf=\"http://www.w3.org/1999/02/22-rdf-syntax-ns#\">\n",
       "   <cc:Work>\n",
       "    <dc:type rdf:resource=\"http://purl.org/dc/dcmitype/StillImage\"/>\n",
       "    <dc:date>2022-08-12T21:46:59.502912</dc:date>\n",
       "    <dc:format>image/svg+xml</dc:format>\n",
       "    <dc:creator>\n",
       "     <cc:Agent>\n",
       "      <dc:title>Matplotlib v3.5.3, https://matplotlib.org/</dc:title>\n",
       "     </cc:Agent>\n",
       "    </dc:creator>\n",
       "   </cc:Work>\n",
       "  </rdf:RDF>\n",
       " </metadata>\n",
       " <defs>\n",
       "  <style type=\"text/css\">*{stroke-linejoin: round; stroke-linecap: butt}</style>\n",
       " </defs>\n",
       " <g id=\"figure_1\">\n",
       "  <g id=\"patch_1\">\n",
       "   <path d=\"M 0 424.8 \n",
       "L 848.7 424.8 \n",
       "L 848.7 0 \n",
       "L 0 0 \n",
       "L 0 424.8 \n",
       "z\n",
       "\" style=\"fill: none\"/>\n",
       "  </g>\n",
       "  <g id=\"axes_1\">\n",
       "   <g clip-path=\"url(#p6dc73bded1)\">\n",
       "    <image xlink:href=\"data:image/png;base64,\n",
       "iVBORw0KGgoAAAANSUhEUgAAAMgAAADICAYAAACtWK6eAAAM1UlEQVR4nO2d243dxhJF+0hKQvp2AApiACUwYU4CBiYIBaBvOQrj+MMgzKFJ9qsee1fXAgzcK+mQ3dW1u/pZfJQJ/v7rj+fM71fg89dfj9Hfvjxe3ez7/nwbLrc1vXba163220+jhUraYOxEmMShTQok+UCK4yMpEANGoojH8IpRHLN2qtU5BWJEj0isxfH+fHswimOEs3re1X3KKIzjaxT2k/cWO/749l28DOyiGOlI7up89rwUCBkzQmEXxJ7RKNtrgxQIKT1CiSSMUuzEUUopX0ZelPjz5++fVZEgCOPMmWfKZT0/ywhCzpVIvMXR6sg95ZwRx6g9MoIEhEUcx3/bO4FuZcYeGUECsI8iTOKwYNYeuQ8SCG9xoCFhjxRIAP78/dO7CKUUrOgh1VlMCWTmpKoUn7/+eiCUI4kJ7ST9KIrenelElojRoxSBIZZH7117Z0aVRAqROYilM/a8K0WSXNEa8aiGWCMO//nrr0cOuZKNvTC2/303JBNbxULurZHLlvhzF03EBKI9SZt18s9ffz00jownPIz4qOg+CLoDvj/fHtsEfv+fd7kSf67EQ7FRqC08dsH8+PbdfRfd+/0t1Mp4JhIRgewfLO3MHlGJTSQMzmlFzRa9IpkWyJnqpJx6e46HA7CIBKmc3kKVev/L4/W5+bXaEOvHt+/DQpn5bZLUaBXSy+P1OaW4nlWBlgN1d6Lw6J3Q90+QoscelpRFLeU02yhkiwj/Gu+ndzEoeX++PSxFMtp5tpSTYhWrFKzDcAigRg9rZkcWoRLHbZMnbbGkGDmQGnbfPYfqLNaeKyf2XkmxIKOHPFfDLaoI0oJVlEmusbC9Rkd49sxwAtkz0lDowkJf7EC3X42jSGiHWK28PF6fo73Nj2/fYe57a9Li1C02tBKH9jB6//zpF7H0GD2bQ/v/jyQQqTNXGjmmGJZ1R5iOINZr3tZEiiIS7XS8ZBS57UsRiCAbDIYaOc1ZCkYUmT2XxtA+PVhFEbFJeuTlVe+Jsff7V0bFqZF7q5n8r9aRRCoxNXJ7zGDRKass80aNJrOnjFs3+PI0cxsWwld1ZNSe60zAI2VtjSjH+YP2hyf3oLaBJJodcvh9EE1Ge/nZlb/WvZ0VxFFKW/qeUULvpF9xzI0U0ZEi1qlGb51b/v2SQywvjj2c1lAL3e5aH8ppef7ZO0Ke5k3whXBGb1IFyTpePetuyKoWQRgbzwJNB0Bndo4wc2as9tur36nMQVZq9MSOO4G9P98eGpN00QemMNqJfobtiPfe2GgEMctqogXrRHU1vAVSytgtVNqDbxbj2UQWyaP6kml+RD9/gOBYEoZG6NGSdo77VSN+eNbmollNoohD41mJDtIbufvJfEv7U50K1XRo77p5IXEuTaNdWsug3clRHXpD6/GlbLKv1+hav9SQo/d5km0iXQcJqARSCp5Ialjn75JKwCD9rNHnt+B+mhdFHIxYC7q2v8LWwXhzK5AUBifHeycpinEod3OzwfWxmINIr05JPauU/8pGeR+EUdRRidYWx2VlSoEkMUAbCSyRvDpJJEmBJKeg9e5epEAG2X9mIdo4fMNCJChCvGrDvHLbwZ0Q9n+H0ugSrHZv5QhlBLF2wN4oEc2htG7rMUAnEA9xjP4uolDO/py9nnflpxIIizikn4HEapGESiCWRHNsSaROE0ui9X4agTD3XN7OYwXjsLJW3vCrWGcGYBYbA1427/0eZVPqUQbFS17Qb32mtF1G72AgilkyPaiG/0mmNg0pEImLPtYNd/dOJJEw+IskNHMQa9CcEsExEcpgTbg5CHIj1sbItbvpoxegZiMTsk21CTfEkr7oY2Ef6YTLUs+w8o3epBWWUAikFL9EAx5OMvJuZCergbxDbyYQyVULy8mup0As3+8JYoe1oS4Q768JSYA8zIrAaBta2MZ1FUvilOgKDhSd0TbU7Bw334RY5k2RJAgi2USxfyaEQJJrkPZjtPHs6Ew/wbYne/c6K4mgxsimqKb9MoI409K4KSA/UiCO9Dj+aiJBGXmEO2qCymoOHgWTCILSG3ggmfAgRWZPDrEaGHVMDYdOkehw1YmbCYQ9ivQ6pvYmltazk4/kHKSD1iRqKziwx4WzOyQS3J1dRzAdYkX48lGtnFb18LJX65yKNdnc0UddjrtrHGD0aAyE++OjR+J7f3v2+1asPs6pkUcgh1gTMPWQZ2XtuYLAVFcpXh6vT5dVLI2hFvsigCcow0ZEcpk3KaXEWHXTeA+kQDKKtKEx5j7afuXoUYrjMm9vFjzv5yLheQsUHemEdCEn6QwiWS3aWSOVYBtyiCUBsgMily0yI3szYQWCSorDnx6RhBZIOuN/pC0+0iqS0AIpJR1jBqmv+CJdoe19T3iBlIIjEu9yzHyIdFQo3nWeZQmBlMLfUCi02nE0+YL16mPtfW65eSUSL2u+WwMUkUodVZdaSvVekr8rc8h9kBpSnwjbP8e7kaWYGYb1wmAzlyFWq2EsDdg7IT0bo+uUTB6EsjKIoxSCOYjXHYs7J2K6s9IDgnDQMBfIiJN43U67+8pT679HBTHNpxdnBzS3/6jmIBL3jnthcvpeItetF7fcvEmyBy161KASCHqPl3l240EzxEIQh9R3AD2GiuyMfuH37lktz6MQCIIzSd+0Y/7opiVXy+m99h+1sXlPZlUxSaz3Y6ze5YXURzs1TwRsQM9BEJwF7WzQStTa32LJHS5x3Mbq6/QInYMmiKlLz/4c8rAiy+ehtVlVJEg+GXI1JYI4NiK2zx60xYqj74QTSCRxlILhNKux9yGKZd5Wookj8WHfKUGvYiUpem9SIElyQxiBRO5pI9cNnTACiU6KxIcUSJLckAIhIqOIPaGWeSMQMVMKMykQR2YO4yU2pECMSafnIucghqQ4+AgjEHTnQy9fck4OsQxIcbSBdkeklBSIOimOOiOpaCWSZLc8I8wQC5EUhx49orrKzNnyjLwPogSyXdFu8pUy126z2frz8wfGMIpj+zvksl+h2SmGG2IxNnCCG70gewyJLxfNfBBHskdCsm9rvZCSJlhxVWe4CHJlJO2Ec/t/L/Fl1427SaIl3u9nBU4gd2iJxKrHRBBKC6t/w3HP1CRd6iOOd8+bRWPYNIv1ZBip7mwMRxCpoZDUe2tcDZs8x9sWjjv6jhTVv6gs8yIvF0okNJZE01bp5PMMC8Rr6KIpPC+HQu1QNnu0ZFhHLL8E0xHkTChMxkLpZaVFIlmvowhajm0w+cAdYkMsRoOgiIOFHnuNCAaxPb6ghvcVidwWiM7fwqdSeAufJNpQbRRKkp1C0gKdQCI7dtThFTOfSsFomMiO7wFCm0bgi7chR4QReTLLwtH+UTs4tyHW7FGLaA2iIXitTuTqyA5rp3VXbnOBSJ5BiiYSDSSdtkUErCK5wlQgGg7NcoT8Dm2nkujde37PHE2O0K1iXcEqFEtHGnnXjLMziKRWxjAC2UC/VupdhlaHl4oCCHaeIWRWE/QTpgjl8ohcjBE+XATpwasHt34nCox1N99PQL0/ol0uRufQAi2S3LUNzIabptF66ihdDhT7osEiEhiBbGgmbrAqA5pNUUETyRlwAimFSySI9mMCXSSQk3QNp5PMqbUtgWbqnnnQOxjICLLhHUlQ7lkjZmNHQbvjWE4gpXA5llQa/+ho+cqQQLTz5I6+pwcWZ7IaWrHY4w4NWzULxGtlZ2WReMw70G1SQ9pmTZN0iZeOXoyafa/n8xlJm3ykKhCNBGRIIJbJG2abSEfAqkDYQy4rzE4aCZcbhZL/LkmOSHbqIY+7a4CyJ2JB5Lr14rKTXosODNFDs4yI3+pjQ6oeTQJhOlKhcQTE62NB1kQRx4ZEfdyGWGe5rSQ/Jt/y7GgOMYr0HhWSXV8er88Zv3Kdg+yvxrJeWEL+rkcNre9JRkrsB3Gal/n+BasjoH1sVZOZukIIJOGgJ7USmohGRZICqXDX0CtFDzSHH2Gk3k1zkJHJWASD3sEqjhEitWXvfPdWIDO95/7vWQ2cK1+8bSfF/4ZY2zhT0jDaTqWV8/f4ZymO9fhieSGHxeAs5RylZRmWeWVREtN9EE2RRFp7b+Wsvr2rTKt8CGcUsZ3rHtA3Bb13iGv20e79JUDurHrsE1IgRySOUqCkaEVJpXoHsjhKIRBIKf69HHojljIvUC8bI9u21yZDcxBkA7TCMGdBL98KuO2kIzS+dxTTBsHGSIy0d1cEkTY409JvwsuMj7knaEYQSPSedrX8WpL1nVpOlMJbJNEFUgrPyuEImnW7nIOs4DQrgbJMLf0O7ffkcfeFsP5kgyZWEfFUINZGjNJoLLDb23K4mBGk+M+Bknas2yoFIoTGNQFNGKOIh21TIAKwiIIZLxunQBRgEQxjFLHmHwsGEpAMf6rsAAAAAElFTkSuQmCC\" id=\"image2ed2eb4759\" transform=\"matrix(2.055 0 0 -2.055 7.2 417.6)\" style=\"image-rendering:crisp-edges;image-rendering:pixelated\" width=\"200\" height=\"200\"/>\n",
       "   </g>\n",
       "  </g>\n",
       "  <g id=\"axes_2\">\n",
       "   <g clip-path=\"url(#p7d57c6e619)\">\n",
       "    <image xlink:href=\"data:image/png;base64,\n",
       "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\" id=\"imagebe6dd0a59c\" transform=\"matrix(2.055 0 0 -2.055 431.1 417.6)\" style=\"image-rendering:crisp-edges;image-rendering:pixelated\" width=\"200\" height=\"200\"/>\n",
       "   </g>\n",
       "  </g>\n",
       " </g>\n",
       " <defs>\n",
       "  <clipPath id=\"p6dc73bded1\">\n",
       "   <rect x=\"7.2\" y=\"7.2\" width=\"410.4\" height=\"410.4\"/>\n",
       "  </clipPath>\n",
       "  <clipPath id=\"p7d57c6e619\">\n",
       "   <rect x=\"431.1\" y=\"7.2\" width=\"410.4\" height=\"410.4\"/>\n",
       "  </clipPath>\n",
       " </defs>\n",
       "</svg>\n"
      ],
      "text/plain": [
       "<Figure size 864x432 with 2 Axes>"
      ]
     },
     "metadata": {
      "needs_background": "light"
     },
     "output_type": "display_data"
    }
   ],
   "source": [
    "fig, ax = plt.subplots(1, 2, figsize=[12, 6])\n",
    "ax[0].imshow((satn < 0.3)*(satn > 0)/im, interpolation='none', origin='lower')\n",
    "ax[0].axis(False)\n",
    "ax[1].imshow((satn < 0.8)*(satn > 0)/im, interpolation='none', origin='lower')\n",
    "ax[1].axis(False);"
   ]
  }
 ],
 "metadata": {
  "kernelspec": {
   "display_name": "Python 3 (ipykernel)",
   "language": "python",
   "name": "python3"
  },
  "language_info": {
   "codemirror_mode": {
    "name": "ipython",
    "version": 3
   },
   "file_extension": ".py",
   "mimetype": "text/x-python",
   "name": "python",
   "nbconvert_exporter": "python",
   "pygments_lexer": "ipython3",
   "version": "3.8.13"
  },
  "widgets": {
   "application/vnd.jupyter.widget-state+json": {
    "state": {
     "06727a29c30a49c092644cdf286fc7f8": {
      "model_module": "@jupyter-widgets/controls",
      "model_module_version": "1.5.0",
      "model_name": "HTMLModel",
      "state": {
       "_dom_classes": [],
       "_model_module": "@jupyter-widgets/controls",
       "_model_module_version": "1.5.0",
       "_model_name": "HTMLModel",
       "_view_count": null,
       "_view_module": "@jupyter-widgets/controls",
       "_view_module_version": "1.5.0",
       "_view_name": "HTMLView",
       "description": "",
       "description_tooltip": null,
       "layout": "IPY_MODEL_7d55d6d1a9394832ab9f5f0b2f324ebd",
       "placeholder": "​",
       "style": "IPY_MODEL_367087a3d8444f59b78c9c19d40062f7",
       "value": " 0/13 [00:00&lt;?, ?it/s]"
      }
     },
     "0ec977219198419580019dac368dd8fd": {
      "model_module": "@jupyter-widgets/controls",
      "model_module_version": "1.5.0",
      "model_name": "ProgressStyleModel",
      "state": {
       "_model_module": "@jupyter-widgets/controls",
       "_model_module_version": "1.5.0",
       "_model_name": "ProgressStyleModel",
       "_view_count": null,
       "_view_module": "@jupyter-widgets/base",
       "_view_module_version": "1.2.0",
       "_view_name": "StyleView",
       "bar_color": null,
       "description_width": ""
      }
     },
     "367087a3d8444f59b78c9c19d40062f7": {
      "model_module": "@jupyter-widgets/controls",
      "model_module_version": "1.5.0",
      "model_name": "DescriptionStyleModel",
      "state": {
       "_model_module": "@jupyter-widgets/controls",
       "_model_module_version": "1.5.0",
       "_model_name": "DescriptionStyleModel",
       "_view_count": null,
       "_view_module": "@jupyter-widgets/base",
       "_view_module_version": "1.2.0",
       "_view_name": "StyleView",
       "description_width": ""
      }
     },
     "38bc769ad1694be28c419234d01bb473": {
      "model_module": "@jupyter-widgets/base",
      "model_module_version": "1.2.0",
      "model_name": "LayoutModel",
      "state": {
       "_model_module": "@jupyter-widgets/base",
       "_model_module_version": "1.2.0",
       "_model_name": "LayoutModel",
       "_view_count": null,
       "_view_module": "@jupyter-widgets/base",
       "_view_module_version": "1.2.0",
       "_view_name": "LayoutView",
       "align_content": null,
       "align_items": null,
       "align_self": null,
       "border": null,
       "bottom": null,
       "display": null,
       "flex": null,
       "flex_flow": null,
       "grid_area": null,
       "grid_auto_columns": null,
       "grid_auto_flow": null,
       "grid_auto_rows": null,
       "grid_column": null,
       "grid_gap": null,
       "grid_row": null,
       "grid_template_areas": null,
       "grid_template_columns": null,
       "grid_template_rows": null,
       "height": null,
       "justify_content": null,
       "justify_items": null,
       "left": null,
       "margin": null,
       "max_height": null,
       "max_width": null,
       "min_height": null,
       "min_width": null,
       "object_fit": null,
       "object_position": null,
       "order": null,
       "overflow": null,
       "overflow_x": null,
       "overflow_y": null,
       "padding": null,
       "right": null,
       "top": null,
       "visibility": null,
       "width": null
      }
     },
     "472ecbe6db794f32baf0fd8032ee598e": {
      "model_module": "@jupyter-widgets/controls",
      "model_module_version": "1.5.0",
      "model_name": "HTMLModel",
      "state": {
       "_dom_classes": [],
       "_model_module": "@jupyter-widgets/controls",
       "_model_module_version": "1.5.0",
       "_model_name": "HTMLModel",
       "_view_count": null,
       "_view_module": "@jupyter-widgets/controls",
       "_view_module_version": "1.5.0",
       "_view_name": "HTMLView",
       "description": "",
       "description_tooltip": null,
       "layout": "IPY_MODEL_cba5413d423b432098ea1f6b5144fcc7",
       "placeholder": "​",
       "style": "IPY_MODEL_78132d11994b42e7a5d89c4913e2593c",
       "value": "  4%"
      }
     },
     "4a85354b7bff42ec885d9b69f8b469a4": {
      "model_module": "@jupyter-widgets/controls",
      "model_module_version": "1.5.0",
      "model_name": "ProgressStyleModel",
      "state": {
       "_model_module": "@jupyter-widgets/controls",
       "_model_module_version": "1.5.0",
       "_model_name": "ProgressStyleModel",
       "_view_count": null,
       "_view_module": "@jupyter-widgets/base",
       "_view_module_version": "1.2.0",
       "_view_name": "StyleView",
       "bar_color": null,
       "description_width": ""
      }
     },
     "629997984a0a48f785b9a3916a6bb4e8": {
      "model_module": "@jupyter-widgets/controls",
      "model_module_version": "1.5.0",
      "model_name": "HTMLModel",
      "state": {
       "_dom_classes": [],
       "_model_module": "@jupyter-widgets/controls",
       "_model_module_version": "1.5.0",
       "_model_name": "HTMLModel",
       "_view_count": null,
       "_view_module": "@jupyter-widgets/controls",
       "_view_module_version": "1.5.0",
       "_view_name": "HTMLView",
       "description": "",
       "description_tooltip": null,
       "layout": "IPY_MODEL_38bc769ad1694be28c419234d01bb473",
       "placeholder": "​",
       "style": "IPY_MODEL_b68f8d5b169440e4a7c03e054466b23e",
       "value": " 1/25 [00:00&lt;00:23,  1.01it/s]"
      }
     },
     "62bf5b0e275249bfb855ce9e11de3d58": {
      "model_module": "@jupyter-widgets/base",
      "model_module_version": "1.2.0",
      "model_name": "LayoutModel",
      "state": {
       "_model_module": "@jupyter-widgets/base",
       "_model_module_version": "1.2.0",
       "_model_name": "LayoutModel",
       "_view_count": null,
       "_view_module": "@jupyter-widgets/base",
       "_view_module_version": "1.2.0",
       "_view_name": "LayoutView",
       "align_content": null,
       "align_items": null,
       "align_self": null,
       "border": null,
       "bottom": null,
       "display": null,
       "flex": null,
       "flex_flow": null,
       "grid_area": null,
       "grid_auto_columns": null,
       "grid_auto_flow": null,
       "grid_auto_rows": null,
       "grid_column": null,
       "grid_gap": null,
       "grid_row": null,
       "grid_template_areas": null,
       "grid_template_columns": null,
       "grid_template_rows": null,
       "height": null,
       "justify_content": null,
       "justify_items": null,
       "left": null,
       "margin": null,
       "max_height": null,
       "max_width": null,
       "min_height": null,
       "min_width": null,
       "object_fit": null,
       "object_position": null,
       "order": null,
       "overflow": null,
       "overflow_x": null,
       "overflow_y": null,
       "padding": null,
       "right": null,
       "top": null,
       "visibility": null,
       "width": null
      }
     },
     "73534b686ddf4561b5b860dc00de3c8e": {
      "model_module": "@jupyter-widgets/base",
      "model_module_version": "1.2.0",
      "model_name": "LayoutModel",
      "state": {
       "_model_module": "@jupyter-widgets/base",
       "_model_module_version": "1.2.0",
       "_model_name": "LayoutModel",
       "_view_count": null,
       "_view_module": "@jupyter-widgets/base",
       "_view_module_version": "1.2.0",
       "_view_name": "LayoutView",
       "align_content": null,
       "align_items": null,
       "align_self": null,
       "border": null,
       "bottom": null,
       "display": null,
       "flex": null,
       "flex_flow": null,
       "grid_area": null,
       "grid_auto_columns": null,
       "grid_auto_flow": null,
       "grid_auto_rows": null,
       "grid_column": null,
       "grid_gap": null,
       "grid_row": null,
       "grid_template_areas": null,
       "grid_template_columns": null,
       "grid_template_rows": null,
       "height": null,
       "justify_content": null,
       "justify_items": null,
       "left": null,
       "margin": null,
       "max_height": null,
       "max_width": null,
       "min_height": null,
       "min_width": null,
       "object_fit": null,
       "object_position": null,
       "order": null,
       "overflow": null,
       "overflow_x": null,
       "overflow_y": null,
       "padding": null,
       "right": null,
       "top": null,
       "visibility": null,
       "width": null
      }
     },
     "7715434e919a4f74a6ad56e910b8c872": {
      "model_module": "@jupyter-widgets/controls",
      "model_module_version": "1.5.0",
      "model_name": "FloatProgressModel",
      "state": {
       "_dom_classes": [],
       "_model_module": "@jupyter-widgets/controls",
       "_model_module_version": "1.5.0",
       "_model_name": "FloatProgressModel",
       "_view_count": null,
       "_view_module": "@jupyter-widgets/controls",
       "_view_module_version": "1.5.0",
       "_view_name": "ProgressView",
       "bar_style": "",
       "description": "",
       "description_tooltip": null,
       "layout": "IPY_MODEL_8a0f80198995499b8924cfb80634be69",
       "max": 25.0,
       "min": 0.0,
       "orientation": "horizontal",
       "style": "IPY_MODEL_0ec977219198419580019dac368dd8fd",
       "value": 25.0
      }
     },
     "78132d11994b42e7a5d89c4913e2593c": {
      "model_module": "@jupyter-widgets/controls",
      "model_module_version": "1.5.0",
      "model_name": "DescriptionStyleModel",
      "state": {
       "_model_module": "@jupyter-widgets/controls",
       "_model_module_version": "1.5.0",
       "_model_name": "DescriptionStyleModel",
       "_view_count": null,
       "_view_module": "@jupyter-widgets/base",
       "_view_module_version": "1.2.0",
       "_view_name": "StyleView",
       "description_width": ""
      }
     },
     "7d55d6d1a9394832ab9f5f0b2f324ebd": {
      "model_module": "@jupyter-widgets/base",
      "model_module_version": "1.2.0",
      "model_name": "LayoutModel",
      "state": {
       "_model_module": "@jupyter-widgets/base",
       "_model_module_version": "1.2.0",
       "_model_name": "LayoutModel",
       "_view_count": null,
       "_view_module": "@jupyter-widgets/base",
       "_view_module_version": "1.2.0",
       "_view_name": "LayoutView",
       "align_content": null,
       "align_items": null,
       "align_self": null,
       "border": null,
       "bottom": null,
       "display": null,
       "flex": null,
       "flex_flow": null,
       "grid_area": null,
       "grid_auto_columns": null,
       "grid_auto_flow": null,
       "grid_auto_rows": null,
       "grid_column": null,
       "grid_gap": null,
       "grid_row": null,
       "grid_template_areas": null,
       "grid_template_columns": null,
       "grid_template_rows": null,
       "height": null,
       "justify_content": null,
       "justify_items": null,
       "left": null,
       "margin": null,
       "max_height": null,
       "max_width": null,
       "min_height": null,
       "min_width": null,
       "object_fit": null,
       "object_position": null,
       "order": null,
       "overflow": null,
       "overflow_x": null,
       "overflow_y": null,
       "padding": null,
       "right": null,
       "top": null,
       "visibility": null,
       "width": null
      }
     },
     "7fe03535f1724862bee64bf51de68ac1": {
      "model_module": "@jupyter-widgets/base",
      "model_module_version": "1.2.0",
      "model_name": "LayoutModel",
      "state": {
       "_model_module": "@jupyter-widgets/base",
       "_model_module_version": "1.2.0",
       "_model_name": "LayoutModel",
       "_view_count": null,
       "_view_module": "@jupyter-widgets/base",
       "_view_module_version": "1.2.0",
       "_view_name": "LayoutView",
       "align_content": null,
       "align_items": null,
       "align_self": null,
       "border": null,
       "bottom": null,
       "display": null,
       "flex": null,
       "flex_flow": null,
       "grid_area": null,
       "grid_auto_columns": null,
       "grid_auto_flow": null,
       "grid_auto_rows": null,
       "grid_column": null,
       "grid_gap": null,
       "grid_row": null,
       "grid_template_areas": null,
       "grid_template_columns": null,
       "grid_template_rows": null,
       "height": null,
       "justify_content": null,
       "justify_items": null,
       "left": null,
       "margin": null,
       "max_height": null,
       "max_width": null,
       "min_height": null,
       "min_width": null,
       "object_fit": null,
       "object_position": null,
       "order": null,
       "overflow": null,
       "overflow_x": null,
       "overflow_y": null,
       "padding": null,
       "right": null,
       "top": null,
       "visibility": null,
       "width": null
      }
     },
     "871ec2e5d1d7493e9e6a5e3e1a4d2056": {
      "model_module": "@jupyter-widgets/controls",
      "model_module_version": "1.5.0",
      "model_name": "HBoxModel",
      "state": {
       "_dom_classes": [],
       "_model_module": "@jupyter-widgets/controls",
       "_model_module_version": "1.5.0",
       "_model_name": "HBoxModel",
       "_view_count": null,
       "_view_module": "@jupyter-widgets/controls",
       "_view_module_version": "1.5.0",
       "_view_name": "HBoxView",
       "box_style": "",
       "children": [
        "IPY_MODEL_472ecbe6db794f32baf0fd8032ee598e",
        "IPY_MODEL_7715434e919a4f74a6ad56e910b8c872",
        "IPY_MODEL_629997984a0a48f785b9a3916a6bb4e8"
       ],
       "layout": "IPY_MODEL_62bf5b0e275249bfb855ce9e11de3d58"
      }
     },
     "8a0f80198995499b8924cfb80634be69": {
      "model_module": "@jupyter-widgets/base",
      "model_module_version": "1.2.0",
      "model_name": "LayoutModel",
      "state": {
       "_model_module": "@jupyter-widgets/base",
       "_model_module_version": "1.2.0",
       "_model_name": "LayoutModel",
       "_view_count": null,
       "_view_module": "@jupyter-widgets/base",
       "_view_module_version": "1.2.0",
       "_view_name": "LayoutView",
       "align_content": null,
       "align_items": null,
       "align_self": null,
       "border": null,
       "bottom": null,
       "display": null,
       "flex": null,
       "flex_flow": null,
       "grid_area": null,
       "grid_auto_columns": null,
       "grid_auto_flow": null,
       "grid_auto_rows": null,
       "grid_column": null,
       "grid_gap": null,
       "grid_row": null,
       "grid_template_areas": null,
       "grid_template_columns": null,
       "grid_template_rows": null,
       "height": null,
       "justify_content": null,
       "justify_items": null,
       "left": null,
       "margin": null,
       "max_height": null,
       "max_width": null,
       "min_height": null,
       "min_width": null,
       "object_fit": null,
       "object_position": null,
       "order": null,
       "overflow": null,
       "overflow_x": null,
       "overflow_y": null,
       "padding": null,
       "right": null,
       "top": null,
       "visibility": null,
       "width": null
      }
     },
     "9dd8b22a22204906b51b21b6adfdc188": {
      "model_module": "@jupyter-widgets/controls",
      "model_module_version": "1.5.0",
      "model_name": "DescriptionStyleModel",
      "state": {
       "_model_module": "@jupyter-widgets/controls",
       "_model_module_version": "1.5.0",
       "_model_name": "DescriptionStyleModel",
       "_view_count": null,
       "_view_module": "@jupyter-widgets/base",
       "_view_module_version": "1.2.0",
       "_view_name": "StyleView",
       "description_width": ""
      }
     },
     "ae2246cfe1044e869990753ee974b16d": {
      "model_module": "@jupyter-widgets/base",
      "model_module_version": "1.2.0",
      "model_name": "LayoutModel",
      "state": {
       "_model_module": "@jupyter-widgets/base",
       "_model_module_version": "1.2.0",
       "_model_name": "LayoutModel",
       "_view_count": null,
       "_view_module": "@jupyter-widgets/base",
       "_view_module_version": "1.2.0",
       "_view_name": "LayoutView",
       "align_content": null,
       "align_items": null,
       "align_self": null,
       "border": null,
       "bottom": null,
       "display": null,
       "flex": null,
       "flex_flow": null,
       "grid_area": null,
       "grid_auto_columns": null,
       "grid_auto_flow": null,
       "grid_auto_rows": null,
       "grid_column": null,
       "grid_gap": null,
       "grid_row": null,
       "grid_template_areas": null,
       "grid_template_columns": null,
       "grid_template_rows": null,
       "height": null,
       "justify_content": null,
       "justify_items": null,
       "left": null,
       "margin": null,
       "max_height": null,
       "max_width": null,
       "min_height": null,
       "min_width": null,
       "object_fit": null,
       "object_position": null,
       "order": null,
       "overflow": null,
       "overflow_x": null,
       "overflow_y": null,
       "padding": null,
       "right": null,
       "top": null,
       "visibility": null,
       "width": null
      }
     },
     "b68f8d5b169440e4a7c03e054466b23e": {
      "model_module": "@jupyter-widgets/controls",
      "model_module_version": "1.5.0",
      "model_name": "DescriptionStyleModel",
      "state": {
       "_model_module": "@jupyter-widgets/controls",
       "_model_module_version": "1.5.0",
       "_model_name": "DescriptionStyleModel",
       "_view_count": null,
       "_view_module": "@jupyter-widgets/base",
       "_view_module_version": "1.2.0",
       "_view_name": "StyleView",
       "description_width": ""
      }
     },
     "c31ae249995a4101a42e350c7b398275": {
      "model_module": "@jupyter-widgets/controls",
      "model_module_version": "1.5.0",
      "model_name": "HBoxModel",
      "state": {
       "_dom_classes": [],
       "_model_module": "@jupyter-widgets/controls",
       "_model_module_version": "1.5.0",
       "_model_name": "HBoxModel",
       "_view_count": null,
       "_view_module": "@jupyter-widgets/controls",
       "_view_module_version": "1.5.0",
       "_view_name": "HBoxView",
       "box_style": "",
       "children": [
        "IPY_MODEL_cbcb17ebc2724670b0e574d1453e9ff7",
        "IPY_MODEL_c992d8e22ab944f19ab44bd610534477",
        "IPY_MODEL_06727a29c30a49c092644cdf286fc7f8"
       ],
       "layout": "IPY_MODEL_7fe03535f1724862bee64bf51de68ac1"
      }
     },
     "c992d8e22ab944f19ab44bd610534477": {
      "model_module": "@jupyter-widgets/controls",
      "model_module_version": "1.5.0",
      "model_name": "FloatProgressModel",
      "state": {
       "_dom_classes": [],
       "_model_module": "@jupyter-widgets/controls",
       "_model_module_version": "1.5.0",
       "_model_name": "FloatProgressModel",
       "_view_count": null,
       "_view_module": "@jupyter-widgets/controls",
       "_view_module_version": "1.5.0",
       "_view_name": "ProgressView",
       "bar_style": "",
       "description": "",
       "description_tooltip": null,
       "layout": "IPY_MODEL_ae2246cfe1044e869990753ee974b16d",
       "max": 13.0,
       "min": 0.0,
       "orientation": "horizontal",
       "style": "IPY_MODEL_4a85354b7bff42ec885d9b69f8b469a4",
       "value": 13.0
      }
     },
     "cba5413d423b432098ea1f6b5144fcc7": {
      "model_module": "@jupyter-widgets/base",
      "model_module_version": "1.2.0",
      "model_name": "LayoutModel",
      "state": {
       "_model_module": "@jupyter-widgets/base",
       "_model_module_version": "1.2.0",
       "_model_name": "LayoutModel",
       "_view_count": null,
       "_view_module": "@jupyter-widgets/base",
       "_view_module_version": "1.2.0",
       "_view_name": "LayoutView",
       "align_content": null,
       "align_items": null,
       "align_self": null,
       "border": null,
       "bottom": null,
       "display": null,
       "flex": null,
       "flex_flow": null,
       "grid_area": null,
       "grid_auto_columns": null,
       "grid_auto_flow": null,
       "grid_auto_rows": null,
       "grid_column": null,
       "grid_gap": null,
       "grid_row": null,
       "grid_template_areas": null,
       "grid_template_columns": null,
       "grid_template_rows": null,
       "height": null,
       "justify_content": null,
       "justify_items": null,
       "left": null,
       "margin": null,
       "max_height": null,
       "max_width": null,
       "min_height": null,
       "min_width": null,
       "object_fit": null,
       "object_position": null,
       "order": null,
       "overflow": null,
       "overflow_x": null,
       "overflow_y": null,
       "padding": null,
       "right": null,
       "top": null,
       "visibility": null,
       "width": null
      }
     },
     "cbcb17ebc2724670b0e574d1453e9ff7": {
      "model_module": "@jupyter-widgets/controls",
      "model_module_version": "1.5.0",
      "model_name": "HTMLModel",
      "state": {
       "_dom_classes": [],
       "_model_module": "@jupyter-widgets/controls",
       "_model_module_version": "1.5.0",
       "_model_name": "HTMLModel",
       "_view_count": null,
       "_view_module": "@jupyter-widgets/controls",
       "_view_module_version": "1.5.0",
       "_view_name": "HTMLView",
       "description": "",
       "description_tooltip": null,
       "layout": "IPY_MODEL_73534b686ddf4561b5b860dc00de3c8e",
       "placeholder": "​",
       "style": "IPY_MODEL_9dd8b22a22204906b51b21b6adfdc188",
       "value": "  0%"
      }
     }
    },
    "version_major": 2,
    "version_minor": 0
   }
  }
 },
 "nbformat": 4,
 "nbformat_minor": 5
}

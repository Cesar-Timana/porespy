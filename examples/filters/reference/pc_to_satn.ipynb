{
 "cells": [
  {
   "cell_type": "markdown",
   "id": "d279476c",
   "metadata": {},
   "source": [
    "# `pc_to_satn`\n",
    "Convert a capillary pressure map to saturation map."
   ]
  },
  {
   "cell_type": "code",
   "execution_count": 1,
   "id": "df328066",
   "metadata": {
    "execution": {
     "iopub.execute_input": "2022-09-07T23:56:57.258829Z",
     "iopub.status.busy": "2022-09-07T23:56:57.258417Z",
     "iopub.status.idle": "2022-09-07T23:56:58.937027Z",
     "shell.execute_reply": "2022-09-07T23:56:58.936358Z"
    }
   },
   "outputs": [],
   "source": [
    "import matplotlib.pyplot as plt\n",
    "import numpy as np\n",
    "import porespy as ps\n",
    "ps.visualization.set_mpl_style()"
   ]
  },
  {
   "cell_type": "markdown",
   "id": "9640b91d",
   "metadata": {},
   "source": [
    "The arguments and their defaults are:"
   ]
  },
  {
   "cell_type": "code",
   "execution_count": 2,
   "id": "da504252",
   "metadata": {
    "execution": {
     "iopub.execute_input": "2022-09-07T23:56:58.941922Z",
     "iopub.status.busy": "2022-09-07T23:56:58.940565Z",
     "iopub.status.idle": "2022-09-07T23:56:58.948579Z",
     "shell.execute_reply": "2022-09-07T23:56:58.947989Z"
    }
   },
   "outputs": [
    {
     "data": {
      "text/plain": [
       "<Signature (pc, im)>"
      ]
     },
     "execution_count": 2,
     "metadata": {},
     "output_type": "execute_result"
    }
   ],
   "source": [
    "import inspect\n",
    "inspect.signature(ps.filters.pc_to_satn)"
   ]
  },
  {
   "cell_type": "markdown",
   "id": "a49558cb",
   "metadata": {},
   "source": [
    "The capillary pressure map, such as that computed by ``ps.simulations.drainage``"
   ]
  },
  {
   "cell_type": "code",
   "execution_count": 3,
   "id": "567910b4",
   "metadata": {
    "execution": {
     "iopub.execute_input": "2022-09-07T23:56:58.951863Z",
     "iopub.status.busy": "2022-09-07T23:56:58.951425Z",
     "iopub.status.idle": "2022-09-07T23:57:00.050191Z",
     "shell.execute_reply": "2022-09-07T23:57:00.049593Z"
    }
   },
   "outputs": [
    {
     "data": {
      "application/vnd.jupyter.widget-view+json": {
       "model_id": "3bb18495902e4f3f9331f061f09a8c24",
       "version_major": 2,
       "version_minor": 0
      },
      "text/plain": [
       "  0%|          | 0/25 [00:00<?, ?it/s]"
      ]
     },
     "metadata": {},
     "output_type": "display_data"
    },
    {
     "data": {
      "application/vnd.jupyter.widget-view+json": {
       "model_id": "2666eb937ac34641b1b4a2ed2e7ce513",
       "version_major": 2,
       "version_minor": 0
      },
      "text/plain": [
       "  0%|          | 0/13 [00:00<?, ?it/s]"
      ]
     },
     "metadata": {},
     "output_type": "display_data"
    }
   ],
   "source": [
    "im = ps.generators.blobs(shape=[200, 200], porosity=0.6)\n",
    "drn = ps.simulations.drainage(im=im, voxel_size=1, g=0)"
   ]
  },
  {
   "cell_type": "markdown",
   "id": "639b2f06",
   "metadata": {},
   "source": [
    "## `pc` and `im`"
   ]
  },
  {
   "cell_type": "code",
   "execution_count": 4,
   "id": "45c9fb8b",
   "metadata": {
    "execution": {
     "iopub.execute_input": "2022-09-07T23:57:00.053842Z",
     "iopub.status.busy": "2022-09-07T23:57:00.053599Z",
     "iopub.status.idle": "2022-09-07T23:57:00.176186Z",
     "shell.execute_reply": "2022-09-07T23:57:00.175579Z"
    }
   },
   "outputs": [
    {
     "data": {
      "image/svg+xml": [
       "<?xml version=\"1.0\" encoding=\"utf-8\" standalone=\"no\"?>\n",
       "<!DOCTYPE svg PUBLIC \"-//W3C//DTD SVG 1.1//EN\"\n",
       "  \"http://www.w3.org/Graphics/SVG/1.1/DTD/svg11.dtd\">\n",
       "<svg xmlns:xlink=\"http://www.w3.org/1999/xlink\" width=\"842.76pt\" height=\"420.48pt\" viewBox=\"0 0 842.76 420.48\" xmlns=\"http://www.w3.org/2000/svg\" version=\"1.1\">\n",
       " <metadata>\n",
       "  <rdf:RDF xmlns:dc=\"http://purl.org/dc/elements/1.1/\" xmlns:cc=\"http://creativecommons.org/ns#\" xmlns:rdf=\"http://www.w3.org/1999/02/22-rdf-syntax-ns#\">\n",
       "   <cc:Work>\n",
       "    <dc:type rdf:resource=\"http://purl.org/dc/dcmitype/StillImage\"/>\n",
       "    <dc:date>2022-09-07T23:57:00.156548</dc:date>\n",
       "    <dc:format>image/svg+xml</dc:format>\n",
       "    <dc:creator>\n",
       "     <cc:Agent>\n",
       "      <dc:title>Matplotlib v3.5.3, https://matplotlib.org/</dc:title>\n",
       "     </cc:Agent>\n",
       "    </dc:creator>\n",
       "   </cc:Work>\n",
       "  </rdf:RDF>\n",
       " </metadata>\n",
       " <defs>\n",
       "  <style type=\"text/css\">*{stroke-linejoin: round; stroke-linecap: butt}</style>\n",
       " </defs>\n",
       " <g id=\"figure_1\">\n",
       "  <g id=\"patch_1\">\n",
       "   <path d=\"M 0 420.48 \n",
       "L 842.76 420.48 \n",
       "L 842.76 0 \n",
       "L 0 0 \n",
       "z\n",
       "\" style=\"fill: #ffffff\"/>\n",
       "  </g>\n",
       "  <g id=\"axes_1\">\n",
       "   <g clip-path=\"url(#p1c20944086)\">\n",
       "    <image xlink:href=\"data:image/png;base64,\n",
       "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\" id=\"image0aa917076e\" transform=\"matrix(2.035 0 0 -2.035 7.2 413.28)\" style=\"image-rendering:crisp-edges;image-rendering:pixelated\" width=\"200\" height=\"200\"/>\n",
       "   </g>\n",
       "  </g>\n",
       "  <g id=\"axes_2\">\n",
       "   <g clip-path=\"url(#p1541ef2f6b)\">\n",
       "    <image xlink:href=\"data:image/png;base64,\n",
       "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\" id=\"imageec3f6f7c04\" transform=\"matrix(2.035 0 0 -2.035 429.48 413.28)\" style=\"image-rendering:crisp-edges;image-rendering:pixelated\" width=\"200\" height=\"200\"/>\n",
       "   </g>\n",
       "  </g>\n",
       " </g>\n",
       " <defs>\n",
       "  <clipPath id=\"p1c20944086\">\n",
       "   <rect x=\"7.2\" y=\"7.2\" width=\"406.08\" height=\"406.08\"/>\n",
       "  </clipPath>\n",
       "  <clipPath id=\"p1541ef2f6b\">\n",
       "   <rect x=\"429.48\" y=\"7.2\" width=\"406.08\" height=\"406.08\"/>\n",
       "  </clipPath>\n",
       " </defs>\n",
       "</svg>\n"
      ],
      "text/plain": [
       "<Figure size 1200x600 with 2 Axes>"
      ]
     },
     "metadata": {},
     "output_type": "display_data"
    }
   ],
   "source": [
    "satn = ps.filters.pc_to_satn(pc=drn.im_pc, im=im)\n",
    "\n",
    "fig, ax = plt.subplots(1, 2, figsize=[12, 6])\n",
    "ax[0].imshow(drn.im_pc/im, interpolation='none', origin='lower')\n",
    "ax[0].axis(False)\n",
    "ax[1].imshow(satn/im, interpolation='none', origin='lower')\n",
    "ax[1].axis(False);"
   ]
  },
  {
   "cell_type": "markdown",
   "id": "d7be130c",
   "metadata": {},
   "source": [
    "The saturation image allows for easy determination of a desired fluid configuration:"
   ]
  },
  {
   "cell_type": "code",
   "execution_count": 5,
   "id": "70dced98",
   "metadata": {
    "execution": {
     "iopub.execute_input": "2022-09-07T23:57:00.179564Z",
     "iopub.status.busy": "2022-09-07T23:57:00.179333Z",
     "iopub.status.idle": "2022-09-07T23:57:00.319523Z",
     "shell.execute_reply": "2022-09-07T23:57:00.318937Z"
    }
   },
   "outputs": [
    {
     "data": {
      "image/svg+xml": [
       "<?xml version=\"1.0\" encoding=\"utf-8\" standalone=\"no\"?>\n",
       "<!DOCTYPE svg PUBLIC \"-//W3C//DTD SVG 1.1//EN\"\n",
       "  \"http://www.w3.org/Graphics/SVG/1.1/DTD/svg11.dtd\">\n",
       "<svg xmlns:xlink=\"http://www.w3.org/1999/xlink\" width=\"842.76pt\" height=\"420.48pt\" viewBox=\"0 0 842.76 420.48\" xmlns=\"http://www.w3.org/2000/svg\" version=\"1.1\">\n",
       " <metadata>\n",
       "  <rdf:RDF xmlns:dc=\"http://purl.org/dc/elements/1.1/\" xmlns:cc=\"http://creativecommons.org/ns#\" xmlns:rdf=\"http://www.w3.org/1999/02/22-rdf-syntax-ns#\">\n",
       "   <cc:Work>\n",
       "    <dc:type rdf:resource=\"http://purl.org/dc/dcmitype/StillImage\"/>\n",
       "    <dc:date>2022-09-07T23:57:00.291465</dc:date>\n",
       "    <dc:format>image/svg+xml</dc:format>\n",
       "    <dc:creator>\n",
       "     <cc:Agent>\n",
       "      <dc:title>Matplotlib v3.5.3, https://matplotlib.org/</dc:title>\n",
       "     </cc:Agent>\n",
       "    </dc:creator>\n",
       "   </cc:Work>\n",
       "  </rdf:RDF>\n",
       " </metadata>\n",
       " <defs>\n",
       "  <style type=\"text/css\">*{stroke-linejoin: round; stroke-linecap: butt}</style>\n",
       " </defs>\n",
       " <g id=\"figure_1\">\n",
       "  <g id=\"patch_1\">\n",
       "   <path d=\"M 0 420.48 \n",
       "L 842.76 420.48 \n",
       "L 842.76 0 \n",
       "L 0 0 \n",
       "z\n",
       "\" style=\"fill: #ffffff\"/>\n",
       "  </g>\n",
       "  <g id=\"axes_1\">\n",
       "   <g clip-path=\"url(#pb6a23aa8fa)\">\n",
       "    <image xlink:href=\"data:image/png;base64,\n",
       "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\" id=\"image854492d9a1\" transform=\"matrix(2.035 0 0 -2.035 7.2 413.28)\" style=\"image-rendering:crisp-edges;image-rendering:pixelated\" width=\"200\" height=\"200\"/>\n",
       "   </g>\n",
       "  </g>\n",
       "  <g id=\"axes_2\">\n",
       "   <g clip-path=\"url(#pde3d4df5a4)\">\n",
       "    <image xlink:href=\"data:image/png;base64,\n",
       "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\" id=\"image363570b657\" transform=\"matrix(2.035 0 0 -2.035 429.48 413.28)\" style=\"image-rendering:crisp-edges;image-rendering:pixelated\" width=\"200\" height=\"200\"/>\n",
       "   </g>\n",
       "  </g>\n",
       " </g>\n",
       " <defs>\n",
       "  <clipPath id=\"pb6a23aa8fa\">\n",
       "   <rect x=\"7.2\" y=\"7.2\" width=\"406.08\" height=\"406.08\"/>\n",
       "  </clipPath>\n",
       "  <clipPath id=\"pde3d4df5a4\">\n",
       "   <rect x=\"429.48\" y=\"7.2\" width=\"406.08\" height=\"406.08\"/>\n",
       "  </clipPath>\n",
       " </defs>\n",
       "</svg>\n"
      ],
      "text/plain": [
       "<Figure size 1200x600 with 2 Axes>"
      ]
     },
     "metadata": {},
     "output_type": "display_data"
    }
   ],
   "source": [
    "fig, ax = plt.subplots(1, 2, figsize=[12, 6])\n",
    "ax[0].imshow((satn < 0.3)*(satn > 0)/im, interpolation='none', origin='lower')\n",
    "ax[0].axis(False)\n",
    "ax[1].imshow((satn < 0.8)*(satn > 0)/im, interpolation='none', origin='lower')\n",
    "ax[1].axis(False);"
   ]
  }
 ],
 "metadata": {
  "kernelspec": {
   "display_name": "Python 3 (ipykernel)",
   "language": "python",
   "name": "python3"
  },
  "language_info": {
   "codemirror_mode": {
    "name": "ipython",
    "version": 3
   },
   "file_extension": ".py",
   "mimetype": "text/x-python",
   "name": "python",
   "nbconvert_exporter": "python",
   "pygments_lexer": "ipython3",
   "version": "3.8.13"
  },
  "widgets": {
   "application/vnd.jupyter.widget-state+json": {
    "state": {
     "043664d977484b8e9d16158fd945c35b": {
      "model_module": "@jupyter-widgets/base",
      "model_module_version": "2.0.0",
      "model_name": "LayoutModel",
      "state": {
       "_model_module": "@jupyter-widgets/base",
       "_model_module_version": "2.0.0",
       "_model_name": "LayoutModel",
       "_view_count": null,
       "_view_module": "@jupyter-widgets/base",
       "_view_module_version": "2.0.0",
       "_view_name": "LayoutView",
       "align_content": null,
       "align_items": null,
       "align_self": null,
       "border_bottom": null,
       "border_left": null,
       "border_right": null,
       "border_top": null,
       "bottom": null,
       "display": null,
       "flex": null,
       "flex_flow": null,
       "grid_area": null,
       "grid_auto_columns": null,
       "grid_auto_flow": null,
       "grid_auto_rows": null,
       "grid_column": null,
       "grid_gap": null,
       "grid_row": null,
       "grid_template_areas": null,
       "grid_template_columns": null,
       "grid_template_rows": null,
       "height": null,
       "justify_content": null,
       "justify_items": null,
       "left": null,
       "margin": null,
       "max_height": null,
       "max_width": null,
       "min_height": null,
       "min_width": null,
       "object_fit": null,
       "object_position": null,
       "order": null,
       "overflow": null,
       "padding": null,
       "right": null,
       "top": null,
       "visibility": null,
       "width": null
      }
     },
     "04ef95d0f3d04c9b9341e4fa5a497097": {
      "model_module": "@jupyter-widgets/controls",
      "model_module_version": "2.0.0",
      "model_name": "ProgressStyleModel",
      "state": {
       "_model_module": "@jupyter-widgets/controls",
       "_model_module_version": "2.0.0",
       "_model_name": "ProgressStyleModel",
       "_view_count": null,
       "_view_module": "@jupyter-widgets/base",
       "_view_module_version": "2.0.0",
       "_view_name": "StyleView",
       "bar_color": null,
       "description_width": ""
      }
     },
     "05ee49fc4547417bba1f0532098dbc97": {
      "model_module": "@jupyter-widgets/base",
      "model_module_version": "2.0.0",
      "model_name": "LayoutModel",
      "state": {
       "_model_module": "@jupyter-widgets/base",
       "_model_module_version": "2.0.0",
       "_model_name": "LayoutModel",
       "_view_count": null,
       "_view_module": "@jupyter-widgets/base",
       "_view_module_version": "2.0.0",
       "_view_name": "LayoutView",
       "align_content": null,
       "align_items": null,
       "align_self": null,
       "border_bottom": null,
       "border_left": null,
       "border_right": null,
       "border_top": null,
       "bottom": null,
       "display": null,
       "flex": null,
       "flex_flow": null,
       "grid_area": null,
       "grid_auto_columns": null,
       "grid_auto_flow": null,
       "grid_auto_rows": null,
       "grid_column": null,
       "grid_gap": null,
       "grid_row": null,
       "grid_template_areas": null,
       "grid_template_columns": null,
       "grid_template_rows": null,
       "height": null,
       "justify_content": null,
       "justify_items": null,
       "left": null,
       "margin": null,
       "max_height": null,
       "max_width": null,
       "min_height": null,
       "min_width": null,
       "object_fit": null,
       "object_position": null,
       "order": null,
       "overflow": null,
       "padding": null,
       "right": null,
       "top": null,
       "visibility": "hidden",
       "width": null
      }
     },
     "1876bcd4910f431186d6859146a59395": {
      "model_module": "@jupyter-widgets/controls",
      "model_module_version": "2.0.0",
      "model_name": "HTMLModel",
      "state": {
       "_dom_classes": [],
       "_model_module": "@jupyter-widgets/controls",
       "_model_module_version": "2.0.0",
       "_model_name": "HTMLModel",
       "_view_count": null,
       "_view_module": "@jupyter-widgets/controls",
       "_view_module_version": "2.0.0",
       "_view_name": "HTMLView",
       "description": "",
       "description_allow_html": false,
       "layout": "IPY_MODEL_c92400e904c94e679235ceee950ed76d",
       "placeholder": "​",
       "style": "IPY_MODEL_93cd710b677b4a14b68497dfe315c817",
       "tabbable": null,
       "tooltip": null,
       "value": " 0/13 [00:00&lt;?, ?it/s]"
      }
     },
     "2666eb937ac34641b1b4a2ed2e7ce513": {
      "model_module": "@jupyter-widgets/controls",
      "model_module_version": "2.0.0",
      "model_name": "HBoxModel",
      "state": {
       "_dom_classes": [],
       "_model_module": "@jupyter-widgets/controls",
       "_model_module_version": "2.0.0",
       "_model_name": "HBoxModel",
       "_view_count": null,
       "_view_module": "@jupyter-widgets/controls",
       "_view_module_version": "2.0.0",
       "_view_name": "HBoxView",
       "box_style": "",
       "children": [
        "IPY_MODEL_785bcee1c4144134a1afdcd2ceffdddf",
        "IPY_MODEL_51cb53a8718746aeba1d7d9029e4af68",
        "IPY_MODEL_1876bcd4910f431186d6859146a59395"
       ],
       "layout": "IPY_MODEL_be8cfe46ff784592b5c199bb915d5376",
       "tabbable": null,
       "tooltip": null
      }
     },
     "3bb18495902e4f3f9331f061f09a8c24": {
      "model_module": "@jupyter-widgets/controls",
      "model_module_version": "2.0.0",
      "model_name": "HBoxModel",
      "state": {
       "_dom_classes": [],
       "_model_module": "@jupyter-widgets/controls",
       "_model_module_version": "2.0.0",
       "_model_name": "HBoxModel",
       "_view_count": null,
       "_view_module": "@jupyter-widgets/controls",
       "_view_module_version": "2.0.0",
       "_view_name": "HBoxView",
       "box_style": "",
       "children": [
        "IPY_MODEL_c6af31458a9c48febe75b2c7169f30ed",
        "IPY_MODEL_730ad677784045699a909ca5b962d2c7",
        "IPY_MODEL_862c783a038a43738e8910fa418aec37"
       ],
       "layout": "IPY_MODEL_05ee49fc4547417bba1f0532098dbc97",
       "tabbable": null,
       "tooltip": null
      }
     },
     "51cb53a8718746aeba1d7d9029e4af68": {
      "model_module": "@jupyter-widgets/controls",
      "model_module_version": "2.0.0",
      "model_name": "FloatProgressModel",
      "state": {
       "_dom_classes": [],
       "_model_module": "@jupyter-widgets/controls",
       "_model_module_version": "2.0.0",
       "_model_name": "FloatProgressModel",
       "_view_count": null,
       "_view_module": "@jupyter-widgets/controls",
       "_view_module_version": "2.0.0",
       "_view_name": "ProgressView",
       "bar_style": "",
       "description": "",
       "description_allow_html": false,
       "layout": "IPY_MODEL_d83682f056e349458a3c323e81444a4c",
       "max": 13.0,
       "min": 0.0,
       "orientation": "horizontal",
       "style": "IPY_MODEL_04ef95d0f3d04c9b9341e4fa5a497097",
       "tabbable": null,
       "tooltip": null,
       "value": 13.0
      }
     },
     "57e02270abf040f6babd470dd580ee12": {
      "model_module": "@jupyter-widgets/controls",
      "model_module_version": "2.0.0",
      "model_name": "HTMLStyleModel",
      "state": {
       "_model_module": "@jupyter-widgets/controls",
       "_model_module_version": "2.0.0",
       "_model_name": "HTMLStyleModel",
       "_view_count": null,
       "_view_module": "@jupyter-widgets/base",
       "_view_module_version": "2.0.0",
       "_view_name": "StyleView",
       "background": null,
       "description_width": "",
       "font_size": null,
       "text_color": null
      }
     },
     "730ad677784045699a909ca5b962d2c7": {
      "model_module": "@jupyter-widgets/controls",
      "model_module_version": "2.0.0",
      "model_name": "FloatProgressModel",
      "state": {
       "_dom_classes": [],
       "_model_module": "@jupyter-widgets/controls",
       "_model_module_version": "2.0.0",
       "_model_name": "FloatProgressModel",
       "_view_count": null,
       "_view_module": "@jupyter-widgets/controls",
       "_view_module_version": "2.0.0",
       "_view_name": "ProgressView",
       "bar_style": "",
       "description": "",
       "description_allow_html": false,
       "layout": "IPY_MODEL_043664d977484b8e9d16158fd945c35b",
       "max": 25.0,
       "min": 0.0,
       "orientation": "horizontal",
       "style": "IPY_MODEL_c18ea9aa00e74a0d88f8022f9023b52e",
       "tabbable": null,
       "tooltip": null,
       "value": 25.0
      }
     },
     "785bcee1c4144134a1afdcd2ceffdddf": {
      "model_module": "@jupyter-widgets/controls",
      "model_module_version": "2.0.0",
      "model_name": "HTMLModel",
      "state": {
       "_dom_classes": [],
       "_model_module": "@jupyter-widgets/controls",
       "_model_module_version": "2.0.0",
       "_model_name": "HTMLModel",
       "_view_count": null,
       "_view_module": "@jupyter-widgets/controls",
       "_view_module_version": "2.0.0",
       "_view_name": "HTMLView",
       "description": "",
       "description_allow_html": false,
       "layout": "IPY_MODEL_f6f55f1117cb4c6a9254d249aecc947b",
       "placeholder": "​",
       "style": "IPY_MODEL_57e02270abf040f6babd470dd580ee12",
       "tabbable": null,
       "tooltip": null,
       "value": "  0%"
      }
     },
     "862c783a038a43738e8910fa418aec37": {
      "model_module": "@jupyter-widgets/controls",
      "model_module_version": "2.0.0",
      "model_name": "HTMLModel",
      "state": {
       "_dom_classes": [],
       "_model_module": "@jupyter-widgets/controls",
       "_model_module_version": "2.0.0",
       "_model_name": "HTMLModel",
       "_view_count": null,
       "_view_module": "@jupyter-widgets/controls",
       "_view_module_version": "2.0.0",
       "_view_name": "HTMLView",
       "description": "",
       "description_allow_html": false,
       "layout": "IPY_MODEL_bad1c6dab8d14fb39c0d38630f4f002b",
       "placeholder": "​",
       "style": "IPY_MODEL_d4af8043572046a1bb980a0d2e918962",
       "tabbable": null,
       "tooltip": null,
       "value": " 1/25 [00:00&lt;00:22,  1.06it/s]"
      }
     },
     "8e719b55c5ed4707b5afe03f26c5f8b7": {
      "model_module": "@jupyter-widgets/controls",
      "model_module_version": "2.0.0",
      "model_name": "HTMLStyleModel",
      "state": {
       "_model_module": "@jupyter-widgets/controls",
       "_model_module_version": "2.0.0",
       "_model_name": "HTMLStyleModel",
       "_view_count": null,
       "_view_module": "@jupyter-widgets/base",
       "_view_module_version": "2.0.0",
       "_view_name": "StyleView",
       "background": null,
       "description_width": "",
       "font_size": null,
       "text_color": null
      }
     },
     "93cd710b677b4a14b68497dfe315c817": {
      "model_module": "@jupyter-widgets/controls",
      "model_module_version": "2.0.0",
      "model_name": "HTMLStyleModel",
      "state": {
       "_model_module": "@jupyter-widgets/controls",
       "_model_module_version": "2.0.0",
       "_model_name": "HTMLStyleModel",
       "_view_count": null,
       "_view_module": "@jupyter-widgets/base",
       "_view_module_version": "2.0.0",
       "_view_name": "StyleView",
       "background": null,
       "description_width": "",
       "font_size": null,
       "text_color": null
      }
     },
     "bad1c6dab8d14fb39c0d38630f4f002b": {
      "model_module": "@jupyter-widgets/base",
      "model_module_version": "2.0.0",
      "model_name": "LayoutModel",
      "state": {
       "_model_module": "@jupyter-widgets/base",
       "_model_module_version": "2.0.0",
       "_model_name": "LayoutModel",
       "_view_count": null,
       "_view_module": "@jupyter-widgets/base",
       "_view_module_version": "2.0.0",
       "_view_name": "LayoutView",
       "align_content": null,
       "align_items": null,
       "align_self": null,
       "border_bottom": null,
       "border_left": null,
       "border_right": null,
       "border_top": null,
       "bottom": null,
       "display": null,
       "flex": null,
       "flex_flow": null,
       "grid_area": null,
       "grid_auto_columns": null,
       "grid_auto_flow": null,
       "grid_auto_rows": null,
       "grid_column": null,
       "grid_gap": null,
       "grid_row": null,
       "grid_template_areas": null,
       "grid_template_columns": null,
       "grid_template_rows": null,
       "height": null,
       "justify_content": null,
       "justify_items": null,
       "left": null,
       "margin": null,
       "max_height": null,
       "max_width": null,
       "min_height": null,
       "min_width": null,
       "object_fit": null,
       "object_position": null,
       "order": null,
       "overflow": null,
       "padding": null,
       "right": null,
       "top": null,
       "visibility": null,
       "width": null
      }
     },
     "be8cfe46ff784592b5c199bb915d5376": {
      "model_module": "@jupyter-widgets/base",
      "model_module_version": "2.0.0",
      "model_name": "LayoutModel",
      "state": {
       "_model_module": "@jupyter-widgets/base",
       "_model_module_version": "2.0.0",
       "_model_name": "LayoutModel",
       "_view_count": null,
       "_view_module": "@jupyter-widgets/base",
       "_view_module_version": "2.0.0",
       "_view_name": "LayoutView",
       "align_content": null,
       "align_items": null,
       "align_self": null,
       "border_bottom": null,
       "border_left": null,
       "border_right": null,
       "border_top": null,
       "bottom": null,
       "display": null,
       "flex": null,
       "flex_flow": null,
       "grid_area": null,
       "grid_auto_columns": null,
       "grid_auto_flow": null,
       "grid_auto_rows": null,
       "grid_column": null,
       "grid_gap": null,
       "grid_row": null,
       "grid_template_areas": null,
       "grid_template_columns": null,
       "grid_template_rows": null,
       "height": null,
       "justify_content": null,
       "justify_items": null,
       "left": null,
       "margin": null,
       "max_height": null,
       "max_width": null,
       "min_height": null,
       "min_width": null,
       "object_fit": null,
       "object_position": null,
       "order": null,
       "overflow": null,
       "padding": null,
       "right": null,
       "top": null,
       "visibility": "hidden",
       "width": null
      }
     },
     "c18ea9aa00e74a0d88f8022f9023b52e": {
      "model_module": "@jupyter-widgets/controls",
      "model_module_version": "2.0.0",
      "model_name": "ProgressStyleModel",
      "state": {
       "_model_module": "@jupyter-widgets/controls",
       "_model_module_version": "2.0.0",
       "_model_name": "ProgressStyleModel",
       "_view_count": null,
       "_view_module": "@jupyter-widgets/base",
       "_view_module_version": "2.0.0",
       "_view_name": "StyleView",
       "bar_color": null,
       "description_width": ""
      }
     },
     "c6af31458a9c48febe75b2c7169f30ed": {
      "model_module": "@jupyter-widgets/controls",
      "model_module_version": "2.0.0",
      "model_name": "HTMLModel",
      "state": {
       "_dom_classes": [],
       "_model_module": "@jupyter-widgets/controls",
       "_model_module_version": "2.0.0",
       "_model_name": "HTMLModel",
       "_view_count": null,
       "_view_module": "@jupyter-widgets/controls",
       "_view_module_version": "2.0.0",
       "_view_name": "HTMLView",
       "description": "",
       "description_allow_html": false,
       "layout": "IPY_MODEL_e049d2be8ff5455aa33c14c220736433",
       "placeholder": "​",
       "style": "IPY_MODEL_8e719b55c5ed4707b5afe03f26c5f8b7",
       "tabbable": null,
       "tooltip": null,
       "value": "  4%"
      }
     },
     "c92400e904c94e679235ceee950ed76d": {
      "model_module": "@jupyter-widgets/base",
      "model_module_version": "2.0.0",
      "model_name": "LayoutModel",
      "state": {
       "_model_module": "@jupyter-widgets/base",
       "_model_module_version": "2.0.0",
       "_model_name": "LayoutModel",
       "_view_count": null,
       "_view_module": "@jupyter-widgets/base",
       "_view_module_version": "2.0.0",
       "_view_name": "LayoutView",
       "align_content": null,
       "align_items": null,
       "align_self": null,
       "border_bottom": null,
       "border_left": null,
       "border_right": null,
       "border_top": null,
       "bottom": null,
       "display": null,
       "flex": null,
       "flex_flow": null,
       "grid_area": null,
       "grid_auto_columns": null,
       "grid_auto_flow": null,
       "grid_auto_rows": null,
       "grid_column": null,
       "grid_gap": null,
       "grid_row": null,
       "grid_template_areas": null,
       "grid_template_columns": null,
       "grid_template_rows": null,
       "height": null,
       "justify_content": null,
       "justify_items": null,
       "left": null,
       "margin": null,
       "max_height": null,
       "max_width": null,
       "min_height": null,
       "min_width": null,
       "object_fit": null,
       "object_position": null,
       "order": null,
       "overflow": null,
       "padding": null,
       "right": null,
       "top": null,
       "visibility": null,
       "width": null
      }
     },
     "d4af8043572046a1bb980a0d2e918962": {
      "model_module": "@jupyter-widgets/controls",
      "model_module_version": "2.0.0",
      "model_name": "HTMLStyleModel",
      "state": {
       "_model_module": "@jupyter-widgets/controls",
       "_model_module_version": "2.0.0",
       "_model_name": "HTMLStyleModel",
       "_view_count": null,
       "_view_module": "@jupyter-widgets/base",
       "_view_module_version": "2.0.0",
       "_view_name": "StyleView",
       "background": null,
       "description_width": "",
       "font_size": null,
       "text_color": null
      }
     },
     "d83682f056e349458a3c323e81444a4c": {
      "model_module": "@jupyter-widgets/base",
      "model_module_version": "2.0.0",
      "model_name": "LayoutModel",
      "state": {
       "_model_module": "@jupyter-widgets/base",
       "_model_module_version": "2.0.0",
       "_model_name": "LayoutModel",
       "_view_count": null,
       "_view_module": "@jupyter-widgets/base",
       "_view_module_version": "2.0.0",
       "_view_name": "LayoutView",
       "align_content": null,
       "align_items": null,
       "align_self": null,
       "border_bottom": null,
       "border_left": null,
       "border_right": null,
       "border_top": null,
       "bottom": null,
       "display": null,
       "flex": null,
       "flex_flow": null,
       "grid_area": null,
       "grid_auto_columns": null,
       "grid_auto_flow": null,
       "grid_auto_rows": null,
       "grid_column": null,
       "grid_gap": null,
       "grid_row": null,
       "grid_template_areas": null,
       "grid_template_columns": null,
       "grid_template_rows": null,
       "height": null,
       "justify_content": null,
       "justify_items": null,
       "left": null,
       "margin": null,
       "max_height": null,
       "max_width": null,
       "min_height": null,
       "min_width": null,
       "object_fit": null,
       "object_position": null,
       "order": null,
       "overflow": null,
       "padding": null,
       "right": null,
       "top": null,
       "visibility": null,
       "width": null
      }
     },
     "e049d2be8ff5455aa33c14c220736433": {
      "model_module": "@jupyter-widgets/base",
      "model_module_version": "2.0.0",
      "model_name": "LayoutModel",
      "state": {
       "_model_module": "@jupyter-widgets/base",
       "_model_module_version": "2.0.0",
       "_model_name": "LayoutModel",
       "_view_count": null,
       "_view_module": "@jupyter-widgets/base",
       "_view_module_version": "2.0.0",
       "_view_name": "LayoutView",
       "align_content": null,
       "align_items": null,
       "align_self": null,
       "border_bottom": null,
       "border_left": null,
       "border_right": null,
       "border_top": null,
       "bottom": null,
       "display": null,
       "flex": null,
       "flex_flow": null,
       "grid_area": null,
       "grid_auto_columns": null,
       "grid_auto_flow": null,
       "grid_auto_rows": null,
       "grid_column": null,
       "grid_gap": null,
       "grid_row": null,
       "grid_template_areas": null,
       "grid_template_columns": null,
       "grid_template_rows": null,
       "height": null,
       "justify_content": null,
       "justify_items": null,
       "left": null,
       "margin": null,
       "max_height": null,
       "max_width": null,
       "min_height": null,
       "min_width": null,
       "object_fit": null,
       "object_position": null,
       "order": null,
       "overflow": null,
       "padding": null,
       "right": null,
       "top": null,
       "visibility": null,
       "width": null
      }
     },
     "f6f55f1117cb4c6a9254d249aecc947b": {
      "model_module": "@jupyter-widgets/base",
      "model_module_version": "2.0.0",
      "model_name": "LayoutModel",
      "state": {
       "_model_module": "@jupyter-widgets/base",
       "_model_module_version": "2.0.0",
       "_model_name": "LayoutModel",
       "_view_count": null,
       "_view_module": "@jupyter-widgets/base",
       "_view_module_version": "2.0.0",
       "_view_name": "LayoutView",
       "align_content": null,
       "align_items": null,
       "align_self": null,
       "border_bottom": null,
       "border_left": null,
       "border_right": null,
       "border_top": null,
       "bottom": null,
       "display": null,
       "flex": null,
       "flex_flow": null,
       "grid_area": null,
       "grid_auto_columns": null,
       "grid_auto_flow": null,
       "grid_auto_rows": null,
       "grid_column": null,
       "grid_gap": null,
       "grid_row": null,
       "grid_template_areas": null,
       "grid_template_columns": null,
       "grid_template_rows": null,
       "height": null,
       "justify_content": null,
       "justify_items": null,
       "left": null,
       "margin": null,
       "max_height": null,
       "max_width": null,
       "min_height": null,
       "min_width": null,
       "object_fit": null,
       "object_position": null,
       "order": null,
       "overflow": null,
       "padding": null,
       "right": null,
       "top": null,
       "visibility": null,
       "width": null
      }
     }
    },
    "version_major": 2,
    "version_minor": 0
   }
  }
 },
 "nbformat": 4,
 "nbformat_minor": 5
}

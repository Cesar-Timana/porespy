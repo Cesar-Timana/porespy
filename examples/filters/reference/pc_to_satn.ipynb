{
 "cells": [
  {
   "cell_type": "markdown",
   "id": "d279476c",
   "metadata": {},
   "source": [
    "# `pc_to_satn`\n",
    "Convert a capillary pressure map to saturation map."
   ]
  },
  {
   "cell_type": "code",
   "execution_count": 1,
   "id": "df328066",
   "metadata": {
    "execution": {
     "iopub.execute_input": "2022-08-12T21:30:24.426438Z",
     "iopub.status.busy": "2022-08-12T21:30:24.425978Z",
     "iopub.status.idle": "2022-08-12T21:30:26.377280Z",
     "shell.execute_reply": "2022-08-12T21:30:26.376484Z"
    }
   },
   "outputs": [],
   "source": [
    "import matplotlib.pyplot as plt\n",
    "import numpy as np\n",
    "import porespy as ps\n",
    "ps.visualization.set_mpl_style()"
   ]
  },
  {
   "cell_type": "markdown",
   "id": "9640b91d",
   "metadata": {},
   "source": [
    "The arguments and their defaults are:"
   ]
  },
  {
   "cell_type": "code",
   "execution_count": 2,
   "id": "da504252",
   "metadata": {
    "execution": {
     "iopub.execute_input": "2022-08-12T21:30:26.383336Z",
     "iopub.status.busy": "2022-08-12T21:30:26.381756Z",
     "iopub.status.idle": "2022-08-12T21:30:26.390959Z",
     "shell.execute_reply": "2022-08-12T21:30:26.390333Z"
    }
   },
   "outputs": [
    {
     "data": {
      "text/plain": [
       "<Signature (pc, im)>"
      ]
     },
     "execution_count": 2,
     "metadata": {},
     "output_type": "execute_result"
    }
   ],
   "source": [
    "import inspect\n",
    "inspect.signature(ps.filters.pc_to_satn)"
   ]
  },
  {
   "cell_type": "markdown",
   "id": "a49558cb",
   "metadata": {},
   "source": [
    "The capillary pressure map, such as that computed by ``ps.simulations.drainage``"
   ]
  },
  {
   "cell_type": "code",
   "execution_count": 3,
   "id": "567910b4",
   "metadata": {
    "execution": {
     "iopub.execute_input": "2022-08-12T21:30:26.395247Z",
     "iopub.status.busy": "2022-08-12T21:30:26.394206Z",
     "iopub.status.idle": "2022-08-12T21:30:27.438283Z",
     "shell.execute_reply": "2022-08-12T21:30:27.437796Z"
    }
   },
   "outputs": [
    {
     "data": {
      "application/vnd.jupyter.widget-view+json": {
       "model_id": "f8b158a79d1445229ada691e0fc075f6",
       "version_major": 2,
       "version_minor": 0
      },
      "text/plain": [
       "  0%|          | 0/25 [00:00<?, ?it/s]"
      ]
     },
     "metadata": {},
     "output_type": "display_data"
    },
    {
     "data": {
      "application/vnd.jupyter.widget-view+json": {
       "model_id": "3bc1eba8156c452493dee4210dcefd0a",
       "version_major": 2,
       "version_minor": 0
      },
      "text/plain": [
       "  0%|          | 0/12 [00:00<?, ?it/s]"
      ]
     },
     "metadata": {},
     "output_type": "display_data"
    }
   ],
   "source": [
    "im = ps.generators.blobs(shape=[200, 200], porosity=0.6)\n",
    "drn = ps.simulations.drainage(im=im, voxel_size=1, g=0)"
   ]
  },
  {
   "cell_type": "markdown",
   "id": "639b2f06",
   "metadata": {},
   "source": [
    "## `pc` and `im`"
   ]
  },
  {
   "cell_type": "code",
   "execution_count": 4,
   "id": "45c9fb8b",
   "metadata": {
    "execution": {
     "iopub.execute_input": "2022-08-12T21:30:27.442949Z",
     "iopub.status.busy": "2022-08-12T21:30:27.442584Z",
     "iopub.status.idle": "2022-08-12T21:30:27.609619Z",
     "shell.execute_reply": "2022-08-12T21:30:27.608979Z"
    }
   },
   "outputs": [
    {
     "data": {
      "image/svg+xml": [
       "<?xml version=\"1.0\" encoding=\"utf-8\" standalone=\"no\"?>\n",
       "<!DOCTYPE svg PUBLIC \"-//W3C//DTD SVG 1.1//EN\"\n",
       "  \"http://www.w3.org/Graphics/SVG/1.1/DTD/svg11.dtd\">\n",
       "<svg xmlns:xlink=\"http://www.w3.org/1999/xlink\" width=\"848.7pt\" height=\"424.8pt\" viewBox=\"0 0 848.7 424.8\" xmlns=\"http://www.w3.org/2000/svg\" version=\"1.1\">\n",
       " <metadata>\n",
       "  <rdf:RDF xmlns:dc=\"http://purl.org/dc/elements/1.1/\" xmlns:cc=\"http://creativecommons.org/ns#\" xmlns:rdf=\"http://www.w3.org/1999/02/22-rdf-syntax-ns#\">\n",
       "   <cc:Work>\n",
       "    <dc:type rdf:resource=\"http://purl.org/dc/dcmitype/StillImage\"/>\n",
       "    <dc:date>2022-08-12T21:30:27.575269</dc:date>\n",
       "    <dc:format>image/svg+xml</dc:format>\n",
       "    <dc:creator>\n",
       "     <cc:Agent>\n",
       "      <dc:title>Matplotlib v3.5.3, https://matplotlib.org/</dc:title>\n",
       "     </cc:Agent>\n",
       "    </dc:creator>\n",
       "   </cc:Work>\n",
       "  </rdf:RDF>\n",
       " </metadata>\n",
       " <defs>\n",
       "  <style type=\"text/css\">*{stroke-linejoin: round; stroke-linecap: butt}</style>\n",
       " </defs>\n",
       " <g id=\"figure_1\">\n",
       "  <g id=\"patch_1\">\n",
       "   <path d=\"M 0 424.8 \n",
       "L 848.7 424.8 \n",
       "L 848.7 0 \n",
       "L 0 0 \n",
       "L 0 424.8 \n",
       "z\n",
       "\" style=\"fill: none\"/>\n",
       "  </g>\n",
       "  <g id=\"axes_1\">\n",
       "   <g clip-path=\"url(#p923bc33d0b)\">\n",
       "    <image xlink:href=\"data:image/png;base64,\n",
       "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\" id=\"imaged702b8b93a\" transform=\"matrix(2.055 0 0 -2.055 7.2 417.6)\" style=\"image-rendering:crisp-edges;image-rendering:pixelated\" width=\"200\" height=\"200\"/>\n",
       "   </g>\n",
       "  </g>\n",
       "  <g id=\"axes_2\">\n",
       "   <g clip-path=\"url(#pdbfe74295e)\">\n",
       "    <image xlink:href=\"data:image/png;base64,\n",
       "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\" id=\"imageaf450f5a0c\" transform=\"matrix(2.055 0 0 -2.055 431.1 417.6)\" style=\"image-rendering:crisp-edges;image-rendering:pixelated\" width=\"200\" height=\"200\"/>\n",
       "   </g>\n",
       "  </g>\n",
       " </g>\n",
       " <defs>\n",
       "  <clipPath id=\"p923bc33d0b\">\n",
       "   <rect x=\"7.2\" y=\"7.2\" width=\"410.4\" height=\"410.4\"/>\n",
       "  </clipPath>\n",
       "  <clipPath id=\"pdbfe74295e\">\n",
       "   <rect x=\"431.1\" y=\"7.2\" width=\"410.4\" height=\"410.4\"/>\n",
       "  </clipPath>\n",
       " </defs>\n",
       "</svg>\n"
      ],
      "text/plain": [
       "<Figure size 864x432 with 2 Axes>"
      ]
     },
     "metadata": {
      "needs_background": "light"
     },
     "output_type": "display_data"
    }
   ],
   "source": [
    "satn = ps.filters.pc_to_satn(pc=drn.im_pc, im=im)\n",
    "\n",
    "fig, ax = plt.subplots(1, 2, figsize=[12, 6])\n",
    "ax[0].imshow(drn.im_pc/im, interpolation='none', origin='lower')\n",
    "ax[0].axis(False)\n",
    "ax[1].imshow(satn/im, interpolation='none', origin='lower')\n",
    "ax[1].axis(False);"
   ]
  },
  {
   "cell_type": "markdown",
   "id": "d7be130c",
   "metadata": {},
   "source": [
    "The saturation image allows for easy determination of a desired fluid configuration:"
   ]
  },
  {
   "cell_type": "code",
   "execution_count": 5,
   "id": "70dced98",
   "metadata": {
    "execution": {
     "iopub.execute_input": "2022-08-12T21:30:27.613087Z",
     "iopub.status.busy": "2022-08-12T21:30:27.612715Z",
     "iopub.status.idle": "2022-08-12T21:30:27.818294Z",
     "shell.execute_reply": "2022-08-12T21:30:27.817679Z"
    }
   },
   "outputs": [
    {
     "data": {
      "image/svg+xml": [
       "<?xml version=\"1.0\" encoding=\"utf-8\" standalone=\"no\"?>\n",
       "<!DOCTYPE svg PUBLIC \"-//W3C//DTD SVG 1.1//EN\"\n",
       "  \"http://www.w3.org/Graphics/SVG/1.1/DTD/svg11.dtd\">\n",
       "<svg xmlns:xlink=\"http://www.w3.org/1999/xlink\" width=\"848.7pt\" height=\"424.8pt\" viewBox=\"0 0 848.7 424.8\" xmlns=\"http://www.w3.org/2000/svg\" version=\"1.1\">\n",
       " <metadata>\n",
       "  <rdf:RDF xmlns:dc=\"http://purl.org/dc/elements/1.1/\" xmlns:cc=\"http://creativecommons.org/ns#\" xmlns:rdf=\"http://www.w3.org/1999/02/22-rdf-syntax-ns#\">\n",
       "   <cc:Work>\n",
       "    <dc:type rdf:resource=\"http://purl.org/dc/dcmitype/StillImage\"/>\n",
       "    <dc:date>2022-08-12T21:30:27.786714</dc:date>\n",
       "    <dc:format>image/svg+xml</dc:format>\n",
       "    <dc:creator>\n",
       "     <cc:Agent>\n",
       "      <dc:title>Matplotlib v3.5.3, https://matplotlib.org/</dc:title>\n",
       "     </cc:Agent>\n",
       "    </dc:creator>\n",
       "   </cc:Work>\n",
       "  </rdf:RDF>\n",
       " </metadata>\n",
       " <defs>\n",
       "  <style type=\"text/css\">*{stroke-linejoin: round; stroke-linecap: butt}</style>\n",
       " </defs>\n",
       " <g id=\"figure_1\">\n",
       "  <g id=\"patch_1\">\n",
       "   <path d=\"M 0 424.8 \n",
       "L 848.7 424.8 \n",
       "L 848.7 0 \n",
       "L 0 0 \n",
       "L 0 424.8 \n",
       "z\n",
       "\" style=\"fill: none\"/>\n",
       "  </g>\n",
       "  <g id=\"axes_1\">\n",
       "   <g clip-path=\"url(#p965da8426d)\">\n",
       "    <image xlink:href=\"data:image/png;base64,\n",
       "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\" id=\"image45c191a346\" transform=\"matrix(2.055 0 0 -2.055 7.2 417.6)\" style=\"image-rendering:crisp-edges;image-rendering:pixelated\" width=\"200\" height=\"200\"/>\n",
       "   </g>\n",
       "  </g>\n",
       "  <g id=\"axes_2\">\n",
       "   <g clip-path=\"url(#p2089fc6b87)\">\n",
       "    <image xlink:href=\"data:image/png;base64,\n",
       "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\" id=\"image6468939a43\" transform=\"matrix(2.055 0 0 -2.055 431.1 417.6)\" style=\"image-rendering:crisp-edges;image-rendering:pixelated\" width=\"200\" height=\"200\"/>\n",
       "   </g>\n",
       "  </g>\n",
       " </g>\n",
       " <defs>\n",
       "  <clipPath id=\"p965da8426d\">\n",
       "   <rect x=\"7.2\" y=\"7.2\" width=\"410.4\" height=\"410.4\"/>\n",
       "  </clipPath>\n",
       "  <clipPath id=\"p2089fc6b87\">\n",
       "   <rect x=\"431.1\" y=\"7.2\" width=\"410.4\" height=\"410.4\"/>\n",
       "  </clipPath>\n",
       " </defs>\n",
       "</svg>\n"
      ],
      "text/plain": [
       "<Figure size 864x432 with 2 Axes>"
      ]
     },
     "metadata": {
      "needs_background": "light"
     },
     "output_type": "display_data"
    }
   ],
   "source": [
    "fig, ax = plt.subplots(1, 2, figsize=[12, 6])\n",
    "ax[0].imshow((satn < 0.3)*(satn > 0)/im, interpolation='none', origin='lower')\n",
    "ax[0].axis(False)\n",
    "ax[1].imshow((satn < 0.8)*(satn > 0)/im, interpolation='none', origin='lower')\n",
    "ax[1].axis(False);"
   ]
  }
 ],
 "metadata": {
  "kernelspec": {
   "display_name": "Python 3 (ipykernel)",
   "language": "python",
   "name": "python3"
  },
  "language_info": {
   "codemirror_mode": {
    "name": "ipython",
    "version": 3
   },
   "file_extension": ".py",
   "mimetype": "text/x-python",
   "name": "python",
   "nbconvert_exporter": "python",
   "pygments_lexer": "ipython3",
   "version": "3.8.13"
  },
  "widgets": {
   "application/vnd.jupyter.widget-state+json": {
    "state": {
     "03fad6c2acb545f1ba19ee63b293ff76": {
      "model_module": "@jupyter-widgets/controls",
      "model_module_version": "1.5.0",
      "model_name": "HTMLModel",
      "state": {
       "_dom_classes": [],
       "_model_module": "@jupyter-widgets/controls",
       "_model_module_version": "1.5.0",
       "_model_name": "HTMLModel",
       "_view_count": null,
       "_view_module": "@jupyter-widgets/controls",
       "_view_module_version": "1.5.0",
       "_view_name": "HTMLView",
       "description": "",
       "description_tooltip": null,
       "layout": "IPY_MODEL_4462ef62927747bd88367f16311b456d",
       "placeholder": "​",
       "style": "IPY_MODEL_39f5f3685d464ce39e14de940f8ef425",
       "value": " 1/25 [00:00&lt;00:23,  1.02it/s]"
      }
     },
     "2e0986abc4e14f1b9e2ec5cc63fe5833": {
      "model_module": "@jupyter-widgets/controls",
      "model_module_version": "1.5.0",
      "model_name": "HTMLModel",
      "state": {
       "_dom_classes": [],
       "_model_module": "@jupyter-widgets/controls",
       "_model_module_version": "1.5.0",
       "_model_name": "HTMLModel",
       "_view_count": null,
       "_view_module": "@jupyter-widgets/controls",
       "_view_module_version": "1.5.0",
       "_view_name": "HTMLView",
       "description": "",
       "description_tooltip": null,
       "layout": "IPY_MODEL_bf1a49877a9e4d539617aa184ad570c8",
       "placeholder": "​",
       "style": "IPY_MODEL_cca1c7bc9daf443e978405814e5b419b",
       "value": " 0/12 [00:00&lt;?, ?it/s]"
      }
     },
     "358afcbda11e46e7a41924dafa2d9f61": {
      "model_module": "@jupyter-widgets/base",
      "model_module_version": "1.2.0",
      "model_name": "LayoutModel",
      "state": {
       "_model_module": "@jupyter-widgets/base",
       "_model_module_version": "1.2.0",
       "_model_name": "LayoutModel",
       "_view_count": null,
       "_view_module": "@jupyter-widgets/base",
       "_view_module_version": "1.2.0",
       "_view_name": "LayoutView",
       "align_content": null,
       "align_items": null,
       "align_self": null,
       "border": null,
       "bottom": null,
       "display": null,
       "flex": null,
       "flex_flow": null,
       "grid_area": null,
       "grid_auto_columns": null,
       "grid_auto_flow": null,
       "grid_auto_rows": null,
       "grid_column": null,
       "grid_gap": null,
       "grid_row": null,
       "grid_template_areas": null,
       "grid_template_columns": null,
       "grid_template_rows": null,
       "height": null,
       "justify_content": null,
       "justify_items": null,
       "left": null,
       "margin": null,
       "max_height": null,
       "max_width": null,
       "min_height": null,
       "min_width": null,
       "object_fit": null,
       "object_position": null,
       "order": null,
       "overflow": null,
       "overflow_x": null,
       "overflow_y": null,
       "padding": null,
       "right": null,
       "top": null,
       "visibility": null,
       "width": null
      }
     },
     "39f5f3685d464ce39e14de940f8ef425": {
      "model_module": "@jupyter-widgets/controls",
      "model_module_version": "1.5.0",
      "model_name": "DescriptionStyleModel",
      "state": {
       "_model_module": "@jupyter-widgets/controls",
       "_model_module_version": "1.5.0",
       "_model_name": "DescriptionStyleModel",
       "_view_count": null,
       "_view_module": "@jupyter-widgets/base",
       "_view_module_version": "1.2.0",
       "_view_name": "StyleView",
       "description_width": ""
      }
     },
     "3bc1eba8156c452493dee4210dcefd0a": {
      "model_module": "@jupyter-widgets/controls",
      "model_module_version": "1.5.0",
      "model_name": "HBoxModel",
      "state": {
       "_dom_classes": [],
       "_model_module": "@jupyter-widgets/controls",
       "_model_module_version": "1.5.0",
       "_model_name": "HBoxModel",
       "_view_count": null,
       "_view_module": "@jupyter-widgets/controls",
       "_view_module_version": "1.5.0",
       "_view_name": "HBoxView",
       "box_style": "",
       "children": [
        "IPY_MODEL_5720b505e9394ac798eb88e545132a69",
        "IPY_MODEL_5571c845ea1441ae8a6f51c3c8b354f3",
        "IPY_MODEL_2e0986abc4e14f1b9e2ec5cc63fe5833"
       ],
       "layout": "IPY_MODEL_e509501556944e8593460e4f85a7c30f"
      }
     },
     "420cec1df3444c9992f19e5c6849d6f2": {
      "model_module": "@jupyter-widgets/controls",
      "model_module_version": "1.5.0",
      "model_name": "ProgressStyleModel",
      "state": {
       "_model_module": "@jupyter-widgets/controls",
       "_model_module_version": "1.5.0",
       "_model_name": "ProgressStyleModel",
       "_view_count": null,
       "_view_module": "@jupyter-widgets/base",
       "_view_module_version": "1.2.0",
       "_view_name": "StyleView",
       "bar_color": null,
       "description_width": ""
      }
     },
     "4462ef62927747bd88367f16311b456d": {
      "model_module": "@jupyter-widgets/base",
      "model_module_version": "1.2.0",
      "model_name": "LayoutModel",
      "state": {
       "_model_module": "@jupyter-widgets/base",
       "_model_module_version": "1.2.0",
       "_model_name": "LayoutModel",
       "_view_count": null,
       "_view_module": "@jupyter-widgets/base",
       "_view_module_version": "1.2.0",
       "_view_name": "LayoutView",
       "align_content": null,
       "align_items": null,
       "align_self": null,
       "border": null,
       "bottom": null,
       "display": null,
       "flex": null,
       "flex_flow": null,
       "grid_area": null,
       "grid_auto_columns": null,
       "grid_auto_flow": null,
       "grid_auto_rows": null,
       "grid_column": null,
       "grid_gap": null,
       "grid_row": null,
       "grid_template_areas": null,
       "grid_template_columns": null,
       "grid_template_rows": null,
       "height": null,
       "justify_content": null,
       "justify_items": null,
       "left": null,
       "margin": null,
       "max_height": null,
       "max_width": null,
       "min_height": null,
       "min_width": null,
       "object_fit": null,
       "object_position": null,
       "order": null,
       "overflow": null,
       "overflow_x": null,
       "overflow_y": null,
       "padding": null,
       "right": null,
       "top": null,
       "visibility": null,
       "width": null
      }
     },
     "46343278088a420f83f6a0a687de9ee7": {
      "model_module": "@jupyter-widgets/controls",
      "model_module_version": "1.5.0",
      "model_name": "ProgressStyleModel",
      "state": {
       "_model_module": "@jupyter-widgets/controls",
       "_model_module_version": "1.5.0",
       "_model_name": "ProgressStyleModel",
       "_view_count": null,
       "_view_module": "@jupyter-widgets/base",
       "_view_module_version": "1.2.0",
       "_view_name": "StyleView",
       "bar_color": null,
       "description_width": ""
      }
     },
     "5571c845ea1441ae8a6f51c3c8b354f3": {
      "model_module": "@jupyter-widgets/controls",
      "model_module_version": "1.5.0",
      "model_name": "FloatProgressModel",
      "state": {
       "_dom_classes": [],
       "_model_module": "@jupyter-widgets/controls",
       "_model_module_version": "1.5.0",
       "_model_name": "FloatProgressModel",
       "_view_count": null,
       "_view_module": "@jupyter-widgets/controls",
       "_view_module_version": "1.5.0",
       "_view_name": "ProgressView",
       "bar_style": "",
       "description": "",
       "description_tooltip": null,
       "layout": "IPY_MODEL_358afcbda11e46e7a41924dafa2d9f61",
       "max": 12.0,
       "min": 0.0,
       "orientation": "horizontal",
       "style": "IPY_MODEL_46343278088a420f83f6a0a687de9ee7",
       "value": 12.0
      }
     },
     "5720b505e9394ac798eb88e545132a69": {
      "model_module": "@jupyter-widgets/controls",
      "model_module_version": "1.5.0",
      "model_name": "HTMLModel",
      "state": {
       "_dom_classes": [],
       "_model_module": "@jupyter-widgets/controls",
       "_model_module_version": "1.5.0",
       "_model_name": "HTMLModel",
       "_view_count": null,
       "_view_module": "@jupyter-widgets/controls",
       "_view_module_version": "1.5.0",
       "_view_name": "HTMLView",
       "description": "",
       "description_tooltip": null,
       "layout": "IPY_MODEL_aab9e6ead33c43a3ad0c39edfe5c4d99",
       "placeholder": "​",
       "style": "IPY_MODEL_b68bf76b603849e983752493b2fd9731",
       "value": "  0%"
      }
     },
     "587cbf46b6574eb58f5917cc48c96f46": {
      "model_module": "@jupyter-widgets/controls",
      "model_module_version": "1.5.0",
      "model_name": "FloatProgressModel",
      "state": {
       "_dom_classes": [],
       "_model_module": "@jupyter-widgets/controls",
       "_model_module_version": "1.5.0",
       "_model_name": "FloatProgressModel",
       "_view_count": null,
       "_view_module": "@jupyter-widgets/controls",
       "_view_module_version": "1.5.0",
       "_view_name": "ProgressView",
       "bar_style": "",
       "description": "",
       "description_tooltip": null,
       "layout": "IPY_MODEL_9d9de0a53e9b4b2884551dd097e04b97",
       "max": 25.0,
       "min": 0.0,
       "orientation": "horizontal",
       "style": "IPY_MODEL_420cec1df3444c9992f19e5c6849d6f2",
       "value": 25.0
      }
     },
     "77961b3a57944c729c2aaff748f61106": {
      "model_module": "@jupyter-widgets/base",
      "model_module_version": "1.2.0",
      "model_name": "LayoutModel",
      "state": {
       "_model_module": "@jupyter-widgets/base",
       "_model_module_version": "1.2.0",
       "_model_name": "LayoutModel",
       "_view_count": null,
       "_view_module": "@jupyter-widgets/base",
       "_view_module_version": "1.2.0",
       "_view_name": "LayoutView",
       "align_content": null,
       "align_items": null,
       "align_self": null,
       "border": null,
       "bottom": null,
       "display": null,
       "flex": null,
       "flex_flow": null,
       "grid_area": null,
       "grid_auto_columns": null,
       "grid_auto_flow": null,
       "grid_auto_rows": null,
       "grid_column": null,
       "grid_gap": null,
       "grid_row": null,
       "grid_template_areas": null,
       "grid_template_columns": null,
       "grid_template_rows": null,
       "height": null,
       "justify_content": null,
       "justify_items": null,
       "left": null,
       "margin": null,
       "max_height": null,
       "max_width": null,
       "min_height": null,
       "min_width": null,
       "object_fit": null,
       "object_position": null,
       "order": null,
       "overflow": null,
       "overflow_x": null,
       "overflow_y": null,
       "padding": null,
       "right": null,
       "top": null,
       "visibility": null,
       "width": null
      }
     },
     "86a404573b3a4d70aabfd214e651c145": {
      "model_module": "@jupyter-widgets/controls",
      "model_module_version": "1.5.0",
      "model_name": "HTMLModel",
      "state": {
       "_dom_classes": [],
       "_model_module": "@jupyter-widgets/controls",
       "_model_module_version": "1.5.0",
       "_model_name": "HTMLModel",
       "_view_count": null,
       "_view_module": "@jupyter-widgets/controls",
       "_view_module_version": "1.5.0",
       "_view_name": "HTMLView",
       "description": "",
       "description_tooltip": null,
       "layout": "IPY_MODEL_e311392718214a93bcc5b803a0fb80af",
       "placeholder": "​",
       "style": "IPY_MODEL_af067194af444c5dad39c228168bf6ae",
       "value": "  4%"
      }
     },
     "9d9de0a53e9b4b2884551dd097e04b97": {
      "model_module": "@jupyter-widgets/base",
      "model_module_version": "1.2.0",
      "model_name": "LayoutModel",
      "state": {
       "_model_module": "@jupyter-widgets/base",
       "_model_module_version": "1.2.0",
       "_model_name": "LayoutModel",
       "_view_count": null,
       "_view_module": "@jupyter-widgets/base",
       "_view_module_version": "1.2.0",
       "_view_name": "LayoutView",
       "align_content": null,
       "align_items": null,
       "align_self": null,
       "border": null,
       "bottom": null,
       "display": null,
       "flex": null,
       "flex_flow": null,
       "grid_area": null,
       "grid_auto_columns": null,
       "grid_auto_flow": null,
       "grid_auto_rows": null,
       "grid_column": null,
       "grid_gap": null,
       "grid_row": null,
       "grid_template_areas": null,
       "grid_template_columns": null,
       "grid_template_rows": null,
       "height": null,
       "justify_content": null,
       "justify_items": null,
       "left": null,
       "margin": null,
       "max_height": null,
       "max_width": null,
       "min_height": null,
       "min_width": null,
       "object_fit": null,
       "object_position": null,
       "order": null,
       "overflow": null,
       "overflow_x": null,
       "overflow_y": null,
       "padding": null,
       "right": null,
       "top": null,
       "visibility": null,
       "width": null
      }
     },
     "aab9e6ead33c43a3ad0c39edfe5c4d99": {
      "model_module": "@jupyter-widgets/base",
      "model_module_version": "1.2.0",
      "model_name": "LayoutModel",
      "state": {
       "_model_module": "@jupyter-widgets/base",
       "_model_module_version": "1.2.0",
       "_model_name": "LayoutModel",
       "_view_count": null,
       "_view_module": "@jupyter-widgets/base",
       "_view_module_version": "1.2.0",
       "_view_name": "LayoutView",
       "align_content": null,
       "align_items": null,
       "align_self": null,
       "border": null,
       "bottom": null,
       "display": null,
       "flex": null,
       "flex_flow": null,
       "grid_area": null,
       "grid_auto_columns": null,
       "grid_auto_flow": null,
       "grid_auto_rows": null,
       "grid_column": null,
       "grid_gap": null,
       "grid_row": null,
       "grid_template_areas": null,
       "grid_template_columns": null,
       "grid_template_rows": null,
       "height": null,
       "justify_content": null,
       "justify_items": null,
       "left": null,
       "margin": null,
       "max_height": null,
       "max_width": null,
       "min_height": null,
       "min_width": null,
       "object_fit": null,
       "object_position": null,
       "order": null,
       "overflow": null,
       "overflow_x": null,
       "overflow_y": null,
       "padding": null,
       "right": null,
       "top": null,
       "visibility": null,
       "width": null
      }
     },
     "af067194af444c5dad39c228168bf6ae": {
      "model_module": "@jupyter-widgets/controls",
      "model_module_version": "1.5.0",
      "model_name": "DescriptionStyleModel",
      "state": {
       "_model_module": "@jupyter-widgets/controls",
       "_model_module_version": "1.5.0",
       "_model_name": "DescriptionStyleModel",
       "_view_count": null,
       "_view_module": "@jupyter-widgets/base",
       "_view_module_version": "1.2.0",
       "_view_name": "StyleView",
       "description_width": ""
      }
     },
     "b68bf76b603849e983752493b2fd9731": {
      "model_module": "@jupyter-widgets/controls",
      "model_module_version": "1.5.0",
      "model_name": "DescriptionStyleModel",
      "state": {
       "_model_module": "@jupyter-widgets/controls",
       "_model_module_version": "1.5.0",
       "_model_name": "DescriptionStyleModel",
       "_view_count": null,
       "_view_module": "@jupyter-widgets/base",
       "_view_module_version": "1.2.0",
       "_view_name": "StyleView",
       "description_width": ""
      }
     },
     "bf1a49877a9e4d539617aa184ad570c8": {
      "model_module": "@jupyter-widgets/base",
      "model_module_version": "1.2.0",
      "model_name": "LayoutModel",
      "state": {
       "_model_module": "@jupyter-widgets/base",
       "_model_module_version": "1.2.0",
       "_model_name": "LayoutModel",
       "_view_count": null,
       "_view_module": "@jupyter-widgets/base",
       "_view_module_version": "1.2.0",
       "_view_name": "LayoutView",
       "align_content": null,
       "align_items": null,
       "align_self": null,
       "border": null,
       "bottom": null,
       "display": null,
       "flex": null,
       "flex_flow": null,
       "grid_area": null,
       "grid_auto_columns": null,
       "grid_auto_flow": null,
       "grid_auto_rows": null,
       "grid_column": null,
       "grid_gap": null,
       "grid_row": null,
       "grid_template_areas": null,
       "grid_template_columns": null,
       "grid_template_rows": null,
       "height": null,
       "justify_content": null,
       "justify_items": null,
       "left": null,
       "margin": null,
       "max_height": null,
       "max_width": null,
       "min_height": null,
       "min_width": null,
       "object_fit": null,
       "object_position": null,
       "order": null,
       "overflow": null,
       "overflow_x": null,
       "overflow_y": null,
       "padding": null,
       "right": null,
       "top": null,
       "visibility": null,
       "width": null
      }
     },
     "cca1c7bc9daf443e978405814e5b419b": {
      "model_module": "@jupyter-widgets/controls",
      "model_module_version": "1.5.0",
      "model_name": "DescriptionStyleModel",
      "state": {
       "_model_module": "@jupyter-widgets/controls",
       "_model_module_version": "1.5.0",
       "_model_name": "DescriptionStyleModel",
       "_view_count": null,
       "_view_module": "@jupyter-widgets/base",
       "_view_module_version": "1.2.0",
       "_view_name": "StyleView",
       "description_width": ""
      }
     },
     "e311392718214a93bcc5b803a0fb80af": {
      "model_module": "@jupyter-widgets/base",
      "model_module_version": "1.2.0",
      "model_name": "LayoutModel",
      "state": {
       "_model_module": "@jupyter-widgets/base",
       "_model_module_version": "1.2.0",
       "_model_name": "LayoutModel",
       "_view_count": null,
       "_view_module": "@jupyter-widgets/base",
       "_view_module_version": "1.2.0",
       "_view_name": "LayoutView",
       "align_content": null,
       "align_items": null,
       "align_self": null,
       "border": null,
       "bottom": null,
       "display": null,
       "flex": null,
       "flex_flow": null,
       "grid_area": null,
       "grid_auto_columns": null,
       "grid_auto_flow": null,
       "grid_auto_rows": null,
       "grid_column": null,
       "grid_gap": null,
       "grid_row": null,
       "grid_template_areas": null,
       "grid_template_columns": null,
       "grid_template_rows": null,
       "height": null,
       "justify_content": null,
       "justify_items": null,
       "left": null,
       "margin": null,
       "max_height": null,
       "max_width": null,
       "min_height": null,
       "min_width": null,
       "object_fit": null,
       "object_position": null,
       "order": null,
       "overflow": null,
       "overflow_x": null,
       "overflow_y": null,
       "padding": null,
       "right": null,
       "top": null,
       "visibility": null,
       "width": null
      }
     },
     "e509501556944e8593460e4f85a7c30f": {
      "model_module": "@jupyter-widgets/base",
      "model_module_version": "1.2.0",
      "model_name": "LayoutModel",
      "state": {
       "_model_module": "@jupyter-widgets/base",
       "_model_module_version": "1.2.0",
       "_model_name": "LayoutModel",
       "_view_count": null,
       "_view_module": "@jupyter-widgets/base",
       "_view_module_version": "1.2.0",
       "_view_name": "LayoutView",
       "align_content": null,
       "align_items": null,
       "align_self": null,
       "border": null,
       "bottom": null,
       "display": null,
       "flex": null,
       "flex_flow": null,
       "grid_area": null,
       "grid_auto_columns": null,
       "grid_auto_flow": null,
       "grid_auto_rows": null,
       "grid_column": null,
       "grid_gap": null,
       "grid_row": null,
       "grid_template_areas": null,
       "grid_template_columns": null,
       "grid_template_rows": null,
       "height": null,
       "justify_content": null,
       "justify_items": null,
       "left": null,
       "margin": null,
       "max_height": null,
       "max_width": null,
       "min_height": null,
       "min_width": null,
       "object_fit": null,
       "object_position": null,
       "order": null,
       "overflow": null,
       "overflow_x": null,
       "overflow_y": null,
       "padding": null,
       "right": null,
       "top": null,
       "visibility": null,
       "width": null
      }
     },
     "f8b158a79d1445229ada691e0fc075f6": {
      "model_module": "@jupyter-widgets/controls",
      "model_module_version": "1.5.0",
      "model_name": "HBoxModel",
      "state": {
       "_dom_classes": [],
       "_model_module": "@jupyter-widgets/controls",
       "_model_module_version": "1.5.0",
       "_model_name": "HBoxModel",
       "_view_count": null,
       "_view_module": "@jupyter-widgets/controls",
       "_view_module_version": "1.5.0",
       "_view_name": "HBoxView",
       "box_style": "",
       "children": [
        "IPY_MODEL_86a404573b3a4d70aabfd214e651c145",
        "IPY_MODEL_587cbf46b6574eb58f5917cc48c96f46",
        "IPY_MODEL_03fad6c2acb545f1ba19ee63b293ff76"
       ],
       "layout": "IPY_MODEL_77961b3a57944c729c2aaff748f61106"
      }
     }
    },
    "version_major": 2,
    "version_minor": 0
   }
  }
 },
 "nbformat": 4,
 "nbformat_minor": 5
}

{
 "cells": [
  {
   "cell_type": "markdown",
   "id": "d279476c",
   "metadata": {},
   "source": [
    "# `pc_to_satn`\n",
    "Convert a capillary pressure map to saturation map."
   ]
  },
  {
   "cell_type": "code",
   "execution_count": 1,
   "id": "df328066",
   "metadata": {
    "execution": {
     "iopub.execute_input": "2022-09-09T10:59:15.159192Z",
     "iopub.status.busy": "2022-09-09T10:59:15.158933Z",
     "iopub.status.idle": "2022-09-09T10:59:16.857590Z",
     "shell.execute_reply": "2022-09-09T10:59:16.856906Z"
    }
   },
   "outputs": [],
   "source": [
    "import matplotlib.pyplot as plt\n",
    "import numpy as np\n",
    "import porespy as ps\n",
    "ps.visualization.set_mpl_style()"
   ]
  },
  {
   "cell_type": "markdown",
   "id": "9640b91d",
   "metadata": {},
   "source": [
    "The arguments and their defaults are:"
   ]
  },
  {
   "cell_type": "code",
   "execution_count": 2,
   "id": "da504252",
   "metadata": {
    "execution": {
     "iopub.execute_input": "2022-09-09T10:59:16.862562Z",
     "iopub.status.busy": "2022-09-09T10:59:16.861478Z",
     "iopub.status.idle": "2022-09-09T10:59:16.869253Z",
     "shell.execute_reply": "2022-09-09T10:59:16.868786Z"
    }
   },
   "outputs": [
    {
     "data": {
      "text/plain": [
       "<Signature (pc, im)>"
      ]
     },
     "execution_count": 2,
     "metadata": {},
     "output_type": "execute_result"
    }
   ],
   "source": [
    "import inspect\n",
    "inspect.signature(ps.filters.pc_to_satn)"
   ]
  },
  {
   "cell_type": "markdown",
   "id": "a49558cb",
   "metadata": {},
   "source": [
    "The capillary pressure map, such as that computed by ``ps.simulations.drainage``"
   ]
  },
  {
   "cell_type": "code",
   "execution_count": 3,
   "id": "567910b4",
   "metadata": {
    "execution": {
     "iopub.execute_input": "2022-09-09T10:59:16.873310Z",
     "iopub.status.busy": "2022-09-09T10:59:16.872285Z",
     "iopub.status.idle": "2022-09-09T10:59:17.986782Z",
     "shell.execute_reply": "2022-09-09T10:59:17.986277Z"
    }
   },
   "outputs": [
    {
     "data": {
      "application/vnd.jupyter.widget-view+json": {
       "model_id": "1231973c812d4207847285bbb8b8221f",
       "version_major": 2,
       "version_minor": 0
      },
      "text/plain": [
       "  0%|          | 0/25 [00:00<?, ?it/s]"
      ]
     },
     "metadata": {},
     "output_type": "display_data"
    },
    {
     "data": {
      "application/vnd.jupyter.widget-view+json": {
       "model_id": "e22db25f40f84a0fa56001b89bb36ae1",
       "version_major": 2,
       "version_minor": 0
      },
      "text/plain": [
       "  0%|          | 0/14 [00:00<?, ?it/s]"
      ]
     },
     "metadata": {},
     "output_type": "display_data"
    }
   ],
   "source": [
    "im = ps.generators.blobs(shape=[200, 200], porosity=0.6)\n",
    "drn = ps.simulations.drainage(im=im, voxel_size=1, g=0)"
   ]
  },
  {
   "cell_type": "markdown",
   "id": "639b2f06",
   "metadata": {},
   "source": [
    "## `pc` and `im`"
   ]
  },
  {
   "cell_type": "code",
   "execution_count": 4,
   "id": "45c9fb8b",
   "metadata": {
    "execution": {
     "iopub.execute_input": "2022-09-09T10:59:17.991008Z",
     "iopub.status.busy": "2022-09-09T10:59:17.989991Z",
     "iopub.status.idle": "2022-09-09T10:59:18.158111Z",
     "shell.execute_reply": "2022-09-09T10:59:18.157600Z"
    }
   },
   "outputs": [
    {
     "data": {
      "image/svg+xml": [
       "<?xml version=\"1.0\" encoding=\"utf-8\" standalone=\"no\"?>\n",
       "<!DOCTYPE svg PUBLIC \"-//W3C//DTD SVG 1.1//EN\"\n",
       "  \"http://www.w3.org/Graphics/SVG/1.1/DTD/svg11.dtd\">\n",
       "<svg xmlns:xlink=\"http://www.w3.org/1999/xlink\" width=\"842.76pt\" height=\"420.48pt\" viewBox=\"0 0 842.76 420.48\" xmlns=\"http://www.w3.org/2000/svg\" version=\"1.1\">\n",
       " <metadata>\n",
       "  <rdf:RDF xmlns:dc=\"http://purl.org/dc/elements/1.1/\" xmlns:cc=\"http://creativecommons.org/ns#\" xmlns:rdf=\"http://www.w3.org/1999/02/22-rdf-syntax-ns#\">\n",
       "   <cc:Work>\n",
       "    <dc:type rdf:resource=\"http://purl.org/dc/dcmitype/StillImage\"/>\n",
       "    <dc:date>2022-09-09T10:59:18.127493</dc:date>\n",
       "    <dc:format>image/svg+xml</dc:format>\n",
       "    <dc:creator>\n",
       "     <cc:Agent>\n",
       "      <dc:title>Matplotlib v3.5.3, https://matplotlib.org/</dc:title>\n",
       "     </cc:Agent>\n",
       "    </dc:creator>\n",
       "   </cc:Work>\n",
       "  </rdf:RDF>\n",
       " </metadata>\n",
       " <defs>\n",
       "  <style type=\"text/css\">*{stroke-linejoin: round; stroke-linecap: butt}</style>\n",
       " </defs>\n",
       " <g id=\"figure_1\">\n",
       "  <g id=\"patch_1\">\n",
       "   <path d=\"M 0 420.48 \n",
       "L 842.76 420.48 \n",
       "L 842.76 0 \n",
       "L 0 0 \n",
       "z\n",
       "\" style=\"fill: #ffffff\"/>\n",
       "  </g>\n",
       "  <g id=\"axes_1\">\n",
       "   <g clip-path=\"url(#pb207312253)\">\n",
       "    <image xlink:href=\"data:image/png;base64,\n",
       "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\" id=\"imagec972b413e6\" transform=\"matrix(2.035 0 0 -2.035 7.2 413.28)\" style=\"image-rendering:crisp-edges;image-rendering:pixelated\" width=\"200\" height=\"200\"/>\n",
       "   </g>\n",
       "  </g>\n",
       "  <g id=\"axes_2\">\n",
       "   <g clip-path=\"url(#paee8c4f2e4)\">\n",
       "    <image xlink:href=\"data:image/png;base64,\n",
       "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\" id=\"image54312fcdb5\" transform=\"matrix(2.035 0 0 -2.035 429.48 413.28)\" style=\"image-rendering:crisp-edges;image-rendering:pixelated\" width=\"200\" height=\"200\"/>\n",
       "   </g>\n",
       "  </g>\n",
       " </g>\n",
       " <defs>\n",
       "  <clipPath id=\"pb207312253\">\n",
       "   <rect x=\"7.2\" y=\"7.2\" width=\"406.08\" height=\"406.08\"/>\n",
       "  </clipPath>\n",
       "  <clipPath id=\"paee8c4f2e4\">\n",
       "   <rect x=\"429.48\" y=\"7.2\" width=\"406.08\" height=\"406.08\"/>\n",
       "  </clipPath>\n",
       " </defs>\n",
       "</svg>\n"
      ],
      "text/plain": [
       "<Figure size 1200x600 with 2 Axes>"
      ]
     },
     "metadata": {},
     "output_type": "display_data"
    }
   ],
   "source": [
    "satn = ps.filters.pc_to_satn(pc=drn.im_pc, im=im)\n",
    "\n",
    "fig, ax = plt.subplots(1, 2, figsize=[12, 6])\n",
    "ax[0].imshow(drn.im_pc/im, interpolation='none', origin='lower')\n",
    "ax[0].axis(False)\n",
    "ax[1].imshow(satn/im, interpolation='none', origin='lower')\n",
    "ax[1].axis(False);"
   ]
  },
  {
   "cell_type": "markdown",
   "id": "d7be130c",
   "metadata": {},
   "source": [
    "The saturation image allows for easy determination of a desired fluid configuration:"
   ]
  },
  {
   "cell_type": "code",
   "execution_count": 5,
   "id": "70dced98",
   "metadata": {
    "execution": {
     "iopub.execute_input": "2022-09-09T10:59:18.163280Z",
     "iopub.status.busy": "2022-09-09T10:59:18.161762Z",
     "iopub.status.idle": "2022-09-09T10:59:18.360481Z",
     "shell.execute_reply": "2022-09-09T10:59:18.359847Z"
    }
   },
   "outputs": [
    {
     "data": {
      "image/svg+xml": [
       "<?xml version=\"1.0\" encoding=\"utf-8\" standalone=\"no\"?>\n",
       "<!DOCTYPE svg PUBLIC \"-//W3C//DTD SVG 1.1//EN\"\n",
       "  \"http://www.w3.org/Graphics/SVG/1.1/DTD/svg11.dtd\">\n",
       "<svg xmlns:xlink=\"http://www.w3.org/1999/xlink\" width=\"842.76pt\" height=\"420.48pt\" viewBox=\"0 0 842.76 420.48\" xmlns=\"http://www.w3.org/2000/svg\" version=\"1.1\">\n",
       " <metadata>\n",
       "  <rdf:RDF xmlns:dc=\"http://purl.org/dc/elements/1.1/\" xmlns:cc=\"http://creativecommons.org/ns#\" xmlns:rdf=\"http://www.w3.org/1999/02/22-rdf-syntax-ns#\">\n",
       "   <cc:Work>\n",
       "    <dc:type rdf:resource=\"http://purl.org/dc/dcmitype/StillImage\"/>\n",
       "    <dc:date>2022-09-09T10:59:18.330650</dc:date>\n",
       "    <dc:format>image/svg+xml</dc:format>\n",
       "    <dc:creator>\n",
       "     <cc:Agent>\n",
       "      <dc:title>Matplotlib v3.5.3, https://matplotlib.org/</dc:title>\n",
       "     </cc:Agent>\n",
       "    </dc:creator>\n",
       "   </cc:Work>\n",
       "  </rdf:RDF>\n",
       " </metadata>\n",
       " <defs>\n",
       "  <style type=\"text/css\">*{stroke-linejoin: round; stroke-linecap: butt}</style>\n",
       " </defs>\n",
       " <g id=\"figure_1\">\n",
       "  <g id=\"patch_1\">\n",
       "   <path d=\"M 0 420.48 \n",
       "L 842.76 420.48 \n",
       "L 842.76 0 \n",
       "L 0 0 \n",
       "z\n",
       "\" style=\"fill: #ffffff\"/>\n",
       "  </g>\n",
       "  <g id=\"axes_1\">\n",
       "   <g clip-path=\"url(#pa02379ff70)\">\n",
       "    <image xlink:href=\"data:image/png;base64,\n",
       "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\" id=\"image1219a2128d\" transform=\"matrix(2.035 0 0 -2.035 7.2 413.28)\" style=\"image-rendering:crisp-edges;image-rendering:pixelated\" width=\"200\" height=\"200\"/>\n",
       "   </g>\n",
       "  </g>\n",
       "  <g id=\"axes_2\">\n",
       "   <g clip-path=\"url(#p3e1b68dadd)\">\n",
       "    <image xlink:href=\"data:image/png;base64,\n",
       "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\" id=\"image1bb60735f8\" transform=\"matrix(2.035 0 0 -2.035 429.48 413.28)\" style=\"image-rendering:crisp-edges;image-rendering:pixelated\" width=\"200\" height=\"200\"/>\n",
       "   </g>\n",
       "  </g>\n",
       " </g>\n",
       " <defs>\n",
       "  <clipPath id=\"pa02379ff70\">\n",
       "   <rect x=\"7.2\" y=\"7.2\" width=\"406.08\" height=\"406.08\"/>\n",
       "  </clipPath>\n",
       "  <clipPath id=\"p3e1b68dadd\">\n",
       "   <rect x=\"429.48\" y=\"7.2\" width=\"406.08\" height=\"406.08\"/>\n",
       "  </clipPath>\n",
       " </defs>\n",
       "</svg>\n"
      ],
      "text/plain": [
       "<Figure size 1200x600 with 2 Axes>"
      ]
     },
     "metadata": {},
     "output_type": "display_data"
    }
   ],
   "source": [
    "fig, ax = plt.subplots(1, 2, figsize=[12, 6])\n",
    "ax[0].imshow((satn < 0.3)*(satn > 0)/im, interpolation='none', origin='lower')\n",
    "ax[0].axis(False)\n",
    "ax[1].imshow((satn < 0.8)*(satn > 0)/im, interpolation='none', origin='lower')\n",
    "ax[1].axis(False);"
   ]
  }
 ],
 "metadata": {
  "kernelspec": {
   "display_name": "Python 3 (ipykernel)",
   "language": "python",
   "name": "python3"
  },
  "language_info": {
   "codemirror_mode": {
    "name": "ipython",
    "version": 3
   },
   "file_extension": ".py",
   "mimetype": "text/x-python",
   "name": "python",
   "nbconvert_exporter": "python",
   "pygments_lexer": "ipython3",
   "version": "3.8.13"
  },
  "widgets": {
   "application/vnd.jupyter.widget-state+json": {
    "state": {
     "1231973c812d4207847285bbb8b8221f": {
      "model_module": "@jupyter-widgets/controls",
      "model_module_version": "2.0.0",
      "model_name": "HBoxModel",
      "state": {
       "_dom_classes": [],
       "_model_module": "@jupyter-widgets/controls",
       "_model_module_version": "2.0.0",
       "_model_name": "HBoxModel",
       "_view_count": null,
       "_view_module": "@jupyter-widgets/controls",
       "_view_module_version": "2.0.0",
       "_view_name": "HBoxView",
       "box_style": "",
       "children": [
        "IPY_MODEL_9b28ff8bca6c4e02aba397fb52d0bea5",
        "IPY_MODEL_6e9d83b71e244a2f98f40f3c80b1c9f4",
        "IPY_MODEL_4acba97e3e3742dea2e588f63aad5b50"
       ],
       "layout": "IPY_MODEL_2457675e5725448fbab9479aaa3db316",
       "tabbable": null,
       "tooltip": null
      }
     },
     "20e5cac979af48f5b50c641ee596fce0": {
      "model_module": "@jupyter-widgets/base",
      "model_module_version": "2.0.0",
      "model_name": "LayoutModel",
      "state": {
       "_model_module": "@jupyter-widgets/base",
       "_model_module_version": "2.0.0",
       "_model_name": "LayoutModel",
       "_view_count": null,
       "_view_module": "@jupyter-widgets/base",
       "_view_module_version": "2.0.0",
       "_view_name": "LayoutView",
       "align_content": null,
       "align_items": null,
       "align_self": null,
       "border_bottom": null,
       "border_left": null,
       "border_right": null,
       "border_top": null,
       "bottom": null,
       "display": null,
       "flex": null,
       "flex_flow": null,
       "grid_area": null,
       "grid_auto_columns": null,
       "grid_auto_flow": null,
       "grid_auto_rows": null,
       "grid_column": null,
       "grid_gap": null,
       "grid_row": null,
       "grid_template_areas": null,
       "grid_template_columns": null,
       "grid_template_rows": null,
       "height": null,
       "justify_content": null,
       "justify_items": null,
       "left": null,
       "margin": null,
       "max_height": null,
       "max_width": null,
       "min_height": null,
       "min_width": null,
       "object_fit": null,
       "object_position": null,
       "order": null,
       "overflow": null,
       "padding": null,
       "right": null,
       "top": null,
       "visibility": null,
       "width": null
      }
     },
     "241eddfe3e2c4fa688adfa21d98604e6": {
      "model_module": "@jupyter-widgets/controls",
      "model_module_version": "2.0.0",
      "model_name": "HTMLModel",
      "state": {
       "_dom_classes": [],
       "_model_module": "@jupyter-widgets/controls",
       "_model_module_version": "2.0.0",
       "_model_name": "HTMLModel",
       "_view_count": null,
       "_view_module": "@jupyter-widgets/controls",
       "_view_module_version": "2.0.0",
       "_view_name": "HTMLView",
       "description": "",
       "description_allow_html": false,
       "layout": "IPY_MODEL_a66b119c904c4930a5b1a00e02395774",
       "placeholder": "​",
       "style": "IPY_MODEL_2e7700765a6c44c394b445d39ffa9eec",
       "tabbable": null,
       "tooltip": null,
       "value": "  0%"
      }
     },
     "2457675e5725448fbab9479aaa3db316": {
      "model_module": "@jupyter-widgets/base",
      "model_module_version": "2.0.0",
      "model_name": "LayoutModel",
      "state": {
       "_model_module": "@jupyter-widgets/base",
       "_model_module_version": "2.0.0",
       "_model_name": "LayoutModel",
       "_view_count": null,
       "_view_module": "@jupyter-widgets/base",
       "_view_module_version": "2.0.0",
       "_view_name": "LayoutView",
       "align_content": null,
       "align_items": null,
       "align_self": null,
       "border_bottom": null,
       "border_left": null,
       "border_right": null,
       "border_top": null,
       "bottom": null,
       "display": null,
       "flex": null,
       "flex_flow": null,
       "grid_area": null,
       "grid_auto_columns": null,
       "grid_auto_flow": null,
       "grid_auto_rows": null,
       "grid_column": null,
       "grid_gap": null,
       "grid_row": null,
       "grid_template_areas": null,
       "grid_template_columns": null,
       "grid_template_rows": null,
       "height": null,
       "justify_content": null,
       "justify_items": null,
       "left": null,
       "margin": null,
       "max_height": null,
       "max_width": null,
       "min_height": null,
       "min_width": null,
       "object_fit": null,
       "object_position": null,
       "order": null,
       "overflow": null,
       "padding": null,
       "right": null,
       "top": null,
       "visibility": "hidden",
       "width": null
      }
     },
     "2e7700765a6c44c394b445d39ffa9eec": {
      "model_module": "@jupyter-widgets/controls",
      "model_module_version": "2.0.0",
      "model_name": "HTMLStyleModel",
      "state": {
       "_model_module": "@jupyter-widgets/controls",
       "_model_module_version": "2.0.0",
       "_model_name": "HTMLStyleModel",
       "_view_count": null,
       "_view_module": "@jupyter-widgets/base",
       "_view_module_version": "2.0.0",
       "_view_name": "StyleView",
       "background": null,
       "description_width": "",
       "font_size": null,
       "text_color": null
      }
     },
     "3b1c4d2fa1d942aeb2cf032ebb331b48": {
      "model_module": "@jupyter-widgets/base",
      "model_module_version": "2.0.0",
      "model_name": "LayoutModel",
      "state": {
       "_model_module": "@jupyter-widgets/base",
       "_model_module_version": "2.0.0",
       "_model_name": "LayoutModel",
       "_view_count": null,
       "_view_module": "@jupyter-widgets/base",
       "_view_module_version": "2.0.0",
       "_view_name": "LayoutView",
       "align_content": null,
       "align_items": null,
       "align_self": null,
       "border_bottom": null,
       "border_left": null,
       "border_right": null,
       "border_top": null,
       "bottom": null,
       "display": null,
       "flex": null,
       "flex_flow": null,
       "grid_area": null,
       "grid_auto_columns": null,
       "grid_auto_flow": null,
       "grid_auto_rows": null,
       "grid_column": null,
       "grid_gap": null,
       "grid_row": null,
       "grid_template_areas": null,
       "grid_template_columns": null,
       "grid_template_rows": null,
       "height": null,
       "justify_content": null,
       "justify_items": null,
       "left": null,
       "margin": null,
       "max_height": null,
       "max_width": null,
       "min_height": null,
       "min_width": null,
       "object_fit": null,
       "object_position": null,
       "order": null,
       "overflow": null,
       "padding": null,
       "right": null,
       "top": null,
       "visibility": null,
       "width": null
      }
     },
     "4acba97e3e3742dea2e588f63aad5b50": {
      "model_module": "@jupyter-widgets/controls",
      "model_module_version": "2.0.0",
      "model_name": "HTMLModel",
      "state": {
       "_dom_classes": [],
       "_model_module": "@jupyter-widgets/controls",
       "_model_module_version": "2.0.0",
       "_model_name": "HTMLModel",
       "_view_count": null,
       "_view_module": "@jupyter-widgets/controls",
       "_view_module_version": "2.0.0",
       "_view_name": "HTMLView",
       "description": "",
       "description_allow_html": false,
       "layout": "IPY_MODEL_3b1c4d2fa1d942aeb2cf032ebb331b48",
       "placeholder": "​",
       "style": "IPY_MODEL_e63ee497e9784ff8975d6d8b383e4fb9",
       "tabbable": null,
       "tooltip": null,
       "value": " 1/25 [00:00&lt;00:22,  1.06it/s]"
      }
     },
     "55dfa6a35cf9445f89026d11cbb4a038": {
      "model_module": "@jupyter-widgets/controls",
      "model_module_version": "2.0.0",
      "model_name": "ProgressStyleModel",
      "state": {
       "_model_module": "@jupyter-widgets/controls",
       "_model_module_version": "2.0.0",
       "_model_name": "ProgressStyleModel",
       "_view_count": null,
       "_view_module": "@jupyter-widgets/base",
       "_view_module_version": "2.0.0",
       "_view_name": "StyleView",
       "bar_color": null,
       "description_width": ""
      }
     },
     "6e9d83b71e244a2f98f40f3c80b1c9f4": {
      "model_module": "@jupyter-widgets/controls",
      "model_module_version": "2.0.0",
      "model_name": "FloatProgressModel",
      "state": {
       "_dom_classes": [],
       "_model_module": "@jupyter-widgets/controls",
       "_model_module_version": "2.0.0",
       "_model_name": "FloatProgressModel",
       "_view_count": null,
       "_view_module": "@jupyter-widgets/controls",
       "_view_module_version": "2.0.0",
       "_view_name": "ProgressView",
       "bar_style": "",
       "description": "",
       "description_allow_html": false,
       "layout": "IPY_MODEL_fd48d50de603453bbcf6908d245e41ba",
       "max": 25.0,
       "min": 0.0,
       "orientation": "horizontal",
       "style": "IPY_MODEL_55dfa6a35cf9445f89026d11cbb4a038",
       "tabbable": null,
       "tooltip": null,
       "value": 25.0
      }
     },
     "9b28ff8bca6c4e02aba397fb52d0bea5": {
      "model_module": "@jupyter-widgets/controls",
      "model_module_version": "2.0.0",
      "model_name": "HTMLModel",
      "state": {
       "_dom_classes": [],
       "_model_module": "@jupyter-widgets/controls",
       "_model_module_version": "2.0.0",
       "_model_name": "HTMLModel",
       "_view_count": null,
       "_view_module": "@jupyter-widgets/controls",
       "_view_module_version": "2.0.0",
       "_view_name": "HTMLView",
       "description": "",
       "description_allow_html": false,
       "layout": "IPY_MODEL_20e5cac979af48f5b50c641ee596fce0",
       "placeholder": "​",
       "style": "IPY_MODEL_da1f018c36084e2087ff6ae0f8b962ba",
       "tabbable": null,
       "tooltip": null,
       "value": "  4%"
      }
     },
     "a66b119c904c4930a5b1a00e02395774": {
      "model_module": "@jupyter-widgets/base",
      "model_module_version": "2.0.0",
      "model_name": "LayoutModel",
      "state": {
       "_model_module": "@jupyter-widgets/base",
       "_model_module_version": "2.0.0",
       "_model_name": "LayoutModel",
       "_view_count": null,
       "_view_module": "@jupyter-widgets/base",
       "_view_module_version": "2.0.0",
       "_view_name": "LayoutView",
       "align_content": null,
       "align_items": null,
       "align_self": null,
       "border_bottom": null,
       "border_left": null,
       "border_right": null,
       "border_top": null,
       "bottom": null,
       "display": null,
       "flex": null,
       "flex_flow": null,
       "grid_area": null,
       "grid_auto_columns": null,
       "grid_auto_flow": null,
       "grid_auto_rows": null,
       "grid_column": null,
       "grid_gap": null,
       "grid_row": null,
       "grid_template_areas": null,
       "grid_template_columns": null,
       "grid_template_rows": null,
       "height": null,
       "justify_content": null,
       "justify_items": null,
       "left": null,
       "margin": null,
       "max_height": null,
       "max_width": null,
       "min_height": null,
       "min_width": null,
       "object_fit": null,
       "object_position": null,
       "order": null,
       "overflow": null,
       "padding": null,
       "right": null,
       "top": null,
       "visibility": null,
       "width": null
      }
     },
     "a899eeb7da364846bf86634175eaae2c": {
      "model_module": "@jupyter-widgets/base",
      "model_module_version": "2.0.0",
      "model_name": "LayoutModel",
      "state": {
       "_model_module": "@jupyter-widgets/base",
       "_model_module_version": "2.0.0",
       "_model_name": "LayoutModel",
       "_view_count": null,
       "_view_module": "@jupyter-widgets/base",
       "_view_module_version": "2.0.0",
       "_view_name": "LayoutView",
       "align_content": null,
       "align_items": null,
       "align_self": null,
       "border_bottom": null,
       "border_left": null,
       "border_right": null,
       "border_top": null,
       "bottom": null,
       "display": null,
       "flex": null,
       "flex_flow": null,
       "grid_area": null,
       "grid_auto_columns": null,
       "grid_auto_flow": null,
       "grid_auto_rows": null,
       "grid_column": null,
       "grid_gap": null,
       "grid_row": null,
       "grid_template_areas": null,
       "grid_template_columns": null,
       "grid_template_rows": null,
       "height": null,
       "justify_content": null,
       "justify_items": null,
       "left": null,
       "margin": null,
       "max_height": null,
       "max_width": null,
       "min_height": null,
       "min_width": null,
       "object_fit": null,
       "object_position": null,
       "order": null,
       "overflow": null,
       "padding": null,
       "right": null,
       "top": null,
       "visibility": null,
       "width": null
      }
     },
     "ad521e6bdea04f40b8e7ebf6b68dea47": {
      "model_module": "@jupyter-widgets/controls",
      "model_module_version": "2.0.0",
      "model_name": "ProgressStyleModel",
      "state": {
       "_model_module": "@jupyter-widgets/controls",
       "_model_module_version": "2.0.0",
       "_model_name": "ProgressStyleModel",
       "_view_count": null,
       "_view_module": "@jupyter-widgets/base",
       "_view_module_version": "2.0.0",
       "_view_name": "StyleView",
       "bar_color": null,
       "description_width": ""
      }
     },
     "b87080edfaaf4754a699fa2456c4e132": {
      "model_module": "@jupyter-widgets/controls",
      "model_module_version": "2.0.0",
      "model_name": "HTMLStyleModel",
      "state": {
       "_model_module": "@jupyter-widgets/controls",
       "_model_module_version": "2.0.0",
       "_model_name": "HTMLStyleModel",
       "_view_count": null,
       "_view_module": "@jupyter-widgets/base",
       "_view_module_version": "2.0.0",
       "_view_name": "StyleView",
       "background": null,
       "description_width": "",
       "font_size": null,
       "text_color": null
      }
     },
     "c09b7e56c57b4c5980562b94047ee3e6": {
      "model_module": "@jupyter-widgets/base",
      "model_module_version": "2.0.0",
      "model_name": "LayoutModel",
      "state": {
       "_model_module": "@jupyter-widgets/base",
       "_model_module_version": "2.0.0",
       "_model_name": "LayoutModel",
       "_view_count": null,
       "_view_module": "@jupyter-widgets/base",
       "_view_module_version": "2.0.0",
       "_view_name": "LayoutView",
       "align_content": null,
       "align_items": null,
       "align_self": null,
       "border_bottom": null,
       "border_left": null,
       "border_right": null,
       "border_top": null,
       "bottom": null,
       "display": null,
       "flex": null,
       "flex_flow": null,
       "grid_area": null,
       "grid_auto_columns": null,
       "grid_auto_flow": null,
       "grid_auto_rows": null,
       "grid_column": null,
       "grid_gap": null,
       "grid_row": null,
       "grid_template_areas": null,
       "grid_template_columns": null,
       "grid_template_rows": null,
       "height": null,
       "justify_content": null,
       "justify_items": null,
       "left": null,
       "margin": null,
       "max_height": null,
       "max_width": null,
       "min_height": null,
       "min_width": null,
       "object_fit": null,
       "object_position": null,
       "order": null,
       "overflow": null,
       "padding": null,
       "right": null,
       "top": null,
       "visibility": null,
       "width": null
      }
     },
     "d0924d26c0db4a8686ab7586647794a7": {
      "model_module": "@jupyter-widgets/base",
      "model_module_version": "2.0.0",
      "model_name": "LayoutModel",
      "state": {
       "_model_module": "@jupyter-widgets/base",
       "_model_module_version": "2.0.0",
       "_model_name": "LayoutModel",
       "_view_count": null,
       "_view_module": "@jupyter-widgets/base",
       "_view_module_version": "2.0.0",
       "_view_name": "LayoutView",
       "align_content": null,
       "align_items": null,
       "align_self": null,
       "border_bottom": null,
       "border_left": null,
       "border_right": null,
       "border_top": null,
       "bottom": null,
       "display": null,
       "flex": null,
       "flex_flow": null,
       "grid_area": null,
       "grid_auto_columns": null,
       "grid_auto_flow": null,
       "grid_auto_rows": null,
       "grid_column": null,
       "grid_gap": null,
       "grid_row": null,
       "grid_template_areas": null,
       "grid_template_columns": null,
       "grid_template_rows": null,
       "height": null,
       "justify_content": null,
       "justify_items": null,
       "left": null,
       "margin": null,
       "max_height": null,
       "max_width": null,
       "min_height": null,
       "min_width": null,
       "object_fit": null,
       "object_position": null,
       "order": null,
       "overflow": null,
       "padding": null,
       "right": null,
       "top": null,
       "visibility": "hidden",
       "width": null
      }
     },
     "da1f018c36084e2087ff6ae0f8b962ba": {
      "model_module": "@jupyter-widgets/controls",
      "model_module_version": "2.0.0",
      "model_name": "HTMLStyleModel",
      "state": {
       "_model_module": "@jupyter-widgets/controls",
       "_model_module_version": "2.0.0",
       "_model_name": "HTMLStyleModel",
       "_view_count": null,
       "_view_module": "@jupyter-widgets/base",
       "_view_module_version": "2.0.0",
       "_view_name": "StyleView",
       "background": null,
       "description_width": "",
       "font_size": null,
       "text_color": null
      }
     },
     "e22db25f40f84a0fa56001b89bb36ae1": {
      "model_module": "@jupyter-widgets/controls",
      "model_module_version": "2.0.0",
      "model_name": "HBoxModel",
      "state": {
       "_dom_classes": [],
       "_model_module": "@jupyter-widgets/controls",
       "_model_module_version": "2.0.0",
       "_model_name": "HBoxModel",
       "_view_count": null,
       "_view_module": "@jupyter-widgets/controls",
       "_view_module_version": "2.0.0",
       "_view_name": "HBoxView",
       "box_style": "",
       "children": [
        "IPY_MODEL_241eddfe3e2c4fa688adfa21d98604e6",
        "IPY_MODEL_f29ecfa99e634be3b098cb0518588d32",
        "IPY_MODEL_ee67bcf9fa3d49ce8270564b7a3e09b3"
       ],
       "layout": "IPY_MODEL_d0924d26c0db4a8686ab7586647794a7",
       "tabbable": null,
       "tooltip": null
      }
     },
     "e63ee497e9784ff8975d6d8b383e4fb9": {
      "model_module": "@jupyter-widgets/controls",
      "model_module_version": "2.0.0",
      "model_name": "HTMLStyleModel",
      "state": {
       "_model_module": "@jupyter-widgets/controls",
       "_model_module_version": "2.0.0",
       "_model_name": "HTMLStyleModel",
       "_view_count": null,
       "_view_module": "@jupyter-widgets/base",
       "_view_module_version": "2.0.0",
       "_view_name": "StyleView",
       "background": null,
       "description_width": "",
       "font_size": null,
       "text_color": null
      }
     },
     "ee67bcf9fa3d49ce8270564b7a3e09b3": {
      "model_module": "@jupyter-widgets/controls",
      "model_module_version": "2.0.0",
      "model_name": "HTMLModel",
      "state": {
       "_dom_classes": [],
       "_model_module": "@jupyter-widgets/controls",
       "_model_module_version": "2.0.0",
       "_model_name": "HTMLModel",
       "_view_count": null,
       "_view_module": "@jupyter-widgets/controls",
       "_view_module_version": "2.0.0",
       "_view_name": "HTMLView",
       "description": "",
       "description_allow_html": false,
       "layout": "IPY_MODEL_a899eeb7da364846bf86634175eaae2c",
       "placeholder": "​",
       "style": "IPY_MODEL_b87080edfaaf4754a699fa2456c4e132",
       "tabbable": null,
       "tooltip": null,
       "value": " 0/14 [00:00&lt;?, ?it/s]"
      }
     },
     "f29ecfa99e634be3b098cb0518588d32": {
      "model_module": "@jupyter-widgets/controls",
      "model_module_version": "2.0.0",
      "model_name": "FloatProgressModel",
      "state": {
       "_dom_classes": [],
       "_model_module": "@jupyter-widgets/controls",
       "_model_module_version": "2.0.0",
       "_model_name": "FloatProgressModel",
       "_view_count": null,
       "_view_module": "@jupyter-widgets/controls",
       "_view_module_version": "2.0.0",
       "_view_name": "ProgressView",
       "bar_style": "",
       "description": "",
       "description_allow_html": false,
       "layout": "IPY_MODEL_c09b7e56c57b4c5980562b94047ee3e6",
       "max": 14.0,
       "min": 0.0,
       "orientation": "horizontal",
       "style": "IPY_MODEL_ad521e6bdea04f40b8e7ebf6b68dea47",
       "tabbable": null,
       "tooltip": null,
       "value": 14.0
      }
     },
     "fd48d50de603453bbcf6908d245e41ba": {
      "model_module": "@jupyter-widgets/base",
      "model_module_version": "2.0.0",
      "model_name": "LayoutModel",
      "state": {
       "_model_module": "@jupyter-widgets/base",
       "_model_module_version": "2.0.0",
       "_model_name": "LayoutModel",
       "_view_count": null,
       "_view_module": "@jupyter-widgets/base",
       "_view_module_version": "2.0.0",
       "_view_name": "LayoutView",
       "align_content": null,
       "align_items": null,
       "align_self": null,
       "border_bottom": null,
       "border_left": null,
       "border_right": null,
       "border_top": null,
       "bottom": null,
       "display": null,
       "flex": null,
       "flex_flow": null,
       "grid_area": null,
       "grid_auto_columns": null,
       "grid_auto_flow": null,
       "grid_auto_rows": null,
       "grid_column": null,
       "grid_gap": null,
       "grid_row": null,
       "grid_template_areas": null,
       "grid_template_columns": null,
       "grid_template_rows": null,
       "height": null,
       "justify_content": null,
       "justify_items": null,
       "left": null,
       "margin": null,
       "max_height": null,
       "max_width": null,
       "min_height": null,
       "min_width": null,
       "object_fit": null,
       "object_position": null,
       "order": null,
       "overflow": null,
       "padding": null,
       "right": null,
       "top": null,
       "visibility": null,
       "width": null
      }
     }
    },
    "version_major": 2,
    "version_minor": 0
   }
  }
 },
 "nbformat": 4,
 "nbformat_minor": 5
}

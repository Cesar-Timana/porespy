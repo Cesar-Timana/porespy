{
 "cells": [
  {
   "cell_type": "markdown",
   "id": "d279476c",
   "metadata": {},
   "source": [
    "# `pc_to_satn`\n",
    "Convert a capillary pressure map to saturation map."
   ]
  },
  {
   "cell_type": "code",
   "execution_count": 1,
   "id": "df328066",
   "metadata": {
    "execution": {
     "iopub.execute_input": "2022-08-23T01:09:12.831862Z",
     "iopub.status.busy": "2022-08-23T01:09:12.831614Z",
     "iopub.status.idle": "2022-08-23T01:09:14.685816Z",
     "shell.execute_reply": "2022-08-23T01:09:14.685152Z"
    }
   },
   "outputs": [],
   "source": [
    "import matplotlib.pyplot as plt\n",
    "import numpy as np\n",
    "import porespy as ps\n",
    "ps.visualization.set_mpl_style()"
   ]
  },
  {
   "cell_type": "markdown",
   "id": "9640b91d",
   "metadata": {},
   "source": [
    "The arguments and their defaults are:"
   ]
  },
  {
   "cell_type": "code",
   "execution_count": 2,
   "id": "da504252",
   "metadata": {
    "execution": {
     "iopub.execute_input": "2022-08-23T01:09:14.691140Z",
     "iopub.status.busy": "2022-08-23T01:09:14.689644Z",
     "iopub.status.idle": "2022-08-23T01:09:14.698246Z",
     "shell.execute_reply": "2022-08-23T01:09:14.697781Z"
    }
   },
   "outputs": [
    {
     "data": {
      "text/plain": [
       "<Signature (pc, im)>"
      ]
     },
     "execution_count": 2,
     "metadata": {},
     "output_type": "execute_result"
    }
   ],
   "source": [
    "import inspect\n",
    "inspect.signature(ps.filters.pc_to_satn)"
   ]
  },
  {
   "cell_type": "markdown",
   "id": "a49558cb",
   "metadata": {},
   "source": [
    "The capillary pressure map, such as that computed by ``ps.simulations.drainage``"
   ]
  },
  {
   "cell_type": "code",
   "execution_count": 3,
   "id": "567910b4",
   "metadata": {
    "execution": {
     "iopub.execute_input": "2022-08-23T01:09:14.702182Z",
     "iopub.status.busy": "2022-08-23T01:09:14.701186Z",
     "iopub.status.idle": "2022-08-23T01:09:15.782522Z",
     "shell.execute_reply": "2022-08-23T01:09:15.782005Z"
    }
   },
   "outputs": [
    {
     "data": {
      "application/json": {
       "ascii": false,
       "bar_format": null,
       "colour": null,
       "elapsed": 0.0240781307220459,
       "initial": 0,
       "n": 0,
       "ncols": null,
       "nrows": null,
       "postfix": null,
       "prefix": "",
       "rate": null,
       "total": 25,
       "unit": "it",
       "unit_divisor": 1000,
       "unit_scale": false
      },
      "application/vnd.jupyter.widget-view+json": {
       "model_id": "b14580f0822747e18a1ab9e7f1504852",
       "version_major": 2,
       "version_minor": 0
      },
      "text/plain": [
       "  0%|          | 0/25 [00:00<?, ?it/s]"
      ]
     },
     "metadata": {},
     "output_type": "display_data"
    },
    {
     "data": {
      "application/json": {
       "ascii": false,
       "bar_format": null,
       "colour": null,
       "elapsed": 0.023862600326538086,
       "initial": 0,
       "n": 0,
       "ncols": null,
       "nrows": null,
       "postfix": null,
       "prefix": "",
       "rate": null,
       "total": 13,
       "unit": "it",
       "unit_divisor": 1000,
       "unit_scale": false
      },
      "application/vnd.jupyter.widget-view+json": {
       "model_id": "b45df0e1361f4dd79869c63c4ad98e4c",
       "version_major": 2,
       "version_minor": 0
      },
      "text/plain": [
       "  0%|          | 0/13 [00:00<?, ?it/s]"
      ]
     },
     "metadata": {},
     "output_type": "display_data"
    }
   ],
   "source": [
    "im = ps.generators.blobs(shape=[200, 200], porosity=0.6)\n",
    "drn = ps.simulations.drainage(im=im, voxel_size=1, g=0)"
   ]
  },
  {
   "cell_type": "markdown",
   "id": "639b2f06",
   "metadata": {},
   "source": [
    "## `pc` and `im`"
   ]
  },
  {
   "cell_type": "code",
   "execution_count": 4,
   "id": "45c9fb8b",
   "metadata": {
    "execution": {
     "iopub.execute_input": "2022-08-23T01:09:15.786785Z",
     "iopub.status.busy": "2022-08-23T01:09:15.785754Z",
     "iopub.status.idle": "2022-08-23T01:09:15.907618Z",
     "shell.execute_reply": "2022-08-23T01:09:15.907080Z"
    }
   },
   "outputs": [
    {
     "data": {
      "image/svg+xml": [
       "<?xml version=\"1.0\" encoding=\"utf-8\" standalone=\"no\"?>\n",
       "<!DOCTYPE svg PUBLIC \"-//W3C//DTD SVG 1.1//EN\"\n",
       "  \"http://www.w3.org/Graphics/SVG/1.1/DTD/svg11.dtd\">\n",
       "<svg xmlns:xlink=\"http://www.w3.org/1999/xlink\" width=\"842.76pt\" height=\"420.48pt\" viewBox=\"0 0 842.76 420.48\" xmlns=\"http://www.w3.org/2000/svg\" version=\"1.1\">\n",
       " <metadata>\n",
       "  <rdf:RDF xmlns:dc=\"http://purl.org/dc/elements/1.1/\" xmlns:cc=\"http://creativecommons.org/ns#\" xmlns:rdf=\"http://www.w3.org/1999/02/22-rdf-syntax-ns#\">\n",
       "   <cc:Work>\n",
       "    <dc:type rdf:resource=\"http://purl.org/dc/dcmitype/StillImage\"/>\n",
       "    <dc:date>2022-08-23T01:09:15.886064</dc:date>\n",
       "    <dc:format>image/svg+xml</dc:format>\n",
       "    <dc:creator>\n",
       "     <cc:Agent>\n",
       "      <dc:title>Matplotlib v3.5.3, https://matplotlib.org/</dc:title>\n",
       "     </cc:Agent>\n",
       "    </dc:creator>\n",
       "   </cc:Work>\n",
       "  </rdf:RDF>\n",
       " </metadata>\n",
       " <defs>\n",
       "  <style type=\"text/css\">*{stroke-linejoin: round; stroke-linecap: butt}</style>\n",
       " </defs>\n",
       " <g id=\"figure_1\">\n",
       "  <g id=\"patch_1\">\n",
       "   <path d=\"M 0 420.48 \n",
       "L 842.76 420.48 \n",
       "L 842.76 0 \n",
       "L 0 0 \n",
       "z\n",
       "\" style=\"fill: #ffffff\"/>\n",
       "  </g>\n",
       "  <g id=\"axes_1\">\n",
       "   <g clip-path=\"url(#pee4491b3fd)\">\n",
       "    <image xlink:href=\"data:image/png;base64,\n",
       "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\" id=\"image6cc3279942\" transform=\"matrix(2.035 0 0 -2.035 7.2 413.28)\" style=\"image-rendering:crisp-edges;image-rendering:pixelated\" width=\"200\" height=\"200\"/>\n",
       "   </g>\n",
       "  </g>\n",
       "  <g id=\"axes_2\">\n",
       "   <g clip-path=\"url(#paf1b30f20c)\">\n",
       "    <image xlink:href=\"data:image/png;base64,\n",
       "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\" id=\"imagea8db1589b9\" transform=\"matrix(2.035 0 0 -2.035 429.48 413.28)\" style=\"image-rendering:crisp-edges;image-rendering:pixelated\" width=\"200\" height=\"200\"/>\n",
       "   </g>\n",
       "  </g>\n",
       " </g>\n",
       " <defs>\n",
       "  <clipPath id=\"pee4491b3fd\">\n",
       "   <rect x=\"7.2\" y=\"7.2\" width=\"406.08\" height=\"406.08\"/>\n",
       "  </clipPath>\n",
       "  <clipPath id=\"paf1b30f20c\">\n",
       "   <rect x=\"429.48\" y=\"7.2\" width=\"406.08\" height=\"406.08\"/>\n",
       "  </clipPath>\n",
       " </defs>\n",
       "</svg>\n"
      ],
      "text/plain": [
       "<Figure size 1200x600 with 2 Axes>"
      ]
     },
     "metadata": {},
     "output_type": "display_data"
    }
   ],
   "source": [
    "satn = ps.filters.pc_to_satn(pc=drn.im_pc, im=im)\n",
    "\n",
    "fig, ax = plt.subplots(1, 2, figsize=[12, 6])\n",
    "ax[0].imshow(drn.im_pc/im, interpolation='none', origin='lower')\n",
    "ax[0].axis(False)\n",
    "ax[1].imshow(satn/im, interpolation='none', origin='lower')\n",
    "ax[1].axis(False);"
   ]
  },
  {
   "cell_type": "markdown",
   "id": "d7be130c",
   "metadata": {},
   "source": [
    "The saturation image allows for easy determination of a desired fluid configuration:"
   ]
  },
  {
   "cell_type": "code",
   "execution_count": 5,
   "id": "70dced98",
   "metadata": {
    "execution": {
     "iopub.execute_input": "2022-08-23T01:09:15.911942Z",
     "iopub.status.busy": "2022-08-23T01:09:15.910879Z",
     "iopub.status.idle": "2022-08-23T01:09:16.035475Z",
     "shell.execute_reply": "2022-08-23T01:09:16.034911Z"
    }
   },
   "outputs": [
    {
     "data": {
      "image/svg+xml": [
       "<?xml version=\"1.0\" encoding=\"utf-8\" standalone=\"no\"?>\n",
       "<!DOCTYPE svg PUBLIC \"-//W3C//DTD SVG 1.1//EN\"\n",
       "  \"http://www.w3.org/Graphics/SVG/1.1/DTD/svg11.dtd\">\n",
       "<svg xmlns:xlink=\"http://www.w3.org/1999/xlink\" width=\"842.76pt\" height=\"420.48pt\" viewBox=\"0 0 842.76 420.48\" xmlns=\"http://www.w3.org/2000/svg\" version=\"1.1\">\n",
       " <metadata>\n",
       "  <rdf:RDF xmlns:dc=\"http://purl.org/dc/elements/1.1/\" xmlns:cc=\"http://creativecommons.org/ns#\" xmlns:rdf=\"http://www.w3.org/1999/02/22-rdf-syntax-ns#\">\n",
       "   <cc:Work>\n",
       "    <dc:type rdf:resource=\"http://purl.org/dc/dcmitype/StillImage\"/>\n",
       "    <dc:date>2022-08-23T01:09:16.008228</dc:date>\n",
       "    <dc:format>image/svg+xml</dc:format>\n",
       "    <dc:creator>\n",
       "     <cc:Agent>\n",
       "      <dc:title>Matplotlib v3.5.3, https://matplotlib.org/</dc:title>\n",
       "     </cc:Agent>\n",
       "    </dc:creator>\n",
       "   </cc:Work>\n",
       "  </rdf:RDF>\n",
       " </metadata>\n",
       " <defs>\n",
       "  <style type=\"text/css\">*{stroke-linejoin: round; stroke-linecap: butt}</style>\n",
       " </defs>\n",
       " <g id=\"figure_1\">\n",
       "  <g id=\"patch_1\">\n",
       "   <path d=\"M 0 420.48 \n",
       "L 842.76 420.48 \n",
       "L 842.76 0 \n",
       "L 0 0 \n",
       "z\n",
       "\" style=\"fill: #ffffff\"/>\n",
       "  </g>\n",
       "  <g id=\"axes_1\">\n",
       "   <g clip-path=\"url(#pf56824f454)\">\n",
       "    <image xlink:href=\"data:image/png;base64,\n",
       "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\" id=\"image0c89814f50\" transform=\"matrix(2.035 0 0 -2.035 7.2 413.28)\" style=\"image-rendering:crisp-edges;image-rendering:pixelated\" width=\"200\" height=\"200\"/>\n",
       "   </g>\n",
       "  </g>\n",
       "  <g id=\"axes_2\">\n",
       "   <g clip-path=\"url(#paf5e0ce702)\">\n",
       "    <image xlink:href=\"data:image/png;base64,\n",
       "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\" id=\"image1ff463f11a\" transform=\"matrix(2.035 0 0 -2.035 429.48 413.28)\" style=\"image-rendering:crisp-edges;image-rendering:pixelated\" width=\"200\" height=\"200\"/>\n",
       "   </g>\n",
       "  </g>\n",
       " </g>\n",
       " <defs>\n",
       "  <clipPath id=\"pf56824f454\">\n",
       "   <rect x=\"7.2\" y=\"7.2\" width=\"406.08\" height=\"406.08\"/>\n",
       "  </clipPath>\n",
       "  <clipPath id=\"paf5e0ce702\">\n",
       "   <rect x=\"429.48\" y=\"7.2\" width=\"406.08\" height=\"406.08\"/>\n",
       "  </clipPath>\n",
       " </defs>\n",
       "</svg>\n"
      ],
      "text/plain": [
       "<Figure size 1200x600 with 2 Axes>"
      ]
     },
     "metadata": {},
     "output_type": "display_data"
    }
   ],
   "source": [
    "fig, ax = plt.subplots(1, 2, figsize=[12, 6])\n",
    "ax[0].imshow((satn < 0.3)*(satn > 0)/im, interpolation='none', origin='lower')\n",
    "ax[0].axis(False)\n",
    "ax[1].imshow((satn < 0.8)*(satn > 0)/im, interpolation='none', origin='lower')\n",
    "ax[1].axis(False);"
   ]
  }
 ],
 "metadata": {
  "kernelspec": {
   "display_name": "Python 3 (ipykernel)",
   "language": "python",
   "name": "python3"
  },
  "language_info": {
   "codemirror_mode": {
    "name": "ipython",
    "version": 3
   },
   "file_extension": ".py",
   "mimetype": "text/x-python",
   "name": "python",
   "nbconvert_exporter": "python",
   "pygments_lexer": "ipython3",
   "version": "3.8.13"
  },
  "widgets": {
   "application/vnd.jupyter.widget-state+json": {
    "state": {
     "0a6985f812344356bf93347dbb784889": {
      "model_module": "@jupyter-widgets/controls",
      "model_module_version": "2.0.0",
      "model_name": "HTMLModel",
      "state": {
       "_dom_classes": [],
       "_model_module": "@jupyter-widgets/controls",
       "_model_module_version": "2.0.0",
       "_model_name": "HTMLModel",
       "_view_count": null,
       "_view_module": "@jupyter-widgets/controls",
       "_view_module_version": "2.0.0",
       "_view_name": "HTMLView",
       "description": "",
       "description_allow_html": false,
       "layout": "IPY_MODEL_2f0c77e4d1c14765bc05326c2b86337f",
       "placeholder": "​",
       "style": "IPY_MODEL_a47881ee6efb48e4b70deacc6d1384f4",
       "tabbable": null,
       "tooltip": null,
       "value": " 0/13 [00:00&lt;?, ?it/s]"
      }
     },
     "112b77ea08b3455c9cb4013bd98c4bf1": {
      "model_module": "@jupyter-widgets/base",
      "model_module_version": "2.0.0",
      "model_name": "LayoutModel",
      "state": {
       "_model_module": "@jupyter-widgets/base",
       "_model_module_version": "2.0.0",
       "_model_name": "LayoutModel",
       "_view_count": null,
       "_view_module": "@jupyter-widgets/base",
       "_view_module_version": "2.0.0",
       "_view_name": "LayoutView",
       "align_content": null,
       "align_items": null,
       "align_self": null,
       "border_bottom": null,
       "border_left": null,
       "border_right": null,
       "border_top": null,
       "bottom": null,
       "display": null,
       "flex": null,
       "flex_flow": null,
       "grid_area": null,
       "grid_auto_columns": null,
       "grid_auto_flow": null,
       "grid_auto_rows": null,
       "grid_column": null,
       "grid_gap": null,
       "grid_row": null,
       "grid_template_areas": null,
       "grid_template_columns": null,
       "grid_template_rows": null,
       "height": null,
       "justify_content": null,
       "justify_items": null,
       "left": null,
       "margin": null,
       "max_height": null,
       "max_width": null,
       "min_height": null,
       "min_width": null,
       "object_fit": null,
       "object_position": null,
       "order": null,
       "overflow": null,
       "padding": null,
       "right": null,
       "top": null,
       "visibility": null,
       "width": null
      }
     },
     "1f33ce6d3f69461ca43dab700a0a4eba": {
      "model_module": "@jupyter-widgets/base",
      "model_module_version": "2.0.0",
      "model_name": "LayoutModel",
      "state": {
       "_model_module": "@jupyter-widgets/base",
       "_model_module_version": "2.0.0",
       "_model_name": "LayoutModel",
       "_view_count": null,
       "_view_module": "@jupyter-widgets/base",
       "_view_module_version": "2.0.0",
       "_view_name": "LayoutView",
       "align_content": null,
       "align_items": null,
       "align_self": null,
       "border_bottom": null,
       "border_left": null,
       "border_right": null,
       "border_top": null,
       "bottom": null,
       "display": null,
       "flex": null,
       "flex_flow": null,
       "grid_area": null,
       "grid_auto_columns": null,
       "grid_auto_flow": null,
       "grid_auto_rows": null,
       "grid_column": null,
       "grid_gap": null,
       "grid_row": null,
       "grid_template_areas": null,
       "grid_template_columns": null,
       "grid_template_rows": null,
       "height": null,
       "justify_content": null,
       "justify_items": null,
       "left": null,
       "margin": null,
       "max_height": null,
       "max_width": null,
       "min_height": null,
       "min_width": null,
       "object_fit": null,
       "object_position": null,
       "order": null,
       "overflow": null,
       "padding": null,
       "right": null,
       "top": null,
       "visibility": null,
       "width": null
      }
     },
     "2f0c77e4d1c14765bc05326c2b86337f": {
      "model_module": "@jupyter-widgets/base",
      "model_module_version": "2.0.0",
      "model_name": "LayoutModel",
      "state": {
       "_model_module": "@jupyter-widgets/base",
       "_model_module_version": "2.0.0",
       "_model_name": "LayoutModel",
       "_view_count": null,
       "_view_module": "@jupyter-widgets/base",
       "_view_module_version": "2.0.0",
       "_view_name": "LayoutView",
       "align_content": null,
       "align_items": null,
       "align_self": null,
       "border_bottom": null,
       "border_left": null,
       "border_right": null,
       "border_top": null,
       "bottom": null,
       "display": null,
       "flex": null,
       "flex_flow": null,
       "grid_area": null,
       "grid_auto_columns": null,
       "grid_auto_flow": null,
       "grid_auto_rows": null,
       "grid_column": null,
       "grid_gap": null,
       "grid_row": null,
       "grid_template_areas": null,
       "grid_template_columns": null,
       "grid_template_rows": null,
       "height": null,
       "justify_content": null,
       "justify_items": null,
       "left": null,
       "margin": null,
       "max_height": null,
       "max_width": null,
       "min_height": null,
       "min_width": null,
       "object_fit": null,
       "object_position": null,
       "order": null,
       "overflow": null,
       "padding": null,
       "right": null,
       "top": null,
       "visibility": null,
       "width": null
      }
     },
     "37e4c93369bc4443ad945e63d6b7a0d9": {
      "model_module": "@jupyter-widgets/controls",
      "model_module_version": "2.0.0",
      "model_name": "HTMLModel",
      "state": {
       "_dom_classes": [],
       "_model_module": "@jupyter-widgets/controls",
       "_model_module_version": "2.0.0",
       "_model_name": "HTMLModel",
       "_view_count": null,
       "_view_module": "@jupyter-widgets/controls",
       "_view_module_version": "2.0.0",
       "_view_name": "HTMLView",
       "description": "",
       "description_allow_html": false,
       "layout": "IPY_MODEL_9ab32c2e83b44c1db86a5a43b343b040",
       "placeholder": "​",
       "style": "IPY_MODEL_5229ee87664840e7a16602a679973724",
       "tabbable": null,
       "tooltip": null,
       "value": " 1/25 [00:00&lt;00:23,  1.01it/s]"
      }
     },
     "49b3aa0348414032b3b358498de626e4": {
      "model_module": "@jupyter-widgets/controls",
      "model_module_version": "2.0.0",
      "model_name": "ProgressStyleModel",
      "state": {
       "_model_module": "@jupyter-widgets/controls",
       "_model_module_version": "2.0.0",
       "_model_name": "ProgressStyleModel",
       "_view_count": null,
       "_view_module": "@jupyter-widgets/base",
       "_view_module_version": "2.0.0",
       "_view_name": "StyleView",
       "bar_color": null,
       "description_width": ""
      }
     },
     "5229ee87664840e7a16602a679973724": {
      "model_module": "@jupyter-widgets/controls",
      "model_module_version": "2.0.0",
      "model_name": "HTMLStyleModel",
      "state": {
       "_model_module": "@jupyter-widgets/controls",
       "_model_module_version": "2.0.0",
       "_model_name": "HTMLStyleModel",
       "_view_count": null,
       "_view_module": "@jupyter-widgets/base",
       "_view_module_version": "2.0.0",
       "_view_name": "StyleView",
       "background": null,
       "description_width": "",
       "font_size": null,
       "text_color": null
      }
     },
     "636c5ea9e9ac4893894064d946b548cb": {
      "model_module": "@jupyter-widgets/base",
      "model_module_version": "2.0.0",
      "model_name": "LayoutModel",
      "state": {
       "_model_module": "@jupyter-widgets/base",
       "_model_module_version": "2.0.0",
       "_model_name": "LayoutModel",
       "_view_count": null,
       "_view_module": "@jupyter-widgets/base",
       "_view_module_version": "2.0.0",
       "_view_name": "LayoutView",
       "align_content": null,
       "align_items": null,
       "align_self": null,
       "border_bottom": null,
       "border_left": null,
       "border_right": null,
       "border_top": null,
       "bottom": null,
       "display": null,
       "flex": null,
       "flex_flow": null,
       "grid_area": null,
       "grid_auto_columns": null,
       "grid_auto_flow": null,
       "grid_auto_rows": null,
       "grid_column": null,
       "grid_gap": null,
       "grid_row": null,
       "grid_template_areas": null,
       "grid_template_columns": null,
       "grid_template_rows": null,
       "height": null,
       "justify_content": null,
       "justify_items": null,
       "left": null,
       "margin": null,
       "max_height": null,
       "max_width": null,
       "min_height": null,
       "min_width": null,
       "object_fit": null,
       "object_position": null,
       "order": null,
       "overflow": null,
       "padding": null,
       "right": null,
       "top": null,
       "visibility": null,
       "width": null
      }
     },
     "644d1a51b9414ac6b1c4e9424ab55170": {
      "model_module": "@jupyter-widgets/controls",
      "model_module_version": "2.0.0",
      "model_name": "HTMLStyleModel",
      "state": {
       "_model_module": "@jupyter-widgets/controls",
       "_model_module_version": "2.0.0",
       "_model_name": "HTMLStyleModel",
       "_view_count": null,
       "_view_module": "@jupyter-widgets/base",
       "_view_module_version": "2.0.0",
       "_view_name": "StyleView",
       "background": null,
       "description_width": "",
       "font_size": null,
       "text_color": null
      }
     },
     "813b3d746e174bcea10eefe806eae1bf": {
      "model_module": "@jupyter-widgets/base",
      "model_module_version": "2.0.0",
      "model_name": "LayoutModel",
      "state": {
       "_model_module": "@jupyter-widgets/base",
       "_model_module_version": "2.0.0",
       "_model_name": "LayoutModel",
       "_view_count": null,
       "_view_module": "@jupyter-widgets/base",
       "_view_module_version": "2.0.0",
       "_view_name": "LayoutView",
       "align_content": null,
       "align_items": null,
       "align_self": null,
       "border_bottom": null,
       "border_left": null,
       "border_right": null,
       "border_top": null,
       "bottom": null,
       "display": null,
       "flex": null,
       "flex_flow": null,
       "grid_area": null,
       "grid_auto_columns": null,
       "grid_auto_flow": null,
       "grid_auto_rows": null,
       "grid_column": null,
       "grid_gap": null,
       "grid_row": null,
       "grid_template_areas": null,
       "grid_template_columns": null,
       "grid_template_rows": null,
       "height": null,
       "justify_content": null,
       "justify_items": null,
       "left": null,
       "margin": null,
       "max_height": null,
       "max_width": null,
       "min_height": null,
       "min_width": null,
       "object_fit": null,
       "object_position": null,
       "order": null,
       "overflow": null,
       "padding": null,
       "right": null,
       "top": null,
       "visibility": null,
       "width": null
      }
     },
     "8430bd7b6d8c4263838bff33ceb138df": {
      "model_module": "@jupyter-widgets/controls",
      "model_module_version": "2.0.0",
      "model_name": "ProgressStyleModel",
      "state": {
       "_model_module": "@jupyter-widgets/controls",
       "_model_module_version": "2.0.0",
       "_model_name": "ProgressStyleModel",
       "_view_count": null,
       "_view_module": "@jupyter-widgets/base",
       "_view_module_version": "2.0.0",
       "_view_name": "StyleView",
       "bar_color": null,
       "description_width": ""
      }
     },
     "96701bfe36ea4fc790cd5c5942745352": {
      "model_module": "@jupyter-widgets/controls",
      "model_module_version": "2.0.0",
      "model_name": "FloatProgressModel",
      "state": {
       "_dom_classes": [],
       "_model_module": "@jupyter-widgets/controls",
       "_model_module_version": "2.0.0",
       "_model_name": "FloatProgressModel",
       "_view_count": null,
       "_view_module": "@jupyter-widgets/controls",
       "_view_module_version": "2.0.0",
       "_view_name": "ProgressView",
       "bar_style": "",
       "description": "",
       "description_allow_html": false,
       "layout": "IPY_MODEL_813b3d746e174bcea10eefe806eae1bf",
       "max": 25.0,
       "min": 0.0,
       "orientation": "horizontal",
       "style": "IPY_MODEL_8430bd7b6d8c4263838bff33ceb138df",
       "tabbable": null,
       "tooltip": null,
       "value": 25.0
      }
     },
     "9ab32c2e83b44c1db86a5a43b343b040": {
      "model_module": "@jupyter-widgets/base",
      "model_module_version": "2.0.0",
      "model_name": "LayoutModel",
      "state": {
       "_model_module": "@jupyter-widgets/base",
       "_model_module_version": "2.0.0",
       "_model_name": "LayoutModel",
       "_view_count": null,
       "_view_module": "@jupyter-widgets/base",
       "_view_module_version": "2.0.0",
       "_view_name": "LayoutView",
       "align_content": null,
       "align_items": null,
       "align_self": null,
       "border_bottom": null,
       "border_left": null,
       "border_right": null,
       "border_top": null,
       "bottom": null,
       "display": null,
       "flex": null,
       "flex_flow": null,
       "grid_area": null,
       "grid_auto_columns": null,
       "grid_auto_flow": null,
       "grid_auto_rows": null,
       "grid_column": null,
       "grid_gap": null,
       "grid_row": null,
       "grid_template_areas": null,
       "grid_template_columns": null,
       "grid_template_rows": null,
       "height": null,
       "justify_content": null,
       "justify_items": null,
       "left": null,
       "margin": null,
       "max_height": null,
       "max_width": null,
       "min_height": null,
       "min_width": null,
       "object_fit": null,
       "object_position": null,
       "order": null,
       "overflow": null,
       "padding": null,
       "right": null,
       "top": null,
       "visibility": null,
       "width": null
      }
     },
     "a47881ee6efb48e4b70deacc6d1384f4": {
      "model_module": "@jupyter-widgets/controls",
      "model_module_version": "2.0.0",
      "model_name": "HTMLStyleModel",
      "state": {
       "_model_module": "@jupyter-widgets/controls",
       "_model_module_version": "2.0.0",
       "_model_name": "HTMLStyleModel",
       "_view_count": null,
       "_view_module": "@jupyter-widgets/base",
       "_view_module_version": "2.0.0",
       "_view_name": "StyleView",
       "background": null,
       "description_width": "",
       "font_size": null,
       "text_color": null
      }
     },
     "b14580f0822747e18a1ab9e7f1504852": {
      "model_module": "@jupyter-widgets/controls",
      "model_module_version": "2.0.0",
      "model_name": "HBoxModel",
      "state": {
       "_dom_classes": [],
       "_model_module": "@jupyter-widgets/controls",
       "_model_module_version": "2.0.0",
       "_model_name": "HBoxModel",
       "_view_count": null,
       "_view_module": "@jupyter-widgets/controls",
       "_view_module_version": "2.0.0",
       "_view_name": "HBoxView",
       "box_style": "",
       "children": [
        "IPY_MODEL_e084fb5ca3a04fb49e7d1a99151c2aab",
        "IPY_MODEL_96701bfe36ea4fc790cd5c5942745352",
        "IPY_MODEL_37e4c93369bc4443ad945e63d6b7a0d9"
       ],
       "layout": "IPY_MODEL_f9071fe581eb4ef1b77954dd09bfd2f8",
       "tabbable": null,
       "tooltip": null
      }
     },
     "b45df0e1361f4dd79869c63c4ad98e4c": {
      "model_module": "@jupyter-widgets/controls",
      "model_module_version": "2.0.0",
      "model_name": "HBoxModel",
      "state": {
       "_dom_classes": [],
       "_model_module": "@jupyter-widgets/controls",
       "_model_module_version": "2.0.0",
       "_model_name": "HBoxModel",
       "_view_count": null,
       "_view_module": "@jupyter-widgets/controls",
       "_view_module_version": "2.0.0",
       "_view_name": "HBoxView",
       "box_style": "",
       "children": [
        "IPY_MODEL_e5cba90b125a48f6a74933a9d44c47e6",
        "IPY_MODEL_c0578a1aaa134fb99ef41fe25a092432",
        "IPY_MODEL_0a6985f812344356bf93347dbb784889"
       ],
       "layout": "IPY_MODEL_112b77ea08b3455c9cb4013bd98c4bf1",
       "tabbable": null,
       "tooltip": null
      }
     },
     "c0578a1aaa134fb99ef41fe25a092432": {
      "model_module": "@jupyter-widgets/controls",
      "model_module_version": "2.0.0",
      "model_name": "FloatProgressModel",
      "state": {
       "_dom_classes": [],
       "_model_module": "@jupyter-widgets/controls",
       "_model_module_version": "2.0.0",
       "_model_name": "FloatProgressModel",
       "_view_count": null,
       "_view_module": "@jupyter-widgets/controls",
       "_view_module_version": "2.0.0",
       "_view_name": "ProgressView",
       "bar_style": "",
       "description": "",
       "description_allow_html": false,
       "layout": "IPY_MODEL_1f33ce6d3f69461ca43dab700a0a4eba",
       "max": 13.0,
       "min": 0.0,
       "orientation": "horizontal",
       "style": "IPY_MODEL_49b3aa0348414032b3b358498de626e4",
       "tabbable": null,
       "tooltip": null,
       "value": 13.0
      }
     },
     "cba1dcbe89f0491fabe5381a95505329": {
      "model_module": "@jupyter-widgets/controls",
      "model_module_version": "2.0.0",
      "model_name": "HTMLStyleModel",
      "state": {
       "_model_module": "@jupyter-widgets/controls",
       "_model_module_version": "2.0.0",
       "_model_name": "HTMLStyleModel",
       "_view_count": null,
       "_view_module": "@jupyter-widgets/base",
       "_view_module_version": "2.0.0",
       "_view_name": "StyleView",
       "background": null,
       "description_width": "",
       "font_size": null,
       "text_color": null
      }
     },
     "d1390e0a439349aeb4cbc7ea4590e960": {
      "model_module": "@jupyter-widgets/base",
      "model_module_version": "2.0.0",
      "model_name": "LayoutModel",
      "state": {
       "_model_module": "@jupyter-widgets/base",
       "_model_module_version": "2.0.0",
       "_model_name": "LayoutModel",
       "_view_count": null,
       "_view_module": "@jupyter-widgets/base",
       "_view_module_version": "2.0.0",
       "_view_name": "LayoutView",
       "align_content": null,
       "align_items": null,
       "align_self": null,
       "border_bottom": null,
       "border_left": null,
       "border_right": null,
       "border_top": null,
       "bottom": null,
       "display": null,
       "flex": null,
       "flex_flow": null,
       "grid_area": null,
       "grid_auto_columns": null,
       "grid_auto_flow": null,
       "grid_auto_rows": null,
       "grid_column": null,
       "grid_gap": null,
       "grid_row": null,
       "grid_template_areas": null,
       "grid_template_columns": null,
       "grid_template_rows": null,
       "height": null,
       "justify_content": null,
       "justify_items": null,
       "left": null,
       "margin": null,
       "max_height": null,
       "max_width": null,
       "min_height": null,
       "min_width": null,
       "object_fit": null,
       "object_position": null,
       "order": null,
       "overflow": null,
       "padding": null,
       "right": null,
       "top": null,
       "visibility": null,
       "width": null
      }
     },
     "e084fb5ca3a04fb49e7d1a99151c2aab": {
      "model_module": "@jupyter-widgets/controls",
      "model_module_version": "2.0.0",
      "model_name": "HTMLModel",
      "state": {
       "_dom_classes": [],
       "_model_module": "@jupyter-widgets/controls",
       "_model_module_version": "2.0.0",
       "_model_name": "HTMLModel",
       "_view_count": null,
       "_view_module": "@jupyter-widgets/controls",
       "_view_module_version": "2.0.0",
       "_view_name": "HTMLView",
       "description": "",
       "description_allow_html": false,
       "layout": "IPY_MODEL_d1390e0a439349aeb4cbc7ea4590e960",
       "placeholder": "​",
       "style": "IPY_MODEL_cba1dcbe89f0491fabe5381a95505329",
       "tabbable": null,
       "tooltip": null,
       "value": "  4%"
      }
     },
     "e5cba90b125a48f6a74933a9d44c47e6": {
      "model_module": "@jupyter-widgets/controls",
      "model_module_version": "2.0.0",
      "model_name": "HTMLModel",
      "state": {
       "_dom_classes": [],
       "_model_module": "@jupyter-widgets/controls",
       "_model_module_version": "2.0.0",
       "_model_name": "HTMLModel",
       "_view_count": null,
       "_view_module": "@jupyter-widgets/controls",
       "_view_module_version": "2.0.0",
       "_view_name": "HTMLView",
       "description": "",
       "description_allow_html": false,
       "layout": "IPY_MODEL_636c5ea9e9ac4893894064d946b548cb",
       "placeholder": "​",
       "style": "IPY_MODEL_644d1a51b9414ac6b1c4e9424ab55170",
       "tabbable": null,
       "tooltip": null,
       "value": "  0%"
      }
     },
     "f9071fe581eb4ef1b77954dd09bfd2f8": {
      "model_module": "@jupyter-widgets/base",
      "model_module_version": "2.0.0",
      "model_name": "LayoutModel",
      "state": {
       "_model_module": "@jupyter-widgets/base",
       "_model_module_version": "2.0.0",
       "_model_name": "LayoutModel",
       "_view_count": null,
       "_view_module": "@jupyter-widgets/base",
       "_view_module_version": "2.0.0",
       "_view_name": "LayoutView",
       "align_content": null,
       "align_items": null,
       "align_self": null,
       "border_bottom": null,
       "border_left": null,
       "border_right": null,
       "border_top": null,
       "bottom": null,
       "display": null,
       "flex": null,
       "flex_flow": null,
       "grid_area": null,
       "grid_auto_columns": null,
       "grid_auto_flow": null,
       "grid_auto_rows": null,
       "grid_column": null,
       "grid_gap": null,
       "grid_row": null,
       "grid_template_areas": null,
       "grid_template_columns": null,
       "grid_template_rows": null,
       "height": null,
       "justify_content": null,
       "justify_items": null,
       "left": null,
       "margin": null,
       "max_height": null,
       "max_width": null,
       "min_height": null,
       "min_width": null,
       "object_fit": null,
       "object_position": null,
       "order": null,
       "overflow": null,
       "padding": null,
       "right": null,
       "top": null,
       "visibility": null,
       "width": null
      }
     }
    },
    "version_major": 2,
    "version_minor": 0
   }
  }
 },
 "nbformat": 4,
 "nbformat_minor": 5
}

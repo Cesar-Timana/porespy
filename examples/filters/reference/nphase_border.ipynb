{
 "cells": [
  {
   "cell_type": "markdown",
   "metadata": {},
   "source": [
    "# `nphase_border`\n",
    "Computes the number of phases that border on each pixel."
   ]
  },
  {
   "cell_type": "code",
   "execution_count": 1,
   "metadata": {
    "execution": {
     "iopub.execute_input": "2022-08-23T00:34:26.373475Z",
     "iopub.status.busy": "2022-08-23T00:34:26.373217Z",
     "iopub.status.idle": "2022-08-23T00:34:28.254749Z",
     "shell.execute_reply": "2022-08-23T00:34:28.254070Z"
    }
   },
   "outputs": [],
   "source": [
    "import matplotlib.pyplot as plt\n",
    "import numpy as np\n",
    "import porespy as ps\n",
    "ps.visualization.set_mpl_style()"
   ]
  },
  {
   "cell_type": "markdown",
   "metadata": {},
   "source": [
    "The arguments and their defaults are:"
   ]
  },
  {
   "cell_type": "code",
   "execution_count": 2,
   "metadata": {
    "execution": {
     "iopub.execute_input": "2022-08-23T00:34:28.259764Z",
     "iopub.status.busy": "2022-08-23T00:34:28.258258Z",
     "iopub.status.idle": "2022-08-23T00:34:28.266473Z",
     "shell.execute_reply": "2022-08-23T00:34:28.266010Z"
    }
   },
   "outputs": [
    {
     "data": {
      "text/plain": [
       "<Signature (im, include_diagonals=False)>"
      ]
     },
     "execution_count": 2,
     "metadata": {},
     "output_type": "execute_result"
    }
   ],
   "source": [
    "import inspect\n",
    "inspect.signature(ps.filters.nphase_border)"
   ]
  },
  {
   "cell_type": "markdown",
   "metadata": {},
   "source": [
    "## `im`\n",
    "This function works on both 2D and 3D images.  If an im"
   ]
  },
  {
   "cell_type": "code",
   "execution_count": 3,
   "metadata": {
    "execution": {
     "iopub.execute_input": "2022-08-23T00:34:28.270496Z",
     "iopub.status.busy": "2022-08-23T00:34:28.269492Z",
     "iopub.status.idle": "2022-08-23T00:34:28.883236Z",
     "shell.execute_reply": "2022-08-23T00:34:28.882691Z"
    }
   },
   "outputs": [
    {
     "data": {
      "image/svg+xml": [
       "<?xml version=\"1.0\" encoding=\"utf-8\" standalone=\"no\"?>\n",
       "<!DOCTYPE svg PUBLIC \"-//W3C//DTD SVG 1.1//EN\"\n",
       "  \"http://www.w3.org/Graphics/SVG/1.1/DTD/svg11.dtd\">\n",
       "<svg xmlns:xlink=\"http://www.w3.org/1999/xlink\" width=\"842.76pt\" height=\"420.48pt\" viewBox=\"0 0 842.76 420.48\" xmlns=\"http://www.w3.org/2000/svg\" version=\"1.1\">\n",
       " <metadata>\n",
       "  <rdf:RDF xmlns:dc=\"http://purl.org/dc/elements/1.1/\" xmlns:cc=\"http://creativecommons.org/ns#\" xmlns:rdf=\"http://www.w3.org/1999/02/22-rdf-syntax-ns#\">\n",
       "   <cc:Work>\n",
       "    <dc:type rdf:resource=\"http://purl.org/dc/dcmitype/StillImage\"/>\n",
       "    <dc:date>2022-08-23T00:34:28.852185</dc:date>\n",
       "    <dc:format>image/svg+xml</dc:format>\n",
       "    <dc:creator>\n",
       "     <cc:Agent>\n",
       "      <dc:title>Matplotlib v3.5.3, https://matplotlib.org/</dc:title>\n",
       "     </cc:Agent>\n",
       "    </dc:creator>\n",
       "   </cc:Work>\n",
       "  </rdf:RDF>\n",
       " </metadata>\n",
       " <defs>\n",
       "  <style type=\"text/css\">*{stroke-linejoin: round; stroke-linecap: butt}</style>\n",
       " </defs>\n",
       " <g id=\"figure_1\">\n",
       "  <g id=\"patch_1\">\n",
       "   <path d=\"M 0 420.48 \n",
       "L 842.76 420.48 \n",
       "L 842.76 0 \n",
       "L 0 0 \n",
       "z\n",
       "\" style=\"fill: #ffffff\"/>\n",
       "  </g>\n",
       "  <g id=\"axes_1\">\n",
       "   <g clip-path=\"url(#pafd68665dc)\">\n",
       "    <image xlink:href=\"data:image/png;base64,\n",
       "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\" id=\"image1628c3f7ec\" transform=\"matrix(2.035 0 0 -2.035 7.2 413.28)\" style=\"image-rendering:crisp-edges;image-rendering:pixelated\" width=\"200\" height=\"200\"/>\n",
       "   </g>\n",
       "  </g>\n",
       "  <g id=\"axes_2\">\n",
       "   <g clip-path=\"url(#pd8ccf5d82d)\">\n",
       "    <image xlink:href=\"data:image/png;base64,\n",
       "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\" id=\"image83681d46ac\" transform=\"matrix(2.035 0 0 -2.035 429.48 413.28)\" style=\"image-rendering:crisp-edges;image-rendering:pixelated\" width=\"200\" height=\"200\"/>\n",
       "   </g>\n",
       "  </g>\n",
       " </g>\n",
       " <defs>\n",
       "  <clipPath id=\"pafd68665dc\">\n",
       "   <rect x=\"7.2\" y=\"7.2\" width=\"406.08\" height=\"406.08\"/>\n",
       "  </clipPath>\n",
       "  <clipPath id=\"pd8ccf5d82d\">\n",
       "   <rect x=\"429.48\" y=\"7.2\" width=\"406.08\" height=\"406.08\"/>\n",
       "  </clipPath>\n",
       " </defs>\n",
       "</svg>\n"
      ],
      "text/plain": [
       "<Figure size 1200x600 with 2 Axes>"
      ]
     },
     "metadata": {},
     "output_type": "display_data"
    }
   ],
   "source": [
    "matrix = ps.generators.blobs([200, 200])\n",
    "inclusions = ps.generators.rsa(~matrix, r=5, return_spheres=True, clearance=3)\n",
    "bd = ps.filters.nphase_border(matrix*1.0 + inclusions*1.0)\n",
    "\n",
    "fig, ax = plt.subplots(1, 2, figsize=[12, 6])\n",
    "ax[0].imshow(matrix*1.0 + inclusions*1.0, origin='lower', interpolation='none')\n",
    "ax[0].axis(False)\n",
    "ax[1].imshow(bd, origin='lower', interpolation='none')\n",
    "ax[1].axis(False);"
   ]
  },
  {
   "cell_type": "code",
   "execution_count": 4,
   "metadata": {
    "execution": {
     "iopub.execute_input": "2022-08-23T00:34:28.887522Z",
     "iopub.status.busy": "2022-08-23T00:34:28.886457Z",
     "iopub.status.idle": "2022-08-23T00:34:28.899975Z",
     "shell.execute_reply": "2022-08-23T00:34:28.899463Z"
    }
   },
   "outputs": [
    {
     "data": {
      "text/plain": [
       "array([1., 2., 3.])"
      ]
     },
     "execution_count": 4,
     "metadata": {},
     "output_type": "execute_result"
    }
   ],
   "source": [
    "np.unique(bd)"
   ]
  },
  {
   "cell_type": "markdown",
   "metadata": {},
   "source": [
    "The unique values in ``bd`` are 1, 2 and 3 indicating that some pixels border on 1 phase (internal pixels), 2 phases (edges) or 3 phases (corners where void, matrix and inclusion meet). Including diagonals results in a thicker border since more voxels are found that lie on an edge."
   ]
  },
  {
   "cell_type": "markdown",
   "metadata": {},
   "source": [
    "## `include_diagonals`\n",
    "Controls that neighbor of the search."
   ]
  },
  {
   "cell_type": "code",
   "execution_count": 5,
   "metadata": {
    "execution": {
     "iopub.execute_input": "2022-08-23T00:34:28.904338Z",
     "iopub.status.busy": "2022-08-23T00:34:28.903305Z",
     "iopub.status.idle": "2022-08-23T00:34:29.053902Z",
     "shell.execute_reply": "2022-08-23T00:34:29.053386Z"
    }
   },
   "outputs": [
    {
     "data": {
      "image/svg+xml": [
       "<?xml version=\"1.0\" encoding=\"utf-8\" standalone=\"no\"?>\n",
       "<!DOCTYPE svg PUBLIC \"-//W3C//DTD SVG 1.1//EN\"\n",
       "  \"http://www.w3.org/Graphics/SVG/1.1/DTD/svg11.dtd\">\n",
       "<svg xmlns:xlink=\"http://www.w3.org/1999/xlink\" width=\"842.76pt\" height=\"420.48pt\" viewBox=\"0 0 842.76 420.48\" xmlns=\"http://www.w3.org/2000/svg\" version=\"1.1\">\n",
       " <metadata>\n",
       "  <rdf:RDF xmlns:dc=\"http://purl.org/dc/elements/1.1/\" xmlns:cc=\"http://creativecommons.org/ns#\" xmlns:rdf=\"http://www.w3.org/1999/02/22-rdf-syntax-ns#\">\n",
       "   <cc:Work>\n",
       "    <dc:type rdf:resource=\"http://purl.org/dc/dcmitype/StillImage\"/>\n",
       "    <dc:date>2022-08-23T00:34:29.026358</dc:date>\n",
       "    <dc:format>image/svg+xml</dc:format>\n",
       "    <dc:creator>\n",
       "     <cc:Agent>\n",
       "      <dc:title>Matplotlib v3.5.3, https://matplotlib.org/</dc:title>\n",
       "     </cc:Agent>\n",
       "    </dc:creator>\n",
       "   </cc:Work>\n",
       "  </rdf:RDF>\n",
       " </metadata>\n",
       " <defs>\n",
       "  <style type=\"text/css\">*{stroke-linejoin: round; stroke-linecap: butt}</style>\n",
       " </defs>\n",
       " <g id=\"figure_1\">\n",
       "  <g id=\"patch_1\">\n",
       "   <path d=\"M 0 420.48 \n",
       "L 842.76 420.48 \n",
       "L 842.76 0 \n",
       "L 0 0 \n",
       "z\n",
       "\" style=\"fill: #ffffff\"/>\n",
       "  </g>\n",
       "  <g id=\"axes_1\">\n",
       "   <g clip-path=\"url(#pb0208825a5)\">\n",
       "    <image xlink:href=\"data:image/png;base64,\n",
       "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\" id=\"imagee208212887\" transform=\"matrix(2.035 0 0 -2.035 7.2 413.28)\" style=\"image-rendering:crisp-edges;image-rendering:pixelated\" width=\"200\" height=\"200\"/>\n",
       "   </g>\n",
       "  </g>\n",
       "  <g id=\"axes_2\">\n",
       "   <g clip-path=\"url(#p1f1041c9ae)\">\n",
       "    <image xlink:href=\"data:image/png;base64,\n",
       "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\" id=\"image741627e021\" transform=\"matrix(2.035 0 0 -2.035 429.48 413.28)\" style=\"image-rendering:crisp-edges;image-rendering:pixelated\" width=\"200\" height=\"200\"/>\n",
       "   </g>\n",
       "  </g>\n",
       " </g>\n",
       " <defs>\n",
       "  <clipPath id=\"pb0208825a5\">\n",
       "   <rect x=\"7.2\" y=\"7.2\" width=\"406.08\" height=\"406.08\"/>\n",
       "  </clipPath>\n",
       "  <clipPath id=\"p1f1041c9ae\">\n",
       "   <rect x=\"429.48\" y=\"7.2\" width=\"406.08\" height=\"406.08\"/>\n",
       "  </clipPath>\n",
       " </defs>\n",
       "</svg>\n"
      ],
      "text/plain": [
       "<Figure size 1200x600 with 2 Axes>"
      ]
     },
     "metadata": {},
     "output_type": "display_data"
    }
   ],
   "source": [
    "bd1 = ps.filters.nphase_border(matrix*1.0 + inclusions*1.0, include_diagonals=False)\n",
    "bd2 = ps.filters.nphase_border(matrix*1.0 + inclusions*1.0, include_diagonals=True)\n",
    "\n",
    "fig, ax = plt.subplots(1, 2, figsize=[12, 6])\n",
    "ax[0].imshow(bd1, origin='lower', interpolation='none')\n",
    "ax[0].axis(False)\n",
    "ax[1].imshow(bd2, origin='lower', interpolation='none')\n",
    "ax[1].axis(False);"
   ]
  }
 ],
 "metadata": {
  "kernelspec": {
   "display_name": "Python 3 (ipykernel)",
   "language": "python",
   "name": "python3"
  },
  "language_info": {
   "codemirror_mode": {
    "name": "ipython",
    "version": 3
   },
   "file_extension": ".py",
   "mimetype": "text/x-python",
   "name": "python",
   "nbconvert_exporter": "python",
   "pygments_lexer": "ipython3",
   "version": "3.8.13"
  }
 },
 "nbformat": 4,
 "nbformat_minor": 4
}

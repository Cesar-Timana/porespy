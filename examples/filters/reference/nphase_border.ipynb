{
 "cells": [
  {
   "cell_type": "markdown",
   "metadata": {},
   "source": [
    "# `nphase_border`\n",
    "Computes the number of phases that border on each pixel."
   ]
  },
  {
   "cell_type": "code",
   "execution_count": 1,
   "metadata": {
    "execution": {
     "iopub.execute_input": "2022-08-22T18:47:35.630415Z",
     "iopub.status.busy": "2022-08-22T18:47:35.629194Z",
     "iopub.status.idle": "2022-08-22T18:47:37.623202Z",
     "shell.execute_reply": "2022-08-22T18:47:37.622506Z"
    }
   },
   "outputs": [],
   "source": [
    "import matplotlib.pyplot as plt\n",
    "import numpy as np\n",
    "import porespy as ps\n",
    "ps.visualization.set_mpl_style()"
   ]
  },
  {
   "cell_type": "markdown",
   "metadata": {},
   "source": [
    "The arguments and their defaults are:"
   ]
  },
  {
   "cell_type": "code",
   "execution_count": 2,
   "metadata": {
    "execution": {
     "iopub.execute_input": "2022-08-22T18:47:37.629061Z",
     "iopub.status.busy": "2022-08-22T18:47:37.627548Z",
     "iopub.status.idle": "2022-08-22T18:47:37.635856Z",
     "shell.execute_reply": "2022-08-22T18:47:37.635371Z"
    }
   },
   "outputs": [
    {
     "data": {
      "text/plain": [
       "<Signature (im, include_diagonals=False)>"
      ]
     },
     "execution_count": 2,
     "metadata": {},
     "output_type": "execute_result"
    }
   ],
   "source": [
    "import inspect\n",
    "inspect.signature(ps.filters.nphase_border)"
   ]
  },
  {
   "cell_type": "markdown",
   "metadata": {},
   "source": [
    "## `im`\n",
    "This function works on both 2D and 3D images.  If an im"
   ]
  },
  {
   "cell_type": "code",
   "execution_count": 3,
   "metadata": {
    "execution": {
     "iopub.execute_input": "2022-08-22T18:47:37.639930Z",
     "iopub.status.busy": "2022-08-22T18:47:37.638918Z",
     "iopub.status.idle": "2022-08-22T18:47:38.350143Z",
     "shell.execute_reply": "2022-08-22T18:47:38.349556Z"
    }
   },
   "outputs": [
    {
     "data": {
      "image/svg+xml": [
       "<?xml version=\"1.0\" encoding=\"utf-8\" standalone=\"no\"?>\n",
       "<!DOCTYPE svg PUBLIC \"-//W3C//DTD SVG 1.1//EN\"\n",
       "  \"http://www.w3.org/Graphics/SVG/1.1/DTD/svg11.dtd\">\n",
       "<svg xmlns:xlink=\"http://www.w3.org/1999/xlink\" width=\"842.76pt\" height=\"420.48pt\" viewBox=\"0 0 842.76 420.48\" xmlns=\"http://www.w3.org/2000/svg\" version=\"1.1\">\n",
       " <metadata>\n",
       "  <rdf:RDF xmlns:dc=\"http://purl.org/dc/elements/1.1/\" xmlns:cc=\"http://creativecommons.org/ns#\" xmlns:rdf=\"http://www.w3.org/1999/02/22-rdf-syntax-ns#\">\n",
       "   <cc:Work>\n",
       "    <dc:type rdf:resource=\"http://purl.org/dc/dcmitype/StillImage\"/>\n",
       "    <dc:date>2022-08-22T18:47:38.310123</dc:date>\n",
       "    <dc:format>image/svg+xml</dc:format>\n",
       "    <dc:creator>\n",
       "     <cc:Agent>\n",
       "      <dc:title>Matplotlib v3.5.3, https://matplotlib.org/</dc:title>\n",
       "     </cc:Agent>\n",
       "    </dc:creator>\n",
       "   </cc:Work>\n",
       "  </rdf:RDF>\n",
       " </metadata>\n",
       " <defs>\n",
       "  <style type=\"text/css\">*{stroke-linejoin: round; stroke-linecap: butt}</style>\n",
       " </defs>\n",
       " <g id=\"figure_1\">\n",
       "  <g id=\"patch_1\">\n",
       "   <path d=\"M 0 420.48 \n",
       "L 842.76 420.48 \n",
       "L 842.76 0 \n",
       "L 0 0 \n",
       "z\n",
       "\" style=\"fill: #ffffff\"/>\n",
       "  </g>\n",
       "  <g id=\"axes_1\">\n",
       "   <g clip-path=\"url(#pca49264b38)\">\n",
       "    <image xlink:href=\"data:image/png;base64,\n",
       "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\" id=\"image7ece08016a\" transform=\"matrix(2.035 0 0 -2.035 7.2 413.28)\" style=\"image-rendering:crisp-edges;image-rendering:pixelated\" width=\"200\" height=\"200\"/>\n",
       "   </g>\n",
       "  </g>\n",
       "  <g id=\"axes_2\">\n",
       "   <g clip-path=\"url(#p8cad56c507)\">\n",
       "    <image xlink:href=\"data:image/png;base64,\n",
       "iVBORw0KGgoAAAANSUhEUgAAAMgAAADICAYAAACtWK6eAAAYz0lEQVR4nO1dy21kuQ5VGxWFVw8oB+BlBzCAExjAKXjrPB7gt3QKDqEz6GUH0N52GvMWhmpoWhQ/IiWqqg5gzHTVvSL14Z/31re/vv39TwnA75fvpZRS7p5/Dn+HP+vdb+VJQ98TkWNr6HnwMTrG7LWQ4GY1AxDUAmHBOCf6s+YGaWQ6gNmxREBah4LbvOiDtJr+pSOr8IYISORk3x9fw8a+4gqMA6URow/g3fPP8vvle/n98v3iD/s5rkXrXFFzy2I9WjyTFqRu2BVzsNKF8w7QqTlkPU+9s37gpDpSq0HNqb3vijHgNfdaUy5Dic/TausB16HFA2lBRhjWaENI5/3xldU+D7f3Zr4kfHD0Izcy2opQ44/OSToepp9FOO6ef5I8HHoDzPKNK53j29NHEP5YyvHtqXldJDiLtrvlqvt4TrGOFVLh7ApIHUAjJJVwzTYdy5PovnrNsXwISb2/IspytPjQBJhR9D0PMU6ne85FEntkg8ZysQJSB4KalYtbSvlsAXoL1yrKPTzfs75hJCLpzRY+vI5ZsmWr3CstXZGA1AF7gXuP8I8/v0opbbeJ2qyVGxh1iHvxzQz3sf7XS0hWxxBaWPj9ZunFsvRGRfYASSClw7kJEX1GUf1f0Wuu5TsqcyYBdWY5fkyV9HNtu8BZDfgHr9HOO1sby6zeMvwHv18JTZ1G7GLtDI/NoVKU+PtLQW9Ne4mOFYLSSiRI6zRmAbEW+WaiFaBiaDeK0r4rkwoWRAfsGddAYsnxmixtd4/UJhLhwNdpQLlgdcxRxeHhBmVyhVe5WaM0zRakFfRQ2igqCO3xhXmjaOHDbOWnNbcMB7OitTdWK6Ldu92sK4SbBZEGZ1GahDro0gAZFyZHQLUucFYs2tVZLbC7CUcpTmne1ncQLVMfUSVujatJQXvzRo3fAld89azDjKR9rdZjlXBIA/TW9aUExCCtFCm2GhHC4TmuNzi+ZvHNxSScIO8mHJA2dCM1llwdg2TxPzMsvgWWrFlktgnSKKUfL+LPdwOcByUkeH6hdZDoQHyHzdrlcHF1HniNBJn2qJXFPDXTgvanFq/qGEQ68UzCIYmZPItYHvUWasxZ4/x++S4+RFYaq6DZn4uopHNFzbo4o+5MhGDAcaJdLQxNcyn8Pjt6KfkpLlYm61HhVUmnMMOVkgr6KLTtGPAeb15GINkTyrWsn4eleSOr49GL7+3GecOrSt8bW3pNhGD05selw3vQuIcVrhZkB/Magdk+d/QhkWJGXUv7PQR2pSTuKbYoJgGZZeohsgd+M8AdyJlr8/74Wo5vsseppbAUdSskB18Tw9Vrhrt5NUyOYEWQmgWtQ5FhHVbQH6FpOUNDLtbqDboEUFZjtbI4vj2VuzLXeqxAqre7c+BaBXajw6HXnqPhsQoT/KPAjVvfLzDrIGt4j8BWAlLK2OFdvdgaRBYte59DmqvXy8I7B+352U5ArIhY7ChIhUPTfIf/evdRtCMCc8xn6zMt7564iEq6tvCl1d6eCYRZLSUSnvHnx/I0xBPFI6blwbsXzt6CSBYbXrcSFuGYxb+H4FLuWrbAHGI7C5I123HO8BIOjB32cDsByQrO7HMHJJvge9a4ss1Ng2UCYjGxmRda0p/W+jzLXCz9T5pxs8xTi+kCQlWFK7gDlrFR0TpeZKAptWjRXc4WaHjXQnuvqZvXCi5rwcG6aRLtjoNdj05eS2+R96ZzliFaw3sc5hZmCEcpEy1IjzlOWEY3L6q5MkMmRpoS7X2e1f3xtG7WuU6xIJFVYYump+63aPze9ZrxLAd2REBnCkckLU1620J/myyWR6CbPU1pyYRF8OGNiEKqhQcLthCQWYEu5Yp9vLzgVynl3+e0ow4l5w7ia3eBREgshz96DcyP3M5KzWrdFA/AjWq92aNCQk+TIKB40NCTYlX8MVrxn82vWEDqxOA7bCWNazsKiGRcDc2oGsMosglJRosocrF+v7TfkVS/KyXn5Ebg2TCXsdawEjvNmxWQKhzVWuCnyE4/0Cn8uedLRca1mdkVuyu63bxYOFp4uL0vx7eP3zbvaUku8KQ6Pa+IRaZu5owgBaQuWCs4baFeJ6k1tP4o+twGnquLd0UOTEvzcge91aZRTX9UJfyKD1xdLRrT6yDWDZgd6EY2zGUEVkLnMq9RbFEorJi9aZdguVpF0ePb00Vak9Y+d+sgkk5TGMhT11iQSZPNtFyrac2inQm9dRAJCOXe4NrIOVR6V2JmQVFTxd9xD6SNnNx1bCW9JSTaaroWVuHYuRjnVbUfpYWvqdhtHTGsHdfsW01a2afj21M5vj2Vh9v7NAvHpYEzQ1K1h9fNxE51EmwNPM6m6LU/mJAXcS/AA4b/4PdX2LDDOuIzIAU3N3EWK5NAQHj2TO3soq0CJzQ7PJDVS3FvleaNRM9FuwqJ7jkViOj184rPYIwN53gVkLLuzSOrYC2CtrKZEqu84nEEC1ru1tS3mmigTdNZr1n5vImUhpa+9BBHp5VbWc+H2/vhcfH41gyVBOLnQUYJadEyeeekxTG8qvZU42frfm37jlRp4Ws/Nby+yO7PAtHzIPD/ZwsJ5KElKOfUMzXab0bNtbc+VsHrnYXemu/2/FBXQFot5yv8cU5QzqlnKiOvrQNPnQVOIT3c3v/bnrSBkLDPg2BtDb+bDZzjlpj87BswAyP71gvYrWOW0n9+SIoeD16ew5ZZLMqiWRbjnFw0b1zy3CuaFqS3MKutCIQXL1jg4B/8vgfq3nNGhrOA9w7yE9ZqkmHiUrQWSAJ8mEdctBl9YKMCyLkj1rEznJWW2+1l9cg6COXfZzW7q3L/nvULjkYLmr2hgu0WND/Y2UrmUHxoC41aeCeRVA9MVWQTDgipJtNmX3q0IouMGgHU8sOlYzWPMkjWPfL5oSiIKumaAlEWWITbWrGOEhDN+BWaAp50bKuQwAp6xU7CUYowi7XLZCAiMlrngDpH+Jh0D++Pr+Xh+V48dsXvl+9fxr97/vriwezYMs17xVxYrOAMBTMjBDj730nXIkNWRovqykQcSmgFMqWve3x48ni1IAPIVGSMpCHpiZsJSbbOy01O2+6+EqPBKYRXitdTACWBujRVO1tIpHP2EuKrgBDwEBKvwxNZuxkZe7Yl0XY2SK/t4SogHax2JSDgQa4xh/XhI6p+AuGZ6vZAVJ2Kw1VAGGQVkojCY4bx4JgYVldyhLeLCdKtWjJLbSRrsXZ0faydD7NwEQLSaybUCkn9dxRfM3q6MghYZGLDExfhYlEHwzNb1YKmRYS6bxfhsATQXvz0FM1opi9cQFa7BpYOV+mYElhTqFwzoQTRnbMtWlKlMCvDN7q/oQISmfps0bC4J5Gatddezh0kTbs5RRdiZuvHrNpJlKKB10+JQbh8uxV4TEugmCUI94DUYkQIUB3z/fG1lMf2b1tGZLqoMXHcaB13214sOJH6Bz/PgFGerG4BXI/edZLPtbTrm//fH18/tbvvqny2FRDp4VstOFb60l8XhmP3BKN1nYdyocasPw9ev9sVoQIy83BKskK7CYkEXr1JFh4jxsyGcAsCF89bk7Q2QLJZKzYM8vX++Mq6Ojtr3XPCFBeLM/2jY0tptLJJM1HpVx/9x59fJ4G1FCIvWZg46+S1NmdRSdcsArYksw/XSUhKO8a4CoccXKbKY23OQkAssKYBPelbsLrwmg1UCcFrbS6i1YTCzErzCLwOgLSw5j0mh9UV/t71Fysgni0dkYCHrPUmEuuBbsGrpaVC+uaUUfo9XAXECLwQGYWkJcQteAiJVyW9AgqHNAXtwUdr3JG47iIFxNojNRNSC5eN71Ji3DUrD9LxKNoXG6Rnhsb9y9ZLNnLIceLEIy1/1mneiPQdtYFZDlpGizATUCmMZBgtfWyte9IKSG9xdsk+XRq8hFvTITEKjmfRbxRSWMV0q809kp9ZiJqHRhNnWsNoXiTrTQqIZFFnPwRD0YImeYQPbzfL8nyGdzbJcn8mIVmNZhZL2yGKEREjeN47IytkOaicALW+P/2scqfe4OWPR9y3EiYLopkolWVYtVjZA22rQqnzqj9qA3F8843HsqxhFnyyIBHaM9ISjNwbZUUilEMd06OSrqU5UkPIDpUF8ZzkaMespJEwcjMyaVG4Bg+399N+gEayBpfQOHlTSpwGaKXrtPdSGA1GOd5GeOdQDx7847DiAFJrgHk+V+EopZRDtHkc0cbSNG8WSNaS4j2DtWqhZ80z8uuNm1L2m2hPu3tqfm8rAgUI/1F0sLu6Aq2ug1k1ikhI9vcUpEdrCG9L5RVkS4uSI0G/dBzJnCS87IoVMSe3L59iEOpmD2BNGKkhMluRET6y8BKB3y/fT+/Squ/Tgu/Vijoz3Jp2YxDvTA5sRMNMzShmRWEmP5kybF6owvG1xvPxb9zAqInxpPU8ak0PvUEiNqNXXPTc8HM8SBXnNDcoHBIlrbUk0jXCyYh6z83KBZYEqRiWSj/nQlrjAi0/V3wGJxylfN1DSdeB5VzhsauwsE8URlTXWwxJaFl5sQZ/EhfQKyFgmVuUcM4Qeo0rtKKzod435XkQj9z/yCLh2Ad+3qMlvU7KE9chsMIK9ZRHlAsH1y1rwqHO+xDtx3okATw0mlYQR+n1+MhQdJNY1Yg4Z6ZL6kHrUAfyMvua+7MFm7M2b/VcvV3HGXh/fD29jXImT4eMZn8HUAcog3WQYrZwtMbllGQrBTxToZ7SvNTGWoKpCu2Lw1bC41B4xFrceNqsDjVmJqHtKWmc5ZLGLF7zPAXpXHtD77NsiNbircX3Lrh6C5uW7uzMWEsZt1LAs91y9pl0iQtRga+l3mCuoaeF5WB5pWopaDdVImwRWG1dsMIZ/RFTj3mo07yWg/Hjz6/ycHv/5XvvdJ+3FteMz4Gq1Gpp1HEs7qt3HeYSMO03CuvhgH+lfBaOyMNL+bBS2t6p5h1c1YyYLchTCoWUpluprTT1Ds7Saa1qHXPEotU1zZIi78GjEg4hKfDWn6NueS4aHKI1GWchVph2T+HA40khdbm8sJsLNdr9cFLKL7b2nYquBTnHTeOa4yCkbqA1JoDjWixBtkJrC5YECIRXUkOqCDEOUZmbzPCuHdw9/yzH8nSq9o64XJCmxOK2aghUrNPja7ZFw7CmtaVJjfpOMa6cgb9nYxC8aZi4Fd4bwWnTjwX6LvZJvTNsHFp0KLp4fvheqyYetWgYHgkQbwuJx+J4FL28mssASWCdoEaQehXZUn6Z6M8EXmfNi+IsVoPjYeRgemUHvdzIaj1a56M3rirNe/f89WEU6X3UZ97ameKrWo7IQpsX6hzgI6eaNbfsEcWDZb0yu+Qt69vDUJp3dAGigkxOG5WSexNL8dPkozx4ulxZoJnHtEIhhZ6mijjEWLNKtCNn7ernEY2ZUZZWSz8rpHtjncdyASmF958jDgcUFK2QUB0B54rVQsohcm+6AjJzYbjgE0/am65GSKSfnxMsZ8HTOnNrLN2blgD1MO2lDRJIKu4Ynuk/OJ5l3lFrlclKSTNk2lRz77B677GGhuh30mds0EjF1YOvFn0LTxFrxNVkRlOpvXtadDTrP3Itd70WvT2maG0pIB73Scfyyud78NUDRdeiTKSaVltvWWkJOdrUXERBenQsMrJw2QPIUbQOeKse1Zo/XFfpOuF7enS0iY7MwIJf/0QWBN6IB+OupZiwjOnFm3YcqfaJij0qJO5Jj2+PeVDXzFyjaDcTjq+upFMMUgQkn2cCpSnxZ5GISh+v0vY//vw6val9NBM542xBq2l65LZX3eUyUfA+z0MQVZWfNX6F1q/nxpnl78P1wcC/xFuKrTKvOVteMBUKKU3EbUqrap5RQ1KFp2i0YoadgHmuv/WhiZsoaM6W5XsKN7MPQSn//jBK5kOgKQpGFzO16B2maDcLCsDx7Yl8vGCX4P6LBZEynHWCVu3UUhSU5uvRLeVDAfz484sc13tOrTqJhFcqCSChsyMsZ+PLE4Uz/OxSYhdZEy/0DoOWx0oXNy1Wi3l8ezKvbc/HhzzXa6XA/HB0dhWOCm0s+cWCaKTMakVmvI5Uwpsm5y8BNd7D7f2Xd8taINlQ6QFupYO5MXYXjopWLEyBrINItZEm1957LjgKVFZoJOdvvfb3C/+LSlor4OH2RLhO3uvLXW+1nhXUfWQWy6pFqQzQqlilpyl3h9fB9oon4V5HxDPc2bK4xJw1GXqikGIMBosQ3q6V1jXIkGHyQqaAubWm9bP6ArfW3rfOCTcf6myNrAMcE4891O6+wh2A47QgdQkl78eKcrG4N6tEuCcSeLopeI/gb56XwitLzZmKWIOKA/VFKf+aoFmZLQmkG0LhdM+jK1tiHN+eyl1Zv44tjOx1y4uAeHi+F2l+qMm5OA3/W6uoW3zgMW6oG3qf40Elrot3MDkqrPAtJxwtCTif+8efX6rxdoBljbi6Ui+L2DpnWElKz6H082//+d9//8GE8E1cAUqtvQ3gNsMqgCPummY8zStP4Tje8x2lG00fj9+CxLJoQwLqu5seQWl2Q6LRs2rOu+efp54h6Cdb+aXu2+Wn6LwyWl584M96+zISs1HzFr2bV4pobcJZLyv9h9u2f2zFiJWFY2SK/SBmZdAs43uvm6ibN2tzoYdwwPuz1UyoGC9TijcjPK3glB/Q8YJ3/ruF1qFceRCpHP1VOPrwsiQ3GTQlB85vjKaJtbelQ2BEq2HrtlI4MigNKTwsyaEOQPnN2uxLFFbQl6axZ8UJq/cgEtqKuhTQAvd+v4US/G9/ffv7H4mEnfPmSFDrGNyv9XLYQQN7dk9o6GFE0Oj9EliL3qF+Qfn3O7hgEYDz5qxo5oyTJ7yFY7QrQoM6fv0lsFI+p96pOR24Cy4Jl6oMIGZYuOq61x81wg+SRSqcu+ePn8uD/+5hqyxWFLjsGFzQK2zAFrmUr8XTmbGcVBmGCEhUwBWBa+pUBq9WHuiu4qbNmW6q1EqxhUJtqqx1nTYlOguezY/ngBkxBhfL1ftmtLxIaLj+gA4+cK2Dl0VQNIeBW8gsDX6ZsIvy4faWfR6k/pczR73Nb2Uodsv4wDWgvm9hJ3czGzJkB0+FwhZGGKMEDhffdjswMMDEr/PhkH2u1IHUWr7dLGVPEG8otwibHo1PyLki2vEyoPJZ3xZ49/z1dT4tUK5mVnjsi+fezjonFJ1v//nff//pbR4UEGnbOXfNiHbygjZukFx7TpDuu+R+yefWe7yBad14EuXa4ltSusqS9Oi2sm67CIdXxnB0X6j7sYuN+c22zm5ZrGwTk4DaLHzNLnPDvHsJiXU8qtmTU6ArgQXbtVBoeax0teZoVVUtvEjm0Ttgo/On3FevRAjO4knHhOu7S+oX4iBdwIiDvFo4Kkbo1zmcnmcnXpImGSei7yhCSErR8Yu18k7ZS5e3msDruRejjWjrbDUFKBy9N7pXSJMhI7xogt+RsUfGzJw2xrQOkgKYZULWTBfH+Kc39D32WxdmgGqFhy9Kk1brd6oNjfAbPVfP5Mrp1aNUYU+zyZogbsRyjI7ngWotPV9farleck9G62Q5V5qUPMTI2pPPg4yk3lqBL/5eCml9ZRfNuwK7WScLKKsxOu9mmtfDRFGVeQss9ZVdQaVGKUiVmHWNuPEt41oyYT0aHtkxiqcvad4ZJjMK74+v5eH5fgqtu+efYS/AplKjFdZYrhVvWtPS3qBcfOl9PQEesSKfBGRn4aiY6UbUhsUIoWylRnvXacaFY3nEd6OHsGcZVmSuIG4kF1kHxzgnVwhCYvqtaLkNo26r9H4NDene4jXB7hHmjbq+9V0EQn5hahVqzYHTPJ6Fs/qWDOq5da+1kaTNtfRG72/dq0nuRLtHHnB9olACrRW5e/55cmU0mhpfWxcauiwelgzy1/ouCtxaRN9PoZVBwmvvrTS8eG6N8+nFcZ65d6/74XXS1DG3YHgsjw1bWe3V8hFR1+jRgWjtk5RX6nqPOIoae7oFqbBIP5dqhP/ufQZp9iyTBtr0rBWjadeItC0Fz1R/jzdpitsy9tL3Yll8TM0iSzRNdY+od7ZqgNOzWWKz1ZixFl4xJVZwy18cNysQ62lOGGh7ajntnLyD5lVozaO1/tzer0gCYff7sIIJad7bizeRW/HoW2jUZHR67ky2TCEFLj6kLGtLa+N7ZwPS7P5GoWQQra8qzZPPBkwRe4FLHLSq2pTPnrV21DrcrTlQMWD9roUMSuHUzWuBVrtx2RPYHRuRTdFqcc8N6hW8JHQk2ZwWHQkv2vvxtdLrteNH3K/FtBhE4uZwRbcZmB1oa5IT0F8fcUs83BrrQc1Q/NNgKM3rmRLMhJ47MDJmxHjSzz3v3yUu8sDyLBaG9BFVDTJkSzxo4Hl4ZdyuoJFOQEqJ2biM2ZIdcUnWo5SFlfTZqBv7/vj6pW9qZSrx3NxTCXaa+zQB0bZAeC4eHOv49nRy43puSlZNufJwZViT2fOfakGoyVHC4b0IODe/gwa7Yi3+DyF1Znhz9MLNAAAAAElFTkSuQmCC\" id=\"imageb66667e33c\" transform=\"matrix(2.035 0 0 -2.035 429.48 413.28)\" style=\"image-rendering:crisp-edges;image-rendering:pixelated\" width=\"200\" height=\"200\"/>\n",
       "   </g>\n",
       "  </g>\n",
       " </g>\n",
       " <defs>\n",
       "  <clipPath id=\"pca49264b38\">\n",
       "   <rect x=\"7.2\" y=\"7.2\" width=\"406.08\" height=\"406.08\"/>\n",
       "  </clipPath>\n",
       "  <clipPath id=\"p8cad56c507\">\n",
       "   <rect x=\"429.48\" y=\"7.2\" width=\"406.08\" height=\"406.08\"/>\n",
       "  </clipPath>\n",
       " </defs>\n",
       "</svg>\n"
      ],
      "text/plain": [
       "<Figure size 1200x600 with 2 Axes>"
      ]
     },
     "metadata": {},
     "output_type": "display_data"
    }
   ],
   "source": [
    "matrix = ps.generators.blobs([200, 200])\n",
    "inclusions = ps.generators.rsa(~matrix, r=5, return_spheres=True, clearance=3)\n",
    "bd = ps.filters.nphase_border(matrix*1.0 + inclusions*1.0)\n",
    "\n",
    "fig, ax = plt.subplots(1, 2, figsize=[12, 6])\n",
    "ax[0].imshow(matrix*1.0 + inclusions*1.0, origin='lower', interpolation='none')\n",
    "ax[0].axis(False)\n",
    "ax[1].imshow(bd, origin='lower', interpolation='none')\n",
    "ax[1].axis(False);"
   ]
  },
  {
   "cell_type": "code",
   "execution_count": 4,
   "metadata": {
    "execution": {
     "iopub.execute_input": "2022-08-22T18:47:38.355062Z",
     "iopub.status.busy": "2022-08-22T18:47:38.354015Z",
     "iopub.status.idle": "2022-08-22T18:47:38.361450Z",
     "shell.execute_reply": "2022-08-22T18:47:38.360967Z"
    }
   },
   "outputs": [
    {
     "data": {
      "text/plain": [
       "array([1., 2., 3.])"
      ]
     },
     "execution_count": 4,
     "metadata": {},
     "output_type": "execute_result"
    }
   ],
   "source": [
    "np.unique(bd)"
   ]
  },
  {
   "cell_type": "markdown",
   "metadata": {},
   "source": [
    "The unique values in ``bd`` are 1, 2 and 3 indicating that some pixels border on 1 phase (internal pixels), 2 phases (edges) or 3 phases (corners where void, matrix and inclusion meet). Including diagonals results in a thicker border since more voxels are found that lie on an edge."
   ]
  },
  {
   "cell_type": "markdown",
   "metadata": {},
   "source": [
    "## `include_diagonals`\n",
    "Controls that neighbor of the search."
   ]
  },
  {
   "cell_type": "code",
   "execution_count": 5,
   "metadata": {
    "execution": {
     "iopub.execute_input": "2022-08-22T18:47:38.365658Z",
     "iopub.status.busy": "2022-08-22T18:47:38.364635Z",
     "iopub.status.idle": "2022-08-22T18:47:38.590650Z",
     "shell.execute_reply": "2022-08-22T18:47:38.589918Z"
    }
   },
   "outputs": [
    {
     "data": {
      "image/svg+xml": [
       "<?xml version=\"1.0\" encoding=\"utf-8\" standalone=\"no\"?>\n",
       "<!DOCTYPE svg PUBLIC \"-//W3C//DTD SVG 1.1//EN\"\n",
       "  \"http://www.w3.org/Graphics/SVG/1.1/DTD/svg11.dtd\">\n",
       "<svg xmlns:xlink=\"http://www.w3.org/1999/xlink\" width=\"842.76pt\" height=\"420.48pt\" viewBox=\"0 0 842.76 420.48\" xmlns=\"http://www.w3.org/2000/svg\" version=\"1.1\">\n",
       " <metadata>\n",
       "  <rdf:RDF xmlns:dc=\"http://purl.org/dc/elements/1.1/\" xmlns:cc=\"http://creativecommons.org/ns#\" xmlns:rdf=\"http://www.w3.org/1999/02/22-rdf-syntax-ns#\">\n",
       "   <cc:Work>\n",
       "    <dc:type rdf:resource=\"http://purl.org/dc/dcmitype/StillImage\"/>\n",
       "    <dc:date>2022-08-22T18:47:38.552795</dc:date>\n",
       "    <dc:format>image/svg+xml</dc:format>\n",
       "    <dc:creator>\n",
       "     <cc:Agent>\n",
       "      <dc:title>Matplotlib v3.5.3, https://matplotlib.org/</dc:title>\n",
       "     </cc:Agent>\n",
       "    </dc:creator>\n",
       "   </cc:Work>\n",
       "  </rdf:RDF>\n",
       " </metadata>\n",
       " <defs>\n",
       "  <style type=\"text/css\">*{stroke-linejoin: round; stroke-linecap: butt}</style>\n",
       " </defs>\n",
       " <g id=\"figure_1\">\n",
       "  <g id=\"patch_1\">\n",
       "   <path d=\"M 0 420.48 \n",
       "L 842.76 420.48 \n",
       "L 842.76 0 \n",
       "L 0 0 \n",
       "z\n",
       "\" style=\"fill: #ffffff\"/>\n",
       "  </g>\n",
       "  <g id=\"axes_1\">\n",
       "   <g clip-path=\"url(#pe36852e7be)\">\n",
       "    <image xlink:href=\"data:image/png;base64,\n",
       "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\" id=\"image2cf0cc352d\" transform=\"matrix(2.035 0 0 -2.035 7.2 413.28)\" style=\"image-rendering:crisp-edges;image-rendering:pixelated\" width=\"200\" height=\"200\"/>\n",
       "   </g>\n",
       "  </g>\n",
       "  <g id=\"axes_2\">\n",
       "   <g clip-path=\"url(#p612639d1be)\">\n",
       "    <image xlink:href=\"data:image/png;base64,\n",
       "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\" id=\"image7baabf4a2c\" transform=\"matrix(2.035 0 0 -2.035 429.48 413.28)\" style=\"image-rendering:crisp-edges;image-rendering:pixelated\" width=\"200\" height=\"200\"/>\n",
       "   </g>\n",
       "  </g>\n",
       " </g>\n",
       " <defs>\n",
       "  <clipPath id=\"pe36852e7be\">\n",
       "   <rect x=\"7.2\" y=\"7.2\" width=\"406.08\" height=\"406.08\"/>\n",
       "  </clipPath>\n",
       "  <clipPath id=\"p612639d1be\">\n",
       "   <rect x=\"429.48\" y=\"7.2\" width=\"406.08\" height=\"406.08\"/>\n",
       "  </clipPath>\n",
       " </defs>\n",
       "</svg>\n"
      ],
      "text/plain": [
       "<Figure size 1200x600 with 2 Axes>"
      ]
     },
     "metadata": {},
     "output_type": "display_data"
    }
   ],
   "source": [
    "bd1 = ps.filters.nphase_border(matrix*1.0 + inclusions*1.0, include_diagonals=False)\n",
    "bd2 = ps.filters.nphase_border(matrix*1.0 + inclusions*1.0, include_diagonals=True)\n",
    "\n",
    "fig, ax = plt.subplots(1, 2, figsize=[12, 6])\n",
    "ax[0].imshow(bd1, origin='lower', interpolation='none')\n",
    "ax[0].axis(False)\n",
    "ax[1].imshow(bd2, origin='lower', interpolation='none')\n",
    "ax[1].axis(False);"
   ]
  }
 ],
 "metadata": {
  "kernelspec": {
   "display_name": "Python 3 (ipykernel)",
   "language": "python",
   "name": "python3"
  },
  "language_info": {
   "codemirror_mode": {
    "name": "ipython",
    "version": 3
   },
   "file_extension": ".py",
   "mimetype": "text/x-python",
   "name": "python",
   "nbconvert_exporter": "python",
   "pygments_lexer": "ipython3",
   "version": "3.8.13"
  }
 },
 "nbformat": 4,
 "nbformat_minor": 4
}

{
 "cells": [
  {
   "cell_type": "markdown",
   "metadata": {},
   "source": [
    "# `nphase_border`\n",
    "Computes the number of phases that border on each pixel."
   ]
  },
  {
   "cell_type": "code",
   "execution_count": 1,
   "metadata": {
    "execution": {
     "iopub.execute_input": "2022-08-23T00:42:49.934797Z",
     "iopub.status.busy": "2022-08-23T00:42:49.934371Z",
     "iopub.status.idle": "2022-08-23T00:42:51.807688Z",
     "shell.execute_reply": "2022-08-23T00:42:51.806992Z"
    }
   },
   "outputs": [],
   "source": [
    "import matplotlib.pyplot as plt\n",
    "import numpy as np\n",
    "import porespy as ps\n",
    "ps.visualization.set_mpl_style()"
   ]
  },
  {
   "cell_type": "markdown",
   "metadata": {},
   "source": [
    "The arguments and their defaults are:"
   ]
  },
  {
   "cell_type": "code",
   "execution_count": 2,
   "metadata": {
    "execution": {
     "iopub.execute_input": "2022-08-23T00:42:51.813323Z",
     "iopub.status.busy": "2022-08-23T00:42:51.811794Z",
     "iopub.status.idle": "2022-08-23T00:42:51.820341Z",
     "shell.execute_reply": "2022-08-23T00:42:51.819812Z"
    }
   },
   "outputs": [
    {
     "data": {
      "text/plain": [
       "<Signature (im, include_diagonals=False)>"
      ]
     },
     "execution_count": 2,
     "metadata": {},
     "output_type": "execute_result"
    }
   ],
   "source": [
    "import inspect\n",
    "inspect.signature(ps.filters.nphase_border)"
   ]
  },
  {
   "cell_type": "markdown",
   "metadata": {},
   "source": [
    "## `im`\n",
    "This function works on both 2D and 3D images.  If an im"
   ]
  },
  {
   "cell_type": "code",
   "execution_count": 3,
   "metadata": {
    "execution": {
     "iopub.execute_input": "2022-08-23T00:42:51.824679Z",
     "iopub.status.busy": "2022-08-23T00:42:51.823569Z",
     "iopub.status.idle": "2022-08-23T00:42:52.439894Z",
     "shell.execute_reply": "2022-08-23T00:42:52.439300Z"
    }
   },
   "outputs": [
    {
     "data": {
      "image/svg+xml": [
       "<?xml version=\"1.0\" encoding=\"utf-8\" standalone=\"no\"?>\n",
       "<!DOCTYPE svg PUBLIC \"-//W3C//DTD SVG 1.1//EN\"\n",
       "  \"http://www.w3.org/Graphics/SVG/1.1/DTD/svg11.dtd\">\n",
       "<svg xmlns:xlink=\"http://www.w3.org/1999/xlink\" width=\"842.76pt\" height=\"420.48pt\" viewBox=\"0 0 842.76 420.48\" xmlns=\"http://www.w3.org/2000/svg\" version=\"1.1\">\n",
       " <metadata>\n",
       "  <rdf:RDF xmlns:dc=\"http://purl.org/dc/elements/1.1/\" xmlns:cc=\"http://creativecommons.org/ns#\" xmlns:rdf=\"http://www.w3.org/1999/02/22-rdf-syntax-ns#\">\n",
       "   <cc:Work>\n",
       "    <dc:type rdf:resource=\"http://purl.org/dc/dcmitype/StillImage\"/>\n",
       "    <dc:date>2022-08-23T00:42:52.418616</dc:date>\n",
       "    <dc:format>image/svg+xml</dc:format>\n",
       "    <dc:creator>\n",
       "     <cc:Agent>\n",
       "      <dc:title>Matplotlib v3.5.3, https://matplotlib.org/</dc:title>\n",
       "     </cc:Agent>\n",
       "    </dc:creator>\n",
       "   </cc:Work>\n",
       "  </rdf:RDF>\n",
       " </metadata>\n",
       " <defs>\n",
       "  <style type=\"text/css\">*{stroke-linejoin: round; stroke-linecap: butt}</style>\n",
       " </defs>\n",
       " <g id=\"figure_1\">\n",
       "  <g id=\"patch_1\">\n",
       "   <path d=\"M 0 420.48 \n",
       "L 842.76 420.48 \n",
       "L 842.76 0 \n",
       "L 0 0 \n",
       "z\n",
       "\" style=\"fill: #ffffff\"/>\n",
       "  </g>\n",
       "  <g id=\"axes_1\">\n",
       "   <g clip-path=\"url(#p9490dce4ac)\">\n",
       "    <image xlink:href=\"data:image/png;base64,\n",
       "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\" id=\"imagee01288cdf1\" transform=\"matrix(2.035 0 0 -2.035 7.2 413.28)\" style=\"image-rendering:crisp-edges;image-rendering:pixelated\" width=\"200\" height=\"200\"/>\n",
       "   </g>\n",
       "  </g>\n",
       "  <g id=\"axes_2\">\n",
       "   <g clip-path=\"url(#p4e576c2e00)\">\n",
       "    <image xlink:href=\"data:image/png;base64,\n",
       "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\" id=\"image8919b79a9c\" transform=\"matrix(2.035 0 0 -2.035 429.48 413.28)\" style=\"image-rendering:crisp-edges;image-rendering:pixelated\" width=\"200\" height=\"200\"/>\n",
       "   </g>\n",
       "  </g>\n",
       " </g>\n",
       " <defs>\n",
       "  <clipPath id=\"p9490dce4ac\">\n",
       "   <rect x=\"7.2\" y=\"7.2\" width=\"406.08\" height=\"406.08\"/>\n",
       "  </clipPath>\n",
       "  <clipPath id=\"p4e576c2e00\">\n",
       "   <rect x=\"429.48\" y=\"7.2\" width=\"406.08\" height=\"406.08\"/>\n",
       "  </clipPath>\n",
       " </defs>\n",
       "</svg>\n"
      ],
      "text/plain": [
       "<Figure size 1200x600 with 2 Axes>"
      ]
     },
     "metadata": {},
     "output_type": "display_data"
    }
   ],
   "source": [
    "matrix = ps.generators.blobs([200, 200])\n",
    "inclusions = ps.generators.rsa(~matrix, r=5, return_spheres=True, clearance=3)\n",
    "bd = ps.filters.nphase_border(matrix*1.0 + inclusions*1.0)\n",
    "\n",
    "fig, ax = plt.subplots(1, 2, figsize=[12, 6])\n",
    "ax[0].imshow(matrix*1.0 + inclusions*1.0, origin='lower', interpolation='none')\n",
    "ax[0].axis(False)\n",
    "ax[1].imshow(bd, origin='lower', interpolation='none')\n",
    "ax[1].axis(False);"
   ]
  },
  {
   "cell_type": "code",
   "execution_count": 4,
   "metadata": {
    "execution": {
     "iopub.execute_input": "2022-08-23T00:42:52.443332Z",
     "iopub.status.busy": "2022-08-23T00:42:52.443103Z",
     "iopub.status.idle": "2022-08-23T00:42:52.450567Z",
     "shell.execute_reply": "2022-08-23T00:42:52.449993Z"
    }
   },
   "outputs": [
    {
     "data": {
      "text/plain": [
       "array([1., 2., 3.])"
      ]
     },
     "execution_count": 4,
     "metadata": {},
     "output_type": "execute_result"
    }
   ],
   "source": [
    "np.unique(bd)"
   ]
  },
  {
   "cell_type": "markdown",
   "metadata": {},
   "source": [
    "The unique values in ``bd`` are 1, 2 and 3 indicating that some pixels border on 1 phase (internal pixels), 2 phases (edges) or 3 phases (corners where void, matrix and inclusion meet). Including diagonals results in a thicker border since more voxels are found that lie on an edge."
   ]
  },
  {
   "cell_type": "markdown",
   "metadata": {},
   "source": [
    "## `include_diagonals`\n",
    "Controls that neighbor of the search."
   ]
  },
  {
   "cell_type": "code",
   "execution_count": 5,
   "metadata": {
    "execution": {
     "iopub.execute_input": "2022-08-23T00:42:52.457151Z",
     "iopub.status.busy": "2022-08-23T00:42:52.456934Z",
     "iopub.status.idle": "2022-08-23T00:42:52.654909Z",
     "shell.execute_reply": "2022-08-23T00:42:52.654384Z"
    }
   },
   "outputs": [
    {
     "data": {
      "image/svg+xml": [
       "<?xml version=\"1.0\" encoding=\"utf-8\" standalone=\"no\"?>\n",
       "<!DOCTYPE svg PUBLIC \"-//W3C//DTD SVG 1.1//EN\"\n",
       "  \"http://www.w3.org/Graphics/SVG/1.1/DTD/svg11.dtd\">\n",
       "<svg xmlns:xlink=\"http://www.w3.org/1999/xlink\" width=\"842.76pt\" height=\"420.48pt\" viewBox=\"0 0 842.76 420.48\" xmlns=\"http://www.w3.org/2000/svg\" version=\"1.1\">\n",
       " <metadata>\n",
       "  <rdf:RDF xmlns:dc=\"http://purl.org/dc/elements/1.1/\" xmlns:cc=\"http://creativecommons.org/ns#\" xmlns:rdf=\"http://www.w3.org/1999/02/22-rdf-syntax-ns#\">\n",
       "   <cc:Work>\n",
       "    <dc:type rdf:resource=\"http://purl.org/dc/dcmitype/StillImage\"/>\n",
       "    <dc:date>2022-08-23T00:42:52.622962</dc:date>\n",
       "    <dc:format>image/svg+xml</dc:format>\n",
       "    <dc:creator>\n",
       "     <cc:Agent>\n",
       "      <dc:title>Matplotlib v3.5.3, https://matplotlib.org/</dc:title>\n",
       "     </cc:Agent>\n",
       "    </dc:creator>\n",
       "   </cc:Work>\n",
       "  </rdf:RDF>\n",
       " </metadata>\n",
       " <defs>\n",
       "  <style type=\"text/css\">*{stroke-linejoin: round; stroke-linecap: butt}</style>\n",
       " </defs>\n",
       " <g id=\"figure_1\">\n",
       "  <g id=\"patch_1\">\n",
       "   <path d=\"M 0 420.48 \n",
       "L 842.76 420.48 \n",
       "L 842.76 0 \n",
       "L 0 0 \n",
       "z\n",
       "\" style=\"fill: #ffffff\"/>\n",
       "  </g>\n",
       "  <g id=\"axes_1\">\n",
       "   <g clip-path=\"url(#p6dcbd8df0c)\">\n",
       "    <image xlink:href=\"data:image/png;base64,\n",
       "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\" id=\"image11ae95058c\" transform=\"matrix(2.035 0 0 -2.035 7.2 413.28)\" style=\"image-rendering:crisp-edges;image-rendering:pixelated\" width=\"200\" height=\"200\"/>\n",
       "   </g>\n",
       "  </g>\n",
       "  <g id=\"axes_2\">\n",
       "   <g clip-path=\"url(#pa7f9b098fe)\">\n",
       "    <image xlink:href=\"data:image/png;base64,\n",
       "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\" id=\"image9cb503aa40\" transform=\"matrix(2.035 0 0 -2.035 429.48 413.28)\" style=\"image-rendering:crisp-edges;image-rendering:pixelated\" width=\"200\" height=\"200\"/>\n",
       "   </g>\n",
       "  </g>\n",
       " </g>\n",
       " <defs>\n",
       "  <clipPath id=\"p6dcbd8df0c\">\n",
       "   <rect x=\"7.2\" y=\"7.2\" width=\"406.08\" height=\"406.08\"/>\n",
       "  </clipPath>\n",
       "  <clipPath id=\"pa7f9b098fe\">\n",
       "   <rect x=\"429.48\" y=\"7.2\" width=\"406.08\" height=\"406.08\"/>\n",
       "  </clipPath>\n",
       " </defs>\n",
       "</svg>\n"
      ],
      "text/plain": [
       "<Figure size 1200x600 with 2 Axes>"
      ]
     },
     "metadata": {},
     "output_type": "display_data"
    }
   ],
   "source": [
    "bd1 = ps.filters.nphase_border(matrix*1.0 + inclusions*1.0, include_diagonals=False)\n",
    "bd2 = ps.filters.nphase_border(matrix*1.0 + inclusions*1.0, include_diagonals=True)\n",
    "\n",
    "fig, ax = plt.subplots(1, 2, figsize=[12, 6])\n",
    "ax[0].imshow(bd1, origin='lower', interpolation='none')\n",
    "ax[0].axis(False)\n",
    "ax[1].imshow(bd2, origin='lower', interpolation='none')\n",
    "ax[1].axis(False);"
   ]
  }
 ],
 "metadata": {
  "kernelspec": {
   "display_name": "Python 3 (ipykernel)",
   "language": "python",
   "name": "python3"
  },
  "language_info": {
   "codemirror_mode": {
    "name": "ipython",
    "version": 3
   },
   "file_extension": ".py",
   "mimetype": "text/x-python",
   "name": "python",
   "nbconvert_exporter": "python",
   "pygments_lexer": "ipython3",
   "version": "3.8.13"
  }
 },
 "nbformat": 4,
 "nbformat_minor": 4
}

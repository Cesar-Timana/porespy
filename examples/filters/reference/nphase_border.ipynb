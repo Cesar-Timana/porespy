{
 "cells": [
  {
   "cell_type": "markdown",
   "metadata": {},
   "source": [
    "# `nphase_border`\n",
    "Computes the number of phases that border on each pixel."
   ]
  },
  {
   "cell_type": "code",
   "execution_count": 1,
   "metadata": {
    "execution": {
     "iopub.execute_input": "2022-08-12T21:46:50.892124Z",
     "iopub.status.busy": "2022-08-12T21:46:50.891521Z",
     "iopub.status.idle": "2022-08-12T21:46:52.929968Z",
     "shell.execute_reply": "2022-08-12T21:46:52.929277Z"
    }
   },
   "outputs": [],
   "source": [
    "import matplotlib.pyplot as plt\n",
    "import numpy as np\n",
    "import porespy as ps\n",
    "ps.visualization.set_mpl_style()"
   ]
  },
  {
   "cell_type": "markdown",
   "metadata": {},
   "source": [
    "The arguments and their defaults are:"
   ]
  },
  {
   "cell_type": "code",
   "execution_count": 2,
   "metadata": {
    "execution": {
     "iopub.execute_input": "2022-08-12T21:46:52.935561Z",
     "iopub.status.busy": "2022-08-12T21:46:52.934108Z",
     "iopub.status.idle": "2022-08-12T21:46:52.942141Z",
     "shell.execute_reply": "2022-08-12T21:46:52.941663Z"
    }
   },
   "outputs": [
    {
     "data": {
      "text/plain": [
       "<Signature (im, include_diagonals=False)>"
      ]
     },
     "execution_count": 2,
     "metadata": {},
     "output_type": "execute_result"
    }
   ],
   "source": [
    "import inspect\n",
    "inspect.signature(ps.filters.nphase_border)"
   ]
  },
  {
   "cell_type": "markdown",
   "metadata": {},
   "source": [
    "## `im`\n",
    "This function works on both 2D and 3D images.  If an im"
   ]
  },
  {
   "cell_type": "code",
   "execution_count": 3,
   "metadata": {
    "execution": {
     "iopub.execute_input": "2022-08-12T21:46:52.946182Z",
     "iopub.status.busy": "2022-08-12T21:46:52.945177Z",
     "iopub.status.idle": "2022-08-12T21:46:53.638533Z",
     "shell.execute_reply": "2022-08-12T21:46:53.637972Z"
    }
   },
   "outputs": [
    {
     "data": {
      "image/svg+xml": [
       "<?xml version=\"1.0\" encoding=\"utf-8\" standalone=\"no\"?>\n",
       "<!DOCTYPE svg PUBLIC \"-//W3C//DTD SVG 1.1//EN\"\n",
       "  \"http://www.w3.org/Graphics/SVG/1.1/DTD/svg11.dtd\">\n",
       "<svg xmlns:xlink=\"http://www.w3.org/1999/xlink\" width=\"848.7pt\" height=\"424.8pt\" viewBox=\"0 0 848.7 424.8\" xmlns=\"http://www.w3.org/2000/svg\" version=\"1.1\">\n",
       " <metadata>\n",
       "  <rdf:RDF xmlns:dc=\"http://purl.org/dc/elements/1.1/\" xmlns:cc=\"http://creativecommons.org/ns#\" xmlns:rdf=\"http://www.w3.org/1999/02/22-rdf-syntax-ns#\">\n",
       "   <cc:Work>\n",
       "    <dc:type rdf:resource=\"http://purl.org/dc/dcmitype/StillImage\"/>\n",
       "    <dc:date>2022-08-12T21:46:53.595557</dc:date>\n",
       "    <dc:format>image/svg+xml</dc:format>\n",
       "    <dc:creator>\n",
       "     <cc:Agent>\n",
       "      <dc:title>Matplotlib v3.5.3, https://matplotlib.org/</dc:title>\n",
       "     </cc:Agent>\n",
       "    </dc:creator>\n",
       "   </cc:Work>\n",
       "  </rdf:RDF>\n",
       " </metadata>\n",
       " <defs>\n",
       "  <style type=\"text/css\">*{stroke-linejoin: round; stroke-linecap: butt}</style>\n",
       " </defs>\n",
       " <g id=\"figure_1\">\n",
       "  <g id=\"patch_1\">\n",
       "   <path d=\"M 0 424.8 \n",
       "L 848.7 424.8 \n",
       "L 848.7 0 \n",
       "L 0 0 \n",
       "L 0 424.8 \n",
       "z\n",
       "\" style=\"fill: none\"/>\n",
       "  </g>\n",
       "  <g id=\"axes_1\">\n",
       "   <g clip-path=\"url(#p4023a37278)\">\n",
       "    <image xlink:href=\"data:image/png;base64,\n",
       "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\" id=\"image99e6b9b065\" transform=\"matrix(2.055 0 0 -2.055 7.2 417.6)\" style=\"image-rendering:crisp-edges;image-rendering:pixelated\" width=\"200\" height=\"200\"/>\n",
       "   </g>\n",
       "  </g>\n",
       "  <g id=\"axes_2\">\n",
       "   <g clip-path=\"url(#p0d1e2fae74)\">\n",
       "    <image xlink:href=\"data:image/png;base64,\n",
       "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\" id=\"image3d0881333f\" transform=\"matrix(2.055 0 0 -2.055 431.1 417.6)\" style=\"image-rendering:crisp-edges;image-rendering:pixelated\" width=\"200\" height=\"200\"/>\n",
       "   </g>\n",
       "  </g>\n",
       " </g>\n",
       " <defs>\n",
       "  <clipPath id=\"p4023a37278\">\n",
       "   <rect x=\"7.2\" y=\"7.2\" width=\"410.4\" height=\"410.4\"/>\n",
       "  </clipPath>\n",
       "  <clipPath id=\"p0d1e2fae74\">\n",
       "   <rect x=\"431.1\" y=\"7.2\" width=\"410.4\" height=\"410.4\"/>\n",
       "  </clipPath>\n",
       " </defs>\n",
       "</svg>\n"
      ],
      "text/plain": [
       "<Figure size 864x432 with 2 Axes>"
      ]
     },
     "metadata": {
      "needs_background": "light"
     },
     "output_type": "display_data"
    }
   ],
   "source": [
    "matrix = ps.generators.blobs([200, 200])\n",
    "inclusions = ps.generators.rsa(~matrix, r=5, return_spheres=True, clearance=3)\n",
    "bd = ps.filters.nphase_border(matrix*1.0 + inclusions*1.0)\n",
    "\n",
    "fig, ax = plt.subplots(1, 2, figsize=[12, 6])\n",
    "ax[0].imshow(matrix*1.0 + inclusions*1.0, origin='lower', interpolation='none')\n",
    "ax[0].axis(False)\n",
    "ax[1].imshow(bd, origin='lower', interpolation='none')\n",
    "ax[1].axis(False);"
   ]
  },
  {
   "cell_type": "code",
   "execution_count": 4,
   "metadata": {
    "execution": {
     "iopub.execute_input": "2022-08-12T21:46:53.643007Z",
     "iopub.status.busy": "2022-08-12T21:46:53.641915Z",
     "iopub.status.idle": "2022-08-12T21:46:53.651481Z",
     "shell.execute_reply": "2022-08-12T21:46:53.650999Z"
    }
   },
   "outputs": [
    {
     "data": {
      "text/plain": [
       "array([1., 2., 3.])"
      ]
     },
     "execution_count": 4,
     "metadata": {},
     "output_type": "execute_result"
    }
   ],
   "source": [
    "np.unique(bd)"
   ]
  },
  {
   "cell_type": "markdown",
   "metadata": {},
   "source": [
    "The unique values in ``bd`` are 1, 2 and 3 indicating that some pixels border on 1 phase (internal pixels), 2 phases (edges) or 3 phases (corners where void, matrix and inclusion meet). Including diagonals results in a thicker border since more voxels are found that lie on an edge."
   ]
  },
  {
   "cell_type": "markdown",
   "metadata": {},
   "source": [
    "## `include_diagonals`\n",
    "Controls that neighbor of the search."
   ]
  },
  {
   "cell_type": "code",
   "execution_count": 5,
   "metadata": {
    "execution": {
     "iopub.execute_input": "2022-08-12T21:46:53.656464Z",
     "iopub.status.busy": "2022-08-12T21:46:53.655013Z",
     "iopub.status.idle": "2022-08-12T21:46:53.828318Z",
     "shell.execute_reply": "2022-08-12T21:46:53.827763Z"
    }
   },
   "outputs": [
    {
     "data": {
      "image/svg+xml": [
       "<?xml version=\"1.0\" encoding=\"utf-8\" standalone=\"no\"?>\n",
       "<!DOCTYPE svg PUBLIC \"-//W3C//DTD SVG 1.1//EN\"\n",
       "  \"http://www.w3.org/Graphics/SVG/1.1/DTD/svg11.dtd\">\n",
       "<svg xmlns:xlink=\"http://www.w3.org/1999/xlink\" width=\"848.7pt\" height=\"424.8pt\" viewBox=\"0 0 848.7 424.8\" xmlns=\"http://www.w3.org/2000/svg\" version=\"1.1\">\n",
       " <metadata>\n",
       "  <rdf:RDF xmlns:dc=\"http://purl.org/dc/elements/1.1/\" xmlns:cc=\"http://creativecommons.org/ns#\" xmlns:rdf=\"http://www.w3.org/1999/02/22-rdf-syntax-ns#\">\n",
       "   <cc:Work>\n",
       "    <dc:type rdf:resource=\"http://purl.org/dc/dcmitype/StillImage\"/>\n",
       "    <dc:date>2022-08-12T21:46:53.806776</dc:date>\n",
       "    <dc:format>image/svg+xml</dc:format>\n",
       "    <dc:creator>\n",
       "     <cc:Agent>\n",
       "      <dc:title>Matplotlib v3.5.3, https://matplotlib.org/</dc:title>\n",
       "     </cc:Agent>\n",
       "    </dc:creator>\n",
       "   </cc:Work>\n",
       "  </rdf:RDF>\n",
       " </metadata>\n",
       " <defs>\n",
       "  <style type=\"text/css\">*{stroke-linejoin: round; stroke-linecap: butt}</style>\n",
       " </defs>\n",
       " <g id=\"figure_1\">\n",
       "  <g id=\"patch_1\">\n",
       "   <path d=\"M 0 424.8 \n",
       "L 848.7 424.8 \n",
       "L 848.7 0 \n",
       "L 0 0 \n",
       "L 0 424.8 \n",
       "z\n",
       "\" style=\"fill: none\"/>\n",
       "  </g>\n",
       "  <g id=\"axes_1\">\n",
       "   <g clip-path=\"url(#p04ac55b5fb)\">\n",
       "    <image xlink:href=\"data:image/png;base64,\n",
       "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\" id=\"imaged746ee37a1\" transform=\"matrix(2.055 0 0 -2.055 7.2 417.6)\" style=\"image-rendering:crisp-edges;image-rendering:pixelated\" width=\"200\" height=\"200\"/>\n",
       "   </g>\n",
       "  </g>\n",
       "  <g id=\"axes_2\">\n",
       "   <g clip-path=\"url(#p5c1d67960e)\">\n",
       "    <image xlink:href=\"data:image/png;base64,\n",
       "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\" id=\"image83270e1fc4\" transform=\"matrix(2.055 0 0 -2.055 431.1 417.6)\" style=\"image-rendering:crisp-edges;image-rendering:pixelated\" width=\"200\" height=\"200\"/>\n",
       "   </g>\n",
       "  </g>\n",
       " </g>\n",
       " <defs>\n",
       "  <clipPath id=\"p04ac55b5fb\">\n",
       "   <rect x=\"7.2\" y=\"7.2\" width=\"410.4\" height=\"410.4\"/>\n",
       "  </clipPath>\n",
       "  <clipPath id=\"p5c1d67960e\">\n",
       "   <rect x=\"431.1\" y=\"7.2\" width=\"410.4\" height=\"410.4\"/>\n",
       "  </clipPath>\n",
       " </defs>\n",
       "</svg>\n"
      ],
      "text/plain": [
       "<Figure size 864x432 with 2 Axes>"
      ]
     },
     "metadata": {
      "needs_background": "light"
     },
     "output_type": "display_data"
    }
   ],
   "source": [
    "bd1 = ps.filters.nphase_border(matrix*1.0 + inclusions*1.0, include_diagonals=False)\n",
    "bd2 = ps.filters.nphase_border(matrix*1.0 + inclusions*1.0, include_diagonals=True)\n",
    "\n",
    "fig, ax = plt.subplots(1, 2, figsize=[12, 6])\n",
    "ax[0].imshow(bd1, origin='lower', interpolation='none')\n",
    "ax[0].axis(False)\n",
    "ax[1].imshow(bd2, origin='lower', interpolation='none')\n",
    "ax[1].axis(False);"
   ]
  }
 ],
 "metadata": {
  "kernelspec": {
   "display_name": "Python 3 (ipykernel)",
   "language": "python",
   "name": "python3"
  },
  "language_info": {
   "codemirror_mode": {
    "name": "ipython",
    "version": 3
   },
   "file_extension": ".py",
   "mimetype": "text/x-python",
   "name": "python",
   "nbconvert_exporter": "python",
   "pygments_lexer": "ipython3",
   "version": "3.8.13"
  }
 },
 "nbformat": 4,
 "nbformat_minor": 4
}

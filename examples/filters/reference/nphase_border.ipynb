{
 "cells": [
  {
   "cell_type": "markdown",
   "metadata": {},
   "source": [
    "# `nphase_border`\n",
    "Computes the number of phases that border on each pixel."
   ]
  },
  {
   "cell_type": "code",
   "execution_count": 1,
   "metadata": {
    "execution": {
     "iopub.execute_input": "2022-08-23T01:40:08.682693Z",
     "iopub.status.busy": "2022-08-23T01:40:08.682442Z",
     "iopub.status.idle": "2022-08-23T01:40:10.541935Z",
     "shell.execute_reply": "2022-08-23T01:40:10.541123Z"
    }
   },
   "outputs": [],
   "source": [
    "import matplotlib.pyplot as plt\n",
    "import numpy as np\n",
    "import porespy as ps\n",
    "ps.visualization.set_mpl_style()"
   ]
  },
  {
   "cell_type": "markdown",
   "metadata": {},
   "source": [
    "The arguments and their defaults are:"
   ]
  },
  {
   "cell_type": "code",
   "execution_count": 2,
   "metadata": {
    "execution": {
     "iopub.execute_input": "2022-08-23T01:40:10.546583Z",
     "iopub.status.busy": "2022-08-23T01:40:10.545789Z",
     "iopub.status.idle": "2022-08-23T01:40:10.552704Z",
     "shell.execute_reply": "2022-08-23T01:40:10.552162Z"
    }
   },
   "outputs": [
    {
     "data": {
      "text/plain": [
       "<Signature (im, include_diagonals=False)>"
      ]
     },
     "execution_count": 2,
     "metadata": {},
     "output_type": "execute_result"
    }
   ],
   "source": [
    "import inspect\n",
    "inspect.signature(ps.filters.nphase_border)"
   ]
  },
  {
   "cell_type": "markdown",
   "metadata": {},
   "source": [
    "## `im`\n",
    "This function works on both 2D and 3D images.  If an im"
   ]
  },
  {
   "cell_type": "code",
   "execution_count": 3,
   "metadata": {
    "execution": {
     "iopub.execute_input": "2022-08-23T01:40:10.556581Z",
     "iopub.status.busy": "2022-08-23T01:40:10.555605Z",
     "iopub.status.idle": "2022-08-23T01:40:11.228386Z",
     "shell.execute_reply": "2022-08-23T01:40:11.227886Z"
    }
   },
   "outputs": [
    {
     "data": {
      "image/svg+xml": [
       "<?xml version=\"1.0\" encoding=\"utf-8\" standalone=\"no\"?>\n",
       "<!DOCTYPE svg PUBLIC \"-//W3C//DTD SVG 1.1//EN\"\n",
       "  \"http://www.w3.org/Graphics/SVG/1.1/DTD/svg11.dtd\">\n",
       "<svg xmlns:xlink=\"http://www.w3.org/1999/xlink\" width=\"842.76pt\" height=\"420.48pt\" viewBox=\"0 0 842.76 420.48\" xmlns=\"http://www.w3.org/2000/svg\" version=\"1.1\">\n",
       " <metadata>\n",
       "  <rdf:RDF xmlns:dc=\"http://purl.org/dc/elements/1.1/\" xmlns:cc=\"http://creativecommons.org/ns#\" xmlns:rdf=\"http://www.w3.org/1999/02/22-rdf-syntax-ns#\">\n",
       "   <cc:Work>\n",
       "    <dc:type rdf:resource=\"http://purl.org/dc/dcmitype/StillImage\"/>\n",
       "    <dc:date>2022-08-23T01:40:11.193508</dc:date>\n",
       "    <dc:format>image/svg+xml</dc:format>\n",
       "    <dc:creator>\n",
       "     <cc:Agent>\n",
       "      <dc:title>Matplotlib v3.5.3, https://matplotlib.org/</dc:title>\n",
       "     </cc:Agent>\n",
       "    </dc:creator>\n",
       "   </cc:Work>\n",
       "  </rdf:RDF>\n",
       " </metadata>\n",
       " <defs>\n",
       "  <style type=\"text/css\">*{stroke-linejoin: round; stroke-linecap: butt}</style>\n",
       " </defs>\n",
       " <g id=\"figure_1\">\n",
       "  <g id=\"patch_1\">\n",
       "   <path d=\"M 0 420.48 \n",
       "L 842.76 420.48 \n",
       "L 842.76 0 \n",
       "L 0 0 \n",
       "z\n",
       "\" style=\"fill: #ffffff\"/>\n",
       "  </g>\n",
       "  <g id=\"axes_1\">\n",
       "   <g clip-path=\"url(#pe5fd2bf9ff)\">\n",
       "    <image xlink:href=\"data:image/png;base64,\n",
       "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\" id=\"image02e5c41dc9\" transform=\"matrix(2.035 0 0 -2.035 7.2 413.28)\" style=\"image-rendering:crisp-edges;image-rendering:pixelated\" width=\"200\" height=\"200\"/>\n",
       "   </g>\n",
       "  </g>\n",
       "  <g id=\"axes_2\">\n",
       "   <g clip-path=\"url(#p840b8153da)\">\n",
       "    <image xlink:href=\"data:image/png;base64,\n",
       "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\" id=\"imagecba8a76f01\" transform=\"matrix(2.035 0 0 -2.035 429.48 413.28)\" style=\"image-rendering:crisp-edges;image-rendering:pixelated\" width=\"200\" height=\"200\"/>\n",
       "   </g>\n",
       "  </g>\n",
       " </g>\n",
       " <defs>\n",
       "  <clipPath id=\"pe5fd2bf9ff\">\n",
       "   <rect x=\"7.2\" y=\"7.2\" width=\"406.08\" height=\"406.08\"/>\n",
       "  </clipPath>\n",
       "  <clipPath id=\"p840b8153da\">\n",
       "   <rect x=\"429.48\" y=\"7.2\" width=\"406.08\" height=\"406.08\"/>\n",
       "  </clipPath>\n",
       " </defs>\n",
       "</svg>\n"
      ],
      "text/plain": [
       "<Figure size 1200x600 with 2 Axes>"
      ]
     },
     "metadata": {},
     "output_type": "display_data"
    }
   ],
   "source": [
    "matrix = ps.generators.blobs([200, 200])\n",
    "inclusions = ps.generators.rsa(~matrix, r=5, return_spheres=True, clearance=3)\n",
    "bd = ps.filters.nphase_border(matrix*1.0 + inclusions*1.0)\n",
    "\n",
    "fig, ax = plt.subplots(1, 2, figsize=[12, 6])\n",
    "ax[0].imshow(matrix*1.0 + inclusions*1.0, origin='lower', interpolation='none')\n",
    "ax[0].axis(False)\n",
    "ax[1].imshow(bd, origin='lower', interpolation='none')\n",
    "ax[1].axis(False);"
   ]
  },
  {
   "cell_type": "code",
   "execution_count": 4,
   "metadata": {
    "execution": {
     "iopub.execute_input": "2022-08-23T01:40:11.231491Z",
     "iopub.status.busy": "2022-08-23T01:40:11.231148Z",
     "iopub.status.idle": "2022-08-23T01:40:11.238040Z",
     "shell.execute_reply": "2022-08-23T01:40:11.237598Z"
    }
   },
   "outputs": [
    {
     "data": {
      "text/plain": [
       "array([1., 2., 3.])"
      ]
     },
     "execution_count": 4,
     "metadata": {},
     "output_type": "execute_result"
    }
   ],
   "source": [
    "np.unique(bd)"
   ]
  },
  {
   "cell_type": "markdown",
   "metadata": {},
   "source": [
    "The unique values in ``bd`` are 1, 2 and 3 indicating that some pixels border on 1 phase (internal pixels), 2 phases (edges) or 3 phases (corners where void, matrix and inclusion meet). Including diagonals results in a thicker border since more voxels are found that lie on an edge."
   ]
  },
  {
   "cell_type": "markdown",
   "metadata": {},
   "source": [
    "## `include_diagonals`\n",
    "Controls that neighbor of the search."
   ]
  },
  {
   "cell_type": "code",
   "execution_count": 5,
   "metadata": {
    "execution": {
     "iopub.execute_input": "2022-08-23T01:40:11.241045Z",
     "iopub.status.busy": "2022-08-23T01:40:11.240720Z",
     "iopub.status.idle": "2022-08-23T01:40:11.430745Z",
     "shell.execute_reply": "2022-08-23T01:40:11.430232Z"
    }
   },
   "outputs": [
    {
     "data": {
      "image/svg+xml": [
       "<?xml version=\"1.0\" encoding=\"utf-8\" standalone=\"no\"?>\n",
       "<!DOCTYPE svg PUBLIC \"-//W3C//DTD SVG 1.1//EN\"\n",
       "  \"http://www.w3.org/Graphics/SVG/1.1/DTD/svg11.dtd\">\n",
       "<svg xmlns:xlink=\"http://www.w3.org/1999/xlink\" width=\"842.76pt\" height=\"420.48pt\" viewBox=\"0 0 842.76 420.48\" xmlns=\"http://www.w3.org/2000/svg\" version=\"1.1\">\n",
       " <metadata>\n",
       "  <rdf:RDF xmlns:dc=\"http://purl.org/dc/elements/1.1/\" xmlns:cc=\"http://creativecommons.org/ns#\" xmlns:rdf=\"http://www.w3.org/1999/02/22-rdf-syntax-ns#\">\n",
       "   <cc:Work>\n",
       "    <dc:type rdf:resource=\"http://purl.org/dc/dcmitype/StillImage\"/>\n",
       "    <dc:date>2022-08-23T01:40:11.413449</dc:date>\n",
       "    <dc:format>image/svg+xml</dc:format>\n",
       "    <dc:creator>\n",
       "     <cc:Agent>\n",
       "      <dc:title>Matplotlib v3.5.3, https://matplotlib.org/</dc:title>\n",
       "     </cc:Agent>\n",
       "    </dc:creator>\n",
       "   </cc:Work>\n",
       "  </rdf:RDF>\n",
       " </metadata>\n",
       " <defs>\n",
       "  <style type=\"text/css\">*{stroke-linejoin: round; stroke-linecap: butt}</style>\n",
       " </defs>\n",
       " <g id=\"figure_1\">\n",
       "  <g id=\"patch_1\">\n",
       "   <path d=\"M 0 420.48 \n",
       "L 842.76 420.48 \n",
       "L 842.76 0 \n",
       "L 0 0 \n",
       "z\n",
       "\" style=\"fill: #ffffff\"/>\n",
       "  </g>\n",
       "  <g id=\"axes_1\">\n",
       "   <g clip-path=\"url(#p98c905a6b5)\">\n",
       "    <image xlink:href=\"data:image/png;base64,\n",
       "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\" id=\"imagea1101966ae\" transform=\"matrix(2.035 0 0 -2.035 7.2 413.28)\" style=\"image-rendering:crisp-edges;image-rendering:pixelated\" width=\"200\" height=\"200\"/>\n",
       "   </g>\n",
       "  </g>\n",
       "  <g id=\"axes_2\">\n",
       "   <g clip-path=\"url(#pd1298d23dc)\">\n",
       "    <image xlink:href=\"data:image/png;base64,\n",
       "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\" id=\"image029c3d06a5\" transform=\"matrix(2.035 0 0 -2.035 429.48 413.28)\" style=\"image-rendering:crisp-edges;image-rendering:pixelated\" width=\"200\" height=\"200\"/>\n",
       "   </g>\n",
       "  </g>\n",
       " </g>\n",
       " <defs>\n",
       "  <clipPath id=\"p98c905a6b5\">\n",
       "   <rect x=\"7.2\" y=\"7.2\" width=\"406.08\" height=\"406.08\"/>\n",
       "  </clipPath>\n",
       "  <clipPath id=\"pd1298d23dc\">\n",
       "   <rect x=\"429.48\" y=\"7.2\" width=\"406.08\" height=\"406.08\"/>\n",
       "  </clipPath>\n",
       " </defs>\n",
       "</svg>\n"
      ],
      "text/plain": [
       "<Figure size 1200x600 with 2 Axes>"
      ]
     },
     "metadata": {},
     "output_type": "display_data"
    }
   ],
   "source": [
    "bd1 = ps.filters.nphase_border(matrix*1.0 + inclusions*1.0, include_diagonals=False)\n",
    "bd2 = ps.filters.nphase_border(matrix*1.0 + inclusions*1.0, include_diagonals=True)\n",
    "\n",
    "fig, ax = plt.subplots(1, 2, figsize=[12, 6])\n",
    "ax[0].imshow(bd1, origin='lower', interpolation='none')\n",
    "ax[0].axis(False)\n",
    "ax[1].imshow(bd2, origin='lower', interpolation='none')\n",
    "ax[1].axis(False);"
   ]
  }
 ],
 "metadata": {
  "kernelspec": {
   "display_name": "Python 3 (ipykernel)",
   "language": "python",
   "name": "python3"
  },
  "language_info": {
   "codemirror_mode": {
    "name": "ipython",
    "version": 3
   },
   "file_extension": ".py",
   "mimetype": "text/x-python",
   "name": "python",
   "nbconvert_exporter": "python",
   "pygments_lexer": "ipython3",
   "version": "3.8.13"
  }
 },
 "nbformat": 4,
 "nbformat_minor": 4
}

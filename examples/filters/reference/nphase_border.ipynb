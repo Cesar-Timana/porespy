{
 "cells": [
  {
   "cell_type": "markdown",
   "metadata": {},
   "source": [
    "# `nphase_border`\n",
    "Computes the number of phases that border on each pixel."
   ]
  },
  {
   "cell_type": "code",
   "execution_count": 1,
   "metadata": {
    "execution": {
     "iopub.execute_input": "2022-08-23T01:09:08.206548Z",
     "iopub.status.busy": "2022-08-23T01:09:08.206295Z",
     "iopub.status.idle": "2022-08-23T01:09:10.051543Z",
     "shell.execute_reply": "2022-08-23T01:09:10.050827Z"
    }
   },
   "outputs": [],
   "source": [
    "import matplotlib.pyplot as plt\n",
    "import numpy as np\n",
    "import porespy as ps\n",
    "ps.visualization.set_mpl_style()"
   ]
  },
  {
   "cell_type": "markdown",
   "metadata": {},
   "source": [
    "The arguments and their defaults are:"
   ]
  },
  {
   "cell_type": "code",
   "execution_count": 2,
   "metadata": {
    "execution": {
     "iopub.execute_input": "2022-08-23T01:09:10.056984Z",
     "iopub.status.busy": "2022-08-23T01:09:10.055487Z",
     "iopub.status.idle": "2022-08-23T01:09:10.063744Z",
     "shell.execute_reply": "2022-08-23T01:09:10.063253Z"
    }
   },
   "outputs": [
    {
     "data": {
      "text/plain": [
       "<Signature (im, include_diagonals=False)>"
      ]
     },
     "execution_count": 2,
     "metadata": {},
     "output_type": "execute_result"
    }
   ],
   "source": [
    "import inspect\n",
    "inspect.signature(ps.filters.nphase_border)"
   ]
  },
  {
   "cell_type": "markdown",
   "metadata": {},
   "source": [
    "## `im`\n",
    "This function works on both 2D and 3D images.  If an im"
   ]
  },
  {
   "cell_type": "code",
   "execution_count": 3,
   "metadata": {
    "execution": {
     "iopub.execute_input": "2022-08-23T01:09:10.067887Z",
     "iopub.status.busy": "2022-08-23T01:09:10.066840Z",
     "iopub.status.idle": "2022-08-23T01:09:10.696569Z",
     "shell.execute_reply": "2022-08-23T01:09:10.696047Z"
    }
   },
   "outputs": [
    {
     "data": {
      "image/svg+xml": [
       "<?xml version=\"1.0\" encoding=\"utf-8\" standalone=\"no\"?>\n",
       "<!DOCTYPE svg PUBLIC \"-//W3C//DTD SVG 1.1//EN\"\n",
       "  \"http://www.w3.org/Graphics/SVG/1.1/DTD/svg11.dtd\">\n",
       "<svg xmlns:xlink=\"http://www.w3.org/1999/xlink\" width=\"842.76pt\" height=\"420.48pt\" viewBox=\"0 0 842.76 420.48\" xmlns=\"http://www.w3.org/2000/svg\" version=\"1.1\">\n",
       " <metadata>\n",
       "  <rdf:RDF xmlns:dc=\"http://purl.org/dc/elements/1.1/\" xmlns:cc=\"http://creativecommons.org/ns#\" xmlns:rdf=\"http://www.w3.org/1999/02/22-rdf-syntax-ns#\">\n",
       "   <cc:Work>\n",
       "    <dc:type rdf:resource=\"http://purl.org/dc/dcmitype/StillImage\"/>\n",
       "    <dc:date>2022-08-23T01:09:10.669033</dc:date>\n",
       "    <dc:format>image/svg+xml</dc:format>\n",
       "    <dc:creator>\n",
       "     <cc:Agent>\n",
       "      <dc:title>Matplotlib v3.5.3, https://matplotlib.org/</dc:title>\n",
       "     </cc:Agent>\n",
       "    </dc:creator>\n",
       "   </cc:Work>\n",
       "  </rdf:RDF>\n",
       " </metadata>\n",
       " <defs>\n",
       "  <style type=\"text/css\">*{stroke-linejoin: round; stroke-linecap: butt}</style>\n",
       " </defs>\n",
       " <g id=\"figure_1\">\n",
       "  <g id=\"patch_1\">\n",
       "   <path d=\"M 0 420.48 \n",
       "L 842.76 420.48 \n",
       "L 842.76 0 \n",
       "L 0 0 \n",
       "z\n",
       "\" style=\"fill: #ffffff\"/>\n",
       "  </g>\n",
       "  <g id=\"axes_1\">\n",
       "   <g clip-path=\"url(#pfaf6c92a75)\">\n",
       "    <image xlink:href=\"data:image/png;base64,\n",
       "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\" id=\"image85c8870bb5\" transform=\"matrix(2.035 0 0 -2.035 7.2 413.28)\" style=\"image-rendering:crisp-edges;image-rendering:pixelated\" width=\"200\" height=\"200\"/>\n",
       "   </g>\n",
       "  </g>\n",
       "  <g id=\"axes_2\">\n",
       "   <g clip-path=\"url(#p0d5b549cd9)\">\n",
       "    <image xlink:href=\"data:image/png;base64,\n",
       "iVBORw0KGgoAAAANSUhEUgAAAMgAAADICAYAAACtWK6eAAAX0ElEQVR4nO1dy20cMRKlBEXhkwEpAB0dwAJKYIFJwVflYUA+KgWF4Ax8dADW1Wl4D1rKNVSRrD+re/oBAuzpJln81L+6++o/V//9W5j4/fSllFLK3ePP4W+UPiCobbXg0roFRM9pdAYqKLTM6I46Jz06rq06qv/HJtTrg/r7gVyYnYHX07PpONTfPXDDuXnG7XePP8vvpy/l99OXqUTArs/aHlgPyhkoJ99xIs8JW4NoQFrcIpMQddHg34E1uH35Sr4X23PPc8IFS4NkxUgVt4u8R/+Di5X+39aweQbJooq3Ao4wuRSMzlCoiWUNrireq/agzgve1/7B6wf+gcUgs4Xc6wHcAyR2fc+vez09d8/Ajz+/huNQx84CtokFI1UtXk/P5fbl69k1uFCzKNfBYHkwOqy3L1/fQrmnc4fcKrzrcU6kfteVJFGIDViZA0PPUabcS6Fh1EaSvOKgN5dsSU/rtbLaQ6xPikbRMgfsZ7Q27xqEy2FtBvX25SvZUYZEUcfLiNHCb9XprYJuRrvH3FrNwTknvfsoQZwRbnqd19+1kqmnLi0WmKOKre1bSomEN5NcgklKPX8Yfvz5VW5f+ntQz8XI+rn6/P3b3x4hHLVsoeKloKpiKxpWzlljMs6kqbRfa1iYg/Dgz/oZ3XczIoRSOpIBVFXcBhgyz6mFhUk6CrDA/lbv+ejceTIyti5TJ51iSoyuS+/1hOawcedgMedeVFA6j1m7zPtUQdHeVA0ywuYz6RKM6n/gdauxrCTyjDnq71oHO4vlgFkGXvT0+g3VINT7V0S4uNESLj0aqdwLf3rnkrJoEi6w4Ix0ra4+f//2V+OEWzOIR3x9Rks7xkztWhxyaXsKDZfMJBi9mjN1PeqAsjiUpA71fjhe+8cZg4KZiTIKXEignUNtb5Wt5o5rHSaPhGYvb6iRDW9I8ynWY7WJqgN5fJIZRvsqpfu6dopJJmqnllrEGxRGhPdlgnfSsf3Dxs64Lp54r+ZtM4mSGHsp6xYQ2+A9bibnaT0qZiZ2RZsnyQQvX+mm58x4q1MLtU3ZpGizYBQNs5jzrA/LoAk2DgxieIXGR3RGjAVxlgdpmSWrzckNyUZBk5vgwMpvlPp9ozySx3lp58kJe2vRfWAqwmSCY8zGq5nRtj0l4hTBKJERuDrO6+kZXZMoYOtvPU9sXeE17zC0OlEovbfXrrfAsOKS0/8oLm6VaJMkPzPkKDh0WyaCOYhKimL9lkJ45JYqAa2IxdrDmhqLxWidzdap9/a96tiZ+soIignonTwmPZPuvRGYLQknT3mARzom9fes2DuT9OARscTOn8lbTSwkb7TjV/vF/AVvZDnUFL8P3jdD1HyoYWkLkKt528iJRwRhKxnbbNCsmyYipo2iScANS3OAraPotT+QmB6xlwRrSRwNjrk5Mmm8tTDFJ4H3SdD6p6LX/kAiMicTIw8mVxJn05acKCWnzRYBo6niB6Y8E0JY5ja7FC6lH6aOZlDPyE7m9bdEnWeKJwpnGwAPHpVRVjEUZ7xsWgTDJTIHxDIGqQv/lgn+VUop5eHTfff+1rTD1H2ECeA1RnYNmZUub4jfrCjFzIGyCilGMIfVeFbRoMgsdgQiqiBmCGOQc42BawtJWUvF6+l5qIE0GJkZ1iaIhlksD8hq5hjR4CWoMIQwCGQO6mtYJPH3WTsuOOaUx4HihCur4IHPi1hotYwMAq9BeNDqziBYIaLmoHmpWAum8zxUI/ow5qjIHh6fYTUtrk56tE0siQpFqmsNRgLjvZCzfDRFMkfIoiHROm5fmFrN+RS0/oO2LqtXT2ZdVAf7huNS6NkarOYgrd9KkQdZDS8mHm1KVsGxBcHGhaZ+y0WD9AjKVLPkPRbsH9NMW5bqW4JWy4Z/xLMtBmtNjz0wR3Wa92z6XArMGYRy+DjVo9j1DBpojzjW7yOW+SDSTeBWzbbY0yGYRe32MteVNWtpnHROUm5l1Ww2aAXGgTFMGUQqsbDNnUmLrSfAOJgJg0sQGFItotWyyzXIqN4mczh0hJrR1po+Iycey+EcwKHRsqalJhIJHVWdGaU9sNIaDBzmoNYiUfqdIbuWtS4nmvUTyiCSA2O1YavCyJJN4dJKDRdL+svIKJF7acYgUuawqvDV0GYNCymnnSsVnP3KxCxRexrig4wmc1u+vjFJ6TPJyjBfJCw2nSJoKGP26sq09G0N7hqEWuIO373bu9/ax5GAyqRSMyn68HHMKanp5aWNItYsDYNgsGCSaJMFIjtzSGkYMYqViUeF99qlefVobT8r6IusY9JIvi0xBxeQVqyerpTy/mkG+HmGdn9hey0tXufBRINoQ7US7cPNJUiTl5Fh4dXQmLAV3PC2VcTMax3VTnqmDbbCHudEgSQYwhVqbd9QA2jWnUM7xzK4+vz921/v8KlUE1BDx5ZaxIs5KOZiFob01LqU/a7wCJNzc3E3lE610KT6PcafbU4Ec9TfszAFxGy/4H3W45byb70k6zPSJFztVsr/fRAJ51rYq7P2Fj7IbHwqPVKH3VtieoK7XloNMhpfq82ktJ056VSCMjiwFtlqCEkYmtqO03c2JhnB6hBSxuC0wcaS0oZ+BlrrMHlDS5tVopHr0O4NEqdeMkYp69YazYOM4tQrtUc0487GiszJZAW2BiOfC7bRjuON30+DD+hgDlPbmAKNlO85ipcqsbOizX28np5LOdm96VFLl4Spapt3H2R2ELWcqw0l1z4iGcYqbDlrT6lo3grqnGEGnfN9e+o55PowMz+k50+hUSwr4mAbbrtZXy08DpeF07nlKJYW3L2n7K+GQahjwPuuPn//9rc3oCRKQSXUsr13cs86UoVhb8wBYa2JPZiklzO5Hg1k6Rhp+lrlLM/6pW7UjO7sqHa8dH2166jdX4yx2r8ePTernabsh2Tm6FHpj9R8lsCCM5np1aKdL6tY0SLu3TraK5iF6+hzggN7irpx7PdISM7hqM1oz5a89qcXHYuQTiM1P2MSSb/wmjbgcUAHSti33Y8b7qG0zp5iicAVYVvp2JRIVC+XdDCHHNJziFkDo/bXr6fn8uPPL/RiFiln4Sx7OIKteTjqu722ek250J4FSgTJIwPf9oM56iO8h3l7kMT3NeDkDSCoJpA2ZKu5f2ugJtm4/fX6kewvNQ/F6RMCzaS3H4WMZBLJhDlJKCsGOZhD1y8GTjCE2mevH+qcus+kc5IpKxJ03P6sX1C3ZwaxTBDPxsCgSURz+qLMi/TShpFTs0KLSPo6GISG3rwi5rsy5N8bj/VWE2uup4xl4ZjVfjjlDFH0ZYHETPGCdm25ZtpoPNFrf6LClVYL1Wq89i2OFdIQ79aZhJsAjMpVWZpas/56Y4oShVs/EBgkjmCbeNriunA0bE+wWEOa4/DIc5l+/sADFtJEa09LIi+j+7OAG6miBjusabO6nxohhdfTfGEqEhwJxZFKlLlk0TZSOmZfz9oqTE2sXucVnCgQBR4bQWESSvYd9sGZ98oDZpEVl5osW4PZq0d7v/XMm951K1AOwYqNhtqmHZciNDwz2ZeK0VkxM7F6Gy1J4GjBkZCrpGHr4FPBodNz7T3XLYsZWkop1x4+QDU3sAlSTZFIcHwIj3Hh/2d/VDp7UbeRuTjqGzu0q9YNg4T+0e8Vw2fSZ8jE6RWWUS+LyIgHJNEYbt8YPMaz7o9L/2ys61VSoKpn+LcaPcbgSiVvjOiycMA5v8/o4SKSfspYH6p5rRIzlHYYLJxQ7YGlMojFWFJY5XgiaOK0x5KRFA1OuRdrN7tf9Qk2ieSAhEnta29QTaxszLFljDL1PU3J+R3rj7J+6NvdvbSIt01veXCyHsKsfpFm7FmGHsv4V3DTCNxQtzrMu9ekUfS8RiHZqNyRFh7MUfv7/fSl/Pjzq9y+0LQ6TMiO7pvB5Cu3bfJrFTKZaRyM6JUwR5b98AJ1DSzSDKaJwgxlFJaI1iI980IytmQ/erkTL9TxOBXCXHq09JtokIooZztjiFgKz0AAZz9moewZIvyeiFL7FqYMUtHbFIu8ArXtlpnGGpx1l0QWI5gDfk4hEmcMYnm4KEyCaQFqdCZriLiH2Xy9ae+NQ9VgnvRRGXgFXDTIDBJzYtVGWvSbceOtYKU9ZoLTwrySrPcHBvHSIpgmwbSABTJplExaz3pMa9NqJPy0tMOABcdvdX+isI2mtNf2DIrWg2sSES3LnrfyoKmXaKQkDVEGsV5Eqf17IC+0e7dq7+F4Z++kPuFvEh2+tMF7EhyNIolwWdEtXQdu4CHy0FDHHQUTNHR6rinlfszEal+5W8rESfe2k1vfYzQON9KxN5/GM+dDiSy2Y1s65RHtIHp+4cOn+3L78vUspDyNYkWF+SjjzDayvW9rmJmivf9bjEXVzNYBlWhQ/EJoai0J8/Ywinq190BAjs+0eZaJ0YiDOYoqZmKMyAQm+cVxK+xjDG0kor3mCa3djAEzMWf2coRvFbHf2BjYWvVomNE46p8qlFJpkIqRtOotYATjau3m0e+jjYO/ZZHiHuAmVHsWB1apIAUa5s2QYCulL9lWHhJpCFwboYuc84oQ7Eyb9dbbO8/2QYNQ7bpVyCBBLQMXRy5IX0bUWhAji4LrF96MLrbXot7uvQVkz0hvAXUNrc4VdR+wsHWvn3cNQg1/vZ6el2uRLNBqkkN7rAPFLyxFUIu117d7S7E3TXJJTDuK3lWIolgZMsuZsDIrfECHUcK5FEU1794kZwQyMUImTTGzSjxopebSVOXurbOTYbFXYSYwKNHBY/14FRTchDEnCVnxziDUDcZKEGAc+pI3uYetRAdXC7pelQRX4FA0NXWOZxpEwsXw98Pk+ghSjP8USdE5shV6UsanlphI+m6B1mJJVFHbdvVCr4BF7U8ksjAHZ/7Ra9V9ovAAD9qNez09l4fHe0OK5siyzxRfti25j8Lyr9we+IdLNk9HNVXtfZE4GORAGozyQqsEB/l5EA4u0Q+RPluRxQ84gGN3GiTjgaNEBzMlEQ/8w9Xn79/+ag5RFnux0oG9w3X07QkPGiSJKiute8l+jAfev3LbghNyazH7IIo1IHO0CTf4KhdverSHXNM+o+bcA2566n0WVhtt5m15K4u/LXGHshScCR4e7/9lqwPoWYF2r46ErR2uS/n3BBb8g8Ce+a3tMERvTNUSl/4sS53/USVsh66TjmWDOVKpHsjo5NdKrJDelxIxtGR2zlqRngeBWoVL6KVJMY30tpT8e9Ii1URuAzDYb9T+Zs+BVLDCvNxniCOePuQW+0VI2ihNcgnaA563u8ef5a78m2v1L0vhrcHM54b9pXwvFhft+1RH90VhTxJ8FVrmwCBZ55nPXfv7/fSFzyDQ4T17fXzTOSSEOwEpemOskrTt3Dmq3WP8A330GEaUSb97/Fluy/+l8VP/nkhAcw7iTQKtD3mOmHc1bRlR18tS63NqvNQmFuS06izNwq3eyHrQ4Lpgkkoi4ala8dAib5hZFz2oa7HuHn+eOUur0YanIzP6I4wkFcWh11S4bjF5yA0IjTArFh2ti5mTHu1vbAmcDYZrOPJVuAd9q3vTM50rqPVvUiffvJp3i9LKExIJiJX/aMOYW9yLdh0snzWnYhdh3qzQSOtZGJI7JhRYW9IiVB/LC+YaZEuLvzdQbe2tavgV9JppkNZWhpPZouTSAK7Fw6f7999695Zi8xzIqB+4B62fkx0rz49Kg2S3daOlZc9vgHT06IwGtO+3qE2omJ2BmWARP5MucSI9M9q9vr2z6Bwh4SlQKPNctUZW0NA50j6j/kQapCUUk44ryjpWaotKwwjUPMfe124FsMhg/X0ENoNgzNG7rx18LxtheZhHlaWRa5R9byzWRNLWxAeRZCg9ELHJloe3x2jQN6COpbW1t4RI35ftg3BMqRU2b0/DRdr6Vv1o/DwMWfxEbv+QJu38uNjde7GwiNFWpWbL5JTDK7W1PaExIzHmiLRYlmiQ2TULePVv0a+0D+9AiJe2rcDMSOw61k4TpdNA9MBUKfgL2jKBW6KxBbRzskyceTIHthfYbxmioS12Z2J5ozXhpFrAIhpjZVas9NMwhl/NFBCiRCGFy63Mq2injAqpnZ8taOBtVkF4m6UeDHajcWYlJRRWzEG57slAmL28IjCgCW1HMke9Hi3UtAz74d28EikoKbfgRC9m94wQuSFazWoxZg/etETMnWqVSHyzHk1nJpa3GpNojxXRIgt45oAsnXNLRqW8tNyKSVr0HkzjCtj2/u5XbjM5SlLMTMD23uyghEZnmhtruyVgGqJlDuq8KNULYVGsVdKcqnKzM9HMv5kJty0yQw/twbZ4MUcvKctikIxhOAo4Jl3vAzzwHo3/JNHSW113b3isS8sou8uDSE2JenB7L1iAmmh0uFfnFFaZyHePP0s5rfmctQfYJla0FNNIWux3jdRv6eglCrPlOKIBv8EijWJl85XOGGRrGwLBOeCctvV32EerTdp7I5DtINXx4dfFevf0wBFwUWc17Jl0T/XPPeAWwHJAVC3FuXckiam/R+KMSRpzVRr+jTQb2zW8aS9EmDN7AucAj9pQQWWclftQmaT+e4YVAg4bH8MNhcBeh6u5PSO0pQ2UvmcHyeJ9tlpsJac2M5HVz6S3GC3MVhZNCku7eO9rlQGU/Qp/9Shmu6/GjCbvEhwpXdmRmf7WHIV/EO+fgW4becJ6PIsD3oZw2wWLZg6MrtXorc3WMKMbXiebWNb2bVsnpQ3jzequOIm2Us4z6vX1oasA176UEp6IGx0oC+EwMyctBRAlLA9pYVfz/vjzy7RiE258ZTxKVehsbAhOP1wnOzJ3NAsTe+RkzhgTERT1O5UjoamJjLZnQ9JvOwan6vjDE4Vak8IiXKxhEA16B5BiSkTSGkUP5zBJys0xUBhO0m8Fl0HEH/HUmjOQiPb+h8f7Up5iY/kjxp75ASvqnrCDBE3EaFgItN9PX94/uAq/h74SHxiEGl5s7eK6URa5FA4dkchCRylv5k7LDJbMUfuKyqdEmqocqMK8d48/y8OnezZzZEOWzeFGhkbCZUvIsv4YdlfuvkVgmoATvTvAA3y+Z+ZHoxqEG3vPFKvnYrX0agMDWdayF3ZvsXr9uMDmNcp7HRpkEUYh22z+l1VQJht6QQ04n2VfubXIfmuxSvrN8hlZAPdoL/5OKR/n1f5BdDVIhBTbq2TC4JHEi0A2bWYF6ryWm1gUNUcFp58o7WE1t60j4zrMyp1KWWhiQWCqjRvynJlqK4A54CsOhbbAUBs4yLg3FW3FRLtG05dXUyWtViJza6CoY2PXtuDfWNFoab5KaKLuTYZoGLZWpLe7z4j3PAwWY7f3eG+GRf+efUj7ltbZUfamYrXZVVHpIptYr6fn8uPPrw8qSKsmKSUnFuNEIYMknNEhXVPPvci2z9UcnjIIrMmBdTkto3iq7GyLlx2eTHpJTFLKJIo1WuhaTSp9mIi7iVbhRs/Dk0V7eMMz9JstrNzVILPNrkWKkdyeUcJkg8QnkyBKk6ze6yVhXs0G9Rzt1bVC1uNIDkm0BputvWZvsPDrCixPFEqAZeBfT8+lnOwezcwAGP6kHP5s5kkpumqJlsFWlOikSBRK0C4QfJ59dF9WtMk8yBBYDqeHaPOEYmpp67hGiWRtEnSGTWqQinbRHh7vw80MC4xMkDqP9uBTNEnbhwe4kUgNKIIC+10z9tlHPDkJJUkSCN7vlayKclKt+vWuArBOFsK28HFry7XUHPK2LfZWFA6tH75y23YgLQGZtZNuNGV878x/D56ZZk05xoxJKH1SzBeL9ZSeN25f1P7Q92K1jbkcTZWKlA3qlSJYabeVTLKaQeA1Ckbvx7JYT+2eUu+Hb4SZ9XfmpENnqD287Z+EMPh7axtDJwtzumbjcnHkVN7AWdfbl6/dxLB2PTnnRttXzeHVr2GNsNxJH4Xy4HWvsbOFRVfBwsTaI0xe2mABKMkomqoHriq2DItuMYJ2yWi/XgxRz0M3DzJiEs8Y+4rDRQ1KjOLuEubQZJoP2KAVkO2+ir6TDv+/l83r5RlmgkCb3aVmmg9m8UMbMKq/lcJ4ohBrLImxW220R3y/7aNFxHx641nkLbzW3GqMqCgWpy/VE4XeSS4uPVFjrEAGBun1lbV/i77+B+EGZxN6RHxxAAAAAElFTkSuQmCC\" id=\"image393c4e0781\" transform=\"matrix(2.035 0 0 -2.035 429.48 413.28)\" style=\"image-rendering:crisp-edges;image-rendering:pixelated\" width=\"200\" height=\"200\"/>\n",
       "   </g>\n",
       "  </g>\n",
       " </g>\n",
       " <defs>\n",
       "  <clipPath id=\"pfaf6c92a75\">\n",
       "   <rect x=\"7.2\" y=\"7.2\" width=\"406.08\" height=\"406.08\"/>\n",
       "  </clipPath>\n",
       "  <clipPath id=\"p0d5b549cd9\">\n",
       "   <rect x=\"429.48\" y=\"7.2\" width=\"406.08\" height=\"406.08\"/>\n",
       "  </clipPath>\n",
       " </defs>\n",
       "</svg>\n"
      ],
      "text/plain": [
       "<Figure size 1200x600 with 2 Axes>"
      ]
     },
     "metadata": {},
     "output_type": "display_data"
    }
   ],
   "source": [
    "matrix = ps.generators.blobs([200, 200])\n",
    "inclusions = ps.generators.rsa(~matrix, r=5, return_spheres=True, clearance=3)\n",
    "bd = ps.filters.nphase_border(matrix*1.0 + inclusions*1.0)\n",
    "\n",
    "fig, ax = plt.subplots(1, 2, figsize=[12, 6])\n",
    "ax[0].imshow(matrix*1.0 + inclusions*1.0, origin='lower', interpolation='none')\n",
    "ax[0].axis(False)\n",
    "ax[1].imshow(bd, origin='lower', interpolation='none')\n",
    "ax[1].axis(False);"
   ]
  },
  {
   "cell_type": "code",
   "execution_count": 4,
   "metadata": {
    "execution": {
     "iopub.execute_input": "2022-08-23T01:09:10.700731Z",
     "iopub.status.busy": "2022-08-23T01:09:10.699693Z",
     "iopub.status.idle": "2022-08-23T01:09:10.708692Z",
     "shell.execute_reply": "2022-08-23T01:09:10.708249Z"
    }
   },
   "outputs": [
    {
     "data": {
      "text/plain": [
       "array([1., 2., 3.])"
      ]
     },
     "execution_count": 4,
     "metadata": {},
     "output_type": "execute_result"
    }
   ],
   "source": [
    "np.unique(bd)"
   ]
  },
  {
   "cell_type": "markdown",
   "metadata": {},
   "source": [
    "The unique values in ``bd`` are 1, 2 and 3 indicating that some pixels border on 1 phase (internal pixels), 2 phases (edges) or 3 phases (corners where void, matrix and inclusion meet). Including diagonals results in a thicker border since more voxels are found that lie on an edge."
   ]
  },
  {
   "cell_type": "markdown",
   "metadata": {},
   "source": [
    "## `include_diagonals`\n",
    "Controls that neighbor of the search."
   ]
  },
  {
   "cell_type": "code",
   "execution_count": 5,
   "metadata": {
    "execution": {
     "iopub.execute_input": "2022-08-23T01:09:10.713499Z",
     "iopub.status.busy": "2022-08-23T01:09:10.712043Z",
     "iopub.status.idle": "2022-08-23T01:09:10.855654Z",
     "shell.execute_reply": "2022-08-23T01:09:10.855090Z"
    }
   },
   "outputs": [
    {
     "data": {
      "image/svg+xml": [
       "<?xml version=\"1.0\" encoding=\"utf-8\" standalone=\"no\"?>\n",
       "<!DOCTYPE svg PUBLIC \"-//W3C//DTD SVG 1.1//EN\"\n",
       "  \"http://www.w3.org/Graphics/SVG/1.1/DTD/svg11.dtd\">\n",
       "<svg xmlns:xlink=\"http://www.w3.org/1999/xlink\" width=\"842.76pt\" height=\"420.48pt\" viewBox=\"0 0 842.76 420.48\" xmlns=\"http://www.w3.org/2000/svg\" version=\"1.1\">\n",
       " <metadata>\n",
       "  <rdf:RDF xmlns:dc=\"http://purl.org/dc/elements/1.1/\" xmlns:cc=\"http://creativecommons.org/ns#\" xmlns:rdf=\"http://www.w3.org/1999/02/22-rdf-syntax-ns#\">\n",
       "   <cc:Work>\n",
       "    <dc:type rdf:resource=\"http://purl.org/dc/dcmitype/StillImage\"/>\n",
       "    <dc:date>2022-08-23T01:09:10.832119</dc:date>\n",
       "    <dc:format>image/svg+xml</dc:format>\n",
       "    <dc:creator>\n",
       "     <cc:Agent>\n",
       "      <dc:title>Matplotlib v3.5.3, https://matplotlib.org/</dc:title>\n",
       "     </cc:Agent>\n",
       "    </dc:creator>\n",
       "   </cc:Work>\n",
       "  </rdf:RDF>\n",
       " </metadata>\n",
       " <defs>\n",
       "  <style type=\"text/css\">*{stroke-linejoin: round; stroke-linecap: butt}</style>\n",
       " </defs>\n",
       " <g id=\"figure_1\">\n",
       "  <g id=\"patch_1\">\n",
       "   <path d=\"M 0 420.48 \n",
       "L 842.76 420.48 \n",
       "L 842.76 0 \n",
       "L 0 0 \n",
       "z\n",
       "\" style=\"fill: #ffffff\"/>\n",
       "  </g>\n",
       "  <g id=\"axes_1\">\n",
       "   <g clip-path=\"url(#p0e47b180d1)\">\n",
       "    <image xlink:href=\"data:image/png;base64,\n",
       "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\" id=\"image3b86f4b1c6\" transform=\"matrix(2.035 0 0 -2.035 7.2 413.28)\" style=\"image-rendering:crisp-edges;image-rendering:pixelated\" width=\"200\" height=\"200\"/>\n",
       "   </g>\n",
       "  </g>\n",
       "  <g id=\"axes_2\">\n",
       "   <g clip-path=\"url(#p69e523b510)\">\n",
       "    <image xlink:href=\"data:image/png;base64,\n",
       "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\" id=\"imageff6eece4bd\" transform=\"matrix(2.035 0 0 -2.035 429.48 413.28)\" style=\"image-rendering:crisp-edges;image-rendering:pixelated\" width=\"200\" height=\"200\"/>\n",
       "   </g>\n",
       "  </g>\n",
       " </g>\n",
       " <defs>\n",
       "  <clipPath id=\"p0e47b180d1\">\n",
       "   <rect x=\"7.2\" y=\"7.2\" width=\"406.08\" height=\"406.08\"/>\n",
       "  </clipPath>\n",
       "  <clipPath id=\"p69e523b510\">\n",
       "   <rect x=\"429.48\" y=\"7.2\" width=\"406.08\" height=\"406.08\"/>\n",
       "  </clipPath>\n",
       " </defs>\n",
       "</svg>\n"
      ],
      "text/plain": [
       "<Figure size 1200x600 with 2 Axes>"
      ]
     },
     "metadata": {},
     "output_type": "display_data"
    }
   ],
   "source": [
    "bd1 = ps.filters.nphase_border(matrix*1.0 + inclusions*1.0, include_diagonals=False)\n",
    "bd2 = ps.filters.nphase_border(matrix*1.0 + inclusions*1.0, include_diagonals=True)\n",
    "\n",
    "fig, ax = plt.subplots(1, 2, figsize=[12, 6])\n",
    "ax[0].imshow(bd1, origin='lower', interpolation='none')\n",
    "ax[0].axis(False)\n",
    "ax[1].imshow(bd2, origin='lower', interpolation='none')\n",
    "ax[1].axis(False);"
   ]
  }
 ],
 "metadata": {
  "kernelspec": {
   "display_name": "Python 3 (ipykernel)",
   "language": "python",
   "name": "python3"
  },
  "language_info": {
   "codemirror_mode": {
    "name": "ipython",
    "version": 3
   },
   "file_extension": ".py",
   "mimetype": "text/x-python",
   "name": "python",
   "nbconvert_exporter": "python",
   "pygments_lexer": "ipython3",
   "version": "3.8.13"
  }
 },
 "nbformat": 4,
 "nbformat_minor": 4
}

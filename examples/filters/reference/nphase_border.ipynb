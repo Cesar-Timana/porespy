{
 "cells": [
  {
   "cell_type": "markdown",
   "metadata": {},
   "source": [
    "# `nphase_border`\n",
    "Computes the number of phases that border on each pixel."
   ]
  },
  {
   "cell_type": "code",
   "execution_count": 1,
   "metadata": {
    "execution": {
     "iopub.execute_input": "2022-09-07T23:56:52.395078Z",
     "iopub.status.busy": "2022-09-07T23:56:52.394814Z",
     "iopub.status.idle": "2022-09-07T23:56:54.168848Z",
     "shell.execute_reply": "2022-09-07T23:56:54.168056Z"
    }
   },
   "outputs": [],
   "source": [
    "import matplotlib.pyplot as plt\n",
    "import numpy as np\n",
    "import porespy as ps\n",
    "ps.visualization.set_mpl_style()"
   ]
  },
  {
   "cell_type": "markdown",
   "metadata": {},
   "source": [
    "The arguments and their defaults are:"
   ]
  },
  {
   "cell_type": "code",
   "execution_count": 2,
   "metadata": {
    "execution": {
     "iopub.execute_input": "2022-09-07T23:56:54.173888Z",
     "iopub.status.busy": "2022-09-07T23:56:54.172798Z",
     "iopub.status.idle": "2022-09-07T23:56:54.180477Z",
     "shell.execute_reply": "2022-09-07T23:56:54.180010Z"
    }
   },
   "outputs": [
    {
     "data": {
      "text/plain": [
       "<Signature (im, include_diagonals=False)>"
      ]
     },
     "execution_count": 2,
     "metadata": {},
     "output_type": "execute_result"
    }
   ],
   "source": [
    "import inspect\n",
    "inspect.signature(ps.filters.nphase_border)"
   ]
  },
  {
   "cell_type": "markdown",
   "metadata": {},
   "source": [
    "## `im`\n",
    "This function works on both 2D and 3D images.  If an im"
   ]
  },
  {
   "cell_type": "code",
   "execution_count": 3,
   "metadata": {
    "execution": {
     "iopub.execute_input": "2022-09-07T23:56:54.184596Z",
     "iopub.status.busy": "2022-09-07T23:56:54.183555Z",
     "iopub.status.idle": "2022-09-07T23:56:54.812157Z",
     "shell.execute_reply": "2022-09-07T23:56:54.811600Z"
    }
   },
   "outputs": [
    {
     "data": {
      "image/svg+xml": [
       "<?xml version=\"1.0\" encoding=\"utf-8\" standalone=\"no\"?>\n",
       "<!DOCTYPE svg PUBLIC \"-//W3C//DTD SVG 1.1//EN\"\n",
       "  \"http://www.w3.org/Graphics/SVG/1.1/DTD/svg11.dtd\">\n",
       "<svg xmlns:xlink=\"http://www.w3.org/1999/xlink\" width=\"842.76pt\" height=\"420.48pt\" viewBox=\"0 0 842.76 420.48\" xmlns=\"http://www.w3.org/2000/svg\" version=\"1.1\">\n",
       " <metadata>\n",
       "  <rdf:RDF xmlns:dc=\"http://purl.org/dc/elements/1.1/\" xmlns:cc=\"http://creativecommons.org/ns#\" xmlns:rdf=\"http://www.w3.org/1999/02/22-rdf-syntax-ns#\">\n",
       "   <cc:Work>\n",
       "    <dc:type rdf:resource=\"http://purl.org/dc/dcmitype/StillImage\"/>\n",
       "    <dc:date>2022-09-07T23:56:54.775277</dc:date>\n",
       "    <dc:format>image/svg+xml</dc:format>\n",
       "    <dc:creator>\n",
       "     <cc:Agent>\n",
       "      <dc:title>Matplotlib v3.5.3, https://matplotlib.org/</dc:title>\n",
       "     </cc:Agent>\n",
       "    </dc:creator>\n",
       "   </cc:Work>\n",
       "  </rdf:RDF>\n",
       " </metadata>\n",
       " <defs>\n",
       "  <style type=\"text/css\">*{stroke-linejoin: round; stroke-linecap: butt}</style>\n",
       " </defs>\n",
       " <g id=\"figure_1\">\n",
       "  <g id=\"patch_1\">\n",
       "   <path d=\"M 0 420.48 \n",
       "L 842.76 420.48 \n",
       "L 842.76 0 \n",
       "L 0 0 \n",
       "z\n",
       "\" style=\"fill: #ffffff\"/>\n",
       "  </g>\n",
       "  <g id=\"axes_1\">\n",
       "   <g clip-path=\"url(#p9b390dabe0)\">\n",
       "    <image xlink:href=\"data:image/png;base64,\n",
       "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\" id=\"imagef002830c64\" transform=\"matrix(2.035 0 0 -2.035 7.2 413.28)\" style=\"image-rendering:crisp-edges;image-rendering:pixelated\" width=\"200\" height=\"200\"/>\n",
       "   </g>\n",
       "  </g>\n",
       "  <g id=\"axes_2\">\n",
       "   <g clip-path=\"url(#p36e8fa955d)\">\n",
       "    <image xlink:href=\"data:image/png;base64,\n",
       "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\" id=\"image7cfca0dcdd\" transform=\"matrix(2.035 0 0 -2.035 429.48 413.28)\" style=\"image-rendering:crisp-edges;image-rendering:pixelated\" width=\"200\" height=\"200\"/>\n",
       "   </g>\n",
       "  </g>\n",
       " </g>\n",
       " <defs>\n",
       "  <clipPath id=\"p9b390dabe0\">\n",
       "   <rect x=\"7.2\" y=\"7.2\" width=\"406.08\" height=\"406.08\"/>\n",
       "  </clipPath>\n",
       "  <clipPath id=\"p36e8fa955d\">\n",
       "   <rect x=\"429.48\" y=\"7.2\" width=\"406.08\" height=\"406.08\"/>\n",
       "  </clipPath>\n",
       " </defs>\n",
       "</svg>\n"
      ],
      "text/plain": [
       "<Figure size 1200x600 with 2 Axes>"
      ]
     },
     "metadata": {},
     "output_type": "display_data"
    }
   ],
   "source": [
    "matrix = ps.generators.blobs([200, 200])\n",
    "inclusions = ps.generators.rsa(~matrix, r=5, return_spheres=True, clearance=3)\n",
    "bd = ps.filters.nphase_border(matrix*1.0 + inclusions*1.0)\n",
    "\n",
    "fig, ax = plt.subplots(1, 2, figsize=[12, 6])\n",
    "ax[0].imshow(matrix*1.0 + inclusions*1.0, origin='lower', interpolation='none')\n",
    "ax[0].axis(False)\n",
    "ax[1].imshow(bd, origin='lower', interpolation='none')\n",
    "ax[1].axis(False);"
   ]
  },
  {
   "cell_type": "code",
   "execution_count": 4,
   "metadata": {
    "execution": {
     "iopub.execute_input": "2022-09-07T23:56:54.817228Z",
     "iopub.status.busy": "2022-09-07T23:56:54.815712Z",
     "iopub.status.idle": "2022-09-07T23:56:54.826492Z",
     "shell.execute_reply": "2022-09-07T23:56:54.826037Z"
    }
   },
   "outputs": [
    {
     "data": {
      "text/plain": [
       "array([1., 2., 3.])"
      ]
     },
     "execution_count": 4,
     "metadata": {},
     "output_type": "execute_result"
    }
   ],
   "source": [
    "np.unique(bd)"
   ]
  },
  {
   "cell_type": "markdown",
   "metadata": {},
   "source": [
    "The unique values in ``bd`` are 1, 2 and 3 indicating that some pixels border on 1 phase (internal pixels), 2 phases (edges) or 3 phases (corners where void, matrix and inclusion meet). Including diagonals results in a thicker border since more voxels are found that lie on an edge."
   ]
  },
  {
   "cell_type": "markdown",
   "metadata": {},
   "source": [
    "## `include_diagonals`\n",
    "Controls that neighbor of the search."
   ]
  },
  {
   "cell_type": "code",
   "execution_count": 5,
   "metadata": {
    "execution": {
     "iopub.execute_input": "2022-09-07T23:56:54.831343Z",
     "iopub.status.busy": "2022-09-07T23:56:54.829900Z",
     "iopub.status.idle": "2022-09-07T23:56:55.085973Z",
     "shell.execute_reply": "2022-09-07T23:56:55.085345Z"
    }
   },
   "outputs": [
    {
     "data": {
      "image/svg+xml": [
       "<?xml version=\"1.0\" encoding=\"utf-8\" standalone=\"no\"?>\n",
       "<!DOCTYPE svg PUBLIC \"-//W3C//DTD SVG 1.1//EN\"\n",
       "  \"http://www.w3.org/Graphics/SVG/1.1/DTD/svg11.dtd\">\n",
       "<svg xmlns:xlink=\"http://www.w3.org/1999/xlink\" width=\"842.76pt\" height=\"420.48pt\" viewBox=\"0 0 842.76 420.48\" xmlns=\"http://www.w3.org/2000/svg\" version=\"1.1\">\n",
       " <metadata>\n",
       "  <rdf:RDF xmlns:dc=\"http://purl.org/dc/elements/1.1/\" xmlns:cc=\"http://creativecommons.org/ns#\" xmlns:rdf=\"http://www.w3.org/1999/02/22-rdf-syntax-ns#\">\n",
       "   <cc:Work>\n",
       "    <dc:type rdf:resource=\"http://purl.org/dc/dcmitype/StillImage\"/>\n",
       "    <dc:date>2022-09-07T23:56:55.066704</dc:date>\n",
       "    <dc:format>image/svg+xml</dc:format>\n",
       "    <dc:creator>\n",
       "     <cc:Agent>\n",
       "      <dc:title>Matplotlib v3.5.3, https://matplotlib.org/</dc:title>\n",
       "     </cc:Agent>\n",
       "    </dc:creator>\n",
       "   </cc:Work>\n",
       "  </rdf:RDF>\n",
       " </metadata>\n",
       " <defs>\n",
       "  <style type=\"text/css\">*{stroke-linejoin: round; stroke-linecap: butt}</style>\n",
       " </defs>\n",
       " <g id=\"figure_1\">\n",
       "  <g id=\"patch_1\">\n",
       "   <path d=\"M 0 420.48 \n",
       "L 842.76 420.48 \n",
       "L 842.76 0 \n",
       "L 0 0 \n",
       "z\n",
       "\" style=\"fill: #ffffff\"/>\n",
       "  </g>\n",
       "  <g id=\"axes_1\">\n",
       "   <g clip-path=\"url(#pc4a1c1bd60)\">\n",
       "    <image xlink:href=\"data:image/png;base64,\n",
       "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\" id=\"imageb57de7e6a0\" transform=\"matrix(2.035 0 0 -2.035 7.2 413.28)\" style=\"image-rendering:crisp-edges;image-rendering:pixelated\" width=\"200\" height=\"200\"/>\n",
       "   </g>\n",
       "  </g>\n",
       "  <g id=\"axes_2\">\n",
       "   <g clip-path=\"url(#p23bf4c5478)\">\n",
       "    <image xlink:href=\"data:image/png;base64,\n",
       "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\" id=\"image3ed36314a6\" transform=\"matrix(2.035 0 0 -2.035 429.48 413.28)\" style=\"image-rendering:crisp-edges;image-rendering:pixelated\" width=\"200\" height=\"200\"/>\n",
       "   </g>\n",
       "  </g>\n",
       " </g>\n",
       " <defs>\n",
       "  <clipPath id=\"pc4a1c1bd60\">\n",
       "   <rect x=\"7.2\" y=\"7.2\" width=\"406.08\" height=\"406.08\"/>\n",
       "  </clipPath>\n",
       "  <clipPath id=\"p23bf4c5478\">\n",
       "   <rect x=\"429.48\" y=\"7.2\" width=\"406.08\" height=\"406.08\"/>\n",
       "  </clipPath>\n",
       " </defs>\n",
       "</svg>\n"
      ],
      "text/plain": [
       "<Figure size 1200x600 with 2 Axes>"
      ]
     },
     "metadata": {},
     "output_type": "display_data"
    }
   ],
   "source": [
    "bd1 = ps.filters.nphase_border(matrix*1.0 + inclusions*1.0, include_diagonals=False)\n",
    "bd2 = ps.filters.nphase_border(matrix*1.0 + inclusions*1.0, include_diagonals=True)\n",
    "\n",
    "fig, ax = plt.subplots(1, 2, figsize=[12, 6])\n",
    "ax[0].imshow(bd1, origin='lower', interpolation='none')\n",
    "ax[0].axis(False)\n",
    "ax[1].imshow(bd2, origin='lower', interpolation='none')\n",
    "ax[1].axis(False);"
   ]
  }
 ],
 "metadata": {
  "kernelspec": {
   "display_name": "Python 3 (ipykernel)",
   "language": "python",
   "name": "python3"
  },
  "language_info": {
   "codemirror_mode": {
    "name": "ipython",
    "version": 3
   },
   "file_extension": ".py",
   "mimetype": "text/x-python",
   "name": "python",
   "nbconvert_exporter": "python",
   "pygments_lexer": "ipython3",
   "version": "3.8.13"
  }
 },
 "nbformat": 4,
 "nbformat_minor": 4
}

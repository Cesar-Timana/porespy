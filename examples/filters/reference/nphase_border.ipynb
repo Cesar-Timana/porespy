{
 "cells": [
  {
   "cell_type": "markdown",
   "metadata": {},
   "source": [
    "# `nphase_border`\n",
    "Computes the number of phases that border on each pixel."
   ]
  },
  {
   "cell_type": "code",
   "execution_count": 1,
   "metadata": {
    "execution": {
     "iopub.execute_input": "2022-08-12T21:30:19.045290Z",
     "iopub.status.busy": "2022-08-12T21:30:19.044763Z",
     "iopub.status.idle": "2022-08-12T21:30:20.938203Z",
     "shell.execute_reply": "2022-08-12T21:30:20.936899Z"
    }
   },
   "outputs": [],
   "source": [
    "import matplotlib.pyplot as plt\n",
    "import numpy as np\n",
    "import porespy as ps\n",
    "ps.visualization.set_mpl_style()"
   ]
  },
  {
   "cell_type": "markdown",
   "metadata": {},
   "source": [
    "The arguments and their defaults are:"
   ]
  },
  {
   "cell_type": "code",
   "execution_count": 2,
   "metadata": {
    "execution": {
     "iopub.execute_input": "2022-08-12T21:30:20.943702Z",
     "iopub.status.busy": "2022-08-12T21:30:20.942229Z",
     "iopub.status.idle": "2022-08-12T21:30:20.950436Z",
     "shell.execute_reply": "2022-08-12T21:30:20.949903Z"
    }
   },
   "outputs": [
    {
     "data": {
      "text/plain": [
       "<Signature (im, include_diagonals=False)>"
      ]
     },
     "execution_count": 2,
     "metadata": {},
     "output_type": "execute_result"
    }
   ],
   "source": [
    "import inspect\n",
    "inspect.signature(ps.filters.nphase_border)"
   ]
  },
  {
   "cell_type": "markdown",
   "metadata": {},
   "source": [
    "## `im`\n",
    "This function works on both 2D and 3D images.  If an im"
   ]
  },
  {
   "cell_type": "code",
   "execution_count": 3,
   "metadata": {
    "execution": {
     "iopub.execute_input": "2022-08-12T21:30:20.954366Z",
     "iopub.status.busy": "2022-08-12T21:30:20.953439Z",
     "iopub.status.idle": "2022-08-12T21:30:21.729508Z",
     "shell.execute_reply": "2022-08-12T21:30:21.728793Z"
    }
   },
   "outputs": [
    {
     "data": {
      "image/svg+xml": [
       "<?xml version=\"1.0\" encoding=\"utf-8\" standalone=\"no\"?>\n",
       "<!DOCTYPE svg PUBLIC \"-//W3C//DTD SVG 1.1//EN\"\n",
       "  \"http://www.w3.org/Graphics/SVG/1.1/DTD/svg11.dtd\">\n",
       "<svg xmlns:xlink=\"http://www.w3.org/1999/xlink\" width=\"848.7pt\" height=\"424.8pt\" viewBox=\"0 0 848.7 424.8\" xmlns=\"http://www.w3.org/2000/svg\" version=\"1.1\">\n",
       " <metadata>\n",
       "  <rdf:RDF xmlns:dc=\"http://purl.org/dc/elements/1.1/\" xmlns:cc=\"http://creativecommons.org/ns#\" xmlns:rdf=\"http://www.w3.org/1999/02/22-rdf-syntax-ns#\">\n",
       "   <cc:Work>\n",
       "    <dc:type rdf:resource=\"http://purl.org/dc/dcmitype/StillImage\"/>\n",
       "    <dc:date>2022-08-12T21:30:21.691421</dc:date>\n",
       "    <dc:format>image/svg+xml</dc:format>\n",
       "    <dc:creator>\n",
       "     <cc:Agent>\n",
       "      <dc:title>Matplotlib v3.5.3, https://matplotlib.org/</dc:title>\n",
       "     </cc:Agent>\n",
       "    </dc:creator>\n",
       "   </cc:Work>\n",
       "  </rdf:RDF>\n",
       " </metadata>\n",
       " <defs>\n",
       "  <style type=\"text/css\">*{stroke-linejoin: round; stroke-linecap: butt}</style>\n",
       " </defs>\n",
       " <g id=\"figure_1\">\n",
       "  <g id=\"patch_1\">\n",
       "   <path d=\"M 0 424.8 \n",
       "L 848.7 424.8 \n",
       "L 848.7 0 \n",
       "L 0 0 \n",
       "L 0 424.8 \n",
       "z\n",
       "\" style=\"fill: none\"/>\n",
       "  </g>\n",
       "  <g id=\"axes_1\">\n",
       "   <g clip-path=\"url(#p69a96a5a35)\">\n",
       "    <image xlink:href=\"data:image/png;base64,\n",
       "iVBORw0KGgoAAAANSUhEUgAAAMgAAADICAYAAACtWK6eAAASj0lEQVR4nO2dy40dtxKGOYOJwisDMwFoqQAMKAEDSmG2k4cBeekUFIIy0FIByFs5igvfhdDjnj581Lt+dvMDBN97zpxuPqpIVrFYvPvt7vd/C5Hvn95T/1TM08tX93dcmYg+rBHRr6O6/f3xr5vPHj8/l1La5XvQF2uxeEtVEMtz6uBXK9P2+aYkNe68ZpCetvZYM4g/nrNISxBLKeXDL+/c3rtRq1uvTBuPn+sKfM95OVV4e9o6ImsJsNAz6t8vP77FFMQQloJQGDXSUpKFJ5oVyPdP729kj22DPL18DRHg7R0ISy5ufRHK3GNUPs/+/f7pPXz77OsPb6RnKIpWQPa/RxeGGluZZ53JLQdx0RIro9Nr098M74goN+X9SMIevV0wcg71vhfbIFkjo1dnRyhfFC2l8F4qagTRA4qSjMrEcvMeaTV4zxCnNBLHRWyhqJHCqy2vtqzc90veR+2/qEFW02YqBem9XLoPolEuSYNHLz2yyxihIBzQbUu1gtRevq+0dnPxiNc0LVVoCVSh8BJOjlCeLbyIWx8zBRlBKViWgmiXhFJagoE0as8ww3Lh1ClMQUqRBZMdsRbYzFkrgtbMSBHErb8iZ9cjXgpDVRLznfQeM+4JzIwm5MfyGRq8vJZUWQxVkLPy9PL1zT8EtHFR3z+9NwkbsiJLSaB20h8/P6fZA1JqjSx1UkTTCvvILnO0w6RXX7gZRLqhg8pRAP/++NfNv0y0m4nW9JZ0nl691mwCZaRnjWYRey+jJQui8yHagUF5X8SZklL+k7uwGUSiHNvn3uv6iFkLaT2/GLPJXYgNYjELeK/rpcqAGr5tYc/NaBNaA2WkU+kJZPYaGomWgHPi2h4L7xlnw11Bsndiow53Ic0i+7J8eHlHaoPeEpf6DO47ZhjMXG0QTgMgxB1pQO7sURtQ2khrC7bc4ZxzG1EG+h44N68H2Ury/dP79LMSvRnC4jm9v6co6PY3rXbIUI5SHJdYoiReybmTLOjVm2sT7EGyA6hHWqXK91iebz7LIsVI7ybxOoGS9JAItTTpmScjJbFejmXhoiC9hqPsB2wjCFJDZUFqr4GSzG7fZWJug1h2hlXCAWQD2oN9fUd1v1rbcDGdQWbKp4RyxsGrzY7P7dUXzU2NxFReLIkwcXK1csM9jmHuVHdp6xlW1AIka+w/XzNJHTMFiWpgzpJLksiYoiRe8WHaZ+7Ltf2XU9+lJLcMFYRiB3Aa1mo/IGttbbHpxvk9tb2sFBYtyVw2zXB370aytgGo6TI1IdwW2Uikz5CeLadkVPfMOTY7acGK1gYx0qhnkRv2+IyMxGvLeG8ssZCEDYUMQck8I7NxdVmYMtxdw2xnHLSKYFHfK88kVQWJugNEgoXtoomJmpGr1deS4Zl0JEXJHPmtcupGj8SZeX3PwHCJhZLCxiImScoVBQMB7+saKLBsEOSlFyLZ7TVjX2nKfPythcKwd9LXaMpj316r7ep43YJl8Uy1F2sZf2OWYrxlpplNpSCIB3msmVW4uUIYMdBlRWdo3NTiSzwlQX8aYcs40z2rcnDxzuAeEd/lVYewcPd9lKlU8KLy9iJlaffGM+NjVOAjpQ7ScoTspLdSvkgKvVy5YxDW+JIyIObNcleQnuBlu0HPpBQbCEL1M4L425vPJEnArffgJLaI6xJLcsLOG48TfCjgKMctvWVQROI6KQ+S/EY/E6H10/lzEn1FzSRnVIoNhIs/R2dPat5NSe6syIGANIPsN3JGZxR6n/fwFN6zzhgWRJ3wrCHtE27K0v333HK+2iBSP3jGQR4OSGXxQjuijqJ9UdtwP5t4RSw/lGK74WfVmNrKonaqNVbLDY0gRc4ePTizHfX990g3H40ycYzKcmYDPAv0tvQuH1xeLOkOPXpHepFdb4pNSv0+EuqsN/WR22zhsMDiUFX2ftIeii2A0m+UpZa5gkSdX0ZpZA2bUN8I1EdaSp89GUrSeh/STDFiq0OrreGWWFfD8l7wKy81tbTixu6R1o1UgTiDEIzuTS9FHmRnqSgoS7cojvW9f3r52tz1zpgqEe+pmxXUGQVd6fazyasNshe87Aq0DL2rKofWrqPYJ5LrEZCcAx58//S+nRfr+Iet7yw57oz2yrTg0RNmzUaxREl6fdl6FtdhwXl27xnDvFgZeGSnQINig5Tik719j3UZpG5rzUykaZvR4A+pIFdhpCReewd7ochQ0l55pHiVbbl5k6FERJ9xBp2FqXfSz8JMG2vWoBv5S0ESoRi4V5w9kHKtrSVWwb12LEI5oq94G+GdgojLZRWkdkIyQ1EQZoiRHZStHJTvvfptiiWWtduXegFolGAcl1oZSrPuKawDryA1YY4S4MibldAEEa08FDz6a+ollmRaRbQ1omkJ0TqReQv8RqF1hC8n3AI9aYGW6KXkqByaK7qPWNUJWkFqwqwRZG4sEufZCznUnf2MdFJTKYgmLEOiHPtnZynIFeLSShkricU+iKTtplEQy+l3D0IsUguLyNbZiLIRqW0oSj0awTKmr0nUGROq/UXKrIhizC2uwSZnCIpyXwp9e//qozrCLvuVBqnIuh7zT2//7v73z9PQBok+3Uf1Xh2R7AZzzmSMnrXwRWsOSAY4kYJQCqNB447d4Jatlrp/hV+cE46iqEJNLLICcvDMQn7lMxlXg2PjqGaQUQEkSNf53gGM1u9bYDDqd5dYLARj1purOyzOwij+7KG1bNlAX3pkjuSR0b4Lf2p9eV9K3P3ji8VsvBrpmtubZl9uaMqPPIv06oVaZjRYXqzeOYJFLlwlR1ZsJMgKknX81JuZZz9t2a1CiLKPC3tCUhCESnuEQLd20ZEvC/VQaM1sMvMAQ2GKI7deqWDQUsz08M64YnV8+WwKM1SQ7NljJKy1EBEKo99RlCSibSJTEXHeczZFaAE3g0SGOGuIUo5oRgpJUdgzKQ982h9rlnLEvP8sXrKHUeDWDBWlljFb6KhkldPaEXKG8/SvM0jPvTqDkoywErqMszA1rIVZc8sUlRkVhmyDZCV4piZX7il37Tuk2325WHvfNDlxNaAmDd9zk9XEOlEbF0lit1qZPEZihNnDI7uLV8YYLigzyr4fxEZ6dCIHSgdJRiOUmcJzJJ0ldi4rOUivPW4UhBvqcQb7JBsvgR3Fzl1ZUd6mO/325rv9oAnl5kXtsFKwL7CsQSmvZ9ybhRPBevClZurcOyZgNgqRlcMLhDo/vXw1d1hYOhG0RxH2/zhl2b6vKgjSGvCsSOtMEWZJ/1kdmvPwiHGX/JbeseYSKzoF5ILOKLsLl62vURwWNXp2iacMdW2QdQvrT6zraNGhV83ZFT2gDo30msfDqhPW7PETpGuPF29JO1EYpRzowmcZ4nH22cMSajYfGC/Wnr8//nXzT/oczufRZIV41LBSrplCeCiOiZR9kN7sYTWiUoRP2llnPoNtgbUTwZNRmaA2Cj2FWsPoANHG7Mpi6bm06CcEJYNcYs0K1f8+uyJFgLI8Dp9Bzuq5etNxH3/+58Mv71LKoiE67VINpJXEvfXOY4/shvei1aFffnzrtq2lQbtmJR/eLLG8BDjjYEyUN4XqiWrFBSHmRV7K9h83SyyrCErp2QzLTPPo3pStnR8LRnk2pAe3UNrVkqoN4plpr/Xc7XfWQj1DUm5tfFH0iB9xfh0FUyNdk8pzH9IS2cg94co0WKnKiqIc+++1/Yd0Z83dr3/+0byCjdP4LeXY4NwjGCGU3Lq10J7nRlvvj9o+8vw6wjLOZAYZKUcpvJHFc+SWCGSvPEijnQZEDyNC24VuFHKE02Nk1Tyzd48doieKA6JylPL2/sCsmVY9g3hn40BL+NZKeKCJ68rqfGTF6H0eWW7ze9IR8ZyNLNogQ0mkDhWEJSV14LSwYVRG+r6QFOONG3oxU1xTZFJsi7Q4vesfKELkZUBHOE84trBYQWqF6xVKEpc0k4KU4p//t/Z8Sf0pd6pk2U/c+nDlcIPqWRQtsbgencfPz+WpyCqO4OqjYmUzoS5dUVz0kbAVZNQAFsLbU47tc1QloWCl9BGzJ9IMXcN6S+BY366bd3uxNuJXsq7kBAGioEk+jXIMeI/Fcmd2hvsg2kpbGV1nAOkM+ogrKketzutEoREzCchoOefhbYx8luVRh4ej1niu53rMJGBHZiv708vX8ljqDhWOcnieHyqFLj81O8QqKlx9/UELdONuURcWqrcx6gSqRo4sHDlQWU32cHZsM8M1zgR3o5KDdDSP6tvWO0Q2yCixm3cSMiQXL0dYrI8BZyztrJSj93ntnVnLWPYMEr03gaQMFiAfA+6N1lIBRcpQIoE1gyC7KWcylB8/P9/8kyKpNzURnuYdHmSUA8bNm5Uo4gxY17uVgQUBuOsPZuOqBjvVNcoVMNTlYBRVBdG6erOFFDkjiDeWbY8aC3eso2WA6LHtTjeDcLE4W4GGhZJYGddeB6y8Nyk37n67+716HqRVAE5lJZ3EqbjH9O9dZg7aU4uaKAnr7CWzLtXYClIKr7JeQW/exz6zg/WsQoCkS5HI9D7eaFzXoiUWp2E87JEI3zq33NZr4mNZNL890/Kxh7SevQE/xM2L5iqkohm1tUJp6Wadtf2paNp7tMsPsw9yRjLzOdXglGWWuwY1OaQpK5EwL9aVpvojFLe51oil/p7jwkcOi4ni8m7eKHoeKe1+A/f3vbIcB7EPL+9e/zfaUi1iwK0usaJ8zFJmmf5rHJdd2vg2zffH1J5XmeE5cjitDTJDKHyPqwijF1HtJ15ieaxNuTOM9H1XXFdf2QZsQdnlFx+Y4ny+wc3U6AFS2p2MfLwZv0Vj3+6jlUj1jsIe1pt0kQ0vKfvZRl5JfaKVI3qG7z37YZZjmxQ8d7O9+PDLO1UiaUkwIEdJEJRj+9xSSaju7lAj3esATs0DM9Oor3U4SH5P6QsU5aB+78HU+yBRShCxzLK4+FJCK9x/lhnYm2kVZKYZYoTnnYxUst/PwfK2sFG92QpidQBGY4hJM+5ZHt6h7EJflTPNRiIbRLtm1rhatUJoscHoZUedgVo9Zq5b94YpDzLuFbfOUN97nkYYZh5pN7R7XaMZ3lrZzJdYWUSPQr33edkMteei3erkvUfRvaXM6TLWXvtNMYNE5Myy3DzLWlJ4KwrVfrOOmPBuz6kVxLJx9g1hceKvB5qSeJw36T3PKoVppCu/BvQSy7pxvBq7es/G7hxFJLUlQ0Z+K+3eUdaS+ibtT/QMUkq8IebB1pDWV19bQSnfhuZQFuU5UU4OD0gziHXczlmOco6E5suPb6lKgsJxNqnFzKEpxkZXQbiF5iQ6s8qjtaiDsDtPAb2/mxuF2vWj5PfojbXBEbwZhJTCzMecNbhG83LOOs+iHFdGGoUwc9+GebGyG8nKvTjbjKCJP6u1weadm60dpDS9WNkCbUX25hnKNRBe+ZRn8khJgN4H0RA1wkWHRkih2AhnthulnFZBIkE0UK98iZAl0+bF6oGwPp5F6GYpZxZrBnEgW+ioA0R2OWtYxstZ0LyjcFayZ49Z2g6pnK0+Q1CW9BkkMsL2CszUBpIN12hFSbVBZurMhS3SvvdKHdXiRkEy4+/PkBoTpRw9spdXVrdmRSjLm43C7MMp0jJQ79yIdMeibBAekZ6ctKqPlUBXz+A4RE6/2iAIymH1PO0BIe6R0aoylufhs6LRHCu2UJTWtWfcgavVv19+fDPfoG1eA+0FRUE0iQoisqaMQjiO78nO4i59f6uNpbO8Vz61I5YzSXhuXou/i0h+Tfk7ai7ZaMMS8daoyLy7lm2d7uZt0TrTnK0cGqyuHkAR+isAoyC9dbw3kQJHWctTZ1Dvcs9yKrGGJmnEvs4QCpKRdSMbK1fnmk3sqPVJerCi9dqUezR0dgHzHuHR7l3h9K/F0eh0BfEg6gbcq5zT3pRCoxyWbWXZvyMHCsQSywOvA0K190h9+9mbmRyy20r6m94ylDLDnFZBPDk2rKSDr2Z3bQY/St2ox5HJCnI2d2Nm2a1vCl7woGz0bn3wQNWk3ou0a1OrW58imNXteUVG+2iUgep+/39afzRCKzRRRvWGNFRiKQc+1hEED6XYTPlanzzaTLFnKYYNmo1HK4HnlsHUSEdPRMxlFsU484Zhdr1cvFitDuMkt67BSaPfQ+v6o9Ar62x2VxZeysGZRe5+/fOPf63ukGgVZoQmrFoj0LU0/FZQAi2t90GyR1sqVkceLMowGqjc90Eo0782k7xmJslkzRR1IhR9vy/TG6hej9x6TvlRoeRIZCW/nn0WyYis7vHq5o12tS580Ca+iHJn92xUJN4ssZYyXJejUkR4xhAV4sgpo3mRQRQKtOUpEv8HzAGBS7n8a+oAAAAASUVORK5CYII=\" id=\"image4bb8fddd53\" transform=\"matrix(2.055 0 0 -2.055 7.2 417.6)\" style=\"image-rendering:crisp-edges;image-rendering:pixelated\" width=\"200\" height=\"200\"/>\n",
       "   </g>\n",
       "  </g>\n",
       "  <g id=\"axes_2\">\n",
       "   <g clip-path=\"url(#p6650c3adc4)\">\n",
       "    <image xlink:href=\"data:image/png;base64,\n",
       "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\" id=\"imagec9c2d473b5\" transform=\"matrix(2.055 0 0 -2.055 431.1 417.6)\" style=\"image-rendering:crisp-edges;image-rendering:pixelated\" width=\"200\" height=\"200\"/>\n",
       "   </g>\n",
       "  </g>\n",
       " </g>\n",
       " <defs>\n",
       "  <clipPath id=\"p69a96a5a35\">\n",
       "   <rect x=\"7.2\" y=\"7.2\" width=\"410.4\" height=\"410.4\"/>\n",
       "  </clipPath>\n",
       "  <clipPath id=\"p6650c3adc4\">\n",
       "   <rect x=\"431.1\" y=\"7.2\" width=\"410.4\" height=\"410.4\"/>\n",
       "  </clipPath>\n",
       " </defs>\n",
       "</svg>\n"
      ],
      "text/plain": [
       "<Figure size 864x432 with 2 Axes>"
      ]
     },
     "metadata": {
      "needs_background": "light"
     },
     "output_type": "display_data"
    }
   ],
   "source": [
    "matrix = ps.generators.blobs([200, 200])\n",
    "inclusions = ps.generators.rsa(~matrix, r=5, return_spheres=True, clearance=3)\n",
    "bd = ps.filters.nphase_border(matrix*1.0 + inclusions*1.0)\n",
    "\n",
    "fig, ax = plt.subplots(1, 2, figsize=[12, 6])\n",
    "ax[0].imshow(matrix*1.0 + inclusions*1.0, origin='lower', interpolation='none')\n",
    "ax[0].axis(False)\n",
    "ax[1].imshow(bd, origin='lower', interpolation='none')\n",
    "ax[1].axis(False);"
   ]
  },
  {
   "cell_type": "code",
   "execution_count": 4,
   "metadata": {
    "execution": {
     "iopub.execute_input": "2022-08-12T21:30:21.732958Z",
     "iopub.status.busy": "2022-08-12T21:30:21.732603Z",
     "iopub.status.idle": "2022-08-12T21:30:21.737931Z",
     "shell.execute_reply": "2022-08-12T21:30:21.737258Z"
    }
   },
   "outputs": [
    {
     "data": {
      "text/plain": [
       "array([1., 2., 3.])"
      ]
     },
     "execution_count": 4,
     "metadata": {},
     "output_type": "execute_result"
    }
   ],
   "source": [
    "np.unique(bd)"
   ]
  },
  {
   "cell_type": "markdown",
   "metadata": {},
   "source": [
    "The unique values in ``bd`` are 1, 2 and 3 indicating that some pixels border on 1 phase (internal pixels), 2 phases (edges) or 3 phases (corners where void, matrix and inclusion meet). Including diagonals results in a thicker border since more voxels are found that lie on an edge."
   ]
  },
  {
   "cell_type": "markdown",
   "metadata": {},
   "source": [
    "## `include_diagonals`\n",
    "Controls that neighbor of the search."
   ]
  },
  {
   "cell_type": "code",
   "execution_count": 5,
   "metadata": {
    "execution": {
     "iopub.execute_input": "2022-08-12T21:30:21.740991Z",
     "iopub.status.busy": "2022-08-12T21:30:21.740635Z",
     "iopub.status.idle": "2022-08-12T21:30:21.880966Z",
     "shell.execute_reply": "2022-08-12T21:30:21.880341Z"
    }
   },
   "outputs": [
    {
     "data": {
      "image/svg+xml": [
       "<?xml version=\"1.0\" encoding=\"utf-8\" standalone=\"no\"?>\n",
       "<!DOCTYPE svg PUBLIC \"-//W3C//DTD SVG 1.1//EN\"\n",
       "  \"http://www.w3.org/Graphics/SVG/1.1/DTD/svg11.dtd\">\n",
       "<svg xmlns:xlink=\"http://www.w3.org/1999/xlink\" width=\"848.7pt\" height=\"424.8pt\" viewBox=\"0 0 848.7 424.8\" xmlns=\"http://www.w3.org/2000/svg\" version=\"1.1\">\n",
       " <metadata>\n",
       "  <rdf:RDF xmlns:dc=\"http://purl.org/dc/elements/1.1/\" xmlns:cc=\"http://creativecommons.org/ns#\" xmlns:rdf=\"http://www.w3.org/1999/02/22-rdf-syntax-ns#\">\n",
       "   <cc:Work>\n",
       "    <dc:type rdf:resource=\"http://purl.org/dc/dcmitype/StillImage\"/>\n",
       "    <dc:date>2022-08-12T21:30:21.859034</dc:date>\n",
       "    <dc:format>image/svg+xml</dc:format>\n",
       "    <dc:creator>\n",
       "     <cc:Agent>\n",
       "      <dc:title>Matplotlib v3.5.3, https://matplotlib.org/</dc:title>\n",
       "     </cc:Agent>\n",
       "    </dc:creator>\n",
       "   </cc:Work>\n",
       "  </rdf:RDF>\n",
       " </metadata>\n",
       " <defs>\n",
       "  <style type=\"text/css\">*{stroke-linejoin: round; stroke-linecap: butt}</style>\n",
       " </defs>\n",
       " <g id=\"figure_1\">\n",
       "  <g id=\"patch_1\">\n",
       "   <path d=\"M 0 424.8 \n",
       "L 848.7 424.8 \n",
       "L 848.7 0 \n",
       "L 0 0 \n",
       "L 0 424.8 \n",
       "z\n",
       "\" style=\"fill: none\"/>\n",
       "  </g>\n",
       "  <g id=\"axes_1\">\n",
       "   <g clip-path=\"url(#p67ea6e955b)\">\n",
       "    <image xlink:href=\"data:image/png;base64,\n",
       "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\" id=\"image8d291fabfe\" transform=\"matrix(2.055 0 0 -2.055 7.2 417.6)\" style=\"image-rendering:crisp-edges;image-rendering:pixelated\" width=\"200\" height=\"200\"/>\n",
       "   </g>\n",
       "  </g>\n",
       "  <g id=\"axes_2\">\n",
       "   <g clip-path=\"url(#p23ffb4e5d2)\">\n",
       "    <image xlink:href=\"data:image/png;base64,\n",
       "iVBORw0KGgoAAAANSUhEUgAAAMgAAADICAYAAACtWK6eAAAcZUlEQVR4nO1dzW0cPRKlBUXh0wJSAD46gAWcwAJKwVfl8QHao1NwCM5ARwVgX53G7sHgmMOpn1fFKpI9owcYsKabrGqSxfpt9od/f/jP/wqAny+fSymlPD6/Ire7MIPGLWPmHLb49fStlFLKw/evabSlZ2t5aq/X3389fWN5u49mtGeox/viX4+fL59T5kGa91L+LMQvz5/C6fY8UEKg4dfTt/JQLoXkzsNA5nX0nnfshX7OHp9fT/8evn9l75uJfvEjm4RZQCRIgyTdh/T1jnHM0t7UQnz4/vVMUDJpUmuHe3ZKgNv2sIn1+Px6aoioaGqQtEXf37ODT+IV1N1NSWQuPJAW4o/fb6WUQpoyu6GOT6gGqZAGydO2l+pMVFqjNCP6WIkj8u7xPSpCnHSrFvGi9ts/ZKZGidpRqX5WaUKLqSG1icLD96+niFbm+qnorREtwlXK5fgMaZDsHYbyXyrdSNrcQuJ8KAlSmxk7sqa5kI1gZCf20o1CP+5VICkeEJ4+oHkQrmNuMC3xaO4eFCM7kbaDRCCKxog/hIw9R8t6f99mRdi/pVnzHBI4PlwC0jPAmUTSIHl3WM3Ztwz4DOGgaI3wiEIaX6u5OGJeUnzNGvdeSEoppKBI9EMEpCVUIxUteqastiB3LUptSztM5ORZhCRj1/VqhSiBtm6YEfD4YS3cAsIRL+Xc7mshlRqMmmdeYRlRv1Ygk8U9RwQPMwTEy0+LnczcIQHhiFcGLNKLTEb0hI2ahBE0NUT6V6XgdVF9nVI0bxKPGXQoWki/IQKiweJ/rBIQb1AhgjaFUXqIdv/y8ZPYXrLbK7JM0CxaViFJKVbsgWTRV0JKbHpry6yVBpGQFsFD0XMRlHBw2jUyn6GZmxG0qGoNqc+UTDqF0UjIjgIm8bRLJp2riyrljzZBcgNUH1mgxu3X0zfWr/UA9ftKmSggFngSOqshJRTb6gPuXxZPyO8tfy0kP2VmNYMk0F5QY0D1PU1AkAerO0UdiB+/3y7CxjMnBp2Mlicuk06Fvz20otD7FZRwzARlFlLjmKlJKh+tsEwRENSO5yalCs1Muz1iwVZ++0nlJn+1kFTMrhnT6LdmYQYtSfOnO+nWqEGNrDyW1/JQukF5wftBQDls3H0SJEfv8fm1lCe+r8wAhuSEc/x4+oiENI51PTyWeAHmghBTolgUE8h1KWMelWmOLF3hQEWCLDyMoF/gqDnZar3+/Y0j+IQjaJ81VUCi8gjWybFqLS9v7cKODHeOoE3wnfAk1yBRY9qWpv96+qb2gfLlbb8KaQLi2WWQRYYkEj39RmAXISnlfIGXcpkR54SDy5nUPmrf/b0StHB4//dMk05DWibdauei93p5iO4bpdMn3bIz9n21QUQ5jaVkCG3HmXRaYhKlHYUUAbGUcFRknZ2UWS7C0ekxOvkWH4kqx+HGwDo2loWKClWfEKxoNSCl+WZheqJQU5WRyaBS5g2oRKc/0YNLEHpMC2SsonwwNCzN5TS4Puu1doyofMcK8zXcB5F2JdTerYd4UX3sDIspibRFzSPJ94m23dHQeHs/2m8p5TK0b+gjA6ECYpkMMhnUOYV9n56B2ikkGRXJq39bnF8J1uACGpb2PO9uG2KYgFjsUyQZxNGIGMDsvIeVttcEQhdqG8Hqbf72d6uQ3AJSwrxRWe4K1JzoQWkfxKb3Rmh6WmibzECC9MJTdYS9QnILCHHSsyNFlC/jcV7RgjjNdIms09J4REHxReU++uft8yU7maQ7QBSQNtrCLQxvQtDyeym2CA9i7nFlLRI486hfdKjjigqo9pxIhav0vFRl77ug/AGZB/EOjjWK400GeYMBVI6A69sSgaPuka57tQeXgCzlMsfSXtdera3tvAnBawZkYiGD5LnHkg+w0rLcZ4XkNFd4Nhlkg6n/JOHwwmpu3gIunHRuF4xabFrkxbP4s0sRZmXja/9IVr6CqzxoI4LW8nAq13GrmmRquXtF9GBb+8ssiENDr94+kEP4Kk6lGsznBrSN6l1IFgmIF5H5i37CsxJfXkRp2grv8966iXXhpO/qqEUtYE8/iHPP0bAGCSJRfZXRkyNnmpi74UKDULvG6gGKqElq21p25qPvoLOOVY1GViTVCrHcnWNy9qCi4VPueiZtS7uZGiR6TGbwnrEZjfIr+iAR5R6RGK1JyqCN4OhaKBNR1cBaMtU7f66PeGpMjTB0LdjFwd1tHmZVAUeN/dA3CiVcQ1gwI1w727wavT+K3yhNYe2/Bim869EV5vUcbBxhE2fmL7L63H2TyN7oZvix2jMgkTwOw3kQqghOM8VG7EJPPN/af4/dFzmHqNq4yILUzCBK3//Pl8+nauX6lqqVvllAzkoYAKdZGlx0d6Kyutx9HlyTLxUVHh3xoTybTMScRj5DReqhDdyZtC3QB4gqYGzpSmXdFK+7Izp34NXw7SHkCG/aNWmeNF4fn18vDsywIK3UhBKO9v+esHGWIxfV/0qsCAZoPFDvmWgbJOWz9vfOfLZ76w7ellrLRXBvF237/mbmVnZJemYgWzgQJ7floVYY1ypiJHBTCl89Tvmw1mf0OumwicWpOYp59BC4GWUdFN/VfLoG4ejhNYssv1P3tSYV5QtofWvrhForiF+KrFkJd54BlQ5Ca02rGWaThGuKSHGIKinhIo1R82nZKC33SX5OxIb74V///Uc9epR7gJ6B/i03T+2StZgQ4QttdzREmFaWHIKkCep9Eg+R82Jd/N583JmTbq296n9rz7TyPviP32/l4bsc1bAmC69ROHp4n1HakDThWAlLCHeE95OARMaQvQxJkS/U0Yvg49bAjZN0iF8pl455/Q3dwCLnx2KmtTk6rd29ZhtmOM4cLcunyq4hKhUp3JlRwFFe2uccKfug+Bpdn9q4peRBvJOFfqqMGuQjCUYptBN8hicsCjgzVN6CsuWRDWz213MpcJstNXZbfifdgiOHa9tweB8ZrNetyU0k65wFS7XD6jnjzMB+7E5RLM1uRB/Im+1sQ8TSQWf1e+PRH9qZiT5XVMqlv2WNCGaYnNL8j8zzKF/R/Un+0V1N8GTEkL0YTVwdDZS/ZTVFOE26UqNI2IknKRF51//44/fbaZduO5gF6pj+9u9qihxVe7SQnsNbZCcJCoc20csVB97CpkWN2/2Xj5/Ih2xNgOr8ZQ8GdRz/X17eto3J7wjOcbaW96B1WBFzYvW3Mvro1zl0LpYHXtu0lPNJGcnO74o2EmfJPEdlnZFiQW4+pCJCrR/uvtVaSNr81a/czizbiNhBjgCkoDN63Clh0IIwfRkJdd9oMhl5Tg+NqD7SvpPuxTUkADUgUayKyHKPXiCQCJBFi3kSn6PFliPtEeHc7mzeaxIEDo/Plx8snZFYy/YjRxZoRi0Z0lbDdgJyS+iDEhJuYeMoZb/aupsXkChH2AuLD5IFrcAwsn6KAuqszyylqTh8qYkHXKy/vZYNNNLT35sFLu+BfP8wg37N51ic7Yx5216DRDvt6CBGl0Qg9Ch7OpO+ViEtBRIyoVVyz8TWGgTJ/o6g3aU8GehRRIVMI3kopZy9X75aOLTf+2vRY7i1gLSIWMBI1GR2dfAqPqSx6KuLbyVAQGF7E6sUukwaredHwAnZ6MHHKFYtwB18H4QPBK0ZFmkeb5corKB2OM5GLkU3BbgdU5qcVWZGNnYJpVr8S0T7ZySZDyMgloVc21B9tdeQWiT0jK8MZFYVrA5v93z0oWRk/rQ+KVifc3sB0SI71EKWwA28txYpC7uYP9noy2pKkefQ8twRY2g+enQGLDtAFaCRbLT0++pK08pHKeurXjPQjvHZpwqI+bSuQc2URnyV+1LkZFD/bsbKnQtZyBn8rTxooA9QXKuQlFLIjS5qPiVhkdbOfSnyAuileWa6f0czYna5Q0vvGoWjBbUBZIw3N57U+KonK1LCk7lIohcB5NyLp9Svxy58zIAUxm+vU0DGSUsZ9DCdajLj5SktvOvlk4L0tqLnBaNo3MK7MRJ2KM2H3yi0qPmRCaTswYgoFidYVC6FaztbQN7xFxZhsVgD2jyaBUQjiBKWaFnpccKB8tCetdVD4uNdSI4HqxXkFhCEuHUBWUypiohs98xnfMceQDVK2smKljZ9Ww8tD73VdN+xFojZdqrmRUJeCFYtlh0qcN9xLNSKaTVRWIGonR0jKxFBAQ/Ntnp0N6HJDqZcG7ixuNfComj06pZi9bvBO/Y7CvZuuC/FVx2Zmd2dNXGjEamVpR8jNXTZ79Jck9CpL0xpDunKhNnIaRsXOZDuc2OeiFY2okLrUSUdt2A1mF65zRYGT7mH99QNLUG40+T/fOHfv0ccTaldT8fCU9+fp5/dIWqQ1UkxdBKsu9+ftm+lFLnEROp3xtjMCIj02gQZy1sKc291aIP1PRDqs2UIDektwV1MK862z1iMlCbh3p+QhOMatQgkIKt3COk9EAvQnc9SMZoxNhSNVeZt+w9p07c/Ou4RU2F2ONBCSytZr+gn6+H71/JYxp5plnDMQEu39+ssNW6UyYa23REXicJdhCQSlHCM9rNSOCymqIfu6OuuUvj7aAJzp+0GLaRoSiakwZa+46fZzOgkroBHOJDr2v1cVMzab9uPptl3GG8Od6Xg716096zOAUj0LTYz2u9M7YEKR9Ri5uhGR8skgdlFUHq/CzpZkcuaj2ZhEbqSPVvx5eOnUl74e6iJR/pdYf+j0J5J6xsVhqxqgVVrqof2bGfvg6C7ZFZ5ATc43lqxkSgLx0P0xFlscoSHKO1hpTuKmZtUpSUlmb98/FRKcZ7Nm1GHNep4emupEGSp/iyHlSrB4eYs4+M4nrmUNErk5luhRerKyx+eLk41sSyGKPW7g+05G7OiOZwp1Yd1o052QYIISGBopFJC44N6C7WG/Hu6bKJw1qI9UtgvirfRZ5YCCe3OaIlQUv2ujIh52khJzbZf6dMO/d9qLdZMu3Nn4ciC95n7ufE6+vVru+2nHiL4RIMIWh9UMMXy3NZNoqd7oUEskhupZXYVjmhNOhIu5vJSvdNpPYnecuC3h09vP1wbTVMg+RcUpAaRJDdqwWTnFY4Cq0OrzYHV4a79rfi8AwokKJTFO2tiURMRpX5X+TctonZFL5DNhjNxuV312j700yMjxK75YqIPMpJjQOHJeSAYjaZkQ/K/RiM4IzxFhVQjImIzoPlypkx6FENcv1GLOnPxZWwWEQ5tFC9RiAgiZMFSSTH9C1OcgKCLur9moYFe5+5FYO0vKoM9mu2O8gk9IVxrP1nhdorGsjcKLeE374BERlPQPrQ4fIX3XfrdoY3tqHAg11G00a7+X8XUz0CP7C6RETQL0KzvRelCOZbD3I7vqC8SqYFW+2Z3bUw5cwHuZINGoj4X9X78r6dv5cfvt7OxRf0uy3hd69hGWRIjuDCxMhJjqzLmEYvP0v/j82v58vHTqRK0omoXbhMaLfGIwk5OdaZ5bMF9VHFYixEHKzpEOCuaQu121cyi/I36RdfT393BdVy/Fh6ysCJhtwrs+yClxCYANR8i8kPyGi8IDYQWEjnSTCvknQQJ0RUJlgggh4jNNSq6N4qhcvcWpKNqKHtod9SIojntWdBnzXYGxTF6Of/TmjcaASIcmQ70LslGMg9i3ZV64bAWv7X0pG8Nzox/I1orQoNo11DM1h6j+SWEh76fFb7scJiXEg7uobi319pFyZlZEbBoJSrbKuU+Inc7q8BE7NYWZIbiLVnuGYCqeVFwR3lS5hdCN9K88ZSIcJPFCYMlGGAZ48zFkFE6M4rH59fTh1V7zK46HtIg7eBKjD8+v5byhPWZISQjqplayK2gROx2s5JePc0eqwWjlDavxG8eM8fLLSBWDWMpxY7MmkfYrZxfEhnRmTnpXEAFjQ7NdKClsUd8P6lPBCGlJtGnYqCIsp2t7aPsYo+2jBB45NsoViGJEA7Jybfk6zReLOPsKlbkHiQ7cz2CyN358Zk/HdDTV98Hl21HsvAaKLOYeh7EBKs8zYwuaXxSvKDPV39vr5k1iFU6W3WOapo2icblRFoaq2znqCoEyc/JgHSiB7LJSQGXCGvCGjxB+/GY7iYB4XaKyNBcKxwWXlbCMvCjyUvNzEOBhGo5GqtM6hY9n5xJJrXrQVlG5o94cgxwhM9O2lC+x9ELB7XTUXmVFVEgDyJs41nQclY9dtqwIjF09Kj2e5/4k9APsMcM2BlohtgqJBkC1Wtva+BgFrKine3zsk46tTA55xSBpZ0WEq6/76DqS7GXWKDmQAbqIXFoQGVGVE3rM7IPsw8iOcAjD2tZNP29R9IQUaHm2c9Nncf7N0knb1DtvS0iBR3NybT3UxaMNRTd90FqkNGJOtICj8Qu/oOEXuu2odqqXUpZIxwRofPoUPS9VcKsGLGnLYmg1Q7uEYSjlD981vN4W6CHXnsWmiWrbQ2dU5pX08ZoTqQUx/sgljBllD2aLcReeHjxZn+t/Wnoa+faNxq5aGO0cNTrVD9c6gB91qgNy5RJHxEeCyxq8ig7d4uZScEIeE2U0az27Lml6MECgj4sYsMiQLKpGo+z4IlcjdrGXq2K3KslfT1z643c9Wts9hy7arGywpSSEPb/0D52gkfoUURn1iM1Npo3QzFzjs2Jwl3ClBLt1Q67hEi+rHa65h/2/fVVv9H+pQWr1hcrIKOLzNI+4uG5xYK2PSqosRuZuzaKJCViV2xC7bNW+pFCQ20wy87mzcCIyt7ZNNNgcXzr/RJGnWutP2t7a7+jaP1D8VQTzjmyOMiWTKilzcgC0PrI4tkCr/POtRupbLBe13jRrmnISlRS/boERLvWw7rgrTucl6bWn2enjUCk4NZ2nvFFFv/subJidG3CAoIQa9uMxM1X7EpUe6SPjBh+RJ8jfUQKiMQL2h5BVhWIKYplSeHPiCxR4eaRgaKEW+Obo2nN/EZjZVSxx0oNwfHw8+Uz+85Le09YmJe7N2uSMsPN1j4kLRYlKN78w0iEi7t3F8Hz+iJVOLh2bb/pH9ChQnNHgFfQOBNTevZRE0RrHykkuwhHj5F1JVkiU78wdUvgzLX2Wn+dgraYkfbS7xwv/acZ/r4GjTv7mYiIIKqHHZYJH9BpiUX2nxVbjwZnolC5F2u+AW0v1cdxvFgPID8KrOvj0BrkaOq/5691EkcDDmh7jhfqni/Pn/78XV63+uZiZv6pBysgXrXudZ4t0QjKbEH5mBFy1PpHw9GokKDt2w1lh4W+EnVj0gIR5lKTUZvX02cPbXI9wuHhw4uWv9mfg/Y84+6a2YN23LnIYymdBrEuIM68QaMkIyUDo0lAC+9Hir5RoN5D92blszFLw1NjQuHsM9AWUDYvCo7eaPa5/8dhhPcoPD6/nj4dPRpwQNp7qiJGKxOsmKHhrXk89gM6HiKjuQMPNNMNFQaK9xnZ6FP4lDmCBwUSsOD8NyQZOFs4JA0fCe257leZDqN0Jec8Y1FnmFmPz69nHxayBhw8AQsucdjeN1s4ekSXEFH9o/1Nex+kjdFnCEfb75H8hWoLc866V5tL17k54HIzM6El7qKDGpqguPIgozU6I46YdQIp08PCu7TjcvdbYfn6VhTNtp1Vc0mI7GsHuDWIZdFY7rOEg72D7uXdei+CHRKdvXb3avnIUL6GUYFD25sEhIqEWNTyaGkFQoO6zoVuEd41bdHzv2vOYDa88ypF5GbnjEpxnmoSYWJYHLEozYHyPnuRt3y1wmzhY4YJg867FhRA6PSbTqZwSAEY8o3CTEZKwcpYpEVizblo7SwaC80tjCYyvcgSlNE8mXceqK/xRj0jwtPWxYrREZW6U6CTzUWAUFPBmpTyOLiUP2U1EzWgOYq2+NITFu/HIFM4enocv9tqkB5ZyUQPjfY5+r7bSf3y8RPGYAC4RRzhz2k7LSqAyPxz/c3UjC2tJQLSM9Fep76IGzE4kYOuLbqz7zJODG9qfEnBBIvZq92DZPGtofZMSOPm/ognB8sujER/ogYnepD7F/7b/ttPCWRk4DlYzLTo7LTWtye0PnPcSqF5Eo8e9UDabfqB48yT2TvvKGYuPoSXSrsKsZSdzhSSUi6thp0EA6FLCojHHOF2CHTxUKbVjkBNk8fn1/Lj91sp5bIQ8ajwVFBIplV0ECYDqollzWtIqrTeQ0VZon2OW0amZkBNY+T6EeZZFBDPA0j23Cr16l0sUrgU0XQP3y+/BbgCnp1fis7VCuR+DI6w4K1Iy4N4yi+iB3h0Fx3Jd6wqjeCA7vzc75SwSz7jEcwnBFMShbMHZzQihoRL+2DDzNIIFOhrpWj0q55y4rUOjgjT4dVHwazdS1oUKyNynshRD0+G3dvPzti61MSDkXooK5CI3A4LxFL7ZC2PuXZcnYDMhhaRmw10g9jRR5hZYoLiQkCObEvO1B4a/VU8INiJT0uYeAWfSzXIzPqo2VgtoNb81WxYkot9m5k8u44ejUDmgl69c6+mj2In4aAqLrj7ZwrK2Su3s3Zh9P0CT387LM7V2szzOsEsUHOvzRl3z88X36GHFpw0yA7CEdEf91sUPRQzq3hR2tY5zp4ra3/1/lrj1iLr9PkP//7wn/+tyhtw2VdvQi+iWtTaXirJGD3OxwpJk1rnOHqT6ZOn3jIVqQI8I7x+tyqiMbJIKbVKCUdVzdpiQen291H3txNfJ2yWdpbMEO0+CzyaSBIOtE/qOb58/HTx5mZkFcOZk54pHFY/wWImcO+e9H9bivM02j9+v7GfI6vq/tfTt9M7GbMjMKPlNtT9XkHvhYPr02KWUvPbfiouysS943bZFdB2etTBk97RoGB5xwP5vf7t3Snbe7l/VkTM8Wh7yvQZqRhHfx/B9DwIohX6D0ii/XhgNT96TSRNVs2qU8WNXFurmRex4DQ6EYJRij5WEWh9EQ/vPR/LS004O74+JPWx9yxtl6lFqUWALgotJ7CD9j86uLnYKpNO2fHUNaRfZHeenT+pNEYibVQfGULSCnTtf3UOpUKb33ZDRcZG8muXa5AKq1OtoR+YrMn15BwiFvPsBTtCi/tI0EjfEfOLBHy2EJAo25Sz9bX7IsKe1smKEKBsIeH6HxmvkYVtmd/2OrWJoc817QM6s4A42SOg1Hj9Hc05IHmeXRARBOg/EmQZK40f6/VKv6L/2m3PG6RBss2FaFhszhH+tR0cEY6InEA2IvjQDrCw0BjRsL1wSO/u/Hz5XO5rA+pcqr+/8YsgIgHmseNXgBKsUQHr/97tmSPQh7xngBpHSTi4jequ3iyhXpeSiqMT6w2BjtBBJ8ubnJMwM9l1K7AkUqVz2Nq/76WbuSRde9+IWWB1ulYg2km9dUQk7yzw+ixkmNej8i1ZYqQ9x2g0RmLjO2InnyUKXsGIHIeTgIyEWjlnSDLF2mvWyENP2wM09Oehg/B6FL8rClb/KmODannQHPSKsDwIZ3K111poIT5LTdKokMzSYNom4hEOKuO9OzQ+PeHfaF4qD+F5EI4Y59y39yBOFtWPNdmktZWCERZQfVD0vTmBa0T2OLT9ce/rtH9/+Nd//zmdrKjt9CPOFdcWMd+Q/rV7EbpRk0Fpzn4sorVWZGVAJiQ+Z20SFjPrzMSKUPktUP8ls/8MuhFYYTZobXpkj1HL50wN2uZltPvujxBqlXCU5Fo2nyP9c+0yfBpkvc1caxqtO+SmXYXjqMgSlFHTzNuHFRKN3daaGuZ9x+2gLZ/J1spHWW//B7aW5NYjgw2+AAAAAElFTkSuQmCC\" id=\"imagea19d79cfd5\" transform=\"matrix(2.055 0 0 -2.055 431.1 417.6)\" style=\"image-rendering:crisp-edges;image-rendering:pixelated\" width=\"200\" height=\"200\"/>\n",
       "   </g>\n",
       "  </g>\n",
       " </g>\n",
       " <defs>\n",
       "  <clipPath id=\"p67ea6e955b\">\n",
       "   <rect x=\"7.2\" y=\"7.2\" width=\"410.4\" height=\"410.4\"/>\n",
       "  </clipPath>\n",
       "  <clipPath id=\"p23ffb4e5d2\">\n",
       "   <rect x=\"431.1\" y=\"7.2\" width=\"410.4\" height=\"410.4\"/>\n",
       "  </clipPath>\n",
       " </defs>\n",
       "</svg>\n"
      ],
      "text/plain": [
       "<Figure size 864x432 with 2 Axes>"
      ]
     },
     "metadata": {
      "needs_background": "light"
     },
     "output_type": "display_data"
    }
   ],
   "source": [
    "bd1 = ps.filters.nphase_border(matrix*1.0 + inclusions*1.0, include_diagonals=False)\n",
    "bd2 = ps.filters.nphase_border(matrix*1.0 + inclusions*1.0, include_diagonals=True)\n",
    "\n",
    "fig, ax = plt.subplots(1, 2, figsize=[12, 6])\n",
    "ax[0].imshow(bd1, origin='lower', interpolation='none')\n",
    "ax[0].axis(False)\n",
    "ax[1].imshow(bd2, origin='lower', interpolation='none')\n",
    "ax[1].axis(False);"
   ]
  }
 ],
 "metadata": {
  "kernelspec": {
   "display_name": "Python 3 (ipykernel)",
   "language": "python",
   "name": "python3"
  },
  "language_info": {
   "codemirror_mode": {
    "name": "ipython",
    "version": 3
   },
   "file_extension": ".py",
   "mimetype": "text/x-python",
   "name": "python",
   "nbconvert_exporter": "python",
   "pygments_lexer": "ipython3",
   "version": "3.8.13"
  }
 },
 "nbformat": 4,
 "nbformat_minor": 4
}

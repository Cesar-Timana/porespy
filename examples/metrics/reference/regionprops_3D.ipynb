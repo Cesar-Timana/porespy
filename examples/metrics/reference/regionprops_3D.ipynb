{
 "cells": [
  {
   "cell_type": "markdown",
   "id": "b439283a",
   "metadata": {},
   "source": [
    "# ``regionprops_3D``\n",
    "This is similar to the ``regionprops`` in ``scikit-image`` but has some extra features that are relevant to 3D images.  Note that the ``scikit-image`` version has been adding 3D capabilities, make the PoreSpy version less useful."
   ]
  },
  {
   "cell_type": "code",
   "execution_count": 1,
   "id": "42296990",
   "metadata": {
    "execution": {
     "iopub.execute_input": "2022-08-23T01:44:52.984459Z",
     "iopub.status.busy": "2022-08-23T01:44:52.984226Z",
     "iopub.status.idle": "2022-08-23T01:44:54.735824Z",
     "shell.execute_reply": "2022-08-23T01:44:54.735145Z"
    }
   },
   "outputs": [],
   "source": [
    "import porespy as ps\n",
    "import numpy as np\n",
    "import matplotlib.pyplot as plt\n",
    "import scipy.ndimage as spim"
   ]
  },
  {
   "cell_type": "code",
   "execution_count": 2,
   "id": "ab7582c0",
   "metadata": {
    "execution": {
     "iopub.execute_input": "2022-08-23T01:44:54.740986Z",
     "iopub.status.busy": "2022-08-23T01:44:54.739280Z",
     "iopub.status.idle": "2022-08-23T01:44:55.472408Z",
     "shell.execute_reply": "2022-08-23T01:44:55.471820Z"
    }
   },
   "outputs": [
    {
     "data": {
      "image/png": "[encoded data removed]",
      "text/plain": [
       "<Figure size 640x480 with 1 Axes>"
      ]
     },
     "metadata": {},
     "output_type": "display_data"
    }
   ],
   "source": [
    "im = ps.generators.rsa([80, 80, 80], r=10, clearance=3)\n",
    "plt.imshow(im[20, ...], origin='lower', interpolation='none');"
   ]
  },
  {
   "cell_type": "markdown",
   "id": "9cc48e89",
   "metadata": {},
   "source": [
    "We need to label each sphere so they are recognized as individual regions:"
   ]
  },
  {
   "cell_type": "code",
   "execution_count": 3,
   "id": "a75c5b4c",
   "metadata": {
    "execution": {
     "iopub.execute_input": "2022-08-23T01:44:55.475336Z",
     "iopub.status.busy": "2022-08-23T01:44:55.475121Z",
     "iopub.status.idle": "2022-08-23T01:44:55.595993Z",
     "shell.execute_reply": "2022-08-23T01:44:55.595346Z"
    }
   },
   "outputs": [
    {
     "data": {
      "image/png": "[encoded data removed]",
      "text/plain": [
       "<Figure size 640x480 with 1 Axes>"
      ]
     },
     "metadata": {},
     "output_type": "display_data"
    }
   ],
   "source": [
    "regions = spim.label(im)[0]\n",
    "plt.imshow(regions[20, ...], origin='lower', interpolation='none');"
   ]
  },
  {
   "cell_type": "code",
   "execution_count": 4,
   "id": "d573de10",
   "metadata": {
    "execution": {
     "iopub.execute_input": "2022-08-23T01:44:55.599103Z",
     "iopub.status.busy": "2022-08-23T01:44:55.598611Z",
     "iopub.status.idle": "2022-08-23T01:44:55.604389Z",
     "shell.execute_reply": "2022-08-23T01:44:55.603883Z"
    }
   },
   "outputs": [],
   "source": [
    "props = ps.metrics.regionprops_3D(regions)"
   ]
  },
  {
   "cell_type": "markdown",
   "id": "e1349c01",
   "metadata": {},
   "source": [
    "``props`` is a list of ``RegionProperties`` objects, subclassed from ``scikit-image``.  Each ``RegionProperties`` object possess the properties as attributes.  Note that these are calculated on demand, so the ``regionsprops_3D`` function appears very quick, but the work has not yet been done."
   ]
  },
  {
   "cell_type": "code",
   "execution_count": 5,
   "id": "7ad84e89",
   "metadata": {
    "execution": {
     "iopub.execute_input": "2022-08-23T01:44:55.607341Z",
     "iopub.status.busy": "2022-08-23T01:44:55.606815Z",
     "iopub.status.idle": "2022-08-23T01:44:55.611018Z",
     "shell.execute_reply": "2022-08-23T01:44:55.610583Z"
    }
   },
   "outputs": [
    {
     "data": {
      "text/plain": [
       "[<porespy.metrics._regionprops.RegionPropertiesPS at 0x7fe8dc6f6d90>,\n",
       " <porespy.metrics._regionprops.RegionPropertiesPS at 0x7fe8dc769be0>,\n",
       " <porespy.metrics._regionprops.RegionPropertiesPS at 0x7fe8dc759e20>,\n",
       " <porespy.metrics._regionprops.RegionPropertiesPS at 0x7fe8dc761790>,\n",
       " <porespy.metrics._regionprops.RegionPropertiesPS at 0x7fe8dc761b80>,\n",
       " <porespy.metrics._regionprops.RegionPropertiesPS at 0x7fe8dc761220>,\n",
       " <porespy.metrics._regionprops.RegionPropertiesPS at 0x7fe8dc805e80>,\n",
       " <porespy.metrics._regionprops.RegionPropertiesPS at 0x7fe8dc805e50>,\n",
       " <porespy.metrics._regionprops.RegionPropertiesPS at 0x7fe8dc805df0>,\n",
       " <porespy.metrics._regionprops.RegionPropertiesPS at 0x7fe8dc6ee5e0>,\n",
       " <porespy.metrics._regionprops.RegionPropertiesPS at 0x7fe8dc6f69d0>,\n",
       " <porespy.metrics._regionprops.RegionPropertiesPS at 0x7fe8dc6f6880>,\n",
       " <porespy.metrics._regionprops.RegionPropertiesPS at 0x7fe8dc6f68b0>,\n",
       " <porespy.metrics._regionprops.RegionPropertiesPS at 0x7fe8dc6f6730>,\n",
       " <porespy.metrics._regionprops.RegionPropertiesPS at 0x7fe8dc6f6760>,\n",
       " <porespy.metrics._regionprops.RegionPropertiesPS at 0x7fe8dc6f6790>,\n",
       " <porespy.metrics._regionprops.RegionPropertiesPS at 0x7fe8dc6f6190>,\n",
       " <porespy.metrics._regionprops.RegionPropertiesPS at 0x7fe8dc6f6b50>]"
      ]
     },
     "execution_count": 5,
     "metadata": {},
     "output_type": "execute_result"
    }
   ],
   "source": [
    "props"
   ]
  },
  {
   "cell_type": "markdown",
   "id": "cb24af0f",
   "metadata": {},
   "source": [
    "The properties of regions 1 are on the ``RegionsProperties`` object located at position 0 in the ``props`` list:"
   ]
  },
  {
   "cell_type": "code",
   "execution_count": 6,
   "id": "e0556e3b",
   "metadata": {
    "execution": {
     "iopub.execute_input": "2022-08-23T01:44:55.626949Z",
     "iopub.status.busy": "2022-08-23T01:44:55.626730Z",
     "iopub.status.idle": "2022-08-23T01:44:55.630556Z",
     "shell.execute_reply": "2022-08-23T01:44:55.629979Z"
    }
   },
   "outputs": [
    {
     "name": "stdout",
     "output_type": "stream",
     "text": [
      "area\n",
      "area_bbox\n",
      "area_convex\n",
      "area_filled\n",
      "axis_major_length\n",
      "axis_minor_length\n",
      "bbox\n",
      "bbox_volume\n",
      "border\n",
      "centroid\n",
      "centroid_local\n",
      "centroid_weighted\n",
      "centroid_weighted_local\n",
      "convex_volume\n",
      "coords\n",
      "dt\n",
      "eccentricity\n",
      "equivalent_diameter_area\n",
      "euler_number\n",
      "extent\n",
      "feret_diameter_max\n",
      "image\n",
      "image_convex\n",
      "image_filled\n",
      "image_intensity\n",
      "inertia_tensor\n",
      "inertia_tensor_eigvals\n",
      "inscribed_sphere\n",
      "intensity_max\n",
      "intensity_mean\n",
      "intensity_min\n",
      "label\n",
      "mask\n",
      "moments\n",
      "moments_central\n",
      "moments_hu\n",
      "moments_normalized\n",
      "moments_weighted\n",
      "moments_weighted_central\n",
      "moments_weighted_hu\n",
      "moments_weighted_normalized\n",
      "orientation\n",
      "perimeter\n",
      "perimeter_crofton\n",
      "skeleton\n",
      "slice\n",
      "slices\n",
      "solidity\n",
      "sphericity\n",
      "surface_area\n",
      "surface_mesh_simplices\n",
      "surface_mesh_vertices\n",
      "volume\n"
     ]
    }
   ],
   "source": [
    "for d in dir(props[0]):\n",
    "    if not d.startswith('_'):\n",
    "        print(d)"
   ]
  },
  {
   "cell_type": "markdown",
   "id": "d15fd00b",
   "metadata": {},
   "source": [
    "Let's check a few of the properties:"
   ]
  },
  {
   "cell_type": "code",
   "execution_count": 7,
   "id": "2a2be644",
   "metadata": {
    "execution": {
     "iopub.execute_input": "2022-08-23T01:44:55.633815Z",
     "iopub.status.busy": "2022-08-23T01:44:55.633603Z",
     "iopub.status.idle": "2022-08-23T01:44:55.636795Z",
     "shell.execute_reply": "2022-08-23T01:44:55.636332Z"
    }
   },
   "outputs": [
    {
     "name": "stdout",
     "output_type": "stream",
     "text": [
      "4139\n"
     ]
    }
   ],
   "source": [
    "print(props[0].volume)"
   ]
  },
  {
   "cell_type": "markdown",
   "id": "79b33b79",
   "metadata": {},
   "source": [
    "Because the present function is meant for 3D images, we have added specific terminology, like volume, instead of allowing area to mean volume like the ``scikit-image`` version\""
   ]
  },
  {
   "cell_type": "code",
   "execution_count": 8,
   "id": "b8fd821f",
   "metadata": {
    "execution": {
     "iopub.execute_input": "2022-08-23T01:44:55.639220Z",
     "iopub.status.busy": "2022-08-23T01:44:55.639021Z",
     "iopub.status.idle": "2022-08-23T01:44:55.641951Z",
     "shell.execute_reply": "2022-08-23T01:44:55.641488Z"
    }
   },
   "outputs": [
    {
     "name": "stdout",
     "output_type": "stream",
     "text": [
      "4139\n"
     ]
    }
   ],
   "source": [
    "print(props[0].area)"
   ]
  },
  {
   "cell_type": "markdown",
   "id": "de1880f1",
   "metadata": {},
   "source": [
    "We do have a ``surface_area``, which is also specific to 3D objects:"
   ]
  },
  {
   "cell_type": "code",
   "execution_count": 9,
   "id": "3f861819",
   "metadata": {
    "execution": {
     "iopub.execute_input": "2022-08-23T01:44:55.644403Z",
     "iopub.status.busy": "2022-08-23T01:44:55.644197Z",
     "iopub.status.idle": "2022-08-23T01:44:55.650296Z",
     "shell.execute_reply": "2022-08-23T01:44:55.649701Z"
    }
   },
   "outputs": [
    {
     "name": "stdout",
     "output_type": "stream",
     "text": [
      "1165.306396484375\n"
     ]
    }
   ],
   "source": [
    "print(props[0].surface_area)"
   ]
  },
  {
   "cell_type": "markdown",
   "id": "7d3d6434",
   "metadata": {},
   "source": [
    "In addition to scalar metrics, we also provide access to useful images of the region:"
   ]
  },
  {
   "cell_type": "code",
   "execution_count": 10,
   "id": "8e8335c3",
   "metadata": {
    "execution": {
     "iopub.execute_input": "2022-08-23T01:44:55.652781Z",
     "iopub.status.busy": "2022-08-23T01:44:55.652576Z",
     "iopub.status.idle": "2022-08-23T01:44:55.774911Z",
     "shell.execute_reply": "2022-08-23T01:44:55.774309Z"
    }
   },
   "outputs": [
    {
     "data": {
      "image/png": "[encoded data removed]",
      "text/plain": [
       "<Figure size 640x480 with 1 Axes>"
      ]
     },
     "metadata": {},
     "output_type": "display_data"
    }
   ],
   "source": [
    "plt.imshow(props[0].dt[5, ...]);"
   ]
  }
 ],
 "metadata": {
  "kernelspec": {
   "display_name": "Python 3 (ipykernel)",
   "language": "python",
   "name": "python3"
  },
  "language_info": {
   "codemirror_mode": {
    "name": "ipython",
    "version": 3
   },
   "file_extension": ".py",
   "mimetype": "text/x-python",
   "name": "python",
   "nbconvert_exporter": "python",
   "pygments_lexer": "ipython3",
   "version": "3.8.13"
  }
 },
 "nbformat": 4,
 "nbformat_minor": 5
}

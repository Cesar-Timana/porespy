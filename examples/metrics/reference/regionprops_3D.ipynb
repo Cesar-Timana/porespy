{
 "cells": [
  {
   "cell_type": "markdown",
   "id": "b439283a",
   "metadata": {},
   "source": [
    "# ``regionprops_3D``\n",
    "This is similar to the ``regionprops`` in ``scikit-image`` but has some extra features that are relevant to 3D images.  Note that the ``scikit-image`` version has been adding 3D capabilities, make the PoreSpy version less useful."
   ]
  },
  {
   "cell_type": "code",
   "execution_count": 1,
   "id": "42296990",
   "metadata": {
    "execution": {
     "iopub.execute_input": "2022-09-09T11:03:46.085059Z",
     "iopub.status.busy": "2022-09-09T11:03:46.084480Z",
     "iopub.status.idle": "2022-09-09T11:03:47.742845Z",
     "shell.execute_reply": "2022-09-09T11:03:47.741795Z"
    }
   },
   "outputs": [],
   "source": [
    "import porespy as ps\n",
    "import numpy as np\n",
    "import matplotlib.pyplot as plt\n",
    "import scipy.ndimage as spim"
   ]
  },
  {
   "cell_type": "code",
   "execution_count": 2,
   "id": "ab7582c0",
   "metadata": {
    "execution": {
     "iopub.execute_input": "2022-09-09T11:03:47.746918Z",
     "iopub.status.busy": "2022-09-09T11:03:47.746252Z",
     "iopub.status.idle": "2022-09-09T11:03:48.455584Z",
     "shell.execute_reply": "2022-09-09T11:03:48.454637Z"
    }
   },
   "outputs": [
    {
     "data": {
      "image/png": "[encoded data removed]",
      "text/plain": [
       "<Figure size 640x480 with 1 Axes>"
      ]
     },
     "metadata": {},
     "output_type": "display_data"
    }
   ],
   "source": [
    "im = ps.generators.rsa([80, 80, 80], r=10, clearance=3)\n",
    "plt.imshow(im[20, ...], origin='lower', interpolation='none');"
   ]
  },
  {
   "cell_type": "markdown",
   "id": "9cc48e89",
   "metadata": {},
   "source": [
    "We need to label each sphere so they are recognized as individual regions:"
   ]
  },
  {
   "cell_type": "code",
   "execution_count": 3,
   "id": "a75c5b4c",
   "metadata": {
    "execution": {
     "iopub.execute_input": "2022-09-09T11:03:48.458755Z",
     "iopub.status.busy": "2022-09-09T11:03:48.458182Z",
     "iopub.status.idle": "2022-09-09T11:03:48.575470Z",
     "shell.execute_reply": "2022-09-09T11:03:48.575009Z"
    }
   },
   "outputs": [
    {
     "data": {
      "image/png": "[encoded data removed]",
      "text/plain": [
       "<Figure size 640x480 with 1 Axes>"
      ]
     },
     "metadata": {},
     "output_type": "display_data"
    }
   ],
   "source": [
    "regions = spim.label(im)[0]\n",
    "plt.imshow(regions[20, ...], origin='lower', interpolation='none');"
   ]
  },
  {
   "cell_type": "code",
   "execution_count": 4,
   "id": "d573de10",
   "metadata": {
    "execution": {
     "iopub.execute_input": "2022-09-09T11:03:48.578133Z",
     "iopub.status.busy": "2022-09-09T11:03:48.577745Z",
     "iopub.status.idle": "2022-09-09T11:03:48.583607Z",
     "shell.execute_reply": "2022-09-09T11:03:48.582686Z"
    }
   },
   "outputs": [],
   "source": [
    "props = ps.metrics.regionprops_3D(regions)"
   ]
  },
  {
   "cell_type": "markdown",
   "id": "e1349c01",
   "metadata": {},
   "source": [
    "``props`` is a list of ``RegionProperties`` objects, subclassed from ``scikit-image``.  Each ``RegionProperties`` object possess the properties as attributes.  Note that these are calculated on demand, so the ``regionsprops_3D`` function appears very quick, but the work has not yet been done."
   ]
  },
  {
   "cell_type": "code",
   "execution_count": 5,
   "id": "7ad84e89",
   "metadata": {
    "execution": {
     "iopub.execute_input": "2022-09-09T11:03:48.586316Z",
     "iopub.status.busy": "2022-09-09T11:03:48.586097Z",
     "iopub.status.idle": "2022-09-09T11:03:48.589885Z",
     "shell.execute_reply": "2022-09-09T11:03:48.589467Z"
    }
   },
   "outputs": [
    {
     "data": {
      "text/plain": [
       "[<porespy.metrics._regionprops.RegionPropertiesPS at 0x7f8cdd7e04c0>,\n",
       " <porespy.metrics._regionprops.RegionPropertiesPS at 0x7f8cdd7daa90>,\n",
       " <porespy.metrics._regionprops.RegionPropertiesPS at 0x7f8cde880eb0>,\n",
       " <porespy.metrics._regionprops.RegionPropertiesPS at 0x7f8cde880dc0>,\n",
       " <porespy.metrics._regionprops.RegionPropertiesPS at 0x7f8cde880e80>,\n",
       " <porespy.metrics._regionprops.RegionPropertiesPS at 0x7f8cde7f3c70>,\n",
       " <porespy.metrics._regionprops.RegionPropertiesPS at 0x7f8cde7f3d00>,\n",
       " <porespy.metrics._regionprops.RegionPropertiesPS at 0x7f8cde7f3c10>,\n",
       " <porespy.metrics._regionprops.RegionPropertiesPS at 0x7f8cde84ee50>,\n",
       " <porespy.metrics._regionprops.RegionPropertiesPS at 0x7f8cde7d36d0>,\n",
       " <porespy.metrics._regionprops.RegionPropertiesPS at 0x7f8cde7d31f0>,\n",
       " <porespy.metrics._regionprops.RegionPropertiesPS at 0x7f8cde7d3250>,\n",
       " <porespy.metrics._regionprops.RegionPropertiesPS at 0x7f8cde7d30d0>,\n",
       " <porespy.metrics._regionprops.RegionPropertiesPS at 0x7f8cde7d3100>,\n",
       " <porespy.metrics._regionprops.RegionPropertiesPS at 0x7f8cde7d3130>,\n",
       " <porespy.metrics._regionprops.RegionPropertiesPS at 0x7f8cde7d3220>,\n",
       " <porespy.metrics._regionprops.RegionPropertiesPS at 0x7f8cde7d3430>,\n",
       " <porespy.metrics._regionprops.RegionPropertiesPS at 0x7f8cdd93c070>,\n",
       " <porespy.metrics._regionprops.RegionPropertiesPS at 0x7f8cdd7e0c70>]"
      ]
     },
     "execution_count": 5,
     "metadata": {},
     "output_type": "execute_result"
    }
   ],
   "source": [
    "props"
   ]
  },
  {
   "cell_type": "markdown",
   "id": "cb24af0f",
   "metadata": {},
   "source": [
    "The properties of regions 1 are on the ``RegionsProperties`` object located at position 0 in the ``props`` list:"
   ]
  },
  {
   "cell_type": "code",
   "execution_count": 6,
   "id": "e0556e3b",
   "metadata": {
    "execution": {
     "iopub.execute_input": "2022-09-09T11:03:48.592316Z",
     "iopub.status.busy": "2022-09-09T11:03:48.592096Z",
     "iopub.status.idle": "2022-09-09T11:03:48.595787Z",
     "shell.execute_reply": "2022-09-09T11:03:48.595255Z"
    }
   },
   "outputs": [
    {
     "name": "stdout",
     "output_type": "stream",
     "text": [
      "area\n",
      "area_bbox\n",
      "area_convex\n",
      "area_filled\n",
      "axis_major_length\n",
      "axis_minor_length\n",
      "bbox\n",
      "bbox_volume\n",
      "border\n",
      "centroid\n",
      "centroid_local\n",
      "centroid_weighted\n",
      "centroid_weighted_local\n",
      "convex_volume\n",
      "coords\n",
      "dt\n",
      "eccentricity\n",
      "equivalent_diameter_area\n",
      "euler_number\n",
      "extent\n",
      "feret_diameter_max\n",
      "image\n",
      "image_convex\n",
      "image_filled\n",
      "image_intensity\n",
      "inertia_tensor\n",
      "inertia_tensor_eigvals\n",
      "inscribed_sphere\n",
      "intensity_max\n",
      "intensity_mean\n",
      "intensity_min\n",
      "label\n",
      "mask\n",
      "moments\n",
      "moments_central\n",
      "moments_hu\n",
      "moments_normalized\n",
      "moments_weighted\n",
      "moments_weighted_central\n",
      "moments_weighted_hu\n",
      "moments_weighted_normalized\n",
      "orientation\n",
      "perimeter\n",
      "perimeter_crofton\n",
      "skeleton\n",
      "slice\n",
      "slices\n",
      "solidity\n",
      "sphericity\n",
      "surface_area\n",
      "surface_mesh_simplices\n",
      "surface_mesh_vertices\n",
      "volume\n"
     ]
    }
   ],
   "source": [
    "for d in dir(props[0]):\n",
    "    if not d.startswith('_'):\n",
    "        print(d)"
   ]
  },
  {
   "cell_type": "markdown",
   "id": "d15fd00b",
   "metadata": {},
   "source": [
    "Let's check a few of the properties:"
   ]
  },
  {
   "cell_type": "code",
   "execution_count": 7,
   "id": "2a2be644",
   "metadata": {
    "execution": {
     "iopub.execute_input": "2022-09-09T11:03:48.598538Z",
     "iopub.status.busy": "2022-09-09T11:03:48.598338Z",
     "iopub.status.idle": "2022-09-09T11:03:48.601397Z",
     "shell.execute_reply": "2022-09-09T11:03:48.600935Z"
    }
   },
   "outputs": [
    {
     "name": "stdout",
     "output_type": "stream",
     "text": [
      "4139\n"
     ]
    }
   ],
   "source": [
    "print(props[0].volume)"
   ]
  },
  {
   "cell_type": "markdown",
   "id": "79b33b79",
   "metadata": {},
   "source": [
    "Because the present function is meant for 3D images, we have added specific terminology, like volume, instead of allowing area to mean volume like the ``scikit-image`` version\""
   ]
  },
  {
   "cell_type": "code",
   "execution_count": 8,
   "id": "b8fd821f",
   "metadata": {
    "execution": {
     "iopub.execute_input": "2022-09-09T11:03:48.603750Z",
     "iopub.status.busy": "2022-09-09T11:03:48.603554Z",
     "iopub.status.idle": "2022-09-09T11:03:48.606633Z",
     "shell.execute_reply": "2022-09-09T11:03:48.606049Z"
    }
   },
   "outputs": [
    {
     "name": "stdout",
     "output_type": "stream",
     "text": [
      "4139\n"
     ]
    }
   ],
   "source": [
    "print(props[0].area)"
   ]
  },
  {
   "cell_type": "markdown",
   "id": "de1880f1",
   "metadata": {},
   "source": [
    "We do have a ``surface_area``, which is also specific to 3D objects:"
   ]
  },
  {
   "cell_type": "code",
   "execution_count": 9,
   "id": "3f861819",
   "metadata": {
    "execution": {
     "iopub.execute_input": "2022-09-09T11:03:48.609739Z",
     "iopub.status.busy": "2022-09-09T11:03:48.609532Z",
     "iopub.status.idle": "2022-09-09T11:03:48.615428Z",
     "shell.execute_reply": "2022-09-09T11:03:48.614820Z"
    }
   },
   "outputs": [
    {
     "name": "stdout",
     "output_type": "stream",
     "text": [
      "1165.306396484375\n"
     ]
    }
   ],
   "source": [
    "print(props[0].surface_area)"
   ]
  },
  {
   "cell_type": "markdown",
   "id": "7d3d6434",
   "metadata": {},
   "source": [
    "In addition to scalar metrics, we also provide access to useful images of the region:"
   ]
  },
  {
   "cell_type": "code",
   "execution_count": 10,
   "id": "8e8335c3",
   "metadata": {
    "execution": {
     "iopub.execute_input": "2022-09-09T11:03:48.618009Z",
     "iopub.status.busy": "2022-09-09T11:03:48.617810Z",
     "iopub.status.idle": "2022-09-09T11:03:48.734766Z",
     "shell.execute_reply": "2022-09-09T11:03:48.734285Z"
    }
   },
   "outputs": [
    {
     "data": {
      "image/png": "[encoded data removed]",
      "text/plain": [
       "<Figure size 640x480 with 1 Axes>"
      ]
     },
     "metadata": {},
     "output_type": "display_data"
    }
   ],
   "source": [
    "plt.imshow(props[0].dt[5, ...]);"
   ]
  }
 ],
 "metadata": {
  "kernelspec": {
   "display_name": "Python 3 (ipykernel)",
   "language": "python",
   "name": "python3"
  },
  "language_info": {
   "codemirror_mode": {
    "name": "ipython",
    "version": 3
   },
   "file_extension": ".py",
   "mimetype": "text/x-python",
   "name": "python",
   "nbconvert_exporter": "python",
   "pygments_lexer": "ipython3",
   "version": "3.8.13"
  }
 },
 "nbformat": 4,
 "nbformat_minor": 5
}

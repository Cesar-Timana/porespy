{
 "cells": [
  {
   "cell_type": "markdown",
   "id": "81172411",
   "metadata": {},
   "source": [
    "# `props_to_DataFrame`\n",
    "Extracts the scalar values from a ``regionprops_3D`` query and uses them to populate a ``pandas`` ``DataFrame``."
   ]
  },
  {
   "cell_type": "code",
   "execution_count": 1,
   "id": "b2638b57",
   "metadata": {
    "execution": {
     "iopub.execute_input": "2022-08-12T21:34:44.638295Z",
     "iopub.status.busy": "2022-08-12T21:34:44.638064Z",
     "iopub.status.idle": "2022-08-12T21:34:46.527383Z",
     "shell.execute_reply": "2022-08-12T21:34:46.526417Z"
    }
   },
   "outputs": [],
   "source": [
    "import porespy as ps\n",
    "import numpy as np\n",
    "import matplotlib.pyplot as plt\n",
    "import scipy.ndimage as spim"
   ]
  },
  {
   "cell_type": "code",
   "execution_count": 2,
   "id": "034e4d32",
   "metadata": {
    "execution": {
     "iopub.execute_input": "2022-08-12T21:34:46.532632Z",
     "iopub.status.busy": "2022-08-12T21:34:46.531350Z",
     "iopub.status.idle": "2022-08-12T21:34:46.708715Z",
     "shell.execute_reply": "2022-08-12T21:34:46.707998Z"
    }
   },
   "outputs": [
    {
     "data": {
      "image/png": "[encoded data removed]",
      "text/plain": [
       "<Figure size 432x288 with 1 Axes>"
      ]
     },
     "metadata": {
      "needs_background": "light"
     },
     "output_type": "display_data"
    }
   ],
   "source": [
    "np.random.seed(7)\n",
    "im = ~ps.generators.overlapping_spheres([100, 100], r=10, porosity=0.6)\n",
    "plt.imshow(im, origin='lower', interpolation='none');"
   ]
  },
  {
   "cell_type": "code",
   "execution_count": 3,
   "id": "6844c886",
   "metadata": {
    "execution": {
     "iopub.execute_input": "2022-08-12T21:34:46.711659Z",
     "iopub.status.busy": "2022-08-12T21:34:46.711435Z",
     "iopub.status.idle": "2022-08-12T21:34:46.802810Z",
     "shell.execute_reply": "2022-08-12T21:34:46.802210Z"
    }
   },
   "outputs": [
    {
     "data": {
      "image/png": "[encoded data removed]",
      "text/plain": [
       "<Figure size 432x288 with 1 Axes>"
      ]
     },
     "metadata": {
      "needs_background": "light"
     },
     "output_type": "display_data"
    }
   ],
   "source": [
    "regions = spim.label(im)[0]\n",
    "props = ps.metrics.regionprops_3D(regions)\n",
    "plt.imshow(regions, origin='lower', interpolation='none');"
   ]
  },
  {
   "cell_type": "code",
   "execution_count": 4,
   "id": "fe6f24ff",
   "metadata": {
    "execution": {
     "iopub.execute_input": "2022-08-12T21:34:46.806168Z",
     "iopub.status.busy": "2022-08-12T21:34:46.805945Z",
     "iopub.status.idle": "2022-08-12T21:34:46.850421Z",
     "shell.execute_reply": "2022-08-12T21:34:46.849691Z"
    }
   },
   "outputs": [],
   "source": [
    "df = ps.metrics.props_to_DataFrame(props)"
   ]
  },
  {
   "cell_type": "code",
   "execution_count": 5,
   "id": "2e7827cb",
   "metadata": {
    "execution": {
     "iopub.execute_input": "2022-08-12T21:34:46.853864Z",
     "iopub.status.busy": "2022-08-12T21:34:46.853644Z",
     "iopub.status.idle": "2022-08-12T21:34:46.874299Z",
     "shell.execute_reply": "2022-08-12T21:34:46.873655Z"
    }
   },
   "outputs": [
    {
     "data": {
      "text/html": [
       "<div>\n",
       "<style scoped>\n",
       "    .dataframe tbody tr th:only-of-type {\n",
       "        vertical-align: middle;\n",
       "    }\n",
       "\n",
       "    .dataframe tbody tr th {\n",
       "        vertical-align: top;\n",
       "    }\n",
       "\n",
       "    .dataframe thead th {\n",
       "        text-align: right;\n",
       "    }\n",
       "</style>\n",
       "<table border=\"1\" class=\"dataframe\">\n",
       "  <thead>\n",
       "    <tr style=\"text-align: right;\">\n",
       "      <th></th>\n",
       "      <th>label</th>\n",
       "      <th>volume</th>\n",
       "      <th>bbox_volume</th>\n",
       "      <th>sphericity</th>\n",
       "      <th>surface_area</th>\n",
       "      <th>convex_volume</th>\n",
       "      <th>area</th>\n",
       "      <th>area_bbox</th>\n",
       "      <th>area_convex</th>\n",
       "      <th>eccentricity</th>\n",
       "      <th>...</th>\n",
       "      <th>euler_number</th>\n",
       "      <th>extent</th>\n",
       "      <th>feret_diameter_max</th>\n",
       "      <th>area_filled</th>\n",
       "      <th>axis_major_length</th>\n",
       "      <th>axis_minor_length</th>\n",
       "      <th>orientation</th>\n",
       "      <th>perimeter</th>\n",
       "      <th>perimeter_crofton</th>\n",
       "      <th>solidity</th>\n",
       "    </tr>\n",
       "  </thead>\n",
       "  <tbody>\n",
       "    <tr>\n",
       "      <th>0</th>\n",
       "      <td>1</td>\n",
       "      <td>270</td>\n",
       "      <td>304</td>\n",
       "      <td>3.377624</td>\n",
       "      <td>59.811131</td>\n",
       "      <td>274</td>\n",
       "      <td>270</td>\n",
       "      <td>304</td>\n",
       "      <td>274</td>\n",
       "      <td>0.535682</td>\n",
       "      <td>...</td>\n",
       "      <td>1</td>\n",
       "      <td>0.888158</td>\n",
       "      <td>20.615528</td>\n",
       "      <td>270</td>\n",
       "      <td>20.302892</td>\n",
       "      <td>17.144166</td>\n",
       "      <td>-1.570796</td>\n",
       "      <td>58.970563</td>\n",
       "      <td>58.589116</td>\n",
       "      <td>0.985401</td>\n",
       "    </tr>\n",
       "    <tr>\n",
       "      <th>1</th>\n",
       "      <td>2</td>\n",
       "      <td>292</td>\n",
       "      <td>352</td>\n",
       "      <td>2.966109</td>\n",
       "      <td>71.760513</td>\n",
       "      <td>301</td>\n",
       "      <td>292</td>\n",
       "      <td>352</td>\n",
       "      <td>301</td>\n",
       "      <td>0.668822</td>\n",
       "      <td>...</td>\n",
       "      <td>1</td>\n",
       "      <td>0.829545</td>\n",
       "      <td>24.186773</td>\n",
       "      <td>292</td>\n",
       "      <td>22.792054</td>\n",
       "      <td>16.944133</td>\n",
       "      <td>-1.332241</td>\n",
       "      <td>64.384776</td>\n",
       "      <td>63.722113</td>\n",
       "      <td>0.970100</td>\n",
       "    </tr>\n",
       "    <tr>\n",
       "      <th>2</th>\n",
       "      <td>3</td>\n",
       "      <td>305</td>\n",
       "      <td>361</td>\n",
       "      <td>2.578463</td>\n",
       "      <td>84.981247</td>\n",
       "      <td>313</td>\n",
       "      <td>305</td>\n",
       "      <td>361</td>\n",
       "      <td>313</td>\n",
       "      <td>0.000000</td>\n",
       "      <td>...</td>\n",
       "      <td>1</td>\n",
       "      <td>0.844875</td>\n",
       "      <td>20.808652</td>\n",
       "      <td>305</td>\n",
       "      <td>19.710694</td>\n",
       "      <td>19.710694</td>\n",
       "      <td>0.785398</td>\n",
       "      <td>62.627417</td>\n",
       "      <td>62.056032</td>\n",
       "      <td>0.974441</td>\n",
       "    </tr>\n",
       "    <tr>\n",
       "      <th>3</th>\n",
       "      <td>4</td>\n",
       "      <td>701</td>\n",
       "      <td>952</td>\n",
       "      <td>1.939290</td>\n",
       "      <td>196.782654</td>\n",
       "      <td>747</td>\n",
       "      <td>701</td>\n",
       "      <td>952</td>\n",
       "      <td>747</td>\n",
       "      <td>0.646067</td>\n",
       "      <td>...</td>\n",
       "      <td>1</td>\n",
       "      <td>0.736345</td>\n",
       "      <td>35.440090</td>\n",
       "      <td>701</td>\n",
       "      <td>34.990789</td>\n",
       "      <td>26.707805</td>\n",
       "      <td>1.291699</td>\n",
       "      <td>105.840620</td>\n",
       "      <td>103.024717</td>\n",
       "      <td>0.938420</td>\n",
       "    </tr>\n",
       "    <tr>\n",
       "      <th>4</th>\n",
       "      <td>5</td>\n",
       "      <td>1237</td>\n",
       "      <td>2205</td>\n",
       "      <td>1.255313</td>\n",
       "      <td>443.927490</td>\n",
       "      <td>1665</td>\n",
       "      <td>1237</td>\n",
       "      <td>2205</td>\n",
       "      <td>1665</td>\n",
       "      <td>0.904394</td>\n",
       "      <td>...</td>\n",
       "      <td>1</td>\n",
       "      <td>0.560998</td>\n",
       "      <td>63.788714</td>\n",
       "      <td>1237</td>\n",
       "      <td>70.153363</td>\n",
       "      <td>29.934308</td>\n",
       "      <td>1.478716</td>\n",
       "      <td>202.539105</td>\n",
       "      <td>195.878727</td>\n",
       "      <td>0.742943</td>\n",
       "    </tr>\n",
       "    <tr>\n",
       "      <th>5</th>\n",
       "      <td>6</td>\n",
       "      <td>255</td>\n",
       "      <td>285</td>\n",
       "      <td>3.677297</td>\n",
       "      <td>52.882927</td>\n",
       "      <td>259</td>\n",
       "      <td>255</td>\n",
       "      <td>285</td>\n",
       "      <td>259</td>\n",
       "      <td>0.611649</td>\n",
       "      <td>...</td>\n",
       "      <td>1</td>\n",
       "      <td>0.894737</td>\n",
       "      <td>20.615528</td>\n",
       "      <td>255</td>\n",
       "      <td>20.466711</td>\n",
       "      <td>16.191807</td>\n",
       "      <td>0.000000</td>\n",
       "      <td>58.142136</td>\n",
       "      <td>57.803718</td>\n",
       "      <td>0.984556</td>\n",
       "    </tr>\n",
       "    <tr>\n",
       "      <th>6</th>\n",
       "      <td>7</td>\n",
       "      <td>641</td>\n",
       "      <td>945</td>\n",
       "      <td>1.932482</td>\n",
       "      <td>186.040405</td>\n",
       "      <td>762</td>\n",
       "      <td>641</td>\n",
       "      <td>945</td>\n",
       "      <td>762</td>\n",
       "      <td>0.933715</td>\n",
       "      <td>...</td>\n",
       "      <td>1</td>\n",
       "      <td>0.678307</td>\n",
       "      <td>47.434165</td>\n",
       "      <td>641</td>\n",
       "      <td>52.035208</td>\n",
       "      <td>18.629564</td>\n",
       "      <td>-1.383012</td>\n",
       "      <td>124.526912</td>\n",
       "      <td>120.740433</td>\n",
       "      <td>0.841207</td>\n",
       "    </tr>\n",
       "  </tbody>\n",
       "</table>\n",
       "<p>7 rows × 21 columns</p>\n",
       "</div>"
      ],
      "text/plain": [
       "   label  volume  bbox_volume  sphericity  surface_area  convex_volume  area  \\\n",
       "0      1     270          304    3.377624     59.811131            274   270   \n",
       "1      2     292          352    2.966109     71.760513            301   292   \n",
       "2      3     305          361    2.578463     84.981247            313   305   \n",
       "3      4     701          952    1.939290    196.782654            747   701   \n",
       "4      5    1237         2205    1.255313    443.927490           1665  1237   \n",
       "5      6     255          285    3.677297     52.882927            259   255   \n",
       "6      7     641          945    1.932482    186.040405            762   641   \n",
       "\n",
       "   area_bbox  area_convex  eccentricity  ...  euler_number    extent  \\\n",
       "0        304          274      0.535682  ...             1  0.888158   \n",
       "1        352          301      0.668822  ...             1  0.829545   \n",
       "2        361          313      0.000000  ...             1  0.844875   \n",
       "3        952          747      0.646067  ...             1  0.736345   \n",
       "4       2205         1665      0.904394  ...             1  0.560998   \n",
       "5        285          259      0.611649  ...             1  0.894737   \n",
       "6        945          762      0.933715  ...             1  0.678307   \n",
       "\n",
       "   feret_diameter_max  area_filled  axis_major_length  axis_minor_length  \\\n",
       "0           20.615528          270          20.302892          17.144166   \n",
       "1           24.186773          292          22.792054          16.944133   \n",
       "2           20.808652          305          19.710694          19.710694   \n",
       "3           35.440090          701          34.990789          26.707805   \n",
       "4           63.788714         1237          70.153363          29.934308   \n",
       "5           20.615528          255          20.466711          16.191807   \n",
       "6           47.434165          641          52.035208          18.629564   \n",
       "\n",
       "   orientation   perimeter  perimeter_crofton  solidity  \n",
       "0    -1.570796   58.970563          58.589116  0.985401  \n",
       "1    -1.332241   64.384776          63.722113  0.970100  \n",
       "2     0.785398   62.627417          62.056032  0.974441  \n",
       "3     1.291699  105.840620         103.024717  0.938420  \n",
       "4     1.478716  202.539105         195.878727  0.742943  \n",
       "5     0.000000   58.142136          57.803718  0.984556  \n",
       "6    -1.383012  124.526912         120.740433  0.841207  \n",
       "\n",
       "[7 rows x 21 columns]"
      ]
     },
     "execution_count": 5,
     "metadata": {},
     "output_type": "execute_result"
    }
   ],
   "source": [
    "df"
   ]
  }
 ],
 "metadata": {
  "kernelspec": {
   "display_name": "Python 3 (ipykernel)",
   "language": "python",
   "name": "python3"
  },
  "language_info": {
   "codemirror_mode": {
    "name": "ipython",
    "version": 3
   },
   "file_extension": ".py",
   "mimetype": "text/x-python",
   "name": "python",
   "nbconvert_exporter": "python",
   "pygments_lexer": "ipython3",
   "version": "3.8.13"
  }
 },
 "nbformat": 4,
 "nbformat_minor": 5
}

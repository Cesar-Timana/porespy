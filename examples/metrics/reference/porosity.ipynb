{
 "cells": [
  {
   "cell_type": "markdown",
   "metadata": {},
   "source": [
    "# `porosity`\n",
    "Porosity is the void volume divided by the bulk volume. In a boolean image this can be calculated with ``im.sum()/im.size``, assuming the void voxels are labeled ``True``.  It can be slightly more complicated however, if the image does not fill up the full array (i.e. ``im.size`` is not the bulk volume) or if the there are other values in the image besides ``True`` (i.e. it's not obvious what is void space).  The ``porosity`` function works as ``np.sum(im == 1)/np.sum(im == 0)``. This means that any voxels marked something else are ignored.  It's still very simple, but is more robust which comes in handy."
   ]
  },
  {
   "cell_type": "code",
   "execution_count": 1,
   "metadata": {
    "execution": {
     "iopub.execute_input": "2022-08-12T21:34:35.497240Z",
     "iopub.status.busy": "2022-08-12T21:34:35.496986Z",
     "iopub.status.idle": "2022-08-12T21:34:37.440835Z",
     "shell.execute_reply": "2022-08-12T21:34:37.440065Z"
    }
   },
   "outputs": [],
   "source": [
    "import matplotlib.pyplot as plt\n",
    "import numpy as np\n",
    "import porespy as ps\n",
    "np.random.seed(0)"
   ]
  },
  {
   "cell_type": "code",
   "execution_count": 2,
   "metadata": {
    "execution": {
     "iopub.execute_input": "2022-08-12T21:34:37.446421Z",
     "iopub.status.busy": "2022-08-12T21:34:37.444936Z",
     "iopub.status.idle": "2022-08-12T21:34:37.455788Z",
     "shell.execute_reply": "2022-08-12T21:34:37.455327Z"
    }
   },
   "outputs": [
    {
     "data": {
      "text/plain": [
       "<Signature (im)>"
      ]
     },
     "execution_count": 2,
     "metadata": {},
     "output_type": "execute_result"
    }
   ],
   "source": [
    "import inspect\n",
    "inspect.signature(ps.metrics.porosity)"
   ]
  },
  {
   "cell_type": "markdown",
   "metadata": {},
   "source": [
    "## `im`\n",
    "In its basic form a binary image is fine:"
   ]
  },
  {
   "cell_type": "code",
   "execution_count": 3,
   "metadata": {
    "execution": {
     "iopub.execute_input": "2022-08-12T21:34:37.459704Z",
     "iopub.status.busy": "2022-08-12T21:34:37.458760Z",
     "iopub.status.idle": "2022-08-12T21:34:37.470104Z",
     "shell.execute_reply": "2022-08-12T21:34:37.469635Z"
    }
   },
   "outputs": [
    {
     "name": "stdout",
     "output_type": "stream",
     "text": [
      "0.52215\n"
     ]
    }
   ],
   "source": [
    "im = ps.generators.blobs(shape=[200, 200])\n",
    "e = ps.metrics.porosity(im)\n",
    "print(e)"
   ]
  },
  {
   "cell_type": "markdown",
   "metadata": {},
   "source": [
    "However, if the image is has some unfilled space, the around a cylindrical tomogram, then it can be labelled as 2 so it's ignored:"
   ]
  },
  {
   "cell_type": "code",
   "execution_count": 4,
   "metadata": {
    "execution": {
     "iopub.execute_input": "2022-08-12T21:34:37.474049Z",
     "iopub.status.busy": "2022-08-12T21:34:37.473102Z",
     "iopub.status.idle": "2022-08-12T21:34:37.655585Z",
     "shell.execute_reply": "2022-08-12T21:34:37.655059Z"
    }
   },
   "outputs": [
    {
     "name": "stdout",
     "output_type": "stream",
     "text": [
      "0.49670287539936103\n"
     ]
    },
    {
     "data": {
      "image/png": "[encoded data removed]",
      "text/plain": [
       "<Figure size 432x288 with 1 Axes>"
      ]
     },
     "metadata": {
      "needs_background": "light"
     },
     "output_type": "display_data"
    }
   ],
   "source": [
    "im = ps.generators.blobs(shape=[100, 100, 100], porosity=0.5, blobiness=2).astype(int)\n",
    "cyl = ps.generators.cylindrical_plug(shape=im.shape, axis=0)\n",
    "im[~cyl] = 2\n",
    "plt.imshow(im[50, ...], interpolation='none', origin='lower')\n",
    "\n",
    "e = ps.metrics.porosity(im)\n",
    "print(e)"
   ]
  },
  {
   "cell_type": "markdown",
   "metadata": {},
   "source": [
    "The porosity specified when generatign the blobsimage was 50%, and the computed porosity is also 50%, despite having a regions of 2's around the outside."
   ]
  }
 ],
 "metadata": {
  "kernelspec": {
   "display_name": "Python 3",
   "language": "python",
   "name": "python3"
  },
  "language_info": {
   "codemirror_mode": {
    "name": "ipython",
    "version": 3
   },
   "file_extension": ".py",
   "mimetype": "text/x-python",
   "name": "python",
   "nbconvert_exporter": "python",
   "pygments_lexer": "ipython3",
   "version": "3.8.13"
  }
 },
 "nbformat": 4,
 "nbformat_minor": 4
}

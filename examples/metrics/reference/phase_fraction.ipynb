{
 "cells": [
  {
   "cell_type": "markdown",
   "metadata": {},
   "source": [
    "#  `phase_fraction`"
   ]
  },
  {
   "cell_type": "markdown",
   "metadata": {},
   "source": [
    "Calculates the fraction of each phase (unique label) in an image. This method has varieties of applications including phase fraction in a porous medium where different materials are labeled in the image."
   ]
  },
  {
   "cell_type": "code",
   "execution_count": 1,
   "metadata": {
    "execution": {
     "iopub.execute_input": "2022-09-08T00:00:40.090941Z",
     "iopub.status.busy": "2022-09-08T00:00:40.090514Z",
     "iopub.status.idle": "2022-09-08T00:00:42.181653Z",
     "shell.execute_reply": "2022-09-08T00:00:42.180983Z"
    }
   },
   "outputs": [
    {
     "data": {
      "text/plain": [
       "<Signature (im, normed=True)>"
      ]
     },
     "execution_count": 1,
     "metadata": {},
     "output_type": "execute_result"
    }
   ],
   "source": [
    "import matplotlib.pyplot as plt\n",
    "import porespy as ps\n",
    "import numpy as np\n",
    "from porespy.filters import fftmorphology\n",
    "from skimage.morphology import disk\n",
    "import inspect\n",
    "inspect.signature(ps.metrics.phase_fraction)"
   ]
  },
  {
   "cell_type": "markdown",
   "metadata": {},
   "source": [
    "## `im`\n",
    "The input image containing the phase(s). Let's generate a test image containing three phases:"
   ]
  },
  {
   "cell_type": "code",
   "execution_count": 2,
   "metadata": {
    "execution": {
     "iopub.execute_input": "2022-09-08T00:00:42.184798Z",
     "iopub.status.busy": "2022-09-08T00:00:42.184453Z",
     "iopub.status.idle": "2022-09-08T00:00:42.522431Z",
     "shell.execute_reply": "2022-09-08T00:00:42.521872Z"
    }
   },
   "outputs": [
    {
     "name": "stdout",
     "output_type": "stream",
     "text": [
      "labels of phases are [0. 1. 2.]\n"
     ]
    },
    {
     "data": {
      "image/png": "[encoded data removed]",
      "text/plain": [
       "<Figure size 600x600 with 1 Axes>"
      ]
     },
     "metadata": {},
     "output_type": "display_data"
    }
   ],
   "source": [
    "np.random.seed(10)\n",
    "im = ps.generators.blobs(shape=[500, 500])\n",
    "im_close = fftmorphology(im=im, strel=disk(10), mode='erosion')\n",
    "pad = im*1.0-im_close*1.0\n",
    "phases = im + pad\n",
    "fig, ax = plt.subplots(1, 1, figsize=[6, 6])\n",
    "ax.imshow(phases, origin='lower', interpolation='none')\n",
    "ax.axis(False);\n",
    "labels=np.unique(phases)\n",
    "print('labels of phases are',labels)"
   ]
  },
  {
   "cell_type": "markdown",
   "metadata": {},
   "source": [
    "The generated image includes three phases labeled as 1,2,3. Note that the label values can by any unique number. Given the input image, the `phase_fraction` method returns a dictionary containing the label and the fraction of each phase in the image. The fraction of each phase is calculated by normalizing the number of voxels in each phase by the total number of voxels in the image."
   ]
  },
  {
   "cell_type": "code",
   "execution_count": 3,
   "metadata": {
    "execution": {
     "iopub.execute_input": "2022-09-08T00:00:42.525409Z",
     "iopub.status.busy": "2022-09-08T00:00:42.524999Z",
     "iopub.status.idle": "2022-09-08T00:00:42.545565Z",
     "shell.execute_reply": "2022-09-08T00:00:42.545032Z"
    }
   },
   "outputs": [
    {
     "name": "stdout",
     "output_type": "stream",
     "text": [
      "{0.0: 0.512432, 1.0: 0.187, 2.0: 0.300568}\n"
     ]
    }
   ],
   "source": [
    "phase_fracs = ps.metrics.phase_fraction(phases)\n",
    "print(phase_fracs)"
   ]
  },
  {
   "cell_type": "markdown",
   "metadata": {},
   "source": [
    "## `normed`"
   ]
  },
  {
   "cell_type": "markdown",
   "metadata": {},
   "source": [
    "By default the `phase_fraction` method returns the fraction of phases. We can calculate the number of voxels in each phase by choosing `normed=False`:"
   ]
  },
  {
   "cell_type": "code",
   "execution_count": 4,
   "metadata": {
    "execution": {
     "iopub.execute_input": "2022-09-08T00:00:42.548443Z",
     "iopub.status.busy": "2022-09-08T00:00:42.548220Z",
     "iopub.status.idle": "2022-09-08T00:00:42.557763Z",
     "shell.execute_reply": "2022-09-08T00:00:42.557303Z"
    }
   },
   "outputs": [
    {
     "name": "stdout",
     "output_type": "stream",
     "text": [
      "{0.0: 128108, 1.0: 46750, 2.0: 75142}\n"
     ]
    }
   ],
   "source": [
    "phase_voxel_num = ps.metrics.phase_fraction(phases, normed=False)\n",
    "print(phase_voxel_num)"
   ]
  }
 ],
 "metadata": {
  "kernelspec": {
   "display_name": "Python 3",
   "language": "python",
   "name": "python3"
  },
  "language_info": {
   "codemirror_mode": {
    "name": "ipython",
    "version": 3
   },
   "file_extension": ".py",
   "mimetype": "text/x-python",
   "name": "python",
   "nbconvert_exporter": "python",
   "pygments_lexer": "ipython3",
   "version": "3.8.13"
  }
 },
 "nbformat": 4,
 "nbformat_minor": 4
}

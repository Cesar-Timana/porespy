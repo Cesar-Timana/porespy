{
 "cells": [
  {
   "cell_type": "markdown",
   "id": "skilled-economy",
   "metadata": {},
   "source": [
    "# `insert_cylinder`"
   ]
  },
  {
   "cell_type": "markdown",
   "id": "considerable-remove",
   "metadata": {},
   "source": [
    "## Import packages"
   ]
  },
  {
   "cell_type": "code",
   "execution_count": 1,
   "id": "distributed-theme",
   "metadata": {
    "execution": {
     "iopub.execute_input": "2022-08-23T01:47:30.470804Z",
     "iopub.status.busy": "2022-08-23T01:47:30.470571Z",
     "iopub.status.idle": "2022-08-23T01:47:32.224592Z",
     "shell.execute_reply": "2022-08-23T01:47:32.223926Z"
    }
   },
   "outputs": [],
   "source": [
    "import numpy as np\n",
    "import porespy as ps\n",
    "import scipy.ndimage as spim\n",
    "import matplotlib.pyplot as plt\n",
    "import skimage\n",
    "\n",
    "ps.visualization.set_mpl_style()"
   ]
  },
  {
   "cell_type": "markdown",
   "id": "critical-lyric",
   "metadata": {},
   "source": [
    "## Generate image for testing"
   ]
  },
  {
   "cell_type": "code",
   "execution_count": 2,
   "id": "published-reform",
   "metadata": {
    "execution": {
     "iopub.execute_input": "2022-08-23T01:47:32.228099Z",
     "iopub.status.busy": "2022-08-23T01:47:32.227698Z",
     "iopub.status.idle": "2022-08-23T01:47:32.345475Z",
     "shell.execute_reply": "2022-08-23T01:47:32.344970Z"
    }
   },
   "outputs": [
    {
     "data": {
      "image/svg+xml": [
       "<?xml version=\"1.0\" encoding=\"utf-8\" standalone=\"no\"?>\n",
       "<!DOCTYPE svg PUBLIC \"-//W3C//DTD SVG 1.1//EN\"\n",
       "  \"http://www.w3.org/Graphics/SVG/1.1/DTD/svg11.dtd\">\n",
       "<svg xmlns:xlink=\"http://www.w3.org/1999/xlink\" width=\"276.48pt\" height=\"276.48pt\" viewBox=\"0 0 276.48 276.48\" xmlns=\"http://www.w3.org/2000/svg\" version=\"1.1\">\n",
       " <metadata>\n",
       "  <rdf:RDF xmlns:dc=\"http://purl.org/dc/elements/1.1/\" xmlns:cc=\"http://creativecommons.org/ns#\" xmlns:rdf=\"http://www.w3.org/1999/02/22-rdf-syntax-ns#\">\n",
       "   <cc:Work>\n",
       "    <dc:type rdf:resource=\"http://purl.org/dc/dcmitype/StillImage\"/>\n",
       "    <dc:date>2022-08-23T01:47:32.336257</dc:date>\n",
       "    <dc:format>image/svg+xml</dc:format>\n",
       "    <dc:creator>\n",
       "     <cc:Agent>\n",
       "      <dc:title>Matplotlib v3.5.3, https://matplotlib.org/</dc:title>\n",
       "     </cc:Agent>\n",
       "    </dc:creator>\n",
       "   </cc:Work>\n",
       "  </rdf:RDF>\n",
       " </metadata>\n",
       " <defs>\n",
       "  <style type=\"text/css\">*{stroke-linejoin: round; stroke-linecap: butt}</style>\n",
       " </defs>\n",
       " <g id=\"figure_1\">\n",
       "  <g id=\"patch_1\">\n",
       "   <path d=\"M 0 276.48 \n",
       "L 276.48 276.48 \n",
       "L 276.48 0 \n",
       "L 0 0 \n",
       "z\n",
       "\" style=\"fill: #ffffff\"/>\n",
       "  </g>\n",
       "  <g id=\"axes_1\">\n",
       "   <g clip-path=\"url(#p0f0b545f73)\">\n",
       "    <image xlink:href=\"data:image/png;base64,\n",
       "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\" id=\"image3cf38ab5ae\" transform=\"matrix(2.63 0 0 2.63 7.2 6.28)\" style=\"image-rendering:crisp-edges;image-rendering:pixelated\" width=\"100\" height=\"100\"/>\n",
       "   </g>\n",
       "  </g>\n",
       " </g>\n",
       " <defs>\n",
       "  <clipPath id=\"p0f0b545f73\">\n",
       "   <rect x=\"7.2\" y=\"7.2\" width=\"262.08\" height=\"262.08\"/>\n",
       "  </clipPath>\n",
       " </defs>\n",
       "</svg>\n"
      ],
      "text/plain": [
       "<Figure size 400x400 with 1 Axes>"
      ]
     },
     "metadata": {},
     "output_type": "display_data"
    }
   ],
   "source": [
    "im = ps.generators.blobs([100, 100, 100])\n",
    "\n",
    "fig, ax = plt.subplots(figsize=[4, 4]);\n",
    "ax.imshow(im[..., 50]);\n",
    "plt.axis(False);"
   ]
  },
  {
   "cell_type": "markdown",
   "id": "broken-insurance",
   "metadata": {},
   "source": [
    "## Demonstrate tool"
   ]
  },
  {
   "cell_type": "code",
   "execution_count": 3,
   "id": "tracked-andrew",
   "metadata": {
    "execution": {
     "iopub.execute_input": "2022-08-23T01:47:32.348495Z",
     "iopub.status.busy": "2022-08-23T01:47:32.348130Z",
     "iopub.status.idle": "2022-08-23T01:47:32.435984Z",
     "shell.execute_reply": "2022-08-23T01:47:32.435456Z"
    }
   },
   "outputs": [
    {
     "data": {
      "image/svg+xml": [
       "<?xml version=\"1.0\" encoding=\"utf-8\" standalone=\"no\"?>\n",
       "<!DOCTYPE svg PUBLIC \"-//W3C//DTD SVG 1.1//EN\"\n",
       "  \"http://www.w3.org/Graphics/SVG/1.1/DTD/svg11.dtd\">\n",
       "<svg xmlns:xlink=\"http://www.w3.org/1999/xlink\" width=\"276.48pt\" height=\"276.48pt\" viewBox=\"0 0 276.48 276.48\" xmlns=\"http://www.w3.org/2000/svg\" version=\"1.1\">\n",
       " <metadata>\n",
       "  <rdf:RDF xmlns:dc=\"http://purl.org/dc/elements/1.1/\" xmlns:cc=\"http://creativecommons.org/ns#\" xmlns:rdf=\"http://www.w3.org/1999/02/22-rdf-syntax-ns#\">\n",
       "   <cc:Work>\n",
       "    <dc:type rdf:resource=\"http://purl.org/dc/dcmitype/StillImage\"/>\n",
       "    <dc:date>2022-08-23T01:47:32.427989</dc:date>\n",
       "    <dc:format>image/svg+xml</dc:format>\n",
       "    <dc:creator>\n",
       "     <cc:Agent>\n",
       "      <dc:title>Matplotlib v3.5.3, https://matplotlib.org/</dc:title>\n",
       "     </cc:Agent>\n",
       "    </dc:creator>\n",
       "   </cc:Work>\n",
       "  </rdf:RDF>\n",
       " </metadata>\n",
       " <defs>\n",
       "  <style type=\"text/css\">*{stroke-linejoin: round; stroke-linecap: butt}</style>\n",
       " </defs>\n",
       " <g id=\"figure_1\">\n",
       "  <g id=\"patch_1\">\n",
       "   <path d=\"M 0 276.48 \n",
       "L 276.48 276.48 \n",
       "L 276.48 0 \n",
       "L 0 0 \n",
       "z\n",
       "\" style=\"fill: #ffffff\"/>\n",
       "  </g>\n",
       "  <g id=\"axes_1\">\n",
       "   <g clip-path=\"url(#p528d3230ae)\">\n",
       "    <image xlink:href=\"data:image/png;base64,\n",
       "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\" id=\"image019023fc77\" transform=\"matrix(2.63 0 0 2.63 7.2 6.28)\" style=\"image-rendering:crisp-edges;image-rendering:pixelated\" width=\"100\" height=\"100\"/>\n",
       "   </g>\n",
       "  </g>\n",
       " </g>\n",
       " <defs>\n",
       "  <clipPath id=\"p528d3230ae\">\n",
       "   <rect x=\"7.2\" y=\"7.2\" width=\"262.08\" height=\"262.08\"/>\n",
       "  </clipPath>\n",
       " </defs>\n",
       "</svg>\n"
      ],
      "text/plain": [
       "<Figure size 400x400 with 1 Axes>"
      ]
     },
     "metadata": {},
     "output_type": "display_data"
    }
   ],
   "source": [
    "im = ps.tools.insert_cylinder(im=im*1.0, xyz0=[20, 20, 20], xyz1=[60, 60, 50], r=20)\n",
    "\n",
    "fig, ax = plt.subplots(figsize=[4, 4]);\n",
    "ax.imshow(ps.visualization.xray(~(im > 1)));\n",
    "plt.axis(False);"
   ]
  },
  {
   "cell_type": "code",
   "execution_count": null,
   "id": "wound-quebec",
   "metadata": {},
   "outputs": [],
   "source": []
  }
 ],
 "metadata": {
  "kernelspec": {
   "display_name": "Python 3 (ipykernel)",
   "language": "python",
   "name": "python3"
  },
  "language_info": {
   "codemirror_mode": {
    "name": "ipython",
    "version": 3
   },
   "file_extension": ".py",
   "mimetype": "text/x-python",
   "name": "python",
   "nbconvert_exporter": "python",
   "pygments_lexer": "ipython3",
   "version": "3.8.13"
  }
 },
 "nbformat": 4,
 "nbformat_minor": 5
}

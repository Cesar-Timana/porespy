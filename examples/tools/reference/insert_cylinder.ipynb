{
 "cells": [
  {
   "cell_type": "markdown",
   "id": "skilled-economy",
   "metadata": {},
   "source": [
    "# `insert_cylinder`"
   ]
  },
  {
   "cell_type": "markdown",
   "id": "considerable-remove",
   "metadata": {},
   "source": [
    "## Import packages"
   ]
  },
  {
   "cell_type": "code",
   "execution_count": 1,
   "id": "distributed-theme",
   "metadata": {
    "execution": {
     "iopub.execute_input": "2022-08-23T00:50:19.107411Z",
     "iopub.status.busy": "2022-08-23T00:50:19.107027Z",
     "iopub.status.idle": "2022-08-23T00:50:20.855609Z",
     "shell.execute_reply": "2022-08-23T00:50:20.854944Z"
    }
   },
   "outputs": [],
   "source": [
    "import numpy as np\n",
    "import porespy as ps\n",
    "import scipy.ndimage as spim\n",
    "import matplotlib.pyplot as plt\n",
    "import skimage\n",
    "\n",
    "ps.visualization.set_mpl_style()"
   ]
  },
  {
   "cell_type": "markdown",
   "id": "critical-lyric",
   "metadata": {},
   "source": [
    "## Generate image for testing"
   ]
  },
  {
   "cell_type": "code",
   "execution_count": 2,
   "id": "published-reform",
   "metadata": {
    "execution": {
     "iopub.execute_input": "2022-08-23T00:50:20.859477Z",
     "iopub.status.busy": "2022-08-23T00:50:20.859065Z",
     "iopub.status.idle": "2022-08-23T00:50:20.978021Z",
     "shell.execute_reply": "2022-08-23T00:50:20.977436Z"
    }
   },
   "outputs": [
    {
     "data": {
      "image/svg+xml": [
       "<?xml version=\"1.0\" encoding=\"utf-8\" standalone=\"no\"?>\n",
       "<!DOCTYPE svg PUBLIC \"-//W3C//DTD SVG 1.1//EN\"\n",
       "  \"http://www.w3.org/Graphics/SVG/1.1/DTD/svg11.dtd\">\n",
       "<svg xmlns:xlink=\"http://www.w3.org/1999/xlink\" width=\"276.48pt\" height=\"276.48pt\" viewBox=\"0 0 276.48 276.48\" xmlns=\"http://www.w3.org/2000/svg\" version=\"1.1\">\n",
       " <metadata>\n",
       "  <rdf:RDF xmlns:dc=\"http://purl.org/dc/elements/1.1/\" xmlns:cc=\"http://creativecommons.org/ns#\" xmlns:rdf=\"http://www.w3.org/1999/02/22-rdf-syntax-ns#\">\n",
       "   <cc:Work>\n",
       "    <dc:type rdf:resource=\"http://purl.org/dc/dcmitype/StillImage\"/>\n",
       "    <dc:date>2022-08-23T00:50:20.967085</dc:date>\n",
       "    <dc:format>image/svg+xml</dc:format>\n",
       "    <dc:creator>\n",
       "     <cc:Agent>\n",
       "      <dc:title>Matplotlib v3.5.3, https://matplotlib.org/</dc:title>\n",
       "     </cc:Agent>\n",
       "    </dc:creator>\n",
       "   </cc:Work>\n",
       "  </rdf:RDF>\n",
       " </metadata>\n",
       " <defs>\n",
       "  <style type=\"text/css\">*{stroke-linejoin: round; stroke-linecap: butt}</style>\n",
       " </defs>\n",
       " <g id=\"figure_1\">\n",
       "  <g id=\"patch_1\">\n",
       "   <path d=\"M 0 276.48 \n",
       "L 276.48 276.48 \n",
       "L 276.48 0 \n",
       "L 0 0 \n",
       "z\n",
       "\" style=\"fill: #ffffff\"/>\n",
       "  </g>\n",
       "  <g id=\"axes_1\">\n",
       "   <g clip-path=\"url(#p604d96d135)\">\n",
       "    <image xlink:href=\"data:image/png;base64,\n",
       "iVBORw0KGgoAAAANSUhEUgAAAGQAAABkCAYAAABw4pVUAAAFaElEQVR4nO1d3XFcLQzFO65in1PAFpGZbSDNugtXkVSRSR6S68HXgP6Oflj7zHwPSe6C0EFCCMH39PvXtz/thPv1dv6rN7z8fCW/oX7rgZE81v7u1xtcZkpvF49GM+BBtucEmkFMiJaMjMFVnDgUhoRkKO/A/Xp7958EmXJzwBnP1EKiBzcjQENKLzvCSiItTbWGaLAaFDVgq0I01tYDNTk57TyNoqzWfGeFdgZzFUO1me2SV/hASPWFkFImR/5VGx6h7qyfES6cjyrB4vqo746/j9DDjPQ3C6lOhmVDOmurR99upkt7Tuv5PyjlzL6JkCMDz63xUiU9vGbpF1q7aHNSkQpFbhK95bZO1uU+hBJeOziLUji/Pb4ZTRzvtfLl56upj8vRiEZJkYFAL99K1gqu0CLDpTWdS8hOMlraqRxRhqVOonBWtsc5iSeevj/9GKZODiCjLI4iuBFfVm7KMyS/X2+x+xAqLeGdZLSCykYjiE7fGEZjprTVzJekZKzBUTghM6GzZj+V19K0Z7EUFSF9Xkk7kyqgihw9VIv6ChUHeQCRukf1NeuXDHsrK1gC7g4/IyTu+4SvIdbUARrZCpb+hrUxrKRgCSpvAGdg79R3IsXierLH6RL2ZrgthDVwZZ5lkBEybL8xzCQCJUPIxrDa4j6DlQx0f8O6LOmRLlIgCSpYB7qf8NreHSOfyEm4rO2tXOCwC7FSfZFhb2VSqkOjJ9Y+5IuUOKQf4R6usTI5lhNS6bim1e9cgaLv4KH7jL4URJ3xb5ntRcmkaQd91+T8Z7PLqnbSt0P/KytbuiyPyzQUIq9bVwxMYIt65ozNthYkpoQ80iBnqBjZQW/h7kiiJeT2INRU/f5IkI6VW4UpvXOvSp14wWJhqAU6+j2W/t/u19u/Czuca8QcYT+LRaEr74cHVNyKu8gziEdFr+uzLsKOcL1IyEjdIO6yz/pxJySLCG8r5BQ2aI6xXbO9n8E1oZ/xcCPEk4xs6/CE2mXtPOhoSFyXiJAqJCAW1apgE1KFjANV3iZB440Qy92/bFSXTwLSQqKfKtpNudKbxdRYL9UKDCrJsgJXb9J6BNfa3gO7zfoRUMcRVEACIcT7MZlsoM+GVv9m3hh6JCR3IGkF82tAEdhdyVy4vpeFFoCqSUKhP7+JPC5AXG1YriFaQdAZUC4yrVBKxvQ8xOP5IiqSQCouggRUH5x2hhaCmMGWfFP0NbOs9kdwPaDSkBJNRnawcXbhU0JmPk6K2clahc1iNhkjsK4jtIYrs0ERwVVmxFUKxBWKow22y0JYDNIqkJf1K0D01kllWO5rUL/jVqAgIV7UtW4HtSZ5gipisxbIcX7PXkNGHXARtaB7XU5F9cEhRO2yHj3DKwEiwDhgWkPQpJxzUNJcVKY7nMkZXpdlPTVD9YHqy4LzBDrnrVqj5Ut5nmkm1CqU9UxKomHxHCnv9nK+QUU06GoarmzayQPZhyAXtf7b/nuPG8FeBR4WS3a3EK+y/UysrCT9xHCFqBPCDFCbyBkoHUAspOIs5qJKbu6A25n6DtYQPZHUJ4ZcVLWMVfhcVeYD2z0TK1lMqyt/BLXLyhhsVOFEZNtnuL1sfWDHWdqj32BGjEVlIdxj0UchY/ZnKdyzvWd47zuiCc4oRxITkj3rs/vvXVifekGlj0T/c2JNBccO+5EVvCo7Z7hQH3BACfiIpHih3D6kalCAvvU7S1CKXwPSQtO2JNSMJM+zJqychfSoZCEjIMpsz6RCwt7qiquKUXlU2ZccIvvzXrdGRYKzugGYy9q11na0mc284fWOkJFPkwqX8QZJdZcpmawfLKT64Frzjwi9wJH7IarfdwIl719HSIrw7lw94QAAAABJRU5ErkJggg==\" id=\"image7192cc9e04\" transform=\"matrix(2.63 0 0 2.63 7.2 6.28)\" style=\"image-rendering:crisp-edges;image-rendering:pixelated\" width=\"100\" height=\"100\"/>\n",
       "   </g>\n",
       "  </g>\n",
       " </g>\n",
       " <defs>\n",
       "  <clipPath id=\"p604d96d135\">\n",
       "   <rect x=\"7.2\" y=\"7.2\" width=\"262.08\" height=\"262.08\"/>\n",
       "  </clipPath>\n",
       " </defs>\n",
       "</svg>\n"
      ],
      "text/plain": [
       "<Figure size 400x400 with 1 Axes>"
      ]
     },
     "metadata": {},
     "output_type": "display_data"
    }
   ],
   "source": [
    "im = ps.generators.blobs([100, 100, 100])\n",
    "\n",
    "fig, ax = plt.subplots(figsize=[4, 4]);\n",
    "ax.imshow(im[..., 50]);\n",
    "plt.axis(False);"
   ]
  },
  {
   "cell_type": "markdown",
   "id": "broken-insurance",
   "metadata": {},
   "source": [
    "## Demonstrate tool"
   ]
  },
  {
   "cell_type": "code",
   "execution_count": 3,
   "id": "tracked-andrew",
   "metadata": {
    "execution": {
     "iopub.execute_input": "2022-08-23T00:50:20.982218Z",
     "iopub.status.busy": "2022-08-23T00:50:20.981209Z",
     "iopub.status.idle": "2022-08-23T00:50:21.075085Z",
     "shell.execute_reply": "2022-08-23T00:50:21.074557Z"
    }
   },
   "outputs": [
    {
     "data": {
      "image/svg+xml": [
       "<?xml version=\"1.0\" encoding=\"utf-8\" standalone=\"no\"?>\n",
       "<!DOCTYPE svg PUBLIC \"-//W3C//DTD SVG 1.1//EN\"\n",
       "  \"http://www.w3.org/Graphics/SVG/1.1/DTD/svg11.dtd\">\n",
       "<svg xmlns:xlink=\"http://www.w3.org/1999/xlink\" width=\"276.48pt\" height=\"276.48pt\" viewBox=\"0 0 276.48 276.48\" xmlns=\"http://www.w3.org/2000/svg\" version=\"1.1\">\n",
       " <metadata>\n",
       "  <rdf:RDF xmlns:dc=\"http://purl.org/dc/elements/1.1/\" xmlns:cc=\"http://creativecommons.org/ns#\" xmlns:rdf=\"http://www.w3.org/1999/02/22-rdf-syntax-ns#\">\n",
       "   <cc:Work>\n",
       "    <dc:type rdf:resource=\"http://purl.org/dc/dcmitype/StillImage\"/>\n",
       "    <dc:date>2022-08-23T00:50:21.067237</dc:date>\n",
       "    <dc:format>image/svg+xml</dc:format>\n",
       "    <dc:creator>\n",
       "     <cc:Agent>\n",
       "      <dc:title>Matplotlib v3.5.3, https://matplotlib.org/</dc:title>\n",
       "     </cc:Agent>\n",
       "    </dc:creator>\n",
       "   </cc:Work>\n",
       "  </rdf:RDF>\n",
       " </metadata>\n",
       " <defs>\n",
       "  <style type=\"text/css\">*{stroke-linejoin: round; stroke-linecap: butt}</style>\n",
       " </defs>\n",
       " <g id=\"figure_1\">\n",
       "  <g id=\"patch_1\">\n",
       "   <path d=\"M 0 276.48 \n",
       "L 276.48 276.48 \n",
       "L 276.48 0 \n",
       "L 0 0 \n",
       "z\n",
       "\" style=\"fill: #ffffff\"/>\n",
       "  </g>\n",
       "  <g id=\"axes_1\">\n",
       "   <g clip-path=\"url(#p8a1a46b1b0)\">\n",
       "    <image xlink:href=\"data:image/png;base64,\n",
       "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\" id=\"image79028a452a\" transform=\"matrix(2.63 0 0 2.63 7.2 6.28)\" style=\"image-rendering:crisp-edges;image-rendering:pixelated\" width=\"100\" height=\"100\"/>\n",
       "   </g>\n",
       "  </g>\n",
       " </g>\n",
       " <defs>\n",
       "  <clipPath id=\"p8a1a46b1b0\">\n",
       "   <rect x=\"7.2\" y=\"7.2\" width=\"262.08\" height=\"262.08\"/>\n",
       "  </clipPath>\n",
       " </defs>\n",
       "</svg>\n"
      ],
      "text/plain": [
       "<Figure size 400x400 with 1 Axes>"
      ]
     },
     "metadata": {},
     "output_type": "display_data"
    }
   ],
   "source": [
    "im = ps.tools.insert_cylinder(im=im*1.0, xyz0=[20, 20, 20], xyz1=[60, 60, 50], r=20)\n",
    "\n",
    "fig, ax = plt.subplots(figsize=[4, 4]);\n",
    "ax.imshow(ps.visualization.xray(~(im > 1)));\n",
    "plt.axis(False);"
   ]
  },
  {
   "cell_type": "code",
   "execution_count": null,
   "id": "wound-quebec",
   "metadata": {},
   "outputs": [],
   "source": []
  }
 ],
 "metadata": {
  "kernelspec": {
   "display_name": "Python 3 (ipykernel)",
   "language": "python",
   "name": "python3"
  },
  "language_info": {
   "codemirror_mode": {
    "name": "ipython",
    "version": 3
   },
   "file_extension": ".py",
   "mimetype": "text/x-python",
   "name": "python",
   "nbconvert_exporter": "python",
   "pygments_lexer": "ipython3",
   "version": "3.8.13"
  }
 },
 "nbformat": 4,
 "nbformat_minor": 5
}

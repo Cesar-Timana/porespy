{
 "cells": [
  {
   "cell_type": "markdown",
   "id": "skilled-economy",
   "metadata": {},
   "source": [
    "# `insert_cylinder`"
   ]
  },
  {
   "cell_type": "markdown",
   "id": "considerable-remove",
   "metadata": {},
   "source": [
    "## Import packages"
   ]
  },
  {
   "cell_type": "code",
   "execution_count": 1,
   "id": "distributed-theme",
   "metadata": {
    "execution": {
     "iopub.execute_input": "2022-08-12T21:38:03.286037Z",
     "iopub.status.busy": "2022-08-12T21:38:03.285577Z",
     "iopub.status.idle": "2022-08-12T21:38:05.057091Z",
     "shell.execute_reply": "2022-08-12T21:38:05.056267Z"
    }
   },
   "outputs": [],
   "source": [
    "import numpy as np\n",
    "import porespy as ps\n",
    "import scipy.ndimage as spim\n",
    "import matplotlib.pyplot as plt\n",
    "import skimage\n",
    "\n",
    "ps.visualization.set_mpl_style()"
   ]
  },
  {
   "cell_type": "markdown",
   "id": "critical-lyric",
   "metadata": {},
   "source": [
    "## Generate image for testing"
   ]
  },
  {
   "cell_type": "code",
   "execution_count": 2,
   "id": "published-reform",
   "metadata": {
    "execution": {
     "iopub.execute_input": "2022-08-12T21:38:05.061268Z",
     "iopub.status.busy": "2022-08-12T21:38:05.060702Z",
     "iopub.status.idle": "2022-08-12T21:38:05.189729Z",
     "shell.execute_reply": "2022-08-12T21:38:05.189159Z"
    }
   },
   "outputs": [
    {
     "data": {
      "image/svg+xml": [
       "<?xml version=\"1.0\" encoding=\"utf-8\" standalone=\"no\"?>\n",
       "<!DOCTYPE svg PUBLIC \"-//W3C//DTD SVG 1.1//EN\"\n",
       "  \"http://www.w3.org/Graphics/SVG/1.1/DTD/svg11.dtd\">\n",
       "<svg xmlns:xlink=\"http://www.w3.org/1999/xlink\" width=\"280.8pt\" height=\"280.8pt\" viewBox=\"0 0 280.8 280.8\" xmlns=\"http://www.w3.org/2000/svg\" version=\"1.1\">\n",
       " <metadata>\n",
       "  <rdf:RDF xmlns:dc=\"http://purl.org/dc/elements/1.1/\" xmlns:cc=\"http://creativecommons.org/ns#\" xmlns:rdf=\"http://www.w3.org/1999/02/22-rdf-syntax-ns#\">\n",
       "   <cc:Work>\n",
       "    <dc:type rdf:resource=\"http://purl.org/dc/dcmitype/StillImage\"/>\n",
       "    <dc:date>2022-08-12T21:38:05.178453</dc:date>\n",
       "    <dc:format>image/svg+xml</dc:format>\n",
       "    <dc:creator>\n",
       "     <cc:Agent>\n",
       "      <dc:title>Matplotlib v3.5.3, https://matplotlib.org/</dc:title>\n",
       "     </cc:Agent>\n",
       "    </dc:creator>\n",
       "   </cc:Work>\n",
       "  </rdf:RDF>\n",
       " </metadata>\n",
       " <defs>\n",
       "  <style type=\"text/css\">*{stroke-linejoin: round; stroke-linecap: butt}</style>\n",
       " </defs>\n",
       " <g id=\"figure_1\">\n",
       "  <g id=\"patch_1\">\n",
       "   <path d=\"M 0 280.8 \n",
       "L 280.8 280.8 \n",
       "L 280.8 0 \n",
       "L 0 0 \n",
       "L 0 280.8 \n",
       "z\n",
       "\" style=\"fill: none\"/>\n",
       "  </g>\n",
       "  <g id=\"axes_1\">\n",
       "   <g clip-path=\"url(#p40a26d0055)\">\n",
       "    <image xlink:href=\"data:image/png;base64,\n",
       "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\" id=\"image29bf489372\" transform=\"matrix(2.67 0 0 2.67 7.2 6.6)\" style=\"image-rendering:crisp-edges;image-rendering:pixelated\" width=\"100\" height=\"100\"/>\n",
       "   </g>\n",
       "  </g>\n",
       " </g>\n",
       " <defs>\n",
       "  <clipPath id=\"p40a26d0055\">\n",
       "   <rect x=\"7.2\" y=\"7.2\" width=\"266.4\" height=\"266.4\"/>\n",
       "  </clipPath>\n",
       " </defs>\n",
       "</svg>\n"
      ],
      "text/plain": [
       "<Figure size 288x288 with 1 Axes>"
      ]
     },
     "metadata": {
      "needs_background": "light"
     },
     "output_type": "display_data"
    }
   ],
   "source": [
    "im = ps.generators.blobs([100, 100, 100])\n",
    "\n",
    "fig, ax = plt.subplots(figsize=[4, 4]);\n",
    "ax.imshow(im[..., 50]);\n",
    "plt.axis(False);"
   ]
  },
  {
   "cell_type": "markdown",
   "id": "broken-insurance",
   "metadata": {},
   "source": [
    "## Demonstrate tool"
   ]
  },
  {
   "cell_type": "code",
   "execution_count": 3,
   "id": "tracked-andrew",
   "metadata": {
    "execution": {
     "iopub.execute_input": "2022-08-12T21:38:05.193344Z",
     "iopub.status.busy": "2022-08-12T21:38:05.193029Z",
     "iopub.status.idle": "2022-08-12T21:38:05.289027Z",
     "shell.execute_reply": "2022-08-12T21:38:05.288496Z"
    }
   },
   "outputs": [
    {
     "data": {
      "image/svg+xml": [
       "<?xml version=\"1.0\" encoding=\"utf-8\" standalone=\"no\"?>\n",
       "<!DOCTYPE svg PUBLIC \"-//W3C//DTD SVG 1.1//EN\"\n",
       "  \"http://www.w3.org/Graphics/SVG/1.1/DTD/svg11.dtd\">\n",
       "<svg xmlns:xlink=\"http://www.w3.org/1999/xlink\" width=\"280.8pt\" height=\"280.8pt\" viewBox=\"0 0 280.8 280.8\" xmlns=\"http://www.w3.org/2000/svg\" version=\"1.1\">\n",
       " <metadata>\n",
       "  <rdf:RDF xmlns:dc=\"http://purl.org/dc/elements/1.1/\" xmlns:cc=\"http://creativecommons.org/ns#\" xmlns:rdf=\"http://www.w3.org/1999/02/22-rdf-syntax-ns#\">\n",
       "   <cc:Work>\n",
       "    <dc:type rdf:resource=\"http://purl.org/dc/dcmitype/StillImage\"/>\n",
       "    <dc:date>2022-08-12T21:38:05.280974</dc:date>\n",
       "    <dc:format>image/svg+xml</dc:format>\n",
       "    <dc:creator>\n",
       "     <cc:Agent>\n",
       "      <dc:title>Matplotlib v3.5.3, https://matplotlib.org/</dc:title>\n",
       "     </cc:Agent>\n",
       "    </dc:creator>\n",
       "   </cc:Work>\n",
       "  </rdf:RDF>\n",
       " </metadata>\n",
       " <defs>\n",
       "  <style type=\"text/css\">*{stroke-linejoin: round; stroke-linecap: butt}</style>\n",
       " </defs>\n",
       " <g id=\"figure_1\">\n",
       "  <g id=\"patch_1\">\n",
       "   <path d=\"M 0 280.8 \n",
       "L 280.8 280.8 \n",
       "L 280.8 0 \n",
       "L 0 0 \n",
       "L 0 280.8 \n",
       "z\n",
       "\" style=\"fill: none\"/>\n",
       "  </g>\n",
       "  <g id=\"axes_1\">\n",
       "   <g clip-path=\"url(#p025bd653fe)\">\n",
       "    <image xlink:href=\"data:image/png;base64,\n",
       "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\" id=\"image7bf46599c6\" transform=\"matrix(2.67 0 0 2.67 7.2 6.6)\" style=\"image-rendering:crisp-edges;image-rendering:pixelated\" width=\"100\" height=\"100\"/>\n",
       "   </g>\n",
       "  </g>\n",
       " </g>\n",
       " <defs>\n",
       "  <clipPath id=\"p025bd653fe\">\n",
       "   <rect x=\"7.2\" y=\"7.2\" width=\"266.4\" height=\"266.4\"/>\n",
       "  </clipPath>\n",
       " </defs>\n",
       "</svg>\n"
      ],
      "text/plain": [
       "<Figure size 288x288 with 1 Axes>"
      ]
     },
     "metadata": {
      "needs_background": "light"
     },
     "output_type": "display_data"
    }
   ],
   "source": [
    "im = ps.tools.insert_cylinder(im=im*1.0, xyz0=[20, 20, 20], xyz1=[60, 60, 50], r=20)\n",
    "\n",
    "fig, ax = plt.subplots(figsize=[4, 4]);\n",
    "ax.imshow(ps.visualization.xray(~(im > 1)));\n",
    "plt.axis(False);"
   ]
  },
  {
   "cell_type": "code",
   "execution_count": null,
   "id": "wound-quebec",
   "metadata": {},
   "outputs": [],
   "source": []
  }
 ],
 "metadata": {
  "kernelspec": {
   "display_name": "Python 3 (ipykernel)",
   "language": "python",
   "name": "python3"
  },
  "language_info": {
   "codemirror_mode": {
    "name": "ipython",
    "version": 3
   },
   "file_extension": ".py",
   "mimetype": "text/x-python",
   "name": "python",
   "nbconvert_exporter": "python",
   "pygments_lexer": "ipython3",
   "version": "3.8.13"
  }
 },
 "nbformat": 4,
 "nbformat_minor": 5
}

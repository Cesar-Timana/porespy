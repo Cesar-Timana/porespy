{
 "cells": [
  {
   "cell_type": "markdown",
   "id": "skilled-economy",
   "metadata": {},
   "source": [
    "# `insert_cylinder`"
   ]
  },
  {
   "cell_type": "markdown",
   "id": "considerable-remove",
   "metadata": {},
   "source": [
    "## Import packages"
   ]
  },
  {
   "cell_type": "code",
   "execution_count": 1,
   "id": "distributed-theme",
   "metadata": {
    "execution": {
     "iopub.execute_input": "2022-09-08T00:04:03.038667Z",
     "iopub.status.busy": "2022-09-08T00:04:03.038426Z",
     "iopub.status.idle": "2022-09-08T00:04:04.718332Z",
     "shell.execute_reply": "2022-09-08T00:04:04.717657Z"
    }
   },
   "outputs": [],
   "source": [
    "import numpy as np\n",
    "import porespy as ps\n",
    "import scipy.ndimage as spim\n",
    "import matplotlib.pyplot as plt\n",
    "import skimage\n",
    "\n",
    "ps.visualization.set_mpl_style()"
   ]
  },
  {
   "cell_type": "markdown",
   "id": "critical-lyric",
   "metadata": {},
   "source": [
    "## Generate image for testing"
   ]
  },
  {
   "cell_type": "code",
   "execution_count": 2,
   "id": "published-reform",
   "metadata": {
    "execution": {
     "iopub.execute_input": "2022-09-08T00:04:04.722265Z",
     "iopub.status.busy": "2022-09-08T00:04:04.721655Z",
     "iopub.status.idle": "2022-09-08T00:04:04.838721Z",
     "shell.execute_reply": "2022-09-08T00:04:04.838236Z"
    }
   },
   "outputs": [
    {
     "data": {
      "image/svg+xml": [
       "<?xml version=\"1.0\" encoding=\"utf-8\" standalone=\"no\"?>\n",
       "<!DOCTYPE svg PUBLIC \"-//W3C//DTD SVG 1.1//EN\"\n",
       "  \"http://www.w3.org/Graphics/SVG/1.1/DTD/svg11.dtd\">\n",
       "<svg xmlns:xlink=\"http://www.w3.org/1999/xlink\" width=\"276.48pt\" height=\"276.48pt\" viewBox=\"0 0 276.48 276.48\" xmlns=\"http://www.w3.org/2000/svg\" version=\"1.1\">\n",
       " <metadata>\n",
       "  <rdf:RDF xmlns:dc=\"http://purl.org/dc/elements/1.1/\" xmlns:cc=\"http://creativecommons.org/ns#\" xmlns:rdf=\"http://www.w3.org/1999/02/22-rdf-syntax-ns#\">\n",
       "   <cc:Work>\n",
       "    <dc:type rdf:resource=\"http://purl.org/dc/dcmitype/StillImage\"/>\n",
       "    <dc:date>2022-09-08T00:04:04.829693</dc:date>\n",
       "    <dc:format>image/svg+xml</dc:format>\n",
       "    <dc:creator>\n",
       "     <cc:Agent>\n",
       "      <dc:title>Matplotlib v3.5.3, https://matplotlib.org/</dc:title>\n",
       "     </cc:Agent>\n",
       "    </dc:creator>\n",
       "   </cc:Work>\n",
       "  </rdf:RDF>\n",
       " </metadata>\n",
       " <defs>\n",
       "  <style type=\"text/css\">*{stroke-linejoin: round; stroke-linecap: butt}</style>\n",
       " </defs>\n",
       " <g id=\"figure_1\">\n",
       "  <g id=\"patch_1\">\n",
       "   <path d=\"M 0 276.48 \n",
       "L 276.48 276.48 \n",
       "L 276.48 0 \n",
       "L 0 0 \n",
       "z\n",
       "\" style=\"fill: #ffffff\"/>\n",
       "  </g>\n",
       "  <g id=\"axes_1\">\n",
       "   <g clip-path=\"url(#p915a9d8b38)\">\n",
       "    <image xlink:href=\"data:image/png;base64,\n",
       "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\" id=\"image2c21665d8d\" transform=\"matrix(2.63 0 0 2.63 7.2 6.28)\" style=\"image-rendering:crisp-edges;image-rendering:pixelated\" width=\"100\" height=\"100\"/>\n",
       "   </g>\n",
       "  </g>\n",
       " </g>\n",
       " <defs>\n",
       "  <clipPath id=\"p915a9d8b38\">\n",
       "   <rect x=\"7.2\" y=\"7.2\" width=\"262.08\" height=\"262.08\"/>\n",
       "  </clipPath>\n",
       " </defs>\n",
       "</svg>\n"
      ],
      "text/plain": [
       "<Figure size 400x400 with 1 Axes>"
      ]
     },
     "metadata": {},
     "output_type": "display_data"
    }
   ],
   "source": [
    "im = ps.generators.blobs([100, 100, 100])\n",
    "\n",
    "fig, ax = plt.subplots(figsize=[4, 4]);\n",
    "ax.imshow(im[..., 50]);\n",
    "plt.axis(False);"
   ]
  },
  {
   "cell_type": "markdown",
   "id": "broken-insurance",
   "metadata": {},
   "source": [
    "## Demonstrate tool"
   ]
  },
  {
   "cell_type": "code",
   "execution_count": 3,
   "id": "tracked-andrew",
   "metadata": {
    "execution": {
     "iopub.execute_input": "2022-09-08T00:04:04.841657Z",
     "iopub.status.busy": "2022-09-08T00:04:04.841219Z",
     "iopub.status.idle": "2022-09-08T00:04:04.929314Z",
     "shell.execute_reply": "2022-09-08T00:04:04.928799Z"
    }
   },
   "outputs": [
    {
     "data": {
      "image/svg+xml": [
       "<?xml version=\"1.0\" encoding=\"utf-8\" standalone=\"no\"?>\n",
       "<!DOCTYPE svg PUBLIC \"-//W3C//DTD SVG 1.1//EN\"\n",
       "  \"http://www.w3.org/Graphics/SVG/1.1/DTD/svg11.dtd\">\n",
       "<svg xmlns:xlink=\"http://www.w3.org/1999/xlink\" width=\"276.48pt\" height=\"276.48pt\" viewBox=\"0 0 276.48 276.48\" xmlns=\"http://www.w3.org/2000/svg\" version=\"1.1\">\n",
       " <metadata>\n",
       "  <rdf:RDF xmlns:dc=\"http://purl.org/dc/elements/1.1/\" xmlns:cc=\"http://creativecommons.org/ns#\" xmlns:rdf=\"http://www.w3.org/1999/02/22-rdf-syntax-ns#\">\n",
       "   <cc:Work>\n",
       "    <dc:type rdf:resource=\"http://purl.org/dc/dcmitype/StillImage\"/>\n",
       "    <dc:date>2022-09-08T00:04:04.921613</dc:date>\n",
       "    <dc:format>image/svg+xml</dc:format>\n",
       "    <dc:creator>\n",
       "     <cc:Agent>\n",
       "      <dc:title>Matplotlib v3.5.3, https://matplotlib.org/</dc:title>\n",
       "     </cc:Agent>\n",
       "    </dc:creator>\n",
       "   </cc:Work>\n",
       "  </rdf:RDF>\n",
       " </metadata>\n",
       " <defs>\n",
       "  <style type=\"text/css\">*{stroke-linejoin: round; stroke-linecap: butt}</style>\n",
       " </defs>\n",
       " <g id=\"figure_1\">\n",
       "  <g id=\"patch_1\">\n",
       "   <path d=\"M 0 276.48 \n",
       "L 276.48 276.48 \n",
       "L 276.48 0 \n",
       "L 0 0 \n",
       "z\n",
       "\" style=\"fill: #ffffff\"/>\n",
       "  </g>\n",
       "  <g id=\"axes_1\">\n",
       "   <g clip-path=\"url(#pfbf7eb81ec)\">\n",
       "    <image xlink:href=\"data:image/png;base64,\n",
       "iVBORw0KGgoAAAANSUhEUgAAAGQAAABkCAYAAABw4pVUAAAbLUlEQVR4nO2dWZMc15Xff/fmvbnU2t3VQKMBgiAlitRQMkejGEV4PDFjK8Lhl3H4yR/SL/4CerAV4bBfpGBINEcUhhAWkuhGA72wa8vKvJn3zsPJzOomyNFCgCiCOBEIVFdXZVXnP8/2P0uq/6z+e+AZirIxwZXP8pDfKTF/6RuVjYmu7uInI9xODx9rXD/qfm8XNcmjOfpkip/O8LPZM/nCL7v82YAoG6PHQ/khtt3zrh/hDXirmmci9E4PPUiI5iOiokLNl6/A+SPyZwGih8PucShKmFhCbKj6EVWmcD0Bwy4DdlEDEM0LANR8Kf9f30MnNwDwH/z+6/8FL5n8yYAoG8v/SYwaDgjXM87fGVOM9Ze+XpceXdaE2BCdzDptUqVDlY4QW8J/+Gv0rz565XMuyB8FxNy4Thj04OQMlST4yYjVtQHFOCLf1ZRj1b12/Icau/QA6LLGnCy634XY4ocpAKqsqAcJANFr+9SfHb4CpZGvBKR12mHQo5r0Kd/aRruAa8xTMVZ4q9AOvIXt2/X6oI25UqXDDzPK/RG6rPGxOH0fpxRjeZzFE5LSUT8+fgUKXwHIF8GoBpb4rESXNfEpnP5oiFmCt4Gqp4jPA9nRChDN0LMVar4kFAUqtvhYUzURWB1ripGm6slneRvj4+ukgx7h4Og77/C/FJA2nK0HCdXAokuPj6PmnyaZerwB19PE5wG79NgHTwAIg574iEEPBdTDFG8VxTjC9RRVT1H1oMrA5FD1FK5n8XabLDGoj+5+pzXlKUDMm7eoJ8MOgFZ8vHbeUekB3fmL5LymenggSeHDEnPjOsSWMOihZyuKtwcs9jXegjdQ9QLBiKnTTkyftwbXG9Mf/BXq//32+f/lGyqXAPkiGC0IVT+ijjW+ebW3iuS8JmouZDN3AKg0uXR1h0Te0IbDVQZ1FppjBLAQDIBCO4XracrtGPOffkr0y/ef05+82XIJkBaMamC7BK8FQhx4wFtFbRXzfXlrcu6p45Ton36GWdQkD06gdE99kLcCgrcB7eTYwQQ8oCqoMkU5Vtilpo41ozdvUd178Jz//M2TDpDonbeoLoBRN9rR+gqA2qrmxApAqwlUvQizDCTn8jofXyH7+MmlfENMk2hHlKtGK0BVLTByzKoHxVijHUx/co3+dzAc7gBZ3dq6xEVdjISqnoS3Zhk6p9yar3LU0iUauwwSzv5AQAHwwxTtBBA71biRv6QhALUJgPgYs2zzGo39+XvYX/z6uZ6ATROx4DbuuCjgUva9miiKiSeYQHrU5BGN+QkG6gxAYZbiK5JzMWt+mAFQ7qRUPdVpSSvaKXzz2GceXwU0iuW1QHoirwfxa98l0yWApMkl03RRdNU8GDnyrEbPTHeF15knZDVgiaftSdck5zV6lhNiSzGO0C5QjtT6WECUr4+hc43PJHLTyPPeQjGOSIbZdwqUDoHhvQWRExNilwG7DJglmKWYmugoQc9EhbwNVDuOYAMqF61pzRtI1OX2tyj3R3grzlpXcqz+ZxpVyTGiXBGfRkS5QueaYAJ2qqiyRjPHmvzmkBDbjkt72cUA+NkMczIjOxau6aJTb6kReaxEK2xAWU88KvB3BpilIj0OaAejBwX5XtppnLcQn4vvaY83+BSW1xTxVI5bZYp42miGgWLiiXJJIutYs7q1RVa674SWdE7dH5+Sxra5qhuao+GqtFON40XAcIpgNIVLUMPG1DiIXKBqfFELBggI6XG45Ee2b3tcEywAXfQ2v7k2Z20i6a2ingwx5XWqhwffzJl5QXIpD1GlEy4q1rgLJqjVkjprwMhqqDTKKVQlSd1yH9JjcD3TnWTtYHDoMHNHuR13PqrNabRTJFNPlSkiJxdAeqJYTUKTQK5zIeBSQexllc6HhFUBDSCtRC5QjsVZB7MOU6k0GDFdsL7q22iq6sl7d/55Rvr+PeyDJ/TunKErCRK0Cyz21yG2dgGTCyem3fqzVpOwBjGOCLG9VCR7GWUNiCvx0xnR4emFMqyIt4E6kyC1NVmAgLJTstoTELULZMee/iOPyQOqrFCJ1D3UfMnwdyfN8SSpnN9UVNnad7SaY6eKKNcEA6tdRTESSsUPU/To5QbkkskKq4JqNiN9fIz5+x9jT5fUdpsqU2gX4UaiFa1mRL2KLCsZ7X3O0WREeT9jeS1idDeQTJssozEzIbaExGAXNQf/aAg7K5haIGLwaSByoTNj4uwVbhSoMpoimAEyerPeS93ZchmQ5o9UaUL84QPKH98icoH0RE6KdprVngAymCy5tX1Gz8h7Vs5wNkwwM81yX1GOI+xiQAKooiIkhnqQ8PinMWFnRZw5KutZkQARvUeQnYR1Elm19RbQVZt4aqpJn+gg+W4A0kpYFejRkOktMTdtZRDAzDTuquPqcA5A35RkkeOjaq97f5XJv8+/b9li0Dn1h//REF5bsj1cktqKlTMsTM2KHrqK8FZTji58DxOoM6icYrWrqHoRkLL1YPjSFrK+skCV/+g6q13V8EvyvL/w6lVlmKQLFlXM/7n7fUDIwmDAZcJXzW9C1YuJzy3nb0P6g3NG2YqVM5xM+wBUVdQdezWRBLLYCaiqOd5OCVPJj+LzJqhoEsWXUUu+tEDl9rfIdw1mKVHWxatWO4XKI6Z5Kmbq/jYA6VGEG4WOTvFNJFbd8DC16ElBbIQ7WeQJxTRBWY+24mvanKXqBapRjXIKM9NUiOmKH62/Q3iJw99LgES7E2lK2BaaomVpO9KxIRkZORbTlMXUEuWa/mcSHcVTMSvFTkPXZ4r+ZEluPcbUbGVSdy9zizmVk1rvFYSsxo1Ux5HpXKOdEub3YYJZtrR/IDmvhdpPX04/cplNnGx37Tmwzi/cKFBMPD7zxHtL4swRnCbYQHKqGH5aM/qkwiwDvcPA+F/ATlVX7wCwtubew10Atnfm1HuFVA2BwURsYlvAinLVhdnxVNF7JOH04LAiPl1B6Qirgmh3grlx/aXKTb7Uh9SxxvWEFKyERcdnnmhUYm3N6uMxBqE4zBJGv3lEmM3RP30T148oRpr0JOCtZjFNCU6zPEoJmefu/asMJku2d+YsMgE/NhXuxoL6/gBViVmMT6OOkPRW6vbxmWiEn4pDV0ki/uT6HmY+fClaiZ7i29tMvbXprakA8E6T5zFRrrBTxeDTwNYfHGEmEVfyaH7J8aeSB5KMCoIJ6FxDpYlNxf5wxo2dcyajBYtcgKn3ikvvFZMZuq6VfC9FlZVox9VdiC1+mBESQxj0iK7ufuu15TKXNV+iEkNUerTTnQ/RThGMggzqaUyay+vtsgHqjX30/UPqQdJ1ooBmflPMU2orTqBz5O9dOeTvxn/gN/PXyWvLkzTnbJVxVI2obhT0Pkol/2hMZnweGiIykN8cYnZ+jD6cdk0UIA0VIRmhY4tKYurjk+d97p6LXAKkeniAiS3aDbqTXfXUOgSdWsYfRx0zC3IFAzDZxscRy11D1ZMQtnx3yfeGYl5SU/HYDviH1+7yVvYYgH4kGvF6/0yOsQMn0z7FTkJyuvY/7Wflu5ocjbcW3kvRLnD1V+t8RPguI6Ccz76V5uspH1J/dkgaW2ALdg3VUgGKwkD/nu5CYd2ws7r06NmKkDRd8D0BMX+t4kfXj7rjZsbxD6/d5Z+2f8ON6JyH9Zh5nXJYjnmw3JGMPxXg7p5mZEeXWWMhLS/4NAugePyzIbu/bYKCtpdsEGOT7xG+hd31TwESXEk4OMJM+ph+1CRjivQY7FJqGG2zg7dg5uursBhHeCsn7fobxx2tArCbLOhHBT9LTrga9aE45zbXOS4HnKz6rCrDysnXiUYlq0lE75EEDVHjR2CtLW2zxOfveqpen/S46aDsTGYP+94Pv3UjD18aZfnZjOj/36Vf3oKbfeyyBUNjm2YG7ZordhDDQPKWtk1otVezneYdrdKapv34nP+1fI1hlHN79T0OyzEAj2cDnIuYjBasnCHLSgoyvJXP9V2hTNpPF29UqKwiyhx1bilHUcMm6I4xrmNN1R/Sn3276vFf2f3uZzOi+4cMyivUg0Sir72saVqQliBvpcXUzB35njjiNqvvNWAALOqEflR0ANyZvsMni23OVhnTPGV+0kNZz9SmjLIVZWUIRgAoxrrzZ61mAgSn6e8UVFVEna3rNmYJVVNDic81+gdXiL9F/V3/5nxIfXxCNNnG7/Rk3qMZM3A9jetpknOPmTuqwZrK0A70pGA3kdmQflSwqBMWtYS2d/KrfLLY5nA2pKwMzgmX1VIoIHnJ0oqZWu0qSrd28MsbQqvgIs5nPbzTKBu6uko5WrcciZmzDL5F/V1/dGDH3/0EM3wbH0eNv4ilZbQpq0bzQhxpX8xGdTNw6+opeb0GqX28qGL+cDZhkScdqQigrMc7DY3DXuQJwQTKkZzY1pG3fcEghbJ6GnfFsjoLTeM2lDs1US7myyxl/jH+2x8Tfv3h1zpZ34T8UUCCK4lmK1RiCLEh/vBBN0kVYnm7LmuiMupMRWYciypmWcVcSSVpXFQxHz3ZY340aD55rRGDybLTlLe3nvAvwMGpoNBe7R3pmFUwtZhphLeB/mdryl5qKPJYMv6mY7LRbHNj85sk/qQZw/r2HfR7PwSQ+cLZHD3Lu+5EXdZdI0LvkeL3B1IbybKSQzNkK1vx4PEO/iTB5Fr6sJyQlWpvhXORZO2pmLm/nhzw6KOrcuwvNlhg0FXbUiTtR/3DteZoFzh7R2iX8R/qBiQJPvRg86uNf/LQZ/joLtXf/xgYomdzKB3+gwfo4ZBoNMTupPQfSU+w+bhHuVMztzEqqyhHhnoaoyu1pmGscGGV00x2pvzjlTsADKMV//Ozn7D11qnQ9A/7l76HcgqfeYIRer5t/M5OPFHpic9KRrcL8ptDaUUy0DFE+6ONz0/+dEBcSfLgBLe/hZ5sU9/9BJBozM9mZIC5dQVvUnqPNBA1/b8RxUPp32q7VqSTSxjd7Z05b289YRgJNT+rU7bTnN8d7dMfrei/dcr5rEe9bL5qpUl2cqHwj1KW1yCegj8HuwjYw8+hdKSxIW66+UH8iHaBepBg3nmL+vadZ3UOn6n8WXPq1b0H6ImQd19U+/rxMerhAaP3foiuxpTjiAoFTojClYsodxriMvP4DHZufM5/e/1DhtGKWS1VwXmd0DMlb944JjOO1/tn5FcsHzzZZ5EnTEYLUlOxqgwHbgeVR+gqohhrhvcWFLcmJA9OiA5P0YMepqG0UoSr85MRfphubL/wn73JIfz6Q9SN608/70qUjVFFRXLmJAdoop7+YU3/EM6/H7G8UYPx7OxNee/KISBa0WrIvE641TvlVu+UQVR0YP27Nx8yq1Pu5xMWVUzflEzzlDyPKfIMs1QsbvZl3K4BRc2XMtIN3RYJVRToJJEZyA30J3/RrpMvi1Si3QlqOMAnBh/rZm5QmNq2690sIT6NsO/N2B/OeCOTy3cYrRhEK+Z1yg+yI+aNtrTP7cefM9I5wzRnGK24k1/luOgTm4qcmGpUU/UMi2ua/iMZy64nQ5kGboaGaFjgUJSEohRgxsONY4X/4uUzrbRAhNhSD1OqQdxwWm33ibQPtR2N5U5NlcewDT8f/o4DJzX5qc+4boX1HWnh9w/cNoNoJWBEObM6Y1an7MVTbp9fZZEnGFPjncIbaVXKjoU98HGEauj5kBgp+w4HwJxQlBsHRCtfGxA1HFDcmlBsWxbXdNeVCBKqehs4+5GMIbTdK+Eo5Z+XN/gf/X/PTwYSHNywp8zqjJ+ln/KwHnDgtjuArtszbkRzflXfBOB+PpEw2mmC010YLNXFdVZfDxIipC8M6GYfw2pdCNs0+dqAULpu+QzA+btVl7ypSuGHFVSa2V9VJA+FhPSZZzBZclz0YSAaMaszhlHO790uD91Od/h5nTL1GSQHTH3GUTnqOLKQG8w0kiSwEq5LCE6FjyN0WXdNeqoFo/hyn7Ep/uRrA1I/PkY7cfLlWAmVkUG8J+pQVRHG1Fhbc/WNx0zSBctKgOmbksNyC5pZnKnP+Djf47iUbD6LHHvxlOv2jAO3Lb8r+nxwcF2oFuNRVUQ8VV3PlrfrSbB0XnZVxRBbwjBDFcVTFUU9HKKu721EKPy1AQmuJPv4CcX4mtQuck1lDSXQH626MPX1wRlZ5Mhry26yIK8tWeSY1wmH5RbDaNUVq1rA8sqyd2XK7dU+w2jF+6c3+TxPKaYyzRU51bHCrdhlIN/V6Eey5KaVdvGNThJCcdlk6dGQYn+ETV58/eTrmywkP8luTWTwf6TwVuONxrmIE9fH2rrLKXbjpgW1YYEBjsoRR4zIa8uyijlbZaSmIjOOo3JEPyq4n094eCr0vZ4Z7FRj8rabcV1ubun5fKLJjqRsoMqqM2Eg3Sp6KO2obVNE1Y/w8QD7wbM4I3+5PBNAAKJfvs/gv/wt5TjGW43DUCBMblVF/D7f42wnYzvNeb1/xnHR5+F8zMm0T1VFZFnJre0z8koy68/zFDI4Lvr8dn6do9MR4Sil/5mmt5QmbLOUfi3X013b6+VajZR07WnVLcXp9nYlMZp1h0rb3aJfcJXxmQECEP/vDxj2/wbtNNVUs5pYqqHHI3T5odtitWM6DTi4v4s9jQhZYEnKnYZkTI00Yj88HXMvl+a6+H5KPBWNkEJU6Goeg0OHt5blNdU9F58HfKyJT1cSZd17iNrdkQHSxsGrZD1IqkuPtxHFtRerJc8UkOBKRr95RPV3+90Er3biYMuxYjWJOEN8y1EekxzJx5ulNFlX0yF39zJx1nmEqhQmlxbTtntRV7L8Zr5vmpLuenK4HV2AhrYvfedH/GyG3pXoLcS2Y60BQlGQfPyI6ic3cP2IdHfywvKUZwoIiD/pN3lJ1PbqutD0eSmWJMydRuUR8ZRmLceaPl9MjSSUPSk4pSfymq074ojb7ae2CXFBTjxI22l6vO6K6Zr+7n7ypWPV7XRXKArqx8ekvzim/Pl7hOtX4AUB8uULE7+mRL98n+TMNUAIdWKXHrOUhmxzKk3a60a80P0zy9DMIaqm1/cLGyBK3+U8ydRjF7WUl3PpK24nfrtVg7N8nV80+1c6afyJP5feruBK7C9+Tfjo7vM4LX+SPHMN6Q78fz9E/9e/6X5uu0eqpcwVljs15Si6dLK9lShJ5g3XjQ3dMeclszf75LvSH+Z6CruQ3Y5JHJGcrTXIG8j3UmCLaJihZ7k0aTe7H1Vpup3CcJm9fpEJ4nMDpPUn059cW39YHhqnrICo2yg3ez3q5tjLEZRvrNDW408SWiX2sWZxs99N77bh7fR1S/LIyDxk0x3TLug0S8gnPZLzFLscEp+V67W1DZ2iknijqJTnBgiIP0luTbp9i3ZRCwnoxH9U2bo8u5pAeqIwOdRHCd4GFPD5u56t32mKccRiP+o2EZlcTFl24nE7PfFZpZedjuN1ICErP2T7nS5r4bfmxSUqZRMok1aeiw+5KNEv3yc9yjGLGl16GSs4D18wVaEhIqEchabS2JismRCW59+PZBWUWTc+9A9rotJ3m+/aBZutXGzYLsYR5U56aW1hKIqN0g54zhrSSvj1hyTN+sBqENM7rgAji2ma2now7SyjopkFlvcaMWMyb3K5nTTf1dhPfPd8PlmDcZH17XYL7xqy40q6Zb5k690myHPXkFbqzw6JDk+xp0vMQhYux+ehMT2K5HSdacdTyT2q4bpVqO1M7H4eiR+RfCQ0C9eksW61q1i8FrphH29l2U1tFfHpSprDi6/WjBe5eegb0RAQJ18/PiYCLFD1pSvELCHf89SZIsol1G1nDePTdRTmzXqrkHYQN8+vdhXZSdQB1pq07EjqMl0H/cWerfkSX5SEVfGU/4h2Jy/Ur3xjGgJrUPQsJz4rsUvPagJqb4VqiFntVNdUbfKmzpGLyWpzjPhcsvaulzdrF3TKa9u1T8Cl8rFdhn9TO6LdSZcsvij5xjSkleBKqnsPsAA3ruFGHr80pFPVRU+ttEShXcpyGpnsauseTZUwD+QT3YHVhsPt+4ELjEBNuT/CHhxd4rE6bZhsv3Df8o0D0knpWOxH2CkwjZuTL79qmdfhpzV2UROfruQOC4AfZt3G7f5BSdWPupq9+CABrDVh7fah7GQNpt7dof5MOl7ae6GEokSVjuLWBHt8+s2eiwvywgAJg16XJF5kb0Gu7N6xE+d/ukQdPMEXpVDmpaMeXLm0g0tWEzbLmntrX9JKch4aisVj5mXXAhu9ti8dmM1NZsI7t6RB4gWu7XhhgNS37zC4tYW3672+rfSOK+G2mvuP6OEANaTrbFncaKp/7f6tKnRatby2Do1NLlqXHVfd9m0QfqtyJf74tDv55sZ1fFnJJPE3dxqekhdnspD6yejn7zHfb0g+C6NP1iduvfJ869K2baCj4dei0VVg+3YtieT3WvIydDeXAaRI1fiJFoxodyKNc0X1wuvqLxSQth7v7VWKccTWx3lXcr24UaKV9v4lLRh1rC+BctFMje/KErWWGQapsavGRD0VUW1IovhCAQHhu3qxpX53gj38nDCbS8171iwFiI2MEpSeqh9dAuDpx+sbBrQ3ADC5LOY0UouSNYGj4VOL1fQs34he3xcOCIg/GZ6cdcmaHouL1jOJqnQZXRqba6WbkUe621tQQJJL15PsfLUbke6aLjFsi13tbZn0LO+irhctGwEIyDyjHg4leWwey35F2U5UjCNqq7BLISjbKmFLLEal72Yf7dJfGqWWDH9N2R+/l3Y3osniiOTBycYwvhsDCHAp3OweT2Re7aI2eKtwfduZp+yJoxiL048uvC45F/DaoGEdVsuOx+Rcbq+xCaaqlY0C5IsSVgXRyZR4kFDHKboKsvl6HHVrZV1Ps7ged/X1yLXd9uuu+3Y3MAgokQtkxxXZx082CgzYdEAaM2JOFkTNUrUqa8BoEr12ZdPpu72OYoF1WGzmrhvdTpoV6tnRCv2rj6g2xExdlI0GBGQWJdqdkDajDnV8mQ81Jwv8MBXi0IkG6YoOMKC5u9w6D6lv3+GZ3pH5GcrGAwLi8M1wAAw7J96e7HJ/hD1dkpyvlzkDsnmOJvdo7sNbPTygfvrwGyXfCkBA8hXuQbo7gcm27MeK285205SI666JQc9ywmyOP5/hN9A0fZV8awBppT4++dImNtPMd3R37flmv9Yzk2+0QPU8ZVPyiK8rLw0gL4u8AmTD5BUgGyavANkweQXIhskrQDZMXgGyYfIKkA2TV4BsmLwCZMPkFSAbJq8A2TB5BciGyStANkxeAbJh8gqQDZNXgGyYvAJkw+RfAcpYkEQz38jFAAAAAElFTkSuQmCC\" id=\"image344360776e\" transform=\"matrix(2.63 0 0 2.63 7.2 6.28)\" style=\"image-rendering:crisp-edges;image-rendering:pixelated\" width=\"100\" height=\"100\"/>\n",
       "   </g>\n",
       "  </g>\n",
       " </g>\n",
       " <defs>\n",
       "  <clipPath id=\"pfbf7eb81ec\">\n",
       "   <rect x=\"7.2\" y=\"7.2\" width=\"262.08\" height=\"262.08\"/>\n",
       "  </clipPath>\n",
       " </defs>\n",
       "</svg>\n"
      ],
      "text/plain": [
       "<Figure size 400x400 with 1 Axes>"
      ]
     },
     "metadata": {},
     "output_type": "display_data"
    }
   ],
   "source": [
    "im = ps.tools.insert_cylinder(im=im*1.0, xyz0=[20, 20, 20], xyz1=[60, 60, 50], r=20)\n",
    "\n",
    "fig, ax = plt.subplots(figsize=[4, 4]);\n",
    "ax.imshow(ps.visualization.xray(~(im > 1)));\n",
    "plt.axis(False);"
   ]
  },
  {
   "cell_type": "code",
   "execution_count": null,
   "id": "wound-quebec",
   "metadata": {},
   "outputs": [],
   "source": []
  }
 ],
 "metadata": {
  "kernelspec": {
   "display_name": "Python 3 (ipykernel)",
   "language": "python",
   "name": "python3"
  },
  "language_info": {
   "codemirror_mode": {
    "name": "ipython",
    "version": 3
   },
   "file_extension": ".py",
   "mimetype": "text/x-python",
   "name": "python",
   "nbconvert_exporter": "python",
   "pygments_lexer": "ipython3",
   "version": "3.8.13"
  }
 },
 "nbformat": 4,
 "nbformat_minor": 5
}

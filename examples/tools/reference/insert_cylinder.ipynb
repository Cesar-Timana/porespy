{
 "cells": [
  {
   "cell_type": "markdown",
   "id": "skilled-economy",
   "metadata": {},
   "source": [
    "# `insert_cylinder`"
   ]
  },
  {
   "cell_type": "markdown",
   "id": "considerable-remove",
   "metadata": {},
   "source": [
    "## Import packages"
   ]
  },
  {
   "cell_type": "code",
   "execution_count": 1,
   "id": "distributed-theme",
   "metadata": {
    "execution": {
     "iopub.execute_input": "2022-08-22T18:55:32.768276Z",
     "iopub.status.busy": "2022-08-22T18:55:32.767825Z",
     "iopub.status.idle": "2022-08-22T18:55:34.663303Z",
     "shell.execute_reply": "2022-08-22T18:55:34.662537Z"
    }
   },
   "outputs": [],
   "source": [
    "import numpy as np\n",
    "import porespy as ps\n",
    "import scipy.ndimage as spim\n",
    "import matplotlib.pyplot as plt\n",
    "import skimage\n",
    "\n",
    "ps.visualization.set_mpl_style()"
   ]
  },
  {
   "cell_type": "markdown",
   "id": "critical-lyric",
   "metadata": {},
   "source": [
    "## Generate image for testing"
   ]
  },
  {
   "cell_type": "code",
   "execution_count": 2,
   "id": "published-reform",
   "metadata": {
    "execution": {
     "iopub.execute_input": "2022-08-22T18:55:34.667537Z",
     "iopub.status.busy": "2022-08-22T18:55:34.667042Z",
     "iopub.status.idle": "2022-08-22T18:55:34.791110Z",
     "shell.execute_reply": "2022-08-22T18:55:34.790561Z"
    }
   },
   "outputs": [
    {
     "data": {
      "image/svg+xml": [
       "<?xml version=\"1.0\" encoding=\"utf-8\" standalone=\"no\"?>\n",
       "<!DOCTYPE svg PUBLIC \"-//W3C//DTD SVG 1.1//EN\"\n",
       "  \"http://www.w3.org/Graphics/SVG/1.1/DTD/svg11.dtd\">\n",
       "<svg xmlns:xlink=\"http://www.w3.org/1999/xlink\" width=\"276.48pt\" height=\"276.48pt\" viewBox=\"0 0 276.48 276.48\" xmlns=\"http://www.w3.org/2000/svg\" version=\"1.1\">\n",
       " <metadata>\n",
       "  <rdf:RDF xmlns:dc=\"http://purl.org/dc/elements/1.1/\" xmlns:cc=\"http://creativecommons.org/ns#\" xmlns:rdf=\"http://www.w3.org/1999/02/22-rdf-syntax-ns#\">\n",
       "   <cc:Work>\n",
       "    <dc:type rdf:resource=\"http://purl.org/dc/dcmitype/StillImage\"/>\n",
       "    <dc:date>2022-08-22T18:55:34.781400</dc:date>\n",
       "    <dc:format>image/svg+xml</dc:format>\n",
       "    <dc:creator>\n",
       "     <cc:Agent>\n",
       "      <dc:title>Matplotlib v3.5.3, https://matplotlib.org/</dc:title>\n",
       "     </cc:Agent>\n",
       "    </dc:creator>\n",
       "   </cc:Work>\n",
       "  </rdf:RDF>\n",
       " </metadata>\n",
       " <defs>\n",
       "  <style type=\"text/css\">*{stroke-linejoin: round; stroke-linecap: butt}</style>\n",
       " </defs>\n",
       " <g id=\"figure_1\">\n",
       "  <g id=\"patch_1\">\n",
       "   <path d=\"M 0 276.48 \n",
       "L 276.48 276.48 \n",
       "L 276.48 0 \n",
       "L 0 0 \n",
       "z\n",
       "\" style=\"fill: #ffffff\"/>\n",
       "  </g>\n",
       "  <g id=\"axes_1\">\n",
       "   <g clip-path=\"url(#p967db42912)\">\n",
       "    <image xlink:href=\"data:image/png;base64,\n",
       "iVBORw0KGgoAAAANSUhEUgAAAGQAAABkCAYAAABw4pVUAAAF8UlEQVR4nOVcyXEjMQyEVIrCbwfgILbKCWyyykJRyFG4vC+qRmMeOBrHaPtneUiQBEGc5OnP6e8PDXC930b/IiKiz7eP4f9WbVftpf1y+2rtNbR79Fs/nPm276/325D+acaQESHp5GeQLoxlPChwF3+F3rgvmkYagohJoBaiMpYSgsZI5Lnf7xEtHXtYN8l+/GdTb8oBII+8V5Oa5ZHlBatkRGE7jghpDJcQDqTMuN5vLgzM2BQlGfK/oCdxL8UQ5I7OOjLTdEhFaI5KNEoypHmzaFj7nHnYKJQ9slChjdXvFngwpyxDLPA8/711iytDmjma7VN40tdKyajdUIdYHaJXZoKnLjnvd3BvRyOsj2wGHQUPCam2YNXGE4Uwszc7KsvBKtkUMQcWQyou5n5MSInaMoYzd43fNOr79P31Ps2HIPwBRFZwC08jw7L5NJtiT2/IkGypmE0O7TRm0ejReknHEIFIo2Jr2ZZkSBULC3EESelBjixkJYjnWa9ldOTx1ZUQSc77KDkIS98RjGy1Bmo/BBHKjgKqBEkjKdI2vxiCsK6yLTQiH4ZH5EMeOsSqMxqQJT4rjGhJ9VC0bpnhgmIEUb5kaP0MLWO4dcISyVrqEMkgI0S6Ry/bTO7NexYxn63RtJTUW5QzF5ITC5PWJmsk7VfoRFP9riGE7j8CVh0jodHgxpAesRUqM8cbba1E1e/SBUPok1lu4mgM5EicKJaFVtjbIoiISKwHuGOBWVlHR28hPG9AWXEhkl+i4cJqBluL3ka0rXcjV31Yvr2sKkSyjgf0zSRpOy59tB6DOoaj9ty8NIqm5yaS9i3N/ZdIUKEulkqvy82MiV4/VmZwEKLUJbpEY21Z43Gj8WUc1ylWVoT/sA/8rWhyA4Ue2NJclgGhCXKOCEncqAfP0L6E3szkFhdboyA5qnpHEDJfL4GXxKz6K+8YHjUepmVkysMBXsiqeNxKtsTS66GE2Utkr2fiMsObKVakMGQ/+Oh62spIkxDLjiXS14RpGRh1Nc+k1LOsITQjJBFhTSBW4hg/ElTR+QjP6woSWP0ZTsWJhN5l/6HHNYAeYQukAbtKWI11mML1CsFLvFovWhzaiLwIrNi6EbLa1NnIrHzR9lnCU6/AdORdEAuDw99c3CKq0tFDAjyYQZTsqUdJRlSAEMH4KUNmBDTlO68AT2YQMSRkVQTR/q7OHM97L8h5PyWopE7ODF4JHgs8iic4EQoJXTcri6Owvc3N7HSsBo8jK9oxq3y8aYFYQ3c/ZC8pUReAjmrBnb6/3n8Q570HuJFU7fce47HSO2saRUCzuNzorGZhIyTu8+3j+QGzCiEMIv+d3mhEbETpmj75IZLctBes/UeGSTzQdQxXjPGKAleR0C2ix7QMnUQkrNDgSElFvUm0ezhglke2VH5nTH42ZmvyyeuCExHAD9mmfmc3lpBMiWJwmxOnULtcXRa68MHyDRLRN6nYDInclaPfpWPgRKqRQPQd8pCyZiGld/2qYHV8rfRPiZx6DyhGZDAXklNHlL30EFGKc3Rs5/5UKBe9AFX8mGwTfYsnpR4Zsq7AjN44Msa1NViGby56VJZrnEvEjq3AfA6u99u8cpHz27azGY6yKES8sVql3HTp80iL2UPbLKh5bPuRSHHveNy3LXOlrQe0gs1S2BJpYoXfERPJtl4aPEqBZostlcrua0A9rDzQDLNZC6k3rYWmDEr1kkOUcvdksMaalCywdo2elDrXQbKEmyVte4sm8eijHT5YXZalvEXbVtJu9a30uKxsNZ5nSSUOtMofXZy9t2SiriA0SOYz68vlZWsNPHftLOTNreXS9r/Cvm0ZhjR4Zh6lOXZLsbh2Hq4vW2thYUrE1QavVAURw1PPin4ikaXENfM4dMbQcjFGC28a7OCidiCeHjxCIaPpWcGWEItlctSChYbIcXefGieSBcy4Zl90vMsSTcgCK5aFvjgTNeFqcTMO2MFF7iJrPHxPWOt7vWDKGHog6vjabxStIeCRLOvRKWv2ouGRmLL222PKPypxYD8KJF+UAAAAAElFTkSuQmCC\" id=\"image4eab5d43e7\" transform=\"matrix(2.63 0 0 2.63 7.2 6.28)\" style=\"image-rendering:crisp-edges;image-rendering:pixelated\" width=\"100\" height=\"100\"/>\n",
       "   </g>\n",
       "  </g>\n",
       " </g>\n",
       " <defs>\n",
       "  <clipPath id=\"p967db42912\">\n",
       "   <rect x=\"7.2\" y=\"7.2\" width=\"262.08\" height=\"262.08\"/>\n",
       "  </clipPath>\n",
       " </defs>\n",
       "</svg>\n"
      ],
      "text/plain": [
       "<Figure size 400x400 with 1 Axes>"
      ]
     },
     "metadata": {},
     "output_type": "display_data"
    }
   ],
   "source": [
    "im = ps.generators.blobs([100, 100, 100])\n",
    "\n",
    "fig, ax = plt.subplots(figsize=[4, 4]);\n",
    "ax.imshow(im[..., 50]);\n",
    "plt.axis(False);"
   ]
  },
  {
   "cell_type": "markdown",
   "id": "broken-insurance",
   "metadata": {},
   "source": [
    "## Demonstrate tool"
   ]
  },
  {
   "cell_type": "code",
   "execution_count": 3,
   "id": "tracked-andrew",
   "metadata": {
    "execution": {
     "iopub.execute_input": "2022-08-22T18:55:34.794433Z",
     "iopub.status.busy": "2022-08-22T18:55:34.794065Z",
     "iopub.status.idle": "2022-08-22T18:55:34.891194Z",
     "shell.execute_reply": "2022-08-22T18:55:34.890602Z"
    }
   },
   "outputs": [
    {
     "data": {
      "image/svg+xml": [
       "<?xml version=\"1.0\" encoding=\"utf-8\" standalone=\"no\"?>\n",
       "<!DOCTYPE svg PUBLIC \"-//W3C//DTD SVG 1.1//EN\"\n",
       "  \"http://www.w3.org/Graphics/SVG/1.1/DTD/svg11.dtd\">\n",
       "<svg xmlns:xlink=\"http://www.w3.org/1999/xlink\" width=\"276.48pt\" height=\"276.48pt\" viewBox=\"0 0 276.48 276.48\" xmlns=\"http://www.w3.org/2000/svg\" version=\"1.1\">\n",
       " <metadata>\n",
       "  <rdf:RDF xmlns:dc=\"http://purl.org/dc/elements/1.1/\" xmlns:cc=\"http://creativecommons.org/ns#\" xmlns:rdf=\"http://www.w3.org/1999/02/22-rdf-syntax-ns#\">\n",
       "   <cc:Work>\n",
       "    <dc:type rdf:resource=\"http://purl.org/dc/dcmitype/StillImage\"/>\n",
       "    <dc:date>2022-08-22T18:55:34.882730</dc:date>\n",
       "    <dc:format>image/svg+xml</dc:format>\n",
       "    <dc:creator>\n",
       "     <cc:Agent>\n",
       "      <dc:title>Matplotlib v3.5.3, https://matplotlib.org/</dc:title>\n",
       "     </cc:Agent>\n",
       "    </dc:creator>\n",
       "   </cc:Work>\n",
       "  </rdf:RDF>\n",
       " </metadata>\n",
       " <defs>\n",
       "  <style type=\"text/css\">*{stroke-linejoin: round; stroke-linecap: butt}</style>\n",
       " </defs>\n",
       " <g id=\"figure_1\">\n",
       "  <g id=\"patch_1\">\n",
       "   <path d=\"M 0 276.48 \n",
       "L 276.48 276.48 \n",
       "L 276.48 0 \n",
       "L 0 0 \n",
       "z\n",
       "\" style=\"fill: #ffffff\"/>\n",
       "  </g>\n",
       "  <g id=\"axes_1\">\n",
       "   <g clip-path=\"url(#p8c4d6af984)\">\n",
       "    <image xlink:href=\"data:image/png;base64,\n",
       "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\" id=\"image78aca20635\" transform=\"matrix(2.63 0 0 2.63 7.2 6.28)\" style=\"image-rendering:crisp-edges;image-rendering:pixelated\" width=\"100\" height=\"100\"/>\n",
       "   </g>\n",
       "  </g>\n",
       " </g>\n",
       " <defs>\n",
       "  <clipPath id=\"p8c4d6af984\">\n",
       "   <rect x=\"7.2\" y=\"7.2\" width=\"262.08\" height=\"262.08\"/>\n",
       "  </clipPath>\n",
       " </defs>\n",
       "</svg>\n"
      ],
      "text/plain": [
       "<Figure size 400x400 with 1 Axes>"
      ]
     },
     "metadata": {},
     "output_type": "display_data"
    }
   ],
   "source": [
    "im = ps.tools.insert_cylinder(im=im*1.0, xyz0=[20, 20, 20], xyz1=[60, 60, 50], r=20)\n",
    "\n",
    "fig, ax = plt.subplots(figsize=[4, 4]);\n",
    "ax.imshow(ps.visualization.xray(~(im > 1)));\n",
    "plt.axis(False);"
   ]
  },
  {
   "cell_type": "code",
   "execution_count": null,
   "id": "wound-quebec",
   "metadata": {},
   "outputs": [],
   "source": []
  }
 ],
 "metadata": {
  "kernelspec": {
   "display_name": "Python 3 (ipykernel)",
   "language": "python",
   "name": "python3"
  },
  "language_info": {
   "codemirror_mode": {
    "name": "ipython",
    "version": 3
   },
   "file_extension": ".py",
   "mimetype": "text/x-python",
   "name": "python",
   "nbconvert_exporter": "python",
   "pygments_lexer": "ipython3",
   "version": "3.8.13"
  }
 },
 "nbformat": 4,
 "nbformat_minor": 5
}

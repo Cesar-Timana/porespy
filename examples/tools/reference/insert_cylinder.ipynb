{
 "cells": [
  {
   "cell_type": "markdown",
   "id": "skilled-economy",
   "metadata": {},
   "source": [
    "# `insert_cylinder`"
   ]
  },
  {
   "cell_type": "markdown",
   "id": "considerable-remove",
   "metadata": {},
   "source": [
    "## Import packages"
   ]
  },
  {
   "cell_type": "code",
   "execution_count": 1,
   "id": "distributed-theme",
   "metadata": {
    "execution": {
     "iopub.execute_input": "2022-08-12T21:54:32.585882Z",
     "iopub.status.busy": "2022-08-12T21:54:32.585593Z",
     "iopub.status.idle": "2022-08-12T21:54:34.460520Z",
     "shell.execute_reply": "2022-08-12T21:54:34.459768Z"
    }
   },
   "outputs": [],
   "source": [
    "import numpy as np\n",
    "import porespy as ps\n",
    "import scipy.ndimage as spim\n",
    "import matplotlib.pyplot as plt\n",
    "import skimage\n",
    "\n",
    "ps.visualization.set_mpl_style()"
   ]
  },
  {
   "cell_type": "markdown",
   "id": "critical-lyric",
   "metadata": {},
   "source": [
    "## Generate image for testing"
   ]
  },
  {
   "cell_type": "code",
   "execution_count": 2,
   "id": "published-reform",
   "metadata": {
    "execution": {
     "iopub.execute_input": "2022-08-12T21:54:34.464855Z",
     "iopub.status.busy": "2022-08-12T21:54:34.464219Z",
     "iopub.status.idle": "2022-08-12T21:54:34.595519Z",
     "shell.execute_reply": "2022-08-12T21:54:34.594959Z"
    }
   },
   "outputs": [
    {
     "data": {
      "image/svg+xml": [
       "<?xml version=\"1.0\" encoding=\"utf-8\" standalone=\"no\"?>\n",
       "<!DOCTYPE svg PUBLIC \"-//W3C//DTD SVG 1.1//EN\"\n",
       "  \"http://www.w3.org/Graphics/SVG/1.1/DTD/svg11.dtd\">\n",
       "<svg xmlns:xlink=\"http://www.w3.org/1999/xlink\" width=\"280.8pt\" height=\"280.8pt\" viewBox=\"0 0 280.8 280.8\" xmlns=\"http://www.w3.org/2000/svg\" version=\"1.1\">\n",
       " <metadata>\n",
       "  <rdf:RDF xmlns:dc=\"http://purl.org/dc/elements/1.1/\" xmlns:cc=\"http://creativecommons.org/ns#\" xmlns:rdf=\"http://www.w3.org/1999/02/22-rdf-syntax-ns#\">\n",
       "   <cc:Work>\n",
       "    <dc:type rdf:resource=\"http://purl.org/dc/dcmitype/StillImage\"/>\n",
       "    <dc:date>2022-08-12T21:54:34.584896</dc:date>\n",
       "    <dc:format>image/svg+xml</dc:format>\n",
       "    <dc:creator>\n",
       "     <cc:Agent>\n",
       "      <dc:title>Matplotlib v3.5.3, https://matplotlib.org/</dc:title>\n",
       "     </cc:Agent>\n",
       "    </dc:creator>\n",
       "   </cc:Work>\n",
       "  </rdf:RDF>\n",
       " </metadata>\n",
       " <defs>\n",
       "  <style type=\"text/css\">*{stroke-linejoin: round; stroke-linecap: butt}</style>\n",
       " </defs>\n",
       " <g id=\"figure_1\">\n",
       "  <g id=\"patch_1\">\n",
       "   <path d=\"M 0 280.8 \n",
       "L 280.8 280.8 \n",
       "L 280.8 0 \n",
       "L 0 0 \n",
       "L 0 280.8 \n",
       "z\n",
       "\" style=\"fill: none\"/>\n",
       "  </g>\n",
       "  <g id=\"axes_1\">\n",
       "   <g clip-path=\"url(#p29d09ac145)\">\n",
       "    <image xlink:href=\"data:image/png;base64,\n",
       "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\" id=\"image23dcaf13f4\" transform=\"matrix(2.67 0 0 2.67 7.2 6.6)\" style=\"image-rendering:crisp-edges;image-rendering:pixelated\" width=\"100\" height=\"100\"/>\n",
       "   </g>\n",
       "  </g>\n",
       " </g>\n",
       " <defs>\n",
       "  <clipPath id=\"p29d09ac145\">\n",
       "   <rect x=\"7.2\" y=\"7.2\" width=\"266.4\" height=\"266.4\"/>\n",
       "  </clipPath>\n",
       " </defs>\n",
       "</svg>\n"
      ],
      "text/plain": [
       "<Figure size 288x288 with 1 Axes>"
      ]
     },
     "metadata": {
      "needs_background": "light"
     },
     "output_type": "display_data"
    }
   ],
   "source": [
    "im = ps.generators.blobs([100, 100, 100])\n",
    "\n",
    "fig, ax = plt.subplots(figsize=[4, 4]);\n",
    "ax.imshow(im[..., 50]);\n",
    "plt.axis(False);"
   ]
  },
  {
   "cell_type": "markdown",
   "id": "broken-insurance",
   "metadata": {},
   "source": [
    "## Demonstrate tool"
   ]
  },
  {
   "cell_type": "code",
   "execution_count": 3,
   "id": "tracked-andrew",
   "metadata": {
    "execution": {
     "iopub.execute_input": "2022-08-12T21:54:34.598563Z",
     "iopub.status.busy": "2022-08-12T21:54:34.598184Z",
     "iopub.status.idle": "2022-08-12T21:54:34.701860Z",
     "shell.execute_reply": "2022-08-12T21:54:34.701202Z"
    }
   },
   "outputs": [
    {
     "data": {
      "image/svg+xml": [
       "<?xml version=\"1.0\" encoding=\"utf-8\" standalone=\"no\"?>\n",
       "<!DOCTYPE svg PUBLIC \"-//W3C//DTD SVG 1.1//EN\"\n",
       "  \"http://www.w3.org/Graphics/SVG/1.1/DTD/svg11.dtd\">\n",
       "<svg xmlns:xlink=\"http://www.w3.org/1999/xlink\" width=\"280.8pt\" height=\"280.8pt\" viewBox=\"0 0 280.8 280.8\" xmlns=\"http://www.w3.org/2000/svg\" version=\"1.1\">\n",
       " <metadata>\n",
       "  <rdf:RDF xmlns:dc=\"http://purl.org/dc/elements/1.1/\" xmlns:cc=\"http://creativecommons.org/ns#\" xmlns:rdf=\"http://www.w3.org/1999/02/22-rdf-syntax-ns#\">\n",
       "   <cc:Work>\n",
       "    <dc:type rdf:resource=\"http://purl.org/dc/dcmitype/StillImage\"/>\n",
       "    <dc:date>2022-08-12T21:54:34.694806</dc:date>\n",
       "    <dc:format>image/svg+xml</dc:format>\n",
       "    <dc:creator>\n",
       "     <cc:Agent>\n",
       "      <dc:title>Matplotlib v3.5.3, https://matplotlib.org/</dc:title>\n",
       "     </cc:Agent>\n",
       "    </dc:creator>\n",
       "   </cc:Work>\n",
       "  </rdf:RDF>\n",
       " </metadata>\n",
       " <defs>\n",
       "  <style type=\"text/css\">*{stroke-linejoin: round; stroke-linecap: butt}</style>\n",
       " </defs>\n",
       " <g id=\"figure_1\">\n",
       "  <g id=\"patch_1\">\n",
       "   <path d=\"M 0 280.8 \n",
       "L 280.8 280.8 \n",
       "L 280.8 0 \n",
       "L 0 0 \n",
       "L 0 280.8 \n",
       "z\n",
       "\" style=\"fill: none\"/>\n",
       "  </g>\n",
       "  <g id=\"axes_1\">\n",
       "   <g clip-path=\"url(#p6abc1a7eea)\">\n",
       "    <image xlink:href=\"data:image/png;base64,\n",
       "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\" id=\"imageeda1159b7f\" transform=\"matrix(2.67 0 0 2.67 7.2 6.6)\" style=\"image-rendering:crisp-edges;image-rendering:pixelated\" width=\"100\" height=\"100\"/>\n",
       "   </g>\n",
       "  </g>\n",
       " </g>\n",
       " <defs>\n",
       "  <clipPath id=\"p6abc1a7eea\">\n",
       "   <rect x=\"7.2\" y=\"7.2\" width=\"266.4\" height=\"266.4\"/>\n",
       "  </clipPath>\n",
       " </defs>\n",
       "</svg>\n"
      ],
      "text/plain": [
       "<Figure size 288x288 with 1 Axes>"
      ]
     },
     "metadata": {
      "needs_background": "light"
     },
     "output_type": "display_data"
    }
   ],
   "source": [
    "im = ps.tools.insert_cylinder(im=im*1.0, xyz0=[20, 20, 20], xyz1=[60, 60, 50], r=20)\n",
    "\n",
    "fig, ax = plt.subplots(figsize=[4, 4]);\n",
    "ax.imshow(ps.visualization.xray(~(im > 1)));\n",
    "plt.axis(False);"
   ]
  },
  {
   "cell_type": "code",
   "execution_count": null,
   "id": "wound-quebec",
   "metadata": {},
   "outputs": [],
   "source": []
  }
 ],
 "metadata": {
  "kernelspec": {
   "display_name": "Python 3 (ipykernel)",
   "language": "python",
   "name": "python3"
  },
  "language_info": {
   "codemirror_mode": {
    "name": "ipython",
    "version": 3
   },
   "file_extension": ".py",
   "mimetype": "text/x-python",
   "name": "python",
   "nbconvert_exporter": "python",
   "pygments_lexer": "ipython3",
   "version": "3.8.13"
  }
 },
 "nbformat": 4,
 "nbformat_minor": 5
}

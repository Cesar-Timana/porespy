{
 "cells": [
  {
   "cell_type": "markdown",
   "id": "skilled-economy",
   "metadata": {},
   "source": [
    "# `insert_cylinder`"
   ]
  },
  {
   "cell_type": "markdown",
   "id": "considerable-remove",
   "metadata": {},
   "source": [
    "## Import packages"
   ]
  },
  {
   "cell_type": "code",
   "execution_count": 1,
   "id": "distributed-theme",
   "metadata": {
    "execution": {
     "iopub.execute_input": "2022-08-23T00:42:07.692717Z",
     "iopub.status.busy": "2022-08-23T00:42:07.692276Z",
     "iopub.status.idle": "2022-08-23T00:42:09.492325Z",
     "shell.execute_reply": "2022-08-23T00:42:09.491644Z"
    }
   },
   "outputs": [],
   "source": [
    "import numpy as np\n",
    "import porespy as ps\n",
    "import scipy.ndimage as spim\n",
    "import matplotlib.pyplot as plt\n",
    "import skimage\n",
    "\n",
    "ps.visualization.set_mpl_style()"
   ]
  },
  {
   "cell_type": "markdown",
   "id": "critical-lyric",
   "metadata": {},
   "source": [
    "## Generate image for testing"
   ]
  },
  {
   "cell_type": "code",
   "execution_count": 2,
   "id": "published-reform",
   "metadata": {
    "execution": {
     "iopub.execute_input": "2022-08-23T00:42:09.496746Z",
     "iopub.status.busy": "2022-08-23T00:42:09.496018Z",
     "iopub.status.idle": "2022-08-23T00:42:09.620397Z",
     "shell.execute_reply": "2022-08-23T00:42:09.619601Z"
    }
   },
   "outputs": [
    {
     "data": {
      "image/svg+xml": [
       "<?xml version=\"1.0\" encoding=\"utf-8\" standalone=\"no\"?>\n",
       "<!DOCTYPE svg PUBLIC \"-//W3C//DTD SVG 1.1//EN\"\n",
       "  \"http://www.w3.org/Graphics/SVG/1.1/DTD/svg11.dtd\">\n",
       "<svg xmlns:xlink=\"http://www.w3.org/1999/xlink\" width=\"276.48pt\" height=\"276.48pt\" viewBox=\"0 0 276.48 276.48\" xmlns=\"http://www.w3.org/2000/svg\" version=\"1.1\">\n",
       " <metadata>\n",
       "  <rdf:RDF xmlns:dc=\"http://purl.org/dc/elements/1.1/\" xmlns:cc=\"http://creativecommons.org/ns#\" xmlns:rdf=\"http://www.w3.org/1999/02/22-rdf-syntax-ns#\">\n",
       "   <cc:Work>\n",
       "    <dc:type rdf:resource=\"http://purl.org/dc/dcmitype/StillImage\"/>\n",
       "    <dc:date>2022-08-23T00:42:09.610551</dc:date>\n",
       "    <dc:format>image/svg+xml</dc:format>\n",
       "    <dc:creator>\n",
       "     <cc:Agent>\n",
       "      <dc:title>Matplotlib v3.5.3, https://matplotlib.org/</dc:title>\n",
       "     </cc:Agent>\n",
       "    </dc:creator>\n",
       "   </cc:Work>\n",
       "  </rdf:RDF>\n",
       " </metadata>\n",
       " <defs>\n",
       "  <style type=\"text/css\">*{stroke-linejoin: round; stroke-linecap: butt}</style>\n",
       " </defs>\n",
       " <g id=\"figure_1\">\n",
       "  <g id=\"patch_1\">\n",
       "   <path d=\"M 0 276.48 \n",
       "L 276.48 276.48 \n",
       "L 276.48 0 \n",
       "L 0 0 \n",
       "z\n",
       "\" style=\"fill: #ffffff\"/>\n",
       "  </g>\n",
       "  <g id=\"axes_1\">\n",
       "   <g clip-path=\"url(#pa90eae3c2d)\">\n",
       "    <image xlink:href=\"data:image/png;base64,\n",
       "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\" id=\"image8531e5d4b2\" transform=\"matrix(2.63 0 0 2.63 7.2 6.28)\" style=\"image-rendering:crisp-edges;image-rendering:pixelated\" width=\"100\" height=\"100\"/>\n",
       "   </g>\n",
       "  </g>\n",
       " </g>\n",
       " <defs>\n",
       "  <clipPath id=\"pa90eae3c2d\">\n",
       "   <rect x=\"7.2\" y=\"7.2\" width=\"262.08\" height=\"262.08\"/>\n",
       "  </clipPath>\n",
       " </defs>\n",
       "</svg>\n"
      ],
      "text/plain": [
       "<Figure size 400x400 with 1 Axes>"
      ]
     },
     "metadata": {},
     "output_type": "display_data"
    }
   ],
   "source": [
    "im = ps.generators.blobs([100, 100, 100])\n",
    "\n",
    "fig, ax = plt.subplots(figsize=[4, 4]);\n",
    "ax.imshow(im[..., 50]);\n",
    "plt.axis(False);"
   ]
  },
  {
   "cell_type": "markdown",
   "id": "broken-insurance",
   "metadata": {},
   "source": [
    "## Demonstrate tool"
   ]
  },
  {
   "cell_type": "code",
   "execution_count": 3,
   "id": "tracked-andrew",
   "metadata": {
    "execution": {
     "iopub.execute_input": "2022-08-23T00:42:09.623220Z",
     "iopub.status.busy": "2022-08-23T00:42:09.622994Z",
     "iopub.status.idle": "2022-08-23T00:42:09.711633Z",
     "shell.execute_reply": "2022-08-23T00:42:09.711001Z"
    }
   },
   "outputs": [
    {
     "data": {
      "image/svg+xml": [
       "<?xml version=\"1.0\" encoding=\"utf-8\" standalone=\"no\"?>\n",
       "<!DOCTYPE svg PUBLIC \"-//W3C//DTD SVG 1.1//EN\"\n",
       "  \"http://www.w3.org/Graphics/SVG/1.1/DTD/svg11.dtd\">\n",
       "<svg xmlns:xlink=\"http://www.w3.org/1999/xlink\" width=\"276.48pt\" height=\"276.48pt\" viewBox=\"0 0 276.48 276.48\" xmlns=\"http://www.w3.org/2000/svg\" version=\"1.1\">\n",
       " <metadata>\n",
       "  <rdf:RDF xmlns:dc=\"http://purl.org/dc/elements/1.1/\" xmlns:cc=\"http://creativecommons.org/ns#\" xmlns:rdf=\"http://www.w3.org/1999/02/22-rdf-syntax-ns#\">\n",
       "   <cc:Work>\n",
       "    <dc:type rdf:resource=\"http://purl.org/dc/dcmitype/StillImage\"/>\n",
       "    <dc:date>2022-08-23T00:42:09.704519</dc:date>\n",
       "    <dc:format>image/svg+xml</dc:format>\n",
       "    <dc:creator>\n",
       "     <cc:Agent>\n",
       "      <dc:title>Matplotlib v3.5.3, https://matplotlib.org/</dc:title>\n",
       "     </cc:Agent>\n",
       "    </dc:creator>\n",
       "   </cc:Work>\n",
       "  </rdf:RDF>\n",
       " </metadata>\n",
       " <defs>\n",
       "  <style type=\"text/css\">*{stroke-linejoin: round; stroke-linecap: butt}</style>\n",
       " </defs>\n",
       " <g id=\"figure_1\">\n",
       "  <g id=\"patch_1\">\n",
       "   <path d=\"M 0 276.48 \n",
       "L 276.48 276.48 \n",
       "L 276.48 0 \n",
       "L 0 0 \n",
       "z\n",
       "\" style=\"fill: #ffffff\"/>\n",
       "  </g>\n",
       "  <g id=\"axes_1\">\n",
       "   <g clip-path=\"url(#p4656d7a685)\">\n",
       "    <image xlink:href=\"data:image/png;base64,\n",
       "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\" id=\"image25d402ce8f\" transform=\"matrix(2.63 0 0 2.63 7.2 6.28)\" style=\"image-rendering:crisp-edges;image-rendering:pixelated\" width=\"100\" height=\"100\"/>\n",
       "   </g>\n",
       "  </g>\n",
       " </g>\n",
       " <defs>\n",
       "  <clipPath id=\"p4656d7a685\">\n",
       "   <rect x=\"7.2\" y=\"7.2\" width=\"262.08\" height=\"262.08\"/>\n",
       "  </clipPath>\n",
       " </defs>\n",
       "</svg>\n"
      ],
      "text/plain": [
       "<Figure size 400x400 with 1 Axes>"
      ]
     },
     "metadata": {},
     "output_type": "display_data"
    }
   ],
   "source": [
    "im = ps.tools.insert_cylinder(im=im*1.0, xyz0=[20, 20, 20], xyz1=[60, 60, 50], r=20)\n",
    "\n",
    "fig, ax = plt.subplots(figsize=[4, 4]);\n",
    "ax.imshow(ps.visualization.xray(~(im > 1)));\n",
    "plt.axis(False);"
   ]
  },
  {
   "cell_type": "code",
   "execution_count": null,
   "id": "wound-quebec",
   "metadata": {},
   "outputs": [],
   "source": []
  }
 ],
 "metadata": {
  "kernelspec": {
   "display_name": "Python 3 (ipykernel)",
   "language": "python",
   "name": "python3"
  },
  "language_info": {
   "codemirror_mode": {
    "name": "ipython",
    "version": 3
   },
   "file_extension": ".py",
   "mimetype": "text/x-python",
   "name": "python",
   "nbconvert_exporter": "python",
   "pygments_lexer": "ipython3",
   "version": "3.8.13"
  }
 },
 "nbformat": 4,
 "nbformat_minor": 5
}

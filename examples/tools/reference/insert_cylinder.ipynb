{
 "cells": [
  {
   "cell_type": "markdown",
   "id": "skilled-economy",
   "metadata": {},
   "source": [
    "# `insert_cylinder`"
   ]
  },
  {
   "cell_type": "markdown",
   "id": "considerable-remove",
   "metadata": {},
   "source": [
    "## Import packages"
   ]
  },
  {
   "cell_type": "code",
   "execution_count": 1,
   "id": "distributed-theme",
   "metadata": {
    "execution": {
     "iopub.execute_input": "2022-08-23T01:16:38.690993Z",
     "iopub.status.busy": "2022-08-23T01:16:38.690628Z",
     "iopub.status.idle": "2022-08-23T01:16:40.427741Z",
     "shell.execute_reply": "2022-08-23T01:16:40.427030Z"
    }
   },
   "outputs": [],
   "source": [
    "import numpy as np\n",
    "import porespy as ps\n",
    "import scipy.ndimage as spim\n",
    "import matplotlib.pyplot as plt\n",
    "import skimage\n",
    "\n",
    "ps.visualization.set_mpl_style()"
   ]
  },
  {
   "cell_type": "markdown",
   "id": "critical-lyric",
   "metadata": {},
   "source": [
    "## Generate image for testing"
   ]
  },
  {
   "cell_type": "code",
   "execution_count": 2,
   "id": "published-reform",
   "metadata": {
    "execution": {
     "iopub.execute_input": "2022-08-23T01:16:40.431208Z",
     "iopub.status.busy": "2022-08-23T01:16:40.430705Z",
     "iopub.status.idle": "2022-08-23T01:16:40.550736Z",
     "shell.execute_reply": "2022-08-23T01:16:40.550144Z"
    }
   },
   "outputs": [
    {
     "data": {
      "image/svg+xml": [
       "<?xml version=\"1.0\" encoding=\"utf-8\" standalone=\"no\"?>\n",
       "<!DOCTYPE svg PUBLIC \"-//W3C//DTD SVG 1.1//EN\"\n",
       "  \"http://www.w3.org/Graphics/SVG/1.1/DTD/svg11.dtd\">\n",
       "<svg xmlns:xlink=\"http://www.w3.org/1999/xlink\" width=\"276.48pt\" height=\"276.48pt\" viewBox=\"0 0 276.48 276.48\" xmlns=\"http://www.w3.org/2000/svg\" version=\"1.1\">\n",
       " <metadata>\n",
       "  <rdf:RDF xmlns:dc=\"http://purl.org/dc/elements/1.1/\" xmlns:cc=\"http://creativecommons.org/ns#\" xmlns:rdf=\"http://www.w3.org/1999/02/22-rdf-syntax-ns#\">\n",
       "   <cc:Work>\n",
       "    <dc:type rdf:resource=\"http://purl.org/dc/dcmitype/StillImage\"/>\n",
       "    <dc:date>2022-08-23T01:16:40.539680</dc:date>\n",
       "    <dc:format>image/svg+xml</dc:format>\n",
       "    <dc:creator>\n",
       "     <cc:Agent>\n",
       "      <dc:title>Matplotlib v3.5.3, https://matplotlib.org/</dc:title>\n",
       "     </cc:Agent>\n",
       "    </dc:creator>\n",
       "   </cc:Work>\n",
       "  </rdf:RDF>\n",
       " </metadata>\n",
       " <defs>\n",
       "  <style type=\"text/css\">*{stroke-linejoin: round; stroke-linecap: butt}</style>\n",
       " </defs>\n",
       " <g id=\"figure_1\">\n",
       "  <g id=\"patch_1\">\n",
       "   <path d=\"M 0 276.48 \n",
       "L 276.48 276.48 \n",
       "L 276.48 0 \n",
       "L 0 0 \n",
       "z\n",
       "\" style=\"fill: #ffffff\"/>\n",
       "  </g>\n",
       "  <g id=\"axes_1\">\n",
       "   <g clip-path=\"url(#pbea2c33aa6)\">\n",
       "    <image xlink:href=\"data:image/png;base64,\n",
       "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\" id=\"imagef48391d06d\" transform=\"matrix(2.63 0 0 2.63 7.2 6.28)\" style=\"image-rendering:crisp-edges;image-rendering:pixelated\" width=\"100\" height=\"100\"/>\n",
       "   </g>\n",
       "  </g>\n",
       " </g>\n",
       " <defs>\n",
       "  <clipPath id=\"pbea2c33aa6\">\n",
       "   <rect x=\"7.2\" y=\"7.2\" width=\"262.08\" height=\"262.08\"/>\n",
       "  </clipPath>\n",
       " </defs>\n",
       "</svg>\n"
      ],
      "text/plain": [
       "<Figure size 400x400 with 1 Axes>"
      ]
     },
     "metadata": {},
     "output_type": "display_data"
    }
   ],
   "source": [
    "im = ps.generators.blobs([100, 100, 100])\n",
    "\n",
    "fig, ax = plt.subplots(figsize=[4, 4]);\n",
    "ax.imshow(im[..., 50]);\n",
    "plt.axis(False);"
   ]
  },
  {
   "cell_type": "markdown",
   "id": "broken-insurance",
   "metadata": {},
   "source": [
    "## Demonstrate tool"
   ]
  },
  {
   "cell_type": "code",
   "execution_count": 3,
   "id": "tracked-andrew",
   "metadata": {
    "execution": {
     "iopub.execute_input": "2022-08-23T01:16:40.554274Z",
     "iopub.status.busy": "2022-08-23T01:16:40.553809Z",
     "iopub.status.idle": "2022-08-23T01:16:40.645648Z",
     "shell.execute_reply": "2022-08-23T01:16:40.645057Z"
    }
   },
   "outputs": [
    {
     "data": {
      "image/svg+xml": [
       "<?xml version=\"1.0\" encoding=\"utf-8\" standalone=\"no\"?>\n",
       "<!DOCTYPE svg PUBLIC \"-//W3C//DTD SVG 1.1//EN\"\n",
       "  \"http://www.w3.org/Graphics/SVG/1.1/DTD/svg11.dtd\">\n",
       "<svg xmlns:xlink=\"http://www.w3.org/1999/xlink\" width=\"276.48pt\" height=\"276.48pt\" viewBox=\"0 0 276.48 276.48\" xmlns=\"http://www.w3.org/2000/svg\" version=\"1.1\">\n",
       " <metadata>\n",
       "  <rdf:RDF xmlns:dc=\"http://purl.org/dc/elements/1.1/\" xmlns:cc=\"http://creativecommons.org/ns#\" xmlns:rdf=\"http://www.w3.org/1999/02/22-rdf-syntax-ns#\">\n",
       "   <cc:Work>\n",
       "    <dc:type rdf:resource=\"http://purl.org/dc/dcmitype/StillImage\"/>\n",
       "    <dc:date>2022-08-23T01:16:40.637697</dc:date>\n",
       "    <dc:format>image/svg+xml</dc:format>\n",
       "    <dc:creator>\n",
       "     <cc:Agent>\n",
       "      <dc:title>Matplotlib v3.5.3, https://matplotlib.org/</dc:title>\n",
       "     </cc:Agent>\n",
       "    </dc:creator>\n",
       "   </cc:Work>\n",
       "  </rdf:RDF>\n",
       " </metadata>\n",
       " <defs>\n",
       "  <style type=\"text/css\">*{stroke-linejoin: round; stroke-linecap: butt}</style>\n",
       " </defs>\n",
       " <g id=\"figure_1\">\n",
       "  <g id=\"patch_1\">\n",
       "   <path d=\"M 0 276.48 \n",
       "L 276.48 276.48 \n",
       "L 276.48 0 \n",
       "L 0 0 \n",
       "z\n",
       "\" style=\"fill: #ffffff\"/>\n",
       "  </g>\n",
       "  <g id=\"axes_1\">\n",
       "   <g clip-path=\"url(#pd5f7e29557)\">\n",
       "    <image xlink:href=\"data:image/png;base64,\n",
       "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\" id=\"image0d49f39b37\" transform=\"matrix(2.63 0 0 2.63 7.2 6.28)\" style=\"image-rendering:crisp-edges;image-rendering:pixelated\" width=\"100\" height=\"100\"/>\n",
       "   </g>\n",
       "  </g>\n",
       " </g>\n",
       " <defs>\n",
       "  <clipPath id=\"pd5f7e29557\">\n",
       "   <rect x=\"7.2\" y=\"7.2\" width=\"262.08\" height=\"262.08\"/>\n",
       "  </clipPath>\n",
       " </defs>\n",
       "</svg>\n"
      ],
      "text/plain": [
       "<Figure size 400x400 with 1 Axes>"
      ]
     },
     "metadata": {},
     "output_type": "display_data"
    }
   ],
   "source": [
    "im = ps.tools.insert_cylinder(im=im*1.0, xyz0=[20, 20, 20], xyz1=[60, 60, 50], r=20)\n",
    "\n",
    "fig, ax = plt.subplots(figsize=[4, 4]);\n",
    "ax.imshow(ps.visualization.xray(~(im > 1)));\n",
    "plt.axis(False);"
   ]
  },
  {
   "cell_type": "code",
   "execution_count": null,
   "id": "wound-quebec",
   "metadata": {},
   "outputs": [],
   "source": []
  }
 ],
 "metadata": {
  "kernelspec": {
   "display_name": "Python 3 (ipykernel)",
   "language": "python",
   "name": "python3"
  },
  "language_info": {
   "codemirror_mode": {
    "name": "ipython",
    "version": 3
   },
   "file_extension": ".py",
   "mimetype": "text/x-python",
   "name": "python",
   "nbconvert_exporter": "python",
   "pygments_lexer": "ipython3",
   "version": "3.8.13"
  }
 },
 "nbformat": 4,
 "nbformat_minor": 5
}

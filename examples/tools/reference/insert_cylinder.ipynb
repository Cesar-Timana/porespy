{
 "cells": [
  {
   "cell_type": "markdown",
   "id": "skilled-economy",
   "metadata": {},
   "source": [
    "# `insert_cylinder`"
   ]
  },
  {
   "cell_type": "markdown",
   "id": "considerable-remove",
   "metadata": {},
   "source": [
    "## Import packages"
   ]
  },
  {
   "cell_type": "code",
   "execution_count": 1,
   "id": "distributed-theme",
   "metadata": {
    "execution": {
     "iopub.execute_input": "2022-09-09T11:06:20.822069Z",
     "iopub.status.busy": "2022-09-09T11:06:20.821705Z",
     "iopub.status.idle": "2022-09-09T11:06:22.497762Z",
     "shell.execute_reply": "2022-09-09T11:06:22.497077Z"
    }
   },
   "outputs": [],
   "source": [
    "import numpy as np\n",
    "import porespy as ps\n",
    "import scipy.ndimage as spim\n",
    "import matplotlib.pyplot as plt\n",
    "import skimage\n",
    "\n",
    "ps.visualization.set_mpl_style()"
   ]
  },
  {
   "cell_type": "markdown",
   "id": "critical-lyric",
   "metadata": {},
   "source": [
    "## Generate image for testing"
   ]
  },
  {
   "cell_type": "code",
   "execution_count": 2,
   "id": "published-reform",
   "metadata": {
    "execution": {
     "iopub.execute_input": "2022-09-09T11:06:22.502049Z",
     "iopub.status.busy": "2022-09-09T11:06:22.501381Z",
     "iopub.status.idle": "2022-09-09T11:06:22.622815Z",
     "shell.execute_reply": "2022-09-09T11:06:22.622235Z"
    }
   },
   "outputs": [
    {
     "data": {
      "image/svg+xml": [
       "<?xml version=\"1.0\" encoding=\"utf-8\" standalone=\"no\"?>\n",
       "<!DOCTYPE svg PUBLIC \"-//W3C//DTD SVG 1.1//EN\"\n",
       "  \"http://www.w3.org/Graphics/SVG/1.1/DTD/svg11.dtd\">\n",
       "<svg xmlns:xlink=\"http://www.w3.org/1999/xlink\" width=\"276.48pt\" height=\"276.48pt\" viewBox=\"0 0 276.48 276.48\" xmlns=\"http://www.w3.org/2000/svg\" version=\"1.1\">\n",
       " <metadata>\n",
       "  <rdf:RDF xmlns:dc=\"http://purl.org/dc/elements/1.1/\" xmlns:cc=\"http://creativecommons.org/ns#\" xmlns:rdf=\"http://www.w3.org/1999/02/22-rdf-syntax-ns#\">\n",
       "   <cc:Work>\n",
       "    <dc:type rdf:resource=\"http://purl.org/dc/dcmitype/StillImage\"/>\n",
       "    <dc:date>2022-09-09T11:06:22.611719</dc:date>\n",
       "    <dc:format>image/svg+xml</dc:format>\n",
       "    <dc:creator>\n",
       "     <cc:Agent>\n",
       "      <dc:title>Matplotlib v3.5.3, https://matplotlib.org/</dc:title>\n",
       "     </cc:Agent>\n",
       "    </dc:creator>\n",
       "   </cc:Work>\n",
       "  </rdf:RDF>\n",
       " </metadata>\n",
       " <defs>\n",
       "  <style type=\"text/css\">*{stroke-linejoin: round; stroke-linecap: butt}</style>\n",
       " </defs>\n",
       " <g id=\"figure_1\">\n",
       "  <g id=\"patch_1\">\n",
       "   <path d=\"M 0 276.48 \n",
       "L 276.48 276.48 \n",
       "L 276.48 0 \n",
       "L 0 0 \n",
       "z\n",
       "\" style=\"fill: #ffffff\"/>\n",
       "  </g>\n",
       "  <g id=\"axes_1\">\n",
       "   <g clip-path=\"url(#pd2ab2d6cc6)\">\n",
       "    <image xlink:href=\"data:image/png;base64,\n",
       "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\" id=\"image347d03fa00\" transform=\"matrix(2.63 0 0 2.63 7.2 6.28)\" style=\"image-rendering:crisp-edges;image-rendering:pixelated\" width=\"100\" height=\"100\"/>\n",
       "   </g>\n",
       "  </g>\n",
       " </g>\n",
       " <defs>\n",
       "  <clipPath id=\"pd2ab2d6cc6\">\n",
       "   <rect x=\"7.2\" y=\"7.2\" width=\"262.08\" height=\"262.08\"/>\n",
       "  </clipPath>\n",
       " </defs>\n",
       "</svg>\n"
      ],
      "text/plain": [
       "<Figure size 400x400 with 1 Axes>"
      ]
     },
     "metadata": {},
     "output_type": "display_data"
    }
   ],
   "source": [
    "im = ps.generators.blobs([100, 100, 100])\n",
    "\n",
    "fig, ax = plt.subplots(figsize=[4, 4]);\n",
    "ax.imshow(im[..., 50]);\n",
    "plt.axis(False);"
   ]
  },
  {
   "cell_type": "markdown",
   "id": "broken-insurance",
   "metadata": {},
   "source": [
    "## Demonstrate tool"
   ]
  },
  {
   "cell_type": "code",
   "execution_count": 3,
   "id": "tracked-andrew",
   "metadata": {
    "execution": {
     "iopub.execute_input": "2022-09-09T11:06:22.626313Z",
     "iopub.status.busy": "2022-09-09T11:06:22.625845Z",
     "iopub.status.idle": "2022-09-09T11:06:22.713444Z",
     "shell.execute_reply": "2022-09-09T11:06:22.712847Z"
    }
   },
   "outputs": [
    {
     "data": {
      "image/svg+xml": [
       "<?xml version=\"1.0\" encoding=\"utf-8\" standalone=\"no\"?>\n",
       "<!DOCTYPE svg PUBLIC \"-//W3C//DTD SVG 1.1//EN\"\n",
       "  \"http://www.w3.org/Graphics/SVG/1.1/DTD/svg11.dtd\">\n",
       "<svg xmlns:xlink=\"http://www.w3.org/1999/xlink\" width=\"276.48pt\" height=\"276.48pt\" viewBox=\"0 0 276.48 276.48\" xmlns=\"http://www.w3.org/2000/svg\" version=\"1.1\">\n",
       " <metadata>\n",
       "  <rdf:RDF xmlns:dc=\"http://purl.org/dc/elements/1.1/\" xmlns:cc=\"http://creativecommons.org/ns#\" xmlns:rdf=\"http://www.w3.org/1999/02/22-rdf-syntax-ns#\">\n",
       "   <cc:Work>\n",
       "    <dc:type rdf:resource=\"http://purl.org/dc/dcmitype/StillImage\"/>\n",
       "    <dc:date>2022-09-09T11:06:22.705499</dc:date>\n",
       "    <dc:format>image/svg+xml</dc:format>\n",
       "    <dc:creator>\n",
       "     <cc:Agent>\n",
       "      <dc:title>Matplotlib v3.5.3, https://matplotlib.org/</dc:title>\n",
       "     </cc:Agent>\n",
       "    </dc:creator>\n",
       "   </cc:Work>\n",
       "  </rdf:RDF>\n",
       " </metadata>\n",
       " <defs>\n",
       "  <style type=\"text/css\">*{stroke-linejoin: round; stroke-linecap: butt}</style>\n",
       " </defs>\n",
       " <g id=\"figure_1\">\n",
       "  <g id=\"patch_1\">\n",
       "   <path d=\"M 0 276.48 \n",
       "L 276.48 276.48 \n",
       "L 276.48 0 \n",
       "L 0 0 \n",
       "z\n",
       "\" style=\"fill: #ffffff\"/>\n",
       "  </g>\n",
       "  <g id=\"axes_1\">\n",
       "   <g clip-path=\"url(#pa326d0a64c)\">\n",
       "    <image xlink:href=\"data:image/png;base64,\n",
       "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\" id=\"image3ef94df691\" transform=\"matrix(2.63 0 0 2.63 7.2 6.28)\" style=\"image-rendering:crisp-edges;image-rendering:pixelated\" width=\"100\" height=\"100\"/>\n",
       "   </g>\n",
       "  </g>\n",
       " </g>\n",
       " <defs>\n",
       "  <clipPath id=\"pa326d0a64c\">\n",
       "   <rect x=\"7.2\" y=\"7.2\" width=\"262.08\" height=\"262.08\"/>\n",
       "  </clipPath>\n",
       " </defs>\n",
       "</svg>\n"
      ],
      "text/plain": [
       "<Figure size 400x400 with 1 Axes>"
      ]
     },
     "metadata": {},
     "output_type": "display_data"
    }
   ],
   "source": [
    "im = ps.tools.insert_cylinder(im=im*1.0, xyz0=[20, 20, 20], xyz1=[60, 60, 50], r=20)\n",
    "\n",
    "fig, ax = plt.subplots(figsize=[4, 4]);\n",
    "ax.imshow(ps.visualization.xray(~(im > 1)));\n",
    "plt.axis(False);"
   ]
  },
  {
   "cell_type": "code",
   "execution_count": null,
   "id": "wound-quebec",
   "metadata": {},
   "outputs": [],
   "source": []
  }
 ],
 "metadata": {
  "kernelspec": {
   "display_name": "Python 3 (ipykernel)",
   "language": "python",
   "name": "python3"
  },
  "language_info": {
   "codemirror_mode": {
    "name": "ipython",
    "version": 3
   },
   "file_extension": ".py",
   "mimetype": "text/x-python",
   "name": "python",
   "nbconvert_exporter": "python",
   "pygments_lexer": "ipython3",
   "version": "3.8.13"
  }
 },
 "nbformat": 4,
 "nbformat_minor": 5
}

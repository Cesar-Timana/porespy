{
 "cells": [
  {
   "cell_type": "markdown",
   "id": "central-afghanistan",
   "metadata": {},
   "source": [
    "# `extract_cylinder`"
   ]
  },
  {
   "cell_type": "markdown",
   "id": "after-error",
   "metadata": {},
   "source": [
    "## Import Packages"
   ]
  },
  {
   "cell_type": "code",
   "execution_count": 1,
   "id": "educational-creator",
   "metadata": {
    "execution": {
     "iopub.execute_input": "2022-08-12T21:54:11.967226Z",
     "iopub.status.busy": "2022-08-12T21:54:11.966947Z",
     "iopub.status.idle": "2022-08-12T21:54:13.837557Z",
     "shell.execute_reply": "2022-08-12T21:54:13.836795Z"
    }
   },
   "outputs": [],
   "source": [
    "import numpy as np\n",
    "import porespy as ps\n",
    "import scipy.ndimage as spim\n",
    "import matplotlib.pyplot as plt\n",
    "import skimage\n",
    "ps.visualization.set_mpl_style()"
   ]
  },
  {
   "cell_type": "markdown",
   "id": "irish-pixel",
   "metadata": {},
   "source": [
    "## Generate Image for Testing"
   ]
  },
  {
   "cell_type": "code",
   "execution_count": 2,
   "id": "surgical-playback",
   "metadata": {
    "execution": {
     "iopub.execute_input": "2022-08-12T21:54:13.841793Z",
     "iopub.status.busy": "2022-08-12T21:54:13.841287Z",
     "iopub.status.idle": "2022-08-12T21:54:13.922328Z",
     "shell.execute_reply": "2022-08-12T21:54:13.921594Z"
    }
   },
   "outputs": [],
   "source": [
    "im = ps.generators.blobs([100, 100, 100])"
   ]
  },
  {
   "cell_type": "markdown",
   "id": "engaged-aluminum",
   "metadata": {},
   "source": [
    "## Apply tool and visualize\n",
    "This tool is useful for extracting a cylindrical core from an otherwise cubic image.  This might be helpful if a cylindrical domain is needed, or to test a workflow on a tomogram that has has not been cropped yet."
   ]
  },
  {
   "cell_type": "code",
   "execution_count": 3,
   "id": "fancy-instruction",
   "metadata": {
    "execution": {
     "iopub.execute_input": "2022-08-12T21:54:13.926093Z",
     "iopub.status.busy": "2022-08-12T21:54:13.925838Z",
     "iopub.status.idle": "2022-08-12T21:54:14.015052Z",
     "shell.execute_reply": "2022-08-12T21:54:14.014515Z"
    }
   },
   "outputs": [
    {
     "data": {
      "image/svg+xml": [
       "<?xml version=\"1.0\" encoding=\"utf-8\" standalone=\"no\"?>\n",
       "<!DOCTYPE svg PUBLIC \"-//W3C//DTD SVG 1.1//EN\"\n",
       "  \"http://www.w3.org/Graphics/SVG/1.1/DTD/svg11.dtd\">\n",
       "<svg xmlns:xlink=\"http://www.w3.org/1999/xlink\" width=\"560.7pt\" height=\"280.8pt\" viewBox=\"0 0 560.7 280.8\" xmlns=\"http://www.w3.org/2000/svg\" version=\"1.1\">\n",
       " <metadata>\n",
       "  <rdf:RDF xmlns:dc=\"http://purl.org/dc/elements/1.1/\" xmlns:cc=\"http://creativecommons.org/ns#\" xmlns:rdf=\"http://www.w3.org/1999/02/22-rdf-syntax-ns#\">\n",
       "   <cc:Work>\n",
       "    <dc:type rdf:resource=\"http://purl.org/dc/dcmitype/StillImage\"/>\n",
       "    <dc:date>2022-08-12T21:54:14.003736</dc:date>\n",
       "    <dc:format>image/svg+xml</dc:format>\n",
       "    <dc:creator>\n",
       "     <cc:Agent>\n",
       "      <dc:title>Matplotlib v3.5.3, https://matplotlib.org/</dc:title>\n",
       "     </cc:Agent>\n",
       "    </dc:creator>\n",
       "   </cc:Work>\n",
       "  </rdf:RDF>\n",
       " </metadata>\n",
       " <defs>\n",
       "  <style type=\"text/css\">*{stroke-linejoin: round; stroke-linecap: butt}</style>\n",
       " </defs>\n",
       " <g id=\"figure_1\">\n",
       "  <g id=\"patch_1\">\n",
       "   <path d=\"M 0 280.8 \n",
       "L 560.7 280.8 \n",
       "L 560.7 0 \n",
       "L 0 0 \n",
       "L 0 280.8 \n",
       "z\n",
       "\" style=\"fill: none\"/>\n",
       "  </g>\n",
       "  <g id=\"axes_1\">\n",
       "   <g clip-path=\"url(#p863c32e068)\">\n",
       "    <image xlink:href=\"data:image/png;base64,\n",
       "iVBORw0KGgoAAAANSUhEUgAAAGQAAABkCAYAAABw4pVUAAAFeklEQVR4nO1c2XHjMAylM6nC31uAi9gZNbDNugtX4a1iJ/vFjKLwwPFwUM779EggxEeAAAj68vvy56MMcH8+yna9jR4xxf35aP7O0aknwwPb9fY5PkXnN1t1ciDLgqIsjJcgpJRYUjg6vCOEcNBaJaMx9iavRR0n0oXN4GohvYm4Px+sScqw2o/YrrfpwqIglcvKtnJnk9x7R4Opy5LgOLGZVvSI9J6eXLfJjaz2gFpIz/VIlRuNI3nHygJb3yWxrlKAhEhWHkUOYhIRMo7fUCccaf3358PGZY2AjJooQI5l6XqrniGbuueekmn/GqHqCSNk9OGakBYxoRT3koG47Xorl1ktiwvOXsKJxjJHbkjACSllbhHSyWxFa2cjyoSQUuxIoYyTpZjYWjgz3dyjLCQsozVJ7kQJ2WdyU5VOuOh9VGtiOORJE08ElraQEaQVA68cqXXwd38+7CzEy49LxhlVnanPIvRojXP59/fXB0LgaJAWPM5ZUPA8Lv60EIsPWj0ElUBb3zpN6cSjzmSFfSXBnZBIq5GO7amzeZSVxW1VPVDV5lFCqpG/RNiLyPo1/WXHdzlRGhdfXFa2M+1SdJVirbzje5anjhVpLUQa/49cEqULMnpRpiydeCVjLRnRe95nYrjH7Nyi9xwCKBcV2RPMtbj980OXNROWoZuEComOkohMOxdNC5FgpsjsIElDxmziUHUmqi6c9466wQhpCS+FFrJms4wWpI1ylGf3gBIiUcga2YuYR/1MoqwsZFgASXBLVsqwNzvQHYt7pE0Mj5DsTytiaQtBrdQIYrtNDpbm54XRNYIZKhkeB3SUDsr3/cMSpTxcidWlGY9wm6u7ag+RXnBBnBtUZOtchN2gQpe5qc9oak4aQrNeUyAlhp7n1dyxpK2kkoVgWWStspcJe3tA9mV5YTR+urDXerKoFewWqK2rI9mzZ9MRYgmP5mwtSIRYnSVbNgtIZUZHaaw9pHf3gQtvH44ig+LutISKXZameyMjoi2jQhVlcVdEBBnaMVE6U+Woa1mcCIOKDGf0Hj1YLXypZVVFIhB9sre3dkS3iUSX7Xr77rJa5QxL/5rFd5cSu7/VeTC7hZsBozYlz4o0J9k8NSEzeBcYKZ5n+VrWSqCQ1s1DoqKMV8c0MZTe2f4hVIYmIa2L9xS0SMhKSla9yKUTTdlaA7SlceRRk2Zk6J56U99PHKJwp7kEdJQR3ig3U6CX5Wru9WWEdSJLIoSjBErhqIbt6MrBS50YzhBNRikNQjK5CnRXZYYJH+H+DPibWA0QG3t0VRvS5JDJalBhMNJaKPpQ9SZbiLQhjSMfcfo4quxadsqjxvhW7UU1XKNgXSanNm5oTzyp70MI6SmhRZbLoIhFSpVBOjHUDJAV1hm3FNNNvRd6no0gNKTzMcxDqOUSrRJU+ZL3s1nADKL7IZ5AbLSZ7s3P8DaKjyUxv2dj2Yis6Ayf+xcbFaQ8hLsB9nKKXrAwWhBZbtly3LNGZ/Zfa3CYl66SkZwWZkmi5c0nCuAWIhWOgjREtVrFKB1acCm/SxMrqyguc+RlWu2V7gFWkVVmIipEhFiWsBGTJr20nwFsl7X/SOu75BJkIYGaMhxdMyvK0rbbWyKaCERRFnZiGJkJe1aZrU8bm/dDVoJ3yd9j0S3bdbLa+QsVLEIyKLxiBXeE45yyCIne1Fc6KpYC4rI8VuyZrGKE8E092uq8xxqNv11vmDykJVwj4ygvi6tCVa9HIBNyFpeBbnNCExPusjyBtt79O8deBClRL2MhFmQgxj0CdqVtVVjnNVzZqiPcH9DAWczsPOSslmIF7nyJNvWsbZgro85lqiiL0zUZDeSi3MtQlU4s3Vfmf4Kw1GvZ8vtZ8R9rs7Np1wWhowAAAABJRU5ErkJggg==\" id=\"image5c2a503310\" transform=\"matrix(2.67 0 0 2.67 7.2 6.6)\" style=\"image-rendering:crisp-edges;image-rendering:pixelated\" width=\"100\" height=\"100\"/>\n",
       "   </g>\n",
       "  </g>\n",
       "  <g id=\"axes_2\">\n",
       "   <g clip-path=\"url(#pc4f10852ff)\">\n",
       "    <image xlink:href=\"data:image/png;base64,\n",
       "iVBORw0KGgoAAAANSUhEUgAAAGQAAABkCAYAAABw4pVUAAAEIUlEQVR4nO2d3ZHbMAyE6cxV4SpcRGbcQJp1F67CbVweMsroOKQEggtgaeN7y+Uk/ixBgCSou/y+/PkuCQ2/oiuQ/CQFISMFISMFISMFISMFISMFISMFISMFISMFIeMrugJSHq/nj3/fr7eQeliTFkLGMhZyv97+W8neOt7NcpaykPv1dtrhtUCrsZQgNat3fosQQVAd2bOW+v2P13OozO33IwR39yFejWyV0/JBkuc8cbUQi8ZqnHivHkcieuFiIdaN2kdgUqItoYe5hbA2nJUQp26xVrBcf3gOKndBIhdu2rI962zuQ1hWzls9NP6mhSRi07DE1slZB0o65fF6qjuvfnZfn5n3tqBfqY+MZqkw2nr0FotIH0NrIdJG1iIcTUm9nx9tVnpDaSFaMTS0BNWAEvLCltuLmqIk1oCsi+b9LaYtBGniltOFZOu+9Yw3EB8iiTTODpI0YuxDz6PnZzoWFSZLmZqyJKd1kpDV2jIQoKO9HlBBNrxH1RHoacc64FD7kKOKsYhhgbSjtX1AGfayowkQpKiceoQFaPxTNJptlaUtBDVSmYRdWpCNnigje1ssx8vDUxYi1B3FakHHGG5PLQyPRqZkoYY8lzirkxez5asEkRQq/Z2ZPacZQZHWgRwEw4JYj8CR97cERR5Etf7fGtrzECnIvCwG6KIs6846e79mkxJZZzpBLLEUG/XuUEFGj1otyqqJjtKGfMi+UTMV957DUWJIpruwE8OZ7A1Goi1jYyrKGh0REWLMluldZ7czda8TN22ZrWcjBhBNlLXt3EaJUWcjakCExUNT1mpZ66Mw+De3lbp3x/euUW9E70j3oEuU84Rxg5HGhyT/SEHIMPEhqBX9JwK1kFbszhC5tGCtF8xCrBqIvjqmWaAibnBJoT6gQl8dm7kEVL+DKlGuRW80RV+AQWPtE+EWgqpwVMJ2dBCSYe+OaDFKIRcEndTM0OFnUAtSg5jCLDPXESwlSCm4cwqkKBT31NFfMECdPh7t7FpmyqPKUO/2em2PWG+TS9ux3B1DC1FYstM976sv50NQRJ2ZnzElCNM3QpiYmS3gu71IZqdB9hC3xfTWSeTF/5HNQi8LDv/WSV0JVMMl7zlqfMQKH1EmdLd3f4FSmulx9n0rllu2Z99mocw6OarkTKdok6DPDpgY/QvUqVs1UBuiHj3HKEYpBusQVFJaK0JC+SdWMUoxOsLd/ILWB1hFVsxCbJidqWtDTUSnbe9YQYAa062TiGPYFUXY45Lb6yHK6kJsuKQBIT+l0Xs3kt56yQPX3V50o95NjFIW/usI7yhGKUGZizNTmFcHRfmk0FTSUWE8joqjgwOqG1Sa74y8G1TJ1nkCSSbInk+xiJqPTXJgJQUhIwUhIwUhIwUhIwUhIwUhIwUhIwUhIwUh4y/fyVJc6wcYzQAAAABJRU5ErkJggg==\" id=\"imageabdeb69350\" transform=\"matrix(2.67 0 0 2.67 287.1 6.6)\" style=\"image-rendering:crisp-edges;image-rendering:pixelated\" width=\"100\" height=\"100\"/>\n",
       "   </g>\n",
       "  </g>\n",
       " </g>\n",
       " <defs>\n",
       "  <clipPath id=\"p863c32e068\">\n",
       "   <rect x=\"7.2\" y=\"7.2\" width=\"266.4\" height=\"266.4\"/>\n",
       "  </clipPath>\n",
       "  <clipPath id=\"pc4f10852ff\">\n",
       "   <rect x=\"287.1\" y=\"7.2\" width=\"266.4\" height=\"266.4\"/>\n",
       "  </clipPath>\n",
       " </defs>\n",
       "</svg>\n"
      ],
      "text/plain": [
       "<Figure size 576x288 with 2 Axes>"
      ]
     },
     "metadata": {
      "needs_background": "light"
     },
     "output_type": "display_data"
    }
   ],
   "source": [
    "cyl = ps.tools.extract_cylinder(im=im, r=40, axis=2)\n",
    "\n",
    "fig, ax = plt.subplots(1, 2, figsize=[8, 4]);\n",
    "ax[0].imshow(im[..., 50]);\n",
    "ax[0].axis(False)\n",
    "ax[1].imshow(cyl[..., 50]);\n",
    "ax[1].axis(False);"
   ]
  }
 ],
 "metadata": {
  "kernelspec": {
   "display_name": "Python 3 (ipykernel)",
   "language": "python",
   "name": "python3"
  },
  "language_info": {
   "codemirror_mode": {
    "name": "ipython",
    "version": 3
   },
   "file_extension": ".py",
   "mimetype": "text/x-python",
   "name": "python",
   "nbconvert_exporter": "python",
   "pygments_lexer": "ipython3",
   "version": "3.8.13"
  }
 },
 "nbformat": 4,
 "nbformat_minor": 5
}

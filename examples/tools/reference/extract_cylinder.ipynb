{
 "cells": [
  {
   "cell_type": "markdown",
   "id": "central-afghanistan",
   "metadata": {},
   "source": [
    "# `extract_cylinder`"
   ]
  },
  {
   "cell_type": "markdown",
   "id": "after-error",
   "metadata": {},
   "source": [
    "## Import Packages"
   ]
  },
  {
   "cell_type": "code",
   "execution_count": 1,
   "id": "educational-creator",
   "metadata": {
    "execution": {
     "iopub.execute_input": "2022-08-23T00:49:59.696359Z",
     "iopub.status.busy": "2022-08-23T00:49:59.695993Z",
     "iopub.status.idle": "2022-08-23T00:50:01.450257Z",
     "shell.execute_reply": "2022-08-23T00:50:01.449565Z"
    }
   },
   "outputs": [],
   "source": [
    "import numpy as np\n",
    "import porespy as ps\n",
    "import scipy.ndimage as spim\n",
    "import matplotlib.pyplot as plt\n",
    "import skimage\n",
    "ps.visualization.set_mpl_style()"
   ]
  },
  {
   "cell_type": "markdown",
   "id": "irish-pixel",
   "metadata": {},
   "source": [
    "## Generate Image for Testing"
   ]
  },
  {
   "cell_type": "code",
   "execution_count": 2,
   "id": "surgical-playback",
   "metadata": {
    "execution": {
     "iopub.execute_input": "2022-08-23T00:50:01.454466Z",
     "iopub.status.busy": "2022-08-23T00:50:01.453899Z",
     "iopub.status.idle": "2022-08-23T00:50:01.533109Z",
     "shell.execute_reply": "2022-08-23T00:50:01.532467Z"
    }
   },
   "outputs": [],
   "source": [
    "im = ps.generators.blobs([100, 100, 100])"
   ]
  },
  {
   "cell_type": "markdown",
   "id": "engaged-aluminum",
   "metadata": {},
   "source": [
    "## Apply tool and visualize\n",
    "This tool is useful for extracting a cylindrical core from an otherwise cubic image.  This might be helpful if a cylindrical domain is needed, or to test a workflow on a tomogram that has has not been cropped yet."
   ]
  },
  {
   "cell_type": "code",
   "execution_count": 3,
   "id": "fancy-instruction",
   "metadata": {
    "execution": {
     "iopub.execute_input": "2022-08-23T00:50:01.537247Z",
     "iopub.status.busy": "2022-08-23T00:50:01.536654Z",
     "iopub.status.idle": "2022-08-23T00:50:01.611787Z",
     "shell.execute_reply": "2022-08-23T00:50:01.611279Z"
    }
   },
   "outputs": [
    {
     "data": {
      "image/svg+xml": [
       "<?xml version=\"1.0\" encoding=\"utf-8\" standalone=\"no\"?>\n",
       "<!DOCTYPE svg PUBLIC \"-//W3C//DTD SVG 1.1//EN\"\n",
       "  \"http://www.w3.org/Graphics/SVG/1.1/DTD/svg11.dtd\">\n",
       "<svg xmlns:xlink=\"http://www.w3.org/1999/xlink\" width=\"554.76pt\" height=\"276.48pt\" viewBox=\"0 0 554.76 276.48\" xmlns=\"http://www.w3.org/2000/svg\" version=\"1.1\">\n",
       " <metadata>\n",
       "  <rdf:RDF xmlns:dc=\"http://purl.org/dc/elements/1.1/\" xmlns:cc=\"http://creativecommons.org/ns#\" xmlns:rdf=\"http://www.w3.org/1999/02/22-rdf-syntax-ns#\">\n",
       "   <cc:Work>\n",
       "    <dc:type rdf:resource=\"http://purl.org/dc/dcmitype/StillImage\"/>\n",
       "    <dc:date>2022-08-23T00:50:01.598539</dc:date>\n",
       "    <dc:format>image/svg+xml</dc:format>\n",
       "    <dc:creator>\n",
       "     <cc:Agent>\n",
       "      <dc:title>Matplotlib v3.5.3, https://matplotlib.org/</dc:title>\n",
       "     </cc:Agent>\n",
       "    </dc:creator>\n",
       "   </cc:Work>\n",
       "  </rdf:RDF>\n",
       " </metadata>\n",
       " <defs>\n",
       "  <style type=\"text/css\">*{stroke-linejoin: round; stroke-linecap: butt}</style>\n",
       " </defs>\n",
       " <g id=\"figure_1\">\n",
       "  <g id=\"patch_1\">\n",
       "   <path d=\"M 0 276.48 \n",
       "L 554.76 276.48 \n",
       "L 554.76 0 \n",
       "L 0 0 \n",
       "z\n",
       "\" style=\"fill: #ffffff\"/>\n",
       "  </g>\n",
       "  <g id=\"axes_1\">\n",
       "   <g clip-path=\"url(#p2aa9da82a0)\">\n",
       "    <image xlink:href=\"data:image/png;base64,\n",
       "iVBORw0KGgoAAAANSUhEUgAAAGQAAABkCAYAAABw4pVUAAAFk0lEQVR4nO1d2XEbMQylNKrC3ynARWTGDaRZdeEqnCoyzke8GormgesBoKI3k48kuwBIEMRFrk4/T78+yxeuH++FgreXV9JzLSj0ObRR8lLpann2+JzVnImwGKQXpAvOgs9NIRkmLIN1WIDDs332YiuKDKgtRaOMt5dX0SKV8KzfOZeCt44ZfdQKtqD79vKqWu0SnP78/vG5fkzO1FoZq8WDUjCXb/08RyY3p95iJ2WsaM+U0fv7DDAfMhICoYgV3fZ9pOJGsl4/3kl8L8dDUhNbQUvLOndBykGhsZL1ZiHWg7KgZ6GMHo3RxBzPRoTKB1KEvVxQJ0y6qluFUelY+DiyU79+vN/+RIEThq7k7P1/zzlTxmtpWReK7+hFDd5mjcjitXwQdO+2rAzlEw0yyC/N8A+ofAjSCXIHFa0MK/7sTL2U8SrwiKxm0REXkghNA1OnziEqAceB1s9FWwYHFFlZFkIJBZHNK0ugQ2cpf7EP0TqvXbCqU0kx8r9n6kqJzF4zwXoeWgVfaibabcgrhn9ky7zbsnrbULRlRPH3VHqdaH/zIZIOmUXm7rkYvMNdDkyKi4iJi6IZoYxarvBqL2ICUE0wa/TkDFGI1eA9ml8IzOR276n/78pYwVUhnEnIOmFosBtU0Thk0MgS3WSbwc2HICYBWf7ntHAtE1eyhXBP8dWwrv/0/t1S4e04OWeytIBbiHfG26I3YZJ+Didx1RReoQpBWwbnXc6qH6GeaFQV4VRf2LEEZ9/1siLvupikq3qpX7QSmOsEV9XmXdEuOtJRUu9tJbp6HAVqQfOSKeNFdiGzLoR2vKpM/dG2GG+EXvqkYpdSPgru1V7P6207KeJAOgspxe5+YHaY90MsnbD3JaHI63EzqC1kh5XYInMwcqcQaZHO4oAD51nNIYXMyijlq3RifSy0BwmP1TucAIGrCE/Lr2Vbnu1FKSX6bO0KUVvx0qlb3pba0d94I/wYUCn593VPhOchT2XcY2kh2ph+x21q63vqj7bCo5tYKXwIF4huY4RV9GSfKgSd8FkkoZTyjSTXiYLaQqiTjiwYjhLFHf3XNDHM1k1EIfKjM6yOYRZzzrrSEcdroZ/4281CqLysPprQoyP+koOGqRbom7AjPpp8izoPIoVQBGiR9TSJhxVzeLgppBSsT8q6QLh8XBVSik+gEJ13aE5iPoyF9LDjBwe2LJ1QsYMCWoSX35+4x/PnKpIh3Za1y76PysVcFEIRSHs9zFORyKpBuA+hnLPS/v9OCN2yJF8e2hGcI7ciC9l5ciyA3A7vviiHYLrDQbdZ9RbRIp7RJN3ClZw4pDDPZGmzMVqV2yn8Ta5FcwdTYwelaPol3PHBoyzEQYejU2e5Hba0pDx6dDg4R1dfuaDImy0H4cij/tm86G+ZjFYkRy7Us5L33BLD1RGeFVaXcHrbS0T7WLsbqH969RBA8/mmFXax4BUosrAz9V4EkSlS2h3ffmHHolE/QltCeCryH+o5SVd+R8DqFpgFjdXCFjt1r5u3OyWWFvh2yCHbAKmlF2rPZJR1a3o2LTTbe/fUSRalcOtgWZJcTbGyu2VZDExT2tB8wAC9mFZyabdYeGKorQX1EN1BlNbfKDC/H0I9uMx9X0Krpmf5oZyRHBb0p2Ev5SJLpky4h1r2HcZBPkpqcdESHepqb0Jxx2URWLQ0xGd7pbBQCmUi0EqxqGj0aGz5+yHIqm50yB/6CzuawaObUFE+pdtTjxDGMmLxuvLW8rTwQepvLpaC2YYkcoxoWtTdOAmhZnF1fQgl8WrDSY8seSTLCtYHIrjgzMvQQkZhrjRL1obKFhm/VRkeCdKWlWHl9xQjrSQgL4hq5yplg2o2KGm1VQqUMkY7UDqFeITCVCtBHYOdvZtKIZ5XrVdK0RZJpfgLqUTuq/PwTk8AAAAASUVORK5CYII=\" id=\"imagee9e00077da\" transform=\"matrix(2.63 0 0 2.63 7.2 6.28)\" style=\"image-rendering:crisp-edges;image-rendering:pixelated\" width=\"100\" height=\"100\"/>\n",
       "   </g>\n",
       "  </g>\n",
       "  <g id=\"axes_2\">\n",
       "   <g clip-path=\"url(#p72b783947b)\">\n",
       "    <image xlink:href=\"data:image/png;base64,\n",
       "iVBORw0KGgoAAAANSUhEUgAAAGQAAABkCAYAAABw4pVUAAAD00lEQVR4nO2c23GkQAxFNVsbxUQxQWzVJLDJOgtH4TTsL6pwFw0Sel2Bzt88gEa3JfX78e/x/5saGP5kF6D5TQsCRgsCRgsCRgsCRgsCRgsCRgsCRgsCRgsCxt/sAnD5+Pqk9/Ml+v+I5PosoAVZG1Urxtb3iAJBCyJlJkQlYHOI1LhXEIMI0EOOws1WmLmKGERAHvLx9cky7Pg/TzEyhIYRRApXwBmchP5+vsJFKStIFNEtsRYEDLikvsVYS6+UxEfgBcnqvB2J7lUumJC19YJeL310X25rzwMYQUY8xHg/XyZinPkvl/SQ5fFSZ8Q8Ww7poOcRKYJYiaA1hFU5LEUJD1lXE8OaUEGy47MnVuWFTeozlhfXGMBLbIv7huUQDyPsjQBrWd8zsk8S4iGWyXP2vaXgo4H3DG5dGdw9JDIXcOfRZ6O4R4aPmAJ+eO4P0YqxvLCFqFbG8wyTRI6CSOJulBchLmoYcckh0iTIGdK4C2Y5hFvL2/D7qD3EsoXjKVaViqASpFpvugJwPXXvTh464aO9e15lbbhKQizAeQiRjSErikGk9BDLdUuWBuTcK2vO/Ai1h1SsiciNEZOQpRVFcr12XhxZDCLnsaw1M0PsGffoGkkDQSpElueHCUJ0bgNOVo3OEiS02Vsx30STvgyICD+uR5LeD2kxfmPiIZG97wgyy2wy2nslsisQRA6R4jHbmC3EgqsglgubZ/fkDN+c6etkoRaEa3TPAcNZRxGl1kuAXnWyxtO43itJJKQ3ezkgGGoL6wV6REJBsuJt1HMR9sqLPUTycMuavRghQpzZcyKeL8ohZ0/nGa+1BGmfyKwskg09Ig/RvLxXHjhbaz1q+8yrJO8emtS9W0ocI3uHHW1uCe2pRyZnorwDBzTPKTl0wgWtF85BHLJQ+wSoSO0VlkMq1tYM4EJWlYNmym3YWcMxqnZENlJIz7CdPpbFWWel/b0SqSFLukDuDqR7SEU8w+GltkWvsTqWvA/BTGDvoICSh2CeHRpHatJmHaUxYtbs3ZsGtX5BzTQA555HlGj2Rp0HknkeIpF/CCuVQ2bzDVufvc7mgpox1CI98OXoWg4W29uk99NQwkMQDyvzooQgdyJ1CvcuwyESbuEhlRZkpwlilcyv5mWhrawzcDcDcedMZguyUYSHFkS6Mwt1MZ4EuClcIn2fo8qq+y3gkrp2upfzO4esYwfhBLFiNCjXuNnnP0KGLEsy5zbOAOchmhoatV3BE1gPkS7rGRc5V/CGLaCbvXcELmTdnRYEjBYEjBYEjBYEjBYEjBYEjBYEjBYEjB99XQ3jVcQmJwAAAABJRU5ErkJggg==\" id=\"imagec289ee1fe1\" transform=\"matrix(2.63 0 0 2.63 285.48 6.28)\" style=\"image-rendering:crisp-edges;image-rendering:pixelated\" width=\"100\" height=\"100\"/>\n",
       "   </g>\n",
       "  </g>\n",
       " </g>\n",
       " <defs>\n",
       "  <clipPath id=\"p2aa9da82a0\">\n",
       "   <rect x=\"7.2\" y=\"7.2\" width=\"262.08\" height=\"262.08\"/>\n",
       "  </clipPath>\n",
       "  <clipPath id=\"p72b783947b\">\n",
       "   <rect x=\"285.48\" y=\"7.2\" width=\"262.08\" height=\"262.08\"/>\n",
       "  </clipPath>\n",
       " </defs>\n",
       "</svg>\n"
      ],
      "text/plain": [
       "<Figure size 800x400 with 2 Axes>"
      ]
     },
     "metadata": {},
     "output_type": "display_data"
    }
   ],
   "source": [
    "cyl = ps.tools.extract_cylinder(im=im, r=40, axis=2)\n",
    "\n",
    "fig, ax = plt.subplots(1, 2, figsize=[8, 4]);\n",
    "ax[0].imshow(im[..., 50]);\n",
    "ax[0].axis(False)\n",
    "ax[1].imshow(cyl[..., 50]);\n",
    "ax[1].axis(False);"
   ]
  }
 ],
 "metadata": {
  "kernelspec": {
   "display_name": "Python 3 (ipykernel)",
   "language": "python",
   "name": "python3"
  },
  "language_info": {
   "codemirror_mode": {
    "name": "ipython",
    "version": 3
   },
   "file_extension": ".py",
   "mimetype": "text/x-python",
   "name": "python",
   "nbconvert_exporter": "python",
   "pygments_lexer": "ipython3",
   "version": "3.8.13"
  }
 },
 "nbformat": 4,
 "nbformat_minor": 5
}

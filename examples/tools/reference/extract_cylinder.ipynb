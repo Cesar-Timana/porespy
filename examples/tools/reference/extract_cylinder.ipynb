{
 "cells": [
  {
   "cell_type": "markdown",
   "id": "central-afghanistan",
   "metadata": {},
   "source": [
    "# `extract_cylinder`"
   ]
  },
  {
   "cell_type": "markdown",
   "id": "after-error",
   "metadata": {},
   "source": [
    "## Import Packages"
   ]
  },
  {
   "cell_type": "code",
   "execution_count": 1,
   "id": "educational-creator",
   "metadata": {
    "execution": {
     "iopub.execute_input": "2022-08-23T01:47:11.133286Z",
     "iopub.status.busy": "2022-08-23T01:47:11.133056Z",
     "iopub.status.idle": "2022-08-23T01:47:12.886607Z",
     "shell.execute_reply": "2022-08-23T01:47:12.885939Z"
    }
   },
   "outputs": [],
   "source": [
    "import numpy as np\n",
    "import porespy as ps\n",
    "import scipy.ndimage as spim\n",
    "import matplotlib.pyplot as plt\n",
    "import skimage\n",
    "ps.visualization.set_mpl_style()"
   ]
  },
  {
   "cell_type": "markdown",
   "id": "irish-pixel",
   "metadata": {},
   "source": [
    "## Generate Image for Testing"
   ]
  },
  {
   "cell_type": "code",
   "execution_count": 2,
   "id": "surgical-playback",
   "metadata": {
    "execution": {
     "iopub.execute_input": "2022-08-23T01:47:12.890898Z",
     "iopub.status.busy": "2022-08-23T01:47:12.890227Z",
     "iopub.status.idle": "2022-08-23T01:47:12.970701Z",
     "shell.execute_reply": "2022-08-23T01:47:12.970090Z"
    }
   },
   "outputs": [],
   "source": [
    "im = ps.generators.blobs([100, 100, 100])"
   ]
  },
  {
   "cell_type": "markdown",
   "id": "engaged-aluminum",
   "metadata": {},
   "source": [
    "## Apply tool and visualize\n",
    "This tool is useful for extracting a cylindrical core from an otherwise cubic image.  This might be helpful if a cylindrical domain is needed, or to test a workflow on a tomogram that has has not been cropped yet."
   ]
  },
  {
   "cell_type": "code",
   "execution_count": 3,
   "id": "fancy-instruction",
   "metadata": {
    "execution": {
     "iopub.execute_input": "2022-08-23T01:47:12.974256Z",
     "iopub.status.busy": "2022-08-23T01:47:12.973895Z",
     "iopub.status.idle": "2022-08-23T01:47:13.048175Z",
     "shell.execute_reply": "2022-08-23T01:47:13.047612Z"
    }
   },
   "outputs": [
    {
     "data": {
      "image/svg+xml": [
       "<?xml version=\"1.0\" encoding=\"utf-8\" standalone=\"no\"?>\n",
       "<!DOCTYPE svg PUBLIC \"-//W3C//DTD SVG 1.1//EN\"\n",
       "  \"http://www.w3.org/Graphics/SVG/1.1/DTD/svg11.dtd\">\n",
       "<svg xmlns:xlink=\"http://www.w3.org/1999/xlink\" width=\"554.76pt\" height=\"276.48pt\" viewBox=\"0 0 554.76 276.48\" xmlns=\"http://www.w3.org/2000/svg\" version=\"1.1\">\n",
       " <metadata>\n",
       "  <rdf:RDF xmlns:dc=\"http://purl.org/dc/elements/1.1/\" xmlns:cc=\"http://creativecommons.org/ns#\" xmlns:rdf=\"http://www.w3.org/1999/02/22-rdf-syntax-ns#\">\n",
       "   <cc:Work>\n",
       "    <dc:type rdf:resource=\"http://purl.org/dc/dcmitype/StillImage\"/>\n",
       "    <dc:date>2022-08-23T01:47:13.034877</dc:date>\n",
       "    <dc:format>image/svg+xml</dc:format>\n",
       "    <dc:creator>\n",
       "     <cc:Agent>\n",
       "      <dc:title>Matplotlib v3.5.3, https://matplotlib.org/</dc:title>\n",
       "     </cc:Agent>\n",
       "    </dc:creator>\n",
       "   </cc:Work>\n",
       "  </rdf:RDF>\n",
       " </metadata>\n",
       " <defs>\n",
       "  <style type=\"text/css\">*{stroke-linejoin: round; stroke-linecap: butt}</style>\n",
       " </defs>\n",
       " <g id=\"figure_1\">\n",
       "  <g id=\"patch_1\">\n",
       "   <path d=\"M 0 276.48 \n",
       "L 554.76 276.48 \n",
       "L 554.76 0 \n",
       "L 0 0 \n",
       "z\n",
       "\" style=\"fill: #ffffff\"/>\n",
       "  </g>\n",
       "  <g id=\"axes_1\">\n",
       "   <g clip-path=\"url(#p629b7601bc)\">\n",
       "    <image xlink:href=\"data:image/png;base64,\n",
       "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\" id=\"image8be28cfca1\" transform=\"matrix(2.63 0 0 2.63 7.2 6.28)\" style=\"image-rendering:crisp-edges;image-rendering:pixelated\" width=\"100\" height=\"100\"/>\n",
       "   </g>\n",
       "  </g>\n",
       "  <g id=\"axes_2\">\n",
       "   <g clip-path=\"url(#p8f572b46cb)\">\n",
       "    <image xlink:href=\"data:image/png;base64,\n",
       "iVBORw0KGgoAAAANSUhEUgAAAGQAAABkCAYAAABw4pVUAAAESUlEQVR4nO2c4Y0cIQyF2ShVbBVbRKRt4JpNF6kibSS/kDjEMNh+th8rvl9J7maG+GFjjGcevx5f/8qBhh/ZAzh85whCxhGEjCMIGUcQMo4gZBxByDiCkHEEIeMIQsbP7AF48vvvn29/fz9fKeOQsJ0grZGlBt5BoK0E6Q1a/641rEVcL7ZZQ3oxPH5feo0H2wgy48pztPfKFGYLQe4M1IYbhlluYas1ZEQf+9/P13TxXhUsa33ZwkOkVAO+ny+IMSO9LsVDULNvdi16VlszulXCBRktwBEhQTvLo9Ph0JB1ZZSZsa5+JjHULmKUssEaYjXKqhj9epO1UQwT5M4wHgunRIz2z5m7dioPmYUn6ezViMEA3T5kls2wGc8DKg9picj9NQLX0orX+EIEyShneHgTsmZ2hbsgHrGcaX1Ai/Lwarb2Mppmlx+9l7FMBPiizngqNyo4suIasrzqSRqsY7m7vqbm1ufAPcTLI3aZ4VZo094KKsUc3QMlMnIS0gqyIoTmsEl7j1Ji1kOqnbpmxt6V71fuGXXWsQKth0jQlPW1v+8tmkqQzMpsKeOKLGpMq6K0x8RIxCGrDpihyazfX0RnYh7/b0jIiuxlGnWZaK5j5SPWEOT5SDZUWZaFKoq34b1DtdhDvFyfOaRcnYEg9kE9VCHrrs9qRbTo+hl6/VQJ4jmbR+fn0uehjn8lhkadJMI8BC0SsvtDumewGtZyrVoQ5pjfok2TPccwg2oNiSL6aFfiMelp72ywXo3Y9eeRKfIqaR6CLK9rkQge1dEI85BZGZy52VnqKd6eBfUQz1O52TOtz2BKUESCRFZWo+tTkS//zFCV3zUDRNaaVluNpHUnRGdK+MZQOpMi3rtYCZXeB1ioA6uULMuasdxdjzrSlYwHhUgQ9ExHNq95d6XXZ3jjnmXdgfAWCVqjepTaR5ibrZE7bUs7jnYyeN1b+yxI9zuiu9wDRFtPpBilfHhx0bqXyTiHpxQEuUBrRclqijDXshgqpujKbmaHislDsqu17XPunpXZzCeBMmRpsYjC0rdlEmQ1Pmd1NWrIFsa8hoyMcLVIejRCIEGLoRkfZcha2b1n73FmUL2Fi6SvVY3+nRXtGCk9ZATqLVfNc6Wk9GVJ2WFWX4HonFxlGw/JJDLzggsyGvzO3iEVY8sTw08FMfGgWVb2pmqFu7qW9mVSVBQISXvZPkjTi5I9nhb455mQM4pFyMjCpcv3shCiaE4hvWd9RMIS8gGzWdxG9wPf3dcK3Uufq4xelFktRI6uZwHVEHeFm4dU+iqvtkvF6z0SNtwFKUX+HZPVe32SEJWQtBfZaP2JIrSE7tSjXzHYkZCQ1RO9+12FoQ6XIkiF4YNhFZZNaKoglewWHqZEgUKQSkZqa2nw9oBKkBaGeJ4BrSA9bDPZC+quk5ZPF6JyTgzJOIKQcQQh4whCxhGEjCMIGUcQMo4gZBxByPgPPUuDUj8R5qkAAAAASUVORK5CYII=\" id=\"image2f3e473fad\" transform=\"matrix(2.63 0 0 2.63 285.48 6.28)\" style=\"image-rendering:crisp-edges;image-rendering:pixelated\" width=\"100\" height=\"100\"/>\n",
       "   </g>\n",
       "  </g>\n",
       " </g>\n",
       " <defs>\n",
       "  <clipPath id=\"p629b7601bc\">\n",
       "   <rect x=\"7.2\" y=\"7.2\" width=\"262.08\" height=\"262.08\"/>\n",
       "  </clipPath>\n",
       "  <clipPath id=\"p8f572b46cb\">\n",
       "   <rect x=\"285.48\" y=\"7.2\" width=\"262.08\" height=\"262.08\"/>\n",
       "  </clipPath>\n",
       " </defs>\n",
       "</svg>\n"
      ],
      "text/plain": [
       "<Figure size 800x400 with 2 Axes>"
      ]
     },
     "metadata": {},
     "output_type": "display_data"
    }
   ],
   "source": [
    "cyl = ps.tools.extract_cylinder(im=im, r=40, axis=2)\n",
    "\n",
    "fig, ax = plt.subplots(1, 2, figsize=[8, 4]);\n",
    "ax[0].imshow(im[..., 50]);\n",
    "ax[0].axis(False)\n",
    "ax[1].imshow(cyl[..., 50]);\n",
    "ax[1].axis(False);"
   ]
  }
 ],
 "metadata": {
  "kernelspec": {
   "display_name": "Python 3 (ipykernel)",
   "language": "python",
   "name": "python3"
  },
  "language_info": {
   "codemirror_mode": {
    "name": "ipython",
    "version": 3
   },
   "file_extension": ".py",
   "mimetype": "text/x-python",
   "name": "python",
   "nbconvert_exporter": "python",
   "pygments_lexer": "ipython3",
   "version": "3.8.13"
  }
 },
 "nbformat": 4,
 "nbformat_minor": 5
}

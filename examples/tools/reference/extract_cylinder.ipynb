{
 "cells": [
  {
   "cell_type": "markdown",
   "id": "central-afghanistan",
   "metadata": {},
   "source": [
    "# `extract_cylinder`"
   ]
  },
  {
   "cell_type": "markdown",
   "id": "after-error",
   "metadata": {},
   "source": [
    "## Import Packages"
   ]
  },
  {
   "cell_type": "code",
   "execution_count": 1,
   "id": "educational-creator",
   "metadata": {
    "execution": {
     "iopub.execute_input": "2022-08-22T18:55:11.579663Z",
     "iopub.status.busy": "2022-08-22T18:55:11.579369Z",
     "iopub.status.idle": "2022-08-22T18:55:13.492527Z",
     "shell.execute_reply": "2022-08-22T18:55:13.491050Z"
    }
   },
   "outputs": [],
   "source": [
    "import numpy as np\n",
    "import porespy as ps\n",
    "import scipy.ndimage as spim\n",
    "import matplotlib.pyplot as plt\n",
    "import skimage\n",
    "ps.visualization.set_mpl_style()"
   ]
  },
  {
   "cell_type": "markdown",
   "id": "irish-pixel",
   "metadata": {},
   "source": [
    "## Generate Image for Testing"
   ]
  },
  {
   "cell_type": "code",
   "execution_count": 2,
   "id": "surgical-playback",
   "metadata": {
    "execution": {
     "iopub.execute_input": "2022-08-22T18:55:13.496928Z",
     "iopub.status.busy": "2022-08-22T18:55:13.496200Z",
     "iopub.status.idle": "2022-08-22T18:55:13.576201Z",
     "shell.execute_reply": "2022-08-22T18:55:13.575108Z"
    }
   },
   "outputs": [],
   "source": [
    "im = ps.generators.blobs([100, 100, 100])"
   ]
  },
  {
   "cell_type": "markdown",
   "id": "engaged-aluminum",
   "metadata": {},
   "source": [
    "## Apply tool and visualize\n",
    "This tool is useful for extracting a cylindrical core from an otherwise cubic image.  This might be helpful if a cylindrical domain is needed, or to test a workflow on a tomogram that has has not been cropped yet."
   ]
  },
  {
   "cell_type": "code",
   "execution_count": 3,
   "id": "fancy-instruction",
   "metadata": {
    "execution": {
     "iopub.execute_input": "2022-08-22T18:55:13.580218Z",
     "iopub.status.busy": "2022-08-22T18:55:13.579690Z",
     "iopub.status.idle": "2022-08-22T18:55:13.658900Z",
     "shell.execute_reply": "2022-08-22T18:55:13.658355Z"
    }
   },
   "outputs": [
    {
     "data": {
      "image/svg+xml": [
       "<?xml version=\"1.0\" encoding=\"utf-8\" standalone=\"no\"?>\n",
       "<!DOCTYPE svg PUBLIC \"-//W3C//DTD SVG 1.1//EN\"\n",
       "  \"http://www.w3.org/Graphics/SVG/1.1/DTD/svg11.dtd\">\n",
       "<svg xmlns:xlink=\"http://www.w3.org/1999/xlink\" width=\"554.76pt\" height=\"276.48pt\" viewBox=\"0 0 554.76 276.48\" xmlns=\"http://www.w3.org/2000/svg\" version=\"1.1\">\n",
       " <metadata>\n",
       "  <rdf:RDF xmlns:dc=\"http://purl.org/dc/elements/1.1/\" xmlns:cc=\"http://creativecommons.org/ns#\" xmlns:rdf=\"http://www.w3.org/1999/02/22-rdf-syntax-ns#\">\n",
       "   <cc:Work>\n",
       "    <dc:type rdf:resource=\"http://purl.org/dc/dcmitype/StillImage\"/>\n",
       "    <dc:date>2022-08-22T18:55:13.646642</dc:date>\n",
       "    <dc:format>image/svg+xml</dc:format>\n",
       "    <dc:creator>\n",
       "     <cc:Agent>\n",
       "      <dc:title>Matplotlib v3.5.3, https://matplotlib.org/</dc:title>\n",
       "     </cc:Agent>\n",
       "    </dc:creator>\n",
       "   </cc:Work>\n",
       "  </rdf:RDF>\n",
       " </metadata>\n",
       " <defs>\n",
       "  <style type=\"text/css\">*{stroke-linejoin: round; stroke-linecap: butt}</style>\n",
       " </defs>\n",
       " <g id=\"figure_1\">\n",
       "  <g id=\"patch_1\">\n",
       "   <path d=\"M 0 276.48 \n",
       "L 554.76 276.48 \n",
       "L 554.76 0 \n",
       "L 0 0 \n",
       "z\n",
       "\" style=\"fill: #ffffff\"/>\n",
       "  </g>\n",
       "  <g id=\"axes_1\">\n",
       "   <g clip-path=\"url(#p5117e9fd27)\">\n",
       "    <image xlink:href=\"data:image/png;base64,\n",
       "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\" id=\"image33d17f3b8a\" transform=\"matrix(2.63 0 0 2.63 7.2 6.28)\" style=\"image-rendering:crisp-edges;image-rendering:pixelated\" width=\"100\" height=\"100\"/>\n",
       "   </g>\n",
       "  </g>\n",
       "  <g id=\"axes_2\">\n",
       "   <g clip-path=\"url(#p90ac5f1ce0)\">\n",
       "    <image xlink:href=\"data:image/png;base64,\n",
       "iVBORw0KGgoAAAANSUhEUgAAAGQAAABkCAYAAABw4pVUAAAETklEQVR4nO2c23HcMAxFsZlUsVW4iMxsA2nWXbgKt5F8ySNr+MAblxbPTD7ilUgJly+AoB5/Hn//0QaGX9UPsPnOFgSMLQgYWxAwtiBgbEHA2IKAsQUBYwsCxhYEjN/VD8Dl/fNj+Pvr+Ta9f3YNArCCzAQ4wzX0tUxEgaAEkYhwYDHquT4UcSAE0QhBpO8Zo2uqhSkVRCtEJNXC/PhVFqLoI0oFeT3f1C2Rc99qYhDdoIdoqJxHIASRGEDSqzSG/fGTutYh8zLM6/nGHrqqxSAieiAlOUSvcEbCIIhBBOKHZNEyOlpIBWIOIfreejNXR0hiEAH0kJ7xzy0XMcQRRbogkta/oh9hJXXIuqOBpaT1EC8xMibhytVYiiAr9YzZs1o3ymaECSIV4foiFSIiNJyQOcQqRu9vkSCIQQSw7JUavufcactDI0SQlv8wuk77e6sONM9bSmgPac0L3sa6Bg+jy48GKriITEQWTAuYWFY2758fX/84ZA2D6iGr9yIrjN/aeSdj+HLvISjLx0oOG2hscbshaxRdjqhHWu7tBEFHLcgKc8UVay/IWGmZ/JDsNXqLVv0zb74FJ3uey1GWRpTy0ImWkYGuyRJc0WblcoCN9lrpGbFix5EbCvLAJIik5WnLk/wewfl9MoRRT+pRy8RKuAd6pH+XcNtlb0YkWgPsHHImagL2DP94CeQqSESrGZV5/s1jyIs8GsEFZsiybuNes+KP/0dlykfNeeoeguAUtvDYEu4Bv+z1FuVcXuTy+Vyf5f4IXIesjBeZbSytLAZRgGPo5SxeN40kR5u1VItBFLBj2LtWKwqnXA9DIohBlLjKinphj68/oIhBpBQEybgr1jlCLAgn5IA6YR5Y9rwt9XEQzSGSNH1UP+Uga0UoRdRDet60R+gAWbwZs9WmxD6mSd1r5bSyGFckyXct0qO93isczf45MmFZJxwH0WK40VC5YkbMgVgQjhCtnTdPI3HTPitoLW4kmIcs7c6btncgtn7PZ0oJnXjei8RoyNS+o2oOQRkOvK/3KtuyhQDzJYeo+FL2Nq+1Dojc3kiH07NMiRjaeuC/uZidOJH5HC3SPXVp8sEZ7+1iz2u9Dp6G9pA7xbi8epDLKVzvHN9RuV5lz+qIrHOESw9p5UNZyeoZ3Gc976FEPhvkOfXoL+5o6uzh/SwwmYsH0T0juoVbgUi2rjjaIJ07skQsEyTiBZFbPpeSISsioa36dJUXELEsjzjWLMKqqYN7FMKT8q+Sao8hSHwf61EHz3tnwK2yDrT+jHXHroVXWIQDxCprhCZ8fgxfnMAl57z79TkiSXcMPbPjtff2yuqRuSGXPmR5pe1w/AMPJzB7d7Q0dMI9Fy69XxqUjAqOaoCIZWmGH6/Yk7VReAMxqVcbAeUZiEB6iJTV5gUJED0kC2QhDpYUZAXDaoH11O/KFgSMLQgYWxAwtiBgbEHA2IKAsQUBYwsCxn99YGe9LA8uAQAAAABJRU5ErkJggg==\" id=\"imagea70ec67241\" transform=\"matrix(2.63 0 0 2.63 285.48 6.28)\" style=\"image-rendering:crisp-edges;image-rendering:pixelated\" width=\"100\" height=\"100\"/>\n",
       "   </g>\n",
       "  </g>\n",
       " </g>\n",
       " <defs>\n",
       "  <clipPath id=\"p5117e9fd27\">\n",
       "   <rect x=\"7.2\" y=\"7.2\" width=\"262.08\" height=\"262.08\"/>\n",
       "  </clipPath>\n",
       "  <clipPath id=\"p90ac5f1ce0\">\n",
       "   <rect x=\"285.48\" y=\"7.2\" width=\"262.08\" height=\"262.08\"/>\n",
       "  </clipPath>\n",
       " </defs>\n",
       "</svg>\n"
      ],
      "text/plain": [
       "<Figure size 800x400 with 2 Axes>"
      ]
     },
     "metadata": {},
     "output_type": "display_data"
    }
   ],
   "source": [
    "cyl = ps.tools.extract_cylinder(im=im, r=40, axis=2)\n",
    "\n",
    "fig, ax = plt.subplots(1, 2, figsize=[8, 4]);\n",
    "ax[0].imshow(im[..., 50]);\n",
    "ax[0].axis(False)\n",
    "ax[1].imshow(cyl[..., 50]);\n",
    "ax[1].axis(False);"
   ]
  }
 ],
 "metadata": {
  "kernelspec": {
   "display_name": "Python 3 (ipykernel)",
   "language": "python",
   "name": "python3"
  },
  "language_info": {
   "codemirror_mode": {
    "name": "ipython",
    "version": 3
   },
   "file_extension": ".py",
   "mimetype": "text/x-python",
   "name": "python",
   "nbconvert_exporter": "python",
   "pygments_lexer": "ipython3",
   "version": "3.8.13"
  }
 },
 "nbformat": 4,
 "nbformat_minor": 5
}

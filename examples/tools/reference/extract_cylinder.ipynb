{
 "cells": [
  {
   "cell_type": "markdown",
   "id": "central-afghanistan",
   "metadata": {},
   "source": [
    "# `extract_cylinder`"
   ]
  },
  {
   "cell_type": "markdown",
   "id": "after-error",
   "metadata": {},
   "source": [
    "## Import Packages"
   ]
  },
  {
   "cell_type": "code",
   "execution_count": 1,
   "id": "educational-creator",
   "metadata": {
    "execution": {
     "iopub.execute_input": "2022-08-23T01:16:19.440933Z",
     "iopub.status.busy": "2022-08-23T01:16:19.440677Z",
     "iopub.status.idle": "2022-08-23T01:16:21.201295Z",
     "shell.execute_reply": "2022-08-23T01:16:21.200606Z"
    }
   },
   "outputs": [],
   "source": [
    "import numpy as np\n",
    "import porespy as ps\n",
    "import scipy.ndimage as spim\n",
    "import matplotlib.pyplot as plt\n",
    "import skimage\n",
    "ps.visualization.set_mpl_style()"
   ]
  },
  {
   "cell_type": "markdown",
   "id": "irish-pixel",
   "metadata": {},
   "source": [
    "## Generate Image for Testing"
   ]
  },
  {
   "cell_type": "code",
   "execution_count": 2,
   "id": "surgical-playback",
   "metadata": {
    "execution": {
     "iopub.execute_input": "2022-08-23T01:16:21.204788Z",
     "iopub.status.busy": "2022-08-23T01:16:21.204313Z",
     "iopub.status.idle": "2022-08-23T01:16:21.282829Z",
     "shell.execute_reply": "2022-08-23T01:16:21.282197Z"
    }
   },
   "outputs": [],
   "source": [
    "im = ps.generators.blobs([100, 100, 100])"
   ]
  },
  {
   "cell_type": "markdown",
   "id": "engaged-aluminum",
   "metadata": {},
   "source": [
    "## Apply tool and visualize\n",
    "This tool is useful for extracting a cylindrical core from an otherwise cubic image.  This might be helpful if a cylindrical domain is needed, or to test a workflow on a tomogram that has has not been cropped yet."
   ]
  },
  {
   "cell_type": "code",
   "execution_count": 3,
   "id": "fancy-instruction",
   "metadata": {
    "execution": {
     "iopub.execute_input": "2022-08-23T01:16:21.286276Z",
     "iopub.status.busy": "2022-08-23T01:16:21.285753Z",
     "iopub.status.idle": "2022-08-23T01:16:21.358037Z",
     "shell.execute_reply": "2022-08-23T01:16:21.357538Z"
    }
   },
   "outputs": [
    {
     "data": {
      "image/svg+xml": [
       "<?xml version=\"1.0\" encoding=\"utf-8\" standalone=\"no\"?>\n",
       "<!DOCTYPE svg PUBLIC \"-//W3C//DTD SVG 1.1//EN\"\n",
       "  \"http://www.w3.org/Graphics/SVG/1.1/DTD/svg11.dtd\">\n",
       "<svg xmlns:xlink=\"http://www.w3.org/1999/xlink\" width=\"554.76pt\" height=\"276.48pt\" viewBox=\"0 0 554.76 276.48\" xmlns=\"http://www.w3.org/2000/svg\" version=\"1.1\">\n",
       " <metadata>\n",
       "  <rdf:RDF xmlns:dc=\"http://purl.org/dc/elements/1.1/\" xmlns:cc=\"http://creativecommons.org/ns#\" xmlns:rdf=\"http://www.w3.org/1999/02/22-rdf-syntax-ns#\">\n",
       "   <cc:Work>\n",
       "    <dc:type rdf:resource=\"http://purl.org/dc/dcmitype/StillImage\"/>\n",
       "    <dc:date>2022-08-23T01:16:21.346495</dc:date>\n",
       "    <dc:format>image/svg+xml</dc:format>\n",
       "    <dc:creator>\n",
       "     <cc:Agent>\n",
       "      <dc:title>Matplotlib v3.5.3, https://matplotlib.org/</dc:title>\n",
       "     </cc:Agent>\n",
       "    </dc:creator>\n",
       "   </cc:Work>\n",
       "  </rdf:RDF>\n",
       " </metadata>\n",
       " <defs>\n",
       "  <style type=\"text/css\">*{stroke-linejoin: round; stroke-linecap: butt}</style>\n",
       " </defs>\n",
       " <g id=\"figure_1\">\n",
       "  <g id=\"patch_1\">\n",
       "   <path d=\"M 0 276.48 \n",
       "L 554.76 276.48 \n",
       "L 554.76 0 \n",
       "L 0 0 \n",
       "z\n",
       "\" style=\"fill: #ffffff\"/>\n",
       "  </g>\n",
       "  <g id=\"axes_1\">\n",
       "   <g clip-path=\"url(#p2db65c6b23)\">\n",
       "    <image xlink:href=\"data:image/png;base64,\n",
       "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\" id=\"image780241470f\" transform=\"matrix(2.63 0 0 2.63 7.2 6.28)\" style=\"image-rendering:crisp-edges;image-rendering:pixelated\" width=\"100\" height=\"100\"/>\n",
       "   </g>\n",
       "  </g>\n",
       "  <g id=\"axes_2\">\n",
       "   <g clip-path=\"url(#p8a88390bdb)\">\n",
       "    <image xlink:href=\"data:image/png;base64,\n",
       "iVBORw0KGgoAAAANSUhEUgAAAGQAAABkCAYAAABw4pVUAAAEPUlEQVR4nO2c3Y3jMAyElcNVkSpSxAFp4JpNF6kibdw9CfAatiSSQ3Lk6HvaXaxliaMfipR8+3P7+68saPiVXYHFT5YgZCxByFiCkLEEIWMJQsYShIwlCBlLEDKWIGT8zq7AKK/P21zG8/4wl+HNFIIgxDgqh1GgKaas5/3hYjyU0EgoRsjWMC3DP+8PmBEZR0cpyYJE91BWEbakCNIS4vV5qw2HNrilLlrCBfEYFR5CbH+OFCV0UWdcRPcc1TGy3iGCvD5vSKMyBY16t7sg0oacTQ8zjC4EroLMaMSzDhG1jrgJEilG7111yhypU3YnchEE3ahsI03tZVmMZ2k4egdfwzWtOqGclS00sSxEL8wKqyBFgW8M9/GmfeOOKu89JcwQMqm47NRbQUAm44wGNXvP1t8RbaPbh0RwNPezbFzDduoZz0aUhy4/LLjYGtJXz3FIMI0QqSG9eudoRhH5fi/xzVOWtZHW55lGBSLVrJ6yNIbUVLY+4+0uW+qGBLKGHK0PiMpuy7CWN4MbXopyyopI4qANdVSetxgam0DdXo/YjheMYpQySbQXjVaMiA4nFmSkQqMNzhJO8979wYceLWekhXlRZ1sUPdB2HI1t1FOW1eeOHh3a2NXZ/3nVn+IoqRcjqV22QxUiQWolpWGK6GlNYkxr4BPdthAvS+qdzDYVpmYMUT3ias6AZPZoQZNTR8Bwblhy5OiISwnigXWNkT7vIkhG3EjyDq8bWWdIRKFyeyM8M/a166b9gNlIfmJ0oUOHxkfLi/TIRtsCj/buK6EV41uhOkrqWVZk2Rao1hALPQNvRyoqWOghqim4yMCIa+khRv3blKGTFpZGIXMzljJ6d+sldaCZsqJGnPTjA5Z6heZDejAsmq3raSM9V2JQVIdShd+1/x+57kh27aXkpgu2XPKeeoZBUUejRIIw3XIqBWd4pv3O9NFey4nJM5c5c/2j8LJGDYC8Q27Jt3uSPkKi8t/1eUmOImOkqFK4mUN6tOei6mgdKdJnKaYsKdJbvp7vQ5M+ZVnZTkERI9f7HaoR0ruLXopsoUYklCKuQ0hPMWpGk9vZXkmE9UiUrN1yL1DojTqFW0rOSUbPKQMZddaWBVlDGAKJVljyOyZBpNNS9PGbUSKuz40yvZd1NcyCINKj2TAFPCEbw97uPSPXkNFREG0zeVmjoHPfUgOPimPxslAd7SvWkKjDEAjcR4jngQKmuR+Fa3DR+3SH13mrTNwEiTpqo3lHVvJpBDdBep5XpkFYxSjFeVFHplwtdWAWYE+42zuTcTIIcXtn66WZhO5Dlih9UjaGrfNQ6DBHxCeVkISsIWdI7nUgyp9hhKYKUvEQBn2RNAoKQSqofctMsas9VOeyRkMhiDWBdbdOJcgWj+9YMQqwh1aQM2YwqoWvyIfMxBKEjCUIGUsQMpYgZCxByFiCkLEEIWMJQsZ/bzZ3sXf84MUAAAAASUVORK5CYII=\" id=\"image813ab21db7\" transform=\"matrix(2.63 0 0 2.63 285.48 6.28)\" style=\"image-rendering:crisp-edges;image-rendering:pixelated\" width=\"100\" height=\"100\"/>\n",
       "   </g>\n",
       "  </g>\n",
       " </g>\n",
       " <defs>\n",
       "  <clipPath id=\"p2db65c6b23\">\n",
       "   <rect x=\"7.2\" y=\"7.2\" width=\"262.08\" height=\"262.08\"/>\n",
       "  </clipPath>\n",
       "  <clipPath id=\"p8a88390bdb\">\n",
       "   <rect x=\"285.48\" y=\"7.2\" width=\"262.08\" height=\"262.08\"/>\n",
       "  </clipPath>\n",
       " </defs>\n",
       "</svg>\n"
      ],
      "text/plain": [
       "<Figure size 800x400 with 2 Axes>"
      ]
     },
     "metadata": {},
     "output_type": "display_data"
    }
   ],
   "source": [
    "cyl = ps.tools.extract_cylinder(im=im, r=40, axis=2)\n",
    "\n",
    "fig, ax = plt.subplots(1, 2, figsize=[8, 4]);\n",
    "ax[0].imshow(im[..., 50]);\n",
    "ax[0].axis(False)\n",
    "ax[1].imshow(cyl[..., 50]);\n",
    "ax[1].axis(False);"
   ]
  }
 ],
 "metadata": {
  "kernelspec": {
   "display_name": "Python 3 (ipykernel)",
   "language": "python",
   "name": "python3"
  },
  "language_info": {
   "codemirror_mode": {
    "name": "ipython",
    "version": 3
   },
   "file_extension": ".py",
   "mimetype": "text/x-python",
   "name": "python",
   "nbconvert_exporter": "python",
   "pygments_lexer": "ipython3",
   "version": "3.8.13"
  }
 },
 "nbformat": 4,
 "nbformat_minor": 5
}

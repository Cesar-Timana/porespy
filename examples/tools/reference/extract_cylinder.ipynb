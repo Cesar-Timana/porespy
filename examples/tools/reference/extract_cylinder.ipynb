{
 "cells": [
  {
   "cell_type": "markdown",
   "id": "central-afghanistan",
   "metadata": {},
   "source": [
    "# `extract_cylinder`"
   ]
  },
  {
   "cell_type": "markdown",
   "id": "after-error",
   "metadata": {},
   "source": [
    "## Import Packages"
   ]
  },
  {
   "cell_type": "code",
   "execution_count": 1,
   "id": "educational-creator",
   "metadata": {
    "execution": {
     "iopub.execute_input": "2022-09-09T11:06:01.944868Z",
     "iopub.status.busy": "2022-09-09T11:06:01.944468Z",
     "iopub.status.idle": "2022-09-09T11:06:03.624221Z",
     "shell.execute_reply": "2022-09-09T11:06:03.623523Z"
    }
   },
   "outputs": [],
   "source": [
    "import numpy as np\n",
    "import porespy as ps\n",
    "import scipy.ndimage as spim\n",
    "import matplotlib.pyplot as plt\n",
    "import skimage\n",
    "ps.visualization.set_mpl_style()"
   ]
  },
  {
   "cell_type": "markdown",
   "id": "irish-pixel",
   "metadata": {},
   "source": [
    "## Generate Image for Testing"
   ]
  },
  {
   "cell_type": "code",
   "execution_count": 2,
   "id": "surgical-playback",
   "metadata": {
    "execution": {
     "iopub.execute_input": "2022-09-09T11:06:03.628440Z",
     "iopub.status.busy": "2022-09-09T11:06:03.627674Z",
     "iopub.status.idle": "2022-09-09T11:06:03.705462Z",
     "shell.execute_reply": "2022-09-09T11:06:03.704840Z"
    }
   },
   "outputs": [],
   "source": [
    "im = ps.generators.blobs([100, 100, 100])"
   ]
  },
  {
   "cell_type": "markdown",
   "id": "engaged-aluminum",
   "metadata": {},
   "source": [
    "## Apply tool and visualize\n",
    "This tool is useful for extracting a cylindrical core from an otherwise cubic image.  This might be helpful if a cylindrical domain is needed, or to test a workflow on a tomogram that has has not been cropped yet."
   ]
  },
  {
   "cell_type": "code",
   "execution_count": 3,
   "id": "fancy-instruction",
   "metadata": {
    "execution": {
     "iopub.execute_input": "2022-09-09T11:06:03.709377Z",
     "iopub.status.busy": "2022-09-09T11:06:03.708762Z",
     "iopub.status.idle": "2022-09-09T11:06:03.783274Z",
     "shell.execute_reply": "2022-09-09T11:06:03.782773Z"
    }
   },
   "outputs": [
    {
     "data": {
      "image/svg+xml": [
       "<?xml version=\"1.0\" encoding=\"utf-8\" standalone=\"no\"?>\n",
       "<!DOCTYPE svg PUBLIC \"-//W3C//DTD SVG 1.1//EN\"\n",
       "  \"http://www.w3.org/Graphics/SVG/1.1/DTD/svg11.dtd\">\n",
       "<svg xmlns:xlink=\"http://www.w3.org/1999/xlink\" width=\"554.76pt\" height=\"276.48pt\" viewBox=\"0 0 554.76 276.48\" xmlns=\"http://www.w3.org/2000/svg\" version=\"1.1\">\n",
       " <metadata>\n",
       "  <rdf:RDF xmlns:dc=\"http://purl.org/dc/elements/1.1/\" xmlns:cc=\"http://creativecommons.org/ns#\" xmlns:rdf=\"http://www.w3.org/1999/02/22-rdf-syntax-ns#\">\n",
       "   <cc:Work>\n",
       "    <dc:type rdf:resource=\"http://purl.org/dc/dcmitype/StillImage\"/>\n",
       "    <dc:date>2022-09-09T11:06:03.770300</dc:date>\n",
       "    <dc:format>image/svg+xml</dc:format>\n",
       "    <dc:creator>\n",
       "     <cc:Agent>\n",
       "      <dc:title>Matplotlib v3.5.3, https://matplotlib.org/</dc:title>\n",
       "     </cc:Agent>\n",
       "    </dc:creator>\n",
       "   </cc:Work>\n",
       "  </rdf:RDF>\n",
       " </metadata>\n",
       " <defs>\n",
       "  <style type=\"text/css\">*{stroke-linejoin: round; stroke-linecap: butt}</style>\n",
       " </defs>\n",
       " <g id=\"figure_1\">\n",
       "  <g id=\"patch_1\">\n",
       "   <path d=\"M 0 276.48 \n",
       "L 554.76 276.48 \n",
       "L 554.76 0 \n",
       "L 0 0 \n",
       "z\n",
       "\" style=\"fill: #ffffff\"/>\n",
       "  </g>\n",
       "  <g id=\"axes_1\">\n",
       "   <g clip-path=\"url(#p4a8dd81a00)\">\n",
       "    <image xlink:href=\"data:image/png;base64,\n",
       "iVBORw0KGgoAAAANSUhEUgAAAGQAAABkCAYAAABw4pVUAAAFx0lEQVR4nOVdy60bMQyUDVfhcwpwEQHcQJp1F67ipYogOW2wkfUZkkOKuxkgh9i7FCWKFH96vvz6+e13KaU874/Sw+vr/c//e8/Wz83oouONUNNH3p3xtNHQ8G7FFRl4//0KJnvw4mXlHG/o4JkEYcXr6y3ahN7Ya/XVcyDPSbVoS0xdFtQ835jEWQJ43h/DxT2TttagCAQxAVIcedEt63F9fb1Nqn5EM+Ep7G09kHVpPXPbf+nB6FlMz34eKN8a9/myxSF7SAccvSeJCzST1o5lpSmJ2yRoelmIGWOaqtZ4GvqZXFktVG5vb7HY58lqeqPnvc5OsUCkjFh3ZWanocWbld+h21sf9JkXBwXbeWGvCTUwXAmPzTILUNljlVLK9Xl/pD7sEN7OoLkbbqX4Tsh7sTIKQ1oS2D9/Q9zb6CThDFYheM2pR1MSZ7mfIT07LFkQDy1Ai24ImCWMZqQ+IhSdCok0Sd6VUARiDWHs+KMham6vr/c8MGwxU3+2UhgsL3H1hto2+dRkRZohickYPT96R0IjCntehyYr+kyQeD+aRGK0i6xxHLoma9XO8Vy01aYWyX25NjmwwFzI7d0MpqqF4Rmyyo1duVisoBEJD1rPiOMQBlixjLXC2KPlQa+m3fseEshGhAmvci2rRDujNRMgwp9aQ2bM1fDOf21jjID2784g8dZGQkHpUE0Wa9daxhqNGeH2WjU0xMvKkCLPwAMCVerkiMg6j5ovmoacpSFuNdT1kMhcUetw1NS7I2vkWqgO9YjgThtYIeN7C8Uyd8hk7SfgLQxJ12RWU2gROByHSKBdKNbOXakdKB89nKYva0Nk84JHgwhdIGcyIyyHREInTfo9Y28YiycJHapAVmvH6vFHQIVCNVln7EbpmZw01xGkQO8wZhYccpkI6X5B1qGpIR5XECyxQ4YrEWgQas0GhCcXpdH16sYENmYW40MgEROeCWX/j0XXC1Ie92mfaYEqOsL1iuijTJxHL/BfDTm6KYjGaL3qM0WytrcZ8WyQ7Hgv7UDWS7umV+bdBgkTR9oEe3jzTY9Dsix09kJUD6JIfeRjS33xiFahHix9YN58X75fftDrId7lXe3uZ1UxPQWSJtvLQORNJy+6SwVi2ek917InFPYtK7ZQNnqH1pCWj3/Uw3ybx/ISLtJ0ze5Mt8Bz7Of94aMhzMMa/Wz0OQNRmufiZbUgmZCm78qrczJaO+G+LOsO0WRvzwLJ+k0FwlZVL6F4elcWSNeve6iv8laYOTO2MCLqM02BjA7NyB3XSsGgaW82D1baaL39sv+5iqhmBOt1tCNAspH2z6p6ez0725njREPj6dXvqAJDiwqvjKQzBZilGG/h9jCLByz5n4iOF9YYUnNvvqe+ApEtSNbxWJp/6OSiFIins6rWsmEoEG1/VGYgc1l5zqXWEM+uEQ9tYWxc6C/Kra4xeGso+2yZOQ+j8UIPdSSLO3rPE15CkV6Hm54hDLRKrtnAuEpQ09PME/qFHXT3SP18a73DQ7BRf5EC0pCeVCV9rOh7I2TUoFJwLdkcgp5jMKLzN3UyW4TI5ONKWJwYRmlZ5PayNEADyVj1DmV6id4ep/j3QyLuXozaVbWHJVswLTA2qLkNaFWPblbTKHVza1Ai9aPU3RGsvFNSSsLUCbvlswaje8bz3eWdi6X41sKPhOf9IReIxySRdlIN0CaJ2TMR1xBovb1WFa4Xgz15Rkok8kwznSGejCILdTSThOAjlxXt4WizrCwzh1zRY2KWK/vQkOhdpw3yjgjk3mU6t7dG74yZfZYF0vRNeoGgYDYnRLYG1fjwsrKmJBBo0zjRdZURlh/qe6BFqOytqBYTShUIskNZlb+sQrGeZ/CfZ9IwgKbqvfuEo4TCcC5MhzrixiEeBstLymZuNXD/dQRPjDykiPyTB1Qma3XNIDOsa3OaOCQLrMlWsUA8TdWKZgSPRghLLPRfawiSlonAXoB/AMzlG7csy1AFAAAAAElFTkSuQmCC\" id=\"image90aab08f4b\" transform=\"matrix(2.63 0 0 2.63 7.2 6.28)\" style=\"image-rendering:crisp-edges;image-rendering:pixelated\" width=\"100\" height=\"100\"/>\n",
       "   </g>\n",
       "  </g>\n",
       "  <g id=\"axes_2\">\n",
       "   <g clip-path=\"url(#p218ab771d2)\">\n",
       "    <image xlink:href=\"data:image/png;base64,\n",
       "iVBORw0KGgoAAAANSUhEUgAAAGQAAABkCAYAAABw4pVUAAAEG0lEQVR4nO2d243jMAxFlcVWkSpSxAJpYJtNF6kibcx8eeAJLJmvS14FOsD+JGNb0TUfomjv5d/l/1db0PCnegCL3yxByFiCkLEEIWMJQsYShIwlCBlLEDKWIGQsQcj4Wz2AaB6vZ/e7+/WWNg4rtILsJzZqIrdzMgtDJcjo7kYeywSFIF438ylitFYsSMREfpIYrRUJ4o0PXhEerydtHEkXxBJYEVbwfs7eeLLFu7DvGGa6JAZR1sJQQKaFTC/I/XoLmTCWmFLisnpuaOQyNH8/OkZzjgrKgnrvO+kEnf3d0fczpMh0Lgs5ae8isVlHa4SCHBE5kduxjGK0RlI6kRA5gWexp1IsqqDemn3B6J1E6UIRTdnCEFU+0Z7LenOgBIQIkmH2Z8H/7PqetDjqZjgiNIbsB4rYYPJiyeA0x0TciClZFkP+zzAGCVOkvRGwWOkZYYLM3lzAgjmGZNaKjuLR/XpTuyHLMdnAXJa3Cvt4PX/+vX/uHRcS7/hMgnhTzrNzn52fvZ3HIwpVUNemmMiyvBfrdaapZUlBWI12n2b/vXY8akGQ7gqJ5Y6NSkg056FxWUhXYj13RUYWKki1dVRfPwJYLWtj9knquRyU9agsxFqckxzHLJxkLTRad2nmLS3L8qwd9sdUrbSlpSFvNSA9qGtrXjM0JkRS1mzdm1jvKj9bsOjrlaW9KNcTXfsagRCfZh0yGyMx3mOKRrjpSifaehcCyQRbradsYThrcEaPO9xlsUw0+0ZUD5XLGuXY2ly8skPQ0weGHjesL0uC9YdZ7/6o7kakIB+VZWVZHNIdlgriudN7qSViwXl0DpQo06W9e2Z9KGdEuSCSllOWzvSMa0NcVmSwln42+jyCLMtLexxB84M2QTWVYVTnZLZ1pgX1qMeXP530LAslCjK78qB1dXTrkMjCXbQYkU9n9SjPskYclWCkZe/oMWRZGt1Dn63Vu5kIrGUWSgthb6buEZEamwTxmHDlSpppgdnDJMjet5+tBxhaeHpExoaoJkG3y5I+y8EK29PC5rSXYfBaJM+uR+21UOypz4Bkoiqt2p32ogePtEREz7E3LtFbCLrRLeoVHPtzenALom39YYw90aJ4CLGQsx90tOXKBosooaUTbS7u3e9ACFv9Rgpo56L1BzBaUGs5VhJey2KdTCnVr9+gLC4eoZkopHtDl+Ip095Ru6o1U/OswjOhFETC7K6xB6UglZNdbUV0gkS3fL7D/noniqCO3AuPPF8GFIKg9iSkTRJMO4nl/8MO8h241utXCkIXQzYk7qY6ACMoF8QagPePmGWNJwOKGCJprt6DsIxqITbKY0iPXqCvjjloKCzkiOytUxZoBenxCZM+ojyoL36zBCFjCULGEoSMJQgZSxAyliBkLEHIWIKQ8Q1VMDLZi+DFoQAAAABJRU5ErkJggg==\" id=\"image15ace02e5c\" transform=\"matrix(2.63 0 0 2.63 285.48 6.28)\" style=\"image-rendering:crisp-edges;image-rendering:pixelated\" width=\"100\" height=\"100\"/>\n",
       "   </g>\n",
       "  </g>\n",
       " </g>\n",
       " <defs>\n",
       "  <clipPath id=\"p4a8dd81a00\">\n",
       "   <rect x=\"7.2\" y=\"7.2\" width=\"262.08\" height=\"262.08\"/>\n",
       "  </clipPath>\n",
       "  <clipPath id=\"p218ab771d2\">\n",
       "   <rect x=\"285.48\" y=\"7.2\" width=\"262.08\" height=\"262.08\"/>\n",
       "  </clipPath>\n",
       " </defs>\n",
       "</svg>\n"
      ],
      "text/plain": [
       "<Figure size 800x400 with 2 Axes>"
      ]
     },
     "metadata": {},
     "output_type": "display_data"
    }
   ],
   "source": [
    "cyl = ps.tools.extract_cylinder(im=im, r=40, axis=2)\n",
    "\n",
    "fig, ax = plt.subplots(1, 2, figsize=[8, 4]);\n",
    "ax[0].imshow(im[..., 50]);\n",
    "ax[0].axis(False)\n",
    "ax[1].imshow(cyl[..., 50]);\n",
    "ax[1].axis(False);"
   ]
  }
 ],
 "metadata": {
  "kernelspec": {
   "display_name": "Python 3 (ipykernel)",
   "language": "python",
   "name": "python3"
  },
  "language_info": {
   "codemirror_mode": {
    "name": "ipython",
    "version": 3
   },
   "file_extension": ".py",
   "mimetype": "text/x-python",
   "name": "python",
   "nbconvert_exporter": "python",
   "pygments_lexer": "ipython3",
   "version": "3.8.13"
  }
 },
 "nbformat": 4,
 "nbformat_minor": 5
}

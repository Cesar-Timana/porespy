{
 "cells": [
  {
   "cell_type": "markdown",
   "id": "central-afghanistan",
   "metadata": {},
   "source": [
    "# `extract_cylinder`"
   ]
  },
  {
   "cell_type": "markdown",
   "id": "after-error",
   "metadata": {},
   "source": [
    "## Import Packages"
   ]
  },
  {
   "cell_type": "code",
   "execution_count": 1,
   "id": "educational-creator",
   "metadata": {
    "execution": {
     "iopub.execute_input": "2022-09-08T00:03:44.336917Z",
     "iopub.status.busy": "2022-09-08T00:03:44.336574Z",
     "iopub.status.idle": "2022-09-08T00:03:46.016805Z",
     "shell.execute_reply": "2022-09-08T00:03:46.015588Z"
    }
   },
   "outputs": [],
   "source": [
    "import numpy as np\n",
    "import porespy as ps\n",
    "import scipy.ndimage as spim\n",
    "import matplotlib.pyplot as plt\n",
    "import skimage\n",
    "ps.visualization.set_mpl_style()"
   ]
  },
  {
   "cell_type": "markdown",
   "id": "irish-pixel",
   "metadata": {},
   "source": [
    "## Generate Image for Testing"
   ]
  },
  {
   "cell_type": "code",
   "execution_count": 2,
   "id": "surgical-playback",
   "metadata": {
    "execution": {
     "iopub.execute_input": "2022-09-08T00:03:46.020970Z",
     "iopub.status.busy": "2022-09-08T00:03:46.020259Z",
     "iopub.status.idle": "2022-09-08T00:03:46.098499Z",
     "shell.execute_reply": "2022-09-08T00:03:46.097863Z"
    }
   },
   "outputs": [],
   "source": [
    "im = ps.generators.blobs([100, 100, 100])"
   ]
  },
  {
   "cell_type": "markdown",
   "id": "engaged-aluminum",
   "metadata": {},
   "source": [
    "## Apply tool and visualize\n",
    "This tool is useful for extracting a cylindrical core from an otherwise cubic image.  This might be helpful if a cylindrical domain is needed, or to test a workflow on a tomogram that has has not been cropped yet."
   ]
  },
  {
   "cell_type": "code",
   "execution_count": 3,
   "id": "fancy-instruction",
   "metadata": {
    "execution": {
     "iopub.execute_input": "2022-09-08T00:03:46.101701Z",
     "iopub.status.busy": "2022-09-08T00:03:46.101340Z",
     "iopub.status.idle": "2022-09-08T00:03:46.171978Z",
     "shell.execute_reply": "2022-09-08T00:03:46.171487Z"
    }
   },
   "outputs": [
    {
     "data": {
      "image/svg+xml": [
       "<?xml version=\"1.0\" encoding=\"utf-8\" standalone=\"no\"?>\n",
       "<!DOCTYPE svg PUBLIC \"-//W3C//DTD SVG 1.1//EN\"\n",
       "  \"http://www.w3.org/Graphics/SVG/1.1/DTD/svg11.dtd\">\n",
       "<svg xmlns:xlink=\"http://www.w3.org/1999/xlink\" width=\"554.76pt\" height=\"276.48pt\" viewBox=\"0 0 554.76 276.48\" xmlns=\"http://www.w3.org/2000/svg\" version=\"1.1\">\n",
       " <metadata>\n",
       "  <rdf:RDF xmlns:dc=\"http://purl.org/dc/elements/1.1/\" xmlns:cc=\"http://creativecommons.org/ns#\" xmlns:rdf=\"http://www.w3.org/1999/02/22-rdf-syntax-ns#\">\n",
       "   <cc:Work>\n",
       "    <dc:type rdf:resource=\"http://purl.org/dc/dcmitype/StillImage\"/>\n",
       "    <dc:date>2022-09-08T00:03:46.160729</dc:date>\n",
       "    <dc:format>image/svg+xml</dc:format>\n",
       "    <dc:creator>\n",
       "     <cc:Agent>\n",
       "      <dc:title>Matplotlib v3.5.3, https://matplotlib.org/</dc:title>\n",
       "     </cc:Agent>\n",
       "    </dc:creator>\n",
       "   </cc:Work>\n",
       "  </rdf:RDF>\n",
       " </metadata>\n",
       " <defs>\n",
       "  <style type=\"text/css\">*{stroke-linejoin: round; stroke-linecap: butt}</style>\n",
       " </defs>\n",
       " <g id=\"figure_1\">\n",
       "  <g id=\"patch_1\">\n",
       "   <path d=\"M 0 276.48 \n",
       "L 554.76 276.48 \n",
       "L 554.76 0 \n",
       "L 0 0 \n",
       "z\n",
       "\" style=\"fill: #ffffff\"/>\n",
       "  </g>\n",
       "  <g id=\"axes_1\">\n",
       "   <g clip-path=\"url(#pb4b5ba4f15)\">\n",
       "    <image xlink:href=\"data:image/png;base64,\n",
       "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\" id=\"imageb73223aed3\" transform=\"matrix(2.63 0 0 2.63 7.2 6.28)\" style=\"image-rendering:crisp-edges;image-rendering:pixelated\" width=\"100\" height=\"100\"/>\n",
       "   </g>\n",
       "  </g>\n",
       "  <g id=\"axes_2\">\n",
       "   <g clip-path=\"url(#pe746df8a05)\">\n",
       "    <image xlink:href=\"data:image/png;base64,\n",
       "iVBORw0KGgoAAAANSUhEUgAAAGQAAABkCAYAAABw4pVUAAAEKklEQVR4nO2d0XHcMAxEeZlU4SpcRGbcQJq9Lq6KayP50ljRUCJALIClgvdrSyK5AgiApO7x6/H7Tyto+JHdgOJfShAyShAyShAyShAyShAyShAyShAyShAyShAyfmY3QMrz/Wqttfb18am+ZkNzbRa0ghwHE3H9CgI9mIqLUhFGAzkjJos4FHPI8/2CiWFpAwOpLkszCFIhLAP7fL/SLSVFEMmgaQcG9YZnixIuyGjgLFEUikxRQueQFcTIhjbszeT4YuzF97acUAtBdcbLOr4+Pi/F8Hz2RnjYeyVKphvqteusPZ7tpMhD9kgjMKTrmLmXlyhpmbq2QyjLQucz6DklbVLXuAjJvTxyGwnoEJnKZVk6lpnMId0XlSBnSAb7LnnJEoKMyHJX2jZI+O8TQ+QaCWI+obcQj7WPq2s1SwHo9rRGaCER9Szm+YZOkCssYXEkFtdF77I2kOsdzCwjyOwbl5WfzAo/LUjGm6Yd3NVEbG1SkE0MiShb1BIp4Fnx0aPmdcVMn11dlsdawtlAbSJkb1KwEhploQbrWEyMFGG0gGXFZCGjgdj/HTloPcsbucWZcvqxzRHCU+1c3Bi9/Z7zEXqxSns/+sQwOhjIhjIPYRiYLCgFyWLGGkdlEu09aQVhz7CPQQQq5KafQzK4OhzkPafRCsJQBMxoA60gWrwTNguacrx76SSijtXr7KqRGtxCpNsvI7aUSvdrWUHuzVIJgsygUZ1g2SucvuvkOKCzMXxrOvcScbRN+myPZ0BcFuII87GoNyMWoi3ZuEdZs1bENilHtccUZWmPqGn8ffQq4xWRL4fZQs4G7WplT3MQZtZ1Ich4pksewuZuvPDoZ0px0evEEvKUrxT0Or6LIJpjaREbE/bP8HoW6r5uFhI9IbMEAFZUgrDmBAxioNbVaReoeki+gXV2nWZzn+beo/9bcpNDr0NnCWXE2Q1NUZJqXxaCkRiR9CZ/S4I604+pfVmIM9zaEDVjTUX6siCPxU27rFGNiqUsjqZXOUBa9JQgli2WljL9qB2ebejd4zaZ+ghJR5EfGWAq9YRGWTPhoZd7YxJhT5ggM9FU9lwzsyZvrU6nuSzWN/SIdg3HSkpiuIoYG9o1HEv/wiyEtQ4mZYklXC2rnwH0jv5aA7osr7j86nl7GIRGtAFmIZufzXI12S4uZeeiFMQJ2czN02eha0Qb4Ic+vau3yLUH7f09n7sBn9Q9fflosFb43McI121Aq0dVI5YqLt5ZiNb8+kdZ7bVgdVsRucYVFIJIw+Ve2bznFtm+9KCB6iePJMml5nwIcvCiXDDlt9+RW01Xm8soXJYn2Rm8lloPISPVQnoTsodQK1kJxc7FspZvbjOH3EVUCgtBYT2mzcCtBNmzqsXcxmXdhRKEjBKEjBKEjBKEjBKEjBKEjBKEjBKEjL+N90wf69DEFwAAAABJRU5ErkJggg==\" id=\"imagef46a9255be\" transform=\"matrix(2.63 0 0 2.63 285.48 6.28)\" style=\"image-rendering:crisp-edges;image-rendering:pixelated\" width=\"100\" height=\"100\"/>\n",
       "   </g>\n",
       "  </g>\n",
       " </g>\n",
       " <defs>\n",
       "  <clipPath id=\"pb4b5ba4f15\">\n",
       "   <rect x=\"7.2\" y=\"7.2\" width=\"262.08\" height=\"262.08\"/>\n",
       "  </clipPath>\n",
       "  <clipPath id=\"pe746df8a05\">\n",
       "   <rect x=\"285.48\" y=\"7.2\" width=\"262.08\" height=\"262.08\"/>\n",
       "  </clipPath>\n",
       " </defs>\n",
       "</svg>\n"
      ],
      "text/plain": [
       "<Figure size 800x400 with 2 Axes>"
      ]
     },
     "metadata": {},
     "output_type": "display_data"
    }
   ],
   "source": [
    "cyl = ps.tools.extract_cylinder(im=im, r=40, axis=2)\n",
    "\n",
    "fig, ax = plt.subplots(1, 2, figsize=[8, 4]);\n",
    "ax[0].imshow(im[..., 50]);\n",
    "ax[0].axis(False)\n",
    "ax[1].imshow(cyl[..., 50]);\n",
    "ax[1].axis(False);"
   ]
  }
 ],
 "metadata": {
  "kernelspec": {
   "display_name": "Python 3 (ipykernel)",
   "language": "python",
   "name": "python3"
  },
  "language_info": {
   "codemirror_mode": {
    "name": "ipython",
    "version": 3
   },
   "file_extension": ".py",
   "mimetype": "text/x-python",
   "name": "python",
   "nbconvert_exporter": "python",
   "pygments_lexer": "ipython3",
   "version": "3.8.13"
  }
 },
 "nbformat": 4,
 "nbformat_minor": 5
}

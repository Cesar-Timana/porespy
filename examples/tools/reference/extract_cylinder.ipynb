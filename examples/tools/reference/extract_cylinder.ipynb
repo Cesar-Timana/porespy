{
 "cells": [
  {
   "cell_type": "markdown",
   "id": "central-afghanistan",
   "metadata": {},
   "source": [
    "# `extract_cylinder`"
   ]
  },
  {
   "cell_type": "markdown",
   "id": "after-error",
   "metadata": {},
   "source": [
    "## Import Packages"
   ]
  },
  {
   "cell_type": "code",
   "execution_count": 1,
   "id": "educational-creator",
   "metadata": {
    "execution": {
     "iopub.execute_input": "2022-08-12T21:37:42.609734Z",
     "iopub.status.busy": "2022-08-12T21:37:42.609424Z",
     "iopub.status.idle": "2022-08-12T21:37:44.401376Z",
     "shell.execute_reply": "2022-08-12T21:37:44.400585Z"
    }
   },
   "outputs": [],
   "source": [
    "import numpy as np\n",
    "import porespy as ps\n",
    "import scipy.ndimage as spim\n",
    "import matplotlib.pyplot as plt\n",
    "import skimage\n",
    "ps.visualization.set_mpl_style()"
   ]
  },
  {
   "cell_type": "markdown",
   "id": "irish-pixel",
   "metadata": {},
   "source": [
    "## Generate Image for Testing"
   ]
  },
  {
   "cell_type": "code",
   "execution_count": 2,
   "id": "surgical-playback",
   "metadata": {
    "execution": {
     "iopub.execute_input": "2022-08-12T21:37:44.405405Z",
     "iopub.status.busy": "2022-08-12T21:37:44.404943Z",
     "iopub.status.idle": "2022-08-12T21:37:44.483547Z",
     "shell.execute_reply": "2022-08-12T21:37:44.482829Z"
    }
   },
   "outputs": [],
   "source": [
    "im = ps.generators.blobs([100, 100, 100])"
   ]
  },
  {
   "cell_type": "markdown",
   "id": "engaged-aluminum",
   "metadata": {},
   "source": [
    "## Apply tool and visualize\n",
    "This tool is useful for extracting a cylindrical core from an otherwise cubic image.  This might be helpful if a cylindrical domain is needed, or to test a workflow on a tomogram that has has not been cropped yet."
   ]
  },
  {
   "cell_type": "code",
   "execution_count": 3,
   "id": "fancy-instruction",
   "metadata": {
    "execution": {
     "iopub.execute_input": "2022-08-12T21:37:44.487385Z",
     "iopub.status.busy": "2022-08-12T21:37:44.486980Z",
     "iopub.status.idle": "2022-08-12T21:37:44.568350Z",
     "shell.execute_reply": "2022-08-12T21:37:44.567813Z"
    }
   },
   "outputs": [
    {
     "data": {
      "image/svg+xml": [
       "<?xml version=\"1.0\" encoding=\"utf-8\" standalone=\"no\"?>\n",
       "<!DOCTYPE svg PUBLIC \"-//W3C//DTD SVG 1.1//EN\"\n",
       "  \"http://www.w3.org/Graphics/SVG/1.1/DTD/svg11.dtd\">\n",
       "<svg xmlns:xlink=\"http://www.w3.org/1999/xlink\" width=\"560.7pt\" height=\"280.8pt\" viewBox=\"0 0 560.7 280.8\" xmlns=\"http://www.w3.org/2000/svg\" version=\"1.1\">\n",
       " <metadata>\n",
       "  <rdf:RDF xmlns:dc=\"http://purl.org/dc/elements/1.1/\" xmlns:cc=\"http://creativecommons.org/ns#\" xmlns:rdf=\"http://www.w3.org/1999/02/22-rdf-syntax-ns#\">\n",
       "   <cc:Work>\n",
       "    <dc:type rdf:resource=\"http://purl.org/dc/dcmitype/StillImage\"/>\n",
       "    <dc:date>2022-08-12T21:37:44.557593</dc:date>\n",
       "    <dc:format>image/svg+xml</dc:format>\n",
       "    <dc:creator>\n",
       "     <cc:Agent>\n",
       "      <dc:title>Matplotlib v3.5.3, https://matplotlib.org/</dc:title>\n",
       "     </cc:Agent>\n",
       "    </dc:creator>\n",
       "   </cc:Work>\n",
       "  </rdf:RDF>\n",
       " </metadata>\n",
       " <defs>\n",
       "  <style type=\"text/css\">*{stroke-linejoin: round; stroke-linecap: butt}</style>\n",
       " </defs>\n",
       " <g id=\"figure_1\">\n",
       "  <g id=\"patch_1\">\n",
       "   <path d=\"M 0 280.8 \n",
       "L 560.7 280.8 \n",
       "L 560.7 0 \n",
       "L 0 0 \n",
       "L 0 280.8 \n",
       "z\n",
       "\" style=\"fill: none\"/>\n",
       "  </g>\n",
       "  <g id=\"axes_1\">\n",
       "   <g clip-path=\"url(#pdac8f4c8c4)\">\n",
       "    <image xlink:href=\"data:image/png;base64,\n",
       "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\" id=\"image1774262ec6\" transform=\"matrix(2.67 0 0 2.67 7.2 6.6)\" style=\"image-rendering:crisp-edges;image-rendering:pixelated\" width=\"100\" height=\"100\"/>\n",
       "   </g>\n",
       "  </g>\n",
       "  <g id=\"axes_2\">\n",
       "   <g clip-path=\"url(#p5461a9fe26)\">\n",
       "    <image xlink:href=\"data:image/png;base64,\n",
       "iVBORw0KGgoAAAANSUhEUgAAAGQAAABkCAYAAABw4pVUAAAESElEQVR4nO2d3ZHcIBCEWddFcVFcEK66BC7ZzWKj2DTsJ5VlCvEzdM80u3xP51oJBC2GmQHk2+/bz5+0keFX9ANs/mcLIsYWRIwtiBhbEDG2IGJsQcTYgoixBRFjCyLGR/QD9HJ/Poau//78ojwHG1lBRgU4cyXG/fmQF+q2QnJxRJyaGK1rFHi5OeT+fFQFVBYjJWGTNUs+InqEUBhFLzdCSvSYvJk5C8lbCNJCRYyUnE3W0fAIc4BwDDxwGSGtibaFZwdFT/p0QXIhrA326KhoMVIimyykbW6Vde5MS70KYqREFKTUKdZGX3VwqbyVY5CUSIJ4jIzREbGCGCkRBJkVg9G5TDHQ+TH4pF6Lig9vS8nvR4BsD83Lar01pUawhFqp3NBcludIQQel+bOjTJebIN+fXxABZhs92nEjz4wQhRoYHvPJ8ZC9WVc2zJE5W/Yy6feakPlvKzsN8tle1qhSHSXSI6RnObZ2XQvFNXZJQTw7qeZ99fxWK9fSDoggSJfSGr8c91nNhWWbEcPsmeaQmQep5aZqYqwY4Vue1yRIr20f/f3qHlUhGKYV4mX1mJlV0+LezwZze882/Nz5DPO2EqNtgMYh+RqFV4ee6/VwLJhlhbu9rQh8ZOkWUWdOzX1lPNvwCGE8hLU8lhilTG7rGks9JYZGCMME9QRQpZHCmmyv2uhlft3jEI/yVOqyIJNc9DaFlmfwQEaQlOod0ttZCp06g1kQlq2dvV8lyLS2AzpCWtG45ZzG+f7S31d1WX5DYxHFHIeMrNLl185kSns7dHZraW/daBMJOWNonZAVJvIzI1tWEfeVgETqtTdexaYzkdy5+A4d7wEtuci4nonKCJeKQ3I8Ygq1BTC624uISxT35rI2jsMEYb9l6MYjF86QS9dmLwvp2yuZDCtXWWuXFcNVjhhH4xqpt+gVAi3uubzZ1chW+Xl5COArhilxxLCUh84EjB5NsNTj7vZ6H2tDZZ+lVwxbRC+DouvtuR/1krmeU38HclNF97IivSb0pjuPl2a5fVlIWm/kCqNWOpdVYoVOPQjf/T5yz8iS7kw9kYQtUNVA77uNZvZgUAuzyerp3CgBrCO4NWLzl4uxmSLs0xrsckfqL5nT/N9X5aHN7pTJQn6dIeLoAuK6/PrZk73wOYRtpkYOmEaYzNk6pT41bjkJy6w/QlCpOETNC4uIeZaK1JmCqQScYen3K2rejCcj3hNSTHdBrk7r9tzDwjp3HG2QcXsRoBt0lFmiZxNC9GY/iUm91ime80a0GCkFfYy/B2tjW+l3di5qFrcRohCJW48VeOL2vyPU8EjBq8U4V7iYrAgzMWPyIsVzndRXeUsjd8SHxSEr8DapE1Sq2gpy9yWa0MBQ8esM0SM4PFJnsuIu/ZcVRNks1XhJQVQOcFp4SUFW6PgrJJKLm39sQcTYgoixBRFjCyLGFkSMLYgYWxAxtiBi/AUiKYDfPSbYZgAAAABJRU5ErkJggg==\" id=\"image1acf05c68a\" transform=\"matrix(2.67 0 0 2.67 287.1 6.6)\" style=\"image-rendering:crisp-edges;image-rendering:pixelated\" width=\"100\" height=\"100\"/>\n",
       "   </g>\n",
       "  </g>\n",
       " </g>\n",
       " <defs>\n",
       "  <clipPath id=\"pdac8f4c8c4\">\n",
       "   <rect x=\"7.2\" y=\"7.2\" width=\"266.4\" height=\"266.4\"/>\n",
       "  </clipPath>\n",
       "  <clipPath id=\"p5461a9fe26\">\n",
       "   <rect x=\"287.1\" y=\"7.2\" width=\"266.4\" height=\"266.4\"/>\n",
       "  </clipPath>\n",
       " </defs>\n",
       "</svg>\n"
      ],
      "text/plain": [
       "<Figure size 576x288 with 2 Axes>"
      ]
     },
     "metadata": {
      "needs_background": "light"
     },
     "output_type": "display_data"
    }
   ],
   "source": [
    "cyl = ps.tools.extract_cylinder(im=im, r=40, axis=2)\n",
    "\n",
    "fig, ax = plt.subplots(1, 2, figsize=[8, 4]);\n",
    "ax[0].imshow(im[..., 50]);\n",
    "ax[0].axis(False)\n",
    "ax[1].imshow(cyl[..., 50]);\n",
    "ax[1].axis(False);"
   ]
  }
 ],
 "metadata": {
  "kernelspec": {
   "display_name": "Python 3 (ipykernel)",
   "language": "python",
   "name": "python3"
  },
  "language_info": {
   "codemirror_mode": {
    "name": "ipython",
    "version": 3
   },
   "file_extension": ".py",
   "mimetype": "text/x-python",
   "name": "python",
   "nbconvert_exporter": "python",
   "pygments_lexer": "ipython3",
   "version": "3.8.13"
  }
 },
 "nbformat": 4,
 "nbformat_minor": 5
}

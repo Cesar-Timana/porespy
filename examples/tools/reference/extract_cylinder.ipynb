{
 "cells": [
  {
   "cell_type": "markdown",
   "id": "central-afghanistan",
   "metadata": {},
   "source": [
    "# `extract_cylinder`"
   ]
  },
  {
   "cell_type": "markdown",
   "id": "after-error",
   "metadata": {},
   "source": [
    "## Import Packages"
   ]
  },
  {
   "cell_type": "code",
   "execution_count": 1,
   "id": "educational-creator",
   "metadata": {
    "execution": {
     "iopub.execute_input": "2022-08-23T00:41:47.750969Z",
     "iopub.status.busy": "2022-08-23T00:41:47.750726Z",
     "iopub.status.idle": "2022-08-23T00:41:49.543507Z",
     "shell.execute_reply": "2022-08-23T00:41:49.542790Z"
    }
   },
   "outputs": [],
   "source": [
    "import numpy as np\n",
    "import porespy as ps\n",
    "import scipy.ndimage as spim\n",
    "import matplotlib.pyplot as plt\n",
    "import skimage\n",
    "ps.visualization.set_mpl_style()"
   ]
  },
  {
   "cell_type": "markdown",
   "id": "irish-pixel",
   "metadata": {},
   "source": [
    "## Generate Image for Testing"
   ]
  },
  {
   "cell_type": "code",
   "execution_count": 2,
   "id": "surgical-playback",
   "metadata": {
    "execution": {
     "iopub.execute_input": "2022-08-23T00:41:49.547002Z",
     "iopub.status.busy": "2022-08-23T00:41:49.546518Z",
     "iopub.status.idle": "2022-08-23T00:41:49.627095Z",
     "shell.execute_reply": "2022-08-23T00:41:49.626449Z"
    }
   },
   "outputs": [],
   "source": [
    "im = ps.generators.blobs([100, 100, 100])"
   ]
  },
  {
   "cell_type": "markdown",
   "id": "engaged-aluminum",
   "metadata": {},
   "source": [
    "## Apply tool and visualize\n",
    "This tool is useful for extracting a cylindrical core from an otherwise cubic image.  This might be helpful if a cylindrical domain is needed, or to test a workflow on a tomogram that has has not been cropped yet."
   ]
  },
  {
   "cell_type": "code",
   "execution_count": 3,
   "id": "fancy-instruction",
   "metadata": {
    "execution": {
     "iopub.execute_input": "2022-08-23T00:41:49.631244Z",
     "iopub.status.busy": "2022-08-23T00:41:49.630601Z",
     "iopub.status.idle": "2022-08-23T00:41:49.707684Z",
     "shell.execute_reply": "2022-08-23T00:41:49.707150Z"
    }
   },
   "outputs": [
    {
     "data": {
      "image/svg+xml": [
       "<?xml version=\"1.0\" encoding=\"utf-8\" standalone=\"no\"?>\n",
       "<!DOCTYPE svg PUBLIC \"-//W3C//DTD SVG 1.1//EN\"\n",
       "  \"http://www.w3.org/Graphics/SVG/1.1/DTD/svg11.dtd\">\n",
       "<svg xmlns:xlink=\"http://www.w3.org/1999/xlink\" width=\"554.76pt\" height=\"276.48pt\" viewBox=\"0 0 554.76 276.48\" xmlns=\"http://www.w3.org/2000/svg\" version=\"1.1\">\n",
       " <metadata>\n",
       "  <rdf:RDF xmlns:dc=\"http://purl.org/dc/elements/1.1/\" xmlns:cc=\"http://creativecommons.org/ns#\" xmlns:rdf=\"http://www.w3.org/1999/02/22-rdf-syntax-ns#\">\n",
       "   <cc:Work>\n",
       "    <dc:type rdf:resource=\"http://purl.org/dc/dcmitype/StillImage\"/>\n",
       "    <dc:date>2022-08-23T00:41:49.694029</dc:date>\n",
       "    <dc:format>image/svg+xml</dc:format>\n",
       "    <dc:creator>\n",
       "     <cc:Agent>\n",
       "      <dc:title>Matplotlib v3.5.3, https://matplotlib.org/</dc:title>\n",
       "     </cc:Agent>\n",
       "    </dc:creator>\n",
       "   </cc:Work>\n",
       "  </rdf:RDF>\n",
       " </metadata>\n",
       " <defs>\n",
       "  <style type=\"text/css\">*{stroke-linejoin: round; stroke-linecap: butt}</style>\n",
       " </defs>\n",
       " <g id=\"figure_1\">\n",
       "  <g id=\"patch_1\">\n",
       "   <path d=\"M 0 276.48 \n",
       "L 554.76 276.48 \n",
       "L 554.76 0 \n",
       "L 0 0 \n",
       "z\n",
       "\" style=\"fill: #ffffff\"/>\n",
       "  </g>\n",
       "  <g id=\"axes_1\">\n",
       "   <g clip-path=\"url(#pe53fd2c14b)\">\n",
       "    <image xlink:href=\"data:image/png;base64,\n",
       "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\" id=\"imagefd9772edb6\" transform=\"matrix(2.63 0 0 2.63 7.2 6.28)\" style=\"image-rendering:crisp-edges;image-rendering:pixelated\" width=\"100\" height=\"100\"/>\n",
       "   </g>\n",
       "  </g>\n",
       "  <g id=\"axes_2\">\n",
       "   <g clip-path=\"url(#p1c0beffe37)\">\n",
       "    <image xlink:href=\"data:image/png;base64,\n",
       "iVBORw0KGgoAAAANSUhEUgAAAGQAAABkCAYAAABw4pVUAAAEJ0lEQVR4nO2c3XHcMAyEdZlU4SpcRGbcQJp1F67CbSRPmrnjiCQALoCljO/R1lEkliAI/ujx5/H331HQ8Cu7AsUrJQgZJQgZJQgZJQgZJQgZJQgZJQgZJQgZJQgZv7MrIOXz+2v6zMfb++Wz5993gF4QiRDH8Wr0njA7QC/ICjt5xknFEDLoBdmxl69w6yFLQy/eRHcIeg+RsGK0z++vYfCPnhhsIUj2sBUpytZD1qpQGkOfz3p3ji085Iosr/H2lm0FycRTFOoh66rhCM+YlTsy+PMqgIeXPpiOAUkMgSxzVLZXZ5gBH7LaaeRsWvn8HBNZMQoqiEWI9ndMXC1YehMW1HtGtw4pKGZlf7y9h3oLLKj3xtzWa6LxDsJoIB5ytSF0Nn7VCCgjRoiB6HAQD5G4vZd3RGXQUlY9MSyGoA1mnc2xs2Wmzmh4VKwMzdQte93tEGBpLMtehwSzh6z0Au1U8hyO0J6BLK9tj7Xs1CEL3UMt5XmKYsEkCFsjmFgdXs0egjTknUXRYgrq0hc+9xBWo68Mcx5tcoshWnf12ufwfKd030RDSFCP9A7pbAxVJ/QezpaJoYR2uPRcSkeKQiNIZPZ99S5prrOyjSBBJchd1ouOY2zAXjutYmkIWTrJ2IvQZM7evV4DxZCV7XXIztK2RTuqpB8D8hBDYmBPj6Vf7e013nI7SvM7TX08N9E0uA1Znlu4ljLPqe/ot9EHGq5Qe4imwqNnZ70xc1t4dYFwBYqg3iIVPbs3e0AnCJuRo+uTMsvyHga0eY9nfdyXTlYrH5HtsnCbxcXIM8FsHQC6hTvKSrUZa5ShtLNG6dTYGnvMMWQ0Tmf3Oo9AbBVBu7tIOWSdMF1XHtHzmtBDDtYXsr2DSdjjIFhctJBpRKpbuF5J0ixQMnz/amVSoqlvegzJuDaGBuk1S4J4LMK1ovS8pyceS4ZuBbLaG7Hqin6ntxjheYgXlqWV3b3imfQYornowu4VCCg8ZPd8BjkZSfMQSSOyr1RnAPnWifWwgua30rKv5v8RYqK8JP0WLvLQsyYZYzjQcEXqMaCod0V9NCDtSlvLrCKzfRIU1uNBTMA8RLI3sstMJxP3GLKzoTLiTHpiyErWoqfLF+VWsPZK690VSWyLvCIH/ebiaN/CenTUYmTLLeFVKPOQ0Sn12SFny/+i6Z06QdYRnoe0h6Cf5+dRxl3JCbR7POg2uSSGDHctJNu+kmy+V57k9xbc74esghIWfcrRy9tdp73RSybawxIWvD3ffS1LK4qmwdGCR9wmpvnU+OqNKmk5mrIyoN8xZDaeB+lLJ0gxsmd2CFIFyfIMZuHSv7koPRiHhlUUihiCFgD9oYFIKARBcYcJwK0EmbGDYD9CkB2EOEmf9havlCBklCBklCBklCBklCBklCBklCBklCBk/Afe+FMNae3z2AAAAABJRU5ErkJggg==\" id=\"image6a5502279a\" transform=\"matrix(2.63 0 0 2.63 285.48 6.28)\" style=\"image-rendering:crisp-edges;image-rendering:pixelated\" width=\"100\" height=\"100\"/>\n",
       "   </g>\n",
       "  </g>\n",
       " </g>\n",
       " <defs>\n",
       "  <clipPath id=\"pe53fd2c14b\">\n",
       "   <rect x=\"7.2\" y=\"7.2\" width=\"262.08\" height=\"262.08\"/>\n",
       "  </clipPath>\n",
       "  <clipPath id=\"p1c0beffe37\">\n",
       "   <rect x=\"285.48\" y=\"7.2\" width=\"262.08\" height=\"262.08\"/>\n",
       "  </clipPath>\n",
       " </defs>\n",
       "</svg>\n"
      ],
      "text/plain": [
       "<Figure size 800x400 with 2 Axes>"
      ]
     },
     "metadata": {},
     "output_type": "display_data"
    }
   ],
   "source": [
    "cyl = ps.tools.extract_cylinder(im=im, r=40, axis=2)\n",
    "\n",
    "fig, ax = plt.subplots(1, 2, figsize=[8, 4]);\n",
    "ax[0].imshow(im[..., 50]);\n",
    "ax[0].axis(False)\n",
    "ax[1].imshow(cyl[..., 50]);\n",
    "ax[1].axis(False);"
   ]
  }
 ],
 "metadata": {
  "kernelspec": {
   "display_name": "Python 3 (ipykernel)",
   "language": "python",
   "name": "python3"
  },
  "language_info": {
   "codemirror_mode": {
    "name": "ipython",
    "version": 3
   },
   "file_extension": ".py",
   "mimetype": "text/x-python",
   "name": "python",
   "nbconvert_exporter": "python",
   "pygments_lexer": "ipython3",
   "version": "3.8.13"
  }
 },
 "nbformat": 4,
 "nbformat_minor": 5
}

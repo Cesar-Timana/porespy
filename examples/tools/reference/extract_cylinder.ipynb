{
 "cells": [
  {
   "cell_type": "markdown",
   "id": "central-afghanistan",
   "metadata": {},
   "source": [
    "# `extract_cylinder`"
   ]
  },
  {
   "cell_type": "markdown",
   "id": "after-error",
   "metadata": {},
   "source": [
    "## Import Packages"
   ]
  },
  {
   "cell_type": "code",
   "execution_count": 1,
   "id": "educational-creator",
   "metadata": {
    "execution": {
     "iopub.execute_input": "2022-08-12T22:21:12.232196Z",
     "iopub.status.busy": "2022-08-12T22:21:12.231540Z",
     "iopub.status.idle": "2022-08-12T22:21:14.673989Z",
     "shell.execute_reply": "2022-08-12T22:21:14.673099Z"
    }
   },
   "outputs": [],
   "source": [
    "import numpy as np\n",
    "import porespy as ps\n",
    "import scipy.ndimage as spim\n",
    "import matplotlib.pyplot as plt\n",
    "import skimage\n",
    "ps.visualization.set_mpl_style()"
   ]
  },
  {
   "cell_type": "markdown",
   "id": "irish-pixel",
   "metadata": {},
   "source": [
    "## Generate Image for Testing"
   ]
  },
  {
   "cell_type": "code",
   "execution_count": 2,
   "id": "surgical-playback",
   "metadata": {
    "execution": {
     "iopub.execute_input": "2022-08-12T22:21:14.678947Z",
     "iopub.status.busy": "2022-08-12T22:21:14.678003Z",
     "iopub.status.idle": "2022-08-12T22:21:14.779927Z",
     "shell.execute_reply": "2022-08-12T22:21:14.779094Z"
    }
   },
   "outputs": [],
   "source": [
    "im = ps.generators.blobs([100, 100, 100])"
   ]
  },
  {
   "cell_type": "markdown",
   "id": "engaged-aluminum",
   "metadata": {},
   "source": [
    "## Apply tool and visualize\n",
    "This tool is useful for extracting a cylindrical core from an otherwise cubic image.  This might be helpful if a cylindrical domain is needed, or to test a workflow on a tomogram that has has not been cropped yet."
   ]
  },
  {
   "cell_type": "code",
   "execution_count": 3,
   "id": "fancy-instruction",
   "metadata": {
    "execution": {
     "iopub.execute_input": "2022-08-12T22:21:14.784091Z",
     "iopub.status.busy": "2022-08-12T22:21:14.783606Z",
     "iopub.status.idle": "2022-08-12T22:21:14.897187Z",
     "shell.execute_reply": "2022-08-12T22:21:14.896442Z"
    }
   },
   "outputs": [
    {
     "data": {
      "image/svg+xml": [
       "<?xml version=\"1.0\" encoding=\"utf-8\" standalone=\"no\"?>\n",
       "<!DOCTYPE svg PUBLIC \"-//W3C//DTD SVG 1.1//EN\"\n",
       "  \"http://www.w3.org/Graphics/SVG/1.1/DTD/svg11.dtd\">\n",
       "<svg xmlns:xlink=\"http://www.w3.org/1999/xlink\" width=\"560.7pt\" height=\"280.8pt\" viewBox=\"0 0 560.7 280.8\" xmlns=\"http://www.w3.org/2000/svg\" version=\"1.1\">\n",
       " <metadata>\n",
       "  <rdf:RDF xmlns:dc=\"http://purl.org/dc/elements/1.1/\" xmlns:cc=\"http://creativecommons.org/ns#\" xmlns:rdf=\"http://www.w3.org/1999/02/22-rdf-syntax-ns#\">\n",
       "   <cc:Work>\n",
       "    <dc:type rdf:resource=\"http://purl.org/dc/dcmitype/StillImage\"/>\n",
       "    <dc:date>2022-08-12T22:21:14.881064</dc:date>\n",
       "    <dc:format>image/svg+xml</dc:format>\n",
       "    <dc:creator>\n",
       "     <cc:Agent>\n",
       "      <dc:title>Matplotlib v3.5.3, https://matplotlib.org/</dc:title>\n",
       "     </cc:Agent>\n",
       "    </dc:creator>\n",
       "   </cc:Work>\n",
       "  </rdf:RDF>\n",
       " </metadata>\n",
       " <defs>\n",
       "  <style type=\"text/css\">*{stroke-linejoin: round; stroke-linecap: butt}</style>\n",
       " </defs>\n",
       " <g id=\"figure_1\">\n",
       "  <g id=\"patch_1\">\n",
       "   <path d=\"M 0 280.8 \n",
       "L 560.7 280.8 \n",
       "L 560.7 0 \n",
       "L 0 0 \n",
       "L 0 280.8 \n",
       "z\n",
       "\" style=\"fill: none\"/>\n",
       "  </g>\n",
       "  <g id=\"axes_1\">\n",
       "   <g clip-path=\"url(#pcce21c1c85)\">\n",
       "    <image xlink:href=\"data:image/png;base64,\n",
       "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\" id=\"image8da35c6df3\" transform=\"matrix(2.67 0 0 2.67 7.2 6.6)\" style=\"image-rendering:crisp-edges;image-rendering:pixelated\" width=\"100\" height=\"100\"/>\n",
       "   </g>\n",
       "  </g>\n",
       "  <g id=\"axes_2\">\n",
       "   <g clip-path=\"url(#pe4b263cff8)\">\n",
       "    <image xlink:href=\"data:image/png;base64,\n",
       "iVBORw0KGgoAAAANSUhEUgAAAGQAAABkCAYAAABw4pVUAAAEEklEQVR4nO2d3Y0bMQyE5SBVXBVXRIBrIM26C1fhNpInA3t7Wq34O0OvPiAvib2SOEtRoijn9uf2919b0PAL3YHFd5YgZCxByFiCkLEEIWMJQsYShIwlCBlLEDKWIGT8RndglvvzIfr818dnSD+ioRVEKsC7QCVIhghHbbB4FIUgnkKMDDtq5/VvaGGggjBOS2hhoKusiEF7iYx6WeDLXlZRLukh2aDjwwwUglQwVBa3Smfqs1PRmcBnz0G+IBQeMkuGodDeWkqQ1mINhhajtYKCRKERI2JpXFIQy5vsbUTv57nu1O/PR5ixGKaTI6zj3uLuIbNvzP35+PFH8lxvgTRvesRL4iaIZEAsg9+j7Zdn39wEeXXKugfQtOnZBjrh6TplZYpxhuXcAylKyVWWlVlRZmKbNxQHVK39NJI0yEeSeUZizmVtDWOZsnrftRg9emqKEkftIb3BjNbj0W909j4lymvcpyxEQERuGj03ha0pBfE2unZAzLt3LWVXWe8oRmtFBXlXMVpTCJIZI3qGryaG1F7moL41UIRYWQJYxtEL7FpbiPchZ8u9akXRR6ukrGrKPaoYMmoAbWAJL6OjE4pbRIIwddybrTjIU0Wxh3h6AHpDN/N32aTt1HtBD1XYzGD4I1Kyvdqko/V8PjpYRwDZh0QbpResEWcbGkru1M+otNLbk5Jc9M6IzlBVFFoP8Taod3VIFJAj3K+PT9jly9fze+1Hp4FmgJ2pR1Q4Sp559tnRSxMJTZHDGdnGuZyHSJCUp0qnHba4QhvUrUhE1H43ghIeIqHC5m+EyEOY7mX08Jp+Zp8TsZRWZXuPOoFc688We3u3R3Nh5+yQCn32bv0uaq8UEkOOBqJNoaCMo/0hG8lz9qQHdUReaw+6/RGQVVbkwVSWJ0VNy9DaXknl/OgZM2mQCCJyXzT7EMtUxnB792jVJW3fXRBUUq4HIlZY20z/8Zmsu3+ZYpyl8iWkT1nWPUPFhKGEcsnFKsbWTtsmQbwqOaTPmSkrQscx7Yvj4iFeF/WthhwV41XBJAhq+pAG0ew75xa7UMaQkeFGebJ3wCwIU5CdEWUkqIcnWe3h4iGSTuxjBoJ9u5ZjXI/0z5aUjaHW8F7XxCzMForT/oDZHq8V2IjXSWVU9jjzRQjbqXsNAlXh2OvH6HTRC8pV1ogzT4gUyjNndUQ5QSJgKsQOEyRigJLyHM0zGUQJzfbus7PS0pmsSvioz2sIT7+Pfh4j6qSvcoqe8n/YYfMM7Xc0wIP6PqBaB37mHcxitEZU5HB0hVl7pXq2jYjvWKARpIdX5aB325FQC4IAHezhMWTxnUsJUuEQ61KCoKejGcrGkArG1XApD6nAEoSMJQgZSxAyliBkLEHIWIKQsQQhYwlCxn98uCSslamZZgAAAABJRU5ErkJggg==\" id=\"imageaf8ee564da\" transform=\"matrix(2.67 0 0 2.67 287.1 6.6)\" style=\"image-rendering:crisp-edges;image-rendering:pixelated\" width=\"100\" height=\"100\"/>\n",
       "   </g>\n",
       "  </g>\n",
       " </g>\n",
       " <defs>\n",
       "  <clipPath id=\"pcce21c1c85\">\n",
       "   <rect x=\"7.2\" y=\"7.2\" width=\"266.4\" height=\"266.4\"/>\n",
       "  </clipPath>\n",
       "  <clipPath id=\"pe4b263cff8\">\n",
       "   <rect x=\"287.1\" y=\"7.2\" width=\"266.4\" height=\"266.4\"/>\n",
       "  </clipPath>\n",
       " </defs>\n",
       "</svg>\n"
      ],
      "text/plain": [
       "<Figure size 576x288 with 2 Axes>"
      ]
     },
     "metadata": {
      "needs_background": "light"
     },
     "output_type": "display_data"
    }
   ],
   "source": [
    "cyl = ps.tools.extract_cylinder(im=im, r=40, axis=2)\n",
    "\n",
    "fig, ax = plt.subplots(1, 2, figsize=[8, 4]);\n",
    "ax[0].imshow(im[..., 50]);\n",
    "ax[0].axis(False)\n",
    "ax[1].imshow(cyl[..., 50]);\n",
    "ax[1].axis(False);"
   ]
  }
 ],
 "metadata": {
  "kernelspec": {
   "display_name": "Python 3 (ipykernel)",
   "language": "python",
   "name": "python3"
  },
  "language_info": {
   "codemirror_mode": {
    "name": "ipython",
    "version": 3
   },
   "file_extension": ".py",
   "mimetype": "text/x-python",
   "name": "python",
   "nbconvert_exporter": "python",
   "pygments_lexer": "ipython3",
   "version": "3.8.13"
  }
 },
 "nbformat": 4,
 "nbformat_minor": 5
}

{
 "cells": [
  {
   "cell_type": "markdown",
   "id": "thrown-midwest",
   "metadata": {},
   "source": [
    "# `align_image_with_openpnm`"
   ]
  },
  {
   "cell_type": "markdown",
   "id": "affected-stack",
   "metadata": {},
   "source": [
    "## Import packages"
   ]
  },
  {
   "cell_type": "code",
   "execution_count": 1,
   "id": "hispanic-beverage",
   "metadata": {
    "execution": {
     "iopub.execute_input": "2022-08-22T18:55:01.838477Z",
     "iopub.status.busy": "2022-08-22T18:55:01.837959Z",
     "iopub.status.idle": "2022-08-22T18:55:03.738660Z",
     "shell.execute_reply": "2022-08-22T18:55:03.737899Z"
    }
   },
   "outputs": [],
   "source": [
    "import numpy as np\n",
    "import porespy as ps\n",
    "import scipy.ndimage as spim\n",
    "import matplotlib.pyplot as plt\n",
    "import skimage\n",
    "ps.visualization.set_mpl_style()"
   ]
  },
  {
   "cell_type": "markdown",
   "id": "arbitrary-beauty",
   "metadata": {},
   "source": [
    "## Create image and variables"
   ]
  },
  {
   "cell_type": "code",
   "execution_count": 2,
   "id": "express-dallas",
   "metadata": {
    "execution": {
     "iopub.execute_input": "2022-08-22T18:55:03.743470Z",
     "iopub.status.busy": "2022-08-22T18:55:03.742853Z",
     "iopub.status.idle": "2022-08-22T18:55:03.863272Z",
     "shell.execute_reply": "2022-08-22T18:55:03.862723Z"
    }
   },
   "outputs": [
    {
     "data": {
      "image/svg+xml": [
       "<?xml version=\"1.0\" encoding=\"utf-8\" standalone=\"no\"?>\n",
       "<!DOCTYPE svg PUBLIC \"-//W3C//DTD SVG 1.1//EN\"\n",
       "  \"http://www.w3.org/Graphics/SVG/1.1/DTD/svg11.dtd\">\n",
       "<svg xmlns:xlink=\"http://www.w3.org/1999/xlink\" width=\"492.48pt\" height=\"492.48pt\" viewBox=\"0 0 492.48 492.48\" xmlns=\"http://www.w3.org/2000/svg\" version=\"1.1\">\n",
       " <metadata>\n",
       "  <rdf:RDF xmlns:dc=\"http://purl.org/dc/elements/1.1/\" xmlns:cc=\"http://creativecommons.org/ns#\" xmlns:rdf=\"http://www.w3.org/1999/02/22-rdf-syntax-ns#\">\n",
       "   <cc:Work>\n",
       "    <dc:type rdf:resource=\"http://purl.org/dc/dcmitype/StillImage\"/>\n",
       "    <dc:date>2022-08-22T18:55:03.839743</dc:date>\n",
       "    <dc:format>image/svg+xml</dc:format>\n",
       "    <dc:creator>\n",
       "     <cc:Agent>\n",
       "      <dc:title>Matplotlib v3.5.3, https://matplotlib.org/</dc:title>\n",
       "     </cc:Agent>\n",
       "    </dc:creator>\n",
       "   </cc:Work>\n",
       "  </rdf:RDF>\n",
       " </metadata>\n",
       " <defs>\n",
       "  <style type=\"text/css\">*{stroke-linejoin: round; stroke-linecap: butt}</style>\n",
       " </defs>\n",
       " <g id=\"figure_1\">\n",
       "  <g id=\"patch_1\">\n",
       "   <path d=\"M 0 492.48 \n",
       "L 492.48 492.48 \n",
       "L 492.48 0 \n",
       "L 0 0 \n",
       "z\n",
       "\" style=\"fill: #ffffff\"/>\n",
       "  </g>\n",
       "  <g id=\"axes_1\">\n",
       "   <g clip-path=\"url(#p045474952e)\">\n",
       "    <image xlink:href=\"data:image/png;base64,\n",
       "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\" id=\"image1fbe5fb2e4\" transform=\"matrix(0.958 0 0 0.958 7.2 6.28)\" style=\"image-rendering:crisp-edges;image-rendering:pixelated\" width=\"500\" height=\"500\"/>\n",
       "   </g>\n",
       "  </g>\n",
       " </g>\n",
       " <defs>\n",
       "  <clipPath id=\"p045474952e\">\n",
       "   <rect x=\"7.2\" y=\"7.2\" width=\"478.08\" height=\"478.08\"/>\n",
       "  </clipPath>\n",
       " </defs>\n",
       "</svg>\n"
      ],
      "text/plain": [
       "<Figure size 700x700 with 1 Axes>"
      ]
     },
     "metadata": {},
     "output_type": "display_data"
    }
   ],
   "source": [
    "im = ps.generators.blobs([500, 500])\n",
    "plt.figure(figsize=[7, 7])\n",
    "plt.axis(False)\n",
    "plt.imshow(im);"
   ]
  },
  {
   "cell_type": "markdown",
   "id": "clean-employer",
   "metadata": {},
   "source": [
    "## Apply tool"
   ]
  },
  {
   "cell_type": "code",
   "execution_count": 3,
   "id": "accessible-pasta",
   "metadata": {
    "execution": {
     "iopub.execute_input": "2022-08-22T18:55:03.866622Z",
     "iopub.status.busy": "2022-08-22T18:55:03.866198Z",
     "iopub.status.idle": "2022-08-22T18:55:03.937344Z",
     "shell.execute_reply": "2022-08-22T18:55:03.936779Z"
    }
   },
   "outputs": [
    {
     "data": {
      "image/svg+xml": [
       "<?xml version=\"1.0\" encoding=\"utf-8\" standalone=\"no\"?>\n",
       "<!DOCTYPE svg PUBLIC \"-//W3C//DTD SVG 1.1//EN\"\n",
       "  \"http://www.w3.org/Graphics/SVG/1.1/DTD/svg11.dtd\">\n",
       "<svg xmlns:xlink=\"http://www.w3.org/1999/xlink\" width=\"492.48pt\" height=\"492.48pt\" viewBox=\"0 0 492.48 492.48\" xmlns=\"http://www.w3.org/2000/svg\" version=\"1.1\">\n",
       " <metadata>\n",
       "  <rdf:RDF xmlns:dc=\"http://purl.org/dc/elements/1.1/\" xmlns:cc=\"http://creativecommons.org/ns#\" xmlns:rdf=\"http://www.w3.org/1999/02/22-rdf-syntax-ns#\">\n",
       "   <cc:Work>\n",
       "    <dc:type rdf:resource=\"http://purl.org/dc/dcmitype/StillImage\"/>\n",
       "    <dc:date>2022-08-22T18:55:03.917480</dc:date>\n",
       "    <dc:format>image/svg+xml</dc:format>\n",
       "    <dc:creator>\n",
       "     <cc:Agent>\n",
       "      <dc:title>Matplotlib v3.5.3, https://matplotlib.org/</dc:title>\n",
       "     </cc:Agent>\n",
       "    </dc:creator>\n",
       "   </cc:Work>\n",
       "  </rdf:RDF>\n",
       " </metadata>\n",
       " <defs>\n",
       "  <style type=\"text/css\">*{stroke-linejoin: round; stroke-linecap: butt}</style>\n",
       " </defs>\n",
       " <g id=\"figure_1\">\n",
       "  <g id=\"patch_1\">\n",
       "   <path d=\"M 0 492.48 \n",
       "L 492.48 492.48 \n",
       "L 492.48 0 \n",
       "L 0 0 \n",
       "z\n",
       "\" style=\"fill: #ffffff\"/>\n",
       "  </g>\n",
       "  <g id=\"axes_1\">\n",
       "   <g clip-path=\"url(#p438dd5ced7)\">\n",
       "    <image xlink:href=\"data:image/png;base64,\n",
       "iVBORw0KGgoAAAANSUhEUgAAAfQAAAH0CAYAAADL1t+KAAAnPUlEQVR4nO3d23EcORKFYXBDVvBZBtCIiaAD4yy9oBWUFQrtA7eXrWZfqgoJ4JzM/4vYl50ZqQrIzNPo69PvXz//NHzz+vyy+hK+eft4X30Jf3m0RmrXm4FiXc6iXk+V9wbHRdb1f8L+JAAAsAyBDgBAAgQ6AAAJEOg4ZMvrhbymCADzEOhXEEQAADcEuhHHBxqO1wwAs0TOSAL9AgEUjzVFLz6yBjxGoJ9xaEqFazxyDQrXDQCZ/Vh9ASoInPFen1+GnbSu7Z/6qe6It493ahXAVU98U5xnmK8Kq6i1irj+rdeSLdgd67WX+h5W3BPEiqjx0id05yYcedq993eO+rMe3YvzXgHADCVP6NnCYXSwZ1gv9RPeHhn2Yy/l/au4Hxijt87LnNAzN93p3qKHXuY1c1btdXTlMAeULA/0SoNpNNbythUvUQDAHr1zatnH1l6fXwgg4CAenAA59eTi9BM6IQ5gKx64ANtNPaET5lgpW/0RdkBOR2fVlBN6tkEK7PWoB46Gc7U3yAFVHHmz8/CPrTFsoGbGyba37vdeY8Y+c3kGIuPaQ8vWXhh6QqfQUU1UzY/6KCIAP1vnwZATOkEOdU6f2d96rdn6zuXBTLZ1X4Fvitzv2pqFBzoLDxczv08+QqWh5xLmreVa9xX27DVrfV9YoLPQcHQkOFbWepVQJ9DrOLrXrPt3Xa+hs6Bwt/W1KZVar/CNd9nvDzFOdaLSmwp2BToLh6ycaps3zCGLiBom2L/8YBEATxl7lwcpOIpgX/hd7gAARHv7eC/7wJBAByCh6hDGGBWDnUAHsFy1wTtDxUC7ptIaLP89dABAjGvhdf7/VX19ucrr6+UDfcujt1tFwOcngX6VTlAjbVnH6j/mkz3YSwV6zy9ajbiOrEUFYK49M6p6qLeWdwaXeA1d9bUk1esCZqH+12DdP2WbwekD3WGzHK4RQC7MnS9Zgj1toGfZICCrDP3p/pRthj2I5J4bKV9Dd94QoAJ6FMpcPxmQ9oTuhgEHeHEa9Pcwe+5zOrWnO6G7LDxQFT0KRw6n9lQndAYFoC1Lj6oO9KOy7Mssqqf2VIEOAKNlC/NVFANxL7VgTxPoSosK4LsMPUqY4xqVYE8T6AB0KQy7XoQ5Hlld5wQ6gKFWD7kI6mEecX0Z9knBynUk0AEM4x4Sr88v8mEOPavqPkWguw8NICPnviTI0WtF/acI9AwYHsjEPcwBRwQ6gFCuYe5+Kud1dBDoAMK4BoJzkLuqsOaz+yFFoFcoDECdY5i7n8pHcNxHfEoR6O4YKHDnGAL0HbIh0AF0IczzmbWn7EMsAh3AYY5hnlX0Xsz6OlNCPQ6BDuAQ1zAnQPYh1PvM7JM0gZ65IAA1hLmW0fsx47SedW9m+rH6AqqjiK+7NzxYM+DLzAdXp79rVA+e/lzXB4yrpTmht8agz2DLSYBmX8t1/ZkPcUaf2NmrY1IFOrztGRCuoQJEWt0Ho0M9S7DP2qd0gZ6lAPDYrHfhAmqUan/Ga+sZ5vqM/UoX6PDUU+wqg60Kx+HqeM23KNb7rHfCu+/j6HVKGejum479FIccEI069w/2kc+upAx01MSwm8d5oDpSeor9ltnXdwp211ocsV5pP7b2+vwi3wCI9/bxbtvgGMO9Hphjj13ucc+aba2XiH2JnldP/zz9+yfsTxPj0gjuAydC9F6xpnM49JhzLTis7znntT4icn8i1i71U+7Vigtf3AahK3psDIen2BFb/xH7nTrQXdC4BANwwjyoq3fv0wc6QVEXg3EO5R5TvrZr3GvW/foV9Kxh+kBvzaOpaYQxWFe4oFZxcvQllxKB7qJ6Q4964FV9XaGPGvU041fu9igT6A6n9NZ4Mww8ufSXIvod9+ypjzKB7oYmj8V6QhF1iS22HvRKBbrbKaLiaX3kHlVbSwDjrJgnp0y49Xen/aa4TE6b5/aABLXw7Yz7sFboca1+Sp3QW/MOxSoDwHmPgC2q9DLmKhfo7io+DR+JtcNq1CBG+Q8B4Sn7vnFKR0aZe7a1On2ruo//P6E/erE9k0xFl3nPMu0TkLVPoePqU+6ZQyIr9ms71gpARndfQ898as94+su4Vxn3CfMo9EPGvoSmzW+Kyxzu2bBHgAZ6ETMdepf7ebhTsJoy7QundPRY1QuZehAeQj625hrw2YPCaS8eyb5XyMNtDiKPp9+/fv6Z8RepDuQKjae69ntF71WWdVGi3E8z9lv5/ker0k/Kezztq1+vLUKVAlgty1fH8tWi2irvTeV7h46l3xSn8FS9e8jtwdBBZSPqn6fXoUTqq19pjvHc17fSAzDEi6p/ZtXfKvWl8r1KBfrJ7GZR3iB8x36hR89sIcihTDLQT2ieMVjTT6xDHLe13Hu9zCI4mPYu9wijT2bVGtb9pBuxX+5roMK9d67Vgfs9zVKxh1RrwyrQWyPUozk3I4GuoVrP4EvV/lGteemn3K8ZvZBVC9RRxF6pNiYA7GUX6K3NCfUqwU6goQf1U1eVGXmN6r1bBnprcwbJKdhVNy+K81DmlA7Ml30mupr2TXEjvH28Tyss3jSji2+QW4M1r4kw1/XjtDk05373Cpv1nKs31Gc+OARc0SPanv55+vevd7k7BpFTkamur9MaPnJ0jTOtwWiqdYxx6I/v1PrgW6C3pneRW2QoNr7PPo5bqN+6XsW9cZwP6KNYhwrUeuFqoLemd6GPVCi4EXvCun03c022XpvSPrnNBhynVHeK1HohTaC3RvGdczrxzfaotlV/N1th7xznAo5RqDcHSj1xM9Bb07rQrShCKOvtqZX17TgPsB8zdB+lvrj7OXQ2FogT0firhofS0EK8Kt+5kd3Dz6G7fcaXjx9BjVP/XON+/biOOZnPpm+KY+OBY0aEIQGLHpzE87L96td7GHjIblaN00t5EOT5bQ50CgHYz7lvCPM8nOtQmVqP7DqhOxWF2kKjrlF9M7LG6Z88nOa2E8Ue2f2Uu1NxKC44anIMdfhzmtcu3j7eZfvu0GvoTkWiuvCoxyXU6Rngb6cQV++NlG+Ku6S+CahDPdTpFeCLQ4ifu/tNcY843WhrXs8sILdRvdNT4279jPuYd8c490FXoLfmd/MUOVSM7J09de7Ww9iGWbddlh54+E1x2Zw2jmLHaiO/hfH8z71V61mGGHBExvrvPqG35r0wBDtWc+4f6GK2fZe910ICvbUcC0UDYJUM/QMtzLNPlXqr3FPu91xuPA0BAF4qBfilsBN6a/kXkoDHSNn7B3NVmVf0zZfQQG+tzuJWaRbMVaV/MEfGOUWP3MZT7gfxbnkAmIcgfyz8m+KqBZzbNwkBgBNm7HYlvvp1BooOEao9IAZuYabuNyTQKw8lihAA+jBDj+GEPgjBDmA1xxnkeM0qCPTBKE4A2IZ52WdYoFd+2v0Sp3UAwGic0Cci2AHgOmZjPwJ9AQoXAL4wE2MQ6ItwWgcARCLQFyPUAVTGDIwzNNB5Y9w2nNYBAL04oQsh2AFUwryLRaALItgBRFB+lpQZF2/or62xYX3O10+5MQEA6/HzqSYIdwBZcNgbg0A3dNkMBDyAS8yFegj0BK492qWZASjidD4OgZ4UT9F7YtghgmrPU99jEegF8BQ9gNUI8/GGBTqbp4uAB/JS7GfyYA5O6JBqNsVhBOA4pfmSHYEOKZVf+2fwoZdaz1DTcw0JdDYRESqHO+COHJiPr36FhezDIfv9YTyVB718dfU64YHORmIUagvQRo+uxQkdVjIOjIz3hHqo4/VCX0NnQ4F9KvTM5VPBFe65GvZUQ1igs6HAPhl7ZsvruOf/TpY1uHXfWe7vngr36CIk0NlQYJ9MPdPzZqzX5xfbtdjz4MX1Hh/Jel+uugOdDQW2ydYrUe+qdgs9lXeTr+ayX2q21M/RtT0c6GwmUK8PRoaZ8mmdEMcRR+vm6PtOdgW6arMBGGtWoKmFOkF+ndIeKRhdJ1vfd3I10NksqGLAzlVxvSve8x5Z88Fl3++d3n9k3RxgBrUTZaRVA27VmroMdMRy3/fz6+eLZQD85fX5ZfmQm/n3K9xvhKwPLEfKsO/nCHTYUG0+1es6ItO9PJIlyGfiQYM2Ah1AOQQ5MtYAgQ4L6s2nfn1bZLiHRziVIzMCHQhCUGhjf5AdgQ4Ecg0N1+veKvv9Aa0R6DDAMEYP6gdVEOhAMAKkH++m3o+62ydjjRHokOY6pFyvW0HkoGUfUAmBDlkMY0BLtp7Mdkon0IFBsg2/GbINWOjLVHMEOiRlCcMs9zFDpsE62+yvyoUmAh3A0jB9+3gnzM1kC/Us9UegQ062YZHtfiJlGaQrrfxVvEy1naEWCXRIyTQgzjnc18yBxqk8j1OwO9T4I+41+WP1BQAnGQaCu7eP96H74D4w1aj1zLXrYc/nefr96+ef1RcBqA2mUVyGW/R+rLpvlboadf8q97eHQw84rmtrnNAhwLV5Mos4qTsMbmeufXN+3dRILE7oWMp1KPVwH2Kvzy9W96BQY9HrpXBPkRTryXGNeVMclnFsGGgOX3XU+n2sTwwCHUtUbuDK945+WetH7b4cH7gS6Jgqy8dbgBWy9072+xuNQMc0NOsX1mIex5PWNVVqpsp9jsC73DEUzQl8OvpmQnpondHfyxCNd7kXtLVAe042Tk2wUpbTozqletyz50rXPZtKbzjtASf0QvYW5tZvfXIqeNTkdtJyutZR3D4eqYBALyJqQDBoYjG06jn1EA+OEY1AL4AhAeihLx/jAe8+vMs9MT4i5oE9moNgQHYEelKEBAD0c3ogSKAnRJj7Yc/mcBrO+LS6N1b//XsQ6Mk4FR8AIA6Bnghh7o39m4NTuh96YxsCPQkKHgBqI9ATIMyBfTilIyMC3Rxhngv7OQ+h7mVFb7j1I4FuzK3YADWEOjIh0AExPFCbi1D3QW/cR6CborCBOG8f7wQ7/uI4Ywl0Q46FBjgg2PXNmH+uM5bfQzfjWmjYh1DxR6+ONapHnPeNQDfiXGjYh0DPh/6NF90n7nvEz6cCwASn8HEPDSURP6+aaT84oZvIVHR4jBN6fvR0rL09k3H9CXQDGQsP9xHoddDffu7158r9JNAN0PDjPQrQmXtAmNdEn2s72pcz95VAF0eTj6fSqAQ5WqPnFUX15ui9JdDF0dxjrf7oCyGOW+j99Ub2Z8/+3rouAl0cTT0OYQoXzIH5VsyHa/u85zoIdGE08TiEOdwxH8ZxnQ98Dh0ADF0LHUK+n2uYt0agoyDnhgXuOa9twn0/99nAj7MAQELu4TRbhvUi0AEgqQwhNUOWdfqx52mZLDcNAFW8fbzz9PsdmXJt12vol0WRaSFQAzUL4CTbPOh6yv31+YVHfgAgLltwRci4JiGvoRPsAAAXGcO8teA3xRHqAABlWcO8tQHvcue0Hidz4a1CbQJ1ZZ+pwz62xuAEAKjIHuatDf4cOqf1fhWKEABGqjJHp3z16+vzS5kFBQA1Iw5WR2f67ENepex5+ufp32m/tlZpYaPxTEcsatELX4DVJ2p+RK7tjJlWrRamBvpJtUWOQqjHoQY99NQ8e/wpYm6MXEulZw/cLQn01uoueC9CPQ41qEvxROmodx1nrV/kXKu858t+nIVgOqZysUajBvVEv5G28htzK9539fm49NfWKhZchLeP9/KFi3yYBzGiHsTMnDERfxczceFT7ufYiBj3mvi0xgzN76i/tWbVZIV9dn7qmvdL9JMI9NbYkBUI9y/U3xp8hClO9Fq6BHrmPd1r6VPu5wiX+WgErETPx8mwlkfmETPsbzKBDqyUYSC6WPlGtYz7nPGetiDMv5MK9KqFCQ3U33isMSIQ5tdJBXprNDzWov7GUVlbleuIMPJeFNeJT/jcJxfoAHKp/FnwkTKu6b2wJsgfkwz0jIWqiHW+jnWJw1oiAmG+jWSgt8YgwFrUXx/1U7nytW0x6/pXrNNleBPm2035+VTAET/7u597UEIDfXeM7Am9NYbDSKztNqzTNuonchzHvvrghA48wEn9Ogb9Gqw7bpE+obdG8UIDdfg31qMW9tuDfKAjHs15DOvGU+uVse/6LAKdQoKKyoFW9b4BF7yGDhxwCrcqr61nC/Mq+xaN95Oss6UHbQKdQoqRbTCvdr6eWeuTmgHmOtpzNoEOqLtswgwBT5jjEoereFF9ZvEa+gnDBU5Or7dTt1oIo37UdIzo+WAV6IArx2B3u17AyYj+sgt0hgycOQZ7JhlO5yr3QB0fN2rt7AIdyIBhOJ9KEGZCHe83cs0sA50iAsaix4B4o/vKMtBxHKcUHYTmPNT9ONTxdqPr0DbQKSIAWxDmqMI20Fsj1I9iwOmghsfKWutq90Udbzdy76wDHQBuUQs94GRUbdoHOo8Mj2HY4ZYMPUV9Q93bx3t4ndoHems5BtAKIwoKWI2aXoM5fExkvaYI9NYoph4MwLWo3TiVarnSvWYXdbhKE+it8S1cPRgOALBW7xxOFegnhPoxPAUP596hdpFBzxxOGeitcVrvQbADOIKZG+fIDE4b6CcU2HGEOgCss3cG/xhzGVpOoU5A7XdaMx4YAXB3b46p5sPbx/vm+fv0+9fPP/f+hWyDXHXTXGSrBxUKdZlhbxXWcRbF/VJb/71rpHb957bcy8NA7/nDH7lcvFkFqrxpLhSHibvVdZlhT1ev4UyK+6Wy/j1ro3IPt9y7t8OBPsPIglXfNBeKQ8XVyprMso9V+lp1v1av/4iDpqJb9ykd6K0R6i5UB4wTAj1G5r5W36dVax+9Li41dHnf8m+K2/OGgL1en19sNk7dyH0CqqGXtqu8Vpf5JR/ooxHqcXhHvCf2a41s684cXa98oAMqeHAZQ3UdswU49Fh8sczo5qTRYikOU1xH7Y91+sZK1tmL635ZBDr8EOrHzBwkrkNri9X3Vi3E6XcNPOX+P6pP0wHwUCnAoYkTOobhAdIxM4KhQvjwbEcNzJkvFoE+q1loSqgYWYvUeZxqT62rItQ/WQQ6EOn087DqQ4Cg6DfyOyzYH6gh0FHKZYhXC3VCqA9B/p1KD6lcx0oEOsq41fDqgyAiRCoHUdR9V10/J+q9PBqBfoGmzelRozsMgiOfaa4c5Od61oA19OLQy6PwsTUMwxAch7Xdb+9HU1ljuJE/odNU6LV1iFd+ZF/Fo3nCN7vlULWXOaFjCJWBuLex+dW4/NjfGir2svwJHTiq6qN0AJ+qzQACHeHcHxVXGwJAD/V+r9TPBDpCqTR3pSYGgNYIdATKFOY8IADyqNLPBDpCZArzEX8WgLUq9DOBfqHCpkfLGOYA8sk+Iwh0HKb0ed1RjZp9AADVbOlp174n0HGIUpC7Nh+Qhco82CrrzHj6/evnn9UX8cisYsm6yZGUGnfmfindN6DIdX5e9rbrfbTGN8VhA8Uwc246ADoyzRIC/X8ybWovxQA/YZ8ATXt//AbxLF5Dp0jGc/hRipV1QA0CUMcJvdUc1srBfani/gCOOKWvZfGmuJMRIVSt+JyCvDWt/XFbO2Alpd6twirQW4sbqtWKzS2MFPfHbQ0BBYq9nJVdoLfWP1grFZhjCKnuj+NaAopUe9zFrVlkGegnewZstQJyCx+H/XFbU8CJwwxYZevssQ50fOcUOm4N7LS2gDO32TDCkXnDu9yTUA0bGhPAXqd5Vm1+9M5xAj0BpTCv1oAAxqnwMbjI+U2gmyPMAfTY2rerZk3WUB+xnryGbkopyFvLH+Zq6w0c1durq3ohy4wZuX6c0A0RLgC2ig7Ct493ZtBOs9aLQDei2kRZHjkDmYzsS0J9m9lrxFPuJpSbJ3ugK689cG52L87uDadZs2JucEI3QKCsw9pDmVPAVbFyZhDo4ggUoC71wOap9y8K60Cgi1Ioji3UB04Plz2Ar8z9U4nKrCDQBakUR2XsAUbIGODVT+lK906gi1EqDgD9Mob4CqzjYwS6EMJcA/tQx7WQiNj/auFT9ZSuds8Eugi1wqhKZR8eBYLKdbq6t763/tm9Na8W4NDsQT6HLkCxMLbKNMhW70PPWq6+dieZalbNqDpU2zPVfiPQF1MtjK3UGu2olfsQvYbuNTVSlnpVFl1/anum3F885Y7yMoX55Z+pPHwAN+r9RKAvpF4cGGvGyePy76hcc2onvawi3yCntGcOvUOgL+JQHBVU+ylITu+YISLUVcLcqU+GB/qtxVDZrBWcCiSzamF+iXDHSEdDXaU/WvPriyGBvmURTv+O0uYBo6nW++m63AYYtO2pK6XecO2DsEA/ugCvzy9SGzmaa6Fkwz5cR7BjBKcZ71z7/4n4Q3oXwHkB96hyn7jOaai9fbxbXe8W9B8eca+RrhN65M1XO6kDDjixo4Is9X34hJ5lAWZhvXSs2Av3B6vu139CH+JSppo4FOiZFmCGrOuVZchjmyz7nbUfsV+2Wtgd6CMXINviAtlkeW2dWYOMNRDypjjclrFogCyhTn/WlHXfdwV61kUYhfXSlCGMFGRZR4K9lsx7zQkdh2QZ5jNkXqtM90aww92uQM/UvKMxGFBFtrlAsOeVfV85oQ+QvWgyyBZCq2VcT/o4lwr7ya+tYbeMwxv9In82U4X6b05cW2/Va10pW13esvuEPrJYMhRilcIBrsnQw9eo9fW9lwV4yaCuQ0+5Z23aXjSRF+p4jKzrqtDfe8KaYP9UaQ1kXkPPOgSyYZ+wRdY6WRkOPb9oiRoOB3rWhj2KpvFEHY+TdW1n93rESbvqfKp2310n9KiGzdr42bBPwKdZQRH9i5bIrfsp994hnyEkaBRvGWpQVea1pe+1VdyfkNfQjzZt5mbPhr3CUZlrx+3HqiqGXCVhb4rb8ytMWX6xqbUaDZJlr+6pcI/w4fZAARrCv1iGwQhXGb8YRUXmtX19fgmde1nXaaaqayjzsTVHFYqGB2iIkrmWomaB45vtoINAx02ZB/At0fdccQ2rcgtJt+vFYwT6QdmboXIQVb730bKvbc9cWDFTMs6xjPe0FYGOb7IP3S0i1oB1rOlIoFQOIcQh0A/I2nyZPn0QgfUYo8Ka7pkRq+fJ6r8fcQh0tNZqDNmjjgQ764lHX9mq9OMpKteBPk+/f/38s/oinGQrfILnuMtaYC23y9ZHWbjXcPW6ItB3ci8Y94ZFHu69lJXzjKheU+FfLJPZ6mJxbjQAHqK/KAfzEOgbzQxzmgnASoS6J94Ut8GsMOdd1aiEWte2+hlJ7EegPzCjqAlyAIoIdS8E+h2zwhwAVCl9vO4eh2scjUC/gTDP4TSMaHagDz2kjzfFXUGYe9m6X9f+PfYB2O7UQ/SNJgL9Ao9CPUT/XCUDCtjuvP/oHR18scyZme9mxzEj94h9mY8H0Lms6iHq6BMn9EYxOJixR3z2FujDy1prlQ90wlzb7P0h1IFYj3q4t9+Y4V/KBjpFoG/VHhHqwDz3+vxeHzrN8D3zpOe+Sr6GvroQCIvHVu9Ra+zTDAr7DESLnh1b+6TUCZ3h4UFlnzipA9hi9JzY+kxFmUBXCQncxz4BcKDyYP/8Oko85a4YEirFoERxn1pjr0ZR3W/gFvVZkP6rXxkaHtinetSHI3Di8gNaqZ9yJyQQgdfSgXocez7tCZ0w98FeAVDiGOatJQ50dYQYAOhxDfPWkgY6YQkA2Ms5zFtL/ho6btv6oGd0gfPgC4AC9zBvjUAv5Uh4Xv43GYoeADIi0Bea9e7pyFNwtd9BrnCPAHIg0BMb/XR2b7irPt2+9V5uXT8PArZ7+3iXrQPADYGe1IqfHT1xDLS913xvfU//zHEdgKoyfN8Egb7QqOJZfeLZ8rr76mts7fj6b732DAMCgI+U3+WuEBZbrPqJvcoi1nzvOhPqj1G7UOHcr5zQFyHM51ndoDwFD2AGAn2irE+xK1Jca56CB/Q592nKQF/9ztmZxUCYe518nYcFAG0pA30GhnKcamtJqH+3+kE4cM61R1N+l/sop9/EVdnoDANQZS1ny7B3QGaOPZo20CODQinETxyLDX9jD/+m1mOAm7SBHkExyDNxW9sRAUyoA7rc+pNAv8EtbODLbWgA0ESgX3A4lRMA+bCnn9R7D/U49WbqQN87HBgmWMlpcADQkzrQ9yDMcc+ssCXU6UXgKAK9MUBWYM1vI9QBLS49yRfLmHEpLKAHXzSDk8sH/9TFbakDfcvGc1LEIysGiOs3VQFHba13Av621IEOOKse6pzSc4uq7dOfQ60kDnQ2V1flkAKqGt33PADkTXHAXasHxOq/fzUe/Hmb/fsXDt8jMlLKQK8+BAFgpdXBGv13uzxISBnoAPJwGaZYH+TnVK5jpnSBnvl0nuHenJpMZb1VrmMlp7qpSCnIK0sV6Aw+AJhLOcgjrk35/i6lCXTCXJ9TYyhh3T6xDnoc9sThGqOkCXQgEg8QNVUazuqc9uLotTrdY2tJAr1n+DK453BrDBWs23esCY6oUDf2gU4gI6sKA+go1gZH7Kkbxxqz/qY4wtyDW2OsrCu3tQLcbPlGOdc+tD+hR+CBwTiujTEbH/vZj/XCUfdqx7mubE/ohDBGmFlXzoNDBd/fjaPOf9QlSy9antBpYA9ZmmQE1iYOa4kemerHLtAJcw+OTTKrthzXBoA+u0AfhQcKtRHm3ljX+ZiZeqwCnQLywHC9jnUBMJLNm+Kqh7nL/TuGlsvaop7zfqJO8YjFCX1WIdMwGMXxgQ7WuqwZxY82MjO1yAc6BeNDbdhsQX3lkG0fH31OWqnXsq29q9fnF/1An02xOBWv6ZLSgNnKYV3xWNV9dOw5jHHqAelAr9qoALbJOCMcv2884z64OF/7H1s2YnbRUBxfWIsxWFd/7OEnvi2vrst93/Qu98v/aGTAKxSmylcBKqwFoIa+0KQyN6u41geHnnJ/fX75639RlBp15bVEryv+xtr6Yu+uUwlS9meOW+sc8jn03hM8RfCFtciJ08txlXqip0ZUnnqn1se6t8dDvlhGoagizCzMLGsGRKAfMNLMl5EjPeqLp3+e/v0z51K8jdrwTIPLoSlWrrfD+vTKVM8rRNSIyh4o1fueNVG67nNb7sHmq19XOy1m1GarNB3myfhUJHWMWxTq/Uh9Rs/6XnvugRN6hz0bXmXwqTTBLav3IXJ9Ht0Lzyr5yXhgWDETIu9/1Uw7cg8EOkIpB7rKkOtdoyP3seLvxH4ZA/0kw/uRZtxDz/UT6AinGuoqQ65nfWadPFTWqpqZz+CskOU7TKLvI+raeQ0dmOzoa4vRA0tx4CO3Ea+rr6jj879T5QF6awQ6YIHwrSEy8FQ+l34p8k1nCve3J9xHXy+BjnAK725Vt2eNFIYWEK0n2FV7YvV1EejAIo9CffVwgD/VU/q5rSdc9ftQQKADC906pTC8UBF134d3uWMYtafdGRZwkeGNY5jv0K+tAY7UHmAAQCSecgcw3a0HV5wkx3B4LR39OKEDmOLt4/3//3v071Q3InxZ1/w4oWMIhgdaO14Hp/+OUyWwHSd0AOGiTto8MIzFeuZGoKMUBtp40WvMnsViPfMi0AGEGPn6d8UQcv/VMMxHoCMcw6KWWW9ko65isZ75EOgADiMUvLF/uTz9/vVz9zfF8c5T3OIwIKjfGKv2utL+zVrjSmua2aGPrV0rMoWC4KMuwHirH7TxJSnAdYdO6I/MarYtg4XGn2f1oN+DujhGZY+r7N/M9a6yppkNCfSTUQWS6fdzs1AZ9FtRD/up7XGFPZy95hXWNLOhb4obUYy93zwFYD/6pwb22dvwd7lHfmMUxaaJfcmN/V1j1bqz376mfWytp0iiCoxCBbZTfxCtfG3uWFtPUz+HvrdI1AcKaPys2FdQA36mf7HM1pCmmPSxRzk57avTte6R9b4w1rJvirtVsKNP5TQKeCfvbfQHzlEPXpb+HjrF4ou9y4c91cA+4Ci+yx27MXDyYU9xC7XhY+kJHZjN+en2W4O1957cB3amr4JV3YtMa7zK5d6OWM9ygU5R9lEdOJk9WvPzf763vtlPHexFXtf2dsSDJJ5yRxmOD+aOftSTT5J4cdgLh2tUdG/doteUQMdmNLSXe8HOXupgL/KavbelnnJ3PKEhhuPe8w2J27m+xlthb6pasbec0JGe46BHbq7fgul4zeoi17TMCZ2h3se1kdl3KHHtI+yzap9LBDpDvSb2HQoIccySPtAZ6jW57zsh4KXSfrm+X2GWlbWQOtApuprYd4xSKbix3+r6SBnoDPS62HuMsHpQQ59CjcgE+rVBvHeBGOa1sf+IpjCkFSk97X5tj2Zfm0qdLA/0ewuvUjDQRp1gRA2oDGnsd9q7GbNBqU6WBTpDGBEy1pHSgKiKPfCw9XcORs0JtTpZ8sUyGYcw5qOOMILakEa/6D1V/WKg5U+5A0cQ5jiJrAXFIY0YEad19fqYHugMYk+vzy8SxUz9AOhx5OeGFWbfFlMDnWGMHtQPLlET6OES1Fvx4yzYbOXwrDK4sw0YJ6w93E07oVcZyHvcGyCs1xfWAtdQF8DfppzQabzvtnzcQvWdlDNRO7iGukBr1MElnnJfYG9IKwX7rAZ6fX6hWXEVdQFcR6BP1hPMSsE+EgMbQCVRc314oDOc460O9pF7WrleKjxY61W5PpSwD5o4oRvLFuoMCdxDfeAa6uILgW4uy6mOpsQ91AfwGIE+0ajwXfUUfNSQZVjjHupDC/uha2igs/FzOYY6NYJb+KQDtspQJxHzmxN6Mk6hnqEJMQa1oYl90UagJ+QQ6gwGXLPyVE5Nwt3QQM/yhq0oMwfGqlB/dI88jYprqAt97I8+fg89sbeP9yVNSONjC+oE+FvvzOYp9+R4lsRH9oA7ncI5jftx2C+HaxyNE3oBq07qqI2am+veevc8sGcffTz9/vXzz+i/hIL4surEzB74cH5WJUOdua3/0TV/dJ+Oe+m2d7ccXXtO6EVwSsdI1NZ8fAcELk15DT3LoyZ37IMHt0Hrdr2AuqOzmjfFTbZ6+BHqiLS6nkfIeE+oYVqgEyQ62At9DqHicI1HOdwbfZzbkf3lNXQAuzkEXq/X55fdQ3XrukSFMe+Nwbkp73I/R/HpPLJmL7Sp1MmlanVzbx961iJ6f6vtyzWqPdNjz74S6IsoFJ7rXlyunet9bKFQJ+cyr/UKhHoctV6JIh3ordUuuhOV4nPZiz3r5XJPW6jUSWu51lXFiP2tuk9KvRJt654ueZd75oVHrLeP9931cvpvMtSZynBWuQ48lqX2sR8fWytOufEjrk35/oCRqP08tu7lskCvXmyceObhxNKHWh1jRk1S+3ls2UdO6JA0Ygi5DraVgUqY5+Ba+1tlv7+tCHSUaoZK9wqco/b9PdrDpYFOgQG6OJ3nw8zNjRM6ymGooTLq39u9/SPQF+IEtI7bUKNWEMmt/rHN8kCnsHCJmliPBxBjUePocat+lgc6AABH8eDoC4GOshgEqIz6z4dABwDAzLUHZAQ6AAAJ/Be0wJ3IXcbRuAAAAABJRU5ErkJggg==\" id=\"image7215828859\" transform=\"matrix(0.958 0 0 0.958 7.2 6.28)\" style=\"image-rendering:crisp-edges;image-rendering:pixelated\" width=\"500\" height=\"500\"/>\n",
       "   </g>\n",
       "  </g>\n",
       " </g>\n",
       " <defs>\n",
       "  <clipPath id=\"p438dd5ced7\">\n",
       "   <rect x=\"7.2\" y=\"7.2\" width=\"478.08\" height=\"478.08\"/>\n",
       "  </clipPath>\n",
       " </defs>\n",
       "</svg>\n"
      ],
      "text/plain": [
       "<Figure size 700x700 with 1 Axes>"
      ]
     },
     "metadata": {},
     "output_type": "display_data"
    }
   ],
   "source": [
    "im = ps.tools.align_image_with_openpnm(im = im)\n",
    "plt.figure(figsize=[7, 7])\n",
    "plt.axis(False)\n",
    "plt.imshow(im);"
   ]
  }
 ],
 "metadata": {
  "kernelspec": {
   "display_name": "Python 3 (ipykernel)",
   "language": "python",
   "name": "python3"
  },
  "language_info": {
   "codemirror_mode": {
    "name": "ipython",
    "version": 3
   },
   "file_extension": ".py",
   "mimetype": "text/x-python",
   "name": "python",
   "nbconvert_exporter": "python",
   "pygments_lexer": "ipython3",
   "version": "3.8.13"
  }
 },
 "nbformat": 4,
 "nbformat_minor": 5
}

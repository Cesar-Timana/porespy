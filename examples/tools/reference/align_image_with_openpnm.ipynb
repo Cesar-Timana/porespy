{
 "cells": [
  {
   "cell_type": "markdown",
   "id": "thrown-midwest",
   "metadata": {},
   "source": [
    "# `align_image_with_openpnm`"
   ]
  },
  {
   "cell_type": "markdown",
   "id": "affected-stack",
   "metadata": {},
   "source": [
    "## Import packages"
   ]
  },
  {
   "cell_type": "code",
   "execution_count": 1,
   "id": "hispanic-beverage",
   "metadata": {
    "execution": {
     "iopub.execute_input": "2022-08-12T21:37:32.743006Z",
     "iopub.status.busy": "2022-08-12T21:37:32.742705Z",
     "iopub.status.idle": "2022-08-12T21:37:34.627336Z",
     "shell.execute_reply": "2022-08-12T21:37:34.626596Z"
    }
   },
   "outputs": [],
   "source": [
    "import numpy as np\n",
    "import porespy as ps\n",
    "import scipy.ndimage as spim\n",
    "import matplotlib.pyplot as plt\n",
    "import skimage\n",
    "ps.visualization.set_mpl_style()"
   ]
  },
  {
   "cell_type": "markdown",
   "id": "arbitrary-beauty",
   "metadata": {},
   "source": [
    "## Create image and variables"
   ]
  },
  {
   "cell_type": "code",
   "execution_count": 2,
   "id": "express-dallas",
   "metadata": {
    "execution": {
     "iopub.execute_input": "2022-08-12T21:37:34.631923Z",
     "iopub.status.busy": "2022-08-12T21:37:34.631093Z",
     "iopub.status.idle": "2022-08-12T21:37:34.744134Z",
     "shell.execute_reply": "2022-08-12T21:37:34.743618Z"
    }
   },
   "outputs": [
    {
     "data": {
      "image/svg+xml": [
       "<?xml version=\"1.0\" encoding=\"utf-8\" standalone=\"no\"?>\n",
       "<!DOCTYPE svg PUBLIC \"-//W3C//DTD SVG 1.1//EN\"\n",
       "  \"http://www.w3.org/Graphics/SVG/1.1/DTD/svg11.dtd\">\n",
       "<svg xmlns:xlink=\"http://www.w3.org/1999/xlink\" width=\"496.8pt\" height=\"496.8pt\" viewBox=\"0 0 496.8 496.8\" xmlns=\"http://www.w3.org/2000/svg\" version=\"1.1\">\n",
       " <metadata>\n",
       "  <rdf:RDF xmlns:dc=\"http://purl.org/dc/elements/1.1/\" xmlns:cc=\"http://creativecommons.org/ns#\" xmlns:rdf=\"http://www.w3.org/1999/02/22-rdf-syntax-ns#\">\n",
       "   <cc:Work>\n",
       "    <dc:type rdf:resource=\"http://purl.org/dc/dcmitype/StillImage\"/>\n",
       "    <dc:date>2022-08-12T21:37:34.722207</dc:date>\n",
       "    <dc:format>image/svg+xml</dc:format>\n",
       "    <dc:creator>\n",
       "     <cc:Agent>\n",
       "      <dc:title>Matplotlib v3.5.3, https://matplotlib.org/</dc:title>\n",
       "     </cc:Agent>\n",
       "    </dc:creator>\n",
       "   </cc:Work>\n",
       "  </rdf:RDF>\n",
       " </metadata>\n",
       " <defs>\n",
       "  <style type=\"text/css\">*{stroke-linejoin: round; stroke-linecap: butt}</style>\n",
       " </defs>\n",
       " <g id=\"figure_1\">\n",
       "  <g id=\"patch_1\">\n",
       "   <path d=\"M 0 496.8 \n",
       "L 496.8 496.8 \n",
       "L 496.8 0 \n",
       "L 0 0 \n",
       "L 0 496.8 \n",
       "z\n",
       "\" style=\"fill: none\"/>\n",
       "  </g>\n",
       "  <g id=\"axes_1\">\n",
       "   <g clip-path=\"url(#p7f125b33a6)\">\n",
       "    <image xlink:href=\"data:image/png;base64,\n",
       "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\" id=\"imagefbd3c242e1\" transform=\"matrix(0.966 0 0 0.966 7.2 6.6)\" style=\"image-rendering:crisp-edges;image-rendering:pixelated\" width=\"500\" height=\"500\"/>\n",
       "   </g>\n",
       "  </g>\n",
       " </g>\n",
       " <defs>\n",
       "  <clipPath id=\"p7f125b33a6\">\n",
       "   <rect x=\"7.2\" y=\"7.2\" width=\"482.4\" height=\"482.4\"/>\n",
       "  </clipPath>\n",
       " </defs>\n",
       "</svg>\n"
      ],
      "text/plain": [
       "<Figure size 504x504 with 1 Axes>"
      ]
     },
     "metadata": {
      "needs_background": "light"
     },
     "output_type": "display_data"
    }
   ],
   "source": [
    "im = ps.generators.blobs([500, 500])\n",
    "plt.figure(figsize=[7, 7])\n",
    "plt.axis(False)\n",
    "plt.imshow(im);"
   ]
  },
  {
   "cell_type": "markdown",
   "id": "clean-employer",
   "metadata": {},
   "source": [
    "## Apply tool"
   ]
  },
  {
   "cell_type": "code",
   "execution_count": 3,
   "id": "accessible-pasta",
   "metadata": {
    "execution": {
     "iopub.execute_input": "2022-08-12T21:37:34.746989Z",
     "iopub.status.busy": "2022-08-12T21:37:34.746569Z",
     "iopub.status.idle": "2022-08-12T21:37:34.810098Z",
     "shell.execute_reply": "2022-08-12T21:37:34.809571Z"
    }
   },
   "outputs": [
    {
     "data": {
      "image/svg+xml": [
       "<?xml version=\"1.0\" encoding=\"utf-8\" standalone=\"no\"?>\n",
       "<!DOCTYPE svg PUBLIC \"-//W3C//DTD SVG 1.1//EN\"\n",
       "  \"http://www.w3.org/Graphics/SVG/1.1/DTD/svg11.dtd\">\n",
       "<svg xmlns:xlink=\"http://www.w3.org/1999/xlink\" width=\"496.8pt\" height=\"496.8pt\" viewBox=\"0 0 496.8 496.8\" xmlns=\"http://www.w3.org/2000/svg\" version=\"1.1\">\n",
       " <metadata>\n",
       "  <rdf:RDF xmlns:dc=\"http://purl.org/dc/elements/1.1/\" xmlns:cc=\"http://creativecommons.org/ns#\" xmlns:rdf=\"http://www.w3.org/1999/02/22-rdf-syntax-ns#\">\n",
       "   <cc:Work>\n",
       "    <dc:type rdf:resource=\"http://purl.org/dc/dcmitype/StillImage\"/>\n",
       "    <dc:date>2022-08-12T21:37:34.792028</dc:date>\n",
       "    <dc:format>image/svg+xml</dc:format>\n",
       "    <dc:creator>\n",
       "     <cc:Agent>\n",
       "      <dc:title>Matplotlib v3.5.3, https://matplotlib.org/</dc:title>\n",
       "     </cc:Agent>\n",
       "    </dc:creator>\n",
       "   </cc:Work>\n",
       "  </rdf:RDF>\n",
       " </metadata>\n",
       " <defs>\n",
       "  <style type=\"text/css\">*{stroke-linejoin: round; stroke-linecap: butt}</style>\n",
       " </defs>\n",
       " <g id=\"figure_1\">\n",
       "  <g id=\"patch_1\">\n",
       "   <path d=\"M 0 496.8 \n",
       "L 496.8 496.8 \n",
       "L 496.8 0 \n",
       "L 0 0 \n",
       "L 0 496.8 \n",
       "z\n",
       "\" style=\"fill: none\"/>\n",
       "  </g>\n",
       "  <g id=\"axes_1\">\n",
       "   <g clip-path=\"url(#p5b6791919d)\">\n",
       "    <image xlink:href=\"data:image/png;base64,\n",
       "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\" id=\"image82e11de243\" transform=\"matrix(0.966 0 0 0.966 7.2 6.6)\" style=\"image-rendering:crisp-edges;image-rendering:pixelated\" width=\"500\" height=\"500\"/>\n",
       "   </g>\n",
       "  </g>\n",
       " </g>\n",
       " <defs>\n",
       "  <clipPath id=\"p5b6791919d\">\n",
       "   <rect x=\"7.2\" y=\"7.2\" width=\"482.4\" height=\"482.4\"/>\n",
       "  </clipPath>\n",
       " </defs>\n",
       "</svg>\n"
      ],
      "text/plain": [
       "<Figure size 504x504 with 1 Axes>"
      ]
     },
     "metadata": {
      "needs_background": "light"
     },
     "output_type": "display_data"
    }
   ],
   "source": [
    "im = ps.tools.align_image_with_openpnm(im = im)\n",
    "plt.figure(figsize=[7, 7])\n",
    "plt.axis(False)\n",
    "plt.imshow(im);"
   ]
  }
 ],
 "metadata": {
  "kernelspec": {
   "display_name": "Python 3 (ipykernel)",
   "language": "python",
   "name": "python3"
  },
  "language_info": {
   "codemirror_mode": {
    "name": "ipython",
    "version": 3
   },
   "file_extension": ".py",
   "mimetype": "text/x-python",
   "name": "python",
   "nbconvert_exporter": "python",
   "pygments_lexer": "ipython3",
   "version": "3.8.13"
  }
 },
 "nbformat": 4,
 "nbformat_minor": 5
}

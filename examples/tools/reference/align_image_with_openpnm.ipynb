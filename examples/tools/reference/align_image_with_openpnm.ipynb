{
 "cells": [
  {
   "cell_type": "markdown",
   "id": "thrown-midwest",
   "metadata": {},
   "source": [
    "# `align_image_with_openpnm`"
   ]
  },
  {
   "cell_type": "markdown",
   "id": "affected-stack",
   "metadata": {},
   "source": [
    "## Import packages"
   ]
  },
  {
   "cell_type": "code",
   "execution_count": 1,
   "id": "hispanic-beverage",
   "metadata": {
    "execution": {
     "iopub.execute_input": "2022-08-12T22:21:00.248759Z",
     "iopub.status.busy": "2022-08-12T22:21:00.248174Z",
     "iopub.status.idle": "2022-08-12T22:21:02.438088Z",
     "shell.execute_reply": "2022-08-12T22:21:02.436807Z"
    }
   },
   "outputs": [],
   "source": [
    "import numpy as np\n",
    "import porespy as ps\n",
    "import scipy.ndimage as spim\n",
    "import matplotlib.pyplot as plt\n",
    "import skimage\n",
    "ps.visualization.set_mpl_style()"
   ]
  },
  {
   "cell_type": "markdown",
   "id": "arbitrary-beauty",
   "metadata": {},
   "source": [
    "## Create image and variables"
   ]
  },
  {
   "cell_type": "code",
   "execution_count": 2,
   "id": "express-dallas",
   "metadata": {
    "execution": {
     "iopub.execute_input": "2022-08-12T22:21:02.443464Z",
     "iopub.status.busy": "2022-08-12T22:21:02.442524Z",
     "iopub.status.idle": "2022-08-12T22:21:02.580394Z",
     "shell.execute_reply": "2022-08-12T22:21:02.579764Z"
    }
   },
   "outputs": [
    {
     "data": {
      "image/svg+xml": [
       "<?xml version=\"1.0\" encoding=\"utf-8\" standalone=\"no\"?>\n",
       "<!DOCTYPE svg PUBLIC \"-//W3C//DTD SVG 1.1//EN\"\n",
       "  \"http://www.w3.org/Graphics/SVG/1.1/DTD/svg11.dtd\">\n",
       "<svg xmlns:xlink=\"http://www.w3.org/1999/xlink\" width=\"496.8pt\" height=\"496.8pt\" viewBox=\"0 0 496.8 496.8\" xmlns=\"http://www.w3.org/2000/svg\" version=\"1.1\">\n",
       " <metadata>\n",
       "  <rdf:RDF xmlns:dc=\"http://purl.org/dc/elements/1.1/\" xmlns:cc=\"http://creativecommons.org/ns#\" xmlns:rdf=\"http://www.w3.org/1999/02/22-rdf-syntax-ns#\">\n",
       "   <cc:Work>\n",
       "    <dc:type rdf:resource=\"http://purl.org/dc/dcmitype/StillImage\"/>\n",
       "    <dc:date>2022-08-12T22:21:02.552114</dc:date>\n",
       "    <dc:format>image/svg+xml</dc:format>\n",
       "    <dc:creator>\n",
       "     <cc:Agent>\n",
       "      <dc:title>Matplotlib v3.5.3, https://matplotlib.org/</dc:title>\n",
       "     </cc:Agent>\n",
       "    </dc:creator>\n",
       "   </cc:Work>\n",
       "  </rdf:RDF>\n",
       " </metadata>\n",
       " <defs>\n",
       "  <style type=\"text/css\">*{stroke-linejoin: round; stroke-linecap: butt}</style>\n",
       " </defs>\n",
       " <g id=\"figure_1\">\n",
       "  <g id=\"patch_1\">\n",
       "   <path d=\"M 0 496.8 \n",
       "L 496.8 496.8 \n",
       "L 496.8 0 \n",
       "L 0 0 \n",
       "L 0 496.8 \n",
       "z\n",
       "\" style=\"fill: none\"/>\n",
       "  </g>\n",
       "  <g id=\"axes_1\">\n",
       "   <g clip-path=\"url(#p158e740abd)\">\n",
       "    <image xlink:href=\"data:image/png;base64,\n",
       "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\" id=\"image1cc253d953\" transform=\"matrix(0.966 0 0 0.966 7.2 6.6)\" style=\"image-rendering:crisp-edges;image-rendering:pixelated\" width=\"500\" height=\"500\"/>\n",
       "   </g>\n",
       "  </g>\n",
       " </g>\n",
       " <defs>\n",
       "  <clipPath id=\"p158e740abd\">\n",
       "   <rect x=\"7.2\" y=\"7.2\" width=\"482.4\" height=\"482.4\"/>\n",
       "  </clipPath>\n",
       " </defs>\n",
       "</svg>\n"
      ],
      "text/plain": [
       "<Figure size 504x504 with 1 Axes>"
      ]
     },
     "metadata": {
      "needs_background": "light"
     },
     "output_type": "display_data"
    }
   ],
   "source": [
    "im = ps.generators.blobs([500, 500])\n",
    "plt.figure(figsize=[7, 7])\n",
    "plt.axis(False)\n",
    "plt.imshow(im);"
   ]
  },
  {
   "cell_type": "markdown",
   "id": "clean-employer",
   "metadata": {},
   "source": [
    "## Apply tool"
   ]
  },
  {
   "cell_type": "code",
   "execution_count": 3,
   "id": "accessible-pasta",
   "metadata": {
    "execution": {
     "iopub.execute_input": "2022-08-12T22:21:02.585272Z",
     "iopub.status.busy": "2022-08-12T22:21:02.584163Z",
     "iopub.status.idle": "2022-08-12T22:21:02.667904Z",
     "shell.execute_reply": "2022-08-12T22:21:02.667269Z"
    }
   },
   "outputs": [
    {
     "data": {
      "image/svg+xml": [
       "<?xml version=\"1.0\" encoding=\"utf-8\" standalone=\"no\"?>\n",
       "<!DOCTYPE svg PUBLIC \"-//W3C//DTD SVG 1.1//EN\"\n",
       "  \"http://www.w3.org/Graphics/SVG/1.1/DTD/svg11.dtd\">\n",
       "<svg xmlns:xlink=\"http://www.w3.org/1999/xlink\" width=\"496.8pt\" height=\"496.8pt\" viewBox=\"0 0 496.8 496.8\" xmlns=\"http://www.w3.org/2000/svg\" version=\"1.1\">\n",
       " <metadata>\n",
       "  <rdf:RDF xmlns:dc=\"http://purl.org/dc/elements/1.1/\" xmlns:cc=\"http://creativecommons.org/ns#\" xmlns:rdf=\"http://www.w3.org/1999/02/22-rdf-syntax-ns#\">\n",
       "   <cc:Work>\n",
       "    <dc:type rdf:resource=\"http://purl.org/dc/dcmitype/StillImage\"/>\n",
       "    <dc:date>2022-08-12T22:21:02.643235</dc:date>\n",
       "    <dc:format>image/svg+xml</dc:format>\n",
       "    <dc:creator>\n",
       "     <cc:Agent>\n",
       "      <dc:title>Matplotlib v3.5.3, https://matplotlib.org/</dc:title>\n",
       "     </cc:Agent>\n",
       "    </dc:creator>\n",
       "   </cc:Work>\n",
       "  </rdf:RDF>\n",
       " </metadata>\n",
       " <defs>\n",
       "  <style type=\"text/css\">*{stroke-linejoin: round; stroke-linecap: butt}</style>\n",
       " </defs>\n",
       " <g id=\"figure_1\">\n",
       "  <g id=\"patch_1\">\n",
       "   <path d=\"M 0 496.8 \n",
       "L 496.8 496.8 \n",
       "L 496.8 0 \n",
       "L 0 0 \n",
       "L 0 496.8 \n",
       "z\n",
       "\" style=\"fill: none\"/>\n",
       "  </g>\n",
       "  <g id=\"axes_1\">\n",
       "   <g clip-path=\"url(#p6aaa1674c0)\">\n",
       "    <image xlink:href=\"data:image/png;base64,\n",
       "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\" id=\"imagea2d2b3f3e3\" transform=\"matrix(0.966 0 0 0.966 7.2 6.6)\" style=\"image-rendering:crisp-edges;image-rendering:pixelated\" width=\"500\" height=\"500\"/>\n",
       "   </g>\n",
       "  </g>\n",
       " </g>\n",
       " <defs>\n",
       "  <clipPath id=\"p6aaa1674c0\">\n",
       "   <rect x=\"7.2\" y=\"7.2\" width=\"482.4\" height=\"482.4\"/>\n",
       "  </clipPath>\n",
       " </defs>\n",
       "</svg>\n"
      ],
      "text/plain": [
       "<Figure size 504x504 with 1 Axes>"
      ]
     },
     "metadata": {
      "needs_background": "light"
     },
     "output_type": "display_data"
    }
   ],
   "source": [
    "im = ps.tools.align_image_with_openpnm(im = im)\n",
    "plt.figure(figsize=[7, 7])\n",
    "plt.axis(False)\n",
    "plt.imshow(im);"
   ]
  }
 ],
 "metadata": {
  "kernelspec": {
   "display_name": "Python 3 (ipykernel)",
   "language": "python",
   "name": "python3"
  },
  "language_info": {
   "codemirror_mode": {
    "name": "ipython",
    "version": 3
   },
   "file_extension": ".py",
   "mimetype": "text/x-python",
   "name": "python",
   "nbconvert_exporter": "python",
   "pygments_lexer": "ipython3",
   "version": "3.8.13"
  }
 },
 "nbformat": 4,
 "nbformat_minor": 5
}

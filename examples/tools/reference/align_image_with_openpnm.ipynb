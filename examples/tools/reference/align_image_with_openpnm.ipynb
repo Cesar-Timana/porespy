{
 "cells": [
  {
   "cell_type": "markdown",
   "id": "thrown-midwest",
   "metadata": {},
   "source": [
    "# `align_image_with_openpnm`"
   ]
  },
  {
   "cell_type": "markdown",
   "id": "affected-stack",
   "metadata": {},
   "source": [
    "## Import packages"
   ]
  },
  {
   "cell_type": "code",
   "execution_count": 1,
   "id": "hispanic-beverage",
   "metadata": {
    "execution": {
     "iopub.execute_input": "2022-08-23T01:47:01.985596Z",
     "iopub.status.busy": "2022-08-23T01:47:01.985066Z",
     "iopub.status.idle": "2022-08-23T01:47:03.743835Z",
     "shell.execute_reply": "2022-08-23T01:47:03.743171Z"
    }
   },
   "outputs": [],
   "source": [
    "import numpy as np\n",
    "import porespy as ps\n",
    "import scipy.ndimage as spim\n",
    "import matplotlib.pyplot as plt\n",
    "import skimage\n",
    "ps.visualization.set_mpl_style()"
   ]
  },
  {
   "cell_type": "markdown",
   "id": "arbitrary-beauty",
   "metadata": {},
   "source": [
    "## Create image and variables"
   ]
  },
  {
   "cell_type": "code",
   "execution_count": 2,
   "id": "express-dallas",
   "metadata": {
    "execution": {
     "iopub.execute_input": "2022-08-23T01:47:03.747577Z",
     "iopub.status.busy": "2022-08-23T01:47:03.747111Z",
     "iopub.status.idle": "2022-08-23T01:47:03.859864Z",
     "shell.execute_reply": "2022-08-23T01:47:03.859365Z"
    }
   },
   "outputs": [
    {
     "data": {
      "image/svg+xml": [
       "<?xml version=\"1.0\" encoding=\"utf-8\" standalone=\"no\"?>\n",
       "<!DOCTYPE svg PUBLIC \"-//W3C//DTD SVG 1.1//EN\"\n",
       "  \"http://www.w3.org/Graphics/SVG/1.1/DTD/svg11.dtd\">\n",
       "<svg xmlns:xlink=\"http://www.w3.org/1999/xlink\" width=\"492.48pt\" height=\"492.48pt\" viewBox=\"0 0 492.48 492.48\" xmlns=\"http://www.w3.org/2000/svg\" version=\"1.1\">\n",
       " <metadata>\n",
       "  <rdf:RDF xmlns:dc=\"http://purl.org/dc/elements/1.1/\" xmlns:cc=\"http://creativecommons.org/ns#\" xmlns:rdf=\"http://www.w3.org/1999/02/22-rdf-syntax-ns#\">\n",
       "   <cc:Work>\n",
       "    <dc:type rdf:resource=\"http://purl.org/dc/dcmitype/StillImage\"/>\n",
       "    <dc:date>2022-08-23T01:47:03.837593</dc:date>\n",
       "    <dc:format>image/svg+xml</dc:format>\n",
       "    <dc:creator>\n",
       "     <cc:Agent>\n",
       "      <dc:title>Matplotlib v3.5.3, https://matplotlib.org/</dc:title>\n",
       "     </cc:Agent>\n",
       "    </dc:creator>\n",
       "   </cc:Work>\n",
       "  </rdf:RDF>\n",
       " </metadata>\n",
       " <defs>\n",
       "  <style type=\"text/css\">*{stroke-linejoin: round; stroke-linecap: butt}</style>\n",
       " </defs>\n",
       " <g id=\"figure_1\">\n",
       "  <g id=\"patch_1\">\n",
       "   <path d=\"M 0 492.48 \n",
       "L 492.48 492.48 \n",
       "L 492.48 0 \n",
       "L 0 0 \n",
       "z\n",
       "\" style=\"fill: #ffffff\"/>\n",
       "  </g>\n",
       "  <g id=\"axes_1\">\n",
       "   <g clip-path=\"url(#p700c876e98)\">\n",
       "    <image xlink:href=\"data:image/png;base64,\n",
       "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\" id=\"imageba09d73291\" transform=\"matrix(0.958 0 0 0.958 7.2 6.28)\" style=\"image-rendering:crisp-edges;image-rendering:pixelated\" width=\"500\" height=\"500\"/>\n",
       "   </g>\n",
       "  </g>\n",
       " </g>\n",
       " <defs>\n",
       "  <clipPath id=\"p700c876e98\">\n",
       "   <rect x=\"7.2\" y=\"7.2\" width=\"478.08\" height=\"478.08\"/>\n",
       "  </clipPath>\n",
       " </defs>\n",
       "</svg>\n"
      ],
      "text/plain": [
       "<Figure size 700x700 with 1 Axes>"
      ]
     },
     "metadata": {},
     "output_type": "display_data"
    }
   ],
   "source": [
    "im = ps.generators.blobs([500, 500])\n",
    "plt.figure(figsize=[7, 7])\n",
    "plt.axis(False)\n",
    "plt.imshow(im);"
   ]
  },
  {
   "cell_type": "markdown",
   "id": "clean-employer",
   "metadata": {},
   "source": [
    "## Apply tool"
   ]
  },
  {
   "cell_type": "code",
   "execution_count": 3,
   "id": "accessible-pasta",
   "metadata": {
    "execution": {
     "iopub.execute_input": "2022-08-23T01:47:03.863577Z",
     "iopub.status.busy": "2022-08-23T01:47:03.863131Z",
     "iopub.status.idle": "2022-08-23T01:47:03.931359Z",
     "shell.execute_reply": "2022-08-23T01:47:03.930835Z"
    }
   },
   "outputs": [
    {
     "data": {
      "image/svg+xml": [
       "<?xml version=\"1.0\" encoding=\"utf-8\" standalone=\"no\"?>\n",
       "<!DOCTYPE svg PUBLIC \"-//W3C//DTD SVG 1.1//EN\"\n",
       "  \"http://www.w3.org/Graphics/SVG/1.1/DTD/svg11.dtd\">\n",
       "<svg xmlns:xlink=\"http://www.w3.org/1999/xlink\" width=\"492.48pt\" height=\"492.48pt\" viewBox=\"0 0 492.48 492.48\" xmlns=\"http://www.w3.org/2000/svg\" version=\"1.1\">\n",
       " <metadata>\n",
       "  <rdf:RDF xmlns:dc=\"http://purl.org/dc/elements/1.1/\" xmlns:cc=\"http://creativecommons.org/ns#\" xmlns:rdf=\"http://www.w3.org/1999/02/22-rdf-syntax-ns#\">\n",
       "   <cc:Work>\n",
       "    <dc:type rdf:resource=\"http://purl.org/dc/dcmitype/StillImage\"/>\n",
       "    <dc:date>2022-08-23T01:47:03.911345</dc:date>\n",
       "    <dc:format>image/svg+xml</dc:format>\n",
       "    <dc:creator>\n",
       "     <cc:Agent>\n",
       "      <dc:title>Matplotlib v3.5.3, https://matplotlib.org/</dc:title>\n",
       "     </cc:Agent>\n",
       "    </dc:creator>\n",
       "   </cc:Work>\n",
       "  </rdf:RDF>\n",
       " </metadata>\n",
       " <defs>\n",
       "  <style type=\"text/css\">*{stroke-linejoin: round; stroke-linecap: butt}</style>\n",
       " </defs>\n",
       " <g id=\"figure_1\">\n",
       "  <g id=\"patch_1\">\n",
       "   <path d=\"M 0 492.48 \n",
       "L 492.48 492.48 \n",
       "L 492.48 0 \n",
       "L 0 0 \n",
       "z\n",
       "\" style=\"fill: #ffffff\"/>\n",
       "  </g>\n",
       "  <g id=\"axes_1\">\n",
       "   <g clip-path=\"url(#pc1a760cc04)\">\n",
       "    <image xlink:href=\"data:image/png;base64,\n",
       "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\" id=\"image4a4a6d03f4\" transform=\"matrix(0.958 0 0 0.958 7.2 6.28)\" style=\"image-rendering:crisp-edges;image-rendering:pixelated\" width=\"500\" height=\"500\"/>\n",
       "   </g>\n",
       "  </g>\n",
       " </g>\n",
       " <defs>\n",
       "  <clipPath id=\"pc1a760cc04\">\n",
       "   <rect x=\"7.2\" y=\"7.2\" width=\"478.08\" height=\"478.08\"/>\n",
       "  </clipPath>\n",
       " </defs>\n",
       "</svg>\n"
      ],
      "text/plain": [
       "<Figure size 700x700 with 1 Axes>"
      ]
     },
     "metadata": {},
     "output_type": "display_data"
    }
   ],
   "source": [
    "im = ps.tools.align_image_with_openpnm(im = im)\n",
    "plt.figure(figsize=[7, 7])\n",
    "plt.axis(False)\n",
    "plt.imshow(im);"
   ]
  }
 ],
 "metadata": {
  "kernelspec": {
   "display_name": "Python 3 (ipykernel)",
   "language": "python",
   "name": "python3"
  },
  "language_info": {
   "codemirror_mode": {
    "name": "ipython",
    "version": 3
   },
   "file_extension": ".py",
   "mimetype": "text/x-python",
   "name": "python",
   "nbconvert_exporter": "python",
   "pygments_lexer": "ipython3",
   "version": "3.8.13"
  }
 },
 "nbformat": 4,
 "nbformat_minor": 5
}

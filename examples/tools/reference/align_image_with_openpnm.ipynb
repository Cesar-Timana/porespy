{
 "cells": [
  {
   "cell_type": "markdown",
   "id": "thrown-midwest",
   "metadata": {},
   "source": [
    "# `align_image_with_openpnm`"
   ]
  },
  {
   "cell_type": "markdown",
   "id": "affected-stack",
   "metadata": {},
   "source": [
    "## Import packages"
   ]
  },
  {
   "cell_type": "code",
   "execution_count": 1,
   "id": "hispanic-beverage",
   "metadata": {
    "execution": {
     "iopub.execute_input": "2022-08-23T01:16:10.520789Z",
     "iopub.status.busy": "2022-08-23T01:16:10.520420Z",
     "iopub.status.idle": "2022-08-23T01:16:12.270023Z",
     "shell.execute_reply": "2022-08-23T01:16:12.269357Z"
    }
   },
   "outputs": [],
   "source": [
    "import numpy as np\n",
    "import porespy as ps\n",
    "import scipy.ndimage as spim\n",
    "import matplotlib.pyplot as plt\n",
    "import skimage\n",
    "ps.visualization.set_mpl_style()"
   ]
  },
  {
   "cell_type": "markdown",
   "id": "arbitrary-beauty",
   "metadata": {},
   "source": [
    "## Create image and variables"
   ]
  },
  {
   "cell_type": "code",
   "execution_count": 2,
   "id": "express-dallas",
   "metadata": {
    "execution": {
     "iopub.execute_input": "2022-08-23T01:16:12.274073Z",
     "iopub.status.busy": "2022-08-23T01:16:12.273422Z",
     "iopub.status.idle": "2022-08-23T01:16:12.389871Z",
     "shell.execute_reply": "2022-08-23T01:16:12.389337Z"
    }
   },
   "outputs": [
    {
     "data": {
      "image/svg+xml": [
       "<?xml version=\"1.0\" encoding=\"utf-8\" standalone=\"no\"?>\n",
       "<!DOCTYPE svg PUBLIC \"-//W3C//DTD SVG 1.1//EN\"\n",
       "  \"http://www.w3.org/Graphics/SVG/1.1/DTD/svg11.dtd\">\n",
       "<svg xmlns:xlink=\"http://www.w3.org/1999/xlink\" width=\"492.48pt\" height=\"492.48pt\" viewBox=\"0 0 492.48 492.48\" xmlns=\"http://www.w3.org/2000/svg\" version=\"1.1\">\n",
       " <metadata>\n",
       "  <rdf:RDF xmlns:dc=\"http://purl.org/dc/elements/1.1/\" xmlns:cc=\"http://creativecommons.org/ns#\" xmlns:rdf=\"http://www.w3.org/1999/02/22-rdf-syntax-ns#\">\n",
       "   <cc:Work>\n",
       "    <dc:type rdf:resource=\"http://purl.org/dc/dcmitype/StillImage\"/>\n",
       "    <dc:date>2022-08-23T01:16:12.365672</dc:date>\n",
       "    <dc:format>image/svg+xml</dc:format>\n",
       "    <dc:creator>\n",
       "     <cc:Agent>\n",
       "      <dc:title>Matplotlib v3.5.3, https://matplotlib.org/</dc:title>\n",
       "     </cc:Agent>\n",
       "    </dc:creator>\n",
       "   </cc:Work>\n",
       "  </rdf:RDF>\n",
       " </metadata>\n",
       " <defs>\n",
       "  <style type=\"text/css\">*{stroke-linejoin: round; stroke-linecap: butt}</style>\n",
       " </defs>\n",
       " <g id=\"figure_1\">\n",
       "  <g id=\"patch_1\">\n",
       "   <path d=\"M 0 492.48 \n",
       "L 492.48 492.48 \n",
       "L 492.48 0 \n",
       "L 0 0 \n",
       "z\n",
       "\" style=\"fill: #ffffff\"/>\n",
       "  </g>\n",
       "  <g id=\"axes_1\">\n",
       "   <g clip-path=\"url(#p9e7e6f9607)\">\n",
       "    <image xlink:href=\"data:image/png;base64,\n",
       "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\" id=\"imagee3f339aeab\" transform=\"matrix(0.958 0 0 0.958 7.2 6.28)\" style=\"image-rendering:crisp-edges;image-rendering:pixelated\" width=\"500\" height=\"500\"/>\n",
       "   </g>\n",
       "  </g>\n",
       " </g>\n",
       " <defs>\n",
       "  <clipPath id=\"p9e7e6f9607\">\n",
       "   <rect x=\"7.2\" y=\"7.2\" width=\"478.08\" height=\"478.08\"/>\n",
       "  </clipPath>\n",
       " </defs>\n",
       "</svg>\n"
      ],
      "text/plain": [
       "<Figure size 700x700 with 1 Axes>"
      ]
     },
     "metadata": {},
     "output_type": "display_data"
    }
   ],
   "source": [
    "im = ps.generators.blobs([500, 500])\n",
    "plt.figure(figsize=[7, 7])\n",
    "plt.axis(False)\n",
    "plt.imshow(im);"
   ]
  },
  {
   "cell_type": "markdown",
   "id": "clean-employer",
   "metadata": {},
   "source": [
    "## Apply tool"
   ]
  },
  {
   "cell_type": "code",
   "execution_count": 3,
   "id": "accessible-pasta",
   "metadata": {
    "execution": {
     "iopub.execute_input": "2022-08-23T01:16:12.394157Z",
     "iopub.status.busy": "2022-08-23T01:16:12.392898Z",
     "iopub.status.idle": "2022-08-23T01:16:12.460721Z",
     "shell.execute_reply": "2022-08-23T01:16:12.460197Z"
    }
   },
   "outputs": [
    {
     "data": {
      "image/svg+xml": [
       "<?xml version=\"1.0\" encoding=\"utf-8\" standalone=\"no\"?>\n",
       "<!DOCTYPE svg PUBLIC \"-//W3C//DTD SVG 1.1//EN\"\n",
       "  \"http://www.w3.org/Graphics/SVG/1.1/DTD/svg11.dtd\">\n",
       "<svg xmlns:xlink=\"http://www.w3.org/1999/xlink\" width=\"492.48pt\" height=\"492.48pt\" viewBox=\"0 0 492.48 492.48\" xmlns=\"http://www.w3.org/2000/svg\" version=\"1.1\">\n",
       " <metadata>\n",
       "  <rdf:RDF xmlns:dc=\"http://purl.org/dc/elements/1.1/\" xmlns:cc=\"http://creativecommons.org/ns#\" xmlns:rdf=\"http://www.w3.org/1999/02/22-rdf-syntax-ns#\">\n",
       "   <cc:Work>\n",
       "    <dc:type rdf:resource=\"http://purl.org/dc/dcmitype/StillImage\"/>\n",
       "    <dc:date>2022-08-23T01:16:12.440731</dc:date>\n",
       "    <dc:format>image/svg+xml</dc:format>\n",
       "    <dc:creator>\n",
       "     <cc:Agent>\n",
       "      <dc:title>Matplotlib v3.5.3, https://matplotlib.org/</dc:title>\n",
       "     </cc:Agent>\n",
       "    </dc:creator>\n",
       "   </cc:Work>\n",
       "  </rdf:RDF>\n",
       " </metadata>\n",
       " <defs>\n",
       "  <style type=\"text/css\">*{stroke-linejoin: round; stroke-linecap: butt}</style>\n",
       " </defs>\n",
       " <g id=\"figure_1\">\n",
       "  <g id=\"patch_1\">\n",
       "   <path d=\"M 0 492.48 \n",
       "L 492.48 492.48 \n",
       "L 492.48 0 \n",
       "L 0 0 \n",
       "z\n",
       "\" style=\"fill: #ffffff\"/>\n",
       "  </g>\n",
       "  <g id=\"axes_1\">\n",
       "   <g clip-path=\"url(#p43bb9aa833)\">\n",
       "    <image xlink:href=\"data:image/png;base64,\n",
       "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\" id=\"image2c79885d8e\" transform=\"matrix(0.958 0 0 0.958 7.2 6.28)\" style=\"image-rendering:crisp-edges;image-rendering:pixelated\" width=\"500\" height=\"500\"/>\n",
       "   </g>\n",
       "  </g>\n",
       " </g>\n",
       " <defs>\n",
       "  <clipPath id=\"p43bb9aa833\">\n",
       "   <rect x=\"7.2\" y=\"7.2\" width=\"478.08\" height=\"478.08\"/>\n",
       "  </clipPath>\n",
       " </defs>\n",
       "</svg>\n"
      ],
      "text/plain": [
       "<Figure size 700x700 with 1 Axes>"
      ]
     },
     "metadata": {},
     "output_type": "display_data"
    }
   ],
   "source": [
    "im = ps.tools.align_image_with_openpnm(im = im)\n",
    "plt.figure(figsize=[7, 7])\n",
    "plt.axis(False)\n",
    "plt.imshow(im);"
   ]
  }
 ],
 "metadata": {
  "kernelspec": {
   "display_name": "Python 3 (ipykernel)",
   "language": "python",
   "name": "python3"
  },
  "language_info": {
   "codemirror_mode": {
    "name": "ipython",
    "version": 3
   },
   "file_extension": ".py",
   "mimetype": "text/x-python",
   "name": "python",
   "nbconvert_exporter": "python",
   "pygments_lexer": "ipython3",
   "version": "3.8.13"
  }
 },
 "nbformat": 4,
 "nbformat_minor": 5
}

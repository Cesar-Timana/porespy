{
 "cells": [
  {
   "cell_type": "markdown",
   "id": "thrown-midwest",
   "metadata": {},
   "source": [
    "# `align_image_with_openpnm`"
   ]
  },
  {
   "cell_type": "markdown",
   "id": "affected-stack",
   "metadata": {},
   "source": [
    "## Import packages"
   ]
  },
  {
   "cell_type": "code",
   "execution_count": 1,
   "id": "hispanic-beverage",
   "metadata": {
    "execution": {
     "iopub.execute_input": "2022-09-08T00:03:35.882452Z",
     "iopub.status.busy": "2022-09-08T00:03:35.882213Z",
     "iopub.status.idle": "2022-09-08T00:03:37.570343Z",
     "shell.execute_reply": "2022-09-08T00:03:37.569651Z"
    }
   },
   "outputs": [],
   "source": [
    "import numpy as np\n",
    "import porespy as ps\n",
    "import scipy.ndimage as spim\n",
    "import matplotlib.pyplot as plt\n",
    "import skimage\n",
    "ps.visualization.set_mpl_style()"
   ]
  },
  {
   "cell_type": "markdown",
   "id": "arbitrary-beauty",
   "metadata": {},
   "source": [
    "## Create image and variables"
   ]
  },
  {
   "cell_type": "code",
   "execution_count": 2,
   "id": "express-dallas",
   "metadata": {
    "execution": {
     "iopub.execute_input": "2022-09-08T00:03:37.574649Z",
     "iopub.status.busy": "2022-09-08T00:03:37.573930Z",
     "iopub.status.idle": "2022-09-08T00:03:37.686478Z",
     "shell.execute_reply": "2022-09-08T00:03:37.685981Z"
    }
   },
   "outputs": [
    {
     "data": {
      "image/svg+xml": [
       "<?xml version=\"1.0\" encoding=\"utf-8\" standalone=\"no\"?>\n",
       "<!DOCTYPE svg PUBLIC \"-//W3C//DTD SVG 1.1//EN\"\n",
       "  \"http://www.w3.org/Graphics/SVG/1.1/DTD/svg11.dtd\">\n",
       "<svg xmlns:xlink=\"http://www.w3.org/1999/xlink\" width=\"492.48pt\" height=\"492.48pt\" viewBox=\"0 0 492.48 492.48\" xmlns=\"http://www.w3.org/2000/svg\" version=\"1.1\">\n",
       " <metadata>\n",
       "  <rdf:RDF xmlns:dc=\"http://purl.org/dc/elements/1.1/\" xmlns:cc=\"http://creativecommons.org/ns#\" xmlns:rdf=\"http://www.w3.org/1999/02/22-rdf-syntax-ns#\">\n",
       "   <cc:Work>\n",
       "    <dc:type rdf:resource=\"http://purl.org/dc/dcmitype/StillImage\"/>\n",
       "    <dc:date>2022-09-08T00:03:37.664111</dc:date>\n",
       "    <dc:format>image/svg+xml</dc:format>\n",
       "    <dc:creator>\n",
       "     <cc:Agent>\n",
       "      <dc:title>Matplotlib v3.5.3, https://matplotlib.org/</dc:title>\n",
       "     </cc:Agent>\n",
       "    </dc:creator>\n",
       "   </cc:Work>\n",
       "  </rdf:RDF>\n",
       " </metadata>\n",
       " <defs>\n",
       "  <style type=\"text/css\">*{stroke-linejoin: round; stroke-linecap: butt}</style>\n",
       " </defs>\n",
       " <g id=\"figure_1\">\n",
       "  <g id=\"patch_1\">\n",
       "   <path d=\"M 0 492.48 \n",
       "L 492.48 492.48 \n",
       "L 492.48 0 \n",
       "L 0 0 \n",
       "z\n",
       "\" style=\"fill: #ffffff\"/>\n",
       "  </g>\n",
       "  <g id=\"axes_1\">\n",
       "   <g clip-path=\"url(#p8c24bda1a7)\">\n",
       "    <image xlink:href=\"data:image/png;base64,\n",
       "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\" id=\"image7e95bebfd2\" transform=\"matrix(0.958 0 0 0.958 7.2 6.28)\" style=\"image-rendering:crisp-edges;image-rendering:pixelated\" width=\"500\" height=\"500\"/>\n",
       "   </g>\n",
       "  </g>\n",
       " </g>\n",
       " <defs>\n",
       "  <clipPath id=\"p8c24bda1a7\">\n",
       "   <rect x=\"7.2\" y=\"7.2\" width=\"478.08\" height=\"478.08\"/>\n",
       "  </clipPath>\n",
       " </defs>\n",
       "</svg>\n"
      ],
      "text/plain": [
       "<Figure size 700x700 with 1 Axes>"
      ]
     },
     "metadata": {},
     "output_type": "display_data"
    }
   ],
   "source": [
    "im = ps.generators.blobs([500, 500])\n",
    "plt.figure(figsize=[7, 7])\n",
    "plt.axis(False)\n",
    "plt.imshow(im);"
   ]
  },
  {
   "cell_type": "markdown",
   "id": "clean-employer",
   "metadata": {},
   "source": [
    "## Apply tool"
   ]
  },
  {
   "cell_type": "code",
   "execution_count": 3,
   "id": "accessible-pasta",
   "metadata": {
    "execution": {
     "iopub.execute_input": "2022-09-08T00:03:37.690154Z",
     "iopub.status.busy": "2022-09-08T00:03:37.689708Z",
     "iopub.status.idle": "2022-09-08T00:03:37.756046Z",
     "shell.execute_reply": "2022-09-08T00:03:37.755532Z"
    }
   },
   "outputs": [
    {
     "data": {
      "image/svg+xml": [
       "<?xml version=\"1.0\" encoding=\"utf-8\" standalone=\"no\"?>\n",
       "<!DOCTYPE svg PUBLIC \"-//W3C//DTD SVG 1.1//EN\"\n",
       "  \"http://www.w3.org/Graphics/SVG/1.1/DTD/svg11.dtd\">\n",
       "<svg xmlns:xlink=\"http://www.w3.org/1999/xlink\" width=\"492.48pt\" height=\"492.48pt\" viewBox=\"0 0 492.48 492.48\" xmlns=\"http://www.w3.org/2000/svg\" version=\"1.1\">\n",
       " <metadata>\n",
       "  <rdf:RDF xmlns:dc=\"http://purl.org/dc/elements/1.1/\" xmlns:cc=\"http://creativecommons.org/ns#\" xmlns:rdf=\"http://www.w3.org/1999/02/22-rdf-syntax-ns#\">\n",
       "   <cc:Work>\n",
       "    <dc:type rdf:resource=\"http://purl.org/dc/dcmitype/StillImage\"/>\n",
       "    <dc:date>2022-09-08T00:03:37.736008</dc:date>\n",
       "    <dc:format>image/svg+xml</dc:format>\n",
       "    <dc:creator>\n",
       "     <cc:Agent>\n",
       "      <dc:title>Matplotlib v3.5.3, https://matplotlib.org/</dc:title>\n",
       "     </cc:Agent>\n",
       "    </dc:creator>\n",
       "   </cc:Work>\n",
       "  </rdf:RDF>\n",
       " </metadata>\n",
       " <defs>\n",
       "  <style type=\"text/css\">*{stroke-linejoin: round; stroke-linecap: butt}</style>\n",
       " </defs>\n",
       " <g id=\"figure_1\">\n",
       "  <g id=\"patch_1\">\n",
       "   <path d=\"M 0 492.48 \n",
       "L 492.48 492.48 \n",
       "L 492.48 0 \n",
       "L 0 0 \n",
       "z\n",
       "\" style=\"fill: #ffffff\"/>\n",
       "  </g>\n",
       "  <g id=\"axes_1\">\n",
       "   <g clip-path=\"url(#p07e6631862)\">\n",
       "    <image xlink:href=\"data:image/png;base64,\n",
       "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\" id=\"image7b4488d830\" transform=\"matrix(0.958 0 0 0.958 7.2 6.28)\" style=\"image-rendering:crisp-edges;image-rendering:pixelated\" width=\"500\" height=\"500\"/>\n",
       "   </g>\n",
       "  </g>\n",
       " </g>\n",
       " <defs>\n",
       "  <clipPath id=\"p07e6631862\">\n",
       "   <rect x=\"7.2\" y=\"7.2\" width=\"478.08\" height=\"478.08\"/>\n",
       "  </clipPath>\n",
       " </defs>\n",
       "</svg>\n"
      ],
      "text/plain": [
       "<Figure size 700x700 with 1 Axes>"
      ]
     },
     "metadata": {},
     "output_type": "display_data"
    }
   ],
   "source": [
    "im = ps.tools.align_image_with_openpnm(im = im)\n",
    "plt.figure(figsize=[7, 7])\n",
    "plt.axis(False)\n",
    "plt.imshow(im);"
   ]
  }
 ],
 "metadata": {
  "kernelspec": {
   "display_name": "Python 3 (ipykernel)",
   "language": "python",
   "name": "python3"
  },
  "language_info": {
   "codemirror_mode": {
    "name": "ipython",
    "version": 3
   },
   "file_extension": ".py",
   "mimetype": "text/x-python",
   "name": "python",
   "nbconvert_exporter": "python",
   "pygments_lexer": "ipython3",
   "version": "3.8.13"
  }
 },
 "nbformat": 4,
 "nbformat_minor": 5
}

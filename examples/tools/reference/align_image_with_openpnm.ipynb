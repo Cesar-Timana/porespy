{
 "cells": [
  {
   "cell_type": "markdown",
   "id": "thrown-midwest",
   "metadata": {},
   "source": [
    "# `align_image_with_openpnm`"
   ]
  },
  {
   "cell_type": "markdown",
   "id": "affected-stack",
   "metadata": {},
   "source": [
    "## Import packages"
   ]
  },
  {
   "cell_type": "code",
   "execution_count": 1,
   "id": "hispanic-beverage",
   "metadata": {
    "execution": {
     "iopub.execute_input": "2022-08-23T00:41:38.329686Z",
     "iopub.status.busy": "2022-08-23T00:41:38.329287Z",
     "iopub.status.idle": "2022-08-23T00:41:40.124466Z",
     "shell.execute_reply": "2022-08-23T00:41:40.123795Z"
    }
   },
   "outputs": [],
   "source": [
    "import numpy as np\n",
    "import porespy as ps\n",
    "import scipy.ndimage as spim\n",
    "import matplotlib.pyplot as plt\n",
    "import skimage\n",
    "ps.visualization.set_mpl_style()"
   ]
  },
  {
   "cell_type": "markdown",
   "id": "arbitrary-beauty",
   "metadata": {},
   "source": [
    "## Create image and variables"
   ]
  },
  {
   "cell_type": "code",
   "execution_count": 2,
   "id": "express-dallas",
   "metadata": {
    "execution": {
     "iopub.execute_input": "2022-08-23T00:41:40.128842Z",
     "iopub.status.busy": "2022-08-23T00:41:40.128119Z",
     "iopub.status.idle": "2022-08-23T00:41:40.245397Z",
     "shell.execute_reply": "2022-08-23T00:41:40.244733Z"
    }
   },
   "outputs": [
    {
     "data": {
      "image/svg+xml": [
       "<?xml version=\"1.0\" encoding=\"utf-8\" standalone=\"no\"?>\n",
       "<!DOCTYPE svg PUBLIC \"-//W3C//DTD SVG 1.1//EN\"\n",
       "  \"http://www.w3.org/Graphics/SVG/1.1/DTD/svg11.dtd\">\n",
       "<svg xmlns:xlink=\"http://www.w3.org/1999/xlink\" width=\"492.48pt\" height=\"492.48pt\" viewBox=\"0 0 492.48 492.48\" xmlns=\"http://www.w3.org/2000/svg\" version=\"1.1\">\n",
       " <metadata>\n",
       "  <rdf:RDF xmlns:dc=\"http://purl.org/dc/elements/1.1/\" xmlns:cc=\"http://creativecommons.org/ns#\" xmlns:rdf=\"http://www.w3.org/1999/02/22-rdf-syntax-ns#\">\n",
       "   <cc:Work>\n",
       "    <dc:type rdf:resource=\"http://purl.org/dc/dcmitype/StillImage\"/>\n",
       "    <dc:date>2022-08-23T00:41:40.222323</dc:date>\n",
       "    <dc:format>image/svg+xml</dc:format>\n",
       "    <dc:creator>\n",
       "     <cc:Agent>\n",
       "      <dc:title>Matplotlib v3.5.3, https://matplotlib.org/</dc:title>\n",
       "     </cc:Agent>\n",
       "    </dc:creator>\n",
       "   </cc:Work>\n",
       "  </rdf:RDF>\n",
       " </metadata>\n",
       " <defs>\n",
       "  <style type=\"text/css\">*{stroke-linejoin: round; stroke-linecap: butt}</style>\n",
       " </defs>\n",
       " <g id=\"figure_1\">\n",
       "  <g id=\"patch_1\">\n",
       "   <path d=\"M 0 492.48 \n",
       "L 492.48 492.48 \n",
       "L 492.48 0 \n",
       "L 0 0 \n",
       "z\n",
       "\" style=\"fill: #ffffff\"/>\n",
       "  </g>\n",
       "  <g id=\"axes_1\">\n",
       "   <g clip-path=\"url(#p54b6894bf5)\">\n",
       "    <image xlink:href=\"data:image/png;base64,\n",
       "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\" id=\"imagebf8d17b54d\" transform=\"matrix(0.958 0 0 0.958 7.2 6.28)\" style=\"image-rendering:crisp-edges;image-rendering:pixelated\" width=\"500\" height=\"500\"/>\n",
       "   </g>\n",
       "  </g>\n",
       " </g>\n",
       " <defs>\n",
       "  <clipPath id=\"p54b6894bf5\">\n",
       "   <rect x=\"7.2\" y=\"7.2\" width=\"478.08\" height=\"478.08\"/>\n",
       "  </clipPath>\n",
       " </defs>\n",
       "</svg>\n"
      ],
      "text/plain": [
       "<Figure size 700x700 with 1 Axes>"
      ]
     },
     "metadata": {},
     "output_type": "display_data"
    }
   ],
   "source": [
    "im = ps.generators.blobs([500, 500])\n",
    "plt.figure(figsize=[7, 7])\n",
    "plt.axis(False)\n",
    "plt.imshow(im);"
   ]
  },
  {
   "cell_type": "markdown",
   "id": "clean-employer",
   "metadata": {},
   "source": [
    "## Apply tool"
   ]
  },
  {
   "cell_type": "code",
   "execution_count": 3,
   "id": "accessible-pasta",
   "metadata": {
    "execution": {
     "iopub.execute_input": "2022-08-23T00:41:40.248427Z",
     "iopub.status.busy": "2022-08-23T00:41:40.248193Z",
     "iopub.status.idle": "2022-08-23T00:41:40.317853Z",
     "shell.execute_reply": "2022-08-23T00:41:40.317244Z"
    }
   },
   "outputs": [
    {
     "data": {
      "image/svg+xml": [
       "<?xml version=\"1.0\" encoding=\"utf-8\" standalone=\"no\"?>\n",
       "<!DOCTYPE svg PUBLIC \"-//W3C//DTD SVG 1.1//EN\"\n",
       "  \"http://www.w3.org/Graphics/SVG/1.1/DTD/svg11.dtd\">\n",
       "<svg xmlns:xlink=\"http://www.w3.org/1999/xlink\" width=\"492.48pt\" height=\"492.48pt\" viewBox=\"0 0 492.48 492.48\" xmlns=\"http://www.w3.org/2000/svg\" version=\"1.1\">\n",
       " <metadata>\n",
       "  <rdf:RDF xmlns:dc=\"http://purl.org/dc/elements/1.1/\" xmlns:cc=\"http://creativecommons.org/ns#\" xmlns:rdf=\"http://www.w3.org/1999/02/22-rdf-syntax-ns#\">\n",
       "   <cc:Work>\n",
       "    <dc:type rdf:resource=\"http://purl.org/dc/dcmitype/StillImage\"/>\n",
       "    <dc:date>2022-08-23T00:41:40.296837</dc:date>\n",
       "    <dc:format>image/svg+xml</dc:format>\n",
       "    <dc:creator>\n",
       "     <cc:Agent>\n",
       "      <dc:title>Matplotlib v3.5.3, https://matplotlib.org/</dc:title>\n",
       "     </cc:Agent>\n",
       "    </dc:creator>\n",
       "   </cc:Work>\n",
       "  </rdf:RDF>\n",
       " </metadata>\n",
       " <defs>\n",
       "  <style type=\"text/css\">*{stroke-linejoin: round; stroke-linecap: butt}</style>\n",
       " </defs>\n",
       " <g id=\"figure_1\">\n",
       "  <g id=\"patch_1\">\n",
       "   <path d=\"M 0 492.48 \n",
       "L 492.48 492.48 \n",
       "L 492.48 0 \n",
       "L 0 0 \n",
       "z\n",
       "\" style=\"fill: #ffffff\"/>\n",
       "  </g>\n",
       "  <g id=\"axes_1\">\n",
       "   <g clip-path=\"url(#p88b19ba50d)\">\n",
       "    <image xlink:href=\"data:image/png;base64,\n",
       "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\" id=\"imagecfb427d4b2\" transform=\"matrix(0.958 0 0 0.958 7.2 6.28)\" style=\"image-rendering:crisp-edges;image-rendering:pixelated\" width=\"500\" height=\"500\"/>\n",
       "   </g>\n",
       "  </g>\n",
       " </g>\n",
       " <defs>\n",
       "  <clipPath id=\"p88b19ba50d\">\n",
       "   <rect x=\"7.2\" y=\"7.2\" width=\"478.08\" height=\"478.08\"/>\n",
       "  </clipPath>\n",
       " </defs>\n",
       "</svg>\n"
      ],
      "text/plain": [
       "<Figure size 700x700 with 1 Axes>"
      ]
     },
     "metadata": {},
     "output_type": "display_data"
    }
   ],
   "source": [
    "im = ps.tools.align_image_with_openpnm(im = im)\n",
    "plt.figure(figsize=[7, 7])\n",
    "plt.axis(False)\n",
    "plt.imshow(im);"
   ]
  }
 ],
 "metadata": {
  "kernelspec": {
   "display_name": "Python 3 (ipykernel)",
   "language": "python",
   "name": "python3"
  },
  "language_info": {
   "codemirror_mode": {
    "name": "ipython",
    "version": 3
   },
   "file_extension": ".py",
   "mimetype": "text/x-python",
   "name": "python",
   "nbconvert_exporter": "python",
   "pygments_lexer": "ipython3",
   "version": "3.8.13"
  }
 },
 "nbformat": 4,
 "nbformat_minor": 5
}

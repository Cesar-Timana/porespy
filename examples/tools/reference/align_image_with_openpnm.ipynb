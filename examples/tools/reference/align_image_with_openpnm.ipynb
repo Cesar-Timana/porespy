{
 "cells": [
  {
   "cell_type": "markdown",
   "id": "thrown-midwest",
   "metadata": {},
   "source": [
    "# `align_image_with_openpnm`"
   ]
  },
  {
   "cell_type": "markdown",
   "id": "affected-stack",
   "metadata": {},
   "source": [
    "## Import packages"
   ]
  },
  {
   "cell_type": "code",
   "execution_count": 1,
   "id": "hispanic-beverage",
   "metadata": {
    "execution": {
     "iopub.execute_input": "2022-08-23T00:49:50.677941Z",
     "iopub.status.busy": "2022-08-23T00:49:50.677566Z",
     "iopub.status.idle": "2022-08-23T00:49:52.429148Z",
     "shell.execute_reply": "2022-08-23T00:49:52.428483Z"
    }
   },
   "outputs": [],
   "source": [
    "import numpy as np\n",
    "import porespy as ps\n",
    "import scipy.ndimage as spim\n",
    "import matplotlib.pyplot as plt\n",
    "import skimage\n",
    "ps.visualization.set_mpl_style()"
   ]
  },
  {
   "cell_type": "markdown",
   "id": "arbitrary-beauty",
   "metadata": {},
   "source": [
    "## Create image and variables"
   ]
  },
  {
   "cell_type": "code",
   "execution_count": 2,
   "id": "express-dallas",
   "metadata": {
    "execution": {
     "iopub.execute_input": "2022-08-23T00:49:52.432598Z",
     "iopub.status.busy": "2022-08-23T00:49:52.432099Z",
     "iopub.status.idle": "2022-08-23T00:49:52.544602Z",
     "shell.execute_reply": "2022-08-23T00:49:52.544105Z"
    }
   },
   "outputs": [
    {
     "data": {
      "image/svg+xml": [
       "<?xml version=\"1.0\" encoding=\"utf-8\" standalone=\"no\"?>\n",
       "<!DOCTYPE svg PUBLIC \"-//W3C//DTD SVG 1.1//EN\"\n",
       "  \"http://www.w3.org/Graphics/SVG/1.1/DTD/svg11.dtd\">\n",
       "<svg xmlns:xlink=\"http://www.w3.org/1999/xlink\" width=\"492.48pt\" height=\"492.48pt\" viewBox=\"0 0 492.48 492.48\" xmlns=\"http://www.w3.org/2000/svg\" version=\"1.1\">\n",
       " <metadata>\n",
       "  <rdf:RDF xmlns:dc=\"http://purl.org/dc/elements/1.1/\" xmlns:cc=\"http://creativecommons.org/ns#\" xmlns:rdf=\"http://www.w3.org/1999/02/22-rdf-syntax-ns#\">\n",
       "   <cc:Work>\n",
       "    <dc:type rdf:resource=\"http://purl.org/dc/dcmitype/StillImage\"/>\n",
       "    <dc:date>2022-08-23T00:49:52.522290</dc:date>\n",
       "    <dc:format>image/svg+xml</dc:format>\n",
       "    <dc:creator>\n",
       "     <cc:Agent>\n",
       "      <dc:title>Matplotlib v3.5.3, https://matplotlib.org/</dc:title>\n",
       "     </cc:Agent>\n",
       "    </dc:creator>\n",
       "   </cc:Work>\n",
       "  </rdf:RDF>\n",
       " </metadata>\n",
       " <defs>\n",
       "  <style type=\"text/css\">*{stroke-linejoin: round; stroke-linecap: butt}</style>\n",
       " </defs>\n",
       " <g id=\"figure_1\">\n",
       "  <g id=\"patch_1\">\n",
       "   <path d=\"M 0 492.48 \n",
       "L 492.48 492.48 \n",
       "L 492.48 0 \n",
       "L 0 0 \n",
       "z\n",
       "\" style=\"fill: #ffffff\"/>\n",
       "  </g>\n",
       "  <g id=\"axes_1\">\n",
       "   <g clip-path=\"url(#p404b2fad4a)\">\n",
       "    <image xlink:href=\"data:image/png;base64,\n",
       "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\" id=\"imagedb8ba17b46\" transform=\"matrix(0.958 0 0 0.958 7.2 6.28)\" style=\"image-rendering:crisp-edges;image-rendering:pixelated\" width=\"500\" height=\"500\"/>\n",
       "   </g>\n",
       "  </g>\n",
       " </g>\n",
       " <defs>\n",
       "  <clipPath id=\"p404b2fad4a\">\n",
       "   <rect x=\"7.2\" y=\"7.2\" width=\"478.08\" height=\"478.08\"/>\n",
       "  </clipPath>\n",
       " </defs>\n",
       "</svg>\n"
      ],
      "text/plain": [
       "<Figure size 700x700 with 1 Axes>"
      ]
     },
     "metadata": {},
     "output_type": "display_data"
    }
   ],
   "source": [
    "im = ps.generators.blobs([500, 500])\n",
    "plt.figure(figsize=[7, 7])\n",
    "plt.axis(False)\n",
    "plt.imshow(im);"
   ]
  },
  {
   "cell_type": "markdown",
   "id": "clean-employer",
   "metadata": {},
   "source": [
    "## Apply tool"
   ]
  },
  {
   "cell_type": "code",
   "execution_count": 3,
   "id": "accessible-pasta",
   "metadata": {
    "execution": {
     "iopub.execute_input": "2022-08-23T00:49:52.548262Z",
     "iopub.status.busy": "2022-08-23T00:49:52.547820Z",
     "iopub.status.idle": "2022-08-23T00:49:52.615133Z",
     "shell.execute_reply": "2022-08-23T00:49:52.614628Z"
    }
   },
   "outputs": [
    {
     "data": {
      "image/svg+xml": [
       "<?xml version=\"1.0\" encoding=\"utf-8\" standalone=\"no\"?>\n",
       "<!DOCTYPE svg PUBLIC \"-//W3C//DTD SVG 1.1//EN\"\n",
       "  \"http://www.w3.org/Graphics/SVG/1.1/DTD/svg11.dtd\">\n",
       "<svg xmlns:xlink=\"http://www.w3.org/1999/xlink\" width=\"492.48pt\" height=\"492.48pt\" viewBox=\"0 0 492.48 492.48\" xmlns=\"http://www.w3.org/2000/svg\" version=\"1.1\">\n",
       " <metadata>\n",
       "  <rdf:RDF xmlns:dc=\"http://purl.org/dc/elements/1.1/\" xmlns:cc=\"http://creativecommons.org/ns#\" xmlns:rdf=\"http://www.w3.org/1999/02/22-rdf-syntax-ns#\">\n",
       "   <cc:Work>\n",
       "    <dc:type rdf:resource=\"http://purl.org/dc/dcmitype/StillImage\"/>\n",
       "    <dc:date>2022-08-23T00:49:52.595215</dc:date>\n",
       "    <dc:format>image/svg+xml</dc:format>\n",
       "    <dc:creator>\n",
       "     <cc:Agent>\n",
       "      <dc:title>Matplotlib v3.5.3, https://matplotlib.org/</dc:title>\n",
       "     </cc:Agent>\n",
       "    </dc:creator>\n",
       "   </cc:Work>\n",
       "  </rdf:RDF>\n",
       " </metadata>\n",
       " <defs>\n",
       "  <style type=\"text/css\">*{stroke-linejoin: round; stroke-linecap: butt}</style>\n",
       " </defs>\n",
       " <g id=\"figure_1\">\n",
       "  <g id=\"patch_1\">\n",
       "   <path d=\"M 0 492.48 \n",
       "L 492.48 492.48 \n",
       "L 492.48 0 \n",
       "L 0 0 \n",
       "z\n",
       "\" style=\"fill: #ffffff\"/>\n",
       "  </g>\n",
       "  <g id=\"axes_1\">\n",
       "   <g clip-path=\"url(#pa7ba8c1ff6)\">\n",
       "    <image xlink:href=\"data:image/png;base64,\n",
       "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\" id=\"imagec85aff5cc7\" transform=\"matrix(0.958 0 0 0.958 7.2 6.28)\" style=\"image-rendering:crisp-edges;image-rendering:pixelated\" width=\"500\" height=\"500\"/>\n",
       "   </g>\n",
       "  </g>\n",
       " </g>\n",
       " <defs>\n",
       "  <clipPath id=\"pa7ba8c1ff6\">\n",
       "   <rect x=\"7.2\" y=\"7.2\" width=\"478.08\" height=\"478.08\"/>\n",
       "  </clipPath>\n",
       " </defs>\n",
       "</svg>\n"
      ],
      "text/plain": [
       "<Figure size 700x700 with 1 Axes>"
      ]
     },
     "metadata": {},
     "output_type": "display_data"
    }
   ],
   "source": [
    "im = ps.tools.align_image_with_openpnm(im = im)\n",
    "plt.figure(figsize=[7, 7])\n",
    "plt.axis(False)\n",
    "plt.imshow(im);"
   ]
  }
 ],
 "metadata": {
  "kernelspec": {
   "display_name": "Python 3 (ipykernel)",
   "language": "python",
   "name": "python3"
  },
  "language_info": {
   "codemirror_mode": {
    "name": "ipython",
    "version": 3
   },
   "file_extension": ".py",
   "mimetype": "text/x-python",
   "name": "python",
   "nbconvert_exporter": "python",
   "pygments_lexer": "ipython3",
   "version": "3.8.13"
  }
 },
 "nbformat": 4,
 "nbformat_minor": 5
}

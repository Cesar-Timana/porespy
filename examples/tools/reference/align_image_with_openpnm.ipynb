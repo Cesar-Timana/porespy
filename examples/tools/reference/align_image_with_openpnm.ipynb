{
 "cells": [
  {
   "cell_type": "markdown",
   "id": "thrown-midwest",
   "metadata": {},
   "source": [
    "# `align_image_with_openpnm`"
   ]
  },
  {
   "cell_type": "markdown",
   "id": "affected-stack",
   "metadata": {},
   "source": [
    "## Import packages"
   ]
  },
  {
   "cell_type": "code",
   "execution_count": 1,
   "id": "hispanic-beverage",
   "metadata": {
    "execution": {
     "iopub.execute_input": "2022-09-09T11:05:53.044569Z",
     "iopub.status.busy": "2022-09-09T11:05:53.044154Z",
     "iopub.status.idle": "2022-09-09T11:05:54.714556Z",
     "shell.execute_reply": "2022-09-09T11:05:54.713874Z"
    }
   },
   "outputs": [],
   "source": [
    "import numpy as np\n",
    "import porespy as ps\n",
    "import scipy.ndimage as spim\n",
    "import matplotlib.pyplot as plt\n",
    "import skimage\n",
    "ps.visualization.set_mpl_style()"
   ]
  },
  {
   "cell_type": "markdown",
   "id": "arbitrary-beauty",
   "metadata": {},
   "source": [
    "## Create image and variables"
   ]
  },
  {
   "cell_type": "code",
   "execution_count": 2,
   "id": "express-dallas",
   "metadata": {
    "execution": {
     "iopub.execute_input": "2022-09-09T11:05:54.718850Z",
     "iopub.status.busy": "2022-09-09T11:05:54.718158Z",
     "iopub.status.idle": "2022-09-09T11:05:54.831351Z",
     "shell.execute_reply": "2022-09-09T11:05:54.830837Z"
    }
   },
   "outputs": [
    {
     "data": {
      "image/svg+xml": [
       "<?xml version=\"1.0\" encoding=\"utf-8\" standalone=\"no\"?>\n",
       "<!DOCTYPE svg PUBLIC \"-//W3C//DTD SVG 1.1//EN\"\n",
       "  \"http://www.w3.org/Graphics/SVG/1.1/DTD/svg11.dtd\">\n",
       "<svg xmlns:xlink=\"http://www.w3.org/1999/xlink\" width=\"492.48pt\" height=\"492.48pt\" viewBox=\"0 0 492.48 492.48\" xmlns=\"http://www.w3.org/2000/svg\" version=\"1.1\">\n",
       " <metadata>\n",
       "  <rdf:RDF xmlns:dc=\"http://purl.org/dc/elements/1.1/\" xmlns:cc=\"http://creativecommons.org/ns#\" xmlns:rdf=\"http://www.w3.org/1999/02/22-rdf-syntax-ns#\">\n",
       "   <cc:Work>\n",
       "    <dc:type rdf:resource=\"http://purl.org/dc/dcmitype/StillImage\"/>\n",
       "    <dc:date>2022-09-09T11:05:54.806953</dc:date>\n",
       "    <dc:format>image/svg+xml</dc:format>\n",
       "    <dc:creator>\n",
       "     <cc:Agent>\n",
       "      <dc:title>Matplotlib v3.5.3, https://matplotlib.org/</dc:title>\n",
       "     </cc:Agent>\n",
       "    </dc:creator>\n",
       "   </cc:Work>\n",
       "  </rdf:RDF>\n",
       " </metadata>\n",
       " <defs>\n",
       "  <style type=\"text/css\">*{stroke-linejoin: round; stroke-linecap: butt}</style>\n",
       " </defs>\n",
       " <g id=\"figure_1\">\n",
       "  <g id=\"patch_1\">\n",
       "   <path d=\"M 0 492.48 \n",
       "L 492.48 492.48 \n",
       "L 492.48 0 \n",
       "L 0 0 \n",
       "z\n",
       "\" style=\"fill: #ffffff\"/>\n",
       "  </g>\n",
       "  <g id=\"axes_1\">\n",
       "   <g clip-path=\"url(#p5f28b4eee1)\">\n",
       "    <image xlink:href=\"data:image/png;base64,\n",
       "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\" id=\"image0a77621777\" transform=\"matrix(0.958 0 0 0.958 7.2 6.28)\" style=\"image-rendering:crisp-edges;image-rendering:pixelated\" width=\"500\" height=\"500\"/>\n",
       "   </g>\n",
       "  </g>\n",
       " </g>\n",
       " <defs>\n",
       "  <clipPath id=\"p5f28b4eee1\">\n",
       "   <rect x=\"7.2\" y=\"7.2\" width=\"478.08\" height=\"478.08\"/>\n",
       "  </clipPath>\n",
       " </defs>\n",
       "</svg>\n"
      ],
      "text/plain": [
       "<Figure size 700x700 with 1 Axes>"
      ]
     },
     "metadata": {},
     "output_type": "display_data"
    }
   ],
   "source": [
    "im = ps.generators.blobs([500, 500])\n",
    "plt.figure(figsize=[7, 7])\n",
    "plt.axis(False)\n",
    "plt.imshow(im);"
   ]
  },
  {
   "cell_type": "markdown",
   "id": "clean-employer",
   "metadata": {},
   "source": [
    "## Apply tool"
   ]
  },
  {
   "cell_type": "code",
   "execution_count": 3,
   "id": "accessible-pasta",
   "metadata": {
    "execution": {
     "iopub.execute_input": "2022-09-09T11:05:54.835099Z",
     "iopub.status.busy": "2022-09-09T11:05:54.834530Z",
     "iopub.status.idle": "2022-09-09T11:05:54.909044Z",
     "shell.execute_reply": "2022-09-09T11:05:54.908263Z"
    }
   },
   "outputs": [
    {
     "data": {
      "image/svg+xml": [
       "<?xml version=\"1.0\" encoding=\"utf-8\" standalone=\"no\"?>\n",
       "<!DOCTYPE svg PUBLIC \"-//W3C//DTD SVG 1.1//EN\"\n",
       "  \"http://www.w3.org/Graphics/SVG/1.1/DTD/svg11.dtd\">\n",
       "<svg xmlns:xlink=\"http://www.w3.org/1999/xlink\" width=\"492.48pt\" height=\"492.48pt\" viewBox=\"0 0 492.48 492.48\" xmlns=\"http://www.w3.org/2000/svg\" version=\"1.1\">\n",
       " <metadata>\n",
       "  <rdf:RDF xmlns:dc=\"http://purl.org/dc/elements/1.1/\" xmlns:cc=\"http://creativecommons.org/ns#\" xmlns:rdf=\"http://www.w3.org/1999/02/22-rdf-syntax-ns#\">\n",
       "   <cc:Work>\n",
       "    <dc:type rdf:resource=\"http://purl.org/dc/dcmitype/StillImage\"/>\n",
       "    <dc:date>2022-09-09T11:05:54.888419</dc:date>\n",
       "    <dc:format>image/svg+xml</dc:format>\n",
       "    <dc:creator>\n",
       "     <cc:Agent>\n",
       "      <dc:title>Matplotlib v3.5.3, https://matplotlib.org/</dc:title>\n",
       "     </cc:Agent>\n",
       "    </dc:creator>\n",
       "   </cc:Work>\n",
       "  </rdf:RDF>\n",
       " </metadata>\n",
       " <defs>\n",
       "  <style type=\"text/css\">*{stroke-linejoin: round; stroke-linecap: butt}</style>\n",
       " </defs>\n",
       " <g id=\"figure_1\">\n",
       "  <g id=\"patch_1\">\n",
       "   <path d=\"M 0 492.48 \n",
       "L 492.48 492.48 \n",
       "L 492.48 0 \n",
       "L 0 0 \n",
       "z\n",
       "\" style=\"fill: #ffffff\"/>\n",
       "  </g>\n",
       "  <g id=\"axes_1\">\n",
       "   <g clip-path=\"url(#pe6a29ae952)\">\n",
       "    <image xlink:href=\"data:image/png;base64,\n",
       "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\" id=\"imageb2dadc5c4d\" transform=\"matrix(0.958 0 0 0.958 7.2 6.28)\" style=\"image-rendering:crisp-edges;image-rendering:pixelated\" width=\"500\" height=\"500\"/>\n",
       "   </g>\n",
       "  </g>\n",
       " </g>\n",
       " <defs>\n",
       "  <clipPath id=\"pe6a29ae952\">\n",
       "   <rect x=\"7.2\" y=\"7.2\" width=\"478.08\" height=\"478.08\"/>\n",
       "  </clipPath>\n",
       " </defs>\n",
       "</svg>\n"
      ],
      "text/plain": [
       "<Figure size 700x700 with 1 Axes>"
      ]
     },
     "metadata": {},
     "output_type": "display_data"
    }
   ],
   "source": [
    "im = ps.tools.align_image_with_openpnm(im = im)\n",
    "plt.figure(figsize=[7, 7])\n",
    "plt.axis(False)\n",
    "plt.imshow(im);"
   ]
  }
 ],
 "metadata": {
  "kernelspec": {
   "display_name": "Python 3 (ipykernel)",
   "language": "python",
   "name": "python3"
  },
  "language_info": {
   "codemirror_mode": {
    "name": "ipython",
    "version": 3
   },
   "file_extension": ".py",
   "mimetype": "text/x-python",
   "name": "python",
   "nbconvert_exporter": "python",
   "pygments_lexer": "ipython3",
   "version": "3.8.13"
  }
 },
 "nbformat": 4,
 "nbformat_minor": 5
}

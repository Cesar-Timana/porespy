{
 "cells": [
  {
   "cell_type": "markdown",
   "id": "thrown-midwest",
   "metadata": {},
   "source": [
    "# `align_image_with_openpnm`"
   ]
  },
  {
   "cell_type": "markdown",
   "id": "affected-stack",
   "metadata": {},
   "source": [
    "## Import packages"
   ]
  },
  {
   "cell_type": "code",
   "execution_count": 1,
   "id": "hispanic-beverage",
   "metadata": {
    "execution": {
     "iopub.execute_input": "2022-08-12T21:54:01.998785Z",
     "iopub.status.busy": "2022-08-12T21:54:01.998465Z",
     "iopub.status.idle": "2022-08-12T21:54:03.883327Z",
     "shell.execute_reply": "2022-08-12T21:54:03.882549Z"
    }
   },
   "outputs": [],
   "source": [
    "import numpy as np\n",
    "import porespy as ps\n",
    "import scipy.ndimage as spim\n",
    "import matplotlib.pyplot as plt\n",
    "import skimage\n",
    "ps.visualization.set_mpl_style()"
   ]
  },
  {
   "cell_type": "markdown",
   "id": "arbitrary-beauty",
   "metadata": {},
   "source": [
    "## Create image and variables"
   ]
  },
  {
   "cell_type": "code",
   "execution_count": 2,
   "id": "express-dallas",
   "metadata": {
    "execution": {
     "iopub.execute_input": "2022-08-12T21:54:03.887929Z",
     "iopub.status.busy": "2022-08-12T21:54:03.887018Z",
     "iopub.status.idle": "2022-08-12T21:54:04.002351Z",
     "shell.execute_reply": "2022-08-12T21:54:04.001803Z"
    }
   },
   "outputs": [
    {
     "data": {
      "image/svg+xml": [
       "<?xml version=\"1.0\" encoding=\"utf-8\" standalone=\"no\"?>\n",
       "<!DOCTYPE svg PUBLIC \"-//W3C//DTD SVG 1.1//EN\"\n",
       "  \"http://www.w3.org/Graphics/SVG/1.1/DTD/svg11.dtd\">\n",
       "<svg xmlns:xlink=\"http://www.w3.org/1999/xlink\" width=\"496.8pt\" height=\"496.8pt\" viewBox=\"0 0 496.8 496.8\" xmlns=\"http://www.w3.org/2000/svg\" version=\"1.1\">\n",
       " <metadata>\n",
       "  <rdf:RDF xmlns:dc=\"http://purl.org/dc/elements/1.1/\" xmlns:cc=\"http://creativecommons.org/ns#\" xmlns:rdf=\"http://www.w3.org/1999/02/22-rdf-syntax-ns#\">\n",
       "   <cc:Work>\n",
       "    <dc:type rdf:resource=\"http://purl.org/dc/dcmitype/StillImage\"/>\n",
       "    <dc:date>2022-08-12T21:54:03.978815</dc:date>\n",
       "    <dc:format>image/svg+xml</dc:format>\n",
       "    <dc:creator>\n",
       "     <cc:Agent>\n",
       "      <dc:title>Matplotlib v3.5.3, https://matplotlib.org/</dc:title>\n",
       "     </cc:Agent>\n",
       "    </dc:creator>\n",
       "   </cc:Work>\n",
       "  </rdf:RDF>\n",
       " </metadata>\n",
       " <defs>\n",
       "  <style type=\"text/css\">*{stroke-linejoin: round; stroke-linecap: butt}</style>\n",
       " </defs>\n",
       " <g id=\"figure_1\">\n",
       "  <g id=\"patch_1\">\n",
       "   <path d=\"M 0 496.8 \n",
       "L 496.8 496.8 \n",
       "L 496.8 0 \n",
       "L 0 0 \n",
       "L 0 496.8 \n",
       "z\n",
       "\" style=\"fill: none\"/>\n",
       "  </g>\n",
       "  <g id=\"axes_1\">\n",
       "   <g clip-path=\"url(#pd72a1f9edf)\">\n",
       "    <image xlink:href=\"data:image/png;base64,\n",
       "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\" id=\"image2d78844bb5\" transform=\"matrix(0.966 0 0 0.966 7.2 6.6)\" style=\"image-rendering:crisp-edges;image-rendering:pixelated\" width=\"500\" height=\"500\"/>\n",
       "   </g>\n",
       "  </g>\n",
       " </g>\n",
       " <defs>\n",
       "  <clipPath id=\"pd72a1f9edf\">\n",
       "   <rect x=\"7.2\" y=\"7.2\" width=\"482.4\" height=\"482.4\"/>\n",
       "  </clipPath>\n",
       " </defs>\n",
       "</svg>\n"
      ],
      "text/plain": [
       "<Figure size 504x504 with 1 Axes>"
      ]
     },
     "metadata": {
      "needs_background": "light"
     },
     "output_type": "display_data"
    }
   ],
   "source": [
    "im = ps.generators.blobs([500, 500])\n",
    "plt.figure(figsize=[7, 7])\n",
    "plt.axis(False)\n",
    "plt.imshow(im);"
   ]
  },
  {
   "cell_type": "markdown",
   "id": "clean-employer",
   "metadata": {},
   "source": [
    "## Apply tool"
   ]
  },
  {
   "cell_type": "code",
   "execution_count": 3,
   "id": "accessible-pasta",
   "metadata": {
    "execution": {
     "iopub.execute_input": "2022-08-12T21:54:04.005970Z",
     "iopub.status.busy": "2022-08-12T21:54:04.005503Z",
     "iopub.status.idle": "2022-08-12T21:54:04.076327Z",
     "shell.execute_reply": "2022-08-12T21:54:04.075772Z"
    }
   },
   "outputs": [
    {
     "data": {
      "image/svg+xml": [
       "<?xml version=\"1.0\" encoding=\"utf-8\" standalone=\"no\"?>\n",
       "<!DOCTYPE svg PUBLIC \"-//W3C//DTD SVG 1.1//EN\"\n",
       "  \"http://www.w3.org/Graphics/SVG/1.1/DTD/svg11.dtd\">\n",
       "<svg xmlns:xlink=\"http://www.w3.org/1999/xlink\" width=\"496.8pt\" height=\"496.8pt\" viewBox=\"0 0 496.8 496.8\" xmlns=\"http://www.w3.org/2000/svg\" version=\"1.1\">\n",
       " <metadata>\n",
       "  <rdf:RDF xmlns:dc=\"http://purl.org/dc/elements/1.1/\" xmlns:cc=\"http://creativecommons.org/ns#\" xmlns:rdf=\"http://www.w3.org/1999/02/22-rdf-syntax-ns#\">\n",
       "   <cc:Work>\n",
       "    <dc:type rdf:resource=\"http://purl.org/dc/dcmitype/StillImage\"/>\n",
       "    <dc:date>2022-08-12T21:54:04.055032</dc:date>\n",
       "    <dc:format>image/svg+xml</dc:format>\n",
       "    <dc:creator>\n",
       "     <cc:Agent>\n",
       "      <dc:title>Matplotlib v3.5.3, https://matplotlib.org/</dc:title>\n",
       "     </cc:Agent>\n",
       "    </dc:creator>\n",
       "   </cc:Work>\n",
       "  </rdf:RDF>\n",
       " </metadata>\n",
       " <defs>\n",
       "  <style type=\"text/css\">*{stroke-linejoin: round; stroke-linecap: butt}</style>\n",
       " </defs>\n",
       " <g id=\"figure_1\">\n",
       "  <g id=\"patch_1\">\n",
       "   <path d=\"M 0 496.8 \n",
       "L 496.8 496.8 \n",
       "L 496.8 0 \n",
       "L 0 0 \n",
       "L 0 496.8 \n",
       "z\n",
       "\" style=\"fill: none\"/>\n",
       "  </g>\n",
       "  <g id=\"axes_1\">\n",
       "   <g clip-path=\"url(#pe51c2da949)\">\n",
       "    <image xlink:href=\"data:image/png;base64,\n",
       "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\" id=\"image178bd31c1c\" transform=\"matrix(0.966 0 0 0.966 7.2 6.6)\" style=\"image-rendering:crisp-edges;image-rendering:pixelated\" width=\"500\" height=\"500\"/>\n",
       "   </g>\n",
       "  </g>\n",
       " </g>\n",
       " <defs>\n",
       "  <clipPath id=\"pe51c2da949\">\n",
       "   <rect x=\"7.2\" y=\"7.2\" width=\"482.4\" height=\"482.4\"/>\n",
       "  </clipPath>\n",
       " </defs>\n",
       "</svg>\n"
      ],
      "text/plain": [
       "<Figure size 504x504 with 1 Axes>"
      ]
     },
     "metadata": {
      "needs_background": "light"
     },
     "output_type": "display_data"
    }
   ],
   "source": [
    "im = ps.tools.align_image_with_openpnm(im = im)\n",
    "plt.figure(figsize=[7, 7])\n",
    "plt.axis(False)\n",
    "plt.imshow(im);"
   ]
  }
 ],
 "metadata": {
  "kernelspec": {
   "display_name": "Python 3 (ipykernel)",
   "language": "python",
   "name": "python3"
  },
  "language_info": {
   "codemirror_mode": {
    "name": "ipython",
    "version": 3
   },
   "file_extension": ".py",
   "mimetype": "text/x-python",
   "name": "python",
   "nbconvert_exporter": "python",
   "pygments_lexer": "ipython3",
   "version": "3.8.13"
  }
 },
 "nbformat": 4,
 "nbformat_minor": 5
}

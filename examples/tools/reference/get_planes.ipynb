{
 "cells": [
  {
   "cell_type": "markdown",
   "id": "august-ranking",
   "metadata": {},
   "source": [
    "# `get_planes`"
   ]
  },
  {
   "cell_type": "markdown",
   "id": "otherwise-blame",
   "metadata": {},
   "source": [
    "## Import packages"
   ]
  },
  {
   "cell_type": "code",
   "execution_count": 1,
   "id": "chicken-dodge",
   "metadata": {
    "execution": {
     "iopub.execute_input": "2022-08-12T22:21:32.817720Z",
     "iopub.status.busy": "2022-08-12T22:21:32.817285Z",
     "iopub.status.idle": "2022-08-12T22:21:35.025868Z",
     "shell.execute_reply": "2022-08-12T22:21:35.024691Z"
    }
   },
   "outputs": [],
   "source": [
    "import numpy as np\n",
    "import porespy as ps\n",
    "import scipy.ndimage as spim\n",
    "import matplotlib.pyplot as plt\n",
    "import skimage\n",
    "\n",
    "ps.visualization.set_mpl_style()"
   ]
  },
  {
   "cell_type": "markdown",
   "id": "sized-wonder",
   "metadata": {},
   "source": [
    "## Generate image for testing"
   ]
  },
  {
   "cell_type": "code",
   "execution_count": 2,
   "id": "finnish-canvas",
   "metadata": {
    "execution": {
     "iopub.execute_input": "2022-08-12T22:21:35.030892Z",
     "iopub.status.busy": "2022-08-12T22:21:35.029991Z",
     "iopub.status.idle": "2022-08-12T22:21:35.173366Z",
     "shell.execute_reply": "2022-08-12T22:21:35.172719Z"
    }
   },
   "outputs": [
    {
     "data": {
      "image/svg+xml": [
       "<?xml version=\"1.0\" encoding=\"utf-8\" standalone=\"no\"?>\n",
       "<!DOCTYPE svg PUBLIC \"-//W3C//DTD SVG 1.1//EN\"\n",
       "  \"http://www.w3.org/Graphics/SVG/1.1/DTD/svg11.dtd\">\n",
       "<svg xmlns:xlink=\"http://www.w3.org/1999/xlink\" width=\"280.8pt\" height=\"280.8pt\" viewBox=\"0 0 280.8 280.8\" xmlns=\"http://www.w3.org/2000/svg\" version=\"1.1\">\n",
       " <metadata>\n",
       "  <rdf:RDF xmlns:dc=\"http://purl.org/dc/elements/1.1/\" xmlns:cc=\"http://creativecommons.org/ns#\" xmlns:rdf=\"http://www.w3.org/1999/02/22-rdf-syntax-ns#\">\n",
       "   <cc:Work>\n",
       "    <dc:type rdf:resource=\"http://purl.org/dc/dcmitype/StillImage\"/>\n",
       "    <dc:date>2022-08-12T22:21:35.161474</dc:date>\n",
       "    <dc:format>image/svg+xml</dc:format>\n",
       "    <dc:creator>\n",
       "     <cc:Agent>\n",
       "      <dc:title>Matplotlib v3.5.3, https://matplotlib.org/</dc:title>\n",
       "     </cc:Agent>\n",
       "    </dc:creator>\n",
       "   </cc:Work>\n",
       "  </rdf:RDF>\n",
       " </metadata>\n",
       " <defs>\n",
       "  <style type=\"text/css\">*{stroke-linejoin: round; stroke-linecap: butt}</style>\n",
       " </defs>\n",
       " <g id=\"figure_1\">\n",
       "  <g id=\"patch_1\">\n",
       "   <path d=\"M 0 280.8 \n",
       "L 280.8 280.8 \n",
       "L 280.8 0 \n",
       "L 0 0 \n",
       "L 0 280.8 \n",
       "z\n",
       "\" style=\"fill: none\"/>\n",
       "  </g>\n",
       "  <g id=\"axes_1\">\n",
       "   <g clip-path=\"url(#pca981afd8d)\">\n",
       "    <image xlink:href=\"data:image/png;base64,\n",
       "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\" id=\"image807a4f8cc3\" transform=\"matrix(2.67 0 0 2.67 7.2 6.6)\" style=\"image-rendering:crisp-edges;image-rendering:pixelated\" width=\"100\" height=\"100\"/>\n",
       "   </g>\n",
       "  </g>\n",
       " </g>\n",
       " <defs>\n",
       "  <clipPath id=\"pca981afd8d\">\n",
       "   <rect x=\"7.2\" y=\"7.2\" width=\"266.4\" height=\"266.4\"/>\n",
       "  </clipPath>\n",
       " </defs>\n",
       "</svg>\n"
      ],
      "text/plain": [
       "<Figure size 288x288 with 1 Axes>"
      ]
     },
     "metadata": {
      "needs_background": "light"
     },
     "output_type": "display_data"
    }
   ],
   "source": [
    "im = ps.generators.blobs([100, 100, 100], blobiness=[1, 2, 3])\n",
    "\n",
    "fig, ax = plt.subplots(figsize=[4, 4]);\n",
    "ax.imshow(im[50, ...])\n",
    "ax.axis(False);"
   ]
  },
  {
   "cell_type": "markdown",
   "id": "scenic-midnight",
   "metadata": {},
   "source": [
    "## Demonstrate function"
   ]
  },
  {
   "cell_type": "code",
   "execution_count": 3,
   "id": "fuzzy-decision",
   "metadata": {
    "execution": {
     "iopub.execute_input": "2022-08-12T22:21:35.177159Z",
     "iopub.status.busy": "2022-08-12T22:21:35.176669Z",
     "iopub.status.idle": "2022-08-12T22:21:35.294327Z",
     "shell.execute_reply": "2022-08-12T22:21:35.293663Z"
    }
   },
   "outputs": [
    {
     "data": {
      "image/svg+xml": [
       "<?xml version=\"1.0\" encoding=\"utf-8\" standalone=\"no\"?>\n",
       "<!DOCTYPE svg PUBLIC \"-//W3C//DTD SVG 1.1//EN\"\n",
       "  \"http://www.w3.org/Graphics/SVG/1.1/DTD/svg11.dtd\">\n",
       "<svg xmlns:xlink=\"http://www.w3.org/1999/xlink\" width=\"568.8pt\" height=\"192pt\" viewBox=\"0 0 568.8 192\" xmlns=\"http://www.w3.org/2000/svg\" version=\"1.1\">\n",
       " <metadata>\n",
       "  <rdf:RDF xmlns:dc=\"http://purl.org/dc/elements/1.1/\" xmlns:cc=\"http://creativecommons.org/ns#\" xmlns:rdf=\"http://www.w3.org/1999/02/22-rdf-syntax-ns#\">\n",
       "   <cc:Work>\n",
       "    <dc:type rdf:resource=\"http://purl.org/dc/dcmitype/StillImage\"/>\n",
       "    <dc:date>2022-08-12T22:21:35.281160</dc:date>\n",
       "    <dc:format>image/svg+xml</dc:format>\n",
       "    <dc:creator>\n",
       "     <cc:Agent>\n",
       "      <dc:title>Matplotlib v3.5.3, https://matplotlib.org/</dc:title>\n",
       "     </cc:Agent>\n",
       "    </dc:creator>\n",
       "   </cc:Work>\n",
       "  </rdf:RDF>\n",
       " </metadata>\n",
       " <defs>\n",
       "  <style type=\"text/css\">*{stroke-linejoin: round; stroke-linecap: butt}</style>\n",
       " </defs>\n",
       " <g id=\"figure_1\">\n",
       "  <g id=\"patch_1\">\n",
       "   <path d=\"M 0 192 \n",
       "L 568.8 192 \n",
       "L 568.8 0 \n",
       "L 0 0 \n",
       "L 0 192 \n",
       "z\n",
       "\" style=\"fill: none\"/>\n",
       "  </g>\n",
       "  <g id=\"axes_1\">\n",
       "   <g clip-path=\"url(#p3a4fbaf0a5)\">\n",
       "    <image xlink:href=\"data:image/png;base64,\n",
       "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\" id=\"image13fc52ee16\" transform=\"matrix(1.78 0 0 1.78 7.2 6.8)\" style=\"image-rendering:crisp-edges;image-rendering:pixelated\" width=\"100\" height=\"100\"/>\n",
       "   </g>\n",
       "  </g>\n",
       "  <g id=\"axes_2\">\n",
       "   <g clip-path=\"url(#p5ece4f6eef)\">\n",
       "    <image xlink:href=\"data:image/png;base64,\n",
       "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\" id=\"image2779c11d8a\" transform=\"matrix(1.78 0 0 1.78 195.6 6.8)\" style=\"image-rendering:crisp-edges;image-rendering:pixelated\" width=\"100\" height=\"100\"/>\n",
       "   </g>\n",
       "  </g>\n",
       "  <g id=\"axes_3\">\n",
       "   <g clip-path=\"url(#p6693221e38)\">\n",
       "    <image xlink:href=\"data:image/png;base64,\n",
       "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\" id=\"image8eb2798879\" transform=\"matrix(1.78 0 0 1.78 384 6.8)\" style=\"image-rendering:crisp-edges;image-rendering:pixelated\" width=\"100\" height=\"100\"/>\n",
       "   </g>\n",
       "  </g>\n",
       " </g>\n",
       " <defs>\n",
       "  <clipPath id=\"p3a4fbaf0a5\">\n",
       "   <rect x=\"7.2\" y=\"7.2\" width=\"177.6\" height=\"177.6\"/>\n",
       "  </clipPath>\n",
       "  <clipPath id=\"p5ece4f6eef\">\n",
       "   <rect x=\"195.6\" y=\"7.2\" width=\"177.6\" height=\"177.6\"/>\n",
       "  </clipPath>\n",
       "  <clipPath id=\"p6693221e38\">\n",
       "   <rect x=\"384\" y=\"7.2\" width=\"177.6\" height=\"177.6\"/>\n",
       "  </clipPath>\n",
       " </defs>\n",
       "</svg>\n"
      ],
      "text/plain": [
       "<Figure size 576x288 with 3 Axes>"
      ]
     },
     "metadata": {
      "needs_background": "light"
     },
     "output_type": "display_data"
    }
   ],
   "source": [
    "im1,im2,im3 = ps.tools.get_planes(im=im, squeeze=True)\n",
    "fig, ax = plt.subplots(1, 3, figsize=[8, 4]);\n",
    "ax[0].axis(False)\n",
    "ax[0].imshow(im1)\n",
    "ax[1].axis(False)\n",
    "ax[1].imshow(im2)\n",
    "ax[2].axis(False)\n",
    "ax[2].imshow(im3);"
   ]
  }
 ],
 "metadata": {
  "kernelspec": {
   "display_name": "Python 3 (ipykernel)",
   "language": "python",
   "name": "python3"
  },
  "language_info": {
   "codemirror_mode": {
    "name": "ipython",
    "version": 3
   },
   "file_extension": ".py",
   "mimetype": "text/x-python",
   "name": "python",
   "nbconvert_exporter": "python",
   "pygments_lexer": "ipython3",
   "version": "3.8.13"
  }
 },
 "nbformat": 4,
 "nbformat_minor": 5
}

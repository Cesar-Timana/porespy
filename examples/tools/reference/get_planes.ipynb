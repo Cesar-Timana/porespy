{
 "cells": [
  {
   "cell_type": "markdown",
   "id": "august-ranking",
   "metadata": {},
   "source": [
    "# `get_planes`"
   ]
  },
  {
   "cell_type": "markdown",
   "id": "otherwise-blame",
   "metadata": {},
   "source": [
    "## Import packages"
   ]
  },
  {
   "cell_type": "code",
   "execution_count": 1,
   "id": "chicken-dodge",
   "metadata": {
    "execution": {
     "iopub.execute_input": "2022-08-22T18:55:28.621353Z",
     "iopub.status.busy": "2022-08-22T18:55:28.621082Z",
     "iopub.status.idle": "2022-08-22T18:55:30.515101Z",
     "shell.execute_reply": "2022-08-22T18:55:30.514344Z"
    }
   },
   "outputs": [],
   "source": [
    "import numpy as np\n",
    "import porespy as ps\n",
    "import scipy.ndimage as spim\n",
    "import matplotlib.pyplot as plt\n",
    "import skimage\n",
    "\n",
    "ps.visualization.set_mpl_style()"
   ]
  },
  {
   "cell_type": "markdown",
   "id": "sized-wonder",
   "metadata": {},
   "source": [
    "## Generate image for testing"
   ]
  },
  {
   "cell_type": "code",
   "execution_count": 2,
   "id": "finnish-canvas",
   "metadata": {
    "execution": {
     "iopub.execute_input": "2022-08-22T18:55:30.519228Z",
     "iopub.status.busy": "2022-08-22T18:55:30.518752Z",
     "iopub.status.idle": "2022-08-22T18:55:30.636145Z",
     "shell.execute_reply": "2022-08-22T18:55:30.635601Z"
    }
   },
   "outputs": [
    {
     "data": {
      "image/svg+xml": [
       "<?xml version=\"1.0\" encoding=\"utf-8\" standalone=\"no\"?>\n",
       "<!DOCTYPE svg PUBLIC \"-//W3C//DTD SVG 1.1//EN\"\n",
       "  \"http://www.w3.org/Graphics/SVG/1.1/DTD/svg11.dtd\">\n",
       "<svg xmlns:xlink=\"http://www.w3.org/1999/xlink\" width=\"276.48pt\" height=\"276.48pt\" viewBox=\"0 0 276.48 276.48\" xmlns=\"http://www.w3.org/2000/svg\" version=\"1.1\">\n",
       " <metadata>\n",
       "  <rdf:RDF xmlns:dc=\"http://purl.org/dc/elements/1.1/\" xmlns:cc=\"http://creativecommons.org/ns#\" xmlns:rdf=\"http://www.w3.org/1999/02/22-rdf-syntax-ns#\">\n",
       "   <cc:Work>\n",
       "    <dc:type rdf:resource=\"http://purl.org/dc/dcmitype/StillImage\"/>\n",
       "    <dc:date>2022-08-22T18:55:30.625859</dc:date>\n",
       "    <dc:format>image/svg+xml</dc:format>\n",
       "    <dc:creator>\n",
       "     <cc:Agent>\n",
       "      <dc:title>Matplotlib v3.5.3, https://matplotlib.org/</dc:title>\n",
       "     </cc:Agent>\n",
       "    </dc:creator>\n",
       "   </cc:Work>\n",
       "  </rdf:RDF>\n",
       " </metadata>\n",
       " <defs>\n",
       "  <style type=\"text/css\">*{stroke-linejoin: round; stroke-linecap: butt}</style>\n",
       " </defs>\n",
       " <g id=\"figure_1\">\n",
       "  <g id=\"patch_1\">\n",
       "   <path d=\"M 0 276.48 \n",
       "L 276.48 276.48 \n",
       "L 276.48 0 \n",
       "L 0 0 \n",
       "z\n",
       "\" style=\"fill: #ffffff\"/>\n",
       "  </g>\n",
       "  <g id=\"axes_1\">\n",
       "   <g clip-path=\"url(#p6366f6939a)\">\n",
       "    <image xlink:href=\"data:image/png;base64,\n",
       "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\" id=\"image2954849ba2\" transform=\"matrix(2.63 0 0 2.63 7.2 6.28)\" style=\"image-rendering:crisp-edges;image-rendering:pixelated\" width=\"100\" height=\"100\"/>\n",
       "   </g>\n",
       "  </g>\n",
       " </g>\n",
       " <defs>\n",
       "  <clipPath id=\"p6366f6939a\">\n",
       "   <rect x=\"7.2\" y=\"7.2\" width=\"262.08\" height=\"262.08\"/>\n",
       "  </clipPath>\n",
       " </defs>\n",
       "</svg>\n"
      ],
      "text/plain": [
       "<Figure size 400x400 with 1 Axes>"
      ]
     },
     "metadata": {},
     "output_type": "display_data"
    }
   ],
   "source": [
    "im = ps.generators.blobs([100, 100, 100], blobiness=[1, 2, 3])\n",
    "\n",
    "fig, ax = plt.subplots(figsize=[4, 4]);\n",
    "ax.imshow(im[50, ...])\n",
    "ax.axis(False);"
   ]
  },
  {
   "cell_type": "markdown",
   "id": "scenic-midnight",
   "metadata": {},
   "source": [
    "## Demonstrate function"
   ]
  },
  {
   "cell_type": "code",
   "execution_count": 3,
   "id": "fuzzy-decision",
   "metadata": {
    "execution": {
     "iopub.execute_input": "2022-08-22T18:55:30.640931Z",
     "iopub.status.busy": "2022-08-22T18:55:30.639859Z",
     "iopub.status.idle": "2022-08-22T18:55:30.723570Z",
     "shell.execute_reply": "2022-08-22T18:55:30.723025Z"
    }
   },
   "outputs": [
    {
     "data": {
      "image/svg+xml": [
       "<?xml version=\"1.0\" encoding=\"utf-8\" standalone=\"no\"?>\n",
       "<!DOCTYPE svg PUBLIC \"-//W3C//DTD SVG 1.1//EN\"\n",
       "  \"http://www.w3.org/Graphics/SVG/1.1/DTD/svg11.dtd\">\n",
       "<svg xmlns:xlink=\"http://www.w3.org/1999/xlink\" width=\"564.48pt\" height=\"189.12pt\" viewBox=\"0 0 564.48 189.12\" xmlns=\"http://www.w3.org/2000/svg\" version=\"1.1\">\n",
       " <metadata>\n",
       "  <rdf:RDF xmlns:dc=\"http://purl.org/dc/elements/1.1/\" xmlns:cc=\"http://creativecommons.org/ns#\" xmlns:rdf=\"http://www.w3.org/1999/02/22-rdf-syntax-ns#\">\n",
       "   <cc:Work>\n",
       "    <dc:type rdf:resource=\"http://purl.org/dc/dcmitype/StillImage\"/>\n",
       "    <dc:date>2022-08-22T18:55:30.710486</dc:date>\n",
       "    <dc:format>image/svg+xml</dc:format>\n",
       "    <dc:creator>\n",
       "     <cc:Agent>\n",
       "      <dc:title>Matplotlib v3.5.3, https://matplotlib.org/</dc:title>\n",
       "     </cc:Agent>\n",
       "    </dc:creator>\n",
       "   </cc:Work>\n",
       "  </rdf:RDF>\n",
       " </metadata>\n",
       " <defs>\n",
       "  <style type=\"text/css\">*{stroke-linejoin: round; stroke-linecap: butt}</style>\n",
       " </defs>\n",
       " <g id=\"figure_1\">\n",
       "  <g id=\"patch_1\">\n",
       "   <path d=\"M 0 189.12 \n",
       "L 564.48 189.12 \n",
       "L 564.48 0 \n",
       "L 0 0 \n",
       "z\n",
       "\" style=\"fill: #ffffff\"/>\n",
       "  </g>\n",
       "  <g id=\"axes_1\">\n",
       "   <g clip-path=\"url(#p1947bb76c3)\">\n",
       "    <image xlink:href=\"data:image/png;base64,\n",
       "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\" id=\"imageaa7500836d\" transform=\"matrix(1.75 0 0 1.75 7.2 6.92)\" style=\"image-rendering:crisp-edges;image-rendering:pixelated\" width=\"100\" height=\"100\"/>\n",
       "   </g>\n",
       "  </g>\n",
       "  <g id=\"axes_2\">\n",
       "   <g clip-path=\"url(#pc51e762ccf)\">\n",
       "    <image xlink:href=\"data:image/png;base64,\n",
       "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\" id=\"imagefcaf9e0418\" transform=\"matrix(1.75 0 0 1.75 194.88 6.92)\" style=\"image-rendering:crisp-edges;image-rendering:pixelated\" width=\"100\" height=\"100\"/>\n",
       "   </g>\n",
       "  </g>\n",
       "  <g id=\"axes_3\">\n",
       "   <g clip-path=\"url(#p8b889cb8c2)\">\n",
       "    <image xlink:href=\"data:image/png;base64,\n",
       "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\" id=\"image3efd00fe48\" transform=\"matrix(1.75 0 0 1.75 382.56 6.92)\" style=\"image-rendering:crisp-edges;image-rendering:pixelated\" width=\"100\" height=\"100\"/>\n",
       "   </g>\n",
       "  </g>\n",
       " </g>\n",
       " <defs>\n",
       "  <clipPath id=\"p1947bb76c3\">\n",
       "   <rect x=\"7.2\" y=\"7.2\" width=\"174.72\" height=\"174.72\"/>\n",
       "  </clipPath>\n",
       "  <clipPath id=\"pc51e762ccf\">\n",
       "   <rect x=\"194.88\" y=\"7.2\" width=\"174.72\" height=\"174.72\"/>\n",
       "  </clipPath>\n",
       "  <clipPath id=\"p8b889cb8c2\">\n",
       "   <rect x=\"382.56\" y=\"7.2\" width=\"174.72\" height=\"174.72\"/>\n",
       "  </clipPath>\n",
       " </defs>\n",
       "</svg>\n"
      ],
      "text/plain": [
       "<Figure size 800x400 with 3 Axes>"
      ]
     },
     "metadata": {},
     "output_type": "display_data"
    }
   ],
   "source": [
    "im1,im2,im3 = ps.tools.get_planes(im=im, squeeze=True)\n",
    "fig, ax = plt.subplots(1, 3, figsize=[8, 4]);\n",
    "ax[0].axis(False)\n",
    "ax[0].imshow(im1)\n",
    "ax[1].axis(False)\n",
    "ax[1].imshow(im2)\n",
    "ax[2].axis(False)\n",
    "ax[2].imshow(im3);"
   ]
  }
 ],
 "metadata": {
  "kernelspec": {
   "display_name": "Python 3 (ipykernel)",
   "language": "python",
   "name": "python3"
  },
  "language_info": {
   "codemirror_mode": {
    "name": "ipython",
    "version": 3
   },
   "file_extension": ".py",
   "mimetype": "text/x-python",
   "name": "python",
   "nbconvert_exporter": "python",
   "pygments_lexer": "ipython3",
   "version": "3.8.13"
  }
 },
 "nbformat": 4,
 "nbformat_minor": 5
}

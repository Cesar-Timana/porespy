{
 "cells": [
  {
   "cell_type": "markdown",
   "id": "august-ranking",
   "metadata": {},
   "source": [
    "# `get_planes`"
   ]
  },
  {
   "cell_type": "markdown",
   "id": "otherwise-blame",
   "metadata": {},
   "source": [
    "## Import packages"
   ]
  },
  {
   "cell_type": "code",
   "execution_count": 1,
   "id": "chicken-dodge",
   "metadata": {
    "execution": {
     "iopub.execute_input": "2022-08-23T01:47:26.640496Z",
     "iopub.status.busy": "2022-08-23T01:47:26.640241Z",
     "iopub.status.idle": "2022-08-23T01:47:28.398686Z",
     "shell.execute_reply": "2022-08-23T01:47:28.398009Z"
    }
   },
   "outputs": [],
   "source": [
    "import numpy as np\n",
    "import porespy as ps\n",
    "import scipy.ndimage as spim\n",
    "import matplotlib.pyplot as plt\n",
    "import skimage\n",
    "\n",
    "ps.visualization.set_mpl_style()"
   ]
  },
  {
   "cell_type": "markdown",
   "id": "sized-wonder",
   "metadata": {},
   "source": [
    "## Generate image for testing"
   ]
  },
  {
   "cell_type": "code",
   "execution_count": 2,
   "id": "finnish-canvas",
   "metadata": {
    "execution": {
     "iopub.execute_input": "2022-08-23T01:47:28.403652Z",
     "iopub.status.busy": "2022-08-23T01:47:28.402295Z",
     "iopub.status.idle": "2022-08-23T01:47:28.518669Z",
     "shell.execute_reply": "2022-08-23T01:47:28.518073Z"
    }
   },
   "outputs": [
    {
     "data": {
      "image/svg+xml": [
       "<?xml version=\"1.0\" encoding=\"utf-8\" standalone=\"no\"?>\n",
       "<!DOCTYPE svg PUBLIC \"-//W3C//DTD SVG 1.1//EN\"\n",
       "  \"http://www.w3.org/Graphics/SVG/1.1/DTD/svg11.dtd\">\n",
       "<svg xmlns:xlink=\"http://www.w3.org/1999/xlink\" width=\"276.48pt\" height=\"276.48pt\" viewBox=\"0 0 276.48 276.48\" xmlns=\"http://www.w3.org/2000/svg\" version=\"1.1\">\n",
       " <metadata>\n",
       "  <rdf:RDF xmlns:dc=\"http://purl.org/dc/elements/1.1/\" xmlns:cc=\"http://creativecommons.org/ns#\" xmlns:rdf=\"http://www.w3.org/1999/02/22-rdf-syntax-ns#\">\n",
       "   <cc:Work>\n",
       "    <dc:type rdf:resource=\"http://purl.org/dc/dcmitype/StillImage\"/>\n",
       "    <dc:date>2022-08-23T01:47:28.506882</dc:date>\n",
       "    <dc:format>image/svg+xml</dc:format>\n",
       "    <dc:creator>\n",
       "     <cc:Agent>\n",
       "      <dc:title>Matplotlib v3.5.3, https://matplotlib.org/</dc:title>\n",
       "     </cc:Agent>\n",
       "    </dc:creator>\n",
       "   </cc:Work>\n",
       "  </rdf:RDF>\n",
       " </metadata>\n",
       " <defs>\n",
       "  <style type=\"text/css\">*{stroke-linejoin: round; stroke-linecap: butt}</style>\n",
       " </defs>\n",
       " <g id=\"figure_1\">\n",
       "  <g id=\"patch_1\">\n",
       "   <path d=\"M 0 276.48 \n",
       "L 276.48 276.48 \n",
       "L 276.48 0 \n",
       "L 0 0 \n",
       "z\n",
       "\" style=\"fill: #ffffff\"/>\n",
       "  </g>\n",
       "  <g id=\"axes_1\">\n",
       "   <g clip-path=\"url(#p7c5c211f28)\">\n",
       "    <image xlink:href=\"data:image/png;base64,\n",
       "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\" id=\"image81dff249d5\" transform=\"matrix(2.63 0 0 2.63 7.2 6.28)\" style=\"image-rendering:crisp-edges;image-rendering:pixelated\" width=\"100\" height=\"100\"/>\n",
       "   </g>\n",
       "  </g>\n",
       " </g>\n",
       " <defs>\n",
       "  <clipPath id=\"p7c5c211f28\">\n",
       "   <rect x=\"7.2\" y=\"7.2\" width=\"262.08\" height=\"262.08\"/>\n",
       "  </clipPath>\n",
       " </defs>\n",
       "</svg>\n"
      ],
      "text/plain": [
       "<Figure size 400x400 with 1 Axes>"
      ]
     },
     "metadata": {},
     "output_type": "display_data"
    }
   ],
   "source": [
    "im = ps.generators.blobs([100, 100, 100], blobiness=[1, 2, 3])\n",
    "\n",
    "fig, ax = plt.subplots(figsize=[4, 4]);\n",
    "ax.imshow(im[50, ...])\n",
    "ax.axis(False);"
   ]
  },
  {
   "cell_type": "markdown",
   "id": "scenic-midnight",
   "metadata": {},
   "source": [
    "## Demonstrate function"
   ]
  },
  {
   "cell_type": "code",
   "execution_count": 3,
   "id": "fuzzy-decision",
   "metadata": {
    "execution": {
     "iopub.execute_input": "2022-08-23T01:47:28.522335Z",
     "iopub.status.busy": "2022-08-23T01:47:28.521871Z",
     "iopub.status.idle": "2022-08-23T01:47:28.601371Z",
     "shell.execute_reply": "2022-08-23T01:47:28.600860Z"
    }
   },
   "outputs": [
    {
     "data": {
      "image/svg+xml": [
       "<?xml version=\"1.0\" encoding=\"utf-8\" standalone=\"no\"?>\n",
       "<!DOCTYPE svg PUBLIC \"-//W3C//DTD SVG 1.1//EN\"\n",
       "  \"http://www.w3.org/Graphics/SVG/1.1/DTD/svg11.dtd\">\n",
       "<svg xmlns:xlink=\"http://www.w3.org/1999/xlink\" width=\"564.48pt\" height=\"189.12pt\" viewBox=\"0 0 564.48 189.12\" xmlns=\"http://www.w3.org/2000/svg\" version=\"1.1\">\n",
       " <metadata>\n",
       "  <rdf:RDF xmlns:dc=\"http://purl.org/dc/elements/1.1/\" xmlns:cc=\"http://creativecommons.org/ns#\" xmlns:rdf=\"http://www.w3.org/1999/02/22-rdf-syntax-ns#\">\n",
       "   <cc:Work>\n",
       "    <dc:type rdf:resource=\"http://purl.org/dc/dcmitype/StillImage\"/>\n",
       "    <dc:date>2022-08-23T01:47:28.588374</dc:date>\n",
       "    <dc:format>image/svg+xml</dc:format>\n",
       "    <dc:creator>\n",
       "     <cc:Agent>\n",
       "      <dc:title>Matplotlib v3.5.3, https://matplotlib.org/</dc:title>\n",
       "     </cc:Agent>\n",
       "    </dc:creator>\n",
       "   </cc:Work>\n",
       "  </rdf:RDF>\n",
       " </metadata>\n",
       " <defs>\n",
       "  <style type=\"text/css\">*{stroke-linejoin: round; stroke-linecap: butt}</style>\n",
       " </defs>\n",
       " <g id=\"figure_1\">\n",
       "  <g id=\"patch_1\">\n",
       "   <path d=\"M 0 189.12 \n",
       "L 564.48 189.12 \n",
       "L 564.48 0 \n",
       "L 0 0 \n",
       "z\n",
       "\" style=\"fill: #ffffff\"/>\n",
       "  </g>\n",
       "  <g id=\"axes_1\">\n",
       "   <g clip-path=\"url(#p02ad5086a4)\">\n",
       "    <image xlink:href=\"data:image/png;base64,\n",
       "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\" id=\"imagea6cdcc145c\" transform=\"matrix(1.75 0 0 1.75 7.2 6.92)\" style=\"image-rendering:crisp-edges;image-rendering:pixelated\" width=\"100\" height=\"100\"/>\n",
       "   </g>\n",
       "  </g>\n",
       "  <g id=\"axes_2\">\n",
       "   <g clip-path=\"url(#p2567aa2baf)\">\n",
       "    <image xlink:href=\"data:image/png;base64,\n",
       "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\" id=\"image7c87c068e6\" transform=\"matrix(1.75 0 0 1.75 194.88 6.92)\" style=\"image-rendering:crisp-edges;image-rendering:pixelated\" width=\"100\" height=\"100\"/>\n",
       "   </g>\n",
       "  </g>\n",
       "  <g id=\"axes_3\">\n",
       "   <g clip-path=\"url(#pc622c2055d)\">\n",
       "    <image xlink:href=\"data:image/png;base64,\n",
       "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\" id=\"image5f0f3f5c84\" transform=\"matrix(1.75 0 0 1.75 382.56 6.92)\" style=\"image-rendering:crisp-edges;image-rendering:pixelated\" width=\"100\" height=\"100\"/>\n",
       "   </g>\n",
       "  </g>\n",
       " </g>\n",
       " <defs>\n",
       "  <clipPath id=\"p02ad5086a4\">\n",
       "   <rect x=\"7.2\" y=\"7.2\" width=\"174.72\" height=\"174.72\"/>\n",
       "  </clipPath>\n",
       "  <clipPath id=\"p2567aa2baf\">\n",
       "   <rect x=\"194.88\" y=\"7.2\" width=\"174.72\" height=\"174.72\"/>\n",
       "  </clipPath>\n",
       "  <clipPath id=\"pc622c2055d\">\n",
       "   <rect x=\"382.56\" y=\"7.2\" width=\"174.72\" height=\"174.72\"/>\n",
       "  </clipPath>\n",
       " </defs>\n",
       "</svg>\n"
      ],
      "text/plain": [
       "<Figure size 800x400 with 3 Axes>"
      ]
     },
     "metadata": {},
     "output_type": "display_data"
    }
   ],
   "source": [
    "im1,im2,im3 = ps.tools.get_planes(im=im, squeeze=True)\n",
    "fig, ax = plt.subplots(1, 3, figsize=[8, 4]);\n",
    "ax[0].axis(False)\n",
    "ax[0].imshow(im1)\n",
    "ax[1].axis(False)\n",
    "ax[1].imshow(im2)\n",
    "ax[2].axis(False)\n",
    "ax[2].imshow(im3);"
   ]
  }
 ],
 "metadata": {
  "kernelspec": {
   "display_name": "Python 3 (ipykernel)",
   "language": "python",
   "name": "python3"
  },
  "language_info": {
   "codemirror_mode": {
    "name": "ipython",
    "version": 3
   },
   "file_extension": ".py",
   "mimetype": "text/x-python",
   "name": "python",
   "nbconvert_exporter": "python",
   "pygments_lexer": "ipython3",
   "version": "3.8.13"
  }
 },
 "nbformat": 4,
 "nbformat_minor": 5
}

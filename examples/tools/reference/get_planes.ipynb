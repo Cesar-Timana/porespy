{
 "cells": [
  {
   "cell_type": "markdown",
   "id": "august-ranking",
   "metadata": {},
   "source": [
    "# `get_planes`"
   ]
  },
  {
   "cell_type": "markdown",
   "id": "otherwise-blame",
   "metadata": {},
   "source": [
    "## Import packages"
   ]
  },
  {
   "cell_type": "code",
   "execution_count": 1,
   "id": "chicken-dodge",
   "metadata": {
    "execution": {
     "iopub.execute_input": "2022-09-09T11:06:17.192217Z",
     "iopub.status.busy": "2022-09-09T11:06:17.191952Z",
     "iopub.status.idle": "2022-09-09T11:06:18.864208Z",
     "shell.execute_reply": "2022-09-09T11:06:18.863156Z"
    }
   },
   "outputs": [],
   "source": [
    "import numpy as np\n",
    "import porespy as ps\n",
    "import scipy.ndimage as spim\n",
    "import matplotlib.pyplot as plt\n",
    "import skimage\n",
    "\n",
    "ps.visualization.set_mpl_style()"
   ]
  },
  {
   "cell_type": "markdown",
   "id": "sized-wonder",
   "metadata": {},
   "source": [
    "## Generate image for testing"
   ]
  },
  {
   "cell_type": "code",
   "execution_count": 2,
   "id": "finnish-canvas",
   "metadata": {
    "execution": {
     "iopub.execute_input": "2022-09-09T11:06:18.868075Z",
     "iopub.status.busy": "2022-09-09T11:06:18.867469Z",
     "iopub.status.idle": "2022-09-09T11:06:18.976153Z",
     "shell.execute_reply": "2022-09-09T11:06:18.975677Z"
    }
   },
   "outputs": [
    {
     "data": {
      "image/svg+xml": [
       "<?xml version=\"1.0\" encoding=\"utf-8\" standalone=\"no\"?>\n",
       "<!DOCTYPE svg PUBLIC \"-//W3C//DTD SVG 1.1//EN\"\n",
       "  \"http://www.w3.org/Graphics/SVG/1.1/DTD/svg11.dtd\">\n",
       "<svg xmlns:xlink=\"http://www.w3.org/1999/xlink\" width=\"276.48pt\" height=\"276.48pt\" viewBox=\"0 0 276.48 276.48\" xmlns=\"http://www.w3.org/2000/svg\" version=\"1.1\">\n",
       " <metadata>\n",
       "  <rdf:RDF xmlns:dc=\"http://purl.org/dc/elements/1.1/\" xmlns:cc=\"http://creativecommons.org/ns#\" xmlns:rdf=\"http://www.w3.org/1999/02/22-rdf-syntax-ns#\">\n",
       "   <cc:Work>\n",
       "    <dc:type rdf:resource=\"http://purl.org/dc/dcmitype/StillImage\"/>\n",
       "    <dc:date>2022-09-09T11:06:18.966287</dc:date>\n",
       "    <dc:format>image/svg+xml</dc:format>\n",
       "    <dc:creator>\n",
       "     <cc:Agent>\n",
       "      <dc:title>Matplotlib v3.5.3, https://matplotlib.org/</dc:title>\n",
       "     </cc:Agent>\n",
       "    </dc:creator>\n",
       "   </cc:Work>\n",
       "  </rdf:RDF>\n",
       " </metadata>\n",
       " <defs>\n",
       "  <style type=\"text/css\">*{stroke-linejoin: round; stroke-linecap: butt}</style>\n",
       " </defs>\n",
       " <g id=\"figure_1\">\n",
       "  <g id=\"patch_1\">\n",
       "   <path d=\"M 0 276.48 \n",
       "L 276.48 276.48 \n",
       "L 276.48 0 \n",
       "L 0 0 \n",
       "z\n",
       "\" style=\"fill: #ffffff\"/>\n",
       "  </g>\n",
       "  <g id=\"axes_1\">\n",
       "   <g clip-path=\"url(#p8a4a9f128f)\">\n",
       "    <image xlink:href=\"data:image/png;base64,\n",
       "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\" id=\"image323e1219e2\" transform=\"matrix(2.63 0 0 2.63 7.2 6.28)\" style=\"image-rendering:crisp-edges;image-rendering:pixelated\" width=\"100\" height=\"100\"/>\n",
       "   </g>\n",
       "  </g>\n",
       " </g>\n",
       " <defs>\n",
       "  <clipPath id=\"p8a4a9f128f\">\n",
       "   <rect x=\"7.2\" y=\"7.2\" width=\"262.08\" height=\"262.08\"/>\n",
       "  </clipPath>\n",
       " </defs>\n",
       "</svg>\n"
      ],
      "text/plain": [
       "<Figure size 400x400 with 1 Axes>"
      ]
     },
     "metadata": {},
     "output_type": "display_data"
    }
   ],
   "source": [
    "im = ps.generators.blobs([100, 100, 100], blobiness=[1, 2, 3])\n",
    "\n",
    "fig, ax = plt.subplots(figsize=[4, 4]);\n",
    "ax.imshow(im[50, ...])\n",
    "ax.axis(False);"
   ]
  },
  {
   "cell_type": "markdown",
   "id": "scenic-midnight",
   "metadata": {},
   "source": [
    "## Demonstrate function"
   ]
  },
  {
   "cell_type": "code",
   "execution_count": 3,
   "id": "fuzzy-decision",
   "metadata": {
    "execution": {
     "iopub.execute_input": "2022-09-09T11:06:18.979455Z",
     "iopub.status.busy": "2022-09-09T11:06:18.979042Z",
     "iopub.status.idle": "2022-09-09T11:06:19.055719Z",
     "shell.execute_reply": "2022-09-09T11:06:19.055250Z"
    }
   },
   "outputs": [
    {
     "data": {
      "image/svg+xml": [
       "<?xml version=\"1.0\" encoding=\"utf-8\" standalone=\"no\"?>\n",
       "<!DOCTYPE svg PUBLIC \"-//W3C//DTD SVG 1.1//EN\"\n",
       "  \"http://www.w3.org/Graphics/SVG/1.1/DTD/svg11.dtd\">\n",
       "<svg xmlns:xlink=\"http://www.w3.org/1999/xlink\" width=\"564.48pt\" height=\"189.12pt\" viewBox=\"0 0 564.48 189.12\" xmlns=\"http://www.w3.org/2000/svg\" version=\"1.1\">\n",
       " <metadata>\n",
       "  <rdf:RDF xmlns:dc=\"http://purl.org/dc/elements/1.1/\" xmlns:cc=\"http://creativecommons.org/ns#\" xmlns:rdf=\"http://www.w3.org/1999/02/22-rdf-syntax-ns#\">\n",
       "   <cc:Work>\n",
       "    <dc:type rdf:resource=\"http://purl.org/dc/dcmitype/StillImage\"/>\n",
       "    <dc:date>2022-09-09T11:06:19.043498</dc:date>\n",
       "    <dc:format>image/svg+xml</dc:format>\n",
       "    <dc:creator>\n",
       "     <cc:Agent>\n",
       "      <dc:title>Matplotlib v3.5.3, https://matplotlib.org/</dc:title>\n",
       "     </cc:Agent>\n",
       "    </dc:creator>\n",
       "   </cc:Work>\n",
       "  </rdf:RDF>\n",
       " </metadata>\n",
       " <defs>\n",
       "  <style type=\"text/css\">*{stroke-linejoin: round; stroke-linecap: butt}</style>\n",
       " </defs>\n",
       " <g id=\"figure_1\">\n",
       "  <g id=\"patch_1\">\n",
       "   <path d=\"M 0 189.12 \n",
       "L 564.48 189.12 \n",
       "L 564.48 0 \n",
       "L 0 0 \n",
       "z\n",
       "\" style=\"fill: #ffffff\"/>\n",
       "  </g>\n",
       "  <g id=\"axes_1\">\n",
       "   <g clip-path=\"url(#p425b09ffca)\">\n",
       "    <image xlink:href=\"data:image/png;base64,\n",
       "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\" id=\"imagea968d810f9\" transform=\"matrix(1.75 0 0 1.75 7.2 6.92)\" style=\"image-rendering:crisp-edges;image-rendering:pixelated\" width=\"100\" height=\"100\"/>\n",
       "   </g>\n",
       "  </g>\n",
       "  <g id=\"axes_2\">\n",
       "   <g clip-path=\"url(#pe33c3ea6ec)\">\n",
       "    <image xlink:href=\"data:image/png;base64,\n",
       "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\" id=\"imagee8be5b9ffa\" transform=\"matrix(1.75 0 0 1.75 194.88 6.92)\" style=\"image-rendering:crisp-edges;image-rendering:pixelated\" width=\"100\" height=\"100\"/>\n",
       "   </g>\n",
       "  </g>\n",
       "  <g id=\"axes_3\">\n",
       "   <g clip-path=\"url(#p20fc53616b)\">\n",
       "    <image xlink:href=\"data:image/png;base64,\n",
       "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\" id=\"image8ed61cc12a\" transform=\"matrix(1.75 0 0 1.75 382.56 6.92)\" style=\"image-rendering:crisp-edges;image-rendering:pixelated\" width=\"100\" height=\"100\"/>\n",
       "   </g>\n",
       "  </g>\n",
       " </g>\n",
       " <defs>\n",
       "  <clipPath id=\"p425b09ffca\">\n",
       "   <rect x=\"7.2\" y=\"7.2\" width=\"174.72\" height=\"174.72\"/>\n",
       "  </clipPath>\n",
       "  <clipPath id=\"pe33c3ea6ec\">\n",
       "   <rect x=\"194.88\" y=\"7.2\" width=\"174.72\" height=\"174.72\"/>\n",
       "  </clipPath>\n",
       "  <clipPath id=\"p20fc53616b\">\n",
       "   <rect x=\"382.56\" y=\"7.2\" width=\"174.72\" height=\"174.72\"/>\n",
       "  </clipPath>\n",
       " </defs>\n",
       "</svg>\n"
      ],
      "text/plain": [
       "<Figure size 800x400 with 3 Axes>"
      ]
     },
     "metadata": {},
     "output_type": "display_data"
    }
   ],
   "source": [
    "im1,im2,im3 = ps.tools.get_planes(im=im, squeeze=True)\n",
    "fig, ax = plt.subplots(1, 3, figsize=[8, 4]);\n",
    "ax[0].axis(False)\n",
    "ax[0].imshow(im1)\n",
    "ax[1].axis(False)\n",
    "ax[1].imshow(im2)\n",
    "ax[2].axis(False)\n",
    "ax[2].imshow(im3);"
   ]
  }
 ],
 "metadata": {
  "kernelspec": {
   "display_name": "Python 3 (ipykernel)",
   "language": "python",
   "name": "python3"
  },
  "language_info": {
   "codemirror_mode": {
    "name": "ipython",
    "version": 3
   },
   "file_extension": ".py",
   "mimetype": "text/x-python",
   "name": "python",
   "nbconvert_exporter": "python",
   "pygments_lexer": "ipython3",
   "version": "3.8.13"
  }
 },
 "nbformat": 4,
 "nbformat_minor": 5
}

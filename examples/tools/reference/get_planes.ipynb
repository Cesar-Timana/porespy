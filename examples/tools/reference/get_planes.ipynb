{
 "cells": [
  {
   "cell_type": "markdown",
   "id": "august-ranking",
   "metadata": {},
   "source": [
    "# `get_planes`"
   ]
  },
  {
   "cell_type": "markdown",
   "id": "otherwise-blame",
   "metadata": {},
   "source": [
    "## Import packages"
   ]
  },
  {
   "cell_type": "code",
   "execution_count": 1,
   "id": "chicken-dodge",
   "metadata": {
    "execution": {
     "iopub.execute_input": "2022-08-23T00:42:03.787377Z",
     "iopub.status.busy": "2022-08-23T00:42:03.787096Z",
     "iopub.status.idle": "2022-08-23T00:42:05.590979Z",
     "shell.execute_reply": "2022-08-23T00:42:05.590279Z"
    }
   },
   "outputs": [],
   "source": [
    "import numpy as np\n",
    "import porespy as ps\n",
    "import scipy.ndimage as spim\n",
    "import matplotlib.pyplot as plt\n",
    "import skimage\n",
    "\n",
    "ps.visualization.set_mpl_style()"
   ]
  },
  {
   "cell_type": "markdown",
   "id": "sized-wonder",
   "metadata": {},
   "source": [
    "## Generate image for testing"
   ]
  },
  {
   "cell_type": "code",
   "execution_count": 2,
   "id": "finnish-canvas",
   "metadata": {
    "execution": {
     "iopub.execute_input": "2022-08-23T00:42:05.594496Z",
     "iopub.status.busy": "2022-08-23T00:42:05.593990Z",
     "iopub.status.idle": "2022-08-23T00:42:05.710832Z",
     "shell.execute_reply": "2022-08-23T00:42:05.710335Z"
    }
   },
   "outputs": [
    {
     "data": {
      "image/svg+xml": [
       "<?xml version=\"1.0\" encoding=\"utf-8\" standalone=\"no\"?>\n",
       "<!DOCTYPE svg PUBLIC \"-//W3C//DTD SVG 1.1//EN\"\n",
       "  \"http://www.w3.org/Graphics/SVG/1.1/DTD/svg11.dtd\">\n",
       "<svg xmlns:xlink=\"http://www.w3.org/1999/xlink\" width=\"276.48pt\" height=\"276.48pt\" viewBox=\"0 0 276.48 276.48\" xmlns=\"http://www.w3.org/2000/svg\" version=\"1.1\">\n",
       " <metadata>\n",
       "  <rdf:RDF xmlns:dc=\"http://purl.org/dc/elements/1.1/\" xmlns:cc=\"http://creativecommons.org/ns#\" xmlns:rdf=\"http://www.w3.org/1999/02/22-rdf-syntax-ns#\">\n",
       "   <cc:Work>\n",
       "    <dc:type rdf:resource=\"http://purl.org/dc/dcmitype/StillImage\"/>\n",
       "    <dc:date>2022-08-23T00:42:05.700685</dc:date>\n",
       "    <dc:format>image/svg+xml</dc:format>\n",
       "    <dc:creator>\n",
       "     <cc:Agent>\n",
       "      <dc:title>Matplotlib v3.5.3, https://matplotlib.org/</dc:title>\n",
       "     </cc:Agent>\n",
       "    </dc:creator>\n",
       "   </cc:Work>\n",
       "  </rdf:RDF>\n",
       " </metadata>\n",
       " <defs>\n",
       "  <style type=\"text/css\">*{stroke-linejoin: round; stroke-linecap: butt}</style>\n",
       " </defs>\n",
       " <g id=\"figure_1\">\n",
       "  <g id=\"patch_1\">\n",
       "   <path d=\"M 0 276.48 \n",
       "L 276.48 276.48 \n",
       "L 276.48 0 \n",
       "L 0 0 \n",
       "z\n",
       "\" style=\"fill: #ffffff\"/>\n",
       "  </g>\n",
       "  <g id=\"axes_1\">\n",
       "   <g clip-path=\"url(#p1c25120b3b)\">\n",
       "    <image xlink:href=\"data:image/png;base64,\n",
       "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\" id=\"imagecde3026bd2\" transform=\"matrix(2.63 0 0 2.63 7.2 6.28)\" style=\"image-rendering:crisp-edges;image-rendering:pixelated\" width=\"100\" height=\"100\"/>\n",
       "   </g>\n",
       "  </g>\n",
       " </g>\n",
       " <defs>\n",
       "  <clipPath id=\"p1c25120b3b\">\n",
       "   <rect x=\"7.2\" y=\"7.2\" width=\"262.08\" height=\"262.08\"/>\n",
       "  </clipPath>\n",
       " </defs>\n",
       "</svg>\n"
      ],
      "text/plain": [
       "<Figure size 400x400 with 1 Axes>"
      ]
     },
     "metadata": {},
     "output_type": "display_data"
    }
   ],
   "source": [
    "im = ps.generators.blobs([100, 100, 100], blobiness=[1, 2, 3])\n",
    "\n",
    "fig, ax = plt.subplots(figsize=[4, 4]);\n",
    "ax.imshow(im[50, ...])\n",
    "ax.axis(False);"
   ]
  },
  {
   "cell_type": "markdown",
   "id": "scenic-midnight",
   "metadata": {},
   "source": [
    "## Demonstrate function"
   ]
  },
  {
   "cell_type": "code",
   "execution_count": 3,
   "id": "fuzzy-decision",
   "metadata": {
    "execution": {
     "iopub.execute_input": "2022-08-23T00:42:05.713784Z",
     "iopub.status.busy": "2022-08-23T00:42:05.713341Z",
     "iopub.status.idle": "2022-08-23T00:42:05.791587Z",
     "shell.execute_reply": "2022-08-23T00:42:05.791070Z"
    }
   },
   "outputs": [
    {
     "data": {
      "image/svg+xml": [
       "<?xml version=\"1.0\" encoding=\"utf-8\" standalone=\"no\"?>\n",
       "<!DOCTYPE svg PUBLIC \"-//W3C//DTD SVG 1.1//EN\"\n",
       "  \"http://www.w3.org/Graphics/SVG/1.1/DTD/svg11.dtd\">\n",
       "<svg xmlns:xlink=\"http://www.w3.org/1999/xlink\" width=\"564.48pt\" height=\"189.12pt\" viewBox=\"0 0 564.48 189.12\" xmlns=\"http://www.w3.org/2000/svg\" version=\"1.1\">\n",
       " <metadata>\n",
       "  <rdf:RDF xmlns:dc=\"http://purl.org/dc/elements/1.1/\" xmlns:cc=\"http://creativecommons.org/ns#\" xmlns:rdf=\"http://www.w3.org/1999/02/22-rdf-syntax-ns#\">\n",
       "   <cc:Work>\n",
       "    <dc:type rdf:resource=\"http://purl.org/dc/dcmitype/StillImage\"/>\n",
       "    <dc:date>2022-08-23T00:42:05.779687</dc:date>\n",
       "    <dc:format>image/svg+xml</dc:format>\n",
       "    <dc:creator>\n",
       "     <cc:Agent>\n",
       "      <dc:title>Matplotlib v3.5.3, https://matplotlib.org/</dc:title>\n",
       "     </cc:Agent>\n",
       "    </dc:creator>\n",
       "   </cc:Work>\n",
       "  </rdf:RDF>\n",
       " </metadata>\n",
       " <defs>\n",
       "  <style type=\"text/css\">*{stroke-linejoin: round; stroke-linecap: butt}</style>\n",
       " </defs>\n",
       " <g id=\"figure_1\">\n",
       "  <g id=\"patch_1\">\n",
       "   <path d=\"M 0 189.12 \n",
       "L 564.48 189.12 \n",
       "L 564.48 0 \n",
       "L 0 0 \n",
       "z\n",
       "\" style=\"fill: #ffffff\"/>\n",
       "  </g>\n",
       "  <g id=\"axes_1\">\n",
       "   <g clip-path=\"url(#p8590f81cc7)\">\n",
       "    <image xlink:href=\"data:image/png;base64,\n",
       "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\" id=\"imaged65bbe7153\" transform=\"matrix(1.75 0 0 1.75 7.2 6.92)\" style=\"image-rendering:crisp-edges;image-rendering:pixelated\" width=\"100\" height=\"100\"/>\n",
       "   </g>\n",
       "  </g>\n",
       "  <g id=\"axes_2\">\n",
       "   <g clip-path=\"url(#p0137ba1c43)\">\n",
       "    <image xlink:href=\"data:image/png;base64,\n",
       "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\" id=\"image95252cb241\" transform=\"matrix(1.75 0 0 1.75 194.88 6.92)\" style=\"image-rendering:crisp-edges;image-rendering:pixelated\" width=\"100\" height=\"100\"/>\n",
       "   </g>\n",
       "  </g>\n",
       "  <g id=\"axes_3\">\n",
       "   <g clip-path=\"url(#pef6fc02995)\">\n",
       "    <image xlink:href=\"data:image/png;base64,\n",
       "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\" id=\"imagea3365f5cf2\" transform=\"matrix(1.75 0 0 1.75 382.56 6.92)\" style=\"image-rendering:crisp-edges;image-rendering:pixelated\" width=\"100\" height=\"100\"/>\n",
       "   </g>\n",
       "  </g>\n",
       " </g>\n",
       " <defs>\n",
       "  <clipPath id=\"p8590f81cc7\">\n",
       "   <rect x=\"7.2\" y=\"7.2\" width=\"174.72\" height=\"174.72\"/>\n",
       "  </clipPath>\n",
       "  <clipPath id=\"p0137ba1c43\">\n",
       "   <rect x=\"194.88\" y=\"7.2\" width=\"174.72\" height=\"174.72\"/>\n",
       "  </clipPath>\n",
       "  <clipPath id=\"pef6fc02995\">\n",
       "   <rect x=\"382.56\" y=\"7.2\" width=\"174.72\" height=\"174.72\"/>\n",
       "  </clipPath>\n",
       " </defs>\n",
       "</svg>\n"
      ],
      "text/plain": [
       "<Figure size 800x400 with 3 Axes>"
      ]
     },
     "metadata": {},
     "output_type": "display_data"
    }
   ],
   "source": [
    "im1,im2,im3 = ps.tools.get_planes(im=im, squeeze=True)\n",
    "fig, ax = plt.subplots(1, 3, figsize=[8, 4]);\n",
    "ax[0].axis(False)\n",
    "ax[0].imshow(im1)\n",
    "ax[1].axis(False)\n",
    "ax[1].imshow(im2)\n",
    "ax[2].axis(False)\n",
    "ax[2].imshow(im3);"
   ]
  }
 ],
 "metadata": {
  "kernelspec": {
   "display_name": "Python 3 (ipykernel)",
   "language": "python",
   "name": "python3"
  },
  "language_info": {
   "codemirror_mode": {
    "name": "ipython",
    "version": 3
   },
   "file_extension": ".py",
   "mimetype": "text/x-python",
   "name": "python",
   "nbconvert_exporter": "python",
   "pygments_lexer": "ipython3",
   "version": "3.8.13"
  }
 },
 "nbformat": 4,
 "nbformat_minor": 5
}

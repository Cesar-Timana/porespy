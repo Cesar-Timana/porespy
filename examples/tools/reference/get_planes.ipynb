{
 "cells": [
  {
   "cell_type": "markdown",
   "id": "august-ranking",
   "metadata": {},
   "source": [
    "# `get_planes`"
   ]
  },
  {
   "cell_type": "markdown",
   "id": "otherwise-blame",
   "metadata": {},
   "source": [
    "## Import packages"
   ]
  },
  {
   "cell_type": "code",
   "execution_count": 1,
   "id": "chicken-dodge",
   "metadata": {
    "execution": {
     "iopub.execute_input": "2022-08-12T21:54:28.684909Z",
     "iopub.status.busy": "2022-08-12T21:54:28.684611Z",
     "iopub.status.idle": "2022-08-12T21:54:30.552808Z",
     "shell.execute_reply": "2022-08-12T21:54:30.551308Z"
    }
   },
   "outputs": [],
   "source": [
    "import numpy as np\n",
    "import porespy as ps\n",
    "import scipy.ndimage as spim\n",
    "import matplotlib.pyplot as plt\n",
    "import skimage\n",
    "\n",
    "ps.visualization.set_mpl_style()"
   ]
  },
  {
   "cell_type": "markdown",
   "id": "sized-wonder",
   "metadata": {},
   "source": [
    "## Generate image for testing"
   ]
  },
  {
   "cell_type": "code",
   "execution_count": 2,
   "id": "finnish-canvas",
   "metadata": {
    "execution": {
     "iopub.execute_input": "2022-08-12T21:54:30.557024Z",
     "iopub.status.busy": "2022-08-12T21:54:30.556560Z",
     "iopub.status.idle": "2022-08-12T21:54:30.680602Z",
     "shell.execute_reply": "2022-08-12T21:54:30.680038Z"
    }
   },
   "outputs": [
    {
     "data": {
      "image/svg+xml": [
       "<?xml version=\"1.0\" encoding=\"utf-8\" standalone=\"no\"?>\n",
       "<!DOCTYPE svg PUBLIC \"-//W3C//DTD SVG 1.1//EN\"\n",
       "  \"http://www.w3.org/Graphics/SVG/1.1/DTD/svg11.dtd\">\n",
       "<svg xmlns:xlink=\"http://www.w3.org/1999/xlink\" width=\"280.8pt\" height=\"280.8pt\" viewBox=\"0 0 280.8 280.8\" xmlns=\"http://www.w3.org/2000/svg\" version=\"1.1\">\n",
       " <metadata>\n",
       "  <rdf:RDF xmlns:dc=\"http://purl.org/dc/elements/1.1/\" xmlns:cc=\"http://creativecommons.org/ns#\" xmlns:rdf=\"http://www.w3.org/1999/02/22-rdf-syntax-ns#\">\n",
       "   <cc:Work>\n",
       "    <dc:type rdf:resource=\"http://purl.org/dc/dcmitype/StillImage\"/>\n",
       "    <dc:date>2022-08-12T21:54:30.670149</dc:date>\n",
       "    <dc:format>image/svg+xml</dc:format>\n",
       "    <dc:creator>\n",
       "     <cc:Agent>\n",
       "      <dc:title>Matplotlib v3.5.3, https://matplotlib.org/</dc:title>\n",
       "     </cc:Agent>\n",
       "    </dc:creator>\n",
       "   </cc:Work>\n",
       "  </rdf:RDF>\n",
       " </metadata>\n",
       " <defs>\n",
       "  <style type=\"text/css\">*{stroke-linejoin: round; stroke-linecap: butt}</style>\n",
       " </defs>\n",
       " <g id=\"figure_1\">\n",
       "  <g id=\"patch_1\">\n",
       "   <path d=\"M 0 280.8 \n",
       "L 280.8 280.8 \n",
       "L 280.8 0 \n",
       "L 0 0 \n",
       "L 0 280.8 \n",
       "z\n",
       "\" style=\"fill: none\"/>\n",
       "  </g>\n",
       "  <g id=\"axes_1\">\n",
       "   <g clip-path=\"url(#p131b0e7279)\">\n",
       "    <image xlink:href=\"data:image/png;base64,\n",
       "iVBORw0KGgoAAAANSUhEUgAAAGQAAABkCAYAAABw4pVUAAAJg0lEQVR4nM1d23EcOQwcbW0U+nYACuKqlMAlqywUhRyFS/dFHRdqAN0AZuSuctmaIQEMCeLRs1o//fn96/Nw8Pr8chzHcbx9vMPr6J43bkc0Z82LdE7LRHMjfWs8GrPf82xa9+z8t4/347YPWn8ygyLsMrJFsvN2wyzePt6//qB7qo7supWpPEs2fr9nx90OAGSg3bBMqTcm8saKE6gL5cE+2y57/3t5tjeWfRa0jq/PL3hDkKLsOjKSQfUkIhtUfRWHYuRGDr3LRaHv5gmIjJnySgR0EpH+ajhEstT5NuRkYVRxulukLDKQnWfHZZ5U0R3pVJ5PKVAip1BOlZX7ELJszPSM8YR7UD2a0cFsClrETohkKr1ok5hT87Uh02GomlMied41Vpc6XgFTdnsJf9+sOxI2bayH3WOR91ZPptpX7GOmTjIbwnc89CEsvLCWjc+MOtsJqpuUyejKtPi2IVNeOo29MTy7ypuWo9h7s6GCiYVV2NOlyMqqnDM3SUGl8nroQzI+ZhqdhfNs3e09y2bFbm/9GBluDmHq9T0hn+GhXtxnmkdP3lUFTHVNbmtyFWw/oLK1lj/q2hHpYmSy8tGz2jVAuXDdp6os1qsqjOhuWLX7ZQuPSqK9mqOjy94rSr5MFjpFTJxWHch6c2anevoju76qLIVzUikIz/NROMvCRNQHMZuhnBRmIZGToOdlycaHExINtB7jhbFqPvI8je3EVb0T5XtVt6e/1KkjId3NsPLQz5W8NV1BqX2TUhGu50g7dUZIdr1KUbCNn1IIRCfbq3wUKHOQzgdyMSLF1AWxnq0Sd1E+mOp5riJREbxnuGUVRaXB8R70jE664sEZ2IqSlaWs371j1MKE504lxil4lWRUjVoax8pD1y3g+xBPOaJMWOwPWOF4WKAFyt5B7HOnKSBV5t3LH1Nlodfn7PCMzkrtLhh5yprsz5ERnl4v8/Wpk6nNiIzI5liwx1yRGd3PNujs+8eRhKz9Htu02ftnsMALTHV4JQ+FZEShGs359j4kasCUygLJ8yqOLFypuarjBAqFpNiU6Vyyww/KqVC70kiOorOi40x01vPhw9YLyMvO8g4k+8rFrDpPheJhIkRKLirsqKeInXPmpk/CPpetKrPnjiih+36BWZBqkoyMizr7KL8oejxEz2+LhsmNd6kTO8iyt90HrBQBnRisnGYl2bL50drAYtnyjTqpkoEMUId/ZWlsdSPbWHnMXNTfZc9aeh+yx0gm+aPxbKiseGTWZFpP72wGC9uLoNP29vHuJ/Uo8XSNOwM/QaVPMAhWBix7J3HFew2Eieep5tCoxM1wP46e8WxjxjICmRx7DR175IGI+c1iOtOjqC0B6ld2O+6Ic7GDFI9Wkl5FFhrD0uv7z5N5QzkJtoR2Q5Y3uUuDMPOYHMUuoJKsbbHhbV4VSgm/xt3tBQ9nxPvMu1n9UQhTQsoEh9YFbAwZRLV3t7mL5KtjvPHdppFB5dS579Q9IdXk3NGBMNVHTDWmihzrGPvP8NPvDEGGjEBxvxMKo1OYYZp7ipDZwzrP6/NL/Fu4WWKNOnYEdoHU06Ii65onN1KpAI+j+IKqSjiyrOlZ9liysCOLmcduxr4m8KOk1aTcCTEeKqcqK6mnUQnV3v2HHMIm7A69rNLxDGw3PgW0HlaX8uqAse2eLVRUPaBufgrdnBQxvut+lCN/gqw8DvGrNbyONovH3d4mkl2VwzLYWc6x871TatfCsz/sQ9ju+CpMNZsd25WcVilO2r+wE0HNQVFoPKNg8OCFO68cZ6o3K8vDqRuygIzsdvzZBkXNbtac2fGe3uwZKok/pU4QPR81bmrFZuepyMKqV5REjeDVZfOO0jc5LFRLPLU8rSyKdaQO4VltIiOnDPsQO8DrIjPsp4MJCxkmGF/7XNnzsCywWpaz69H6bG+nEatUINWG0ZM3jY6N62/4bUA/BVStTOWeMx2nItvLa1/USVZyMvGPoQ4iPQyyMIDCUjVEodI2yicee6ycVPitpGdhinPqzGUSPLqvsg5VfKuyPA9kqqaJcjEqQdF1xvu88KfamLG6aNPUlHBXjFLGZuSeMm9dR5ulVGxn9DqRbeyc/TlK35dVAVNOqnW9J7fbd3gnXWGDvdOT/Ux/G5CndFeu9ASevmrpWFn86pyMul+ohC7qhKCFVMm0v6m83qE60Q6meos4NQT6w9bKBnhzVaDQkZ2qCYZgGgxDsPDtBRUbfqoVirexzKn7qVJZRYcaCkMW8tB9p6skIWq4PL1TUE8OW2CgcR375fchFSqhSi2cwbF5EaBapkfj1GLj7eP9/19H8ASifyuIKg0m7kfysvtMJcQg62H2UFupEPc56Qsqu6Bqc7fmsGEJee5Z8T8rS5mwFDWyHqJ7dA7xDFPm/02YCKveJqqc3S6n1IdEmHhQFd3OPMJZ700sUuokK1PXNYU2n3q4SC/LhXU3L+qHqs/6+vzy/VtJI4VZPGeMWPlE2UgVu51XNYNTzkb9wk6GKEFXS941P2NSKwt+VW7LXl8gp7kx7zmq93fDqgvHlJvsfab3sPqrUHTtesY/KKdWGAseGbdkVpnoK2BPbIdwhW8MvcWs0AlMcxltxlmI+g7vvopKcn9ge73JTMdbJdQUgydJT7YxRXO8he4w4eELKuQp0aacHZtZCsRbMNbR1ryIkUaIOnq1h3P/d4RK3M7eS1imuCK7upndam9HtDaMvmj+05/fvz4rDK5V4HlxFhomK5lqRYZsV0prVm/mrMchVFmMVyAjIqj5Y0IWc8q8gqZbdDDrclvewCpTa/8rMFGdRXwYW13af6O5GQt86ScXrS6Wk7L/jnodlmjs5DLP3o4zrrn0d51UlZ35PgPpin6eQub1Nj8q6+c2hhHUHDHVZEVQC5MsdKBrHbbAVole1fj1+yEVAxWDlMax0zxasPmxWpiwyIjGhad/nv793C90whMzt0MWZnKUhGwXiK0gGZ0RsueX/9u8yOMqpyY61kh3ZpsyvoszchT1xQGe53USvf0ZLSbj8V7RwGze5IJmJ5Z1Dont9cayBk6jkmTRiVz/ZuYoULmtt4/3xxPCLKLqzR0G9Kzx3rzMXvvsShXJFk0jL6gUngjdvyLWZz1Kh6lAG8NydVYe3BB0tDOjIkUTZetkWdoJQR7DwLLk2VrApB4lyS5xyMiplJq7XDaksvoyMJUpc0Jh2ZsBLeiZ5abagf+tpW4Wmr+4rKnyb5ImWWAYgunNj0Ij2/R21uA//F+1gj9aRJMAAAAASUVORK5CYII=\" id=\"image1cf4f1ad6a\" transform=\"matrix(2.67 0 0 2.67 7.2 6.6)\" style=\"image-rendering:crisp-edges;image-rendering:pixelated\" width=\"100\" height=\"100\"/>\n",
       "   </g>\n",
       "  </g>\n",
       " </g>\n",
       " <defs>\n",
       "  <clipPath id=\"p131b0e7279\">\n",
       "   <rect x=\"7.2\" y=\"7.2\" width=\"266.4\" height=\"266.4\"/>\n",
       "  </clipPath>\n",
       " </defs>\n",
       "</svg>\n"
      ],
      "text/plain": [
       "<Figure size 288x288 with 1 Axes>"
      ]
     },
     "metadata": {
      "needs_background": "light"
     },
     "output_type": "display_data"
    }
   ],
   "source": [
    "im = ps.generators.blobs([100, 100, 100], blobiness=[1, 2, 3])\n",
    "\n",
    "fig, ax = plt.subplots(figsize=[4, 4]);\n",
    "ax.imshow(im[50, ...])\n",
    "ax.axis(False);"
   ]
  },
  {
   "cell_type": "markdown",
   "id": "scenic-midnight",
   "metadata": {},
   "source": [
    "## Demonstrate function"
   ]
  },
  {
   "cell_type": "code",
   "execution_count": 3,
   "id": "fuzzy-decision",
   "metadata": {
    "execution": {
     "iopub.execute_input": "2022-08-12T21:54:30.683847Z",
     "iopub.status.busy": "2022-08-12T21:54:30.683488Z",
     "iopub.status.idle": "2022-08-12T21:54:30.783018Z",
     "shell.execute_reply": "2022-08-12T21:54:30.782480Z"
    }
   },
   "outputs": [
    {
     "data": {
      "image/svg+xml": [
       "<?xml version=\"1.0\" encoding=\"utf-8\" standalone=\"no\"?>\n",
       "<!DOCTYPE svg PUBLIC \"-//W3C//DTD SVG 1.1//EN\"\n",
       "  \"http://www.w3.org/Graphics/SVG/1.1/DTD/svg11.dtd\">\n",
       "<svg xmlns:xlink=\"http://www.w3.org/1999/xlink\" width=\"568.8pt\" height=\"192pt\" viewBox=\"0 0 568.8 192\" xmlns=\"http://www.w3.org/2000/svg\" version=\"1.1\">\n",
       " <metadata>\n",
       "  <rdf:RDF xmlns:dc=\"http://purl.org/dc/elements/1.1/\" xmlns:cc=\"http://creativecommons.org/ns#\" xmlns:rdf=\"http://www.w3.org/1999/02/22-rdf-syntax-ns#\">\n",
       "   <cc:Work>\n",
       "    <dc:type rdf:resource=\"http://purl.org/dc/dcmitype/StillImage\"/>\n",
       "    <dc:date>2022-08-12T21:54:30.771976</dc:date>\n",
       "    <dc:format>image/svg+xml</dc:format>\n",
       "    <dc:creator>\n",
       "     <cc:Agent>\n",
       "      <dc:title>Matplotlib v3.5.3, https://matplotlib.org/</dc:title>\n",
       "     </cc:Agent>\n",
       "    </dc:creator>\n",
       "   </cc:Work>\n",
       "  </rdf:RDF>\n",
       " </metadata>\n",
       " <defs>\n",
       "  <style type=\"text/css\">*{stroke-linejoin: round; stroke-linecap: butt}</style>\n",
       " </defs>\n",
       " <g id=\"figure_1\">\n",
       "  <g id=\"patch_1\">\n",
       "   <path d=\"M 0 192 \n",
       "L 568.8 192 \n",
       "L 568.8 0 \n",
       "L 0 0 \n",
       "L 0 192 \n",
       "z\n",
       "\" style=\"fill: none\"/>\n",
       "  </g>\n",
       "  <g id=\"axes_1\">\n",
       "   <g clip-path=\"url(#pa3208188ae)\">\n",
       "    <image xlink:href=\"data:image/png;base64,\n",
       "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\" id=\"imagef07e170480\" transform=\"matrix(1.78 0 0 1.78 7.2 6.8)\" style=\"image-rendering:crisp-edges;image-rendering:pixelated\" width=\"100\" height=\"100\"/>\n",
       "   </g>\n",
       "  </g>\n",
       "  <g id=\"axes_2\">\n",
       "   <g clip-path=\"url(#p8aa87de3cf)\">\n",
       "    <image xlink:href=\"data:image/png;base64,\n",
       "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\" id=\"imagee6ce43acc1\" transform=\"matrix(1.78 0 0 1.78 195.6 6.8)\" style=\"image-rendering:crisp-edges;image-rendering:pixelated\" width=\"100\" height=\"100\"/>\n",
       "   </g>\n",
       "  </g>\n",
       "  <g id=\"axes_3\">\n",
       "   <g clip-path=\"url(#p90d8428b53)\">\n",
       "    <image xlink:href=\"data:image/png;base64,\n",
       "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\" id=\"image755f385093\" transform=\"matrix(1.78 0 0 1.78 384 6.8)\" style=\"image-rendering:crisp-edges;image-rendering:pixelated\" width=\"100\" height=\"100\"/>\n",
       "   </g>\n",
       "  </g>\n",
       " </g>\n",
       " <defs>\n",
       "  <clipPath id=\"pa3208188ae\">\n",
       "   <rect x=\"7.2\" y=\"7.2\" width=\"177.6\" height=\"177.6\"/>\n",
       "  </clipPath>\n",
       "  <clipPath id=\"p8aa87de3cf\">\n",
       "   <rect x=\"195.6\" y=\"7.2\" width=\"177.6\" height=\"177.6\"/>\n",
       "  </clipPath>\n",
       "  <clipPath id=\"p90d8428b53\">\n",
       "   <rect x=\"384\" y=\"7.2\" width=\"177.6\" height=\"177.6\"/>\n",
       "  </clipPath>\n",
       " </defs>\n",
       "</svg>\n"
      ],
      "text/plain": [
       "<Figure size 576x288 with 3 Axes>"
      ]
     },
     "metadata": {
      "needs_background": "light"
     },
     "output_type": "display_data"
    }
   ],
   "source": [
    "im1,im2,im3 = ps.tools.get_planes(im=im, squeeze=True)\n",
    "fig, ax = plt.subplots(1, 3, figsize=[8, 4]);\n",
    "ax[0].axis(False)\n",
    "ax[0].imshow(im1)\n",
    "ax[1].axis(False)\n",
    "ax[1].imshow(im2)\n",
    "ax[2].axis(False)\n",
    "ax[2].imshow(im3);"
   ]
  }
 ],
 "metadata": {
  "kernelspec": {
   "display_name": "Python 3 (ipykernel)",
   "language": "python",
   "name": "python3"
  },
  "language_info": {
   "codemirror_mode": {
    "name": "ipython",
    "version": 3
   },
   "file_extension": ".py",
   "mimetype": "text/x-python",
   "name": "python",
   "nbconvert_exporter": "python",
   "pygments_lexer": "ipython3",
   "version": "3.8.13"
  }
 },
 "nbformat": 4,
 "nbformat_minor": 5
}

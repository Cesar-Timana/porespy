{
 "cells": [
  {
   "cell_type": "markdown",
   "id": "4bd55bf8",
   "metadata": {},
   "source": [
    "# `overlay`"
   ]
  },
  {
   "cell_type": "markdown",
   "id": "a71579c9",
   "metadata": {},
   "source": [
    "## Import packages"
   ]
  },
  {
   "cell_type": "code",
   "execution_count": 1,
   "id": "2540ba84",
   "metadata": {
    "execution": {
     "iopub.execute_input": "2022-08-23T00:45:27.423778Z",
     "iopub.status.busy": "2022-08-23T00:45:27.423529Z",
     "iopub.status.idle": "2022-08-23T00:45:29.220677Z",
     "shell.execute_reply": "2022-08-23T00:45:29.219991Z"
    }
   },
   "outputs": [],
   "source": [
    "import numpy as np\n",
    "import porespy as ps\n",
    "import scipy.ndimage as spim\n",
    "import matplotlib.pyplot as plt\n",
    "import skimage\n",
    "ps.visualization.set_mpl_style()"
   ]
  },
  {
   "cell_type": "markdown",
   "id": "24f1086e",
   "metadata": {},
   "source": [
    "## Create image and variables"
   ]
  },
  {
   "cell_type": "code",
   "execution_count": 2,
   "id": "df980fdd",
   "metadata": {
    "execution": {
     "iopub.execute_input": "2022-08-23T00:45:29.225515Z",
     "iopub.status.busy": "2022-08-23T00:45:29.224065Z",
     "iopub.status.idle": "2022-08-23T00:45:30.562747Z",
     "shell.execute_reply": "2022-08-23T00:45:30.562120Z"
    }
   },
   "outputs": [
    {
     "name": "stderr",
     "output_type": "stream",
     "text": [
      "/tmp/ipykernel_10114/2366592848.py:3: DeprecationWarning: Call to deprecated function (or staticmethod) RSA. (This function has been renamed to rsa (lowercase to meet pep8)\n",
      "  im1 = ps.generators.RSA(im1, r=25, volume_fraction=0.5)\n"
     ]
    },
    {
     "name": "stderr",
     "output_type": "stream",
     "text": [
      "/tmp/ipykernel_10114/2366592848.py:4: DeprecationWarning: Call to deprecated function (or staticmethod) RSA. (This function has been renamed to rsa (lowercase to meet pep8)\n",
      "  im2 = ps.generators.RSA(im2, r=5, volume_fraction=0.5)\n"
     ]
    },
    {
     "data": {
      "image/svg+xml": [
       "<?xml version=\"1.0\" encoding=\"utf-8\" standalone=\"no\"?>\n",
       "<!DOCTYPE svg PUBLIC \"-//W3C//DTD SVG 1.1//EN\"\n",
       "  \"http://www.w3.org/Graphics/SVG/1.1/DTD/svg11.dtd\">\n",
       "<svg xmlns:xlink=\"http://www.w3.org/1999/xlink\" width=\"276.48pt\" height=\"276.48pt\" viewBox=\"0 0 276.48 276.48\" xmlns=\"http://www.w3.org/2000/svg\" version=\"1.1\">\n",
       " <metadata>\n",
       "  <rdf:RDF xmlns:dc=\"http://purl.org/dc/elements/1.1/\" xmlns:cc=\"http://creativecommons.org/ns#\" xmlns:rdf=\"http://www.w3.org/1999/02/22-rdf-syntax-ns#\">\n",
       "   <cc:Work>\n",
       "    <dc:type rdf:resource=\"http://purl.org/dc/dcmitype/StillImage\"/>\n",
       "    <dc:date>2022-08-23T00:45:30.509081</dc:date>\n",
       "    <dc:format>image/svg+xml</dc:format>\n",
       "    <dc:creator>\n",
       "     <cc:Agent>\n",
       "      <dc:title>Matplotlib v3.5.3, https://matplotlib.org/</dc:title>\n",
       "     </cc:Agent>\n",
       "    </dc:creator>\n",
       "   </cc:Work>\n",
       "  </rdf:RDF>\n",
       " </metadata>\n",
       " <defs>\n",
       "  <style type=\"text/css\">*{stroke-linejoin: round; stroke-linecap: butt}</style>\n",
       " </defs>\n",
       " <g id=\"figure_1\">\n",
       "  <g id=\"patch_1\">\n",
       "   <path d=\"M 0 276.48 \n",
       "L 276.48 276.48 \n",
       "L 276.48 0 \n",
       "L 0 0 \n",
       "z\n",
       "\" style=\"fill: #ffffff\"/>\n",
       "  </g>\n",
       "  <g id=\"axes_1\">\n",
       "   <g clip-path=\"url(#p19a0c2295a)\">\n",
       "    <image xlink:href=\"data:image/png;base64,\n",
       "iVBORw0KGgoAAAANSUhEUgAAAGQAAABkCAYAAABw4pVUAAABpklEQVR4nO3cUW7CMBBF0QF1aSyhy2QJ7I3+EAkhFRIzz/Ns3/PblhhfOwlQEQEAAAAAAAAAAAAAAAAAwMRO1QNwczn93v/72e1+lc8XQR7ehXilDHNWPfBIjsRo+f0jlg/SOrmqKEsH+XZSFVGWDuJo2SBZqzt7l/xkPlirlifV4xa0QmmQb1bX9rezhSkJkrnNZwvTNYjy/n2WMN0u6soYFcdR6RKk9ySNHEUepGpyPh0369SWfYqUBqleqdXHbyEL4jIZyrfTFTcQkiAuMTaKKKq7uWXfOnl2dHKVt9bpD+y2O57tmcjqTwwt3styUv3CMvWU5bw7IvzHF8E1xE5akBFWX4T/ONkhZghihiBmCGKGIGYIYoYgZghihiBmCGKGIGYIYiYtSPXnCHu5j5MdYiY1iPvqcx9fBDvETnoQ11XoOq5X7BAzkiBuq9FtPO/IdojLJLiMYy/pKat6MqqP30J+DamalBFjRHS6qPeenFFjRHS8y+o1SSPHiCj6NiDFP6uNHmJT+iQywswSYmPxZPgmBwAAAAAAAAAAAAAAAAAAFvEH39WYaR12V8gAAAAASUVORK5CYII=\" id=\"image384b510215\" transform=\"matrix(2.63 0 0 -2.63 7.2 269.28)\" style=\"image-rendering:crisp-edges;image-rendering:pixelated\" width=\"100\" height=\"100\"/>\n",
       "   </g>\n",
       "  </g>\n",
       " </g>\n",
       " <defs>\n",
       "  <clipPath id=\"p19a0c2295a\">\n",
       "   <rect x=\"7.2\" y=\"7.2\" width=\"262.08\" height=\"262.08\"/>\n",
       "  </clipPath>\n",
       " </defs>\n",
       "</svg>\n"
      ],
      "text/plain": [
       "<Figure size 400x400 with 1 Axes>"
      ]
     },
     "metadata": {},
     "output_type": "display_data"
    },
    {
     "data": {
      "image/svg+xml": [
       "<?xml version=\"1.0\" encoding=\"utf-8\" standalone=\"no\"?>\n",
       "<!DOCTYPE svg PUBLIC \"-//W3C//DTD SVG 1.1//EN\"\n",
       "  \"http://www.w3.org/Graphics/SVG/1.1/DTD/svg11.dtd\">\n",
       "<svg xmlns:xlink=\"http://www.w3.org/1999/xlink\" width=\"276.48pt\" height=\"276.48pt\" viewBox=\"0 0 276.48 276.48\" xmlns=\"http://www.w3.org/2000/svg\" version=\"1.1\">\n",
       " <metadata>\n",
       "  <rdf:RDF xmlns:dc=\"http://purl.org/dc/elements/1.1/\" xmlns:cc=\"http://creativecommons.org/ns#\" xmlns:rdf=\"http://www.w3.org/1999/02/22-rdf-syntax-ns#\">\n",
       "   <cc:Work>\n",
       "    <dc:type rdf:resource=\"http://purl.org/dc/dcmitype/StillImage\"/>\n",
       "    <dc:date>2022-08-23T00:45:30.548983</dc:date>\n",
       "    <dc:format>image/svg+xml</dc:format>\n",
       "    <dc:creator>\n",
       "     <cc:Agent>\n",
       "      <dc:title>Matplotlib v3.5.3, https://matplotlib.org/</dc:title>\n",
       "     </cc:Agent>\n",
       "    </dc:creator>\n",
       "   </cc:Work>\n",
       "  </rdf:RDF>\n",
       " </metadata>\n",
       " <defs>\n",
       "  <style type=\"text/css\">*{stroke-linejoin: round; stroke-linecap: butt}</style>\n",
       " </defs>\n",
       " <g id=\"figure_1\">\n",
       "  <g id=\"patch_1\">\n",
       "   <path d=\"M 0 276.48 \n",
       "L 276.48 276.48 \n",
       "L 276.48 0 \n",
       "L 0 0 \n",
       "z\n",
       "\" style=\"fill: #ffffff\"/>\n",
       "  </g>\n",
       "  <g id=\"axes_1\">\n",
       "   <g clip-path=\"url(#p75f540538c)\">\n",
       "    <image xlink:href=\"data:image/png;base64,\n",
       "iVBORw0KGgoAAAANSUhEUgAAADMAAAAzCAYAAAA6oTAqAAABZklEQVR4nO2aQRLDIAhFo5Oj9Qg9Zo6Qu6WrdGFVQPhIM76l1SCifHSatgm80vsq287rSNrvqj9ww51grV+vv4SsGXzTmmDZ3nOE8zuFiTNR2KkOqP2N4FGRWc6UtLZd2U5tT+32JQcjzsw/ncNpTFkNVGTcEwBXYEf4roZmtSxKmdo46ZxyzwjHOHKlpWRNvYSutaQs0YwKWWhacl5HktxnpOna1ZltaztkkTlTqwPXCPLmyLV328k9o5zJaMZaAzGILCTJyFgyU0TF56G3wtJyxZpmZCKVKVyqzkQrU7g8qgJYzrRAP1hQmEdmpogOpVlPdZfIQzMyEcoUqTyEfasaEeCVzaKynIlKWGdGBFikM6i03LMlmUe10VMwLW2p34M1WL89Q5+aLLdqrxqAvQFwjFt9q/wd4sysm2rY1DzCjzOeFyxrW9XIeJb/lrbcRLBEOlmOHkHODGKrciIIvZytPy8o+ACrFw07socKSQAAAABJRU5ErkJggg==\" id=\"image3d42d7edfb\" transform=\"matrix(5.156863 0 0 -5.156863 7.2 269.28)\" style=\"image-rendering:crisp-edges;image-rendering:pixelated\" width=\"51\" height=\"51\"/>\n",
       "   </g>\n",
       "  </g>\n",
       " </g>\n",
       " <defs>\n",
       "  <clipPath id=\"p75f540538c\">\n",
       "   <rect x=\"7.2\" y=\"7.2\" width=\"262.08\" height=\"262.08\"/>\n",
       "  </clipPath>\n",
       " </defs>\n",
       "</svg>\n"
      ],
      "text/plain": [
       "<Figure size 400x400 with 1 Axes>"
      ]
     },
     "metadata": {},
     "output_type": "display_data"
    }
   ],
   "source": [
    "im1 = np.zeros([100, 100,100])\n",
    "im2 = np.zeros([51, 51,51])\n",
    "im1 = ps.generators.RSA(im1, r=25, volume_fraction=0.5)\n",
    "im2 = ps.generators.RSA(im2, r=5, volume_fraction=0.5)\n",
    "im3 = im1.copy()\n",
    "\n",
    "fig, ax = plt.subplots(figsize=[4, 4]);\n",
    "ps.visualization.imshow(im1);\n",
    "plt.axis(False)\n",
    "fig, ax = plt.subplots(figsize=[4, 4]);\n",
    "ps.visualization.imshow(im2);\n",
    "plt.axis(False);\n",
    "\n",
    "#default values:\n",
    "c = [26,26,26]"
   ]
  },
  {
   "cell_type": "markdown",
   "id": "81a1dc0b",
   "metadata": {},
   "source": [
    "## Apply tool"
   ]
  },
  {
   "cell_type": "code",
   "execution_count": 3,
   "id": "a8f3e5aa",
   "metadata": {
    "execution": {
     "iopub.execute_input": "2022-08-23T00:45:30.565916Z",
     "iopub.status.busy": "2022-08-23T00:45:30.565569Z",
     "iopub.status.idle": "2022-08-23T00:45:30.620410Z",
     "shell.execute_reply": "2022-08-23T00:45:30.619813Z"
    }
   },
   "outputs": [
    {
     "data": {
      "image/svg+xml": [
       "<?xml version=\"1.0\" encoding=\"utf-8\" standalone=\"no\"?>\n",
       "<!DOCTYPE svg PUBLIC \"-//W3C//DTD SVG 1.1//EN\"\n",
       "  \"http://www.w3.org/Graphics/SVG/1.1/DTD/svg11.dtd\">\n",
       "<svg xmlns:xlink=\"http://www.w3.org/1999/xlink\" width=\"276.48pt\" height=\"276.48pt\" viewBox=\"0 0 276.48 276.48\" xmlns=\"http://www.w3.org/2000/svg\" version=\"1.1\">\n",
       " <metadata>\n",
       "  <rdf:RDF xmlns:dc=\"http://purl.org/dc/elements/1.1/\" xmlns:cc=\"http://creativecommons.org/ns#\" xmlns:rdf=\"http://www.w3.org/1999/02/22-rdf-syntax-ns#\">\n",
       "   <cc:Work>\n",
       "    <dc:type rdf:resource=\"http://purl.org/dc/dcmitype/StillImage\"/>\n",
       "    <dc:date>2022-08-23T00:45:30.614205</dc:date>\n",
       "    <dc:format>image/svg+xml</dc:format>\n",
       "    <dc:creator>\n",
       "     <cc:Agent>\n",
       "      <dc:title>Matplotlib v3.5.3, https://matplotlib.org/</dc:title>\n",
       "     </cc:Agent>\n",
       "    </dc:creator>\n",
       "   </cc:Work>\n",
       "  </rdf:RDF>\n",
       " </metadata>\n",
       " <defs>\n",
       "  <style type=\"text/css\">*{stroke-linejoin: round; stroke-linecap: butt}</style>\n",
       " </defs>\n",
       " <g id=\"figure_1\">\n",
       "  <g id=\"patch_1\">\n",
       "   <path d=\"M 0 276.48 \n",
       "L 276.48 276.48 \n",
       "L 276.48 0 \n",
       "L 0 0 \n",
       "z\n",
       "\" style=\"fill: #ffffff\"/>\n",
       "  </g>\n",
       "  <g id=\"axes_1\">\n",
       "   <g clip-path=\"url(#pf6482217b5)\">\n",
       "    <image xlink:href=\"data:image/png;base64,\n",
       "iVBORw0KGgoAAAANSUhEUgAAAGQAAABkCAYAAABw4pVUAAACCUlEQVR4nO3cW26DMBCF4aHq0rKELLNLyN7oS5ASBOY24zk2//cYqcHM8Y1LagYAzRiiD/AYnuP8s9f4F37cVv1kNwDfCEQMgYghEKBkdbfD7ijH4pS1FEbpc/j5zTgoo29d9UWd0VfGLksMgYhZDGRtPmeej7e6qFP8HNWnLEYfmnK5V3JN4YtdlhgCEUMgYggEKGE3NFO6yVlj90ggb0fuNkcGwxpix2/9Rz4quH0gZ4sbFcqtA7la1IhQbh2IotsG4tW7vUdJyksOc2dOqtcbmKmBXOld09/2FozMa0BXv6uXYKoGErl/7yWYr0CiHjbVfOfqMTzHlkPpcpfV8kt34YFkFWfruF6jyHs0hgaS3VOzj39GWCAqxYi8nR6xVoUsfiphfCoVT+nCtMtF/aijxY3cxbl/seLomOwpZPYTw10Xhnd6GS77vDanrCM/sFEeHWb67TNjDZHjFkgLvc9Mv52MEDEEImYzEH5gU9eubS/Fr4cpSwyBiCEQMQQihkDEEIgYAhFDIGLcAmnl4lG9nYwQMa6BqPc+9faZMULkuAei2gtV2zXHCBETEohab1RrT0nYCFEpgko79gqdsrKLkX38M8LXkKyitBiGWaVFvXZxWg3DrOIuq1aRWg7DLOm/AUW8rNZ6EJPUk/AIppcgJhIno/SDGQAAAAAAAAAAAAAAAAAAEOgfx/DOM05Mo1wAAAAASUVORK5CYII=\" id=\"imagebcfafc2924\" transform=\"matrix(2.63 0 0 -2.63 7.2 269.28)\" style=\"image-rendering:crisp-edges;image-rendering:pixelated\" width=\"100\" height=\"100\"/>\n",
       "   </g>\n",
       "  </g>\n",
       " </g>\n",
       " <defs>\n",
       "  <clipPath id=\"pf6482217b5\">\n",
       "   <rect x=\"7.2\" y=\"7.2\" width=\"262.08\" height=\"262.08\"/>\n",
       "  </clipPath>\n",
       " </defs>\n",
       "</svg>\n"
      ],
      "text/plain": [
       "<Figure size 400x400 with 1 Axes>"
      ]
     },
     "metadata": {},
     "output_type": "display_data"
    }
   ],
   "source": [
    "im = ps.tools.overlay(im1=im1,im2=im2, c=c)\n",
    "fig, ax = plt.subplots(figsize=[4, 4]);\n",
    "ps.visualization.imshow(im);\n",
    "plt.axis(False);"
   ]
  },
  {
   "cell_type": "code",
   "execution_count": 4,
   "id": "8e89b639",
   "metadata": {
    "execution": {
     "iopub.execute_input": "2022-08-23T00:45:30.623866Z",
     "iopub.status.busy": "2022-08-23T00:45:30.623368Z",
     "iopub.status.idle": "2022-08-23T00:45:30.664433Z",
     "shell.execute_reply": "2022-08-23T00:45:30.663867Z"
    }
   },
   "outputs": [
    {
     "data": {
      "image/svg+xml": [
       "<?xml version=\"1.0\" encoding=\"utf-8\" standalone=\"no\"?>\n",
       "<!DOCTYPE svg PUBLIC \"-//W3C//DTD SVG 1.1//EN\"\n",
       "  \"http://www.w3.org/Graphics/SVG/1.1/DTD/svg11.dtd\">\n",
       "<svg xmlns:xlink=\"http://www.w3.org/1999/xlink\" width=\"276.48pt\" height=\"276.48pt\" viewBox=\"0 0 276.48 276.48\" xmlns=\"http://www.w3.org/2000/svg\" version=\"1.1\">\n",
       " <metadata>\n",
       "  <rdf:RDF xmlns:dc=\"http://purl.org/dc/elements/1.1/\" xmlns:cc=\"http://creativecommons.org/ns#\" xmlns:rdf=\"http://www.w3.org/1999/02/22-rdf-syntax-ns#\">\n",
       "   <cc:Work>\n",
       "    <dc:type rdf:resource=\"http://purl.org/dc/dcmitype/StillImage\"/>\n",
       "    <dc:date>2022-08-23T00:45:30.658354</dc:date>\n",
       "    <dc:format>image/svg+xml</dc:format>\n",
       "    <dc:creator>\n",
       "     <cc:Agent>\n",
       "      <dc:title>Matplotlib v3.5.3, https://matplotlib.org/</dc:title>\n",
       "     </cc:Agent>\n",
       "    </dc:creator>\n",
       "   </cc:Work>\n",
       "  </rdf:RDF>\n",
       " </metadata>\n",
       " <defs>\n",
       "  <style type=\"text/css\">*{stroke-linejoin: round; stroke-linecap: butt}</style>\n",
       " </defs>\n",
       " <g id=\"figure_1\">\n",
       "  <g id=\"patch_1\">\n",
       "   <path d=\"M 0 276.48 \n",
       "L 276.48 276.48 \n",
       "L 276.48 0 \n",
       "L 0 0 \n",
       "z\n",
       "\" style=\"fill: #ffffff\"/>\n",
       "  </g>\n",
       "  <g id=\"axes_1\">\n",
       "   <g clip-path=\"url(#pb40de880b4)\">\n",
       "    <image xlink:href=\"data:image/png;base64,\n",
       "iVBORw0KGgoAAAANSUhEUgAAAGQAAABkCAYAAABw4pVUAAAB+0lEQVR4nO3c0VHDMBCE4QtDaZRAmZRAb+GFzGQ8mFjyrW4l/98rYCtanazIxhEAAAAAAAAAAAAAAAAAACzsVt0ANx+3z/vez77vX/L+IpBf/wWxpQzmTXXgmbSE0fP7LS4fSG/nqkK5dCBnO1URyqUDcXTZQLJGd3aVvGcerFfPhxqxBK1QGsiZ0fX429WCKQkks8xXC2ZoIMr1+yrBDLuoK8OoOI/KkEBGd9LMocgDqeqcV+fNmtqyp0hpINUjtfr8PWSBuHSGcjtdsYCQBOISxoMiFNVq7rJbJ89aO1e5tE4/sFt1PDvSkdV3DC32spxUf7FMnbKcqyPCv30RXEPspAUyw+iL8G8nFWKGQMywymr015SXuTKjQhrsXX8yr0sEYoZAzBCIGQIxQyAN9lZTmasslr2N1JuPVIgZAjGTFkj1fYSj3NtJhZhJDcR99Lm3L4IKsZMeiOsodG3XFhViRhLILKPRkaxCCKWPdMoilHbya4hDKA5tOGpYQ0c+fjNTAFvDVlmjOmnmMCKK3gakqJbZg3go/RAZwbQGoX6M5+x5LUbVqDc5VP2rQct5Le4YrjLdZGDrxAyBmCEQM5cKZMRjPE7nBQAAAAAAAJSW2tyquj3b4lUbl9ntHfGWhbOOtHGZQFZBIGYIxAyBmFkmkBluk87QRmz8AFvl0u2r7w2kAAAAAElFTkSuQmCC\" id=\"imagea432cc948b\" transform=\"matrix(2.63 0 0 -2.63 7.2 269.28)\" style=\"image-rendering:crisp-edges;image-rendering:pixelated\" width=\"100\" height=\"100\"/>\n",
       "   </g>\n",
       "  </g>\n",
       " </g>\n",
       " <defs>\n",
       "  <clipPath id=\"pb40de880b4\">\n",
       "   <rect x=\"7.2\" y=\"7.2\" width=\"262.08\" height=\"262.08\"/>\n",
       "  </clipPath>\n",
       " </defs>\n",
       "</svg>\n"
      ],
      "text/plain": [
       "<Figure size 400x400 with 1 Axes>"
      ]
     },
     "metadata": {},
     "output_type": "display_data"
    }
   ],
   "source": [
    "im = ps.tools.overlay(im1=im3, im2=im2, c=[74, 74, 74])\n",
    "fig, ax = plt.subplots(figsize=[4, 4]);\n",
    "ps.visualization.imshow(im);\n",
    "plt.axis(False);"
   ]
  }
 ],
 "metadata": {
  "kernelspec": {
   "display_name": "Python 3 (ipykernel)",
   "language": "python",
   "name": "python3"
  },
  "language_info": {
   "codemirror_mode": {
    "name": "ipython",
    "version": 3
   },
   "file_extension": ".py",
   "mimetype": "text/x-python",
   "name": "python",
   "nbconvert_exporter": "python",
   "pygments_lexer": "ipython3",
   "version": "3.8.13"
  }
 },
 "nbformat": 4,
 "nbformat_minor": 5
}

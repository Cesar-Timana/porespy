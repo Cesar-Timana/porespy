{
 "cells": [
  {
   "cell_type": "markdown",
   "id": "4bd55bf8",
   "metadata": {},
   "source": [
    "# `overlay`"
   ]
  },
  {
   "cell_type": "markdown",
   "id": "a71579c9",
   "metadata": {},
   "source": [
    "## Import packages"
   ]
  },
  {
   "cell_type": "code",
   "execution_count": 1,
   "id": "2540ba84",
   "metadata": {
    "execution": {
     "iopub.execute_input": "2022-09-07T23:59:26.206714Z",
     "iopub.status.busy": "2022-09-07T23:59:26.206469Z",
     "iopub.status.idle": "2022-09-07T23:59:27.958066Z",
     "shell.execute_reply": "2022-09-07T23:59:27.957385Z"
    }
   },
   "outputs": [],
   "source": [
    "import numpy as np\n",
    "import porespy as ps\n",
    "import scipy.ndimage as spim\n",
    "import matplotlib.pyplot as plt\n",
    "import skimage\n",
    "ps.visualization.set_mpl_style()"
   ]
  },
  {
   "cell_type": "markdown",
   "id": "24f1086e",
   "metadata": {},
   "source": [
    "## Create image and variables"
   ]
  },
  {
   "cell_type": "code",
   "execution_count": 2,
   "id": "df980fdd",
   "metadata": {
    "execution": {
     "iopub.execute_input": "2022-09-07T23:59:27.961994Z",
     "iopub.status.busy": "2022-09-07T23:59:27.961600Z",
     "iopub.status.idle": "2022-09-07T23:59:29.146337Z",
     "shell.execute_reply": "2022-09-07T23:59:29.145771Z"
    }
   },
   "outputs": [
    {
     "name": "stderr",
     "output_type": "stream",
     "text": [
      "/tmp/ipykernel_10169/2366592848.py:3: DeprecationWarning: Call to deprecated function (or staticmethod) RSA. (This function has been renamed to rsa (lowercase to meet pep8)\n",
      "  im1 = ps.generators.RSA(im1, r=25, volume_fraction=0.5)\n"
     ]
    },
    {
     "name": "stderr",
     "output_type": "stream",
     "text": [
      "/tmp/ipykernel_10169/2366592848.py:4: DeprecationWarning: Call to deprecated function (or staticmethod) RSA. (This function has been renamed to rsa (lowercase to meet pep8)\n",
      "  im2 = ps.generators.RSA(im2, r=5, volume_fraction=0.5)\n"
     ]
    },
    {
     "data": {
      "image/svg+xml": [
       "<?xml version=\"1.0\" encoding=\"utf-8\" standalone=\"no\"?>\n",
       "<!DOCTYPE svg PUBLIC \"-//W3C//DTD SVG 1.1//EN\"\n",
       "  \"http://www.w3.org/Graphics/SVG/1.1/DTD/svg11.dtd\">\n",
       "<svg xmlns:xlink=\"http://www.w3.org/1999/xlink\" width=\"276.48pt\" height=\"276.48pt\" viewBox=\"0 0 276.48 276.48\" xmlns=\"http://www.w3.org/2000/svg\" version=\"1.1\">\n",
       " <metadata>\n",
       "  <rdf:RDF xmlns:dc=\"http://purl.org/dc/elements/1.1/\" xmlns:cc=\"http://creativecommons.org/ns#\" xmlns:rdf=\"http://www.w3.org/1999/02/22-rdf-syntax-ns#\">\n",
       "   <cc:Work>\n",
       "    <dc:type rdf:resource=\"http://purl.org/dc/dcmitype/StillImage\"/>\n",
       "    <dc:date>2022-09-07T23:59:29.111154</dc:date>\n",
       "    <dc:format>image/svg+xml</dc:format>\n",
       "    <dc:creator>\n",
       "     <cc:Agent>\n",
       "      <dc:title>Matplotlib v3.5.3, https://matplotlib.org/</dc:title>\n",
       "     </cc:Agent>\n",
       "    </dc:creator>\n",
       "   </cc:Work>\n",
       "  </rdf:RDF>\n",
       " </metadata>\n",
       " <defs>\n",
       "  <style type=\"text/css\">*{stroke-linejoin: round; stroke-linecap: butt}</style>\n",
       " </defs>\n",
       " <g id=\"figure_1\">\n",
       "  <g id=\"patch_1\">\n",
       "   <path d=\"M 0 276.48 \n",
       "L 276.48 276.48 \n",
       "L 276.48 0 \n",
       "L 0 0 \n",
       "z\n",
       "\" style=\"fill: #ffffff\"/>\n",
       "  </g>\n",
       "  <g id=\"axes_1\">\n",
       "   <g clip-path=\"url(#p48951e78c9)\">\n",
       "    <image xlink:href=\"data:image/png;base64,\n",
       "iVBORw0KGgoAAAANSUhEUgAAAGQAAABkCAYAAABw4pVUAAAB70lEQVR4nO3bW3ICIRCFYUxlaVlClpkluDfzNFUTMiqXbjg0//dsyeXQDCqmBAAAAAAAAAAAAAAAAGBxt9kdUPJ1+36Uvvb++HGZu+0DqQnhGctwtg3EIoicRTDbBeIRRK4nmG0CGRFEriWYD4+OqJkRRmu7phWicErJzQrjrGasJpPSM2jPYBTCOJSOs3vL6h2016QphZFSeX+aV6fqsTElvTDO3o2xqUJ2WdUzhDtlqYf6rn/VgXgPWH1CvVUFMmqyWttZJcxX/Qy3Za2uOJDRq6+2vVWq4/Csv1SIGAIREyKQ1barw1W/QwQSCYGIIRAxBCKGQMQQiBgCEVMcyKjfwGe1p4IKEVMVyKhVu2t1pNRQId6T1fL+qwZ41W+2LDFNgXityFVXuqXuCVC6zr/St77Pxty9ZfVOJlXxV7i7vStUyauxf45qCGXCnbLUF4XLVVL4CRmIapWU9Gv4g3XkZCk94EvHHe6UlVMIpWasZluW6k3D2dtXbfsmgahfjp4VSku7ob46KaH+P3XTD4YrOCZL9S95XW9gOahZ24pahW9XIbnzZCqcErcP5Gz2iSyloJ/UV0YgYghEDIGI6QrE6iGo8DBVQYWI4ZKDGJMKaZ1UwvjPbMuqnVzCuBb6F0MAAAAAAAAAAAAAADr8Apnb3t6nJY0OAAAAAElFTkSuQmCC\" id=\"imagebfaafef81d\" transform=\"matrix(2.63 0 0 -2.63 7.2 269.28)\" style=\"image-rendering:crisp-edges;image-rendering:pixelated\" width=\"100\" height=\"100\"/>\n",
       "   </g>\n",
       "  </g>\n",
       " </g>\n",
       " <defs>\n",
       "  <clipPath id=\"p48951e78c9\">\n",
       "   <rect x=\"7.2\" y=\"7.2\" width=\"262.08\" height=\"262.08\"/>\n",
       "  </clipPath>\n",
       " </defs>\n",
       "</svg>\n"
      ],
      "text/plain": [
       "<Figure size 400x400 with 1 Axes>"
      ]
     },
     "metadata": {},
     "output_type": "display_data"
    },
    {
     "data": {
      "image/svg+xml": [
       "<?xml version=\"1.0\" encoding=\"utf-8\" standalone=\"no\"?>\n",
       "<!DOCTYPE svg PUBLIC \"-//W3C//DTD SVG 1.1//EN\"\n",
       "  \"http://www.w3.org/Graphics/SVG/1.1/DTD/svg11.dtd\">\n",
       "<svg xmlns:xlink=\"http://www.w3.org/1999/xlink\" width=\"276.48pt\" height=\"276.48pt\" viewBox=\"0 0 276.48 276.48\" xmlns=\"http://www.w3.org/2000/svg\" version=\"1.1\">\n",
       " <metadata>\n",
       "  <rdf:RDF xmlns:dc=\"http://purl.org/dc/elements/1.1/\" xmlns:cc=\"http://creativecommons.org/ns#\" xmlns:rdf=\"http://www.w3.org/1999/02/22-rdf-syntax-ns#\">\n",
       "   <cc:Work>\n",
       "    <dc:type rdf:resource=\"http://purl.org/dc/dcmitype/StillImage\"/>\n",
       "    <dc:date>2022-09-07T23:59:29.138115</dc:date>\n",
       "    <dc:format>image/svg+xml</dc:format>\n",
       "    <dc:creator>\n",
       "     <cc:Agent>\n",
       "      <dc:title>Matplotlib v3.5.3, https://matplotlib.org/</dc:title>\n",
       "     </cc:Agent>\n",
       "    </dc:creator>\n",
       "   </cc:Work>\n",
       "  </rdf:RDF>\n",
       " </metadata>\n",
       " <defs>\n",
       "  <style type=\"text/css\">*{stroke-linejoin: round; stroke-linecap: butt}</style>\n",
       " </defs>\n",
       " <g id=\"figure_1\">\n",
       "  <g id=\"patch_1\">\n",
       "   <path d=\"M 0 276.48 \n",
       "L 276.48 276.48 \n",
       "L 276.48 0 \n",
       "L 0 0 \n",
       "z\n",
       "\" style=\"fill: #ffffff\"/>\n",
       "  </g>\n",
       "  <g id=\"axes_1\">\n",
       "   <g clip-path=\"url(#p7132de8bde)\">\n",
       "    <image xlink:href=\"data:image/png;base64,\n",
       "iVBORw0KGgoAAAANSUhEUgAAADMAAAAzCAYAAAA6oTAqAAABXUlEQVR4nO1ZwQ3DIAwElNE6QsfsCNktfRUpUbDPYNcG5Z7UOs7UHIak9CAm8ijBK7+P69h+fIZ5e/iL1qQWuEuEGt+oAM0VRkWNzFlapNR4VBRO8EwJbXzIGR7liEJkAP8ux9YitcYzImQ/PnAcL9EO4jJD4VGOhZvAe7UlKCnJazMqapnNJvwOsJvNUI5iAZHPmZOIaEKlemqZRevPevSQjSZCEAmh7zNSLJXM0zWj4yPo6UrqD5SgWbrm+s+s0J+d9sxMwu+wlJstlYyorDiT6BGgafWkm92RInEjXFQ8h6xNKuHSTkb1EdC7YV3KAJZKxuzdDEGrTWrtFy7WNZmU8I1ONbk/Dhc36zlbEF71R0COy/IaYfII6NWwLuVm0ySDbAWRm3nf/7m5YCFSx6MSt1qUIY9vibG4KiBQ3zOezeY0BoDgSSYqoGRm+GqWksJnwOu4Z+JmxB4H7BfdegbqKjqJaAAAAABJRU5ErkJggg==\" id=\"image72f747e847\" transform=\"matrix(5.156863 0 0 -5.156863 7.2 269.28)\" style=\"image-rendering:crisp-edges;image-rendering:pixelated\" width=\"51\" height=\"51\"/>\n",
       "   </g>\n",
       "  </g>\n",
       " </g>\n",
       " <defs>\n",
       "  <clipPath id=\"p7132de8bde\">\n",
       "   <rect x=\"7.2\" y=\"7.2\" width=\"262.08\" height=\"262.08\"/>\n",
       "  </clipPath>\n",
       " </defs>\n",
       "</svg>\n"
      ],
      "text/plain": [
       "<Figure size 400x400 with 1 Axes>"
      ]
     },
     "metadata": {},
     "output_type": "display_data"
    }
   ],
   "source": [
    "im1 = np.zeros([100, 100,100])\n",
    "im2 = np.zeros([51, 51,51])\n",
    "im1 = ps.generators.RSA(im1, r=25, volume_fraction=0.5)\n",
    "im2 = ps.generators.RSA(im2, r=5, volume_fraction=0.5)\n",
    "im3 = im1.copy()\n",
    "\n",
    "fig, ax = plt.subplots(figsize=[4, 4]);\n",
    "ps.visualization.imshow(im1);\n",
    "plt.axis(False)\n",
    "fig, ax = plt.subplots(figsize=[4, 4]);\n",
    "ps.visualization.imshow(im2);\n",
    "plt.axis(False);\n",
    "\n",
    "#default values:\n",
    "c = [26,26,26]"
   ]
  },
  {
   "cell_type": "markdown",
   "id": "81a1dc0b",
   "metadata": {},
   "source": [
    "## Apply tool"
   ]
  },
  {
   "cell_type": "code",
   "execution_count": 3,
   "id": "a8f3e5aa",
   "metadata": {
    "execution": {
     "iopub.execute_input": "2022-09-07T23:59:29.149468Z",
     "iopub.status.busy": "2022-09-07T23:59:29.149090Z",
     "iopub.status.idle": "2022-09-07T23:59:29.211832Z",
     "shell.execute_reply": "2022-09-07T23:59:29.211339Z"
    }
   },
   "outputs": [
    {
     "data": {
      "image/svg+xml": [
       "<?xml version=\"1.0\" encoding=\"utf-8\" standalone=\"no\"?>\n",
       "<!DOCTYPE svg PUBLIC \"-//W3C//DTD SVG 1.1//EN\"\n",
       "  \"http://www.w3.org/Graphics/SVG/1.1/DTD/svg11.dtd\">\n",
       "<svg xmlns:xlink=\"http://www.w3.org/1999/xlink\" width=\"276.48pt\" height=\"276.48pt\" viewBox=\"0 0 276.48 276.48\" xmlns=\"http://www.w3.org/2000/svg\" version=\"1.1\">\n",
       " <metadata>\n",
       "  <rdf:RDF xmlns:dc=\"http://purl.org/dc/elements/1.1/\" xmlns:cc=\"http://creativecommons.org/ns#\" xmlns:rdf=\"http://www.w3.org/1999/02/22-rdf-syntax-ns#\">\n",
       "   <cc:Work>\n",
       "    <dc:type rdf:resource=\"http://purl.org/dc/dcmitype/StillImage\"/>\n",
       "    <dc:date>2022-09-07T23:59:29.202718</dc:date>\n",
       "    <dc:format>image/svg+xml</dc:format>\n",
       "    <dc:creator>\n",
       "     <cc:Agent>\n",
       "      <dc:title>Matplotlib v3.5.3, https://matplotlib.org/</dc:title>\n",
       "     </cc:Agent>\n",
       "    </dc:creator>\n",
       "   </cc:Work>\n",
       "  </rdf:RDF>\n",
       " </metadata>\n",
       " <defs>\n",
       "  <style type=\"text/css\">*{stroke-linejoin: round; stroke-linecap: butt}</style>\n",
       " </defs>\n",
       " <g id=\"figure_1\">\n",
       "  <g id=\"patch_1\">\n",
       "   <path d=\"M 0 276.48 \n",
       "L 276.48 276.48 \n",
       "L 276.48 0 \n",
       "L 0 0 \n",
       "z\n",
       "\" style=\"fill: #ffffff\"/>\n",
       "  </g>\n",
       "  <g id=\"axes_1\">\n",
       "   <g clip-path=\"url(#pafdc2b7886)\">\n",
       "    <image xlink:href=\"data:image/png;base64,\n",
       "iVBORw0KGgoAAAANSUhEUgAAAGQAAABkCAYAAABw4pVUAAACf0lEQVR4nO2bWXbDIAxFnZ4uLUvIMruE7i39cho7HhgEPMn3fubEgPSQEGBPEwDsc0v94/32eK5/+33+JD8PaXyl/GlLjKPfoZwkQaAf39YNktrqMI0QUls9pCwxkgTZSzmkInuS1xCc3wdSlhimgpDa6pFwFKXyP8NTFqXykuGCwBIEEQNBxEAQMYYLQqm8ZGE05ed4XhFC+anB8JQFSxBEDLMbwwjrT056bmXbq9GjwZx1XvPsaCzWSEsbXynrauXn/fZ4WhUslm2ZONtThPSoGmtsNn/rRJWe5fvcV4kwl6iyRu2lSvo126nndn7UrmXFprCxzRl78yrrjHXbluuRghgzqWOvTlm1RrdympIY05Q+nmJBVMvGuT2rtixJGVeRIFeZ1SMIV2Wpi3o2vuyd+iiD1TaYrZCtWkoEUI+Od/bsC5eyvFP1jWFr9maRp0g4Yss+dxESRYw93AkSHQQZyFa0fxy/R7iK9cwiQngVaDzuUlb0aHV5Y6hyetACdxESHQQRYyHI1V4FUiTE4aLnNWRtJylLjCxBeqWuK6fI7Ahp7ayS9r0KGOK0NzpFgrSakV5nuiXVDlB6nd9TtdXsCrfWmUTFElNnKHyB5CFKjmw3PVxkttcTrspSnxRn4wsniHdCCqIaJSnj6r6w9nSW0gKfane4KmuNgig5tpqlrFzDezlqdPrK7d9EkFLnRhelpN9QRycp8J26GLOzWghjMbGqGrA0alRaUYvwy0XImndnKlSJlxfkndEV2TQF3al7BkHEQBAxEESMKkGsFkGFxVQFIkQMXnIQwyRCSp2KGJ+Ypaxc5yLGNqFvDAEAAAAAAAAAAAAAAAAAACr4A7MuVYkoPEPFAAAAAElFTkSuQmCC\" id=\"image94b0e67376\" transform=\"matrix(2.63 0 0 -2.63 7.2 269.28)\" style=\"image-rendering:crisp-edges;image-rendering:pixelated\" width=\"100\" height=\"100\"/>\n",
       "   </g>\n",
       "  </g>\n",
       " </g>\n",
       " <defs>\n",
       "  <clipPath id=\"pafdc2b7886\">\n",
       "   <rect x=\"7.2\" y=\"7.2\" width=\"262.08\" height=\"262.08\"/>\n",
       "  </clipPath>\n",
       " </defs>\n",
       "</svg>\n"
      ],
      "text/plain": [
       "<Figure size 400x400 with 1 Axes>"
      ]
     },
     "metadata": {},
     "output_type": "display_data"
    }
   ],
   "source": [
    "im = ps.tools.overlay(im1=im1,im2=im2, c=c)\n",
    "fig, ax = plt.subplots(figsize=[4, 4]);\n",
    "ps.visualization.imshow(im);\n",
    "plt.axis(False);"
   ]
  },
  {
   "cell_type": "code",
   "execution_count": 4,
   "id": "8e89b639",
   "metadata": {
    "execution": {
     "iopub.execute_input": "2022-09-07T23:59:29.214752Z",
     "iopub.status.busy": "2022-09-07T23:59:29.214394Z",
     "iopub.status.idle": "2022-09-07T23:59:29.276106Z",
     "shell.execute_reply": "2022-09-07T23:59:29.275650Z"
    }
   },
   "outputs": [
    {
     "data": {
      "image/svg+xml": [
       "<?xml version=\"1.0\" encoding=\"utf-8\" standalone=\"no\"?>\n",
       "<!DOCTYPE svg PUBLIC \"-//W3C//DTD SVG 1.1//EN\"\n",
       "  \"http://www.w3.org/Graphics/SVG/1.1/DTD/svg11.dtd\">\n",
       "<svg xmlns:xlink=\"http://www.w3.org/1999/xlink\" width=\"276.48pt\" height=\"276.48pt\" viewBox=\"0 0 276.48 276.48\" xmlns=\"http://www.w3.org/2000/svg\" version=\"1.1\">\n",
       " <metadata>\n",
       "  <rdf:RDF xmlns:dc=\"http://purl.org/dc/elements/1.1/\" xmlns:cc=\"http://creativecommons.org/ns#\" xmlns:rdf=\"http://www.w3.org/1999/02/22-rdf-syntax-ns#\">\n",
       "   <cc:Work>\n",
       "    <dc:type rdf:resource=\"http://purl.org/dc/dcmitype/StillImage\"/>\n",
       "    <dc:date>2022-09-07T23:59:29.267471</dc:date>\n",
       "    <dc:format>image/svg+xml</dc:format>\n",
       "    <dc:creator>\n",
       "     <cc:Agent>\n",
       "      <dc:title>Matplotlib v3.5.3, https://matplotlib.org/</dc:title>\n",
       "     </cc:Agent>\n",
       "    </dc:creator>\n",
       "   </cc:Work>\n",
       "  </rdf:RDF>\n",
       " </metadata>\n",
       " <defs>\n",
       "  <style type=\"text/css\">*{stroke-linejoin: round; stroke-linecap: butt}</style>\n",
       " </defs>\n",
       " <g id=\"figure_1\">\n",
       "  <g id=\"patch_1\">\n",
       "   <path d=\"M 0 276.48 \n",
       "L 276.48 276.48 \n",
       "L 276.48 0 \n",
       "L 0 0 \n",
       "z\n",
       "\" style=\"fill: #ffffff\"/>\n",
       "  </g>\n",
       "  <g id=\"axes_1\">\n",
       "   <g clip-path=\"url(#pb9599941e9)\">\n",
       "    <image xlink:href=\"data:image/png;base64,\n",
       "iVBORw0KGgoAAAANSUhEUgAAAGQAAABkCAYAAABw4pVUAAACKklEQVR4nO3b23HDIBCFYZRJaSkhZboE9+Y8aUbRSDa3hbPL/z17LOCwCBspJQAAAAAAAAAAAAAAAADObbMboORn+33lfvb5epiM3fKBlIRwp2c4ywbSI4izHsEsF4hFEGctwSwTyIggzmqC+bJoiJoZYdRet2uFKOxSzmaFcVTS1y6D0tJpy2AUwtjl9rN5yWrttNWgKYWRUn57qmen6rYxJb0wjj71sapCVpnVM4TbZamH+ql9xYFYd1h9QK0VBTJqsGqv4yXMd+0Mt2R5lx3I6NlXej0v1bG7ay8VIoZAxIQIxNtytbtqd4hAIiEQMQQihkDEEIgYAhFDIGKyAxl1Bj7reiqoEDFFgYyatatWR0oVFWI9WDXf7zXAq3azZImpCsRqRnqd6T01D4DS4/ze/vU1WbJaB5Oq+C/cs72equRqDMLNTi+B3E3IcIGkpB2KyaOksBMyENWNQk67ht9YRwyW4pKV2+9wu6zSdoxQ0tduS1b0Jw1rlU68LoFEfzi61pS3cFVfaTt7vh7byOOD2muF+i+rhOoreU1f0LNTs7aqahPqu9cXeXUcTIVd4vKBHCn8oAz5S90zKqTB1RLXWmVUSKW7+03rJiFshVjM3hGaKqRXBz0M1CgsWWJ4yEFMlwqpHVTPYdy1vbVPIc9DPAt5YggAAAAAANBHqL8xvB5KHYU9MVT1adJwQDVQzjk8gYghEDGh7iHebuBXqBAxBDKQ1Tk8DP0B6X4C9XeY3S8AAAAASUVORK5CYII=\" id=\"imageef2688fa52\" transform=\"matrix(2.63 0 0 -2.63 7.2 269.28)\" style=\"image-rendering:crisp-edges;image-rendering:pixelated\" width=\"100\" height=\"100\"/>\n",
       "   </g>\n",
       "  </g>\n",
       " </g>\n",
       " <defs>\n",
       "  <clipPath id=\"pb9599941e9\">\n",
       "   <rect x=\"7.2\" y=\"7.2\" width=\"262.08\" height=\"262.08\"/>\n",
       "  </clipPath>\n",
       " </defs>\n",
       "</svg>\n"
      ],
      "text/plain": [
       "<Figure size 400x400 with 1 Axes>"
      ]
     },
     "metadata": {},
     "output_type": "display_data"
    }
   ],
   "source": [
    "im = ps.tools.overlay(im1=im3, im2=im2, c=[74, 74, 74])\n",
    "fig, ax = plt.subplots(figsize=[4, 4]);\n",
    "ps.visualization.imshow(im);\n",
    "plt.axis(False);"
   ]
  }
 ],
 "metadata": {
  "kernelspec": {
   "display_name": "Python 3 (ipykernel)",
   "language": "python",
   "name": "python3"
  },
  "language_info": {
   "codemirror_mode": {
    "name": "ipython",
    "version": 3
   },
   "file_extension": ".py",
   "mimetype": "text/x-python",
   "name": "python",
   "nbconvert_exporter": "python",
   "pygments_lexer": "ipython3",
   "version": "3.8.13"
  }
 },
 "nbformat": 4,
 "nbformat_minor": 5
}

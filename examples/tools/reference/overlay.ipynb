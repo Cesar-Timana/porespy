{
 "cells": [
  {
   "cell_type": "markdown",
   "id": "4bd55bf8",
   "metadata": {},
   "source": [
    "# `overlay`"
   ]
  },
  {
   "cell_type": "markdown",
   "id": "a71579c9",
   "metadata": {},
   "source": [
    "## Import packages"
   ]
  },
  {
   "cell_type": "code",
   "execution_count": 1,
   "id": "2540ba84",
   "metadata": {
    "execution": {
     "iopub.execute_input": "2022-09-09T11:01:44.549060Z",
     "iopub.status.busy": "2022-09-09T11:01:44.548808Z",
     "iopub.status.idle": "2022-09-09T11:01:46.336853Z",
     "shell.execute_reply": "2022-09-09T11:01:46.336210Z"
    }
   },
   "outputs": [],
   "source": [
    "import numpy as np\n",
    "import porespy as ps\n",
    "import scipy.ndimage as spim\n",
    "import matplotlib.pyplot as plt\n",
    "import skimage\n",
    "ps.visualization.set_mpl_style()"
   ]
  },
  {
   "cell_type": "markdown",
   "id": "24f1086e",
   "metadata": {},
   "source": [
    "## Create image and variables"
   ]
  },
  {
   "cell_type": "code",
   "execution_count": 2,
   "id": "df980fdd",
   "metadata": {
    "execution": {
     "iopub.execute_input": "2022-09-09T11:01:46.341827Z",
     "iopub.status.busy": "2022-09-09T11:01:46.340579Z",
     "iopub.status.idle": "2022-09-09T11:01:47.336484Z",
     "shell.execute_reply": "2022-09-09T11:01:47.335941Z"
    }
   },
   "outputs": [
    {
     "name": "stderr",
     "output_type": "stream",
     "text": [
      "/tmp/ipykernel_9964/2366592848.py:3: DeprecationWarning: Call to deprecated function (or staticmethod) RSA. (This function has been renamed to rsa (lowercase to meet pep8)\n",
      "  im1 = ps.generators.RSA(im1, r=25, volume_fraction=0.5)\n"
     ]
    },
    {
     "name": "stderr",
     "output_type": "stream",
     "text": [
      "/tmp/ipykernel_9964/2366592848.py:4: DeprecationWarning: Call to deprecated function (or staticmethod) RSA. (This function has been renamed to rsa (lowercase to meet pep8)\n",
      "  im2 = ps.generators.RSA(im2, r=5, volume_fraction=0.5)\n"
     ]
    },
    {
     "data": {
      "image/svg+xml": [
       "<?xml version=\"1.0\" encoding=\"utf-8\" standalone=\"no\"?>\n",
       "<!DOCTYPE svg PUBLIC \"-//W3C//DTD SVG 1.1//EN\"\n",
       "  \"http://www.w3.org/Graphics/SVG/1.1/DTD/svg11.dtd\">\n",
       "<svg xmlns:xlink=\"http://www.w3.org/1999/xlink\" width=\"276.48pt\" height=\"276.48pt\" viewBox=\"0 0 276.48 276.48\" xmlns=\"http://www.w3.org/2000/svg\" version=\"1.1\">\n",
       " <metadata>\n",
       "  <rdf:RDF xmlns:dc=\"http://purl.org/dc/elements/1.1/\" xmlns:cc=\"http://creativecommons.org/ns#\" xmlns:rdf=\"http://www.w3.org/1999/02/22-rdf-syntax-ns#\">\n",
       "   <cc:Work>\n",
       "    <dc:type rdf:resource=\"http://purl.org/dc/dcmitype/StillImage\"/>\n",
       "    <dc:date>2022-09-09T11:01:47.297020</dc:date>\n",
       "    <dc:format>image/svg+xml</dc:format>\n",
       "    <dc:creator>\n",
       "     <cc:Agent>\n",
       "      <dc:title>Matplotlib v3.5.3, https://matplotlib.org/</dc:title>\n",
       "     </cc:Agent>\n",
       "    </dc:creator>\n",
       "   </cc:Work>\n",
       "  </rdf:RDF>\n",
       " </metadata>\n",
       " <defs>\n",
       "  <style type=\"text/css\">*{stroke-linejoin: round; stroke-linecap: butt}</style>\n",
       " </defs>\n",
       " <g id=\"figure_1\">\n",
       "  <g id=\"patch_1\">\n",
       "   <path d=\"M 0 276.48 \n",
       "L 276.48 276.48 \n",
       "L 276.48 0 \n",
       "L 0 0 \n",
       "z\n",
       "\" style=\"fill: #ffffff\"/>\n",
       "  </g>\n",
       "  <g id=\"axes_1\">\n",
       "   <g clip-path=\"url(#pdbf1929f88)\">\n",
       "    <image xlink:href=\"data:image/png;base64,\n",
       "iVBORw0KGgoAAAANSUhEUgAAAGQAAABkCAYAAABw4pVUAAACOklEQVR4nO2cW27CMBREL1WX1iV0mV0Ce6NfliIrCYb4ce4w5x9lnONxAsSJMMYYY4wxxhhjjDHGmDe4rQ4QEfFz+328+pn74w+RvTfLBvWOhCOU5EwfSE8RNQpipg1gpIiazGK+ZhxkpowVx+vJcCGrTk5WKcOqTTohmZawIQ0hyYjg5TljyjXEtNNdCHU2UnPVdBVCHzQ9X0RHIRkGG8HP6WsIjC5C6LOuhpzXDYFxWQh5tp1Bze2GwLAQGJeEUGvfCjG/GwLDQmBYCAwLgWEhMCwEhoXAsBAYFgLDQmBYCAwLgXFJSKYH0PYg5ndDYFgIjMtCiLVvgZrbDYHRRQh1th1BzuuGwOg6U4j/UdectYOwG7h7dclS9k4ebTfwkLWUKKU+WdTdwN89g2RgxmQpx3hHzJCLOu0upuTJsBt4+IlbuXytEnGW5RnDb3tXtYUkI6I9x5TvIbOl0GQUWvLIvuuEJmPL2QSdfpc1YvbSbiKugBhI72/I5HYUjvIjhPQkg4zCnhT/uAhDSkimdkTs55USooCMkGztKNS5ZYSoYCEwJIRkXa4K2/wSQpSwEBgWAsNCYFgIDAuBYSEwLASGhcCwEBgWAsNCYEgIyf7UyTa/hBAlLASGjJCsy1adW0aIClJCsrXED8olQE5IlpYc5ZQTEsGXcpZPUkhmZIVQW/Isl6yQCJ6UljzSQiI4UlpzIMLOYsUTjq9OCPmGbFm1G/gVPqohW6jvOvlYIQXabuCPF7KF8L6sfymy3KOSxiapAAAAAElFTkSuQmCC\" id=\"imageaede3f3d07\" transform=\"matrix(2.63 0 0 -2.63 7.2 269.28)\" style=\"image-rendering:crisp-edges;image-rendering:pixelated\" width=\"100\" height=\"100\"/>\n",
       "   </g>\n",
       "  </g>\n",
       " </g>\n",
       " <defs>\n",
       "  <clipPath id=\"pdbf1929f88\">\n",
       "   <rect x=\"7.2\" y=\"7.2\" width=\"262.08\" height=\"262.08\"/>\n",
       "  </clipPath>\n",
       " </defs>\n",
       "</svg>\n"
      ],
      "text/plain": [
       "<Figure size 400x400 with 1 Axes>"
      ]
     },
     "metadata": {},
     "output_type": "display_data"
    },
    {
     "data": {
      "image/svg+xml": [
       "<?xml version=\"1.0\" encoding=\"utf-8\" standalone=\"no\"?>\n",
       "<!DOCTYPE svg PUBLIC \"-//W3C//DTD SVG 1.1//EN\"\n",
       "  \"http://www.w3.org/Graphics/SVG/1.1/DTD/svg11.dtd\">\n",
       "<svg xmlns:xlink=\"http://www.w3.org/1999/xlink\" width=\"276.48pt\" height=\"276.48pt\" viewBox=\"0 0 276.48 276.48\" xmlns=\"http://www.w3.org/2000/svg\" version=\"1.1\">\n",
       " <metadata>\n",
       "  <rdf:RDF xmlns:dc=\"http://purl.org/dc/elements/1.1/\" xmlns:cc=\"http://creativecommons.org/ns#\" xmlns:rdf=\"http://www.w3.org/1999/02/22-rdf-syntax-ns#\">\n",
       "   <cc:Work>\n",
       "    <dc:type rdf:resource=\"http://purl.org/dc/dcmitype/StillImage\"/>\n",
       "    <dc:date>2022-09-09T11:01:47.326779</dc:date>\n",
       "    <dc:format>image/svg+xml</dc:format>\n",
       "    <dc:creator>\n",
       "     <cc:Agent>\n",
       "      <dc:title>Matplotlib v3.5.3, https://matplotlib.org/</dc:title>\n",
       "     </cc:Agent>\n",
       "    </dc:creator>\n",
       "   </cc:Work>\n",
       "  </rdf:RDF>\n",
       " </metadata>\n",
       " <defs>\n",
       "  <style type=\"text/css\">*{stroke-linejoin: round; stroke-linecap: butt}</style>\n",
       " </defs>\n",
       " <g id=\"figure_1\">\n",
       "  <g id=\"patch_1\">\n",
       "   <path d=\"M 0 276.48 \n",
       "L 276.48 276.48 \n",
       "L 276.48 0 \n",
       "L 0 0 \n",
       "z\n",
       "\" style=\"fill: #ffffff\"/>\n",
       "  </g>\n",
       "  <g id=\"axes_1\">\n",
       "   <g clip-path=\"url(#pd2df349277)\">\n",
       "    <image xlink:href=\"data:image/png;base64,\n",
       "iVBORw0KGgoAAAANSUhEUgAAADMAAAAzCAYAAAA6oTAqAAABhElEQVR4nO1Z2w2DMAxMEKN1BMbsCOyWfrWqUGJfnDMOiPsE+RXHZ2NyEvDKWzk+28s7s2VYWFovak5Jz60yTFSD0YzX3ltk2Ghm5op4gpkVtwqmSZlSwbao1iIjyfZSejMzLUWSAYtMSjxK/xmJanaIw6gfq6TwlbdiDSjicBaPZhc1CaxshcjhjGRIyvilqFnLeHgwWpa+75GMhweTkp3Sj1j38s4jzY4Fhp1FUmQxgF4bD7gpZvcZhNZPuUIsaOUwBQGg0MqBlhmP8aVXJyUzHuOLRSd9nNGAnLZ1JIKDYVwjj+n8H9A1Y1yjM1ZRajAz7MNQUAiAOUGMgEYATMet8+K0TdOSbfU0mQsH7+lczQxzCvauLVhJ5H8XFK7OnH0AbktAr/pQtzPRf7xYcFkCRmHaPmPBrYKhjDOtovRgM0l+OBjvbxTN1r8NdfUpOTQ66vRkDvGRvgRE0dMOUMb9XbPZRhMLbsVmTzBfRC7JaxjOjJU8euRQXZcq+it8Uz2o4QPiADLYISjk2QAAAABJRU5ErkJggg==\" id=\"imagef19ce6aae9\" transform=\"matrix(5.156863 0 0 -5.156863 7.2 269.28)\" style=\"image-rendering:crisp-edges;image-rendering:pixelated\" width=\"51\" height=\"51\"/>\n",
       "   </g>\n",
       "  </g>\n",
       " </g>\n",
       " <defs>\n",
       "  <clipPath id=\"pd2df349277\">\n",
       "   <rect x=\"7.2\" y=\"7.2\" width=\"262.08\" height=\"262.08\"/>\n",
       "  </clipPath>\n",
       " </defs>\n",
       "</svg>\n"
      ],
      "text/plain": [
       "<Figure size 400x400 with 1 Axes>"
      ]
     },
     "metadata": {},
     "output_type": "display_data"
    }
   ],
   "source": [
    "im1 = np.zeros([100, 100,100])\n",
    "im2 = np.zeros([51, 51,51])\n",
    "im1 = ps.generators.RSA(im1, r=25, volume_fraction=0.5)\n",
    "im2 = ps.generators.RSA(im2, r=5, volume_fraction=0.5)\n",
    "im3 = im1.copy()\n",
    "\n",
    "fig, ax = plt.subplots(figsize=[4, 4]);\n",
    "ps.visualization.imshow(im1);\n",
    "plt.axis(False)\n",
    "fig, ax = plt.subplots(figsize=[4, 4]);\n",
    "ps.visualization.imshow(im2);\n",
    "plt.axis(False);\n",
    "\n",
    "#default values:\n",
    "c = [26,26,26]"
   ]
  },
  {
   "cell_type": "markdown",
   "id": "81a1dc0b",
   "metadata": {},
   "source": [
    "## Apply tool"
   ]
  },
  {
   "cell_type": "code",
   "execution_count": 3,
   "id": "a8f3e5aa",
   "metadata": {
    "execution": {
     "iopub.execute_input": "2022-09-09T11:01:47.341732Z",
     "iopub.status.busy": "2022-09-09T11:01:47.340149Z",
     "iopub.status.idle": "2022-09-09T11:01:47.408052Z",
     "shell.execute_reply": "2022-09-09T11:01:47.407530Z"
    }
   },
   "outputs": [
    {
     "data": {
      "image/svg+xml": [
       "<?xml version=\"1.0\" encoding=\"utf-8\" standalone=\"no\"?>\n",
       "<!DOCTYPE svg PUBLIC \"-//W3C//DTD SVG 1.1//EN\"\n",
       "  \"http://www.w3.org/Graphics/SVG/1.1/DTD/svg11.dtd\">\n",
       "<svg xmlns:xlink=\"http://www.w3.org/1999/xlink\" width=\"276.48pt\" height=\"276.48pt\" viewBox=\"0 0 276.48 276.48\" xmlns=\"http://www.w3.org/2000/svg\" version=\"1.1\">\n",
       " <metadata>\n",
       "  <rdf:RDF xmlns:dc=\"http://purl.org/dc/elements/1.1/\" xmlns:cc=\"http://creativecommons.org/ns#\" xmlns:rdf=\"http://www.w3.org/1999/02/22-rdf-syntax-ns#\">\n",
       "   <cc:Work>\n",
       "    <dc:type rdf:resource=\"http://purl.org/dc/dcmitype/StillImage\"/>\n",
       "    <dc:date>2022-09-09T11:01:47.397542</dc:date>\n",
       "    <dc:format>image/svg+xml</dc:format>\n",
       "    <dc:creator>\n",
       "     <cc:Agent>\n",
       "      <dc:title>Matplotlib v3.5.3, https://matplotlib.org/</dc:title>\n",
       "     </cc:Agent>\n",
       "    </dc:creator>\n",
       "   </cc:Work>\n",
       "  </rdf:RDF>\n",
       " </metadata>\n",
       " <defs>\n",
       "  <style type=\"text/css\">*{stroke-linejoin: round; stroke-linecap: butt}</style>\n",
       " </defs>\n",
       " <g id=\"figure_1\">\n",
       "  <g id=\"patch_1\">\n",
       "   <path d=\"M 0 276.48 \n",
       "L 276.48 276.48 \n",
       "L 276.48 0 \n",
       "L 0 0 \n",
       "z\n",
       "\" style=\"fill: #ffffff\"/>\n",
       "  </g>\n",
       "  <g id=\"axes_1\">\n",
       "   <g clip-path=\"url(#pf9a02633ab)\">\n",
       "    <image xlink:href=\"data:image/png;base64,\n",
       "iVBORw0KGgoAAAANSUhEUgAAAGQAAABkCAYAAABw4pVUAAACmElEQVR4nO2cUXKDMAwFlU6P1iP0mD1C75Z+0WEyYBzAYvV4+5lJp7LXkm1iE2GMWefR+8Wvx/fz9bPf50/335s+Pnq+tCSj9bnZT5cQk8fn1QHsQbl8lssQ9fJZTog6XULWyoFKmSDRPYe483NwyYJRTojLp0kFMar2LFlVM+KyRp25b1CSk96QkRs4BTFpDcjcSVcWk7LKyn6sUfkxynAhV3VOVSnDUpvUIZVK2JAMIcmI4MXTotxOXZ3ThVBHIzWuV04VQm80Pb6IE4VUaGwEP07PITA2l4M9Bwroo24J6lK4mSHqBwqIHC5ZVeVQ4/YcAsNCYBwSQk37XojxN4X4QEE+m+ey3Pm5eA6BYSEwuo6SKh//p7GZId6t5+KSBcNCYFgIDAuBsSnEu/Vcupa97vw8Nn/525JReflLHGj/JWvPfqOyDCqe1GHcVgixXEXcWAiVWwqhZkfETMie/Qa5YVU5tUMrrLpag4hwG/j0EU6WstR5tNvAQ0oOUUrm8dcjYkq+wOwIGYNl+h97xAxZZdEm+ymeCreBh3fcleXrKhGtWLYYvg+5KltIMiL640jZGGZLocmY6IlH9l0nNBlzWgM0fZU1YvTSFhFHQDTk7B0yOTsm1uJHCDmTCjImlqTc8mkvGSkhlbIjYjleKSEKyAiplh0Tr3HLCFHBQmBICKlaribm8UsIUcJCYFgIDAuBYSEwLASGhcCwEBgWAsNCYFgIDAuBISGk+qmTefwSQpSwEBgyQqqWrde4ZYSoICWkWpb4oFwB5IRUyZK1OOWERPCltOKTFFIZWSHULNmKS1ZIBE9KTzzSQiI4UnrjQASbxRUnHN8dEPIZMueq28DvcKsMmUN918lthUzQbgPfXsgcwvuy/gCj+h81VWsWGQAAAABJRU5ErkJggg==\" id=\"image420faecf72\" transform=\"matrix(2.63 0 0 -2.63 7.2 269.28)\" style=\"image-rendering:crisp-edges;image-rendering:pixelated\" width=\"100\" height=\"100\"/>\n",
       "   </g>\n",
       "  </g>\n",
       " </g>\n",
       " <defs>\n",
       "  <clipPath id=\"pf9a02633ab\">\n",
       "   <rect x=\"7.2\" y=\"7.2\" width=\"262.08\" height=\"262.08\"/>\n",
       "  </clipPath>\n",
       " </defs>\n",
       "</svg>\n"
      ],
      "text/plain": [
       "<Figure size 400x400 with 1 Axes>"
      ]
     },
     "metadata": {},
     "output_type": "display_data"
    }
   ],
   "source": [
    "im = ps.tools.overlay(im1=im1,im2=im2, c=c)\n",
    "fig, ax = plt.subplots(figsize=[4, 4]);\n",
    "ps.visualization.imshow(im);\n",
    "plt.axis(False);"
   ]
  },
  {
   "cell_type": "code",
   "execution_count": 4,
   "id": "8e89b639",
   "metadata": {
    "execution": {
     "iopub.execute_input": "2022-09-09T11:01:47.413030Z",
     "iopub.status.busy": "2022-09-09T11:01:47.411531Z",
     "iopub.status.idle": "2022-09-09T11:01:47.478472Z",
     "shell.execute_reply": "2022-09-09T11:01:47.477970Z"
    }
   },
   "outputs": [
    {
     "data": {
      "image/svg+xml": [
       "<?xml version=\"1.0\" encoding=\"utf-8\" standalone=\"no\"?>\n",
       "<!DOCTYPE svg PUBLIC \"-//W3C//DTD SVG 1.1//EN\"\n",
       "  \"http://www.w3.org/Graphics/SVG/1.1/DTD/svg11.dtd\">\n",
       "<svg xmlns:xlink=\"http://www.w3.org/1999/xlink\" width=\"276.48pt\" height=\"276.48pt\" viewBox=\"0 0 276.48 276.48\" xmlns=\"http://www.w3.org/2000/svg\" version=\"1.1\">\n",
       " <metadata>\n",
       "  <rdf:RDF xmlns:dc=\"http://purl.org/dc/elements/1.1/\" xmlns:cc=\"http://creativecommons.org/ns#\" xmlns:rdf=\"http://www.w3.org/1999/02/22-rdf-syntax-ns#\">\n",
       "   <cc:Work>\n",
       "    <dc:type rdf:resource=\"http://purl.org/dc/dcmitype/StillImage\"/>\n",
       "    <dc:date>2022-09-09T11:01:47.468222</dc:date>\n",
       "    <dc:format>image/svg+xml</dc:format>\n",
       "    <dc:creator>\n",
       "     <cc:Agent>\n",
       "      <dc:title>Matplotlib v3.5.3, https://matplotlib.org/</dc:title>\n",
       "     </cc:Agent>\n",
       "    </dc:creator>\n",
       "   </cc:Work>\n",
       "  </rdf:RDF>\n",
       " </metadata>\n",
       " <defs>\n",
       "  <style type=\"text/css\">*{stroke-linejoin: round; stroke-linecap: butt}</style>\n",
       " </defs>\n",
       " <g id=\"figure_1\">\n",
       "  <g id=\"patch_1\">\n",
       "   <path d=\"M 0 276.48 \n",
       "L 276.48 276.48 \n",
       "L 276.48 0 \n",
       "L 0 0 \n",
       "z\n",
       "\" style=\"fill: #ffffff\"/>\n",
       "  </g>\n",
       "  <g id=\"axes_1\">\n",
       "   <g clip-path=\"url(#p4f2d51e5c6)\">\n",
       "    <image xlink:href=\"data:image/png;base64,\n",
       "iVBORw0KGgoAAAANSUhEUgAAAGQAAABkCAYAAABw4pVUAAACQklEQVR4nO2cQW6EMBAEZ6M8LU/IM/OE/G1ziCwhC3sBj03NbNcd3KbcsEoMZkIIIYQQQgghhBBCCHGBx90BzMy+Ht/Ps8f8Pn8Q2b25bVJXJLTIJGf5RDxF1GQQs2wCM0XURBbzsWKQlTLuGM+T6ULuujhRpUyrNumCRLqFTWkISYYZL0+PJc8QcRx3IdTVSM1V4yqEPml6PjNHIREma8bPqWcIDBch9FVXQ86rhsAYFkJebT2oudUQGBICY0gItfZHIeZXQ2BICAwJgSEhMCQEhoTAkBAYEgJDQmBICAwJgSEhMIaERNqAtgcxvxoCQ0JgDAsh1v4I1NxqCAwXIdTV1oKcVw2B4bpSiP+jrqnbMZr5TNv2xqqPd68uWYq3jFfnPzrW9jj3Wxb1/jxbRjnn6Hk/vcJEYUWDyxhXFueUhzqtJSVPhLeBp1+4O58pd4k4y9RnSG+wlUSUYZb8Sw5EGa8WaNpvnRBlFHpSlv/KmrF6aT8iRkBMxPt7WeR2FFr5EUI8iSCjsCdFf1yEkUpIpHaY7edNJSQDaYREa0ehzp1GSBYkBEYKIVFvV4Vt/hRCMiEhMCQEhoTAkBAYEgJDQmBICAwJgSEhMCQEhoTASCEk+q6TpTsXxTkkBEYaIVFvW3XuNEKykEpItJZoo1wA0gmJ0pJWznRCzPhSevlSColMWiH0lrRIK8SMK6W3jyy1EDOulBbphZj9S4ki5i2EFCJIeSshZmvaMjIGfsXMZvbbwEc+ybTl7YVs8X4b+Ap/DabpdU9oep4AAAAASUVORK5CYII=\" id=\"image9f4aef4d25\" transform=\"matrix(2.63 0 0 -2.63 7.2 269.28)\" style=\"image-rendering:crisp-edges;image-rendering:pixelated\" width=\"100\" height=\"100\"/>\n",
       "   </g>\n",
       "  </g>\n",
       " </g>\n",
       " <defs>\n",
       "  <clipPath id=\"p4f2d51e5c6\">\n",
       "   <rect x=\"7.2\" y=\"7.2\" width=\"262.08\" height=\"262.08\"/>\n",
       "  </clipPath>\n",
       " </defs>\n",
       "</svg>\n"
      ],
      "text/plain": [
       "<Figure size 400x400 with 1 Axes>"
      ]
     },
     "metadata": {},
     "output_type": "display_data"
    }
   ],
   "source": [
    "im = ps.tools.overlay(im1=im3, im2=im2, c=[74, 74, 74])\n",
    "fig, ax = plt.subplots(figsize=[4, 4]);\n",
    "ps.visualization.imshow(im);\n",
    "plt.axis(False);"
   ]
  }
 ],
 "metadata": {
  "kernelspec": {
   "display_name": "Python 3 (ipykernel)",
   "language": "python",
   "name": "python3"
  },
  "language_info": {
   "codemirror_mode": {
    "name": "ipython",
    "version": 3
   },
   "file_extension": ".py",
   "mimetype": "text/x-python",
   "name": "python",
   "nbconvert_exporter": "python",
   "pygments_lexer": "ipython3",
   "version": "3.8.13"
  }
 },
 "nbformat": 4,
 "nbformat_minor": 5
}

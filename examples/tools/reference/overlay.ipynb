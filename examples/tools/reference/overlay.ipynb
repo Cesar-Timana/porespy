{
 "cells": [
  {
   "cell_type": "markdown",
   "id": "4bd55bf8",
   "metadata": {},
   "source": [
    "# `overlay`"
   ]
  },
  {
   "cell_type": "markdown",
   "id": "a71579c9",
   "metadata": {},
   "source": [
    "## Import packages"
   ]
  },
  {
   "cell_type": "code",
   "execution_count": 1,
   "id": "2540ba84",
   "metadata": {
    "execution": {
     "iopub.execute_input": "2022-08-22T18:50:26.594922Z",
     "iopub.status.busy": "2022-08-22T18:50:26.594659Z",
     "iopub.status.idle": "2022-08-22T18:50:28.575855Z",
     "shell.execute_reply": "2022-08-22T18:50:28.575143Z"
    }
   },
   "outputs": [],
   "source": [
    "import numpy as np\n",
    "import porespy as ps\n",
    "import scipy.ndimage as spim\n",
    "import matplotlib.pyplot as plt\n",
    "import skimage\n",
    "ps.visualization.set_mpl_style()"
   ]
  },
  {
   "cell_type": "markdown",
   "id": "24f1086e",
   "metadata": {},
   "source": [
    "## Create image and variables"
   ]
  },
  {
   "cell_type": "code",
   "execution_count": 2,
   "id": "df980fdd",
   "metadata": {
    "execution": {
     "iopub.execute_input": "2022-08-22T18:50:28.581613Z",
     "iopub.status.busy": "2022-08-22T18:50:28.580244Z",
     "iopub.status.idle": "2022-08-22T18:50:29.668940Z",
     "shell.execute_reply": "2022-08-22T18:50:29.668283Z"
    }
   },
   "outputs": [
    {
     "name": "stderr",
     "output_type": "stream",
     "text": [
      "/tmp/ipykernel_10364/2366592848.py:3: DeprecationWarning: Call to deprecated function (or staticmethod) RSA. (This function has been renamed to rsa (lowercase to meet pep8)\n",
      "  im1 = ps.generators.RSA(im1, r=25, volume_fraction=0.5)\n"
     ]
    },
    {
     "name": "stderr",
     "output_type": "stream",
     "text": [
      "/tmp/ipykernel_10364/2366592848.py:4: DeprecationWarning: Call to deprecated function (or staticmethod) RSA. (This function has been renamed to rsa (lowercase to meet pep8)\n",
      "  im2 = ps.generators.RSA(im2, r=5, volume_fraction=0.5)\n"
     ]
    },
    {
     "data": {
      "image/svg+xml": [
       "<?xml version=\"1.0\" encoding=\"utf-8\" standalone=\"no\"?>\n",
       "<!DOCTYPE svg PUBLIC \"-//W3C//DTD SVG 1.1//EN\"\n",
       "  \"http://www.w3.org/Graphics/SVG/1.1/DTD/svg11.dtd\">\n",
       "<svg xmlns:xlink=\"http://www.w3.org/1999/xlink\" width=\"276.48pt\" height=\"276.48pt\" viewBox=\"0 0 276.48 276.48\" xmlns=\"http://www.w3.org/2000/svg\" version=\"1.1\">\n",
       " <metadata>\n",
       "  <rdf:RDF xmlns:dc=\"http://purl.org/dc/elements/1.1/\" xmlns:cc=\"http://creativecommons.org/ns#\" xmlns:rdf=\"http://www.w3.org/1999/02/22-rdf-syntax-ns#\">\n",
       "   <cc:Work>\n",
       "    <dc:type rdf:resource=\"http://purl.org/dc/dcmitype/StillImage\"/>\n",
       "    <dc:date>2022-08-22T18:50:29.629038</dc:date>\n",
       "    <dc:format>image/svg+xml</dc:format>\n",
       "    <dc:creator>\n",
       "     <cc:Agent>\n",
       "      <dc:title>Matplotlib v3.5.3, https://matplotlib.org/</dc:title>\n",
       "     </cc:Agent>\n",
       "    </dc:creator>\n",
       "   </cc:Work>\n",
       "  </rdf:RDF>\n",
       " </metadata>\n",
       " <defs>\n",
       "  <style type=\"text/css\">*{stroke-linejoin: round; stroke-linecap: butt}</style>\n",
       " </defs>\n",
       " <g id=\"figure_1\">\n",
       "  <g id=\"patch_1\">\n",
       "   <path d=\"M 0 276.48 \n",
       "L 276.48 276.48 \n",
       "L 276.48 0 \n",
       "L 0 0 \n",
       "z\n",
       "\" style=\"fill: #ffffff\"/>\n",
       "  </g>\n",
       "  <g id=\"axes_1\">\n",
       "   <g clip-path=\"url(#pfbc277afcb)\">\n",
       "    <image xlink:href=\"data:image/png;base64,\n",
       "iVBORw0KGgoAAAANSUhEUgAAAGQAAABkCAYAAABw4pVUAAABsElEQVR4nO3cQW7CMBAFUNOz9Qg9Zo/Qu8ECVVUpBGxs51O/t4dY82eMlJiUAgBAf4deX/R++DjWfubr+Nnt+v/F0wVpCeKSYH40F6JHEJcEU8pby4dGhDHye19JVUfOLNiq0/LwhMzu3lWn5aFA9irOiqE0/YYwzt1A9u7Sva8/22YgKcVIWccMtqwwNwNJ68q09YxiQsJcDSS1G1PX1ZMJCSOQMAIJI5AwAgkjkDACCSOQMAIJI5AwAgkjkDBXA0k98ZG6rp5MSJibgaR1Y9p6RjEhYTYDSenKlHXMcHdC9i7G3tefzZYV5qFA9urS1aajlIoJmV2cFcMopfEPOyNPf6waxLem35BRRVs9jFL8xzCOf+ECAAAAAADAyoY8sdt6eugp4TaPcMN0ObnYetBhhZfJ1HqqQ3sW1LScNU9I7+42LWcOW4fxqvEw1YGMLtrqodiywggkTFUgs7aTlbctExJGIGEEEkYgYQQSRiBhqgKZdUd25Tu/JiSMQMJUBzJ6O1l5uyrFiwPi2LLCNAfSu5tNx1mXIjxzd1YQv3XZslqLKoy/nFwEAAAA4FWcAMX3kHnZOHGXAAAAAElFTkSuQmCC\" id=\"image4736cd1458\" transform=\"matrix(2.63 0 0 -2.63 7.2 269.28)\" style=\"image-rendering:crisp-edges;image-rendering:pixelated\" width=\"100\" height=\"100\"/>\n",
       "   </g>\n",
       "  </g>\n",
       " </g>\n",
       " <defs>\n",
       "  <clipPath id=\"pfbc277afcb\">\n",
       "   <rect x=\"7.2\" y=\"7.2\" width=\"262.08\" height=\"262.08\"/>\n",
       "  </clipPath>\n",
       " </defs>\n",
       "</svg>\n"
      ],
      "text/plain": [
       "<Figure size 400x400 with 1 Axes>"
      ]
     },
     "metadata": {},
     "output_type": "display_data"
    },
    {
     "data": {
      "image/svg+xml": [
       "<?xml version=\"1.0\" encoding=\"utf-8\" standalone=\"no\"?>\n",
       "<!DOCTYPE svg PUBLIC \"-//W3C//DTD SVG 1.1//EN\"\n",
       "  \"http://www.w3.org/Graphics/SVG/1.1/DTD/svg11.dtd\">\n",
       "<svg xmlns:xlink=\"http://www.w3.org/1999/xlink\" width=\"276.48pt\" height=\"276.48pt\" viewBox=\"0 0 276.48 276.48\" xmlns=\"http://www.w3.org/2000/svg\" version=\"1.1\">\n",
       " <metadata>\n",
       "  <rdf:RDF xmlns:dc=\"http://purl.org/dc/elements/1.1/\" xmlns:cc=\"http://creativecommons.org/ns#\" xmlns:rdf=\"http://www.w3.org/1999/02/22-rdf-syntax-ns#\">\n",
       "   <cc:Work>\n",
       "    <dc:type rdf:resource=\"http://purl.org/dc/dcmitype/StillImage\"/>\n",
       "    <dc:date>2022-08-22T18:50:29.654873</dc:date>\n",
       "    <dc:format>image/svg+xml</dc:format>\n",
       "    <dc:creator>\n",
       "     <cc:Agent>\n",
       "      <dc:title>Matplotlib v3.5.3, https://matplotlib.org/</dc:title>\n",
       "     </cc:Agent>\n",
       "    </dc:creator>\n",
       "   </cc:Work>\n",
       "  </rdf:RDF>\n",
       " </metadata>\n",
       " <defs>\n",
       "  <style type=\"text/css\">*{stroke-linejoin: round; stroke-linecap: butt}</style>\n",
       " </defs>\n",
       " <g id=\"figure_1\">\n",
       "  <g id=\"patch_1\">\n",
       "   <path d=\"M 0 276.48 \n",
       "L 276.48 276.48 \n",
       "L 276.48 0 \n",
       "L 0 0 \n",
       "z\n",
       "\" style=\"fill: #ffffff\"/>\n",
       "  </g>\n",
       "  <g id=\"axes_1\">\n",
       "   <g clip-path=\"url(#pdaa0b6530d)\">\n",
       "    <image xlink:href=\"data:image/png;base64,\n",
       "iVBORw0KGgoAAAANSUhEUgAAADMAAAAzCAYAAAA6oTAqAAABOElEQVR4nO2azQ3DIAyFSdTROkLH7AjZLb31EAE2/n0gvmOr2DzZscGklA0mR4bT9/G5n79d91e9lr8BLwdPan6s/J09Bz3HEih7Wn8vzcPUQjwi2+O0MBIVWQoTMSisJ6aV29Y5T9nT+ht6uPWSj5Zb9z5DQS0YoZqxnHGqUvTCa6xXAFZhi0GFJca7P1jBjkxUY9UQtpCIPhQiRnIgk4iHLADSIwWcGM1pFE6Mhi1mlKiybjbQoIjoR2IHnn1DOluDfGekaRmWZqNImilkZFpQzXQaMZxmmrrjHSkinDlEWmQ8RrrTpBmHpcRMc6XBmZwOi8mcXFKT07SmKR3p9v5P3QFYR3QXgBqeO2aubZiZVyn6a3WYNLO4VmelmbYcW5bzZY4AFFsMKjBiLK5NoEpzKRjf4EDwAz/Vw6DzGZPCAAAAAElFTkSuQmCC\" id=\"imagea5adcd8f2e\" transform=\"matrix(5.156863 0 0 -5.156863 7.2 269.28)\" style=\"image-rendering:crisp-edges;image-rendering:pixelated\" width=\"51\" height=\"51\"/>\n",
       "   </g>\n",
       "  </g>\n",
       " </g>\n",
       " <defs>\n",
       "  <clipPath id=\"pdaa0b6530d\">\n",
       "   <rect x=\"7.2\" y=\"7.2\" width=\"262.08\" height=\"262.08\"/>\n",
       "  </clipPath>\n",
       " </defs>\n",
       "</svg>\n"
      ],
      "text/plain": [
       "<Figure size 400x400 with 1 Axes>"
      ]
     },
     "metadata": {},
     "output_type": "display_data"
    }
   ],
   "source": [
    "im1 = np.zeros([100, 100,100])\n",
    "im2 = np.zeros([51, 51,51])\n",
    "im1 = ps.generators.RSA(im1, r=25, volume_fraction=0.5)\n",
    "im2 = ps.generators.RSA(im2, r=5, volume_fraction=0.5)\n",
    "im3 = im1.copy()\n",
    "\n",
    "fig, ax = plt.subplots(figsize=[4, 4]);\n",
    "ps.visualization.imshow(im1);\n",
    "plt.axis(False)\n",
    "fig, ax = plt.subplots(figsize=[4, 4]);\n",
    "ps.visualization.imshow(im2);\n",
    "plt.axis(False);\n",
    "\n",
    "#default values:\n",
    "c = [26,26,26]"
   ]
  },
  {
   "cell_type": "markdown",
   "id": "81a1dc0b",
   "metadata": {},
   "source": [
    "## Apply tool"
   ]
  },
  {
   "cell_type": "code",
   "execution_count": 3,
   "id": "a8f3e5aa",
   "metadata": {
    "execution": {
     "iopub.execute_input": "2022-08-22T18:50:29.672238Z",
     "iopub.status.busy": "2022-08-22T18:50:29.671990Z",
     "iopub.status.idle": "2022-08-22T18:50:29.739361Z",
     "shell.execute_reply": "2022-08-22T18:50:29.738726Z"
    }
   },
   "outputs": [
    {
     "data": {
      "image/svg+xml": [
       "<?xml version=\"1.0\" encoding=\"utf-8\" standalone=\"no\"?>\n",
       "<!DOCTYPE svg PUBLIC \"-//W3C//DTD SVG 1.1//EN\"\n",
       "  \"http://www.w3.org/Graphics/SVG/1.1/DTD/svg11.dtd\">\n",
       "<svg xmlns:xlink=\"http://www.w3.org/1999/xlink\" width=\"276.48pt\" height=\"276.48pt\" viewBox=\"0 0 276.48 276.48\" xmlns=\"http://www.w3.org/2000/svg\" version=\"1.1\">\n",
       " <metadata>\n",
       "  <rdf:RDF xmlns:dc=\"http://purl.org/dc/elements/1.1/\" xmlns:cc=\"http://creativecommons.org/ns#\" xmlns:rdf=\"http://www.w3.org/1999/02/22-rdf-syntax-ns#\">\n",
       "   <cc:Work>\n",
       "    <dc:type rdf:resource=\"http://purl.org/dc/dcmitype/StillImage\"/>\n",
       "    <dc:date>2022-08-22T18:50:29.732988</dc:date>\n",
       "    <dc:format>image/svg+xml</dc:format>\n",
       "    <dc:creator>\n",
       "     <cc:Agent>\n",
       "      <dc:title>Matplotlib v3.5.3, https://matplotlib.org/</dc:title>\n",
       "     </cc:Agent>\n",
       "    </dc:creator>\n",
       "   </cc:Work>\n",
       "  </rdf:RDF>\n",
       " </metadata>\n",
       " <defs>\n",
       "  <style type=\"text/css\">*{stroke-linejoin: round; stroke-linecap: butt}</style>\n",
       " </defs>\n",
       " <g id=\"figure_1\">\n",
       "  <g id=\"patch_1\">\n",
       "   <path d=\"M 0 276.48 \n",
       "L 276.48 276.48 \n",
       "L 276.48 0 \n",
       "L 0 0 \n",
       "z\n",
       "\" style=\"fill: #ffffff\"/>\n",
       "  </g>\n",
       "  <g id=\"axes_1\">\n",
       "   <g clip-path=\"url(#pbfaec5a97b)\">\n",
       "    <image xlink:href=\"data:image/png;base64,\n",
       "iVBORw0KGgoAAAANSUhEUgAAAGQAAABkCAYAAABw4pVUAAAB0ElEQVR4nO3cW3LCMAyFYdHp0rqELrNLYG/0IdPptAEnVmT72Pq/ZyCgY9m5YgYAAIB4t6gP+rh9Pmrfc398hW1/FZcL4gniP4L55S5ERBBnZAvrzfOmXmFk9F7zYoJo73SHEEYfpwIhjH5cawjaOQxkdHeM3n5vxUBUiqHyPXpgyhKzO+hSHo0ZDhLpEDFTBaLcvVGmCiQDAhGzCyTDwqmMDhFDIGIIRAyBiHm6gM+2v7/SjsgSHTLbACpZIpCVEIgYAhHzNJCVFsnZTNUhrwbKSgOo+EOU9l5WKnrJVB2SQTEQlVGp8j16OOyQ0cUYvf3emLLEnApk1CjN1h1mFR3SuzgZwzBzPrDTcnc4axA/XGtIq6JlD8OMZwzl8BSumPCClIIhgGMch4ghEDEEIiY8kAzXLAAAAAAAAAA0uEBlxkWqK7iEKybk9Lv3Rgelu+tVXBqhkQWlWzbuDoke3XTLhku4YqT+apwucQTSumjZQ2HKEkMgYqoC6TWdZJ626BAxBCKGQMQQiBgCEUMgYqoC6XVGNvOZXzpEDIGIqQ6k9XSSeboy448D5DBliXEHEj2a6Y5NSBGunJ0liL9CpixvUQljjzsXAQAAAAAAMItvbx+a8mwSW3kAAAAASUVORK5CYII=\" id=\"imageb1ba141777\" transform=\"matrix(2.63 0 0 -2.63 7.2 269.28)\" style=\"image-rendering:crisp-edges;image-rendering:pixelated\" width=\"100\" height=\"100\"/>\n",
       "   </g>\n",
       "  </g>\n",
       " </g>\n",
       " <defs>\n",
       "  <clipPath id=\"pbfaec5a97b\">\n",
       "   <rect x=\"7.2\" y=\"7.2\" width=\"262.08\" height=\"262.08\"/>\n",
       "  </clipPath>\n",
       " </defs>\n",
       "</svg>\n"
      ],
      "text/plain": [
       "<Figure size 400x400 with 1 Axes>"
      ]
     },
     "metadata": {},
     "output_type": "display_data"
    }
   ],
   "source": [
    "im = ps.tools.overlay(im1=im1,im2=im2, c=c)\n",
    "fig, ax = plt.subplots(figsize=[4, 4]);\n",
    "ps.visualization.imshow(im);\n",
    "plt.axis(False);"
   ]
  },
  {
   "cell_type": "code",
   "execution_count": 4,
   "id": "8e89b639",
   "metadata": {
    "execution": {
     "iopub.execute_input": "2022-08-22T18:50:29.742462Z",
     "iopub.status.busy": "2022-08-22T18:50:29.742224Z",
     "iopub.status.idle": "2022-08-22T18:50:29.805492Z",
     "shell.execute_reply": "2022-08-22T18:50:29.804942Z"
    }
   },
   "outputs": [
    {
     "data": {
      "image/svg+xml": [
       "<?xml version=\"1.0\" encoding=\"utf-8\" standalone=\"no\"?>\n",
       "<!DOCTYPE svg PUBLIC \"-//W3C//DTD SVG 1.1//EN\"\n",
       "  \"http://www.w3.org/Graphics/SVG/1.1/DTD/svg11.dtd\">\n",
       "<svg xmlns:xlink=\"http://www.w3.org/1999/xlink\" width=\"276.48pt\" height=\"276.48pt\" viewBox=\"0 0 276.48 276.48\" xmlns=\"http://www.w3.org/2000/svg\" version=\"1.1\">\n",
       " <metadata>\n",
       "  <rdf:RDF xmlns:dc=\"http://purl.org/dc/elements/1.1/\" xmlns:cc=\"http://creativecommons.org/ns#\" xmlns:rdf=\"http://www.w3.org/1999/02/22-rdf-syntax-ns#\">\n",
       "   <cc:Work>\n",
       "    <dc:type rdf:resource=\"http://purl.org/dc/dcmitype/StillImage\"/>\n",
       "    <dc:date>2022-08-22T18:50:29.800193</dc:date>\n",
       "    <dc:format>image/svg+xml</dc:format>\n",
       "    <dc:creator>\n",
       "     <cc:Agent>\n",
       "      <dc:title>Matplotlib v3.5.3, https://matplotlib.org/</dc:title>\n",
       "     </cc:Agent>\n",
       "    </dc:creator>\n",
       "   </cc:Work>\n",
       "  </rdf:RDF>\n",
       " </metadata>\n",
       " <defs>\n",
       "  <style type=\"text/css\">*{stroke-linejoin: round; stroke-linecap: butt}</style>\n",
       " </defs>\n",
       " <g id=\"figure_1\">\n",
       "  <g id=\"patch_1\">\n",
       "   <path d=\"M 0 276.48 \n",
       "L 276.48 276.48 \n",
       "L 276.48 0 \n",
       "L 0 0 \n",
       "z\n",
       "\" style=\"fill: #ffffff\"/>\n",
       "  </g>\n",
       "  <g id=\"axes_1\">\n",
       "   <g clip-path=\"url(#p5a40031087)\">\n",
       "    <image xlink:href=\"data:image/png;base64,\n",
       "iVBORw0KGgoAAAANSUhEUgAAAGQAAABkCAYAAABw4pVUAAACPklEQVR4nO3cUXLCMAxFUdPp0rqELpMlsDf6wTBlIAmRLNkv6J7PTgMZP8uOTZLWAAAAEO8U9UE/p9+r9ZjL9Rz2/Z+iu0E8QTwjmH/uhogI4hnBtPblOSgjjMzPPRJTjxzZYFWrZXeFjO69VatlVyCzGqdiKK45BHneBjK7l87+/tE2A1FpDJXzGIEhS8xqIGq9Uu18slAhYhYDUe2NqucViQoRQyBiCEQMgYghEDEEIoZAxBCIGAIRQyBiCEQMgYhZDET1jg/V84pEhYhZDUStN6qdTxYqRMxmICq9UuU8RnhbIbMbY/b3j8aQJWZXILN6abXqaM1QIaMbp2IYrTkf2Mm8+6NqEHeuOSSr0aqH0RrPGMrhKVwAAIAMXOV0WLqy7L1yZHPRae0yv3dd9t1z8FHs7ckZPd6KChFDIGIIRAyBOK3NLezPAQBm+agJSGFh1ytlpb61fXC0BhotLJC9eziP/0c4r0LWId4NtQovk7HqqpCIBr1/BtVyw5utxZTYfo+UfSXHq8YNsn6UemQOJLvR1EPJxm6vGOaQJN65xlQho4aTysMWQ5bBiB+lGLKMstdKVIgYKiSJt5KoEDEEIsYUyKjNv8qbjMwhg71bMDJkiTEHkj2cVB6uWuPFAXIYssR09cjITUCq4yakEXqCUQ1i1k13IUOW90SPFMbW3yOFrUMeG5c7F/1SFoY0uh8r9UAR8w6XvUGi5p0SFWLtuZfr+TTrKqtEIB6z5kGGLDEEIoZAgvDcOoCC/gDJ9+mFVgcg6wAAAABJRU5ErkJggg==\" id=\"image4d7f0caf3e\" transform=\"matrix(2.63 0 0 -2.63 7.2 269.28)\" style=\"image-rendering:crisp-edges;image-rendering:pixelated\" width=\"100\" height=\"100\"/>\n",
       "   </g>\n",
       "  </g>\n",
       " </g>\n",
       " <defs>\n",
       "  <clipPath id=\"p5a40031087\">\n",
       "   <rect x=\"7.2\" y=\"7.2\" width=\"262.08\" height=\"262.08\"/>\n",
       "  </clipPath>\n",
       " </defs>\n",
       "</svg>\n"
      ],
      "text/plain": [
       "<Figure size 400x400 with 1 Axes>"
      ]
     },
     "metadata": {},
     "output_type": "display_data"
    }
   ],
   "source": [
    "im = ps.tools.overlay(im1=im3, im2=im2, c=[74, 74, 74])\n",
    "fig, ax = plt.subplots(figsize=[4, 4]);\n",
    "ps.visualization.imshow(im);\n",
    "plt.axis(False);"
   ]
  }
 ],
 "metadata": {
  "kernelspec": {
   "display_name": "Python 3 (ipykernel)",
   "language": "python",
   "name": "python3"
  },
  "language_info": {
   "codemirror_mode": {
    "name": "ipython",
    "version": 3
   },
   "file_extension": ".py",
   "mimetype": "text/x-python",
   "name": "python",
   "nbconvert_exporter": "python",
   "pygments_lexer": "ipython3",
   "version": "3.8.13"
  }
 },
 "nbformat": 4,
 "nbformat_minor": 5
}

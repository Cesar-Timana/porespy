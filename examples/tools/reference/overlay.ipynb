{
 "cells": [
  {
   "cell_type": "markdown",
   "id": "4bd55bf8",
   "metadata": {},
   "source": [
    "# `overlay`"
   ]
  },
  {
   "cell_type": "markdown",
   "id": "a71579c9",
   "metadata": {},
   "source": [
    "## Import packages"
   ]
  },
  {
   "cell_type": "code",
   "execution_count": 1,
   "id": "2540ba84",
   "metadata": {
    "execution": {
     "iopub.execute_input": "2022-08-23T01:11:48.439211Z",
     "iopub.status.busy": "2022-08-23T01:11:48.438940Z",
     "iopub.status.idle": "2022-08-23T01:11:50.322856Z",
     "shell.execute_reply": "2022-08-23T01:11:50.322134Z"
    }
   },
   "outputs": [],
   "source": [
    "import numpy as np\n",
    "import porespy as ps\n",
    "import scipy.ndimage as spim\n",
    "import matplotlib.pyplot as plt\n",
    "import skimage\n",
    "ps.visualization.set_mpl_style()"
   ]
  },
  {
   "cell_type": "markdown",
   "id": "24f1086e",
   "metadata": {},
   "source": [
    "## Create image and variables"
   ]
  },
  {
   "cell_type": "code",
   "execution_count": 2,
   "id": "df980fdd",
   "metadata": {
    "execution": {
     "iopub.execute_input": "2022-08-23T01:11:50.326687Z",
     "iopub.status.busy": "2022-08-23T01:11:50.326209Z",
     "iopub.status.idle": "2022-08-23T01:11:51.358687Z",
     "shell.execute_reply": "2022-08-23T01:11:51.358095Z"
    }
   },
   "outputs": [
    {
     "name": "stderr",
     "output_type": "stream",
     "text": [
      "/tmp/ipykernel_10141/2366592848.py:3: DeprecationWarning: Call to deprecated function (or staticmethod) RSA. (This function has been renamed to rsa (lowercase to meet pep8)\n",
      "  im1 = ps.generators.RSA(im1, r=25, volume_fraction=0.5)\n"
     ]
    },
    {
     "name": "stderr",
     "output_type": "stream",
     "text": [
      "/tmp/ipykernel_10141/2366592848.py:4: DeprecationWarning: Call to deprecated function (or staticmethod) RSA. (This function has been renamed to rsa (lowercase to meet pep8)\n",
      "  im2 = ps.generators.RSA(im2, r=5, volume_fraction=0.5)\n"
     ]
    },
    {
     "data": {
      "image/svg+xml": [
       "<?xml version=\"1.0\" encoding=\"utf-8\" standalone=\"no\"?>\n",
       "<!DOCTYPE svg PUBLIC \"-//W3C//DTD SVG 1.1//EN\"\n",
       "  \"http://www.w3.org/Graphics/SVG/1.1/DTD/svg11.dtd\">\n",
       "<svg xmlns:xlink=\"http://www.w3.org/1999/xlink\" width=\"276.48pt\" height=\"276.48pt\" viewBox=\"0 0 276.48 276.48\" xmlns=\"http://www.w3.org/2000/svg\" version=\"1.1\">\n",
       " <metadata>\n",
       "  <rdf:RDF xmlns:dc=\"http://purl.org/dc/elements/1.1/\" xmlns:cc=\"http://creativecommons.org/ns#\" xmlns:rdf=\"http://www.w3.org/1999/02/22-rdf-syntax-ns#\">\n",
       "   <cc:Work>\n",
       "    <dc:type rdf:resource=\"http://purl.org/dc/dcmitype/StillImage\"/>\n",
       "    <dc:date>2022-08-23T01:11:51.316480</dc:date>\n",
       "    <dc:format>image/svg+xml</dc:format>\n",
       "    <dc:creator>\n",
       "     <cc:Agent>\n",
       "      <dc:title>Matplotlib v3.5.3, https://matplotlib.org/</dc:title>\n",
       "     </cc:Agent>\n",
       "    </dc:creator>\n",
       "   </cc:Work>\n",
       "  </rdf:RDF>\n",
       " </metadata>\n",
       " <defs>\n",
       "  <style type=\"text/css\">*{stroke-linejoin: round; stroke-linecap: butt}</style>\n",
       " </defs>\n",
       " <g id=\"figure_1\">\n",
       "  <g id=\"patch_1\">\n",
       "   <path d=\"M 0 276.48 \n",
       "L 276.48 276.48 \n",
       "L 276.48 0 \n",
       "L 0 0 \n",
       "z\n",
       "\" style=\"fill: #ffffff\"/>\n",
       "  </g>\n",
       "  <g id=\"axes_1\">\n",
       "   <g clip-path=\"url(#p92ef0dc476)\">\n",
       "    <image xlink:href=\"data:image/png;base64,\n",
       "iVBORw0KGgoAAAANSUhEUgAAAGQAAABkCAYAAABw4pVUAAABzUlEQVR4nO3cUVYCMRAF0ca1uQSX6RLcG37lMIigQzJ5Fa377ZE2RQ+CSJUkSZIkSZLuOKUH6PF6ejv/9ms/zu9L/KxLDLm1J8I95DjYwbZGRLiHFuclPcBPjowx4/vvhbp3bCUOirAtyA1J3WsJ24ILkj6U9O2jgqQPo0nOgQlCidGk5kEEocVoEnPFg1BjNLPniwfRtWgQ+nY0M+eMBVklRjNrXi9ZMAaBiQRZ7XLVzJjbDYExCMz0IKterpqj53dDYAwCYxAYg8AYBMYgMAaBMQiMQWAMAjM9COHdgT2Ont8NgTEITCTIqpetGXO7ITAGgYkFWe2yNWve6IasEmXmnF6yYOJB6Fsye754kCpulMRciCBVvCipeTBBqjhRknOgglTlo6RvHxekKnco6RhV4A8OaGa805EQokFuyNbRh0WKUbXAhnzlpwGB/cXPy5Ik6VmHPNA9erD1wfWxoYfjbz39hj0x3Pv8YPX/NTzKkCDPHq5RbnUH6T1Uo1zDv5b133QFGXXvdksu3BAYg8AYBMYgMAaBMQhMV5BRr0f5utaFGwLTHaT33u12XBuyIc8eqjFuDbtk7T1cY3zPvxhKkiRJkiRJkiRJ/9knfd6gf0j/MZcAAAAASUVORK5CYII=\" id=\"image515248ad4e\" transform=\"matrix(2.63 0 0 -2.63 7.2 269.28)\" style=\"image-rendering:crisp-edges;image-rendering:pixelated\" width=\"100\" height=\"100\"/>\n",
       "   </g>\n",
       "  </g>\n",
       " </g>\n",
       " <defs>\n",
       "  <clipPath id=\"p92ef0dc476\">\n",
       "   <rect x=\"7.2\" y=\"7.2\" width=\"262.08\" height=\"262.08\"/>\n",
       "  </clipPath>\n",
       " </defs>\n",
       "</svg>\n"
      ],
      "text/plain": [
       "<Figure size 400x400 with 1 Axes>"
      ]
     },
     "metadata": {},
     "output_type": "display_data"
    },
    {
     "data": {
      "image/svg+xml": [
       "<?xml version=\"1.0\" encoding=\"utf-8\" standalone=\"no\"?>\n",
       "<!DOCTYPE svg PUBLIC \"-//W3C//DTD SVG 1.1//EN\"\n",
       "  \"http://www.w3.org/Graphics/SVG/1.1/DTD/svg11.dtd\">\n",
       "<svg xmlns:xlink=\"http://www.w3.org/1999/xlink\" width=\"276.48pt\" height=\"276.48pt\" viewBox=\"0 0 276.48 276.48\" xmlns=\"http://www.w3.org/2000/svg\" version=\"1.1\">\n",
       " <metadata>\n",
       "  <rdf:RDF xmlns:dc=\"http://purl.org/dc/elements/1.1/\" xmlns:cc=\"http://creativecommons.org/ns#\" xmlns:rdf=\"http://www.w3.org/1999/02/22-rdf-syntax-ns#\">\n",
       "   <cc:Work>\n",
       "    <dc:type rdf:resource=\"http://purl.org/dc/dcmitype/StillImage\"/>\n",
       "    <dc:date>2022-08-23T01:11:51.344807</dc:date>\n",
       "    <dc:format>image/svg+xml</dc:format>\n",
       "    <dc:creator>\n",
       "     <cc:Agent>\n",
       "      <dc:title>Matplotlib v3.5.3, https://matplotlib.org/</dc:title>\n",
       "     </cc:Agent>\n",
       "    </dc:creator>\n",
       "   </cc:Work>\n",
       "  </rdf:RDF>\n",
       " </metadata>\n",
       " <defs>\n",
       "  <style type=\"text/css\">*{stroke-linejoin: round; stroke-linecap: butt}</style>\n",
       " </defs>\n",
       " <g id=\"figure_1\">\n",
       "  <g id=\"patch_1\">\n",
       "   <path d=\"M 0 276.48 \n",
       "L 276.48 276.48 \n",
       "L 276.48 0 \n",
       "L 0 0 \n",
       "z\n",
       "\" style=\"fill: #ffffff\"/>\n",
       "  </g>\n",
       "  <g id=\"axes_1\">\n",
       "   <g clip-path=\"url(#pc632de310e)\">\n",
       "    <image xlink:href=\"data:image/png;base64,\n",
       "iVBORw0KGgoAAAANSUhEUgAAADMAAAAzCAYAAAA6oTAqAAABVElEQVR4nO1a2w3DIAwkUUbrCB2zI3S39gupQrF94AePcp8FjA+Hs7F6JCc8juen/O39eR1e+6WUEmu81aG7dTXrW3FSA5RDnKMW4xrckunpkAZkZGbEJjMqzMlIauWpZqRhrbx65RnOrkueqQW6j3TArhkZBUIGSQdbAEbFUmSGuDMIlrozSP5yjYyHtDfnGetNy83RdegBXFaGJDvleGuEOB9PbhLiWCQkH09ukmQkEoiP06gZgkueEguN2rlEptebxu0zoxwOeZz16nWV4KS36j1Ta8iaJHKg6gogImqI/Et7LSXNS5EJzTPe986EjKYhoSk6S8BGKIdbFcjSVh6DIxORayhC0qHk6E5Tm/1d1bzJ/AIpKKOq6NC+mSbPIIo4TRMwJblGnOrOSJ+0W8Ub+QbKUEdmpBaVisxoLaqp7oyETWZUbDIZPf/AcIeQ2myjAV+ShPrCypNuIAAAAABJRU5ErkJggg==\" id=\"imageee68fb1cbe\" transform=\"matrix(5.156863 0 0 -5.156863 7.2 269.28)\" style=\"image-rendering:crisp-edges;image-rendering:pixelated\" width=\"51\" height=\"51\"/>\n",
       "   </g>\n",
       "  </g>\n",
       " </g>\n",
       " <defs>\n",
       "  <clipPath id=\"pc632de310e\">\n",
       "   <rect x=\"7.2\" y=\"7.2\" width=\"262.08\" height=\"262.08\"/>\n",
       "  </clipPath>\n",
       " </defs>\n",
       "</svg>\n"
      ],
      "text/plain": [
       "<Figure size 400x400 with 1 Axes>"
      ]
     },
     "metadata": {},
     "output_type": "display_data"
    }
   ],
   "source": [
    "im1 = np.zeros([100, 100,100])\n",
    "im2 = np.zeros([51, 51,51])\n",
    "im1 = ps.generators.RSA(im1, r=25, volume_fraction=0.5)\n",
    "im2 = ps.generators.RSA(im2, r=5, volume_fraction=0.5)\n",
    "im3 = im1.copy()\n",
    "\n",
    "fig, ax = plt.subplots(figsize=[4, 4]);\n",
    "ps.visualization.imshow(im1);\n",
    "plt.axis(False)\n",
    "fig, ax = plt.subplots(figsize=[4, 4]);\n",
    "ps.visualization.imshow(im2);\n",
    "plt.axis(False);\n",
    "\n",
    "#default values:\n",
    "c = [26,26,26]"
   ]
  },
  {
   "cell_type": "markdown",
   "id": "81a1dc0b",
   "metadata": {},
   "source": [
    "## Apply tool"
   ]
  },
  {
   "cell_type": "code",
   "execution_count": 3,
   "id": "a8f3e5aa",
   "metadata": {
    "execution": {
     "iopub.execute_input": "2022-08-23T01:11:51.361908Z",
     "iopub.status.busy": "2022-08-23T01:11:51.361620Z",
     "iopub.status.idle": "2022-08-23T01:11:51.424982Z",
     "shell.execute_reply": "2022-08-23T01:11:51.424390Z"
    }
   },
   "outputs": [
    {
     "data": {
      "image/svg+xml": [
       "<?xml version=\"1.0\" encoding=\"utf-8\" standalone=\"no\"?>\n",
       "<!DOCTYPE svg PUBLIC \"-//W3C//DTD SVG 1.1//EN\"\n",
       "  \"http://www.w3.org/Graphics/SVG/1.1/DTD/svg11.dtd\">\n",
       "<svg xmlns:xlink=\"http://www.w3.org/1999/xlink\" width=\"276.48pt\" height=\"276.48pt\" viewBox=\"0 0 276.48 276.48\" xmlns=\"http://www.w3.org/2000/svg\" version=\"1.1\">\n",
       " <metadata>\n",
       "  <rdf:RDF xmlns:dc=\"http://purl.org/dc/elements/1.1/\" xmlns:cc=\"http://creativecommons.org/ns#\" xmlns:rdf=\"http://www.w3.org/1999/02/22-rdf-syntax-ns#\">\n",
       "   <cc:Work>\n",
       "    <dc:type rdf:resource=\"http://purl.org/dc/dcmitype/StillImage\"/>\n",
       "    <dc:date>2022-08-23T01:11:51.414912</dc:date>\n",
       "    <dc:format>image/svg+xml</dc:format>\n",
       "    <dc:creator>\n",
       "     <cc:Agent>\n",
       "      <dc:title>Matplotlib v3.5.3, https://matplotlib.org/</dc:title>\n",
       "     </cc:Agent>\n",
       "    </dc:creator>\n",
       "   </cc:Work>\n",
       "  </rdf:RDF>\n",
       " </metadata>\n",
       " <defs>\n",
       "  <style type=\"text/css\">*{stroke-linejoin: round; stroke-linecap: butt}</style>\n",
       " </defs>\n",
       " <g id=\"figure_1\">\n",
       "  <g id=\"patch_1\">\n",
       "   <path d=\"M 0 276.48 \n",
       "L 276.48 276.48 \n",
       "L 276.48 0 \n",
       "L 0 0 \n",
       "z\n",
       "\" style=\"fill: #ffffff\"/>\n",
       "  </g>\n",
       "  <g id=\"axes_1\">\n",
       "   <g clip-path=\"url(#p5759b3abf5)\">\n",
       "    <image xlink:href=\"data:image/png;base64,\n",
       "iVBORw0KGgoAAAANSUhEUgAAAGQAAABkCAYAAABw4pVUAAACDUlEQVR4nO3cXW7iQBAA4SbK0XKEHDNHyN3IQzTCgI2w56droL7HSCt6pzxjcHaJkLTtlD3A0tfp+3z7s9/zD2rG3j6yByjWYjz6+avCBNE/g8AYBMYgMJggW++m3u1dlqRHpj4O9nxGmeXom2LIpRYfFMlxsIMt9fy0TouDeZe1pfejE9qjGdTVsZSxUITdgtwhWVctYbfggmQvSvbro4JkL0aROQcmCCVGkTUPIggtRpExV3oQaoxi9HzpQXQtNQh9dxQj50wLMkuMYtS8HlkwBoFJCTLbcVWMmNsdAmMQmOFBZj2uit7zu0NgDAJjEBiDwBgExiAwBoExCIxBYAwCMzwI4V8H1ug9vzsE5vPIH/I/+PdzKMgeW/FmfOo74qLremT57Qz7eQ+BSQsy2z1n1LxdX+TR0VT+gjMcXyMvHo8smK5Bnvl2BvrRNXo+zGIQj66MiwVzZNF2StY8mCARnCiZc6CCRORHyX59XJCIvEXJjhEBuqlvGXGzJ4QokDtkqfdikWJETLBDbvltQGCv+H1ZkiQd1eVG98zvQbSu6eL4rqdesw+Gez8fEB+3EzQJcnRxjXKvOkjtohrlGv5Z1rupCtLq6naXXLhDYAwCYxAYg8AYBMYgMFVBWj2P8rnWhTsEpjpI7dXt7rjWZIccXVRj3Gt2ZO1dXGOs8zeGkiRJkiRJkiRJ0jv7Axp+vh6QM5mIAAAAAElFTkSuQmCC\" id=\"image8c951712f4\" transform=\"matrix(2.63 0 0 -2.63 7.2 269.28)\" style=\"image-rendering:crisp-edges;image-rendering:pixelated\" width=\"100\" height=\"100\"/>\n",
       "   </g>\n",
       "  </g>\n",
       " </g>\n",
       " <defs>\n",
       "  <clipPath id=\"p5759b3abf5\">\n",
       "   <rect x=\"7.2\" y=\"7.2\" width=\"262.08\" height=\"262.08\"/>\n",
       "  </clipPath>\n",
       " </defs>\n",
       "</svg>\n"
      ],
      "text/plain": [
       "<Figure size 400x400 with 1 Axes>"
      ]
     },
     "metadata": {},
     "output_type": "display_data"
    }
   ],
   "source": [
    "im = ps.tools.overlay(im1=im1,im2=im2, c=c)\n",
    "fig, ax = plt.subplots(figsize=[4, 4]);\n",
    "ps.visualization.imshow(im);\n",
    "plt.axis(False);"
   ]
  },
  {
   "cell_type": "code",
   "execution_count": 4,
   "id": "8e89b639",
   "metadata": {
    "execution": {
     "iopub.execute_input": "2022-08-23T01:11:51.428003Z",
     "iopub.status.busy": "2022-08-23T01:11:51.427741Z",
     "iopub.status.idle": "2022-08-23T01:11:51.493764Z",
     "shell.execute_reply": "2022-08-23T01:11:51.493215Z"
    }
   },
   "outputs": [
    {
     "data": {
      "image/svg+xml": [
       "<?xml version=\"1.0\" encoding=\"utf-8\" standalone=\"no\"?>\n",
       "<!DOCTYPE svg PUBLIC \"-//W3C//DTD SVG 1.1//EN\"\n",
       "  \"http://www.w3.org/Graphics/SVG/1.1/DTD/svg11.dtd\">\n",
       "<svg xmlns:xlink=\"http://www.w3.org/1999/xlink\" width=\"276.48pt\" height=\"276.48pt\" viewBox=\"0 0 276.48 276.48\" xmlns=\"http://www.w3.org/2000/svg\" version=\"1.1\">\n",
       " <metadata>\n",
       "  <rdf:RDF xmlns:dc=\"http://purl.org/dc/elements/1.1/\" xmlns:cc=\"http://creativecommons.org/ns#\" xmlns:rdf=\"http://www.w3.org/1999/02/22-rdf-syntax-ns#\">\n",
       "   <cc:Work>\n",
       "    <dc:type rdf:resource=\"http://purl.org/dc/dcmitype/StillImage\"/>\n",
       "    <dc:date>2022-08-23T01:11:51.483801</dc:date>\n",
       "    <dc:format>image/svg+xml</dc:format>\n",
       "    <dc:creator>\n",
       "     <cc:Agent>\n",
       "      <dc:title>Matplotlib v3.5.3, https://matplotlib.org/</dc:title>\n",
       "     </cc:Agent>\n",
       "    </dc:creator>\n",
       "   </cc:Work>\n",
       "  </rdf:RDF>\n",
       " </metadata>\n",
       " <defs>\n",
       "  <style type=\"text/css\">*{stroke-linejoin: round; stroke-linecap: butt}</style>\n",
       " </defs>\n",
       " <g id=\"figure_1\">\n",
       "  <g id=\"patch_1\">\n",
       "   <path d=\"M 0 276.48 \n",
       "L 276.48 276.48 \n",
       "L 276.48 0 \n",
       "L 0 0 \n",
       "z\n",
       "\" style=\"fill: #ffffff\"/>\n",
       "  </g>\n",
       "  <g id=\"axes_1\">\n",
       "   <g clip-path=\"url(#pdd40f2ba34)\">\n",
       "    <image xlink:href=\"data:image/png;base64,\n",
       "iVBORw0KGgoAAAANSUhEUgAAAGQAAABkCAYAAABw4pVUAAACT0lEQVR4nO2cUXLCMAwFRadH6xF6TI7A3eiXhzBNQoxl6SnsfjIpCK0lxUmJGQAAAAAAAAAAbHDJDmCEn8vv/eixt/u1xHctEeSSHglbKMuRDWyJh4Qt1OR8ZQfwipkyIt6/F6nVsSQjUQrVIlkhWatWoVrkhGQnJfvzpYRkJ6ORGYeMEBUZjax4JISoyWhkxJUuRFVGIzq+dCHwTKoQ9epoRMaZJqSKjEZUvLQsMRAiRoqQau2qERE3FSIGQsQIF1K1XTVmx0+FiIEQMRAiBkLEQIgYCBEDIWIgRAyEiIEQMcKFKPx34Aiz46dCxECIGClCqratiLipEDEQIkaakGptKyre1AqpIiUyTlqWGBIrtMp99ohKkRBiVlfKWtwj4mRaVpV5MhsZIWZIMRMTYpYvJfvz5YSY5SUlW4aZ0FDfImLYr4nwHtZHkRdi9lnPOpEK5gheTwPKqoBXfGcH0MsyaWd8XlY5IUuqJLkHybOsTwYhAHtM6cF7w/aMfd8T1+Sc8awnGrcZ0rs/qHK5PRoXIe8mFyn/GRYymlSkPMNprxhDQrxWN1XygAoRAyFiIEQMhIiBEDEQIsaQEK/rUVzXelD6juFMeu65e96fH25Zo6tbsTq2Nqprr/ccewSXGfJuUhVlZOM21HuTi4x1XGdISzJ3DPfZmzlThjpJ32Zv5tzu1wv7kBW2FtTa6z3HHoGVHMyrdk6FiIEQMWhZg7yzS9/7G4QMMOP0npYlxikvLqr+GOcIVIgYCBEDIQN479LNTjpDIqkymwAA4Pz8AaOK69mkQChAAAAAAElFTkSuQmCC\" id=\"image97b6fb385d\" transform=\"matrix(2.63 0 0 -2.63 7.2 269.28)\" style=\"image-rendering:crisp-edges;image-rendering:pixelated\" width=\"100\" height=\"100\"/>\n",
       "   </g>\n",
       "  </g>\n",
       " </g>\n",
       " <defs>\n",
       "  <clipPath id=\"pdd40f2ba34\">\n",
       "   <rect x=\"7.2\" y=\"7.2\" width=\"262.08\" height=\"262.08\"/>\n",
       "  </clipPath>\n",
       " </defs>\n",
       "</svg>\n"
      ],
      "text/plain": [
       "<Figure size 400x400 with 1 Axes>"
      ]
     },
     "metadata": {},
     "output_type": "display_data"
    }
   ],
   "source": [
    "im = ps.tools.overlay(im1=im3, im2=im2, c=[74, 74, 74])\n",
    "fig, ax = plt.subplots(figsize=[4, 4]);\n",
    "ps.visualization.imshow(im);\n",
    "plt.axis(False);"
   ]
  }
 ],
 "metadata": {
  "kernelspec": {
   "display_name": "Python 3 (ipykernel)",
   "language": "python",
   "name": "python3"
  },
  "language_info": {
   "codemirror_mode": {
    "name": "ipython",
    "version": 3
   },
   "file_extension": ".py",
   "mimetype": "text/x-python",
   "name": "python",
   "nbconvert_exporter": "python",
   "pygments_lexer": "ipython3",
   "version": "3.8.13"
  }
 },
 "nbformat": 4,
 "nbformat_minor": 5
}

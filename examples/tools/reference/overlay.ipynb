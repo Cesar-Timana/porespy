{
 "cells": [
  {
   "cell_type": "markdown",
   "id": "4bd55bf8",
   "metadata": {},
   "source": [
    "# `overlay`"
   ]
  },
  {
   "cell_type": "markdown",
   "id": "a71579c9",
   "metadata": {},
   "source": [
    "## Import packages"
   ]
  },
  {
   "cell_type": "code",
   "execution_count": 1,
   "id": "2540ba84",
   "metadata": {
    "execution": {
     "iopub.execute_input": "2022-08-12T21:49:37.646223Z",
     "iopub.status.busy": "2022-08-12T21:49:37.645967Z",
     "iopub.status.idle": "2022-08-12T21:49:39.633204Z",
     "shell.execute_reply": "2022-08-12T21:49:39.632367Z"
    }
   },
   "outputs": [],
   "source": [
    "import numpy as np\n",
    "import porespy as ps\n",
    "import scipy.ndimage as spim\n",
    "import matplotlib.pyplot as plt\n",
    "import skimage\n",
    "ps.visualization.set_mpl_style()"
   ]
  },
  {
   "cell_type": "markdown",
   "id": "24f1086e",
   "metadata": {},
   "source": [
    "## Create image and variables"
   ]
  },
  {
   "cell_type": "code",
   "execution_count": 2,
   "id": "df980fdd",
   "metadata": {
    "execution": {
     "iopub.execute_input": "2022-08-12T21:49:39.637766Z",
     "iopub.status.busy": "2022-08-12T21:49:39.637205Z",
     "iopub.status.idle": "2022-08-12T21:49:40.737697Z",
     "shell.execute_reply": "2022-08-12T21:49:40.737092Z"
    }
   },
   "outputs": [
    {
     "name": "stderr",
     "output_type": "stream",
     "text": [
      "/tmp/ipykernel_10013/2366592848.py:3: DeprecationWarning: Call to deprecated function (or staticmethod) RSA. (This function has been renamed to rsa (lowercase to meet pep8)\n",
      "  im1 = ps.generators.RSA(im1, r=25, volume_fraction=0.5)\n"
     ]
    },
    {
     "name": "stderr",
     "output_type": "stream",
     "text": [
      "/tmp/ipykernel_10013/2366592848.py:4: DeprecationWarning: Call to deprecated function (or staticmethod) RSA. (This function has been renamed to rsa (lowercase to meet pep8)\n",
      "  im2 = ps.generators.RSA(im2, r=5, volume_fraction=0.5)\n"
     ]
    },
    {
     "data": {
      "image/svg+xml": [
       "<?xml version=\"1.0\" encoding=\"utf-8\" standalone=\"no\"?>\n",
       "<!DOCTYPE svg PUBLIC \"-//W3C//DTD SVG 1.1//EN\"\n",
       "  \"http://www.w3.org/Graphics/SVG/1.1/DTD/svg11.dtd\">\n",
       "<svg xmlns:xlink=\"http://www.w3.org/1999/xlink\" width=\"280.8pt\" height=\"280.8pt\" viewBox=\"0 0 280.8 280.8\" xmlns=\"http://www.w3.org/2000/svg\" version=\"1.1\">\n",
       " <metadata>\n",
       "  <rdf:RDF xmlns:dc=\"http://purl.org/dc/elements/1.1/\" xmlns:cc=\"http://creativecommons.org/ns#\" xmlns:rdf=\"http://www.w3.org/1999/02/22-rdf-syntax-ns#\">\n",
       "   <cc:Work>\n",
       "    <dc:type rdf:resource=\"http://purl.org/dc/dcmitype/StillImage\"/>\n",
       "    <dc:date>2022-08-12T21:49:40.675640</dc:date>\n",
       "    <dc:format>image/svg+xml</dc:format>\n",
       "    <dc:creator>\n",
       "     <cc:Agent>\n",
       "      <dc:title>Matplotlib v3.5.3, https://matplotlib.org/</dc:title>\n",
       "     </cc:Agent>\n",
       "    </dc:creator>\n",
       "   </cc:Work>\n",
       "  </rdf:RDF>\n",
       " </metadata>\n",
       " <defs>\n",
       "  <style type=\"text/css\">*{stroke-linejoin: round; stroke-linecap: butt}</style>\n",
       " </defs>\n",
       " <g id=\"figure_1\">\n",
       "  <g id=\"patch_1\">\n",
       "   <path d=\"M 0 280.8 \n",
       "L 280.8 280.8 \n",
       "L 280.8 0 \n",
       "L 0 0 \n",
       "L 0 280.8 \n",
       "z\n",
       "\" style=\"fill: none\"/>\n",
       "  </g>\n",
       "  <g id=\"axes_1\">\n",
       "   <g clip-path=\"url(#p13257b9998)\">\n",
       "    <image xlink:href=\"data:image/png;base64,\n",
       "iVBORw0KGgoAAAANSUhEUgAAAGQAAABkCAYAAABw4pVUAAAB0ElEQVR4nO3bUU7DQAxFURexNJbAMlkCeytfEa1QQiYztp/re35BGccvnirq1AwAAAAAAAAAAAAAIOKWXcCIj9vnfe9v3/evUveyx+UmPBp3dM3ZaytZegNnmrYZaZ7XdRW9rbrQSNNG/t/ruqqWBHK1CdWb52E6kNmmEsqzZVsW1pgKZNXTzZT8YkLEEIgY+UBG3yt4DwlwtsnVwzArEojZ/81+hTDMzN6zCxjxKk0/MjUhqxrUodFnldmyupgOZPbpZjqeLZmQq00ljL+WbVnd3he8lPnGEAAAAACAFl7yrbny0VOpYmasOEqkEE56AbM8znRlBlP6CyqvA3aZB/dKTkhkw6KnpdyERD+90euVCiRrK4lct0wg2Qeyo9YvE0gXJQLJno5NRB3ygaiEsfGuRz6QbqQDUZuOjWdd0oF0RCBiZANR3a42XvXJBtIVgYghEDEEIoZAxBCIGAIRQyBiCEQMgYiRDUTh0NoRr/pkA+mKQMRIB6K6bXnWJR1IR/KBqE2Jdz3ygZjphBJRR4lAOikTSPaURK1fJhCzvFAi1y0ViFl8KNHrSXxYXuV5MiVrGstNyCOvpmV+XpWekEf8CldY5d+pAwAAAAAAYNcPMsWoekqcX+EAAAAASUVORK5CYII=\" id=\"image249d9ecfd0\" transform=\"matrix(2.67 0 0 -2.67 7.2 273.6)\" style=\"image-rendering:crisp-edges;image-rendering:pixelated\" width=\"100\" height=\"100\"/>\n",
       "   </g>\n",
       "  </g>\n",
       " </g>\n",
       " <defs>\n",
       "  <clipPath id=\"p13257b9998\">\n",
       "   <rect x=\"7.2\" y=\"7.2\" width=\"266.4\" height=\"266.4\"/>\n",
       "  </clipPath>\n",
       " </defs>\n",
       "</svg>\n"
      ],
      "text/plain": [
       "<Figure size 288x288 with 1 Axes>"
      ]
     },
     "metadata": {
      "needs_background": "light"
     },
     "output_type": "display_data"
    },
    {
     "data": {
      "image/svg+xml": [
       "<?xml version=\"1.0\" encoding=\"utf-8\" standalone=\"no\"?>\n",
       "<!DOCTYPE svg PUBLIC \"-//W3C//DTD SVG 1.1//EN\"\n",
       "  \"http://www.w3.org/Graphics/SVG/1.1/DTD/svg11.dtd\">\n",
       "<svg xmlns:xlink=\"http://www.w3.org/1999/xlink\" width=\"280.8pt\" height=\"280.8pt\" viewBox=\"0 0 280.8 280.8\" xmlns=\"http://www.w3.org/2000/svg\" version=\"1.1\">\n",
       " <metadata>\n",
       "  <rdf:RDF xmlns:dc=\"http://purl.org/dc/elements/1.1/\" xmlns:cc=\"http://creativecommons.org/ns#\" xmlns:rdf=\"http://www.w3.org/1999/02/22-rdf-syntax-ns#\">\n",
       "   <cc:Work>\n",
       "    <dc:type rdf:resource=\"http://purl.org/dc/dcmitype/StillImage\"/>\n",
       "    <dc:date>2022-08-12T21:49:40.724936</dc:date>\n",
       "    <dc:format>image/svg+xml</dc:format>\n",
       "    <dc:creator>\n",
       "     <cc:Agent>\n",
       "      <dc:title>Matplotlib v3.5.3, https://matplotlib.org/</dc:title>\n",
       "     </cc:Agent>\n",
       "    </dc:creator>\n",
       "   </cc:Work>\n",
       "  </rdf:RDF>\n",
       " </metadata>\n",
       " <defs>\n",
       "  <style type=\"text/css\">*{stroke-linejoin: round; stroke-linecap: butt}</style>\n",
       " </defs>\n",
       " <g id=\"figure_1\">\n",
       "  <g id=\"patch_1\">\n",
       "   <path d=\"M 0 280.8 \n",
       "L 280.8 280.8 \n",
       "L 280.8 0 \n",
       "L 0 0 \n",
       "L 0 280.8 \n",
       "z\n",
       "\" style=\"fill: none\"/>\n",
       "  </g>\n",
       "  <g id=\"axes_1\">\n",
       "   <g clip-path=\"url(#p20bf806787)\">\n",
       "    <image xlink:href=\"data:image/png;base64,\n",
       "iVBORw0KGgoAAAANSUhEUgAAADMAAAAzCAYAAAA6oTAqAAABg0lEQVR4nO2ZyxGEIAyGxdnSLMEyLcHe2MseHBfy4k9Ah+/oICTmSUzLjy3teblx5iPdn3nTIsda24B67kWrHEmy0GIh7RdGyLHKRNPRy9JwZTiBPRVysUwvXqVMWhba9Gc+ikmiFowtgczJwe27UgtrinAHW6HkkLxPLrJ+5dYvbOXjsanWNSk0+7hYBoXWwi6WqYFMJFva8/3dsNQckUhIZTgXkrpYVFfAWqY1XUYiihltt9tL0aaY8YwDi4ublYmIA62Lm91HW4MiuoKiZTzcJyKRqPqqqwC9u4MSr7rPmJVBFVQkTb0Z1x1LaxCqVpljhlsjzV7ILPfnZpHug65VxZh5Uj92pRozowteYqZmCT1ctbsrIbMZVBlrvXCrM1Z6zcquQA5BNp0tVhK1M1FXY+rqIZ41Ww/gxZOD6AZmnRkViDKj3G1gs2bk5J+COsM1XSJ/n3NzhzMfaZjfEdR70gGK+HeCxl08JjczNT+ZqUwPJLVsuGxm2VdVZzwOnjB8ATzvQtmZswJcAAAAAElFTkSuQmCC\" id=\"imagecd8910bb21\" transform=\"matrix(5.235294 0 0 -5.235294 7.2 273.6)\" style=\"image-rendering:crisp-edges;image-rendering:pixelated\" width=\"51\" height=\"51\"/>\n",
       "   </g>\n",
       "  </g>\n",
       " </g>\n",
       " <defs>\n",
       "  <clipPath id=\"p20bf806787\">\n",
       "   <rect x=\"7.2\" y=\"7.2\" width=\"266.4\" height=\"266.4\"/>\n",
       "  </clipPath>\n",
       " </defs>\n",
       "</svg>\n"
      ],
      "text/plain": [
       "<Figure size 288x288 with 1 Axes>"
      ]
     },
     "metadata": {
      "needs_background": "light"
     },
     "output_type": "display_data"
    }
   ],
   "source": [
    "im1 = np.zeros([100, 100,100])\n",
    "im2 = np.zeros([51, 51,51])\n",
    "im1 = ps.generators.RSA(im1, r=25, volume_fraction=0.5)\n",
    "im2 = ps.generators.RSA(im2, r=5, volume_fraction=0.5)\n",
    "im3 = im1.copy()\n",
    "\n",
    "fig, ax = plt.subplots(figsize=[4, 4]);\n",
    "ps.visualization.imshow(im1);\n",
    "plt.axis(False)\n",
    "fig, ax = plt.subplots(figsize=[4, 4]);\n",
    "ps.visualization.imshow(im2);\n",
    "plt.axis(False);\n",
    "\n",
    "#default values:\n",
    "c = [26,26,26]"
   ]
  },
  {
   "cell_type": "markdown",
   "id": "81a1dc0b",
   "metadata": {},
   "source": [
    "## Apply tool"
   ]
  },
  {
   "cell_type": "code",
   "execution_count": 3,
   "id": "a8f3e5aa",
   "metadata": {
    "execution": {
     "iopub.execute_input": "2022-08-12T21:49:40.743179Z",
     "iopub.status.busy": "2022-08-12T21:49:40.741603Z",
     "iopub.status.idle": "2022-08-12T21:49:40.834003Z",
     "shell.execute_reply": "2022-08-12T21:49:40.833348Z"
    }
   },
   "outputs": [
    {
     "data": {
      "image/svg+xml": [
       "<?xml version=\"1.0\" encoding=\"utf-8\" standalone=\"no\"?>\n",
       "<!DOCTYPE svg PUBLIC \"-//W3C//DTD SVG 1.1//EN\"\n",
       "  \"http://www.w3.org/Graphics/SVG/1.1/DTD/svg11.dtd\">\n",
       "<svg xmlns:xlink=\"http://www.w3.org/1999/xlink\" width=\"280.8pt\" height=\"280.8pt\" viewBox=\"0 0 280.8 280.8\" xmlns=\"http://www.w3.org/2000/svg\" version=\"1.1\">\n",
       " <metadata>\n",
       "  <rdf:RDF xmlns:dc=\"http://purl.org/dc/elements/1.1/\" xmlns:cc=\"http://creativecommons.org/ns#\" xmlns:rdf=\"http://www.w3.org/1999/02/22-rdf-syntax-ns#\">\n",
       "   <cc:Work>\n",
       "    <dc:type rdf:resource=\"http://purl.org/dc/dcmitype/StillImage\"/>\n",
       "    <dc:date>2022-08-12T21:49:40.818893</dc:date>\n",
       "    <dc:format>image/svg+xml</dc:format>\n",
       "    <dc:creator>\n",
       "     <cc:Agent>\n",
       "      <dc:title>Matplotlib v3.5.3, https://matplotlib.org/</dc:title>\n",
       "     </cc:Agent>\n",
       "    </dc:creator>\n",
       "   </cc:Work>\n",
       "  </rdf:RDF>\n",
       " </metadata>\n",
       " <defs>\n",
       "  <style type=\"text/css\">*{stroke-linejoin: round; stroke-linecap: butt}</style>\n",
       " </defs>\n",
       " <g id=\"figure_1\">\n",
       "  <g id=\"patch_1\">\n",
       "   <path d=\"M 0 280.8 \n",
       "L 280.8 280.8 \n",
       "L 280.8 0 \n",
       "L 0 0 \n",
       "L 0 280.8 \n",
       "z\n",
       "\" style=\"fill: none\"/>\n",
       "  </g>\n",
       "  <g id=\"axes_1\">\n",
       "   <g clip-path=\"url(#pec2ccd52d6)\">\n",
       "    <image xlink:href=\"data:image/png;base64,\n",
       "iVBORw0KGgoAAAANSUhEUgAAAGQAAABkCAYAAABw4pVUAAACa0lEQVR4nO2cUXLDIAwFlU6P1iP0mD1C7pZ+ZDzjxDEhthBPsPvZTgxoI0DGjhkA7HPp3YFP+bn83p7/dr39pRvHHmED8Qjkq2scvZYqXxGN7AWyFOBZCREC9SBEDISI8V36p9qO5nr7u6j1yZvdgXjvaEYPpBfFDPGE4NcRJqQGskhoUadWuSMjBO7sCtmbKmabQqIpriEEPx6mLDFkhDBFgiSpvn0znIc0GUSLwNXUIyNIcR3AJ0XcErya6vzIdbPysvNHbmF4V9QlYbWfzchml3XkFsZstzdacnrbiwxfZOoQuHNKCNnhj2SGZF6Uz7K5udjr3HpmCWtOBcFzyioJmakOkZyynqkNcnYZZkmEmL0P9ggyzMQecnjHKEEvcSpDvAI0Q6BrOZwh1CBt6L6GkB2PbDIksgZBxpaHDIl8WA0Zr3HdZdWcYSCiTPXJHIGMofuiDo8gRIwHITysBvBE88eAyK7PcFtDeOHGBxZ1MRAiRqrzkFoyH/kOI+ToWrX+nIKc9Lus0W58dv9GnKHlDq6XlJRCIrfS0WLS7bKi65ro9lIJ6VVkRrabRkjvij+q/TRCZiGFkN7ZsRDRD3khKjIWWvdHXshsSAtRy46Flv2SFjIjCBFDVojqdLXQqn+yQmYFIWIgRAyEiIEQMRAiBkLEQIgYCBEDIWLIClF4aK1Eq/7JCpkVhIghLUR12mrZL2khMyIvRC1LWvdHXoiZjpSIfqQQMhNphPTOkqj20wgx6yclst1UQszipUS3J7FYHmXEN6jSZciaEX/pLnWGrPHIlt4bB7OBhKzJ/J46AAAAAAAAAADs8g+T/BDQi29CBwAAAABJRU5ErkJggg==\" id=\"image4377b70b43\" transform=\"matrix(2.67 0 0 -2.67 7.2 273.6)\" style=\"image-rendering:crisp-edges;image-rendering:pixelated\" width=\"100\" height=\"100\"/>\n",
       "   </g>\n",
       "  </g>\n",
       " </g>\n",
       " <defs>\n",
       "  <clipPath id=\"pec2ccd52d6\">\n",
       "   <rect x=\"7.2\" y=\"7.2\" width=\"266.4\" height=\"266.4\"/>\n",
       "  </clipPath>\n",
       " </defs>\n",
       "</svg>\n"
      ],
      "text/plain": [
       "<Figure size 288x288 with 1 Axes>"
      ]
     },
     "metadata": {
      "needs_background": "light"
     },
     "output_type": "display_data"
    }
   ],
   "source": [
    "im = ps.tools.overlay(im1=im1,im2=im2, c=c)\n",
    "fig, ax = plt.subplots(figsize=[4, 4]);\n",
    "ps.visualization.imshow(im);\n",
    "plt.axis(False);"
   ]
  },
  {
   "cell_type": "code",
   "execution_count": 4,
   "id": "8e89b639",
   "metadata": {
    "execution": {
     "iopub.execute_input": "2022-08-12T21:49:40.837599Z",
     "iopub.status.busy": "2022-08-12T21:49:40.837167Z",
     "iopub.status.idle": "2022-08-12T21:49:40.922056Z",
     "shell.execute_reply": "2022-08-12T21:49:40.921476Z"
    }
   },
   "outputs": [
    {
     "data": {
      "image/svg+xml": [
       "<?xml version=\"1.0\" encoding=\"utf-8\" standalone=\"no\"?>\n",
       "<!DOCTYPE svg PUBLIC \"-//W3C//DTD SVG 1.1//EN\"\n",
       "  \"http://www.w3.org/Graphics/SVG/1.1/DTD/svg11.dtd\">\n",
       "<svg xmlns:xlink=\"http://www.w3.org/1999/xlink\" width=\"280.8pt\" height=\"280.8pt\" viewBox=\"0 0 280.8 280.8\" xmlns=\"http://www.w3.org/2000/svg\" version=\"1.1\">\n",
       " <metadata>\n",
       "  <rdf:RDF xmlns:dc=\"http://purl.org/dc/elements/1.1/\" xmlns:cc=\"http://creativecommons.org/ns#\" xmlns:rdf=\"http://www.w3.org/1999/02/22-rdf-syntax-ns#\">\n",
       "   <cc:Work>\n",
       "    <dc:type rdf:resource=\"http://purl.org/dc/dcmitype/StillImage\"/>\n",
       "    <dc:date>2022-08-12T21:49:40.907856</dc:date>\n",
       "    <dc:format>image/svg+xml</dc:format>\n",
       "    <dc:creator>\n",
       "     <cc:Agent>\n",
       "      <dc:title>Matplotlib v3.5.3, https://matplotlib.org/</dc:title>\n",
       "     </cc:Agent>\n",
       "    </dc:creator>\n",
       "   </cc:Work>\n",
       "  </rdf:RDF>\n",
       " </metadata>\n",
       " <defs>\n",
       "  <style type=\"text/css\">*{stroke-linejoin: round; stroke-linecap: butt}</style>\n",
       " </defs>\n",
       " <g id=\"figure_1\">\n",
       "  <g id=\"patch_1\">\n",
       "   <path d=\"M 0 280.8 \n",
       "L 280.8 280.8 \n",
       "L 280.8 0 \n",
       "L 0 0 \n",
       "L 0 280.8 \n",
       "z\n",
       "\" style=\"fill: none\"/>\n",
       "  </g>\n",
       "  <g id=\"axes_1\">\n",
       "   <g clip-path=\"url(#pbc9e28f312)\">\n",
       "    <image xlink:href=\"data:image/png;base64,\n",
       "iVBORw0KGgoAAAANSUhEUgAAAGQAAABkCAYAAABw4pVUAAACIUlEQVR4nO3cUVaEMAyF4YzHpbkEl+kS3Nv4xBF1GEvbJDf0/x7VA51cUopUzQAAAAAAAAAAAAAAIm7ZAzjj7fZ+P/re5/2j1Gc54vIhPAr37Jijx1Yy9QO0FG1zpnhex1X0MutAZ4p25ue9jqtqSiC9RahePA/DgYwWlVB+mjZlYY6hQGZd3XTJNzpEDIGIkQ/k7HMFzyEBWotcPQyzIoGY/V/sK4RhZvaaPYAzrlL0Z4Y6ZFaBVih0qzJT1iqGAxm9uumOn6Z0SG9RCeOvaVPWas8LXsq8MQQAAAAAYAmXfGquvPVUajAjZmwlUggnfQCjPPZ0ZQZT+gWV1wa7zI17JTsksmDR3VKuQ6Kv3ujzlQokayqJPG+ZQLI3ZEedv9S+LFWPwuq995TokOzu2Dwax9HYescsH4hKGBvv8cgHshrpQNS6Y+M5Lm7qgVpu/tIdUsHRaur311tv/rK/OlGdrvZm/TeK/XHoEDEEIoZAxBBIkNabP8veQC2LADpEDIGIIRAxBCKGQMTIBqKwae0Zr/HJBrIqAhEjHYjqtOU5LulAViQfiFqXeI9HPhAznVAixlEikJVIXHmtMl/rtrwjn9FBpToka+rq3bDQo1QgZvGhRJ+v5AuqrUieU1hWN5brkD2vomWu6kp2yN7MblFYXqcPwEPE36l7rbIAoBDmvA6e94/Sy94Mnk/pZgQih0DEEIgYAhFDICe1/lkBLuILhvPi+QBakTEAAAAASUVORK5CYII=\" id=\"image0944bb6653\" transform=\"matrix(2.67 0 0 -2.67 7.2 273.6)\" style=\"image-rendering:crisp-edges;image-rendering:pixelated\" width=\"100\" height=\"100\"/>\n",
       "   </g>\n",
       "  </g>\n",
       " </g>\n",
       " <defs>\n",
       "  <clipPath id=\"pbc9e28f312\">\n",
       "   <rect x=\"7.2\" y=\"7.2\" width=\"266.4\" height=\"266.4\"/>\n",
       "  </clipPath>\n",
       " </defs>\n",
       "</svg>\n"
      ],
      "text/plain": [
       "<Figure size 288x288 with 1 Axes>"
      ]
     },
     "metadata": {
      "needs_background": "light"
     },
     "output_type": "display_data"
    }
   ],
   "source": [
    "im = ps.tools.overlay(im1=im3, im2=im2, c=[74, 74, 74])\n",
    "fig, ax = plt.subplots(figsize=[4, 4]);\n",
    "ps.visualization.imshow(im);\n",
    "plt.axis(False);"
   ]
  }
 ],
 "metadata": {
  "kernelspec": {
   "display_name": "Python 3 (ipykernel)",
   "language": "python",
   "name": "python3"
  },
  "language_info": {
   "codemirror_mode": {
    "name": "ipython",
    "version": 3
   },
   "file_extension": ".py",
   "mimetype": "text/x-python",
   "name": "python",
   "nbconvert_exporter": "python",
   "pygments_lexer": "ipython3",
   "version": "3.8.13"
  }
 },
 "nbformat": 4,
 "nbformat_minor": 5
}

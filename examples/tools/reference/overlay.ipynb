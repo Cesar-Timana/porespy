{
 "cells": [
  {
   "cell_type": "markdown",
   "id": "4bd55bf8",
   "metadata": {},
   "source": [
    "# `overlay`"
   ]
  },
  {
   "cell_type": "markdown",
   "id": "a71579c9",
   "metadata": {},
   "source": [
    "## Import packages"
   ]
  },
  {
   "cell_type": "code",
   "execution_count": 1,
   "id": "2540ba84",
   "metadata": {
    "execution": {
     "iopub.execute_input": "2022-08-12T22:15:21.536432Z",
     "iopub.status.busy": "2022-08-12T22:15:21.535924Z",
     "iopub.status.idle": "2022-08-12T22:15:23.931082Z",
     "shell.execute_reply": "2022-08-12T22:15:23.930312Z"
    }
   },
   "outputs": [],
   "source": [
    "import numpy as np\n",
    "import porespy as ps\n",
    "import scipy.ndimage as spim\n",
    "import matplotlib.pyplot as plt\n",
    "import skimage\n",
    "ps.visualization.set_mpl_style()"
   ]
  },
  {
   "cell_type": "markdown",
   "id": "24f1086e",
   "metadata": {},
   "source": [
    "## Create image and variables"
   ]
  },
  {
   "cell_type": "code",
   "execution_count": 2,
   "id": "df980fdd",
   "metadata": {
    "execution": {
     "iopub.execute_input": "2022-08-12T22:15:23.937534Z",
     "iopub.status.busy": "2022-08-12T22:15:23.935879Z",
     "iopub.status.idle": "2022-08-12T22:15:25.275782Z",
     "shell.execute_reply": "2022-08-12T22:15:25.275132Z"
    }
   },
   "outputs": [
    {
     "name": "stderr",
     "output_type": "stream",
     "text": [
      "/tmp/ipykernel_10141/2366592848.py:3: DeprecationWarning: Call to deprecated function (or staticmethod) RSA. (This function has been renamed to rsa (lowercase to meet pep8)\n",
      "  im1 = ps.generators.RSA(im1, r=25, volume_fraction=0.5)\n"
     ]
    },
    {
     "name": "stderr",
     "output_type": "stream",
     "text": [
      "/tmp/ipykernel_10141/2366592848.py:4: DeprecationWarning: Call to deprecated function (or staticmethod) RSA. (This function has been renamed to rsa (lowercase to meet pep8)\n",
      "  im2 = ps.generators.RSA(im2, r=5, volume_fraction=0.5)\n"
     ]
    },
    {
     "data": {
      "image/svg+xml": [
       "<?xml version=\"1.0\" encoding=\"utf-8\" standalone=\"no\"?>\n",
       "<!DOCTYPE svg PUBLIC \"-//W3C//DTD SVG 1.1//EN\"\n",
       "  \"http://www.w3.org/Graphics/SVG/1.1/DTD/svg11.dtd\">\n",
       "<svg xmlns:xlink=\"http://www.w3.org/1999/xlink\" width=\"280.8pt\" height=\"280.8pt\" viewBox=\"0 0 280.8 280.8\" xmlns=\"http://www.w3.org/2000/svg\" version=\"1.1\">\n",
       " <metadata>\n",
       "  <rdf:RDF xmlns:dc=\"http://purl.org/dc/elements/1.1/\" xmlns:cc=\"http://creativecommons.org/ns#\" xmlns:rdf=\"http://www.w3.org/1999/02/22-rdf-syntax-ns#\">\n",
       "   <cc:Work>\n",
       "    <dc:type rdf:resource=\"http://purl.org/dc/dcmitype/StillImage\"/>\n",
       "    <dc:date>2022-08-12T22:15:25.200510</dc:date>\n",
       "    <dc:format>image/svg+xml</dc:format>\n",
       "    <dc:creator>\n",
       "     <cc:Agent>\n",
       "      <dc:title>Matplotlib v3.5.3, https://matplotlib.org/</dc:title>\n",
       "     </cc:Agent>\n",
       "    </dc:creator>\n",
       "   </cc:Work>\n",
       "  </rdf:RDF>\n",
       " </metadata>\n",
       " <defs>\n",
       "  <style type=\"text/css\">*{stroke-linejoin: round; stroke-linecap: butt}</style>\n",
       " </defs>\n",
       " <g id=\"figure_1\">\n",
       "  <g id=\"patch_1\">\n",
       "   <path d=\"M 0 280.8 \n",
       "L 280.8 280.8 \n",
       "L 280.8 0 \n",
       "L 0 0 \n",
       "L 0 280.8 \n",
       "z\n",
       "\" style=\"fill: none\"/>\n",
       "  </g>\n",
       "  <g id=\"axes_1\">\n",
       "   <g clip-path=\"url(#pdd078e4db8)\">\n",
       "    <image xlink:href=\"data:image/png;base64,\n",
       "iVBORw0KGgoAAAANSUhEUgAAAGQAAABkCAYAAABw4pVUAAACPUlEQVR4nO2cW27CMBBFh6pL6xK6zC6he4MPFAkiQoDM48zonv/W13M8MUTYZkIIIYQQwp9TdYCFn9Pv+d2/+T//YfJ7UTqhTyRsMUVOySQ8RazpLiY1fKSINV3FfGUNlCmjYjwvUoRUFaejlNC2JhWkyyMsrENIMsx4ebZI20PEa4QIoa5Gaq5b3IXQJ03P5yqEPtkFck7tITDchJBX3SOoedUhMFyEUFfbHsTc6hAYEgLjsBBi278DLb86BIaEwJAQGBICQ0JgSAgMCYEhITAkBIaEwJAQGBIC47CQLj9A24KWXx0CQ0JguAihtf2rEHOrQ2C4CSGutmdQ86pDYLgKoa66NeSc7h1CnqwZP1/II4s6aWquW7SHwAgTQluNtDxbpISs/DFaFxELKY+sqqJ0k2GWuIdkF6ejDDPddYJDtwHBwExC92VdGTehPZ6JJwguD5BBp+4bLcRjj8oWM1JIxKe4LDHj3mVFfaTOetswSkh00TKkjBGStYKjxxkhZNJ9ju2FTLvPsb2QabQWUn3oP2L81kIm0lZIdXcseOf49vxnj6C/zKMR2iF7q4eyykmUX6T8iRSaSM88iHt7aQWupO2mPhUJgSEhMCQEhoTAaCmE9oXSMw/ifAitwJWUH0eQjHtCH1l7xT4igyLSO0f4y0VK4brQclNfqJYdMX5rIRNpL2Ta6az2Qsxmnc4aIcQsT0r0OGOEmMUXK0P6KCFmcUXL6sDR3xF0PgSKTlCB0c+ShBBCCCGEEOKeC12R5wk6wh2EAAAAAElFTkSuQmCC\" id=\"imagea1b4d5b875\" transform=\"matrix(2.67 0 0 -2.67 7.2 273.6)\" style=\"image-rendering:crisp-edges;image-rendering:pixelated\" width=\"100\" height=\"100\"/>\n",
       "   </g>\n",
       "  </g>\n",
       " </g>\n",
       " <defs>\n",
       "  <clipPath id=\"pdd078e4db8\">\n",
       "   <rect x=\"7.2\" y=\"7.2\" width=\"266.4\" height=\"266.4\"/>\n",
       "  </clipPath>\n",
       " </defs>\n",
       "</svg>\n"
      ],
      "text/plain": [
       "<Figure size 288x288 with 1 Axes>"
      ]
     },
     "metadata": {
      "needs_background": "light"
     },
     "output_type": "display_data"
    },
    {
     "data": {
      "image/svg+xml": [
       "<?xml version=\"1.0\" encoding=\"utf-8\" standalone=\"no\"?>\n",
       "<!DOCTYPE svg PUBLIC \"-//W3C//DTD SVG 1.1//EN\"\n",
       "  \"http://www.w3.org/Graphics/SVG/1.1/DTD/svg11.dtd\">\n",
       "<svg xmlns:xlink=\"http://www.w3.org/1999/xlink\" width=\"280.8pt\" height=\"280.8pt\" viewBox=\"0 0 280.8 280.8\" xmlns=\"http://www.w3.org/2000/svg\" version=\"1.1\">\n",
       " <metadata>\n",
       "  <rdf:RDF xmlns:dc=\"http://purl.org/dc/elements/1.1/\" xmlns:cc=\"http://creativecommons.org/ns#\" xmlns:rdf=\"http://www.w3.org/1999/02/22-rdf-syntax-ns#\">\n",
       "   <cc:Work>\n",
       "    <dc:type rdf:resource=\"http://purl.org/dc/dcmitype/StillImage\"/>\n",
       "    <dc:date>2022-08-12T22:15:25.260788</dc:date>\n",
       "    <dc:format>image/svg+xml</dc:format>\n",
       "    <dc:creator>\n",
       "     <cc:Agent>\n",
       "      <dc:title>Matplotlib v3.5.3, https://matplotlib.org/</dc:title>\n",
       "     </cc:Agent>\n",
       "    </dc:creator>\n",
       "   </cc:Work>\n",
       "  </rdf:RDF>\n",
       " </metadata>\n",
       " <defs>\n",
       "  <style type=\"text/css\">*{stroke-linejoin: round; stroke-linecap: butt}</style>\n",
       " </defs>\n",
       " <g id=\"figure_1\">\n",
       "  <g id=\"patch_1\">\n",
       "   <path d=\"M 0 280.8 \n",
       "L 280.8 280.8 \n",
       "L 280.8 0 \n",
       "L 0 0 \n",
       "L 0 280.8 \n",
       "z\n",
       "\" style=\"fill: none\"/>\n",
       "  </g>\n",
       "  <g id=\"axes_1\">\n",
       "   <g clip-path=\"url(#pe56c26d8f1)\">\n",
       "    <image xlink:href=\"data:image/png;base64,\n",
       "iVBORw0KGgoAAAANSUhEUgAAADMAAAAzCAYAAAA6oTAqAAABYElEQVR4nO1aWxKDIAwMTo/WI/SYHsG72S+djgp5h0fZT8TAErMJSAJjvNNnv7Zt+5oi7C9Wg+QGKrVb2yetGGW1KRPWeIhi39QztTHJtIpX9ICeamcmmQDlIN32NWHPtfZNP7PchDAiADo1PNpNPVOCt3QDTAGoA4pwmJPxUKtSGfNrO6w2wwjlnnOEw4wMZVBMjbQIjxnL7cAVQ6nZUGSyn5n3jpEKThn06BnJjlGqVhRQhePWSVt2UD3q4XlzMhRoq+ccuilnDoSdzngDi+WuyGC4kfFUJW88esa7hvKyfwoARyotZNXDwwsAL0l6H8GWgJ4BcPJKRA7SYGw16xmTTKtYOEmy9YR6Du6dZ6S5ifNeyEpqSn4OmbFipvYELDEUmeZ3mhyFFAlApJpxwDZmdRjhIdWsmLH4lVfqJ7V/u6ERdQtDamPe0OgZ/0umm6qZA23OkMo79l61lfTIM1/bXyLg07bJ8gAAAABJRU5ErkJggg==\" id=\"imagea5eedc4d04\" transform=\"matrix(5.235294 0 0 -5.235294 7.2 273.6)\" style=\"image-rendering:crisp-edges;image-rendering:pixelated\" width=\"51\" height=\"51\"/>\n",
       "   </g>\n",
       "  </g>\n",
       " </g>\n",
       " <defs>\n",
       "  <clipPath id=\"pe56c26d8f1\">\n",
       "   <rect x=\"7.2\" y=\"7.2\" width=\"266.4\" height=\"266.4\"/>\n",
       "  </clipPath>\n",
       " </defs>\n",
       "</svg>\n"
      ],
      "text/plain": [
       "<Figure size 288x288 with 1 Axes>"
      ]
     },
     "metadata": {
      "needs_background": "light"
     },
     "output_type": "display_data"
    }
   ],
   "source": [
    "im1 = np.zeros([100, 100,100])\n",
    "im2 = np.zeros([51, 51,51])\n",
    "im1 = ps.generators.RSA(im1, r=25, volume_fraction=0.5)\n",
    "im2 = ps.generators.RSA(im2, r=5, volume_fraction=0.5)\n",
    "im3 = im1.copy()\n",
    "\n",
    "fig, ax = plt.subplots(figsize=[4, 4]);\n",
    "ps.visualization.imshow(im1);\n",
    "plt.axis(False)\n",
    "fig, ax = plt.subplots(figsize=[4, 4]);\n",
    "ps.visualization.imshow(im2);\n",
    "plt.axis(False);\n",
    "\n",
    "#default values:\n",
    "c = [26,26,26]"
   ]
  },
  {
   "cell_type": "markdown",
   "id": "81a1dc0b",
   "metadata": {},
   "source": [
    "## Apply tool"
   ]
  },
  {
   "cell_type": "code",
   "execution_count": 3,
   "id": "a8f3e5aa",
   "metadata": {
    "execution": {
     "iopub.execute_input": "2022-08-12T22:15:25.281620Z",
     "iopub.status.busy": "2022-08-12T22:15:25.280548Z",
     "iopub.status.idle": "2022-08-12T22:15:25.386467Z",
     "shell.execute_reply": "2022-08-12T22:15:25.385831Z"
    }
   },
   "outputs": [
    {
     "data": {
      "image/svg+xml": [
       "<?xml version=\"1.0\" encoding=\"utf-8\" standalone=\"no\"?>\n",
       "<!DOCTYPE svg PUBLIC \"-//W3C//DTD SVG 1.1//EN\"\n",
       "  \"http://www.w3.org/Graphics/SVG/1.1/DTD/svg11.dtd\">\n",
       "<svg xmlns:xlink=\"http://www.w3.org/1999/xlink\" width=\"280.8pt\" height=\"280.8pt\" viewBox=\"0 0 280.8 280.8\" xmlns=\"http://www.w3.org/2000/svg\" version=\"1.1\">\n",
       " <metadata>\n",
       "  <rdf:RDF xmlns:dc=\"http://purl.org/dc/elements/1.1/\" xmlns:cc=\"http://creativecommons.org/ns#\" xmlns:rdf=\"http://www.w3.org/1999/02/22-rdf-syntax-ns#\">\n",
       "   <cc:Work>\n",
       "    <dc:type rdf:resource=\"http://purl.org/dc/dcmitype/StillImage\"/>\n",
       "    <dc:date>2022-08-12T22:15:25.371868</dc:date>\n",
       "    <dc:format>image/svg+xml</dc:format>\n",
       "    <dc:creator>\n",
       "     <cc:Agent>\n",
       "      <dc:title>Matplotlib v3.5.3, https://matplotlib.org/</dc:title>\n",
       "     </cc:Agent>\n",
       "    </dc:creator>\n",
       "   </cc:Work>\n",
       "  </rdf:RDF>\n",
       " </metadata>\n",
       " <defs>\n",
       "  <style type=\"text/css\">*{stroke-linejoin: round; stroke-linecap: butt}</style>\n",
       " </defs>\n",
       " <g id=\"figure_1\">\n",
       "  <g id=\"patch_1\">\n",
       "   <path d=\"M 0 280.8 \n",
       "L 280.8 280.8 \n",
       "L 280.8 0 \n",
       "L 0 0 \n",
       "L 0 280.8 \n",
       "z\n",
       "\" style=\"fill: none\"/>\n",
       "  </g>\n",
       "  <g id=\"axes_1\">\n",
       "   <g clip-path=\"url(#pfc1b40fda3)\">\n",
       "    <image xlink:href=\"data:image/png;base64,\n",
       "iVBORw0KGgoAAAANSUhEUgAAAGQAAABkCAYAAABw4pVUAAACg0lEQVR4nO2cXXLCMAwGBdOj9Qg9Zo/Qu9EnzwRKSEosaaV8+9Qygchey3Z+bDMhxDqX5T+fl6/b4wE/t+/L42drHP1+1m+TuI4/nhX41ed7j9v7/azfpnHdPkREIiEwPrIDGHTsft4hVcjM8aXLAJ8yy/LMhupiQoOP7Jaqigkb1KPHiKpjUoiQrMqpKMU1rUkVUqULc8sQkgwzXjxr6MIQhosQamukxrVkuhB6oenxTRVCL+yAHKfGEBjThJBb3TOo8SpDYEwRQm1tWxDjVobAkBAYh591ENP+v5Duc+3KkDO99ZGNuiwYEgJDQmBICIxdQtZmIaTZSRd2v5elyo9BXRYMCYEhITAkBIaEwDi9ENrs8fRCaEgIjFMLoXVXZicXQmRqC6n0wIqYHWYr97LOskifyJ8u68jj2irSyHFOH0PIhTXjx+cyqFMLTY1riWZZMNyE0FojLZ41ngY5e5aVOR2uImIQFmyGlGoyzALHkOjKqSjDLHhrjYH2OlknNfiZYqqLGGAK8Y6cLhKWtCvQFq/EEwSnBxBBpexrLWTGGBUtpqUQj1lclJh297K8ptRRF7athHhXWoSUNkKiWrD3eVoI6bSfY3kh3fZzLC+kG6WFZL925HH+0kI6UlZIdnYMZsfhvhk//WYeDdcM2Wo9lFZOIn0j5Xek0ETOjAexby+tgjMpO6h3RUJgSAgMCYEhITBKCqFdUM6MB7E+hFbBmaQvR5CMe1y7rK3KPiKDInJ2HO43FykVV4WSg/ogW7bH+UsL6Uh5IVlZ4nXe8kLMeq3OaiHELE6K93naCDHzr6wI6a2EmPlVWlQGtr5G0PoQKFpBBUavJQkhhBBCCCHEPb8ILRfeuCYDpAAAAABJRU5ErkJggg==\" id=\"image6fd687f0e1\" transform=\"matrix(2.67 0 0 -2.67 7.2 273.6)\" style=\"image-rendering:crisp-edges;image-rendering:pixelated\" width=\"100\" height=\"100\"/>\n",
       "   </g>\n",
       "  </g>\n",
       " </g>\n",
       " <defs>\n",
       "  <clipPath id=\"pfc1b40fda3\">\n",
       "   <rect x=\"7.2\" y=\"7.2\" width=\"266.4\" height=\"266.4\"/>\n",
       "  </clipPath>\n",
       " </defs>\n",
       "</svg>\n"
      ],
      "text/plain": [
       "<Figure size 288x288 with 1 Axes>"
      ]
     },
     "metadata": {
      "needs_background": "light"
     },
     "output_type": "display_data"
    }
   ],
   "source": [
    "im = ps.tools.overlay(im1=im1,im2=im2, c=c)\n",
    "fig, ax = plt.subplots(figsize=[4, 4]);\n",
    "ps.visualization.imshow(im);\n",
    "plt.axis(False);"
   ]
  },
  {
   "cell_type": "code",
   "execution_count": 4,
   "id": "8e89b639",
   "metadata": {
    "execution": {
     "iopub.execute_input": "2022-08-12T22:15:25.391161Z",
     "iopub.status.busy": "2022-08-12T22:15:25.389852Z",
     "iopub.status.idle": "2022-08-12T22:15:25.493166Z",
     "shell.execute_reply": "2022-08-12T22:15:25.492521Z"
    }
   },
   "outputs": [
    {
     "data": {
      "image/svg+xml": [
       "<?xml version=\"1.0\" encoding=\"utf-8\" standalone=\"no\"?>\n",
       "<!DOCTYPE svg PUBLIC \"-//W3C//DTD SVG 1.1//EN\"\n",
       "  \"http://www.w3.org/Graphics/SVG/1.1/DTD/svg11.dtd\">\n",
       "<svg xmlns:xlink=\"http://www.w3.org/1999/xlink\" width=\"280.8pt\" height=\"280.8pt\" viewBox=\"0 0 280.8 280.8\" xmlns=\"http://www.w3.org/2000/svg\" version=\"1.1\">\n",
       " <metadata>\n",
       "  <rdf:RDF xmlns:dc=\"http://purl.org/dc/elements/1.1/\" xmlns:cc=\"http://creativecommons.org/ns#\" xmlns:rdf=\"http://www.w3.org/1999/02/22-rdf-syntax-ns#\">\n",
       "   <cc:Work>\n",
       "    <dc:type rdf:resource=\"http://purl.org/dc/dcmitype/StillImage\"/>\n",
       "    <dc:date>2022-08-12T22:15:25.478515</dc:date>\n",
       "    <dc:format>image/svg+xml</dc:format>\n",
       "    <dc:creator>\n",
       "     <cc:Agent>\n",
       "      <dc:title>Matplotlib v3.5.3, https://matplotlib.org/</dc:title>\n",
       "     </cc:Agent>\n",
       "    </dc:creator>\n",
       "   </cc:Work>\n",
       "  </rdf:RDF>\n",
       " </metadata>\n",
       " <defs>\n",
       "  <style type=\"text/css\">*{stroke-linejoin: round; stroke-linecap: butt}</style>\n",
       " </defs>\n",
       " <g id=\"figure_1\">\n",
       "  <g id=\"patch_1\">\n",
       "   <path d=\"M 0 280.8 \n",
       "L 280.8 280.8 \n",
       "L 280.8 0 \n",
       "L 0 0 \n",
       "L 0 280.8 \n",
       "z\n",
       "\" style=\"fill: none\"/>\n",
       "  </g>\n",
       "  <g id=\"axes_1\">\n",
       "   <g clip-path=\"url(#pa9a27ab234)\">\n",
       "    <image xlink:href=\"data:image/png;base64,\n",
       "iVBORw0KGgoAAAANSUhEUgAAAGQAAABkCAYAAABw4pVUAAACXklEQVR4nO2c0W3DMAwFmaKjdYSO2RG6W/pRCHCMOLZjUjwS7/4DPelEyTEsmQkhhBBCCH9u2QEGX7fv+9nf/N5/MPm9SO3QOxK26CInpROeItZUFzM1fKSINVXFfMxqaKaMjPa8mCIka3AqSgkta9KAVFnCwiqEJMOMl2eLaXuIOEaIEOpspOZa4i6E3ml6Plch9M4OyDm1h8BwE0Kedc+g5lWFwHARQp1texBzq0JgSAiMy0KIZX8GWn5VCAwJgSEhMCQEhoTAkBAYEgJDQmBICAwJgSEhMCQExmUhVT5A24KWXxUCQ0JguAihlf1RiLlVITDchBBn2yuoeVUhMFyFUGfdGnJO9wohd9aMny9kyaJ2mpprifYQGGFCaLORlmeLKSEzP0arImIwZcnKGpRqMsx0k0MIz/p5NM+nf5xtRijddbLNVCGDCDHVRQxShAyWg6j7sv5JFbJk1uC+Ek8QnB5gBler78omfZbWQqKf6iKkYJYsT2inos7Q7l1WZRlmzYRUl2HWSEgHGWZNhGTIiHrKKi+k232O5YV0o7SQ7H0jov3SQjpSVkh2dQy8c4T/U6e/zKMRWiF7s4cyy0mkX6T8jhSaSM88iHt7aQOcSdlNvSsSAkNCYEgIDAmBUVII7Q+lZx7E+RDaAGeSfhxBMh4JXbL2BvuKDIpI7xzhLxcpA1eFkpv6IFt2RPulhXSkvJBup7PKCzGbLyWyvVYb7ozX+Fdl7H1J36JCBtGVMqMSWwkxixu0Wctiy+MInmcYZ+9PLYUMrojJenprtakfQZ8lCSGEEEIIIcQjf8gV+YzNPi1uAAAAAElFTkSuQmCC\" id=\"imagefe1de4a561\" transform=\"matrix(2.67 0 0 -2.67 7.2 273.6)\" style=\"image-rendering:crisp-edges;image-rendering:pixelated\" width=\"100\" height=\"100\"/>\n",
       "   </g>\n",
       "  </g>\n",
       " </g>\n",
       " <defs>\n",
       "  <clipPath id=\"pa9a27ab234\">\n",
       "   <rect x=\"7.2\" y=\"7.2\" width=\"266.4\" height=\"266.4\"/>\n",
       "  </clipPath>\n",
       " </defs>\n",
       "</svg>\n"
      ],
      "text/plain": [
       "<Figure size 288x288 with 1 Axes>"
      ]
     },
     "metadata": {
      "needs_background": "light"
     },
     "output_type": "display_data"
    }
   ],
   "source": [
    "im = ps.tools.overlay(im1=im3, im2=im2, c=[74, 74, 74])\n",
    "fig, ax = plt.subplots(figsize=[4, 4]);\n",
    "ps.visualization.imshow(im);\n",
    "plt.axis(False);"
   ]
  }
 ],
 "metadata": {
  "kernelspec": {
   "display_name": "Python 3 (ipykernel)",
   "language": "python",
   "name": "python3"
  },
  "language_info": {
   "codemirror_mode": {
    "name": "ipython",
    "version": 3
   },
   "file_extension": ".py",
   "mimetype": "text/x-python",
   "name": "python",
   "nbconvert_exporter": "python",
   "pygments_lexer": "ipython3",
   "version": "3.8.13"
  }
 },
 "nbformat": 4,
 "nbformat_minor": 5
}

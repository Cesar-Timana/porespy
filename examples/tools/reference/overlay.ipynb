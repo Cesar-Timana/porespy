{
 "cells": [
  {
   "cell_type": "markdown",
   "id": "4bd55bf8",
   "metadata": {},
   "source": [
    "# `overlay`"
   ]
  },
  {
   "cell_type": "markdown",
   "id": "a71579c9",
   "metadata": {},
   "source": [
    "## Import packages"
   ]
  },
  {
   "cell_type": "code",
   "execution_count": 1,
   "id": "2540ba84",
   "metadata": {
    "execution": {
     "iopub.execute_input": "2022-08-23T00:37:07.610416Z",
     "iopub.status.busy": "2022-08-23T00:37:07.610160Z",
     "iopub.status.idle": "2022-08-23T00:37:09.462736Z",
     "shell.execute_reply": "2022-08-23T00:37:09.462117Z"
    }
   },
   "outputs": [],
   "source": [
    "import numpy as np\n",
    "import porespy as ps\n",
    "import scipy.ndimage as spim\n",
    "import matplotlib.pyplot as plt\n",
    "import skimage\n",
    "ps.visualization.set_mpl_style()"
   ]
  },
  {
   "cell_type": "markdown",
   "id": "24f1086e",
   "metadata": {},
   "source": [
    "## Create image and variables"
   ]
  },
  {
   "cell_type": "code",
   "execution_count": 2,
   "id": "df980fdd",
   "metadata": {
    "execution": {
     "iopub.execute_input": "2022-08-23T00:37:09.467845Z",
     "iopub.status.busy": "2022-08-23T00:37:09.466547Z",
     "iopub.status.idle": "2022-08-23T00:37:10.490989Z",
     "shell.execute_reply": "2022-08-23T00:37:10.490324Z"
    }
   },
   "outputs": [
    {
     "name": "stderr",
     "output_type": "stream",
     "text": [
      "/tmp/ipykernel_9967/2366592848.py:3: DeprecationWarning: Call to deprecated function (or staticmethod) RSA. (This function has been renamed to rsa (lowercase to meet pep8)\n",
      "  im1 = ps.generators.RSA(im1, r=25, volume_fraction=0.5)\n"
     ]
    },
    {
     "name": "stderr",
     "output_type": "stream",
     "text": [
      "/tmp/ipykernel_9967/2366592848.py:4: DeprecationWarning: Call to deprecated function (or staticmethod) RSA. (This function has been renamed to rsa (lowercase to meet pep8)\n",
      "  im2 = ps.generators.RSA(im2, r=5, volume_fraction=0.5)\n"
     ]
    },
    {
     "data": {
      "image/svg+xml": [
       "<?xml version=\"1.0\" encoding=\"utf-8\" standalone=\"no\"?>\n",
       "<!DOCTYPE svg PUBLIC \"-//W3C//DTD SVG 1.1//EN\"\n",
       "  \"http://www.w3.org/Graphics/SVG/1.1/DTD/svg11.dtd\">\n",
       "<svg xmlns:xlink=\"http://www.w3.org/1999/xlink\" width=\"276.48pt\" height=\"276.48pt\" viewBox=\"0 0 276.48 276.48\" xmlns=\"http://www.w3.org/2000/svg\" version=\"1.1\">\n",
       " <metadata>\n",
       "  <rdf:RDF xmlns:dc=\"http://purl.org/dc/elements/1.1/\" xmlns:cc=\"http://creativecommons.org/ns#\" xmlns:rdf=\"http://www.w3.org/1999/02/22-rdf-syntax-ns#\">\n",
       "   <cc:Work>\n",
       "    <dc:type rdf:resource=\"http://purl.org/dc/dcmitype/StillImage\"/>\n",
       "    <dc:date>2022-08-23T00:37:10.452026</dc:date>\n",
       "    <dc:format>image/svg+xml</dc:format>\n",
       "    <dc:creator>\n",
       "     <cc:Agent>\n",
       "      <dc:title>Matplotlib v3.5.3, https://matplotlib.org/</dc:title>\n",
       "     </cc:Agent>\n",
       "    </dc:creator>\n",
       "   </cc:Work>\n",
       "  </rdf:RDF>\n",
       " </metadata>\n",
       " <defs>\n",
       "  <style type=\"text/css\">*{stroke-linejoin: round; stroke-linecap: butt}</style>\n",
       " </defs>\n",
       " <g id=\"figure_1\">\n",
       "  <g id=\"patch_1\">\n",
       "   <path d=\"M 0 276.48 \n",
       "L 276.48 276.48 \n",
       "L 276.48 0 \n",
       "L 0 0 \n",
       "z\n",
       "\" style=\"fill: #ffffff\"/>\n",
       "  </g>\n",
       "  <g id=\"axes_1\">\n",
       "   <g clip-path=\"url(#p22b2d2e38f)\">\n",
       "    <image xlink:href=\"data:image/png;base64,\n",
       "iVBORw0KGgoAAAANSUhEUgAAAGQAAABkCAYAAABw4pVUAAACGElEQVR4nO3dXU7jQBAA4QZxNI7AMTkCdwsPyFJk4Z/YM+6adn3Py07b5VkHgrMRkiRJkiRJkiRJ0oXesgeYfL59Pfb+2Z/HN2bu1lIP7JUIS6rFSTmYFiHmqoS59CB6hJgbPcwlw18RYm7UMO+9F8iIkbnuWV2DZJ+U7PWP6BaEcjIoc+zVJQjtJNDmWdM8CPXgqXPNdb+p6zVNg9CvQvp8Ee4QnGZBRrj6IvhzukNgmgShX3Vz5HndITAGgTkdhLz911DndofAGATGIDAGgTEIjEFgDAJjEBiDwBgE5nSQUX8hjTq3OwTGIDBNglC3/xLyvO4QmGZByFfdM/qc7hCY5lcL9Z24iO3dcWT21jvuo+VfNqozF9H0ta3CdPn3lLhL/jthxGcdu93gSFHmJ4n8rGO3mzrl1UxGjDPrdH2VlR0lK8aZ9bq/7M2Kkh3j6Lq3eE6dcD/be2GW/yQHQozJniilP+uEFGOyFSX1G8Pn4fw0oD9lD4y4OyZrF5Q/XIQpGYS8OyLW5ysZZGTlgtB3x2RpznJBRmcQGIPAGATGIDAGgTEIjEFgDAJjEBiDwBgEplyQUd5NXJqzXJDRlQxC3yW+hTuQskGou2RrrrJBRlU6CG2X7JmndJAITpS9c5QPEpEf5ZX1bxEkgvNYxJbbBIm4PsqR9W4VJOK6KEfXQdzwstzqKdyRkP5PXoM8IXySgyRJR/0CK4/VZHf8/nkAAAAASUVORK5CYII=\" id=\"image785d90b958\" transform=\"matrix(2.63 0 0 -2.63 7.2 269.28)\" style=\"image-rendering:crisp-edges;image-rendering:pixelated\" width=\"100\" height=\"100\"/>\n",
       "   </g>\n",
       "  </g>\n",
       " </g>\n",
       " <defs>\n",
       "  <clipPath id=\"p22b2d2e38f\">\n",
       "   <rect x=\"7.2\" y=\"7.2\" width=\"262.08\" height=\"262.08\"/>\n",
       "  </clipPath>\n",
       " </defs>\n",
       "</svg>\n"
      ],
      "text/plain": [
       "<Figure size 400x400 with 1 Axes>"
      ]
     },
     "metadata": {},
     "output_type": "display_data"
    },
    {
     "data": {
      "image/svg+xml": [
       "<?xml version=\"1.0\" encoding=\"utf-8\" standalone=\"no\"?>\n",
       "<!DOCTYPE svg PUBLIC \"-//W3C//DTD SVG 1.1//EN\"\n",
       "  \"http://www.w3.org/Graphics/SVG/1.1/DTD/svg11.dtd\">\n",
       "<svg xmlns:xlink=\"http://www.w3.org/1999/xlink\" width=\"276.48pt\" height=\"276.48pt\" viewBox=\"0 0 276.48 276.48\" xmlns=\"http://www.w3.org/2000/svg\" version=\"1.1\">\n",
       " <metadata>\n",
       "  <rdf:RDF xmlns:dc=\"http://purl.org/dc/elements/1.1/\" xmlns:cc=\"http://creativecommons.org/ns#\" xmlns:rdf=\"http://www.w3.org/1999/02/22-rdf-syntax-ns#\">\n",
       "   <cc:Work>\n",
       "    <dc:type rdf:resource=\"http://purl.org/dc/dcmitype/StillImage\"/>\n",
       "    <dc:date>2022-08-23T00:37:10.480114</dc:date>\n",
       "    <dc:format>image/svg+xml</dc:format>\n",
       "    <dc:creator>\n",
       "     <cc:Agent>\n",
       "      <dc:title>Matplotlib v3.5.3, https://matplotlib.org/</dc:title>\n",
       "     </cc:Agent>\n",
       "    </dc:creator>\n",
       "   </cc:Work>\n",
       "  </rdf:RDF>\n",
       " </metadata>\n",
       " <defs>\n",
       "  <style type=\"text/css\">*{stroke-linejoin: round; stroke-linecap: butt}</style>\n",
       " </defs>\n",
       " <g id=\"figure_1\">\n",
       "  <g id=\"patch_1\">\n",
       "   <path d=\"M 0 276.48 \n",
       "L 276.48 276.48 \n",
       "L 276.48 0 \n",
       "L 0 0 \n",
       "z\n",
       "\" style=\"fill: #ffffff\"/>\n",
       "  </g>\n",
       "  <g id=\"axes_1\">\n",
       "   <g clip-path=\"url(#p87c795092e)\">\n",
       "    <image xlink:href=\"data:image/png;base64,\n",
       "iVBORw0KGgoAAAANSUhEUgAAADMAAAAzCAYAAAA6oTAqAAABJ0lEQVR4nO2Z3Q3DIAyEAWW0jtAxO0J3S9+qqgpg/HtE/h5JRHwxHI5TSyCP+jz/x97nq3Lna7Jw+FwJGY1TCBEzC5grKCwzFqQYVA6tibSdifOckMzMRPauzxwwbJn1ApZkU22ZcdBehvc0AOkG1njL0hhab5LRuAWUGGb7rFICtrDYX7RiuNWeSTGo3EsMt7TQRCuGNrrZQ8jsWZ4xJFZAppBb1sC5maS0ghIj7dpAiZGi9gmAAMwngAYHZZ1SMoSQWag9Iy1roMSUIitrQrszPbjLEy4zEmopY9fayZ6/gVq7kYfbubx1r8ybi9FqI1Eyu4UBUCsUkjVHnu4rFcoWmaGSYlbwbGW5ZMarjbTF6U49p1z/BlvPC1k1X7Flq0lCikmSNT6dXbbWrQftVgAAAABJRU5ErkJggg==\" id=\"image06b5ec33af\" transform=\"matrix(5.156863 0 0 -5.156863 7.2 269.28)\" style=\"image-rendering:crisp-edges;image-rendering:pixelated\" width=\"51\" height=\"51\"/>\n",
       "   </g>\n",
       "  </g>\n",
       " </g>\n",
       " <defs>\n",
       "  <clipPath id=\"p87c795092e\">\n",
       "   <rect x=\"7.2\" y=\"7.2\" width=\"262.08\" height=\"262.08\"/>\n",
       "  </clipPath>\n",
       " </defs>\n",
       "</svg>\n"
      ],
      "text/plain": [
       "<Figure size 400x400 with 1 Axes>"
      ]
     },
     "metadata": {},
     "output_type": "display_data"
    }
   ],
   "source": [
    "im1 = np.zeros([100, 100,100])\n",
    "im2 = np.zeros([51, 51,51])\n",
    "im1 = ps.generators.RSA(im1, r=25, volume_fraction=0.5)\n",
    "im2 = ps.generators.RSA(im2, r=5, volume_fraction=0.5)\n",
    "im3 = im1.copy()\n",
    "\n",
    "fig, ax = plt.subplots(figsize=[4, 4]);\n",
    "ps.visualization.imshow(im1);\n",
    "plt.axis(False)\n",
    "fig, ax = plt.subplots(figsize=[4, 4]);\n",
    "ps.visualization.imshow(im2);\n",
    "plt.axis(False);\n",
    "\n",
    "#default values:\n",
    "c = [26,26,26]"
   ]
  },
  {
   "cell_type": "markdown",
   "id": "81a1dc0b",
   "metadata": {},
   "source": [
    "## Apply tool"
   ]
  },
  {
   "cell_type": "code",
   "execution_count": 3,
   "id": "a8f3e5aa",
   "metadata": {
    "execution": {
     "iopub.execute_input": "2022-08-23T00:37:10.494275Z",
     "iopub.status.busy": "2022-08-23T00:37:10.493924Z",
     "iopub.status.idle": "2022-08-23T00:37:10.565152Z",
     "shell.execute_reply": "2022-08-23T00:37:10.564544Z"
    }
   },
   "outputs": [
    {
     "data": {
      "image/svg+xml": [
       "<?xml version=\"1.0\" encoding=\"utf-8\" standalone=\"no\"?>\n",
       "<!DOCTYPE svg PUBLIC \"-//W3C//DTD SVG 1.1//EN\"\n",
       "  \"http://www.w3.org/Graphics/SVG/1.1/DTD/svg11.dtd\">\n",
       "<svg xmlns:xlink=\"http://www.w3.org/1999/xlink\" width=\"276.48pt\" height=\"276.48pt\" viewBox=\"0 0 276.48 276.48\" xmlns=\"http://www.w3.org/2000/svg\" version=\"1.1\">\n",
       " <metadata>\n",
       "  <rdf:RDF xmlns:dc=\"http://purl.org/dc/elements/1.1/\" xmlns:cc=\"http://creativecommons.org/ns#\" xmlns:rdf=\"http://www.w3.org/1999/02/22-rdf-syntax-ns#\">\n",
       "   <cc:Work>\n",
       "    <dc:type rdf:resource=\"http://purl.org/dc/dcmitype/StillImage\"/>\n",
       "    <dc:date>2022-08-23T00:37:10.552141</dc:date>\n",
       "    <dc:format>image/svg+xml</dc:format>\n",
       "    <dc:creator>\n",
       "     <cc:Agent>\n",
       "      <dc:title>Matplotlib v3.5.3, https://matplotlib.org/</dc:title>\n",
       "     </cc:Agent>\n",
       "    </dc:creator>\n",
       "   </cc:Work>\n",
       "  </rdf:RDF>\n",
       " </metadata>\n",
       " <defs>\n",
       "  <style type=\"text/css\">*{stroke-linejoin: round; stroke-linecap: butt}</style>\n",
       " </defs>\n",
       " <g id=\"figure_1\">\n",
       "  <g id=\"patch_1\">\n",
       "   <path d=\"M 0 276.48 \n",
       "L 276.48 276.48 \n",
       "L 276.48 0 \n",
       "L 0 0 \n",
       "z\n",
       "\" style=\"fill: #ffffff\"/>\n",
       "  </g>\n",
       "  <g id=\"axes_1\">\n",
       "   <g clip-path=\"url(#p73dfec16cc)\">\n",
       "    <image xlink:href=\"data:image/png;base64,\n",
       "iVBORw0KGgoAAAANSUhEUgAAAGQAAABkCAYAAABw4pVUAAAChUlEQVR4nO2dUVLDMAwFVYajcQSOyRG4G3ylUzo0iR3LWslv/+gwtuK1bCXFwUwI8ZqbZ+Mft8+f58++f76a+xzVTgbevBr+bxD3PvduJwtuQkQfEgJDQmBICIyuSuVs1aMqqx1XIaKd98cfNNDx3PeQ1ep9Ku/Hv9KPMq6d++DsZcKojfhKe6ugsheGhMC4C3m1jGh5mcufTf3M4Htt1C3VXOVJ0nRhrRv1kbwRJXU1Oa5CetrppYoY1/uQZzxvMre2s4uZImTm3X52Me5lb9Sjl6yPfJqEtJbG0YMS3X8PbmlNGoxMy5fLkkWSYcaLZ4/hQqgXT43rGT3LgjFUCH0W0uMzU4bgGCYkw+wz48epDIExRAh91j1DjlcZAkNCYFwWQk7/PahxK0NgSAgMCYEhITAkBIaEwJAQGBIC45IQ6s1VZrqFSIYPyy5Z1L9EWVYIFQmBsaQQ6nJldkEI+aIyM3RQM1Re9Im05JJFZvhsIWfJUXb0xD4646aeoKJyZRKNPiDksp4Ss+TsoVSPflpY8nzIjNh6xbht6pRqJkLGlX5cq6xoKVEyrvTnXvZGSYmW0dvv1MGKWrsJ+9nZiRkye2dWNwQZG2ekhK7x3u86IcnYOJISemPY+yKa6GLBk7IXRsyOjb0JpYeLMEoKIWeH2X58JYVkppwQenZsvIqznJDsSAgMCYEhITAkBIaEwJAQGBICQ0JgSAgMCYEhITDKCcnybeKrOMsJyU5JIfQs0Ve4iSgrhJolR3GVFZKV0kJoWXImntJCzDhSzsZRXohZvJSW/pcQYsY5FnHEMkLM5kvp6W8pIWbzpPT2g9jwoljqFG4mSP+TV0IeILzJQQghhOjlF307JyiQXOfuAAAAAElFTkSuQmCC\" id=\"imageec749e8e71\" transform=\"matrix(2.63 0 0 -2.63 7.2 269.28)\" style=\"image-rendering:crisp-edges;image-rendering:pixelated\" width=\"100\" height=\"100\"/>\n",
       "   </g>\n",
       "  </g>\n",
       " </g>\n",
       " <defs>\n",
       "  <clipPath id=\"p73dfec16cc\">\n",
       "   <rect x=\"7.2\" y=\"7.2\" width=\"262.08\" height=\"262.08\"/>\n",
       "  </clipPath>\n",
       " </defs>\n",
       "</svg>\n"
      ],
      "text/plain": [
       "<Figure size 400x400 with 1 Axes>"
      ]
     },
     "metadata": {},
     "output_type": "display_data"
    }
   ],
   "source": [
    "im = ps.tools.overlay(im1=im1,im2=im2, c=c)\n",
    "fig, ax = plt.subplots(figsize=[4, 4]);\n",
    "ps.visualization.imshow(im);\n",
    "plt.axis(False);"
   ]
  },
  {
   "cell_type": "code",
   "execution_count": 4,
   "id": "8e89b639",
   "metadata": {
    "execution": {
     "iopub.execute_input": "2022-08-23T00:37:10.568246Z",
     "iopub.status.busy": "2022-08-23T00:37:10.567921Z",
     "iopub.status.idle": "2022-08-23T00:37:10.638929Z",
     "shell.execute_reply": "2022-08-23T00:37:10.638282Z"
    }
   },
   "outputs": [
    {
     "data": {
      "image/svg+xml": [
       "<?xml version=\"1.0\" encoding=\"utf-8\" standalone=\"no\"?>\n",
       "<!DOCTYPE svg PUBLIC \"-//W3C//DTD SVG 1.1//EN\"\n",
       "  \"http://www.w3.org/Graphics/SVG/1.1/DTD/svg11.dtd\">\n",
       "<svg xmlns:xlink=\"http://www.w3.org/1999/xlink\" width=\"276.48pt\" height=\"276.48pt\" viewBox=\"0 0 276.48 276.48\" xmlns=\"http://www.w3.org/2000/svg\" version=\"1.1\">\n",
       " <metadata>\n",
       "  <rdf:RDF xmlns:dc=\"http://purl.org/dc/elements/1.1/\" xmlns:cc=\"http://creativecommons.org/ns#\" xmlns:rdf=\"http://www.w3.org/1999/02/22-rdf-syntax-ns#\">\n",
       "   <cc:Work>\n",
       "    <dc:type rdf:resource=\"http://purl.org/dc/dcmitype/StillImage\"/>\n",
       "    <dc:date>2022-08-23T00:37:10.626420</dc:date>\n",
       "    <dc:format>image/svg+xml</dc:format>\n",
       "    <dc:creator>\n",
       "     <cc:Agent>\n",
       "      <dc:title>Matplotlib v3.5.3, https://matplotlib.org/</dc:title>\n",
       "     </cc:Agent>\n",
       "    </dc:creator>\n",
       "   </cc:Work>\n",
       "  </rdf:RDF>\n",
       " </metadata>\n",
       " <defs>\n",
       "  <style type=\"text/css\">*{stroke-linejoin: round; stroke-linecap: butt}</style>\n",
       " </defs>\n",
       " <g id=\"figure_1\">\n",
       "  <g id=\"patch_1\">\n",
       "   <path d=\"M 0 276.48 \n",
       "L 276.48 276.48 \n",
       "L 276.48 0 \n",
       "L 0 0 \n",
       "z\n",
       "\" style=\"fill: #ffffff\"/>\n",
       "  </g>\n",
       "  <g id=\"axes_1\">\n",
       "   <g clip-path=\"url(#p21a35f404f)\">\n",
       "    <image xlink:href=\"data:image/png;base64,\n",
       "iVBORw0KGgoAAAANSUhEUgAAAGQAAABkCAYAAABw4pVUAAACPklEQVR4nO2dW26DMBQFTdWlsYQss0vo3uhHZQkh3vgxNjPfCT547gUnEBKCiIiIiIiIiIiIiIiISEGG2gEi4/CZzr72d/rB5E5N1R27ImGL3uRU2ZkUIpb0IqboTuQQsaR1MUXClxCxpFUxX7kHqCGj5rhPySqk9qTUHv8O2YRQJoOS4yxZhNAmgZZnj+RCqDtPzbUk+0ldrpFUCL0K6flCsENwJBPSQvWFwM9ph8BIIoRedUvIee0QGAqB8VgIuf33oOa2Q2AoBIZCYCgEhkJgKASGQmAoBIZCYCgExmMhrd6QRs1th8BQCIwkQqjtvwU5rx0CI5kQctXNoef8rh2AzNpFrDtCr2wnebVQr8SFcDyZd7I/2ebae+2Q8KyI4ntTHQqTn9Spx+i1XOPwmVJ1dKptZVll0aQs86QUseTptrMteylS1mSUGPfuOFk/h1CkREovOMbhM23NQbFV1hqEX+HWXP1dKcxX/E6dsBQ/K6X7JzkQZETOSOn6WSckGZEjKVU/GM7D+TSgf7rcMWJnzNkrqO6+fqfLOKI7IS2wVzQKgaGQSmx1iUJgKARGd8veVldZcSlsh0CIhaQQGAqBoRAYCoGhEAhxleV9WRVZ+9bXDoGhEBjdCWnlauJWzu6EtE6XQuhd8qpLuK3TrRBqlxzl6lZIq3QthNYlZ/J0LYQE+t7eGrRy9/trOqTW4evquK8REkJ5KXfGe5WQEMpJuTvOa84haxD/cfTVQiKk/+RVyIwcT3IQEREpxR+aae/HqgIO9QAAAABJRU5ErkJggg==\" id=\"imagefad7f86e24\" transform=\"matrix(2.63 0 0 -2.63 7.2 269.28)\" style=\"image-rendering:crisp-edges;image-rendering:pixelated\" width=\"100\" height=\"100\"/>\n",
       "   </g>\n",
       "  </g>\n",
       " </g>\n",
       " <defs>\n",
       "  <clipPath id=\"p21a35f404f\">\n",
       "   <rect x=\"7.2\" y=\"7.2\" width=\"262.08\" height=\"262.08\"/>\n",
       "  </clipPath>\n",
       " </defs>\n",
       "</svg>\n"
      ],
      "text/plain": [
       "<Figure size 400x400 with 1 Axes>"
      ]
     },
     "metadata": {},
     "output_type": "display_data"
    }
   ],
   "source": [
    "im = ps.tools.overlay(im1=im3, im2=im2, c=[74, 74, 74])\n",
    "fig, ax = plt.subplots(figsize=[4, 4]);\n",
    "ps.visualization.imshow(im);\n",
    "plt.axis(False);"
   ]
  }
 ],
 "metadata": {
  "kernelspec": {
   "display_name": "Python 3 (ipykernel)",
   "language": "python",
   "name": "python3"
  },
  "language_info": {
   "codemirror_mode": {
    "name": "ipython",
    "version": 3
   },
   "file_extension": ".py",
   "mimetype": "text/x-python",
   "name": "python",
   "nbconvert_exporter": "python",
   "pygments_lexer": "ipython3",
   "version": "3.8.13"
  }
 },
 "nbformat": 4,
 "nbformat_minor": 5
}

{
 "cells": [
  {
   "cell_type": "markdown",
   "id": "4bd55bf8",
   "metadata": {},
   "source": [
    "# `overlay`"
   ]
  },
  {
   "cell_type": "markdown",
   "id": "a71579c9",
   "metadata": {},
   "source": [
    "## Import packages"
   ]
  },
  {
   "cell_type": "code",
   "execution_count": 1,
   "id": "2540ba84",
   "metadata": {
    "execution": {
     "iopub.execute_input": "2022-08-23T01:42:45.241041Z",
     "iopub.status.busy": "2022-08-23T01:42:45.240794Z",
     "iopub.status.idle": "2022-08-23T01:42:47.060131Z",
     "shell.execute_reply": "2022-08-23T01:42:47.059516Z"
    }
   },
   "outputs": [],
   "source": [
    "import numpy as np\n",
    "import porespy as ps\n",
    "import scipy.ndimage as spim\n",
    "import matplotlib.pyplot as plt\n",
    "import skimage\n",
    "ps.visualization.set_mpl_style()"
   ]
  },
  {
   "cell_type": "markdown",
   "id": "24f1086e",
   "metadata": {},
   "source": [
    "## Create image and variables"
   ]
  },
  {
   "cell_type": "code",
   "execution_count": 2,
   "id": "df980fdd",
   "metadata": {
    "execution": {
     "iopub.execute_input": "2022-08-23T01:42:47.065216Z",
     "iopub.status.busy": "2022-08-23T01:42:47.063941Z",
     "iopub.status.idle": "2022-08-23T01:42:48.081119Z",
     "shell.execute_reply": "2022-08-23T01:42:48.080548Z"
    }
   },
   "outputs": [
    {
     "name": "stderr",
     "output_type": "stream",
     "text": [
      "/tmp/ipykernel_10086/2366592848.py:3: DeprecationWarning: Call to deprecated function (or staticmethod) RSA. (This function has been renamed to rsa (lowercase to meet pep8)\n",
      "  im1 = ps.generators.RSA(im1, r=25, volume_fraction=0.5)\n"
     ]
    },
    {
     "name": "stderr",
     "output_type": "stream",
     "text": [
      "/tmp/ipykernel_10086/2366592848.py:4: DeprecationWarning: Call to deprecated function (or staticmethod) RSA. (This function has been renamed to rsa (lowercase to meet pep8)\n",
      "  im2 = ps.generators.RSA(im2, r=5, volume_fraction=0.5)\n"
     ]
    },
    {
     "data": {
      "image/svg+xml": [
       "<?xml version=\"1.0\" encoding=\"utf-8\" standalone=\"no\"?>\n",
       "<!DOCTYPE svg PUBLIC \"-//W3C//DTD SVG 1.1//EN\"\n",
       "  \"http://www.w3.org/Graphics/SVG/1.1/DTD/svg11.dtd\">\n",
       "<svg xmlns:xlink=\"http://www.w3.org/1999/xlink\" width=\"276.48pt\" height=\"276.48pt\" viewBox=\"0 0 276.48 276.48\" xmlns=\"http://www.w3.org/2000/svg\" version=\"1.1\">\n",
       " <metadata>\n",
       "  <rdf:RDF xmlns:dc=\"http://purl.org/dc/elements/1.1/\" xmlns:cc=\"http://creativecommons.org/ns#\" xmlns:rdf=\"http://www.w3.org/1999/02/22-rdf-syntax-ns#\">\n",
       "   <cc:Work>\n",
       "    <dc:type rdf:resource=\"http://purl.org/dc/dcmitype/StillImage\"/>\n",
       "    <dc:date>2022-08-23T01:42:48.044524</dc:date>\n",
       "    <dc:format>image/svg+xml</dc:format>\n",
       "    <dc:creator>\n",
       "     <cc:Agent>\n",
       "      <dc:title>Matplotlib v3.5.3, https://matplotlib.org/</dc:title>\n",
       "     </cc:Agent>\n",
       "    </dc:creator>\n",
       "   </cc:Work>\n",
       "  </rdf:RDF>\n",
       " </metadata>\n",
       " <defs>\n",
       "  <style type=\"text/css\">*{stroke-linejoin: round; stroke-linecap: butt}</style>\n",
       " </defs>\n",
       " <g id=\"figure_1\">\n",
       "  <g id=\"patch_1\">\n",
       "   <path d=\"M 0 276.48 \n",
       "L 276.48 276.48 \n",
       "L 276.48 0 \n",
       "L 0 0 \n",
       "z\n",
       "\" style=\"fill: #ffffff\"/>\n",
       "  </g>\n",
       "  <g id=\"axes_1\">\n",
       "   <g clip-path=\"url(#p94700237c2)\">\n",
       "    <image xlink:href=\"data:image/png;base64,\n",
       "iVBORw0KGgoAAAANSUhEUgAAAGQAAABkCAYAAABw4pVUAAACJ0lEQVR4nO2cQW7EIBAEZ/O2PCHPzBPyt80lSJGVrMAMUA1dd9sNNYNlyRBhjDHGmC14rA4wmvfHx7P1mq/n57J52VLIHQn/MVvOVkIyRVyZJWYLISNFXBkt5m3kzWcwU8aM50kLmS1jxnNlhaySMfr5kkJWyyiMyCEnhCKjkJ1HSghNRiEzl4wQqoxCVj4ZIacgIYTeHYWMnBJCTgIvRKU7Cr158UJOw0JgoIWoLVeFntxoISdiITAsBIaFwLAQGBYCw0JgWAgMC4FhITAsBIaFwEALWfkXeg89udFCTsRCYOCFqC1bvXnxQk5DQohKl2TklBByEjJC6F2SlU9GSARXSmYuKSERPCnZeaYOLnPPOOEXoRHFMVzIyD3jK6WM6tRhQmbtGV8hZeSymX7jFXvGd9qnnnrz1dXqkxx+oL1gjz7rhCCj8NfkHXUaEElGgfad0srtD0OijAhurlrkvtR355YQehXS872iWYjKYFVyXvGSBaNJiFrVqeWNcIfgqBaiWG0RerndITAsBEaVELW2v6KU3x0Cw0JgWAgMC4FhITAsBIaFwLAQGBYCw0JgWAgMC4FRJUT9Xyel/O4QGBYCo1qIUtv/Ri23OwRGkxC1alPLG+EOwdEsRKXqVHJeudUh9MHS873CSxaM20KoVUjNVUtXh9AGT8tzh+4lizIJlBy9bLVPfQdSX+qzJ2c3GREbnHWyG9KnAe2I7HlZxhhjjDHG1PMNXhrX02yAqS0AAAAASUVORK5CYII=\" id=\"imageaf1ee8288b\" transform=\"matrix(2.63 0 0 -2.63 7.2 269.28)\" style=\"image-rendering:crisp-edges;image-rendering:pixelated\" width=\"100\" height=\"100\"/>\n",
       "   </g>\n",
       "  </g>\n",
       " </g>\n",
       " <defs>\n",
       "  <clipPath id=\"p94700237c2\">\n",
       "   <rect x=\"7.2\" y=\"7.2\" width=\"262.08\" height=\"262.08\"/>\n",
       "  </clipPath>\n",
       " </defs>\n",
       "</svg>\n"
      ],
      "text/plain": [
       "<Figure size 400x400 with 1 Axes>"
      ]
     },
     "metadata": {},
     "output_type": "display_data"
    },
    {
     "data": {
      "image/svg+xml": [
       "<?xml version=\"1.0\" encoding=\"utf-8\" standalone=\"no\"?>\n",
       "<!DOCTYPE svg PUBLIC \"-//W3C//DTD SVG 1.1//EN\"\n",
       "  \"http://www.w3.org/Graphics/SVG/1.1/DTD/svg11.dtd\">\n",
       "<svg xmlns:xlink=\"http://www.w3.org/1999/xlink\" width=\"276.48pt\" height=\"276.48pt\" viewBox=\"0 0 276.48 276.48\" xmlns=\"http://www.w3.org/2000/svg\" version=\"1.1\">\n",
       " <metadata>\n",
       "  <rdf:RDF xmlns:dc=\"http://purl.org/dc/elements/1.1/\" xmlns:cc=\"http://creativecommons.org/ns#\" xmlns:rdf=\"http://www.w3.org/1999/02/22-rdf-syntax-ns#\">\n",
       "   <cc:Work>\n",
       "    <dc:type rdf:resource=\"http://purl.org/dc/dcmitype/StillImage\"/>\n",
       "    <dc:date>2022-08-23T01:42:48.072153</dc:date>\n",
       "    <dc:format>image/svg+xml</dc:format>\n",
       "    <dc:creator>\n",
       "     <cc:Agent>\n",
       "      <dc:title>Matplotlib v3.5.3, https://matplotlib.org/</dc:title>\n",
       "     </cc:Agent>\n",
       "    </dc:creator>\n",
       "   </cc:Work>\n",
       "  </rdf:RDF>\n",
       " </metadata>\n",
       " <defs>\n",
       "  <style type=\"text/css\">*{stroke-linejoin: round; stroke-linecap: butt}</style>\n",
       " </defs>\n",
       " <g id=\"figure_1\">\n",
       "  <g id=\"patch_1\">\n",
       "   <path d=\"M 0 276.48 \n",
       "L 276.48 276.48 \n",
       "L 276.48 0 \n",
       "L 0 0 \n",
       "z\n",
       "\" style=\"fill: #ffffff\"/>\n",
       "  </g>\n",
       "  <g id=\"axes_1\">\n",
       "   <g clip-path=\"url(#p387afec5f6)\">\n",
       "    <image xlink:href=\"data:image/png;base64,\n",
       "iVBORw0KGgoAAAANSUhEUgAAADMAAAAzCAYAAAA6oTAqAAABc0lEQVR4nO1aWxKDIAwMjkfrEXpMj+Dd7JeMdQSSsEnQcf/KaB5NyC60iYzxSd/tvLZuS7LwNVkY3XGVSG29F2bJtAK2SGiWPOzZMhqwK+PdMhqY7hlviNosApLWNqtMay9x9pq0tVProd1pbW/UAtMODc5ePNvJHzjBek4zdTKaF6WBSJPWxATfM5EjHJpMBOsfMSzPaKbhsMkQlRMqrYumWQvoQSJFVgDrtqRoIdnrHx4oklw57x1RbTNtVaS2UO3ZJVVQQCUzRXMDEqojgKYlPYaLC894SZwhSBNx9iEaJBkiOdtfYS6RpcZYL3p9wXjG4pQqBcxQ68vwmGZ/o9nSYckO0mceAHe45GthIoo/IaIAuwQc4c55GJ5BIPx6FlnRR1VmIsJpo2jkyiC00YsXL+6F7p8ZvAYExzebNGtC9Gw0KmkWaUqEaKT6hsoZTtKWB7ZHyZlwockF63rWIxAvsJK5ixCF80zkHZzbHxI8qvcDlIwNP7awaQ0AAAAASUVORK5CYII=\" id=\"image33be996e9a\" transform=\"matrix(5.156863 0 0 -5.156863 7.2 269.28)\" style=\"image-rendering:crisp-edges;image-rendering:pixelated\" width=\"51\" height=\"51\"/>\n",
       "   </g>\n",
       "  </g>\n",
       " </g>\n",
       " <defs>\n",
       "  <clipPath id=\"p387afec5f6\">\n",
       "   <rect x=\"7.2\" y=\"7.2\" width=\"262.08\" height=\"262.08\"/>\n",
       "  </clipPath>\n",
       " </defs>\n",
       "</svg>\n"
      ],
      "text/plain": [
       "<Figure size 400x400 with 1 Axes>"
      ]
     },
     "metadata": {},
     "output_type": "display_data"
    }
   ],
   "source": [
    "im1 = np.zeros([100, 100,100])\n",
    "im2 = np.zeros([51, 51,51])\n",
    "im1 = ps.generators.RSA(im1, r=25, volume_fraction=0.5)\n",
    "im2 = ps.generators.RSA(im2, r=5, volume_fraction=0.5)\n",
    "im3 = im1.copy()\n",
    "\n",
    "fig, ax = plt.subplots(figsize=[4, 4]);\n",
    "ps.visualization.imshow(im1);\n",
    "plt.axis(False)\n",
    "fig, ax = plt.subplots(figsize=[4, 4]);\n",
    "ps.visualization.imshow(im2);\n",
    "plt.axis(False);\n",
    "\n",
    "#default values:\n",
    "c = [26,26,26]"
   ]
  },
  {
   "cell_type": "markdown",
   "id": "81a1dc0b",
   "metadata": {},
   "source": [
    "## Apply tool"
   ]
  },
  {
   "cell_type": "code",
   "execution_count": 3,
   "id": "a8f3e5aa",
   "metadata": {
    "execution": {
     "iopub.execute_input": "2022-08-23T01:42:48.084265Z",
     "iopub.status.busy": "2022-08-23T01:42:48.084040Z",
     "iopub.status.idle": "2022-08-23T01:42:48.149930Z",
     "shell.execute_reply": "2022-08-23T01:42:48.149338Z"
    }
   },
   "outputs": [
    {
     "data": {
      "image/svg+xml": [
       "<?xml version=\"1.0\" encoding=\"utf-8\" standalone=\"no\"?>\n",
       "<!DOCTYPE svg PUBLIC \"-//W3C//DTD SVG 1.1//EN\"\n",
       "  \"http://www.w3.org/Graphics/SVG/1.1/DTD/svg11.dtd\">\n",
       "<svg xmlns:xlink=\"http://www.w3.org/1999/xlink\" width=\"276.48pt\" height=\"276.48pt\" viewBox=\"0 0 276.48 276.48\" xmlns=\"http://www.w3.org/2000/svg\" version=\"1.1\">\n",
       " <metadata>\n",
       "  <rdf:RDF xmlns:dc=\"http://purl.org/dc/elements/1.1/\" xmlns:cc=\"http://creativecommons.org/ns#\" xmlns:rdf=\"http://www.w3.org/1999/02/22-rdf-syntax-ns#\">\n",
       "   <cc:Work>\n",
       "    <dc:type rdf:resource=\"http://purl.org/dc/dcmitype/StillImage\"/>\n",
       "    <dc:date>2022-08-23T01:42:48.140299</dc:date>\n",
       "    <dc:format>image/svg+xml</dc:format>\n",
       "    <dc:creator>\n",
       "     <cc:Agent>\n",
       "      <dc:title>Matplotlib v3.5.3, https://matplotlib.org/</dc:title>\n",
       "     </cc:Agent>\n",
       "    </dc:creator>\n",
       "   </cc:Work>\n",
       "  </rdf:RDF>\n",
       " </metadata>\n",
       " <defs>\n",
       "  <style type=\"text/css\">*{stroke-linejoin: round; stroke-linecap: butt}</style>\n",
       " </defs>\n",
       " <g id=\"figure_1\">\n",
       "  <g id=\"patch_1\">\n",
       "   <path d=\"M 0 276.48 \n",
       "L 276.48 276.48 \n",
       "L 276.48 0 \n",
       "L 0 0 \n",
       "z\n",
       "\" style=\"fill: #ffffff\"/>\n",
       "  </g>\n",
       "  <g id=\"axes_1\">\n",
       "   <g clip-path=\"url(#pafdf1666c0)\">\n",
       "    <image xlink:href=\"data:image/png;base64,\n",
       "iVBORw0KGgoAAAANSUhEUgAAAGQAAABkCAYAAABw4pVUAAACcklEQVR4nO2d223DMBAEz0FKSwkpMyWkN+cjIOAIjiE+jpyldj4NWFxxeKRkPRxhjDEy3Fq/+HH7vB8/+75/NW/P/PLW8qVnMl59bs7zvjpANi2DZGWlbymkt1Ifvz9bzlZCMqbMss1ZYrYQMmPtmiWmaVH/L9SKuXf2gUR2e9KHqSuP6rIGX1OFEFh9iJ3VvqSQ1TIKGTnkhFBkFEbnkRJCk1EYmUtGCFVGYVQ+GSFXQUIIvToKI3JKCLkS6SeGvddNVKrjkZ6TxtQK8XWTejxlwUALUa2kntxoIVfEQmD8uUA1+k6S7/vXzXen1JF+xdCdX4enLBgWAsNCYPxZQzzfr8cVAsNCYFgIDAuBgRaiepDRkzv1pxNTD7pCrgheiFqF9ubFC7kaEkJUqmRETv90AkOiQiL4g2VUPhkhEVwpI3NJCYngSRmdZ+rOjXxmnHCLUMbgWHIraSvHDtjxGcM0IZmd9dgZK6RkTpvDNzyzg0rHrGgzi6EbXz1aZ1VlJkMaoS2wmetWNt2NEWQUnnWe2tuAuhomySjQzlNqaT4xJMqI4OY6i9yZ+u4MfcUfBXq+V1QLUdlZlZxHPGXBqBKiNurU8ka4QnCcFqI42iL0crtCYFgIjFNC1Mr+iFJ+VwgMC4FhITAsBIaFwLAQGBYCw0JgWAgMC4FhITAsBMYpIer3Oinld4XAsBAYp4Uolf0jarldITCqhKiNNrW8Ea4QHNVCVEadSs4jQ/96lQI93ys8ZcFoFkIdhdRcZ+mqENrO0/K00D1lUTqBkqOXrZ5T34Ghi/rsztlNRsQG7zrZDem3Ae2I7PuyjDHGGGOMOc8P82cHMQrBX1QAAAAASUVORK5CYII=\" id=\"image516e30ddc3\" transform=\"matrix(2.63 0 0 -2.63 7.2 269.28)\" style=\"image-rendering:crisp-edges;image-rendering:pixelated\" width=\"100\" height=\"100\"/>\n",
       "   </g>\n",
       "  </g>\n",
       " </g>\n",
       " <defs>\n",
       "  <clipPath id=\"pafdf1666c0\">\n",
       "   <rect x=\"7.2\" y=\"7.2\" width=\"262.08\" height=\"262.08\"/>\n",
       "  </clipPath>\n",
       " </defs>\n",
       "</svg>\n"
      ],
      "text/plain": [
       "<Figure size 400x400 with 1 Axes>"
      ]
     },
     "metadata": {},
     "output_type": "display_data"
    }
   ],
   "source": [
    "im = ps.tools.overlay(im1=im1,im2=im2, c=c)\n",
    "fig, ax = plt.subplots(figsize=[4, 4]);\n",
    "ps.visualization.imshow(im);\n",
    "plt.axis(False);"
   ]
  },
  {
   "cell_type": "code",
   "execution_count": 4,
   "id": "8e89b639",
   "metadata": {
    "execution": {
     "iopub.execute_input": "2022-08-23T01:42:48.153106Z",
     "iopub.status.busy": "2022-08-23T01:42:48.152897Z",
     "iopub.status.idle": "2022-08-23T01:42:48.215663Z",
     "shell.execute_reply": "2022-08-23T01:42:48.215118Z"
    }
   },
   "outputs": [
    {
     "data": {
      "image/svg+xml": [
       "<?xml version=\"1.0\" encoding=\"utf-8\" standalone=\"no\"?>\n",
       "<!DOCTYPE svg PUBLIC \"-//W3C//DTD SVG 1.1//EN\"\n",
       "  \"http://www.w3.org/Graphics/SVG/1.1/DTD/svg11.dtd\">\n",
       "<svg xmlns:xlink=\"http://www.w3.org/1999/xlink\" width=\"276.48pt\" height=\"276.48pt\" viewBox=\"0 0 276.48 276.48\" xmlns=\"http://www.w3.org/2000/svg\" version=\"1.1\">\n",
       " <metadata>\n",
       "  <rdf:RDF xmlns:dc=\"http://purl.org/dc/elements/1.1/\" xmlns:cc=\"http://creativecommons.org/ns#\" xmlns:rdf=\"http://www.w3.org/1999/02/22-rdf-syntax-ns#\">\n",
       "   <cc:Work>\n",
       "    <dc:type rdf:resource=\"http://purl.org/dc/dcmitype/StillImage\"/>\n",
       "    <dc:date>2022-08-23T01:42:48.206083</dc:date>\n",
       "    <dc:format>image/svg+xml</dc:format>\n",
       "    <dc:creator>\n",
       "     <cc:Agent>\n",
       "      <dc:title>Matplotlib v3.5.3, https://matplotlib.org/</dc:title>\n",
       "     </cc:Agent>\n",
       "    </dc:creator>\n",
       "   </cc:Work>\n",
       "  </rdf:RDF>\n",
       " </metadata>\n",
       " <defs>\n",
       "  <style type=\"text/css\">*{stroke-linejoin: round; stroke-linecap: butt}</style>\n",
       " </defs>\n",
       " <g id=\"figure_1\">\n",
       "  <g id=\"patch_1\">\n",
       "   <path d=\"M 0 276.48 \n",
       "L 276.48 276.48 \n",
       "L 276.48 0 \n",
       "L 0 0 \n",
       "z\n",
       "\" style=\"fill: #ffffff\"/>\n",
       "  </g>\n",
       "  <g id=\"axes_1\">\n",
       "   <g clip-path=\"url(#p04094776dd)\">\n",
       "    <image xlink:href=\"data:image/png;base64,\n",
       "iVBORw0KGgoAAAANSUhEUgAAAGQAAABkCAYAAABw4pVUAAACpElEQVR4nO2cS3LDIBBEcSpHyxFyTB/Bd3M2YaOyZdD8uqHfMhWLEU8zgCTUmhBCCCGW4FYdQDQ/t9/n7G8ez3tZvywp5IqEd2TLWUqIp4gjWWKWEBIp4ki0mK/Ig2eQKSOjPWoh2TIy2qUVUiUjun1KIdUyOhFx0AlBkdHxjodKCJqMjmdcNEJQZXS84qMRsgsUQtCzo+MRJ4WQnYAXwpIdHWu88EJ2Q0LAgBbCVq46lrihheyIhIAhIWBICBgSAoaEgCEhYEgIGBIChoSAISFgSAgY0EIq30K3YIkbWsiOSAgY8ELYypY1Xnghu0EhhCVLPOKkELITNELQs8QrPhohreFK8YyLSkhreFK840k9Oc894wivCEVcHOFCIveMV0qJytQwIVl7xiukRJZN9wNX7BlfaZ+668Grr1Z9yeEfpAHWOxa6b50gyPCmcmr9bfkxkwykGdoZlxeGqCfEDt1KfXUulSxlxzmv+md0XJrOEEYZmYP0u/4Z7belS9bjeb+9kzH79yymGld2fOasj0ZiMU17d8EyJswyXLIYs6M1vriXHkMqsI5NKlkBhL9Kypb2R5jiV4YMkDlT0xgChoSAISFgaAxJZGSBqQxJYvSmo4SAISFgSAgYEgKGhCQxetNR094JrM9FRv53KEOqH2ta8Yjf+qx8FJUsMFSygrha3oYzhLVsVcRtKW8qWWBMCWHLEs94s97j0hgyQcYFOV2yWLKEJc4jl8YQ9JOtjs9S3lSygrh6UZiuJMTXa6qzY4SzNYpp2ot28mjxvOLTGsW8DkHpBJQ4rLiMIRUb+I9tr4LrSj27c1aT0VrALCsjW6JFZO4HOUL9NaAIrDugrrbRjw2z3esdbFvSrKQuDFes+d7o9jsYEgKGhBxA3b8uhGittT82akQdYeDWtwAAAABJRU5ErkJggg==\" id=\"imageaa19f19698\" transform=\"matrix(2.63 0 0 -2.63 7.2 269.28)\" style=\"image-rendering:crisp-edges;image-rendering:pixelated\" width=\"100\" height=\"100\"/>\n",
       "   </g>\n",
       "  </g>\n",
       " </g>\n",
       " <defs>\n",
       "  <clipPath id=\"p04094776dd\">\n",
       "   <rect x=\"7.2\" y=\"7.2\" width=\"262.08\" height=\"262.08\"/>\n",
       "  </clipPath>\n",
       " </defs>\n",
       "</svg>\n"
      ],
      "text/plain": [
       "<Figure size 400x400 with 1 Axes>"
      ]
     },
     "metadata": {},
     "output_type": "display_data"
    }
   ],
   "source": [
    "im = ps.tools.overlay(im1=im3, im2=im2, c=[74, 74, 74])\n",
    "fig, ax = plt.subplots(figsize=[4, 4]);\n",
    "ps.visualization.imshow(im);\n",
    "plt.axis(False);"
   ]
  }
 ],
 "metadata": {
  "kernelspec": {
   "display_name": "Python 3 (ipykernel)",
   "language": "python",
   "name": "python3"
  },
  "language_info": {
   "codemirror_mode": {
    "name": "ipython",
    "version": 3
   },
   "file_extension": ".py",
   "mimetype": "text/x-python",
   "name": "python",
   "nbconvert_exporter": "python",
   "pygments_lexer": "ipython3",
   "version": "3.8.13"
  }
 },
 "nbformat": 4,
 "nbformat_minor": 5
}

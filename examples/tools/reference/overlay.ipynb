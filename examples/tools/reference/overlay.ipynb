{
 "cells": [
  {
   "cell_type": "markdown",
   "id": "4bd55bf8",
   "metadata": {},
   "source": [
    "# `overlay`"
   ]
  },
  {
   "cell_type": "markdown",
   "id": "a71579c9",
   "metadata": {},
   "source": [
    "## Import packages"
   ]
  },
  {
   "cell_type": "code",
   "execution_count": 1,
   "id": "2540ba84",
   "metadata": {
    "execution": {
     "iopub.execute_input": "2022-08-12T21:33:03.863437Z",
     "iopub.status.busy": "2022-08-12T21:33:03.863108Z",
     "iopub.status.idle": "2022-08-12T21:33:05.716952Z",
     "shell.execute_reply": "2022-08-12T21:33:05.716292Z"
    }
   },
   "outputs": [],
   "source": [
    "import numpy as np\n",
    "import porespy as ps\n",
    "import scipy.ndimage as spim\n",
    "import matplotlib.pyplot as plt\n",
    "import skimage\n",
    "ps.visualization.set_mpl_style()"
   ]
  },
  {
   "cell_type": "markdown",
   "id": "24f1086e",
   "metadata": {},
   "source": [
    "## Create image and variables"
   ]
  },
  {
   "cell_type": "code",
   "execution_count": 2,
   "id": "df980fdd",
   "metadata": {
    "execution": {
     "iopub.execute_input": "2022-08-12T21:33:05.722376Z",
     "iopub.status.busy": "2022-08-12T21:33:05.721116Z",
     "iopub.status.idle": "2022-08-12T21:33:06.737091Z",
     "shell.execute_reply": "2022-08-12T21:33:06.736553Z"
    }
   },
   "outputs": [
    {
     "name": "stderr",
     "output_type": "stream",
     "text": [
      "/tmp/ipykernel_10095/2366592848.py:3: DeprecationWarning: Call to deprecated function (or staticmethod) RSA. (This function has been renamed to rsa (lowercase to meet pep8)\n",
      "  im1 = ps.generators.RSA(im1, r=25, volume_fraction=0.5)\n"
     ]
    },
    {
     "name": "stderr",
     "output_type": "stream",
     "text": [
      "/tmp/ipykernel_10095/2366592848.py:4: DeprecationWarning: Call to deprecated function (or staticmethod) RSA. (This function has been renamed to rsa (lowercase to meet pep8)\n",
      "  im2 = ps.generators.RSA(im2, r=5, volume_fraction=0.5)\n"
     ]
    },
    {
     "data": {
      "image/svg+xml": [
       "<?xml version=\"1.0\" encoding=\"utf-8\" standalone=\"no\"?>\n",
       "<!DOCTYPE svg PUBLIC \"-//W3C//DTD SVG 1.1//EN\"\n",
       "  \"http://www.w3.org/Graphics/SVG/1.1/DTD/svg11.dtd\">\n",
       "<svg xmlns:xlink=\"http://www.w3.org/1999/xlink\" width=\"280.8pt\" height=\"280.8pt\" viewBox=\"0 0 280.8 280.8\" xmlns=\"http://www.w3.org/2000/svg\" version=\"1.1\">\n",
       " <metadata>\n",
       "  <rdf:RDF xmlns:dc=\"http://purl.org/dc/elements/1.1/\" xmlns:cc=\"http://creativecommons.org/ns#\" xmlns:rdf=\"http://www.w3.org/1999/02/22-rdf-syntax-ns#\">\n",
       "   <cc:Work>\n",
       "    <dc:type rdf:resource=\"http://purl.org/dc/dcmitype/StillImage\"/>\n",
       "    <dc:date>2022-08-12T21:33:06.690829</dc:date>\n",
       "    <dc:format>image/svg+xml</dc:format>\n",
       "    <dc:creator>\n",
       "     <cc:Agent>\n",
       "      <dc:title>Matplotlib v3.5.3, https://matplotlib.org/</dc:title>\n",
       "     </cc:Agent>\n",
       "    </dc:creator>\n",
       "   </cc:Work>\n",
       "  </rdf:RDF>\n",
       " </metadata>\n",
       " <defs>\n",
       "  <style type=\"text/css\">*{stroke-linejoin: round; stroke-linecap: butt}</style>\n",
       " </defs>\n",
       " <g id=\"figure_1\">\n",
       "  <g id=\"patch_1\">\n",
       "   <path d=\"M 0 280.8 \n",
       "L 280.8 280.8 \n",
       "L 280.8 0 \n",
       "L 0 0 \n",
       "L 0 280.8 \n",
       "z\n",
       "\" style=\"fill: none\"/>\n",
       "  </g>\n",
       "  <g id=\"axes_1\">\n",
       "   <g clip-path=\"url(#p1118d338d7)\">\n",
       "    <image xlink:href=\"data:image/png;base64,\n",
       "iVBORw0KGgoAAAANSUhEUgAAAGQAAABkCAYAAABw4pVUAAACCklEQVR4nO3cwXHCMBBAUZFJaSkhZaYEeiMnXRjAxmi1X97/zhm08bfsTMC0JkmSJEmSJEla3yV7gEg/l9/b1s9cb3+oY4Aa5lN7AmzJDnSKICNC3MsKs3SQiBD3ZodZMsiMEPdmhfmaschIGTFmrrtUkKwYM9dfJkh2jC56jiWCUGJ0kfPgg9BidFFzoYNQY3QR86GDVIQNQt8d3eg5sUGqQgZZZXd0I+dFBqkMF2S13dGNmhsXpDqDwBgEBhVk1ftHN2J+VBAZBMcgMAaBMQiMQWAMAmMQGFSQ7M/VfmrE/KggMgiOQWBwQVa9j4yaGxekOmSQ1XbJyHmRQSrDBllll4yeExukKnQQ+i6JmG/YCx55P3nvL0R8rz3qZPn4RWc9G06KErlzD79wxrPhhCjRl9FD95CoA7P1utn3lBnrv7XAzDP01S9/5ufUdy9CPAhlv8kh89qddcPPujx+Zyw6Wj94Jb4NaOW/bE73fVmEGB3twEVB/+ukoqdBSLujNd48UdwhMA+DUM9G6lwjuUNgDAJjEBiDwBgExiAwBoExCIxBYAwCYxAYg8A8DEJ9M4g610juEJinQWhnI22eKO4QmJdBKGclZY4ZNndI9sHIXn82L1kwu4JknaXVdkdrb+yQ2QenYozWDj6wE/npj6ohukP3kKiDVj1Gaws9Y1jFEk/hSpIkSTqVfwe+yvkIsL7wAAAAAElFTkSuQmCC\" id=\"image7dd5dcb032\" transform=\"matrix(2.67 0 0 -2.67 7.2 273.6)\" style=\"image-rendering:crisp-edges;image-rendering:pixelated\" width=\"100\" height=\"100\"/>\n",
       "   </g>\n",
       "  </g>\n",
       " </g>\n",
       " <defs>\n",
       "  <clipPath id=\"p1118d338d7\">\n",
       "   <rect x=\"7.2\" y=\"7.2\" width=\"266.4\" height=\"266.4\"/>\n",
       "  </clipPath>\n",
       " </defs>\n",
       "</svg>\n"
      ],
      "text/plain": [
       "<Figure size 288x288 with 1 Axes>"
      ]
     },
     "metadata": {
      "needs_background": "light"
     },
     "output_type": "display_data"
    },
    {
     "data": {
      "image/svg+xml": [
       "<?xml version=\"1.0\" encoding=\"utf-8\" standalone=\"no\"?>\n",
       "<!DOCTYPE svg PUBLIC \"-//W3C//DTD SVG 1.1//EN\"\n",
       "  \"http://www.w3.org/Graphics/SVG/1.1/DTD/svg11.dtd\">\n",
       "<svg xmlns:xlink=\"http://www.w3.org/1999/xlink\" width=\"280.8pt\" height=\"280.8pt\" viewBox=\"0 0 280.8 280.8\" xmlns=\"http://www.w3.org/2000/svg\" version=\"1.1\">\n",
       " <metadata>\n",
       "  <rdf:RDF xmlns:dc=\"http://purl.org/dc/elements/1.1/\" xmlns:cc=\"http://creativecommons.org/ns#\" xmlns:rdf=\"http://www.w3.org/1999/02/22-rdf-syntax-ns#\">\n",
       "   <cc:Work>\n",
       "    <dc:type rdf:resource=\"http://purl.org/dc/dcmitype/StillImage\"/>\n",
       "    <dc:date>2022-08-12T21:33:06.730995</dc:date>\n",
       "    <dc:format>image/svg+xml</dc:format>\n",
       "    <dc:creator>\n",
       "     <cc:Agent>\n",
       "      <dc:title>Matplotlib v3.5.3, https://matplotlib.org/</dc:title>\n",
       "     </cc:Agent>\n",
       "    </dc:creator>\n",
       "   </cc:Work>\n",
       "  </rdf:RDF>\n",
       " </metadata>\n",
       " <defs>\n",
       "  <style type=\"text/css\">*{stroke-linejoin: round; stroke-linecap: butt}</style>\n",
       " </defs>\n",
       " <g id=\"figure_1\">\n",
       "  <g id=\"patch_1\">\n",
       "   <path d=\"M 0 280.8 \n",
       "L 280.8 280.8 \n",
       "L 280.8 0 \n",
       "L 0 0 \n",
       "L 0 280.8 \n",
       "z\n",
       "\" style=\"fill: none\"/>\n",
       "  </g>\n",
       "  <g id=\"axes_1\">\n",
       "   <g clip-path=\"url(#p2fcad4d5e0)\">\n",
       "    <image xlink:href=\"data:image/png;base64,\n",
       "iVBORw0KGgoAAAANSUhEUgAAADMAAAAzCAYAAAA6oTAqAAABSUlEQVR4nO2ZTRaDMAiETV+P1iP0mD2Cd7MrN0p0CAOJeXxLRYVO+ElalgH4lO92vLZuv6K1e/Fd0yE5KF1H7LoGU3PweB+1ezMdkZZGJN2XGZNmZVAiFXRVBk1uFm7BIEl7p9B+H7WrGlmXB/Lr7+9j9RnRuStH0IA0wbA4FQDG8vAAUe8RpRktJG7BoEl7B9r9l8VZmZrDXsvUvWlG5tdJGdby6IGozLr9ClI9WP2BRfML0V7k3bPMmzP2PuQOtJC4FwAWiIpiMCNuvBAeMQGgTBUMPDUjZVmy9apm0rPNyqAVxjrSaHarwye1RtmpcmaqYMxNc6SeZFIm4ihJU0CaT2daDyw8lQzNGW8lpyoAGcyomBJPO3cx5rQrTMpo5y7voye3g3MNrG91zxlmue4eDJMMZlSqU/MTTmOOdFcm+p+CJEmSJJQ/YMDx+pJ+AW4AAAAASUVORK5CYII=\" id=\"imagecc73598402\" transform=\"matrix(5.235294 0 0 -5.235294 7.2 273.6)\" style=\"image-rendering:crisp-edges;image-rendering:pixelated\" width=\"51\" height=\"51\"/>\n",
       "   </g>\n",
       "  </g>\n",
       " </g>\n",
       " <defs>\n",
       "  <clipPath id=\"p2fcad4d5e0\">\n",
       "   <rect x=\"7.2\" y=\"7.2\" width=\"266.4\" height=\"266.4\"/>\n",
       "  </clipPath>\n",
       " </defs>\n",
       "</svg>\n"
      ],
      "text/plain": [
       "<Figure size 288x288 with 1 Axes>"
      ]
     },
     "metadata": {
      "needs_background": "light"
     },
     "output_type": "display_data"
    }
   ],
   "source": [
    "im1 = np.zeros([100, 100,100])\n",
    "im2 = np.zeros([51, 51,51])\n",
    "im1 = ps.generators.RSA(im1, r=25, volume_fraction=0.5)\n",
    "im2 = ps.generators.RSA(im2, r=5, volume_fraction=0.5)\n",
    "im3 = im1.copy()\n",
    "\n",
    "fig, ax = plt.subplots(figsize=[4, 4]);\n",
    "ps.visualization.imshow(im1);\n",
    "plt.axis(False)\n",
    "fig, ax = plt.subplots(figsize=[4, 4]);\n",
    "ps.visualization.imshow(im2);\n",
    "plt.axis(False);\n",
    "\n",
    "#default values:\n",
    "c = [26,26,26]"
   ]
  },
  {
   "cell_type": "markdown",
   "id": "81a1dc0b",
   "metadata": {},
   "source": [
    "## Apply tool"
   ]
  },
  {
   "cell_type": "code",
   "execution_count": 3,
   "id": "a8f3e5aa",
   "metadata": {
    "execution": {
     "iopub.execute_input": "2022-08-12T21:33:06.741276Z",
     "iopub.status.busy": "2022-08-12T21:33:06.740297Z",
     "iopub.status.idle": "2022-08-12T21:33:06.828360Z",
     "shell.execute_reply": "2022-08-12T21:33:06.827727Z"
    }
   },
   "outputs": [
    {
     "data": {
      "image/svg+xml": [
       "<?xml version=\"1.0\" encoding=\"utf-8\" standalone=\"no\"?>\n",
       "<!DOCTYPE svg PUBLIC \"-//W3C//DTD SVG 1.1//EN\"\n",
       "  \"http://www.w3.org/Graphics/SVG/1.1/DTD/svg11.dtd\">\n",
       "<svg xmlns:xlink=\"http://www.w3.org/1999/xlink\" width=\"280.8pt\" height=\"280.8pt\" viewBox=\"0 0 280.8 280.8\" xmlns=\"http://www.w3.org/2000/svg\" version=\"1.1\">\n",
       " <metadata>\n",
       "  <rdf:RDF xmlns:dc=\"http://purl.org/dc/elements/1.1/\" xmlns:cc=\"http://creativecommons.org/ns#\" xmlns:rdf=\"http://www.w3.org/1999/02/22-rdf-syntax-ns#\">\n",
       "   <cc:Work>\n",
       "    <dc:type rdf:resource=\"http://purl.org/dc/dcmitype/StillImage\"/>\n",
       "    <dc:date>2022-08-12T21:33:06.815166</dc:date>\n",
       "    <dc:format>image/svg+xml</dc:format>\n",
       "    <dc:creator>\n",
       "     <cc:Agent>\n",
       "      <dc:title>Matplotlib v3.5.3, https://matplotlib.org/</dc:title>\n",
       "     </cc:Agent>\n",
       "    </dc:creator>\n",
       "   </cc:Work>\n",
       "  </rdf:RDF>\n",
       " </metadata>\n",
       " <defs>\n",
       "  <style type=\"text/css\">*{stroke-linejoin: round; stroke-linecap: butt}</style>\n",
       " </defs>\n",
       " <g id=\"figure_1\">\n",
       "  <g id=\"patch_1\">\n",
       "   <path d=\"M 0 280.8 \n",
       "L 280.8 280.8 \n",
       "L 280.8 0 \n",
       "L 0 0 \n",
       "L 0 280.8 \n",
       "z\n",
       "\" style=\"fill: none\"/>\n",
       "  </g>\n",
       "  <g id=\"axes_1\">\n",
       "   <g clip-path=\"url(#p2327320268)\">\n",
       "    <image xlink:href=\"data:image/png;base64,\n",
       "iVBORw0KGgoAAAANSUhEUgAAAGQAAABkCAYAAABw4pVUAAACY0lEQVR4nO2cUU7DMAxAA+JoHIFjcgTuNj5QJATd1nV2/NK898c0ETcvjt2ubWsiIiIiIiJjefn7wfvLx+XvZ1+Xz3/fi6RiTCqvv//Ymphbn0s8r/e/IiNRCAyFwHirDqC1dQv4FkO6rKouak8zQlsMQ4IZJSSiG6wWhNiyniWyLe//q0rM1EIyz4+qxDwlhFwboscaJebwILcmJTP4yqsGI6RMdR5SfQlnxPjTCKmW0cmOYwohFBmdzHjwQmgyOllxHRZyrcBFFj6qjE5GfE+1vdVntWcEu2XRs6MTHSdWyKoghcySHZ3IeDHXsmaTkAUyQ2YkakEpBIZCYCgEBkbIGU4yI+oIRoj8oBAYCoHx0Imhd6nnsztDvDN+DG5ZMBQCQyEwMELOUIsiGpzdQjJ/Qz+DjCgeanttcfPBbFnyg0KCiNo9FAIDIWT22hQZP3YiZuq8IoUgMmSLWbImOk6skFVBC6FnSUZ8pXeq7z0gYj3JWiyIyx57Do4kJTNzUx76PMq9AyVIyd5GD9WQrIm593+ra8qI8R8aYOQKvXXwFZmCe06dOAkjYhqdlfgup6rg+66TJ+iTd4a3AU3Rbh6dpNO9L4sgo0ObuCzQl05W5KoQUna0xosnCzMExqYQ6mqkxhWJGQJDITAUAkMhMBQCQyEwFAJDITAUAkMhMBQCQyEwNoVQfwyixhWJGQLjqhDaaqTFk4UZAuOmEMqqpMQxgrsZUj0Z1eOPxi0Lxi4hVat0texoLeBdJ1msKKO1gw/sZN79saqIzqEakjVpq8tobaJnDFdhiqdwRURERETkVHwDawkLJEI7BGwAAAAASUVORK5CYII=\" id=\"imageb1287f92ee\" transform=\"matrix(2.67 0 0 -2.67 7.2 273.6)\" style=\"image-rendering:crisp-edges;image-rendering:pixelated\" width=\"100\" height=\"100\"/>\n",
       "   </g>\n",
       "  </g>\n",
       " </g>\n",
       " <defs>\n",
       "  <clipPath id=\"p2327320268\">\n",
       "   <rect x=\"7.2\" y=\"7.2\" width=\"266.4\" height=\"266.4\"/>\n",
       "  </clipPath>\n",
       " </defs>\n",
       "</svg>\n"
      ],
      "text/plain": [
       "<Figure size 288x288 with 1 Axes>"
      ]
     },
     "metadata": {
      "needs_background": "light"
     },
     "output_type": "display_data"
    }
   ],
   "source": [
    "im = ps.tools.overlay(im1=im1,im2=im2, c=c)\n",
    "fig, ax = plt.subplots(figsize=[4, 4]);\n",
    "ps.visualization.imshow(im);\n",
    "plt.axis(False);"
   ]
  },
  {
   "cell_type": "code",
   "execution_count": 4,
   "id": "8e89b639",
   "metadata": {
    "execution": {
     "iopub.execute_input": "2022-08-12T21:33:06.831703Z",
     "iopub.status.busy": "2022-08-12T21:33:06.831340Z",
     "iopub.status.idle": "2022-08-12T21:33:06.915135Z",
     "shell.execute_reply": "2022-08-12T21:33:06.914464Z"
    }
   },
   "outputs": [
    {
     "data": {
      "image/svg+xml": [
       "<?xml version=\"1.0\" encoding=\"utf-8\" standalone=\"no\"?>\n",
       "<!DOCTYPE svg PUBLIC \"-//W3C//DTD SVG 1.1//EN\"\n",
       "  \"http://www.w3.org/Graphics/SVG/1.1/DTD/svg11.dtd\">\n",
       "<svg xmlns:xlink=\"http://www.w3.org/1999/xlink\" width=\"280.8pt\" height=\"280.8pt\" viewBox=\"0 0 280.8 280.8\" xmlns=\"http://www.w3.org/2000/svg\" version=\"1.1\">\n",
       " <metadata>\n",
       "  <rdf:RDF xmlns:dc=\"http://purl.org/dc/elements/1.1/\" xmlns:cc=\"http://creativecommons.org/ns#\" xmlns:rdf=\"http://www.w3.org/1999/02/22-rdf-syntax-ns#\">\n",
       "   <cc:Work>\n",
       "    <dc:type rdf:resource=\"http://purl.org/dc/dcmitype/StillImage\"/>\n",
       "    <dc:date>2022-08-12T21:33:06.907762</dc:date>\n",
       "    <dc:format>image/svg+xml</dc:format>\n",
       "    <dc:creator>\n",
       "     <cc:Agent>\n",
       "      <dc:title>Matplotlib v3.5.3, https://matplotlib.org/</dc:title>\n",
       "     </cc:Agent>\n",
       "    </dc:creator>\n",
       "   </cc:Work>\n",
       "  </rdf:RDF>\n",
       " </metadata>\n",
       " <defs>\n",
       "  <style type=\"text/css\">*{stroke-linejoin: round; stroke-linecap: butt}</style>\n",
       " </defs>\n",
       " <g id=\"figure_1\">\n",
       "  <g id=\"patch_1\">\n",
       "   <path d=\"M 0 280.8 \n",
       "L 280.8 280.8 \n",
       "L 280.8 0 \n",
       "L 0 0 \n",
       "L 0 280.8 \n",
       "z\n",
       "\" style=\"fill: none\"/>\n",
       "  </g>\n",
       "  <g id=\"axes_1\">\n",
       "   <g clip-path=\"url(#pad1175a384)\">\n",
       "    <image xlink:href=\"data:image/png;base64,\n",
       "iVBORw0KGgoAAAANSUhEUgAAAGQAAABkCAYAAABw4pVUAAACZUlEQVR4nO2cW27DIBBFSdWlZQlZZpfQvaVfSJXlB8EzzBm45zuCC4fBToxTihBCCCGEEEIIIYQQQoj8PKIDePJ8vN5Xn/l9/6DmABXmLi0CrogWNIUQCxFbosSkFuIhYstoMSmFjBCxZZSYrxGdWBIhY2S/qYREyRjZfxoh0TIq3jlSCKHIqHjmwQuhyah45UILocqoeORDC1kRrBB6dVSsc2KFrApSSJbqqFjmRQpZGZyQbNVRscqNE7I6EgJDQmCghGS9flQs8qOECAnBISEwJASGhMCQEBgSAkNCYKCERJ+rvYtFfpQQISE4JAQGTkjW64hVbpyQ1UEKyVYllnmRQlYGKyRLlVjnxApZFbQQepV45DNrsOd5cuuAiM/ae2XsjeV/W7eFjHo3nCTFUsa2ze4t6/l4va0mqaUt+vZlRZcQr9WaQYp3ho8aH7ltnA0863vqplvW6Em4Cj+qWkb2VUpjhUReUKMu+F4STO6y6EIqS/wbEOF20+M2827bXpyGIcio0CZuy9VW1Mq3TRwWVpMTweFdFqk6SmnPc/Q52niOQP+4uCK7QqiriZrLkimvIRHokMOkTCfkaKVmucuacsvKMvl7TFch2ZEQGBICQ0JgSAgMCYEhITAkBMauEOoXK2ouS1QhMA6F0FYjLY8XqhAYp0Ioq5KSYwSXFRI9GdH9j0ZbFowmIVGrdLXqKOWDChk9OSvKKKXzDSrP0x+riqh0D5544jzzicVK9zP1OtAZTpyTuH3I4Y4YqojISkNOSC8WE9ny2pkn+h4CY6pzWdQt8BNUITAkBIaEbMh+NlgY8wd7HBJXkryQ6AAAAABJRU5ErkJggg==\" id=\"image630d6dd5fd\" transform=\"matrix(2.67 0 0 -2.67 7.2 273.6)\" style=\"image-rendering:crisp-edges;image-rendering:pixelated\" width=\"100\" height=\"100\"/>\n",
       "   </g>\n",
       "  </g>\n",
       " </g>\n",
       " <defs>\n",
       "  <clipPath id=\"pad1175a384\">\n",
       "   <rect x=\"7.2\" y=\"7.2\" width=\"266.4\" height=\"266.4\"/>\n",
       "  </clipPath>\n",
       " </defs>\n",
       "</svg>\n"
      ],
      "text/plain": [
       "<Figure size 288x288 with 1 Axes>"
      ]
     },
     "metadata": {
      "needs_background": "light"
     },
     "output_type": "display_data"
    }
   ],
   "source": [
    "im = ps.tools.overlay(im1=im3, im2=im2, c=[74, 74, 74])\n",
    "fig, ax = plt.subplots(figsize=[4, 4]);\n",
    "ps.visualization.imshow(im);\n",
    "plt.axis(False);"
   ]
  }
 ],
 "metadata": {
  "kernelspec": {
   "display_name": "Python 3 (ipykernel)",
   "language": "python",
   "name": "python3"
  },
  "language_info": {
   "codemirror_mode": {
    "name": "ipython",
    "version": 3
   },
   "file_extension": ".py",
   "mimetype": "text/x-python",
   "name": "python",
   "nbconvert_exporter": "python",
   "pygments_lexer": "ipython3",
   "version": "3.8.13"
  }
 },
 "nbformat": 4,
 "nbformat_minor": 5
}

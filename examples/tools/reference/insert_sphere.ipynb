{
 "cells": [
  {
   "cell_type": "markdown",
   "id": "confident-salmon",
   "metadata": {},
   "source": [
    "# `insert_sphere`"
   ]
  },
  {
   "cell_type": "markdown",
   "id": "willing-advertiser",
   "metadata": {},
   "source": [
    "## Import packages"
   ]
  },
  {
   "cell_type": "code",
   "execution_count": 1,
   "id": "straight-pitch",
   "metadata": {
    "execution": {
     "iopub.execute_input": "2022-08-23T00:42:11.617960Z",
     "iopub.status.busy": "2022-08-23T00:42:11.617455Z",
     "iopub.status.idle": "2022-08-23T00:42:13.441545Z",
     "shell.execute_reply": "2022-08-23T00:42:13.440854Z"
    }
   },
   "outputs": [],
   "source": [
    "import numpy as np\n",
    "import porespy as ps\n",
    "import scipy.ndimage as spim\n",
    "import matplotlib.pyplot as plt\n",
    "import skimage\n",
    "ps.visualization.set_mpl_style()"
   ]
  },
  {
   "cell_type": "markdown",
   "id": "formed-drove",
   "metadata": {},
   "source": [
    "## Create image and variables"
   ]
  },
  {
   "cell_type": "code",
   "execution_count": 2,
   "id": "entire-david",
   "metadata": {
    "execution": {
     "iopub.execute_input": "2022-08-23T00:42:13.446015Z",
     "iopub.status.busy": "2022-08-23T00:42:13.445252Z",
     "iopub.status.idle": "2022-08-23T00:42:13.579910Z",
     "shell.execute_reply": "2022-08-23T00:42:13.579289Z"
    }
   },
   "outputs": [
    {
     "data": {
      "image/svg+xml": [
       "<?xml version=\"1.0\" encoding=\"utf-8\" standalone=\"no\"?>\n",
       "<!DOCTYPE svg PUBLIC \"-//W3C//DTD SVG 1.1//EN\"\n",
       "  \"http://www.w3.org/Graphics/SVG/1.1/DTD/svg11.dtd\">\n",
       "<svg xmlns:xlink=\"http://www.w3.org/1999/xlink\" width=\"492.48pt\" height=\"492.48pt\" viewBox=\"0 0 492.48 492.48\" xmlns=\"http://www.w3.org/2000/svg\" version=\"1.1\">\n",
       " <metadata>\n",
       "  <rdf:RDF xmlns:dc=\"http://purl.org/dc/elements/1.1/\" xmlns:cc=\"http://creativecommons.org/ns#\" xmlns:rdf=\"http://www.w3.org/1999/02/22-rdf-syntax-ns#\">\n",
       "   <cc:Work>\n",
       "    <dc:type rdf:resource=\"http://purl.org/dc/dcmitype/StillImage\"/>\n",
       "    <dc:date>2022-08-23T00:42:13.568515</dc:date>\n",
       "    <dc:format>image/svg+xml</dc:format>\n",
       "    <dc:creator>\n",
       "     <cc:Agent>\n",
       "      <dc:title>Matplotlib v3.5.3, https://matplotlib.org/</dc:title>\n",
       "     </cc:Agent>\n",
       "    </dc:creator>\n",
       "   </cc:Work>\n",
       "  </rdf:RDF>\n",
       " </metadata>\n",
       " <defs>\n",
       "  <style type=\"text/css\">*{stroke-linejoin: round; stroke-linecap: butt}</style>\n",
       " </defs>\n",
       " <g id=\"figure_1\">\n",
       "  <g id=\"patch_1\">\n",
       "   <path d=\"M 0 492.48 \n",
       "L 492.48 492.48 \n",
       "L 492.48 0 \n",
       "L 0 0 \n",
       "z\n",
       "\" style=\"fill: #ffffff\"/>\n",
       "  </g>\n",
       "  <g id=\"axes_1\">\n",
       "   <g clip-path=\"url(#pfe7fe66909)\">\n",
       "    <image xlink:href=\"data:image/png;base64,\n",
       "iVBORw0KGgoAAAANSUhEUgAAAGQAAABkCAYAAABw4pVUAAAFiklEQVR4nO1cW7bbIAzEPllalpBl3iVkb+4XPZSA0WP0IL3z1frGSEgghBh8PI/XVQZ4Xz9H+//Z77jo2+2BksPRhSqz1d1Cz/f1c5wrwTvhff0cO+teSikPVEOl+I7uXnb/3FoX7uyiYqi4ZpTdKUhpVxI+tLpodV61sUIr4yNkaad89PtIcHRB6f2PQ1CNWjvFw2lRA+NhJbyPsVwZ2nWAmj1y/26B5/G6qtw04eEOrXElMd3LyIh1hJ1l9UI5BpIahvued7aHxHAfMoO2o5T3n8frQho0U5JAAXmGaNLj9t3ZTEE5wXt2rNYqrj6sGTISeIfZaO8dtGuIoSQO3Bkqcghig2fhCE/H3skarbN3Nmv/RgpZ3I5qDSOJ+9bORaxFlFR+6ZAs9akWHJ2o2R1lRls4pW+TXQq3LJ9b1o1mbVsNOKqdSA7RFNs8HNLK4VSbvSvTnEFwu1OXOiRi7UDKtwD3oO8jy5J2KqMxMqBP8Ve/Vx9Q/WINzmBln4esNnoaRM6yuleILrWIZoil4aTleg2indDCPGRJ2SvcvF86SDI5oxQjh1DKBNTK78ihkqNVi523FHeD9MMh0alrj9WaRa0RZZsJM0DJcFEHSUhjc1kviKpB28Y5eihpNAreevSZGFr+KSmDVyVa5SSKZXFqBaf0QnkuAWRR1yhEZZdEhCUOpCyZ/h1RIxYjG8Ee1MhYwYPBWIpghmQLMxTsVGcLqWVxDCQdAFHMFS3BT0xykMJjtO5MI/qt9jbIEI5FzEUrxTOVM6KgrvYiCoBZjBGJagP1GpKx3BLtYAnTv/4bsoZYhrGZvFLohcUdOFsVsCyLwmtCyeLA664h9fkK0LTXo0DJOWa15lxZXP5hOYRiDMsz914XdJsZ5JvsQzKUKjLoIIHrhZ0W0SO8haUu3LCmvtLGRSZHeIFzumj+xYOKiLSYgmwD5KE5G6YiW6czobf735ClLRtbgVumQfTBizI00tXkSw6oNiMGiFfaPmvzY1FvQ5iUdWgB61GqiRDci013ctSFvazrgxXni8vb4uqluqeOhLSkP4M2WUFcHpK0MXSId2jq5SGrx5JQFDnr1aUTrfE0zs9EoEYBdqXNG1kyMCTeV/cRzCzOkN70RaWsVqkvhQwoJlv3giQc4SwDYATOZU0otxedxlHXFA/Cg9bhHEeg9F5mIFzjassbXuWRVhZFH1RavtrLQRxSBUljv1Qe5XfU9rNQlGAOWcGSZY9wdBZ6kTu3lwNqovAN+48KF4dkyKaqDpJssG/DEuZka05slu68qYYapbLZZpc7+53KNvRCptlbinHI+sZakzUtNfWiTkGGES7F8gjXEt8wOyosBwFsYY1ExCxBHGCNnqc3NgLWpGsJZjptv4ZQsMrsMkUBmIczdWoGis5erEdYyELWvrydSt0MejhF7RBEHOYwQSJnnPaMSCMn9CbSClFO0Z7XaOScO2+sPGGx+I/aO0vxmQG1Q9kX/+gB+l+kvVREO6MUIutEO6r79yntec+kLOskufwuZXNnQlY9W9tCQla2M44RsjqjB4y5ODK8lJI/g5SQd6eL9btcDD+kLFVAey0O7cAdMQxZCKOi+E/RzkjFy7JQRnILC1XzQt0TsSTV3WZZyIsztT3JewgdrJ2BgivrJOvV6x7SrxStfkOJDueqpOFxScWyfQ9oCOL9c/INU7ThPIlqXodOUvmtzLDPxHrOjFmozDYYSiGwTiq+IbR4zUpNAsE+U/b47sfOztdmc+qFPCIlRclFA9EPeAVXYqhvcAiqD/BFfUd6kBbIrYH5ieFK2R02indA6w8vLs7aG7W5uzNKwUcAFXMvGlnCIZLHRd6pZ4XFLWFum8itAmwN2YXmM8LoaxSc95FH2CZn6js6xQISO/wB6ovpIOmn8UoAAAAASUVORK5CYII=\" id=\"image83d5b3d754\" transform=\"matrix(4.79 0 0 -4.79 7.2 485.28)\" style=\"image-rendering:crisp-edges;image-rendering:pixelated\" width=\"100\" height=\"100\"/>\n",
       "   </g>\n",
       "  </g>\n",
       " </g>\n",
       " <defs>\n",
       "  <clipPath id=\"pfe7fe66909\">\n",
       "   <rect x=\"7.2\" y=\"7.2\" width=\"478.08\" height=\"478.08\"/>\n",
       "  </clipPath>\n",
       " </defs>\n",
       "</svg>\n"
      ],
      "text/plain": [
       "<Figure size 700x700 with 1 Axes>"
      ]
     },
     "metadata": {},
     "output_type": "display_data"
    }
   ],
   "source": [
    "im = ps.generators.blobs([100, 100,100])\n",
    "\n",
    "fig, ax = plt.subplots(figsize=[7, 7]);\n",
    "ps.visualization.imshow(im);\n",
    "plt.axis(False);\n",
    "\n",
    "#default values:\n",
    "c=[50,50,50]\n",
    "r=50\n",
    "v=False\n",
    "overwrite=True"
   ]
  },
  {
   "cell_type": "markdown",
   "id": "entire-projection",
   "metadata": {},
   "source": [
    "## Apply tool"
   ]
  },
  {
   "cell_type": "code",
   "execution_count": 3,
   "id": "unlimited-illustration",
   "metadata": {
    "execution": {
     "iopub.execute_input": "2022-08-23T00:42:13.583511Z",
     "iopub.status.busy": "2022-08-23T00:42:13.583019Z",
     "iopub.status.idle": "2022-08-23T00:42:13.696343Z",
     "shell.execute_reply": "2022-08-23T00:42:13.695803Z"
    }
   },
   "outputs": [
    {
     "data": {
      "image/svg+xml": [
       "<?xml version=\"1.0\" encoding=\"utf-8\" standalone=\"no\"?>\n",
       "<!DOCTYPE svg PUBLIC \"-//W3C//DTD SVG 1.1//EN\"\n",
       "  \"http://www.w3.org/Graphics/SVG/1.1/DTD/svg11.dtd\">\n",
       "<svg xmlns:xlink=\"http://www.w3.org/1999/xlink\" width=\"492.48pt\" height=\"492.48pt\" viewBox=\"0 0 492.48 492.48\" xmlns=\"http://www.w3.org/2000/svg\" version=\"1.1\">\n",
       " <metadata>\n",
       "  <rdf:RDF xmlns:dc=\"http://purl.org/dc/elements/1.1/\" xmlns:cc=\"http://creativecommons.org/ns#\" xmlns:rdf=\"http://www.w3.org/1999/02/22-rdf-syntax-ns#\">\n",
       "   <cc:Work>\n",
       "    <dc:type rdf:resource=\"http://purl.org/dc/dcmitype/StillImage\"/>\n",
       "    <dc:date>2022-08-23T00:42:13.689762</dc:date>\n",
       "    <dc:format>image/svg+xml</dc:format>\n",
       "    <dc:creator>\n",
       "     <cc:Agent>\n",
       "      <dc:title>Matplotlib v3.5.3, https://matplotlib.org/</dc:title>\n",
       "     </cc:Agent>\n",
       "    </dc:creator>\n",
       "   </cc:Work>\n",
       "  </rdf:RDF>\n",
       " </metadata>\n",
       " <defs>\n",
       "  <style type=\"text/css\">*{stroke-linejoin: round; stroke-linecap: butt}</style>\n",
       " </defs>\n",
       " <g id=\"figure_1\">\n",
       "  <g id=\"patch_1\">\n",
       "   <path d=\"M 0 492.48 \n",
       "L 492.48 492.48 \n",
       "L 492.48 0 \n",
       "L 0 0 \n",
       "z\n",
       "\" style=\"fill: #ffffff\"/>\n",
       "  </g>\n",
       "  <g id=\"axes_1\">\n",
       "   <g clip-path=\"url(#pfdc12c1bbd)\">\n",
       "    <image xlink:href=\"data:image/png;base64,\n",
       "iVBORw0KGgoAAAANSUhEUgAAAGQAAABkCAYAAABw4pVUAAACsElEQVR4nO2dWXaDMAxFcU6XliVkmSyBvdEvWkIcI3l8Iff+pemRh2dZQhAT7uGxThGWdQ77z+/+z8vR7pFa7Xj6Ym1z3/cW/VzWOfycNaxAzf70FNzDNsaoIDmGpqmfFynY9nqXlRAzWNLpVAfVPC/Gsf/WPpcIs2/jlvqy1Pgnsqxz2MbgGUutcT8JUtudP5lRY7htjdfuwNHmFURqxX67Y5IqUiOOuLOs3KAHNl6CegrVHP5KmD2kdnp8Fc4qHd5F7PKQWIPfTiwhKklmsgRBjFdSFYuzLDZ5YRiD2GHjbKFaFvKpIIjhwyvK8XNSEAJ5HiWeEv3i0wuE6qQWenH5HXy8W+zb31+2LGJGOyxz60p72a7ysS706vdDoAyzhyBUGdb5MwmCGHWwzONp2osY7dnPN1mWGE+CcPNpPH+C4Bka/FgfJYU+ZN+ggjocHSIqCN4xDjxEDEong3HdoIL+NHm2F3y4H3KAfnDHUITNS/AQMf4EIX5ogIeIgSBiIIgalN21wEPEQBAxEAQAAAAAAAAAAD4Gyu9aUFwUA0HEQBAxbtNEHFECDxEDQcRAECHu4bHyK1wR3h7PBGNBEDF44l0EtiwhkofPwFgQZDCmkxxgHAgykNi1H4KIceMKfRyxH9pSfheDLUsMiouDOW5bHK0hAIfPCJM8Jhb6w0HKYkS3LEQZx9sYgihjcL8UDNpC2tsRy1vvnj5w7Hg7rG++402fHfDMHxeGjfEu5qcYsqxzwBvKKZlDs4fcw2NFrHO8c5QM6jlGCfj/5CxYkyC5xmMNfAs1xJimBtch3/geq5pbefMs6+pxp/b4uhQXr5wQ1N4BXoz1nLirbGfWObOMd+gNKkXPadGfZZ2DdfGZalnWRmvYOdrqgaXol2Mjx06VLOvYaOkV/1UytZx+/wLFsXWjYcsPdQAAAABJRU5ErkJggg==\" id=\"image006931561a\" transform=\"matrix(4.79 0 0 -4.79 7.2 485.28)\" style=\"image-rendering:crisp-edges;image-rendering:pixelated\" width=\"100\" height=\"100\"/>\n",
       "   </g>\n",
       "  </g>\n",
       " </g>\n",
       " <defs>\n",
       "  <clipPath id=\"pfdc12c1bbd\">\n",
       "   <rect x=\"7.2\" y=\"7.2\" width=\"478.08\" height=\"478.08\"/>\n",
       "  </clipPath>\n",
       " </defs>\n",
       "</svg>\n"
      ],
      "text/plain": [
       "<Figure size 700x700 with 1 Axes>"
      ]
     },
     "metadata": {},
     "output_type": "display_data"
    }
   ],
   "source": [
    "im = ps.tools.insert_sphere(im=im, c=c, r=r, v=v, overwrite=overwrite)\n",
    "fig, ax = plt.subplots(figsize=[7, 7]);\n",
    "ps.visualization.imshow(im);\n",
    "plt.axis(False);"
   ]
  }
 ],
 "metadata": {
  "kernelspec": {
   "display_name": "Python 3 (ipykernel)",
   "language": "python",
   "name": "python3"
  },
  "language_info": {
   "codemirror_mode": {
    "name": "ipython",
    "version": 3
   },
   "file_extension": ".py",
   "mimetype": "text/x-python",
   "name": "python",
   "nbconvert_exporter": "python",
   "pygments_lexer": "ipython3",
   "version": "3.8.13"
  }
 },
 "nbformat": 4,
 "nbformat_minor": 5
}

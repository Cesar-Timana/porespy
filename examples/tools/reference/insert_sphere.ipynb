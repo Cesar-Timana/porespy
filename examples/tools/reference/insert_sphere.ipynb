{
 "cells": [
  {
   "cell_type": "markdown",
   "id": "confident-salmon",
   "metadata": {},
   "source": [
    "# `insert_sphere`"
   ]
  },
  {
   "cell_type": "markdown",
   "id": "willing-advertiser",
   "metadata": {},
   "source": [
    "## Import packages"
   ]
  },
  {
   "cell_type": "code",
   "execution_count": 1,
   "id": "straight-pitch",
   "metadata": {
    "execution": {
     "iopub.execute_input": "2022-08-12T21:38:07.144489Z",
     "iopub.status.busy": "2022-08-12T21:38:07.143983Z",
     "iopub.status.idle": "2022-08-12T21:38:08.914632Z",
     "shell.execute_reply": "2022-08-12T21:38:08.913894Z"
    }
   },
   "outputs": [],
   "source": [
    "import numpy as np\n",
    "import porespy as ps\n",
    "import scipy.ndimage as spim\n",
    "import matplotlib.pyplot as plt\n",
    "import skimage\n",
    "ps.visualization.set_mpl_style()"
   ]
  },
  {
   "cell_type": "markdown",
   "id": "formed-drove",
   "metadata": {},
   "source": [
    "## Create image and variables"
   ]
  },
  {
   "cell_type": "code",
   "execution_count": 2,
   "id": "entire-david",
   "metadata": {
    "execution": {
     "iopub.execute_input": "2022-08-12T21:38:08.918916Z",
     "iopub.status.busy": "2022-08-12T21:38:08.918316Z",
     "iopub.status.idle": "2022-08-12T21:38:09.052619Z",
     "shell.execute_reply": "2022-08-12T21:38:09.051994Z"
    }
   },
   "outputs": [
    {
     "data": {
      "image/svg+xml": [
       "<?xml version=\"1.0\" encoding=\"utf-8\" standalone=\"no\"?>\n",
       "<!DOCTYPE svg PUBLIC \"-//W3C//DTD SVG 1.1//EN\"\n",
       "  \"http://www.w3.org/Graphics/SVG/1.1/DTD/svg11.dtd\">\n",
       "<svg xmlns:xlink=\"http://www.w3.org/1999/xlink\" width=\"496.8pt\" height=\"496.8pt\" viewBox=\"0 0 496.8 496.8\" xmlns=\"http://www.w3.org/2000/svg\" version=\"1.1\">\n",
       " <metadata>\n",
       "  <rdf:RDF xmlns:dc=\"http://purl.org/dc/elements/1.1/\" xmlns:cc=\"http://creativecommons.org/ns#\" xmlns:rdf=\"http://www.w3.org/1999/02/22-rdf-syntax-ns#\">\n",
       "   <cc:Work>\n",
       "    <dc:type rdf:resource=\"http://purl.org/dc/dcmitype/StillImage\"/>\n",
       "    <dc:date>2022-08-12T21:38:09.041111</dc:date>\n",
       "    <dc:format>image/svg+xml</dc:format>\n",
       "    <dc:creator>\n",
       "     <cc:Agent>\n",
       "      <dc:title>Matplotlib v3.5.3, https://matplotlib.org/</dc:title>\n",
       "     </cc:Agent>\n",
       "    </dc:creator>\n",
       "   </cc:Work>\n",
       "  </rdf:RDF>\n",
       " </metadata>\n",
       " <defs>\n",
       "  <style type=\"text/css\">*{stroke-linejoin: round; stroke-linecap: butt}</style>\n",
       " </defs>\n",
       " <g id=\"figure_1\">\n",
       "  <g id=\"patch_1\">\n",
       "   <path d=\"M 0 496.8 \n",
       "L 496.8 496.8 \n",
       "L 496.8 0 \n",
       "L 0 0 \n",
       "L 0 496.8 \n",
       "z\n",
       "\" style=\"fill: none\"/>\n",
       "  </g>\n",
       "  <g id=\"axes_1\">\n",
       "   <g clip-path=\"url(#pb0b94a5c54)\">\n",
       "    <image xlink:href=\"data:image/png;base64,\n",
       "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\" id=\"image85cb0b720c\" transform=\"matrix(4.83 0 0 -4.83 7.2 489.6)\" style=\"image-rendering:crisp-edges;image-rendering:pixelated\" width=\"100\" height=\"100\"/>\n",
       "   </g>\n",
       "  </g>\n",
       " </g>\n",
       " <defs>\n",
       "  <clipPath id=\"pb0b94a5c54\">\n",
       "   <rect x=\"7.2\" y=\"7.2\" width=\"482.4\" height=\"482.4\"/>\n",
       "  </clipPath>\n",
       " </defs>\n",
       "</svg>\n"
      ],
      "text/plain": [
       "<Figure size 504x504 with 1 Axes>"
      ]
     },
     "metadata": {
      "needs_background": "light"
     },
     "output_type": "display_data"
    }
   ],
   "source": [
    "im = ps.generators.blobs([100, 100,100])\n",
    "\n",
    "fig, ax = plt.subplots(figsize=[7, 7]);\n",
    "ps.visualization.imshow(im);\n",
    "plt.axis(False);\n",
    "\n",
    "#default values:\n",
    "c=[50,50,50]\n",
    "r=50\n",
    "v=False\n",
    "overwrite=True"
   ]
  },
  {
   "cell_type": "markdown",
   "id": "entire-projection",
   "metadata": {},
   "source": [
    "## Apply tool"
   ]
  },
  {
   "cell_type": "code",
   "execution_count": 3,
   "id": "unlimited-illustration",
   "metadata": {
    "execution": {
     "iopub.execute_input": "2022-08-12T21:38:09.056418Z",
     "iopub.status.busy": "2022-08-12T21:38:09.056076Z",
     "iopub.status.idle": "2022-08-12T21:38:09.177448Z",
     "shell.execute_reply": "2022-08-12T21:38:09.176922Z"
    }
   },
   "outputs": [
    {
     "data": {
      "image/svg+xml": [
       "<?xml version=\"1.0\" encoding=\"utf-8\" standalone=\"no\"?>\n",
       "<!DOCTYPE svg PUBLIC \"-//W3C//DTD SVG 1.1//EN\"\n",
       "  \"http://www.w3.org/Graphics/SVG/1.1/DTD/svg11.dtd\">\n",
       "<svg xmlns:xlink=\"http://www.w3.org/1999/xlink\" width=\"496.8pt\" height=\"496.8pt\" viewBox=\"0 0 496.8 496.8\" xmlns=\"http://www.w3.org/2000/svg\" version=\"1.1\">\n",
       " <metadata>\n",
       "  <rdf:RDF xmlns:dc=\"http://purl.org/dc/elements/1.1/\" xmlns:cc=\"http://creativecommons.org/ns#\" xmlns:rdf=\"http://www.w3.org/1999/02/22-rdf-syntax-ns#\">\n",
       "   <cc:Work>\n",
       "    <dc:type rdf:resource=\"http://purl.org/dc/dcmitype/StillImage\"/>\n",
       "    <dc:date>2022-08-12T21:38:09.170881</dc:date>\n",
       "    <dc:format>image/svg+xml</dc:format>\n",
       "    <dc:creator>\n",
       "     <cc:Agent>\n",
       "      <dc:title>Matplotlib v3.5.3, https://matplotlib.org/</dc:title>\n",
       "     </cc:Agent>\n",
       "    </dc:creator>\n",
       "   </cc:Work>\n",
       "  </rdf:RDF>\n",
       " </metadata>\n",
       " <defs>\n",
       "  <style type=\"text/css\">*{stroke-linejoin: round; stroke-linecap: butt}</style>\n",
       " </defs>\n",
       " <g id=\"figure_1\">\n",
       "  <g id=\"patch_1\">\n",
       "   <path d=\"M 0 496.8 \n",
       "L 496.8 496.8 \n",
       "L 496.8 0 \n",
       "L 0 0 \n",
       "L 0 496.8 \n",
       "z\n",
       "\" style=\"fill: none\"/>\n",
       "  </g>\n",
       "  <g id=\"axes_1\">\n",
       "   <g clip-path=\"url(#p5475d9244b)\">\n",
       "    <image xlink:href=\"data:image/png;base64,\n",
       "iVBORw0KGgoAAAANSUhEUgAAAGQAAABkCAYAAABw4pVUAAAC3klEQVR4nO2dW7KDIAyGpdOluQSX2SV0b5yHDmda5BIgYlq/78mZeiO/gRCpcUvE6jYftp/+4Uq/x6T2zx1X2vdsSm2MkbSj5Xy3lgNbTgx93LWMbPmJP4oj2nwv/SgVq/XGLIsnafOR918URIJl4/YQ2pMSZkZbb/Vd8khv8BvHnqd/uPf2jYgRn6uE6zFWy83VorarkrO7WJAeY4ZzI0SZdw2GuqwaLa76jWhGqMFOhwpyBVa3eU1hPp7e3ln4ldEeIz88BKO3o9ktr27zw/MQePH0j2qAlBPu/bjqDrWTwSej44loUEcMOaO2SgqiNUO9KiM22/V7CKBHT/e185BvzDtZpefh7o4MQI50fre6zTclFxGnn9VtXmI/UieTEKffwwZdlw3+PaRkcMSYRzWXhRhzYQwxRlEQvGM+ZHuNEIKqbLYX7zieVGRL6sQYyXkI3jGP2AHU1vaCDrsuC++YS2xv5iHGYNWJAd7tjocYA0GMgSAWIfS1AToYY3Wbp8sCAAAAAAAAAAAAANCHlyK24H2IMRDEGAhiDAQxBoIY47YsRFpWYNWJMVhbDQAA8EMwqhshTD1uzEHOZ/cxfkSxAxPDk4mdAUGMgSAnkhoq+DyTAZL/U9csTAJ1crZOfp4JYc6j+CFl0sHHIfYQyUFwHNUoC1F0qQ0JorAXUXSQ2FE8D0GUMaT2u0sKVcE8sh6SEgqR+mgpb1sMa3MnIhyW01p1ompYSuj101Pfq7keOmLI6K6Uzbigz0j66f+NIcLoMFpD/iPKikVBqDY0bCWq0lZSm/HlhVbwo5o6uaJHabd5+BVuqp74VUQZbWcQc7cMSIOriXJU+1TLd6dE+TVhWtrUkjIJ29lB/ekfrqf00a++gdR6sGo2cNpR0q9VDO2tFdwbvWbT71en1SNiO4YepvW6p6/LslYRrpQQnJFoPV2QZenLih517dJ9tN5Xj5eYXOQw45oWIsDU9f8AMqC/rdlG0k8AAAAASUVORK5CYII=\" id=\"image5a6435453f\" transform=\"matrix(4.83 0 0 -4.83 7.2 489.6)\" style=\"image-rendering:crisp-edges;image-rendering:pixelated\" width=\"100\" height=\"100\"/>\n",
       "   </g>\n",
       "  </g>\n",
       " </g>\n",
       " <defs>\n",
       "  <clipPath id=\"p5475d9244b\">\n",
       "   <rect x=\"7.2\" y=\"7.2\" width=\"482.4\" height=\"482.4\"/>\n",
       "  </clipPath>\n",
       " </defs>\n",
       "</svg>\n"
      ],
      "text/plain": [
       "<Figure size 504x504 with 1 Axes>"
      ]
     },
     "metadata": {
      "needs_background": "light"
     },
     "output_type": "display_data"
    }
   ],
   "source": [
    "im = ps.tools.insert_sphere(im=im, c=c, r=r, v=v, overwrite=overwrite)\n",
    "fig, ax = plt.subplots(figsize=[7, 7]);\n",
    "ps.visualization.imshow(im);\n",
    "plt.axis(False);"
   ]
  }
 ],
 "metadata": {
  "kernelspec": {
   "display_name": "Python 3 (ipykernel)",
   "language": "python",
   "name": "python3"
  },
  "language_info": {
   "codemirror_mode": {
    "name": "ipython",
    "version": 3
   },
   "file_extension": ".py",
   "mimetype": "text/x-python",
   "name": "python",
   "nbconvert_exporter": "python",
   "pygments_lexer": "ipython3",
   "version": "3.8.13"
  }
 },
 "nbformat": 4,
 "nbformat_minor": 5
}

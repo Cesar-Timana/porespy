{
 "cells": [
  {
   "cell_type": "markdown",
   "id": "confident-salmon",
   "metadata": {},
   "source": [
    "# `insert_sphere`"
   ]
  },
  {
   "cell_type": "markdown",
   "id": "willing-advertiser",
   "metadata": {},
   "source": [
    "## Import packages"
   ]
  },
  {
   "cell_type": "code",
   "execution_count": 1,
   "id": "straight-pitch",
   "metadata": {
    "execution": {
     "iopub.execute_input": "2022-08-23T01:16:42.355026Z",
     "iopub.status.busy": "2022-08-23T01:16:42.354631Z",
     "iopub.status.idle": "2022-08-23T01:16:44.097603Z",
     "shell.execute_reply": "2022-08-23T01:16:44.096956Z"
    }
   },
   "outputs": [],
   "source": [
    "import numpy as np\n",
    "import porespy as ps\n",
    "import scipy.ndimage as spim\n",
    "import matplotlib.pyplot as plt\n",
    "import skimage\n",
    "ps.visualization.set_mpl_style()"
   ]
  },
  {
   "cell_type": "markdown",
   "id": "formed-drove",
   "metadata": {},
   "source": [
    "## Create image and variables"
   ]
  },
  {
   "cell_type": "code",
   "execution_count": 2,
   "id": "entire-david",
   "metadata": {
    "execution": {
     "iopub.execute_input": "2022-08-23T01:16:44.101466Z",
     "iopub.status.busy": "2022-08-23T01:16:44.100839Z",
     "iopub.status.idle": "2022-08-23T01:16:44.227172Z",
     "shell.execute_reply": "2022-08-23T01:16:44.226661Z"
    }
   },
   "outputs": [
    {
     "data": {
      "image/svg+xml": [
       "<?xml version=\"1.0\" encoding=\"utf-8\" standalone=\"no\"?>\n",
       "<!DOCTYPE svg PUBLIC \"-//W3C//DTD SVG 1.1//EN\"\n",
       "  \"http://www.w3.org/Graphics/SVG/1.1/DTD/svg11.dtd\">\n",
       "<svg xmlns:xlink=\"http://www.w3.org/1999/xlink\" width=\"492.48pt\" height=\"492.48pt\" viewBox=\"0 0 492.48 492.48\" xmlns=\"http://www.w3.org/2000/svg\" version=\"1.1\">\n",
       " <metadata>\n",
       "  <rdf:RDF xmlns:dc=\"http://purl.org/dc/elements/1.1/\" xmlns:cc=\"http://creativecommons.org/ns#\" xmlns:rdf=\"http://www.w3.org/1999/02/22-rdf-syntax-ns#\">\n",
       "   <cc:Work>\n",
       "    <dc:type rdf:resource=\"http://purl.org/dc/dcmitype/StillImage\"/>\n",
       "    <dc:date>2022-08-23T01:16:44.217896</dc:date>\n",
       "    <dc:format>image/svg+xml</dc:format>\n",
       "    <dc:creator>\n",
       "     <cc:Agent>\n",
       "      <dc:title>Matplotlib v3.5.3, https://matplotlib.org/</dc:title>\n",
       "     </cc:Agent>\n",
       "    </dc:creator>\n",
       "   </cc:Work>\n",
       "  </rdf:RDF>\n",
       " </metadata>\n",
       " <defs>\n",
       "  <style type=\"text/css\">*{stroke-linejoin: round; stroke-linecap: butt}</style>\n",
       " </defs>\n",
       " <g id=\"figure_1\">\n",
       "  <g id=\"patch_1\">\n",
       "   <path d=\"M 0 492.48 \n",
       "L 492.48 492.48 \n",
       "L 492.48 0 \n",
       "L 0 0 \n",
       "z\n",
       "\" style=\"fill: #ffffff\"/>\n",
       "  </g>\n",
       "  <g id=\"axes_1\">\n",
       "   <g clip-path=\"url(#pbb3a480add)\">\n",
       "    <image xlink:href=\"data:image/png;base64,\n",
       "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\" id=\"image4329afcdd3\" transform=\"matrix(4.79 0 0 -4.79 7.2 485.28)\" style=\"image-rendering:crisp-edges;image-rendering:pixelated\" width=\"100\" height=\"100\"/>\n",
       "   </g>\n",
       "  </g>\n",
       " </g>\n",
       " <defs>\n",
       "  <clipPath id=\"pbb3a480add\">\n",
       "   <rect x=\"7.2\" y=\"7.2\" width=\"478.08\" height=\"478.08\"/>\n",
       "  </clipPath>\n",
       " </defs>\n",
       "</svg>\n"
      ],
      "text/plain": [
       "<Figure size 700x700 with 1 Axes>"
      ]
     },
     "metadata": {},
     "output_type": "display_data"
    }
   ],
   "source": [
    "im = ps.generators.blobs([100, 100,100])\n",
    "\n",
    "fig, ax = plt.subplots(figsize=[7, 7]);\n",
    "ps.visualization.imshow(im);\n",
    "plt.axis(False);\n",
    "\n",
    "#default values:\n",
    "c=[50,50,50]\n",
    "r=50\n",
    "v=False\n",
    "overwrite=True"
   ]
  },
  {
   "cell_type": "markdown",
   "id": "entire-projection",
   "metadata": {},
   "source": [
    "## Apply tool"
   ]
  },
  {
   "cell_type": "code",
   "execution_count": 3,
   "id": "unlimited-illustration",
   "metadata": {
    "execution": {
     "iopub.execute_input": "2022-08-23T01:16:44.230194Z",
     "iopub.status.busy": "2022-08-23T01:16:44.229783Z",
     "iopub.status.idle": "2022-08-23T01:16:44.338860Z",
     "shell.execute_reply": "2022-08-23T01:16:44.338359Z"
    }
   },
   "outputs": [
    {
     "data": {
      "image/svg+xml": [
       "<?xml version=\"1.0\" encoding=\"utf-8\" standalone=\"no\"?>\n",
       "<!DOCTYPE svg PUBLIC \"-//W3C//DTD SVG 1.1//EN\"\n",
       "  \"http://www.w3.org/Graphics/SVG/1.1/DTD/svg11.dtd\">\n",
       "<svg xmlns:xlink=\"http://www.w3.org/1999/xlink\" width=\"492.48pt\" height=\"492.48pt\" viewBox=\"0 0 492.48 492.48\" xmlns=\"http://www.w3.org/2000/svg\" version=\"1.1\">\n",
       " <metadata>\n",
       "  <rdf:RDF xmlns:dc=\"http://purl.org/dc/elements/1.1/\" xmlns:cc=\"http://creativecommons.org/ns#\" xmlns:rdf=\"http://www.w3.org/1999/02/22-rdf-syntax-ns#\">\n",
       "   <cc:Work>\n",
       "    <dc:type rdf:resource=\"http://purl.org/dc/dcmitype/StillImage\"/>\n",
       "    <dc:date>2022-08-23T01:16:44.333556</dc:date>\n",
       "    <dc:format>image/svg+xml</dc:format>\n",
       "    <dc:creator>\n",
       "     <cc:Agent>\n",
       "      <dc:title>Matplotlib v3.5.3, https://matplotlib.org/</dc:title>\n",
       "     </cc:Agent>\n",
       "    </dc:creator>\n",
       "   </cc:Work>\n",
       "  </rdf:RDF>\n",
       " </metadata>\n",
       " <defs>\n",
       "  <style type=\"text/css\">*{stroke-linejoin: round; stroke-linecap: butt}</style>\n",
       " </defs>\n",
       " <g id=\"figure_1\">\n",
       "  <g id=\"patch_1\">\n",
       "   <path d=\"M 0 492.48 \n",
       "L 492.48 492.48 \n",
       "L 492.48 0 \n",
       "L 0 0 \n",
       "z\n",
       "\" style=\"fill: #ffffff\"/>\n",
       "  </g>\n",
       "  <g id=\"axes_1\">\n",
       "   <g clip-path=\"url(#p64e7157716)\">\n",
       "    <image xlink:href=\"data:image/png;base64,\n",
       "iVBORw0KGgoAAAANSUhEUgAAAGQAAABkCAYAAABw4pVUAAACuElEQVR4nO2dUZKDIAyG0enRPEKP2SP0bu7L0qUKGAhgXL9vZl92KkJ+k0BwZFqm5+oC3utrcgdsrym5PnethFT7knYlYytps7Q9SduP2gZjSDr4Xl9TqSjSdkvatEqVIL0HfwXj9upjUw+p5QoChPTs73BBwnCFEHvm7T9y8V2bkD3v9TVdQQxpH5fpufo/7T2LE6znCgYdQcx+mpnmXPu0tvKWK5OygcY2n5B1lTBihV4P5C6HgAxJWEqJlrsWQRTUVjWyOUTbqbsjCfWhAEehDkEaoQlhIV+N1CQqJgJ7NAm/eh3iQZA0NbZVhSzEyFNiH5+LqmtZiNGGrR2rPAQx2hCz404Q7zopoyNGGaV2zHrI9iLEqKPEjg/pD0GH1LZfxcUWDYKSo7kyZXYA5+K1FrxjPNnSCXljPFR7jZEUBO84BzzEGFFB8I7zwEOMES0untER+IW1BgAAAAAAAAAAAABAcyi/24IdQ2MgiDEQxBgIYgwEMQaCAAAAAADASJbpubIOMcbsHCV4S8yIYYtPyEKYc/H2J4cYQ/zxGRgDHmKM2Tm842zC/M201xgmjjy6O2GEIocYg3WIMZLfyyLRn0MyZOEx50AOMUZWELxkPHiIMXaJu+ZcPmiH+ChsROnHrnSyJWZ88skYsl8lxSv6s33QD5N6KApe0h/RLAtR+tHkyCNE6Ud1+X2Znis5Jk3tTFW1MMRT4miO9Va/l4Uo32hPSxVv4ebcDVH+KDmoOEazDSpE+eNoDZez1W6DqoUn3CnZ5yY3Tc7C9UcfaZ74u3hLj3Ee7of4m97FyFK8PVpHA9E6pFSM/xyyQlv0GGez97Iks4srCzUqQjQRRGroXm7ek9GhWr2FKzXu1cr52omNc3UP3vA9deuitBAipHS8D01p3bpxpViaQZp92br3bCZ2Hwv8ACK7iX3QYvJ1AAAAAElFTkSuQmCC\" id=\"imagec5c4c4a3d8\" transform=\"matrix(4.79 0 0 -4.79 7.2 485.28)\" style=\"image-rendering:crisp-edges;image-rendering:pixelated\" width=\"100\" height=\"100\"/>\n",
       "   </g>\n",
       "  </g>\n",
       " </g>\n",
       " <defs>\n",
       "  <clipPath id=\"p64e7157716\">\n",
       "   <rect x=\"7.2\" y=\"7.2\" width=\"478.08\" height=\"478.08\"/>\n",
       "  </clipPath>\n",
       " </defs>\n",
       "</svg>\n"
      ],
      "text/plain": [
       "<Figure size 700x700 with 1 Axes>"
      ]
     },
     "metadata": {},
     "output_type": "display_data"
    }
   ],
   "source": [
    "im = ps.tools.insert_sphere(im=im, c=c, r=r, v=v, overwrite=overwrite)\n",
    "fig, ax = plt.subplots(figsize=[7, 7]);\n",
    "ps.visualization.imshow(im);\n",
    "plt.axis(False);"
   ]
  }
 ],
 "metadata": {
  "kernelspec": {
   "display_name": "Python 3 (ipykernel)",
   "language": "python",
   "name": "python3"
  },
  "language_info": {
   "codemirror_mode": {
    "name": "ipython",
    "version": 3
   },
   "file_extension": ".py",
   "mimetype": "text/x-python",
   "name": "python",
   "nbconvert_exporter": "python",
   "pygments_lexer": "ipython3",
   "version": "3.8.13"
  }
 },
 "nbformat": 4,
 "nbformat_minor": 5
}

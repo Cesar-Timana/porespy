{
 "cells": [
  {
   "cell_type": "markdown",
   "id": "confident-salmon",
   "metadata": {},
   "source": [
    "# `insert_sphere`"
   ]
  },
  {
   "cell_type": "markdown",
   "id": "willing-advertiser",
   "metadata": {},
   "source": [
    "## Import packages"
   ]
  },
  {
   "cell_type": "code",
   "execution_count": 1,
   "id": "straight-pitch",
   "metadata": {
    "execution": {
     "iopub.execute_input": "2022-08-23T00:50:22.791138Z",
     "iopub.status.busy": "2022-08-23T00:50:22.790543Z",
     "iopub.status.idle": "2022-08-23T00:50:24.531273Z",
     "shell.execute_reply": "2022-08-23T00:50:24.530626Z"
    }
   },
   "outputs": [],
   "source": [
    "import numpy as np\n",
    "import porespy as ps\n",
    "import scipy.ndimage as spim\n",
    "import matplotlib.pyplot as plt\n",
    "import skimage\n",
    "ps.visualization.set_mpl_style()"
   ]
  },
  {
   "cell_type": "markdown",
   "id": "formed-drove",
   "metadata": {},
   "source": [
    "## Create image and variables"
   ]
  },
  {
   "cell_type": "code",
   "execution_count": 2,
   "id": "entire-david",
   "metadata": {
    "execution": {
     "iopub.execute_input": "2022-08-23T00:50:24.535382Z",
     "iopub.status.busy": "2022-08-23T00:50:24.534635Z",
     "iopub.status.idle": "2022-08-23T00:50:24.665099Z",
     "shell.execute_reply": "2022-08-23T00:50:24.664443Z"
    }
   },
   "outputs": [
    {
     "data": {
      "image/svg+xml": [
       "<?xml version=\"1.0\" encoding=\"utf-8\" standalone=\"no\"?>\n",
       "<!DOCTYPE svg PUBLIC \"-//W3C//DTD SVG 1.1//EN\"\n",
       "  \"http://www.w3.org/Graphics/SVG/1.1/DTD/svg11.dtd\">\n",
       "<svg xmlns:xlink=\"http://www.w3.org/1999/xlink\" width=\"492.48pt\" height=\"492.48pt\" viewBox=\"0 0 492.48 492.48\" xmlns=\"http://www.w3.org/2000/svg\" version=\"1.1\">\n",
       " <metadata>\n",
       "  <rdf:RDF xmlns:dc=\"http://purl.org/dc/elements/1.1/\" xmlns:cc=\"http://creativecommons.org/ns#\" xmlns:rdf=\"http://www.w3.org/1999/02/22-rdf-syntax-ns#\">\n",
       "   <cc:Work>\n",
       "    <dc:type rdf:resource=\"http://purl.org/dc/dcmitype/StillImage\"/>\n",
       "    <dc:date>2022-08-23T00:50:24.654111</dc:date>\n",
       "    <dc:format>image/svg+xml</dc:format>\n",
       "    <dc:creator>\n",
       "     <cc:Agent>\n",
       "      <dc:title>Matplotlib v3.5.3, https://matplotlib.org/</dc:title>\n",
       "     </cc:Agent>\n",
       "    </dc:creator>\n",
       "   </cc:Work>\n",
       "  </rdf:RDF>\n",
       " </metadata>\n",
       " <defs>\n",
       "  <style type=\"text/css\">*{stroke-linejoin: round; stroke-linecap: butt}</style>\n",
       " </defs>\n",
       " <g id=\"figure_1\">\n",
       "  <g id=\"patch_1\">\n",
       "   <path d=\"M 0 492.48 \n",
       "L 492.48 492.48 \n",
       "L 492.48 0 \n",
       "L 0 0 \n",
       "z\n",
       "\" style=\"fill: #ffffff\"/>\n",
       "  </g>\n",
       "  <g id=\"axes_1\">\n",
       "   <g clip-path=\"url(#pd98831020d)\">\n",
       "    <image xlink:href=\"data:image/png;base64,\n",
       "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\" id=\"image24d6a17fff\" transform=\"matrix(4.79 0 0 -4.79 7.2 485.28)\" style=\"image-rendering:crisp-edges;image-rendering:pixelated\" width=\"100\" height=\"100\"/>\n",
       "   </g>\n",
       "  </g>\n",
       " </g>\n",
       " <defs>\n",
       "  <clipPath id=\"pd98831020d\">\n",
       "   <rect x=\"7.2\" y=\"7.2\" width=\"478.08\" height=\"478.08\"/>\n",
       "  </clipPath>\n",
       " </defs>\n",
       "</svg>\n"
      ],
      "text/plain": [
       "<Figure size 700x700 with 1 Axes>"
      ]
     },
     "metadata": {},
     "output_type": "display_data"
    }
   ],
   "source": [
    "im = ps.generators.blobs([100, 100,100])\n",
    "\n",
    "fig, ax = plt.subplots(figsize=[7, 7]);\n",
    "ps.visualization.imshow(im);\n",
    "plt.axis(False);\n",
    "\n",
    "#default values:\n",
    "c=[50,50,50]\n",
    "r=50\n",
    "v=False\n",
    "overwrite=True"
   ]
  },
  {
   "cell_type": "markdown",
   "id": "entire-projection",
   "metadata": {},
   "source": [
    "## Apply tool"
   ]
  },
  {
   "cell_type": "code",
   "execution_count": 3,
   "id": "unlimited-illustration",
   "metadata": {
    "execution": {
     "iopub.execute_input": "2022-08-23T00:50:24.668696Z",
     "iopub.status.busy": "2022-08-23T00:50:24.668294Z",
     "iopub.status.idle": "2022-08-23T00:50:24.778395Z",
     "shell.execute_reply": "2022-08-23T00:50:24.777876Z"
    }
   },
   "outputs": [
    {
     "data": {
      "image/svg+xml": [
       "<?xml version=\"1.0\" encoding=\"utf-8\" standalone=\"no\"?>\n",
       "<!DOCTYPE svg PUBLIC \"-//W3C//DTD SVG 1.1//EN\"\n",
       "  \"http://www.w3.org/Graphics/SVG/1.1/DTD/svg11.dtd\">\n",
       "<svg xmlns:xlink=\"http://www.w3.org/1999/xlink\" width=\"492.48pt\" height=\"492.48pt\" viewBox=\"0 0 492.48 492.48\" xmlns=\"http://www.w3.org/2000/svg\" version=\"1.1\">\n",
       " <metadata>\n",
       "  <rdf:RDF xmlns:dc=\"http://purl.org/dc/elements/1.1/\" xmlns:cc=\"http://creativecommons.org/ns#\" xmlns:rdf=\"http://www.w3.org/1999/02/22-rdf-syntax-ns#\">\n",
       "   <cc:Work>\n",
       "    <dc:type rdf:resource=\"http://purl.org/dc/dcmitype/StillImage\"/>\n",
       "    <dc:date>2022-08-23T00:50:24.771907</dc:date>\n",
       "    <dc:format>image/svg+xml</dc:format>\n",
       "    <dc:creator>\n",
       "     <cc:Agent>\n",
       "      <dc:title>Matplotlib v3.5.3, https://matplotlib.org/</dc:title>\n",
       "     </cc:Agent>\n",
       "    </dc:creator>\n",
       "   </cc:Work>\n",
       "  </rdf:RDF>\n",
       " </metadata>\n",
       " <defs>\n",
       "  <style type=\"text/css\">*{stroke-linejoin: round; stroke-linecap: butt}</style>\n",
       " </defs>\n",
       " <g id=\"figure_1\">\n",
       "  <g id=\"patch_1\">\n",
       "   <path d=\"M 0 492.48 \n",
       "L 492.48 492.48 \n",
       "L 492.48 0 \n",
       "L 0 0 \n",
       "z\n",
       "\" style=\"fill: #ffffff\"/>\n",
       "  </g>\n",
       "  <g id=\"axes_1\">\n",
       "   <g clip-path=\"url(#p0226b556be)\">\n",
       "    <image xlink:href=\"data:image/png;base64,\n",
       "iVBORw0KGgoAAAANSUhEUgAAAGQAAABkCAYAAABw4pVUAAACuElEQVR4nO3dXXaCMBCGYcNxaS7BZbIE9kavYiPkZ2YMYdD3uSvHIsxnQhopCY/wXG8ZyzqH3Pac0j5KSvtO96N5/5Fa55o7bmmNH+G5TtKdag8CNm+BLOscPBTXwzHkSHoCaW+RO8dlnUP3E5cckNeCS2i755JSDQ4tTO3grxpKj0Bq19BhRbnCBVvqiFDiPi9dGC8sAaWBpL8/9eoTf5mlxce6b+s/xY0EM16u5lPrBRjrvt0QQ7n6hfdqYr2DZSoAeZphfmnUmZ06kb4JZEp/lede2wwEcprCpx/0t2Gv5I0YhcnVuqbatqh5DZG+Md5p6qq6hsDG+oE1BULrkLHUSR0IYeho66UKhDBsNHXjGuJAOgAQj7JoHZ+T1FrUQgijD0kdm4EQRl+tenINcaYaCK3jGLW6FgMhjPGWdQ50WSdRTb/TOsaLNaeFnCj3wd8FQus4Fy3kZNsGsLv7fezhYIsW4gDfGDpGIM4QiBOvqXlu8fGj+E+fOA+BOEMgjizrHLiZ2hlaiDME4gyBOEMgzhCIMwTiDIE4QyDOEIgzBOIMgThDIM4QCAAAAL4cX6cDAPBFQulxpTgHk4vO8KhxZ2ghzkyS58xinOl242LuyavLKq34grF4cMBV0EoAALgW0ajqEZ4rI7DPSQZKzeV4UoRiJx21vpbNY5jrg3rJI1qJnqbG6tleWpKOZvUJ84OUCUXGshSI+fsQQqmT1Ce2inTbbi1cKa4lZZ8sZ5u9yUGzpivKLDeQ7EZZtVAI43jFLisNhiDGYckjZ7jr5GTbp8Ie9hUuw2KZ6sP4e4lh8ExgmTQU8fR7a0eS3+F61KYqaE6pyEzh22S7LE03o+2SfqULs3bXu0AsOyGUf9sgtOdqnsv6FbGgvbva0rRKt0B6/0V/1D8SlaaKWq+VnJ+0NWxfl/78B71nhKDRAMVAAAAAAElFTkSuQmCC\" id=\"imageca9f183bae\" transform=\"matrix(4.79 0 0 -4.79 7.2 485.28)\" style=\"image-rendering:crisp-edges;image-rendering:pixelated\" width=\"100\" height=\"100\"/>\n",
       "   </g>\n",
       "  </g>\n",
       " </g>\n",
       " <defs>\n",
       "  <clipPath id=\"p0226b556be\">\n",
       "   <rect x=\"7.2\" y=\"7.2\" width=\"478.08\" height=\"478.08\"/>\n",
       "  </clipPath>\n",
       " </defs>\n",
       "</svg>\n"
      ],
      "text/plain": [
       "<Figure size 700x700 with 1 Axes>"
      ]
     },
     "metadata": {},
     "output_type": "display_data"
    }
   ],
   "source": [
    "im = ps.tools.insert_sphere(im=im, c=c, r=r, v=v, overwrite=overwrite)\n",
    "fig, ax = plt.subplots(figsize=[7, 7]);\n",
    "ps.visualization.imshow(im);\n",
    "plt.axis(False);"
   ]
  }
 ],
 "metadata": {
  "kernelspec": {
   "display_name": "Python 3 (ipykernel)",
   "language": "python",
   "name": "python3"
  },
  "language_info": {
   "codemirror_mode": {
    "name": "ipython",
    "version": 3
   },
   "file_extension": ".py",
   "mimetype": "text/x-python",
   "name": "python",
   "nbconvert_exporter": "python",
   "pygments_lexer": "ipython3",
   "version": "3.8.13"
  }
 },
 "nbformat": 4,
 "nbformat_minor": 5
}

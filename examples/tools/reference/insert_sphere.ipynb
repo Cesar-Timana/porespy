{
 "cells": [
  {
   "cell_type": "markdown",
   "id": "confident-salmon",
   "metadata": {},
   "source": [
    "# `insert_sphere`"
   ]
  },
  {
   "cell_type": "markdown",
   "id": "willing-advertiser",
   "metadata": {},
   "source": [
    "## Import packages"
   ]
  },
  {
   "cell_type": "code",
   "execution_count": 1,
   "id": "straight-pitch",
   "metadata": {
    "execution": {
     "iopub.execute_input": "2022-09-08T00:04:06.526642Z",
     "iopub.status.busy": "2022-09-08T00:04:06.526430Z",
     "iopub.status.idle": "2022-09-08T00:04:08.204987Z",
     "shell.execute_reply": "2022-09-08T00:04:08.204290Z"
    }
   },
   "outputs": [],
   "source": [
    "import numpy as np\n",
    "import porespy as ps\n",
    "import scipy.ndimage as spim\n",
    "import matplotlib.pyplot as plt\n",
    "import skimage\n",
    "ps.visualization.set_mpl_style()"
   ]
  },
  {
   "cell_type": "markdown",
   "id": "formed-drove",
   "metadata": {},
   "source": [
    "## Create image and variables"
   ]
  },
  {
   "cell_type": "code",
   "execution_count": 2,
   "id": "entire-david",
   "metadata": {
    "execution": {
     "iopub.execute_input": "2022-09-08T00:04:08.209287Z",
     "iopub.status.busy": "2022-09-08T00:04:08.208413Z",
     "iopub.status.idle": "2022-09-08T00:04:08.333808Z",
     "shell.execute_reply": "2022-09-08T00:04:08.333303Z"
    }
   },
   "outputs": [
    {
     "data": {
      "image/svg+xml": [
       "<?xml version=\"1.0\" encoding=\"utf-8\" standalone=\"no\"?>\n",
       "<!DOCTYPE svg PUBLIC \"-//W3C//DTD SVG 1.1//EN\"\n",
       "  \"http://www.w3.org/Graphics/SVG/1.1/DTD/svg11.dtd\">\n",
       "<svg xmlns:xlink=\"http://www.w3.org/1999/xlink\" width=\"492.48pt\" height=\"492.48pt\" viewBox=\"0 0 492.48 492.48\" xmlns=\"http://www.w3.org/2000/svg\" version=\"1.1\">\n",
       " <metadata>\n",
       "  <rdf:RDF xmlns:dc=\"http://purl.org/dc/elements/1.1/\" xmlns:cc=\"http://creativecommons.org/ns#\" xmlns:rdf=\"http://www.w3.org/1999/02/22-rdf-syntax-ns#\">\n",
       "   <cc:Work>\n",
       "    <dc:type rdf:resource=\"http://purl.org/dc/dcmitype/StillImage\"/>\n",
       "    <dc:date>2022-09-08T00:04:08.324715</dc:date>\n",
       "    <dc:format>image/svg+xml</dc:format>\n",
       "    <dc:creator>\n",
       "     <cc:Agent>\n",
       "      <dc:title>Matplotlib v3.5.3, https://matplotlib.org/</dc:title>\n",
       "     </cc:Agent>\n",
       "    </dc:creator>\n",
       "   </cc:Work>\n",
       "  </rdf:RDF>\n",
       " </metadata>\n",
       " <defs>\n",
       "  <style type=\"text/css\">*{stroke-linejoin: round; stroke-linecap: butt}</style>\n",
       " </defs>\n",
       " <g id=\"figure_1\">\n",
       "  <g id=\"patch_1\">\n",
       "   <path d=\"M 0 492.48 \n",
       "L 492.48 492.48 \n",
       "L 492.48 0 \n",
       "L 0 0 \n",
       "z\n",
       "\" style=\"fill: #ffffff\"/>\n",
       "  </g>\n",
       "  <g id=\"axes_1\">\n",
       "   <g clip-path=\"url(#p97dd6acfef)\">\n",
       "    <image xlink:href=\"data:image/png;base64,\n",
       "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\" id=\"imagec1a2307721\" transform=\"matrix(4.79 0 0 -4.79 7.2 485.28)\" style=\"image-rendering:crisp-edges;image-rendering:pixelated\" width=\"100\" height=\"100\"/>\n",
       "   </g>\n",
       "  </g>\n",
       " </g>\n",
       " <defs>\n",
       "  <clipPath id=\"p97dd6acfef\">\n",
       "   <rect x=\"7.2\" y=\"7.2\" width=\"478.08\" height=\"478.08\"/>\n",
       "  </clipPath>\n",
       " </defs>\n",
       "</svg>\n"
      ],
      "text/plain": [
       "<Figure size 700x700 with 1 Axes>"
      ]
     },
     "metadata": {},
     "output_type": "display_data"
    }
   ],
   "source": [
    "im = ps.generators.blobs([100, 100,100])\n",
    "\n",
    "fig, ax = plt.subplots(figsize=[7, 7]);\n",
    "ps.visualization.imshow(im);\n",
    "plt.axis(False);\n",
    "\n",
    "#default values:\n",
    "c=[50,50,50]\n",
    "r=50\n",
    "v=False\n",
    "overwrite=True"
   ]
  },
  {
   "cell_type": "markdown",
   "id": "entire-projection",
   "metadata": {},
   "source": [
    "## Apply tool"
   ]
  },
  {
   "cell_type": "code",
   "execution_count": 3,
   "id": "unlimited-illustration",
   "metadata": {
    "execution": {
     "iopub.execute_input": "2022-09-08T00:04:08.337935Z",
     "iopub.status.busy": "2022-09-08T00:04:08.336909Z",
     "iopub.status.idle": "2022-09-08T00:04:08.446355Z",
     "shell.execute_reply": "2022-09-08T00:04:08.445819Z"
    }
   },
   "outputs": [
    {
     "data": {
      "image/svg+xml": [
       "<?xml version=\"1.0\" encoding=\"utf-8\" standalone=\"no\"?>\n",
       "<!DOCTYPE svg PUBLIC \"-//W3C//DTD SVG 1.1//EN\"\n",
       "  \"http://www.w3.org/Graphics/SVG/1.1/DTD/svg11.dtd\">\n",
       "<svg xmlns:xlink=\"http://www.w3.org/1999/xlink\" width=\"492.48pt\" height=\"492.48pt\" viewBox=\"0 0 492.48 492.48\" xmlns=\"http://www.w3.org/2000/svg\" version=\"1.1\">\n",
       " <metadata>\n",
       "  <rdf:RDF xmlns:dc=\"http://purl.org/dc/elements/1.1/\" xmlns:cc=\"http://creativecommons.org/ns#\" xmlns:rdf=\"http://www.w3.org/1999/02/22-rdf-syntax-ns#\">\n",
       "   <cc:Work>\n",
       "    <dc:type rdf:resource=\"http://purl.org/dc/dcmitype/StillImage\"/>\n",
       "    <dc:date>2022-09-08T00:04:08.439974</dc:date>\n",
       "    <dc:format>image/svg+xml</dc:format>\n",
       "    <dc:creator>\n",
       "     <cc:Agent>\n",
       "      <dc:title>Matplotlib v3.5.3, https://matplotlib.org/</dc:title>\n",
       "     </cc:Agent>\n",
       "    </dc:creator>\n",
       "   </cc:Work>\n",
       "  </rdf:RDF>\n",
       " </metadata>\n",
       " <defs>\n",
       "  <style type=\"text/css\">*{stroke-linejoin: round; stroke-linecap: butt}</style>\n",
       " </defs>\n",
       " <g id=\"figure_1\">\n",
       "  <g id=\"patch_1\">\n",
       "   <path d=\"M 0 492.48 \n",
       "L 492.48 492.48 \n",
       "L 492.48 0 \n",
       "L 0 0 \n",
       "z\n",
       "\" style=\"fill: #ffffff\"/>\n",
       "  </g>\n",
       "  <g id=\"axes_1\">\n",
       "   <g clip-path=\"url(#pa55959a006)\">\n",
       "    <image xlink:href=\"data:image/png;base64,\n",
       "iVBORw0KGgoAAAANSUhEUgAAAGQAAABkCAYAAABw4pVUAAACr0lEQVR4nO2dW3LDIAwASyZHyxFyTB/Bd3M/Ou44mJdAEGHv/rUZ26CNxCNpcT8JXu69pV6vYd0WV3vv/VoJx+fUXC+5f+45JX1+ajSqNy2B7CGhJ8OFlLxLZgtiLaFqkRSybotrLVvH4MbuNYuAvf2t7fWvP4pRzRBpQ2cT4f8saX/JNeu2ONd70JM2yhrSCpEa0HP9PmVIz4CVNMgiLbPCGh69HzBjVoRYt8X1nO3tceouZHYRPq1icnQXclVCUjREVc+yUjX1alkRQ2NZ4HMSUhLM2dcTmmgM+sdrxSULGWG0+n8SkjKNjP4EM0SSfsjQJTsopWokMuL48VJbh7zce0OGHD8+pVWnah2CjDJCUnLjsFgIMmRI4nXa7dW4KYQpHVPYOjFGVgjZoUNpHMmQgcQ+zt4H+5d7bwgZjC/FH1uSQihX44kKQUY/UrENCkHG9zgJQcYYWIdMwocQsmMsoXiTIcZAyJfxs+RDyKhv50EcxhADHONOyTIGQoyBEGukPueF8ZAhxkCIMRBiDcYPW5AhxkCIMRBiDIQYAyEAAABXgZW6LZhlGQMhxkCIMRACAAAAAAAAfJ3UEg9E2IKtE2MgxBj8jSEAAAAAAMANSK33WKkbAyGD2bMjliUIGUjJqarRU9o4M0SXpvND2GT8HqKShag6JHET/yNlpMiIxSv2e9GYMPKo7ytQeuDaEVHJih23AGdq49M07UVKmJa4NK9DkPJJazxUPlNHyh8aJ6T+C8kt6TUbc0W0+p88elp6WuUdZ16ab8R1W5zqrOluQnpUBfVp7F2ktMZLvLkIYXpXEoQUMmrS8hw5O9qfNVNZ045Pru9fyZAZxNSKiPXpuKwwW7IsimnJCI1+JI/vrt1MDDVMYxXbk16zptgzmmdZuVRMPVja2dKzx6/ILxmYp9uGilfrAAAAAElFTkSuQmCC\" id=\"image0d49af9212\" transform=\"matrix(4.79 0 0 -4.79 7.2 485.28)\" style=\"image-rendering:crisp-edges;image-rendering:pixelated\" width=\"100\" height=\"100\"/>\n",
       "   </g>\n",
       "  </g>\n",
       " </g>\n",
       " <defs>\n",
       "  <clipPath id=\"pa55959a006\">\n",
       "   <rect x=\"7.2\" y=\"7.2\" width=\"478.08\" height=\"478.08\"/>\n",
       "  </clipPath>\n",
       " </defs>\n",
       "</svg>\n"
      ],
      "text/plain": [
       "<Figure size 700x700 with 1 Axes>"
      ]
     },
     "metadata": {},
     "output_type": "display_data"
    }
   ],
   "source": [
    "im = ps.tools.insert_sphere(im=im, c=c, r=r, v=v, overwrite=overwrite)\n",
    "fig, ax = plt.subplots(figsize=[7, 7]);\n",
    "ps.visualization.imshow(im);\n",
    "plt.axis(False);"
   ]
  }
 ],
 "metadata": {
  "kernelspec": {
   "display_name": "Python 3 (ipykernel)",
   "language": "python",
   "name": "python3"
  },
  "language_info": {
   "codemirror_mode": {
    "name": "ipython",
    "version": 3
   },
   "file_extension": ".py",
   "mimetype": "text/x-python",
   "name": "python",
   "nbconvert_exporter": "python",
   "pygments_lexer": "ipython3",
   "version": "3.8.13"
  }
 },
 "nbformat": 4,
 "nbformat_minor": 5
}

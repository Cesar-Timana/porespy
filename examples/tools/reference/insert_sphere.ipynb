{
 "cells": [
  {
   "cell_type": "markdown",
   "id": "confident-salmon",
   "metadata": {},
   "source": [
    "# `insert_sphere`"
   ]
  },
  {
   "cell_type": "markdown",
   "id": "willing-advertiser",
   "metadata": {},
   "source": [
    "## Import packages"
   ]
  },
  {
   "cell_type": "code",
   "execution_count": 1,
   "id": "straight-pitch",
   "metadata": {
    "execution": {
     "iopub.execute_input": "2022-08-23T01:47:34.294201Z",
     "iopub.status.busy": "2022-08-23T01:47:34.293966Z",
     "iopub.status.idle": "2022-08-23T01:47:36.048420Z",
     "shell.execute_reply": "2022-08-23T01:47:36.047728Z"
    }
   },
   "outputs": [],
   "source": [
    "import numpy as np\n",
    "import porespy as ps\n",
    "import scipy.ndimage as spim\n",
    "import matplotlib.pyplot as plt\n",
    "import skimage\n",
    "ps.visualization.set_mpl_style()"
   ]
  },
  {
   "cell_type": "markdown",
   "id": "formed-drove",
   "metadata": {},
   "source": [
    "## Create image and variables"
   ]
  },
  {
   "cell_type": "code",
   "execution_count": 2,
   "id": "entire-david",
   "metadata": {
    "execution": {
     "iopub.execute_input": "2022-08-23T01:47:36.051901Z",
     "iopub.status.busy": "2022-08-23T01:47:36.051414Z",
     "iopub.status.idle": "2022-08-23T01:47:36.179035Z",
     "shell.execute_reply": "2022-08-23T01:47:36.178542Z"
    }
   },
   "outputs": [
    {
     "data": {
      "image/svg+xml": [
       "<?xml version=\"1.0\" encoding=\"utf-8\" standalone=\"no\"?>\n",
       "<!DOCTYPE svg PUBLIC \"-//W3C//DTD SVG 1.1//EN\"\n",
       "  \"http://www.w3.org/Graphics/SVG/1.1/DTD/svg11.dtd\">\n",
       "<svg xmlns:xlink=\"http://www.w3.org/1999/xlink\" width=\"492.48pt\" height=\"492.48pt\" viewBox=\"0 0 492.48 492.48\" xmlns=\"http://www.w3.org/2000/svg\" version=\"1.1\">\n",
       " <metadata>\n",
       "  <rdf:RDF xmlns:dc=\"http://purl.org/dc/elements/1.1/\" xmlns:cc=\"http://creativecommons.org/ns#\" xmlns:rdf=\"http://www.w3.org/1999/02/22-rdf-syntax-ns#\">\n",
       "   <cc:Work>\n",
       "    <dc:type rdf:resource=\"http://purl.org/dc/dcmitype/StillImage\"/>\n",
       "    <dc:date>2022-08-23T01:47:36.169740</dc:date>\n",
       "    <dc:format>image/svg+xml</dc:format>\n",
       "    <dc:creator>\n",
       "     <cc:Agent>\n",
       "      <dc:title>Matplotlib v3.5.3, https://matplotlib.org/</dc:title>\n",
       "     </cc:Agent>\n",
       "    </dc:creator>\n",
       "   </cc:Work>\n",
       "  </rdf:RDF>\n",
       " </metadata>\n",
       " <defs>\n",
       "  <style type=\"text/css\">*{stroke-linejoin: round; stroke-linecap: butt}</style>\n",
       " </defs>\n",
       " <g id=\"figure_1\">\n",
       "  <g id=\"patch_1\">\n",
       "   <path d=\"M 0 492.48 \n",
       "L 492.48 492.48 \n",
       "L 492.48 0 \n",
       "L 0 0 \n",
       "z\n",
       "\" style=\"fill: #ffffff\"/>\n",
       "  </g>\n",
       "  <g id=\"axes_1\">\n",
       "   <g clip-path=\"url(#p53330ef900)\">\n",
       "    <image xlink:href=\"data:image/png;base64,\n",
       "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\" id=\"image770dee676a\" transform=\"matrix(4.79 0 0 -4.79 7.2 485.28)\" style=\"image-rendering:crisp-edges;image-rendering:pixelated\" width=\"100\" height=\"100\"/>\n",
       "   </g>\n",
       "  </g>\n",
       " </g>\n",
       " <defs>\n",
       "  <clipPath id=\"p53330ef900\">\n",
       "   <rect x=\"7.2\" y=\"7.2\" width=\"478.08\" height=\"478.08\"/>\n",
       "  </clipPath>\n",
       " </defs>\n",
       "</svg>\n"
      ],
      "text/plain": [
       "<Figure size 700x700 with 1 Axes>"
      ]
     },
     "metadata": {},
     "output_type": "display_data"
    }
   ],
   "source": [
    "im = ps.generators.blobs([100, 100,100])\n",
    "\n",
    "fig, ax = plt.subplots(figsize=[7, 7]);\n",
    "ps.visualization.imshow(im);\n",
    "plt.axis(False);\n",
    "\n",
    "#default values:\n",
    "c=[50,50,50]\n",
    "r=50\n",
    "v=False\n",
    "overwrite=True"
   ]
  },
  {
   "cell_type": "markdown",
   "id": "entire-projection",
   "metadata": {},
   "source": [
    "## Apply tool"
   ]
  },
  {
   "cell_type": "code",
   "execution_count": 3,
   "id": "unlimited-illustration",
   "metadata": {
    "execution": {
     "iopub.execute_input": "2022-08-23T01:47:36.181981Z",
     "iopub.status.busy": "2022-08-23T01:47:36.181608Z",
     "iopub.status.idle": "2022-08-23T01:47:36.286835Z",
     "shell.execute_reply": "2022-08-23T01:47:36.286331Z"
    }
   },
   "outputs": [
    {
     "data": {
      "image/svg+xml": [
       "<?xml version=\"1.0\" encoding=\"utf-8\" standalone=\"no\"?>\n",
       "<!DOCTYPE svg PUBLIC \"-//W3C//DTD SVG 1.1//EN\"\n",
       "  \"http://www.w3.org/Graphics/SVG/1.1/DTD/svg11.dtd\">\n",
       "<svg xmlns:xlink=\"http://www.w3.org/1999/xlink\" width=\"492.48pt\" height=\"492.48pt\" viewBox=\"0 0 492.48 492.48\" xmlns=\"http://www.w3.org/2000/svg\" version=\"1.1\">\n",
       " <metadata>\n",
       "  <rdf:RDF xmlns:dc=\"http://purl.org/dc/elements/1.1/\" xmlns:cc=\"http://creativecommons.org/ns#\" xmlns:rdf=\"http://www.w3.org/1999/02/22-rdf-syntax-ns#\">\n",
       "   <cc:Work>\n",
       "    <dc:type rdf:resource=\"http://purl.org/dc/dcmitype/StillImage\"/>\n",
       "    <dc:date>2022-08-23T01:47:36.281556</dc:date>\n",
       "    <dc:format>image/svg+xml</dc:format>\n",
       "    <dc:creator>\n",
       "     <cc:Agent>\n",
       "      <dc:title>Matplotlib v3.5.3, https://matplotlib.org/</dc:title>\n",
       "     </cc:Agent>\n",
       "    </dc:creator>\n",
       "   </cc:Work>\n",
       "  </rdf:RDF>\n",
       " </metadata>\n",
       " <defs>\n",
       "  <style type=\"text/css\">*{stroke-linejoin: round; stroke-linecap: butt}</style>\n",
       " </defs>\n",
       " <g id=\"figure_1\">\n",
       "  <g id=\"patch_1\">\n",
       "   <path d=\"M 0 492.48 \n",
       "L 492.48 492.48 \n",
       "L 492.48 0 \n",
       "L 0 0 \n",
       "z\n",
       "\" style=\"fill: #ffffff\"/>\n",
       "  </g>\n",
       "  <g id=\"axes_1\">\n",
       "   <g clip-path=\"url(#p2ef7f7a29e)\">\n",
       "    <image xlink:href=\"data:image/png;base64,\n",
       "iVBORw0KGgoAAAANSUhEUgAAAGQAAABkCAYAAABw4pVUAAACyklEQVR4nO2dW3KDMAxF7U6XliVkmVlC9kY/OnRcxxhJfiDgnL9OeMS6liU5FMVHfC4h4b28YsjIj9FSumaJR3wu0mOl16t9rrmXxgYtY/i2njiKnqL0mlyzxAghE6Tn7NRes9ULpWjHOFOMEBJBRoih4ej7l5g1SVLMa6hkOfBoZClWMVrHPMRg62DOLMiKVhiXglyRWbEEQZRIhbGK8mU56c68l1ccuRQjiJE9UaxJgUmQR3wuR6SE3hjhKV2KpCtkU62UbGOxS7e9HETR12Elm3aJIYjxS2qHmk1qS75oc7HmHYjxn/fyii3FpMhDtoyOGGX2vKN27rd1/wkx+pDb0RRDEMOGZCn7EIRsqj+auk3kIVfavT0CTUwpZllU4XNJf7YWxxC8ow2p/ZrSXtAhWbp2BUGMvuzVdGy/O0BcqeMdY6jZFQ85GHGljneMZcu+eIgzioLgHXMo2RkPccaHIHiHI9jDAgAAOB9/8ZvHQv3wiM+FOsQZCOIMBPEG8cMXeAgAAMBVIMvyBVmWMxDEGQgCAABwFahDfEGW5QwEcQaCOANBnPEVAoHdCzwG5Iz38ooI4gwEccafIMQRH7jrH3JXPl6twb+y+YAY4gwEcUAavxHEGWRZB5PbXf0STBgLLw5wBjHEGQhyMHnHHip1JxAqAACghqk7Aoyha3cEgEvRvX8I2NHuDSLIQFIxurarKN2IXeE6FjFCMAiS3ghRyrTYRaQcjcLktPbEVTdAXC9u7X94ZTTNm7eWtOKSJXG5/CZ3X75q48+X+fzY9O/irJb2vu3VsvrM9J6ITd0R7mb8GVCHNNJ7UjYLgpfIkdiqy0+4khul3SzvyDr2rSx1xZxlSUmzijNmYpJdib2JVvp865wPD+kthuRLeOSoyfPPQ0aKcTZmTJ5pPai0YqzLgrdNS40oey1Vpagftp5hsJECWa43sy77AVWcnj7mn3V/AAAAAElFTkSuQmCC\" id=\"imageb778eb24eb\" transform=\"matrix(4.79 0 0 -4.79 7.2 485.28)\" style=\"image-rendering:crisp-edges;image-rendering:pixelated\" width=\"100\" height=\"100\"/>\n",
       "   </g>\n",
       "  </g>\n",
       " </g>\n",
       " <defs>\n",
       "  <clipPath id=\"p2ef7f7a29e\">\n",
       "   <rect x=\"7.2\" y=\"7.2\" width=\"478.08\" height=\"478.08\"/>\n",
       "  </clipPath>\n",
       " </defs>\n",
       "</svg>\n"
      ],
      "text/plain": [
       "<Figure size 700x700 with 1 Axes>"
      ]
     },
     "metadata": {},
     "output_type": "display_data"
    }
   ],
   "source": [
    "im = ps.tools.insert_sphere(im=im, c=c, r=r, v=v, overwrite=overwrite)\n",
    "fig, ax = plt.subplots(figsize=[7, 7]);\n",
    "ps.visualization.imshow(im);\n",
    "plt.axis(False);"
   ]
  }
 ],
 "metadata": {
  "kernelspec": {
   "display_name": "Python 3 (ipykernel)",
   "language": "python",
   "name": "python3"
  },
  "language_info": {
   "codemirror_mode": {
    "name": "ipython",
    "version": 3
   },
   "file_extension": ".py",
   "mimetype": "text/x-python",
   "name": "python",
   "nbconvert_exporter": "python",
   "pygments_lexer": "ipython3",
   "version": "3.8.13"
  }
 },
 "nbformat": 4,
 "nbformat_minor": 5
}

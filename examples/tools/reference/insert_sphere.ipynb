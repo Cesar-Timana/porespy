{
 "cells": [
  {
   "cell_type": "markdown",
   "id": "confident-salmon",
   "metadata": {},
   "source": [
    "# `insert_sphere`"
   ]
  },
  {
   "cell_type": "markdown",
   "id": "willing-advertiser",
   "metadata": {},
   "source": [
    "## Import packages"
   ]
  },
  {
   "cell_type": "code",
   "execution_count": 1,
   "id": "straight-pitch",
   "metadata": {
    "execution": {
     "iopub.execute_input": "2022-08-12T21:54:36.527517Z",
     "iopub.status.busy": "2022-08-12T21:54:36.527230Z",
     "iopub.status.idle": "2022-08-12T21:54:38.404544Z",
     "shell.execute_reply": "2022-08-12T21:54:38.403761Z"
    }
   },
   "outputs": [],
   "source": [
    "import numpy as np\n",
    "import porespy as ps\n",
    "import scipy.ndimage as spim\n",
    "import matplotlib.pyplot as plt\n",
    "import skimage\n",
    "ps.visualization.set_mpl_style()"
   ]
  },
  {
   "cell_type": "markdown",
   "id": "formed-drove",
   "metadata": {},
   "source": [
    "## Create image and variables"
   ]
  },
  {
   "cell_type": "code",
   "execution_count": 2,
   "id": "entire-david",
   "metadata": {
    "execution": {
     "iopub.execute_input": "2022-08-12T21:54:38.408666Z",
     "iopub.status.busy": "2022-08-12T21:54:38.408009Z",
     "iopub.status.idle": "2022-08-12T21:54:38.544083Z",
     "shell.execute_reply": "2022-08-12T21:54:38.543551Z"
    }
   },
   "outputs": [
    {
     "data": {
      "image/svg+xml": [
       "<?xml version=\"1.0\" encoding=\"utf-8\" standalone=\"no\"?>\n",
       "<!DOCTYPE svg PUBLIC \"-//W3C//DTD SVG 1.1//EN\"\n",
       "  \"http://www.w3.org/Graphics/SVG/1.1/DTD/svg11.dtd\">\n",
       "<svg xmlns:xlink=\"http://www.w3.org/1999/xlink\" width=\"496.8pt\" height=\"496.8pt\" viewBox=\"0 0 496.8 496.8\" xmlns=\"http://www.w3.org/2000/svg\" version=\"1.1\">\n",
       " <metadata>\n",
       "  <rdf:RDF xmlns:dc=\"http://purl.org/dc/elements/1.1/\" xmlns:cc=\"http://creativecommons.org/ns#\" xmlns:rdf=\"http://www.w3.org/1999/02/22-rdf-syntax-ns#\">\n",
       "   <cc:Work>\n",
       "    <dc:type rdf:resource=\"http://purl.org/dc/dcmitype/StillImage\"/>\n",
       "    <dc:date>2022-08-12T21:54:38.534551</dc:date>\n",
       "    <dc:format>image/svg+xml</dc:format>\n",
       "    <dc:creator>\n",
       "     <cc:Agent>\n",
       "      <dc:title>Matplotlib v3.5.3, https://matplotlib.org/</dc:title>\n",
       "     </cc:Agent>\n",
       "    </dc:creator>\n",
       "   </cc:Work>\n",
       "  </rdf:RDF>\n",
       " </metadata>\n",
       " <defs>\n",
       "  <style type=\"text/css\">*{stroke-linejoin: round; stroke-linecap: butt}</style>\n",
       " </defs>\n",
       " <g id=\"figure_1\">\n",
       "  <g id=\"patch_1\">\n",
       "   <path d=\"M 0 496.8 \n",
       "L 496.8 496.8 \n",
       "L 496.8 0 \n",
       "L 0 0 \n",
       "L 0 496.8 \n",
       "z\n",
       "\" style=\"fill: none\"/>\n",
       "  </g>\n",
       "  <g id=\"axes_1\">\n",
       "   <g clip-path=\"url(#pfccec21a28)\">\n",
       "    <image xlink:href=\"data:image/png;base64,\n",
       "iVBORw0KGgoAAAANSUhEUgAAAGQAAABkCAYAAABw4pVUAAAFmklEQVR4nOVdWW7cMAy1BznaHGGOmSPkbu6XA1cjUlweF08eUKBJLYkmRYqb3P25v47tgp/je98GPPfXcf5e8vw4dvzdasxs3WjM6OTA0bWaixv70C6uZZCHoVnC6ASRQEb8HN/7+Uf6/OzvXaDVjhU872gSiAUaAWbCKgyrWVrx4ItbqCMDUUBrhQQSfrIa8txfRzbh55qR66Lm1swj3dxvGqKBx4OSzHf+jNRUtKBnnqBnDbNAqEWtTKwwIRJQ7v4VEtqlLrzpUEcyT2KeOggr6zwlNSSSAGQQFo0Is8nhq+JlLdF9NTJoeu6vwxwYoomh5v9k1/uKU+AuLysSEZ4VFZxWa+R1fXOk3n3nauKZTu/SVkM8yNjxUZpm1pBqNa+ENU81w8jHtOTip2DFdE+dZNsCBVKlQd01d0Xff2fIJ2d6vTt3NYcFs3W/uJwURwAyoRaNbpuL4y3rZWlq2j/H954VzWqel9C/oj1ToI9uu6cKUs8JUavheP77D9QiGoFpOlK03SscjRSibT41v0bbxmfDAkMtsdlZ1a5oF4dQJsFiJjp1k8zGz+h7UP9wHVRtKjzoIhTpOLNnZCXM2hiAYKz0nEL2BXDrkhqCWliC6B3GQartGd021PyuM4Sy9VEvgzKFUvq85trSHOgO5jizEtWQHGm+pC6rxW2XrBEeXVsZm1F3R9c0ELFUSrpj23TEaq4rRNAUdT6Wpt9HSEupmS5zZkJUulZqYChpiNMcpCjPCzXvKgshQZtInerrrVi7EukCQaVF7gSNxpV0nVRcB+gGU4GqEhqPpWPz2wjX/ZBPKM9q3gHdJQm7Y9jlHmAEDR3eSwJIuI9EFOO0GhIdsVNodcspQhjWnBl3RkWaP3frIwoVwvCsi+hBmEHtZUW0+6CYcpdzggO0MubByixEeX631xCOGA+kFz+zGvKq0CaXJUV3YXjpu51AkMho1NAKiGy23jabf2716SUX9DNhcRhmz4TU1DXM0lbhKvNQSEcBpW2iQx1RMJoJtYubWhWVz9A225uBLubxitIS7uznjkzKRJqGIOrNHeFNt4/4024vCshNlSKQu2tBJMYaFLS7/Fxg/F12hljiYkfQhDBdvxoSVS2sSNdbgzgvEE5JSENzRtRtadv0NnB7Gy8kCO0wl8JqStCN3N6UOkIg5V7WSDiqrd8yzpuLOp+FdZ1kQ9rCwyG6EzL7fuU0MES3+VddD6uCJ1h80xDqMPR4YZZxXRKP22arf1g3ydJkzWy81+XsgKiauAfPffgqaXYXRzdT44X1SsU1fin3sjoKBRkkr4JFU4FqNUn181FAN2Gfc3Lv9xgHSCfWEiJ55i/UQ1bvt/zWCXpB9DgPOm6AZZPDne6KeJD9lQgK7WvqWXfWuWAu0/ss97IoVFwektb4I68jtBRIZWR/CkHaa4xGO4F4GNshSxDe25vpkiIYWvlpDgR/2rT2RwRhnvWr+NLifnd1Lb/TPfc3k9XBDmcCUSRDot2hPkPVbq0QCvt/4W4b/iNfIxAf/YpY9/pc5oYg/7uKkxhqYAahlvkjg7YMkNledLOZJvK2uthcFfAu8Q25y7VEWJKUGu/G0oOFZmSG6Zoe6tbUhcZj0bqan3qdYcQDncTLUu+VWYugQzunhYbwL++gTZ8EkZvC2gMsfa9bxCGdYO1Rkz4PFwi665F6pjKJyNER0kqKhKWtchbjrBwD9F2/c05q7Si0LeFmHKAUNJ0yaLx9WsPzYp/ggkr4sXLPPTwkc1nI1EiEOUGjy2ZiD/WOTJTWvLVzzn5fUdtffrc3O9tJgev+kKRVKs8kzfxvAuG8mQ6C0QK9yz08kNDy9iHl1YSRQZEVGbGPZB3Ee7onsKYSZuM9OzNb6KPVQK1femhT1+ekz67GoIAKDSTCa5fL6njVLBP/AJX6EqVTJmYQAAAAAElFTkSuQmCC\" id=\"imagefc71d6894a\" transform=\"matrix(4.83 0 0 -4.83 7.2 489.6)\" style=\"image-rendering:crisp-edges;image-rendering:pixelated\" width=\"100\" height=\"100\"/>\n",
       "   </g>\n",
       "  </g>\n",
       " </g>\n",
       " <defs>\n",
       "  <clipPath id=\"pfccec21a28\">\n",
       "   <rect x=\"7.2\" y=\"7.2\" width=\"482.4\" height=\"482.4\"/>\n",
       "  </clipPath>\n",
       " </defs>\n",
       "</svg>\n"
      ],
      "text/plain": [
       "<Figure size 504x504 with 1 Axes>"
      ]
     },
     "metadata": {
      "needs_background": "light"
     },
     "output_type": "display_data"
    }
   ],
   "source": [
    "im = ps.generators.blobs([100, 100,100])\n",
    "\n",
    "fig, ax = plt.subplots(figsize=[7, 7]);\n",
    "ps.visualization.imshow(im);\n",
    "plt.axis(False);\n",
    "\n",
    "#default values:\n",
    "c=[50,50,50]\n",
    "r=50\n",
    "v=False\n",
    "overwrite=True"
   ]
  },
  {
   "cell_type": "markdown",
   "id": "entire-projection",
   "metadata": {},
   "source": [
    "## Apply tool"
   ]
  },
  {
   "cell_type": "code",
   "execution_count": 3,
   "id": "unlimited-illustration",
   "metadata": {
    "execution": {
     "iopub.execute_input": "2022-08-12T21:54:38.547310Z",
     "iopub.status.busy": "2022-08-12T21:54:38.546904Z",
     "iopub.status.idle": "2022-08-12T21:54:38.667277Z",
     "shell.execute_reply": "2022-08-12T21:54:38.666737Z"
    }
   },
   "outputs": [
    {
     "data": {
      "image/svg+xml": [
       "<?xml version=\"1.0\" encoding=\"utf-8\" standalone=\"no\"?>\n",
       "<!DOCTYPE svg PUBLIC \"-//W3C//DTD SVG 1.1//EN\"\n",
       "  \"http://www.w3.org/Graphics/SVG/1.1/DTD/svg11.dtd\">\n",
       "<svg xmlns:xlink=\"http://www.w3.org/1999/xlink\" width=\"496.8pt\" height=\"496.8pt\" viewBox=\"0 0 496.8 496.8\" xmlns=\"http://www.w3.org/2000/svg\" version=\"1.1\">\n",
       " <metadata>\n",
       "  <rdf:RDF xmlns:dc=\"http://purl.org/dc/elements/1.1/\" xmlns:cc=\"http://creativecommons.org/ns#\" xmlns:rdf=\"http://www.w3.org/1999/02/22-rdf-syntax-ns#\">\n",
       "   <cc:Work>\n",
       "    <dc:type rdf:resource=\"http://purl.org/dc/dcmitype/StillImage\"/>\n",
       "    <dc:date>2022-08-12T21:54:38.661726</dc:date>\n",
       "    <dc:format>image/svg+xml</dc:format>\n",
       "    <dc:creator>\n",
       "     <cc:Agent>\n",
       "      <dc:title>Matplotlib v3.5.3, https://matplotlib.org/</dc:title>\n",
       "     </cc:Agent>\n",
       "    </dc:creator>\n",
       "   </cc:Work>\n",
       "  </rdf:RDF>\n",
       " </metadata>\n",
       " <defs>\n",
       "  <style type=\"text/css\">*{stroke-linejoin: round; stroke-linecap: butt}</style>\n",
       " </defs>\n",
       " <g id=\"figure_1\">\n",
       "  <g id=\"patch_1\">\n",
       "   <path d=\"M 0 496.8 \n",
       "L 496.8 496.8 \n",
       "L 496.8 0 \n",
       "L 0 0 \n",
       "L 0 496.8 \n",
       "z\n",
       "\" style=\"fill: none\"/>\n",
       "  </g>\n",
       "  <g id=\"axes_1\">\n",
       "   <g clip-path=\"url(#p25872c282f)\">\n",
       "    <image xlink:href=\"data:image/png;base64,\n",
       "iVBORw0KGgoAAAANSUhEUgAAAGQAAABkCAYAAABw4pVUAAAC2UlEQVR4nO2dW46DMAxFCerSuoQus0vo3pgvRpQ8nTjBJedII00pT19sJxTZ7ule23Lgs73dcuLpXtu+vGT987bnZbltQsftTeg8U6TOK7ev1Lar9OBSA7UYdJQYligS5Mxne7v9r3T90P9WkHpHjpZrdNIQdHck4vQI14/UTmYUJ5YrNfedIhmynu619TixX6AkJGt6047nIRJaRlC/Qs5jQiPBlpvYyyGpk5Ic9G7C7LQYuzlkxZg1jC1LWShrIRqy7nqHa/HZ3kXRRUqV0WcNVyG0h8nVhpshoUuozcXn7atyiPRgM9By/UcxqwWx/jjkCjTs0OwhiPFNqz2qBRn5aPzXkNjlnHtUQhb41Eyml0UxqYNPjShfguwPE2eeiWsj/WUxOdskLOkR+t0pZPvs43ftE4M0K14whtJ52/8XMW9AsL6oDXuhDwhyIdGkTriyw8pIyhbRkIV3XAM5xBhBQfCOMYTsjIcYwxME7xjL2d54iDG+BME7ruFodzzEGAhijKa330GPPWyt5wVwLYQsYyAIAAAAAADA7PDWiS2YqRsDQYyBIMZAEGMgiDEQxBgIAgAAAAAAAGCFp3ttzNSNoF6VFHRAEGP8C0Iluevw6vYihB28WieIMxbqZRknKAheMgZxEUwYT1QQvKQvMfviIcagbu8FpOz60Gz5Bu1kyzMhkC6iYvy1O4EySuyYbadAyQ0dSm9qr13F8TNijOfrae/xC8TQQxLyH+SHvkjtS5nYjtTc7GvvZruzUtvFDiEGUTXKgnZaO00giCIazTYRRAmt0aq6ILMNo7Xf1vF66Wm1oZ5h5CbNFyXCeXV7941ijQ9LuXvz4l6RIBmyWg1615fvenZHDVa2PjdBbDXq3b2lhpg9PEFCK+7L7ni3S2mxQclN6WoTseTE7uIduWvWuM7mHZQIk2th/QuCxUajx0GQxnEuNURITIviaE0NSsQzN1OfPU/9ARBRrXkUGNKAAAAAAElFTkSuQmCC\" id=\"image7a00a95382\" transform=\"matrix(4.83 0 0 -4.83 7.2 489.6)\" style=\"image-rendering:crisp-edges;image-rendering:pixelated\" width=\"100\" height=\"100\"/>\n",
       "   </g>\n",
       "  </g>\n",
       " </g>\n",
       " <defs>\n",
       "  <clipPath id=\"p25872c282f\">\n",
       "   <rect x=\"7.2\" y=\"7.2\" width=\"482.4\" height=\"482.4\"/>\n",
       "  </clipPath>\n",
       " </defs>\n",
       "</svg>\n"
      ],
      "text/plain": [
       "<Figure size 504x504 with 1 Axes>"
      ]
     },
     "metadata": {
      "needs_background": "light"
     },
     "output_type": "display_data"
    }
   ],
   "source": [
    "im = ps.tools.insert_sphere(im=im, c=c, r=r, v=v, overwrite=overwrite)\n",
    "fig, ax = plt.subplots(figsize=[7, 7]);\n",
    "ps.visualization.imshow(im);\n",
    "plt.axis(False);"
   ]
  }
 ],
 "metadata": {
  "kernelspec": {
   "display_name": "Python 3 (ipykernel)",
   "language": "python",
   "name": "python3"
  },
  "language_info": {
   "codemirror_mode": {
    "name": "ipython",
    "version": 3
   },
   "file_extension": ".py",
   "mimetype": "text/x-python",
   "name": "python",
   "nbconvert_exporter": "python",
   "pygments_lexer": "ipython3",
   "version": "3.8.13"
  }
 },
 "nbformat": 4,
 "nbformat_minor": 5
}

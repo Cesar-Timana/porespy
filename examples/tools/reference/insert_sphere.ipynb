{
 "cells": [
  {
   "cell_type": "markdown",
   "id": "confident-salmon",
   "metadata": {},
   "source": [
    "# `insert_sphere`"
   ]
  },
  {
   "cell_type": "markdown",
   "id": "willing-advertiser",
   "metadata": {},
   "source": [
    "## Import packages"
   ]
  },
  {
   "cell_type": "code",
   "execution_count": 1,
   "id": "straight-pitch",
   "metadata": {
    "execution": {
     "iopub.execute_input": "2022-09-09T11:06:24.409995Z",
     "iopub.status.busy": "2022-09-09T11:06:24.409754Z",
     "iopub.status.idle": "2022-09-09T11:06:26.088494Z",
     "shell.execute_reply": "2022-09-09T11:06:26.087758Z"
    }
   },
   "outputs": [],
   "source": [
    "import numpy as np\n",
    "import porespy as ps\n",
    "import scipy.ndimage as spim\n",
    "import matplotlib.pyplot as plt\n",
    "import skimage\n",
    "ps.visualization.set_mpl_style()"
   ]
  },
  {
   "cell_type": "markdown",
   "id": "formed-drove",
   "metadata": {},
   "source": [
    "## Create image and variables"
   ]
  },
  {
   "cell_type": "code",
   "execution_count": 2,
   "id": "entire-david",
   "metadata": {
    "execution": {
     "iopub.execute_input": "2022-09-09T11:06:26.092679Z",
     "iopub.status.busy": "2022-09-09T11:06:26.091982Z",
     "iopub.status.idle": "2022-09-09T11:06:26.217335Z",
     "shell.execute_reply": "2022-09-09T11:06:26.216661Z"
    }
   },
   "outputs": [
    {
     "data": {
      "image/svg+xml": [
       "<?xml version=\"1.0\" encoding=\"utf-8\" standalone=\"no\"?>\n",
       "<!DOCTYPE svg PUBLIC \"-//W3C//DTD SVG 1.1//EN\"\n",
       "  \"http://www.w3.org/Graphics/SVG/1.1/DTD/svg11.dtd\">\n",
       "<svg xmlns:xlink=\"http://www.w3.org/1999/xlink\" width=\"492.48pt\" height=\"492.48pt\" viewBox=\"0 0 492.48 492.48\" xmlns=\"http://www.w3.org/2000/svg\" version=\"1.1\">\n",
       " <metadata>\n",
       "  <rdf:RDF xmlns:dc=\"http://purl.org/dc/elements/1.1/\" xmlns:cc=\"http://creativecommons.org/ns#\" xmlns:rdf=\"http://www.w3.org/1999/02/22-rdf-syntax-ns#\">\n",
       "   <cc:Work>\n",
       "    <dc:type rdf:resource=\"http://purl.org/dc/dcmitype/StillImage\"/>\n",
       "    <dc:date>2022-09-09T11:06:26.208071</dc:date>\n",
       "    <dc:format>image/svg+xml</dc:format>\n",
       "    <dc:creator>\n",
       "     <cc:Agent>\n",
       "      <dc:title>Matplotlib v3.5.3, https://matplotlib.org/</dc:title>\n",
       "     </cc:Agent>\n",
       "    </dc:creator>\n",
       "   </cc:Work>\n",
       "  </rdf:RDF>\n",
       " </metadata>\n",
       " <defs>\n",
       "  <style type=\"text/css\">*{stroke-linejoin: round; stroke-linecap: butt}</style>\n",
       " </defs>\n",
       " <g id=\"figure_1\">\n",
       "  <g id=\"patch_1\">\n",
       "   <path d=\"M 0 492.48 \n",
       "L 492.48 492.48 \n",
       "L 492.48 0 \n",
       "L 0 0 \n",
       "z\n",
       "\" style=\"fill: #ffffff\"/>\n",
       "  </g>\n",
       "  <g id=\"axes_1\">\n",
       "   <g clip-path=\"url(#pf9aadebaf8)\">\n",
       "    <image xlink:href=\"data:image/png;base64,\n",
       "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\" id=\"image757cda1488\" transform=\"matrix(4.79 0 0 -4.79 7.2 485.28)\" style=\"image-rendering:crisp-edges;image-rendering:pixelated\" width=\"100\" height=\"100\"/>\n",
       "   </g>\n",
       "  </g>\n",
       " </g>\n",
       " <defs>\n",
       "  <clipPath id=\"pf9aadebaf8\">\n",
       "   <rect x=\"7.2\" y=\"7.2\" width=\"478.08\" height=\"478.08\"/>\n",
       "  </clipPath>\n",
       " </defs>\n",
       "</svg>\n"
      ],
      "text/plain": [
       "<Figure size 700x700 with 1 Axes>"
      ]
     },
     "metadata": {},
     "output_type": "display_data"
    }
   ],
   "source": [
    "im = ps.generators.blobs([100, 100,100])\n",
    "\n",
    "fig, ax = plt.subplots(figsize=[7, 7]);\n",
    "ps.visualization.imshow(im);\n",
    "plt.axis(False);\n",
    "\n",
    "#default values:\n",
    "c=[50,50,50]\n",
    "r=50\n",
    "v=False\n",
    "overwrite=True"
   ]
  },
  {
   "cell_type": "markdown",
   "id": "entire-projection",
   "metadata": {},
   "source": [
    "## Apply tool"
   ]
  },
  {
   "cell_type": "code",
   "execution_count": 3,
   "id": "unlimited-illustration",
   "metadata": {
    "execution": {
     "iopub.execute_input": "2022-09-09T11:06:26.221616Z",
     "iopub.status.busy": "2022-09-09T11:06:26.220567Z",
     "iopub.status.idle": "2022-09-09T11:06:26.330505Z",
     "shell.execute_reply": "2022-09-09T11:06:26.329981Z"
    }
   },
   "outputs": [
    {
     "data": {
      "image/svg+xml": [
       "<?xml version=\"1.0\" encoding=\"utf-8\" standalone=\"no\"?>\n",
       "<!DOCTYPE svg PUBLIC \"-//W3C//DTD SVG 1.1//EN\"\n",
       "  \"http://www.w3.org/Graphics/SVG/1.1/DTD/svg11.dtd\">\n",
       "<svg xmlns:xlink=\"http://www.w3.org/1999/xlink\" width=\"492.48pt\" height=\"492.48pt\" viewBox=\"0 0 492.48 492.48\" xmlns=\"http://www.w3.org/2000/svg\" version=\"1.1\">\n",
       " <metadata>\n",
       "  <rdf:RDF xmlns:dc=\"http://purl.org/dc/elements/1.1/\" xmlns:cc=\"http://creativecommons.org/ns#\" xmlns:rdf=\"http://www.w3.org/1999/02/22-rdf-syntax-ns#\">\n",
       "   <cc:Work>\n",
       "    <dc:type rdf:resource=\"http://purl.org/dc/dcmitype/StillImage\"/>\n",
       "    <dc:date>2022-09-09T11:06:26.323899</dc:date>\n",
       "    <dc:format>image/svg+xml</dc:format>\n",
       "    <dc:creator>\n",
       "     <cc:Agent>\n",
       "      <dc:title>Matplotlib v3.5.3, https://matplotlib.org/</dc:title>\n",
       "     </cc:Agent>\n",
       "    </dc:creator>\n",
       "   </cc:Work>\n",
       "  </rdf:RDF>\n",
       " </metadata>\n",
       " <defs>\n",
       "  <style type=\"text/css\">*{stroke-linejoin: round; stroke-linecap: butt}</style>\n",
       " </defs>\n",
       " <g id=\"figure_1\">\n",
       "  <g id=\"patch_1\">\n",
       "   <path d=\"M 0 492.48 \n",
       "L 492.48 492.48 \n",
       "L 492.48 0 \n",
       "L 0 0 \n",
       "z\n",
       "\" style=\"fill: #ffffff\"/>\n",
       "  </g>\n",
       "  <g id=\"axes_1\">\n",
       "   <g clip-path=\"url(#pe0786fb8ca)\">\n",
       "    <image xlink:href=\"data:image/png;base64,\n",
       "iVBORw0KGgoAAAANSUhEUgAAAGQAAABkCAYAAABw4pVUAAACwElEQVR4nO2dW5KDIBAAIeXRPILHzBFyN/djyxQxvGfQiXb/7WYhMu0APha8c87NflldJ6/16XvLapE6/tpjk7S/5XtqmKQHYwELJ4UWD0nhqwRC0o5S2dkva8tJLxJyJV7r02ufYKGIWjG+t8u6SnakqI1LKg6tcd3qSQoJv0gyaG5lf1VgKbCxdknG5WiXpTE72afor04eRnRlOSZpBTWB/tXsCNnaELZ3RLu+hGh+yRVE7ImJ0ax7Cn/QrlyzPmuMitc0InBXl5FDmjmq1yFHD4DWkMjYyqoJubMILWa/rCpCkPGPRhzEQpDxifS+2KPU7+U+R0ac1riEY+/Dub7BCBl5auOz/7t3lxWTIn3wc3dKcYp93jyGIKONVLxSv08KiWUHMvpoiVtUyK/emb0C1Q9XyA45VU8MawojQ4/SRKk4qCNDl1g8w98lhSACbkXqLRReAwLYIEN+AM/01hZkiDHeQsgOAAAAAAAAAAAAAAC4Krw2agueGBoDIcZAiDEQYgyEGAMhxkCIMRBiDIQYAyHGQIgxEGKM7rVOQB+19bJAD4QYAyHGyC7PBMehvggmyHmtT48QYyDEGB9CGEfOYYv77Jf1Y6lxhJwP/wp9MvskEO8fAjq8e6rYMkF0XccQi/0Ufnj8IUFyIeU9CBpLKr5chxgjK4QsGUMurlkhrBB0PHRZB1PqdRByIHsZot0RGE9k1MhwrnCljoTjaeqyENRP7ZaCXdt3M/saR9egTqaMo3uWhZQxiKa9SImTWmi/huQsaz9OEPw6pHGqfkDFQF6mZ9n2vcBol0Xw2+nJjFgZAq9A7VV4rswGQgT07izRfftdWvmV6W330Lu9d5XRS028uq/Ut8rvOAFo2ci5leS0l7P/HL6EIOKf2S/rGRfHPDFMoC2jtrz47XcyShez7/aO2j3ujF3pSidteBx/JQF3DIAxtM8AAAAASUVORK5CYII=\" id=\"imageb26ec90e6b\" transform=\"matrix(4.79 0 0 -4.79 7.2 485.28)\" style=\"image-rendering:crisp-edges;image-rendering:pixelated\" width=\"100\" height=\"100\"/>\n",
       "   </g>\n",
       "  </g>\n",
       " </g>\n",
       " <defs>\n",
       "  <clipPath id=\"pe0786fb8ca\">\n",
       "   <rect x=\"7.2\" y=\"7.2\" width=\"478.08\" height=\"478.08\"/>\n",
       "  </clipPath>\n",
       " </defs>\n",
       "</svg>\n"
      ],
      "text/plain": [
       "<Figure size 700x700 with 1 Axes>"
      ]
     },
     "metadata": {},
     "output_type": "display_data"
    }
   ],
   "source": [
    "im = ps.tools.insert_sphere(im=im, c=c, r=r, v=v, overwrite=overwrite)\n",
    "fig, ax = plt.subplots(figsize=[7, 7]);\n",
    "ps.visualization.imshow(im);\n",
    "plt.axis(False);"
   ]
  }
 ],
 "metadata": {
  "kernelspec": {
   "display_name": "Python 3 (ipykernel)",
   "language": "python",
   "name": "python3"
  },
  "language_info": {
   "codemirror_mode": {
    "name": "ipython",
    "version": 3
   },
   "file_extension": ".py",
   "mimetype": "text/x-python",
   "name": "python",
   "nbconvert_exporter": "python",
   "pygments_lexer": "ipython3",
   "version": "3.8.13"
  }
 },
 "nbformat": 4,
 "nbformat_minor": 5
}

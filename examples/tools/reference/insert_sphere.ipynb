{
 "cells": [
  {
   "cell_type": "markdown",
   "id": "confident-salmon",
   "metadata": {},
   "source": [
    "# `insert_sphere`"
   ]
  },
  {
   "cell_type": "markdown",
   "id": "willing-advertiser",
   "metadata": {},
   "source": [
    "## Import packages"
   ]
  },
  {
   "cell_type": "code",
   "execution_count": 1,
   "id": "straight-pitch",
   "metadata": {
    "execution": {
     "iopub.execute_input": "2022-08-12T22:21:42.153379Z",
     "iopub.status.busy": "2022-08-12T22:21:42.152872Z",
     "iopub.status.idle": "2022-08-12T22:21:44.320222Z",
     "shell.execute_reply": "2022-08-12T22:21:44.318998Z"
    }
   },
   "outputs": [],
   "source": [
    "import numpy as np\n",
    "import porespy as ps\n",
    "import scipy.ndimage as spim\n",
    "import matplotlib.pyplot as plt\n",
    "import skimage\n",
    "ps.visualization.set_mpl_style()"
   ]
  },
  {
   "cell_type": "markdown",
   "id": "formed-drove",
   "metadata": {},
   "source": [
    "## Create image and variables"
   ]
  },
  {
   "cell_type": "code",
   "execution_count": 2,
   "id": "entire-david",
   "metadata": {
    "execution": {
     "iopub.execute_input": "2022-08-12T22:21:44.326385Z",
     "iopub.status.busy": "2022-08-12T22:21:44.325761Z",
     "iopub.status.idle": "2022-08-12T22:21:44.482892Z",
     "shell.execute_reply": "2022-08-12T22:21:44.482253Z"
    }
   },
   "outputs": [
    {
     "data": {
      "image/svg+xml": [
       "<?xml version=\"1.0\" encoding=\"utf-8\" standalone=\"no\"?>\n",
       "<!DOCTYPE svg PUBLIC \"-//W3C//DTD SVG 1.1//EN\"\n",
       "  \"http://www.w3.org/Graphics/SVG/1.1/DTD/svg11.dtd\">\n",
       "<svg xmlns:xlink=\"http://www.w3.org/1999/xlink\" width=\"496.8pt\" height=\"496.8pt\" viewBox=\"0 0 496.8 496.8\" xmlns=\"http://www.w3.org/2000/svg\" version=\"1.1\">\n",
       " <metadata>\n",
       "  <rdf:RDF xmlns:dc=\"http://purl.org/dc/elements/1.1/\" xmlns:cc=\"http://creativecommons.org/ns#\" xmlns:rdf=\"http://www.w3.org/1999/02/22-rdf-syntax-ns#\">\n",
       "   <cc:Work>\n",
       "    <dc:type rdf:resource=\"http://purl.org/dc/dcmitype/StillImage\"/>\n",
       "    <dc:date>2022-08-12T22:21:44.471675</dc:date>\n",
       "    <dc:format>image/svg+xml</dc:format>\n",
       "    <dc:creator>\n",
       "     <cc:Agent>\n",
       "      <dc:title>Matplotlib v3.5.3, https://matplotlib.org/</dc:title>\n",
       "     </cc:Agent>\n",
       "    </dc:creator>\n",
       "   </cc:Work>\n",
       "  </rdf:RDF>\n",
       " </metadata>\n",
       " <defs>\n",
       "  <style type=\"text/css\">*{stroke-linejoin: round; stroke-linecap: butt}</style>\n",
       " </defs>\n",
       " <g id=\"figure_1\">\n",
       "  <g id=\"patch_1\">\n",
       "   <path d=\"M 0 496.8 \n",
       "L 496.8 496.8 \n",
       "L 496.8 0 \n",
       "L 0 0 \n",
       "L 0 496.8 \n",
       "z\n",
       "\" style=\"fill: none\"/>\n",
       "  </g>\n",
       "  <g id=\"axes_1\">\n",
       "   <g clip-path=\"url(#p175fb93654)\">\n",
       "    <image xlink:href=\"data:image/png;base64,\n",
       "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\" id=\"imageb9d6dc9ee5\" transform=\"matrix(4.83 0 0 -4.83 7.2 489.6)\" style=\"image-rendering:crisp-edges;image-rendering:pixelated\" width=\"100\" height=\"100\"/>\n",
       "   </g>\n",
       "  </g>\n",
       " </g>\n",
       " <defs>\n",
       "  <clipPath id=\"p175fb93654\">\n",
       "   <rect x=\"7.2\" y=\"7.2\" width=\"482.4\" height=\"482.4\"/>\n",
       "  </clipPath>\n",
       " </defs>\n",
       "</svg>\n"
      ],
      "text/plain": [
       "<Figure size 504x504 with 1 Axes>"
      ]
     },
     "metadata": {
      "needs_background": "light"
     },
     "output_type": "display_data"
    }
   ],
   "source": [
    "im = ps.generators.blobs([100, 100,100])\n",
    "\n",
    "fig, ax = plt.subplots(figsize=[7, 7]);\n",
    "ps.visualization.imshow(im);\n",
    "plt.axis(False);\n",
    "\n",
    "#default values:\n",
    "c=[50,50,50]\n",
    "r=50\n",
    "v=False\n",
    "overwrite=True"
   ]
  },
  {
   "cell_type": "markdown",
   "id": "entire-projection",
   "metadata": {},
   "source": [
    "## Apply tool"
   ]
  },
  {
   "cell_type": "code",
   "execution_count": 3,
   "id": "unlimited-illustration",
   "metadata": {
    "execution": {
     "iopub.execute_input": "2022-08-12T22:21:44.486602Z",
     "iopub.status.busy": "2022-08-12T22:21:44.486106Z",
     "iopub.status.idle": "2022-08-12T22:21:44.625732Z",
     "shell.execute_reply": "2022-08-12T22:21:44.625075Z"
    }
   },
   "outputs": [
    {
     "data": {
      "image/svg+xml": [
       "<?xml version=\"1.0\" encoding=\"utf-8\" standalone=\"no\"?>\n",
       "<!DOCTYPE svg PUBLIC \"-//W3C//DTD SVG 1.1//EN\"\n",
       "  \"http://www.w3.org/Graphics/SVG/1.1/DTD/svg11.dtd\">\n",
       "<svg xmlns:xlink=\"http://www.w3.org/1999/xlink\" width=\"496.8pt\" height=\"496.8pt\" viewBox=\"0 0 496.8 496.8\" xmlns=\"http://www.w3.org/2000/svg\" version=\"1.1\">\n",
       " <metadata>\n",
       "  <rdf:RDF xmlns:dc=\"http://purl.org/dc/elements/1.1/\" xmlns:cc=\"http://creativecommons.org/ns#\" xmlns:rdf=\"http://www.w3.org/1999/02/22-rdf-syntax-ns#\">\n",
       "   <cc:Work>\n",
       "    <dc:type rdf:resource=\"http://purl.org/dc/dcmitype/StillImage\"/>\n",
       "    <dc:date>2022-08-12T22:21:44.619447</dc:date>\n",
       "    <dc:format>image/svg+xml</dc:format>\n",
       "    <dc:creator>\n",
       "     <cc:Agent>\n",
       "      <dc:title>Matplotlib v3.5.3, https://matplotlib.org/</dc:title>\n",
       "     </cc:Agent>\n",
       "    </dc:creator>\n",
       "   </cc:Work>\n",
       "  </rdf:RDF>\n",
       " </metadata>\n",
       " <defs>\n",
       "  <style type=\"text/css\">*{stroke-linejoin: round; stroke-linecap: butt}</style>\n",
       " </defs>\n",
       " <g id=\"figure_1\">\n",
       "  <g id=\"patch_1\">\n",
       "   <path d=\"M 0 496.8 \n",
       "L 496.8 496.8 \n",
       "L 496.8 0 \n",
       "L 0 0 \n",
       "L 0 496.8 \n",
       "z\n",
       "\" style=\"fill: none\"/>\n",
       "  </g>\n",
       "  <g id=\"axes_1\">\n",
       "   <g clip-path=\"url(#pa3d8d42d51)\">\n",
       "    <image xlink:href=\"data:image/png;base64,\n",
       "iVBORw0KGgoAAAANSUhEUgAAAGQAAABkCAYAAABw4pVUAAAC0klEQVR4nO2dW5qDIAxGa79ZmktwmbOE7s15cj6qXBKIEuWct7kIkt8khFqY5mlZX4181t+p5jpJ37G2c9fV3oumj1S/mmtS96lqpKaDEqX+rQysxcouMXJj+rHqZJ6W1cp4vUTY6CXG61XwEK0b1tyARywF0Y7/nWrkjoa0oqenHwTZNzKqMLmHUmKTWruZ5JDUTOgJYm5j2MLY9nMqnLeOORqyQmrj6RPECIl5zBnRxGyWNRpnzcQOHnLmlO9JaAtWKd0Lw7tTm0f2OWmjmENabmwEYrmlxRZmgozqIRtW4zcJWaOLERLas8Yuza6GGEdS+UFCU8hCjDgtdqkKWQgho7RaEbO92kMQQ05utTz1e7GHIIQdOZsXl04Qwg7Jw58NWYhhi+RzJrPCEOTkREkKgnecS8pbkoKMujZ1NXthsiELUa6HpO6M9+hvmHjj30N428QHXyELEfqTfFHu6hsZmXDyRGHoDDzBCZuX4CEAAAAAAHA587SsfO7hCMTwBZW6MxDEGQjiDARxBoI4A0GcgSDOQBBnIIgzEAQAAAAAAADAC/O0rFTqzkAQZyCIMxDECXxhxykI4gwEcQaCOICvRTuGzfg7s7f3O/dHuJ6v02NC2F7jfKL79uIVvmCLv06k7MssyxnFna3JJfbkjrTAQzqi2iZ2g1xiS+lsEZGHIIoNEjtmN+MPVXzKyZ29kD7U4hyCGG1I7adK6oSuNvYRJ/Y/6q3GEcWOqiOPEOVc9rZsOseQvKInZ+/P+jsVY1oJRNFRsrPJiceIoiNnY5EhJSIhirxWy9lTNO1t7WQErArn4rF5GlrOgL0r1g8iq70N1J4MXXVKG+Rp9YzLVnv3HT0tt8Q2DbUM0Zd8HvKEnU9TY2gRI3at6mhpbQepNu6Y9M98VSpsO9qgZXFYWirQ9tOLM2eQoY0O014q9ThXjZFZljOqC0OLJ6ZU3Y5YaP4BfBetg3ciKxIAAAAASUVORK5CYII=\" id=\"image9ea8c8bdda\" transform=\"matrix(4.83 0 0 -4.83 7.2 489.6)\" style=\"image-rendering:crisp-edges;image-rendering:pixelated\" width=\"100\" height=\"100\"/>\n",
       "   </g>\n",
       "  </g>\n",
       " </g>\n",
       " <defs>\n",
       "  <clipPath id=\"pa3d8d42d51\">\n",
       "   <rect x=\"7.2\" y=\"7.2\" width=\"482.4\" height=\"482.4\"/>\n",
       "  </clipPath>\n",
       " </defs>\n",
       "</svg>\n"
      ],
      "text/plain": [
       "<Figure size 504x504 with 1 Axes>"
      ]
     },
     "metadata": {
      "needs_background": "light"
     },
     "output_type": "display_data"
    }
   ],
   "source": [
    "im = ps.tools.insert_sphere(im=im, c=c, r=r, v=v, overwrite=overwrite)\n",
    "fig, ax = plt.subplots(figsize=[7, 7]);\n",
    "ps.visualization.imshow(im);\n",
    "plt.axis(False);"
   ]
  }
 ],
 "metadata": {
  "kernelspec": {
   "display_name": "Python 3 (ipykernel)",
   "language": "python",
   "name": "python3"
  },
  "language_info": {
   "codemirror_mode": {
    "name": "ipython",
    "version": 3
   },
   "file_extension": ".py",
   "mimetype": "text/x-python",
   "name": "python",
   "nbconvert_exporter": "python",
   "pygments_lexer": "ipython3",
   "version": "3.8.13"
  }
 },
 "nbformat": 4,
 "nbformat_minor": 5
}

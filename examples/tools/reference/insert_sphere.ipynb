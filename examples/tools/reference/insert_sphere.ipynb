{
 "cells": [
  {
   "cell_type": "markdown",
   "id": "confident-salmon",
   "metadata": {},
   "source": [
    "# `insert_sphere`"
   ]
  },
  {
   "cell_type": "markdown",
   "id": "willing-advertiser",
   "metadata": {},
   "source": [
    "## Import packages"
   ]
  },
  {
   "cell_type": "code",
   "execution_count": 1,
   "id": "straight-pitch",
   "metadata": {
    "execution": {
     "iopub.execute_input": "2022-08-22T18:55:36.812863Z",
     "iopub.status.busy": "2022-08-22T18:55:36.812370Z",
     "iopub.status.idle": "2022-08-22T18:55:38.709199Z",
     "shell.execute_reply": "2022-08-22T18:55:38.708159Z"
    }
   },
   "outputs": [],
   "source": [
    "import numpy as np\n",
    "import porespy as ps\n",
    "import scipy.ndimage as spim\n",
    "import matplotlib.pyplot as plt\n",
    "import skimage\n",
    "ps.visualization.set_mpl_style()"
   ]
  },
  {
   "cell_type": "markdown",
   "id": "formed-drove",
   "metadata": {},
   "source": [
    "## Create image and variables"
   ]
  },
  {
   "cell_type": "code",
   "execution_count": 2,
   "id": "entire-david",
   "metadata": {
    "execution": {
     "iopub.execute_input": "2022-08-22T18:55:38.713179Z",
     "iopub.status.busy": "2022-08-22T18:55:38.712707Z",
     "iopub.status.idle": "2022-08-22T18:55:38.847698Z",
     "shell.execute_reply": "2022-08-22T18:55:38.847153Z"
    }
   },
   "outputs": [
    {
     "data": {
      "image/svg+xml": [
       "<?xml version=\"1.0\" encoding=\"utf-8\" standalone=\"no\"?>\n",
       "<!DOCTYPE svg PUBLIC \"-//W3C//DTD SVG 1.1//EN\"\n",
       "  \"http://www.w3.org/Graphics/SVG/1.1/DTD/svg11.dtd\">\n",
       "<svg xmlns:xlink=\"http://www.w3.org/1999/xlink\" width=\"492.48pt\" height=\"492.48pt\" viewBox=\"0 0 492.48 492.48\" xmlns=\"http://www.w3.org/2000/svg\" version=\"1.1\">\n",
       " <metadata>\n",
       "  <rdf:RDF xmlns:dc=\"http://purl.org/dc/elements/1.1/\" xmlns:cc=\"http://creativecommons.org/ns#\" xmlns:rdf=\"http://www.w3.org/1999/02/22-rdf-syntax-ns#\">\n",
       "   <cc:Work>\n",
       "    <dc:type rdf:resource=\"http://purl.org/dc/dcmitype/StillImage\"/>\n",
       "    <dc:date>2022-08-22T18:55:38.837984</dc:date>\n",
       "    <dc:format>image/svg+xml</dc:format>\n",
       "    <dc:creator>\n",
       "     <cc:Agent>\n",
       "      <dc:title>Matplotlib v3.5.3, https://matplotlib.org/</dc:title>\n",
       "     </cc:Agent>\n",
       "    </dc:creator>\n",
       "   </cc:Work>\n",
       "  </rdf:RDF>\n",
       " </metadata>\n",
       " <defs>\n",
       "  <style type=\"text/css\">*{stroke-linejoin: round; stroke-linecap: butt}</style>\n",
       " </defs>\n",
       " <g id=\"figure_1\">\n",
       "  <g id=\"patch_1\">\n",
       "   <path d=\"M 0 492.48 \n",
       "L 492.48 492.48 \n",
       "L 492.48 0 \n",
       "L 0 0 \n",
       "z\n",
       "\" style=\"fill: #ffffff\"/>\n",
       "  </g>\n",
       "  <g id=\"axes_1\">\n",
       "   <g clip-path=\"url(#p2d8d2b7da4)\">\n",
       "    <image xlink:href=\"data:image/png;base64,\n",
       "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\" id=\"image14fb47631b\" transform=\"matrix(4.79 0 0 -4.79 7.2 485.28)\" style=\"image-rendering:crisp-edges;image-rendering:pixelated\" width=\"100\" height=\"100\"/>\n",
       "   </g>\n",
       "  </g>\n",
       " </g>\n",
       " <defs>\n",
       "  <clipPath id=\"p2d8d2b7da4\">\n",
       "   <rect x=\"7.2\" y=\"7.2\" width=\"478.08\" height=\"478.08\"/>\n",
       "  </clipPath>\n",
       " </defs>\n",
       "</svg>\n"
      ],
      "text/plain": [
       "<Figure size 700x700 with 1 Axes>"
      ]
     },
     "metadata": {},
     "output_type": "display_data"
    }
   ],
   "source": [
    "im = ps.generators.blobs([100, 100,100])\n",
    "\n",
    "fig, ax = plt.subplots(figsize=[7, 7]);\n",
    "ps.visualization.imshow(im);\n",
    "plt.axis(False);\n",
    "\n",
    "#default values:\n",
    "c=[50,50,50]\n",
    "r=50\n",
    "v=False\n",
    "overwrite=True"
   ]
  },
  {
   "cell_type": "markdown",
   "id": "entire-projection",
   "metadata": {},
   "source": [
    "## Apply tool"
   ]
  },
  {
   "cell_type": "code",
   "execution_count": 3,
   "id": "unlimited-illustration",
   "metadata": {
    "execution": {
     "iopub.execute_input": "2022-08-22T18:55:38.851966Z",
     "iopub.status.busy": "2022-08-22T18:55:38.850964Z",
     "iopub.status.idle": "2022-08-22T18:55:38.976128Z",
     "shell.execute_reply": "2022-08-22T18:55:38.975571Z"
    }
   },
   "outputs": [
    {
     "data": {
      "image/svg+xml": [
       "<?xml version=\"1.0\" encoding=\"utf-8\" standalone=\"no\"?>\n",
       "<!DOCTYPE svg PUBLIC \"-//W3C//DTD SVG 1.1//EN\"\n",
       "  \"http://www.w3.org/Graphics/SVG/1.1/DTD/svg11.dtd\">\n",
       "<svg xmlns:xlink=\"http://www.w3.org/1999/xlink\" width=\"492.48pt\" height=\"492.48pt\" viewBox=\"0 0 492.48 492.48\" xmlns=\"http://www.w3.org/2000/svg\" version=\"1.1\">\n",
       " <metadata>\n",
       "  <rdf:RDF xmlns:dc=\"http://purl.org/dc/elements/1.1/\" xmlns:cc=\"http://creativecommons.org/ns#\" xmlns:rdf=\"http://www.w3.org/1999/02/22-rdf-syntax-ns#\">\n",
       "   <cc:Work>\n",
       "    <dc:type rdf:resource=\"http://purl.org/dc/dcmitype/StillImage\"/>\n",
       "    <dc:date>2022-08-22T18:55:38.969252</dc:date>\n",
       "    <dc:format>image/svg+xml</dc:format>\n",
       "    <dc:creator>\n",
       "     <cc:Agent>\n",
       "      <dc:title>Matplotlib v3.5.3, https://matplotlib.org/</dc:title>\n",
       "     </cc:Agent>\n",
       "    </dc:creator>\n",
       "   </cc:Work>\n",
       "  </rdf:RDF>\n",
       " </metadata>\n",
       " <defs>\n",
       "  <style type=\"text/css\">*{stroke-linejoin: round; stroke-linecap: butt}</style>\n",
       " </defs>\n",
       " <g id=\"figure_1\">\n",
       "  <g id=\"patch_1\">\n",
       "   <path d=\"M 0 492.48 \n",
       "L 492.48 492.48 \n",
       "L 492.48 0 \n",
       "L 0 0 \n",
       "z\n",
       "\" style=\"fill: #ffffff\"/>\n",
       "  </g>\n",
       "  <g id=\"axes_1\">\n",
       "   <g clip-path=\"url(#pc242779a3b)\">\n",
       "    <image xlink:href=\"data:image/png;base64,\n",
       "iVBORw0KGgoAAAANSUhEUgAAAGQAAABkCAYAAABw4pVUAAACxUlEQVR4nO2dW5LCIBAAky2P5hE8pkfwbtmPLayYDTADDEyk+2+3iOB0hldU1vv62BZjXttzPft/rO5j+dZt1Lz+Wdtz7alp/2otJCYjcKw/V76W+/rYtAErCXC4RhvfH01hC/Zv1lpGrzqW5U9Eyc3+bpx1t3AVJBlr2atUC7lq4HOcdW3h/5b1Vg2e3yojRo8J0PAx5Cr0kLEsCBHz2p5rjx6hSkivu8YT1mI+hMw2JtRQEiuJzOoua8YsCZTewKnrmowhs0uRitnHKXYNg3ojWnVhH0JYHNbRogurzhBkfFIbj1tN/4+Mc17bs3gXvThDkJFG+wwoUCQEGTKkUvZ/q1MLGWVI46zKEGSUI40d65COSKSIhZAdbYjFMSwSRUKQ0Y+sEGS0J/VomDFkALEZ1319bEkhZIcN5tvv0I5TIb2eH8+M+HkIIsbyFkJW9Ocs3ggYzMyPvy/Bv91euq2x8LksZ7AOcQZCnIEQZ3ysQ0Y2BP4gQ5yBEGcgxBss3QEAAAAAAAAAAKAINhd9wfa7MxDiDIQ4AyEAcBGy3zGE/iDEGQhxBkKcwI6JMxACAAC1nP7mIl/eGQfTXmecCmEKNg4yxBlRIWTJGMgQZySFkCX9IUOckRVClvQhnJ0ryhCk2FJ8OgIr+HJMTkcAexDSAU0vdJMUoqsqRzv+kiGGlEyGOB3BiO6ntEGcmmXCT80vWofFTGnl38jxvFttbN+FY4E9vqC03IyE2KQObMmh+iHl3IvOLCUl41gmhWjaq2nUbFIkIgJFp7SlLM4W7BzhBmwZF3WG7CufeUC36g1Em4u5imf6KJGmiyqh2W7vt3d1x+msVT1NB/UY1neVJb2P82i2Utc21Pv4U7PoLblO9cSwNaHBHlf6qTZpbjrN+9qXFXdZlqk68pSf1IRkxM3SZQzRYjnmaHYbXttz1bZFK/FY/heq/qys5yZHpgAAAABJRU5ErkJggg==\" id=\"image1938f4dbdb\" transform=\"matrix(4.79 0 0 -4.79 7.2 485.28)\" style=\"image-rendering:crisp-edges;image-rendering:pixelated\" width=\"100\" height=\"100\"/>\n",
       "   </g>\n",
       "  </g>\n",
       " </g>\n",
       " <defs>\n",
       "  <clipPath id=\"pc242779a3b\">\n",
       "   <rect x=\"7.2\" y=\"7.2\" width=\"478.08\" height=\"478.08\"/>\n",
       "  </clipPath>\n",
       " </defs>\n",
       "</svg>\n"
      ],
      "text/plain": [
       "<Figure size 700x700 with 1 Axes>"
      ]
     },
     "metadata": {},
     "output_type": "display_data"
    }
   ],
   "source": [
    "im = ps.tools.insert_sphere(im=im, c=c, r=r, v=v, overwrite=overwrite)\n",
    "fig, ax = plt.subplots(figsize=[7, 7]);\n",
    "ps.visualization.imshow(im);\n",
    "plt.axis(False);"
   ]
  }
 ],
 "metadata": {
  "kernelspec": {
   "display_name": "Python 3 (ipykernel)",
   "language": "python",
   "name": "python3"
  },
  "language_info": {
   "codemirror_mode": {
    "name": "ipython",
    "version": 3
   },
   "file_extension": ".py",
   "mimetype": "text/x-python",
   "name": "python",
   "nbconvert_exporter": "python",
   "pygments_lexer": "ipython3",
   "version": "3.8.13"
  }
 },
 "nbformat": 4,
 "nbformat_minor": 5
}

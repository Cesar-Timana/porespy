{
 "cells": [
  {
   "cell_type": "markdown",
   "id": "76acccd3",
   "metadata": {},
   "source": [
    "# `subdivide`"
   ]
  },
  {
   "cell_type": "markdown",
   "id": "c6b5700f",
   "metadata": {},
   "source": [
    "## Import packages"
   ]
  },
  {
   "cell_type": "code",
   "execution_count": 1,
   "id": "4aa71432",
   "metadata": {
    "execution": {
     "iopub.execute_input": "2022-08-23T01:42:52.838218Z",
     "iopub.status.busy": "2022-08-23T01:42:52.837968Z",
     "iopub.status.idle": "2022-08-23T01:42:54.660225Z",
     "shell.execute_reply": "2022-08-23T01:42:54.659539Z"
    }
   },
   "outputs": [],
   "source": [
    "import numpy as np\n",
    "import porespy as ps\n",
    "import scipy.ndimage as spim\n",
    "import matplotlib.pyplot as plt\n",
    "import skimage\n",
    "\n",
    "np.random.rand(0)\n",
    "ps.visualization.set_mpl_style()"
   ]
  },
  {
   "cell_type": "markdown",
   "id": "be0cb230",
   "metadata": {},
   "source": [
    "## Create image and variables"
   ]
  },
  {
   "cell_type": "code",
   "execution_count": 2,
   "id": "9b8c0fbb",
   "metadata": {
    "execution": {
     "iopub.execute_input": "2022-08-23T01:42:54.664979Z",
     "iopub.status.busy": "2022-08-23T01:42:54.663717Z",
     "iopub.status.idle": "2022-08-23T01:42:54.782073Z",
     "shell.execute_reply": "2022-08-23T01:42:54.781470Z"
    }
   },
   "outputs": [
    {
     "data": {
      "image/svg+xml": [
       "<?xml version=\"1.0\" encoding=\"utf-8\" standalone=\"no\"?>\n",
       "<!DOCTYPE svg PUBLIC \"-//W3C//DTD SVG 1.1//EN\"\n",
       "  \"http://www.w3.org/Graphics/SVG/1.1/DTD/svg11.dtd\">\n",
       "<svg xmlns:xlink=\"http://www.w3.org/1999/xlink\" width=\"276.48pt\" height=\"276.48pt\" viewBox=\"0 0 276.48 276.48\" xmlns=\"http://www.w3.org/2000/svg\" version=\"1.1\">\n",
       " <metadata>\n",
       "  <rdf:RDF xmlns:dc=\"http://purl.org/dc/elements/1.1/\" xmlns:cc=\"http://creativecommons.org/ns#\" xmlns:rdf=\"http://www.w3.org/1999/02/22-rdf-syntax-ns#\">\n",
       "   <cc:Work>\n",
       "    <dc:type rdf:resource=\"http://purl.org/dc/dcmitype/StillImage\"/>\n",
       "    <dc:date>2022-08-23T01:42:54.757081</dc:date>\n",
       "    <dc:format>image/svg+xml</dc:format>\n",
       "    <dc:creator>\n",
       "     <cc:Agent>\n",
       "      <dc:title>Matplotlib v3.5.3, https://matplotlib.org/</dc:title>\n",
       "     </cc:Agent>\n",
       "    </dc:creator>\n",
       "   </cc:Work>\n",
       "  </rdf:RDF>\n",
       " </metadata>\n",
       " <defs>\n",
       "  <style type=\"text/css\">*{stroke-linejoin: round; stroke-linecap: butt}</style>\n",
       " </defs>\n",
       " <g id=\"figure_1\">\n",
       "  <g id=\"patch_1\">\n",
       "   <path d=\"M 0 276.48 \n",
       "L 276.48 276.48 \n",
       "L 276.48 0 \n",
       "L 0 0 \n",
       "z\n",
       "\" style=\"fill: #ffffff\"/>\n",
       "  </g>\n",
       "  <g id=\"axes_1\">\n",
       "   <g clip-path=\"url(#pa776db183b)\">\n",
       "    <image xlink:href=\"data:image/png;base64,\n",
       "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\" id=\"image1ee4ba2fe3\" transform=\"matrix(0.526 0 0 -0.526 7.2 269.28)\" style=\"image-rendering:crisp-edges;image-rendering:pixelated\" width=\"500\" height=\"500\"/>\n",
       "   </g>\n",
       "  </g>\n",
       " </g>\n",
       " <defs>\n",
       "  <clipPath id=\"pa776db183b\">\n",
       "   <rect x=\"7.2\" y=\"7.2\" width=\"262.08\" height=\"262.08\"/>\n",
       "  </clipPath>\n",
       " </defs>\n",
       "</svg>\n"
      ],
      "text/plain": [
       "<Figure size 400x400 with 1 Axes>"
      ]
     },
     "metadata": {},
     "output_type": "display_data"
    }
   ],
   "source": [
    "im = ps.generators.blobs([500, 500])\n",
    "fig, ax = plt.subplots(1, 1, figsize=[4, 4])\n",
    "ax.axis(False)\n",
    "ax.imshow(im, origin='lower');"
   ]
  },
  {
   "cell_type": "markdown",
   "id": "6e9cb6b9",
   "metadata": {},
   "source": [
    "## Apply tool\n",
    "``slice`` objects are returned:"
   ]
  },
  {
   "cell_type": "code",
   "execution_count": 3,
   "id": "c0497eed",
   "metadata": {
    "execution": {
     "iopub.execute_input": "2022-08-23T01:42:54.784955Z",
     "iopub.status.busy": "2022-08-23T01:42:54.784676Z",
     "iopub.status.idle": "2022-08-23T01:42:54.790059Z",
     "shell.execute_reply": "2022-08-23T01:42:54.788693Z"
    }
   },
   "outputs": [
    {
     "name": "stdout",
     "output_type": "stream",
     "text": [
      "[(slice(0, 270, None), slice(0, 270, None)), (slice(0, 270, None), slice(230, 500, None)), (slice(230, 500, None), slice(0, 270, None)), (slice(230, 500, None), slice(230, 500, None))]\n"
     ]
    }
   ],
   "source": [
    "slices = ps.tools.subdivide(im=im, divs=2, overlap=20)\n",
    "print(slices)"
   ]
  },
  {
   "cell_type": "code",
   "execution_count": 4,
   "id": "f4c49c48",
   "metadata": {
    "execution": {
     "iopub.execute_input": "2022-08-23T01:42:54.792764Z",
     "iopub.status.busy": "2022-08-23T01:42:54.792422Z",
     "iopub.status.idle": "2022-08-23T01:42:54.951288Z",
     "shell.execute_reply": "2022-08-23T01:42:54.950694Z"
    }
   },
   "outputs": [
    {
     "data": {
      "image/svg+xml": [
       "<?xml version=\"1.0\" encoding=\"utf-8\" standalone=\"no\"?>\n",
       "<!DOCTYPE svg PUBLIC \"-//W3C//DTD SVG 1.1//EN\"\n",
       "  \"http://www.w3.org/Graphics/SVG/1.1/DTD/svg11.dtd\">\n",
       "<svg xmlns:xlink=\"http://www.w3.org/1999/xlink\" width=\"547.47pt\" height=\"132.48pt\" viewBox=\"0 0 547.47 132.48\" xmlns=\"http://www.w3.org/2000/svg\" version=\"1.1\">\n",
       " <metadata>\n",
       "  <rdf:RDF xmlns:dc=\"http://purl.org/dc/elements/1.1/\" xmlns:cc=\"http://creativecommons.org/ns#\" xmlns:rdf=\"http://www.w3.org/1999/02/22-rdf-syntax-ns#\">\n",
       "   <cc:Work>\n",
       "    <dc:type rdf:resource=\"http://purl.org/dc/dcmitype/StillImage\"/>\n",
       "    <dc:date>2022-08-23T01:42:54.917609</dc:date>\n",
       "    <dc:format>image/svg+xml</dc:format>\n",
       "    <dc:creator>\n",
       "     <cc:Agent>\n",
       "      <dc:title>Matplotlib v3.5.3, https://matplotlib.org/</dc:title>\n",
       "     </cc:Agent>\n",
       "    </dc:creator>\n",
       "   </cc:Work>\n",
       "  </rdf:RDF>\n",
       " </metadata>\n",
       " <defs>\n",
       "  <style type=\"text/css\">*{stroke-linejoin: round; stroke-linecap: butt}</style>\n",
       " </defs>\n",
       " <g id=\"figure_1\">\n",
       "  <g id=\"patch_1\">\n",
       "   <path d=\"M 0 132.48 \n",
       "L 547.47 132.48 \n",
       "L 547.47 0 \n",
       "L 0 0 \n",
       "z\n",
       "\" style=\"fill: #ffffff\"/>\n",
       "  </g>\n",
       "  <g id=\"axes_1\">\n",
       "   <g clip-path=\"url(#p88fd8c521d)\">\n",
       "    <image xlink:href=\"data:image/png;base64,\n",
       "iVBORw0KGgoAAAANSUhEUgAAAQ4AAAEOCAYAAAB4sfmlAAANFElEQVR4nO3dwXHjSAyFYXpqovDZATiIrXICm6yzcBSeKKZmD1Ncy5IodpNo4KHxf8et2jHZBB5BiqKefv96+bOc8Pb8euZ/ByS9f35Eb4K0H9EbACAfggNAt9PBwUiH2VDT+5g4AHQzCQ4SGqiFiQNAN7PgYOoA6jCdOAgPZEcNt/lp/Q++f35IPxTWWxjK+wJEMQ8OFVZnjvXfIUCAL09nHznfMqrRokdJAmRe0bWVybDgWBa7JlM7oITHnNTqTNnQj2PPHoj3zw/Jg6m4TYCnoRPH6sgZOktzMn3MIUu9qXB5AKz3oGQ6iJm2FbDi9uRoa4NlbMSM2wyc4frI+V6DZW7AzNsO9HK5x3HP5b2BmZqOex45zVSDHsKCY3YESC4ERx++HTsIhYiZERwDER6Y1bTfVVHBd13a7IUs66eFexyOWov/URPN1EBq31RmQmzHxOFob/poKdwZJhgaND8mjglkCpGzocHUoYGJYwIZphAa0s71cY5YWyaOCSkGiFVxe+ybYsi17LfndhMck1MIkUyhsVIIj9799dxmnuOYnOo7TdRFBu7b8+uhv++5zQRHEYRHP89GXMPi7N/02mYuVQqKOJuqf5ryyKjQzfxeXj5VgYu359fDBR19n2b9+xYNGb0vVpg4iooqYLWnRY/o2Ycs69yLiQOuWt/DohgYK+Vt80JwIAwNmBefqgATGh3KPyw+AgJQy/+XKgrPvwPIYfNShUkEwJbdexwEyHw4njir+eYoxQZg1fWpCtMHgGU5+HEs4ZEXxw4WDj/HQQHmwzGDlVMPgHHpAtRk8uQo4aGPYwRLZt9VOfO16ZkoPkhHaMDa0z9P/5p/rV6hWTxZ/NDSKIRGTSm/Vl9h+jjzTkivtSE0MMqQiePSbAFi1Yyj14XQqMuj54YHx2qGABnRjCPWhdCoy6vP3IJjlTFAMv3sIKFRl+sPMnkHxypLgHg1Yua3gCNWyE9ARgXHSjlAMvyMAIFRW1T/hAfHsmiGh0JDbq2LwrYhjkK/SATHSmFBaMr5XdZZhuOt0BfXpIJjWWIXKUMR4ZjWujpbA4pNPoJccCwLT1jC1pl62qqLKgGxRTI4lsX3wBAa86re4KPI/q6KVzMTGkA/2eDwQGjMjWljHOngGNnYhAZwnPxvx1p/05bAaMdzJNgiHxyWKPh9LSGd5TmICq93iCJ9qbI6W5y8G7XNkSZ7//ygOQuS/Th2S0+REhbtLJpfdb0JNnvpLlX2xk/V4lVm1Vjrv8MxmF+6iQP2qrxMiMnDTop7HBhnVDMp3vtQDLOsCA4MpRgeBMh5BAeGUwuPZWH6OIvggAvV8CBAjiE44EYxPJaF6ePSGqZ7a/L0+9fLt09VWMRavJtZvb5Uw83DvWOztR43wXH0DyAnXpp0q2J49L6w6NADYNf/mHohAD34jstfj9bA5B7H+pm94mf30JOhRjgZPjbk5igBghlUDo+9/h36qQoBoq9yc7Sosj6XfdrSs4dujh5V5SBkExXuWeqBk98t1+c4OACasjRwFNbnFg+AAQ0Ij+/cg4OpQxONsY81+sLEAXQgPP4KCQ6mDk00RRu+HMfEgSvVG6JH5QBJ985RQM11eFSYqJk4cKPqWdRK61fTMyM4cNfMRe9p1gAhOBCmwki/mi08woKjUtFkNVuxww4TB+BkpiAmOPDQTMUOOwQH4GSmy3OCA7uYOnCN4ADQjeAAHMx0mbIsBAcacbly3GyhsSx8VwUYZsbAWBEcgKGZw+ISwQGcUCUorhEcwAFVA2NFcAAdqgfGik9VgEaExheCA2hAaHxHcAA7CI1bYcHBA0XIUAOExn1MHMAGQmMbwYEm1Zqo2v72IjgQQvkyhdDYR3BgV6VGqrSvZ4QEh/LZBuNx/PNj4sBDlc7Alfb1LIIDrlSnDUKjj3twqBYOblVppir7aYmJA24UTxqExjGuwaFYOLivQkNV2MdR3IKD0IASQuMcLlVwY0RTKZ04CI3zXIJDqWhQG6FhY3hwEBpQqQFCww6vDsRQhIavnvU+syZDg0OlaFDb7KFxtM8u/7/eNRoWHIQGFGpg5tCwXN/eEOFSBUMQGmONXN+WEHn6/evlz8g/jJzONJ3C8Sc0xljXlYkDpqJDY+bAWJb49V3/Pg+A4a4jBRpd1LOHhhLziSO6eGBnPZZ7Dckx96G0zlyqYJdSwW5h2vDFpQrSIzT8ERxIrUpoqE19BAfSqhIaisyDg4MJzI+JAylxgopFcADoRnAgnYrThto+DwkOtZ0EYIuJA0C3YcHB1AHMi4kDqVQ+ISnt+9DgUNpRAHaYOAB0Gx4cTB2AHZV+cpk4VHYWmIFCP3GpAqCbW3AopCQwi+h+cp04oncW+am9lyJSZD9xqQIkFhUe7sHB1AHkFzJxEB6AnYh+CrtUITwAO979FHqPg/DAEdwgvc+zn8JvjhIeQD7hwQHAjteJWCI4mDrQi8uVWBLBsSyEB2DFo5dkgmNZCA8gi6ffv17+RG/ENYUxdCvEFLYNXzjZ3De6TiV/rf798yOkQVuKMGrbstlbS9YwN8mJY+VZXEfOXBT/rd51PLuGTBz3ja5NqXsc1zyK4v3zg+IzcHQdWfucpCeO1aj0tChay217tD3K041V8x/ZR4LnlketpAiOZbFfjMhiv+Y93lsZ0bQ9+0Zo3OdRH9KXKpcsi0Sp4I6O99GXWNFrGP33q0szcazUbqad2R6lbekxumn39oPQ2OZVA2kmjtWZosnaqK08ppDoG9aEhoZ0E8eqt2mjr8fv8WgCq3CjYfV5nsgkHwDLIENoXP+do9tMaOBaiYlD9RIlsiFb9oHAyMP7sjnlxNG7SG/Pr3LPbEQjFHBGupujUc07U2gAZ6WYOCya9ujUQWBAXUSNSt/jGLEgreExyzMRmF9EcMhNHKMXYf337zUs0wXQRmLiqN6wTB04o9TEUT0sAAtRfeQeHAQGkN+Pt+dXl2b2+jsZsS7I5v+J47J4La+5aQpgPncfALN6boLQaMda4YioG+ub9zgefWz5CA0AzG/3kfPWyYEJA4gRMXU0f6pCKIxn9WU8YLR0X3IDcMv7hCP3yDmAY46+tOnIr+49/fP0b/gj5/iOyxWoWkOESxUAzdaTGsEBoMv75wfBAaAfwQGgG8EBoBvBAaAbwQGgG8EBoBvBAaAbwQGgG8EBoBvBAaAb344Vwxfcvtv7lmem9ZrpfSsEB2S1vnlOsRm3tv36vytuewu+Vi8kaxGNcOSNcwrrl3W7e3GPA1LOvLs2+vWWWbf7CIJDRMazjjWrn+XwZvGi7mzhQXAIIDTyNc7KcrszrQHBEYzQsG8YrwYc8XeyhAefqgSqHhpZmuSezNtugYkjwPvnB6GRuPFGb3uGtWHicFQ9LJYlR1MoUH0+ZUVwOFAuAC+zBMYs+3EWwWGMkPhCk52jPHUQHJ1UD6SS6MAYdYyi90sJwdGAsHiMhhpHdeogOB5QPGAqCIva+Dh2A6Fxn8Xj1SPNeNwU15vgQDPFAr40Y2is1Nae4Lhj5gIELBAcaKJ2xrtWIeyVjsHPRwuutKFeKhQgcNbDT1Wum6hikEBfpbBX+Xi26+PYI0HSspMEEo5SaKKKnn7/epF456hKeFCI21SO0SriWKmsQXSdytwcjV4IAO1kggPoUf1EEz35yARH9EKsVLZDkUqzqmxHZTLBAbQgNDRIBAdn+TwiG1chNBS2YRXZN+HBoRgaitukJKJ5lBoWwcFBg6IFoaEnLDjUQ0N9+6J5NLPq2+AVt8lbSHDQlHMY2UA0pzbXJ0czBgYF3Mbq2GZab4V6jlovt+BQWOSjMhVzpKPHOPP6Rtf11MERvbgWMhd3hL1jPtN6Rtb3tMExQ2gsy1yFjjG8az2yJocFxyyBcYnwQAuv2p8uOGYMjRXhgR4je2Gq4Jg5NFaEB46w7I3oGjQNjgqhcSnq4PWuc3SR4TuLPok+pmbBUS00ViMP4Kg1jS46/HXm+EYfQ4LDyNkDWfEjPXzpOf4Kx8skOKqHxrWtA5thnRSKsrIsz7+cDo4MzYBjVIq0ont9pXQ8TgUHoVGLUuEi1uHgIDRqI0RqC38DGHJ6e37l5FHYoYmDgsE1JpBamDhggpNJLd0TBwWCR7JOHpd1nXUfPHUFB6GBFpkab6umM+1DBC5VYG6GE8wM+zBSc3CwkOiRoV4ybKMqJg4Mk70xs2//SAQHhlJtPtXtyqIpOFhkVEXt38fEgeGyN1/27R9hNzhYNMzmSE3TB98xccAFjTcXggNoRPh9eRgcLBQszVBPfCv4r5/RG+Dt0aPEFMT8rI7x2/Nr6cfSN7+rkrmJLA5o5v1XF9lwI45rxQC5O3FkappRB+398yPVOiBOxenjJjhUm6XagYG9kbW9/ttV6vSnUlBUWfTqZj5DVwkQ95ujmRaUyxUcNXuADA+OWRcOuUSdAGadroYExywLxbQxzqwNVYXpk6Pvnx8UA3BlxhPQf2B/oxHecNOsAAAAAElFTkSuQmCC\" id=\"image7a486b888f\" transform=\"matrix(0.440741 0 0 -0.440741 7.2 125.28)\" style=\"image-rendering:crisp-edges;image-rendering:pixelated\" width=\"270\" height=\"270\"/>\n",
       "   </g>\n",
       "  </g>\n",
       "  <g id=\"axes_2\">\n",
       "   <g clip-path=\"url(#p3c6a920e7c)\">\n",
       "    <image xlink:href=\"data:image/png;base64,\n",
       "iVBORw0KGgoAAAANSUhEUgAAAQ4AAAEOCAYAAAB4sfmlAAANGklEQVR4nO3d23HkOBKFYWhirNBzGyAjJkIOjLPyQlaorejofdDWdKnEGy6JPJn4v4h92YlWkUDiMElWkU+/fv74XTDV6/NL0797+3gfuh1brm7bjG2Brr+8NwDxEBogOPAFoYArCA58Q3jgDMHhoGVhzl7Me59HqKCUUv723gDoIiSwh44jABYw1DxxO9bPlVufhAaU3GqW4HB2FB6EBhRs1SinKs64CAllewc2Og4A35ydRtNxAPjiyrU3ggPAf67+VongAFBKqfvxJcEBoBrBAaD6UQ8EB7C4lufDEBwAqvEjN0jgyWM+Wp9GR3DATUvR3v8bQsQPpypw0Xqke/wbI/4O6vGVc0xntdjpQOr0zAMdB6ay7BDoQOYhOJAO4WGP4MA0Mxc03YctggOpER42Dm/HPg46F58Q0evzC7U72LfgOEro239jEhAN4THWX6X8OR+krYMl74VLfY/zV++394BIqN0xmi+OMgGIitr91NMBclcFU3mfrtwQHn0IDgDVuoKD1EYLuo746DiwNMKjDcEBFypdRylrh0frPHQHx8qDjj6ER1x0HHClFB64juCAO5XwoOu4juCABMIjFoIDMlTCA+cIDmf8wPArhfBYaS5a95XgcPQ4aSsV7BGF8MAxgsMJIXHMOzxWmB+ecp7ICgV7lXd4YB/BIYjw0JB5Hnr3jeBwkLkgR6PrGG9E/REcogiXPzzDg3nY1h0cHBHsULQYbVRN0XFMVjtxhMcnDlD9RtZSV3AwmXMQHr4Y/++ag4PQqNdTgBQveoyun6bgIDR8rP7VdC6StrHY9sNXQD4iMNqNnDzeqAdvlzsOirSd1dFq9Q5ktohjbbXNhx0HYdFnVqHRgWC2L8FB4Y3hdWQiQOzx8upPf68+CC2L/HHM1FpYAgSl2Nbl06+fP36b/XVRagvdWqYAUZm7CGNqOVZVd1WiUym62ehAMNoyHceqobEnYoiozaH6GFqO1xK/VVErOAU867TfymOX/lRl5cm96soYqR9dMVf64MAYZ+FiHSyqB4BVb8+mvsahWmwrGLmYIsyjYnhwjQPhjLqGEiE0SomznaMQHDDXGiLRFmO07e3BNQ5Mtbe43j7eUyy8Va550HFAQobQuMm0L3sIDsBA9vAgOAAj3uFhecpEcACGvMPDSurgWOEiFfRlDA+34OC3ElhJtjp3CY7HQbQcVLoOqPAID6v6nx4c2ZIXWJHENQ7rroCuAyqyHDglggNYSYbwcA8OugHAlsUamx4c9zsxMzQIKCiJ3nW4/MiNRQzE5n6qMhOBBSWRu46lggPAGAQHgGoEB+Ao6unKck8Ay/KkqZXtXatiXudZLjgQz9WL2uovA/diMQ4EB2T13gW7/XsCZDyCA3JG3zZfOUCs9nnJi6N8n0PT28e76dxY//2VLBkc0DJ7Qa8SHrzJDWl5LWKl7iPiKRTBARcqC1dhGyxYhxHBgenUFqva9kRAcGAalS5ji+p2tZhx6kNwYIoICzPCNp6Zdb2E4ADuZAiPGQgOmIu2GKNt783MuzMEB4BqBAewIVrXMfu7IAQHsCNaeMxEcAAHCI9tBAfMRfxK9T31Nw16jC/BgSkID7u/69EVERyY5vX5JXSAjP7ma+TToKdfP3/89t4ID5ELOIvIC6e1fiz3eWZN8wQwuLkv9GghcvX5ptH26yo6DkjKuuBmmFHbBAfkESL1eB4Hlhf9oqoH67Cl40A4dCB1LGqdjgPhEPp1LB6gRMeBsOg82vXWP8GRwNYCyrR/RwiPfi21QnAEM2KhRN33PYSHjaM64QtgQVh91TlbiGCco5rj4mgAvBbxGOE3H8Ehbtaijh4emGvJ4IhyhJq9mAkPXLVkcGAf4YErCA5RnguY8MAZggObCA8cab4dW3OdgCKsw3hBXVVwtF5UVHpgS5QLowrePt4ZL2y6FBwji0cpRHCO8MCW02sclkVze84ChamNgMejw45j5oJ+/CyKVQudB+7tBod3kWx9PmHii/DATagfuY24k8MPvPoQHihl52f1mQqjpktR2e8onZXKeJUSZ8yySP8FsNou5f5/OMYYrSt9cPQUNwFyTmGMvD9/Rd+CQ6n9VDF7cUScA4UAwTzpO46RWBznGJ81pA4OqyJmcRwjYPNLHRyWrBdGxNOVRzMChIDykTY4ZhQU4XENHUg+34KDCa7DeF1HgOSRsuPIVJxZuo57owIk0zxHkzI4ZqOA2/QECGPuK11wZCyojF3HPU5h4tl9BWTUYvUqwBnjtdLi2hvPlcZAWahfx56hqPJgLrWlO1UBYG83OKIlfrTtbRH19BH5HHYcKyxGAPVSnKoQcMBcp8HBojzn+VBnwMOljkM5PJS3Dcjq8qkKCxTATehrHAphxqkDVlQVHAoLFYC/6o6D8ADQdKpCeHzyOk3h9AjeUv1WBYCNx4NVc3Cs/irAlfcdaziqcToOAF9cOSh23Y5d9VoH3QYyen1+uVzbob/HAWCM2oMhpyqV6DZi2ZqvVTvlPS01HbrjmL2ICY0Ybi333nwxj3+0jkXo4AAeXV0IhEffGIQPjlkFQKFpq7mwh/567goOlYmy3g6V/cR3BEa9EeMVvuO4Wa14VtvfLb1jsOIYjtrnNMFRik0hrFhc6ugy/DUHh+rEjdwu1X1cFYHRZ+TYpfwex22AWu/XU5xamI9+o8dw9xWQMzfCUm14RNq3UvJ+mWnmPGQdw3ujxzNlx3HvfsCOCiRaYGTFPIxnMabVwRF5YiNve2bMSzyp7qqsKPKi42KnPavxJTgSiLb4CIz4qoKDydYVZW6ibGcGlmNNx5GI8qKky8iF4Ejm7CflHpS2ZYv69ilKfzt2Zd4PsWFB+rEe+8vBQRHkcDaPI4KFWsmPjgNftAQLQbEeggNVCAl9M+aIi6MAql0OjhV+CIR10UnV4VQFSGRUAJ41ClXBsfr7YoHMas4q6DiAxbVchqi+OMq1DmQVvZtu2f7W9dzUcdx/WM3Gnm1k9IkDIulpArpPVUZ2IK2BBKBO77qV/R4Hp0TwEPWANbLzv0I2OEr53EECBNDT9JRzD1GPBPDT83DqaAesq+tj1H5Jdxz3ok0k/FzpVDPVk8dBNUxwAFfUBAKvy2gXKjgyHSUwXkt9UFNtQgVHKUw0tvXUxd6/pevYFy44gEcrH0xqw21UGIYMjpULBVAQMjiAm1EHEU5X6oQNDroOoM2IMAwbHAAHDz+hg4PCwcp6OoferiN0cAAzZL3O0bNf4YODrmNNzLuv8MFRCkUEtGrtOlIEB9bicaBQO10ZuT0tfytNcNB1AO1qwyNNcADW1LqO0Wr2L1Vw0HXkZzXHVxcN4fEpVXAAM3iHh/Xnvz6/nH7G0z9P//7OdqT2nthSrh0ZFbYzEss6nflOkl4z62ZvH1MGRyl+i7JlLAmQc2qhcbPSHZ77fX365+nf34//ZwYeg9s7hgTINuva7B33mWtHpUbSXuOYHYQjPi9beK9CZTHP9F9wZNz5WQvR6m12iDMeM9aP0hrlbfWCbovFslBqFqTCObUVi29gWmy3UmiUcneN4yZKwtewHnTVC3ePRm1n5PF8pBLOR9RCo5SNjuP1+SVleETV031YzaNlR5Sp9kasJcXQKGWj4ygl1+TdRDiyXHG0H9G/VzB7+2cvytr9Uw2NUnaCo5R84ZGpvVam1Bmd8VyY0R+OvExwlEJ4zBThpc5RFqmi3bsqXOuox5j9wTjklvYLYF44imEFh8HBImhz5deFQGR0HIYIEGR1GhyZCt/z6n2mccyA+ehDxzERAYIsCA4HBAiiuxQcFLkNAgRR0XEIIDwQDcEhgu4DkRAcYggPREBwCCI8oI7gEEV4QBnBIYzwgCqCQxzhAUWXgoOfSCMbaroPHUcAdB1QQ3AEQXhAyWlw0NLpIDygYrkXMr19vLMAg6mdLw529pYLjuiyP9d0RKhv/Y3MY+bhMDgYbE2ZwmNW93f/OVnGztNucGQeXE5XfHmP/f07Xr23Japl3uS2JXrRRJonxbF+HD/FbVT19Ovnj80XMq0icrFECA7l8Y3+NjVPywdHKbELRTU8oozp0fhF2QcP3FUpnOuOlGkc70Ml036NQMfxIGKBKHQdEcetlLaxi7qvI9FxPKD7qLfaeG2FzWpjQHBsuBXGasXQgjH6tNq1Ek5VLogw8Z5vqYtu9thlGDM6jgu4SLaNsWiToaPlZ/WV3j7eJS5Geotc9Coi1xLB0Uht0lnIcSnV0VUER6eIk94rW0gp7E+0OiI4BlDrPhBTpBoiOAaKNPHQFKWGCI7BsncfCm19dhHqh+AwEmHy8QeBWIfgMER4oJV67RAcwP+pdR3K4UFwGFOefKAVwTEB4YFWqrVDcExiXQCqBRaN2umKKoIDEKd4UCA4JrIqAMXCioyu4xzBMdnoRT47NAgpH2rjTnA4GFUEasWUCV3HMYLDSe9X0z1Dg8DyoTTuPDpQyNlRTqlwSlnjqKw25qVojPv/ABMBY7mfVLteAAAAAElFTkSuQmCC\" id=\"image4642eb1a6c\" transform=\"matrix(0.440741 0 0 -0.440741 145.53 125.28)\" style=\"image-rendering:crisp-edges;image-rendering:pixelated\" width=\"270\" height=\"270\"/>\n",
       "   </g>\n",
       "  </g>\n",
       "  <g id=\"axes_3\">\n",
       "   <g clip-path=\"url(#p54c77b82cb)\">\n",
       "    <image xlink:href=\"data:image/png;base64,\n",
       "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\" id=\"image97e5cd7713\" transform=\"matrix(0.440741 0 0 -0.440741 283.86 125.28)\" style=\"image-rendering:crisp-edges;image-rendering:pixelated\" width=\"270\" height=\"270\"/>\n",
       "   </g>\n",
       "  </g>\n",
       "  <g id=\"axes_4\">\n",
       "   <g clip-path=\"url(#p73b307298d)\">\n",
       "    <image xlink:href=\"data:image/png;base64,\n",
       "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\" id=\"imagee298cbb02f\" transform=\"matrix(0.440741 0 0 -0.440741 422.19 125.28)\" style=\"image-rendering:crisp-edges;image-rendering:pixelated\" width=\"270\" height=\"270\"/>\n",
       "   </g>\n",
       "  </g>\n",
       " </g>\n",
       " <defs>\n",
       "  <clipPath id=\"p88fd8c521d\">\n",
       "   <rect x=\"7.2\" y=\"7.2\" width=\"118.08\" height=\"118.08\"/>\n",
       "  </clipPath>\n",
       "  <clipPath id=\"p3c6a920e7c\">\n",
       "   <rect x=\"145.53\" y=\"7.2\" width=\"118.08\" height=\"118.08\"/>\n",
       "  </clipPath>\n",
       "  <clipPath id=\"p54c77b82cb\">\n",
       "   <rect x=\"283.86\" y=\"7.2\" width=\"118.08\" height=\"118.08\"/>\n",
       "  </clipPath>\n",
       "  <clipPath id=\"p73b307298d\">\n",
       "   <rect x=\"422.19\" y=\"7.2\" width=\"118.08\" height=\"118.08\"/>\n",
       "  </clipPath>\n",
       " </defs>\n",
       "</svg>\n"
      ],
      "text/plain": [
       "<Figure size 800x200 with 4 Axes>"
      ]
     },
     "metadata": {},
     "output_type": "display_data"
    }
   ],
   "source": [
    "fig, ax = plt.subplots(1, 4, figsize=[8, 2])\n",
    "for i, s in enumerate(slices):\n",
    "    ax[i].imshow(im[s], origin='lower')\n",
    "    ax[i].axis(False);"
   ]
  }
 ],
 "metadata": {
  "kernelspec": {
   "display_name": "Python 3 (ipykernel)",
   "language": "python",
   "name": "python3"
  },
  "language_info": {
   "codemirror_mode": {
    "name": "ipython",
    "version": 3
   },
   "file_extension": ".py",
   "mimetype": "text/x-python",
   "name": "python",
   "nbconvert_exporter": "python",
   "pygments_lexer": "ipython3",
   "version": "3.8.13"
  }
 },
 "nbformat": 4,
 "nbformat_minor": 5
}

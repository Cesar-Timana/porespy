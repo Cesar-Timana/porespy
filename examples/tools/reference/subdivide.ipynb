{
 "cells": [
  {
   "cell_type": "markdown",
   "id": "76acccd3",
   "metadata": {},
   "source": [
    "# `subdivide`"
   ]
  },
  {
   "cell_type": "markdown",
   "id": "c6b5700f",
   "metadata": {},
   "source": [
    "## Import packages"
   ]
  },
  {
   "cell_type": "code",
   "execution_count": 1,
   "id": "4aa71432",
   "metadata": {
    "execution": {
     "iopub.execute_input": "2022-08-23T00:37:15.769582Z",
     "iopub.status.busy": "2022-08-23T00:37:15.769317Z",
     "iopub.status.idle": "2022-08-23T00:37:17.617190Z",
     "shell.execute_reply": "2022-08-23T00:37:17.616460Z"
    }
   },
   "outputs": [],
   "source": [
    "import numpy as np\n",
    "import porespy as ps\n",
    "import scipy.ndimage as spim\n",
    "import matplotlib.pyplot as plt\n",
    "import skimage\n",
    "\n",
    "np.random.rand(0)\n",
    "ps.visualization.set_mpl_style()"
   ]
  },
  {
   "cell_type": "markdown",
   "id": "be0cb230",
   "metadata": {},
   "source": [
    "## Create image and variables"
   ]
  },
  {
   "cell_type": "code",
   "execution_count": 2,
   "id": "9b8c0fbb",
   "metadata": {
    "execution": {
     "iopub.execute_input": "2022-08-23T00:37:17.622028Z",
     "iopub.status.busy": "2022-08-23T00:37:17.620733Z",
     "iopub.status.idle": "2022-08-23T00:37:17.763018Z",
     "shell.execute_reply": "2022-08-23T00:37:17.762386Z"
    }
   },
   "outputs": [
    {
     "data": {
      "image/svg+xml": [
       "<?xml version=\"1.0\" encoding=\"utf-8\" standalone=\"no\"?>\n",
       "<!DOCTYPE svg PUBLIC \"-//W3C//DTD SVG 1.1//EN\"\n",
       "  \"http://www.w3.org/Graphics/SVG/1.1/DTD/svg11.dtd\">\n",
       "<svg xmlns:xlink=\"http://www.w3.org/1999/xlink\" width=\"276.48pt\" height=\"276.48pt\" viewBox=\"0 0 276.48 276.48\" xmlns=\"http://www.w3.org/2000/svg\" version=\"1.1\">\n",
       " <metadata>\n",
       "  <rdf:RDF xmlns:dc=\"http://purl.org/dc/elements/1.1/\" xmlns:cc=\"http://creativecommons.org/ns#\" xmlns:rdf=\"http://www.w3.org/1999/02/22-rdf-syntax-ns#\">\n",
       "   <cc:Work>\n",
       "    <dc:type rdf:resource=\"http://purl.org/dc/dcmitype/StillImage\"/>\n",
       "    <dc:date>2022-08-23T00:37:17.718629</dc:date>\n",
       "    <dc:format>image/svg+xml</dc:format>\n",
       "    <dc:creator>\n",
       "     <cc:Agent>\n",
       "      <dc:title>Matplotlib v3.5.3, https://matplotlib.org/</dc:title>\n",
       "     </cc:Agent>\n",
       "    </dc:creator>\n",
       "   </cc:Work>\n",
       "  </rdf:RDF>\n",
       " </metadata>\n",
       " <defs>\n",
       "  <style type=\"text/css\">*{stroke-linejoin: round; stroke-linecap: butt}</style>\n",
       " </defs>\n",
       " <g id=\"figure_1\">\n",
       "  <g id=\"patch_1\">\n",
       "   <path d=\"M 0 276.48 \n",
       "L 276.48 276.48 \n",
       "L 276.48 0 \n",
       "L 0 0 \n",
       "z\n",
       "\" style=\"fill: #ffffff\"/>\n",
       "  </g>\n",
       "  <g id=\"axes_1\">\n",
       "   <g clip-path=\"url(#p71ef1eec32)\">\n",
       "    <image xlink:href=\"data:image/png;base64,\n",
       "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\" id=\"image90d6ff1ff1\" transform=\"matrix(0.526 0 0 -0.526 7.2 269.28)\" style=\"image-rendering:crisp-edges;image-rendering:pixelated\" width=\"500\" height=\"500\"/>\n",
       "   </g>\n",
       "  </g>\n",
       " </g>\n",
       " <defs>\n",
       "  <clipPath id=\"p71ef1eec32\">\n",
       "   <rect x=\"7.2\" y=\"7.2\" width=\"262.08\" height=\"262.08\"/>\n",
       "  </clipPath>\n",
       " </defs>\n",
       "</svg>\n"
      ],
      "text/plain": [
       "<Figure size 400x400 with 1 Axes>"
      ]
     },
     "metadata": {},
     "output_type": "display_data"
    }
   ],
   "source": [
    "im = ps.generators.blobs([500, 500])\n",
    "fig, ax = plt.subplots(1, 1, figsize=[4, 4])\n",
    "ax.axis(False)\n",
    "ax.imshow(im, origin='lower');"
   ]
  },
  {
   "cell_type": "markdown",
   "id": "6e9cb6b9",
   "metadata": {},
   "source": [
    "## Apply tool\n",
    "``slice`` objects are returned:"
   ]
  },
  {
   "cell_type": "code",
   "execution_count": 3,
   "id": "c0497eed",
   "metadata": {
    "execution": {
     "iopub.execute_input": "2022-08-23T00:37:17.766212Z",
     "iopub.status.busy": "2022-08-23T00:37:17.765669Z",
     "iopub.status.idle": "2022-08-23T00:37:17.770032Z",
     "shell.execute_reply": "2022-08-23T00:37:17.769418Z"
    }
   },
   "outputs": [
    {
     "name": "stdout",
     "output_type": "stream",
     "text": [
      "[(slice(0, 270, None), slice(0, 270, None)), (slice(0, 270, None), slice(230, 500, None)), (slice(230, 500, None), slice(0, 270, None)), (slice(230, 500, None), slice(230, 500, None))]\n"
     ]
    }
   ],
   "source": [
    "slices = ps.tools.subdivide(im=im, divs=2, overlap=20)\n",
    "print(slices)"
   ]
  },
  {
   "cell_type": "code",
   "execution_count": 4,
   "id": "f4c49c48",
   "metadata": {
    "execution": {
     "iopub.execute_input": "2022-08-23T00:37:17.773384Z",
     "iopub.status.busy": "2022-08-23T00:37:17.773049Z",
     "iopub.status.idle": "2022-08-23T00:37:17.938970Z",
     "shell.execute_reply": "2022-08-23T00:37:17.934274Z"
    }
   },
   "outputs": [
    {
     "data": {
      "image/svg+xml": [
       "<?xml version=\"1.0\" encoding=\"utf-8\" standalone=\"no\"?>\n",
       "<!DOCTYPE svg PUBLIC \"-//W3C//DTD SVG 1.1//EN\"\n",
       "  \"http://www.w3.org/Graphics/SVG/1.1/DTD/svg11.dtd\">\n",
       "<svg xmlns:xlink=\"http://www.w3.org/1999/xlink\" width=\"547.47pt\" height=\"132.48pt\" viewBox=\"0 0 547.47 132.48\" xmlns=\"http://www.w3.org/2000/svg\" version=\"1.1\">\n",
       " <metadata>\n",
       "  <rdf:RDF xmlns:dc=\"http://purl.org/dc/elements/1.1/\" xmlns:cc=\"http://creativecommons.org/ns#\" xmlns:rdf=\"http://www.w3.org/1999/02/22-rdf-syntax-ns#\">\n",
       "   <cc:Work>\n",
       "    <dc:type rdf:resource=\"http://purl.org/dc/dcmitype/StillImage\"/>\n",
       "    <dc:date>2022-08-23T00:37:17.888707</dc:date>\n",
       "    <dc:format>image/svg+xml</dc:format>\n",
       "    <dc:creator>\n",
       "     <cc:Agent>\n",
       "      <dc:title>Matplotlib v3.5.3, https://matplotlib.org/</dc:title>\n",
       "     </cc:Agent>\n",
       "    </dc:creator>\n",
       "   </cc:Work>\n",
       "  </rdf:RDF>\n",
       " </metadata>\n",
       " <defs>\n",
       "  <style type=\"text/css\">*{stroke-linejoin: round; stroke-linecap: butt}</style>\n",
       " </defs>\n",
       " <g id=\"figure_1\">\n",
       "  <g id=\"patch_1\">\n",
       "   <path d=\"M 0 132.48 \n",
       "L 547.47 132.48 \n",
       "L 547.47 0 \n",
       "L 0 0 \n",
       "z\n",
       "\" style=\"fill: #ffffff\"/>\n",
       "  </g>\n",
       "  <g id=\"axes_1\">\n",
       "   <g clip-path=\"url(#pc4c8c2d235)\">\n",
       "    <image xlink:href=\"data:image/png;base64,\n",
       "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\" id=\"image8ac67b54d6\" transform=\"matrix(0.440741 0 0 -0.440741 7.2 125.28)\" style=\"image-rendering:crisp-edges;image-rendering:pixelated\" width=\"270\" height=\"270\"/>\n",
       "   </g>\n",
       "  </g>\n",
       "  <g id=\"axes_2\">\n",
       "   <g clip-path=\"url(#pad62941cff)\">\n",
       "    <image xlink:href=\"data:image/png;base64,\n",
       "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\" id=\"image299168a880\" transform=\"matrix(0.440741 0 0 -0.440741 145.53 125.28)\" style=\"image-rendering:crisp-edges;image-rendering:pixelated\" width=\"270\" height=\"270\"/>\n",
       "   </g>\n",
       "  </g>\n",
       "  <g id=\"axes_3\">\n",
       "   <g clip-path=\"url(#pc35992f9da)\">\n",
       "    <image xlink:href=\"data:image/png;base64,\n",
       "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\" id=\"image72fa6d3bc2\" transform=\"matrix(0.440741 0 0 -0.440741 283.86 125.28)\" style=\"image-rendering:crisp-edges;image-rendering:pixelated\" width=\"270\" height=\"270\"/>\n",
       "   </g>\n",
       "  </g>\n",
       "  <g id=\"axes_4\">\n",
       "   <g clip-path=\"url(#pce06bf5074)\">\n",
       "    <image xlink:href=\"data:image/png;base64,\n",
       "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\" id=\"imageab072110fb\" transform=\"matrix(0.440741 0 0 -0.440741 422.19 125.28)\" style=\"image-rendering:crisp-edges;image-rendering:pixelated\" width=\"270\" height=\"270\"/>\n",
       "   </g>\n",
       "  </g>\n",
       " </g>\n",
       " <defs>\n",
       "  <clipPath id=\"pc4c8c2d235\">\n",
       "   <rect x=\"7.2\" y=\"7.2\" width=\"118.08\" height=\"118.08\"/>\n",
       "  </clipPath>\n",
       "  <clipPath id=\"pad62941cff\">\n",
       "   <rect x=\"145.53\" y=\"7.2\" width=\"118.08\" height=\"118.08\"/>\n",
       "  </clipPath>\n",
       "  <clipPath id=\"pc35992f9da\">\n",
       "   <rect x=\"283.86\" y=\"7.2\" width=\"118.08\" height=\"118.08\"/>\n",
       "  </clipPath>\n",
       "  <clipPath id=\"pce06bf5074\">\n",
       "   <rect x=\"422.19\" y=\"7.2\" width=\"118.08\" height=\"118.08\"/>\n",
       "  </clipPath>\n",
       " </defs>\n",
       "</svg>\n"
      ],
      "text/plain": [
       "<Figure size 800x200 with 4 Axes>"
      ]
     },
     "metadata": {},
     "output_type": "display_data"
    }
   ],
   "source": [
    "fig, ax = plt.subplots(1, 4, figsize=[8, 2])\n",
    "for i, s in enumerate(slices):\n",
    "    ax[i].imshow(im[s], origin='lower')\n",
    "    ax[i].axis(False);"
   ]
  }
 ],
 "metadata": {
  "kernelspec": {
   "display_name": "Python 3 (ipykernel)",
   "language": "python",
   "name": "python3"
  },
  "language_info": {
   "codemirror_mode": {
    "name": "ipython",
    "version": 3
   },
   "file_extension": ".py",
   "mimetype": "text/x-python",
   "name": "python",
   "nbconvert_exporter": "python",
   "pygments_lexer": "ipython3",
   "version": "3.8.13"
  }
 },
 "nbformat": 4,
 "nbformat_minor": 5
}

{
 "cells": [
  {
   "cell_type": "markdown",
   "id": "76acccd3",
   "metadata": {},
   "source": [
    "# `subdivide`"
   ]
  },
  {
   "cell_type": "markdown",
   "id": "c6b5700f",
   "metadata": {},
   "source": [
    "## Import packages"
   ]
  },
  {
   "cell_type": "code",
   "execution_count": 1,
   "id": "4aa71432",
   "metadata": {
    "execution": {
     "iopub.execute_input": "2022-08-23T00:45:35.293974Z",
     "iopub.status.busy": "2022-08-23T00:45:35.293706Z",
     "iopub.status.idle": "2022-08-23T00:45:37.161320Z",
     "shell.execute_reply": "2022-08-23T00:45:37.160707Z"
    }
   },
   "outputs": [],
   "source": [
    "import numpy as np\n",
    "import porespy as ps\n",
    "import scipy.ndimage as spim\n",
    "import matplotlib.pyplot as plt\n",
    "import skimage\n",
    "\n",
    "np.random.rand(0)\n",
    "ps.visualization.set_mpl_style()"
   ]
  },
  {
   "cell_type": "markdown",
   "id": "be0cb230",
   "metadata": {},
   "source": [
    "## Create image and variables"
   ]
  },
  {
   "cell_type": "code",
   "execution_count": 2,
   "id": "9b8c0fbb",
   "metadata": {
    "execution": {
     "iopub.execute_input": "2022-08-23T00:45:37.166430Z",
     "iopub.status.busy": "2022-08-23T00:45:37.165132Z",
     "iopub.status.idle": "2022-08-23T00:45:37.286953Z",
     "shell.execute_reply": "2022-08-23T00:45:37.286373Z"
    }
   },
   "outputs": [
    {
     "data": {
      "image/svg+xml": [
       "<?xml version=\"1.0\" encoding=\"utf-8\" standalone=\"no\"?>\n",
       "<!DOCTYPE svg PUBLIC \"-//W3C//DTD SVG 1.1//EN\"\n",
       "  \"http://www.w3.org/Graphics/SVG/1.1/DTD/svg11.dtd\">\n",
       "<svg xmlns:xlink=\"http://www.w3.org/1999/xlink\" width=\"276.48pt\" height=\"276.48pt\" viewBox=\"0 0 276.48 276.48\" xmlns=\"http://www.w3.org/2000/svg\" version=\"1.1\">\n",
       " <metadata>\n",
       "  <rdf:RDF xmlns:dc=\"http://purl.org/dc/elements/1.1/\" xmlns:cc=\"http://creativecommons.org/ns#\" xmlns:rdf=\"http://www.w3.org/1999/02/22-rdf-syntax-ns#\">\n",
       "   <cc:Work>\n",
       "    <dc:type rdf:resource=\"http://purl.org/dc/dcmitype/StillImage\"/>\n",
       "    <dc:date>2022-08-23T00:45:37.262415</dc:date>\n",
       "    <dc:format>image/svg+xml</dc:format>\n",
       "    <dc:creator>\n",
       "     <cc:Agent>\n",
       "      <dc:title>Matplotlib v3.5.3, https://matplotlib.org/</dc:title>\n",
       "     </cc:Agent>\n",
       "    </dc:creator>\n",
       "   </cc:Work>\n",
       "  </rdf:RDF>\n",
       " </metadata>\n",
       " <defs>\n",
       "  <style type=\"text/css\">*{stroke-linejoin: round; stroke-linecap: butt}</style>\n",
       " </defs>\n",
       " <g id=\"figure_1\">\n",
       "  <g id=\"patch_1\">\n",
       "   <path d=\"M 0 276.48 \n",
       "L 276.48 276.48 \n",
       "L 276.48 0 \n",
       "L 0 0 \n",
       "z\n",
       "\" style=\"fill: #ffffff\"/>\n",
       "  </g>\n",
       "  <g id=\"axes_1\">\n",
       "   <g clip-path=\"url(#pb41eaa05fa)\">\n",
       "    <image xlink:href=\"data:image/png;base64,\n",
       "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\" id=\"image69134696f1\" transform=\"matrix(0.526 0 0 -0.526 7.2 269.28)\" style=\"image-rendering:crisp-edges;image-rendering:pixelated\" width=\"500\" height=\"500\"/>\n",
       "   </g>\n",
       "  </g>\n",
       " </g>\n",
       " <defs>\n",
       "  <clipPath id=\"pb41eaa05fa\">\n",
       "   <rect x=\"7.2\" y=\"7.2\" width=\"262.08\" height=\"262.08\"/>\n",
       "  </clipPath>\n",
       " </defs>\n",
       "</svg>\n"
      ],
      "text/plain": [
       "<Figure size 400x400 with 1 Axes>"
      ]
     },
     "metadata": {},
     "output_type": "display_data"
    }
   ],
   "source": [
    "im = ps.generators.blobs([500, 500])\n",
    "fig, ax = plt.subplots(1, 1, figsize=[4, 4])\n",
    "ax.axis(False)\n",
    "ax.imshow(im, origin='lower');"
   ]
  },
  {
   "cell_type": "markdown",
   "id": "6e9cb6b9",
   "metadata": {},
   "source": [
    "## Apply tool\n",
    "``slice`` objects are returned:"
   ]
  },
  {
   "cell_type": "code",
   "execution_count": 3,
   "id": "c0497eed",
   "metadata": {
    "execution": {
     "iopub.execute_input": "2022-08-23T00:45:37.290501Z",
     "iopub.status.busy": "2022-08-23T00:45:37.290273Z",
     "iopub.status.idle": "2022-08-23T00:45:37.295749Z",
     "shell.execute_reply": "2022-08-23T00:45:37.295092Z"
    }
   },
   "outputs": [
    {
     "name": "stdout",
     "output_type": "stream",
     "text": [
      "[(slice(0, 270, None), slice(0, 270, None)), (slice(0, 270, None), slice(230, 500, None)), (slice(230, 500, None), slice(0, 270, None)), (slice(230, 500, None), slice(230, 500, None))]\n"
     ]
    }
   ],
   "source": [
    "slices = ps.tools.subdivide(im=im, divs=2, overlap=20)\n",
    "print(slices)"
   ]
  },
  {
   "cell_type": "code",
   "execution_count": 4,
   "id": "f4c49c48",
   "metadata": {
    "execution": {
     "iopub.execute_input": "2022-08-23T00:45:37.298756Z",
     "iopub.status.busy": "2022-08-23T00:45:37.298537Z",
     "iopub.status.idle": "2022-08-23T00:45:37.475700Z",
     "shell.execute_reply": "2022-08-23T00:45:37.474676Z"
    }
   },
   "outputs": [
    {
     "data": {
      "image/svg+xml": [
       "<?xml version=\"1.0\" encoding=\"utf-8\" standalone=\"no\"?>\n",
       "<!DOCTYPE svg PUBLIC \"-//W3C//DTD SVG 1.1//EN\"\n",
       "  \"http://www.w3.org/Graphics/SVG/1.1/DTD/svg11.dtd\">\n",
       "<svg xmlns:xlink=\"http://www.w3.org/1999/xlink\" width=\"547.47pt\" height=\"132.48pt\" viewBox=\"0 0 547.47 132.48\" xmlns=\"http://www.w3.org/2000/svg\" version=\"1.1\">\n",
       " <metadata>\n",
       "  <rdf:RDF xmlns:dc=\"http://purl.org/dc/elements/1.1/\" xmlns:cc=\"http://creativecommons.org/ns#\" xmlns:rdf=\"http://www.w3.org/1999/02/22-rdf-syntax-ns#\">\n",
       "   <cc:Work>\n",
       "    <dc:type rdf:resource=\"http://purl.org/dc/dcmitype/StillImage\"/>\n",
       "    <dc:date>2022-08-23T00:45:37.425135</dc:date>\n",
       "    <dc:format>image/svg+xml</dc:format>\n",
       "    <dc:creator>\n",
       "     <cc:Agent>\n",
       "      <dc:title>Matplotlib v3.5.3, https://matplotlib.org/</dc:title>\n",
       "     </cc:Agent>\n",
       "    </dc:creator>\n",
       "   </cc:Work>\n",
       "  </rdf:RDF>\n",
       " </metadata>\n",
       " <defs>\n",
       "  <style type=\"text/css\">*{stroke-linejoin: round; stroke-linecap: butt}</style>\n",
       " </defs>\n",
       " <g id=\"figure_1\">\n",
       "  <g id=\"patch_1\">\n",
       "   <path d=\"M 0 132.48 \n",
       "L 547.47 132.48 \n",
       "L 547.47 0 \n",
       "L 0 0 \n",
       "z\n",
       "\" style=\"fill: #ffffff\"/>\n",
       "  </g>\n",
       "  <g id=\"axes_1\">\n",
       "   <g clip-path=\"url(#p34a83319ff)\">\n",
       "    <image xlink:href=\"data:image/png;base64,\n",
       "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\" id=\"imagee489284286\" transform=\"matrix(0.440741 0 0 -0.440741 7.2 125.28)\" style=\"image-rendering:crisp-edges;image-rendering:pixelated\" width=\"270\" height=\"270\"/>\n",
       "   </g>\n",
       "  </g>\n",
       "  <g id=\"axes_2\">\n",
       "   <g clip-path=\"url(#p7fdb50a09d)\">\n",
       "    <image xlink:href=\"data:image/png;base64,\n",
       "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\" id=\"image355c0d56d0\" transform=\"matrix(0.440741 0 0 -0.440741 145.53 125.28)\" style=\"image-rendering:crisp-edges;image-rendering:pixelated\" width=\"270\" height=\"270\"/>\n",
       "   </g>\n",
       "  </g>\n",
       "  <g id=\"axes_3\">\n",
       "   <g clip-path=\"url(#pd5296d0610)\">\n",
       "    <image xlink:href=\"data:image/png;base64,\n",
       "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\" id=\"image5f9a55d2c1\" transform=\"matrix(0.440741 0 0 -0.440741 283.86 125.28)\" style=\"image-rendering:crisp-edges;image-rendering:pixelated\" width=\"270\" height=\"270\"/>\n",
       "   </g>\n",
       "  </g>\n",
       "  <g id=\"axes_4\">\n",
       "   <g clip-path=\"url(#p4548a59d9b)\">\n",
       "    <image xlink:href=\"data:image/png;base64,\n",
       "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\" id=\"imagec5ddc8d738\" transform=\"matrix(0.440741 0 0 -0.440741 422.19 125.28)\" style=\"image-rendering:crisp-edges;image-rendering:pixelated\" width=\"270\" height=\"270\"/>\n",
       "   </g>\n",
       "  </g>\n",
       " </g>\n",
       " <defs>\n",
       "  <clipPath id=\"p34a83319ff\">\n",
       "   <rect x=\"7.2\" y=\"7.2\" width=\"118.08\" height=\"118.08\"/>\n",
       "  </clipPath>\n",
       "  <clipPath id=\"p7fdb50a09d\">\n",
       "   <rect x=\"145.53\" y=\"7.2\" width=\"118.08\" height=\"118.08\"/>\n",
       "  </clipPath>\n",
       "  <clipPath id=\"pd5296d0610\">\n",
       "   <rect x=\"283.86\" y=\"7.2\" width=\"118.08\" height=\"118.08\"/>\n",
       "  </clipPath>\n",
       "  <clipPath id=\"p4548a59d9b\">\n",
       "   <rect x=\"422.19\" y=\"7.2\" width=\"118.08\" height=\"118.08\"/>\n",
       "  </clipPath>\n",
       " </defs>\n",
       "</svg>\n"
      ],
      "text/plain": [
       "<Figure size 800x200 with 4 Axes>"
      ]
     },
     "metadata": {},
     "output_type": "display_data"
    }
   ],
   "source": [
    "fig, ax = plt.subplots(1, 4, figsize=[8, 2])\n",
    "for i, s in enumerate(slices):\n",
    "    ax[i].imshow(im[s], origin='lower')\n",
    "    ax[i].axis(False);"
   ]
  }
 ],
 "metadata": {
  "kernelspec": {
   "display_name": "Python 3 (ipykernel)",
   "language": "python",
   "name": "python3"
  },
  "language_info": {
   "codemirror_mode": {
    "name": "ipython",
    "version": 3
   },
   "file_extension": ".py",
   "mimetype": "text/x-python",
   "name": "python",
   "nbconvert_exporter": "python",
   "pygments_lexer": "ipython3",
   "version": "3.8.13"
  }
 },
 "nbformat": 4,
 "nbformat_minor": 5
}

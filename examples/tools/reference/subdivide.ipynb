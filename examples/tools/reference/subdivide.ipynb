{
 "cells": [
  {
   "cell_type": "markdown",
   "id": "76acccd3",
   "metadata": {},
   "source": [
    "# `subdivide`"
   ]
  },
  {
   "cell_type": "markdown",
   "id": "c6b5700f",
   "metadata": {},
   "source": [
    "## Import packages"
   ]
  },
  {
   "cell_type": "code",
   "execution_count": 1,
   "id": "4aa71432",
   "metadata": {
    "execution": {
     "iopub.execute_input": "2022-08-22T18:50:34.792485Z",
     "iopub.status.busy": "2022-08-22T18:50:34.791841Z",
     "iopub.status.idle": "2022-08-22T18:50:36.773038Z",
     "shell.execute_reply": "2022-08-22T18:50:36.772344Z"
    }
   },
   "outputs": [],
   "source": [
    "import numpy as np\n",
    "import porespy as ps\n",
    "import scipy.ndimage as spim\n",
    "import matplotlib.pyplot as plt\n",
    "import skimage\n",
    "\n",
    "np.random.rand(0)\n",
    "ps.visualization.set_mpl_style()"
   ]
  },
  {
   "cell_type": "markdown",
   "id": "be0cb230",
   "metadata": {},
   "source": [
    "## Create image and variables"
   ]
  },
  {
   "cell_type": "code",
   "execution_count": 2,
   "id": "9b8c0fbb",
   "metadata": {
    "execution": {
     "iopub.execute_input": "2022-08-22T18:50:36.778624Z",
     "iopub.status.busy": "2022-08-22T18:50:36.777245Z",
     "iopub.status.idle": "2022-08-22T18:50:36.897094Z",
     "shell.execute_reply": "2022-08-22T18:50:36.896530Z"
    }
   },
   "outputs": [
    {
     "data": {
      "image/svg+xml": [
       "<?xml version=\"1.0\" encoding=\"utf-8\" standalone=\"no\"?>\n",
       "<!DOCTYPE svg PUBLIC \"-//W3C//DTD SVG 1.1//EN\"\n",
       "  \"http://www.w3.org/Graphics/SVG/1.1/DTD/svg11.dtd\">\n",
       "<svg xmlns:xlink=\"http://www.w3.org/1999/xlink\" width=\"276.48pt\" height=\"276.48pt\" viewBox=\"0 0 276.48 276.48\" xmlns=\"http://www.w3.org/2000/svg\" version=\"1.1\">\n",
       " <metadata>\n",
       "  <rdf:RDF xmlns:dc=\"http://purl.org/dc/elements/1.1/\" xmlns:cc=\"http://creativecommons.org/ns#\" xmlns:rdf=\"http://www.w3.org/1999/02/22-rdf-syntax-ns#\">\n",
       "   <cc:Work>\n",
       "    <dc:type rdf:resource=\"http://purl.org/dc/dcmitype/StillImage\"/>\n",
       "    <dc:date>2022-08-22T18:50:36.871671</dc:date>\n",
       "    <dc:format>image/svg+xml</dc:format>\n",
       "    <dc:creator>\n",
       "     <cc:Agent>\n",
       "      <dc:title>Matplotlib v3.5.3, https://matplotlib.org/</dc:title>\n",
       "     </cc:Agent>\n",
       "    </dc:creator>\n",
       "   </cc:Work>\n",
       "  </rdf:RDF>\n",
       " </metadata>\n",
       " <defs>\n",
       "  <style type=\"text/css\">*{stroke-linejoin: round; stroke-linecap: butt}</style>\n",
       " </defs>\n",
       " <g id=\"figure_1\">\n",
       "  <g id=\"patch_1\">\n",
       "   <path d=\"M 0 276.48 \n",
       "L 276.48 276.48 \n",
       "L 276.48 0 \n",
       "L 0 0 \n",
       "z\n",
       "\" style=\"fill: #ffffff\"/>\n",
       "  </g>\n",
       "  <g id=\"axes_1\">\n",
       "   <g clip-path=\"url(#pe6540f7733)\">\n",
       "    <image xlink:href=\"data:image/png;base64,\n",
       "iVBORw0KGgoAAAANSUhEUgAAAfQAAAH0CAYAAADL1t+KAAAoGUlEQVR4nO3dy5HcSLKFYdS1loLrFoBC0IwKUNnSoqRgS9HGu6hBV1ZWPuLhHnHc/f/MZjEz3SQQ4eEHgUQiX368/PpzBPH6+233ITz189v33YfwSYQxwzu12tmJuvWlVGuZ53r1OP/f0r8NAIAiVl+sEOgAACQQJtAz35YBAGBWiEAnzAEAeEw+0AlzALBFX81JOtApunlKT7MCLVj3wBjZQGdRA4AflR7LpsOOXKC//n6TKbReFCYA4NLKPJMK9KhBDgAR0XNzkQl0CgsAfWA9xjyP7YEe+RZ7FHwUEAPrALtQe75Wje/WQKeIAABsOmxsCXR25QCghZ7sa8X4Lg90iga4r/L6qHzuKpiD2JYFOrvyvbilBaDFrl5doUd5j+uSQCfIgXYV10vFc1bHnMTjHugUBQDEtLp/s0uf4xrohDkwptLaqXSuEa2+BU+oj3MLdBYpMIc1BCUrg71CqHtwCXQaEWAj+1rKfn4Z8YCzDY8xNA90JhqwlbWBZjynSrzrssIu3XoMt7/6FUCbLMGe5TzwznM+K4T6cdhd3BLoQDBnA40UihGPGX0I9TkW4/fy4+XXn/lDeVd9saoXXvX5qWpXXVJvNXnVW6V6Gh1DAt2Ycqhnn59nY5/9/AEVhLqN3nHkljvC+/nte1Pht/5zAOZw+91G78dUpoFebbCx30jNUadAXBXXb2uws0M3pnpLSPW4Zsws7IpNAcii6vp99nDpX2sPB7BhsaB/fvue8kIHe92rzWq19vr7rWzwrnCrnsx36ExgvYW7mmWNUa+w8uwZDZ7hsMVYfuVyy52BhhdqC2p6g5oatsNYfsZn6E7YpQP5jQYKQWSHsfzgFugMMqxRU1AyW4/UM6y57tCrFyy7dCAnq95WvUdaYRzfud9yZ6BhgTqCCmpRE/Oy6DP0ygPNLl0b84NWXk+pV+6PsLXsoTiKFkBU9C9EsPQp96qLgl0gENOq745n7Y2re1/WcWy1/Gtr1QccOrjQwiP0KkSz5XvoLJT1GHPguXNHvmO9sEYxi3e5oyR25zURmshsW6DzwxhoRRPGCOqmpsrZwqtfF1BpLCrHAXiK/CMoUY9bSdUwP47NgU7xYofKCz47eooe1ts67NCd0WCANVhrqG57oGdehJnPLSp2Czmx1gCBQMdaND5kk62ms53Pcay7kK56wX4+N8LX1pxkXJQAAB3XOcMO3QFhDqzBWovDe/dcbXd+q/YJdJRRbcFnR5jjVG1t36t9At0YTcYW4wnk4RG81cL8EQIdQDhc6MVlGcAVw/xR7RPohmgythhPAPdUDPNntgc6kwKgBxd68c32fXLjNr62Bkk0bS2P5oPmihGvv9+613n1Wns2XgS6oZECxVdeYxjpV5iejcGq82iZi8t/xvu4WF+5nPWiUu/RbQ30jJNEqM+pPnat5+8doqPzcP57SscEfZf14llD2W3/DD0jCnFM9YY9E6JWY2f1Z1WfyxnV+8fr77fyYzDq5cfLrz87/uIKE6bY1FTHfeVYKY6B5fn3nt+KsZ8dc8W1ZE2xLqFF8jP0KoXb+vlQddXHx/r8W27Hrx7z0duoVWqjSk/EuJa1sGWHXrF4FRqT4rjvGheVsVCoC+yhUoOIoaVXLN2hVy5gduuf7R4HhSfed48B9thdd8hr2UNxFPG7XeOgNP4qQbbzOFTGAOvwsBe8ue/QKeCvVu7WlcZfMcR27NQVxwF+lNYgcnP7DJ0ibufV4FXmIEKArRirCOMAWyprELG19g7THTrFO8b6ZTQq8xApwHghCqyprEPUMRXoFKydW29KGv33d4scYJbBHnkcMEfh1bxKPQFrdN1yp0D2uLVoFecia4D1jHXWMUA7tY9vFHsF2vXM9d1ApwjQgyAD9ML8RD+PqXeu/2KiMYswR3XqfVThvQvwx4+zYAphjupWBiXrrY6Rueb30AGE9SxMvQMwUpizS49jdK4JdAAhtYTT7LdHZv5uRYS6vpk6JdABhDMSShbhvisMudVew+w8v/z7z99bfg8dedBssJJ1qD6rX4UdrfUaUzgnfGYxx+zQAZRGuGE3qws2nnLHNBoiVqlYax53wLirpsNyLgh0AAA2sL6wItBhouLOCWtRY7bYpe/lMf4EOszQcAFgHwIdpgh1eKCufLBL38Nr3Al0ACiMUM+DQIc5dlOwRD35I9RzINDhgiYMxPLz23eCfRGv/siLZeDm9fcbDQJTuDBcr3XNWs5NtFfxqiLQ4YpQB3JSWNfXx1A94LnlDnfVFxnGUDfoFeljA4/6JtCxBM0ZwCqRgt0SgY5lCHW0olZgQT3UreucQMdSNGo8Q418xnjMUQ91S8OBXvWWxijG6sPr7zeaFG6iLuBBuf9a1vzLv//8/aflH2wZEBbjV/fGjbF6p7zQsBZr4j7WyTz1+rKY44dfW+v9C85/Xn3gVmABtuFrbTgOegb8/fz2PX2dfdmhWzXX7AP3yI4XM2RAsNfEOniOtWFDvdZm5/nlx8uvplvuI9QHzwuBPo8GVgNroA3rwY56zc3MtetT7hWLsOecK45Pq/PBOR6gy4t5BWzx6leEcKv5c0H03KPQ3DV+BDl2Uv8sfea5IvdAVx88SwTMWpd1xdh/1rLmVo5flR4A7LRkh14p1LEH4f5hZK2d/47l2LHmgTGju3TXh+KuZV/gIxOQfUx2qxbuO3/Sklr2U62OV4hQr73zvvQzdHbqWM1j56nKem2xVjVUqF3Y+L/VTxFnfWVsxnPKJPvT8pnPDaiqd13/97W11V8Ryhrs0JY92AG0yZg/N7+HTrCvQbDsw9gDyObhi2W4FY/M2K1DHT3RV7bxffpQ3OqHii7/HpptTNF+ma/Sg3MA8mp+yn3Hr2IR7nGM/DKf2pwS7AAia/499NPuZqcWAqfRcVE9n2cq/Crf7lofoTye6BexBiNSXjc9NdD9PfTdv1/Nb67vU625XNfYvfO3rsWZcb7177JWgJh6e0H3Dn30L/Kg1Kiy7tBXzLP6GOzmMQeMeQwKfbYKtTUxMveuP5/qjSfj/TC2OjwazTm/zDHwLsNaGA50pauZyBOhduw7mrzaGFRDsAM6ZtZj6B36JYXP9SOjqWtbcQFNDaC63fU/+/dPBbrSLv049k/GqN0XI1HHDT6oB1S2q/4t/t40O/RT1Ga047iVxkrpWMB8AKtYbqqmA11tl34ca5uR5d8V9bgBIJMV/dHj7mi6HXp03oXELXa0ok72U9wwVeFV/549OG2gr7rC4s8FgJyswnfV10S73xSHNazfdR4hzBXf714dcwL0vaF0Z68dflPcNdXA8GpGq87X4vhV5+YWwuOxHXPJnOwXaQ1jn7S33LOYuU3D5+WwQA0BMXDLfcDOr5ip3/IBAOyRfoeeLdwe7brZkee36/Y3dbUXH3ughdkOfffPqq6ico4qxwFgjSo9FuPS79ARCw3rOXZrAG4h0DsQNgB24mIOj6QPdKsFQJhDyY7GzhrQQKjjHtNAp9CAdVhvAC6l/toau3Nkl/1BqXvnVv1iJvu8Y4zZm+JOKkVW7bWpmVRv1iNW1qjn/PSeR/VaoTfhknmgH8f+IiPMY6vepEdFeh3xpdnjpl7oU3iX7qE4Fnd8NKcxq2pf7denqBf6Ht6l+Qydgga0P1v1PC5+Fc537i/HVrW+4HTL/TjWTLr3AqZw96nenC3sXoP8Mtw+qz7GoEdqCbVDZ7EC7Vbs1mnoms5e2TM/I/115O+BH7cd+nHEf9glUpFmuyW2e+4zyVAPPaid267rgIeH85ELdKXFqF6k2X9KVakWMohcC72onbUq1ZYyiVvuLL4+PePFLTGclB+YAzBva6AT5P1GxyxisPPksr2IdQBtqrVU8cG+LYFOkx5jMW7s0nAc+YOdi8G6euc90/NHW762FmWhqUyu13ipnN8zUeoloyg1cgt140+tPqr/fseWV79GWmi7J3bFWO0+xxaRaiazCLVyibrxpVYP1Z/cN331q9WrHPFuVTOK0PSoLQ2vv99C1Av8ZV+PEWvdJNBptvFFKV7qTEOEWjkO6gXzotT6cUzcco/+0pgeFV9hGaER7h4jvKNW6lGd8+qvA+8KdOuTibLIVk+i0rioF/BJacwqUvs99gwP5apS7gnVnzm6GehRf1fZi1qz2kW5kE/K41eB0kV/podzlSj3gUg/Iezh5cfLL7dXv7aIsqh2/3KVEtViPkUZx8xUXvvcchzUSzvW/mdq47E90I8jxoIi0L9SK+Zr0cYT9rx/bawS9fV+HHvmUGlcTL+2NkppQO7xLpSIzUT9yfgIdQUd1Mt9jM19Sj1QItCj8Jo4pYIYEf34kVdvbfIV3K8Yj+dUeqBMoFctGpVCmKV6HlXrCnOom3eMQzuFHigT6McRo3gsJ02hACxlOx+govMuRYR+fEmh/+w+BonfQ78U4VeSLH6xTP0cgeoi9KIR0YI6mp2/aCm1Q49k5nfJMzaJU+ZzQz2Zwi/irjuqXX1QMtCjFF1POGcPcgC6ovTUTHb0e7lb7qdIt7uiHCeAfpF60S2E+T6rb79L7tABAPMI8/1WXgxKBzrFiFmRd1bQEbEXRTzmrFZ95Cod6MdBUQJAL/qmJu9Qlw/046A4MYbdOSx7B30IFjx36yECHehFmKOqihceEde7R7CHCfSKRYoxERc3YqAPwZplsIcJ9ONgMeExvuuP6uiRcVn0L9nvod8T/Tuh2e1qKNTE/bGvOjZetUgPgqfL2uqt4XCBfhwfJzm7qGiA8VWfq5YFb7VeoI3deT7nmm2d25CBfro8yUfNqrfQaYAxVJ6fkeZNXSOjCvXc+sa5lx8vv/74H05cFYrFyqodQuU5sRrjCmPoXY9KY1h5d640D96ezXOoh+KASov3kvUvZWX/5a3M54a6nvW/0LfcV+ABGA1V58A7mLgND+RBoMOEV/BUDJodu0uCvZ/KxT53I+p4NtcEOmQpNMuVFBozwR6LQs1gjZa5JtAhp1qYKDblyMGuOJ7AjNaa5qG4BjSIdSIGyKgID6ZFOMaddo4N81JDzzyzQ4eEakEejcrnxXgXsYbQr8Sb4pBLlaCI3oQj34bPJHodoc3IPHPLHVtVCYdMTVj5XJSPzUL288O70Xkm0LFNlTDPiGBZjzG/LdO4zD6zQqBjOX7mNIdMjXTGinFgrPOzmGMCHUsR5LkQNL74lkGb6GNkdfwEOkw8C2p25XlFb6aqGNc+EcfL+oKNQIeZe4FNkDMG6BMxnBREGTevOy98bQ2mCK77Wn/TOCK+p24jY308qguP81WvRc85ng7064HLWJCAFUId92Sri5Za8FoParW4am6bA711cC7/uWwFClg41wjrIwel4FChMCYeoa6+Zl9+vPz6c/k/eEyE+iC0UChQ5JRhfVzavVZWj6fF+WaqgZHx8Dz/2fmJNDd/rVh8GW4zqt3CQR7c1aot05xn65HR5mbZU+7ZJhrwcH69L/J6idYEZ0SeJ2uqYzFajxHrmK+tAaIyhDtqUK/RiOE8Ymmgq086oIpgb8c4rcV462CHDgRCsOtgHmys2j33/D1Rd/QEOhCQepjsboje46M+/qswDloI9A67mxRwiWaKnSLWX/YeTqADgUVsqqt4jQ1jbjcGOwL22d8ZOfQJdCA4Agbocy+0I4f5cRDoABKzvtiJfvFkcfzRx+B0Hd7Rw/w4Fgd6hgHLcA7IJ0uTVcYtfNtjVeil58+YKhyLBXboAFJjV/pBJbhUjiMbAh1IIkvoVFRp7ghzP9O/h97KexLvLYhIv7XLD8AAPmZ+IIo1iShS7NAfLbgob9Y6mw1Xr5gRodYjWTmeEeZupj9l+qxa1ZJAV5hE5WBXGB8An6n2i91G+hU9bg33QFebSLUXIlz/OTQRzKKG4ooyd639j135WiluufeKsmiAqBTXWM8xKR6/mkdf+SLI93B9KI4JfYzxgZeZh8Cyah2P3WEece6iHW9Wbjt09QnevWhvjc/uYwIAxFXylvtpNkBHL1rUL3aAbFhzqMAl0FcvnkiLNdKxIrZdd3zU7jRFXHNqY4gYSu/Qj4OFA2QWMcyBUeaBvmsB7fh7ey8GHh0jFxbIQKWOecoaFZkGetQFtKIJRR0bxFbtTWcWQc5aRVSpbrmvXIgKzQvAB4IY1ZkFuspiWvEDDJa32oEMdl7getxeZ80iolQ79FnPmpLn++BpIIho928ksG6ADyZvilNbVDM/Q2rdnNTGBrCy+2Mn77XFzxkjmrQ7dIIUeGcdSrt35ceRf31nPz/4mN6hKxceV9j++LW4OlTmdmXPoYcgkrQ79JPyBce1aMfKryzFMDsfCjvyE7UF3DcV6FEWV6WX3azQcl4Ee3xKQX4cedcTYCX9Dv0UpRkoHychXYdSkO9GzSOK4UCPWOQRj1kFvywXU+/4q+3KAbQrs0M/Rdhlqh2f2vHgud46Vw/y3TW4++8HWgwFeobiXvEd1p3/vhWV40CbkQtW5SAH0M7kxTJR8ZWU+wjyOGbmivoH8ujeoWdr9Mrnw9P5uOfciTNX6zDWUNe1Q89a0NY7dctxWnkXIev8ZsH8AHikOdCzN5Pz/BRvQXofW/a5jYy5QTTXfYoaXufl33/+/vPoH6g4GTPB6T1eqncS7lG8QIpg1bqLMj9KfWjFmCmdb49HYxP1nCL5tENnwN+N7ohXjN/l36F4fJjDHCGqlp+fpr59/cUA39cT7DvGkbnLg7nEpWjh17q5iHZeih6NdemvrbW694tiFOZjUW7n7kYdxcLXXecQ6n16aq3cm+Is8HWh52h4bagjVER/aNM7TgQ6sAEXhbHxQCm8jcw/gQ5zNKLHCPIcCPU5mc9t1ujY8Bk6sBBhnsuKz9MjfOZc4bmCnvPbNV8EOkxlX9Qz1JsyxqwK9VbUma2Rud314DSBDjOEOapS2qHuelNb7xioX3hYzOfqYOczdGAB1ealelwRqY7lyt+6z/Kwp/V49c7B6BgS6DChsjtRlKHBoY3yXK9co4+CXT30VXrZyBi9/Hj59fBd7kALlUWgRrlxnSLMXYRxvKQ8ptHGciXF9/TzYhkspdy8dqJx1qU896zX21THpeeOBoEOAA4I9TgijEdLPRHomBJhIeyg3MyxjnIdsHbfRRqHZ7t1Ah0wptzEsR71AGv3gp1Ax7BIV7a4j8DxpzrG1ddw9PM/g/38D4EOGFJt3AA0eF5EEOgAsIDqxV70XeqojOdNoANGVBs2gBoIdAzJeHVbGRcjqCRr/yLQAUjjYsNf1oCrhkAHDGQInQznAETgdQFFoAOQxUUG0I5AB/AfpQBVOpYKuO2+lsd4E+gAPlEIUoVjALxZ/lb96++34y+TPwmlcCWf389v37fMM0EOb4r96zymlvp/dPz8Hjq6KS6I3bIG0aq5zjp+l6KsG+YiLnboAO46m7tXA6wQHsAqfIaObjTheqzn/NnPQGKfrLvXCtihA5OqBNPsbr3KOAG7EOgAulwH872AJ8A/RNv1vv5+Y/4CItABTKHx50Sox0OgAwDctNydWH3hsOtrmd4IdABwFDk4er4ffevf8/578BlPuQMTaECooCWgz7eezVzAWL457ZmMa5cdOoZkvWUF4LaV653P78ewQwcG0XDwDBe94xi7fgQ6MIAwB/x5h3q2dUygAwCQAIGOYdmubgFL3DK2wS69HYEOdMrUAADkQaADAJAAX1vDlF1fX7u1S15xHOzOgXyyfA2XQEcILUGaZVEiPuoQO3DLHdO8dq3nb2b3/PnsoAFUxQ4dUghkABhDoMPEGcS9txojBXikYwVQD4EOUwqhx2fpACriM3QAgCyFTUIUBDoAAAlwyx3/ub5NzZXxB8YCWI9114dAx93Pmy//92gLi8/RAVTDLffiWkPv9fcbAQlgmWibCAUEemEjAR0p1K0aAo0lNi5G42HNjeGWO4CUrkP8/O+EhbYd85Plgo8dOrpFKn6ad02PajRS/VbS+5pnfMUOHXiABhNPS2C//n5jbkUwD/3ujRmBjvR44r2Onnkm1PdQG/MIvaF1zAh0DInWDEdCPdL5IUZjroY1NG5k7Ah0AOGNhnm0C1NljOMci/Ej0Aurdiu653xpTsBjGdaIQv+zHEcCHaW0/MxrhkZViUJTroT1Mc9rDAl0lHQr2GlU8ViEufVt96wXGNnWx+p5WjF+BDqGZfj8MfrxA94yrpGVYb5y/HixTHEZFytqyLoTVkJ/GLfjRTns0AGEYx3mVnebslxkZA5y7znaOXbs0DElSwMD8C5zmHtSeHUtgY7tRQj0UL2IVD2uHtl7gcccKQT5iUDHtAyNDDGo1prqcfVQCSUvXmGuhEDHcRx6hQmsNvO2ueiyr3/rOVLalV8i0GEiQ1ODNmrMh2IwKVMeLwIdZmi4qCZ6zSuHkxXLOVIfLwIdpqI3OGhaVVe9P78amXo4WagU5sdBoONChIIFdnv9/UaYB1AtzI+DQIeDDA0POlbX0qO/j7qGMt4UBzcZ3vVe2XV4VZrL69rNFOQV5rHi7vw4CHQ4I9Rj6dmdZp/XTCFeSeV545Y7PvFo0pUXWCS988RHK8gu2kUrgY4laP7aZubGc16pGVvRAqpX9Xoh0LFU9QWnyGJOuGDDbtQfgY4NaP46PH6G1FL2HSVsVHhPewsCHdsQ7Dkxp8AeBDq2I9j3YMyRAXX8gUCHjDPYWaDxMYdYwavOIt5uPw6+hw5RtxZq6yJrXeRRF201P7995wIBaECgIwyPB7gIdT+MLzxxkffV8kC/NwksfOxQNXSiNUN26Taq1nsVSwK9ZSGe/wzFBgB4hIu729wCfXTACfa9WChQxS4dx+HfoyJnj/lT7lZPKbNwsQq15ocXzeih3vMyC3S+bgRgBUIduM0k0L2CnAuEtRhvoIaoaz3qca8yHegMMIDV2KUDX00F+oow54JhDcYZ0fz89p1gnxBtzUc73h2GA53BzYO5RGSE+jjWfi5DgU4R5MFcwtuKGmO3Po4ekEeIH2eh4OzxrQRkRLCjsu4XyxACsTF/MVzOEwHV7xwz6r2N+ithmcc2IXbomMPPksZxa54yzNuuc2DH3i5DnVXHr60lxMLMR30HpY7XxqKCMDt0FuNz7MJjWzl3Oy4Odtcmu/Xnds+RgshjwA49gcgFqEChyVeZQ4U7DezWEUlPrRLogdGUcmAe1yPU49gxT7suPGfPNcwtd3xGM0JUKh8N7b5TAJys1gSBHpBCM4SNynOpcO6EOu7xrk+Pbx8R6MEoNEHY2D2XCmG2ewyOQ2MccNvu+oj2S6LdgU7x77O7uAEPCrfg6Wu4x7I2vWs91A5996LfqfK5e9rVyEfmM3sN7A52Qp0xuGe2NlfVdqhAryp7IwcuEeo4Ds2+1xPMO97QOfS1Nb7yAYxj7Ty38/vqVfsbFzPtVOuDHbo41cLJIOL3TCthp14X62TM8Itlql7FrsT4orrsO/VH55b9VcCwx5viRBHm+TCn8Vj9DOtIYK4Ke7UwZ52Mmwp0duk+GFN/q5sYczpO5f3v57H0/PNebv35vTW2e0xhjx26GBo/7qEB76c8B9fH9qiXqJ4H/W/OdKCzS0c07M7jUdilRxNtvFgn83jKXQgF7Y8wB/SwTmyYBPrKJpl14rOeV2XMKfAc68QOO3QBFPQa0W5B4jPWST7MqS0CfTMKeo0Mt9qpFWRCPdsze8qdh+P6MV5rZAhzD1GOE3NuzfPOu1XUnR++tobUCPNceNq93aNaPP8/nn/KhUDfhOL2xXvaH4t0rOjTM7fewU6drUWgb0CR+2JXjqpGa9Ei2FkH+5kGOp+jYyd25ajMohYv/4x764ma18UOfTEWgw925e0iHztu41sVOA6+trYUC8RHpTCf/bupQSCvkIFOU8Jp9VO61B7UUJM4hQx04DjWhblakM8++IQ8mFNc4jP0RVh4tlaEeaY5y3QuAG4z3aHTNLCKV62du3H1Wh75rjFyYV5xjR36Aiw8H9W/O9vy1rTI5wegT9hA5xWQOFUOrXsXNZXHpALmF7eEDXQAH6o0eC7igft4yh0AAqly8YZ+BLozFh9gg9058FjoW+58jh7brbnjAgi3sM6B50IHOuJ51pj5gR9cI8yBNmaBThP+ijH5QFPGCOoGu0T8Smj4HTq33fUxP+hFzcDbbI0pflU0fKCrUpjc3UYWDONWG0EOSyvr6fy7dvawFIE+uksfHfiIt2JWozGjB/WCGUr1s/M5oBSBfhxrX4NJYD+mtLigizrBDOX62RXqaQL9OL6+BpPgXU95kUEDNYIZUepnR6inCvQTQb7H7EJj3nKL0oihKWL9rA513hQHExEXG9b4+e079YEpketn5bGbBDo7q9oiLzb4ojbsVRpTLgb7sEPHFKvFxkVhLjRizMpUP6vOJeVn6PCXabHBFrWBWdTQGHbo6MZiwz3UxhpZxznznZ0V50Wgo4tHUXK7PYesjRhrUD/zCHQ0yXzlDESUZT1W6i3e58ln6HiqymLDOGoEvagZewT6YpHeA79iwSmdL8bQmPfZ+d7wHtTIGtOBHqGYVLQU9e6f5GPhAXiEHjHH8yKMHfoio4tgRcCzQDGK2tlvxS6deY6BQF/AcjHc+rNGFrPCAuXuDqBPoVegDYGeAAsOO1B3Orx26cyxj975ap2HqUBnh/UcC+I2agcAvprJDL6H7ogwR1bUth7rOWGO17L4Pv7wDp0dFgAllz2JMEIUlrXaHegEeRsayn3UUGyKtX1dU+d/VzzWCBg3X1712XzL/fX3G424EYvhPmoIK1WrN3pPbXd36NUWAoDnFAPjWa96/f0medyoyTNb/yK4bdE47qPW4CHK608BbzzlbogwR2aR65vAhwLvOiTQjURudivQULFblRqkF9XFm+LgblcjbW1sVRr9DEIC0McO3QDN7r4dvxbX+4IGixc6AJlwkevjss949BwCfRJBoMEilAn22zKNCUGFzAj0CZkanYcVzdMjhJnXD1HGIspxAp4bBwJ9EA3ksRW/z+w5B8wvquNuRjwE+gCa/V6rxr/6PFc/fyAaAr0Dn7G28byyZ/z9Ra3ziMesjl16LAR6I5rFfjvmoNq8VztfIJOXf//5+8/ug1BGg+vjdUW/ex4i7FTOMeo51t3j6uHZ+Wc852vW9VphzDLgxTJ3UMBQ01qT1O59jM0YfuAmBgL9CkWrp/KcVD73Ufd+rIWxnEOo6+OW+/9QqDYy3+pbedtd6bwjO+es2njyYGpNPBR3UKDQQj3aifrEvrIIz5NUVT7QWey2GM9xhA+iINQ1lQ906KoUbpXOFTkQ6npKBzpN1Afj2ofxQlSE+rjX32///cdK6UAHdiPMER2h3u96zKzGkECHC4ufMs2uwjlij9W1RajPs9itE+hwkymwaFjAY6yRNs/GaWYcCXS4yhTqlhgXZESo2xgdRwId7nrDi7AD4iLUbYzcgifQsQQh/YGxQHaEup2eYC//6lea61oRfwkr8+tsVY2MOeP6mUKoMidfzc7LozHlx1mw1KOf+GTx12IdOFXf266MH3Sxd7lurse2/A79OGgAuI/duY3Vu8Wq43xJYYd+iTl55zkv7NAPruwBa7vDhJ2hntE+y8cv7Qj0CzNNqGoBAafdIX6NC3VNK+rk+u+oUgPccjdWpXAq8Gg8GetDLchvyTjuLSLMzSpKNeA1L3xtzZj1y/YBZVFqPcpxwk+FGiDQnVQonszYnT8XrcajHS/sZa8BAt1R9uIBovG4g8Y6hwoeigOu0KCfiz5G1k9cV30IC2N+fvvusoYIdGd8fQbQ9eglHdf/f++fy7rHagT6AizuOKLvPDGON9chOj5DB9CFi54+jBdu8bjQ++veH0oRAoAN7tJhhbu33K+Lj4Cfw4LWR40DiKz5lvvPb9//+w+APqwbcMGIa9Z9YegzdMJ9DAtaF3ODFagzeJp+KI5gBwBgP7On3Al2RMWuCStRb/Bi/rU1gh2R0FyRFbUdg2Veun0PnWC/jUUGgD4AD+4vliHYoYqmOob1DGha9upXr5fRX/75z9DAcVpZCwQgbuHdFLC29F3uZ/FaNdPexWD99wOAInpcTVve5T5zG97iO/BcFde2utnRXAGssPXX1lpeL+sVvt4fATzCrbZ9CFco8egF1Hhuj+pF6udTV4fczlAHgOPgAr+6ZxnUUxvlfz6VhVQHF2/IjhrPY+Sj5fKBfhx7Qp2FtxbjDWUW9UmNx3NvzkYziUD/H3bq8ESzxTMzNUJ9xWMd5sdBoH+yOtRff7+xEBdQGWOV44CukZ5AXfVRGC+vY5B6KE7Bju+qr/i7uAOBljqjTjScc/VoPhSCCf085+3lx8uvP25/enBZF0ylpq04hyvHf/T8nx2j4rgCrXb1QO+LanboD2T9WtvlOVUKdxXeX1OyfMCK+gBsrMgSduiNMgb7payNW33eLMfd61xvHaP6uALPKN4pmz0mHoprlDXwTjygt4fVbpq5A0Cgd6jwU7CEw3ozY75rrrKvA+S3au2sXKME+oAKzYxQX+8M9pax58ILmOe9hlavUR6KG8RPscLTvQcXleot60OjQFTs0Cdl3q3TrDX07NwB9PFaVzvWK4EOYFjmC9pr5zM0FZ6lqUbhYtmipgh0PKRQ6NCWOdweBTjBnotlr9vVNwl0AyxqXcwNRvSENTWWR/QNDIEO4K5qoTa6685y/tgT6lb1Q6AjPZotnrG4fU6d5RF1p87X1gxEnXzAUtSvsVUKYn69rd3Mby70rAXL+iPQUULUsIGfCkHec468s/8r7x9Ssv6zCXQgiAgNN8KFU4UgPw6b81R9qdFKo6H+bC141CGfoaOMyI383rHz1al2VcbK6zyrjN8toxczj77y6CH8Dn3H5xQjfz8wqqV2I+yMd6kUQivOldde91tVg/KBblU0139OpUWOuHo/A1VosirHcRysc08Eu55tgb67CO79+AVyUwqbZzw+t6ui4predc7UnI4lga4+2efxVWwC0DRTi9UbbMV1vPucq9ecCteH4qL9QlTvsUY6N3zY3fyesX46eYedu0XsUfmhORVugR417KJdhHhjgcZlMXdR1kLlMFE7b7XjqcQl0KM0gUcynAPiUWyG6mtBccyqY072MA909cXf49m5ULSw5PXdYQuq67r6GlQ+f+Vjy4oXyzyh2sgwR63ZRHi9ZM9aWLFu1OYQX1X+KGQHAn1S5mLNfG4Y0/KMCWG+RqQxINjXkH+xjIJn7/LlKxuYEbHR3XqPQ/Ugpwc896xWWuaXcb6PQDdiGeo9TcuruJUbZyarxtnzonNVg6UmP0Qfi9n3LBwHwX6LaaBXH+DRQrMo7kvV5yGK6E15JcYK1wj2r0wDnVvP71p+cnDlQ1A9c0LjBBAJufOBW+7OFAKyJeAVjrMSxrsdY/UZ4/EVof6OQC+IhrAX49+OsUIrQp2vrQEQRZh/xZg85vn1uAgXCwR6AxYRrFBLOUVo9pVUXWcEOspaveirNpkRjBVmedSQ+oUbgQ4sQEBhFjXUzyvUVYOdh+IAAGl5PSw38md6X5SxQwecsbMC9lJZg+fu3muHT6CjNO+FrtJIEBt1NE9tDD1C3TzQ1QYNeIaa1RJtPlQ/T4U+69phhw4cPt9fjRZMQHaKa9Iy1Al04IJVsKs1DnaRwDu1tXkcduuTQAdu8HzjFNCDOkQrAh14YCTYacAAdiDQgQatwU6YA/oU16nFbXcCHejwqBEoNgkAdRDoT9Ckce1WTVAnAHYj0IEBBDgANf8Phy4/EeCu5YsAAAAASUVORK5CYII=\" id=\"image06201c98b7\" transform=\"matrix(0.526 0 0 -0.526 7.2 269.28)\" style=\"image-rendering:crisp-edges;image-rendering:pixelated\" width=\"500\" height=\"500\"/>\n",
       "   </g>\n",
       "  </g>\n",
       " </g>\n",
       " <defs>\n",
       "  <clipPath id=\"pe6540f7733\">\n",
       "   <rect x=\"7.2\" y=\"7.2\" width=\"262.08\" height=\"262.08\"/>\n",
       "  </clipPath>\n",
       " </defs>\n",
       "</svg>\n"
      ],
      "text/plain": [
       "<Figure size 400x400 with 1 Axes>"
      ]
     },
     "metadata": {},
     "output_type": "display_data"
    }
   ],
   "source": [
    "im = ps.generators.blobs([500, 500])\n",
    "fig, ax = plt.subplots(1, 1, figsize=[4, 4])\n",
    "ax.axis(False)\n",
    "ax.imshow(im, origin='lower');"
   ]
  },
  {
   "cell_type": "markdown",
   "id": "6e9cb6b9",
   "metadata": {},
   "source": [
    "## Apply tool\n",
    "``slice`` objects are returned:"
   ]
  },
  {
   "cell_type": "code",
   "execution_count": 3,
   "id": "c0497eed",
   "metadata": {
    "execution": {
     "iopub.execute_input": "2022-08-22T18:50:36.901819Z",
     "iopub.status.busy": "2022-08-22T18:50:36.900656Z",
     "iopub.status.idle": "2022-08-22T18:50:36.907798Z",
     "shell.execute_reply": "2022-08-22T18:50:36.907307Z"
    }
   },
   "outputs": [
    {
     "name": "stdout",
     "output_type": "stream",
     "text": [
      "[(slice(0, 270, None), slice(0, 270, None)), (slice(0, 270, None), slice(230, 500, None)), (slice(230, 500, None), slice(0, 270, None)), (slice(230, 500, None), slice(230, 500, None))]\n"
     ]
    }
   ],
   "source": [
    "slices = ps.tools.subdivide(im=im, divs=2, overlap=20)\n",
    "print(slices)"
   ]
  },
  {
   "cell_type": "code",
   "execution_count": 4,
   "id": "f4c49c48",
   "metadata": {
    "execution": {
     "iopub.execute_input": "2022-08-22T18:50:36.912479Z",
     "iopub.status.busy": "2022-08-22T18:50:36.911012Z",
     "iopub.status.idle": "2022-08-22T18:50:37.146518Z",
     "shell.execute_reply": "2022-08-22T18:50:37.145770Z"
    }
   },
   "outputs": [
    {
     "data": {
      "image/svg+xml": [
       "<?xml version=\"1.0\" encoding=\"utf-8\" standalone=\"no\"?>\n",
       "<!DOCTYPE svg PUBLIC \"-//W3C//DTD SVG 1.1//EN\"\n",
       "  \"http://www.w3.org/Graphics/SVG/1.1/DTD/svg11.dtd\">\n",
       "<svg xmlns:xlink=\"http://www.w3.org/1999/xlink\" width=\"547.47pt\" height=\"132.48pt\" viewBox=\"0 0 547.47 132.48\" xmlns=\"http://www.w3.org/2000/svg\" version=\"1.1\">\n",
       " <metadata>\n",
       "  <rdf:RDF xmlns:dc=\"http://purl.org/dc/elements/1.1/\" xmlns:cc=\"http://creativecommons.org/ns#\" xmlns:rdf=\"http://www.w3.org/1999/02/22-rdf-syntax-ns#\">\n",
       "   <cc:Work>\n",
       "    <dc:type rdf:resource=\"http://purl.org/dc/dcmitype/StillImage\"/>\n",
       "    <dc:date>2022-08-22T18:50:37.080736</dc:date>\n",
       "    <dc:format>image/svg+xml</dc:format>\n",
       "    <dc:creator>\n",
       "     <cc:Agent>\n",
       "      <dc:title>Matplotlib v3.5.3, https://matplotlib.org/</dc:title>\n",
       "     </cc:Agent>\n",
       "    </dc:creator>\n",
       "   </cc:Work>\n",
       "  </rdf:RDF>\n",
       " </metadata>\n",
       " <defs>\n",
       "  <style type=\"text/css\">*{stroke-linejoin: round; stroke-linecap: butt}</style>\n",
       " </defs>\n",
       " <g id=\"figure_1\">\n",
       "  <g id=\"patch_1\">\n",
       "   <path d=\"M 0 132.48 \n",
       "L 547.47 132.48 \n",
       "L 547.47 0 \n",
       "L 0 0 \n",
       "z\n",
       "\" style=\"fill: #ffffff\"/>\n",
       "  </g>\n",
       "  <g id=\"axes_1\">\n",
       "   <g clip-path=\"url(#p22360c8c63)\">\n",
       "    <image xlink:href=\"data:image/png;base64,\n",
       "iVBORw0KGgoAAAANSUhEUgAAAQ4AAAEOCAYAAAB4sfmlAAANLElEQVR4nO3d23EbORCFYWjLUeh5A2AQrlICTlZZKAptFFu7DyraNM3LAOgGTnf/37MtzjSAMz038uX7y4//WhDvnx+7N+Gpt9fT7k34TYSa4Yva3Hnkr90bACAeggNAtzDBQcsN6AgRHIQGoEU+OAgNQI90cBAa8yJdqUccssFBaAC6vu3egGuRA4OjO6qQ6jgihwZQiUxwEBpAHNuD4/3zg9BwxilUDJHWwdbgiFQoAL9suThKYACxLe84CA3gvijrY1lwcC1jL65zwNKS4CAwgOMirBf34IhQBAB9XIOD0ADGqK8dt+BQ33FAnfIacgkO5R0GIlFdS+bBobqjQFSKdyS3P3IO4BilAJF7rR7AY5fhsev5HNPgUElDoIoja84jXOg4DL1/fvCE5kbPal/1wOax3wQHwjsa1ud/VzVALJleHOVoi9VG5hzzdB53VYypHs1Ut2vGTAAQHnMIDoRksfAJj3HmwcFg5Dy6K7GcY8zXMS4dB4MBL8wtDZyqOKHrQGZuwcGRAdaYUzpcO47qA03XgazcT1WqhwdsMI+0LLnGUXnQ6Tq0MT5jll0crRweQDZL76pUDQ+Oashm+e3YquEBPQT6uC3PcRAe61FzWOIBMJREtzFnW3BwBMRRzBU9dBwLqEx8le1AfFuDg4mMHThNmUfH4YxwREbbgyPzwsq8b1HRbdjYHhxYizCDBYLDCQsUmREcDggNZEdwoAyub9ghOIzRbdiinpoIDgDdCA5DHB1tUU9d24OD804gHn50GpLoNrRcjwfBYej984MJb8Crhm+vpzAd7rMarNqPe9uxNTiiDGIPwmNO9dod3f/Lf+exjp5tx/ZrHBllDMQVCI3T8P+zqt3Rv/Xy/eXHfyaf2KnC4lJcCKp1X1krxRpY7n/v/o189pZTFcWB83DeT8UAUVK9Ptb7f+Q0ZvYzt3QcVYLjksLiUKz7rrqo1EJhXoxY2nGoDNYOdB+/210HhTssu2swY9nF0d2DpGJXHZTqr7Jgdm6HSg1GuZ+qKE1YNSsmj1L9VRfL6hqp1qGHW3AoTVh1XhNJZQwiLJQVtYpQh6NMg0Nloka083acl4gLZcfDVBFNBYfKBM1mZKIpjUWGhWJRzwx1uKcrOJQmZyW3JqDiWGRdKD21zlqDa3eDQ3FiQleVBYMvL//+8/eWR86RB6FRDy+5YQqhURPBAaAbwQGgG8EBoBvBgSncfauJ4ADQjeDANLqOeggOAN0IDpig66iF4IAZwqMOggOmCI8aCA4A3QgOmKPryI/ggAvCIzeCA24Ij7wIDrgiPHIiOOCO8MiH4MAShEcuBAeWITzyIDiwFOGRw3BwvL2e+L7JDtTql/fPDwIkuMPfcn5k4jMZ/nSvbtTqC4Ea08PgGB1UFsXz2lGjXwiPeP4IDqtBrLwwjtawco1uIUDi+OY1WG+vJxYGulzOF0JEm+mv1d9SLTx6J3y1+owiSLR8270BwBG3ApYwee7RgWmmfu4dR2t1jqojA1GlNt4Ikd/1zqve+i15AIxBhbfzsyEE8djBqLd2y05VuFiKVSpfZJ1dY0drt/QaB+GB1c7zrUKAWK+tR3/v53McqwubLUB4WC6GrAGyeh797DhWt3fnz2DhYKVKHYinmxdHV15kqvyyHKG5D7Wf8/CuysriVg4Q7MFdmHFPL46ubu0uP4dBjSnam9ScvvQ7/Fp9a3sLqzTRbqn+8Fem/Y8YIKtr2RUcre0varbJpro/z1R4i3r3XB+xqp7dwdGaRkHVJlyF4PAY9wz7b70P1nX2qPFQcLRGeFzLGhwrxlm9BrspBnbot2N5FsSPwoEBX94/P8zHY/YmxPBLbkqLNfIkV9v2HbfF1WpQzciYp/l5hJ2TL8PE5zkabSsO1D1zYCo4lLqO1uIu4N2hF7Vu8HFkPqTpOM6iLoId261UK6VtwfPxmA4Ota6jtbWT0PKzom436knXcUTnvaA5NcFRj+ZJ2uBY+dUA1f8u6kkbHNF53rdXFWEbq7k3JibBoXidozXfiRipo2FB5qC0zug4xM1ck+B6BizcmkOhHznfZeet0yNHHcIC3tJ3HNkW0aMugg4jv12nK9fzyqzj8HgRR5HKPqpsB2pK33EgFgLxOYWLpARHByY18CV9cFilM6EBJTu6jss1YBocCi0UUMXO9Za646DbQHa7wiNtcND9oIrVP5zWmkNwKCxYy22g20AEq9dduo5DIbgwh7Aes/L3ntMEB78DCoj/INMRGX6PgyPfPhwE5nnO31AvuTGZgOM8XwNxCw6LjSYojrusFZ0SzrzCw+1UpbX4v2CuvgCzv2KvNBcysJwLEqcqTJA+PfU6/9vIAQIblt3H1o5DPTAUF9tszRT36RH1ORLV7DzYcjuWW6djLGpG3dHa/Brccjs2yuRVOTp71Utl/56JMl8yujdHXIIj+inKpd2La9WPDauLNGcyO88V0+A4OgEjTYKdi2rHy0vqIs2dzEyucfAlufFFue7EPNMw3HFUerhrx2TdXZ8IC3R3jSrrCg7ryRRl4FcvIqW6RAiQ1rRqVsHNB8CiTJaM1BZAlEfZe36wCvNevr/8cHsA7IgoA53hbV8rygHSWpw6Rrb9+zjUJyH+pH4hlYv1/rYHR2sxwsN7oSgvxHsiBAh8SARHFF6LRHnxHRF9+9FPJjiqHh2yLDrV/ag6r7zJBEdrMQbZcoGoLrZR2fYH90kFR2t1woNFhsjkgiOK0YWvfkFxVuZ9wy+SwRGh62itLwSyBwZqkfjqwFveXk9hFlqU7QSsSHYcALRJB0eUUxboohv0IR0crREegCL54GiN8MAYug0/IYID6EVo+AoTHHQdOIrQ8BcmOFojPPAYz8qsI/scxz2Rnu+oaFe4Myfu196jNuGCozW7r4lbWWj4qD5WR4La42sVt391oJVHRRk9ClaflCNWdhyVx2emzhZ1SxMcXipPzl6rQqPymFjVeLaGIU9VUFfV0LAO5dnTF4LjCS7Gaqg6Bt5d3GiAEBww4TXBKwbGjjtTvQFCcEBWtdBQeE7paIAQHJBDYOz3LEBCPTm6i+LAZlUpNCL8cNS9baTjgIRqgRHN9U0CggPbVQmNiIFx6fL0hVMVbEVoxPP2eiI4sE+V0MiIUxUsR2DER8eBpQiNHAgOmHgWCHzJTi4EB8zcCwYCI18NuMYBU9kWiKX3z480d1emg+N6omQpDOAhS3gcDo6eH1c+y1AgwNp5jUReH38Eh2WrmaFAgJfI6+Pl33/+XvLVgRGLc43zd3iLsk6WBUdrcYpyD8GBlZTXC3dVAFHK1wuXPsfBERsYo/YAHQ+AAYGoBAjBAQS0OzwIjg5q55mobWd4EBxAYLvCg+AAgtsRHgQHgG5LgyPDNYIM+4B8VncddBwAuhEcQBIru45lj5x7t/j3iubxuV6/YO/1dwFrKTqOR4tN5Um7Z84BxzUUzFg115cEh8JiUA4QhfoAPdyDQ21RWIWH1X5d/x3VcEMcK+ZQilOVXixOYI5rcKh1G2qoD7x4HxzdgkN9UezuOm7VZ/c2AUeVPFU5m12oo+GoHqrAMy7BsXphRFqIkbYVsXl2sKU7jtY4PQBGmAfHriPqjs/tDZ1H20iAIRLT4Ijahq9YtFFrg9i85naqU5WVi5MOAZWZBYfKEXV0O3qCwPIUBYgoVccx61kgeL7vQrggEpPX6tUm/czr6dbBoFYbwELajoMFC3yxPhi+f37MdxzKC5QvxvHH2711XI7t9K/VKwfH2c7J3FufKAvv2X5F2Y8KZtforbGcOlWJEBqt1XoobYUj+/X2ekq7/1U8uhmQ9hrHtSiTWHk7CYM6nnWMw8ERcQJF3GYVvAkc08ip8pHTzGXfcq7iXEjlc3C1i7os/ni8r60NdRwZJpL3Psz+fZUaq2wHjhk5nRw5SJXrOC6pHdmVEBhxzIzV6Pzv7jiyTSjl/eFuEO45dxa7xqqr48g6oaw7D8s6reyKso5vFkrjczg4lDbag/JFU+9tyz62kamOzdMnR1U33NPMAt31G7kjVoytYhBHsGrdjY7Pbx1HxZC4ZfQIv6J+l5+huH2YE2WMvkXZ0B16AmRHHRm7PKKNZenbsUfdewM02mCvxmnKMRHnEcExIOJAr0ZoHBN1LhEcwAZRA+OszNuxWIdu47HoodEawQEslSE0WiM4YIxu474sodEawQFDhEYdBAewgGq3MbpdBAdM0G3cpxoaMwgOwFHG0GiN4IABuo3bsoZGawQHgAEEB6bQbdyWudtojeAAzGUPjdYIDkyg28hhJOgIDsBQhW6jNYIDwACCAzBSpdtojeDAIK5v5NIbegQHgG4EB2Agw2lKzz4QHAC6ERwAfjradRAcAH5zJDwIDnTjjkp+z8KD4ABw06PwIDgA3PX2eroZIAQHumW49Yg+12NOcACTqgTpZfdBcADo8vZ6IjgA9CM4AHQjOAB0IziACVUujF4jODCk6oLBF4IDGFQ5PAkOYEDl0GiN4AAwgODAsOpH3cr+BxS9YzYM78AdAAAAAElFTkSuQmCC\" id=\"image0be3551015\" transform=\"matrix(0.440741 0 0 -0.440741 7.2 125.28)\" style=\"image-rendering:crisp-edges;image-rendering:pixelated\" width=\"270\" height=\"270\"/>\n",
       "   </g>\n",
       "  </g>\n",
       "  <g id=\"axes_2\">\n",
       "   <g clip-path=\"url(#peb53a9c785)\">\n",
       "    <image xlink:href=\"data:image/png;base64,\n",
       "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\" id=\"imagebf96fc88c6\" transform=\"matrix(0.440741 0 0 -0.440741 145.53 125.28)\" style=\"image-rendering:crisp-edges;image-rendering:pixelated\" width=\"270\" height=\"270\"/>\n",
       "   </g>\n",
       "  </g>\n",
       "  <g id=\"axes_3\">\n",
       "   <g clip-path=\"url(#p6ae54240d4)\">\n",
       "    <image xlink:href=\"data:image/png;base64,\n",
       "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\" id=\"image0276966cc9\" transform=\"matrix(0.440741 0 0 -0.440741 283.86 125.28)\" style=\"image-rendering:crisp-edges;image-rendering:pixelated\" width=\"270\" height=\"270\"/>\n",
       "   </g>\n",
       "  </g>\n",
       "  <g id=\"axes_4\">\n",
       "   <g clip-path=\"url(#p2aeecb584b)\">\n",
       "    <image xlink:href=\"data:image/png;base64,\n",
       "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\" id=\"image5057d1bc8b\" transform=\"matrix(0.440741 0 0 -0.440741 422.19 125.28)\" style=\"image-rendering:crisp-edges;image-rendering:pixelated\" width=\"270\" height=\"270\"/>\n",
       "   </g>\n",
       "  </g>\n",
       " </g>\n",
       " <defs>\n",
       "  <clipPath id=\"p22360c8c63\">\n",
       "   <rect x=\"7.2\" y=\"7.2\" width=\"118.08\" height=\"118.08\"/>\n",
       "  </clipPath>\n",
       "  <clipPath id=\"peb53a9c785\">\n",
       "   <rect x=\"145.53\" y=\"7.2\" width=\"118.08\" height=\"118.08\"/>\n",
       "  </clipPath>\n",
       "  <clipPath id=\"p6ae54240d4\">\n",
       "   <rect x=\"283.86\" y=\"7.2\" width=\"118.08\" height=\"118.08\"/>\n",
       "  </clipPath>\n",
       "  <clipPath id=\"p2aeecb584b\">\n",
       "   <rect x=\"422.19\" y=\"7.2\" width=\"118.08\" height=\"118.08\"/>\n",
       "  </clipPath>\n",
       " </defs>\n",
       "</svg>\n"
      ],
      "text/plain": [
       "<Figure size 800x200 with 4 Axes>"
      ]
     },
     "metadata": {},
     "output_type": "display_data"
    }
   ],
   "source": [
    "fig, ax = plt.subplots(1, 4, figsize=[8, 2])\n",
    "for i, s in enumerate(slices):\n",
    "    ax[i].imshow(im[s], origin='lower')\n",
    "    ax[i].axis(False);"
   ]
  }
 ],
 "metadata": {
  "kernelspec": {
   "display_name": "Python 3 (ipykernel)",
   "language": "python",
   "name": "python3"
  },
  "language_info": {
   "codemirror_mode": {
    "name": "ipython",
    "version": 3
   },
   "file_extension": ".py",
   "mimetype": "text/x-python",
   "name": "python",
   "nbconvert_exporter": "python",
   "pygments_lexer": "ipython3",
   "version": "3.8.13"
  }
 },
 "nbformat": 4,
 "nbformat_minor": 5
}

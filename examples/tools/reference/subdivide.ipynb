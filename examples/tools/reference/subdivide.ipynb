{
 "cells": [
  {
   "cell_type": "markdown",
   "id": "76acccd3",
   "metadata": {},
   "source": [
    "# `subdivide`"
   ]
  },
  {
   "cell_type": "markdown",
   "id": "c6b5700f",
   "metadata": {},
   "source": [
    "## Import packages"
   ]
  },
  {
   "cell_type": "code",
   "execution_count": 1,
   "id": "4aa71432",
   "metadata": {
    "execution": {
     "iopub.execute_input": "2022-08-12T21:49:46.180480Z",
     "iopub.status.busy": "2022-08-12T21:49:46.179910Z",
     "iopub.status.idle": "2022-08-12T21:49:48.100536Z",
     "shell.execute_reply": "2022-08-12T21:49:48.099836Z"
    }
   },
   "outputs": [],
   "source": [
    "import numpy as np\n",
    "import porespy as ps\n",
    "import scipy.ndimage as spim\n",
    "import matplotlib.pyplot as plt\n",
    "import skimage\n",
    "\n",
    "np.random.rand(0)\n",
    "ps.visualization.set_mpl_style()"
   ]
  },
  {
   "cell_type": "markdown",
   "id": "be0cb230",
   "metadata": {},
   "source": [
    "## Create image and variables"
   ]
  },
  {
   "cell_type": "code",
   "execution_count": 2,
   "id": "9b8c0fbb",
   "metadata": {
    "execution": {
     "iopub.execute_input": "2022-08-12T21:49:48.105634Z",
     "iopub.status.busy": "2022-08-12T21:49:48.105168Z",
     "iopub.status.idle": "2022-08-12T21:49:48.228771Z",
     "shell.execute_reply": "2022-08-12T21:49:48.228149Z"
    }
   },
   "outputs": [
    {
     "data": {
      "image/svg+xml": [
       "<?xml version=\"1.0\" encoding=\"utf-8\" standalone=\"no\"?>\n",
       "<!DOCTYPE svg PUBLIC \"-//W3C//DTD SVG 1.1//EN\"\n",
       "  \"http://www.w3.org/Graphics/SVG/1.1/DTD/svg11.dtd\">\n",
       "<svg xmlns:xlink=\"http://www.w3.org/1999/xlink\" width=\"280.8pt\" height=\"280.8pt\" viewBox=\"0 0 280.8 280.8\" xmlns=\"http://www.w3.org/2000/svg\" version=\"1.1\">\n",
       " <metadata>\n",
       "  <rdf:RDF xmlns:dc=\"http://purl.org/dc/elements/1.1/\" xmlns:cc=\"http://creativecommons.org/ns#\" xmlns:rdf=\"http://www.w3.org/1999/02/22-rdf-syntax-ns#\">\n",
       "   <cc:Work>\n",
       "    <dc:type rdf:resource=\"http://purl.org/dc/dcmitype/StillImage\"/>\n",
       "    <dc:date>2022-08-12T21:49:48.201166</dc:date>\n",
       "    <dc:format>image/svg+xml</dc:format>\n",
       "    <dc:creator>\n",
       "     <cc:Agent>\n",
       "      <dc:title>Matplotlib v3.5.3, https://matplotlib.org/</dc:title>\n",
       "     </cc:Agent>\n",
       "    </dc:creator>\n",
       "   </cc:Work>\n",
       "  </rdf:RDF>\n",
       " </metadata>\n",
       " <defs>\n",
       "  <style type=\"text/css\">*{stroke-linejoin: round; stroke-linecap: butt}</style>\n",
       " </defs>\n",
       " <g id=\"figure_1\">\n",
       "  <g id=\"patch_1\">\n",
       "   <path d=\"M 0 280.8 \n",
       "L 280.8 280.8 \n",
       "L 280.8 0 \n",
       "L 0 0 \n",
       "L 0 280.8 \n",
       "z\n",
       "\" style=\"fill: none\"/>\n",
       "  </g>\n",
       "  <g id=\"axes_1\">\n",
       "   <g clip-path=\"url(#pb01cc0355d)\">\n",
       "    <image xlink:href=\"data:image/png;base64,\n",
       "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\" id=\"image6904b8fd87\" transform=\"matrix(0.534 0 0 -0.534 7.2 273.6)\" style=\"image-rendering:crisp-edges;image-rendering:pixelated\" width=\"500\" height=\"500\"/>\n",
       "   </g>\n",
       "  </g>\n",
       " </g>\n",
       " <defs>\n",
       "  <clipPath id=\"pb01cc0355d\">\n",
       "   <rect x=\"7.2\" y=\"7.2\" width=\"266.4\" height=\"266.4\"/>\n",
       "  </clipPath>\n",
       " </defs>\n",
       "</svg>\n"
      ],
      "text/plain": [
       "<Figure size 288x288 with 1 Axes>"
      ]
     },
     "metadata": {
      "needs_background": "light"
     },
     "output_type": "display_data"
    }
   ],
   "source": [
    "im = ps.generators.blobs([500, 500])\n",
    "fig, ax = plt.subplots(1, 1, figsize=[4, 4])\n",
    "ax.axis(False)\n",
    "ax.imshow(im, origin='lower');"
   ]
  },
  {
   "cell_type": "markdown",
   "id": "6e9cb6b9",
   "metadata": {},
   "source": [
    "## Apply tool\n",
    "``slice`` objects are returned:"
   ]
  },
  {
   "cell_type": "code",
   "execution_count": 3,
   "id": "c0497eed",
   "metadata": {
    "execution": {
     "iopub.execute_input": "2022-08-12T21:49:48.232581Z",
     "iopub.status.busy": "2022-08-12T21:49:48.232172Z",
     "iopub.status.idle": "2022-08-12T21:49:48.243554Z",
     "shell.execute_reply": "2022-08-12T21:49:48.242930Z"
    }
   },
   "outputs": [
    {
     "name": "stdout",
     "output_type": "stream",
     "text": [
      "[(slice(0, 270, None), slice(0, 270, None)), (slice(0, 270, None), slice(230, 500, None)), (slice(230, 500, None), slice(0, 270, None)), (slice(230, 500, None), slice(230, 500, None))]\n"
     ]
    }
   ],
   "source": [
    "slices = ps.tools.subdivide(im=im, divs=2, overlap=20)\n",
    "print(slices)"
   ]
  },
  {
   "cell_type": "code",
   "execution_count": 4,
   "id": "f4c49c48",
   "metadata": {
    "execution": {
     "iopub.execute_input": "2022-08-12T21:49:48.246717Z",
     "iopub.status.busy": "2022-08-12T21:49:48.246163Z",
     "iopub.status.idle": "2022-08-12T21:49:48.498461Z",
     "shell.execute_reply": "2022-08-12T21:49:48.497885Z"
    }
   },
   "outputs": [
    {
     "data": {
      "image/svg+xml": [
       "<?xml version=\"1.0\" encoding=\"utf-8\" standalone=\"no\"?>\n",
       "<!DOCTYPE svg PUBLIC \"-//W3C//DTD SVG 1.1//EN\"\n",
       "  \"http://www.w3.org/Graphics/SVG/1.1/DTD/svg11.dtd\">\n",
       "<svg xmlns:xlink=\"http://www.w3.org/1999/xlink\" width=\"554.625pt\" height=\"136.8pt\" viewBox=\"0 0 554.625 136.8\" xmlns=\"http://www.w3.org/2000/svg\" version=\"1.1\">\n",
       " <metadata>\n",
       "  <rdf:RDF xmlns:dc=\"http://purl.org/dc/elements/1.1/\" xmlns:cc=\"http://creativecommons.org/ns#\" xmlns:rdf=\"http://www.w3.org/1999/02/22-rdf-syntax-ns#\">\n",
       "   <cc:Work>\n",
       "    <dc:type rdf:resource=\"http://purl.org/dc/dcmitype/StillImage\"/>\n",
       "    <dc:date>2022-08-12T21:49:48.444607</dc:date>\n",
       "    <dc:format>image/svg+xml</dc:format>\n",
       "    <dc:creator>\n",
       "     <cc:Agent>\n",
       "      <dc:title>Matplotlib v3.5.3, https://matplotlib.org/</dc:title>\n",
       "     </cc:Agent>\n",
       "    </dc:creator>\n",
       "   </cc:Work>\n",
       "  </rdf:RDF>\n",
       " </metadata>\n",
       " <defs>\n",
       "  <style type=\"text/css\">*{stroke-linejoin: round; stroke-linecap: butt}</style>\n",
       " </defs>\n",
       " <g id=\"figure_1\">\n",
       "  <g id=\"patch_1\">\n",
       "   <path d=\"M 0 136.8 \n",
       "L 554.625 136.8 \n",
       "L 554.625 0 \n",
       "L 0 0 \n",
       "L 0 136.8 \n",
       "z\n",
       "\" style=\"fill: none\"/>\n",
       "  </g>\n",
       "  <g id=\"axes_1\">\n",
       "   <g clip-path=\"url(#pf7f6590071)\">\n",
       "    <image xlink:href=\"data:image/png;base64,\n",
       "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\" id=\"imaged95ec679eb\" transform=\"matrix(0.455556 0 0 -0.455556 7.2 129.6)\" style=\"image-rendering:crisp-edges;image-rendering:pixelated\" width=\"270\" height=\"270\"/>\n",
       "   </g>\n",
       "  </g>\n",
       "  <g id=\"axes_2\">\n",
       "   <g clip-path=\"url(#pb732beb0e8)\">\n",
       "    <image xlink:href=\"data:image/png;base64,\n",
       "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\" id=\"imagec52137b88b\" transform=\"matrix(0.455556 0 0 -0.455556 146.475 129.6)\" style=\"image-rendering:crisp-edges;image-rendering:pixelated\" width=\"270\" height=\"270\"/>\n",
       "   </g>\n",
       "  </g>\n",
       "  <g id=\"axes_3\">\n",
       "   <g clip-path=\"url(#p6fd5fa9bdb)\">\n",
       "    <image xlink:href=\"data:image/png;base64,\n",
       "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\" id=\"image48c4439f88\" transform=\"matrix(0.455556 0 0 -0.455556 285.75 129.6)\" style=\"image-rendering:crisp-edges;image-rendering:pixelated\" width=\"270\" height=\"270\"/>\n",
       "   </g>\n",
       "  </g>\n",
       "  <g id=\"axes_4\">\n",
       "   <g clip-path=\"url(#p720162af4e)\">\n",
       "    <image xlink:href=\"data:image/png;base64,\n",
       "iVBORw0KGgoAAAANSUhEUgAAAQ4AAAEOCAYAAAB4sfmlAAANZklEQVR4nO3d3XHkNhCFUcjlKPTsABTEVimBTVZZKAo5Ctf6QaY1S3GGBNkN3O7+zpu3ZIlsNC4Bcn6efjz9/NVuvH28t9Fen1+G/03MM6PH1ui53/WOyR/rf5hR0LePd4lmAnDMt+CYiQDBKPTZlzO1+HPrH1+fX6YWdv23WVYCWu6uOJQm67IS4SoB2Do7pzZXHIslPJQmLKsRWHn7eKd/TnoYHAvFAFncHhNNABx3ZT533RxVn5hsaWJQ6iN65Zzupyqvzy9SA38PAQLcd3VunH4cS4AgC/qj3+XXcUQKEAA2zF4AFiU8CBBsqdQXFudq+srRCOHRWq0mATwcehybkcIz/KMBNvs4gTXz96pEavJZK4/eLROPmaFG6k1uM4ycjBaTnwCBApfgiLTqaG1MeFj/DQIEM5W9xzGK9+Refv/RsLY8nrMXCAJvLot3vxMcjkZvgxaj3lv06PffCxVCI4en9UcHWonYIJZbrIjnX1m07bWFYW9ywzGEBiK4EpYEx3+srjiEBiI52/cuwVFx8vCUI66K25RbZ86fFUejcSpj7D/11qF8cFg0DisNZNAzF0oHB6FRG6uN745+TIZ5cESZSDQNcN/e/Ci54uAJCrhw7Hu0+igVHFE+rQxQsjVnyrzknMDAgl7ot66Z6YpDdelOowC20m9VvEJDNSTxGBcRG+mDA4C91MHB1QXwkTY4CA2s0RN2zIKj2p6fJkRlKVccTGqs0RO2UgYHAF8EB9JjtWEvXXDQJIC/Ul86jXroSx+pVhyjm4SmRFWpggO4RbD7SRMcNAlu0Q++TIOj4mBVPGd1jIm/NCsOoDVCY5QUwTG7WWb/ffDpbqOZB0fVJxsqx1ERtR+vzEcHIh8CYx6XrcqoAVVrHLXjyYptyXwp7nEooaF9UV8NbsHhPcDKDaR8bFGxytDiuuLwGmgaqA4CQ5P7VsV60KM0UZTjVEVgaAt1jyNaI0U7XgUERgxDgsOiEWim3AiMWJ5+PP38NfIPnvlQ4+gNVe2DnHtEH9uqhgdHa8cnUqamIjw+ZRrTM470QYQaTXnl6FKYe0WMUDjsYxy/9Fw4bn9WtYZTX3KuWhT0Yyzvu7LafPt4l6ztlK1KVRm3K4pNrcJyvNXqHOpxLHTwFOQx64uE2kWH4EAXAmOf1yRXCg+CA4cRGPOphAfBgUMIjWNUJrY3ggMwUiU0WiM4gHAUAorgwC62KfsUJvNIBAeAbgQHcFG11UZrBMcwFZsLfmb3E8EBoBvBgV2zr27QQ3AMwMTLq+rYEhwAuhEczrJckbKcB2wQHAC6ERyOuEojK4IDhxGEWBAcTphkyIzgcEBoYISZfTb1U85h6967WC0bTPVTtzEWwWFsxFWgd+Kuf54VkZ3X55eS9SQ4xHlc3W9/Z8Wmz2Lmyo/gMHR1Es5ohN4rJtsUtEZwmIn8Zdp7X8kJrBEcg6mExRa+0xdHERwGsnwD+WIdIJGOHWMQHBfthUbkSRf52LObPTYExwWPQmP2wAKeeOXoSYQGZlHoL1YcnTJvTdCv6pMoguOgbDdAEZNKjxEcO45eUVQGFOOMXm0o9RjBsaHq8hO6lEKjNYLjf4QFeozsF7XQaI3gMGkAxYGFHy4yRYODgcdZle9r3CoVHAQGzprRO6qh0Vqh4CA06mCs/aUPDpqohmzjrLzaaC15cGRrJnzHGM+RNjhoqNwyj6/6aqO1pG9yq/6MPbvMoRFFuuCgqXLLPr5RLkTpggN5ZQ+NSFIFB42VF2OrJVVwjBZlWRldldCI1E9pgqNKc1XDuGpK+zgWiGTUasPqA6lSBAfvI8hJabXRM969xz2il3qOaf2zW8eXIjiQT9TQOPPznizquPU7wgcHq43rjlxhRlIJjdl1uMK7hqGDQ6XBorpXP77BLe65j5oTT//8/dcvinRc1FrdUv52eoWLQcQxHl23p3/+/uvX8h+RCjarwSLVaMuZuind8fcWaXxn1uu34LilWsCZxVKtyVFXaud97oTGPoUaLe4Gx0KpmITGNVfr51UDhQmhOr4Ktdmye3NU4UbZ7OKpNlUPq8dyGWoRweye33P4qcqMAFEvHq5TGGO1MFSoyZ7drco9nsVWKpxaU51lWVOrmiiMs9r4KtTkiNNvcnv7eDc/SY/feYVaU6nwejVidZFqcvkFYBZbGMWCERp+VMabMT7P7JWjt81wZEBUmgfnnL1RyrhvU6/LeqxdXnKuXoQ9XIl8RO+Lah7NgzQf5IPxrrxVezali4NabVrbrw/BsaLUUJZmvnhLcWKoUKvN6/PLoV4hOAqZ8YY1tYmB+3r6I/Tb6qFh68kagbFPpUZnLiinXwCWUdZtyppKw86iMs4K43C2FmxVClKZOJUphMYVBEdRR2+CIa8r409wFEd4jKew2rg67gTHDYUBnYHwQC+CA601ti6jKFycLMaZ4MBvCA8cQXDgm8zhUfmT7FqzO3+CY0VhcAF1BAc2ZV51zKBwQbIcU4IDQDeCY4PC1WE2amAnYy0JDqAA660nwXFHxqtEddy3sUNw4BtCE3sIjgcqTqCK55ydx0qL4AAcZQ1igmNH1oHfkvlcq97f8DpvggOttdyhMVPWwHL/zNF7hYvUqNm/pT3SWOA4z551CY4jB7z8TJSmzRgeUWp/VbZxU2AaHGcGKFqAZEG9c/MOS5NPObc8SPWGjnz1Uq+tB5XxGln7Eed8esXhdXCvzy/SDT5qy6JcA+gaFZTdK46RCa46eTxqoHquPdRuhKusNhbedRh5voeCo/qnJm25WhPV8zprrx6jz1ctNBZedRh9vneDQ6nwqpPsTI1Uz+WKo3XIts8/y6MOU4NDuditaU66IzVTPG4rvT0zohbV+njG+T79ePoZ6rtjFSfh1sApHqcHtVWXemgsrGow63zDfVu94lMXteMZJcokVWTRxzPrH/K9KjRsbJ6P8iO58iVYs881ZHC0xjePzXa19tZjF7kXeo9d4VzDBsdCoYiYK0MPHD0HlXMNd3P0kar3GmawauDI+3wvWzVRO89wN0cfGfWGufUgEliwpBYSW1IFx+K28BaTem8gFZ/0VBBhgmWVMjhu9bzG4kojEh6oJH1wbKn6zt5MWG3MFf6pihoaGhUQHA4qhIfFyorVWVwEB067MvEJjdgIDicVVh2tnQsAVivxlbw5ClvLJFb7MB/4ITgcVXvKcnuufHp9bqlecq6KyeOnypZQDfc4AHQjOBAaq7k5CI4BWE77IjzGIzgAdCM4BmHV4YtVx1gEB4BuBAfSYNUxDsEBoBvBMRD3Ofyx6hiD4ADQjeAA0I3gQDpsV/wRHAC6ERwAuhEcALoRHAC6ERwAuhEcALoRHAC6ERwAuhEcSIf3BPnj6xFubH28v9fvByIrHxz3JvP637mKxcA4jVE6OHpWAEe/rQzzKI3No95SOs6zyn4h09VtQ+/gs03xpTAZe8dY4ZjPKrnisPrS48gDn8nMcbjSS5FXsTxVueDt4/1Q47Da8BM1NDx+z0jltireg3TbyBEbIpJZoeE1rpFWHiW3Kp4IizFmTDLvsVXc/t4751LBwaTOIWNoKDlyrqWCA/FlD41Zq47ec+TmKMJQW8Z7GR1UZ/4eK46klkmWZYmd7Ubokb/rdc4W50RwJHGvydb/HjFIqqw0vFmOfZngiDhhjuidVNlWIplZrTo8xpp7HEG9Pr9caqooV/Eox+nl6itTvS4QBEcwVwNj/buUqR/fKL2T3zMwFgRHIB4TickZw9G3NozaghIcAViuMu79fjWKxzTbo8+OGX3PqszN0agqTqCK53yUyk1tVhzCRk4glcmqchx4jOAQVXECKZ6z4jEpKBEcKsu7oyo2a8VzjqxEcECbemioH98MBIeYak1a7XyzSB8c0bYplUQKjUjHOkL64IAmJmJsqYMj2mojwwfvHhE1NKIet4fUwQE9TL4c0gZHtNUGYiD4PqUMDkKjz6h6MenySBkcETGp4mCsEgYHqw3AX7rgQB+2KTiD4ABOqB6EqYKDbQowRqrgADAGwSGg2pcNZVF5u0JwAOhGcGAIVje5EBzABVW3KwQHgG5pgiPqUrjSFSvqGO2pNIaLNMGBfhUbHjYIDgDdCA4MxXYlB4JjomrNtsgaHpUQHICRShcCggNTZF11VAkPgmMSlQar8snqI6mMrSeCA3CQPTwIjgmyN1WPrKuO1nKPc4rgyNx8FWQev9fnl5QBkiI4AHXZAuTP2QdQTabmsfT28V6iNlvnuLXi6qnFjBUbwQEZVcJj7eo5L///yABhqwIkMXI7RHBASuYbpaOMCA+CA0jIOzwIjsG4ou6jRjY8w4PgABLzCg+CYwKuqPuokR2P8CA4Jnn7eGdyYBjr8BjyOo5HE6Tic/tbS22q12FL1dd1eHl9fjG7WLkGx5GDZOJ8uq1V9VpAn8tW5cwynKX7F+oAdebBcbXpmTSfCNJP1MCW1WrWNDisBrn392Re2jNxoEj2qQoT5gu1gBqz4PBo7p7fmXnVAViymCuyK44FV9tP1AFKTIJDpalZdZyjXjeV/sIX+RVHazQOoCZEcPRQv3oCGaQLjsxYeUFFyuBg1QH4+hcscXOn4MnKhAAAAABJRU5ErkJggg==\" id=\"imageaa05369901\" transform=\"matrix(0.455556 0 0 -0.455556 425.025 129.6)\" style=\"image-rendering:crisp-edges;image-rendering:pixelated\" width=\"270\" height=\"270\"/>\n",
       "   </g>\n",
       "  </g>\n",
       " </g>\n",
       " <defs>\n",
       "  <clipPath id=\"pf7f6590071\">\n",
       "   <rect x=\"7.2\" y=\"7.2\" width=\"122.4\" height=\"122.4\"/>\n",
       "  </clipPath>\n",
       "  <clipPath id=\"pb732beb0e8\">\n",
       "   <rect x=\"146.475\" y=\"7.2\" width=\"122.4\" height=\"122.4\"/>\n",
       "  </clipPath>\n",
       "  <clipPath id=\"p6fd5fa9bdb\">\n",
       "   <rect x=\"285.75\" y=\"7.2\" width=\"122.4\" height=\"122.4\"/>\n",
       "  </clipPath>\n",
       "  <clipPath id=\"p720162af4e\">\n",
       "   <rect x=\"425.025\" y=\"7.2\" width=\"122.4\" height=\"122.4\"/>\n",
       "  </clipPath>\n",
       " </defs>\n",
       "</svg>\n"
      ],
      "text/plain": [
       "<Figure size 576x144 with 4 Axes>"
      ]
     },
     "metadata": {
      "needs_background": "light"
     },
     "output_type": "display_data"
    }
   ],
   "source": [
    "fig, ax = plt.subplots(1, 4, figsize=[8, 2])\n",
    "for i, s in enumerate(slices):\n",
    "    ax[i].imshow(im[s], origin='lower')\n",
    "    ax[i].axis(False);"
   ]
  }
 ],
 "metadata": {
  "kernelspec": {
   "display_name": "Python 3 (ipykernel)",
   "language": "python",
   "name": "python3"
  },
  "language_info": {
   "codemirror_mode": {
    "name": "ipython",
    "version": 3
   },
   "file_extension": ".py",
   "mimetype": "text/x-python",
   "name": "python",
   "nbconvert_exporter": "python",
   "pygments_lexer": "ipython3",
   "version": "3.8.13"
  }
 },
 "nbformat": 4,
 "nbformat_minor": 5
}

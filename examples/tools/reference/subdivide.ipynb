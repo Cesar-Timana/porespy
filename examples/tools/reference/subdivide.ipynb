{
 "cells": [
  {
   "cell_type": "markdown",
   "id": "76acccd3",
   "metadata": {},
   "source": [
    "# `subdivide`"
   ]
  },
  {
   "cell_type": "markdown",
   "id": "c6b5700f",
   "metadata": {},
   "source": [
    "## Import packages"
   ]
  },
  {
   "cell_type": "code",
   "execution_count": 1,
   "id": "4aa71432",
   "metadata": {
    "execution": {
     "iopub.execute_input": "2022-09-07T23:59:34.015265Z",
     "iopub.status.busy": "2022-09-07T23:59:34.015013Z",
     "iopub.status.idle": "2022-09-07T23:59:35.769219Z",
     "shell.execute_reply": "2022-09-07T23:59:35.768607Z"
    }
   },
   "outputs": [],
   "source": [
    "import numpy as np\n",
    "import porespy as ps\n",
    "import scipy.ndimage as spim\n",
    "import matplotlib.pyplot as plt\n",
    "import skimage\n",
    "\n",
    "np.random.rand(0)\n",
    "ps.visualization.set_mpl_style()"
   ]
  },
  {
   "cell_type": "markdown",
   "id": "be0cb230",
   "metadata": {},
   "source": [
    "## Create image and variables"
   ]
  },
  {
   "cell_type": "code",
   "execution_count": 2,
   "id": "9b8c0fbb",
   "metadata": {
    "execution": {
     "iopub.execute_input": "2022-09-07T23:59:35.774202Z",
     "iopub.status.busy": "2022-09-07T23:59:35.772959Z",
     "iopub.status.idle": "2022-09-07T23:59:35.886624Z",
     "shell.execute_reply": "2022-09-07T23:59:35.886082Z"
    }
   },
   "outputs": [
    {
     "data": {
      "image/svg+xml": [
       "<?xml version=\"1.0\" encoding=\"utf-8\" standalone=\"no\"?>\n",
       "<!DOCTYPE svg PUBLIC \"-//W3C//DTD SVG 1.1//EN\"\n",
       "  \"http://www.w3.org/Graphics/SVG/1.1/DTD/svg11.dtd\">\n",
       "<svg xmlns:xlink=\"http://www.w3.org/1999/xlink\" width=\"276.48pt\" height=\"276.48pt\" viewBox=\"0 0 276.48 276.48\" xmlns=\"http://www.w3.org/2000/svg\" version=\"1.1\">\n",
       " <metadata>\n",
       "  <rdf:RDF xmlns:dc=\"http://purl.org/dc/elements/1.1/\" xmlns:cc=\"http://creativecommons.org/ns#\" xmlns:rdf=\"http://www.w3.org/1999/02/22-rdf-syntax-ns#\">\n",
       "   <cc:Work>\n",
       "    <dc:type rdf:resource=\"http://purl.org/dc/dcmitype/StillImage\"/>\n",
       "    <dc:date>2022-09-07T23:59:35.862566</dc:date>\n",
       "    <dc:format>image/svg+xml</dc:format>\n",
       "    <dc:creator>\n",
       "     <cc:Agent>\n",
       "      <dc:title>Matplotlib v3.5.3, https://matplotlib.org/</dc:title>\n",
       "     </cc:Agent>\n",
       "    </dc:creator>\n",
       "   </cc:Work>\n",
       "  </rdf:RDF>\n",
       " </metadata>\n",
       " <defs>\n",
       "  <style type=\"text/css\">*{stroke-linejoin: round; stroke-linecap: butt}</style>\n",
       " </defs>\n",
       " <g id=\"figure_1\">\n",
       "  <g id=\"patch_1\">\n",
       "   <path d=\"M 0 276.48 \n",
       "L 276.48 276.48 \n",
       "L 276.48 0 \n",
       "L 0 0 \n",
       "z\n",
       "\" style=\"fill: #ffffff\"/>\n",
       "  </g>\n",
       "  <g id=\"axes_1\">\n",
       "   <g clip-path=\"url(#p3d3a5173be)\">\n",
       "    <image xlink:href=\"data:image/png;base64,\n",
       "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\" id=\"imageabce516b30\" transform=\"matrix(0.526 0 0 -0.526 7.2 269.28)\" style=\"image-rendering:crisp-edges;image-rendering:pixelated\" width=\"500\" height=\"500\"/>\n",
       "   </g>\n",
       "  </g>\n",
       " </g>\n",
       " <defs>\n",
       "  <clipPath id=\"p3d3a5173be\">\n",
       "   <rect x=\"7.2\" y=\"7.2\" width=\"262.08\" height=\"262.08\"/>\n",
       "  </clipPath>\n",
       " </defs>\n",
       "</svg>\n"
      ],
      "text/plain": [
       "<Figure size 400x400 with 1 Axes>"
      ]
     },
     "metadata": {},
     "output_type": "display_data"
    }
   ],
   "source": [
    "im = ps.generators.blobs([500, 500])\n",
    "fig, ax = plt.subplots(1, 1, figsize=[4, 4])\n",
    "ax.axis(False)\n",
    "ax.imshow(im, origin='lower');"
   ]
  },
  {
   "cell_type": "markdown",
   "id": "6e9cb6b9",
   "metadata": {},
   "source": [
    "## Apply tool\n",
    "``slice`` objects are returned:"
   ]
  },
  {
   "cell_type": "code",
   "execution_count": 3,
   "id": "c0497eed",
   "metadata": {
    "execution": {
     "iopub.execute_input": "2022-09-07T23:59:35.905052Z",
     "iopub.status.busy": "2022-09-07T23:59:35.904826Z",
     "iopub.status.idle": "2022-09-07T23:59:35.910381Z",
     "shell.execute_reply": "2022-09-07T23:59:35.909881Z"
    }
   },
   "outputs": [
    {
     "name": "stdout",
     "output_type": "stream",
     "text": [
      "[(slice(0, 270, None), slice(0, 270, None)), (slice(0, 270, None), slice(230, 500, None)), (slice(230, 500, None), slice(0, 270, None)), (slice(230, 500, None), slice(230, 500, None))]\n"
     ]
    }
   ],
   "source": [
    "slices = ps.tools.subdivide(im=im, divs=2, overlap=20)\n",
    "print(slices)"
   ]
  },
  {
   "cell_type": "code",
   "execution_count": 4,
   "id": "f4c49c48",
   "metadata": {
    "execution": {
     "iopub.execute_input": "2022-09-07T23:59:35.913314Z",
     "iopub.status.busy": "2022-09-07T23:59:35.912925Z",
     "iopub.status.idle": "2022-09-07T23:59:36.100608Z",
     "shell.execute_reply": "2022-09-07T23:59:36.100057Z"
    }
   },
   "outputs": [
    {
     "data": {
      "image/svg+xml": [
       "<?xml version=\"1.0\" encoding=\"utf-8\" standalone=\"no\"?>\n",
       "<!DOCTYPE svg PUBLIC \"-//W3C//DTD SVG 1.1//EN\"\n",
       "  \"http://www.w3.org/Graphics/SVG/1.1/DTD/svg11.dtd\">\n",
       "<svg xmlns:xlink=\"http://www.w3.org/1999/xlink\" width=\"547.47pt\" height=\"132.48pt\" viewBox=\"0 0 547.47 132.48\" xmlns=\"http://www.w3.org/2000/svg\" version=\"1.1\">\n",
       " <metadata>\n",
       "  <rdf:RDF xmlns:dc=\"http://purl.org/dc/elements/1.1/\" xmlns:cc=\"http://creativecommons.org/ns#\" xmlns:rdf=\"http://www.w3.org/1999/02/22-rdf-syntax-ns#\">\n",
       "   <cc:Work>\n",
       "    <dc:type rdf:resource=\"http://purl.org/dc/dcmitype/StillImage\"/>\n",
       "    <dc:date>2022-09-07T23:59:36.054685</dc:date>\n",
       "    <dc:format>image/svg+xml</dc:format>\n",
       "    <dc:creator>\n",
       "     <cc:Agent>\n",
       "      <dc:title>Matplotlib v3.5.3, https://matplotlib.org/</dc:title>\n",
       "     </cc:Agent>\n",
       "    </dc:creator>\n",
       "   </cc:Work>\n",
       "  </rdf:RDF>\n",
       " </metadata>\n",
       " <defs>\n",
       "  <style type=\"text/css\">*{stroke-linejoin: round; stroke-linecap: butt}</style>\n",
       " </defs>\n",
       " <g id=\"figure_1\">\n",
       "  <g id=\"patch_1\">\n",
       "   <path d=\"M 0 132.48 \n",
       "L 547.47 132.48 \n",
       "L 547.47 0 \n",
       "L 0 0 \n",
       "z\n",
       "\" style=\"fill: #ffffff\"/>\n",
       "  </g>\n",
       "  <g id=\"axes_1\">\n",
       "   <g clip-path=\"url(#pddd77a2196)\">\n",
       "    <image xlink:href=\"data:image/png;base64,\n",
       "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\" id=\"image1a5358dc38\" transform=\"matrix(0.440741 0 0 -0.440741 7.2 125.28)\" style=\"image-rendering:crisp-edges;image-rendering:pixelated\" width=\"270\" height=\"270\"/>\n",
       "   </g>\n",
       "  </g>\n",
       "  <g id=\"axes_2\">\n",
       "   <g clip-path=\"url(#p20c04e140e)\">\n",
       "    <image xlink:href=\"data:image/png;base64,\n",
       "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\" id=\"imaged13024cf63\" transform=\"matrix(0.440741 0 0 -0.440741 145.53 125.28)\" style=\"image-rendering:crisp-edges;image-rendering:pixelated\" width=\"270\" height=\"270\"/>\n",
       "   </g>\n",
       "  </g>\n",
       "  <g id=\"axes_3\">\n",
       "   <g clip-path=\"url(#p3da9b838e2)\">\n",
       "    <image xlink:href=\"data:image/png;base64,\n",
       "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\" id=\"image011200ca1b\" transform=\"matrix(0.440741 0 0 -0.440741 283.86 125.28)\" style=\"image-rendering:crisp-edges;image-rendering:pixelated\" width=\"270\" height=\"270\"/>\n",
       "   </g>\n",
       "  </g>\n",
       "  <g id=\"axes_4\">\n",
       "   <g clip-path=\"url(#p8878f45e53)\">\n",
       "    <image xlink:href=\"data:image/png;base64,\n",
       "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\" id=\"image99a8042110\" transform=\"matrix(0.440741 0 0 -0.440741 422.19 125.28)\" style=\"image-rendering:crisp-edges;image-rendering:pixelated\" width=\"270\" height=\"270\"/>\n",
       "   </g>\n",
       "  </g>\n",
       " </g>\n",
       " <defs>\n",
       "  <clipPath id=\"pddd77a2196\">\n",
       "   <rect x=\"7.2\" y=\"7.2\" width=\"118.08\" height=\"118.08\"/>\n",
       "  </clipPath>\n",
       "  <clipPath id=\"p20c04e140e\">\n",
       "   <rect x=\"145.53\" y=\"7.2\" width=\"118.08\" height=\"118.08\"/>\n",
       "  </clipPath>\n",
       "  <clipPath id=\"p3da9b838e2\">\n",
       "   <rect x=\"283.86\" y=\"7.2\" width=\"118.08\" height=\"118.08\"/>\n",
       "  </clipPath>\n",
       "  <clipPath id=\"p8878f45e53\">\n",
       "   <rect x=\"422.19\" y=\"7.2\" width=\"118.08\" height=\"118.08\"/>\n",
       "  </clipPath>\n",
       " </defs>\n",
       "</svg>\n"
      ],
      "text/plain": [
       "<Figure size 800x200 with 4 Axes>"
      ]
     },
     "metadata": {},
     "output_type": "display_data"
    }
   ],
   "source": [
    "fig, ax = plt.subplots(1, 4, figsize=[8, 2])\n",
    "for i, s in enumerate(slices):\n",
    "    ax[i].imshow(im[s], origin='lower')\n",
    "    ax[i].axis(False);"
   ]
  }
 ],
 "metadata": {
  "kernelspec": {
   "display_name": "Python 3 (ipykernel)",
   "language": "python",
   "name": "python3"
  },
  "language_info": {
   "codemirror_mode": {
    "name": "ipython",
    "version": 3
   },
   "file_extension": ".py",
   "mimetype": "text/x-python",
   "name": "python",
   "nbconvert_exporter": "python",
   "pygments_lexer": "ipython3",
   "version": "3.8.13"
  }
 },
 "nbformat": 4,
 "nbformat_minor": 5
}

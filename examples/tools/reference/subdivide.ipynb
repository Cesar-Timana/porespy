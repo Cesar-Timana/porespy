{
 "cells": [
  {
   "cell_type": "markdown",
   "id": "76acccd3",
   "metadata": {},
   "source": [
    "# `subdivide`"
   ]
  },
  {
   "cell_type": "markdown",
   "id": "c6b5700f",
   "metadata": {},
   "source": [
    "## Import packages"
   ]
  },
  {
   "cell_type": "code",
   "execution_count": 1,
   "id": "4aa71432",
   "metadata": {
    "execution": {
     "iopub.execute_input": "2022-09-09T11:01:52.072840Z",
     "iopub.status.busy": "2022-09-09T11:01:52.072577Z",
     "iopub.status.idle": "2022-09-09T11:01:53.864844Z",
     "shell.execute_reply": "2022-09-09T11:01:53.864163Z"
    }
   },
   "outputs": [],
   "source": [
    "import numpy as np\n",
    "import porespy as ps\n",
    "import scipy.ndimage as spim\n",
    "import matplotlib.pyplot as plt\n",
    "import skimage\n",
    "\n",
    "np.random.rand(0)\n",
    "ps.visualization.set_mpl_style()"
   ]
  },
  {
   "cell_type": "markdown",
   "id": "be0cb230",
   "metadata": {},
   "source": [
    "## Create image and variables"
   ]
  },
  {
   "cell_type": "code",
   "execution_count": 2,
   "id": "9b8c0fbb",
   "metadata": {
    "execution": {
     "iopub.execute_input": "2022-09-09T11:01:53.869607Z",
     "iopub.status.busy": "2022-09-09T11:01:53.868296Z",
     "iopub.status.idle": "2022-09-09T11:01:54.010518Z",
     "shell.execute_reply": "2022-09-09T11:01:54.010008Z"
    }
   },
   "outputs": [
    {
     "data": {
      "image/svg+xml": [
       "<?xml version=\"1.0\" encoding=\"utf-8\" standalone=\"no\"?>\n",
       "<!DOCTYPE svg PUBLIC \"-//W3C//DTD SVG 1.1//EN\"\n",
       "  \"http://www.w3.org/Graphics/SVG/1.1/DTD/svg11.dtd\">\n",
       "<svg xmlns:xlink=\"http://www.w3.org/1999/xlink\" width=\"276.48pt\" height=\"276.48pt\" viewBox=\"0 0 276.48 276.48\" xmlns=\"http://www.w3.org/2000/svg\" version=\"1.1\">\n",
       " <metadata>\n",
       "  <rdf:RDF xmlns:dc=\"http://purl.org/dc/elements/1.1/\" xmlns:cc=\"http://creativecommons.org/ns#\" xmlns:rdf=\"http://www.w3.org/1999/02/22-rdf-syntax-ns#\">\n",
       "   <cc:Work>\n",
       "    <dc:type rdf:resource=\"http://purl.org/dc/dcmitype/StillImage\"/>\n",
       "    <dc:date>2022-09-09T11:01:53.964859</dc:date>\n",
       "    <dc:format>image/svg+xml</dc:format>\n",
       "    <dc:creator>\n",
       "     <cc:Agent>\n",
       "      <dc:title>Matplotlib v3.5.3, https://matplotlib.org/</dc:title>\n",
       "     </cc:Agent>\n",
       "    </dc:creator>\n",
       "   </cc:Work>\n",
       "  </rdf:RDF>\n",
       " </metadata>\n",
       " <defs>\n",
       "  <style type=\"text/css\">*{stroke-linejoin: round; stroke-linecap: butt}</style>\n",
       " </defs>\n",
       " <g id=\"figure_1\">\n",
       "  <g id=\"patch_1\">\n",
       "   <path d=\"M 0 276.48 \n",
       "L 276.48 276.48 \n",
       "L 276.48 0 \n",
       "L 0 0 \n",
       "z\n",
       "\" style=\"fill: #ffffff\"/>\n",
       "  </g>\n",
       "  <g id=\"axes_1\">\n",
       "   <g clip-path=\"url(#pc556e13512)\">\n",
       "    <image xlink:href=\"data:image/png;base64,\n",
       "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\" id=\"image18b332be4c\" transform=\"matrix(0.526 0 0 -0.526 7.2 269.28)\" style=\"image-rendering:crisp-edges;image-rendering:pixelated\" width=\"500\" height=\"500\"/>\n",
       "   </g>\n",
       "  </g>\n",
       " </g>\n",
       " <defs>\n",
       "  <clipPath id=\"pc556e13512\">\n",
       "   <rect x=\"7.2\" y=\"7.2\" width=\"262.08\" height=\"262.08\"/>\n",
       "  </clipPath>\n",
       " </defs>\n",
       "</svg>\n"
      ],
      "text/plain": [
       "<Figure size 400x400 with 1 Axes>"
      ]
     },
     "metadata": {},
     "output_type": "display_data"
    }
   ],
   "source": [
    "im = ps.generators.blobs([500, 500])\n",
    "fig, ax = plt.subplots(1, 1, figsize=[4, 4])\n",
    "ax.axis(False)\n",
    "ax.imshow(im, origin='lower');"
   ]
  },
  {
   "cell_type": "markdown",
   "id": "6e9cb6b9",
   "metadata": {},
   "source": [
    "## Apply tool\n",
    "``slice`` objects are returned:"
   ]
  },
  {
   "cell_type": "code",
   "execution_count": 3,
   "id": "c0497eed",
   "metadata": {
    "execution": {
     "iopub.execute_input": "2022-09-09T11:01:54.029617Z",
     "iopub.status.busy": "2022-09-09T11:01:54.029387Z",
     "iopub.status.idle": "2022-09-09T11:01:54.035000Z",
     "shell.execute_reply": "2022-09-09T11:01:54.034499Z"
    }
   },
   "outputs": [
    {
     "name": "stdout",
     "output_type": "stream",
     "text": [
      "[(slice(0, 270, None), slice(0, 270, None)), (slice(0, 270, None), slice(230, 500, None)), (slice(230, 500, None), slice(0, 270, None)), (slice(230, 500, None), slice(230, 500, None))]\n"
     ]
    }
   ],
   "source": [
    "slices = ps.tools.subdivide(im=im, divs=2, overlap=20)\n",
    "print(slices)"
   ]
  },
  {
   "cell_type": "code",
   "execution_count": 4,
   "id": "f4c49c48",
   "metadata": {
    "execution": {
     "iopub.execute_input": "2022-09-09T11:01:54.037922Z",
     "iopub.status.busy": "2022-09-09T11:01:54.037544Z",
     "iopub.status.idle": "2022-09-09T11:01:54.219121Z",
     "shell.execute_reply": "2022-09-09T11:01:54.218603Z"
    }
   },
   "outputs": [
    {
     "data": {
      "image/svg+xml": [
       "<?xml version=\"1.0\" encoding=\"utf-8\" standalone=\"no\"?>\n",
       "<!DOCTYPE svg PUBLIC \"-//W3C//DTD SVG 1.1//EN\"\n",
       "  \"http://www.w3.org/Graphics/SVG/1.1/DTD/svg11.dtd\">\n",
       "<svg xmlns:xlink=\"http://www.w3.org/1999/xlink\" width=\"547.47pt\" height=\"132.48pt\" viewBox=\"0 0 547.47 132.48\" xmlns=\"http://www.w3.org/2000/svg\" version=\"1.1\">\n",
       " <metadata>\n",
       "  <rdf:RDF xmlns:dc=\"http://purl.org/dc/elements/1.1/\" xmlns:cc=\"http://creativecommons.org/ns#\" xmlns:rdf=\"http://www.w3.org/1999/02/22-rdf-syntax-ns#\">\n",
       "   <cc:Work>\n",
       "    <dc:type rdf:resource=\"http://purl.org/dc/dcmitype/StillImage\"/>\n",
       "    <dc:date>2022-09-09T11:01:54.168414</dc:date>\n",
       "    <dc:format>image/svg+xml</dc:format>\n",
       "    <dc:creator>\n",
       "     <cc:Agent>\n",
       "      <dc:title>Matplotlib v3.5.3, https://matplotlib.org/</dc:title>\n",
       "     </cc:Agent>\n",
       "    </dc:creator>\n",
       "   </cc:Work>\n",
       "  </rdf:RDF>\n",
       " </metadata>\n",
       " <defs>\n",
       "  <style type=\"text/css\">*{stroke-linejoin: round; stroke-linecap: butt}</style>\n",
       " </defs>\n",
       " <g id=\"figure_1\">\n",
       "  <g id=\"patch_1\">\n",
       "   <path d=\"M 0 132.48 \n",
       "L 547.47 132.48 \n",
       "L 547.47 0 \n",
       "L 0 0 \n",
       "z\n",
       "\" style=\"fill: #ffffff\"/>\n",
       "  </g>\n",
       "  <g id=\"axes_1\">\n",
       "   <g clip-path=\"url(#p8e0a6492c8)\">\n",
       "    <image xlink:href=\"data:image/png;base64,\n",
       "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\" id=\"imageb8fcf6ffd9\" transform=\"matrix(0.440741 0 0 -0.440741 7.2 125.28)\" style=\"image-rendering:crisp-edges;image-rendering:pixelated\" width=\"270\" height=\"270\"/>\n",
       "   </g>\n",
       "  </g>\n",
       "  <g id=\"axes_2\">\n",
       "   <g clip-path=\"url(#pe6a9017c99)\">\n",
       "    <image xlink:href=\"data:image/png;base64,\n",
       "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\" id=\"imagef0f7d71a75\" transform=\"matrix(0.440741 0 0 -0.440741 145.53 125.28)\" style=\"image-rendering:crisp-edges;image-rendering:pixelated\" width=\"270\" height=\"270\"/>\n",
       "   </g>\n",
       "  </g>\n",
       "  <g id=\"axes_3\">\n",
       "   <g clip-path=\"url(#p57a578e262)\">\n",
       "    <image xlink:href=\"data:image/png;base64,\n",
       "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\" id=\"imagec819863864\" transform=\"matrix(0.440741 0 0 -0.440741 283.86 125.28)\" style=\"image-rendering:crisp-edges;image-rendering:pixelated\" width=\"270\" height=\"270\"/>\n",
       "   </g>\n",
       "  </g>\n",
       "  <g id=\"axes_4\">\n",
       "   <g clip-path=\"url(#pe7f4c44057)\">\n",
       "    <image xlink:href=\"data:image/png;base64,\n",
       "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\" id=\"imageaaaa7c02cb\" transform=\"matrix(0.440741 0 0 -0.440741 422.19 125.28)\" style=\"image-rendering:crisp-edges;image-rendering:pixelated\" width=\"270\" height=\"270\"/>\n",
       "   </g>\n",
       "  </g>\n",
       " </g>\n",
       " <defs>\n",
       "  <clipPath id=\"p8e0a6492c8\">\n",
       "   <rect x=\"7.2\" y=\"7.2\" width=\"118.08\" height=\"118.08\"/>\n",
       "  </clipPath>\n",
       "  <clipPath id=\"pe6a9017c99\">\n",
       "   <rect x=\"145.53\" y=\"7.2\" width=\"118.08\" height=\"118.08\"/>\n",
       "  </clipPath>\n",
       "  <clipPath id=\"p57a578e262\">\n",
       "   <rect x=\"283.86\" y=\"7.2\" width=\"118.08\" height=\"118.08\"/>\n",
       "  </clipPath>\n",
       "  <clipPath id=\"pe7f4c44057\">\n",
       "   <rect x=\"422.19\" y=\"7.2\" width=\"118.08\" height=\"118.08\"/>\n",
       "  </clipPath>\n",
       " </defs>\n",
       "</svg>\n"
      ],
      "text/plain": [
       "<Figure size 800x200 with 4 Axes>"
      ]
     },
     "metadata": {},
     "output_type": "display_data"
    }
   ],
   "source": [
    "fig, ax = plt.subplots(1, 4, figsize=[8, 2])\n",
    "for i, s in enumerate(slices):\n",
    "    ax[i].imshow(im[s], origin='lower')\n",
    "    ax[i].axis(False);"
   ]
  }
 ],
 "metadata": {
  "kernelspec": {
   "display_name": "Python 3 (ipykernel)",
   "language": "python",
   "name": "python3"
  },
  "language_info": {
   "codemirror_mode": {
    "name": "ipython",
    "version": 3
   },
   "file_extension": ".py",
   "mimetype": "text/x-python",
   "name": "python",
   "nbconvert_exporter": "python",
   "pygments_lexer": "ipython3",
   "version": "3.8.13"
  }
 },
 "nbformat": 4,
 "nbformat_minor": 5
}

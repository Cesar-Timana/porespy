{
 "cells": [
  {
   "cell_type": "markdown",
   "id": "76acccd3",
   "metadata": {},
   "source": [
    "# `subdivide`"
   ]
  },
  {
   "cell_type": "markdown",
   "id": "c6b5700f",
   "metadata": {},
   "source": [
    "## Import packages"
   ]
  },
  {
   "cell_type": "code",
   "execution_count": 1,
   "id": "4aa71432",
   "metadata": {
    "execution": {
     "iopub.execute_input": "2022-08-12T21:33:12.228928Z",
     "iopub.status.busy": "2022-08-12T21:33:12.228693Z",
     "iopub.status.idle": "2022-08-12T21:33:14.103660Z",
     "shell.execute_reply": "2022-08-12T21:33:14.103008Z"
    }
   },
   "outputs": [],
   "source": [
    "import numpy as np\n",
    "import porespy as ps\n",
    "import scipy.ndimage as spim\n",
    "import matplotlib.pyplot as plt\n",
    "import skimage\n",
    "\n",
    "np.random.rand(0)\n",
    "ps.visualization.set_mpl_style()"
   ]
  },
  {
   "cell_type": "markdown",
   "id": "be0cb230",
   "metadata": {},
   "source": [
    "## Create image and variables"
   ]
  },
  {
   "cell_type": "code",
   "execution_count": 2,
   "id": "9b8c0fbb",
   "metadata": {
    "execution": {
     "iopub.execute_input": "2022-08-12T21:33:14.108961Z",
     "iopub.status.busy": "2022-08-12T21:33:14.107491Z",
     "iopub.status.idle": "2022-08-12T21:33:14.223376Z",
     "shell.execute_reply": "2022-08-12T21:33:14.222816Z"
    }
   },
   "outputs": [
    {
     "data": {
      "image/svg+xml": [
       "<?xml version=\"1.0\" encoding=\"utf-8\" standalone=\"no\"?>\n",
       "<!DOCTYPE svg PUBLIC \"-//W3C//DTD SVG 1.1//EN\"\n",
       "  \"http://www.w3.org/Graphics/SVG/1.1/DTD/svg11.dtd\">\n",
       "<svg xmlns:xlink=\"http://www.w3.org/1999/xlink\" width=\"280.8pt\" height=\"280.8pt\" viewBox=\"0 0 280.8 280.8\" xmlns=\"http://www.w3.org/2000/svg\" version=\"1.1\">\n",
       " <metadata>\n",
       "  <rdf:RDF xmlns:dc=\"http://purl.org/dc/elements/1.1/\" xmlns:cc=\"http://creativecommons.org/ns#\" xmlns:rdf=\"http://www.w3.org/1999/02/22-rdf-syntax-ns#\">\n",
       "   <cc:Work>\n",
       "    <dc:type rdf:resource=\"http://purl.org/dc/dcmitype/StillImage\"/>\n",
       "    <dc:date>2022-08-12T21:33:14.198500</dc:date>\n",
       "    <dc:format>image/svg+xml</dc:format>\n",
       "    <dc:creator>\n",
       "     <cc:Agent>\n",
       "      <dc:title>Matplotlib v3.5.3, https://matplotlib.org/</dc:title>\n",
       "     </cc:Agent>\n",
       "    </dc:creator>\n",
       "   </cc:Work>\n",
       "  </rdf:RDF>\n",
       " </metadata>\n",
       " <defs>\n",
       "  <style type=\"text/css\">*{stroke-linejoin: round; stroke-linecap: butt}</style>\n",
       " </defs>\n",
       " <g id=\"figure_1\">\n",
       "  <g id=\"patch_1\">\n",
       "   <path d=\"M 0 280.8 \n",
       "L 280.8 280.8 \n",
       "L 280.8 0 \n",
       "L 0 0 \n",
       "L 0 280.8 \n",
       "z\n",
       "\" style=\"fill: none\"/>\n",
       "  </g>\n",
       "  <g id=\"axes_1\">\n",
       "   <g clip-path=\"url(#p5e1e427978)\">\n",
       "    <image xlink:href=\"data:image/png;base64,\n",
       "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\" id=\"image93d8baf319\" transform=\"matrix(0.534 0 0 -0.534 7.2 273.6)\" style=\"image-rendering:crisp-edges;image-rendering:pixelated\" width=\"500\" height=\"500\"/>\n",
       "   </g>\n",
       "  </g>\n",
       " </g>\n",
       " <defs>\n",
       "  <clipPath id=\"p5e1e427978\">\n",
       "   <rect x=\"7.2\" y=\"7.2\" width=\"266.4\" height=\"266.4\"/>\n",
       "  </clipPath>\n",
       " </defs>\n",
       "</svg>\n"
      ],
      "text/plain": [
       "<Figure size 288x288 with 1 Axes>"
      ]
     },
     "metadata": {
      "needs_background": "light"
     },
     "output_type": "display_data"
    }
   ],
   "source": [
    "im = ps.generators.blobs([500, 500])\n",
    "fig, ax = plt.subplots(1, 1, figsize=[4, 4])\n",
    "ax.axis(False)\n",
    "ax.imshow(im, origin='lower');"
   ]
  },
  {
   "cell_type": "markdown",
   "id": "6e9cb6b9",
   "metadata": {},
   "source": [
    "## Apply tool\n",
    "``slice`` objects are returned:"
   ]
  },
  {
   "cell_type": "code",
   "execution_count": 3,
   "id": "c0497eed",
   "metadata": {
    "execution": {
     "iopub.execute_input": "2022-08-12T21:33:14.227900Z",
     "iopub.status.busy": "2022-08-12T21:33:14.226890Z",
     "iopub.status.idle": "2022-08-12T21:33:14.233660Z",
     "shell.execute_reply": "2022-08-12T21:33:14.233190Z"
    }
   },
   "outputs": [
    {
     "name": "stdout",
     "output_type": "stream",
     "text": [
      "[(slice(0, 270, None), slice(0, 270, None)), (slice(0, 270, None), slice(230, 500, None)), (slice(230, 500, None), slice(0, 270, None)), (slice(230, 500, None), slice(230, 500, None))]\n"
     ]
    }
   ],
   "source": [
    "slices = ps.tools.subdivide(im=im, divs=2, overlap=20)\n",
    "print(slices)"
   ]
  },
  {
   "cell_type": "code",
   "execution_count": 4,
   "id": "f4c49c48",
   "metadata": {
    "execution": {
     "iopub.execute_input": "2022-08-12T21:33:14.238192Z",
     "iopub.status.busy": "2022-08-12T21:33:14.236816Z",
     "iopub.status.idle": "2022-08-12T21:33:14.468125Z",
     "shell.execute_reply": "2022-08-12T21:33:14.467584Z"
    }
   },
   "outputs": [
    {
     "data": {
      "image/svg+xml": [
       "<?xml version=\"1.0\" encoding=\"utf-8\" standalone=\"no\"?>\n",
       "<!DOCTYPE svg PUBLIC \"-//W3C//DTD SVG 1.1//EN\"\n",
       "  \"http://www.w3.org/Graphics/SVG/1.1/DTD/svg11.dtd\">\n",
       "<svg xmlns:xlink=\"http://www.w3.org/1999/xlink\" width=\"554.625pt\" height=\"136.8pt\" viewBox=\"0 0 554.625 136.8\" xmlns=\"http://www.w3.org/2000/svg\" version=\"1.1\">\n",
       " <metadata>\n",
       "  <rdf:RDF xmlns:dc=\"http://purl.org/dc/elements/1.1/\" xmlns:cc=\"http://creativecommons.org/ns#\" xmlns:rdf=\"http://www.w3.org/1999/02/22-rdf-syntax-ns#\">\n",
       "   <cc:Work>\n",
       "    <dc:type rdf:resource=\"http://purl.org/dc/dcmitype/StillImage\"/>\n",
       "    <dc:date>2022-08-12T21:33:14.429636</dc:date>\n",
       "    <dc:format>image/svg+xml</dc:format>\n",
       "    <dc:creator>\n",
       "     <cc:Agent>\n",
       "      <dc:title>Matplotlib v3.5.3, https://matplotlib.org/</dc:title>\n",
       "     </cc:Agent>\n",
       "    </dc:creator>\n",
       "   </cc:Work>\n",
       "  </rdf:RDF>\n",
       " </metadata>\n",
       " <defs>\n",
       "  <style type=\"text/css\">*{stroke-linejoin: round; stroke-linecap: butt}</style>\n",
       " </defs>\n",
       " <g id=\"figure_1\">\n",
       "  <g id=\"patch_1\">\n",
       "   <path d=\"M 0 136.8 \n",
       "L 554.625 136.8 \n",
       "L 554.625 0 \n",
       "L 0 0 \n",
       "L 0 136.8 \n",
       "z\n",
       "\" style=\"fill: none\"/>\n",
       "  </g>\n",
       "  <g id=\"axes_1\">\n",
       "   <g clip-path=\"url(#p3b210dce11)\">\n",
       "    <image xlink:href=\"data:image/png;base64,\n",
       "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\" id=\"image19a0ffa759\" transform=\"matrix(0.455556 0 0 -0.455556 7.2 129.6)\" style=\"image-rendering:crisp-edges;image-rendering:pixelated\" width=\"270\" height=\"270\"/>\n",
       "   </g>\n",
       "  </g>\n",
       "  <g id=\"axes_2\">\n",
       "   <g clip-path=\"url(#p98b3784ec1)\">\n",
       "    <image xlink:href=\"data:image/png;base64,\n",
       "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\" id=\"image1edde0af20\" transform=\"matrix(0.455556 0 0 -0.455556 146.475 129.6)\" style=\"image-rendering:crisp-edges;image-rendering:pixelated\" width=\"270\" height=\"270\"/>\n",
       "   </g>\n",
       "  </g>\n",
       "  <g id=\"axes_3\">\n",
       "   <g clip-path=\"url(#pc54b25532f)\">\n",
       "    <image xlink:href=\"data:image/png;base64,\n",
       "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\" id=\"image46d2a94614\" transform=\"matrix(0.455556 0 0 -0.455556 285.75 129.6)\" style=\"image-rendering:crisp-edges;image-rendering:pixelated\" width=\"270\" height=\"270\"/>\n",
       "   </g>\n",
       "  </g>\n",
       "  <g id=\"axes_4\">\n",
       "   <g clip-path=\"url(#pe4af6035a8)\">\n",
       "    <image xlink:href=\"data:image/png;base64,\n",
       "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\" id=\"image17e8b8dab6\" transform=\"matrix(0.455556 0 0 -0.455556 425.025 129.6)\" style=\"image-rendering:crisp-edges;image-rendering:pixelated\" width=\"270\" height=\"270\"/>\n",
       "   </g>\n",
       "  </g>\n",
       " </g>\n",
       " <defs>\n",
       "  <clipPath id=\"p3b210dce11\">\n",
       "   <rect x=\"7.2\" y=\"7.2\" width=\"122.4\" height=\"122.4\"/>\n",
       "  </clipPath>\n",
       "  <clipPath id=\"p98b3784ec1\">\n",
       "   <rect x=\"146.475\" y=\"7.2\" width=\"122.4\" height=\"122.4\"/>\n",
       "  </clipPath>\n",
       "  <clipPath id=\"pc54b25532f\">\n",
       "   <rect x=\"285.75\" y=\"7.2\" width=\"122.4\" height=\"122.4\"/>\n",
       "  </clipPath>\n",
       "  <clipPath id=\"pe4af6035a8\">\n",
       "   <rect x=\"425.025\" y=\"7.2\" width=\"122.4\" height=\"122.4\"/>\n",
       "  </clipPath>\n",
       " </defs>\n",
       "</svg>\n"
      ],
      "text/plain": [
       "<Figure size 576x144 with 4 Axes>"
      ]
     },
     "metadata": {
      "needs_background": "light"
     },
     "output_type": "display_data"
    }
   ],
   "source": [
    "fig, ax = plt.subplots(1, 4, figsize=[8, 2])\n",
    "for i, s in enumerate(slices):\n",
    "    ax[i].imshow(im[s], origin='lower')\n",
    "    ax[i].axis(False);"
   ]
  }
 ],
 "metadata": {
  "kernelspec": {
   "display_name": "Python 3 (ipykernel)",
   "language": "python",
   "name": "python3"
  },
  "language_info": {
   "codemirror_mode": {
    "name": "ipython",
    "version": 3
   },
   "file_extension": ".py",
   "mimetype": "text/x-python",
   "name": "python",
   "nbconvert_exporter": "python",
   "pygments_lexer": "ipython3",
   "version": "3.8.13"
  }
 },
 "nbformat": 4,
 "nbformat_minor": 5
}

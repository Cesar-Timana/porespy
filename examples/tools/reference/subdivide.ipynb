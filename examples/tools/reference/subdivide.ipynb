{
 "cells": [
  {
   "cell_type": "markdown",
   "id": "76acccd3",
   "metadata": {},
   "source": [
    "# `subdivide`"
   ]
  },
  {
   "cell_type": "markdown",
   "id": "c6b5700f",
   "metadata": {},
   "source": [
    "## Import packages"
   ]
  },
  {
   "cell_type": "code",
   "execution_count": 1,
   "id": "4aa71432",
   "metadata": {
    "execution": {
     "iopub.execute_input": "2022-08-12T22:15:31.805566Z",
     "iopub.status.busy": "2022-08-12T22:15:31.804889Z",
     "iopub.status.idle": "2022-08-12T22:15:34.200378Z",
     "shell.execute_reply": "2022-08-12T22:15:34.199590Z"
    }
   },
   "outputs": [],
   "source": [
    "import numpy as np\n",
    "import porespy as ps\n",
    "import scipy.ndimage as spim\n",
    "import matplotlib.pyplot as plt\n",
    "import skimage\n",
    "\n",
    "np.random.rand(0)\n",
    "ps.visualization.set_mpl_style()"
   ]
  },
  {
   "cell_type": "markdown",
   "id": "be0cb230",
   "metadata": {},
   "source": [
    "## Create image and variables"
   ]
  },
  {
   "cell_type": "code",
   "execution_count": 2,
   "id": "9b8c0fbb",
   "metadata": {
    "execution": {
     "iopub.execute_input": "2022-08-12T22:15:34.206811Z",
     "iopub.status.busy": "2022-08-12T22:15:34.205222Z",
     "iopub.status.idle": "2022-08-12T22:15:34.408011Z",
     "shell.execute_reply": "2022-08-12T22:15:34.407244Z"
    }
   },
   "outputs": [
    {
     "data": {
      "image/svg+xml": [
       "<?xml version=\"1.0\" encoding=\"utf-8\" standalone=\"no\"?>\n",
       "<!DOCTYPE svg PUBLIC \"-//W3C//DTD SVG 1.1//EN\"\n",
       "  \"http://www.w3.org/Graphics/SVG/1.1/DTD/svg11.dtd\">\n",
       "<svg xmlns:xlink=\"http://www.w3.org/1999/xlink\" width=\"280.8pt\" height=\"280.8pt\" viewBox=\"0 0 280.8 280.8\" xmlns=\"http://www.w3.org/2000/svg\" version=\"1.1\">\n",
       " <metadata>\n",
       "  <rdf:RDF xmlns:dc=\"http://purl.org/dc/elements/1.1/\" xmlns:cc=\"http://creativecommons.org/ns#\" xmlns:rdf=\"http://www.w3.org/1999/02/22-rdf-syntax-ns#\">\n",
       "   <cc:Work>\n",
       "    <dc:type rdf:resource=\"http://purl.org/dc/dcmitype/StillImage\"/>\n",
       "    <dc:date>2022-08-12T22:15:34.339032</dc:date>\n",
       "    <dc:format>image/svg+xml</dc:format>\n",
       "    <dc:creator>\n",
       "     <cc:Agent>\n",
       "      <dc:title>Matplotlib v3.5.3, https://matplotlib.org/</dc:title>\n",
       "     </cc:Agent>\n",
       "    </dc:creator>\n",
       "   </cc:Work>\n",
       "  </rdf:RDF>\n",
       " </metadata>\n",
       " <defs>\n",
       "  <style type=\"text/css\">*{stroke-linejoin: round; stroke-linecap: butt}</style>\n",
       " </defs>\n",
       " <g id=\"figure_1\">\n",
       "  <g id=\"patch_1\">\n",
       "   <path d=\"M 0 280.8 \n",
       "L 280.8 280.8 \n",
       "L 280.8 0 \n",
       "L 0 0 \n",
       "L 0 280.8 \n",
       "z\n",
       "\" style=\"fill: none\"/>\n",
       "  </g>\n",
       "  <g id=\"axes_1\">\n",
       "   <g clip-path=\"url(#pad01a3e7f3)\">\n",
       "    <image xlink:href=\"data:image/png;base64,\n",
       "iVBORw0KGgoAAAANSUhEUgAAAfQAAAH0CAYAAADL1t+KAAAnSklEQVR4nO3d27HcSJItUHCspOB3C0AhyowKtLLUglKwpWir+8HOy+RhPvCIh7vHWp8z1TxAhIdvBBKJ/PT3p3//sxX37cf32YeQ0tfPX2YfQnPZaqHVHGQ7b6isV2/9vy7/KgAwlECHwOysgb0EOhTnogDWsESgV/wsGADuLRHonGNnF8OVeTCHsA6BDgkcDeZvP74Lc1iMQIck9gS0IId1/TX7AID9hDXwzDI7dA/GATBbzyxaJtABoDKBDgAF+Az9oFe3S3y+GZv5ASpbaod+5bOLr5+/vP3f7/lvshGCAG30zoelAv2so5NQMdgBiG25QD8StFeDWagDsG1j8sBn6E+0Gvzbv+PWNdHtqXl1DMeN2twtt0PftveD22PwM9+G18Tr21ubmesYqlsy0LftcQMb0aw0Q6I5U5O3taKe4bWRa2TpW+6zmpHb8ETRYg2Mrue9xxxxfb079ojHzHmjM+bT35/+/c/Qv8gfsizi7LuxLOM8Uq85bTnWLY4xwtwfOY8Ix8s1M/qlQA8k+iIW6LWMms+j4z7iuEbWwpXzUbM5zeqVAj2gyIs4c6hHHtcZMs9lS73qouX4qt08Zq6rpT9Dj8pn7PQmzH/5OBYt1l3r8V2lJ/jq5DV26AlEK+CsYRBtHGfKOoez7Kmd0WM66zmFHuvozNhFXM+z15VATyRSAc8u3DMijd9sGeeP/e5rPfqDj1ePL8q6jrCmBHpCCvicKOMWQba5I7aza6tVHc5e21HW07Ivlsksygs9Zi+ioyKMWQTGgdbOvpyo5d9X1wI9tQhFnC3UgT729qOefWtGP5zdg++55V7E7GCNVNSvzB6nCLLMFfl9XG9R331wVoS1dH+uvrZWxNfPX6aG1e1vRyhwIIaZr9eufvH+6Pzccqep6osIyKHyD20967MCnea+/fgeNtjdQYB1VPqs/uZVbxXodBM52IE19HprX0QCne6EOjBTqxCOHObbJtAZJNJuPfqi7C3KPMBIV9d9hr4h0BkqUrADazkbyhnCfNsEOpMIdmCGo+EcLcxfHY9ALyJrOM4K9miLFBhnz9vqIryJ8yhviisia6A/MnIRVRq3I7I1KuBPH/uXHXoB1ULJ7XiA9z7eRfDqV8Ia8ZvOK7wiEqjt1h/t0EnBrh3gNYGe3Goh1yPYfZ4MVPDpv//51+WH4jTEeVYL9I9a1t5KY2nNQj1NAv2eRjHWSiH0Squ6W2U8rVOop/kt99st0VUaIzG0qjdBB2TVfIf+iCbZjwunP9mtv2dNQj1DHoqza2cku3VgRUN26M9omNe5SHrOA3PPWXtQz9RAv0pTqhc0rQn1x6wdqCf199DdxuedlvWR8ccagHWkDvSblYNdwIwn2IGISgT6zaqhzmu96kKwA5GUCvRtWzPUhcp7PevC+AMRlAv0VQmVuezWgdlKBvqKu/RtE+oRmANglpKBvm1CnT+NqglzAMxQNtBXJlDmMwfAaKUDfdVdOjEIdWCk0oG+beuGujB5bHQ9mAdglPKBvjJhEkPEeVj1QhcqWyLQNS9mixjqQC1LBPq2rRvqguRPq9YCUNsygQ6zRbu4cmEDtSwV6BoYs0ULdaCOpQJ929YMdSHCMyuuB6jqr9kHMMOtiQk6+LkeZq+FjxcWs48HMvr03//865/ZBzHb7ObxbJfU6rjswh6bOe8R52T0eOwdg9nrE7IQ6MmcaW4RwyMCgf6nEWNy5tyFOrwn0JN71+iiBkcEAv25HmNz9ZyFOrwm0Iu5Nb3ogRGBQH+vxRi1PFehDs8t+VBcZVmCghzOPkCqDmE8O3SWNmvHlz3wHo2b35uHuezQYbDsYb5tNc4BqhHoMEivh8KEK7BtAh26uxK4e24v3/83wh3W5TN0lhfxK1rbdv64qoe6z9DhMTt0aCRKkH79/CXMsbQmzOE5gQ4XRA3OyqEOPCbQWd6RHycRkvPYncfX+3cpeM1n6PA/0Z4ij/aWtpkEQlxHa8xc9iPQIbCrzS97oGv+MXkvf0z/N/sAgH6yNs6vn7+kPfbqWlwkZr/QjMoOHYJbZZcuwGPrUUfmvC0PxQGnachr6HVReOSBVN6zQ4cEou3SqzThj+NS5bxa6n2Hx5i3I9AhiSuNr1VTzt58PZF9jF/Qy8Utd97as9iyfE6b2czbkxUa7pkaXfmWsDXd1oiLSTt0njpTUJpAfyPnpUKYuTtx3Ix1XG18W47h3rER6DwV4RYvjx2dmzPzUaHBenbgnMwvU5plxJi9Gx+BzkPeUhbfkTk6MheZm+q9XvVXZXyemblus41ttLHyGTrd3ApOsPdxG9dWTTBbM6WeDM8sROlnj76hIdDpzi9/9XU/tkebYfTmeVbPessQOrSVoX99+/FdoDOGUB9j7xgLJKKKdMGUrWd5lzsP9XrNY5SFurLqczCiCWdr9ByXcY4FOsMJ9nmMOxnMDtPZf/8sgc40t2AXMrQyshFnbfpZzBrfzPPqM3SeGvlZ1qO/k3lhAflk7zm+h85L0XfP2RfgDNHn9CwvQ2kj2poaNb7RzvsMO3ReivTE6SN29gA/+QydciJfgFCPC8i+fGthP4HOWxmLXaivJWONQmsCnbKEOtTggm0fgQ5wUaXAcSGcl0Bnl0oNi1rU5hrM83uecgdoIPo3QqjnY73ZoVOaBgvH2AnH9+wNmwIdFlOpYUc7l2jHU83q4/vuVdkCHQCC23O3UaADKUXdrUU9LvLa+9GhQAeAoI48ByTQgXSi74KjHx85HH2o9/DX1l79AUUM9Jalz/gaWx5fP38JV1dnauevlgX37N+KNlBATtl6ye14BXsbxvG1IS+W+TgJ2RYlMF+UvrE3VO6PV7BzxNk6mfKmuPuDjbJIgZhm94izzfXRbVzBTk/TX/16K+zZixaIZWZP6B24Pl8/rvd4Rfwc/ahPf3/69z+zD+Kj7INaVeYGpKb+FHE+K4b4q3OKOAfbFnO9jBirKOed6pb7O27Jw1oqBvn9v6+PXRP1wqeXs3dwQgb6PbfkY1htQTFG5SDfw63394zPfmleLPPupfRAHt9+fJ8W5jN6SbbeFeV4oxzHDGfWR5pAv7ktxpUnGjJb9W5btp41u8/O+NvR5ujoWkkX6PdmF9wqjDEtzNyV38yu5dl//wzBOteRNRP+M/Q9fM4OcVmXv7t/SC5LcI14UDnLWMywt15Cfm2tBU2knQoLTT08NuL71lFUqOPo9s535LmIVLOvPBrDEjv0R+za24i88IjN2luPfjHOo/VVNtBvfKcdxoq6znxFjOpSPxR3lCfkjzFO9bUO36hhDitYKtDvCfbXjA1HCXMqyNz7yt9yfyfzLflex565oJ/x+s3nrt6KNq4Qw/KBfi/Dg3TPGm+rcK8Y5vQTea084nN0KhPoD0Tdte9tRGeOX5Nb25mgi7Q2gMLfQ29tdvNqFbj357FaiM+ewwz21ESFcYxY++4exJG1xu3Qd8pwO34PDYNXnl3wZa/7yO7H9uM4W68cYYd+0sgGZ1G3IZS4F2Fd+Ugsroz9YtmvrV3la2/AFUcCI8IP2xCfQL9oRLBbyNcZQz7KWBOCnVcEeiN27MBeV0NZsPOIQG+sV6hbvNBe9nWV/fhpS6B30DPULWDIrcf78/UFtk2gd9Pz9rsFDHykJyDQE7OA4bpK66jSuXCcQE/Obv0940MUI2pRva9LoBdhEQM3+sGaBHohFjGcU3HtVDwnXhPoncxaTBYxcKMfrEWgdzB7Ec3++0Ac+sFxWcdMoDcWpRCiHAcwn36wBoHekEUDRKU/1SfQG4m4WCIe02jGAFiFQG9AaAB7zP4BJ73qvcxjJNAvij750Y8PIpgdtCPpCXUJ9AuyLIwsxwkwU/ZeKdBPyj7xwLr0r5oE+kFZ352e8Zihoii39/WE31UYD4F+QIUJB6Amgb5ThTCvcA4APCbQd6gUhJXOBbJy2z2WKuMg0N+oMtH3Kp4TnBUlXOEqgf5C5eCrfG6QgQuJGCr1QoH+RKVJfmaFcwRYhUB/YKWgW+lcIZoIu3Q9oA6BTtrv1r9T8ZyAdqr1CIH+QbUJPqJqsENks3fps/8+7fw1+wAiEWY/3Y+DxQ6QQ9Mduh1ePbc5Na9UFOWCNcpxkNvlHfqjRv/x/5ahWAXWe8/GKMP8QnRfP3/Rh7jkUqDvLb7bf6fx1/SoDsw1HDc61K3TWk7fcj9TdFGvPqMeV2b3t+qNL+wnZDlr+ENxdutr8qAdxGId1nNqh95ix2XXti67diKIHGi9jy3yuXPe1O+hR2jqEY5hVYIdnvv6+Yvg5RAvlmE6oc5omYKy9bFmOneOmR7omjnbZrcOr7QKYWH+u2rjMT3Q4Z5Qp7esTfzKcbt9vwaBTjitdusaGNWcCWbrYB0CnbDs1mmtSrjtCXa78vUs/+MsXrcYm/cW0ErFGqp4TqNVygA7dFKosuCYQ/CxAoG+WexZnAl1c4saYBWnAr3lAomy2KIcB6/ZqbOXz5BZjR36HYs/h6Ohbl7XY85Z0dRAj7joXNXnINR5xPrljCo1czrQqwzAM7fGUP08oQprldVN+9papsW351h9tjvetx/fD9VRpa+n8EumXgI9XQr0sw2y4gJ8d06CJAahXkfFPgJXXN6hH22Qqy7C+/MWKO0c3aUTh3mDtj79/enf/7T4h/aElAX8O8Hexpm6MvZz6AFEVKUfNHvK/dVC9XDZY8ZlHuM+njEnoiphvm2NH4qzYM/xuS6V6QtEVa3vLv/jLFEI9fGMeX/CnEiqr3eBztKEej+9w/zjvLl4YNvqh/YrAj0Q4UIVo8P8/v8m2NegV/7Ju9yD0YzGM+ZtzQjzj/9/zb4u8/ucQAeamR3mZ/9bqECgB2THOJ4xvy5SmF/530BWAj0oAQO/XAlmoV6L3vicQIf/0SjOiz52Qr2W6PU2i0APTNGSQcRb7T3/HWLwps0/CXRSa72gNYhjso2XUK8nWw32NOR76H645TzfTSeqEWtW7bOHPvlT1x36ke8L3v5b3zH8k4udsYx3bfpLTdZtx0C/umgE/O8UK5Fk353rKTWt3ie7BHqPxSLYFetHxmOOKuO+ej+pqkp9npHuobjVg33lYh3JOD82alxWXOPuSraz6vptHuijCnHlgvd1jXUX7ApGru0IfeRZgEc4tsxW7BHpduj3Vi94wc5IVWttVh+xE6e11IG+bUJ9234Fe9WGyzpmhuvIv3Xk2z+ct1pPbPo99JmLcbWJe6bHOERrKqPm2ndbf1lhffXuI2qJ3tLv0OnP7p8RIgRer2OIcG7UVybQLZj+hPqaVpv3lr3E5+TzrVS/Q179Sh2zb0OvtDhXEi30bsdzpt5anot654gyO/Rti9cUyE9D7S/yut27w/b9cSJoukOfvXtjDPO8Fg+dxr7ogJtSO3QgF0HJCKtckAp00pi1KFdpBqMJ89fUHUc1D/TZRahJQHut15V1Cu112aHPDnX6M8fraRXCwhz6cMsddnAB04Yw30e9cUa3QFeQUM+Vr2YJc+ir6w7dK0OhpiPh7PvZMMaQN8X53jIVqOPf3Y/F/YW7MbrGJqiPFdbvsFe/rjCY9KPJxWZtw3xDH4pzC57s1C89qS+umPKUu2AnM7VLD+qqv+pjPPXX1m6D63YdAKvZc4FxJB9D/HyqYCcbz4TQUvWdYyQR1u6R+f7437469hCBftPiSVkLY4yRC8KcUpn6XkeLuX70b9z6cdg3xfmcnejUJ+Q0Y+32/Ju3vAwb6De3A9U8iUhdcoX6mWfk2I/6W5/+/vTvf4b8pcY+3vK1MMYadcs9y7zO/kyOfLLUdnW91+7IeQ71GfoRFgOQlf4VR8+H5EbPc/hb7qwrU9PLdKzMpVbi6fGx7ox5FujQiEbNO2oktlbzM2ueBTqHjfi8WOOjGjWdw9V5mjnPaT9Dp67MjS/CSyv45chLOUYeB7GdfdnZ7HlO+5Q7c1R6IrQnoT7XuzryYqTjno1ZlfN751XNRBkDgc4ubrMfJ9THO1pDLlCf87bOfAQ6L/m++TVCfawzdVTlK0uttByPrGOQlc/QmR46Fj0tRKmjKMdxVI8+cP9vZh2XTOzQFzE7tJ9ZYZFHHftqrtRSqznKWs+jazTrOEVnh16UEInDk+/xXZ2jrAE1qy4f/d2sYxiJQC8mU3CstICFel1Z6zhaPe49nqzjPYJb7kVEW5zvrLooRzyAla0WWmlRU0fGLnMNV6iRzOPfix16chUW5krOvrDi2b/z7v+nPvrIHCZVauLbj++p56EHO/Sksi9KC/GnEbcZs9fKEb136dnrtmItZJ+TluzQE6q4KFc1ohn5/P66CqFRtQbs1H/x4yyJfPvxveyipK9VGl6L9XE/Vj1+VnMGfWMNAj0BQU4LFYJplCpBvm1rhPkK57iHQA9OocIx1swvK43FSuf6zKf//udfux+Kq3LFGt0KhamW5lmhvrZNja0yz/dWn/NDgf7R6oPXksXHKCvV2qo1ttIc31t1vm8uPeXuxfvnrbrgAHpZ/Yn3Szv0R1YezHeE+J/Uyxwr1eJqNbbS3D6y2nzfax7o964O7J7CzDJ5qy+yV7LMYSWr1eMqNbbavD6yylw/0vXFMkduyZ8txNv/LuokWmAA46x8273rDn20iJMo0PeJOHfVrVab1Wtstfl8pfpcP+N76B1ZYPsZK4BrSgW6UMjN/I216i4GqioV6JEIJwBG8mtrhLLyAy0zXP0ltj1z5eJ2jEi/qndkDUc55gpKPRR3EyEQFOl5EeZvNe/qteWczFobq9TVjPHt/Tv0R60y1x8J9A6E+XWz55AxRq2Vleupxxj3HM/WP4G7ErfcgWki3SauKlu43Y5XXRznobjGFGEbxnEdlX57nHbUxHElA31WGAghOE8D56MzNbFyHZUM9BmEOUB7Kwf0UQK9AWHeh3Fdj+bNI+pin7KBPiIMvv34LnQABtgT6qsHf9lA702QQx+rN2WeUxuv+draQYIcgIhK79Bbhq/b63MYc1pQR6zADv0NjQCADErv0LftWiALc4A49OTXygf6GW6vx2IugD19YPVesUSg751kQQ51Wds56cv7LfMZ+qvf2VYsQGTPelTlr3Gd7cuven1l3358r/nzqe/4haecVlykq+q5PjPV0d5xyHRO7/j51H0ejdOSgU5OKyxSfup9wZ2hlo6OQYZzeibbb7bP9GqslvgMnRrcVWEVZ2o94/ro+fl4xvF45905CXQu83vWZFOx2W9bjvO6hXiGY41kz3i55c5he8LbZ6CcNbLRR6ylq+cf8Zy2bd7FRtTxOGLv2C3zlDvXHVkYt//WVTjs12K9RHvKWw+45sj4ueXOW1duqfdoLBoErVStpSjnFeE4IhzDWUePXaDzUotAFupEFqWWWh/H7POa/ffvRTqWvc4cs0DnoQwPumVcpLw2a07VUlvG85qz4yfQ+UOPII9+cQAzQ6jSV7eihnnU4/roynEKdP6/DLvyj7IsUnKoWE8jzyn6+EU+vhZf5RPobNuWewcdeZGyX5R5jHIcLY04pyzjFvE4Wx2TQF9cxl35IxEXKXmpp9oizW/LYyn7YplHIRVpEmeaFeAjxr/CxcmqIq7PEfVU4UU6Eeduj2q9sOSLZZ5NUuVfWcsQZJXHn2ui1kW0l7TQ1n3d9ZznUfVdboc++7Wko2RtMnbpPBJ9TVZo9jetzyX63K2k1Gfoews1c8Ov8pl3TxoMsKIygS7k4hO0PJKhLjIc416VzoXflQj0M2Ge8QIg4zHPomnRmpr6kzGJJX2gCzlgFAFGZOkDfRUuXI7TfMnA2qaV1IF+dSFYSDBXxouujMfMGlIHOkAFNhe0kDbQLYBc/CwmlWSuK72zrpJvigPIxpsUz3l1gbLaeKbcobvCBGbrERa9e1ul3rnnJVurvYjLDh0W9iqUVmqEkdzGvfUFQ5X5PPvekRV26+kCvUpRrmSFhZTJ3vm4/XfW3BytQqjK/LX4VlP1XpTylntLWYq9eiEyxpk6UnvP9R6b2y3jo33q7P8uqirn0VuqHXqPSdWsWMWVWrdbn2/FsW99ztV36cvv0Omr8uLJ4tuP783mwXxyr+dFxooXMFcJ9EQ0U47qUTMt/01NO7dePcmFwjlpAr3yJFQV4QJk5bqJMP4rMM5trbxmr0oT6PykebBH7zpRh/QwKsyrXjQI9IQyNNMMx1hRy8/L9/ytFqo2V45RB9elCHQTDe+5iCKrGT2+Yq58+u9//vXP7IN4p9fAZ2+AUQsyyrhGHZ8eZo55q3GOUjdnrVRv21bnDs3suvt4/leOJ9X30Pndtx/fpy+Gj2YvjhVVGfPq3xHmT9H6V297znfPf/NsnQj05CKFumY8lvGOJdJa7K3SK2l7X0j2OM9n/2aKz9B7qNQMI5xLhGO4F6VZ9BJpvH0v/ZdI88J+vUJ3dD0vG+jVjHy6OcLfXVn18c7+DvLq81Npd36v1THNrN8lA73yghv5laWo4xixWbQQecx7yDyPVeepapi3EOFC1GfoBfX8IY2qjSq66OPe6/PjM78NfvQ4eo3tSp+pVzGi3npa7mtr0RtjL2fHMNt4RVpcrWSZgwpj32OsK4zLtq23O393vhHPJUWgb5vvuvJexAV2VbZ6rTIHrcc9+7hU+c75GffnHv34l/oMPVtzZG0Z6zXjMT/SunFXGZcV3T4bjx7m27ZYoFNXhsV2ROYAqPLwnlD/aeXdeTZpAv1qUWVdTKynSq1WCfaWso1HtuNdXaqn3D01yiOVaqJiA834cFFP+hi9pHko7ubMQqjYJPmpUmNUp7+LMre95iXK+T3jwcB80txyv9H0YA23W/ZV13zV82KedIG+bRYCP1W64lfTr1UOdmglZaAfoQlAHdXWc9TziXpcvJY20BXc2uzO11Vtt17pXJgrbaBvm4UAK7P+4XepvrZ2Ru8frwfmqfIVsEjnoV/+8mwsoszVR6l36Kwp6mI6Q/O8rtot+KoyzdG7mop6LksEeqUAAB6L2mT3yn78Veydh4gXkksE+rYJdVhB6yYbrWH31vt8o4/nmeOLdE7LBPq2CXVYRaQme0TW466gwtinDvQzAS3Uc6s0fxUaSGQRb4kSs+6r/PhX6kA/q1IoAK+dDfZZTXqFvxslALet3bFEOKe/XoVbhAPsxdfZYC239b7ngl5v6C/CV/WqzfOnvz/9e/evrUU6+VaFEOmceG92A2hJ7c13X0/R5mNkrc8+99Hruuf5zuxRh14sE7n4z7JTh3VZ+zHGYORuPcL59nL6M/Svn79MuxJp/Xcr7fqAGkYET6Rw6/0Q4woPSR665f7OqMHqFcDVJ7uCKhdfao29Vu53V8991jnO6lNN3+V+O4msn0+4/Q6sIEufy3KcUXT5cZYRwd5LtVB/dAFU6fygutafL1v/dXX9HrrPuud6Nl4zn39AQ+W4Fp//rvAZ8uqafob+ytVCqvS1ht6OjFW288x+ITJ7vCt+U2U1R9eAeR5vVp8aFug3Z4pr1uBkXQjVF3zWUI/4gE62uedPH+fXnM63TKDf7C262c072+I4O16ZznN2TRwxc1z3jlOmuYcMSjzlfsSrq8pIDTvTQ3JXxi3TeUY3exwjrR9gnGmB/pEmdE2L8RPq50UYN2sIYpj1nvolf23tqJUaZYZzjRCe2/brqeEIx5Nh3oC+BPpOkRumrweOEynEb8wXsG0C/ZCIjbPXMUU813ujf7s5WojfRJ8nYByBDk9EDfGbFmEe+fwgsxlrS6AfFGlH1PtYIp3rI70WTPQgb2WFc4SVCPQTIgTdqGOIcK6vtAqlyLfVe1jlPGGm0etMoJ80M+hG/+2qoZ49xK+cN1DPtDfFVTG6Oc4M1wxB8G58MpzDUd4IB7GN6tsCvYERjTLKLlkoxPWsRswZzCXQk+nZNKOE+Y2AADhmRB8X6A21DrpoQf6RYAfYr3dPF+gdZPvt9xaEO8B7Pfu7QO8sy8/EZuLiAXLy2+0/9er3Ap3UVm0IkMGZ4FphTQt0eGKFBgBZtA6rquu7R6gLdEqouughixEfG1Zb563HTKBTRrXFDhnMfv4n+7pvOX4CnVKyL27IYnaQv5OpF7Qay7+a/CsAAb1qlJkafhTRQ/ze7VgzzPO3H9+bjK0dOuVkWMC0d6UhqpnXMgX5IxnmV6DDAxkWL+20DBu180v2EP8ow9xeHXM/n0o51RoRj339/KX5XKudPuPKPlcvOgQ6kE7PwFk5zFY+9woEOpDKiNBZLdjsyuO4sksX6JSkOdU0cl5XqaFVznMFAh1gUcK8FoEO8ETlwKt8bqsS6AAvCD6yEOgAi3GRUpNAB9KY9XIQAcgoV2pNoAMsxMVJXX6cBWCHr5+/pHh9aBRnxmr1i42r5y/QKUnjravVL1PRTqv19ujfaTHXq/QDt9wBdnIh8btvP753D8sRfyOCFrUl0IF0Zjb4zKHe6thnhGzlUG81L265U07lhQ8zzV5b1T5uaX0uduhASnbpx50ds1Vue4/Uo4YEOqVoOtBOxCCPdjxn9LogFOiUUWGhc4xdeh8Rg7yC3j9TK9ABTsoY6s+C+hbigryPEbXioThK0ISYJeMLZ7Id70eZHo4beZx26EBqEcIpS7isatb8jP67duikF6GhV7OnERn332XcqWeV4QJqxjEKdFLTQNs403zu/zfm4SehzsyLDYHObs8aVYarZR5rNXeC7JfbmBqPWEbU6Oxe6DN0dnm1EGY1Lg3zvB5fn5ndzKIxHmuJMN8CnSaEaw69vwcboalFchtv49LOlbHsNQ9R5tctd97aG9a3/25EcbuAOGZkw3H7/THPHNQUJcy3bds+/f3p3//MPgjiOtt4ehe5hrjPzGYzco4iNdUz1PM+LX8troVodWeHThc9X/yg+e0zu9nYqe/3bq7OPpBq/PuZvb4esUPnqRbNoEfRa1KvRWs0I+Yr2jlHU2HNtJ7jK2MStd48FMdDrRpAhUaSScRGE/GYoGJdCnQoIPqT1JGPbQXZxz/S0+mRx1Kg84fWu+qW/54d/58iN5h7WY6zKuP/2JFxiT6GAp0hBHEf0RsMXDWixt/9jeh3wG4EOr/pGbxCva0MDeajjMdcifF/7tnYZBozX1sjFV+F+ilTk/nIHLLX6DrPvK62zQ6dOyOarEZ+Xfams201ziGrLGOf5Tgj+etdgzWotNbzpTPVVRo3O3Vo6+0O/duP7xbdAsxxfJXC/KbFOVUcl96ij1n044tq92foI394g7FmhLld+jGVx6rqTv3VOVWeT+Y5/FCcYIexVlhrFUL9yPF//G9XmOO9jMV5px+Ky774+GnmPKoh7mVt5C0+lrz9G36hjisuPeWuIXOVGnpttaab5QUe29bv+aKV10SWuY/q8tfWVi6+7KLMXZTjiGbl5nbk3Gc9A5L5379ZucYqavI9dA2Zq/bWkFpbR8SwGXlbfLVajzjf2XixzKIiNot3zTLiMfeiuf0UaRwq3gnYtlhjzDWf/vuff/3T6h9TGDmsFIwZWUd/2lOzPcdt5poZUQ+ze4Kab8MO/aQZT6UCY0VY43bp7NU00GcX/giPFnimcM9wjCvTWB/bMy6ta9taIRu/ttbYfRPQnDlCvby25+Uzrd5AuGKYz3q5j7o/7+N8Nb/lvuJCeCbarj3SsfA7TW2f3jv1aGsWPnp1R9hn6AecXeiaBK8I8/bOrDdr1O+PR7X3Y12BPlCmz9oZQ0M7bu+YXXm3OkRxpDabfm3tpmqT6rHoR42VhhVL1TUy0t6afjXWWdbF6HrxZP18Z+agyw49yyKJwI59PRpZG1fH0bp7To3OdbY2PeUehJ+lrc289nEb10cNsMLOvCrr4bkrtSnQg+kR7JrXPBrXGEfHucLvr/dmjMZqMdbdHopTCNe4FZ/X7SdAhTnZ9ahh6+JPrXq9p9yDuxrsLgrGEOL5mKt9Wo6TMf9Tyx4t0HeaHYyz/z5/EuL5mbt9jFMfrft6l6+t3atSCJECtcf3cNmnSj3zu8hrJVLNXRmnSOcRQY+as0NPaM8LaiI3qIzsxGszt/ucHSfj+7te/dlT7jtEDsfIx1ZFlWZ09Ktd8MjRp9/V2O969myBDk9UaUR77uRUOdcrfE1rv1ff/3/03/FT7/rq/hn6tuWfVIt8Pdlr9uZo7VY57yuirfcMc/JxzDIc82gj6soO/Y1oi5v+qjSjs784VuX8K8gyF1mOc5ZROeKhuBeE+Xo0Ji81UgO0MnotDdmhu+onAzX6O+sWzmsZ5HvX4ZDP0LctX7NceYeyomz1+c6MZlLN7B6w6rhXcLV2zs69z9AfmL2QGUvjfM1OHfaZ/eKdYZ+hZwnJLMcJI1kXY7mAyuXKZ+UtX1rlobg7mtZ6NM79rI8x1GQuEYL8RqBvnuqFvayTvoR5LlfCvIehgR6xGUQ8Jriid01bM30I81yihfm2LfxQnKaEBnqeV8a2YfzW0nu+hwf6zCdmhTi05Qn444xXfmeyZMS8L7FDF+TQT8VQb90zqo0Px4ya/ymBPqIBCHFWpO5jEeSMrIFpT7n3aDy3p9U1NfZQJ+0Yy9/1+EoS+YyugRJfWxPiMD9UZ//9Vma9tpNaZtTB1M/Qr9x6r9I8AKhl1kXdsB9neWfvAAhyWquwo4qyLrKPpd05ez2qldnzH+Yp92ffa43SqCCiSOtjdjODkSLWe5hAv4nUoFhDxq9dRVsn2cYPKgoX6DBD9FCPFuA3kccMViPQIaCoAX4jyCEegQ7/M2uXHj28b6qHeJZ5gGcEOtzxFsNfqgc4VCPQ4YMevyQmxIHewnwPHSK6EnBCPJdW82U8mcUOHV44slvPEuA3ggdqEeiwQ7awfkeYQz0lfpwF2E+YQ00CHRYizPurdjeHPAQ6LEKYv2Z8yE6gAzRml84MAh0WYPcJ9Ql0NHuAArxYZmGPgtytwnpcsO3Xuv6NPSPZoS9KowGoRaDzG0EP7bjjxUgCfUHvQluoA+Qj0BcjrNdivvfrtZu2S4/t24/vZebIu9wXcqS5f/38pUyRA2zb64ur+/9f1gthT7kv4myBCvXcsjamGXrXurmY48q8ZpszO/QFZCtKGM2Fay2t5vPIzydH4DP04q4WYpZCBuj1eXiWCz6BXpgwhveyNGueG/FgW4Y6EehFtQxzFwZUlaFJ89zoJ9Sj14tAL0gAw2uVvqq0qlnzF7luPBRXiCCH1yI3Y/abPY/ffnwP2W/t0IvoXVwRixf2siOvI8o8RjmOewI9ua+fvwhbeCFC47VG24gwl/eiHY9AT0yTgOfsymuJOpeRjkugJzUjzF1AkEWkJst10eczyvEJ9GTcYueIKI1mpBXPuTLzuZ9AT0SQw2sRm791u4YItSfQk9AU4LUIDZW2ss3p7OMV6AlECvNIx8I+s5sMMIZAD06AwnsuWkCghybMITdr+LysF2kzj1ugB6UR0FLW5rhH5XODIwQ6ABQg0AOyOwfIa9ZdI4EOi3BrGmoT6ABQwP8DODBgW2jWrDoAAAAASUVORK5CYII=\" id=\"imageb3780b3e49\" transform=\"matrix(0.534 0 0 -0.534 7.2 273.6)\" style=\"image-rendering:crisp-edges;image-rendering:pixelated\" width=\"500\" height=\"500\"/>\n",
       "   </g>\n",
       "  </g>\n",
       " </g>\n",
       " <defs>\n",
       "  <clipPath id=\"pad01a3e7f3\">\n",
       "   <rect x=\"7.2\" y=\"7.2\" width=\"266.4\" height=\"266.4\"/>\n",
       "  </clipPath>\n",
       " </defs>\n",
       "</svg>\n"
      ],
      "text/plain": [
       "<Figure size 288x288 with 1 Axes>"
      ]
     },
     "metadata": {
      "needs_background": "light"
     },
     "output_type": "display_data"
    }
   ],
   "source": [
    "im = ps.generators.blobs([500, 500])\n",
    "fig, ax = plt.subplots(1, 1, figsize=[4, 4])\n",
    "ax.axis(False)\n",
    "ax.imshow(im, origin='lower');"
   ]
  },
  {
   "cell_type": "markdown",
   "id": "6e9cb6b9",
   "metadata": {},
   "source": [
    "## Apply tool\n",
    "``slice`` objects are returned:"
   ]
  },
  {
   "cell_type": "code",
   "execution_count": 3,
   "id": "c0497eed",
   "metadata": {
    "execution": {
     "iopub.execute_input": "2022-08-12T22:15:34.411874Z",
     "iopub.status.busy": "2022-08-12T22:15:34.411422Z",
     "iopub.status.idle": "2022-08-12T22:15:34.417501Z",
     "shell.execute_reply": "2022-08-12T22:15:34.415977Z"
    }
   },
   "outputs": [
    {
     "name": "stdout",
     "output_type": "stream",
     "text": [
      "[(slice(0, 270, None), slice(0, 270, None)), (slice(0, 270, None), slice(230, 500, None)), (slice(230, 500, None), slice(0, 270, None)), (slice(230, 500, None), slice(230, 500, None))]\n"
     ]
    }
   ],
   "source": [
    "slices = ps.tools.subdivide(im=im, divs=2, overlap=20)\n",
    "print(slices)"
   ]
  },
  {
   "cell_type": "code",
   "execution_count": 4,
   "id": "f4c49c48",
   "metadata": {
    "execution": {
     "iopub.execute_input": "2022-08-12T22:15:34.420833Z",
     "iopub.status.busy": "2022-08-12T22:15:34.420413Z",
     "iopub.status.idle": "2022-08-12T22:15:34.627174Z",
     "shell.execute_reply": "2022-08-12T22:15:34.626407Z"
    }
   },
   "outputs": [
    {
     "data": {
      "image/svg+xml": [
       "<?xml version=\"1.0\" encoding=\"utf-8\" standalone=\"no\"?>\n",
       "<!DOCTYPE svg PUBLIC \"-//W3C//DTD SVG 1.1//EN\"\n",
       "  \"http://www.w3.org/Graphics/SVG/1.1/DTD/svg11.dtd\">\n",
       "<svg xmlns:xlink=\"http://www.w3.org/1999/xlink\" width=\"554.625pt\" height=\"136.8pt\" viewBox=\"0 0 554.625 136.8\" xmlns=\"http://www.w3.org/2000/svg\" version=\"1.1\">\n",
       " <metadata>\n",
       "  <rdf:RDF xmlns:dc=\"http://purl.org/dc/elements/1.1/\" xmlns:cc=\"http://creativecommons.org/ns#\" xmlns:rdf=\"http://www.w3.org/1999/02/22-rdf-syntax-ns#\">\n",
       "   <cc:Work>\n",
       "    <dc:type rdf:resource=\"http://purl.org/dc/dcmitype/StillImage\"/>\n",
       "    <dc:date>2022-08-12T22:15:34.586580</dc:date>\n",
       "    <dc:format>image/svg+xml</dc:format>\n",
       "    <dc:creator>\n",
       "     <cc:Agent>\n",
       "      <dc:title>Matplotlib v3.5.3, https://matplotlib.org/</dc:title>\n",
       "     </cc:Agent>\n",
       "    </dc:creator>\n",
       "   </cc:Work>\n",
       "  </rdf:RDF>\n",
       " </metadata>\n",
       " <defs>\n",
       "  <style type=\"text/css\">*{stroke-linejoin: round; stroke-linecap: butt}</style>\n",
       " </defs>\n",
       " <g id=\"figure_1\">\n",
       "  <g id=\"patch_1\">\n",
       "   <path d=\"M 0 136.8 \n",
       "L 554.625 136.8 \n",
       "L 554.625 0 \n",
       "L 0 0 \n",
       "L 0 136.8 \n",
       "z\n",
       "\" style=\"fill: none\"/>\n",
       "  </g>\n",
       "  <g id=\"axes_1\">\n",
       "   <g clip-path=\"url(#p58ee1da871)\">\n",
       "    <image xlink:href=\"data:image/png;base64,\n",
       "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\" id=\"image90fcbe537a\" transform=\"matrix(0.455556 0 0 -0.455556 7.2 129.6)\" style=\"image-rendering:crisp-edges;image-rendering:pixelated\" width=\"270\" height=\"270\"/>\n",
       "   </g>\n",
       "  </g>\n",
       "  <g id=\"axes_2\">\n",
       "   <g clip-path=\"url(#p68cd5c96f8)\">\n",
       "    <image xlink:href=\"data:image/png;base64,\n",
       "iVBORw0KGgoAAAANSUhEUgAAAQ4AAAEOCAYAAAB4sfmlAAAMcElEQVR4nO3d23HcOBCFYWjLUejZAUwQW6UENllloSjkKFzeB9fYnBEvaFwaffm/1/VqQAB9CGJIzsvPH99/lVLK2+utjPD++THk7wDoN6qun/0z5a8CCO1PcLBSAFBr6IqD8AFy4FIFgNhDcPSsGFhtAHl8WXFIA+D984PQAJLZvVSpCQICA8jr29F/IBQAHGFzFAhq1s1fpRAcABoQHADECA4AYgQHENDM/Y1SCA4ADQgOIJjZq41STu7jmKnmwLiPBJDTCI1SFqw4ag/s7fWm1gkAZF7ubwDT0BsErEKAY5onWrXgGHlQWgFS22aLgXbVdottRjvt1bnL4NgaWQAj2mihICXHYaG96LPikl4lOLQOTFoEGu3SLMye4yFAfFq1DxgqOKybVZweLwPRb2VdTQ8OQuPYiCL1cAloUYRbAggO/FEzWbX7dNU+0ozCbek7iwGyuq4IDnTZFpX11U+U2wEs1BTBAVdaizfKLxVaqaepd45aOUjE0TKnRs5D7mj+beqKgw7GTFdn/9nzT3v1YameCA6E8FzEVu8damWhlrbHuuTpWGC0VYX19npbvu8x297x8T4OoNPs0Fq52jgKRYIDGGBWcVsMjVIIDmCY0UVuYV/jCMEBDDSq2C2HRimTgyP6phGwp7forYdGKaw4gClai99DaJRCcADTSEPAWmictYf7OICJ7sV3dtluLTBq8JAbgEvPwcelCoBLzw/3cakCoNo9PFhxABAjOACIERwAxAgOAGIEBwAxggOAGMEBQIzgACBGcAAQIzgAiBEcAMQIDgBiBAcAMYIDgBjBAUCM4AAgRnAAECM4AIgRHADEpgcHv+YGxMOKA4AYwQFATCU4uFwBYmHFAUBMLThYdQBxTP/t2Gerf0v2OcBWtwfwSD04StEv1trVDiEC1FkSHKXoFGnL5RHhAVxbFhx3Mwq1dz+F8ADOLQ+OuxHFOnIDlvAAjn1b3YC7e9FLC5ZvawB9ZlYcR/aCRCssWHUA+8ysOI6wogDs2Q2OozMtRQyglE1w1CzLt/+GEAHy+qeUtmt5rv+BvLqeVYkcHpGPDejV/ZAbBQbkY/5blRUIQ/uO9tgYOx0vP398/2Xtrs2VmHh2SecYYznPnxvAejvZe3AwyWziuSObhr3Ix+sAvb3e3LY9uhEnI+8nNKsebjnPsuogKGybMY8Y87HcbI4y8DnMOvm8f34whwb68pCbtVVHlMHmlYXXZq9Y6fNxdp+O7engUYPvfZD5BkCGJ5592b1UWbmsizCwLUWQeSntZW/MC42T1un7OFr+YOskiFA0rLbkVoRGtP5d8ea7yxf5aLyRK8JAsrfTZtVqw3P/avTZVf9UvQFM0smSg/I8eFuzBjJK/xxZeYnirW+t9VXV17Gt7wOVNATQ5GFPycrez943gqL7OLZ/QNrp1gep1czB9TC5MZaVsDjz/vnRfgMYv44G7ywFs4fA2Jr6o9NWBmUWjcH2NqEg53GMpwVH9NBADKuLdvXnt5q64ohMc8C9Ti4vVvWv53ElOIAFPIdGKRODw3vHnFlxbJH70wJWkDKsOACIERyORDhTWca3ZPUIDqEoAw/0IDiADU4MdQgOZyJNbO718YvgEIhUtDjGOF9z87Ji/GXpGQvk8DzfCA4sw5ndvqMT1NRLlUgTw9qxWGtPNNn79+qHytjjAPCg5jKY4Khg9exjtV3wq3bvjOAAUEqRfT1OcFywfla33j74IP2WjuA44aUovbQTNm96a2kTwXHAWzG+f364a7NlFgvcEu7j2GGlAGsn77a9o3/KArG1zhOCY2N1YLQO4tvr7UvbCRDMRHAUe7+SNRK3p8vN7q+9oPem6icge1mcuBHD4uyYLI5BKetXeXs0+srKcbcea7rN0ZWbiFe38Y74++iTrQ9bayHNpUrEFYYElyzX6J964VcckVcYR5/piZX2WmnHCi31ETo4rFxHavNWBCsC9vnzM3zmGWmthAwOCzdDrZ4Yqz+/BQW8lqRmQu1xrA4La7Zf+3kpkG07Z42nl75YoXa+qHwdW9OQXpZCg4k5X+14Wx4LS3P2zF4fhlhxeBkAjGM5EKLZqy/XexwW9jL2WGwTMJJacIwuJooTWMflioPQQASeL7dUg6O34K1emgDZuFlxeAsMb+0FJNSDo6WgKELAliUrjtog8H5pYrXtVtsFP5bdx7GdvBp3C2L/FYN3njfqoE/tztHMLBRlhDsto/J4snSzOYp2konp/fIQOggOBR4LkQDBGYIjOO6dwQwEhxLvxee9/RiL4AhsxvNBBAhKITjQgPAAwaEoUsFFOhbIERxBaRQ24ZEXwYEuhEdOBIeyiIUW8ZhwjuDAEIRHLgQHhiE85Lz2GcGBobwWAmQIDgxHeMRHcAAQIziCWv1eDVYd1zz3EcGhbHVBa/JcGDhHcAALeA9VggNTeS8Q7CM4ArNyWUR4PIrQHwQHADGCA4AYwREclyu2ROkHgkORlSIGehEcCRBYNkRZbZRCcABoQHAkYWHVEemMmx3BASiIFpoERyKrVx2rPx/jEBwAxAgOJVbOtlbaAd8IjoQID/QiOJLSDg/CKhaCIzGKGa0IDkxHQMVDcCiwXDiz22b52NGO4EB5e71R4BAhOCbzVJCj2+rp2CFDcODBqGInNB5F6w+CYyKvk6Wn3Vz25EBwYFdLABAYeXxb3YCoohTR/TjOnu6Mcqyo9/Lzx/dfqxsRDYWEI1Eer+dSZTBCAxkQHAMRGsiCPY4BCAxkw4qjE6GBjNgcbURgoFWEDVJWHA0IDWTHHocAgQH8RnBUIDCARymCg8IHxgobHIQFLIqwMVpK0M1RQgMWRQmNUoKtOAgMWBUpNEoJFByEBiyJFhTPQgTH7NB4ngSEFEqJHw5n3N85qh0amp8NGzIHxBHXwbEyNDTbgTUIjGNuv1WxEhrSfwtE4DI4LIVGz/8DeOUyOGbqCQDCIxYuQY+5Cw7rg0l4xGJ9vq3ianPU4iXKESZcPJwU/nKz4vBWiEyyeLzNwZlcBIfGgFHoqEF4/OYiOLwijGIiPBwEh/fVBuERU/bwMB0cUQaH8IgpyvxsYfYhN61ByVjUPLQ3ztvrLeUcMr3imE1zwC1MrvfPj912WGibZxmD12RwRB2IVQV6FBhAK5PBoWFlEWt+Vu3nESx9op7sjpgLjgwDMLtIWWFgNnPBocFCUc1qg4VjQ3ymgiPDamNrZJGzylgv0/w1+3XsLNaK696elknHQ3lYJVVwWAuNrdoAsXwMyMNUcLx/fqQ/8xEM8MDUHsdMFCQ0ZDnxpQgOQuNclsmOccwFx+giJzSA8cwFRynjip3QAOYwGRwjEBp1uExBC7PB0XNDE6EBzGU2OO6kv6hGaADzufp5hFIel9aERB8uU+aJPjdN3QBWI/qAAB6Yv1TBHKw20IPgSIjQmC96H7u7VAEgVxNkkm0Ad5uj6BP9TGjN6j25nvE+azsrjkQIjTxGjPXe37iHCSuORAiONbRXHRrjzOZoEoTGOpp9r/VZBEcChMZ6GmOgOc4ER3CEhh0zx0J7nNnjCIzQsMv7i6ZZcQRFaNg2anxWjTPBERCh4UPvOK0cZy5VBnkexFU3/hAaPknny+pxJjg6WfodlNWTaZSjPotyfFfO5oyVPiA4GkkHcHaAWJlQLVr7xvMxe0dwNFr9k41bXgvI+zcLmfGsSgMrk9RKO6RmBOj2b3rtF09YcTSY9cShVhtWivjcRkYER4PeydhTPF4LYfXj5Vte+9ASLlUc8TrhLYVGKfXt8drfGsQrDt4yPmZCSfrO8wSOMEc89/8slyuOs04jRObzPGmjzIn3zw/X4zDDlxWHhY0/D2avOrxP1IhzwfuYjPRtZGe8vd5CThhNESZn1DnAyuOv4Q+5ZenYEcWx7au311uIvosaGng05enYCAWgJUpglJIjNDIcYw0eq+/AJPorU19kOtYj04Ijyln0CpOIPsiIFccAmQsn87FnRnAADbIH5tTgyHK5UkrOiZTxmPEbK46BMhVSpmPFVwQH0ChzeE4PjkyXK6XkmEwZjhHnWHEAEFMJjmyrDiA6VhwAxNTeANb75GzNqoVrbx2WnoKWrGattDmCl39f/lN95+jV4I28rOHX1OZa0b/ab1+7kmWsn6kHxypakzzrRCplTh/P7M/Rr0bIJM3Lii0tr6PyVkT39jIv5FJtjkZ69wXGYU7IpQqOOyYKnrXMiczzKGVwAHsyB4FU2uBgkmAP86JO2uAAjtSER/aA+R+PiC+Ca1/A1AAAAABJRU5ErkJggg==\" id=\"image0422a57ef8\" transform=\"matrix(0.455556 0 0 -0.455556 146.475 129.6)\" style=\"image-rendering:crisp-edges;image-rendering:pixelated\" width=\"270\" height=\"270\"/>\n",
       "   </g>\n",
       "  </g>\n",
       "  <g id=\"axes_3\">\n",
       "   <g clip-path=\"url(#pbac3f7694f)\">\n",
       "    <image xlink:href=\"data:image/png;base64,\n",
       "iVBORw0KGgoAAAANSUhEUgAAAQ4AAAEOCAYAAAB4sfmlAAAMI0lEQVR4nO3d23HjxhZG4ZZrotCzA1AQrlICTlZZKAo5Ctf4QcYMRIFgN/qy97/3+qrO05kZ49K92ABB8umvp79/FhFvH+8P/8zr88v07UDduRjF+zldeSy8+GG9AS32A+j2ZHkfXLhG4by+Pr+ki4dUOPYUBhQQ1R/WGwDco/TioLStIxAOYJBM8SAcaLbiej7TJFREOOCOcjSUt70F4UCT2auNCBMvwj48QjhQ5e3jnWg0iLQvRwgHTq0IRikxJ1rEfdrIPseBcawfXoo8waIiHElYx+Ge6NGI+lQp4Qgq4mBVFTEe3OMIZtU9iRGirzb2ou0rK44gVGKxiTaRasxceZx9AHQGwiFOLRjZbRO897ydhXdFRAiHKIKhrTUgV1dos1Y5hEMQ0YhjxSXbjHhwc1SI0o1P+DI6UIRDAMHACCPjQTicIxjw6Onff/6s/rLijG+hWcgQC8aSnRHjqykctzj542SIxS3Gj40RY63rXZX9BjAI2mQMBeLoWnEcISD3EYvvGC82esfi8HDs9Q6KSD/ARDTuUzmHkfSOx6kPgLVcylzdke3veR18BAMRTV1xrOYxHoSjjsdzF13P2OQ5jomIRj2OlZZQ4WDwaeP8rdWzygsVDk+YBIiMcMAVgrvW1VVHuI/Vv328c6MNaFDzsfvbORXqXZWNdTh41exnfQ5xjksVAM0Ix2CsNsbgOPoWMhxWg47BjixChsMC0UAmhGMAojEHx9WvsOFYMej4LlBkFTYcsxEMZBbuAbDZCAYQ9AGwvVEPEhEMOzwM5g8rjgcIBvBd+HscPROfaADHwofjCt4t8YVz4U+KcNQOPIIB1EkRjlLO40EwgDbh31U5UvP9A/CHd1f8SLPi2CMaQJ+U4YAmgu8H4UC31+cXLiOSSXmPA31qIjFzdUCk7PHkKKq1TNjtz3J5ERMrDjy04sfDW7HqsMU9DpwaMUFnTHJWMrYIBw4p3PAkHnYIB76ZEQzvEUIbwoFfFFYZt1h12CAcKKVorwiIx3qEIznFVcYR4rFW2Oc4jiYDg+tThFAc4QfH1wn5HMfZ4IkaD5UJM/v4qxwHdeHCYf049CqqE2TFsVc9NkpC3eOoHTDKAyvKPYmZIrwweBcmHEwm/5jQcYQIx5VoKIZGcZutEKm55MPBZALWkw9HFgSyHauOeaTD0TuZmIzANdLhAGBDNhysFrRYXTZwuTKHbDgA2JEMB6sNwFbYD7kBeOzsUu7sBVouHKw29HCfwZeWH2Ev5XjOSV6qjKQSIiYfRrgyjo7+jlQ4+LZs4Lqesf728f7l70uFA3oIs73bSd/7b5VCOKQwCdFqxph5+3jXCYfKvQj85iF0mcfNzOMvEw588jAZ4d/scUI4BCnEQ2EbIxp5P+OMRDgyLzeBWitjLRGOWZRfFT1vu5dty/SCs/qYpw6HOi8TdM/jNkVnccwJhzhPE9XTtmSw6n7GkbThiDTIPeyLh23Yi36ZYn285T7khmNnH0ha8d/FOh6OecpweDjws6z6/VTPxzDqasPTMU8Zjuhmrj48Dd5MvB33dOHwdgJm2u/r1YioHa+Iqw2P50DmR6dHDQiPJwFjEI11Ur2r4vUkAEc8j9dU4UBc0VYbnqNRilA4eg+k9xMBbBTGqkw4StE4oFgv0mpDZYxLheMqlZOBdkTDhlw4lA4uEJVcOEohHvjEasOOZDhaqJ0QQIFsOAhCbqw2bMmGoxTNAw5EIB2OGpFemQAvwocD8UR6MVBdNacIR6SBBniQIhylEA9gpDThKIV4AKNIh+NKCIiHtkjnT/X+Rini4bgq0uADLPw4m0TKRXzk9fkl9P4BM51+5+htVDxNtBGrBuIBXNN0qfL6/PLrf1FE2hdglcv3OCwDMvq/SzyANt03R6OsQtS3H1rUL5GHvquyIiAz/33iAdSZ8oNM2wRUrGq0G6ZHMYy0f7Ax9TkO7kXYune8IlxaKosQ7qe/nv5e8ktuvQeLX2Gv13Ks1PZTPXjWx3t//Hq2ZVk4Nlc21mqwWJ/kq1qPl9p+qsbD6jjPeMhzeTg2tRtsPUiyTCql/bQeEy0sj2vtcbqyjWa/Vn/2VKqngaF0s7TnuCntp3fWx3HF/DELxy1PsVDEI/i2PBy3lXMo5adjW2WKmsK+epikpXxux/Y/a6vPG+Go5HlC8bb3Op5isbE4X4SjgccJNWubPO7r3sqJ6zEWG6vz5OYeB+CNx1DsjYjG1X1kxdHI0yux8ueCRpg1sb2uLkbr2UfCcYGHCbVqGzzs65lRE9zz5cgMvftp9gBYBB6fBJzF+4S6cky871MNq/0mHJ1WDz7LFYDCRHt0fBT2odXMJ0TvIRwDrBiMXi4ZIk68KO6NkRnnjHAMMnNCeYnGhniAcAw0ekJ5C8YtApIX4ZhA7btHRiAiuRCOyVS+PkAJkbJHOCCNiNjgATBIY6Vmg3BAHvFYj3AgBOKxFuFAGMRjHcIBoBnhQCisOtYgHACaEQ6Ew6pjPsIBoBnhANCMcCAkLlfmIhwAmhEOAM0IB4BmhANAM8IBoBnhANCMcABoRjgQEl8pOBfhANCMcABoRjgQDpcp8xEOAM0IB0JhtbEG4UAYRGMdwgGgGeFACKw21iIcAJr9sN4AoBerjfEefYMa4YA0ojFG61ctEg5UuzdJ+X5PXVfPHfc4UOXsld3qVZ/VxnWvzy9dwSccGIJJrKE3GBsuVfBQbRS2P7fi0oVQtRl9Tlhx4NSVCcqk9mPUCuMW4cAUM+NBmOrMXPkRDtzVO0GZ4DZmrTL2CAcOjZr0xGOtVW+Nc3MUCGD1szSsOPDN6FXCyH+PFcx3Fg/gEQ4swYSfw+qpXcKBL3g3RIflo/6EA1L4XMwn6+NAOPDLihUBq45+1tEopZQfj06kh41ELG8f74yri7wct4crjrePd14lEuAc++clGqU0XKoQkLgszitjqY2naJRy4R4HAQHW8haNUjpujhKPGCzPI2NIV9e7Kpx49GIMnfO42ihlwNuxnHhdXs6dl+3wxms0Shn0HAcnHr1av2UMtngALCmPE/DRjXeP2zyL59VGKaU8/fvPnz9H/WPedxafMk1ARQrziO/juGg/+RRONDDS0BVHKfEnkfoj+qw2fPM+fjasOAZjJYKrlMbL8JujvKL95u0pW0/bgq+UolEK76o0uTrxvAUEvqhFoxQuVZbiMga3VMcB4TCy8ucS9/89+KAajM2USxUGaT0uY/JRj0YprDjcWL0CwVrRzivhcGZGQFjR2IkWjM20cPC9kn1YgejKcM5YcTjXGxBWG2tkiMUe4ahkPQFZwfmT+XwM/6zKrSgH1zoce7XH1NM2RxFlPPdixSGo5kEyojEWwfiKcFTwPAk9b1sUUaJxNFau7hvhAO6IHIzb/691X6d/yI1XRCjKEI3bP9cyV/l07AOEL59s0bjydwjHCaKRT5Ro9KhZfSwJBxMQCojGV2fzlhXHHcQul2jRGDV+7/07hOMA0cglWjRGO5oPy8KhMhlVthNY6XZesOLYIRr5sNqot58fhKPwLVxArW2eLA2Hx8npcZuAHrPH9NvHe95HzgkGuEy5bnk4LL9XglgAY6RYcRAMYCyTcKxYdRALZLRq3E//BrAzo+NBLNAq2n2OVXMgxKUKwQDWzgPTcPRcshALwI7ppcoeX8ALKxEuV1bPCzeXKve+woxQAPdZzQ83Kw7Aktqqw/oFlXAA//McD+tQ3HJzqQLgN2+huMWKA9ixWHV4j8Rmf2wIB3CDp5o/nR0HwgHcMTIgEWKxRziAEz3xiBaLPcIBVKiZXCqh2PREkXAACfVehvGdo0AyI+7dEA4gkVE3fAkHkMTId4kIB4BmhANIYPRDbYQDrj/cBZ94Ozaxo2CoPYuAx2a8MLDiSIpVBnoQDnxBUFCDcCT0KA7EA48QjmSIQi6zzjfhSKRlEBEYnCEcSVwJAfHAPYQjAQKA0QhHcL3RIDo4QjgCY9JjFsIR1MhoECDcIhwBMdExGz/IFAjBwCqsOIKYHQ2ihD1WHOKY0LDAikMY0YAVwiHKIhqEChvCIeb1+YUJjGqzvpiJcAghGPCCcIggGvCEcAjwFA1P24I6My5XCIdzTFR4RDgcIxrwinA4RTQw0ujLFcIBoBnhcIjVBrwjHEASIy9XCAeAZv8BF2caXrwjRroAAAAASUVORK5CYII=\" id=\"imagea628655c30\" transform=\"matrix(0.455556 0 0 -0.455556 285.75 129.6)\" style=\"image-rendering:crisp-edges;image-rendering:pixelated\" width=\"270\" height=\"270\"/>\n",
       "   </g>\n",
       "  </g>\n",
       "  <g id=\"axes_4\">\n",
       "   <g clip-path=\"url(#p971443bc30)\">\n",
       "    <image xlink:href=\"data:image/png;base64,\n",
       "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\" id=\"image20a14363e8\" transform=\"matrix(0.455556 0 0 -0.455556 425.025 129.6)\" style=\"image-rendering:crisp-edges;image-rendering:pixelated\" width=\"270\" height=\"270\"/>\n",
       "   </g>\n",
       "  </g>\n",
       " </g>\n",
       " <defs>\n",
       "  <clipPath id=\"p58ee1da871\">\n",
       "   <rect x=\"7.2\" y=\"7.2\" width=\"122.4\" height=\"122.4\"/>\n",
       "  </clipPath>\n",
       "  <clipPath id=\"p68cd5c96f8\">\n",
       "   <rect x=\"146.475\" y=\"7.2\" width=\"122.4\" height=\"122.4\"/>\n",
       "  </clipPath>\n",
       "  <clipPath id=\"pbac3f7694f\">\n",
       "   <rect x=\"285.75\" y=\"7.2\" width=\"122.4\" height=\"122.4\"/>\n",
       "  </clipPath>\n",
       "  <clipPath id=\"p971443bc30\">\n",
       "   <rect x=\"425.025\" y=\"7.2\" width=\"122.4\" height=\"122.4\"/>\n",
       "  </clipPath>\n",
       " </defs>\n",
       "</svg>\n"
      ],
      "text/plain": [
       "<Figure size 576x144 with 4 Axes>"
      ]
     },
     "metadata": {
      "needs_background": "light"
     },
     "output_type": "display_data"
    }
   ],
   "source": [
    "fig, ax = plt.subplots(1, 4, figsize=[8, 2])\n",
    "for i, s in enumerate(slices):\n",
    "    ax[i].imshow(im[s], origin='lower')\n",
    "    ax[i].axis(False);"
   ]
  }
 ],
 "metadata": {
  "kernelspec": {
   "display_name": "Python 3 (ipykernel)",
   "language": "python",
   "name": "python3"
  },
  "language_info": {
   "codemirror_mode": {
    "name": "ipython",
    "version": 3
   },
   "file_extension": ".py",
   "mimetype": "text/x-python",
   "name": "python",
   "nbconvert_exporter": "python",
   "pygments_lexer": "ipython3",
   "version": "3.8.13"
  }
 },
 "nbformat": 4,
 "nbformat_minor": 5
}

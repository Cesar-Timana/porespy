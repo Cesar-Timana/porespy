{
 "cells": [
  {
   "cell_type": "markdown",
   "id": "76acccd3",
   "metadata": {},
   "source": [
    "# `subdivide`"
   ]
  },
  {
   "cell_type": "markdown",
   "id": "c6b5700f",
   "metadata": {},
   "source": [
    "## Import packages"
   ]
  },
  {
   "cell_type": "code",
   "execution_count": 1,
   "id": "4aa71432",
   "metadata": {
    "execution": {
     "iopub.execute_input": "2022-08-23T01:11:56.306690Z",
     "iopub.status.busy": "2022-08-23T01:11:56.306431Z",
     "iopub.status.idle": "2022-08-23T01:11:58.194895Z",
     "shell.execute_reply": "2022-08-23T01:11:58.194275Z"
    }
   },
   "outputs": [],
   "source": [
    "import numpy as np\n",
    "import porespy as ps\n",
    "import scipy.ndimage as spim\n",
    "import matplotlib.pyplot as plt\n",
    "import skimage\n",
    "\n",
    "np.random.rand(0)\n",
    "ps.visualization.set_mpl_style()"
   ]
  },
  {
   "cell_type": "markdown",
   "id": "be0cb230",
   "metadata": {},
   "source": [
    "## Create image and variables"
   ]
  },
  {
   "cell_type": "code",
   "execution_count": 2,
   "id": "9b8c0fbb",
   "metadata": {
    "execution": {
     "iopub.execute_input": "2022-08-23T01:11:58.200784Z",
     "iopub.status.busy": "2022-08-23T01:11:58.199489Z",
     "iopub.status.idle": "2022-08-23T01:11:58.346233Z",
     "shell.execute_reply": "2022-08-23T01:11:58.345672Z"
    }
   },
   "outputs": [
    {
     "data": {
      "image/svg+xml": [
       "<?xml version=\"1.0\" encoding=\"utf-8\" standalone=\"no\"?>\n",
       "<!DOCTYPE svg PUBLIC \"-//W3C//DTD SVG 1.1//EN\"\n",
       "  \"http://www.w3.org/Graphics/SVG/1.1/DTD/svg11.dtd\">\n",
       "<svg xmlns:xlink=\"http://www.w3.org/1999/xlink\" width=\"276.48pt\" height=\"276.48pt\" viewBox=\"0 0 276.48 276.48\" xmlns=\"http://www.w3.org/2000/svg\" version=\"1.1\">\n",
       " <metadata>\n",
       "  <rdf:RDF xmlns:dc=\"http://purl.org/dc/elements/1.1/\" xmlns:cc=\"http://creativecommons.org/ns#\" xmlns:rdf=\"http://www.w3.org/1999/02/22-rdf-syntax-ns#\">\n",
       "   <cc:Work>\n",
       "    <dc:type rdf:resource=\"http://purl.org/dc/dcmitype/StillImage\"/>\n",
       "    <dc:date>2022-08-23T01:11:58.298374</dc:date>\n",
       "    <dc:format>image/svg+xml</dc:format>\n",
       "    <dc:creator>\n",
       "     <cc:Agent>\n",
       "      <dc:title>Matplotlib v3.5.3, https://matplotlib.org/</dc:title>\n",
       "     </cc:Agent>\n",
       "    </dc:creator>\n",
       "   </cc:Work>\n",
       "  </rdf:RDF>\n",
       " </metadata>\n",
       " <defs>\n",
       "  <style type=\"text/css\">*{stroke-linejoin: round; stroke-linecap: butt}</style>\n",
       " </defs>\n",
       " <g id=\"figure_1\">\n",
       "  <g id=\"patch_1\">\n",
       "   <path d=\"M 0 276.48 \n",
       "L 276.48 276.48 \n",
       "L 276.48 0 \n",
       "L 0 0 \n",
       "z\n",
       "\" style=\"fill: #ffffff\"/>\n",
       "  </g>\n",
       "  <g id=\"axes_1\">\n",
       "   <g clip-path=\"url(#pbecd8dbf61)\">\n",
       "    <image xlink:href=\"data:image/png;base64,\n",
       "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\" id=\"image62a8c1539f\" transform=\"matrix(0.526 0 0 -0.526 7.2 269.28)\" style=\"image-rendering:crisp-edges;image-rendering:pixelated\" width=\"500\" height=\"500\"/>\n",
       "   </g>\n",
       "  </g>\n",
       " </g>\n",
       " <defs>\n",
       "  <clipPath id=\"pbecd8dbf61\">\n",
       "   <rect x=\"7.2\" y=\"7.2\" width=\"262.08\" height=\"262.08\"/>\n",
       "  </clipPath>\n",
       " </defs>\n",
       "</svg>\n"
      ],
      "text/plain": [
       "<Figure size 400x400 with 1 Axes>"
      ]
     },
     "metadata": {},
     "output_type": "display_data"
    }
   ],
   "source": [
    "im = ps.generators.blobs([500, 500])\n",
    "fig, ax = plt.subplots(1, 1, figsize=[4, 4])\n",
    "ax.axis(False)\n",
    "ax.imshow(im, origin='lower');"
   ]
  },
  {
   "cell_type": "markdown",
   "id": "6e9cb6b9",
   "metadata": {},
   "source": [
    "## Apply tool\n",
    "``slice`` objects are returned:"
   ]
  },
  {
   "cell_type": "code",
   "execution_count": 3,
   "id": "c0497eed",
   "metadata": {
    "execution": {
     "iopub.execute_input": "2022-08-23T01:11:58.351875Z",
     "iopub.status.busy": "2022-08-23T01:11:58.350229Z",
     "iopub.status.idle": "2022-08-23T01:11:58.358972Z",
     "shell.execute_reply": "2022-08-23T01:11:58.358460Z"
    }
   },
   "outputs": [
    {
     "name": "stdout",
     "output_type": "stream",
     "text": [
      "[(slice(0, 270, None), slice(0, 270, None)), (slice(0, 270, None), slice(230, 500, None)), (slice(230, 500, None), slice(0, 270, None)), (slice(230, 500, None), slice(230, 500, None))]\n"
     ]
    }
   ],
   "source": [
    "slices = ps.tools.subdivide(im=im, divs=2, overlap=20)\n",
    "print(slices)"
   ]
  },
  {
   "cell_type": "code",
   "execution_count": 4,
   "id": "f4c49c48",
   "metadata": {
    "execution": {
     "iopub.execute_input": "2022-08-23T01:11:58.363936Z",
     "iopub.status.busy": "2022-08-23T01:11:58.362393Z",
     "iopub.status.idle": "2022-08-23T01:11:58.549264Z",
     "shell.execute_reply": "2022-08-23T01:11:58.548737Z"
    }
   },
   "outputs": [
    {
     "data": {
      "image/svg+xml": [
       "<?xml version=\"1.0\" encoding=\"utf-8\" standalone=\"no\"?>\n",
       "<!DOCTYPE svg PUBLIC \"-//W3C//DTD SVG 1.1//EN\"\n",
       "  \"http://www.w3.org/Graphics/SVG/1.1/DTD/svg11.dtd\">\n",
       "<svg xmlns:xlink=\"http://www.w3.org/1999/xlink\" width=\"547.47pt\" height=\"132.48pt\" viewBox=\"0 0 547.47 132.48\" xmlns=\"http://www.w3.org/2000/svg\" version=\"1.1\">\n",
       " <metadata>\n",
       "  <rdf:RDF xmlns:dc=\"http://purl.org/dc/elements/1.1/\" xmlns:cc=\"http://creativecommons.org/ns#\" xmlns:rdf=\"http://www.w3.org/1999/02/22-rdf-syntax-ns#\">\n",
       "   <cc:Work>\n",
       "    <dc:type rdf:resource=\"http://purl.org/dc/dcmitype/StillImage\"/>\n",
       "    <dc:date>2022-08-23T01:11:58.506079</dc:date>\n",
       "    <dc:format>image/svg+xml</dc:format>\n",
       "    <dc:creator>\n",
       "     <cc:Agent>\n",
       "      <dc:title>Matplotlib v3.5.3, https://matplotlib.org/</dc:title>\n",
       "     </cc:Agent>\n",
       "    </dc:creator>\n",
       "   </cc:Work>\n",
       "  </rdf:RDF>\n",
       " </metadata>\n",
       " <defs>\n",
       "  <style type=\"text/css\">*{stroke-linejoin: round; stroke-linecap: butt}</style>\n",
       " </defs>\n",
       " <g id=\"figure_1\">\n",
       "  <g id=\"patch_1\">\n",
       "   <path d=\"M 0 132.48 \n",
       "L 547.47 132.48 \n",
       "L 547.47 0 \n",
       "L 0 0 \n",
       "z\n",
       "\" style=\"fill: #ffffff\"/>\n",
       "  </g>\n",
       "  <g id=\"axes_1\">\n",
       "   <g clip-path=\"url(#p2ae3cde459)\">\n",
       "    <image xlink:href=\"data:image/png;base64,\n",
       "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\" id=\"image1ba2b4e2f0\" transform=\"matrix(0.440741 0 0 -0.440741 7.2 125.28)\" style=\"image-rendering:crisp-edges;image-rendering:pixelated\" width=\"270\" height=\"270\"/>\n",
       "   </g>\n",
       "  </g>\n",
       "  <g id=\"axes_2\">\n",
       "   <g clip-path=\"url(#pdb8005d5c1)\">\n",
       "    <image xlink:href=\"data:image/png;base64,\n",
       "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\" id=\"image2c87c70d08\" transform=\"matrix(0.440741 0 0 -0.440741 145.53 125.28)\" style=\"image-rendering:crisp-edges;image-rendering:pixelated\" width=\"270\" height=\"270\"/>\n",
       "   </g>\n",
       "  </g>\n",
       "  <g id=\"axes_3\">\n",
       "   <g clip-path=\"url(#p529a5981e4)\">\n",
       "    <image xlink:href=\"data:image/png;base64,\n",
       "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\" id=\"image23d8bac2fc\" transform=\"matrix(0.440741 0 0 -0.440741 283.86 125.28)\" style=\"image-rendering:crisp-edges;image-rendering:pixelated\" width=\"270\" height=\"270\"/>\n",
       "   </g>\n",
       "  </g>\n",
       "  <g id=\"axes_4\">\n",
       "   <g clip-path=\"url(#p99694b068c)\">\n",
       "    <image xlink:href=\"data:image/png;base64,\n",
       "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\" id=\"image84b9869af4\" transform=\"matrix(0.440741 0 0 -0.440741 422.19 125.28)\" style=\"image-rendering:crisp-edges;image-rendering:pixelated\" width=\"270\" height=\"270\"/>\n",
       "   </g>\n",
       "  </g>\n",
       " </g>\n",
       " <defs>\n",
       "  <clipPath id=\"p2ae3cde459\">\n",
       "   <rect x=\"7.2\" y=\"7.2\" width=\"118.08\" height=\"118.08\"/>\n",
       "  </clipPath>\n",
       "  <clipPath id=\"pdb8005d5c1\">\n",
       "   <rect x=\"145.53\" y=\"7.2\" width=\"118.08\" height=\"118.08\"/>\n",
       "  </clipPath>\n",
       "  <clipPath id=\"p529a5981e4\">\n",
       "   <rect x=\"283.86\" y=\"7.2\" width=\"118.08\" height=\"118.08\"/>\n",
       "  </clipPath>\n",
       "  <clipPath id=\"p99694b068c\">\n",
       "   <rect x=\"422.19\" y=\"7.2\" width=\"118.08\" height=\"118.08\"/>\n",
       "  </clipPath>\n",
       " </defs>\n",
       "</svg>\n"
      ],
      "text/plain": [
       "<Figure size 800x200 with 4 Axes>"
      ]
     },
     "metadata": {},
     "output_type": "display_data"
    }
   ],
   "source": [
    "fig, ax = plt.subplots(1, 4, figsize=[8, 2])\n",
    "for i, s in enumerate(slices):\n",
    "    ax[i].imshow(im[s], origin='lower')\n",
    "    ax[i].axis(False);"
   ]
  }
 ],
 "metadata": {
  "kernelspec": {
   "display_name": "Python 3 (ipykernel)",
   "language": "python",
   "name": "python3"
  },
  "language_info": {
   "codemirror_mode": {
    "name": "ipython",
    "version": 3
   },
   "file_extension": ".py",
   "mimetype": "text/x-python",
   "name": "python",
   "nbconvert_exporter": "python",
   "pygments_lexer": "ipython3",
   "version": "3.8.13"
  }
 },
 "nbformat": 4,
 "nbformat_minor": 5
}

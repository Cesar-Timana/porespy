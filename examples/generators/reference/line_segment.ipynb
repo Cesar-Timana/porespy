{
 "cells": [
  {
   "cell_type": "markdown",
   "metadata": {},
   "source": [
    "# `line_segment`\n",
    "Calculates the voxel coordinates of a straight line between the two given end points"
   ]
  },
  {
   "cell_type": "code",
   "execution_count": 1,
   "metadata": {
    "execution": {
     "iopub.execute_input": "2022-08-22T18:48:25.715990Z",
     "iopub.status.busy": "2022-08-22T18:48:25.715732Z",
     "iopub.status.idle": "2022-08-22T18:48:27.733230Z",
     "shell.execute_reply": "2022-08-22T18:48:27.732319Z"
    }
   },
   "outputs": [
    {
     "data": {
      "text/plain": [
       "<Signature (X0, X1)>"
      ]
     },
     "execution_count": 1,
     "metadata": {},
     "output_type": "execute_result"
    }
   ],
   "source": [
    "import matplotlib.pyplot as plt\n",
    "import numpy as np\n",
    "import porespy as ps\n",
    "import inspect\n",
    "inspect.signature(ps.generators.line_segment)"
   ]
  },
  {
   "cell_type": "markdown",
   "metadata": {},
   "source": [
    "Given a list a pair of end points, it returns tuples indicating which voxels to fill in order to draw a straight line between them, for each dimenstion. "
   ]
  },
  {
   "cell_type": "markdown",
   "metadata": {},
   "source": [
    "#### Generate line segment:"
   ]
  },
  {
   "cell_type": "code",
   "execution_count": 2,
   "metadata": {
    "execution": {
     "iopub.execute_input": "2022-08-22T18:48:27.737659Z",
     "iopub.status.busy": "2022-08-22T18:48:27.736974Z",
     "iopub.status.idle": "2022-08-22T18:48:27.794609Z",
     "shell.execute_reply": "2022-08-22T18:48:27.793972Z"
    }
   },
   "outputs": [
    {
     "data": {
      "image/png": "[encoded data removed]",
      "text/plain": [
       "<Figure size 400x400 with 1 Axes>"
      ]
     },
     "metadata": {},
     "output_type": "display_data"
    }
   ],
   "source": [
    "X0 = [1, 20]\n",
    "X1 = [10, 1]\n",
    "xs, ys = ps.generators.line_segment(X0=X0, X1=X1)\n",
    "\n",
    "im = np.zeros([25, 25], dtype=bool)\n",
    "im[xs, ys] = True\n",
    "\n",
    "fig, ax = plt.subplots(1, 1, figsize=[4, 4])\n",
    "ax.imshow(im, interpolation='none', origin='lower')\n",
    "ax.axis(False);"
   ]
  }
 ],
 "metadata": {
  "kernelspec": {
   "display_name": "Python 3 (ipykernel)",
   "language": "python",
   "name": "python3"
  },
  "language_info": {
   "codemirror_mode": {
    "name": "ipython",
    "version": 3
   },
   "file_extension": ".py",
   "mimetype": "text/x-python",
   "name": "python",
   "nbconvert_exporter": "python",
   "pygments_lexer": "ipython3",
   "version": "3.8.13"
  }
 },
 "nbformat": 4,
 "nbformat_minor": 4
}
